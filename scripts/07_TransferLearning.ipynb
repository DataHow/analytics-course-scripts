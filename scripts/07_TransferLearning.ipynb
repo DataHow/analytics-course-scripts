{
  "nbformat": 4,
  "nbformat_minor": 0,
  "metadata": {
    "colab": {
      "provenance": []
    },
    "kernelspec": {
      "name": "python3",
      "display_name": "Python 3"
    },
    "language_info": {
      "name": "python"
    }
  },
  "cells": [
    {
      "cell_type": "code",
      "execution_count": null,
      "metadata": {
        "id": "MJPu4rTlwwK9"
      },
      "outputs": [],
      "source": []
    },
    {
      "cell_type": "markdown",
      "source": [
        "# Setup of Noteboook\n",
        "\n",
        "The follwing code clones the github repository with course files. \n",
        "Subsequently it imports all libraries and custom modules needed for this notebook"
      ],
      "metadata": {
        "id": "ytzGVj5xwyAR"
      }
    },
    {
      "cell_type": "code",
      "source": [
        "!git clone https://github.com/DataHow/analytics-course-scripts.git"
      ],
      "metadata": {
        "colab": {
          "base_uri": "https://localhost:8080/"
        },
        "id": "klzJaKFNwygn",
        "outputId": "990aea48-9a38-476a-d456-8c650c4dbef1"
      },
      "execution_count": 2,
      "outputs": [
        {
          "output_type": "stream",
          "name": "stdout",
          "text": [
            "Cloning into 'analytics-course-scripts'...\n",
            "remote: Enumerating objects: 454, done.\u001b[K\n",
            "remote: Counting objects: 100% (14/14), done.\u001b[K\n",
            "remote: Compressing objects: 100% (11/11), done.\u001b[K\n",
            "remote: Total 454 (delta 5), reused 11 (delta 3), pack-reused 440\u001b[K\n",
            "Receiving objects: 100% (454/454), 14.54 MiB | 21.64 MiB/s, done.\n",
            "Resolving deltas: 100% (276/276), done.\n"
          ]
        }
      ]
    },
    {
      "cell_type": "code",
      "source": [
        "import pandas as pd\n",
        "import numpy as np\n",
        "import scipy\n",
        "import copy\n",
        "import importlib  \n",
        "import plotly.express as px\n",
        "import plotly.graph_objects as go\n",
        "from plotly.subplots import make_subplots\n",
        "from sklearn.cross_decomposition import PLSRegression\n",
        "from sklearn.metrics import mean_squared_error\n",
        "from sklearn.pipeline import Pipeline\n",
        "from sklearn.preprocessing import StandardScaler\n",
        "import warnings\n",
        "import importlib  \n",
        "warnings.filterwarnings(\"ignore\")\n",
        "\n",
        "# import custom modules\n",
        "simulator = importlib.import_module(\"analytics-course-scripts.scripts.modules.simulator\")\n",
        "modelhelpers = importlib.import_module(\"analytics-course-scripts.scripts.modules.modelhelpers\")\n",
        "plothelpers = importlib.import_module(\"analytics-course-scripts.scripts.modules.plothelpers\")"
      ],
      "metadata": {
        "id": "XOQ87wO2w0Pe"
      },
      "execution_count": 3,
      "outputs": []
    },
    {
      "cell_type": "code",
      "source": [],
      "metadata": {
        "id": "8WitLlcexBtQ"
      },
      "execution_count": 3,
      "outputs": []
    },
    {
      "cell_type": "markdown",
      "source": [
        "## What is a learnable task?\n",
        "\n",
        "Informally, task $𝒯$ is: dataset $𝔇$, loss function $𝓛$ $\\;\\; ⟹ \\;\\; $ model $f_θ$\n",
        "\n",
        "with a learing goal of: $ \\min_{ \\, \\theta} 𝓛(θ,𝔇) $\n",
        "\n",
        "Different tasks can vary based on:\n",
        "* different objects\n",
        "* different people\n",
        "* different objectives\n",
        "* different conditions\n",
        "* different ... molecules, processes, products, projects\n",
        "\n",
        "*The bad news*: Different tasks need to share some structure. If this doesn't hold, you're better off using single-task learning.\n",
        "\n",
        "*The good news*: There are many tasks with shared structure. The laws of physiscs that underly real data. People or organisims behaviour and intentions, etc..\n"
      ],
      "metadata": {
        "id": "GR36M9grxUnn"
      }
    },
    {
      "cell_type": "markdown",
      "source": [
        "## Problem Definitions\n",
        "\n",
        "**The multi-task learning problem:** Learn *a set of tasks* more quickly or more proficiently than learning them independently.\n",
        "\n",
        "**The transfer learning problem:** Given data on previous task(s), learn *a new task* more quickly and/or more proficiently\n",
        "\n",
        "\n",
        "But doesn't multi-task learning reduce to single-task learning?\n",
        "\n",
        "$$𝔇 = 𝚄 \\:𝔇_i \\;\\; and \\;\\; 𝓛 = Σ\\:𝓛_i $$\n",
        "\n",
        "\n",
        "... Yes, it can!\n",
        "\n",
        "Aggregating the data across tasks & learning a single model is one approach to multi-task learning.\n",
        "\n",
        "But, ...\n",
        "\n",
        "What if you want ot learn new tasks?\n",
        "\n",
        "How do we tell the model what tasks to do?\n",
        "\n",
        "What if aggregating doesn't work?"
      ],
      "metadata": {
        "id": "DyF_YyZo1FAj"
      }
    },
    {
      "cell_type": "markdown",
      "source": [
        "## How to distinguish between tasks?\n",
        "\n",
        "Define a **task descriptor $z_i$**\n",
        "\n",
        "So instead of $f_\\theta(y|x) $, we learn $f_\\theta(y|x,z_i) $\n",
        "\n",
        "task descriptor **can be one-hot encoding** of the task index or, whatever meta-data you have. (personalization using features/attributes, description, or formal specification)\n",
        "\n",
        "Remaining decisions on:\n",
        "*  **the model** - how should the model be conditioned on $z_i$?, What parameters of the model should be shared? \n",
        "\n",
        "Choosing how to condition on $z_i$ is equivalent to choosing how and where to share parameters. Eg, multiplicative gating gives independent training with no shared parameters. Concatenation gives all parameters shared except the parameters directly following $z_i$\n",
        "\n",
        "* **the objective** - how should the objective be formed?\n",
        "\n",
        "Equally weight all tasks, or weight them differently. Decide manually based on importance or priority. Possibility to also dynamically adjust throughout training, various heuristics such as to encourage gradients in NN to have similar magnitudes, or optimize for the worst-case task loss.\n",
        "\n",
        "* **the optimization** - how should the objective be optimized?\n",
        "\n",
        "Ensure that the tasks are sampled roughly uniformly, regardless of data quantities. For regression make sure that *task labels are on the same scale!*\n"
      ],
      "metadata": {
        "id": "BMqdWfUs9A6d"
      }
    },
    {
      "cell_type": "markdown",
      "source": [
        "## What is transfer learning?\n",
        "\n",
        "Solve target task  $𝒯_b$ after solving source task(s)  $𝒯_a$, by transferring knowledge learned from  $𝒯_a$.\n",
        "\n",
        "Transfer learning is a valid solution to multi-task learning, but not vice versa.\n",
        "\n",
        "What are some problems/applications where transfer learning might make sense?\n",
        "\n",
        "* When $𝔇_a$ is very large\n",
        "* When you don't care about solving $𝒯_a$ and $𝒯_b$ simultaneously\n",
        "* Transfer learning via fine-tuning from pretrained models\n",
        "\n"
      ],
      "metadata": {
        "id": "uMQrxJeEDRL2"
      }
    },
    {
      "cell_type": "code",
      "source": [],
      "metadata": {
        "id": "yGKHRhlF1AKc"
      },
      "execution_count": 3,
      "outputs": []
    },
    {
      "cell_type": "markdown",
      "source": [
        "# Import or Generate Dataset\n",
        "\n",
        "In the beginning of this notebook, instead of importing we generate several different datasets.\n",
        " "
      ],
      "metadata": {
        "id": "uFO4-fuXEx8c"
      }
    },
    {
      "cell_type": "code",
      "source": [
        "\"\"\" Use previously generated data as a \"Task A\" from which we want to transfer knowledge\"\"\"\n",
        "# Define filename to import\n",
        "FILENAME = \"owu.csv\"\n",
        "FILEPATH = \"/content/analytics-course-scripts/scripts/datasets/\"\n",
        "# Import OWU data\n",
        "A_doe = pd.read_csv(FILEPATH+FILENAME.replace(\".csv\",\"_doe.csv\"),index_col=None, usecols =[\"feed_start\",\"feed_end\",\"Glc_feed_rate\",\"Glc_0\",\"VCD_0\"])\n",
        "A_owu = pd.read_csv(FILEPATH+FILENAME,index_col=None, usecols = [\"X:VCD\", \"X:Glc\", \"X:Lac\", \"X:Titer\",\"W:Feed\"])\n",
        "A_owu.index = pd.MultiIndex.from_product([list(range(int(len(A_owu)/15))),list(range(15))], names=[\"run\",\"time\"])\n",
        "A_bwu = simulator.generate_bwu(A_owu)\n",
        "A_tar = simulator.generate_y(A_bwu, return_aggr=True)"
      ],
      "metadata": {
        "id": "guwejEpj07cT"
      },
      "execution_count": 33,
      "outputs": []
    },
    {
      "cell_type": "code",
      "source": [
        "\"\"\" Generate new data as a \"Task B\" which we want to solve \"\"\"\n",
        "# DOE Dataset definition (variable = [lower bound, upper bound]) \n",
        "# Model parameters: Dictate the behaviour of the cell process\n",
        "MU_G_MAX = 0.05   # 0.05\n",
        "MU_D_MAX = 0.027  # 0.025\n",
        "K_G_GLC  = 1      # 1\n",
        "K_I_LAC  = 20     # 30\n",
        "K_D_LAC  = 50     # 50\n",
        "K_GLC    = 0.05   # 0.04\n",
        "K_LAC    = 0.06   # 0.06\n",
        "K_PROD   = 1      # 1\n",
        "\"\"\" Train Set \"\"\"\n",
        "# Process parameters: Conditions at which process is run\n",
        "FEED_START = [1, 4]       # [1, 4]\n",
        "FEED_END = [8, 12]        # [8, 12]\n",
        "GLC_FEED_RATE = [10,15]   # [5, 20]\n",
        "GLC_0 = [30, 60.0]        # [10, 80.0]\n",
        "VCD_0 = [0.1, 0.5]        # [0.1, 1.0]\n",
        "# Collect parameters to dictionary\n",
        "VAR_LIMS = {\"mu_g_max\":MU_G_MAX, \"mu_d_max\": MU_D_MAX, \"K_g_Glc\" : K_G_GLC, \"K_I_Lac\" : K_I_LAC, \"K_d_Lac\" : K_D_LAC, \"k_Glc\" : K_GLC, \"k_Lac\" : K_LAC, \"k_Prod\" : K_PROD,\n",
        "    \"feed_start\" : FEED_START,\"feed_end\" : FEED_END, \"Glc_feed_rate\" : GLC_FEED_RATE, \"Glc_0\" : GLC_0, \"VCD_0\" : VCD_0}\n",
        "# Number of experiments to generate\n",
        "NUM_RUNS = 10\n",
        "# Filename and filepath for the dataset \n",
        "FILENAME = \"owu.csv\"\n",
        "FILEPATH = \"/content/\"\n",
        "# Generate Dataset\n",
        "data = simulator.generate_data(VAR_LIMS, NUM_RUNS, FILENAME)\n",
        "# Import DOE and OWU\n",
        "B_doe = pd.read_csv(FILEPATH+FILENAME.replace(\".csv\",\"_doe.csv\"),index_col=None, usecols =[\"feed_start\",\"feed_end\",\"Glc_feed_rate\",\"Glc_0\",\"VCD_0\"])\n",
        "B_owu = pd.read_csv(FILEPATH+FILENAME,index_col=None, usecols = [\"X:VCD\", \"X:Glc\", \"X:Lac\", \"X:Titer\",\"W:Feed\"])\n",
        "B_owu.index = pd.MultiIndex.from_product([list(range(NUM_RUNS)),list(range(15))], names=[\"run\",\"time\"])\n",
        "B_bwu = simulator.generate_bwu(B_owu)\n",
        "B_tar = simulator.generate_y(B_bwu, return_aggr=True)\n",
        "\"\"\" Test Set \"\"\"\n",
        "# Process parameters: Conditions at which process is run\n",
        "FEED_START = [1, 4]       # [1, 4]\n",
        "FEED_END = [8, 12]        # [8, 12]\n",
        "GLC_FEED_RATE = [5,20]   # [5, 20]\n",
        "GLC_0 = [10, 80.0]        # [10, 80.0]\n",
        "VCD_0 = [0.1, 1.0]        # [0.1, 1.0]\n",
        "# Collect parameters to dictionary\n",
        "VAR_LIMS = {\"mu_g_max\":MU_G_MAX, \"mu_d_max\": MU_D_MAX, \"K_g_Glc\" : K_G_GLC, \"K_I_Lac\" : K_I_LAC, \"K_d_Lac\" : K_D_LAC, \"k_Glc\" : K_GLC, \"k_Lac\" : K_LAC, \"k_Prod\" : K_PROD,\n",
        "    \"feed_start\" : FEED_START,\"feed_end\" : FEED_END, \"Glc_feed_rate\" : GLC_FEED_RATE, \"Glc_0\" : GLC_0, \"VCD_0\" : VCD_0}\n",
        "# Number of experiments to generate\n",
        "NUM_RUNS_TEST = 100\n",
        "# Filename and filepath for the dataset \n",
        "FILENAME = \"owu_test.csv\"\n",
        "FILEPATH = \"/content/\"\n",
        "# Generate Dataset\n",
        "data_test = simulator.generate_data(VAR_LIMS, NUM_RUNS_TEST, FILENAME)\n",
        "# Import DOE and OWU\n",
        "B_doe_test = pd.read_csv(FILEPATH+FILENAME.replace(\".csv\",\"_doe.csv\"),index_col=None, usecols =[\"feed_start\",\"feed_end\",\"Glc_feed_rate\",\"Glc_0\",\"VCD_0\"])\n",
        "B_owu_test = pd.read_csv(FILEPATH+FILENAME,index_col=None, usecols = [\"X:VCD\", \"X:Glc\", \"X:Lac\", \"X:Titer\",\"W:Feed\"])\n",
        "B_owu_test.index = pd.MultiIndex.from_product([list(range(NUM_RUNS_TEST)),list(range(15))], names=[\"run\",\"time\"])\n",
        "B_bwu_test = simulator.generate_bwu(B_owu_test)\n",
        "B_tar_test = simulator.generate_y(B_bwu_test, return_aggr=True)\n"
      ],
      "metadata": {
        "id": "QmGypY61xtGm"
      },
      "execution_count": 85,
      "outputs": []
    },
    {
      "cell_type": "markdown",
      "source": [
        "## Historical PLS model on BWU matrix\n",
        "\n",
        "Here the BWU matrix is created. The vaues of the manipulated variables are added as columns at the beginning of the matrix. The following pre-processing was performed.\n",
        "\n",
        "* Remove titer (and also lactate)\n",
        "* Remove exceeding days\n",
        "* Eliminate invariant columns\n",
        "* Remove linearly dependent columns\n",
        "* Add process parameters at the beginning\n",
        "* Create a PLS model from the initial design to the final titer"
      ],
      "metadata": {
        "id": "lI5xLE6E4lGO"
      }
    },
    {
      "cell_type": "code",
      "source": [
        "\"\"\" Number of days of process history \"\"\"\n",
        "USE_DAYS = 10\n",
        "\"\"\" Remove variables \"\"\"\n",
        "REMOVE_VARS = ['W:Feed','X:Titer','X:Lac'] # X:Titer, X:Lac, X:Glc, X:VCD. W:Feed\n",
        "\"\"\" Normalize data \"\"\"\n",
        "USE_NORM = True\n",
        "\"\"\" Number of latent variables \"\"\"\n",
        "N_LV = 6"
      ],
      "metadata": {
        "id": "RetsFRJ5461i"
      },
      "execution_count": 86,
      "outputs": []
    },
    {
      "cell_type": "code",
      "source": [
        "def preprocess_bwu(bwu,doe,use_days=USE_DAYS,remove_vars=REMOVE_VARS):\n",
        "    remove_columns = []\n",
        "    # Remove Variables\n",
        "    for ivar in ['X:Titer','X:Lac','X:Glc','X:VCD','W:Feed']:\n",
        "        if ivar in REMOVE_VARS:\n",
        "            remove_columns.extend([c for c in bwu.columns if c.startswith(ivar)])\n",
        "    # Remove History\n",
        "    for d in range(USE_DAYS,15):\n",
        "        remove_columns.extend([c for c in bwu.columns if c.endswith(':0')])\n",
        "        remove_columns.extend([c for c in bwu.columns if c.endswith(\":\"+str(d))])\n",
        "    # Remove Invariant \n",
        "    remove_columns.extend(list(bwu.columns[~(bwu != bwu.iloc[0]).any().values]))\n",
        "    # Add and remove columns\n",
        "    X_preproc = pd.concat([doe, bwu.drop(set(remove_columns),axis=1)], axis=1)\n",
        "    return X_preproc"
      ],
      "metadata": {
        "id": "cjm3xY4k5KBu"
      },
      "execution_count": 87,
      "outputs": []
    },
    {
      "cell_type": "markdown",
      "source": [
        "## Single Task B model\n",
        "\n",
        "Here in single task model we just look at the predictive performance of the model trained on task B data only. Meaning it has only 10 experiments available with some variables variability restricted, which would make it hard to generalize over the large test set of 100 experiments."
      ],
      "metadata": {
        "id": "BDMyZcs67A72"
      }
    },
    {
      "cell_type": "code",
      "source": [
        "# Define Pipeline\n",
        "pscaler = StandardScaler(with_mean=USE_NORM,with_std=USE_NORM)\n",
        "pls_bwu = PLSRegression(n_components=N_LV)\n",
        "pipe = Pipeline([('scaler', pscaler), ('pls', pls_bwu)])\n",
        "# Train PLS model\n",
        "y = B_tar\n",
        "X = preprocess_bwu(B_bwu, B_doe, USE_DAYS, REMOVE_VARS)\n",
        "X_columns = X.columns\n",
        "print(X_columns)\n",
        "pipe.fit(X,y)\n",
        "\n",
        "# Make predictions\n",
        "yhat = pipe.predict(X)\n",
        "X_test = preprocess_bwu(B_bwu_test, B_doe_test, USE_DAYS, REMOVE_VARS)\n",
        "y_test = B_tar_test\n",
        "yhat_test = pipe.predict(X_test)\n",
        "\n",
        "# Calculate error metrics\n",
        "train_r2 = round(pipe.score(X,y),3)\n",
        "train_abs_rmse = round(mean_squared_error(y, yhat,squared=False),3)\n",
        "train_rel_rmse = round(mean_squared_error(y, yhat,squared=False) / np.std(np.array(y)),3)\n",
        "test_r2 = round(pipe.score(X_test,y_test),3)\n",
        "test_abs_rmse = round(mean_squared_error(y_test, yhat_test,squared=False),3)\n",
        "test_rel_rmse = round(mean_squared_error(y_test, yhat_test,squared=False) / np.std(np.array(y_test)),3)\n",
        "scen_1 = test_rel_rmse\n",
        "\n",
        "# Plot observed vs predicted\n",
        "fig = make_subplots(rows=1, cols=2, subplot_titles=(\n",
        "    f\"Train Set <br> R^2 = {train_r2} <br> Abs RMSE = {train_abs_rmse} <br> Rel RMSE = {train_rel_rmse}\" ,\n",
        "    f\"Test Set <br> R^2 = {test_r2} <br> Abs RMSE = {test_abs_rmse} <br> Rel RMSE = {test_rel_rmse}\"))\n",
        "# Train set plot\n",
        "fig.add_trace(go.Scatter(x=y.values.reshape(-1),y=yhat.reshape(-1),mode=\"markers\"),row=1,col=1)\n",
        "fig.add_shape(type=\"line\",x0=min(yhat)[0],y0=min(yhat)[0],x1=max(yhat)[0],y1=max(yhat)[0], layer='below', line=dict(dash='dash'))\n",
        "# Test set plot\n",
        "fig.add_trace(go.Scatter(x=y_test.values.reshape(-1),y=yhat_test.reshape(-1),mode=\"markers\"),row=1,col=2)\n",
        "fig.add_shape(type=\"line\",x0=min(yhat_test)[0],y0=min(yhat_test)[0],x1=max(yhat_test)[0],y1=max(yhat_test)[0], layer='below', line=dict(dash='dash'),row=1,col=2)\n",
        "fig.update_layout(title_text = \"Observed vs Predicted\",showlegend=False)\n",
        "fig.show()\n"
      ],
      "metadata": {
        "colab": {
          "base_uri": "https://localhost:8080/",
          "height": 631
        },
        "id": "BgYCKtKE7HWE",
        "outputId": "d85a11ab-492e-4625-f373-512c84482ddd"
      },
      "execution_count": 88,
      "outputs": [
        {
          "output_type": "stream",
          "name": "stdout",
          "text": [
            "Index(['feed_start', 'feed_end', 'Glc_feed_rate', 'Glc_0', 'VCD_0', 'X:VCD:1',\n",
            "       'X:VCD:2', 'X:VCD:3', 'X:VCD:4', 'X:VCD:5', 'X:VCD:6', 'X:VCD:7',\n",
            "       'X:VCD:8', 'X:VCD:9', 'X:Glc:1', 'X:Glc:2', 'X:Glc:3', 'X:Glc:4',\n",
            "       'X:Glc:5', 'X:Glc:6', 'X:Glc:7', 'X:Glc:8', 'X:Glc:9'],\n",
            "      dtype='object')\n"
          ]
        },
        {
          "output_type": "display_data",
          "data": {
            "text/html": [
              "<html>\n",
              "<head><meta charset=\"utf-8\" /></head>\n",
              "<body>\n",
              "    <div>            <script src=\"https://cdnjs.cloudflare.com/ajax/libs/mathjax/2.7.5/MathJax.js?config=TeX-AMS-MML_SVG\"></script><script type=\"text/javascript\">if (window.MathJax && window.MathJax.Hub && window.MathJax.Hub.Config) {window.MathJax.Hub.Config({SVG: {font: \"STIX-Web\"}});}</script>                <script type=\"text/javascript\">window.PlotlyConfig = {MathJaxConfig: 'local'};</script>\n",
              "        <script src=\"https://cdn.plot.ly/plotly-2.18.2.min.js\"></script>                <div id=\"3cac5e36-c413-4890-877f-eda26eb47428\" class=\"plotly-graph-div\" style=\"height:525px; width:100%;\"></div>            <script type=\"text/javascript\">                                    window.PLOTLYENV=window.PLOTLYENV || {};                                    if (document.getElementById(\"3cac5e36-c413-4890-877f-eda26eb47428\")) {                    Plotly.newPlot(                        \"3cac5e36-c413-4890-877f-eda26eb47428\",                        [{\"mode\":\"markers\",\"x\":[0.7006388493788808,0.6268924823098166,0.7297248798840982,0.7730262766294467,0.3373389756635902,0.548732983118261,0.660227672123483,0.5457610817189033,0.5956149474215375,0.7175597484168422],\"y\":[0.6959332613515186,0.6126007545433755,0.7234669918264144,0.7644112460469913,0.33253400181048753,0.5608854111352415,0.6741485173724082,0.5482593643065978,0.5969198152780123,0.7263585329938136],\"type\":\"scatter\",\"xaxis\":\"x\",\"yaxis\":\"y\"},{\"mode\":\"markers\",\"x\":[0.8136103310194507,0.6490239989350718,0.2177415453772051,0.7670761102616899,0.3232393384143989,0.08667998632107965,0.2710505490378933,0.06724610815188299,0.17706805333871756,0.4911538756163871,0.7922965787425718,0.8416261375529749,0.39077476717152937,0.5884031288657363,0.20260510547968144,0.8105230212967169,0.8232436704137271,0.21362949640690646,0.3253361560632164,0.3852964683955883,0.6649147538398534,0.6388814550594905,0.590716339380448,0.25321033262220854,0.034384129243318795,0.8361282736376341,0.23142325154419907,0.7458473870082007,0.1779136197848563,0.7604956220604653,0.6812570811118537,0.37844100091892896,0.3818793544284973,0.2958780467500481,0.21481940338006605,0.3204008309828848,0.47750470277278156,0.7874022993939809,0.844122054088321,0.4291834473002246,0.8002051791859269,0.26599905388949974,0.11086640225284317,0.8889679483871109,0.4046680968757836,0.25994381682672507,0.7674482025257807,0.8087912279303853,0.6473840804459959,0.7114968193683705,0.353123216081511,0.3499195111915727,0.27941420149445745,0.49939514011134867,0.6676294248090154,0.811084396791234,0.6333469617706264,0.5969490354904466,0.7375988194102776,0.114906219850115,0.8738783743078699,0.3614476234387792,0.7127068338830621,0.877700285808481,0.4480544983314081,0.20121331915677457,0.8554397355890088,0.5074528823069137,0.674524658862876,0.7780478609714959,0.3260848569733325,0.16263422776800654,0.05695479659700286,0.3423879600416532,0.8776562175781175,0.9215945856723613,0.8237898808905543,0.2152376168609148,0.6018838386703894,0.6884668256941684,0.24010547830096887,0.47337664277003183,0.6397919993995661,0.41978430698794567,0.5169269828747091,0.40460247050836434,0.24873047621502925,0.44637083176219805,0.24978667925519088,0.8505044319508023,0.6925158733831369,0.657677570670585,0.6273323222736984,0.8632606140025055,0.6825699388888887,0.6889603458099816,0.7118849455766446,0.17496079213713234,0.8348965998506945,0.8214647775464851],\"y\":[0.8468322047514057,0.6947953415110031,0.15578844985660872,1.0404606928130125,0.2804002767871711,0.20408922277988129,0.6546340895029557,0.40940105301464513,0.10040805491132254,0.7729002067896347,0.8288178628185741,0.9456674226948538,0.3233771035682182,0.9264825212126119,0.07397283331309201,0.9166835131168058,0.7998433769010023,0.3209807567169445,0.3380570625418411,0.4344166538102726,0.6648318507239395,0.7106784648107999,0.8103685715333128,0.5345842198899178,0.14108883493721852,1.0768901900818282,0.15710909734825157,0.750613682143451,0.0028177457617468704,0.6987798731744645,0.9151489287448992,0.4383893670845508,0.6647091477760843,0.6428766708268496,0.11638213024509547,0.7255082174039504,0.8749587595798709,1.0037010191060316,0.9076865131603875,0.39883338196172713,0.8230803732411736,0.18848705192814746,0.16480687946046435,1.055212027235736,0.8313165470047359,0.09455269989567616,0.8059738042150978,0.9230263475895233,0.6470777741497687,0.6761655214810096,0.30559788999348825,0.29110341758382396,0.6660033147920197,0.5492056597711996,0.6448583212773628,0.8047615128337376,0.7198315881460047,0.5471214996616253,0.9622408578502453,0.345957209529921,0.9998974658021391,0.32143227503912086,0.6964331603848943,1.047690305700971,0.6597224402611007,0.23730168538134133,0.9135653862931046,0.4630922588067686,0.7929809712051794,0.8338446142500644,0.3449506735460863,0.5768893355148877,0.13249152590402424,0.6407755056376715,0.9772119908916139,1.0744705548919475,0.9384223203359212,0.5472775749733926,0.659369765157992,0.6772723155114038,0.20384687832235854,0.8236175414389717,0.6277079883877372,0.625802410013628,0.46569928471521593,0.5793692876245963,0.2855034763203411,0.8673988780028712,0.570065427112825,1.0503421922287912,0.8786502486654147,0.6006424428450391,0.6448974424278676,0.9675352544521929,0.868997852663644,0.900997022471709,0.7000779099598211,0.5292320619567629,1.0099576562609316,0.8256978053282189],\"type\":\"scatter\",\"xaxis\":\"x2\",\"yaxis\":\"y2\"}],                        {\"template\":{\"data\":{\"histogram2dcontour\":[{\"type\":\"histogram2dcontour\",\"colorbar\":{\"outlinewidth\":0,\"ticks\":\"\"},\"colorscale\":[[0.0,\"#0d0887\"],[0.1111111111111111,\"#46039f\"],[0.2222222222222222,\"#7201a8\"],[0.3333333333333333,\"#9c179e\"],[0.4444444444444444,\"#bd3786\"],[0.5555555555555556,\"#d8576b\"],[0.6666666666666666,\"#ed7953\"],[0.7777777777777778,\"#fb9f3a\"],[0.8888888888888888,\"#fdca26\"],[1.0,\"#f0f921\"]]}],\"choropleth\":[{\"type\":\"choropleth\",\"colorbar\":{\"outlinewidth\":0,\"ticks\":\"\"}}],\"histogram2d\":[{\"type\":\"histogram2d\",\"colorbar\":{\"outlinewidth\":0,\"ticks\":\"\"},\"colorscale\":[[0.0,\"#0d0887\"],[0.1111111111111111,\"#46039f\"],[0.2222222222222222,\"#7201a8\"],[0.3333333333333333,\"#9c179e\"],[0.4444444444444444,\"#bd3786\"],[0.5555555555555556,\"#d8576b\"],[0.6666666666666666,\"#ed7953\"],[0.7777777777777778,\"#fb9f3a\"],[0.8888888888888888,\"#fdca26\"],[1.0,\"#f0f921\"]]}],\"heatmap\":[{\"type\":\"heatmap\",\"colorbar\":{\"outlinewidth\":0,\"ticks\":\"\"},\"colorscale\":[[0.0,\"#0d0887\"],[0.1111111111111111,\"#46039f\"],[0.2222222222222222,\"#7201a8\"],[0.3333333333333333,\"#9c179e\"],[0.4444444444444444,\"#bd3786\"],[0.5555555555555556,\"#d8576b\"],[0.6666666666666666,\"#ed7953\"],[0.7777777777777778,\"#fb9f3a\"],[0.8888888888888888,\"#fdca26\"],[1.0,\"#f0f921\"]]}],\"heatmapgl\":[{\"type\":\"heatmapgl\",\"colorbar\":{\"outlinewidth\":0,\"ticks\":\"\"},\"colorscale\":[[0.0,\"#0d0887\"],[0.1111111111111111,\"#46039f\"],[0.2222222222222222,\"#7201a8\"],[0.3333333333333333,\"#9c179e\"],[0.4444444444444444,\"#bd3786\"],[0.5555555555555556,\"#d8576b\"],[0.6666666666666666,\"#ed7953\"],[0.7777777777777778,\"#fb9f3a\"],[0.8888888888888888,\"#fdca26\"],[1.0,\"#f0f921\"]]}],\"contourcarpet\":[{\"type\":\"contourcarpet\",\"colorbar\":{\"outlinewidth\":0,\"ticks\":\"\"}}],\"contour\":[{\"type\":\"contour\",\"colorbar\":{\"outlinewidth\":0,\"ticks\":\"\"},\"colorscale\":[[0.0,\"#0d0887\"],[0.1111111111111111,\"#46039f\"],[0.2222222222222222,\"#7201a8\"],[0.3333333333333333,\"#9c179e\"],[0.4444444444444444,\"#bd3786\"],[0.5555555555555556,\"#d8576b\"],[0.6666666666666666,\"#ed7953\"],[0.7777777777777778,\"#fb9f3a\"],[0.8888888888888888,\"#fdca26\"],[1.0,\"#f0f921\"]]}],\"surface\":[{\"type\":\"surface\",\"colorbar\":{\"outlinewidth\":0,\"ticks\":\"\"},\"colorscale\":[[0.0,\"#0d0887\"],[0.1111111111111111,\"#46039f\"],[0.2222222222222222,\"#7201a8\"],[0.3333333333333333,\"#9c179e\"],[0.4444444444444444,\"#bd3786\"],[0.5555555555555556,\"#d8576b\"],[0.6666666666666666,\"#ed7953\"],[0.7777777777777778,\"#fb9f3a\"],[0.8888888888888888,\"#fdca26\"],[1.0,\"#f0f921\"]]}],\"mesh3d\":[{\"type\":\"mesh3d\",\"colorbar\":{\"outlinewidth\":0,\"ticks\":\"\"}}],\"scatter\":[{\"fillpattern\":{\"fillmode\":\"overlay\",\"size\":10,\"solidity\":0.2},\"type\":\"scatter\"}],\"parcoords\":[{\"type\":\"parcoords\",\"line\":{\"colorbar\":{\"outlinewidth\":0,\"ticks\":\"\"}}}],\"scatterpolargl\":[{\"type\":\"scatterpolargl\",\"marker\":{\"colorbar\":{\"outlinewidth\":0,\"ticks\":\"\"}}}],\"bar\":[{\"error_x\":{\"color\":\"#2a3f5f\"},\"error_y\":{\"color\":\"#2a3f5f\"},\"marker\":{\"line\":{\"color\":\"#E5ECF6\",\"width\":0.5},\"pattern\":{\"fillmode\":\"overlay\",\"size\":10,\"solidity\":0.2}},\"type\":\"bar\"}],\"scattergeo\":[{\"type\":\"scattergeo\",\"marker\":{\"colorbar\":{\"outlinewidth\":0,\"ticks\":\"\"}}}],\"scatterpolar\":[{\"type\":\"scatterpolar\",\"marker\":{\"colorbar\":{\"outlinewidth\":0,\"ticks\":\"\"}}}],\"histogram\":[{\"marker\":{\"pattern\":{\"fillmode\":\"overlay\",\"size\":10,\"solidity\":0.2}},\"type\":\"histogram\"}],\"scattergl\":[{\"type\":\"scattergl\",\"marker\":{\"colorbar\":{\"outlinewidth\":0,\"ticks\":\"\"}}}],\"scatter3d\":[{\"type\":\"scatter3d\",\"line\":{\"colorbar\":{\"outlinewidth\":0,\"ticks\":\"\"}},\"marker\":{\"colorbar\":{\"outlinewidth\":0,\"ticks\":\"\"}}}],\"scattermapbox\":[{\"type\":\"scattermapbox\",\"marker\":{\"colorbar\":{\"outlinewidth\":0,\"ticks\":\"\"}}}],\"scatterternary\":[{\"type\":\"scatterternary\",\"marker\":{\"colorbar\":{\"outlinewidth\":0,\"ticks\":\"\"}}}],\"scattercarpet\":[{\"type\":\"scattercarpet\",\"marker\":{\"colorbar\":{\"outlinewidth\":0,\"ticks\":\"\"}}}],\"carpet\":[{\"aaxis\":{\"endlinecolor\":\"#2a3f5f\",\"gridcolor\":\"white\",\"linecolor\":\"white\",\"minorgridcolor\":\"white\",\"startlinecolor\":\"#2a3f5f\"},\"baxis\":{\"endlinecolor\":\"#2a3f5f\",\"gridcolor\":\"white\",\"linecolor\":\"white\",\"minorgridcolor\":\"white\",\"startlinecolor\":\"#2a3f5f\"},\"type\":\"carpet\"}],\"table\":[{\"cells\":{\"fill\":{\"color\":\"#EBF0F8\"},\"line\":{\"color\":\"white\"}},\"header\":{\"fill\":{\"color\":\"#C8D4E3\"},\"line\":{\"color\":\"white\"}},\"type\":\"table\"}],\"barpolar\":[{\"marker\":{\"line\":{\"color\":\"#E5ECF6\",\"width\":0.5},\"pattern\":{\"fillmode\":\"overlay\",\"size\":10,\"solidity\":0.2}},\"type\":\"barpolar\"}],\"pie\":[{\"automargin\":true,\"type\":\"pie\"}]},\"layout\":{\"autotypenumbers\":\"strict\",\"colorway\":[\"#636efa\",\"#EF553B\",\"#00cc96\",\"#ab63fa\",\"#FFA15A\",\"#19d3f3\",\"#FF6692\",\"#B6E880\",\"#FF97FF\",\"#FECB52\"],\"font\":{\"color\":\"#2a3f5f\"},\"hovermode\":\"closest\",\"hoverlabel\":{\"align\":\"left\"},\"paper_bgcolor\":\"white\",\"plot_bgcolor\":\"#E5ECF6\",\"polar\":{\"bgcolor\":\"#E5ECF6\",\"angularaxis\":{\"gridcolor\":\"white\",\"linecolor\":\"white\",\"ticks\":\"\"},\"radialaxis\":{\"gridcolor\":\"white\",\"linecolor\":\"white\",\"ticks\":\"\"}},\"ternary\":{\"bgcolor\":\"#E5ECF6\",\"aaxis\":{\"gridcolor\":\"white\",\"linecolor\":\"white\",\"ticks\":\"\"},\"baxis\":{\"gridcolor\":\"white\",\"linecolor\":\"white\",\"ticks\":\"\"},\"caxis\":{\"gridcolor\":\"white\",\"linecolor\":\"white\",\"ticks\":\"\"}},\"coloraxis\":{\"colorbar\":{\"outlinewidth\":0,\"ticks\":\"\"}},\"colorscale\":{\"sequential\":[[0.0,\"#0d0887\"],[0.1111111111111111,\"#46039f\"],[0.2222222222222222,\"#7201a8\"],[0.3333333333333333,\"#9c179e\"],[0.4444444444444444,\"#bd3786\"],[0.5555555555555556,\"#d8576b\"],[0.6666666666666666,\"#ed7953\"],[0.7777777777777778,\"#fb9f3a\"],[0.8888888888888888,\"#fdca26\"],[1.0,\"#f0f921\"]],\"sequentialminus\":[[0.0,\"#0d0887\"],[0.1111111111111111,\"#46039f\"],[0.2222222222222222,\"#7201a8\"],[0.3333333333333333,\"#9c179e\"],[0.4444444444444444,\"#bd3786\"],[0.5555555555555556,\"#d8576b\"],[0.6666666666666666,\"#ed7953\"],[0.7777777777777778,\"#fb9f3a\"],[0.8888888888888888,\"#fdca26\"],[1.0,\"#f0f921\"]],\"diverging\":[[0,\"#8e0152\"],[0.1,\"#c51b7d\"],[0.2,\"#de77ae\"],[0.3,\"#f1b6da\"],[0.4,\"#fde0ef\"],[0.5,\"#f7f7f7\"],[0.6,\"#e6f5d0\"],[0.7,\"#b8e186\"],[0.8,\"#7fbc41\"],[0.9,\"#4d9221\"],[1,\"#276419\"]]},\"xaxis\":{\"gridcolor\":\"white\",\"linecolor\":\"white\",\"ticks\":\"\",\"title\":{\"standoff\":15},\"zerolinecolor\":\"white\",\"automargin\":true,\"zerolinewidth\":2},\"yaxis\":{\"gridcolor\":\"white\",\"linecolor\":\"white\",\"ticks\":\"\",\"title\":{\"standoff\":15},\"zerolinecolor\":\"white\",\"automargin\":true,\"zerolinewidth\":2},\"scene\":{\"xaxis\":{\"backgroundcolor\":\"#E5ECF6\",\"gridcolor\":\"white\",\"linecolor\":\"white\",\"showbackground\":true,\"ticks\":\"\",\"zerolinecolor\":\"white\",\"gridwidth\":2},\"yaxis\":{\"backgroundcolor\":\"#E5ECF6\",\"gridcolor\":\"white\",\"linecolor\":\"white\",\"showbackground\":true,\"ticks\":\"\",\"zerolinecolor\":\"white\",\"gridwidth\":2},\"zaxis\":{\"backgroundcolor\":\"#E5ECF6\",\"gridcolor\":\"white\",\"linecolor\":\"white\",\"showbackground\":true,\"ticks\":\"\",\"zerolinecolor\":\"white\",\"gridwidth\":2}},\"shapedefaults\":{\"line\":{\"color\":\"#2a3f5f\"}},\"annotationdefaults\":{\"arrowcolor\":\"#2a3f5f\",\"arrowhead\":0,\"arrowwidth\":1},\"geo\":{\"bgcolor\":\"white\",\"landcolor\":\"#E5ECF6\",\"subunitcolor\":\"white\",\"showland\":true,\"showlakes\":true,\"lakecolor\":\"white\"},\"title\":{\"x\":0.05},\"mapbox\":{\"style\":\"light\"}}},\"xaxis\":{\"anchor\":\"y\",\"domain\":[0.0,0.45]},\"yaxis\":{\"anchor\":\"x\",\"domain\":[0.0,1.0]},\"xaxis2\":{\"anchor\":\"y2\",\"domain\":[0.55,1.0]},\"yaxis2\":{\"anchor\":\"x2\",\"domain\":[0.0,1.0]},\"annotations\":[{\"font\":{\"size\":16},\"showarrow\":false,\"text\":\"Train Set <br> R^2 = 0.995 <br> Abs RMSE = 0.009 <br> Rel RMSE = 0.074\",\"x\":0.225,\"xanchor\":\"center\",\"xref\":\"paper\",\"y\":1.0,\"yanchor\":\"bottom\",\"yref\":\"paper\"},{\"font\":{\"size\":16},\"showarrow\":false,\"text\":\"Test Set <br> R^2 = 0.468 <br> Abs RMSE = 0.184 <br> Rel RMSE = 0.729\",\"x\":0.775,\"xanchor\":\"center\",\"xref\":\"paper\",\"y\":1.0,\"yanchor\":\"bottom\",\"yref\":\"paper\"}],\"shapes\":[{\"layer\":\"below\",\"line\":{\"dash\":\"dash\"},\"type\":\"line\",\"x0\":0.33253400181048753,\"x1\":0.7644112460469913,\"y0\":0.33253400181048753,\"y1\":0.7644112460469913},{\"layer\":\"below\",\"line\":{\"dash\":\"dash\"},\"type\":\"line\",\"x0\":0.0028177457617468704,\"x1\":1.0768901900818282,\"xref\":\"x2\",\"y0\":0.0028177457617468704,\"y1\":1.0768901900818282,\"yref\":\"y2\"}],\"title\":{\"text\":\"Observed vs Predicted\"},\"showlegend\":false},                        {\"responsive\": true}                    ).then(function(){\n",
              "                            \n",
              "var gd = document.getElementById('3cac5e36-c413-4890-877f-eda26eb47428');\n",
              "var x = new MutationObserver(function (mutations, observer) {{\n",
              "        var display = window.getComputedStyle(gd).display;\n",
              "        if (!display || display === 'none') {{\n",
              "            console.log([gd, 'removed!']);\n",
              "            Plotly.purge(gd);\n",
              "            observer.disconnect();\n",
              "        }}\n",
              "}});\n",
              "\n",
              "// Listen for the removal of the full notebook cells\n",
              "var notebookContainer = gd.closest('#notebook-container');\n",
              "if (notebookContainer) {{\n",
              "    x.observe(notebookContainer, {childList: true});\n",
              "}}\n",
              "\n",
              "// Listen for the clearing of the current output cell\n",
              "var outputEl = gd.closest('.output');\n",
              "if (outputEl) {{\n",
              "    x.observe(outputEl, {childList: true});\n",
              "}}\n",
              "\n",
              "                        })                };                            </script>        </div>\n",
              "</body>\n",
              "</html>"
            ]
          },
          "metadata": {}
        }
      ]
    },
    {
      "cell_type": "markdown",
      "source": [
        "## Transfer learning over Task A & B without one-hot encoding"
      ],
      "metadata": {
        "id": "JOj6JrS6_bmA"
      }
    },
    {
      "cell_type": "code",
      "source": [
        "# Define Pipeline\n",
        "pscaler = StandardScaler(with_mean=USE_NORM,with_std=USE_NORM)\n",
        "pls_bwu = PLSRegression(n_components=N_LV)\n",
        "pipe = Pipeline([('scaler', pscaler), ('pls', pls_bwu)])\n",
        "# Train PLS model\n",
        "y = pd.concat([B_tar,A_tar])\n",
        "X = pd.concat([preprocess_bwu(B_bwu, B_doe, USE_DAYS, REMOVE_VARS),preprocess_bwu(A_bwu, A_doe, USE_DAYS, REMOVE_VARS)],axis=0)\n",
        "#X['Task:B'] = np.concatenate((np.repeat(1,len(B_tar)),np.repeat(0,len(A_tar))),axis=None)\n",
        "X_columns = X.columns\n",
        "print(X_columns)\n",
        "pipe.fit(X,y)\n",
        "\n",
        "# Make predictions\n",
        "yhat = pipe.predict(X)\n",
        "X_test = preprocess_bwu(B_bwu_test, B_doe_test, USE_DAYS, REMOVE_VARS)\n",
        "#X_test['Task:B'] = np.repeat(1,len(B_tar_test))\n",
        "y_test = B_tar_test\n",
        "yhat_test = pipe.predict(X_test)\n",
        "\n",
        "# Calculate error metrics\n",
        "train_r2 = round(pipe.score(X,y),3)\n",
        "train_abs_rmse = round(mean_squared_error(y, yhat,squared=False),3)\n",
        "train_rel_rmse = round(mean_squared_error(y, yhat,squared=False) / np.std(np.array(y)),3)\n",
        "test_r2 = round(pipe.score(X_test,y_test),3)\n",
        "test_abs_rmse = round(mean_squared_error(y_test, yhat_test,squared=False),3)\n",
        "test_rel_rmse = round(mean_squared_error(y_test, yhat_test,squared=False) / np.std(np.array(y_test)),3)\n",
        "scen_2 = test_rel_rmse\n",
        "\n",
        "# Plot observed vs predicted\n",
        "fig = make_subplots(rows=1, cols=2, subplot_titles=(\n",
        "    f\"Train Set <br> R^2 = {train_r2} <br> Abs RMSE = {train_abs_rmse} <br> Rel RMSE = {train_rel_rmse}\" ,\n",
        "    f\"Test Set <br> R^2 = {test_r2} <br> Abs RMSE = {test_abs_rmse} <br> Rel RMSE = {test_rel_rmse}\"))\n",
        "# Train set plot\n",
        "fig.add_trace(go.Scatter(x=y.values.reshape(-1),y=yhat.reshape(-1),mode=\"markers\"),row=1,col=1)\n",
        "fig.add_shape(type=\"line\",x0=min(yhat)[0],y0=min(yhat)[0],x1=max(yhat)[0],y1=max(yhat)[0], layer='below', line=dict(dash='dash'))\n",
        "# Test set plot\n",
        "fig.add_trace(go.Scatter(x=y_test.values.reshape(-1),y=yhat_test.reshape(-1),mode=\"markers\"),row=1,col=2)\n",
        "fig.add_shape(type=\"line\",x0=min(yhat_test)[0],y0=min(yhat_test)[0],x1=max(yhat_test)[0],y1=max(yhat_test)[0], layer='below', line=dict(dash='dash'),row=1,col=2)\n",
        "fig.update_layout(title_text = \"Observed vs Predicted\",showlegend=False)\n",
        "fig.show()\n"
      ],
      "metadata": {
        "colab": {
          "base_uri": "https://localhost:8080/",
          "height": 631
        },
        "id": "TUV6zC938odw",
        "outputId": "46e723d1-c078-46af-a700-13a7121d3698"
      },
      "execution_count": 89,
      "outputs": [
        {
          "output_type": "stream",
          "name": "stdout",
          "text": [
            "Index(['feed_start', 'feed_end', 'Glc_feed_rate', 'Glc_0', 'VCD_0', 'X:VCD:1',\n",
            "       'X:VCD:2', 'X:VCD:3', 'X:VCD:4', 'X:VCD:5', 'X:VCD:6', 'X:VCD:7',\n",
            "       'X:VCD:8', 'X:VCD:9', 'X:Glc:1', 'X:Glc:2', 'X:Glc:3', 'X:Glc:4',\n",
            "       'X:Glc:5', 'X:Glc:6', 'X:Glc:7', 'X:Glc:8', 'X:Glc:9'],\n",
            "      dtype='object')\n"
          ]
        },
        {
          "output_type": "display_data",
          "data": {
            "text/html": [
              "<html>\n",
              "<head><meta charset=\"utf-8\" /></head>\n",
              "<body>\n",
              "    <div>            <script src=\"https://cdnjs.cloudflare.com/ajax/libs/mathjax/2.7.5/MathJax.js?config=TeX-AMS-MML_SVG\"></script><script type=\"text/javascript\">if (window.MathJax && window.MathJax.Hub && window.MathJax.Hub.Config) {window.MathJax.Hub.Config({SVG: {font: \"STIX-Web\"}});}</script>                <script type=\"text/javascript\">window.PlotlyConfig = {MathJaxConfig: 'local'};</script>\n",
              "        <script src=\"https://cdn.plot.ly/plotly-2.18.2.min.js\"></script>                <div id=\"f5555235-4f2f-4a56-803c-5bf477705d55\" class=\"plotly-graph-div\" style=\"height:525px; width:100%;\"></div>            <script type=\"text/javascript\">                                    window.PLOTLYENV=window.PLOTLYENV || {};                                    if (document.getElementById(\"f5555235-4f2f-4a56-803c-5bf477705d55\")) {                    Plotly.newPlot(                        \"f5555235-4f2f-4a56-803c-5bf477705d55\",                        [{\"mode\":\"markers\",\"x\":[0.7006388493788808,0.6268924823098166,0.7297248798840982,0.7730262766294467,0.3373389756635902,0.548732983118261,0.660227672123483,0.5457610817189033,0.5956149474215375,0.7175597484168422,1.3187507841989685,0.4637373966210995,0.7747642830131768,1.441821420019768,0.5013169445317813,0.537932176438095,0.30980945232710516,0.6997254851256096,0.5661560270343751,0.8903007291797469,0.7277303439982036,0.9649631863327486,1.2875653776915263,1.3300264753099005,1.0442228553751973,1.0793273622854624,1.314177061002589,1.1906610884438666,0.5454041045584095,0.36790108469264937,1.2193213805440055,0.030123060444233737,1.3527676289350021,0.47278885779537067,1.1905004652436215,0.8238228739868697,0.881793941561436,1.3027320931743496,0.8745058307469284,1.3008157769613318,0.23374446140012073,0.14297242676609317,1.4088641110183617,0.23466252321362682,0.29510727611716353,0.8638687609763878,1.2357752294675177,0.3349975175775269,0.24007332679333426,0.8190864218765235,0.8150322772812377,1.2142922858057295,1.3256491861457662,1.3902718912037977,0.5458046745397225,0.9149333332234647,0.9634813383059363,1.298991063341524,0.30841510526387755,0.9317856688941982],\"y\":[0.5686059602411657,0.563077372610407,0.5895304026469075,0.6730587885854128,0.24634318222047924,0.4756009118240277,0.5745682085216656,0.5010190145704498,0.5306532696112103,0.5274686902293817,1.122985560380364,0.3951040915759103,1.0452848315011807,1.274129993388616,0.6540554835606144,0.7266371309565938,0.47401517428727513,0.9852312313854725,0.6672877276630323,0.9311188327384117,0.7684209720983709,1.0268972986612268,1.1448147467235628,1.2450213223873434,1.1055818824738286,1.036208491587405,1.212810056972352,1.1612654567372802,0.7342852436709674,0.5240573886485458,1.1135143440064696,-0.24386153646821507,1.2259971049954324,0.6227012784214263,1.1732040371858958,0.8451798694509557,1.0263963561121472,1.2255606241447732,0.8659992941520623,1.1674292936718818,0.13612278421223478,0.22506948159735574,1.4484480999618774,0.2008342763677119,0.3525427898799316,1.0448606536989344,1.0820979802421382,0.3839401411168467,0.3118805283997669,1.0544419472967754,0.9799208755314479,1.0824918633345983,1.2401497445550964,1.3584933498108622,0.6090601401095596,1.0105490772838193,0.9562630031209701,1.1684948841753209,0.4710533930147336,0.9348179256079331],\"type\":\"scatter\",\"xaxis\":\"x\",\"yaxis\":\"y\"},{\"mode\":\"markers\",\"x\":[0.8136103310194507,0.6490239989350718,0.2177415453772051,0.7670761102616899,0.3232393384143989,0.08667998632107965,0.2710505490378933,0.06724610815188299,0.17706805333871756,0.4911538756163871,0.7922965787425718,0.8416261375529749,0.39077476717152937,0.5884031288657363,0.20260510547968144,0.8105230212967169,0.8232436704137271,0.21362949640690646,0.3253361560632164,0.3852964683955883,0.6649147538398534,0.6388814550594905,0.590716339380448,0.25321033262220854,0.034384129243318795,0.8361282736376341,0.23142325154419907,0.7458473870082007,0.1779136197848563,0.7604956220604653,0.6812570811118537,0.37844100091892896,0.3818793544284973,0.2958780467500481,0.21481940338006605,0.3204008309828848,0.47750470277278156,0.7874022993939809,0.844122054088321,0.4291834473002246,0.8002051791859269,0.26599905388949974,0.11086640225284317,0.8889679483871109,0.4046680968757836,0.25994381682672507,0.7674482025257807,0.8087912279303853,0.6473840804459959,0.7114968193683705,0.353123216081511,0.3499195111915727,0.27941420149445745,0.49939514011134867,0.6676294248090154,0.811084396791234,0.6333469617706264,0.5969490354904466,0.7375988194102776,0.114906219850115,0.8738783743078699,0.3614476234387792,0.7127068338830621,0.877700285808481,0.4480544983314081,0.20121331915677457,0.8554397355890088,0.5074528823069137,0.674524658862876,0.7780478609714959,0.3260848569733325,0.16263422776800654,0.05695479659700286,0.3423879600416532,0.8776562175781175,0.9215945856723613,0.8237898808905543,0.2152376168609148,0.6018838386703894,0.6884668256941684,0.24010547830096887,0.47337664277003183,0.6397919993995661,0.41978430698794567,0.5169269828747091,0.40460247050836434,0.24873047621502925,0.44637083176219805,0.24978667925519088,0.8505044319508023,0.6925158733831369,0.657677570670585,0.6273323222736984,0.8632606140025055,0.6825699388888887,0.6889603458099816,0.7118849455766446,0.17496079213713234,0.8348965998506945,0.8214647775464851],\"y\":[0.6751719971049917,0.6133790310345019,0.15533275073162023,0.7287459558407763,0.1647774697151434,0.0030170752514732113,0.4774557187439074,0.1535822027861824,0.05955776603912977,0.48544703200112105,0.644599994271934,0.9233577651066205,0.26424504567124474,0.620122451913567,0.08429267190802736,0.765827687826159,0.6291472260072688,0.2245806892457628,0.28245037154241015,0.32497295868751636,0.49239142609251046,0.5282229003993846,0.5750970825503192,0.18296868862339355,-0.30941722777009417,0.885634454566588,0.17900423450707648,0.6384029637417672,-0.05411351070888015,0.7004993488989706,0.6944933377394862,0.3531990241510939,0.3699004299879268,0.3097797254707905,0.03935259548606662,0.5175474820181929,0.5121075000541722,0.76555778119451,0.7384334245078313,0.3836637419346866,0.6771599336068631,0.13257526918296147,0.08603993372617458,0.8680007327412121,0.447834720090536,0.08702126915211394,0.5908513017709018,0.7438327026922842,0.5688962030915768,0.6110887126806467,0.3664151527785176,0.1687247841731615,0.47875592756751895,0.4240408445415715,0.5198558493602387,0.7426415085984963,0.7009027498275365,0.553806321068774,0.8527234879056306,-0.05386018071083698,0.8724133384057862,0.33166983078436807,0.5608428829851738,0.9897319062881546,0.4628505691502265,0.3392698789467661,0.73126134952006,0.5286562871279425,0.6715542373341392,0.7320494013980662,0.3235737681776686,0.41663236227256323,-0.16091793405415067,0.3539405929052553,0.7878858908881026,0.8710342826478563,0.7246303834454393,0.17517706386321752,0.5389395462800268,0.5962125528871407,0.11638923833132553,0.6600362103162627,0.5109930854349449,0.37003637358330416,0.3825091104820717,0.48686442863595236,0.2805870082516806,0.4963394962730142,0.17664899093553998,0.8611522018641413,0.7334598482134532,0.5921087400597043,0.4992747499256056,0.8260222628158828,0.7201983981143819,0.6373322045747767,0.7119213883011963,0.15732355699620215,0.7754738827378235,0.755159256911083],\"type\":\"scatter\",\"xaxis\":\"x2\",\"yaxis\":\"y2\"}],                        {\"template\":{\"data\":{\"histogram2dcontour\":[{\"type\":\"histogram2dcontour\",\"colorbar\":{\"outlinewidth\":0,\"ticks\":\"\"},\"colorscale\":[[0.0,\"#0d0887\"],[0.1111111111111111,\"#46039f\"],[0.2222222222222222,\"#7201a8\"],[0.3333333333333333,\"#9c179e\"],[0.4444444444444444,\"#bd3786\"],[0.5555555555555556,\"#d8576b\"],[0.6666666666666666,\"#ed7953\"],[0.7777777777777778,\"#fb9f3a\"],[0.8888888888888888,\"#fdca26\"],[1.0,\"#f0f921\"]]}],\"choropleth\":[{\"type\":\"choropleth\",\"colorbar\":{\"outlinewidth\":0,\"ticks\":\"\"}}],\"histogram2d\":[{\"type\":\"histogram2d\",\"colorbar\":{\"outlinewidth\":0,\"ticks\":\"\"},\"colorscale\":[[0.0,\"#0d0887\"],[0.1111111111111111,\"#46039f\"],[0.2222222222222222,\"#7201a8\"],[0.3333333333333333,\"#9c179e\"],[0.4444444444444444,\"#bd3786\"],[0.5555555555555556,\"#d8576b\"],[0.6666666666666666,\"#ed7953\"],[0.7777777777777778,\"#fb9f3a\"],[0.8888888888888888,\"#fdca26\"],[1.0,\"#f0f921\"]]}],\"heatmap\":[{\"type\":\"heatmap\",\"colorbar\":{\"outlinewidth\":0,\"ticks\":\"\"},\"colorscale\":[[0.0,\"#0d0887\"],[0.1111111111111111,\"#46039f\"],[0.2222222222222222,\"#7201a8\"],[0.3333333333333333,\"#9c179e\"],[0.4444444444444444,\"#bd3786\"],[0.5555555555555556,\"#d8576b\"],[0.6666666666666666,\"#ed7953\"],[0.7777777777777778,\"#fb9f3a\"],[0.8888888888888888,\"#fdca26\"],[1.0,\"#f0f921\"]]}],\"heatmapgl\":[{\"type\":\"heatmapgl\",\"colorbar\":{\"outlinewidth\":0,\"ticks\":\"\"},\"colorscale\":[[0.0,\"#0d0887\"],[0.1111111111111111,\"#46039f\"],[0.2222222222222222,\"#7201a8\"],[0.3333333333333333,\"#9c179e\"],[0.4444444444444444,\"#bd3786\"],[0.5555555555555556,\"#d8576b\"],[0.6666666666666666,\"#ed7953\"],[0.7777777777777778,\"#fb9f3a\"],[0.8888888888888888,\"#fdca26\"],[1.0,\"#f0f921\"]]}],\"contourcarpet\":[{\"type\":\"contourcarpet\",\"colorbar\":{\"outlinewidth\":0,\"ticks\":\"\"}}],\"contour\":[{\"type\":\"contour\",\"colorbar\":{\"outlinewidth\":0,\"ticks\":\"\"},\"colorscale\":[[0.0,\"#0d0887\"],[0.1111111111111111,\"#46039f\"],[0.2222222222222222,\"#7201a8\"],[0.3333333333333333,\"#9c179e\"],[0.4444444444444444,\"#bd3786\"],[0.5555555555555556,\"#d8576b\"],[0.6666666666666666,\"#ed7953\"],[0.7777777777777778,\"#fb9f3a\"],[0.8888888888888888,\"#fdca26\"],[1.0,\"#f0f921\"]]}],\"surface\":[{\"type\":\"surface\",\"colorbar\":{\"outlinewidth\":0,\"ticks\":\"\"},\"colorscale\":[[0.0,\"#0d0887\"],[0.1111111111111111,\"#46039f\"],[0.2222222222222222,\"#7201a8\"],[0.3333333333333333,\"#9c179e\"],[0.4444444444444444,\"#bd3786\"],[0.5555555555555556,\"#d8576b\"],[0.6666666666666666,\"#ed7953\"],[0.7777777777777778,\"#fb9f3a\"],[0.8888888888888888,\"#fdca26\"],[1.0,\"#f0f921\"]]}],\"mesh3d\":[{\"type\":\"mesh3d\",\"colorbar\":{\"outlinewidth\":0,\"ticks\":\"\"}}],\"scatter\":[{\"fillpattern\":{\"fillmode\":\"overlay\",\"size\":10,\"solidity\":0.2},\"type\":\"scatter\"}],\"parcoords\":[{\"type\":\"parcoords\",\"line\":{\"colorbar\":{\"outlinewidth\":0,\"ticks\":\"\"}}}],\"scatterpolargl\":[{\"type\":\"scatterpolargl\",\"marker\":{\"colorbar\":{\"outlinewidth\":0,\"ticks\":\"\"}}}],\"bar\":[{\"error_x\":{\"color\":\"#2a3f5f\"},\"error_y\":{\"color\":\"#2a3f5f\"},\"marker\":{\"line\":{\"color\":\"#E5ECF6\",\"width\":0.5},\"pattern\":{\"fillmode\":\"overlay\",\"size\":10,\"solidity\":0.2}},\"type\":\"bar\"}],\"scattergeo\":[{\"type\":\"scattergeo\",\"marker\":{\"colorbar\":{\"outlinewidth\":0,\"ticks\":\"\"}}}],\"scatterpolar\":[{\"type\":\"scatterpolar\",\"marker\":{\"colorbar\":{\"outlinewidth\":0,\"ticks\":\"\"}}}],\"histogram\":[{\"marker\":{\"pattern\":{\"fillmode\":\"overlay\",\"size\":10,\"solidity\":0.2}},\"type\":\"histogram\"}],\"scattergl\":[{\"type\":\"scattergl\",\"marker\":{\"colorbar\":{\"outlinewidth\":0,\"ticks\":\"\"}}}],\"scatter3d\":[{\"type\":\"scatter3d\",\"line\":{\"colorbar\":{\"outlinewidth\":0,\"ticks\":\"\"}},\"marker\":{\"colorbar\":{\"outlinewidth\":0,\"ticks\":\"\"}}}],\"scattermapbox\":[{\"type\":\"scattermapbox\",\"marker\":{\"colorbar\":{\"outlinewidth\":0,\"ticks\":\"\"}}}],\"scatterternary\":[{\"type\":\"scatterternary\",\"marker\":{\"colorbar\":{\"outlinewidth\":0,\"ticks\":\"\"}}}],\"scattercarpet\":[{\"type\":\"scattercarpet\",\"marker\":{\"colorbar\":{\"outlinewidth\":0,\"ticks\":\"\"}}}],\"carpet\":[{\"aaxis\":{\"endlinecolor\":\"#2a3f5f\",\"gridcolor\":\"white\",\"linecolor\":\"white\",\"minorgridcolor\":\"white\",\"startlinecolor\":\"#2a3f5f\"},\"baxis\":{\"endlinecolor\":\"#2a3f5f\",\"gridcolor\":\"white\",\"linecolor\":\"white\",\"minorgridcolor\":\"white\",\"startlinecolor\":\"#2a3f5f\"},\"type\":\"carpet\"}],\"table\":[{\"cells\":{\"fill\":{\"color\":\"#EBF0F8\"},\"line\":{\"color\":\"white\"}},\"header\":{\"fill\":{\"color\":\"#C8D4E3\"},\"line\":{\"color\":\"white\"}},\"type\":\"table\"}],\"barpolar\":[{\"marker\":{\"line\":{\"color\":\"#E5ECF6\",\"width\":0.5},\"pattern\":{\"fillmode\":\"overlay\",\"size\":10,\"solidity\":0.2}},\"type\":\"barpolar\"}],\"pie\":[{\"automargin\":true,\"type\":\"pie\"}]},\"layout\":{\"autotypenumbers\":\"strict\",\"colorway\":[\"#636efa\",\"#EF553B\",\"#00cc96\",\"#ab63fa\",\"#FFA15A\",\"#19d3f3\",\"#FF6692\",\"#B6E880\",\"#FF97FF\",\"#FECB52\"],\"font\":{\"color\":\"#2a3f5f\"},\"hovermode\":\"closest\",\"hoverlabel\":{\"align\":\"left\"},\"paper_bgcolor\":\"white\",\"plot_bgcolor\":\"#E5ECF6\",\"polar\":{\"bgcolor\":\"#E5ECF6\",\"angularaxis\":{\"gridcolor\":\"white\",\"linecolor\":\"white\",\"ticks\":\"\"},\"radialaxis\":{\"gridcolor\":\"white\",\"linecolor\":\"white\",\"ticks\":\"\"}},\"ternary\":{\"bgcolor\":\"#E5ECF6\",\"aaxis\":{\"gridcolor\":\"white\",\"linecolor\":\"white\",\"ticks\":\"\"},\"baxis\":{\"gridcolor\":\"white\",\"linecolor\":\"white\",\"ticks\":\"\"},\"caxis\":{\"gridcolor\":\"white\",\"linecolor\":\"white\",\"ticks\":\"\"}},\"coloraxis\":{\"colorbar\":{\"outlinewidth\":0,\"ticks\":\"\"}},\"colorscale\":{\"sequential\":[[0.0,\"#0d0887\"],[0.1111111111111111,\"#46039f\"],[0.2222222222222222,\"#7201a8\"],[0.3333333333333333,\"#9c179e\"],[0.4444444444444444,\"#bd3786\"],[0.5555555555555556,\"#d8576b\"],[0.6666666666666666,\"#ed7953\"],[0.7777777777777778,\"#fb9f3a\"],[0.8888888888888888,\"#fdca26\"],[1.0,\"#f0f921\"]],\"sequentialminus\":[[0.0,\"#0d0887\"],[0.1111111111111111,\"#46039f\"],[0.2222222222222222,\"#7201a8\"],[0.3333333333333333,\"#9c179e\"],[0.4444444444444444,\"#bd3786\"],[0.5555555555555556,\"#d8576b\"],[0.6666666666666666,\"#ed7953\"],[0.7777777777777778,\"#fb9f3a\"],[0.8888888888888888,\"#fdca26\"],[1.0,\"#f0f921\"]],\"diverging\":[[0,\"#8e0152\"],[0.1,\"#c51b7d\"],[0.2,\"#de77ae\"],[0.3,\"#f1b6da\"],[0.4,\"#fde0ef\"],[0.5,\"#f7f7f7\"],[0.6,\"#e6f5d0\"],[0.7,\"#b8e186\"],[0.8,\"#7fbc41\"],[0.9,\"#4d9221\"],[1,\"#276419\"]]},\"xaxis\":{\"gridcolor\":\"white\",\"linecolor\":\"white\",\"ticks\":\"\",\"title\":{\"standoff\":15},\"zerolinecolor\":\"white\",\"automargin\":true,\"zerolinewidth\":2},\"yaxis\":{\"gridcolor\":\"white\",\"linecolor\":\"white\",\"ticks\":\"\",\"title\":{\"standoff\":15},\"zerolinecolor\":\"white\",\"automargin\":true,\"zerolinewidth\":2},\"scene\":{\"xaxis\":{\"backgroundcolor\":\"#E5ECF6\",\"gridcolor\":\"white\",\"linecolor\":\"white\",\"showbackground\":true,\"ticks\":\"\",\"zerolinecolor\":\"white\",\"gridwidth\":2},\"yaxis\":{\"backgroundcolor\":\"#E5ECF6\",\"gridcolor\":\"white\",\"linecolor\":\"white\",\"showbackground\":true,\"ticks\":\"\",\"zerolinecolor\":\"white\",\"gridwidth\":2},\"zaxis\":{\"backgroundcolor\":\"#E5ECF6\",\"gridcolor\":\"white\",\"linecolor\":\"white\",\"showbackground\":true,\"ticks\":\"\",\"zerolinecolor\":\"white\",\"gridwidth\":2}},\"shapedefaults\":{\"line\":{\"color\":\"#2a3f5f\"}},\"annotationdefaults\":{\"arrowcolor\":\"#2a3f5f\",\"arrowhead\":0,\"arrowwidth\":1},\"geo\":{\"bgcolor\":\"white\",\"landcolor\":\"#E5ECF6\",\"subunitcolor\":\"white\",\"showland\":true,\"showlakes\":true,\"lakecolor\":\"white\"},\"title\":{\"x\":0.05},\"mapbox\":{\"style\":\"light\"}}},\"xaxis\":{\"anchor\":\"y\",\"domain\":[0.0,0.45]},\"yaxis\":{\"anchor\":\"x\",\"domain\":[0.0,1.0]},\"xaxis2\":{\"anchor\":\"y2\",\"domain\":[0.55,1.0]},\"yaxis2\":{\"anchor\":\"x2\",\"domain\":[0.0,1.0]},\"annotations\":[{\"font\":{\"size\":16},\"showarrow\":false,\"text\":\"Train Set <br> R^2 = 0.889 <br> Abs RMSE = 0.127 <br> Rel RMSE = 0.333\",\"x\":0.225,\"xanchor\":\"center\",\"xref\":\"paper\",\"y\":1.0,\"yanchor\":\"bottom\",\"yref\":\"paper\"},{\"font\":{\"size\":16},\"showarrow\":false,\"text\":\"Test Set <br> R^2 = 0.814 <br> Abs RMSE = 0.109 <br> Rel RMSE = 0.431\",\"x\":0.775,\"xanchor\":\"center\",\"xref\":\"paper\",\"y\":1.0,\"yanchor\":\"bottom\",\"yref\":\"paper\"}],\"shapes\":[{\"layer\":\"below\",\"line\":{\"dash\":\"dash\"},\"type\":\"line\",\"x0\":-0.24386153646821507,\"x1\":1.4484480999618774,\"y0\":-0.24386153646821507,\"y1\":1.4484480999618774},{\"layer\":\"below\",\"line\":{\"dash\":\"dash\"},\"type\":\"line\",\"x0\":-0.30941722777009417,\"x1\":0.9897319062881546,\"xref\":\"x2\",\"y0\":-0.30941722777009417,\"y1\":0.9897319062881546,\"yref\":\"y2\"}],\"title\":{\"text\":\"Observed vs Predicted\"},\"showlegend\":false},                        {\"responsive\": true}                    ).then(function(){\n",
              "                            \n",
              "var gd = document.getElementById('f5555235-4f2f-4a56-803c-5bf477705d55');\n",
              "var x = new MutationObserver(function (mutations, observer) {{\n",
              "        var display = window.getComputedStyle(gd).display;\n",
              "        if (!display || display === 'none') {{\n",
              "            console.log([gd, 'removed!']);\n",
              "            Plotly.purge(gd);\n",
              "            observer.disconnect();\n",
              "        }}\n",
              "}});\n",
              "\n",
              "// Listen for the removal of the full notebook cells\n",
              "var notebookContainer = gd.closest('#notebook-container');\n",
              "if (notebookContainer) {{\n",
              "    x.observe(notebookContainer, {childList: true});\n",
              "}}\n",
              "\n",
              "// Listen for the clearing of the current output cell\n",
              "var outputEl = gd.closest('.output');\n",
              "if (outputEl) {{\n",
              "    x.observe(outputEl, {childList: true});\n",
              "}}\n",
              "\n",
              "                        })                };                            </script>        </div>\n",
              "</body>\n",
              "</html>"
            ]
          },
          "metadata": {}
        }
      ]
    },
    {
      "cell_type": "markdown",
      "source": [
        "## Transfer learning over task A & B with one-hot encoding"
      ],
      "metadata": {
        "id": "mypkkibyBrOm"
      }
    },
    {
      "cell_type": "code",
      "source": [
        "# Define Pipeline\n",
        "pscaler = StandardScaler(with_mean=USE_NORM,with_std=USE_NORM)\n",
        "pls_bwu = PLSRegression(n_components=N_LV)\n",
        "pipe = Pipeline([('scaler', pscaler), ('pls', pls_bwu)])\n",
        "# Train PLS model\n",
        "y = pd.concat([B_tar,A_tar])\n",
        "X = pd.concat([preprocess_bwu(B_bwu, B_doe, USE_DAYS, REMOVE_VARS),preprocess_bwu(A_bwu, A_doe, USE_DAYS, REMOVE_VARS)],axis=0)\n",
        "X['Task:B'] = np.concatenate((np.repeat(1,len(B_tar)),np.repeat(0,len(A_tar))),axis=None)\n",
        "X_columns = X.columns\n",
        "print(X_columns)\n",
        "pipe.fit(X,y)\n",
        "\n",
        "# Make predictions\n",
        "yhat = pipe.predict(X)\n",
        "X_test = preprocess_bwu(B_bwu_test, B_doe_test, USE_DAYS, REMOVE_VARS)\n",
        "X_test['Task:B'] = np.repeat(1,len(B_tar_test))\n",
        "y_test = B_tar_test\n",
        "yhat_test = pipe.predict(X_test)\n",
        "\n",
        "# Calculate error metrics\n",
        "train_r2 = round(pipe.score(X,y),3)\n",
        "train_abs_rmse = round(mean_squared_error(y, yhat,squared=False),3)\n",
        "train_rel_rmse = round(mean_squared_error(y, yhat,squared=False) / np.std(np.array(y)),3)\n",
        "test_r2 = round(pipe.score(X_test,y_test),3)\n",
        "test_abs_rmse = round(mean_squared_error(y_test, yhat_test,squared=False),3)\n",
        "test_rel_rmse = round(mean_squared_error(y_test, yhat_test,squared=False) / np.std(np.array(y_test)),3)\n",
        "scen_3 = test_rel_rmse\n",
        "\n",
        "# Plot observed vs predicted\n",
        "fig = make_subplots(rows=1, cols=2, subplot_titles=(\n",
        "    f\"Train Set <br> R^2 = {train_r2} <br> Abs RMSE = {train_abs_rmse} <br> Rel RMSE = {train_rel_rmse}\" ,\n",
        "    f\"Test Set <br> R^2 = {test_r2} <br> Abs RMSE = {test_abs_rmse} <br> Rel RMSE = {test_rel_rmse}\"))\n",
        "# Train set plot\n",
        "fig.add_trace(go.Scatter(x=y.values.reshape(-1),y=yhat.reshape(-1),mode=\"markers\"),row=1,col=1)\n",
        "fig.add_shape(type=\"line\",x0=min(yhat)[0],y0=min(yhat)[0],x1=max(yhat)[0],y1=max(yhat)[0], layer='below', line=dict(dash='dash'))\n",
        "# Test set plot\n",
        "fig.add_trace(go.Scatter(x=y_test.values.reshape(-1),y=yhat_test.reshape(-1),mode=\"markers\"),row=1,col=2)\n",
        "fig.add_shape(type=\"line\",x0=min(yhat_test)[0],y0=min(yhat_test)[0],x1=max(yhat_test)[0],y1=max(yhat_test)[0], layer='below', line=dict(dash='dash'),row=1,col=2)\n",
        "fig.update_layout(title_text = \"Observed vs Predicted\",showlegend=False)\n",
        "fig.show()\n"
      ],
      "metadata": {
        "colab": {
          "base_uri": "https://localhost:8080/",
          "height": 631
        },
        "id": "SvZOJNh-BxfH",
        "outputId": "58a583c1-77ab-4423-f25b-f9ef8b8f260e"
      },
      "execution_count": 93,
      "outputs": [
        {
          "output_type": "stream",
          "name": "stdout",
          "text": [
            "Index(['feed_start', 'feed_end', 'Glc_feed_rate', 'Glc_0', 'VCD_0', 'X:VCD:1',\n",
            "       'X:VCD:2', 'X:VCD:3', 'X:VCD:4', 'X:VCD:5', 'X:VCD:6', 'X:VCD:7',\n",
            "       'X:VCD:8', 'X:VCD:9', 'X:Glc:1', 'X:Glc:2', 'X:Glc:3', 'X:Glc:4',\n",
            "       'X:Glc:5', 'X:Glc:6', 'X:Glc:7', 'X:Glc:8', 'X:Glc:9', 'Task:B'],\n",
            "      dtype='object')\n"
          ]
        },
        {
          "output_type": "display_data",
          "data": {
            "text/html": [
              "<html>\n",
              "<head><meta charset=\"utf-8\" /></head>\n",
              "<body>\n",
              "    <div>            <script src=\"https://cdnjs.cloudflare.com/ajax/libs/mathjax/2.7.5/MathJax.js?config=TeX-AMS-MML_SVG\"></script><script type=\"text/javascript\">if (window.MathJax && window.MathJax.Hub && window.MathJax.Hub.Config) {window.MathJax.Hub.Config({SVG: {font: \"STIX-Web\"}});}</script>                <script type=\"text/javascript\">window.PlotlyConfig = {MathJaxConfig: 'local'};</script>\n",
              "        <script src=\"https://cdn.plot.ly/plotly-2.18.2.min.js\"></script>                <div id=\"99c9ee6f-4a4a-4680-aee7-421dc33206a2\" class=\"plotly-graph-div\" style=\"height:525px; width:100%;\"></div>            <script type=\"text/javascript\">                                    window.PLOTLYENV=window.PLOTLYENV || {};                                    if (document.getElementById(\"99c9ee6f-4a4a-4680-aee7-421dc33206a2\")) {                    Plotly.newPlot(                        \"99c9ee6f-4a4a-4680-aee7-421dc33206a2\",                        [{\"mode\":\"markers\",\"x\":[0.7006388493788808,0.6268924823098166,0.7297248798840982,0.7730262766294467,0.3373389756635902,0.548732983118261,0.660227672123483,0.5457610817189033,0.5956149474215375,0.7175597484168422,1.3187507841989685,0.4637373966210995,0.7747642830131768,1.441821420019768,0.5013169445317813,0.537932176438095,0.30980945232710516,0.6997254851256096,0.5661560270343751,0.8903007291797469,0.7277303439982036,0.9649631863327486,1.2875653776915263,1.3300264753099005,1.0442228553751973,1.0793273622854624,1.314177061002589,1.1906610884438666,0.5454041045584095,0.36790108469264937,1.2193213805440055,0.030123060444233737,1.3527676289350021,0.47278885779537067,1.1905004652436215,0.8238228739868697,0.881793941561436,1.3027320931743496,0.8745058307469284,1.3008157769613318,0.23374446140012073,0.14297242676609317,1.4088641110183617,0.23466252321362682,0.29510727611716353,0.8638687609763878,1.2357752294675177,0.3349975175775269,0.24007332679333426,0.8190864218765235,0.8150322772812377,1.2142922858057295,1.3256491861457662,1.3902718912037977,0.5458046745397225,0.9149333332234647,0.9634813383059363,1.298991063341524,0.30841510526387755,0.9317856688941982],\"y\":[0.6835777670500841,0.6231036870146559,0.7154528012533092,0.7713168471662837,0.35939817081856684,0.6052205962076921,0.6511292512521833,0.5741132560533644,0.6441478073730638,0.6424083732983844,1.1549310339816943,0.4521636802170107,0.8835277970387934,1.2991499743019825,0.7086118125057355,0.7720410619185439,0.36514658015438095,0.9114825816699321,0.652283881370207,0.8596271327045891,0.7998472271692646,0.9884468141380309,1.1535576354811727,1.2526436572572357,1.075257934556594,0.9957310832658859,1.207831906408925,1.1840490896135103,0.758360778208742,0.4410610189656014,1.1897457171013677,-0.33241514090880386,1.3018283112701408,0.5744771325852283,1.161662522984029,0.7835230665931796,0.8979951567700281,1.2057229391900397,0.8548468065679283,1.188716303301503,0.11955114475077655,0.059368049182220495,1.4385928691667627,0.0733821459846643,0.28063148851628106,0.9747511287966137,1.1184146223472382,0.3323237887478207,0.371725234589729,0.9861549508214025,0.9082572735103861,1.081416065972775,1.291133707000442,1.3306541363179925,0.5783277907167053,1.0406832313150425,0.920058283604657,1.1782236577597538,0.5084302704557935,0.9549884300230864],\"type\":\"scatter\",\"xaxis\":\"x\",\"yaxis\":\"y\"},{\"mode\":\"markers\",\"x\":[0.8136103310194507,0.6490239989350718,0.2177415453772051,0.7670761102616899,0.3232393384143989,0.08667998632107965,0.2710505490378933,0.06724610815188299,0.17706805333871756,0.4911538756163871,0.7922965787425718,0.8416261375529749,0.39077476717152937,0.5884031288657363,0.20260510547968144,0.8105230212967169,0.8232436704137271,0.21362949640690646,0.3253361560632164,0.3852964683955883,0.6649147538398534,0.6388814550594905,0.590716339380448,0.25321033262220854,0.034384129243318795,0.8361282736376341,0.23142325154419907,0.7458473870082007,0.1779136197848563,0.7604956220604653,0.6812570811118537,0.37844100091892896,0.3818793544284973,0.2958780467500481,0.21481940338006605,0.3204008309828848,0.47750470277278156,0.7874022993939809,0.844122054088321,0.4291834473002246,0.8002051791859269,0.26599905388949974,0.11086640225284317,0.8889679483871109,0.4046680968757836,0.25994381682672507,0.7674482025257807,0.8087912279303853,0.6473840804459959,0.7114968193683705,0.353123216081511,0.3499195111915727,0.27941420149445745,0.49939514011134867,0.6676294248090154,0.811084396791234,0.6333469617706264,0.5969490354904466,0.7375988194102776,0.114906219850115,0.8738783743078699,0.3614476234387792,0.7127068338830621,0.877700285808481,0.4480544983314081,0.20121331915677457,0.8554397355890088,0.5074528823069137,0.674524658862876,0.7780478609714959,0.3260848569733325,0.16263422776800654,0.05695479659700286,0.3423879600416532,0.8776562175781175,0.9215945856723613,0.8237898808905543,0.2152376168609148,0.6018838386703894,0.6884668256941684,0.24010547830096887,0.47337664277003183,0.6397919993995661,0.41978430698794567,0.5169269828747091,0.40460247050836434,0.24873047621502925,0.44637083176219805,0.24978667925519088,0.8505044319508023,0.6925158733831369,0.657677570670585,0.6273323222736984,0.8632606140025055,0.6825699388888887,0.6889603458099816,0.7118849455766446,0.17496079213713234,0.8348965998506945,0.8214647775464851],\"y\":[0.7886180073764347,0.7407041550100169,0.2550862908194691,0.7842990504598142,0.3240679627640537,-0.13846962859954637,0.47829241269697365,-0.04610872606839622,0.10788385024096092,0.5780624152661065,0.7602817230306864,1.0015753029077237,0.4198373040880864,0.6201968436723374,0.19288939306878872,0.8719391058134239,0.7711031373568847,0.07987757550457397,0.3574125213528956,0.4534020087250511,0.6341979193600873,0.5915450363037044,0.6208290539934308,0.3209062690149067,-0.2511853430490083,0.99073359072457,0.24449925048797994,0.7124137187861679,0.06836594140928076,0.8028821591721305,0.7085223117946297,0.4772245600327095,0.45264064904763324,0.3665833321626996,0.14945214861730494,0.3948871361318987,0.6114597837339177,0.8257578659110196,0.8191857840103622,0.41791085270544703,0.7935562526941904,0.20851957018973444,-0.04720177399745085,0.9491499883461059,0.56462178024239,0.23097884884686437,0.7016077633252333,0.8579474893718495,0.6306902834346604,0.6786682977217888,0.4405263271544157,0.3258352944581489,0.33903687809923855,0.5679244748258605,0.6366665077310907,0.8410097244483485,0.8115399031187192,0.6148330129595955,0.9475357244710559,0.021783665660190077,0.9473106217160879,0.3457679120274782,0.6969730049090725,1.0475814203934566,0.5543979365217246,0.35119823661352834,0.845668791367697,0.5419487007580377,0.7099400553216935,0.7925774176097233,0.362005916291025,0.26905661715478524,-0.07496188899593348,0.4778279414187314,0.8900494826599462,0.9554242215945664,0.8020702546373517,0.3070378118443826,0.5782431594059477,0.6802914684048382,0.22014663496661036,0.620007874584948,0.652429106182326,0.47318003300816647,0.5132682232532741,0.5541347158909175,0.3438253983680382,0.5781037279703365,0.32408255344047066,0.8974965346740852,0.7405821983699213,0.7073261403488684,0.6317323080410119,0.8985632702702658,0.8316820383795661,0.7534692679048212,0.8310788928952986,0.23046377406365814,0.9268773869561338,0.8929088916634673],\"type\":\"scatter\",\"xaxis\":\"x2\",\"yaxis\":\"y2\"}],                        {\"template\":{\"data\":{\"histogram2dcontour\":[{\"type\":\"histogram2dcontour\",\"colorbar\":{\"outlinewidth\":0,\"ticks\":\"\"},\"colorscale\":[[0.0,\"#0d0887\"],[0.1111111111111111,\"#46039f\"],[0.2222222222222222,\"#7201a8\"],[0.3333333333333333,\"#9c179e\"],[0.4444444444444444,\"#bd3786\"],[0.5555555555555556,\"#d8576b\"],[0.6666666666666666,\"#ed7953\"],[0.7777777777777778,\"#fb9f3a\"],[0.8888888888888888,\"#fdca26\"],[1.0,\"#f0f921\"]]}],\"choropleth\":[{\"type\":\"choropleth\",\"colorbar\":{\"outlinewidth\":0,\"ticks\":\"\"}}],\"histogram2d\":[{\"type\":\"histogram2d\",\"colorbar\":{\"outlinewidth\":0,\"ticks\":\"\"},\"colorscale\":[[0.0,\"#0d0887\"],[0.1111111111111111,\"#46039f\"],[0.2222222222222222,\"#7201a8\"],[0.3333333333333333,\"#9c179e\"],[0.4444444444444444,\"#bd3786\"],[0.5555555555555556,\"#d8576b\"],[0.6666666666666666,\"#ed7953\"],[0.7777777777777778,\"#fb9f3a\"],[0.8888888888888888,\"#fdca26\"],[1.0,\"#f0f921\"]]}],\"heatmap\":[{\"type\":\"heatmap\",\"colorbar\":{\"outlinewidth\":0,\"ticks\":\"\"},\"colorscale\":[[0.0,\"#0d0887\"],[0.1111111111111111,\"#46039f\"],[0.2222222222222222,\"#7201a8\"],[0.3333333333333333,\"#9c179e\"],[0.4444444444444444,\"#bd3786\"],[0.5555555555555556,\"#d8576b\"],[0.6666666666666666,\"#ed7953\"],[0.7777777777777778,\"#fb9f3a\"],[0.8888888888888888,\"#fdca26\"],[1.0,\"#f0f921\"]]}],\"heatmapgl\":[{\"type\":\"heatmapgl\",\"colorbar\":{\"outlinewidth\":0,\"ticks\":\"\"},\"colorscale\":[[0.0,\"#0d0887\"],[0.1111111111111111,\"#46039f\"],[0.2222222222222222,\"#7201a8\"],[0.3333333333333333,\"#9c179e\"],[0.4444444444444444,\"#bd3786\"],[0.5555555555555556,\"#d8576b\"],[0.6666666666666666,\"#ed7953\"],[0.7777777777777778,\"#fb9f3a\"],[0.8888888888888888,\"#fdca26\"],[1.0,\"#f0f921\"]]}],\"contourcarpet\":[{\"type\":\"contourcarpet\",\"colorbar\":{\"outlinewidth\":0,\"ticks\":\"\"}}],\"contour\":[{\"type\":\"contour\",\"colorbar\":{\"outlinewidth\":0,\"ticks\":\"\"},\"colorscale\":[[0.0,\"#0d0887\"],[0.1111111111111111,\"#46039f\"],[0.2222222222222222,\"#7201a8\"],[0.3333333333333333,\"#9c179e\"],[0.4444444444444444,\"#bd3786\"],[0.5555555555555556,\"#d8576b\"],[0.6666666666666666,\"#ed7953\"],[0.7777777777777778,\"#fb9f3a\"],[0.8888888888888888,\"#fdca26\"],[1.0,\"#f0f921\"]]}],\"surface\":[{\"type\":\"surface\",\"colorbar\":{\"outlinewidth\":0,\"ticks\":\"\"},\"colorscale\":[[0.0,\"#0d0887\"],[0.1111111111111111,\"#46039f\"],[0.2222222222222222,\"#7201a8\"],[0.3333333333333333,\"#9c179e\"],[0.4444444444444444,\"#bd3786\"],[0.5555555555555556,\"#d8576b\"],[0.6666666666666666,\"#ed7953\"],[0.7777777777777778,\"#fb9f3a\"],[0.8888888888888888,\"#fdca26\"],[1.0,\"#f0f921\"]]}],\"mesh3d\":[{\"type\":\"mesh3d\",\"colorbar\":{\"outlinewidth\":0,\"ticks\":\"\"}}],\"scatter\":[{\"fillpattern\":{\"fillmode\":\"overlay\",\"size\":10,\"solidity\":0.2},\"type\":\"scatter\"}],\"parcoords\":[{\"type\":\"parcoords\",\"line\":{\"colorbar\":{\"outlinewidth\":0,\"ticks\":\"\"}}}],\"scatterpolargl\":[{\"type\":\"scatterpolargl\",\"marker\":{\"colorbar\":{\"outlinewidth\":0,\"ticks\":\"\"}}}],\"bar\":[{\"error_x\":{\"color\":\"#2a3f5f\"},\"error_y\":{\"color\":\"#2a3f5f\"},\"marker\":{\"line\":{\"color\":\"#E5ECF6\",\"width\":0.5},\"pattern\":{\"fillmode\":\"overlay\",\"size\":10,\"solidity\":0.2}},\"type\":\"bar\"}],\"scattergeo\":[{\"type\":\"scattergeo\",\"marker\":{\"colorbar\":{\"outlinewidth\":0,\"ticks\":\"\"}}}],\"scatterpolar\":[{\"type\":\"scatterpolar\",\"marker\":{\"colorbar\":{\"outlinewidth\":0,\"ticks\":\"\"}}}],\"histogram\":[{\"marker\":{\"pattern\":{\"fillmode\":\"overlay\",\"size\":10,\"solidity\":0.2}},\"type\":\"histogram\"}],\"scattergl\":[{\"type\":\"scattergl\",\"marker\":{\"colorbar\":{\"outlinewidth\":0,\"ticks\":\"\"}}}],\"scatter3d\":[{\"type\":\"scatter3d\",\"line\":{\"colorbar\":{\"outlinewidth\":0,\"ticks\":\"\"}},\"marker\":{\"colorbar\":{\"outlinewidth\":0,\"ticks\":\"\"}}}],\"scattermapbox\":[{\"type\":\"scattermapbox\",\"marker\":{\"colorbar\":{\"outlinewidth\":0,\"ticks\":\"\"}}}],\"scatterternary\":[{\"type\":\"scatterternary\",\"marker\":{\"colorbar\":{\"outlinewidth\":0,\"ticks\":\"\"}}}],\"scattercarpet\":[{\"type\":\"scattercarpet\",\"marker\":{\"colorbar\":{\"outlinewidth\":0,\"ticks\":\"\"}}}],\"carpet\":[{\"aaxis\":{\"endlinecolor\":\"#2a3f5f\",\"gridcolor\":\"white\",\"linecolor\":\"white\",\"minorgridcolor\":\"white\",\"startlinecolor\":\"#2a3f5f\"},\"baxis\":{\"endlinecolor\":\"#2a3f5f\",\"gridcolor\":\"white\",\"linecolor\":\"white\",\"minorgridcolor\":\"white\",\"startlinecolor\":\"#2a3f5f\"},\"type\":\"carpet\"}],\"table\":[{\"cells\":{\"fill\":{\"color\":\"#EBF0F8\"},\"line\":{\"color\":\"white\"}},\"header\":{\"fill\":{\"color\":\"#C8D4E3\"},\"line\":{\"color\":\"white\"}},\"type\":\"table\"}],\"barpolar\":[{\"marker\":{\"line\":{\"color\":\"#E5ECF6\",\"width\":0.5},\"pattern\":{\"fillmode\":\"overlay\",\"size\":10,\"solidity\":0.2}},\"type\":\"barpolar\"}],\"pie\":[{\"automargin\":true,\"type\":\"pie\"}]},\"layout\":{\"autotypenumbers\":\"strict\",\"colorway\":[\"#636efa\",\"#EF553B\",\"#00cc96\",\"#ab63fa\",\"#FFA15A\",\"#19d3f3\",\"#FF6692\",\"#B6E880\",\"#FF97FF\",\"#FECB52\"],\"font\":{\"color\":\"#2a3f5f\"},\"hovermode\":\"closest\",\"hoverlabel\":{\"align\":\"left\"},\"paper_bgcolor\":\"white\",\"plot_bgcolor\":\"#E5ECF6\",\"polar\":{\"bgcolor\":\"#E5ECF6\",\"angularaxis\":{\"gridcolor\":\"white\",\"linecolor\":\"white\",\"ticks\":\"\"},\"radialaxis\":{\"gridcolor\":\"white\",\"linecolor\":\"white\",\"ticks\":\"\"}},\"ternary\":{\"bgcolor\":\"#E5ECF6\",\"aaxis\":{\"gridcolor\":\"white\",\"linecolor\":\"white\",\"ticks\":\"\"},\"baxis\":{\"gridcolor\":\"white\",\"linecolor\":\"white\",\"ticks\":\"\"},\"caxis\":{\"gridcolor\":\"white\",\"linecolor\":\"white\",\"ticks\":\"\"}},\"coloraxis\":{\"colorbar\":{\"outlinewidth\":0,\"ticks\":\"\"}},\"colorscale\":{\"sequential\":[[0.0,\"#0d0887\"],[0.1111111111111111,\"#46039f\"],[0.2222222222222222,\"#7201a8\"],[0.3333333333333333,\"#9c179e\"],[0.4444444444444444,\"#bd3786\"],[0.5555555555555556,\"#d8576b\"],[0.6666666666666666,\"#ed7953\"],[0.7777777777777778,\"#fb9f3a\"],[0.8888888888888888,\"#fdca26\"],[1.0,\"#f0f921\"]],\"sequentialminus\":[[0.0,\"#0d0887\"],[0.1111111111111111,\"#46039f\"],[0.2222222222222222,\"#7201a8\"],[0.3333333333333333,\"#9c179e\"],[0.4444444444444444,\"#bd3786\"],[0.5555555555555556,\"#d8576b\"],[0.6666666666666666,\"#ed7953\"],[0.7777777777777778,\"#fb9f3a\"],[0.8888888888888888,\"#fdca26\"],[1.0,\"#f0f921\"]],\"diverging\":[[0,\"#8e0152\"],[0.1,\"#c51b7d\"],[0.2,\"#de77ae\"],[0.3,\"#f1b6da\"],[0.4,\"#fde0ef\"],[0.5,\"#f7f7f7\"],[0.6,\"#e6f5d0\"],[0.7,\"#b8e186\"],[0.8,\"#7fbc41\"],[0.9,\"#4d9221\"],[1,\"#276419\"]]},\"xaxis\":{\"gridcolor\":\"white\",\"linecolor\":\"white\",\"ticks\":\"\",\"title\":{\"standoff\":15},\"zerolinecolor\":\"white\",\"automargin\":true,\"zerolinewidth\":2},\"yaxis\":{\"gridcolor\":\"white\",\"linecolor\":\"white\",\"ticks\":\"\",\"title\":{\"standoff\":15},\"zerolinecolor\":\"white\",\"automargin\":true,\"zerolinewidth\":2},\"scene\":{\"xaxis\":{\"backgroundcolor\":\"#E5ECF6\",\"gridcolor\":\"white\",\"linecolor\":\"white\",\"showbackground\":true,\"ticks\":\"\",\"zerolinecolor\":\"white\",\"gridwidth\":2},\"yaxis\":{\"backgroundcolor\":\"#E5ECF6\",\"gridcolor\":\"white\",\"linecolor\":\"white\",\"showbackground\":true,\"ticks\":\"\",\"zerolinecolor\":\"white\",\"gridwidth\":2},\"zaxis\":{\"backgroundcolor\":\"#E5ECF6\",\"gridcolor\":\"white\",\"linecolor\":\"white\",\"showbackground\":true,\"ticks\":\"\",\"zerolinecolor\":\"white\",\"gridwidth\":2}},\"shapedefaults\":{\"line\":{\"color\":\"#2a3f5f\"}},\"annotationdefaults\":{\"arrowcolor\":\"#2a3f5f\",\"arrowhead\":0,\"arrowwidth\":1},\"geo\":{\"bgcolor\":\"white\",\"landcolor\":\"#E5ECF6\",\"subunitcolor\":\"white\",\"showland\":true,\"showlakes\":true,\"lakecolor\":\"white\"},\"title\":{\"x\":0.05},\"mapbox\":{\"style\":\"light\"}}},\"xaxis\":{\"anchor\":\"y\",\"domain\":[0.0,0.45]},\"yaxis\":{\"anchor\":\"x\",\"domain\":[0.0,1.0]},\"xaxis2\":{\"anchor\":\"y2\",\"domain\":[0.55,1.0]},\"yaxis2\":{\"anchor\":\"x2\",\"domain\":[0.0,1.0]},\"annotations\":[{\"font\":{\"size\":16},\"showarrow\":false,\"text\":\"Train Set <br> R^2 = 0.918 <br> Abs RMSE = 0.11 <br> Rel RMSE = 0.287\",\"x\":0.225,\"xanchor\":\"center\",\"xref\":\"paper\",\"y\":1.0,\"yanchor\":\"bottom\",\"yref\":\"paper\"},{\"font\":{\"size\":16},\"showarrow\":false,\"text\":\"Test Set <br> R^2 = 0.872 <br> Abs RMSE = 0.09 <br> Rel RMSE = 0.357\",\"x\":0.775,\"xanchor\":\"center\",\"xref\":\"paper\",\"y\":1.0,\"yanchor\":\"bottom\",\"yref\":\"paper\"}],\"shapes\":[{\"layer\":\"below\",\"line\":{\"dash\":\"dash\"},\"type\":\"line\",\"x0\":-0.33241514090880386,\"x1\":1.4385928691667627,\"y0\":-0.33241514090880386,\"y1\":1.4385928691667627},{\"layer\":\"below\",\"line\":{\"dash\":\"dash\"},\"type\":\"line\",\"x0\":-0.2511853430490083,\"x1\":1.0475814203934566,\"xref\":\"x2\",\"y0\":-0.2511853430490083,\"y1\":1.0475814203934566,\"yref\":\"y2\"}],\"title\":{\"text\":\"Observed vs Predicted\"},\"showlegend\":false},                        {\"responsive\": true}                    ).then(function(){\n",
              "                            \n",
              "var gd = document.getElementById('99c9ee6f-4a4a-4680-aee7-421dc33206a2');\n",
              "var x = new MutationObserver(function (mutations, observer) {{\n",
              "        var display = window.getComputedStyle(gd).display;\n",
              "        if (!display || display === 'none') {{\n",
              "            console.log([gd, 'removed!']);\n",
              "            Plotly.purge(gd);\n",
              "            observer.disconnect();\n",
              "        }}\n",
              "}});\n",
              "\n",
              "// Listen for the removal of the full notebook cells\n",
              "var notebookContainer = gd.closest('#notebook-container');\n",
              "if (notebookContainer) {{\n",
              "    x.observe(notebookContainer, {childList: true});\n",
              "}}\n",
              "\n",
              "// Listen for the clearing of the current output cell\n",
              "var outputEl = gd.closest('.output');\n",
              "if (outputEl) {{\n",
              "    x.observe(outputEl, {childList: true});\n",
              "}}\n",
              "\n",
              "                        })                };                            </script>        </div>\n",
              "</body>\n",
              "</html>"
            ]
          },
          "metadata": {}
        }
      ]
    },
    {
      "cell_type": "code",
      "source": [
        "#Comparison between learning scenarios\n",
        "fig = go.Figure([go.Bar(x=[\"Single Task B\", \"TL Tasks A & B without OHE\", \"TL Tasks A & B with OHE\"], y=[scen_1, scen_2, scen_3], text=[scen_1, scen_2, scen_3],textposition='auto',)])\n",
        "fig.update_layout(yaxis=dict(title='Relative RMSE'))\n",
        "fig.show()"
      ],
      "metadata": {
        "colab": {
          "base_uri": "https://localhost:8080/",
          "height": 542
        },
        "id": "bRUaXCuvBiyk",
        "outputId": "5a9a3c88-a394-4cc0-c03e-5a84b508bd82"
      },
      "execution_count": 91,
      "outputs": [
        {
          "output_type": "display_data",
          "data": {
            "text/html": [
              "<html>\n",
              "<head><meta charset=\"utf-8\" /></head>\n",
              "<body>\n",
              "    <div>            <script src=\"https://cdnjs.cloudflare.com/ajax/libs/mathjax/2.7.5/MathJax.js?config=TeX-AMS-MML_SVG\"></script><script type=\"text/javascript\">if (window.MathJax && window.MathJax.Hub && window.MathJax.Hub.Config) {window.MathJax.Hub.Config({SVG: {font: \"STIX-Web\"}});}</script>                <script type=\"text/javascript\">window.PlotlyConfig = {MathJaxConfig: 'local'};</script>\n",
              "        <script src=\"https://cdn.plot.ly/plotly-2.18.2.min.js\"></script>                <div id=\"e97f93df-c04f-48e4-8eaf-7daec620abb1\" class=\"plotly-graph-div\" style=\"height:525px; width:100%;\"></div>            <script type=\"text/javascript\">                                    window.PLOTLYENV=window.PLOTLYENV || {};                                    if (document.getElementById(\"e97f93df-c04f-48e4-8eaf-7daec620abb1\")) {                    Plotly.newPlot(                        \"e97f93df-c04f-48e4-8eaf-7daec620abb1\",                        [{\"text\":[\"0.729\",\"0.431\",\"0.357\"],\"textposition\":\"auto\",\"x\":[\"Single Task B\",\"TL Tasks A & B without OHE\",\"TL Tasks A & B with OHE\"],\"y\":[0.729,0.431,0.357],\"type\":\"bar\"}],                        {\"template\":{\"data\":{\"histogram2dcontour\":[{\"type\":\"histogram2dcontour\",\"colorbar\":{\"outlinewidth\":0,\"ticks\":\"\"},\"colorscale\":[[0.0,\"#0d0887\"],[0.1111111111111111,\"#46039f\"],[0.2222222222222222,\"#7201a8\"],[0.3333333333333333,\"#9c179e\"],[0.4444444444444444,\"#bd3786\"],[0.5555555555555556,\"#d8576b\"],[0.6666666666666666,\"#ed7953\"],[0.7777777777777778,\"#fb9f3a\"],[0.8888888888888888,\"#fdca26\"],[1.0,\"#f0f921\"]]}],\"choropleth\":[{\"type\":\"choropleth\",\"colorbar\":{\"outlinewidth\":0,\"ticks\":\"\"}}],\"histogram2d\":[{\"type\":\"histogram2d\",\"colorbar\":{\"outlinewidth\":0,\"ticks\":\"\"},\"colorscale\":[[0.0,\"#0d0887\"],[0.1111111111111111,\"#46039f\"],[0.2222222222222222,\"#7201a8\"],[0.3333333333333333,\"#9c179e\"],[0.4444444444444444,\"#bd3786\"],[0.5555555555555556,\"#d8576b\"],[0.6666666666666666,\"#ed7953\"],[0.7777777777777778,\"#fb9f3a\"],[0.8888888888888888,\"#fdca26\"],[1.0,\"#f0f921\"]]}],\"heatmap\":[{\"type\":\"heatmap\",\"colorbar\":{\"outlinewidth\":0,\"ticks\":\"\"},\"colorscale\":[[0.0,\"#0d0887\"],[0.1111111111111111,\"#46039f\"],[0.2222222222222222,\"#7201a8\"],[0.3333333333333333,\"#9c179e\"],[0.4444444444444444,\"#bd3786\"],[0.5555555555555556,\"#d8576b\"],[0.6666666666666666,\"#ed7953\"],[0.7777777777777778,\"#fb9f3a\"],[0.8888888888888888,\"#fdca26\"],[1.0,\"#f0f921\"]]}],\"heatmapgl\":[{\"type\":\"heatmapgl\",\"colorbar\":{\"outlinewidth\":0,\"ticks\":\"\"},\"colorscale\":[[0.0,\"#0d0887\"],[0.1111111111111111,\"#46039f\"],[0.2222222222222222,\"#7201a8\"],[0.3333333333333333,\"#9c179e\"],[0.4444444444444444,\"#bd3786\"],[0.5555555555555556,\"#d8576b\"],[0.6666666666666666,\"#ed7953\"],[0.7777777777777778,\"#fb9f3a\"],[0.8888888888888888,\"#fdca26\"],[1.0,\"#f0f921\"]]}],\"contourcarpet\":[{\"type\":\"contourcarpet\",\"colorbar\":{\"outlinewidth\":0,\"ticks\":\"\"}}],\"contour\":[{\"type\":\"contour\",\"colorbar\":{\"outlinewidth\":0,\"ticks\":\"\"},\"colorscale\":[[0.0,\"#0d0887\"],[0.1111111111111111,\"#46039f\"],[0.2222222222222222,\"#7201a8\"],[0.3333333333333333,\"#9c179e\"],[0.4444444444444444,\"#bd3786\"],[0.5555555555555556,\"#d8576b\"],[0.6666666666666666,\"#ed7953\"],[0.7777777777777778,\"#fb9f3a\"],[0.8888888888888888,\"#fdca26\"],[1.0,\"#f0f921\"]]}],\"surface\":[{\"type\":\"surface\",\"colorbar\":{\"outlinewidth\":0,\"ticks\":\"\"},\"colorscale\":[[0.0,\"#0d0887\"],[0.1111111111111111,\"#46039f\"],[0.2222222222222222,\"#7201a8\"],[0.3333333333333333,\"#9c179e\"],[0.4444444444444444,\"#bd3786\"],[0.5555555555555556,\"#d8576b\"],[0.6666666666666666,\"#ed7953\"],[0.7777777777777778,\"#fb9f3a\"],[0.8888888888888888,\"#fdca26\"],[1.0,\"#f0f921\"]]}],\"mesh3d\":[{\"type\":\"mesh3d\",\"colorbar\":{\"outlinewidth\":0,\"ticks\":\"\"}}],\"scatter\":[{\"fillpattern\":{\"fillmode\":\"overlay\",\"size\":10,\"solidity\":0.2},\"type\":\"scatter\"}],\"parcoords\":[{\"type\":\"parcoords\",\"line\":{\"colorbar\":{\"outlinewidth\":0,\"ticks\":\"\"}}}],\"scatterpolargl\":[{\"type\":\"scatterpolargl\",\"marker\":{\"colorbar\":{\"outlinewidth\":0,\"ticks\":\"\"}}}],\"bar\":[{\"error_x\":{\"color\":\"#2a3f5f\"},\"error_y\":{\"color\":\"#2a3f5f\"},\"marker\":{\"line\":{\"color\":\"#E5ECF6\",\"width\":0.5},\"pattern\":{\"fillmode\":\"overlay\",\"size\":10,\"solidity\":0.2}},\"type\":\"bar\"}],\"scattergeo\":[{\"type\":\"scattergeo\",\"marker\":{\"colorbar\":{\"outlinewidth\":0,\"ticks\":\"\"}}}],\"scatterpolar\":[{\"type\":\"scatterpolar\",\"marker\":{\"colorbar\":{\"outlinewidth\":0,\"ticks\":\"\"}}}],\"histogram\":[{\"marker\":{\"pattern\":{\"fillmode\":\"overlay\",\"size\":10,\"solidity\":0.2}},\"type\":\"histogram\"}],\"scattergl\":[{\"type\":\"scattergl\",\"marker\":{\"colorbar\":{\"outlinewidth\":0,\"ticks\":\"\"}}}],\"scatter3d\":[{\"type\":\"scatter3d\",\"line\":{\"colorbar\":{\"outlinewidth\":0,\"ticks\":\"\"}},\"marker\":{\"colorbar\":{\"outlinewidth\":0,\"ticks\":\"\"}}}],\"scattermapbox\":[{\"type\":\"scattermapbox\",\"marker\":{\"colorbar\":{\"outlinewidth\":0,\"ticks\":\"\"}}}],\"scatterternary\":[{\"type\":\"scatterternary\",\"marker\":{\"colorbar\":{\"outlinewidth\":0,\"ticks\":\"\"}}}],\"scattercarpet\":[{\"type\":\"scattercarpet\",\"marker\":{\"colorbar\":{\"outlinewidth\":0,\"ticks\":\"\"}}}],\"carpet\":[{\"aaxis\":{\"endlinecolor\":\"#2a3f5f\",\"gridcolor\":\"white\",\"linecolor\":\"white\",\"minorgridcolor\":\"white\",\"startlinecolor\":\"#2a3f5f\"},\"baxis\":{\"endlinecolor\":\"#2a3f5f\",\"gridcolor\":\"white\",\"linecolor\":\"white\",\"minorgridcolor\":\"white\",\"startlinecolor\":\"#2a3f5f\"},\"type\":\"carpet\"}],\"table\":[{\"cells\":{\"fill\":{\"color\":\"#EBF0F8\"},\"line\":{\"color\":\"white\"}},\"header\":{\"fill\":{\"color\":\"#C8D4E3\"},\"line\":{\"color\":\"white\"}},\"type\":\"table\"}],\"barpolar\":[{\"marker\":{\"line\":{\"color\":\"#E5ECF6\",\"width\":0.5},\"pattern\":{\"fillmode\":\"overlay\",\"size\":10,\"solidity\":0.2}},\"type\":\"barpolar\"}],\"pie\":[{\"automargin\":true,\"type\":\"pie\"}]},\"layout\":{\"autotypenumbers\":\"strict\",\"colorway\":[\"#636efa\",\"#EF553B\",\"#00cc96\",\"#ab63fa\",\"#FFA15A\",\"#19d3f3\",\"#FF6692\",\"#B6E880\",\"#FF97FF\",\"#FECB52\"],\"font\":{\"color\":\"#2a3f5f\"},\"hovermode\":\"closest\",\"hoverlabel\":{\"align\":\"left\"},\"paper_bgcolor\":\"white\",\"plot_bgcolor\":\"#E5ECF6\",\"polar\":{\"bgcolor\":\"#E5ECF6\",\"angularaxis\":{\"gridcolor\":\"white\",\"linecolor\":\"white\",\"ticks\":\"\"},\"radialaxis\":{\"gridcolor\":\"white\",\"linecolor\":\"white\",\"ticks\":\"\"}},\"ternary\":{\"bgcolor\":\"#E5ECF6\",\"aaxis\":{\"gridcolor\":\"white\",\"linecolor\":\"white\",\"ticks\":\"\"},\"baxis\":{\"gridcolor\":\"white\",\"linecolor\":\"white\",\"ticks\":\"\"},\"caxis\":{\"gridcolor\":\"white\",\"linecolor\":\"white\",\"ticks\":\"\"}},\"coloraxis\":{\"colorbar\":{\"outlinewidth\":0,\"ticks\":\"\"}},\"colorscale\":{\"sequential\":[[0.0,\"#0d0887\"],[0.1111111111111111,\"#46039f\"],[0.2222222222222222,\"#7201a8\"],[0.3333333333333333,\"#9c179e\"],[0.4444444444444444,\"#bd3786\"],[0.5555555555555556,\"#d8576b\"],[0.6666666666666666,\"#ed7953\"],[0.7777777777777778,\"#fb9f3a\"],[0.8888888888888888,\"#fdca26\"],[1.0,\"#f0f921\"]],\"sequentialminus\":[[0.0,\"#0d0887\"],[0.1111111111111111,\"#46039f\"],[0.2222222222222222,\"#7201a8\"],[0.3333333333333333,\"#9c179e\"],[0.4444444444444444,\"#bd3786\"],[0.5555555555555556,\"#d8576b\"],[0.6666666666666666,\"#ed7953\"],[0.7777777777777778,\"#fb9f3a\"],[0.8888888888888888,\"#fdca26\"],[1.0,\"#f0f921\"]],\"diverging\":[[0,\"#8e0152\"],[0.1,\"#c51b7d\"],[0.2,\"#de77ae\"],[0.3,\"#f1b6da\"],[0.4,\"#fde0ef\"],[0.5,\"#f7f7f7\"],[0.6,\"#e6f5d0\"],[0.7,\"#b8e186\"],[0.8,\"#7fbc41\"],[0.9,\"#4d9221\"],[1,\"#276419\"]]},\"xaxis\":{\"gridcolor\":\"white\",\"linecolor\":\"white\",\"ticks\":\"\",\"title\":{\"standoff\":15},\"zerolinecolor\":\"white\",\"automargin\":true,\"zerolinewidth\":2},\"yaxis\":{\"gridcolor\":\"white\",\"linecolor\":\"white\",\"ticks\":\"\",\"title\":{\"standoff\":15},\"zerolinecolor\":\"white\",\"automargin\":true,\"zerolinewidth\":2},\"scene\":{\"xaxis\":{\"backgroundcolor\":\"#E5ECF6\",\"gridcolor\":\"white\",\"linecolor\":\"white\",\"showbackground\":true,\"ticks\":\"\",\"zerolinecolor\":\"white\",\"gridwidth\":2},\"yaxis\":{\"backgroundcolor\":\"#E5ECF6\",\"gridcolor\":\"white\",\"linecolor\":\"white\",\"showbackground\":true,\"ticks\":\"\",\"zerolinecolor\":\"white\",\"gridwidth\":2},\"zaxis\":{\"backgroundcolor\":\"#E5ECF6\",\"gridcolor\":\"white\",\"linecolor\":\"white\",\"showbackground\":true,\"ticks\":\"\",\"zerolinecolor\":\"white\",\"gridwidth\":2}},\"shapedefaults\":{\"line\":{\"color\":\"#2a3f5f\"}},\"annotationdefaults\":{\"arrowcolor\":\"#2a3f5f\",\"arrowhead\":0,\"arrowwidth\":1},\"geo\":{\"bgcolor\":\"white\",\"landcolor\":\"#E5ECF6\",\"subunitcolor\":\"white\",\"showland\":true,\"showlakes\":true,\"lakecolor\":\"white\"},\"title\":{\"x\":0.05},\"mapbox\":{\"style\":\"light\"}}},\"yaxis\":{\"title\":{\"text\":\"Relative RMSE\"}}},                        {\"responsive\": true}                    ).then(function(){\n",
              "                            \n",
              "var gd = document.getElementById('e97f93df-c04f-48e4-8eaf-7daec620abb1');\n",
              "var x = new MutationObserver(function (mutations, observer) {{\n",
              "        var display = window.getComputedStyle(gd).display;\n",
              "        if (!display || display === 'none') {{\n",
              "            console.log([gd, 'removed!']);\n",
              "            Plotly.purge(gd);\n",
              "            observer.disconnect();\n",
              "        }}\n",
              "}});\n",
              "\n",
              "// Listen for the removal of the full notebook cells\n",
              "var notebookContainer = gd.closest('#notebook-container');\n",
              "if (notebookContainer) {{\n",
              "    x.observe(notebookContainer, {childList: true});\n",
              "}}\n",
              "\n",
              "// Listen for the clearing of the current output cell\n",
              "var outputEl = gd.closest('.output');\n",
              "if (outputEl) {{\n",
              "    x.observe(outputEl, {childList: true});\n",
              "}}\n",
              "\n",
              "                        })                };                            </script>        </div>\n",
              "</body>\n",
              "</html>"
            ]
          },
          "metadata": {}
        }
      ]
    },
    {
      "cell_type": "code",
      "source": [],
      "metadata": {
        "id": "I5kYaLwUBobh"
      },
      "execution_count": 91,
      "outputs": []
    }
  ]
}