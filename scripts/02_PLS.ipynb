{
  "nbformat": 4,
  "nbformat_minor": 0,
  "metadata": {
    "colab": {
      "name": "02_PLS",
      "provenance": [],
      "toc_visible": true
    },
    "kernelspec": {
      "name": "python3",
      "display_name": "Python 3"
    },
    "language_info": {
      "name": "python"
    }
  },
  "cells": [
    {
      "cell_type": "markdown",
      "source": [
        "# Setup of Noteboook\n",
        "\n",
        "The follwing code clones the github repository with course files. \n",
        "Subsequently it imports all libraries and custom modules needed for this notebook"
      ],
      "metadata": {
        "id": "3K4Flq2pqV8q"
      }
    },
    {
      "cell_type": "code",
      "source": [
        "!git clone https://github.com/DataHow/analytics-course-scripts.git"
      ],
      "metadata": {
        "id": "Hw07wkwbqW43",
        "colab": {
          "base_uri": "https://localhost:8080/"
        },
        "outputId": "26326613-319c-4b29-8bf7-9840858e5174"
      },
      "execution_count": 1,
      "outputs": [
        {
          "output_type": "stream",
          "name": "stdout",
          "text": [
            "Cloning into 'analytics-course-scripts'...\n",
            "remote: Enumerating objects: 332, done.\u001b[K\n",
            "remote: Counting objects: 100% (96/96), done.\u001b[K\n",
            "remote: Compressing objects: 100% (67/67), done.\u001b[K\n",
            "remote: Total 332 (delta 60), reused 63 (delta 29), pack-reused 236\u001b[K\n",
            "Receiving objects: 100% (332/332), 5.35 MiB | 10.05 MiB/s, done.\n",
            "Resolving deltas: 100% (194/194), done.\n"
          ]
        }
      ]
    },
    {
      "cell_type": "code",
      "source": [
        "# import libaries\n",
        "import pandas as pd\n",
        "import numpy as np\n",
        "import scipy\n",
        "import copy\n",
        "import importlib  \n",
        "import scipy.integrate\n",
        "import scipy.stats as stats\n",
        "import plotly.express as px\n",
        "import plotly.graph_objects as go\n",
        "from plotly.subplots import make_subplots\n",
        "import statsmodels.api as sm\n",
        "from sklearn.pipeline import Pipeline, FeatureUnion\n",
        "from sklearn.preprocessing import StandardScaler, PolynomialFeatures\n",
        "from sklearn.feature_selection import RFE, VarianceThreshold\n",
        "from sklearn.linear_model import LinearRegression\n",
        "from sklearn.cross_decomposition import PLSRegression\n",
        "from sklearn.model_selection import GridSearchCV, validation_curve\n",
        "from sklearn.metrics import mean_squared_error\n",
        "import warnings\n",
        "warnings.filterwarnings(\"ignore\")\n",
        "\n",
        "# import custom modules\n",
        "simulator = importlib.import_module(\"analytics-course-scripts.scripts.modules.simulator\")\n",
        "modelhelpers = importlib.import_module(\"analytics-course-scripts.scripts.modules.modelhelpers\")"
      ],
      "metadata": {
        "id": "QbesfOWUqYmG"
      },
      "execution_count": 528,
      "outputs": []
    },
    {
      "cell_type": "markdown",
      "source": [
        "# Import or Generate Dataset\n",
        "\n",
        "In the beginning of each notebook you can make a decision whether you run the notebooks with already pre-generated runs which will be just imported or you will generate your own doe dataset from insilico model. For further information about the process emulator for cell culture fed-batch processes, check the script \"00_Process_Characterization.ipynb\" or the Powerpoint presentation \"Simplified InSilico Model.pptx\".\n",
        "\n",
        "* For dataset import set `select_dataset_source = \"import\"`.\n",
        "* For generating data set `select_dataset_source = \"generate\"`.\n",
        "\n",
        "For first time running the notebook, we recommend choosing the \"import\" option.\n",
        "\n",
        " "
      ],
      "metadata": {
        "id": "O05GdQIHW-TM"
      }
    },
    {
      "cell_type": "code",
      "source": [
        "\"\"\" Select dataset source, one of (import, generate) \"\"\"\n",
        "DATASET_SOURCE = \"import\""
      ],
      "metadata": {
        "id": "mkFlmeIaW_In"
      },
      "execution_count": 3,
      "outputs": []
    },
    {
      "cell_type": "code",
      "source": [
        "if DATASET_SOURCE == \"import\":\n",
        "    # Define filename to import\n",
        "    FILENAME = \"owu.csv\"\n",
        "    FILEPATH = \"/content/analytics-course-scripts/scripts/datasets/\"\n",
        "    # Import OWU data\n",
        "    doe = pd.read_csv(FILEPATH+FILENAME.replace(\".csv\",\"_doe.csv\"),index_col=None, usecols =[\"feed_start\",\"feed_end\",\"Glc_feed_rate\",\"Glc_0\",\"VCD_0\"])\n",
        "    owu = pd.read_csv(FILEPATH+FILENAME,index_col=None, usecols = [\"X:VCD\", \"X:Glc\", \"X:Lac\", \"X:Titer\",\"W:Feed\"])\n",
        "    owu.index = pd.MultiIndex.from_product([list(range(int(len(owu)/15))),list(range(15))], names=[\"run\",\"time\"])\n",
        "    # Import OWU Test data\n",
        "    FILENAME = \"owu_test.csv\"\n",
        "    doe_test = pd.read_csv(FILEPATH+FILENAME.replace(\".csv\",\"_doe.csv\"),index_col=None, usecols =[\"feed_start\",\"feed_end\",\"Glc_feed_rate\",\"Glc_0\",\"VCD_0\"])\n",
        "    owu_test = pd.read_csv(FILEPATH+FILENAME,index_col=None, usecols = [\"X:VCD\", \"X:Glc\", \"X:Lac\", \"X:Titer\",\"W:Feed\"])\n",
        "    owu_test.index = pd.MultiIndex.from_product([list(range(int(len(owu)/15))),list(range(15))], names=[\"run\",\"time\"])"
      ],
      "metadata": {
        "id": "SG1_Y3_-XA-a"
      },
      "execution_count": 4,
      "outputs": []
    },
    {
      "cell_type": "code",
      "source": [
        "if DATASET_SOURCE == \"generate\":\n",
        "    # DOE Dataset definition (variable = [lower bound, upper bound]) \n",
        "    # Model parameters: Dictate the behaviour of the cell process\n",
        "    MU_G_MAX = 0.05;\n",
        "    MU_D_MAX = 0.025;\n",
        "    K_G_GLC  = 1;\n",
        "    K_I_LAC  = 30;\n",
        "    K_D_LAC  = 50;\n",
        "    K_GLC    = 0.04;\n",
        "    K_LAC    = 0.06;\n",
        "    K_PROD   = 1;\n",
        "    # Process parameters: Conditions at which process is run\n",
        "    FEED_START = [1, 4]\n",
        "    FEED_END = [8, 12]\n",
        "    GLC_FEED_RATE = [5, 20]\n",
        "    GLC_0 = [10, 80.0]\n",
        "    VCD_0 = [0.1, 1.0]\n",
        "    # Number of experiments to generate\n",
        "    NUM_RUNS = 40\n",
        "    # Filename and filepath for the dataset \n",
        "    FILENAME = \"owu.csv\"\n",
        "    FILEPATH = \"/content/\"\n",
        "    # Collect parameters to dictionary\n",
        "    VAR_LIMS = {\"mu_g_max\":MU_G_MAX, \"mu_d_max\": MU_D_MAX, \"K_g_Glc\" : K_G_GLC, \"K_I_Lac\" : K_I_LAC, \"K_d_Lac\" : K_D_LAC, \"k_Glc\" : K_GLC, \"k_Lac\" : K_LAC, \"k_Prod\" : K_PROD,\n",
        "        \"feed_start\" : FEED_START,\"feed_end\" : FEED_END, \"Glc_feed_rate\" : GLC_FEED_RATE, \"Glc_0\" : GLC_0, \"VCD_0\" : VCD_0}\n",
        "    # Generate Dataset\n",
        "    data = simulator.generate_data(VAR_LIMS, NUM_RUNS, FILENAME)\n",
        "    # Import DOE\n",
        "    doe = pd.read_csv(FILEPATH+FILENAME.replace(\".csv\",\"_doe.csv\"),index_col=None, usecols =[\"feed_start\",\"feed_end\",\"Glc_feed_rate\",\"Glc_0\",\"VCD_0\"])\n",
        "    # Import OWU\n",
        "    owu = pd.read_csv(FILEPATH+FILENAME,index_col=None, usecols = [\"X:VCD\", \"X:Glc\", \"X:Lac\", \"X:Titer\",\"W:Feed\"])\n",
        "    owu.index = pd.MultiIndex.from_product([list(range(NUM_RUNS)),list(range(15))], names=[\"run\",\"time\"])"
      ],
      "metadata": {
        "id": "ST074EQUXCar"
      },
      "execution_count": 5,
      "outputs": []
    },
    {
      "cell_type": "markdown",
      "source": [
        "# Regression Modelling\n",
        "\n",
        "In this section, we first load / import the train and test experiments that were created in the Process_Characterization script. Alternatively you can generate your own training data using generate option. \n",
        "\n",
        "These experimental data will be used to create models with the aim of predicting the final titer. \n",
        "\n",
        "Several different types of models will be considered.\n",
        "* *Initial Conditions Model*: takes only the process condition and initial conditions as inputs. Black box type model, which disregards the process behaviour and consideres only outcome.\n",
        "* *Historical Model*: takes full process history into account as inputs. This model however needs to be able to handle high-dimensional & colinear data."
      ],
      "metadata": {
        "id": "_F7ck0Hl8rqw"
      }
    },
    {
      "cell_type": "markdown",
      "source": [
        "# Initial Conditions Models\n",
        "\n",
        "From OWU train and test dataset we create BWU data, DOE data and Target data.\n",
        "DOE data contains the inditial parameter conditions (or Z variable) for the experiments.\n",
        "Target data contain just the final values of Titer at day 14 (or Aggregates)."
      ],
      "metadata": {
        "id": "J-chgbGTTl4P"
      }
    },
    {
      "cell_type": "code",
      "source": [
        "# Train set\n",
        "bwu = simulator.generate_bwu(owu)\n",
        "tar = simulator.generate_y(bwu,return_aggr=False)\n",
        "# Test set\n",
        "bwu_test = simulator.generate_bwu(owu_test)\n",
        "tar_test = simulator.generate_y(bwu_test,return_aggr=False)"
      ],
      "metadata": {
        "id": "ku0WUSTxX49x"
      },
      "execution_count": 6,
      "outputs": []
    },
    {
      "cell_type": "code",
      "source": [
        "# Visualize input data and output data\n",
        "dataset = copy.copy(doe) # inputs\n",
        "dataset[\"Target\"] = tar # outputs\n",
        "dataset"
      ],
      "metadata": {
        "id": "1zz_u_Ffr34Z",
        "outputId": "360c7722-6ce3-414b-a696-c20806bac274",
        "colab": {
          "base_uri": "https://localhost:8080/",
          "height": 1000
        }
      },
      "execution_count": 7,
      "outputs": [
        {
          "output_type": "execute_result",
          "data": {
            "text/plain": [
              "    feed_start   feed_end  Glc_feed_rate      Glc_0     VCD_0       Target\n",
              "0     2.500000  10.000000      12.500000  45.000000  0.550000  1565.310032\n",
              "1     1.948980  10.244898      18.622449  40.714286  0.274490   854.449233\n",
              "2     3.295918   9.346939      14.642857  17.857143  0.127551  1206.096655\n",
              "3     3.479592   9.020408      15.561224  47.857143  0.843878  1587.937536\n",
              "4     1.459184   9.591837       7.295918  33.571429  0.421429    811.55299\n",
              "5     3.418367   9.265306       8.214286  45.000000  0.403061   841.498708\n",
              "6     1.153061   8.448980      17.091837  67.857143  0.862245    645.86524\n",
              "7     2.438776   8.122449      14.336735  10.714286  0.898980    978.32119\n",
              "8     2.744898  11.551020       9.132653  27.857143  0.292857  1026.259363\n",
              "9     2.316327   9.183673       5.459184  75.000000  0.256122  1307.342791\n",
              "10    2.071429   9.918367      10.051020  25.000000  0.550000  1034.087373\n",
              "11    3.112245  10.897959       5.765306  66.428571  0.311224  1268.377214\n",
              "12    3.602041  10.163265      10.663265  53.571429  0.641837  1489.927482\n",
              "13    1.030612  11.224490      12.806122  43.571429  0.807143  1519.991505\n",
              "14    1.214286   9.755102      11.581633  62.142857  0.880612  1329.314397\n",
              "15    3.969388  11.387755      13.112245  36.428571  0.458163  1431.024892\n",
              "16    3.908163  10.979592      14.030612  55.000000  0.531633  1566.214415\n",
              "17    1.887755  11.795918      18.928571  13.571429  0.586735  1438.450932\n",
              "18    2.867347   8.040816      12.193878  23.571429  0.660204   829.922168\n",
              "19    2.255102   9.428571      17.704082  77.857143  0.825510   705.006062\n",
              "20    2.193878   9.673469      18.316327  37.857143  0.678571  1432.165084\n",
              "21    2.132653   8.367347       5.153061  12.142857  0.237755   188.373235\n",
              "22    2.622449   8.285714      19.540816  49.285714  0.954082  1498.950979\n",
              "23    1.642857  11.714286       9.744898  15.000000  0.752041   920.615983\n",
              "24    3.357143  11.142857      19.234694  29.285714  0.439796  1489.455399\n",
              "25    2.928571  11.306122      12.500000  19.285714  0.605102  1236.052063\n",
              "26    1.091837  10.734694       6.377551  52.142857  0.145918  1323.995868\n",
              "27    3.846939  11.061224       7.602041  69.285714  0.770408  1490.703545\n",
              "28    3.234694   8.530612      11.887755  73.571429  0.329592  1317.719495\n",
              "29    2.989796   8.693878      15.867347  30.714286  0.788776  1463.746193\n",
              "30    1.275510   8.204082      19.846939  22.142857  0.109184   645.619453\n",
              "31    2.806122  10.571429       6.683673  20.714286  0.568367   518.689144\n",
              "32    3.663265  11.632653      18.010204  60.714286  0.917347  1508.020685\n",
              "33    3.785714  10.653061       9.438776  16.428571  0.219388    681.90772\n",
              "34    1.704082   8.938776      16.785714  72.142857  0.623469   643.253098\n",
              "35    1.397959   9.836735      11.275510  70.714286  0.990816  1171.922602\n",
              "36    1.520408  10.408163      13.724490  35.000000  0.476531  1526.807598\n",
              "37    3.051020  11.469388      16.479592  79.285714  0.366327   710.178986\n",
              "38    2.500000   8.857143       7.908163  26.428571  0.384694   547.065997\n",
              "39    3.540816  11.959184      17.397959  50.714286  0.182653  1239.099547\n",
              "40    2.010204  11.877551      15.255102  32.142857  0.164286  1275.603244\n",
              "41    1.581633  10.326531       8.826531  56.428571  0.494898  1516.383691\n",
              "42    1.765306   9.510204      16.173469  46.428571  0.972449  1472.959836\n",
              "43    3.724490  10.489796      10.969388  76.428571  0.935714  1561.436696\n",
              "44    1.336735   9.102041      13.418367  65.000000  0.733673   895.407343\n",
              "45    2.377551   8.612245       6.989796  59.285714  0.513265  1139.068175\n",
              "46    2.683673   8.775510      10.357143  57.857143  0.201020   1424.48449\n",
              "47    3.173469  10.000000       8.520408  63.571429  0.696939  1464.164972\n",
              "48    2.561224  10.081633       6.071429  39.285714  0.715306   639.543576\n",
              "49    1.826531  10.816327      14.948980  42.142857  0.347959  1297.031632"
            ],
            "text/html": [
              "\n",
              "  <div id=\"df-4999c65d-0f20-401a-8e45-7317caa67768\">\n",
              "    <div class=\"colab-df-container\">\n",
              "      <div>\n",
              "<style scoped>\n",
              "    .dataframe tbody tr th:only-of-type {\n",
              "        vertical-align: middle;\n",
              "    }\n",
              "\n",
              "    .dataframe tbody tr th {\n",
              "        vertical-align: top;\n",
              "    }\n",
              "\n",
              "    .dataframe thead th {\n",
              "        text-align: right;\n",
              "    }\n",
              "</style>\n",
              "<table border=\"1\" class=\"dataframe\">\n",
              "  <thead>\n",
              "    <tr style=\"text-align: right;\">\n",
              "      <th></th>\n",
              "      <th>feed_start</th>\n",
              "      <th>feed_end</th>\n",
              "      <th>Glc_feed_rate</th>\n",
              "      <th>Glc_0</th>\n",
              "      <th>VCD_0</th>\n",
              "      <th>Target</th>\n",
              "    </tr>\n",
              "  </thead>\n",
              "  <tbody>\n",
              "    <tr>\n",
              "      <th>0</th>\n",
              "      <td>2.500000</td>\n",
              "      <td>10.000000</td>\n",
              "      <td>12.500000</td>\n",
              "      <td>45.000000</td>\n",
              "      <td>0.550000</td>\n",
              "      <td>1565.310032</td>\n",
              "    </tr>\n",
              "    <tr>\n",
              "      <th>1</th>\n",
              "      <td>1.948980</td>\n",
              "      <td>10.244898</td>\n",
              "      <td>18.622449</td>\n",
              "      <td>40.714286</td>\n",
              "      <td>0.274490</td>\n",
              "      <td>854.449233</td>\n",
              "    </tr>\n",
              "    <tr>\n",
              "      <th>2</th>\n",
              "      <td>3.295918</td>\n",
              "      <td>9.346939</td>\n",
              "      <td>14.642857</td>\n",
              "      <td>17.857143</td>\n",
              "      <td>0.127551</td>\n",
              "      <td>1206.096655</td>\n",
              "    </tr>\n",
              "    <tr>\n",
              "      <th>3</th>\n",
              "      <td>3.479592</td>\n",
              "      <td>9.020408</td>\n",
              "      <td>15.561224</td>\n",
              "      <td>47.857143</td>\n",
              "      <td>0.843878</td>\n",
              "      <td>1587.937536</td>\n",
              "    </tr>\n",
              "    <tr>\n",
              "      <th>4</th>\n",
              "      <td>1.459184</td>\n",
              "      <td>9.591837</td>\n",
              "      <td>7.295918</td>\n",
              "      <td>33.571429</td>\n",
              "      <td>0.421429</td>\n",
              "      <td>811.55299</td>\n",
              "    </tr>\n",
              "    <tr>\n",
              "      <th>5</th>\n",
              "      <td>3.418367</td>\n",
              "      <td>9.265306</td>\n",
              "      <td>8.214286</td>\n",
              "      <td>45.000000</td>\n",
              "      <td>0.403061</td>\n",
              "      <td>841.498708</td>\n",
              "    </tr>\n",
              "    <tr>\n",
              "      <th>6</th>\n",
              "      <td>1.153061</td>\n",
              "      <td>8.448980</td>\n",
              "      <td>17.091837</td>\n",
              "      <td>67.857143</td>\n",
              "      <td>0.862245</td>\n",
              "      <td>645.86524</td>\n",
              "    </tr>\n",
              "    <tr>\n",
              "      <th>7</th>\n",
              "      <td>2.438776</td>\n",
              "      <td>8.122449</td>\n",
              "      <td>14.336735</td>\n",
              "      <td>10.714286</td>\n",
              "      <td>0.898980</td>\n",
              "      <td>978.32119</td>\n",
              "    </tr>\n",
              "    <tr>\n",
              "      <th>8</th>\n",
              "      <td>2.744898</td>\n",
              "      <td>11.551020</td>\n",
              "      <td>9.132653</td>\n",
              "      <td>27.857143</td>\n",
              "      <td>0.292857</td>\n",
              "      <td>1026.259363</td>\n",
              "    </tr>\n",
              "    <tr>\n",
              "      <th>9</th>\n",
              "      <td>2.316327</td>\n",
              "      <td>9.183673</td>\n",
              "      <td>5.459184</td>\n",
              "      <td>75.000000</td>\n",
              "      <td>0.256122</td>\n",
              "      <td>1307.342791</td>\n",
              "    </tr>\n",
              "    <tr>\n",
              "      <th>10</th>\n",
              "      <td>2.071429</td>\n",
              "      <td>9.918367</td>\n",
              "      <td>10.051020</td>\n",
              "      <td>25.000000</td>\n",
              "      <td>0.550000</td>\n",
              "      <td>1034.087373</td>\n",
              "    </tr>\n",
              "    <tr>\n",
              "      <th>11</th>\n",
              "      <td>3.112245</td>\n",
              "      <td>10.897959</td>\n",
              "      <td>5.765306</td>\n",
              "      <td>66.428571</td>\n",
              "      <td>0.311224</td>\n",
              "      <td>1268.377214</td>\n",
              "    </tr>\n",
              "    <tr>\n",
              "      <th>12</th>\n",
              "      <td>3.602041</td>\n",
              "      <td>10.163265</td>\n",
              "      <td>10.663265</td>\n",
              "      <td>53.571429</td>\n",
              "      <td>0.641837</td>\n",
              "      <td>1489.927482</td>\n",
              "    </tr>\n",
              "    <tr>\n",
              "      <th>13</th>\n",
              "      <td>1.030612</td>\n",
              "      <td>11.224490</td>\n",
              "      <td>12.806122</td>\n",
              "      <td>43.571429</td>\n",
              "      <td>0.807143</td>\n",
              "      <td>1519.991505</td>\n",
              "    </tr>\n",
              "    <tr>\n",
              "      <th>14</th>\n",
              "      <td>1.214286</td>\n",
              "      <td>9.755102</td>\n",
              "      <td>11.581633</td>\n",
              "      <td>62.142857</td>\n",
              "      <td>0.880612</td>\n",
              "      <td>1329.314397</td>\n",
              "    </tr>\n",
              "    <tr>\n",
              "      <th>15</th>\n",
              "      <td>3.969388</td>\n",
              "      <td>11.387755</td>\n",
              "      <td>13.112245</td>\n",
              "      <td>36.428571</td>\n",
              "      <td>0.458163</td>\n",
              "      <td>1431.024892</td>\n",
              "    </tr>\n",
              "    <tr>\n",
              "      <th>16</th>\n",
              "      <td>3.908163</td>\n",
              "      <td>10.979592</td>\n",
              "      <td>14.030612</td>\n",
              "      <td>55.000000</td>\n",
              "      <td>0.531633</td>\n",
              "      <td>1566.214415</td>\n",
              "    </tr>\n",
              "    <tr>\n",
              "      <th>17</th>\n",
              "      <td>1.887755</td>\n",
              "      <td>11.795918</td>\n",
              "      <td>18.928571</td>\n",
              "      <td>13.571429</td>\n",
              "      <td>0.586735</td>\n",
              "      <td>1438.450932</td>\n",
              "    </tr>\n",
              "    <tr>\n",
              "      <th>18</th>\n",
              "      <td>2.867347</td>\n",
              "      <td>8.040816</td>\n",
              "      <td>12.193878</td>\n",
              "      <td>23.571429</td>\n",
              "      <td>0.660204</td>\n",
              "      <td>829.922168</td>\n",
              "    </tr>\n",
              "    <tr>\n",
              "      <th>19</th>\n",
              "      <td>2.255102</td>\n",
              "      <td>9.428571</td>\n",
              "      <td>17.704082</td>\n",
              "      <td>77.857143</td>\n",
              "      <td>0.825510</td>\n",
              "      <td>705.006062</td>\n",
              "    </tr>\n",
              "    <tr>\n",
              "      <th>20</th>\n",
              "      <td>2.193878</td>\n",
              "      <td>9.673469</td>\n",
              "      <td>18.316327</td>\n",
              "      <td>37.857143</td>\n",
              "      <td>0.678571</td>\n",
              "      <td>1432.165084</td>\n",
              "    </tr>\n",
              "    <tr>\n",
              "      <th>21</th>\n",
              "      <td>2.132653</td>\n",
              "      <td>8.367347</td>\n",
              "      <td>5.153061</td>\n",
              "      <td>12.142857</td>\n",
              "      <td>0.237755</td>\n",
              "      <td>188.373235</td>\n",
              "    </tr>\n",
              "    <tr>\n",
              "      <th>22</th>\n",
              "      <td>2.622449</td>\n",
              "      <td>8.285714</td>\n",
              "      <td>19.540816</td>\n",
              "      <td>49.285714</td>\n",
              "      <td>0.954082</td>\n",
              "      <td>1498.950979</td>\n",
              "    </tr>\n",
              "    <tr>\n",
              "      <th>23</th>\n",
              "      <td>1.642857</td>\n",
              "      <td>11.714286</td>\n",
              "      <td>9.744898</td>\n",
              "      <td>15.000000</td>\n",
              "      <td>0.752041</td>\n",
              "      <td>920.615983</td>\n",
              "    </tr>\n",
              "    <tr>\n",
              "      <th>24</th>\n",
              "      <td>3.357143</td>\n",
              "      <td>11.142857</td>\n",
              "      <td>19.234694</td>\n",
              "      <td>29.285714</td>\n",
              "      <td>0.439796</td>\n",
              "      <td>1489.455399</td>\n",
              "    </tr>\n",
              "    <tr>\n",
              "      <th>25</th>\n",
              "      <td>2.928571</td>\n",
              "      <td>11.306122</td>\n",
              "      <td>12.500000</td>\n",
              "      <td>19.285714</td>\n",
              "      <td>0.605102</td>\n",
              "      <td>1236.052063</td>\n",
              "    </tr>\n",
              "    <tr>\n",
              "      <th>26</th>\n",
              "      <td>1.091837</td>\n",
              "      <td>10.734694</td>\n",
              "      <td>6.377551</td>\n",
              "      <td>52.142857</td>\n",
              "      <td>0.145918</td>\n",
              "      <td>1323.995868</td>\n",
              "    </tr>\n",
              "    <tr>\n",
              "      <th>27</th>\n",
              "      <td>3.846939</td>\n",
              "      <td>11.061224</td>\n",
              "      <td>7.602041</td>\n",
              "      <td>69.285714</td>\n",
              "      <td>0.770408</td>\n",
              "      <td>1490.703545</td>\n",
              "    </tr>\n",
              "    <tr>\n",
              "      <th>28</th>\n",
              "      <td>3.234694</td>\n",
              "      <td>8.530612</td>\n",
              "      <td>11.887755</td>\n",
              "      <td>73.571429</td>\n",
              "      <td>0.329592</td>\n",
              "      <td>1317.719495</td>\n",
              "    </tr>\n",
              "    <tr>\n",
              "      <th>29</th>\n",
              "      <td>2.989796</td>\n",
              "      <td>8.693878</td>\n",
              "      <td>15.867347</td>\n",
              "      <td>30.714286</td>\n",
              "      <td>0.788776</td>\n",
              "      <td>1463.746193</td>\n",
              "    </tr>\n",
              "    <tr>\n",
              "      <th>30</th>\n",
              "      <td>1.275510</td>\n",
              "      <td>8.204082</td>\n",
              "      <td>19.846939</td>\n",
              "      <td>22.142857</td>\n",
              "      <td>0.109184</td>\n",
              "      <td>645.619453</td>\n",
              "    </tr>\n",
              "    <tr>\n",
              "      <th>31</th>\n",
              "      <td>2.806122</td>\n",
              "      <td>10.571429</td>\n",
              "      <td>6.683673</td>\n",
              "      <td>20.714286</td>\n",
              "      <td>0.568367</td>\n",
              "      <td>518.689144</td>\n",
              "    </tr>\n",
              "    <tr>\n",
              "      <th>32</th>\n",
              "      <td>3.663265</td>\n",
              "      <td>11.632653</td>\n",
              "      <td>18.010204</td>\n",
              "      <td>60.714286</td>\n",
              "      <td>0.917347</td>\n",
              "      <td>1508.020685</td>\n",
              "    </tr>\n",
              "    <tr>\n",
              "      <th>33</th>\n",
              "      <td>3.785714</td>\n",
              "      <td>10.653061</td>\n",
              "      <td>9.438776</td>\n",
              "      <td>16.428571</td>\n",
              "      <td>0.219388</td>\n",
              "      <td>681.90772</td>\n",
              "    </tr>\n",
              "    <tr>\n",
              "      <th>34</th>\n",
              "      <td>1.704082</td>\n",
              "      <td>8.938776</td>\n",
              "      <td>16.785714</td>\n",
              "      <td>72.142857</td>\n",
              "      <td>0.623469</td>\n",
              "      <td>643.253098</td>\n",
              "    </tr>\n",
              "    <tr>\n",
              "      <th>35</th>\n",
              "      <td>1.397959</td>\n",
              "      <td>9.836735</td>\n",
              "      <td>11.275510</td>\n",
              "      <td>70.714286</td>\n",
              "      <td>0.990816</td>\n",
              "      <td>1171.922602</td>\n",
              "    </tr>\n",
              "    <tr>\n",
              "      <th>36</th>\n",
              "      <td>1.520408</td>\n",
              "      <td>10.408163</td>\n",
              "      <td>13.724490</td>\n",
              "      <td>35.000000</td>\n",
              "      <td>0.476531</td>\n",
              "      <td>1526.807598</td>\n",
              "    </tr>\n",
              "    <tr>\n",
              "      <th>37</th>\n",
              "      <td>3.051020</td>\n",
              "      <td>11.469388</td>\n",
              "      <td>16.479592</td>\n",
              "      <td>79.285714</td>\n",
              "      <td>0.366327</td>\n",
              "      <td>710.178986</td>\n",
              "    </tr>\n",
              "    <tr>\n",
              "      <th>38</th>\n",
              "      <td>2.500000</td>\n",
              "      <td>8.857143</td>\n",
              "      <td>7.908163</td>\n",
              "      <td>26.428571</td>\n",
              "      <td>0.384694</td>\n",
              "      <td>547.065997</td>\n",
              "    </tr>\n",
              "    <tr>\n",
              "      <th>39</th>\n",
              "      <td>3.540816</td>\n",
              "      <td>11.959184</td>\n",
              "      <td>17.397959</td>\n",
              "      <td>50.714286</td>\n",
              "      <td>0.182653</td>\n",
              "      <td>1239.099547</td>\n",
              "    </tr>\n",
              "    <tr>\n",
              "      <th>40</th>\n",
              "      <td>2.010204</td>\n",
              "      <td>11.877551</td>\n",
              "      <td>15.255102</td>\n",
              "      <td>32.142857</td>\n",
              "      <td>0.164286</td>\n",
              "      <td>1275.603244</td>\n",
              "    </tr>\n",
              "    <tr>\n",
              "      <th>41</th>\n",
              "      <td>1.581633</td>\n",
              "      <td>10.326531</td>\n",
              "      <td>8.826531</td>\n",
              "      <td>56.428571</td>\n",
              "      <td>0.494898</td>\n",
              "      <td>1516.383691</td>\n",
              "    </tr>\n",
              "    <tr>\n",
              "      <th>42</th>\n",
              "      <td>1.765306</td>\n",
              "      <td>9.510204</td>\n",
              "      <td>16.173469</td>\n",
              "      <td>46.428571</td>\n",
              "      <td>0.972449</td>\n",
              "      <td>1472.959836</td>\n",
              "    </tr>\n",
              "    <tr>\n",
              "      <th>43</th>\n",
              "      <td>3.724490</td>\n",
              "      <td>10.489796</td>\n",
              "      <td>10.969388</td>\n",
              "      <td>76.428571</td>\n",
              "      <td>0.935714</td>\n",
              "      <td>1561.436696</td>\n",
              "    </tr>\n",
              "    <tr>\n",
              "      <th>44</th>\n",
              "      <td>1.336735</td>\n",
              "      <td>9.102041</td>\n",
              "      <td>13.418367</td>\n",
              "      <td>65.000000</td>\n",
              "      <td>0.733673</td>\n",
              "      <td>895.407343</td>\n",
              "    </tr>\n",
              "    <tr>\n",
              "      <th>45</th>\n",
              "      <td>2.377551</td>\n",
              "      <td>8.612245</td>\n",
              "      <td>6.989796</td>\n",
              "      <td>59.285714</td>\n",
              "      <td>0.513265</td>\n",
              "      <td>1139.068175</td>\n",
              "    </tr>\n",
              "    <tr>\n",
              "      <th>46</th>\n",
              "      <td>2.683673</td>\n",
              "      <td>8.775510</td>\n",
              "      <td>10.357143</td>\n",
              "      <td>57.857143</td>\n",
              "      <td>0.201020</td>\n",
              "      <td>1424.48449</td>\n",
              "    </tr>\n",
              "    <tr>\n",
              "      <th>47</th>\n",
              "      <td>3.173469</td>\n",
              "      <td>10.000000</td>\n",
              "      <td>8.520408</td>\n",
              "      <td>63.571429</td>\n",
              "      <td>0.696939</td>\n",
              "      <td>1464.164972</td>\n",
              "    </tr>\n",
              "    <tr>\n",
              "      <th>48</th>\n",
              "      <td>2.561224</td>\n",
              "      <td>10.081633</td>\n",
              "      <td>6.071429</td>\n",
              "      <td>39.285714</td>\n",
              "      <td>0.715306</td>\n",
              "      <td>639.543576</td>\n",
              "    </tr>\n",
              "    <tr>\n",
              "      <th>49</th>\n",
              "      <td>1.826531</td>\n",
              "      <td>10.816327</td>\n",
              "      <td>14.948980</td>\n",
              "      <td>42.142857</td>\n",
              "      <td>0.347959</td>\n",
              "      <td>1297.031632</td>\n",
              "    </tr>\n",
              "  </tbody>\n",
              "</table>\n",
              "</div>\n",
              "      <button class=\"colab-df-convert\" onclick=\"convertToInteractive('df-4999c65d-0f20-401a-8e45-7317caa67768')\"\n",
              "              title=\"Convert this dataframe to an interactive table.\"\n",
              "              style=\"display:none;\">\n",
              "        \n",
              "  <svg xmlns=\"http://www.w3.org/2000/svg\" height=\"24px\"viewBox=\"0 0 24 24\"\n",
              "       width=\"24px\">\n",
              "    <path d=\"M0 0h24v24H0V0z\" fill=\"none\"/>\n",
              "    <path d=\"M18.56 5.44l.94 2.06.94-2.06 2.06-.94-2.06-.94-.94-2.06-.94 2.06-2.06.94zm-11 1L8.5 8.5l.94-2.06 2.06-.94-2.06-.94L8.5 2.5l-.94 2.06-2.06.94zm10 10l.94 2.06.94-2.06 2.06-.94-2.06-.94-.94-2.06-.94 2.06-2.06.94z\"/><path d=\"M17.41 7.96l-1.37-1.37c-.4-.4-.92-.59-1.43-.59-.52 0-1.04.2-1.43.59L10.3 9.45l-7.72 7.72c-.78.78-.78 2.05 0 2.83L4 21.41c.39.39.9.59 1.41.59.51 0 1.02-.2 1.41-.59l7.78-7.78 2.81-2.81c.8-.78.8-2.07 0-2.86zM5.41 20L4 18.59l7.72-7.72 1.47 1.35L5.41 20z\"/>\n",
              "  </svg>\n",
              "      </button>\n",
              "      \n",
              "  <style>\n",
              "    .colab-df-container {\n",
              "      display:flex;\n",
              "      flex-wrap:wrap;\n",
              "      gap: 12px;\n",
              "    }\n",
              "\n",
              "    .colab-df-convert {\n",
              "      background-color: #E8F0FE;\n",
              "      border: none;\n",
              "      border-radius: 50%;\n",
              "      cursor: pointer;\n",
              "      display: none;\n",
              "      fill: #1967D2;\n",
              "      height: 32px;\n",
              "      padding: 0 0 0 0;\n",
              "      width: 32px;\n",
              "    }\n",
              "\n",
              "    .colab-df-convert:hover {\n",
              "      background-color: #E2EBFA;\n",
              "      box-shadow: 0px 1px 2px rgba(60, 64, 67, 0.3), 0px 1px 3px 1px rgba(60, 64, 67, 0.15);\n",
              "      fill: #174EA6;\n",
              "    }\n",
              "\n",
              "    [theme=dark] .colab-df-convert {\n",
              "      background-color: #3B4455;\n",
              "      fill: #D2E3FC;\n",
              "    }\n",
              "\n",
              "    [theme=dark] .colab-df-convert:hover {\n",
              "      background-color: #434B5C;\n",
              "      box-shadow: 0px 1px 3px 1px rgba(0, 0, 0, 0.15);\n",
              "      filter: drop-shadow(0px 1px 2px rgba(0, 0, 0, 0.3));\n",
              "      fill: #FFFFFF;\n",
              "    }\n",
              "  </style>\n",
              "\n",
              "      <script>\n",
              "        const buttonEl =\n",
              "          document.querySelector('#df-4999c65d-0f20-401a-8e45-7317caa67768 button.colab-df-convert');\n",
              "        buttonEl.style.display =\n",
              "          google.colab.kernel.accessAllowed ? 'block' : 'none';\n",
              "\n",
              "        async function convertToInteractive(key) {\n",
              "          const element = document.querySelector('#df-4999c65d-0f20-401a-8e45-7317caa67768');\n",
              "          const dataTable =\n",
              "            await google.colab.kernel.invokeFunction('convertToInteractive',\n",
              "                                                     [key], {});\n",
              "          if (!dataTable) return;\n",
              "\n",
              "          const docLinkHtml = 'Like what you see? Visit the ' +\n",
              "            '<a target=\"_blank\" href=https://colab.research.google.com/notebooks/data_table.ipynb>data table notebook</a>'\n",
              "            + ' to learn more about interactive tables.';\n",
              "          element.innerHTML = '';\n",
              "          dataTable['output_type'] = 'display_data';\n",
              "          await google.colab.output.renderOutput(dataTable, element);\n",
              "          const docLink = document.createElement('div');\n",
              "          docLink.innerHTML = docLinkHtml;\n",
              "          element.appendChild(docLink);\n",
              "        }\n",
              "      </script>\n",
              "    </div>\n",
              "  </div>\n",
              "  "
            ]
          },
          "metadata": {},
          "execution_count": 7
        }
      ]
    },
    {
      "cell_type": "markdown",
      "source": [
        "## Multiple Linear Regression \n",
        "\n",
        "We first train/fit a Linear Regression model to the final titer, using the data loaded above.\n",
        "\n",
        "We then characterize the performance of the model using ANOVA, where the user can have information about the importance of each coefficient and of the overal model."
      ],
      "metadata": {
        "id": "kkEQIZOLGwjz"
      }
    },
    {
      "cell_type": "markdown",
      "source": [
        "### Create linear model with preprocessing\n",
        "\n",
        "Here we create a linear model to predict the value of the final titer given the initial conditions.\n",
        "\n",
        "* Input matrix: \"doe\". This corresponds to the values of the manipulated process parameters for each experiment.\n",
        "* Output target: \"tar\". This corresponds to the final value of titer at the end of each experiment. (or aggregates)"
      ],
      "metadata": {
        "id": "iXJI69b1HLZJ"
      }
    },
    {
      "cell_type": "code",
      "source": [
        "# Fit Linear Model\n",
        "datascaler = StandardScaler()\n",
        "does = datascaler.fit_transform(doe.values)\n",
        "\n",
        "X = sm.add_constant(does)\n",
        "y = tar.values\n",
        "mod = sm.OLS(y.astype(float), X.astype(float))\n",
        "res = mod.fit()\n",
        "print(res.summary())"
      ],
      "metadata": {
        "id": "_KLlhxUCsbiO",
        "outputId": "fc4aab47-1243-46bf-831b-e23555690224",
        "colab": {
          "base_uri": "https://localhost:8080/"
        }
      },
      "execution_count": 154,
      "outputs": [
        {
          "output_type": "stream",
          "name": "stdout",
          "text": [
            "                            OLS Regression Results                            \n",
            "==============================================================================\n",
            "Dep. Variable:                      y   R-squared:                       0.269\n",
            "Model:                            OLS   Adj. R-squared:                  0.186\n",
            "Method:                 Least Squares   F-statistic:                     3.240\n",
            "Date:                Mon, 07 Nov 2022   Prob (F-statistic):             0.0141\n",
            "Time:                        17:06:33   Log-Likelihood:                -357.18\n",
            "No. Observations:                  50   AIC:                             726.4\n",
            "Df Residuals:                      44   BIC:                             737.8\n",
            "Df Model:                           5                                         \n",
            "Covariance Type:            nonrobust                                         \n",
            "==============================================================================\n",
            "                 coef    std err          t      P>|t|      [0.025      0.975]\n",
            "------------------------------------------------------------------------------\n",
            "const       1153.5475     46.179     24.980      0.000    1060.480    1246.615\n",
            "x1            66.2397     47.334      1.399      0.169     -29.156     161.635\n",
            "x2           109.1749     47.629      2.292      0.027      13.184     205.166\n",
            "x3            58.6069     47.344      1.238      0.222     -36.809     154.023\n",
            "x4            75.0607     47.819      1.570      0.124     -21.313     171.434\n",
            "x5            72.4612     49.215      1.472      0.148     -26.725     171.647\n",
            "==============================================================================\n",
            "Omnibus:                        3.705   Durbin-Watson:                   1.875\n",
            "Prob(Omnibus):                  0.157   Jarque-Bera (JB):                3.534\n",
            "Skew:                          -0.604   Prob(JB):                        0.171\n",
            "Kurtosis:                       2.514   Cond. No.                         1.45\n",
            "==============================================================================\n",
            "\n",
            "Notes:\n",
            "[1] Standard Errors assume that the covariance matrix of the errors is correctly specified.\n"
          ]
        }
      ]
    },
    {
      "cell_type": "markdown",
      "source": [
        "Where the description/interpretation of some items in the table is as follows:\n",
        "* R-squared : the coefficient of determination. It is the proportion of the variance in the dependent variable that is predictable/explained\n",
        "* Adj. R-squared : Adjusted R-squared is the modified form of R-squared adjusted for the number of independent variables in the model. Value of adj. R-squared increases, when we include extra variables which actually improve the model.\n",
        "* F-statistic : the ratio of mean squared error of the model to the mean squared error of residuals. It determines the overall significance of the model.\n",
        "* coef : the coefficients of the independent variables and the constant term in the equation.\n",
        "* t : the value of t-statistic. It is the ratio of the difference between the estimated and hypothesized value of a parameter, to the standard error"
      ],
      "metadata": {
        "id": "E1rciExKwXlm"
      }
    },
    {
      "cell_type": "markdown",
      "source": [
        "### Model Training and Inference\n",
        "\n",
        "In this section, we fit a different linear model that is more flexible regarding the inputs. We mainly check the predictions of the models versus the training data for the final titer.\n"
      ],
      "metadata": {
        "id": "_HtEIdIyHVTo"
      }
    },
    {
      "cell_type": "code",
      "source": [
        "\"\"\" Normalize data \"\"\"\n",
        "USE_NORMALIZATION = True\n",
        "\"\"\" Ploynomial degree of features \"\"\"\n",
        "USE_POLYDEGREE = 2\n",
        "\"\"\" Add only interaction between features\"\"\"\n",
        "USE_INTERACTIONSONLY = False"
      ],
      "metadata": {
        "id": "xLFJfRVjhzeV"
      },
      "execution_count": 537,
      "outputs": []
    },
    {
      "cell_type": "code",
      "source": [
        "# Define pipeline\n",
        "poly_features = PolynomialFeatures(degree=USE_POLYDEGREE, interaction_only=USE_INTERACTIONSONLY,include_bias=False)\n",
        "standard_scaler = StandardScaler(with_mean=USE_NORMALIZATION, with_std=USE_NORMALIZATION)\n",
        "lm_model = LinearRegression()\n",
        "pipe = Pipeline([('features', poly_features), \n",
        "                 ('scaler', standard_scaler),\n",
        "                 ('model', lm_model)])\n",
        "# Fit model\n",
        "X = doe\n",
        "y = tar\n",
        "pipe.fit(X,y)\n",
        "\n",
        "# Model Features and Coefficients\n",
        "X_columns = poly_features.get_feature_names_out()\n",
        "lm_coefficients = lm_model.coef_\n",
        "# Model Std Error and p-values (not via sklearn)\n",
        "X_preproc = pd.DataFrame(pipe.steps[1][1].transform(pipe.steps[0][1].transform(X)),columns=X_columns)\n",
        "ols_model = sm.OLS(y.values.astype(float), sm.add_constant(X_preproc).values.astype(float)).fit()\n",
        "ols_coefficients = ols_model.params[1:]\n",
        "if X_preproc.shape[1]<X_preproc.shape[0]:\n",
        "  ols_stderror = ols_model.bse[1:]\n",
        "  ols_pvalue = ols_model.pvalues[1:].round(4)\n",
        "else:\n",
        "  print(\"\\n !!!!! Model is overspecified !!!!! \\n Results in perfect fit and unreliable coefficients  \\n\")\n",
        "  ols_stderror = None\n",
        "  ols_pvalue = None\n",
        "# Plot Model Inference\n",
        "fig = px.bar(x=list(X_columns),\n",
        "             y=ols_coefficients.reshape(-1), \n",
        "             title=\"Linear model coefficients\",\n",
        "             labels={'x':\"Variables\", 'y':\"Estimated Coefficients\",'color':\"p-value\"}, \n",
        "             error_y=ols_stderror,\n",
        "             color=ols_pvalue)\n",
        "fig.show()\n"
      ],
      "metadata": {
        "colab": {
          "base_uri": "https://localhost:8080/",
          "height": 542
        },
        "id": "OEvXt2pQiy9-",
        "outputId": "1797b5ae-8ab2-4f97-cd6c-03aed8e5f241"
      },
      "execution_count": 538,
      "outputs": [
        {
          "output_type": "display_data",
          "data": {
            "text/html": [
              "<html>\n",
              "<head><meta charset=\"utf-8\" /></head>\n",
              "<body>\n",
              "    <div>            <script src=\"https://cdnjs.cloudflare.com/ajax/libs/mathjax/2.7.5/MathJax.js?config=TeX-AMS-MML_SVG\"></script><script type=\"text/javascript\">if (window.MathJax) {MathJax.Hub.Config({SVG: {font: \"STIX-Web\"}});}</script>                <script type=\"text/javascript\">window.PlotlyConfig = {MathJaxConfig: 'local'};</script>\n",
              "        <script src=\"https://cdn.plot.ly/plotly-2.8.3.min.js\"></script>                <div id=\"78fa23e2-67a3-4dfe-8f51-a29f9bfb0dcd\" class=\"plotly-graph-div\" style=\"height:525px; width:100%;\"></div>            <script type=\"text/javascript\">                                    window.PLOTLYENV=window.PLOTLYENV || {};                                    if (document.getElementById(\"78fa23e2-67a3-4dfe-8f51-a29f9bfb0dcd\")) {                    Plotly.newPlot(                        \"78fa23e2-67a3-4dfe-8f51-a29f9bfb0dcd\",                        [{\"alignmentgroup\":\"True\",\"error_y\":{\"array\":[315.9188734617137,513.4614390218434,251.40369438473675,228.31394831807026,254.67428225235858,172.3782383728594,287.4998194646217,121.4745844956956,143.43078069088338,92.72446424325553,518.441820102696,232.93530688115848,203.7556605970909,208.66224134127626,159.86126466794025,89.63316215565115,103.51445992450564,107.97018068746007,109.70973351207616,131.71737662900287]},\"hovertemplate\":\"Variables=%{x}<br>Estimated Coefficients=%{y}<br>p-value=%{marker.color}<extra></extra>\",\"legendgroup\":\"\",\"marker\":{\"color\":[0.4453,0.187,0.0,0.0002,0.0728,0.3867,0.7551,0.0006,0.0046,0.325,0.3458,0.2123,0.5069,0.5455,0.0,0.0,0.0,0.0,0.0955,0.8185],\"coloraxis\":\"coloraxis\",\"pattern\":{\"shape\":\"\"}},\"name\":\"\",\"offsetgroup\":\"\",\"orientation\":\"v\",\"showlegend\":false,\"textposition\":\"auto\",\"x\":[\"feed_start\",\"feed_end\",\"Glc_feed_rate\",\"Glc_0\",\"VCD_0\",\"feed_start^2\",\"feed_start feed_end\",\"feed_start Glc_feed_rate\",\"feed_start Glc_0\",\"feed_start VCD_0\",\"feed_end^2\",\"feed_end Glc_feed_rate\",\"feed_end Glc_0\",\"feed_end VCD_0\",\"Glc_feed_rate^2\",\"Glc_feed_rate Glc_0\",\"Glc_feed_rate VCD_0\",\"Glc_0^2\",\"Glc_0 VCD_0\",\"VCD_0^2\"],\"xaxis\":\"x\",\"y\":[-244.43941369970946,693.9478203910533,1196.7068053809598,962.1602974734917,-474.14110642064986,-151.48536695899884,-90.53366504931645,466.36167401117285,440.29414356096555,-92.83039743766756,-496.8874091260576,-297.0868394430909,-136.9204380203711,127.63639186615157,-891.8048690491294,-908.0863510797299,522.6908399402215,-513.8769048253915,189.07980439904668,-30.495919077876366],\"yaxis\":\"y\",\"type\":\"bar\"}],                        {\"template\":{\"data\":{\"bar\":[{\"error_x\":{\"color\":\"#2a3f5f\"},\"error_y\":{\"color\":\"#2a3f5f\"},\"marker\":{\"line\":{\"color\":\"#E5ECF6\",\"width\":0.5},\"pattern\":{\"fillmode\":\"overlay\",\"size\":10,\"solidity\":0.2}},\"type\":\"bar\"}],\"barpolar\":[{\"marker\":{\"line\":{\"color\":\"#E5ECF6\",\"width\":0.5},\"pattern\":{\"fillmode\":\"overlay\",\"size\":10,\"solidity\":0.2}},\"type\":\"barpolar\"}],\"carpet\":[{\"aaxis\":{\"endlinecolor\":\"#2a3f5f\",\"gridcolor\":\"white\",\"linecolor\":\"white\",\"minorgridcolor\":\"white\",\"startlinecolor\":\"#2a3f5f\"},\"baxis\":{\"endlinecolor\":\"#2a3f5f\",\"gridcolor\":\"white\",\"linecolor\":\"white\",\"minorgridcolor\":\"white\",\"startlinecolor\":\"#2a3f5f\"},\"type\":\"carpet\"}],\"choropleth\":[{\"colorbar\":{\"outlinewidth\":0,\"ticks\":\"\"},\"type\":\"choropleth\"}],\"contour\":[{\"colorbar\":{\"outlinewidth\":0,\"ticks\":\"\"},\"colorscale\":[[0.0,\"#0d0887\"],[0.1111111111111111,\"#46039f\"],[0.2222222222222222,\"#7201a8\"],[0.3333333333333333,\"#9c179e\"],[0.4444444444444444,\"#bd3786\"],[0.5555555555555556,\"#d8576b\"],[0.6666666666666666,\"#ed7953\"],[0.7777777777777778,\"#fb9f3a\"],[0.8888888888888888,\"#fdca26\"],[1.0,\"#f0f921\"]],\"type\":\"contour\"}],\"contourcarpet\":[{\"colorbar\":{\"outlinewidth\":0,\"ticks\":\"\"},\"type\":\"contourcarpet\"}],\"heatmap\":[{\"colorbar\":{\"outlinewidth\":0,\"ticks\":\"\"},\"colorscale\":[[0.0,\"#0d0887\"],[0.1111111111111111,\"#46039f\"],[0.2222222222222222,\"#7201a8\"],[0.3333333333333333,\"#9c179e\"],[0.4444444444444444,\"#bd3786\"],[0.5555555555555556,\"#d8576b\"],[0.6666666666666666,\"#ed7953\"],[0.7777777777777778,\"#fb9f3a\"],[0.8888888888888888,\"#fdca26\"],[1.0,\"#f0f921\"]],\"type\":\"heatmap\"}],\"heatmapgl\":[{\"colorbar\":{\"outlinewidth\":0,\"ticks\":\"\"},\"colorscale\":[[0.0,\"#0d0887\"],[0.1111111111111111,\"#46039f\"],[0.2222222222222222,\"#7201a8\"],[0.3333333333333333,\"#9c179e\"],[0.4444444444444444,\"#bd3786\"],[0.5555555555555556,\"#d8576b\"],[0.6666666666666666,\"#ed7953\"],[0.7777777777777778,\"#fb9f3a\"],[0.8888888888888888,\"#fdca26\"],[1.0,\"#f0f921\"]],\"type\":\"heatmapgl\"}],\"histogram\":[{\"marker\":{\"pattern\":{\"fillmode\":\"overlay\",\"size\":10,\"solidity\":0.2}},\"type\":\"histogram\"}],\"histogram2d\":[{\"colorbar\":{\"outlinewidth\":0,\"ticks\":\"\"},\"colorscale\":[[0.0,\"#0d0887\"],[0.1111111111111111,\"#46039f\"],[0.2222222222222222,\"#7201a8\"],[0.3333333333333333,\"#9c179e\"],[0.4444444444444444,\"#bd3786\"],[0.5555555555555556,\"#d8576b\"],[0.6666666666666666,\"#ed7953\"],[0.7777777777777778,\"#fb9f3a\"],[0.8888888888888888,\"#fdca26\"],[1.0,\"#f0f921\"]],\"type\":\"histogram2d\"}],\"histogram2dcontour\":[{\"colorbar\":{\"outlinewidth\":0,\"ticks\":\"\"},\"colorscale\":[[0.0,\"#0d0887\"],[0.1111111111111111,\"#46039f\"],[0.2222222222222222,\"#7201a8\"],[0.3333333333333333,\"#9c179e\"],[0.4444444444444444,\"#bd3786\"],[0.5555555555555556,\"#d8576b\"],[0.6666666666666666,\"#ed7953\"],[0.7777777777777778,\"#fb9f3a\"],[0.8888888888888888,\"#fdca26\"],[1.0,\"#f0f921\"]],\"type\":\"histogram2dcontour\"}],\"mesh3d\":[{\"colorbar\":{\"outlinewidth\":0,\"ticks\":\"\"},\"type\":\"mesh3d\"}],\"parcoords\":[{\"line\":{\"colorbar\":{\"outlinewidth\":0,\"ticks\":\"\"}},\"type\":\"parcoords\"}],\"pie\":[{\"automargin\":true,\"type\":\"pie\"}],\"scatter\":[{\"marker\":{\"colorbar\":{\"outlinewidth\":0,\"ticks\":\"\"}},\"type\":\"scatter\"}],\"scatter3d\":[{\"line\":{\"colorbar\":{\"outlinewidth\":0,\"ticks\":\"\"}},\"marker\":{\"colorbar\":{\"outlinewidth\":0,\"ticks\":\"\"}},\"type\":\"scatter3d\"}],\"scattercarpet\":[{\"marker\":{\"colorbar\":{\"outlinewidth\":0,\"ticks\":\"\"}},\"type\":\"scattercarpet\"}],\"scattergeo\":[{\"marker\":{\"colorbar\":{\"outlinewidth\":0,\"ticks\":\"\"}},\"type\":\"scattergeo\"}],\"scattergl\":[{\"marker\":{\"colorbar\":{\"outlinewidth\":0,\"ticks\":\"\"}},\"type\":\"scattergl\"}],\"scattermapbox\":[{\"marker\":{\"colorbar\":{\"outlinewidth\":0,\"ticks\":\"\"}},\"type\":\"scattermapbox\"}],\"scatterpolar\":[{\"marker\":{\"colorbar\":{\"outlinewidth\":0,\"ticks\":\"\"}},\"type\":\"scatterpolar\"}],\"scatterpolargl\":[{\"marker\":{\"colorbar\":{\"outlinewidth\":0,\"ticks\":\"\"}},\"type\":\"scatterpolargl\"}],\"scatterternary\":[{\"marker\":{\"colorbar\":{\"outlinewidth\":0,\"ticks\":\"\"}},\"type\":\"scatterternary\"}],\"surface\":[{\"colorbar\":{\"outlinewidth\":0,\"ticks\":\"\"},\"colorscale\":[[0.0,\"#0d0887\"],[0.1111111111111111,\"#46039f\"],[0.2222222222222222,\"#7201a8\"],[0.3333333333333333,\"#9c179e\"],[0.4444444444444444,\"#bd3786\"],[0.5555555555555556,\"#d8576b\"],[0.6666666666666666,\"#ed7953\"],[0.7777777777777778,\"#fb9f3a\"],[0.8888888888888888,\"#fdca26\"],[1.0,\"#f0f921\"]],\"type\":\"surface\"}],\"table\":[{\"cells\":{\"fill\":{\"color\":\"#EBF0F8\"},\"line\":{\"color\":\"white\"}},\"header\":{\"fill\":{\"color\":\"#C8D4E3\"},\"line\":{\"color\":\"white\"}},\"type\":\"table\"}]},\"layout\":{\"annotationdefaults\":{\"arrowcolor\":\"#2a3f5f\",\"arrowhead\":0,\"arrowwidth\":1},\"autotypenumbers\":\"strict\",\"coloraxis\":{\"colorbar\":{\"outlinewidth\":0,\"ticks\":\"\"}},\"colorscale\":{\"diverging\":[[0,\"#8e0152\"],[0.1,\"#c51b7d\"],[0.2,\"#de77ae\"],[0.3,\"#f1b6da\"],[0.4,\"#fde0ef\"],[0.5,\"#f7f7f7\"],[0.6,\"#e6f5d0\"],[0.7,\"#b8e186\"],[0.8,\"#7fbc41\"],[0.9,\"#4d9221\"],[1,\"#276419\"]],\"sequential\":[[0.0,\"#0d0887\"],[0.1111111111111111,\"#46039f\"],[0.2222222222222222,\"#7201a8\"],[0.3333333333333333,\"#9c179e\"],[0.4444444444444444,\"#bd3786\"],[0.5555555555555556,\"#d8576b\"],[0.6666666666666666,\"#ed7953\"],[0.7777777777777778,\"#fb9f3a\"],[0.8888888888888888,\"#fdca26\"],[1.0,\"#f0f921\"]],\"sequentialminus\":[[0.0,\"#0d0887\"],[0.1111111111111111,\"#46039f\"],[0.2222222222222222,\"#7201a8\"],[0.3333333333333333,\"#9c179e\"],[0.4444444444444444,\"#bd3786\"],[0.5555555555555556,\"#d8576b\"],[0.6666666666666666,\"#ed7953\"],[0.7777777777777778,\"#fb9f3a\"],[0.8888888888888888,\"#fdca26\"],[1.0,\"#f0f921\"]]},\"colorway\":[\"#636efa\",\"#EF553B\",\"#00cc96\",\"#ab63fa\",\"#FFA15A\",\"#19d3f3\",\"#FF6692\",\"#B6E880\",\"#FF97FF\",\"#FECB52\"],\"font\":{\"color\":\"#2a3f5f\"},\"geo\":{\"bgcolor\":\"white\",\"lakecolor\":\"white\",\"landcolor\":\"#E5ECF6\",\"showlakes\":true,\"showland\":true,\"subunitcolor\":\"white\"},\"hoverlabel\":{\"align\":\"left\"},\"hovermode\":\"closest\",\"mapbox\":{\"style\":\"light\"},\"paper_bgcolor\":\"white\",\"plot_bgcolor\":\"#E5ECF6\",\"polar\":{\"angularaxis\":{\"gridcolor\":\"white\",\"linecolor\":\"white\",\"ticks\":\"\"},\"bgcolor\":\"#E5ECF6\",\"radialaxis\":{\"gridcolor\":\"white\",\"linecolor\":\"white\",\"ticks\":\"\"}},\"scene\":{\"xaxis\":{\"backgroundcolor\":\"#E5ECF6\",\"gridcolor\":\"white\",\"gridwidth\":2,\"linecolor\":\"white\",\"showbackground\":true,\"ticks\":\"\",\"zerolinecolor\":\"white\"},\"yaxis\":{\"backgroundcolor\":\"#E5ECF6\",\"gridcolor\":\"white\",\"gridwidth\":2,\"linecolor\":\"white\",\"showbackground\":true,\"ticks\":\"\",\"zerolinecolor\":\"white\"},\"zaxis\":{\"backgroundcolor\":\"#E5ECF6\",\"gridcolor\":\"white\",\"gridwidth\":2,\"linecolor\":\"white\",\"showbackground\":true,\"ticks\":\"\",\"zerolinecolor\":\"white\"}},\"shapedefaults\":{\"line\":{\"color\":\"#2a3f5f\"}},\"ternary\":{\"aaxis\":{\"gridcolor\":\"white\",\"linecolor\":\"white\",\"ticks\":\"\"},\"baxis\":{\"gridcolor\":\"white\",\"linecolor\":\"white\",\"ticks\":\"\"},\"bgcolor\":\"#E5ECF6\",\"caxis\":{\"gridcolor\":\"white\",\"linecolor\":\"white\",\"ticks\":\"\"}},\"title\":{\"x\":0.05},\"xaxis\":{\"automargin\":true,\"gridcolor\":\"white\",\"linecolor\":\"white\",\"ticks\":\"\",\"title\":{\"standoff\":15},\"zerolinecolor\":\"white\",\"zerolinewidth\":2},\"yaxis\":{\"automargin\":true,\"gridcolor\":\"white\",\"linecolor\":\"white\",\"ticks\":\"\",\"title\":{\"standoff\":15},\"zerolinecolor\":\"white\",\"zerolinewidth\":2}}},\"xaxis\":{\"anchor\":\"y\",\"domain\":[0.0,1.0],\"title\":{\"text\":\"Variables\"}},\"yaxis\":{\"anchor\":\"x\",\"domain\":[0.0,1.0],\"title\":{\"text\":\"Estimated Coefficients\"}},\"coloraxis\":{\"colorbar\":{\"title\":{\"text\":\"p-value\"}},\"colorscale\":[[0.0,\"#0d0887\"],[0.1111111111111111,\"#46039f\"],[0.2222222222222222,\"#7201a8\"],[0.3333333333333333,\"#9c179e\"],[0.4444444444444444,\"#bd3786\"],[0.5555555555555556,\"#d8576b\"],[0.6666666666666666,\"#ed7953\"],[0.7777777777777778,\"#fb9f3a\"],[0.8888888888888888,\"#fdca26\"],[1.0,\"#f0f921\"]]},\"legend\":{\"tracegroupgap\":0},\"title\":{\"text\":\"Linear model coefficients\"},\"barmode\":\"relative\"},                        {\"responsive\": true}                    ).then(function(){\n",
              "                            \n",
              "var gd = document.getElementById('78fa23e2-67a3-4dfe-8f51-a29f9bfb0dcd');\n",
              "var x = new MutationObserver(function (mutations, observer) {{\n",
              "        var display = window.getComputedStyle(gd).display;\n",
              "        if (!display || display === 'none') {{\n",
              "            console.log([gd, 'removed!']);\n",
              "            Plotly.purge(gd);\n",
              "            observer.disconnect();\n",
              "        }}\n",
              "}});\n",
              "\n",
              "// Listen for the removal of the full notebook cells\n",
              "var notebookContainer = gd.closest('#notebook-container');\n",
              "if (notebookContainer) {{\n",
              "    x.observe(notebookContainer, {childList: true});\n",
              "}}\n",
              "\n",
              "// Listen for the clearing of the current output cell\n",
              "var outputEl = gd.closest('.output');\n",
              "if (outputEl) {{\n",
              "    x.observe(outputEl, {childList: true});\n",
              "}}\n",
              "\n",
              "                        })                };                            </script>        </div>\n",
              "</body>\n",
              "</html>"
            ]
          },
          "metadata": {}
        }
      ]
    },
    {
      "cell_type": "markdown",
      "source": [
        "### Evaluate model prediction on train and test set"
      ],
      "metadata": {
        "id": "GyPkpFhimuLO"
      }
    },
    {
      "cell_type": "code",
      "source": [
        "# Make predictions\n",
        "yhat = pipe.predict(X)\n",
        "X_test = doe_test\n",
        "y_test = tar_test\n",
        "yhat_test = pipe.predict(X_test)\n",
        "\n",
        "# Calculate error metrics\n",
        "train_r2 = round(pipe.score(X,y),3)\n",
        "train_abs_rmse = round(mean_squared_error(y, yhat,squared=False),3)\n",
        "train_rel_rmse = round(mean_squared_error(y, yhat,squared=False) / np.std(np.array(y)),3)\n",
        "test_r2 = round(pipe.score(X_test,y_test),3)\n",
        "test_abs_rmse = round(mean_squared_error(y_test, yhat_test,squared=False),3)\n",
        "test_rel_rmse = round(mean_squared_error(y_test, yhat_test,squared=False) / np.std(np.array(y_test)),3)\n",
        "\n",
        "# Plot observed vs predicted\n",
        "fig = make_subplots(rows=1, cols=2, subplot_titles=(\n",
        "    f\"Train Set <br> R^2 = {train_r2} <br> Abs RMSE = {train_abs_rmse} <br> Rel RMSE = {train_rel_rmse}\" ,\n",
        "    f\"Test Set <br> R^2 = {test_r2} <br> Abs RMSE = {test_abs_rmse} <br> Rel RMSE = {test_rel_rmse}\"))\n",
        "# Train set plot\n",
        "fig.add_trace(go.Scatter(x=y.values.reshape(-1),y=yhat.reshape(-1),mode=\"markers\"),row=1,col=1)\n",
        "fig.add_shape(type=\"line\",x0=min(yhat)[0],y0=min(yhat)[0],x1=max(yhat)[0],y1=max(yhat)[0], layer='below', line=dict(dash='dash'))\n",
        "# Test set plot\n",
        "fig.add_trace(go.Scatter(x=y_test.values.reshape(-1),y=yhat_test.reshape(-1),mode=\"markers\"),row=1,col=2)\n",
        "fig.add_shape(type=\"line\",x0=min(yhat_test)[0],y0=min(yhat_test)[0],x1=max(yhat_test)[0],y1=max(yhat_test)[0], layer='below', line=dict(dash='dash'),row=1,col=2)\n",
        "fig.update_layout(title_text = \"Observed vs Predicted Values\")\n",
        "fig.show()\n"
      ],
      "metadata": {
        "id": "n9xJIvLTv5q8",
        "outputId": "c48d5b5e-f797-47e3-d25e-97ddd8e76220",
        "colab": {
          "base_uri": "https://localhost:8080/",
          "height": 542
        }
      },
      "execution_count": 539,
      "outputs": [
        {
          "output_type": "display_data",
          "data": {
            "text/html": [
              "<html>\n",
              "<head><meta charset=\"utf-8\" /></head>\n",
              "<body>\n",
              "    <div>            <script src=\"https://cdnjs.cloudflare.com/ajax/libs/mathjax/2.7.5/MathJax.js?config=TeX-AMS-MML_SVG\"></script><script type=\"text/javascript\">if (window.MathJax) {MathJax.Hub.Config({SVG: {font: \"STIX-Web\"}});}</script>                <script type=\"text/javascript\">window.PlotlyConfig = {MathJaxConfig: 'local'};</script>\n",
              "        <script src=\"https://cdn.plot.ly/plotly-2.8.3.min.js\"></script>                <div id=\"37ba6ae9-90d0-42a1-bef6-f380ff534ebf\" class=\"plotly-graph-div\" style=\"height:525px; width:100%;\"></div>            <script type=\"text/javascript\">                                    window.PLOTLYENV=window.PLOTLYENV || {};                                    if (document.getElementById(\"37ba6ae9-90d0-42a1-bef6-f380ff534ebf\")) {                    Plotly.newPlot(                        \"37ba6ae9-90d0-42a1-bef6-f380ff534ebf\",                        [{\"mode\":\"markers\",\"x\":[1565.3100316152315,854.4492329290191,1206.0966547089297,1587.9375363361153,811.5529901913034,841.4987076939608,645.8652400020387,978.3211904574658,1026.2593627477372,1307.3427908630745,1034.0873731742636,1268.3772140122305,1489.9274823809976,1519.9915046105887,1329.31439655397,1431.0248922870994,1566.2144147333108,1438.4509323399373,829.9221681206134,705.0060621997021,1432.1650836978292,188.37323461354003,1498.950979086217,920.6159834819938,1489.455399004581,1236.0520625432987,1323.9958683550722,1490.703545196068,1317.71949505948,1463.7461925349555,645.6194533195517,518.6891441332469,1508.020685458528,681.9077197106743,643.2530983456666,1171.9226021898683,1526.8075977874203,710.1789864596954,547.0659967970258,1239.099546696681,1275.603243989509,1516.3836910289606,1472.959836115183,1561.4366964617066,895.4073430723885,1139.0681753517283,1424.484489881591,1464.164972241741,639.5435764295627,1297.0316324502526],\"y\":[1438.3198080890215,946.4910866393888,1221.8782801070392,1585.7644201424775,1022.8109119056659,1092.280477620673,629.2509369761526,973.2155145573494,1134.479000487588,1294.9467457925687,1088.9620250622072,1387.1874521619218,1433.3533769830392,1437.706377283272,1255.9099614782367,1415.0553465902499,1583.472783415026,1471.4997769483925,934.7908012990973,777.1033465686673,1395.8894719630853,-51.802816428192955,1394.4990373206751,992.6666032105109,1449.6412695951008,1209.217505957568,1341.962793764391,1362.448256371919,1287.6045326005162,1452.062589743123,680.6511957693044,372.8501757961827,1633.8320285364534,660.9162677423186,603.7048495271665,1246.9127490865599,1374.2281496709857,753.4260053899538,734.5255915459451,1161.9048163423013,1259.940035336429,1336.2054862870818,1466.9336098661336,1586.054209021272,1057.8296764318204,1109.9846192079913,1314.13253630913,1362.704778509511,718.7545486291618,1283.2175062391786],\"type\":\"scatter\",\"xaxis\":\"x\",\"yaxis\":\"y\"},{\"mode\":\"markers\",\"x\":[1486.555322665747,852.5421510506708,1553.3693013236993,1561.6944741051122,1561.9285093830367,1555.5990575252915,664.6187798777727,1588.1477685622356,1573.9990705283894,1393.0710551474324,1585.7304206956908,1534.768930546699,1586.8676827848133,1120.6204607891566,967.4138303905323,1581.2252660009826,1521.0375916532755,1255.2700326269191,1504.894937980849,728.3175492673013,1127.481659231358,1037.3529483901104,1153.1684886467415,1599.395719266287,1373.3875240676539,1588.972941246536,1397.182482338,1586.1796600561468,1268.1596010497083,1579.9184591007336,777.916772007101,1461.5586797240042,1318.0550040408075,1513.53945930146,678.9881062945203,920.6098404000459,1242.4469308698558,797.4025653838119,1418.0496260461455,1205.021737650426,1154.9710813250379,1360.312718950821,1101.630950463139,1504.347905209396,799.6625192661403,1530.773728116675,1419.8835249141798,1564.0148293057987,1562.1980325113516,1049.7026566235018],\"y\":[1384.5472911798308,948.5033286717808,1381.4081638092994,1474.012866835891,1258.6915695534733,1364.405798577757,677.715994906313,1367.4257728925502,1462.410507060588,1200.5284908723393,1381.8264447249767,1420.7852164972314,1505.3728066389178,1326.8318454716932,1167.0983539489403,1578.262756635634,1514.6173027260331,1406.3813041278574,1302.1111762259256,827.2648776970245,1236.8984041126878,978.7840005479272,1181.1210533651954,1484.1504066422006,1405.0769701728839,1552.6732290478205,1247.3505764964286,1527.7604532469418,1159.1637385767408,1441.723849948302,726.6718977078979,1299.971895346781,1467.7939614416064,1397.7311963265329,696.6051253988023,1170.2525608799956,1285.3021983993744,907.4157737361766,1235.9842002647024,1206.0047877634986,1243.0814295667806,1274.5520410466117,1281.7929722261683,1518.5980372083086,985.3178994831842,1210.7514678161938,1209.641855785554,1430.8421713459952,1318.2150977905474,1194.2867268649202],\"type\":\"scatter\",\"xaxis\":\"x2\",\"yaxis\":\"y2\"}],                        {\"template\":{\"data\":{\"bar\":[{\"error_x\":{\"color\":\"#2a3f5f\"},\"error_y\":{\"color\":\"#2a3f5f\"},\"marker\":{\"line\":{\"color\":\"#E5ECF6\",\"width\":0.5},\"pattern\":{\"fillmode\":\"overlay\",\"size\":10,\"solidity\":0.2}},\"type\":\"bar\"}],\"barpolar\":[{\"marker\":{\"line\":{\"color\":\"#E5ECF6\",\"width\":0.5},\"pattern\":{\"fillmode\":\"overlay\",\"size\":10,\"solidity\":0.2}},\"type\":\"barpolar\"}],\"carpet\":[{\"aaxis\":{\"endlinecolor\":\"#2a3f5f\",\"gridcolor\":\"white\",\"linecolor\":\"white\",\"minorgridcolor\":\"white\",\"startlinecolor\":\"#2a3f5f\"},\"baxis\":{\"endlinecolor\":\"#2a3f5f\",\"gridcolor\":\"white\",\"linecolor\":\"white\",\"minorgridcolor\":\"white\",\"startlinecolor\":\"#2a3f5f\"},\"type\":\"carpet\"}],\"choropleth\":[{\"colorbar\":{\"outlinewidth\":0,\"ticks\":\"\"},\"type\":\"choropleth\"}],\"contour\":[{\"colorbar\":{\"outlinewidth\":0,\"ticks\":\"\"},\"colorscale\":[[0.0,\"#0d0887\"],[0.1111111111111111,\"#46039f\"],[0.2222222222222222,\"#7201a8\"],[0.3333333333333333,\"#9c179e\"],[0.4444444444444444,\"#bd3786\"],[0.5555555555555556,\"#d8576b\"],[0.6666666666666666,\"#ed7953\"],[0.7777777777777778,\"#fb9f3a\"],[0.8888888888888888,\"#fdca26\"],[1.0,\"#f0f921\"]],\"type\":\"contour\"}],\"contourcarpet\":[{\"colorbar\":{\"outlinewidth\":0,\"ticks\":\"\"},\"type\":\"contourcarpet\"}],\"heatmap\":[{\"colorbar\":{\"outlinewidth\":0,\"ticks\":\"\"},\"colorscale\":[[0.0,\"#0d0887\"],[0.1111111111111111,\"#46039f\"],[0.2222222222222222,\"#7201a8\"],[0.3333333333333333,\"#9c179e\"],[0.4444444444444444,\"#bd3786\"],[0.5555555555555556,\"#d8576b\"],[0.6666666666666666,\"#ed7953\"],[0.7777777777777778,\"#fb9f3a\"],[0.8888888888888888,\"#fdca26\"],[1.0,\"#f0f921\"]],\"type\":\"heatmap\"}],\"heatmapgl\":[{\"colorbar\":{\"outlinewidth\":0,\"ticks\":\"\"},\"colorscale\":[[0.0,\"#0d0887\"],[0.1111111111111111,\"#46039f\"],[0.2222222222222222,\"#7201a8\"],[0.3333333333333333,\"#9c179e\"],[0.4444444444444444,\"#bd3786\"],[0.5555555555555556,\"#d8576b\"],[0.6666666666666666,\"#ed7953\"],[0.7777777777777778,\"#fb9f3a\"],[0.8888888888888888,\"#fdca26\"],[1.0,\"#f0f921\"]],\"type\":\"heatmapgl\"}],\"histogram\":[{\"marker\":{\"pattern\":{\"fillmode\":\"overlay\",\"size\":10,\"solidity\":0.2}},\"type\":\"histogram\"}],\"histogram2d\":[{\"colorbar\":{\"outlinewidth\":0,\"ticks\":\"\"},\"colorscale\":[[0.0,\"#0d0887\"],[0.1111111111111111,\"#46039f\"],[0.2222222222222222,\"#7201a8\"],[0.3333333333333333,\"#9c179e\"],[0.4444444444444444,\"#bd3786\"],[0.5555555555555556,\"#d8576b\"],[0.6666666666666666,\"#ed7953\"],[0.7777777777777778,\"#fb9f3a\"],[0.8888888888888888,\"#fdca26\"],[1.0,\"#f0f921\"]],\"type\":\"histogram2d\"}],\"histogram2dcontour\":[{\"colorbar\":{\"outlinewidth\":0,\"ticks\":\"\"},\"colorscale\":[[0.0,\"#0d0887\"],[0.1111111111111111,\"#46039f\"],[0.2222222222222222,\"#7201a8\"],[0.3333333333333333,\"#9c179e\"],[0.4444444444444444,\"#bd3786\"],[0.5555555555555556,\"#d8576b\"],[0.6666666666666666,\"#ed7953\"],[0.7777777777777778,\"#fb9f3a\"],[0.8888888888888888,\"#fdca26\"],[1.0,\"#f0f921\"]],\"type\":\"histogram2dcontour\"}],\"mesh3d\":[{\"colorbar\":{\"outlinewidth\":0,\"ticks\":\"\"},\"type\":\"mesh3d\"}],\"parcoords\":[{\"line\":{\"colorbar\":{\"outlinewidth\":0,\"ticks\":\"\"}},\"type\":\"parcoords\"}],\"pie\":[{\"automargin\":true,\"type\":\"pie\"}],\"scatter\":[{\"marker\":{\"colorbar\":{\"outlinewidth\":0,\"ticks\":\"\"}},\"type\":\"scatter\"}],\"scatter3d\":[{\"line\":{\"colorbar\":{\"outlinewidth\":0,\"ticks\":\"\"}},\"marker\":{\"colorbar\":{\"outlinewidth\":0,\"ticks\":\"\"}},\"type\":\"scatter3d\"}],\"scattercarpet\":[{\"marker\":{\"colorbar\":{\"outlinewidth\":0,\"ticks\":\"\"}},\"type\":\"scattercarpet\"}],\"scattergeo\":[{\"marker\":{\"colorbar\":{\"outlinewidth\":0,\"ticks\":\"\"}},\"type\":\"scattergeo\"}],\"scattergl\":[{\"marker\":{\"colorbar\":{\"outlinewidth\":0,\"ticks\":\"\"}},\"type\":\"scattergl\"}],\"scattermapbox\":[{\"marker\":{\"colorbar\":{\"outlinewidth\":0,\"ticks\":\"\"}},\"type\":\"scattermapbox\"}],\"scatterpolar\":[{\"marker\":{\"colorbar\":{\"outlinewidth\":0,\"ticks\":\"\"}},\"type\":\"scatterpolar\"}],\"scatterpolargl\":[{\"marker\":{\"colorbar\":{\"outlinewidth\":0,\"ticks\":\"\"}},\"type\":\"scatterpolargl\"}],\"scatterternary\":[{\"marker\":{\"colorbar\":{\"outlinewidth\":0,\"ticks\":\"\"}},\"type\":\"scatterternary\"}],\"surface\":[{\"colorbar\":{\"outlinewidth\":0,\"ticks\":\"\"},\"colorscale\":[[0.0,\"#0d0887\"],[0.1111111111111111,\"#46039f\"],[0.2222222222222222,\"#7201a8\"],[0.3333333333333333,\"#9c179e\"],[0.4444444444444444,\"#bd3786\"],[0.5555555555555556,\"#d8576b\"],[0.6666666666666666,\"#ed7953\"],[0.7777777777777778,\"#fb9f3a\"],[0.8888888888888888,\"#fdca26\"],[1.0,\"#f0f921\"]],\"type\":\"surface\"}],\"table\":[{\"cells\":{\"fill\":{\"color\":\"#EBF0F8\"},\"line\":{\"color\":\"white\"}},\"header\":{\"fill\":{\"color\":\"#C8D4E3\"},\"line\":{\"color\":\"white\"}},\"type\":\"table\"}]},\"layout\":{\"annotationdefaults\":{\"arrowcolor\":\"#2a3f5f\",\"arrowhead\":0,\"arrowwidth\":1},\"autotypenumbers\":\"strict\",\"coloraxis\":{\"colorbar\":{\"outlinewidth\":0,\"ticks\":\"\"}},\"colorscale\":{\"diverging\":[[0,\"#8e0152\"],[0.1,\"#c51b7d\"],[0.2,\"#de77ae\"],[0.3,\"#f1b6da\"],[0.4,\"#fde0ef\"],[0.5,\"#f7f7f7\"],[0.6,\"#e6f5d0\"],[0.7,\"#b8e186\"],[0.8,\"#7fbc41\"],[0.9,\"#4d9221\"],[1,\"#276419\"]],\"sequential\":[[0.0,\"#0d0887\"],[0.1111111111111111,\"#46039f\"],[0.2222222222222222,\"#7201a8\"],[0.3333333333333333,\"#9c179e\"],[0.4444444444444444,\"#bd3786\"],[0.5555555555555556,\"#d8576b\"],[0.6666666666666666,\"#ed7953\"],[0.7777777777777778,\"#fb9f3a\"],[0.8888888888888888,\"#fdca26\"],[1.0,\"#f0f921\"]],\"sequentialminus\":[[0.0,\"#0d0887\"],[0.1111111111111111,\"#46039f\"],[0.2222222222222222,\"#7201a8\"],[0.3333333333333333,\"#9c179e\"],[0.4444444444444444,\"#bd3786\"],[0.5555555555555556,\"#d8576b\"],[0.6666666666666666,\"#ed7953\"],[0.7777777777777778,\"#fb9f3a\"],[0.8888888888888888,\"#fdca26\"],[1.0,\"#f0f921\"]]},\"colorway\":[\"#636efa\",\"#EF553B\",\"#00cc96\",\"#ab63fa\",\"#FFA15A\",\"#19d3f3\",\"#FF6692\",\"#B6E880\",\"#FF97FF\",\"#FECB52\"],\"font\":{\"color\":\"#2a3f5f\"},\"geo\":{\"bgcolor\":\"white\",\"lakecolor\":\"white\",\"landcolor\":\"#E5ECF6\",\"showlakes\":true,\"showland\":true,\"subunitcolor\":\"white\"},\"hoverlabel\":{\"align\":\"left\"},\"hovermode\":\"closest\",\"mapbox\":{\"style\":\"light\"},\"paper_bgcolor\":\"white\",\"plot_bgcolor\":\"#E5ECF6\",\"polar\":{\"angularaxis\":{\"gridcolor\":\"white\",\"linecolor\":\"white\",\"ticks\":\"\"},\"bgcolor\":\"#E5ECF6\",\"radialaxis\":{\"gridcolor\":\"white\",\"linecolor\":\"white\",\"ticks\":\"\"}},\"scene\":{\"xaxis\":{\"backgroundcolor\":\"#E5ECF6\",\"gridcolor\":\"white\",\"gridwidth\":2,\"linecolor\":\"white\",\"showbackground\":true,\"ticks\":\"\",\"zerolinecolor\":\"white\"},\"yaxis\":{\"backgroundcolor\":\"#E5ECF6\",\"gridcolor\":\"white\",\"gridwidth\":2,\"linecolor\":\"white\",\"showbackground\":true,\"ticks\":\"\",\"zerolinecolor\":\"white\"},\"zaxis\":{\"backgroundcolor\":\"#E5ECF6\",\"gridcolor\":\"white\",\"gridwidth\":2,\"linecolor\":\"white\",\"showbackground\":true,\"ticks\":\"\",\"zerolinecolor\":\"white\"}},\"shapedefaults\":{\"line\":{\"color\":\"#2a3f5f\"}},\"ternary\":{\"aaxis\":{\"gridcolor\":\"white\",\"linecolor\":\"white\",\"ticks\":\"\"},\"baxis\":{\"gridcolor\":\"white\",\"linecolor\":\"white\",\"ticks\":\"\"},\"bgcolor\":\"#E5ECF6\",\"caxis\":{\"gridcolor\":\"white\",\"linecolor\":\"white\",\"ticks\":\"\"}},\"title\":{\"x\":0.05},\"xaxis\":{\"automargin\":true,\"gridcolor\":\"white\",\"linecolor\":\"white\",\"ticks\":\"\",\"title\":{\"standoff\":15},\"zerolinecolor\":\"white\",\"zerolinewidth\":2},\"yaxis\":{\"automargin\":true,\"gridcolor\":\"white\",\"linecolor\":\"white\",\"ticks\":\"\",\"title\":{\"standoff\":15},\"zerolinecolor\":\"white\",\"zerolinewidth\":2}}},\"xaxis\":{\"anchor\":\"y\",\"domain\":[0.0,0.45]},\"yaxis\":{\"anchor\":\"x\",\"domain\":[0.0,1.0]},\"xaxis2\":{\"anchor\":\"y2\",\"domain\":[0.55,1.0]},\"yaxis2\":{\"anchor\":\"x2\",\"domain\":[0.0,1.0]},\"annotations\":[{\"font\":{\"size\":16},\"showarrow\":false,\"text\":\"Train Set <br> R^2 = 0.923 <br> Abs RMSE = 99.178 <br> Rel RMSE = 0.277\",\"x\":0.225,\"xanchor\":\"center\",\"xref\":\"paper\",\"y\":1.0,\"yanchor\":\"bottom\",\"yref\":\"paper\"},{\"font\":{\"size\":16},\"showarrow\":false,\"text\":\"Test Set <br> R^2 = 0.739 <br> Abs RMSE = 147.726 <br> Rel RMSE = 0.511\",\"x\":0.775,\"xanchor\":\"center\",\"xref\":\"paper\",\"y\":1.0,\"yanchor\":\"bottom\",\"yref\":\"paper\"}],\"shapes\":[{\"layer\":\"below\",\"line\":{\"dash\":\"dash\"},\"type\":\"line\",\"x0\":-51.802816428192955,\"x1\":1633.8320285364534,\"y0\":-51.802816428192955,\"y1\":1633.8320285364534},{\"layer\":\"below\",\"line\":{\"dash\":\"dash\"},\"type\":\"line\",\"x0\":677.715994906313,\"x1\":1578.262756635634,\"xref\":\"x2\",\"y0\":677.715994906313,\"y1\":1578.262756635634,\"yref\":\"y2\"}],\"title\":{\"text\":\"Observed vs Predicted Values\"}},                        {\"responsive\": true}                    ).then(function(){\n",
              "                            \n",
              "var gd = document.getElementById('37ba6ae9-90d0-42a1-bef6-f380ff534ebf');\n",
              "var x = new MutationObserver(function (mutations, observer) {{\n",
              "        var display = window.getComputedStyle(gd).display;\n",
              "        if (!display || display === 'none') {{\n",
              "            console.log([gd, 'removed!']);\n",
              "            Plotly.purge(gd);\n",
              "            observer.disconnect();\n",
              "        }}\n",
              "}});\n",
              "\n",
              "// Listen for the removal of the full notebook cells\n",
              "var notebookContainer = gd.closest('#notebook-container');\n",
              "if (notebookContainer) {{\n",
              "    x.observe(notebookContainer, {childList: true});\n",
              "}}\n",
              "\n",
              "// Listen for the clearing of the current output cell\n",
              "var outputEl = gd.closest('.output');\n",
              "if (outputEl) {{\n",
              "    x.observe(outputEl, {childList: true});\n",
              "}}\n",
              "\n",
              "                        })                };                            </script>        </div>\n",
              "</body>\n",
              "</html>"
            ]
          },
          "metadata": {}
        }
      ]
    },
    {
      "cell_type": "markdown",
      "source": [
        "### Model Diagnostics Plots\n",
        "\n",
        "There are four main assumptions associated with a linear regression model:\n",
        "\n",
        "* Linearity: The relationship between X and the mean of Y is linear.\n",
        "* Homoscedasticity: The variance of residual is the same for any value of X.\n",
        "* Independence: Observations are independent of each other.\n",
        "* Normality: Errors are normally distributed.\n",
        "\n",
        "These can by verified by so called diagnostics plots"
      ],
      "metadata": {
        "id": "baU0_Pdd_ZmX"
      }
    },
    {
      "cell_type": "code",
      "source": [
        "# Quantities and Statistics necessary for Diagnostic Plots\n",
        "model_X = pipe.steps[1][1].transform(pipe.steps[0][1].transform(X))\n",
        "model_y = y.values.reshape(-1)\n",
        "model_fitted_y = ols_model.fittedvalues\n",
        "model_residuals = ols_model.resid\n",
        "model_residuals_trendline = sm.nonparametric.lowess(exog=model_fitted_y, endog=model_residuals)\n",
        "model_norm_residuals = ols_model.get_influence().resid_studentized_internal\n",
        "model_norm_qq = stats.probplot(model_norm_residuals, dist=\"norm\")\n",
        "model_norm_residuals_abs_sqrt = np.sqrt(np.abs(model_norm_residuals))\n",
        "model_norm_residuals_abs_sqrt_trendline = sm.nonparametric.lowess(exog=model_fitted_y, endog=model_norm_residuals_abs_sqrt)\n",
        "model_abs_resid = np.abs(model_residuals)\n",
        "model_leverage = ols_model.get_influence().hat_matrix_diag\n",
        "model_leverage_trendline = sm.nonparametric.lowess(exog=model_leverage, endog=model_norm_residuals)"
      ],
      "metadata": {
        "id": "KjwmFyd6Kj0F"
      },
      "execution_count": 544,
      "outputs": []
    },
    {
      "cell_type": "code",
      "source": [
        "# Diagnostic Plots\n",
        "fig = make_subplots(rows=2, cols=2, subplot_titles=(\"Residulas vs Fitted\", \"Normal Q-Q Plot\", \"Scale-Location\", \"Residuals vs Leverage\"))\n",
        "fig.add_trace(go.Scatter(x=model_fitted_y, y=model_residuals, mode=\"markers\",text=X.index.get_level_values(0),name=\"run_id\",marker=dict(color='blue')),row=1,col=1)\n",
        "fig.add_trace(go.Scatter(x=model_residuals_trendline[:,0], y=model_residuals_trendline[:,1], mode=\"lines\",line=dict(dash='dash'),name='trendline'),row=1,col=1)\n",
        "fig.add_hline(y=0,row=1,col=1)\n",
        "fig.update_xaxes(title_text=\"Fitted Values\", row=1, col=1)\n",
        "fig.update_yaxes(title_text=\"Residuals\", row=1, col=1)\n",
        "fig.add_trace(go.Scatter(x=model_norm_qq[0][0], y=model_norm_qq[0][1],mode='markers',marker=dict(color='blue'),name='norm_resid'),row=1,col=2)\n",
        "fig.add_shape(type='line',x0=min(model_norm_qq[0][0]),y0=min(model_norm_qq[0][0]),x1=max(model_norm_qq[0][0]),y1=max(model_norm_qq[0][0]),layer='below',row=1,col=2)\n",
        "fig.update_xaxes(title_text=\"Theoretical Quantiles\", row=1, col=2)\n",
        "fig.update_yaxes(title_text=\"Standardized Residuals\", row=1, col=2)\n",
        "fig.add_trace(go.Scatter(x=model_fitted_y, y=model_norm_residuals_abs_sqrt, mode=\"markers\",text=X.index.get_level_values(0),name=\"run_id\",marker=dict(color='blue')),row=2,col=1)\n",
        "fig.add_trace(go.Scatter(x=model_norm_residuals_abs_sqrt_trendline[:,0], y=model_norm_residuals_abs_sqrt_trendline[:,1], mode=\"lines\",line=dict(dash='dash',color='red'),name='trendline'),row=2,col=1)\n",
        "fig.update_xaxes(title_text=\"Fitted Values\", row=2, col=1)\n",
        "fig.update_yaxes(title_text=\"Sqrt of | Standardized Residuals |\", row=2, col=1)\n",
        "fig.add_trace(go.Scatter(x=model_leverage, y=model_norm_residuals, mode=\"markers\",text=X.index.get_level_values(0),name=\"run_id\",marker=dict(color='blue')),row=2,col=2)\n",
        "fig.add_trace(go.Scatter(x=model_leverage_trendline[:,0], y=model_leverage_trendline[:,1], mode=\"lines\",line=dict(dash='dash'),name='trendline'),row=2,col=2)\n",
        "xgrid=np.linspace(0.1,max(model_leverage),30)\n",
        "fig.add_trace(go.Scatter(x=xgrid, y=np.sqrt((0.5 * len(ols_model.params) * (1 - xgrid)) / xgrid), mode=\"lines\",line=dict(dash='dot',color='red'),name='Cooks dist 0.5'),row=2,col=2)\n",
        "xgrid=np.linspace(0.2,max(model_leverage),30)\n",
        "fig.add_trace(go.Scatter(x=xgrid, y=np.sqrt((1 * len(ols_model.params) * (1 - xgrid)) / xgrid), mode=\"lines\",line=dict(dash='dot',color='darkred'),name='Cooks dist 1'),row=2,col=2)\n",
        "fig.update_xaxes(title_text=\"Leverage\", row=2, col=2)\n",
        "fig.update_yaxes(title_text=\"Standardized Residuals\", row=2, col=2)\n",
        "\n",
        "fig.update_layout(height=900,showlegend=False,title=\"Diagnostic Plots\")\n",
        "fig.show()\n"
      ],
      "metadata": {
        "id": "lXtzJyMpB4k5",
        "outputId": "b00647f4-7792-44c9-e17d-e07a2b7d5b7b",
        "colab": {
          "base_uri": "https://localhost:8080/",
          "height": 917
        }
      },
      "execution_count": 541,
      "outputs": [
        {
          "output_type": "display_data",
          "data": {
            "text/html": [
              "<html>\n",
              "<head><meta charset=\"utf-8\" /></head>\n",
              "<body>\n",
              "    <div>            <script src=\"https://cdnjs.cloudflare.com/ajax/libs/mathjax/2.7.5/MathJax.js?config=TeX-AMS-MML_SVG\"></script><script type=\"text/javascript\">if (window.MathJax) {MathJax.Hub.Config({SVG: {font: \"STIX-Web\"}});}</script>                <script type=\"text/javascript\">window.PlotlyConfig = {MathJaxConfig: 'local'};</script>\n",
              "        <script src=\"https://cdn.plot.ly/plotly-2.8.3.min.js\"></script>                <div id=\"ef3b2400-129e-4e1c-aa6b-75fe1d74883c\" class=\"plotly-graph-div\" style=\"height:900px; width:100%;\"></div>            <script type=\"text/javascript\">                                    window.PLOTLYENV=window.PLOTLYENV || {};                                    if (document.getElementById(\"ef3b2400-129e-4e1c-aa6b-75fe1d74883c\")) {                    Plotly.newPlot(                        \"ef3b2400-129e-4e1c-aa6b-75fe1d74883c\",                        [{\"marker\":{\"color\":\"blue\"},\"mode\":\"markers\",\"name\":\"run_id\",\"text\":[0.0,1.0,2.0,3.0,4.0,5.0,6.0,7.0,8.0,9.0,10.0,11.0,12.0,13.0,14.0,15.0,16.0,17.0,18.0,19.0,20.0,21.0,22.0,23.0,24.0,25.0,26.0,27.0,28.0,29.0,30.0,31.0,32.0,33.0,34.0,35.0,36.0,37.0,38.0,39.0,40.0,41.0,42.0,43.0,44.0,45.0,46.0,47.0,48.0,49.0],\"x\":[1438.3198080890243,946.4910866393928,1221.8782801070404,1585.7644201424766,1022.8109119056658,1092.280477620675,629.2509369761549,973.2155145573471,1134.4790004875895,1294.946745792566,1088.9620250622083,1387.187452161924,1433.35337698304,1437.7063772832794,1255.9099614782385,1415.0553465902535,1583.472783415029,1471.499776948399,934.7908012990969,777.1033465686667,1395.8894719630898,-51.8028164281949,1394.4990373206756,992.6666032105121,1449.6412695951049,1209.2175059575688,1341.9627937643893,1362.4482563719184,1287.6045326005153,1452.0625897431235,680.6511957693062,372.8501757961824,1633.8320285364562,660.9162677423195,603.7048495271677,1246.9127490865592,1374.228149670989,753.4260053899552,734.5255915459448,1161.9048163423054,1259.9400353364313,1336.2054862870827,1466.933609866137,1586.054209021268,1057.8296764318216,1109.9846192079901,1314.1325363091303,1362.70477850951,718.7545486291607,1283.217506239182],\"y\":[126.99022352620727,-92.04185371037374,-15.781625398110691,2.1731161936386343,-211.2579217143624,-250.7817699267141,16.614303025883828,5.10567590011874,-108.21963773985226,12.396045070508535,-54.874651887944765,-118.81023814969353,56.57410539795751,82.28512732730928,73.4044350757315,15.969545696845898,-17.25836868171814,-33.04884460846165,-104.86863317848349,-72.09728436896455,36.275611734739414,240.17605104173492,104.4519417655415,-72.05061972851831,39.81412940947621,26.834556585729842,-17.966925409317128,128.2552888241496,30.114962458964783,11.683602791832072,-35.031742449754574,145.83896833706456,-125.81134307792809,20.991451968354795,39.548248818498905,-74.99014689669093,152.5794481164312,-43.247018930259856,-187.45959474891902,77.19473035437568,15.663208653077845,180.17820474187783,6.026226249045976,-24.61751255956142,-162.42233335943308,29.08355614373818,110.35195357246062,101.46019373223089,-79.21097219959802,13.814126211070516],\"type\":\"scatter\",\"xaxis\":\"x\",\"yaxis\":\"y\"},{\"line\":{\"dash\":\"dash\"},\"mode\":\"lines\",\"name\":\"trendline\",\"x\":[-51.8028164281949,372.8501757961824,603.7048495271677,629.2509369761549,660.9162677423195,680.6511957693062,718.7545486291607,734.5255915459448,753.4260053899552,777.1033465686667,934.7908012990969,946.4910866393928,973.2155145573471,992.6666032105121,1022.8109119056658,1057.8296764318216,1088.9620250622083,1092.280477620675,1109.9846192079901,1134.4790004875895,1161.9048163423054,1209.2175059575688,1221.8782801070404,1246.9127490865592,1255.9099614782385,1259.9400353364313,1283.217506239182,1287.6045326005153,1294.946745792566,1314.1325363091303,1336.2054862870827,1341.9627937643893,1362.4482563719184,1362.70477850951,1374.228149670989,1387.187452161924,1394.4990373206756,1395.8894719630898,1415.0553465902535,1433.35337698304,1437.7063772832794,1438.3198080890243,1449.6412695951049,1452.0625897431235,1466.933609866137,1471.499776948399,1583.472783415029,1585.7644201424766,1586.054209021268,1633.8320285364562],\"y\":[234.24345525742726,88.93386250501862,7.894737489383385,0.1662374915564489,-7.922414719372238,-12.705755124834273,-21.81632315935191,-25.53521686505365,-29.92980204028237,-35.263888571139546,-55.2637609215492,-56.78628159781811,-60.704783381883786,-61.68348821096135,-61.03605136711736,-56.13017156832725,-47.51104296241632,-46.47676129156796,-40.24550095754154,-31.5269100539422,-22.620250466396644,-2.803996524849109,4.654195274170926,16.829692928009166,19.84589275530633,21.081382253824824,27.18776035943207,28.188343492790032,30.97766724619716,37.12990068840255,42.32151608560804,42.94141563699313,43.498652673992204,43.52854254256521,42.71662161409931,40.82835337629629,39.451992367293364,39.17205418356876,34.92788853919073,30.488641932136115,29.40099611879993,29.246950416234373,26.37158126836733,25.74881864188901,21.863587540494304,20.649380764705086,-12.439875848030782,-13.186697485359357,-13.281340264770424,-29.510696970932305],\"type\":\"scatter\",\"xaxis\":\"x\",\"yaxis\":\"y\"},{\"marker\":{\"color\":\"blue\"},\"mode\":\"markers\",\"name\":\"norm_resid\",\"x\":[-2.2038543193919886,-1.832934782096951,-1.6140232349225472,-1.4529684907558387,-1.3226775907499744,-1.2116334217984945,-1.113805000713168,-1.0256152690243034,-0.9447567372367901,-0.8696472647994755,-0.7991502146206946,-0.7324180714913386,-0.66879924550216,-0.6077795951824284,-0.5489441469321729,-0.4919511230407071,-0.43651376730447095,-0.38238727333683137,-0.3293591439228716,-0.27724190958337397,-0.22586749816478416,-0.17508277411238346,-0.12474591089442287,-0.07472335405014022,-0.024887193818824104,0.024887193818824104,0.07472335405014036,0.12474591089442287,0.1750827741123836,0.22586749816478416,0.27724190958337414,0.3293591439228716,0.3823872733368312,0.43651376730447067,0.4919511230407068,0.5489441469321724,0.6077795951824281,0.6687992455021594,0.7324180714913382,0.7991502146206944,0.8696472647994751,0.9447567372367895,1.0256152690243034,1.1138050007131675,1.2116334217984945,1.3226775907499735,1.4529684907558387,1.6140232349225463,1.8329347820969502,2.2038543193919886],\"y\":[-2.2708967820646815,-2.048363128524625,-1.8441369602171849,-1.5695227410337627,-1.3956138753979899,-1.35801871688158,-1.0875410091147988,-1.0821251561135876,-0.913721282750809,-0.8767256764748192,-0.7927316431975809,-0.7753285986928934,-0.7089367743147943,-0.6979733051876592,-0.5301730204036275,-0.47418278901583866,-0.46074577033589564,-0.275624485997892,-0.2652339528535305,-0.18825427813819023,-0.1537827872026308,0.019941130914725328,0.06310968897948539,0.0717044073222799,0.09990523280210112,0.1173449644876471,0.1381713762064639,0.1477928553611774,0.1770252421948098,0.18160549375038043,0.23632968028508877,0.252051376128201,0.2715493422794261,0.31793505470142097,0.333018060240326,0.36774853208401526,0.4131248956101791,0.4685638341817962,0.6433943846761653,0.8455829784643623,0.9490546496681936,0.9713217278431084,1.078262754482183,1.1032818468369727,1.2283896270721812,1.2640934958260182,1.31565911824364,1.3958108449238888,1.5613512763181399,3.2193592609590826],\"type\":\"scatter\",\"xaxis\":\"x2\",\"yaxis\":\"y2\"},{\"marker\":{\"color\":\"blue\"},\"mode\":\"markers\",\"name\":\"run_id\",\"text\":[0.0,1.0,2.0,3.0,4.0,5.0,6.0,7.0,8.0,9.0,10.0,11.0,12.0,13.0,14.0,15.0,16.0,17.0,18.0,19.0,20.0,21.0,22.0,23.0,24.0,25.0,26.0,27.0,28.0,29.0,30.0,31.0,32.0,33.0,34.0,35.0,36.0,37.0,38.0,39.0,40.0,41.0,42.0,43.0,44.0,45.0,46.0,47.0,48.0,49.0],\"x\":[1438.3198080890243,946.4910866393928,1221.8782801070404,1585.7644201424766,1022.8109119056658,1092.280477620675,629.2509369761549,973.2155145573471,1134.4790004875895,1294.946745792566,1088.9620250622083,1387.187452161924,1433.35337698304,1437.7063772832794,1255.9099614782385,1415.0553465902535,1583.472783415029,1471.499776948399,934.7908012990969,777.1033465686667,1395.8894719630898,-51.8028164281949,1394.4990373206756,992.6666032105121,1449.6412695951049,1209.2175059575688,1341.9627937643893,1362.4482563719184,1287.6045326005153,1452.0625897431235,680.6511957693062,372.8501757961824,1633.8320285364562,660.9162677423195,603.7048495271677,1246.9127490865592,1374.228149670989,753.4260053899552,734.5255915459448,1161.9048163423054,1259.9400353364313,1336.2054862870827,1466.933609866137,1586.054209021268,1057.8296764318216,1109.9846192079901,1314.1325363091303,1362.70477850951,718.7545486291607,1283.217506239182],\"y\":[1.0383943155093749,0.9363363052209496,0.4338827930883987,0.14121306920651971,1.4312103718617417,1.5069494955255407,0.4207436775458543,0.26777678637678787,1.0428523429109218,0.37171410547148176,0.6886093152258679,1.1653406012327812,0.6845172270891334,0.9855565574045502,0.80211868490652,0.38443836353982336,0.39215148501903035,0.6787825648437765,1.0402524482612803,0.841983832573283,0.5638572999451377,1.7942573006564813,1.108327400668314,0.9558876935868612,0.6427479254032479,0.5020471851611171,0.5150086920174557,1.1243191254381553,0.5770771700910772,0.3160778904037755,0.8354479667745078,1.1814443892642128,1.3579900442260926,0.486137511703313,0.6064227338119963,0.8805274548206282,1.1470218473262137,0.7281298101325254,1.2528059470779034,0.9741943592878136,0.4261519608665205,1.2495404260439675,0.25121641861049887,0.5249995104739547,1.181361026696746,0.5211039649431063,1.050372242034686,0.9195558593496984,0.8903547850141431,0.34255651283787775],\"type\":\"scatter\",\"xaxis\":\"x3\",\"yaxis\":\"y3\"},{\"line\":{\"color\":\"red\",\"dash\":\"dash\"},\"mode\":\"lines\",\"name\":\"trendline\",\"x\":[-51.8028164281949,372.8501757961824,603.7048495271677,629.2509369761549,660.9162677423195,680.6511957693062,718.7545486291607,734.5255915459448,753.4260053899552,777.1033465686667,934.7908012990969,946.4910866393928,973.2155145573471,992.6666032105121,1022.8109119056658,1057.8296764318216,1088.9620250622083,1092.280477620675,1109.9846192079901,1134.4790004875895,1161.9048163423054,1209.2175059575688,1221.8782801070404,1246.9127490865592,1255.9099614782385,1259.9400353364313,1283.217506239182,1287.6045326005153,1294.946745792566,1314.1325363091303,1336.2054862870827,1341.9627937643893,1362.4482563719184,1362.70477850951,1374.228149670989,1387.187452161924,1394.4990373206756,1395.8894719630898,1415.0553465902535,1433.35337698304,1437.7063772832794,1438.3198080890243,1449.6412695951049,1452.0625897431235,1466.933609866137,1471.499776948399,1583.472783415029,1585.7644201424766,1586.054209021268,1633.8320285364562],\"y\":[1.4917692544866896,1.0821607068957297,0.8362960807174007,0.8248834366633434,0.8230234565119348,0.8229784019131801,0.8221866819252633,0.821745011279543,0.8213342071317344,0.8214061744454212,0.8722937605035047,0.8787073125294689,0.8940114943698874,0.8989995285424578,0.9005222224158435,0.8922784319423064,0.8746590098421411,0.8725910307951346,0.860498749682633,0.8453191012661215,0.8298758836130623,0.7952496150783755,0.7793806749689295,0.7672070319999856,0.7671279731025807,0.766813896113677,0.7626480741789922,0.7615605869524636,0.7559635493077013,0.745147733035224,0.7413392649465891,0.7417766689619493,0.737913279875952,0.7379253542102088,0.7312353837883038,0.7224531001008151,0.7177695103948086,0.7169165761555798,0.706344201878918,0.6976900394745662,0.6957363888954406,0.6954627928658429,0.6904432865982598,0.6893676617417477,0.6826325106219379,0.6804988963494663,0.6132461409429898,0.6115690388463587,0.6113562182630676,0.5748847229340254],\"type\":\"scatter\",\"xaxis\":\"x3\",\"yaxis\":\"y3\"},{\"marker\":{\"color\":\"blue\"},\"mode\":\"markers\",\"name\":\"run_id\",\"text\":[0.0,1.0,2.0,3.0,4.0,5.0,6.0,7.0,8.0,9.0,10.0,11.0,12.0,13.0,14.0,15.0,16.0,17.0,18.0,19.0,20.0,21.0,22.0,23.0,24.0,25.0,26.0,27.0,28.0,29.0,30.0,31.0,32.0,33.0,34.0,35.0,36.0,37.0,38.0,39.0,40.0,41.0,42.0,43.0,44.0,45.0,46.0,47.0,48.0,49.0],\"x\":[0.18211607984883996,0.3501044482455719,0.5856054312355589,0.2997282131262378,0.37279081556541993,0.28088650453945224,0.4806093076613728,0.7010386211892967,0.416123266669834,0.5253970543315585,0.21031791499456998,0.5486675868649861,0.14039652301205785,0.5768281343236987,0.2324788151595361,0.3115402639894872,0.25734975006386596,0.6966177620105108,0.4462209378247103,0.3901498899659272,0.23236819044792917,0.671813422838053,0.5736551143745501,0.6333528931506693,0.45233874674178587,0.3316391485071628,0.7294237977769572,0.39299471102160927,0.5177975848238068,0.19355008962337453,0.8514590642134048,0.3562839569925586,0.7255561167541829,0.5347903371307582,0.31804938926761916,0.44838368322289884,0.20694077346632134,0.6076466107548181,0.1588364890635405,0.6098845330022676,0.5613644723700343,0.21475791378043857,0.46235069521897953,0.5296154538402666,0.20134128334335286,0.32360901858012925,0.41008775696587546,0.15105566818188554,0.41126669919351017,0.18281906472876244],\"y\":[1.078262754482183,-0.8767256764748192,-0.18825427813819023,0.019941130914725328,-2.048363128524625,-2.2708967820646815,0.1770252421948098,0.0717044073222799,-1.0875410091147988,0.1381713762064639,-0.47418278901583866,-1.35801871688158,0.4685638341817962,0.9713217278431084,0.6433943846761653,0.1477928553611774,-0.1537827872026308,-0.46074577033589564,-1.0821251561135876,-0.7089367743147943,0.31793505470142097,3.2193592609590826,1.2283896270721812,-0.913721282750809,0.4131248956101791,0.252051376128201,-0.2652339528535305,1.2640934958260182,0.333018060240326,0.09990523280210112,-0.6979733051876592,1.3958108449238888,-1.8441369602171849,0.23632968028508877,0.36774853208401526,-0.7753285986928934,1.31565911824364,-0.5301730204036275,-1.5695227410337627,0.9490546496681936,0.18160549375038043,1.5613512763181399,0.06310968897948539,-0.275624485997892,-1.3956138753979899,0.2715493422794261,1.1032818468369727,0.8455829784643623,-0.7927316431975809,0.1173449644876471],\"type\":\"scatter\",\"xaxis\":\"x4\",\"yaxis\":\"y4\"},{\"line\":{\"dash\":\"dash\"},\"mode\":\"lines\",\"name\":\"trendline\",\"x\":[0.14039652301205785,0.15105566818188554,0.1588364890635405,0.18211607984883996,0.18281906472876244,0.19355008962337453,0.20134128334335286,0.20694077346632134,0.21031791499456998,0.21475791378043857,0.23236819044792917,0.2324788151595361,0.25734975006386596,0.28088650453945224,0.2997282131262378,0.3115402639894872,0.31804938926761916,0.32360901858012925,0.3316391485071628,0.3501044482455719,0.3562839569925586,0.37279081556541993,0.3901498899659272,0.39299471102160927,0.41008775696587546,0.41126669919351017,0.416123266669834,0.4462209378247103,0.44838368322289884,0.45233874674178587,0.46235069521897953,0.4806093076613728,0.5177975848238068,0.5253970543315585,0.5296154538402666,0.5347903371307582,0.5486675868649861,0.5613644723700343,0.5736551143745501,0.5768281343236987,0.5856054312355589,0.6076466107548181,0.6098845330022676,0.6333528931506693,0.671813422838053,0.6966177620105108,0.7010386211892967,0.7255561167541829,0.7294237977769572,0.8514590642134048],\"y\":[0.5302227709261695,0.5041742786746526,0.4850766840209307,0.42743036488811936,0.42567777063564866,0.39883311448926173,0.3792264647727601,0.3650759794000889,0.35652158709817194,0.34525477719022635,0.30040114286448755,0.30011864575332725,0.2363389416266995,0.17529504817627786,0.12602842979410422,0.09513517339253888,0.07815282819842058,0.0636458447111073,0.04302920784961315,-0.003191632380939295,-0.020077174362672423,-0.043318575853386644,-0.06644556806058086,-0.06945776518242054,-0.0681235081099218,-0.0693178787105174,-0.07246002374369465,-0.052729187375108864,-0.05119229195672994,-0.04895079897224948,-0.05496969146389403,-0.050280499017602856,-0.033245909123724084,-0.027272637009053042,-0.028079754745800593,-0.03162732069768973,-0.050570554010006034,-0.0718858401738594,-0.09221763928580995,-0.09732013961108467,-0.11028043139490674,-0.14596212633992162,-0.15014337789160706,-0.1964932208065636,-0.2764448958367337,-0.3296171773802554,-0.3392573952803425,-0.3937755883997928,-0.40255732358877816,-0.6987467520938844],\"type\":\"scatter\",\"xaxis\":\"x4\",\"yaxis\":\"y4\"},{\"line\":{\"color\":\"red\",\"dash\":\"dot\"},\"mode\":\"lines\",\"name\":\"Cooks dist 0.5\",\"x\":[0.1,0.12591238152460016,0.15182476304920034,0.17773714457380052,0.20364952609840067,0.22956190762300085,0.255474289147601,0.28138667067220113,0.3072990521968013,0.3332114337214015,0.3591238152460017,0.38503619677060186,0.41094857829520204,0.4368609598198022,0.4627733413444023,0.48868572286900247,0.5145981043936027,0.5405104859182028,0.566422867442803,0.5923352489674032,0.6182476304920034,0.6441600120166034,0.6700723935412036,0.6959847750658038,0.721897156590404,0.7478095381150042,0.7737219196396043,0.7996343011642045,0.8255466826888046,0.8514590642134048],\"y\":[9.72111104761179,8.53764150015392,7.65889539409521,6.969648665165245,6.407742766797064,5.936269519848401,5.531729050531234,5.178339538751673,4.865045766121787,4.583832864267774,4.3287211796140035,4.095138996150847,3.8795156900341112,3.6790089967614277,3.491316820607583,3.3145439626913897,3.1471054315201936,2.9876546169993046,2.8350286025965605,2.6882053526313783,2.546269042581998,2.4083807337122147,2.2737521087685093,2.1416201607942362,2.0112205532680543,1.8817567301890121,1.7523604471436423,1.6220365256073799,1.4895786786116239,1.3534301308176127],\"type\":\"scatter\",\"xaxis\":\"x4\",\"yaxis\":\"y4\"},{\"line\":{\"color\":\"darkred\",\"dash\":\"dot\"},\"mode\":\"lines\",\"name\":\"Cooks dist 1\",\"x\":[0.2,0.22246410566253122,0.24492821132506243,0.2673923169875936,0.2898564226501248,0.312320528312656,0.3347846339751872,0.3572487396377184,0.3797128453002496,0.40217695096278083,0.42464105662531204,0.44710516228784325,0.4695692679503744,0.4920333736129056,0.5144974792754369,0.5369615849379681,0.5594256906004993,0.5818897962630305,0.6043539019255617,0.6268180075880929,0.6492821132506241,0.6717462189131552,0.6942103245756864,0.7166744302382178,0.7391385359007487,0.76160264156328,0.7840667472258112,0.8065308528883424,0.8289949585508736,0.8514590642134048],\"y\":[9.16515138991168,8.567219555192759,8.04608032815287,7.585267822591602,7.172842011303241,6.799898217550435,6.45963569086188,6.146753018687422,5.857042786336191,5.587112115502798,5.3341852054564,5.095960731403676,4.8705067953075005,4.656182098461,4.4515757329033985,4.255460370570207,4.066755180746579,3.8844958313221003,3.7078096094221364,3.535894141998372,3.367998471616743,3.2034053809021836,3.0414138699535864,2.881320557652081,2.7223984474722167,2.5638708577045484,2.404877134224376,2.2444245641046665,2.0813166559105145,1.91403924672666],\"type\":\"scatter\",\"xaxis\":\"x4\",\"yaxis\":\"y4\"}],                        {\"template\":{\"data\":{\"bar\":[{\"error_x\":{\"color\":\"#2a3f5f\"},\"error_y\":{\"color\":\"#2a3f5f\"},\"marker\":{\"line\":{\"color\":\"#E5ECF6\",\"width\":0.5},\"pattern\":{\"fillmode\":\"overlay\",\"size\":10,\"solidity\":0.2}},\"type\":\"bar\"}],\"barpolar\":[{\"marker\":{\"line\":{\"color\":\"#E5ECF6\",\"width\":0.5},\"pattern\":{\"fillmode\":\"overlay\",\"size\":10,\"solidity\":0.2}},\"type\":\"barpolar\"}],\"carpet\":[{\"aaxis\":{\"endlinecolor\":\"#2a3f5f\",\"gridcolor\":\"white\",\"linecolor\":\"white\",\"minorgridcolor\":\"white\",\"startlinecolor\":\"#2a3f5f\"},\"baxis\":{\"endlinecolor\":\"#2a3f5f\",\"gridcolor\":\"white\",\"linecolor\":\"white\",\"minorgridcolor\":\"white\",\"startlinecolor\":\"#2a3f5f\"},\"type\":\"carpet\"}],\"choropleth\":[{\"colorbar\":{\"outlinewidth\":0,\"ticks\":\"\"},\"type\":\"choropleth\"}],\"contour\":[{\"colorbar\":{\"outlinewidth\":0,\"ticks\":\"\"},\"colorscale\":[[0.0,\"#0d0887\"],[0.1111111111111111,\"#46039f\"],[0.2222222222222222,\"#7201a8\"],[0.3333333333333333,\"#9c179e\"],[0.4444444444444444,\"#bd3786\"],[0.5555555555555556,\"#d8576b\"],[0.6666666666666666,\"#ed7953\"],[0.7777777777777778,\"#fb9f3a\"],[0.8888888888888888,\"#fdca26\"],[1.0,\"#f0f921\"]],\"type\":\"contour\"}],\"contourcarpet\":[{\"colorbar\":{\"outlinewidth\":0,\"ticks\":\"\"},\"type\":\"contourcarpet\"}],\"heatmap\":[{\"colorbar\":{\"outlinewidth\":0,\"ticks\":\"\"},\"colorscale\":[[0.0,\"#0d0887\"],[0.1111111111111111,\"#46039f\"],[0.2222222222222222,\"#7201a8\"],[0.3333333333333333,\"#9c179e\"],[0.4444444444444444,\"#bd3786\"],[0.5555555555555556,\"#d8576b\"],[0.6666666666666666,\"#ed7953\"],[0.7777777777777778,\"#fb9f3a\"],[0.8888888888888888,\"#fdca26\"],[1.0,\"#f0f921\"]],\"type\":\"heatmap\"}],\"heatmapgl\":[{\"colorbar\":{\"outlinewidth\":0,\"ticks\":\"\"},\"colorscale\":[[0.0,\"#0d0887\"],[0.1111111111111111,\"#46039f\"],[0.2222222222222222,\"#7201a8\"],[0.3333333333333333,\"#9c179e\"],[0.4444444444444444,\"#bd3786\"],[0.5555555555555556,\"#d8576b\"],[0.6666666666666666,\"#ed7953\"],[0.7777777777777778,\"#fb9f3a\"],[0.8888888888888888,\"#fdca26\"],[1.0,\"#f0f921\"]],\"type\":\"heatmapgl\"}],\"histogram\":[{\"marker\":{\"pattern\":{\"fillmode\":\"overlay\",\"size\":10,\"solidity\":0.2}},\"type\":\"histogram\"}],\"histogram2d\":[{\"colorbar\":{\"outlinewidth\":0,\"ticks\":\"\"},\"colorscale\":[[0.0,\"#0d0887\"],[0.1111111111111111,\"#46039f\"],[0.2222222222222222,\"#7201a8\"],[0.3333333333333333,\"#9c179e\"],[0.4444444444444444,\"#bd3786\"],[0.5555555555555556,\"#d8576b\"],[0.6666666666666666,\"#ed7953\"],[0.7777777777777778,\"#fb9f3a\"],[0.8888888888888888,\"#fdca26\"],[1.0,\"#f0f921\"]],\"type\":\"histogram2d\"}],\"histogram2dcontour\":[{\"colorbar\":{\"outlinewidth\":0,\"ticks\":\"\"},\"colorscale\":[[0.0,\"#0d0887\"],[0.1111111111111111,\"#46039f\"],[0.2222222222222222,\"#7201a8\"],[0.3333333333333333,\"#9c179e\"],[0.4444444444444444,\"#bd3786\"],[0.5555555555555556,\"#d8576b\"],[0.6666666666666666,\"#ed7953\"],[0.7777777777777778,\"#fb9f3a\"],[0.8888888888888888,\"#fdca26\"],[1.0,\"#f0f921\"]],\"type\":\"histogram2dcontour\"}],\"mesh3d\":[{\"colorbar\":{\"outlinewidth\":0,\"ticks\":\"\"},\"type\":\"mesh3d\"}],\"parcoords\":[{\"line\":{\"colorbar\":{\"outlinewidth\":0,\"ticks\":\"\"}},\"type\":\"parcoords\"}],\"pie\":[{\"automargin\":true,\"type\":\"pie\"}],\"scatter\":[{\"marker\":{\"colorbar\":{\"outlinewidth\":0,\"ticks\":\"\"}},\"type\":\"scatter\"}],\"scatter3d\":[{\"line\":{\"colorbar\":{\"outlinewidth\":0,\"ticks\":\"\"}},\"marker\":{\"colorbar\":{\"outlinewidth\":0,\"ticks\":\"\"}},\"type\":\"scatter3d\"}],\"scattercarpet\":[{\"marker\":{\"colorbar\":{\"outlinewidth\":0,\"ticks\":\"\"}},\"type\":\"scattercarpet\"}],\"scattergeo\":[{\"marker\":{\"colorbar\":{\"outlinewidth\":0,\"ticks\":\"\"}},\"type\":\"scattergeo\"}],\"scattergl\":[{\"marker\":{\"colorbar\":{\"outlinewidth\":0,\"ticks\":\"\"}},\"type\":\"scattergl\"}],\"scattermapbox\":[{\"marker\":{\"colorbar\":{\"outlinewidth\":0,\"ticks\":\"\"}},\"type\":\"scattermapbox\"}],\"scatterpolar\":[{\"marker\":{\"colorbar\":{\"outlinewidth\":0,\"ticks\":\"\"}},\"type\":\"scatterpolar\"}],\"scatterpolargl\":[{\"marker\":{\"colorbar\":{\"outlinewidth\":0,\"ticks\":\"\"}},\"type\":\"scatterpolargl\"}],\"scatterternary\":[{\"marker\":{\"colorbar\":{\"outlinewidth\":0,\"ticks\":\"\"}},\"type\":\"scatterternary\"}],\"surface\":[{\"colorbar\":{\"outlinewidth\":0,\"ticks\":\"\"},\"colorscale\":[[0.0,\"#0d0887\"],[0.1111111111111111,\"#46039f\"],[0.2222222222222222,\"#7201a8\"],[0.3333333333333333,\"#9c179e\"],[0.4444444444444444,\"#bd3786\"],[0.5555555555555556,\"#d8576b\"],[0.6666666666666666,\"#ed7953\"],[0.7777777777777778,\"#fb9f3a\"],[0.8888888888888888,\"#fdca26\"],[1.0,\"#f0f921\"]],\"type\":\"surface\"}],\"table\":[{\"cells\":{\"fill\":{\"color\":\"#EBF0F8\"},\"line\":{\"color\":\"white\"}},\"header\":{\"fill\":{\"color\":\"#C8D4E3\"},\"line\":{\"color\":\"white\"}},\"type\":\"table\"}]},\"layout\":{\"annotationdefaults\":{\"arrowcolor\":\"#2a3f5f\",\"arrowhead\":0,\"arrowwidth\":1},\"autotypenumbers\":\"strict\",\"coloraxis\":{\"colorbar\":{\"outlinewidth\":0,\"ticks\":\"\"}},\"colorscale\":{\"diverging\":[[0,\"#8e0152\"],[0.1,\"#c51b7d\"],[0.2,\"#de77ae\"],[0.3,\"#f1b6da\"],[0.4,\"#fde0ef\"],[0.5,\"#f7f7f7\"],[0.6,\"#e6f5d0\"],[0.7,\"#b8e186\"],[0.8,\"#7fbc41\"],[0.9,\"#4d9221\"],[1,\"#276419\"]],\"sequential\":[[0.0,\"#0d0887\"],[0.1111111111111111,\"#46039f\"],[0.2222222222222222,\"#7201a8\"],[0.3333333333333333,\"#9c179e\"],[0.4444444444444444,\"#bd3786\"],[0.5555555555555556,\"#d8576b\"],[0.6666666666666666,\"#ed7953\"],[0.7777777777777778,\"#fb9f3a\"],[0.8888888888888888,\"#fdca26\"],[1.0,\"#f0f921\"]],\"sequentialminus\":[[0.0,\"#0d0887\"],[0.1111111111111111,\"#46039f\"],[0.2222222222222222,\"#7201a8\"],[0.3333333333333333,\"#9c179e\"],[0.4444444444444444,\"#bd3786\"],[0.5555555555555556,\"#d8576b\"],[0.6666666666666666,\"#ed7953\"],[0.7777777777777778,\"#fb9f3a\"],[0.8888888888888888,\"#fdca26\"],[1.0,\"#f0f921\"]]},\"colorway\":[\"#636efa\",\"#EF553B\",\"#00cc96\",\"#ab63fa\",\"#FFA15A\",\"#19d3f3\",\"#FF6692\",\"#B6E880\",\"#FF97FF\",\"#FECB52\"],\"font\":{\"color\":\"#2a3f5f\"},\"geo\":{\"bgcolor\":\"white\",\"lakecolor\":\"white\",\"landcolor\":\"#E5ECF6\",\"showlakes\":true,\"showland\":true,\"subunitcolor\":\"white\"},\"hoverlabel\":{\"align\":\"left\"},\"hovermode\":\"closest\",\"mapbox\":{\"style\":\"light\"},\"paper_bgcolor\":\"white\",\"plot_bgcolor\":\"#E5ECF6\",\"polar\":{\"angularaxis\":{\"gridcolor\":\"white\",\"linecolor\":\"white\",\"ticks\":\"\"},\"bgcolor\":\"#E5ECF6\",\"radialaxis\":{\"gridcolor\":\"white\",\"linecolor\":\"white\",\"ticks\":\"\"}},\"scene\":{\"xaxis\":{\"backgroundcolor\":\"#E5ECF6\",\"gridcolor\":\"white\",\"gridwidth\":2,\"linecolor\":\"white\",\"showbackground\":true,\"ticks\":\"\",\"zerolinecolor\":\"white\"},\"yaxis\":{\"backgroundcolor\":\"#E5ECF6\",\"gridcolor\":\"white\",\"gridwidth\":2,\"linecolor\":\"white\",\"showbackground\":true,\"ticks\":\"\",\"zerolinecolor\":\"white\"},\"zaxis\":{\"backgroundcolor\":\"#E5ECF6\",\"gridcolor\":\"white\",\"gridwidth\":2,\"linecolor\":\"white\",\"showbackground\":true,\"ticks\":\"\",\"zerolinecolor\":\"white\"}},\"shapedefaults\":{\"line\":{\"color\":\"#2a3f5f\"}},\"ternary\":{\"aaxis\":{\"gridcolor\":\"white\",\"linecolor\":\"white\",\"ticks\":\"\"},\"baxis\":{\"gridcolor\":\"white\",\"linecolor\":\"white\",\"ticks\":\"\"},\"bgcolor\":\"#E5ECF6\",\"caxis\":{\"gridcolor\":\"white\",\"linecolor\":\"white\",\"ticks\":\"\"}},\"title\":{\"x\":0.05},\"xaxis\":{\"automargin\":true,\"gridcolor\":\"white\",\"linecolor\":\"white\",\"ticks\":\"\",\"title\":{\"standoff\":15},\"zerolinecolor\":\"white\",\"zerolinewidth\":2},\"yaxis\":{\"automargin\":true,\"gridcolor\":\"white\",\"linecolor\":\"white\",\"ticks\":\"\",\"title\":{\"standoff\":15},\"zerolinecolor\":\"white\",\"zerolinewidth\":2}}},\"xaxis\":{\"anchor\":\"y\",\"domain\":[0.0,0.45],\"title\":{\"text\":\"Fitted Values\"}},\"yaxis\":{\"anchor\":\"x\",\"domain\":[0.625,1.0],\"title\":{\"text\":\"Residuals\"}},\"xaxis2\":{\"anchor\":\"y2\",\"domain\":[0.55,1.0],\"title\":{\"text\":\"Theoretical Quantiles\"}},\"yaxis2\":{\"anchor\":\"x2\",\"domain\":[0.625,1.0],\"title\":{\"text\":\"Standardized Residuals\"}},\"xaxis3\":{\"anchor\":\"y3\",\"domain\":[0.0,0.45],\"title\":{\"text\":\"Fitted Values\"}},\"yaxis3\":{\"anchor\":\"x3\",\"domain\":[0.0,0.375],\"title\":{\"text\":\"Sqrt of | Standardized Residuals |\"}},\"xaxis4\":{\"anchor\":\"y4\",\"domain\":[0.55,1.0],\"title\":{\"text\":\"Leverage\"}},\"yaxis4\":{\"anchor\":\"x4\",\"domain\":[0.0,0.375],\"title\":{\"text\":\"Standardized Residuals\"}},\"annotations\":[{\"font\":{\"size\":16},\"showarrow\":false,\"text\":\"Residulas vs Fitted\",\"x\":0.225,\"xanchor\":\"center\",\"xref\":\"paper\",\"y\":1.0,\"yanchor\":\"bottom\",\"yref\":\"paper\"},{\"font\":{\"size\":16},\"showarrow\":false,\"text\":\"Normal Q-Q Plot\",\"x\":0.775,\"xanchor\":\"center\",\"xref\":\"paper\",\"y\":1.0,\"yanchor\":\"bottom\",\"yref\":\"paper\"},{\"font\":{\"size\":16},\"showarrow\":false,\"text\":\"Scale-Location\",\"x\":0.225,\"xanchor\":\"center\",\"xref\":\"paper\",\"y\":0.375,\"yanchor\":\"bottom\",\"yref\":\"paper\"},{\"font\":{\"size\":16},\"showarrow\":false,\"text\":\"Residuals vs Leverage\",\"x\":0.775,\"xanchor\":\"center\",\"xref\":\"paper\",\"y\":0.375,\"yanchor\":\"bottom\",\"yref\":\"paper\"}],\"shapes\":[{\"type\":\"line\",\"x0\":0,\"x1\":1,\"xref\":\"x domain\",\"y0\":0,\"y1\":0,\"yref\":\"y\"},{\"layer\":\"below\",\"type\":\"line\",\"x0\":-2.2038543193919886,\"x1\":2.2038543193919886,\"xref\":\"x2\",\"y0\":-2.2038543193919886,\"y1\":2.2038543193919886,\"yref\":\"y2\"}],\"height\":900,\"showlegend\":false,\"title\":{\"text\":\"Diagnostic Plots\"}},                        {\"responsive\": true}                    ).then(function(){\n",
              "                            \n",
              "var gd = document.getElementById('ef3b2400-129e-4e1c-aa6b-75fe1d74883c');\n",
              "var x = new MutationObserver(function (mutations, observer) {{\n",
              "        var display = window.getComputedStyle(gd).display;\n",
              "        if (!display || display === 'none') {{\n",
              "            console.log([gd, 'removed!']);\n",
              "            Plotly.purge(gd);\n",
              "            observer.disconnect();\n",
              "        }}\n",
              "}});\n",
              "\n",
              "// Listen for the removal of the full notebook cells\n",
              "var notebookContainer = gd.closest('#notebook-container');\n",
              "if (notebookContainer) {{\n",
              "    x.observe(notebookContainer, {childList: true});\n",
              "}}\n",
              "\n",
              "// Listen for the clearing of the current output cell\n",
              "var outputEl = gd.closest('.output');\n",
              "if (outputEl) {{\n",
              "    x.observe(outputEl, {childList: true});\n",
              "}}\n",
              "\n",
              "                        })                };                            </script>        </div>\n",
              "</body>\n",
              "</html>"
            ]
          },
          "metadata": {}
        }
      ]
    },
    {
      "cell_type": "markdown",
      "source": [
        "Interpretation of Diagnostic Plots\n",
        "\n",
        "* **Residuals vs Fitted**: This graph shows if there are any nonlinear patterns in the residuals, and thus in the data as well. One of the mathematical assumptions in building an OLS model is that the data can be fit by a line. If this assumption holds and our data can be fit by a linear model, then we should see a relatively flat line when looking at the residuals vs fitted. An ideal Residuals vs Fitted plot will look like random noise; there won’t be any apparent patterns in the scatterplot and the red line would be horizontal.\n",
        "\n",
        "* **Normal Q-Q Plot**: This plot shows if the residuals are normally distributed. A good normal QQ plot has all of the residuals lying on or close to the red line. If there are  several points that fall far away from the diagonal line. This is indicative of the errors not being normally distributed. The model can suffer from “heavy tails”, \"skweness\", etc.\n",
        "\n",
        "* **Scale-Location**: This plot is a way to check if the residuals suffer from non-constant variance, aka heteroscedasticity. The more horizontal the red line is, the more likely the data is homoscedastic. \n",
        "\n",
        "* **Residuals vs Leverage**: Unlike outliers, which have an unusually large y value, leverage points have extreme x values. This can have damaging effects on the model because the β coefficients are very sensitive to leverage points. Here we can identify problematic observations. Points that have Cook's distance lager then 0.5 are considered leverage points."
      ],
      "metadata": {
        "id": "BukbUYlixn_E"
      }
    },
    {
      "cell_type": "markdown",
      "source": [
        "## PLS Model\n",
        "\n",
        "In this section, we keep the same data structure but we train a PLS model."
      ],
      "metadata": {
        "id": "3C7-mXh8H1P6"
      }
    },
    {
      "cell_type": "markdown",
      "source": [
        "### Create a PLS model with specific latent variables\n",
        "\n",
        "Create a PLS model to predict the value of the final titer given the initial conditions.\n",
        "\n",
        "* Input matrix: \"doe\". This corresponds to the values of the manipulated process parameters for each experiment.\n",
        "* Output target: \"tar\". This corresponds to the final value of titer at the end of each experiment. (or aggregates)\n",
        "\n",
        "Select the number of latent variables for the model (the maximum number of latent variables is 5, equal to the number of variables in the input matrix).\n",
        "\n",
        "\n",
        "\n"
      ],
      "metadata": {
        "id": "gPSnjAS5IGW6"
      }
    },
    {
      "cell_type": "code",
      "source": [
        "# Use data normalization\n",
        "use_norm = True\n",
        "# Number of latent variables\n",
        "N_LV = 5"
      ],
      "metadata": {
        "id": "OgBkwZQ0ItJU"
      },
      "execution_count": null,
      "outputs": []
    },
    {
      "cell_type": "code",
      "source": [
        "# Define Pipeline\n",
        "pscaler = StandardScaler(with_mean=use_norm,with_std=use_norm)\n",
        "pls = PLSRegression(n_components=N_LV)\n",
        "pipe = Pipeline([('scaler', pscaler), ('model', pls)])\n",
        "# Train PLS model\n",
        "X = doe\n",
        "y = tar\n",
        "pipe.fit(X,y)"
      ],
      "metadata": {
        "id": "u2RWJm8QI81j",
        "outputId": "ebe23054-63f1-4c3d-9708-c94f89102321",
        "colab": {
          "base_uri": "https://localhost:8080/"
        }
      },
      "execution_count": null,
      "outputs": [
        {
          "output_type": "execute_result",
          "data": {
            "text/plain": [
              "Pipeline(steps=[('scaler', StandardScaler()),\n",
              "                ('model', PLSRegression(n_components=5))])"
            ]
          },
          "metadata": {},
          "execution_count": 21
        }
      ]
    },
    {
      "cell_type": "markdown",
      "source": [
        "### Evaluate model on train and test set\n"
      ],
      "metadata": {
        "id": "0dR7w0nmJvud"
      }
    },
    {
      "cell_type": "code",
      "source": [
        "# Plot predictions in train set\n",
        "yhat = pipe.predict(X)\n",
        "fig = px.scatter(x=y.values.reshape(-1),y=yhat.reshape(-1), title=\"Observed vs Predicted on Train Set; R^2 = \"+str(round(pipe.score(X,y),3)), labels=dict(x=\"Observed Titer\", y=\"Predicted Titer\"))\n",
        "fig.update_layout(shapes = [{'type': 'line', 'yref': 'paper', 'xref': 'paper', 'y0': 0, 'y1': 1, 'x0': 0, 'x1': 1, 'layer': 'below'}])\n",
        "fig.show()\n",
        "# Plot predictions in test set\n",
        "X_test = doe_test\n",
        "y_test = tar_test\n",
        "yhat_test = pipe.predict(X_test)\n",
        "fig = px.scatter(x=y_test.values.reshape(-1),y=yhat_test.reshape(-1), title=\"Observed vs Predicted on Test Set; R^2 = \"+str(round(pipe.score(X_test,y_test),3)), labels=dict(x=\"Observed Titer\", y=\"Predicted Titer\"))\n",
        "fig.update_layout(shapes = [{'type': 'line', 'yref': 'paper', 'xref': 'paper', 'y0': 0, 'y1': 1, 'x0': 0, 'x1': 1, 'layer': 'below'}])\n",
        "fig.show()"
      ],
      "metadata": {
        "colab": {
          "base_uri": "https://localhost:8080/",
          "height": 1000
        },
        "id": "LNlkWg-q3Xfp",
        "outputId": "602f4def-6b05-44bb-9a84-f8a2160d3e36"
      },
      "execution_count": null,
      "outputs": [
        {
          "output_type": "display_data",
          "data": {
            "text/html": [
              "<html>\n",
              "<head><meta charset=\"utf-8\" /></head>\n",
              "<body>\n",
              "    <div>            <script src=\"https://cdnjs.cloudflare.com/ajax/libs/mathjax/2.7.5/MathJax.js?config=TeX-AMS-MML_SVG\"></script><script type=\"text/javascript\">if (window.MathJax) {MathJax.Hub.Config({SVG: {font: \"STIX-Web\"}});}</script>                <script type=\"text/javascript\">window.PlotlyConfig = {MathJaxConfig: 'local'};</script>\n",
              "        <script src=\"https://cdn.plot.ly/plotly-2.8.3.min.js\"></script>                <div id=\"667f5230-9bf6-4f10-9fef-30413024b6e0\" class=\"plotly-graph-div\" style=\"height:525px; width:100%;\"></div>            <script type=\"text/javascript\">                                    window.PLOTLYENV=window.PLOTLYENV || {};                                    if (document.getElementById(\"667f5230-9bf6-4f10-9fef-30413024b6e0\")) {                    Plotly.newPlot(                        \"667f5230-9bf6-4f10-9fef-30413024b6e0\",                        [{\"hovertemplate\":\"Observed Titer=%{x}<br>Predicted Titer=%{y}<extra></extra>\",\"legendgroup\":\"\",\"marker\":{\"color\":\"#636efa\",\"symbol\":\"circle\"},\"mode\":\"markers\",\"name\":\"\",\"orientation\":\"v\",\"showlegend\":false,\"x\":[1565.3100316152315,854.4492329290191,1206.0966547089297,1587.9375363361153,811.5529901913034,841.4987076939608,645.8652400020387,978.3211904574658,1026.2593627477372,1307.3427908630745,1034.0873731742636,1268.3772140122305,1489.9274823809976,1519.9915046105887,1329.31439655397,1431.0248922870994,1566.2144147333108,1438.4509323399373,829.9221681206134,705.0060621997021,1432.1650836978292,188.37323461354003,1498.950979086217,920.6159834819938,1489.455399004581,1236.0520625432987,1323.9958683550722,1490.703545196068,1317.71949505948,1463.7461925349555,645.6194533195517,518.6891441332469,1508.020685458528,681.9077197106743,643.2530983456666,1171.9226021898683,1526.8075977874203,710.1789864596954,547.0659967970258,1239.099546696681,1275.603243989509,1516.3836910289606,1472.959836115183,1561.4366964617066,895.4073430723885,1139.0681753517283,1424.484489881591,1464.164972241741,639.5435764295627,1297.0316324502526],\"xaxis\":\"x\",\"y\":[1153.5475301890322,1124.362167341392,961.0620815930905,1271.0692942917922,883.8347275902847,1054.321504851275,1137.8560116195495,964.2392378284233,1137.7918951056863,994.8668810956215,1004.0791388536903,1207.6821950619862,1287.2398772748838,1228.2528142408826,1175.7369320956086,1349.9952874322314,1409.2338968151805,1258.1033348715703,941.2253839763795,1352.1509458857263,1187.6587363215956,657.4234703954803,1225.482687335367,1157.7370643115394,1331.027495006376,1230.4594173923863,944.1248500401707,1445.2906007648407,1106.704287799421,1126.346277478338,777.8249415095863,1066.2847641304388,1637.2522604154171,1073.0366716590956,1171.8407531496794,1256.7668193487473,1075.347348631821,1467.8360800912242,865.298157843298,1406.0475809572008,1175.7857916307803,1090.8992899994612,1224.620717531281,1500.678170765697,1117.2478861695154,979.426750515361,971.3783775206896,1262.2779623223587,1103.3031275709134,1145.3170328292408],\"yaxis\":\"y\",\"type\":\"scatter\"}],                        {\"template\":{\"data\":{\"bar\":[{\"error_x\":{\"color\":\"#2a3f5f\"},\"error_y\":{\"color\":\"#2a3f5f\"},\"marker\":{\"line\":{\"color\":\"#E5ECF6\",\"width\":0.5},\"pattern\":{\"fillmode\":\"overlay\",\"size\":10,\"solidity\":0.2}},\"type\":\"bar\"}],\"barpolar\":[{\"marker\":{\"line\":{\"color\":\"#E5ECF6\",\"width\":0.5},\"pattern\":{\"fillmode\":\"overlay\",\"size\":10,\"solidity\":0.2}},\"type\":\"barpolar\"}],\"carpet\":[{\"aaxis\":{\"endlinecolor\":\"#2a3f5f\",\"gridcolor\":\"white\",\"linecolor\":\"white\",\"minorgridcolor\":\"white\",\"startlinecolor\":\"#2a3f5f\"},\"baxis\":{\"endlinecolor\":\"#2a3f5f\",\"gridcolor\":\"white\",\"linecolor\":\"white\",\"minorgridcolor\":\"white\",\"startlinecolor\":\"#2a3f5f\"},\"type\":\"carpet\"}],\"choropleth\":[{\"colorbar\":{\"outlinewidth\":0,\"ticks\":\"\"},\"type\":\"choropleth\"}],\"contour\":[{\"colorbar\":{\"outlinewidth\":0,\"ticks\":\"\"},\"colorscale\":[[0.0,\"#0d0887\"],[0.1111111111111111,\"#46039f\"],[0.2222222222222222,\"#7201a8\"],[0.3333333333333333,\"#9c179e\"],[0.4444444444444444,\"#bd3786\"],[0.5555555555555556,\"#d8576b\"],[0.6666666666666666,\"#ed7953\"],[0.7777777777777778,\"#fb9f3a\"],[0.8888888888888888,\"#fdca26\"],[1.0,\"#f0f921\"]],\"type\":\"contour\"}],\"contourcarpet\":[{\"colorbar\":{\"outlinewidth\":0,\"ticks\":\"\"},\"type\":\"contourcarpet\"}],\"heatmap\":[{\"colorbar\":{\"outlinewidth\":0,\"ticks\":\"\"},\"colorscale\":[[0.0,\"#0d0887\"],[0.1111111111111111,\"#46039f\"],[0.2222222222222222,\"#7201a8\"],[0.3333333333333333,\"#9c179e\"],[0.4444444444444444,\"#bd3786\"],[0.5555555555555556,\"#d8576b\"],[0.6666666666666666,\"#ed7953\"],[0.7777777777777778,\"#fb9f3a\"],[0.8888888888888888,\"#fdca26\"],[1.0,\"#f0f921\"]],\"type\":\"heatmap\"}],\"heatmapgl\":[{\"colorbar\":{\"outlinewidth\":0,\"ticks\":\"\"},\"colorscale\":[[0.0,\"#0d0887\"],[0.1111111111111111,\"#46039f\"],[0.2222222222222222,\"#7201a8\"],[0.3333333333333333,\"#9c179e\"],[0.4444444444444444,\"#bd3786\"],[0.5555555555555556,\"#d8576b\"],[0.6666666666666666,\"#ed7953\"],[0.7777777777777778,\"#fb9f3a\"],[0.8888888888888888,\"#fdca26\"],[1.0,\"#f0f921\"]],\"type\":\"heatmapgl\"}],\"histogram\":[{\"marker\":{\"pattern\":{\"fillmode\":\"overlay\",\"size\":10,\"solidity\":0.2}},\"type\":\"histogram\"}],\"histogram2d\":[{\"colorbar\":{\"outlinewidth\":0,\"ticks\":\"\"},\"colorscale\":[[0.0,\"#0d0887\"],[0.1111111111111111,\"#46039f\"],[0.2222222222222222,\"#7201a8\"],[0.3333333333333333,\"#9c179e\"],[0.4444444444444444,\"#bd3786\"],[0.5555555555555556,\"#d8576b\"],[0.6666666666666666,\"#ed7953\"],[0.7777777777777778,\"#fb9f3a\"],[0.8888888888888888,\"#fdca26\"],[1.0,\"#f0f921\"]],\"type\":\"histogram2d\"}],\"histogram2dcontour\":[{\"colorbar\":{\"outlinewidth\":0,\"ticks\":\"\"},\"colorscale\":[[0.0,\"#0d0887\"],[0.1111111111111111,\"#46039f\"],[0.2222222222222222,\"#7201a8\"],[0.3333333333333333,\"#9c179e\"],[0.4444444444444444,\"#bd3786\"],[0.5555555555555556,\"#d8576b\"],[0.6666666666666666,\"#ed7953\"],[0.7777777777777778,\"#fb9f3a\"],[0.8888888888888888,\"#fdca26\"],[1.0,\"#f0f921\"]],\"type\":\"histogram2dcontour\"}],\"mesh3d\":[{\"colorbar\":{\"outlinewidth\":0,\"ticks\":\"\"},\"type\":\"mesh3d\"}],\"parcoords\":[{\"line\":{\"colorbar\":{\"outlinewidth\":0,\"ticks\":\"\"}},\"type\":\"parcoords\"}],\"pie\":[{\"automargin\":true,\"type\":\"pie\"}],\"scatter\":[{\"marker\":{\"colorbar\":{\"outlinewidth\":0,\"ticks\":\"\"}},\"type\":\"scatter\"}],\"scatter3d\":[{\"line\":{\"colorbar\":{\"outlinewidth\":0,\"ticks\":\"\"}},\"marker\":{\"colorbar\":{\"outlinewidth\":0,\"ticks\":\"\"}},\"type\":\"scatter3d\"}],\"scattercarpet\":[{\"marker\":{\"colorbar\":{\"outlinewidth\":0,\"ticks\":\"\"}},\"type\":\"scattercarpet\"}],\"scattergeo\":[{\"marker\":{\"colorbar\":{\"outlinewidth\":0,\"ticks\":\"\"}},\"type\":\"scattergeo\"}],\"scattergl\":[{\"marker\":{\"colorbar\":{\"outlinewidth\":0,\"ticks\":\"\"}},\"type\":\"scattergl\"}],\"scattermapbox\":[{\"marker\":{\"colorbar\":{\"outlinewidth\":0,\"ticks\":\"\"}},\"type\":\"scattermapbox\"}],\"scatterpolar\":[{\"marker\":{\"colorbar\":{\"outlinewidth\":0,\"ticks\":\"\"}},\"type\":\"scatterpolar\"}],\"scatterpolargl\":[{\"marker\":{\"colorbar\":{\"outlinewidth\":0,\"ticks\":\"\"}},\"type\":\"scatterpolargl\"}],\"scatterternary\":[{\"marker\":{\"colorbar\":{\"outlinewidth\":0,\"ticks\":\"\"}},\"type\":\"scatterternary\"}],\"surface\":[{\"colorbar\":{\"outlinewidth\":0,\"ticks\":\"\"},\"colorscale\":[[0.0,\"#0d0887\"],[0.1111111111111111,\"#46039f\"],[0.2222222222222222,\"#7201a8\"],[0.3333333333333333,\"#9c179e\"],[0.4444444444444444,\"#bd3786\"],[0.5555555555555556,\"#d8576b\"],[0.6666666666666666,\"#ed7953\"],[0.7777777777777778,\"#fb9f3a\"],[0.8888888888888888,\"#fdca26\"],[1.0,\"#f0f921\"]],\"type\":\"surface\"}],\"table\":[{\"cells\":{\"fill\":{\"color\":\"#EBF0F8\"},\"line\":{\"color\":\"white\"}},\"header\":{\"fill\":{\"color\":\"#C8D4E3\"},\"line\":{\"color\":\"white\"}},\"type\":\"table\"}]},\"layout\":{\"annotationdefaults\":{\"arrowcolor\":\"#2a3f5f\",\"arrowhead\":0,\"arrowwidth\":1},\"autotypenumbers\":\"strict\",\"coloraxis\":{\"colorbar\":{\"outlinewidth\":0,\"ticks\":\"\"}},\"colorscale\":{\"diverging\":[[0,\"#8e0152\"],[0.1,\"#c51b7d\"],[0.2,\"#de77ae\"],[0.3,\"#f1b6da\"],[0.4,\"#fde0ef\"],[0.5,\"#f7f7f7\"],[0.6,\"#e6f5d0\"],[0.7,\"#b8e186\"],[0.8,\"#7fbc41\"],[0.9,\"#4d9221\"],[1,\"#276419\"]],\"sequential\":[[0.0,\"#0d0887\"],[0.1111111111111111,\"#46039f\"],[0.2222222222222222,\"#7201a8\"],[0.3333333333333333,\"#9c179e\"],[0.4444444444444444,\"#bd3786\"],[0.5555555555555556,\"#d8576b\"],[0.6666666666666666,\"#ed7953\"],[0.7777777777777778,\"#fb9f3a\"],[0.8888888888888888,\"#fdca26\"],[1.0,\"#f0f921\"]],\"sequentialminus\":[[0.0,\"#0d0887\"],[0.1111111111111111,\"#46039f\"],[0.2222222222222222,\"#7201a8\"],[0.3333333333333333,\"#9c179e\"],[0.4444444444444444,\"#bd3786\"],[0.5555555555555556,\"#d8576b\"],[0.6666666666666666,\"#ed7953\"],[0.7777777777777778,\"#fb9f3a\"],[0.8888888888888888,\"#fdca26\"],[1.0,\"#f0f921\"]]},\"colorway\":[\"#636efa\",\"#EF553B\",\"#00cc96\",\"#ab63fa\",\"#FFA15A\",\"#19d3f3\",\"#FF6692\",\"#B6E880\",\"#FF97FF\",\"#FECB52\"],\"font\":{\"color\":\"#2a3f5f\"},\"geo\":{\"bgcolor\":\"white\",\"lakecolor\":\"white\",\"landcolor\":\"#E5ECF6\",\"showlakes\":true,\"showland\":true,\"subunitcolor\":\"white\"},\"hoverlabel\":{\"align\":\"left\"},\"hovermode\":\"closest\",\"mapbox\":{\"style\":\"light\"},\"paper_bgcolor\":\"white\",\"plot_bgcolor\":\"#E5ECF6\",\"polar\":{\"angularaxis\":{\"gridcolor\":\"white\",\"linecolor\":\"white\",\"ticks\":\"\"},\"bgcolor\":\"#E5ECF6\",\"radialaxis\":{\"gridcolor\":\"white\",\"linecolor\":\"white\",\"ticks\":\"\"}},\"scene\":{\"xaxis\":{\"backgroundcolor\":\"#E5ECF6\",\"gridcolor\":\"white\",\"gridwidth\":2,\"linecolor\":\"white\",\"showbackground\":true,\"ticks\":\"\",\"zerolinecolor\":\"white\"},\"yaxis\":{\"backgroundcolor\":\"#E5ECF6\",\"gridcolor\":\"white\",\"gridwidth\":2,\"linecolor\":\"white\",\"showbackground\":true,\"ticks\":\"\",\"zerolinecolor\":\"white\"},\"zaxis\":{\"backgroundcolor\":\"#E5ECF6\",\"gridcolor\":\"white\",\"gridwidth\":2,\"linecolor\":\"white\",\"showbackground\":true,\"ticks\":\"\",\"zerolinecolor\":\"white\"}},\"shapedefaults\":{\"line\":{\"color\":\"#2a3f5f\"}},\"ternary\":{\"aaxis\":{\"gridcolor\":\"white\",\"linecolor\":\"white\",\"ticks\":\"\"},\"baxis\":{\"gridcolor\":\"white\",\"linecolor\":\"white\",\"ticks\":\"\"},\"bgcolor\":\"#E5ECF6\",\"caxis\":{\"gridcolor\":\"white\",\"linecolor\":\"white\",\"ticks\":\"\"}},\"title\":{\"x\":0.05},\"xaxis\":{\"automargin\":true,\"gridcolor\":\"white\",\"linecolor\":\"white\",\"ticks\":\"\",\"title\":{\"standoff\":15},\"zerolinecolor\":\"white\",\"zerolinewidth\":2},\"yaxis\":{\"automargin\":true,\"gridcolor\":\"white\",\"linecolor\":\"white\",\"ticks\":\"\",\"title\":{\"standoff\":15},\"zerolinecolor\":\"white\",\"zerolinewidth\":2}}},\"xaxis\":{\"anchor\":\"y\",\"domain\":[0.0,1.0],\"title\":{\"text\":\"Observed Titer\"}},\"yaxis\":{\"anchor\":\"x\",\"domain\":[0.0,1.0],\"title\":{\"text\":\"Predicted Titer\"}},\"legend\":{\"tracegroupgap\":0},\"title\":{\"text\":\"Observed vs Predicted on Train Set; R^2 = 0.269\"},\"shapes\":[{\"layer\":\"below\",\"type\":\"line\",\"x0\":0,\"x1\":1,\"xref\":\"paper\",\"y0\":0,\"y1\":1,\"yref\":\"paper\"}]},                        {\"responsive\": true}                    ).then(function(){\n",
              "                            \n",
              "var gd = document.getElementById('667f5230-9bf6-4f10-9fef-30413024b6e0');\n",
              "var x = new MutationObserver(function (mutations, observer) {{\n",
              "        var display = window.getComputedStyle(gd).display;\n",
              "        if (!display || display === 'none') {{\n",
              "            console.log([gd, 'removed!']);\n",
              "            Plotly.purge(gd);\n",
              "            observer.disconnect();\n",
              "        }}\n",
              "}});\n",
              "\n",
              "// Listen for the removal of the full notebook cells\n",
              "var notebookContainer = gd.closest('#notebook-container');\n",
              "if (notebookContainer) {{\n",
              "    x.observe(notebookContainer, {childList: true});\n",
              "}}\n",
              "\n",
              "// Listen for the clearing of the current output cell\n",
              "var outputEl = gd.closest('.output');\n",
              "if (outputEl) {{\n",
              "    x.observe(outputEl, {childList: true});\n",
              "}}\n",
              "\n",
              "                        })                };                            </script>        </div>\n",
              "</body>\n",
              "</html>"
            ]
          },
          "metadata": {}
        },
        {
          "output_type": "display_data",
          "data": {
            "text/html": [
              "<html>\n",
              "<head><meta charset=\"utf-8\" /></head>\n",
              "<body>\n",
              "    <div>            <script src=\"https://cdnjs.cloudflare.com/ajax/libs/mathjax/2.7.5/MathJax.js?config=TeX-AMS-MML_SVG\"></script><script type=\"text/javascript\">if (window.MathJax) {MathJax.Hub.Config({SVG: {font: \"STIX-Web\"}});}</script>                <script type=\"text/javascript\">window.PlotlyConfig = {MathJaxConfig: 'local'};</script>\n",
              "        <script src=\"https://cdn.plot.ly/plotly-2.8.3.min.js\"></script>                <div id=\"903f82f2-7587-40d6-9aa6-11a0a8a35dc6\" class=\"plotly-graph-div\" style=\"height:525px; width:100%;\"></div>            <script type=\"text/javascript\">                                    window.PLOTLYENV=window.PLOTLYENV || {};                                    if (document.getElementById(\"903f82f2-7587-40d6-9aa6-11a0a8a35dc6\")) {                    Plotly.newPlot(                        \"903f82f2-7587-40d6-9aa6-11a0a8a35dc6\",                        [{\"hovertemplate\":\"Observed Titer=%{x}<br>Predicted Titer=%{y}<extra></extra>\",\"legendgroup\":\"\",\"marker\":{\"color\":\"#636efa\",\"symbol\":\"circle\"},\"mode\":\"markers\",\"name\":\"\",\"orientation\":\"v\",\"showlegend\":false,\"x\":[1486.555322665747,852.5421510506708,1553.3693013236993,1561.6944741051122,1561.9285093830367,1555.5990575252915,664.6187798777727,1588.1477685622356,1573.9990705283894,1393.0710551474324,1585.7304206956908,1534.768930546699,1586.8676827848133,1120.6204607891566,967.4138303905323,1581.2252660009826,1521.0375916532755,1255.2700326269191,1504.894937980849,728.3175492673013,1127.481659231358,1037.3529483901104,1153.1684886467415,1599.395719266287,1373.3875240676539,1588.972941246536,1397.182482338,1586.1796600561468,1268.1596010497083,1579.9184591007336,777.916772007101,1461.5586797240042,1318.0550040408075,1513.53945930146,678.9881062945203,920.6098404000459,1242.4469308698558,797.4025653838119,1418.0496260461455,1205.021737650426,1154.9710813250379,1360.312718950821,1101.630950463139,1504.347905209396,799.6625192661403,1530.773728116675,1419.8835249141798,1564.0148293057987,1562.1980325113516,1049.7026566235018],\"xaxis\":\"x\",\"y\":[1176.4549125703306,1169.105737430737,1065.8612417552763,1236.781895475643,1001.507682915237,1109.056283626836,1135.7003575788797,1036.6309487407223,1192.4769637420954,1062.6477662965374,1083.3081081025716,1219.5099405879453,1260.9436986254368,1228.4655689526649,1172.8192932106338,1324.4066897065595,1351.7114653676726,1270.5388945284624,1023.5191274179977,1283.9377108232993,1195.1237795005402,854.2292309825314,1196.5810200033936,1197.2917815983744,1312.940117636676,1245.5929556110177,1052.7873126470554,1363.8167939698408,1130.2174955092516,1145.5531541281866,933.6484779674836,1130.9340920982218,1494.8031810220505,1148.5437508729583,1168.200256625898,1220.9748334811557,1133.4453858081054,1391.1739971988793,987.0045780640185,1369.8439978508786,1222.8993995786363,1134.9291500280797,1206.2002772443545,1388.4640028360805,1132.2072667556536,1045.3709392999056,1051.5921832323781,1237.7031346953827,1140.4751651737338,1184.8136296402693],\"yaxis\":\"y\",\"type\":\"scatter\"}],                        {\"template\":{\"data\":{\"bar\":[{\"error_x\":{\"color\":\"#2a3f5f\"},\"error_y\":{\"color\":\"#2a3f5f\"},\"marker\":{\"line\":{\"color\":\"#E5ECF6\",\"width\":0.5},\"pattern\":{\"fillmode\":\"overlay\",\"size\":10,\"solidity\":0.2}},\"type\":\"bar\"}],\"barpolar\":[{\"marker\":{\"line\":{\"color\":\"#E5ECF6\",\"width\":0.5},\"pattern\":{\"fillmode\":\"overlay\",\"size\":10,\"solidity\":0.2}},\"type\":\"barpolar\"}],\"carpet\":[{\"aaxis\":{\"endlinecolor\":\"#2a3f5f\",\"gridcolor\":\"white\",\"linecolor\":\"white\",\"minorgridcolor\":\"white\",\"startlinecolor\":\"#2a3f5f\"},\"baxis\":{\"endlinecolor\":\"#2a3f5f\",\"gridcolor\":\"white\",\"linecolor\":\"white\",\"minorgridcolor\":\"white\",\"startlinecolor\":\"#2a3f5f\"},\"type\":\"carpet\"}],\"choropleth\":[{\"colorbar\":{\"outlinewidth\":0,\"ticks\":\"\"},\"type\":\"choropleth\"}],\"contour\":[{\"colorbar\":{\"outlinewidth\":0,\"ticks\":\"\"},\"colorscale\":[[0.0,\"#0d0887\"],[0.1111111111111111,\"#46039f\"],[0.2222222222222222,\"#7201a8\"],[0.3333333333333333,\"#9c179e\"],[0.4444444444444444,\"#bd3786\"],[0.5555555555555556,\"#d8576b\"],[0.6666666666666666,\"#ed7953\"],[0.7777777777777778,\"#fb9f3a\"],[0.8888888888888888,\"#fdca26\"],[1.0,\"#f0f921\"]],\"type\":\"contour\"}],\"contourcarpet\":[{\"colorbar\":{\"outlinewidth\":0,\"ticks\":\"\"},\"type\":\"contourcarpet\"}],\"heatmap\":[{\"colorbar\":{\"outlinewidth\":0,\"ticks\":\"\"},\"colorscale\":[[0.0,\"#0d0887\"],[0.1111111111111111,\"#46039f\"],[0.2222222222222222,\"#7201a8\"],[0.3333333333333333,\"#9c179e\"],[0.4444444444444444,\"#bd3786\"],[0.5555555555555556,\"#d8576b\"],[0.6666666666666666,\"#ed7953\"],[0.7777777777777778,\"#fb9f3a\"],[0.8888888888888888,\"#fdca26\"],[1.0,\"#f0f921\"]],\"type\":\"heatmap\"}],\"heatmapgl\":[{\"colorbar\":{\"outlinewidth\":0,\"ticks\":\"\"},\"colorscale\":[[0.0,\"#0d0887\"],[0.1111111111111111,\"#46039f\"],[0.2222222222222222,\"#7201a8\"],[0.3333333333333333,\"#9c179e\"],[0.4444444444444444,\"#bd3786\"],[0.5555555555555556,\"#d8576b\"],[0.6666666666666666,\"#ed7953\"],[0.7777777777777778,\"#fb9f3a\"],[0.8888888888888888,\"#fdca26\"],[1.0,\"#f0f921\"]],\"type\":\"heatmapgl\"}],\"histogram\":[{\"marker\":{\"pattern\":{\"fillmode\":\"overlay\",\"size\":10,\"solidity\":0.2}},\"type\":\"histogram\"}],\"histogram2d\":[{\"colorbar\":{\"outlinewidth\":0,\"ticks\":\"\"},\"colorscale\":[[0.0,\"#0d0887\"],[0.1111111111111111,\"#46039f\"],[0.2222222222222222,\"#7201a8\"],[0.3333333333333333,\"#9c179e\"],[0.4444444444444444,\"#bd3786\"],[0.5555555555555556,\"#d8576b\"],[0.6666666666666666,\"#ed7953\"],[0.7777777777777778,\"#fb9f3a\"],[0.8888888888888888,\"#fdca26\"],[1.0,\"#f0f921\"]],\"type\":\"histogram2d\"}],\"histogram2dcontour\":[{\"colorbar\":{\"outlinewidth\":0,\"ticks\":\"\"},\"colorscale\":[[0.0,\"#0d0887\"],[0.1111111111111111,\"#46039f\"],[0.2222222222222222,\"#7201a8\"],[0.3333333333333333,\"#9c179e\"],[0.4444444444444444,\"#bd3786\"],[0.5555555555555556,\"#d8576b\"],[0.6666666666666666,\"#ed7953\"],[0.7777777777777778,\"#fb9f3a\"],[0.8888888888888888,\"#fdca26\"],[1.0,\"#f0f921\"]],\"type\":\"histogram2dcontour\"}],\"mesh3d\":[{\"colorbar\":{\"outlinewidth\":0,\"ticks\":\"\"},\"type\":\"mesh3d\"}],\"parcoords\":[{\"line\":{\"colorbar\":{\"outlinewidth\":0,\"ticks\":\"\"}},\"type\":\"parcoords\"}],\"pie\":[{\"automargin\":true,\"type\":\"pie\"}],\"scatter\":[{\"marker\":{\"colorbar\":{\"outlinewidth\":0,\"ticks\":\"\"}},\"type\":\"scatter\"}],\"scatter3d\":[{\"line\":{\"colorbar\":{\"outlinewidth\":0,\"ticks\":\"\"}},\"marker\":{\"colorbar\":{\"outlinewidth\":0,\"ticks\":\"\"}},\"type\":\"scatter3d\"}],\"scattercarpet\":[{\"marker\":{\"colorbar\":{\"outlinewidth\":0,\"ticks\":\"\"}},\"type\":\"scattercarpet\"}],\"scattergeo\":[{\"marker\":{\"colorbar\":{\"outlinewidth\":0,\"ticks\":\"\"}},\"type\":\"scattergeo\"}],\"scattergl\":[{\"marker\":{\"colorbar\":{\"outlinewidth\":0,\"ticks\":\"\"}},\"type\":\"scattergl\"}],\"scattermapbox\":[{\"marker\":{\"colorbar\":{\"outlinewidth\":0,\"ticks\":\"\"}},\"type\":\"scattermapbox\"}],\"scatterpolar\":[{\"marker\":{\"colorbar\":{\"outlinewidth\":0,\"ticks\":\"\"}},\"type\":\"scatterpolar\"}],\"scatterpolargl\":[{\"marker\":{\"colorbar\":{\"outlinewidth\":0,\"ticks\":\"\"}},\"type\":\"scatterpolargl\"}],\"scatterternary\":[{\"marker\":{\"colorbar\":{\"outlinewidth\":0,\"ticks\":\"\"}},\"type\":\"scatterternary\"}],\"surface\":[{\"colorbar\":{\"outlinewidth\":0,\"ticks\":\"\"},\"colorscale\":[[0.0,\"#0d0887\"],[0.1111111111111111,\"#46039f\"],[0.2222222222222222,\"#7201a8\"],[0.3333333333333333,\"#9c179e\"],[0.4444444444444444,\"#bd3786\"],[0.5555555555555556,\"#d8576b\"],[0.6666666666666666,\"#ed7953\"],[0.7777777777777778,\"#fb9f3a\"],[0.8888888888888888,\"#fdca26\"],[1.0,\"#f0f921\"]],\"type\":\"surface\"}],\"table\":[{\"cells\":{\"fill\":{\"color\":\"#EBF0F8\"},\"line\":{\"color\":\"white\"}},\"header\":{\"fill\":{\"color\":\"#C8D4E3\"},\"line\":{\"color\":\"white\"}},\"type\":\"table\"}]},\"layout\":{\"annotationdefaults\":{\"arrowcolor\":\"#2a3f5f\",\"arrowhead\":0,\"arrowwidth\":1},\"autotypenumbers\":\"strict\",\"coloraxis\":{\"colorbar\":{\"outlinewidth\":0,\"ticks\":\"\"}},\"colorscale\":{\"diverging\":[[0,\"#8e0152\"],[0.1,\"#c51b7d\"],[0.2,\"#de77ae\"],[0.3,\"#f1b6da\"],[0.4,\"#fde0ef\"],[0.5,\"#f7f7f7\"],[0.6,\"#e6f5d0\"],[0.7,\"#b8e186\"],[0.8,\"#7fbc41\"],[0.9,\"#4d9221\"],[1,\"#276419\"]],\"sequential\":[[0.0,\"#0d0887\"],[0.1111111111111111,\"#46039f\"],[0.2222222222222222,\"#7201a8\"],[0.3333333333333333,\"#9c179e\"],[0.4444444444444444,\"#bd3786\"],[0.5555555555555556,\"#d8576b\"],[0.6666666666666666,\"#ed7953\"],[0.7777777777777778,\"#fb9f3a\"],[0.8888888888888888,\"#fdca26\"],[1.0,\"#f0f921\"]],\"sequentialminus\":[[0.0,\"#0d0887\"],[0.1111111111111111,\"#46039f\"],[0.2222222222222222,\"#7201a8\"],[0.3333333333333333,\"#9c179e\"],[0.4444444444444444,\"#bd3786\"],[0.5555555555555556,\"#d8576b\"],[0.6666666666666666,\"#ed7953\"],[0.7777777777777778,\"#fb9f3a\"],[0.8888888888888888,\"#fdca26\"],[1.0,\"#f0f921\"]]},\"colorway\":[\"#636efa\",\"#EF553B\",\"#00cc96\",\"#ab63fa\",\"#FFA15A\",\"#19d3f3\",\"#FF6692\",\"#B6E880\",\"#FF97FF\",\"#FECB52\"],\"font\":{\"color\":\"#2a3f5f\"},\"geo\":{\"bgcolor\":\"white\",\"lakecolor\":\"white\",\"landcolor\":\"#E5ECF6\",\"showlakes\":true,\"showland\":true,\"subunitcolor\":\"white\"},\"hoverlabel\":{\"align\":\"left\"},\"hovermode\":\"closest\",\"mapbox\":{\"style\":\"light\"},\"paper_bgcolor\":\"white\",\"plot_bgcolor\":\"#E5ECF6\",\"polar\":{\"angularaxis\":{\"gridcolor\":\"white\",\"linecolor\":\"white\",\"ticks\":\"\"},\"bgcolor\":\"#E5ECF6\",\"radialaxis\":{\"gridcolor\":\"white\",\"linecolor\":\"white\",\"ticks\":\"\"}},\"scene\":{\"xaxis\":{\"backgroundcolor\":\"#E5ECF6\",\"gridcolor\":\"white\",\"gridwidth\":2,\"linecolor\":\"white\",\"showbackground\":true,\"ticks\":\"\",\"zerolinecolor\":\"white\"},\"yaxis\":{\"backgroundcolor\":\"#E5ECF6\",\"gridcolor\":\"white\",\"gridwidth\":2,\"linecolor\":\"white\",\"showbackground\":true,\"ticks\":\"\",\"zerolinecolor\":\"white\"},\"zaxis\":{\"backgroundcolor\":\"#E5ECF6\",\"gridcolor\":\"white\",\"gridwidth\":2,\"linecolor\":\"white\",\"showbackground\":true,\"ticks\":\"\",\"zerolinecolor\":\"white\"}},\"shapedefaults\":{\"line\":{\"color\":\"#2a3f5f\"}},\"ternary\":{\"aaxis\":{\"gridcolor\":\"white\",\"linecolor\":\"white\",\"ticks\":\"\"},\"baxis\":{\"gridcolor\":\"white\",\"linecolor\":\"white\",\"ticks\":\"\"},\"bgcolor\":\"#E5ECF6\",\"caxis\":{\"gridcolor\":\"white\",\"linecolor\":\"white\",\"ticks\":\"\"}},\"title\":{\"x\":0.05},\"xaxis\":{\"automargin\":true,\"gridcolor\":\"white\",\"linecolor\":\"white\",\"ticks\":\"\",\"title\":{\"standoff\":15},\"zerolinecolor\":\"white\",\"zerolinewidth\":2},\"yaxis\":{\"automargin\":true,\"gridcolor\":\"white\",\"linecolor\":\"white\",\"ticks\":\"\",\"title\":{\"standoff\":15},\"zerolinecolor\":\"white\",\"zerolinewidth\":2}}},\"xaxis\":{\"anchor\":\"y\",\"domain\":[0.0,1.0],\"title\":{\"text\":\"Observed Titer\"}},\"yaxis\":{\"anchor\":\"x\",\"domain\":[0.0,1.0],\"title\":{\"text\":\"Predicted Titer\"}},\"legend\":{\"tracegroupgap\":0},\"title\":{\"text\":\"Observed vs Predicted on Test Set; R^2 = -0.376\"},\"shapes\":[{\"layer\":\"below\",\"type\":\"line\",\"x0\":0,\"x1\":1,\"xref\":\"paper\",\"y0\":0,\"y1\":1,\"yref\":\"paper\"}]},                        {\"responsive\": true}                    ).then(function(){\n",
              "                            \n",
              "var gd = document.getElementById('903f82f2-7587-40d6-9aa6-11a0a8a35dc6');\n",
              "var x = new MutationObserver(function (mutations, observer) {{\n",
              "        var display = window.getComputedStyle(gd).display;\n",
              "        if (!display || display === 'none') {{\n",
              "            console.log([gd, 'removed!']);\n",
              "            Plotly.purge(gd);\n",
              "            observer.disconnect();\n",
              "        }}\n",
              "}});\n",
              "\n",
              "// Listen for the removal of the full notebook cells\n",
              "var notebookContainer = gd.closest('#notebook-container');\n",
              "if (notebookContainer) {{\n",
              "    x.observe(notebookContainer, {childList: true});\n",
              "}}\n",
              "\n",
              "// Listen for the clearing of the current output cell\n",
              "var outputEl = gd.closest('.output');\n",
              "if (outputEl) {{\n",
              "    x.observe(outputEl, {childList: true});\n",
              "}}\n",
              "\n",
              "                        })                };                            </script>        </div>\n",
              "</body>\n",
              "</html>"
            ]
          },
          "metadata": {}
        }
      ]
    },
    {
      "cell_type": "code",
      "source": [
        "# Absolute RMSEP\n",
        "rmse_abs = mean_squared_error(y_test, yhat_test,squared=False)\n",
        "print('Absolute RMSEP: ',rmse_abs)\n",
        "# Relative RMSEP\n",
        "rmse_rel = mean_squared_error(y_test, yhat_test,squared=False) / np.std(np.array(y_test))\n",
        "print('Relative RMSEP: ',rmse_rel)"
      ],
      "metadata": {
        "colab": {
          "base_uri": "https://localhost:8080/"
        },
        "id": "43b0WGXZ9ECg",
        "outputId": "4a4aad83-71d8-4207-c810-d876275ca48f"
      },
      "execution_count": null,
      "outputs": [
        {
          "output_type": "stream",
          "name": "stdout",
          "text": [
            "Absolute RMSEP:  339.0945364710543\n",
            "Relative RMSEP:  1.17296498139464\n"
          ]
        }
      ]
    },
    {
      "cell_type": "markdown",
      "source": [
        "### Plot variance explained in the Y\n",
        "\n",
        "Similarly as in PCA script, we can look at explained variance by the principal components. However the difference being that in PCA we are trying to maximize the variance explained. In PLS we are trying to maximize the covarinace with the target."
      ],
      "metadata": {
        "id": "75UqadR0JEXQ"
      }
    },
    {
      "cell_type": "code",
      "source": [
        "# Plot Explained Variance plots\n",
        "scores = pls.x_scores_\n",
        "expl_var = np.var(scores, axis=0)\n",
        "expl_var_ratio = expl_var / np.sum(expl_var)\n",
        "fig = px.line(x=list(range(N_LV)), y=np.cumsum(expl_var_ratio), color=px.Constant(\"Cumulative explained variance\"), labels=dict(x=\"Principal component index\", y=\"Explained Variance Ratio\", color=\"Legend\"))\n",
        "fig.add_bar(x=list(range(N_LV)), y=expl_var_ratio, name=\"Individual explained variance\")\n",
        "fig.show()\n"
      ],
      "metadata": {
        "colab": {
          "base_uri": "https://localhost:8080/",
          "height": 542
        },
        "id": "AgnQLIpd3Wtq",
        "outputId": "627e7b60-0079-4c57-d3d7-5dbf12cc625b"
      },
      "execution_count": null,
      "outputs": [
        {
          "output_type": "display_data",
          "data": {
            "text/html": [
              "<html>\n",
              "<head><meta charset=\"utf-8\" /></head>\n",
              "<body>\n",
              "    <div>            <script src=\"https://cdnjs.cloudflare.com/ajax/libs/mathjax/2.7.5/MathJax.js?config=TeX-AMS-MML_SVG\"></script><script type=\"text/javascript\">if (window.MathJax) {MathJax.Hub.Config({SVG: {font: \"STIX-Web\"}});}</script>                <script type=\"text/javascript\">window.PlotlyConfig = {MathJaxConfig: 'local'};</script>\n",
              "        <script src=\"https://cdn.plot.ly/plotly-2.8.3.min.js\"></script>                <div id=\"b6b3207a-791b-42bf-ad9a-f899dc83951b\" class=\"plotly-graph-div\" style=\"height:525px; width:100%;\"></div>            <script type=\"text/javascript\">                                    window.PLOTLYENV=window.PLOTLYENV || {};                                    if (document.getElementById(\"b6b3207a-791b-42bf-ad9a-f899dc83951b\")) {                    Plotly.newPlot(                        \"b6b3207a-791b-42bf-ad9a-f899dc83951b\",                        [{\"hovertemplate\":\"Legend=Cumulative explained variance<br>Principal component index=%{x}<br>Explained Variance Ratio=%{y}<extra></extra>\",\"legendgroup\":\"Cumulative explained variance\",\"line\":{\"color\":\"#636efa\",\"dash\":\"solid\"},\"marker\":{\"symbol\":\"circle\"},\"mode\":\"lines\",\"name\":\"Cumulative explained variance\",\"orientation\":\"v\",\"showlegend\":true,\"x\":[0,1,2,3,4],\"xaxis\":\"x\",\"y\":[0.23512487018316108,0.43824034763431896,0.65302534740109,0.8316956554494177,0.9999999999999999],\"yaxis\":\"y\",\"type\":\"scatter\"},{\"name\":\"Individual explained variance\",\"x\":[0,1,2,3,4],\"y\":[0.23512487018316108,0.2031154774511579,0.21478499976677104,0.17867030804832768,0.16830434455058219],\"type\":\"bar\"}],                        {\"template\":{\"data\":{\"bar\":[{\"error_x\":{\"color\":\"#2a3f5f\"},\"error_y\":{\"color\":\"#2a3f5f\"},\"marker\":{\"line\":{\"color\":\"#E5ECF6\",\"width\":0.5},\"pattern\":{\"fillmode\":\"overlay\",\"size\":10,\"solidity\":0.2}},\"type\":\"bar\"}],\"barpolar\":[{\"marker\":{\"line\":{\"color\":\"#E5ECF6\",\"width\":0.5},\"pattern\":{\"fillmode\":\"overlay\",\"size\":10,\"solidity\":0.2}},\"type\":\"barpolar\"}],\"carpet\":[{\"aaxis\":{\"endlinecolor\":\"#2a3f5f\",\"gridcolor\":\"white\",\"linecolor\":\"white\",\"minorgridcolor\":\"white\",\"startlinecolor\":\"#2a3f5f\"},\"baxis\":{\"endlinecolor\":\"#2a3f5f\",\"gridcolor\":\"white\",\"linecolor\":\"white\",\"minorgridcolor\":\"white\",\"startlinecolor\":\"#2a3f5f\"},\"type\":\"carpet\"}],\"choropleth\":[{\"colorbar\":{\"outlinewidth\":0,\"ticks\":\"\"},\"type\":\"choropleth\"}],\"contour\":[{\"colorbar\":{\"outlinewidth\":0,\"ticks\":\"\"},\"colorscale\":[[0.0,\"#0d0887\"],[0.1111111111111111,\"#46039f\"],[0.2222222222222222,\"#7201a8\"],[0.3333333333333333,\"#9c179e\"],[0.4444444444444444,\"#bd3786\"],[0.5555555555555556,\"#d8576b\"],[0.6666666666666666,\"#ed7953\"],[0.7777777777777778,\"#fb9f3a\"],[0.8888888888888888,\"#fdca26\"],[1.0,\"#f0f921\"]],\"type\":\"contour\"}],\"contourcarpet\":[{\"colorbar\":{\"outlinewidth\":0,\"ticks\":\"\"},\"type\":\"contourcarpet\"}],\"heatmap\":[{\"colorbar\":{\"outlinewidth\":0,\"ticks\":\"\"},\"colorscale\":[[0.0,\"#0d0887\"],[0.1111111111111111,\"#46039f\"],[0.2222222222222222,\"#7201a8\"],[0.3333333333333333,\"#9c179e\"],[0.4444444444444444,\"#bd3786\"],[0.5555555555555556,\"#d8576b\"],[0.6666666666666666,\"#ed7953\"],[0.7777777777777778,\"#fb9f3a\"],[0.8888888888888888,\"#fdca26\"],[1.0,\"#f0f921\"]],\"type\":\"heatmap\"}],\"heatmapgl\":[{\"colorbar\":{\"outlinewidth\":0,\"ticks\":\"\"},\"colorscale\":[[0.0,\"#0d0887\"],[0.1111111111111111,\"#46039f\"],[0.2222222222222222,\"#7201a8\"],[0.3333333333333333,\"#9c179e\"],[0.4444444444444444,\"#bd3786\"],[0.5555555555555556,\"#d8576b\"],[0.6666666666666666,\"#ed7953\"],[0.7777777777777778,\"#fb9f3a\"],[0.8888888888888888,\"#fdca26\"],[1.0,\"#f0f921\"]],\"type\":\"heatmapgl\"}],\"histogram\":[{\"marker\":{\"pattern\":{\"fillmode\":\"overlay\",\"size\":10,\"solidity\":0.2}},\"type\":\"histogram\"}],\"histogram2d\":[{\"colorbar\":{\"outlinewidth\":0,\"ticks\":\"\"},\"colorscale\":[[0.0,\"#0d0887\"],[0.1111111111111111,\"#46039f\"],[0.2222222222222222,\"#7201a8\"],[0.3333333333333333,\"#9c179e\"],[0.4444444444444444,\"#bd3786\"],[0.5555555555555556,\"#d8576b\"],[0.6666666666666666,\"#ed7953\"],[0.7777777777777778,\"#fb9f3a\"],[0.8888888888888888,\"#fdca26\"],[1.0,\"#f0f921\"]],\"type\":\"histogram2d\"}],\"histogram2dcontour\":[{\"colorbar\":{\"outlinewidth\":0,\"ticks\":\"\"},\"colorscale\":[[0.0,\"#0d0887\"],[0.1111111111111111,\"#46039f\"],[0.2222222222222222,\"#7201a8\"],[0.3333333333333333,\"#9c179e\"],[0.4444444444444444,\"#bd3786\"],[0.5555555555555556,\"#d8576b\"],[0.6666666666666666,\"#ed7953\"],[0.7777777777777778,\"#fb9f3a\"],[0.8888888888888888,\"#fdca26\"],[1.0,\"#f0f921\"]],\"type\":\"histogram2dcontour\"}],\"mesh3d\":[{\"colorbar\":{\"outlinewidth\":0,\"ticks\":\"\"},\"type\":\"mesh3d\"}],\"parcoords\":[{\"line\":{\"colorbar\":{\"outlinewidth\":0,\"ticks\":\"\"}},\"type\":\"parcoords\"}],\"pie\":[{\"automargin\":true,\"type\":\"pie\"}],\"scatter\":[{\"marker\":{\"colorbar\":{\"outlinewidth\":0,\"ticks\":\"\"}},\"type\":\"scatter\"}],\"scatter3d\":[{\"line\":{\"colorbar\":{\"outlinewidth\":0,\"ticks\":\"\"}},\"marker\":{\"colorbar\":{\"outlinewidth\":0,\"ticks\":\"\"}},\"type\":\"scatter3d\"}],\"scattercarpet\":[{\"marker\":{\"colorbar\":{\"outlinewidth\":0,\"ticks\":\"\"}},\"type\":\"scattercarpet\"}],\"scattergeo\":[{\"marker\":{\"colorbar\":{\"outlinewidth\":0,\"ticks\":\"\"}},\"type\":\"scattergeo\"}],\"scattergl\":[{\"marker\":{\"colorbar\":{\"outlinewidth\":0,\"ticks\":\"\"}},\"type\":\"scattergl\"}],\"scattermapbox\":[{\"marker\":{\"colorbar\":{\"outlinewidth\":0,\"ticks\":\"\"}},\"type\":\"scattermapbox\"}],\"scatterpolar\":[{\"marker\":{\"colorbar\":{\"outlinewidth\":0,\"ticks\":\"\"}},\"type\":\"scatterpolar\"}],\"scatterpolargl\":[{\"marker\":{\"colorbar\":{\"outlinewidth\":0,\"ticks\":\"\"}},\"type\":\"scatterpolargl\"}],\"scatterternary\":[{\"marker\":{\"colorbar\":{\"outlinewidth\":0,\"ticks\":\"\"}},\"type\":\"scatterternary\"}],\"surface\":[{\"colorbar\":{\"outlinewidth\":0,\"ticks\":\"\"},\"colorscale\":[[0.0,\"#0d0887\"],[0.1111111111111111,\"#46039f\"],[0.2222222222222222,\"#7201a8\"],[0.3333333333333333,\"#9c179e\"],[0.4444444444444444,\"#bd3786\"],[0.5555555555555556,\"#d8576b\"],[0.6666666666666666,\"#ed7953\"],[0.7777777777777778,\"#fb9f3a\"],[0.8888888888888888,\"#fdca26\"],[1.0,\"#f0f921\"]],\"type\":\"surface\"}],\"table\":[{\"cells\":{\"fill\":{\"color\":\"#EBF0F8\"},\"line\":{\"color\":\"white\"}},\"header\":{\"fill\":{\"color\":\"#C8D4E3\"},\"line\":{\"color\":\"white\"}},\"type\":\"table\"}]},\"layout\":{\"annotationdefaults\":{\"arrowcolor\":\"#2a3f5f\",\"arrowhead\":0,\"arrowwidth\":1},\"autotypenumbers\":\"strict\",\"coloraxis\":{\"colorbar\":{\"outlinewidth\":0,\"ticks\":\"\"}},\"colorscale\":{\"diverging\":[[0,\"#8e0152\"],[0.1,\"#c51b7d\"],[0.2,\"#de77ae\"],[0.3,\"#f1b6da\"],[0.4,\"#fde0ef\"],[0.5,\"#f7f7f7\"],[0.6,\"#e6f5d0\"],[0.7,\"#b8e186\"],[0.8,\"#7fbc41\"],[0.9,\"#4d9221\"],[1,\"#276419\"]],\"sequential\":[[0.0,\"#0d0887\"],[0.1111111111111111,\"#46039f\"],[0.2222222222222222,\"#7201a8\"],[0.3333333333333333,\"#9c179e\"],[0.4444444444444444,\"#bd3786\"],[0.5555555555555556,\"#d8576b\"],[0.6666666666666666,\"#ed7953\"],[0.7777777777777778,\"#fb9f3a\"],[0.8888888888888888,\"#fdca26\"],[1.0,\"#f0f921\"]],\"sequentialminus\":[[0.0,\"#0d0887\"],[0.1111111111111111,\"#46039f\"],[0.2222222222222222,\"#7201a8\"],[0.3333333333333333,\"#9c179e\"],[0.4444444444444444,\"#bd3786\"],[0.5555555555555556,\"#d8576b\"],[0.6666666666666666,\"#ed7953\"],[0.7777777777777778,\"#fb9f3a\"],[0.8888888888888888,\"#fdca26\"],[1.0,\"#f0f921\"]]},\"colorway\":[\"#636efa\",\"#EF553B\",\"#00cc96\",\"#ab63fa\",\"#FFA15A\",\"#19d3f3\",\"#FF6692\",\"#B6E880\",\"#FF97FF\",\"#FECB52\"],\"font\":{\"color\":\"#2a3f5f\"},\"geo\":{\"bgcolor\":\"white\",\"lakecolor\":\"white\",\"landcolor\":\"#E5ECF6\",\"showlakes\":true,\"showland\":true,\"subunitcolor\":\"white\"},\"hoverlabel\":{\"align\":\"left\"},\"hovermode\":\"closest\",\"mapbox\":{\"style\":\"light\"},\"paper_bgcolor\":\"white\",\"plot_bgcolor\":\"#E5ECF6\",\"polar\":{\"angularaxis\":{\"gridcolor\":\"white\",\"linecolor\":\"white\",\"ticks\":\"\"},\"bgcolor\":\"#E5ECF6\",\"radialaxis\":{\"gridcolor\":\"white\",\"linecolor\":\"white\",\"ticks\":\"\"}},\"scene\":{\"xaxis\":{\"backgroundcolor\":\"#E5ECF6\",\"gridcolor\":\"white\",\"gridwidth\":2,\"linecolor\":\"white\",\"showbackground\":true,\"ticks\":\"\",\"zerolinecolor\":\"white\"},\"yaxis\":{\"backgroundcolor\":\"#E5ECF6\",\"gridcolor\":\"white\",\"gridwidth\":2,\"linecolor\":\"white\",\"showbackground\":true,\"ticks\":\"\",\"zerolinecolor\":\"white\"},\"zaxis\":{\"backgroundcolor\":\"#E5ECF6\",\"gridcolor\":\"white\",\"gridwidth\":2,\"linecolor\":\"white\",\"showbackground\":true,\"ticks\":\"\",\"zerolinecolor\":\"white\"}},\"shapedefaults\":{\"line\":{\"color\":\"#2a3f5f\"}},\"ternary\":{\"aaxis\":{\"gridcolor\":\"white\",\"linecolor\":\"white\",\"ticks\":\"\"},\"baxis\":{\"gridcolor\":\"white\",\"linecolor\":\"white\",\"ticks\":\"\"},\"bgcolor\":\"#E5ECF6\",\"caxis\":{\"gridcolor\":\"white\",\"linecolor\":\"white\",\"ticks\":\"\"}},\"title\":{\"x\":0.05},\"xaxis\":{\"automargin\":true,\"gridcolor\":\"white\",\"linecolor\":\"white\",\"ticks\":\"\",\"title\":{\"standoff\":15},\"zerolinecolor\":\"white\",\"zerolinewidth\":2},\"yaxis\":{\"automargin\":true,\"gridcolor\":\"white\",\"linecolor\":\"white\",\"ticks\":\"\",\"title\":{\"standoff\":15},\"zerolinecolor\":\"white\",\"zerolinewidth\":2}}},\"xaxis\":{\"anchor\":\"y\",\"domain\":[0.0,1.0],\"title\":{\"text\":\"Principal component index\"}},\"yaxis\":{\"anchor\":\"x\",\"domain\":[0.0,1.0],\"title\":{\"text\":\"Explained Variance Ratio\"}},\"legend\":{\"title\":{\"text\":\"Legend\"},\"tracegroupgap\":0},\"margin\":{\"t\":60}},                        {\"responsive\": true}                    ).then(function(){\n",
              "                            \n",
              "var gd = document.getElementById('b6b3207a-791b-42bf-ad9a-f899dc83951b');\n",
              "var x = new MutationObserver(function (mutations, observer) {{\n",
              "        var display = window.getComputedStyle(gd).display;\n",
              "        if (!display || display === 'none') {{\n",
              "            console.log([gd, 'removed!']);\n",
              "            Plotly.purge(gd);\n",
              "            observer.disconnect();\n",
              "        }}\n",
              "}});\n",
              "\n",
              "// Listen for the removal of the full notebook cells\n",
              "var notebookContainer = gd.closest('#notebook-container');\n",
              "if (notebookContainer) {{\n",
              "    x.observe(notebookContainer, {childList: true});\n",
              "}}\n",
              "\n",
              "// Listen for the clearing of the current output cell\n",
              "var outputEl = gd.closest('.output');\n",
              "if (outputEl) {{\n",
              "    x.observe(outputEl, {childList: true});\n",
              "}}\n",
              "\n",
              "                        })                };                            </script>        </div>\n",
              "</body>\n",
              "</html>"
            ]
          },
          "metadata": {}
        }
      ]
    },
    {
      "cell_type": "code",
      "source": [
        "# Principal component on x-axis\n",
        "select_x_pca = 1\n",
        "# Principal component on y-axis\n",
        "select_y_pca = 2"
      ],
      "metadata": {
        "id": "9vzQgQ8bLjFP"
      },
      "execution_count": null,
      "outputs": []
    },
    {
      "cell_type": "code",
      "source": [
        "# Plot loadings\n",
        "loadings = pls.x_loadings_\n",
        "fig = px.scatter(x=pls.x_scores_[:,select_x_pca-1],y=pls.x_scores_[:,select_y_pca-1], title=\"PLS Score and loadings plot\",labels={'x':\"PC - \"+ str(select_x_pca) , 'y':\"PC -\"+ str(select_y_pca)})\n",
        "for i, feature in enumerate(doe.columns):\n",
        "    fig.add_shape(type='line', x0=0, y0=0, x1=loadings[i,select_x_pca-1], y1=loadings[i,select_y_pca-1])\n",
        "    fig.add_annotation(x=loadings[i,select_x_pca-1], y=loadings[i,select_y_pca-1], ax=0, ay=0, xanchor=\"center\", yanchor=\"bottom\", text=feature)\n",
        "fig.show()"
      ],
      "metadata": {
        "colab": {
          "base_uri": "https://localhost:8080/",
          "height": 542
        },
        "id": "4oVufG1OF79g",
        "outputId": "e6a8b706-9347-41b8-8a2a-be38d127a93d"
      },
      "execution_count": null,
      "outputs": [
        {
          "output_type": "display_data",
          "data": {
            "text/html": [
              "<html>\n",
              "<head><meta charset=\"utf-8\" /></head>\n",
              "<body>\n",
              "    <div>            <script src=\"https://cdnjs.cloudflare.com/ajax/libs/mathjax/2.7.5/MathJax.js?config=TeX-AMS-MML_SVG\"></script><script type=\"text/javascript\">if (window.MathJax) {MathJax.Hub.Config({SVG: {font: \"STIX-Web\"}});}</script>                <script type=\"text/javascript\">window.PlotlyConfig = {MathJaxConfig: 'local'};</script>\n",
              "        <script src=\"https://cdn.plot.ly/plotly-2.8.3.min.js\"></script>                <div id=\"ede9fac6-d95c-4920-a8cd-15c0560fe00e\" class=\"plotly-graph-div\" style=\"height:525px; width:100%;\"></div>            <script type=\"text/javascript\">                                    window.PLOTLYENV=window.PLOTLYENV || {};                                    if (document.getElementById(\"ede9fac6-d95c-4920-a8cd-15c0560fe00e\")) {                    Plotly.newPlot(                        \"ede9fac6-d95c-4920-a8cd-15c0560fe00e\",                        [{\"hovertemplate\":\"PC - 1=%{x}<br>PC -2=%{y}<extra></extra>\",\"legendgroup\":\"\",\"marker\":{\"color\":\"#636efa\",\"symbol\":\"circle\"},\"mode\":\"markers\",\"name\":\"\",\"orientation\":\"v\",\"showlegend\":false,\"x\":[-4.6989689174879566e-17,-0.18343166993268928,-1.0382543929110315,0.7969180325177925,-1.601081405981929,-0.4988770840803559,-0.012209319096469495,-0.9905848333220627,-0.20807403713392328,-0.8707202404740515,-0.8999636236534287,0.2697382298634626,0.8053687977911694,0.2821065864812819,0.09405302139233174,1.100126911907695,1.483347161930081,0.4579397910524008,-1.0954969384295272,1.2157113246106797,0.2222610148644111,-2.817937937876785,0.5624196381880509,-0.16433698509773814,1.000634714214232,0.3542093736264609,-1.3325497876480856,1.6647373284362568,-0.11797701211410208,-0.04779530337881588,-2.0805881743114023,-0.5706352490642711,2.7596215033953633,-0.48264664343078373,0.17948949723517454,0.56761458244313,-0.5222964823444115,1.7816151203008879,-1.6160809402971905,1.3980193048666623,-0.012866373143165744,-0.42859550695945825,0.4220130934195398,2.0343771212793373,-0.18260997661850237,-0.9273804944826056,-0.9550940194644895,0.6520020935495694,-0.32512957956965804,-0.12111023254903633],\"xaxis\":\"x\",\"y\":[-1.7919142065275841e-16,0.36608723401783194,-0.18179301189806202,-1.4889522839088594,0.5708300856918783,-0.578767215662654,-1.4350751865627789,-1.2397639537197724,1.6590842943998796,-0.426964105341498,0.491231502153636,0.632099150225417,-0.38428444749917073,1.2686383319532102,-0.15862857345734654,0.6633935007758709,0.02084202844313096,1.6886726271177395,-1.3641063490298748,-1.2466634153719216,-0.39464557871137557,-0.05350579729922114,-2.0111210686656187,1.9980376967711464,0.5358770575947072,1.1443736876410426,1.542969910692184,0.02215025048159171,-1.58108160118495,-1.2854285034353403,-0.58702670346123,0.9142742554465221,0.049793736290497166,0.809300235438253,-1.1398141762587553,-0.3531094459840482,0.8021284944383551,0.3654614936712409,-0.2586671400551536,1.0509862587264898,1.923464527384127,0.6276457745015916,-0.5999759885107541,-0.7391868549314251,-0.708650191380864,-0.9149092685478493,-0.8089002443313379,-0.43355484864329724,0.29395917863216936,0.9332746413646433],\"yaxis\":\"y\",\"type\":\"scatter\"}],                        {\"template\":{\"data\":{\"bar\":[{\"error_x\":{\"color\":\"#2a3f5f\"},\"error_y\":{\"color\":\"#2a3f5f\"},\"marker\":{\"line\":{\"color\":\"#E5ECF6\",\"width\":0.5},\"pattern\":{\"fillmode\":\"overlay\",\"size\":10,\"solidity\":0.2}},\"type\":\"bar\"}],\"barpolar\":[{\"marker\":{\"line\":{\"color\":\"#E5ECF6\",\"width\":0.5},\"pattern\":{\"fillmode\":\"overlay\",\"size\":10,\"solidity\":0.2}},\"type\":\"barpolar\"}],\"carpet\":[{\"aaxis\":{\"endlinecolor\":\"#2a3f5f\",\"gridcolor\":\"white\",\"linecolor\":\"white\",\"minorgridcolor\":\"white\",\"startlinecolor\":\"#2a3f5f\"},\"baxis\":{\"endlinecolor\":\"#2a3f5f\",\"gridcolor\":\"white\",\"linecolor\":\"white\",\"minorgridcolor\":\"white\",\"startlinecolor\":\"#2a3f5f\"},\"type\":\"carpet\"}],\"choropleth\":[{\"colorbar\":{\"outlinewidth\":0,\"ticks\":\"\"},\"type\":\"choropleth\"}],\"contour\":[{\"colorbar\":{\"outlinewidth\":0,\"ticks\":\"\"},\"colorscale\":[[0.0,\"#0d0887\"],[0.1111111111111111,\"#46039f\"],[0.2222222222222222,\"#7201a8\"],[0.3333333333333333,\"#9c179e\"],[0.4444444444444444,\"#bd3786\"],[0.5555555555555556,\"#d8576b\"],[0.6666666666666666,\"#ed7953\"],[0.7777777777777778,\"#fb9f3a\"],[0.8888888888888888,\"#fdca26\"],[1.0,\"#f0f921\"]],\"type\":\"contour\"}],\"contourcarpet\":[{\"colorbar\":{\"outlinewidth\":0,\"ticks\":\"\"},\"type\":\"contourcarpet\"}],\"heatmap\":[{\"colorbar\":{\"outlinewidth\":0,\"ticks\":\"\"},\"colorscale\":[[0.0,\"#0d0887\"],[0.1111111111111111,\"#46039f\"],[0.2222222222222222,\"#7201a8\"],[0.3333333333333333,\"#9c179e\"],[0.4444444444444444,\"#bd3786\"],[0.5555555555555556,\"#d8576b\"],[0.6666666666666666,\"#ed7953\"],[0.7777777777777778,\"#fb9f3a\"],[0.8888888888888888,\"#fdca26\"],[1.0,\"#f0f921\"]],\"type\":\"heatmap\"}],\"heatmapgl\":[{\"colorbar\":{\"outlinewidth\":0,\"ticks\":\"\"},\"colorscale\":[[0.0,\"#0d0887\"],[0.1111111111111111,\"#46039f\"],[0.2222222222222222,\"#7201a8\"],[0.3333333333333333,\"#9c179e\"],[0.4444444444444444,\"#bd3786\"],[0.5555555555555556,\"#d8576b\"],[0.6666666666666666,\"#ed7953\"],[0.7777777777777778,\"#fb9f3a\"],[0.8888888888888888,\"#fdca26\"],[1.0,\"#f0f921\"]],\"type\":\"heatmapgl\"}],\"histogram\":[{\"marker\":{\"pattern\":{\"fillmode\":\"overlay\",\"size\":10,\"solidity\":0.2}},\"type\":\"histogram\"}],\"histogram2d\":[{\"colorbar\":{\"outlinewidth\":0,\"ticks\":\"\"},\"colorscale\":[[0.0,\"#0d0887\"],[0.1111111111111111,\"#46039f\"],[0.2222222222222222,\"#7201a8\"],[0.3333333333333333,\"#9c179e\"],[0.4444444444444444,\"#bd3786\"],[0.5555555555555556,\"#d8576b\"],[0.6666666666666666,\"#ed7953\"],[0.7777777777777778,\"#fb9f3a\"],[0.8888888888888888,\"#fdca26\"],[1.0,\"#f0f921\"]],\"type\":\"histogram2d\"}],\"histogram2dcontour\":[{\"colorbar\":{\"outlinewidth\":0,\"ticks\":\"\"},\"colorscale\":[[0.0,\"#0d0887\"],[0.1111111111111111,\"#46039f\"],[0.2222222222222222,\"#7201a8\"],[0.3333333333333333,\"#9c179e\"],[0.4444444444444444,\"#bd3786\"],[0.5555555555555556,\"#d8576b\"],[0.6666666666666666,\"#ed7953\"],[0.7777777777777778,\"#fb9f3a\"],[0.8888888888888888,\"#fdca26\"],[1.0,\"#f0f921\"]],\"type\":\"histogram2dcontour\"}],\"mesh3d\":[{\"colorbar\":{\"outlinewidth\":0,\"ticks\":\"\"},\"type\":\"mesh3d\"}],\"parcoords\":[{\"line\":{\"colorbar\":{\"outlinewidth\":0,\"ticks\":\"\"}},\"type\":\"parcoords\"}],\"pie\":[{\"automargin\":true,\"type\":\"pie\"}],\"scatter\":[{\"marker\":{\"colorbar\":{\"outlinewidth\":0,\"ticks\":\"\"}},\"type\":\"scatter\"}],\"scatter3d\":[{\"line\":{\"colorbar\":{\"outlinewidth\":0,\"ticks\":\"\"}},\"marker\":{\"colorbar\":{\"outlinewidth\":0,\"ticks\":\"\"}},\"type\":\"scatter3d\"}],\"scattercarpet\":[{\"marker\":{\"colorbar\":{\"outlinewidth\":0,\"ticks\":\"\"}},\"type\":\"scattercarpet\"}],\"scattergeo\":[{\"marker\":{\"colorbar\":{\"outlinewidth\":0,\"ticks\":\"\"}},\"type\":\"scattergeo\"}],\"scattergl\":[{\"marker\":{\"colorbar\":{\"outlinewidth\":0,\"ticks\":\"\"}},\"type\":\"scattergl\"}],\"scattermapbox\":[{\"marker\":{\"colorbar\":{\"outlinewidth\":0,\"ticks\":\"\"}},\"type\":\"scattermapbox\"}],\"scatterpolar\":[{\"marker\":{\"colorbar\":{\"outlinewidth\":0,\"ticks\":\"\"}},\"type\":\"scatterpolar\"}],\"scatterpolargl\":[{\"marker\":{\"colorbar\":{\"outlinewidth\":0,\"ticks\":\"\"}},\"type\":\"scatterpolargl\"}],\"scatterternary\":[{\"marker\":{\"colorbar\":{\"outlinewidth\":0,\"ticks\":\"\"}},\"type\":\"scatterternary\"}],\"surface\":[{\"colorbar\":{\"outlinewidth\":0,\"ticks\":\"\"},\"colorscale\":[[0.0,\"#0d0887\"],[0.1111111111111111,\"#46039f\"],[0.2222222222222222,\"#7201a8\"],[0.3333333333333333,\"#9c179e\"],[0.4444444444444444,\"#bd3786\"],[0.5555555555555556,\"#d8576b\"],[0.6666666666666666,\"#ed7953\"],[0.7777777777777778,\"#fb9f3a\"],[0.8888888888888888,\"#fdca26\"],[1.0,\"#f0f921\"]],\"type\":\"surface\"}],\"table\":[{\"cells\":{\"fill\":{\"color\":\"#EBF0F8\"},\"line\":{\"color\":\"white\"}},\"header\":{\"fill\":{\"color\":\"#C8D4E3\"},\"line\":{\"color\":\"white\"}},\"type\":\"table\"}]},\"layout\":{\"annotationdefaults\":{\"arrowcolor\":\"#2a3f5f\",\"arrowhead\":0,\"arrowwidth\":1},\"autotypenumbers\":\"strict\",\"coloraxis\":{\"colorbar\":{\"outlinewidth\":0,\"ticks\":\"\"}},\"colorscale\":{\"diverging\":[[0,\"#8e0152\"],[0.1,\"#c51b7d\"],[0.2,\"#de77ae\"],[0.3,\"#f1b6da\"],[0.4,\"#fde0ef\"],[0.5,\"#f7f7f7\"],[0.6,\"#e6f5d0\"],[0.7,\"#b8e186\"],[0.8,\"#7fbc41\"],[0.9,\"#4d9221\"],[1,\"#276419\"]],\"sequential\":[[0.0,\"#0d0887\"],[0.1111111111111111,\"#46039f\"],[0.2222222222222222,\"#7201a8\"],[0.3333333333333333,\"#9c179e\"],[0.4444444444444444,\"#bd3786\"],[0.5555555555555556,\"#d8576b\"],[0.6666666666666666,\"#ed7953\"],[0.7777777777777778,\"#fb9f3a\"],[0.8888888888888888,\"#fdca26\"],[1.0,\"#f0f921\"]],\"sequentialminus\":[[0.0,\"#0d0887\"],[0.1111111111111111,\"#46039f\"],[0.2222222222222222,\"#7201a8\"],[0.3333333333333333,\"#9c179e\"],[0.4444444444444444,\"#bd3786\"],[0.5555555555555556,\"#d8576b\"],[0.6666666666666666,\"#ed7953\"],[0.7777777777777778,\"#fb9f3a\"],[0.8888888888888888,\"#fdca26\"],[1.0,\"#f0f921\"]]},\"colorway\":[\"#636efa\",\"#EF553B\",\"#00cc96\",\"#ab63fa\",\"#FFA15A\",\"#19d3f3\",\"#FF6692\",\"#B6E880\",\"#FF97FF\",\"#FECB52\"],\"font\":{\"color\":\"#2a3f5f\"},\"geo\":{\"bgcolor\":\"white\",\"lakecolor\":\"white\",\"landcolor\":\"#E5ECF6\",\"showlakes\":true,\"showland\":true,\"subunitcolor\":\"white\"},\"hoverlabel\":{\"align\":\"left\"},\"hovermode\":\"closest\",\"mapbox\":{\"style\":\"light\"},\"paper_bgcolor\":\"white\",\"plot_bgcolor\":\"#E5ECF6\",\"polar\":{\"angularaxis\":{\"gridcolor\":\"white\",\"linecolor\":\"white\",\"ticks\":\"\"},\"bgcolor\":\"#E5ECF6\",\"radialaxis\":{\"gridcolor\":\"white\",\"linecolor\":\"white\",\"ticks\":\"\"}},\"scene\":{\"xaxis\":{\"backgroundcolor\":\"#E5ECF6\",\"gridcolor\":\"white\",\"gridwidth\":2,\"linecolor\":\"white\",\"showbackground\":true,\"ticks\":\"\",\"zerolinecolor\":\"white\"},\"yaxis\":{\"backgroundcolor\":\"#E5ECF6\",\"gridcolor\":\"white\",\"gridwidth\":2,\"linecolor\":\"white\",\"showbackground\":true,\"ticks\":\"\",\"zerolinecolor\":\"white\"},\"zaxis\":{\"backgroundcolor\":\"#E5ECF6\",\"gridcolor\":\"white\",\"gridwidth\":2,\"linecolor\":\"white\",\"showbackground\":true,\"ticks\":\"\",\"zerolinecolor\":\"white\"}},\"shapedefaults\":{\"line\":{\"color\":\"#2a3f5f\"}},\"ternary\":{\"aaxis\":{\"gridcolor\":\"white\",\"linecolor\":\"white\",\"ticks\":\"\"},\"baxis\":{\"gridcolor\":\"white\",\"linecolor\":\"white\",\"ticks\":\"\"},\"bgcolor\":\"#E5ECF6\",\"caxis\":{\"gridcolor\":\"white\",\"linecolor\":\"white\",\"ticks\":\"\"}},\"title\":{\"x\":0.05},\"xaxis\":{\"automargin\":true,\"gridcolor\":\"white\",\"linecolor\":\"white\",\"ticks\":\"\",\"title\":{\"standoff\":15},\"zerolinecolor\":\"white\",\"zerolinewidth\":2},\"yaxis\":{\"automargin\":true,\"gridcolor\":\"white\",\"linecolor\":\"white\",\"ticks\":\"\",\"title\":{\"standoff\":15},\"zerolinecolor\":\"white\",\"zerolinewidth\":2}}},\"xaxis\":{\"anchor\":\"y\",\"domain\":[0.0,1.0],\"title\":{\"text\":\"PC - 1\"}},\"yaxis\":{\"anchor\":\"x\",\"domain\":[0.0,1.0],\"title\":{\"text\":\"PC -2\"}},\"legend\":{\"tracegroupgap\":0},\"title\":{\"text\":\"PLS Score and loadings plot\"},\"shapes\":[{\"type\":\"line\",\"x0\":0,\"x1\":0.446408123994289,\"y0\":0,\"y1\":-0.13289649489869879},{\"type\":\"line\",\"x0\":0,\"x1\":0.5027135965120675,\"y0\":0,\"y1\":0.8452210821243284},{\"type\":\"line\",\"x0\":0,\"x1\":0.37412986709071133,\"y0\":0,\"y1\":-0.1998630777500643},{\"type\":\"line\",\"x0\":0,\"x1\":0.4737256724758235,\"y0\":0,\"y1\":-0.3866605957535784},{\"type\":\"line\",\"x0\":0,\"x1\":0.4337530515716667,\"y0\":0,\"y1\":-0.4033465197833241}],\"annotations\":[{\"ax\":0,\"ay\":0,\"text\":\"feed_start\",\"x\":0.446408123994289,\"xanchor\":\"center\",\"y\":-0.13289649489869879,\"yanchor\":\"bottom\"},{\"ax\":0,\"ay\":0,\"text\":\"feed_end\",\"x\":0.5027135965120675,\"xanchor\":\"center\",\"y\":0.8452210821243284,\"yanchor\":\"bottom\"},{\"ax\":0,\"ay\":0,\"text\":\"Glc_feed_rate\",\"x\":0.37412986709071133,\"xanchor\":\"center\",\"y\":-0.1998630777500643,\"yanchor\":\"bottom\"},{\"ax\":0,\"ay\":0,\"text\":\"Glc_0\",\"x\":0.4737256724758235,\"xanchor\":\"center\",\"y\":-0.3866605957535784,\"yanchor\":\"bottom\"},{\"ax\":0,\"ay\":0,\"text\":\"VCD_0\",\"x\":0.4337530515716667,\"xanchor\":\"center\",\"y\":-0.4033465197833241,\"yanchor\":\"bottom\"}]},                        {\"responsive\": true}                    ).then(function(){\n",
              "                            \n",
              "var gd = document.getElementById('ede9fac6-d95c-4920-a8cd-15c0560fe00e');\n",
              "var x = new MutationObserver(function (mutations, observer) {{\n",
              "        var display = window.getComputedStyle(gd).display;\n",
              "        if (!display || display === 'none') {{\n",
              "            console.log([gd, 'removed!']);\n",
              "            Plotly.purge(gd);\n",
              "            observer.disconnect();\n",
              "        }}\n",
              "}});\n",
              "\n",
              "// Listen for the removal of the full notebook cells\n",
              "var notebookContainer = gd.closest('#notebook-container');\n",
              "if (notebookContainer) {{\n",
              "    x.observe(notebookContainer, {childList: true});\n",
              "}}\n",
              "\n",
              "// Listen for the clearing of the current output cell\n",
              "var outputEl = gd.closest('.output');\n",
              "if (outputEl) {{\n",
              "    x.observe(outputEl, {childList: true});\n",
              "}}\n",
              "\n",
              "                        })                };                            </script>        </div>\n",
              "</body>\n",
              "</html>"
            ]
          },
          "metadata": {}
        }
      ]
    },
    {
      "cell_type": "markdown",
      "source": [
        "### Plot VIP scores"
      ],
      "metadata": {
        "id": "QPiuOsULKj3T"
      }
    },
    {
      "cell_type": "code",
      "source": [
        "# Model coefficients\n",
        "columns = X.columns\n",
        "coefficients = modelhelpers.vip(X,y,pls)\n",
        "fig = px.bar(x=list(columns),y=coefficients.reshape(-1),title=\"Variable Importance in PLS\", labels={'x':\"Variables\", 'y':\"VIP values\"})\n",
        "fig.show()\n"
      ],
      "metadata": {
        "id": "uAu_GXQSKnvq",
        "colab": {
          "base_uri": "https://localhost:8080/",
          "height": 542
        },
        "outputId": "4b0693d5-82b3-423c-bbfd-60270686ae97"
      },
      "execution_count": null,
      "outputs": [
        {
          "output_type": "display_data",
          "data": {
            "text/html": [
              "<html>\n",
              "<head><meta charset=\"utf-8\" /></head>\n",
              "<body>\n",
              "    <div>            <script src=\"https://cdnjs.cloudflare.com/ajax/libs/mathjax/2.7.5/MathJax.js?config=TeX-AMS-MML_SVG\"></script><script type=\"text/javascript\">if (window.MathJax) {MathJax.Hub.Config({SVG: {font: \"STIX-Web\"}});}</script>                <script type=\"text/javascript\">window.PlotlyConfig = {MathJaxConfig: 'local'};</script>\n",
              "        <script src=\"https://cdn.plot.ly/plotly-2.8.3.min.js\"></script>                <div id=\"aa2d0373-4fc8-464d-af8a-b6761396ada2\" class=\"plotly-graph-div\" style=\"height:525px; width:100%;\"></div>            <script type=\"text/javascript\">                                    window.PLOTLYENV=window.PLOTLYENV || {};                                    if (document.getElementById(\"aa2d0373-4fc8-464d-af8a-b6761396ada2\")) {                    Plotly.newPlot(                        \"aa2d0373-4fc8-464d-af8a-b6761396ada2\",                        [{\"alignmentgroup\":\"True\",\"hovertemplate\":\"Variables=%{x}<br>VIP values=%{y}<extra></extra>\",\"legendgroup\":\"\",\"marker\":{\"color\":\"#636efa\",\"pattern\":{\"shape\":\"\"}},\"name\":\"\",\"offsetgroup\":\"\",\"orientation\":\"v\",\"showlegend\":false,\"textposition\":\"auto\",\"x\":[\"feed_start\",\"feed_end\",\"Glc_feed_rate\",\"Glc_0\",\"VCD_0\"],\"xaxis\":\"x\",\"y\":[0.9459141613721446,1.2521062607739086,0.8014691678392293,1.010150230896906,0.9352646657863409],\"yaxis\":\"y\",\"type\":\"bar\"}],                        {\"template\":{\"data\":{\"bar\":[{\"error_x\":{\"color\":\"#2a3f5f\"},\"error_y\":{\"color\":\"#2a3f5f\"},\"marker\":{\"line\":{\"color\":\"#E5ECF6\",\"width\":0.5},\"pattern\":{\"fillmode\":\"overlay\",\"size\":10,\"solidity\":0.2}},\"type\":\"bar\"}],\"barpolar\":[{\"marker\":{\"line\":{\"color\":\"#E5ECF6\",\"width\":0.5},\"pattern\":{\"fillmode\":\"overlay\",\"size\":10,\"solidity\":0.2}},\"type\":\"barpolar\"}],\"carpet\":[{\"aaxis\":{\"endlinecolor\":\"#2a3f5f\",\"gridcolor\":\"white\",\"linecolor\":\"white\",\"minorgridcolor\":\"white\",\"startlinecolor\":\"#2a3f5f\"},\"baxis\":{\"endlinecolor\":\"#2a3f5f\",\"gridcolor\":\"white\",\"linecolor\":\"white\",\"minorgridcolor\":\"white\",\"startlinecolor\":\"#2a3f5f\"},\"type\":\"carpet\"}],\"choropleth\":[{\"colorbar\":{\"outlinewidth\":0,\"ticks\":\"\"},\"type\":\"choropleth\"}],\"contour\":[{\"colorbar\":{\"outlinewidth\":0,\"ticks\":\"\"},\"colorscale\":[[0.0,\"#0d0887\"],[0.1111111111111111,\"#46039f\"],[0.2222222222222222,\"#7201a8\"],[0.3333333333333333,\"#9c179e\"],[0.4444444444444444,\"#bd3786\"],[0.5555555555555556,\"#d8576b\"],[0.6666666666666666,\"#ed7953\"],[0.7777777777777778,\"#fb9f3a\"],[0.8888888888888888,\"#fdca26\"],[1.0,\"#f0f921\"]],\"type\":\"contour\"}],\"contourcarpet\":[{\"colorbar\":{\"outlinewidth\":0,\"ticks\":\"\"},\"type\":\"contourcarpet\"}],\"heatmap\":[{\"colorbar\":{\"outlinewidth\":0,\"ticks\":\"\"},\"colorscale\":[[0.0,\"#0d0887\"],[0.1111111111111111,\"#46039f\"],[0.2222222222222222,\"#7201a8\"],[0.3333333333333333,\"#9c179e\"],[0.4444444444444444,\"#bd3786\"],[0.5555555555555556,\"#d8576b\"],[0.6666666666666666,\"#ed7953\"],[0.7777777777777778,\"#fb9f3a\"],[0.8888888888888888,\"#fdca26\"],[1.0,\"#f0f921\"]],\"type\":\"heatmap\"}],\"heatmapgl\":[{\"colorbar\":{\"outlinewidth\":0,\"ticks\":\"\"},\"colorscale\":[[0.0,\"#0d0887\"],[0.1111111111111111,\"#46039f\"],[0.2222222222222222,\"#7201a8\"],[0.3333333333333333,\"#9c179e\"],[0.4444444444444444,\"#bd3786\"],[0.5555555555555556,\"#d8576b\"],[0.6666666666666666,\"#ed7953\"],[0.7777777777777778,\"#fb9f3a\"],[0.8888888888888888,\"#fdca26\"],[1.0,\"#f0f921\"]],\"type\":\"heatmapgl\"}],\"histogram\":[{\"marker\":{\"pattern\":{\"fillmode\":\"overlay\",\"size\":10,\"solidity\":0.2}},\"type\":\"histogram\"}],\"histogram2d\":[{\"colorbar\":{\"outlinewidth\":0,\"ticks\":\"\"},\"colorscale\":[[0.0,\"#0d0887\"],[0.1111111111111111,\"#46039f\"],[0.2222222222222222,\"#7201a8\"],[0.3333333333333333,\"#9c179e\"],[0.4444444444444444,\"#bd3786\"],[0.5555555555555556,\"#d8576b\"],[0.6666666666666666,\"#ed7953\"],[0.7777777777777778,\"#fb9f3a\"],[0.8888888888888888,\"#fdca26\"],[1.0,\"#f0f921\"]],\"type\":\"histogram2d\"}],\"histogram2dcontour\":[{\"colorbar\":{\"outlinewidth\":0,\"ticks\":\"\"},\"colorscale\":[[0.0,\"#0d0887\"],[0.1111111111111111,\"#46039f\"],[0.2222222222222222,\"#7201a8\"],[0.3333333333333333,\"#9c179e\"],[0.4444444444444444,\"#bd3786\"],[0.5555555555555556,\"#d8576b\"],[0.6666666666666666,\"#ed7953\"],[0.7777777777777778,\"#fb9f3a\"],[0.8888888888888888,\"#fdca26\"],[1.0,\"#f0f921\"]],\"type\":\"histogram2dcontour\"}],\"mesh3d\":[{\"colorbar\":{\"outlinewidth\":0,\"ticks\":\"\"},\"type\":\"mesh3d\"}],\"parcoords\":[{\"line\":{\"colorbar\":{\"outlinewidth\":0,\"ticks\":\"\"}},\"type\":\"parcoords\"}],\"pie\":[{\"automargin\":true,\"type\":\"pie\"}],\"scatter\":[{\"marker\":{\"colorbar\":{\"outlinewidth\":0,\"ticks\":\"\"}},\"type\":\"scatter\"}],\"scatter3d\":[{\"line\":{\"colorbar\":{\"outlinewidth\":0,\"ticks\":\"\"}},\"marker\":{\"colorbar\":{\"outlinewidth\":0,\"ticks\":\"\"}},\"type\":\"scatter3d\"}],\"scattercarpet\":[{\"marker\":{\"colorbar\":{\"outlinewidth\":0,\"ticks\":\"\"}},\"type\":\"scattercarpet\"}],\"scattergeo\":[{\"marker\":{\"colorbar\":{\"outlinewidth\":0,\"ticks\":\"\"}},\"type\":\"scattergeo\"}],\"scattergl\":[{\"marker\":{\"colorbar\":{\"outlinewidth\":0,\"ticks\":\"\"}},\"type\":\"scattergl\"}],\"scattermapbox\":[{\"marker\":{\"colorbar\":{\"outlinewidth\":0,\"ticks\":\"\"}},\"type\":\"scattermapbox\"}],\"scatterpolar\":[{\"marker\":{\"colorbar\":{\"outlinewidth\":0,\"ticks\":\"\"}},\"type\":\"scatterpolar\"}],\"scatterpolargl\":[{\"marker\":{\"colorbar\":{\"outlinewidth\":0,\"ticks\":\"\"}},\"type\":\"scatterpolargl\"}],\"scatterternary\":[{\"marker\":{\"colorbar\":{\"outlinewidth\":0,\"ticks\":\"\"}},\"type\":\"scatterternary\"}],\"surface\":[{\"colorbar\":{\"outlinewidth\":0,\"ticks\":\"\"},\"colorscale\":[[0.0,\"#0d0887\"],[0.1111111111111111,\"#46039f\"],[0.2222222222222222,\"#7201a8\"],[0.3333333333333333,\"#9c179e\"],[0.4444444444444444,\"#bd3786\"],[0.5555555555555556,\"#d8576b\"],[0.6666666666666666,\"#ed7953\"],[0.7777777777777778,\"#fb9f3a\"],[0.8888888888888888,\"#fdca26\"],[1.0,\"#f0f921\"]],\"type\":\"surface\"}],\"table\":[{\"cells\":{\"fill\":{\"color\":\"#EBF0F8\"},\"line\":{\"color\":\"white\"}},\"header\":{\"fill\":{\"color\":\"#C8D4E3\"},\"line\":{\"color\":\"white\"}},\"type\":\"table\"}]},\"layout\":{\"annotationdefaults\":{\"arrowcolor\":\"#2a3f5f\",\"arrowhead\":0,\"arrowwidth\":1},\"autotypenumbers\":\"strict\",\"coloraxis\":{\"colorbar\":{\"outlinewidth\":0,\"ticks\":\"\"}},\"colorscale\":{\"diverging\":[[0,\"#8e0152\"],[0.1,\"#c51b7d\"],[0.2,\"#de77ae\"],[0.3,\"#f1b6da\"],[0.4,\"#fde0ef\"],[0.5,\"#f7f7f7\"],[0.6,\"#e6f5d0\"],[0.7,\"#b8e186\"],[0.8,\"#7fbc41\"],[0.9,\"#4d9221\"],[1,\"#276419\"]],\"sequential\":[[0.0,\"#0d0887\"],[0.1111111111111111,\"#46039f\"],[0.2222222222222222,\"#7201a8\"],[0.3333333333333333,\"#9c179e\"],[0.4444444444444444,\"#bd3786\"],[0.5555555555555556,\"#d8576b\"],[0.6666666666666666,\"#ed7953\"],[0.7777777777777778,\"#fb9f3a\"],[0.8888888888888888,\"#fdca26\"],[1.0,\"#f0f921\"]],\"sequentialminus\":[[0.0,\"#0d0887\"],[0.1111111111111111,\"#46039f\"],[0.2222222222222222,\"#7201a8\"],[0.3333333333333333,\"#9c179e\"],[0.4444444444444444,\"#bd3786\"],[0.5555555555555556,\"#d8576b\"],[0.6666666666666666,\"#ed7953\"],[0.7777777777777778,\"#fb9f3a\"],[0.8888888888888888,\"#fdca26\"],[1.0,\"#f0f921\"]]},\"colorway\":[\"#636efa\",\"#EF553B\",\"#00cc96\",\"#ab63fa\",\"#FFA15A\",\"#19d3f3\",\"#FF6692\",\"#B6E880\",\"#FF97FF\",\"#FECB52\"],\"font\":{\"color\":\"#2a3f5f\"},\"geo\":{\"bgcolor\":\"white\",\"lakecolor\":\"white\",\"landcolor\":\"#E5ECF6\",\"showlakes\":true,\"showland\":true,\"subunitcolor\":\"white\"},\"hoverlabel\":{\"align\":\"left\"},\"hovermode\":\"closest\",\"mapbox\":{\"style\":\"light\"},\"paper_bgcolor\":\"white\",\"plot_bgcolor\":\"#E5ECF6\",\"polar\":{\"angularaxis\":{\"gridcolor\":\"white\",\"linecolor\":\"white\",\"ticks\":\"\"},\"bgcolor\":\"#E5ECF6\",\"radialaxis\":{\"gridcolor\":\"white\",\"linecolor\":\"white\",\"ticks\":\"\"}},\"scene\":{\"xaxis\":{\"backgroundcolor\":\"#E5ECF6\",\"gridcolor\":\"white\",\"gridwidth\":2,\"linecolor\":\"white\",\"showbackground\":true,\"ticks\":\"\",\"zerolinecolor\":\"white\"},\"yaxis\":{\"backgroundcolor\":\"#E5ECF6\",\"gridcolor\":\"white\",\"gridwidth\":2,\"linecolor\":\"white\",\"showbackground\":true,\"ticks\":\"\",\"zerolinecolor\":\"white\"},\"zaxis\":{\"backgroundcolor\":\"#E5ECF6\",\"gridcolor\":\"white\",\"gridwidth\":2,\"linecolor\":\"white\",\"showbackground\":true,\"ticks\":\"\",\"zerolinecolor\":\"white\"}},\"shapedefaults\":{\"line\":{\"color\":\"#2a3f5f\"}},\"ternary\":{\"aaxis\":{\"gridcolor\":\"white\",\"linecolor\":\"white\",\"ticks\":\"\"},\"baxis\":{\"gridcolor\":\"white\",\"linecolor\":\"white\",\"ticks\":\"\"},\"bgcolor\":\"#E5ECF6\",\"caxis\":{\"gridcolor\":\"white\",\"linecolor\":\"white\",\"ticks\":\"\"}},\"title\":{\"x\":0.05},\"xaxis\":{\"automargin\":true,\"gridcolor\":\"white\",\"linecolor\":\"white\",\"ticks\":\"\",\"title\":{\"standoff\":15},\"zerolinecolor\":\"white\",\"zerolinewidth\":2},\"yaxis\":{\"automargin\":true,\"gridcolor\":\"white\",\"linecolor\":\"white\",\"ticks\":\"\",\"title\":{\"standoff\":15},\"zerolinecolor\":\"white\",\"zerolinewidth\":2}}},\"xaxis\":{\"anchor\":\"y\",\"domain\":[0.0,1.0],\"title\":{\"text\":\"Variables\"}},\"yaxis\":{\"anchor\":\"x\",\"domain\":[0.0,1.0],\"title\":{\"text\":\"VIP values\"}},\"legend\":{\"tracegroupgap\":0},\"title\":{\"text\":\"Variable Importance in PLS\"},\"barmode\":\"relative\"},                        {\"responsive\": true}                    ).then(function(){\n",
              "                            \n",
              "var gd = document.getElementById('aa2d0373-4fc8-464d-af8a-b6761396ada2');\n",
              "var x = new MutationObserver(function (mutations, observer) {{\n",
              "        var display = window.getComputedStyle(gd).display;\n",
              "        if (!display || display === 'none') {{\n",
              "            console.log([gd, 'removed!']);\n",
              "            Plotly.purge(gd);\n",
              "            observer.disconnect();\n",
              "        }}\n",
              "}});\n",
              "\n",
              "// Listen for the removal of the full notebook cells\n",
              "var notebookContainer = gd.closest('#notebook-container');\n",
              "if (notebookContainer) {{\n",
              "    x.observe(notebookContainer, {childList: true});\n",
              "}}\n",
              "\n",
              "// Listen for the clearing of the current output cell\n",
              "var outputEl = gd.closest('.output');\n",
              "if (outputEl) {{\n",
              "    x.observe(outputEl, {childList: true});\n",
              "}}\n",
              "\n",
              "                        })                };                            </script>        </div>\n",
              "</body>\n",
              "</html>"
            ]
          },
          "metadata": {}
        }
      ]
    },
    {
      "cell_type": "markdown",
      "source": [
        "# Historical Model\n",
        "\n",
        "In an so-called historical model, the data from different experiments are ordered into a batch-wise unfolded (BWU) matrix (i.e., every row corresponds to an experiment).\n",
        "\n",
        "The BWU can be used to compute final properties of the experiment, like CQAs, which are typically the effect of the cumulated effect of the experiment profile.\n",
        "\n",
        "In this example, we will use the BWU matrix to predict the final value of titer. Clearly, titer information are removed from the BWU matrix.\n",
        "\n"
      ],
      "metadata": {
        "id": "0i44tIGKMIFp"
      }
    },
    {
      "cell_type": "markdown",
      "source": [
        "## Multiple Linear Model\n",
        "\n",
        "Unlinke in the initial conditions model, there are several problems in using an linear regression / response surface model for modelling historical data. The main problem is that MLR requires our dataset $X$ (the BWU data) to have more rows (samples) than columns (variables). Second is that if $X^T X$ has full rank due only to noise, the inverse is unstable and small changes in noise realization can produce dramatically different results.\n",
        "\n",
        "If we look at the shape of our BWU matrix, that it already has 75 variables and only 50 samples which makes it dificult to fit linear model."
      ],
      "metadata": {
        "id": "UK3j34XlF9j5"
      }
    },
    {
      "cell_type": "code",
      "source": [
        "bwu.shape"
      ],
      "metadata": {
        "colab": {
          "base_uri": "https://localhost:8080/"
        },
        "id": "TS3qWBQWhC5b",
        "outputId": "f270c120-4ab4-41b4-e3ed-ec8e78fa7776"
      },
      "execution_count": null,
      "outputs": [
        {
          "output_type": "execute_result",
          "data": {
            "text/plain": [
              "(50, 75)"
            ]
          },
          "metadata": {},
          "execution_count": 30
        }
      ]
    },
    {
      "cell_type": "markdown",
      "source": [
        "## PLS Model\n",
        "\n",
        "We demonstrate that with more information and more variables, the PLS becomes a model with good predictions and low RMSEP."
      ],
      "metadata": {
        "id": "SMsAm9jDGUcJ"
      }
    },
    {
      "cell_type": "markdown",
      "source": [
        "### Create BWU matrix\n",
        "\n",
        "Here the BWU matrix is created. The vaues of the manipulated variables are added as columns at the beginning of the matrix. The following pre-processing was performed.\n",
        "\n",
        "* Remove titer (and also lactate)\n",
        "* Remove exceeding days\n",
        "* Eliminate invariant columns\n",
        "* Remove linearly dependent columns\n",
        "* Add process parameters at the beginning\n",
        "* Create a PLS model from the initial design to the final titer\n"
      ],
      "metadata": {
        "id": "v1IMh8PMMs-s"
      }
    },
    {
      "cell_type": "code",
      "source": [
        "# Define number of days to include\n",
        "N_days = 13"
      ],
      "metadata": {
        "id": "JEYDQzd5TSnx"
      },
      "execution_count": null,
      "outputs": []
    },
    {
      "cell_type": "code",
      "source": [
        "X = bwu\n",
        "remove_columns = []\n",
        "# Remove X:Titer \n",
        "remove_columns.extend([c for c in bwu.columns if c.startswith('X:Titer')])\n",
        "# Remove X:Lactate\n",
        "remove_columns.extend([c for c in bwu.columns if c.startswith('X:Lac')])\n",
        "# Remove W:Feed\n",
        "remove_columns.extend([c for c in bwu.columns if c.startswith('W:Feed')])\n",
        "# Remove Initial conditions\n",
        "remove_columns.extend([c for c in bwu.columns if c.endswith(':0')])\n",
        "# Remove exceeding days\n",
        "for d in range(N_days,15):\n",
        "    remove_columns.extend([c for c in bwu.columns if c.endswith(\":\"+str(d))])\n",
        "# Remove invariant \n",
        "remove_columns.extend(list(bwu.columns[~(bwu != bwu.iloc[0]).any().values]))\n",
        "\n",
        "# Add and remove columns\n",
        "X = X.drop(set(remove_columns),axis=1)\n",
        "X = pd.concat([doe, X], axis=1)\n",
        "\n",
        "X.columns"
      ],
      "metadata": {
        "id": "CXCdim6oNB1y",
        "colab": {
          "base_uri": "https://localhost:8080/"
        },
        "outputId": "9fbb2d8b-e2a1-44ae-aec7-d3ab23dcc73a"
      },
      "execution_count": null,
      "outputs": [
        {
          "output_type": "execute_result",
          "data": {
            "text/plain": [
              "Index(['feed_start', 'feed_end', 'Glc_feed_rate', 'Glc_0', 'VCD_0', 'X:VCD:1',\n",
              "       'X:VCD:2', 'X:VCD:3', 'X:VCD:4', 'X:VCD:5', 'X:VCD:6', 'X:VCD:7',\n",
              "       'X:VCD:8', 'X:VCD:9', 'X:VCD:10', 'X:VCD:11', 'X:VCD:12', 'X:Glc:1',\n",
              "       'X:Glc:2', 'X:Glc:3', 'X:Glc:4', 'X:Glc:5', 'X:Glc:6', 'X:Glc:7',\n",
              "       'X:Glc:8', 'X:Glc:9', 'X:Glc:10', 'X:Glc:11', 'X:Glc:12'],\n",
              "      dtype='object')"
            ]
          },
          "metadata": {},
          "execution_count": 32
        }
      ]
    },
    {
      "cell_type": "markdown",
      "source": [
        "### Train Historical PLS model"
      ],
      "metadata": {
        "id": "cLKo0hoPNDx-"
      }
    },
    {
      "cell_type": "code",
      "source": [
        "# Define number of latent variables\n",
        "N_LV = 5\n",
        "# Use data normalization\n",
        "use_norm = True"
      ],
      "metadata": {
        "id": "WDpN48qWNJs4"
      },
      "execution_count": null,
      "outputs": []
    },
    {
      "cell_type": "code",
      "source": [
        "# Define Pipeline\n",
        "pscaler = StandardScaler(with_mean=use_norm,with_std=use_norm)\n",
        "pls = PLSRegression(n_components=N_LV)\n",
        "pipe = Pipeline([('scaler', pscaler), ('model', pls)])\n",
        "# Train PLS model\n",
        "y = tar\n",
        "pipe.fit(X,y)"
      ],
      "metadata": {
        "colab": {
          "base_uri": "https://localhost:8080/"
        },
        "id": "vyenCRC1TNWs",
        "outputId": "dc8ad8b6-6a2f-4f3c-d2e8-b3e335cfbebf"
      },
      "execution_count": null,
      "outputs": [
        {
          "output_type": "execute_result",
          "data": {
            "text/plain": [
              "Pipeline(steps=[('scaler', StandardScaler()),\n",
              "                ('model', PLSRegression(n_components=5))])"
            ]
          },
          "metadata": {},
          "execution_count": 34
        }
      ]
    },
    {
      "cell_type": "markdown",
      "source": [
        "### Evaluate model on train and test set\n",
        "\n",
        "\n"
      ],
      "metadata": {
        "id": "sDXKkm4VVnDM"
      }
    },
    {
      "cell_type": "code",
      "source": [
        "# Plot predictions in train set\n",
        "yhat = pipe.predict(X)\n",
        "fig = px.scatter(x=y.values.reshape(-1),y=yhat.reshape(-1), title=\"Observed vs Predicted on Train Set; R^2 = \"+str(round(pipe.score(X,y),3)), labels=dict(x=\"Observed Titer\", y=\"Predicted Titer\"))\n",
        "fig.update_layout(shapes = [{'type': 'line', 'yref': 'paper', 'xref': 'paper', 'y0': 0, 'y1': 1, 'x0': 0, 'x1': 1, 'layer': 'below'}])\n",
        "fig.show()\n",
        "# Plot predictions in test set\n",
        "X_test = bwu_test\n",
        "y_test = tar_test\n",
        "X_test = X_test.drop(set(remove_columns),axis=1)\n",
        "X_test = pd.concat([doe_test, X_test], axis=1)\n",
        "yhat_test = pipe.predict(X_test)\n",
        "fig = px.scatter(x=y_test.values.reshape(-1),y=yhat_test.reshape(-1), title=\"Observed vs Predicted on Test Set; R^2 = \"+str(round(pipe.score(X_test,y_test),3)), labels=dict(x=\"Observed Titer\", y=\"Predicted Titer\"))\n",
        "fig.update_layout(shapes = [{'type': 'line', 'yref': 'paper', 'xref': 'paper', 'y0': 0, 'y1': 1, 'x0': 0, 'x1': 1, 'layer': 'below'}])\n",
        "fig.show()"
      ],
      "metadata": {
        "colab": {
          "base_uri": "https://localhost:8080/",
          "height": 1000
        },
        "id": "xbIdWuBrTn12",
        "outputId": "98a04522-03e3-4a81-f0b8-fd724fcd6db4"
      },
      "execution_count": null,
      "outputs": [
        {
          "output_type": "display_data",
          "data": {
            "text/html": [
              "<html>\n",
              "<head><meta charset=\"utf-8\" /></head>\n",
              "<body>\n",
              "    <div>            <script src=\"https://cdnjs.cloudflare.com/ajax/libs/mathjax/2.7.5/MathJax.js?config=TeX-AMS-MML_SVG\"></script><script type=\"text/javascript\">if (window.MathJax) {MathJax.Hub.Config({SVG: {font: \"STIX-Web\"}});}</script>                <script type=\"text/javascript\">window.PlotlyConfig = {MathJaxConfig: 'local'};</script>\n",
              "        <script src=\"https://cdn.plot.ly/plotly-2.8.3.min.js\"></script>                <div id=\"5c611707-1e5e-416d-9650-1fc18e8625ba\" class=\"plotly-graph-div\" style=\"height:525px; width:100%;\"></div>            <script type=\"text/javascript\">                                    window.PLOTLYENV=window.PLOTLYENV || {};                                    if (document.getElementById(\"5c611707-1e5e-416d-9650-1fc18e8625ba\")) {                    Plotly.newPlot(                        \"5c611707-1e5e-416d-9650-1fc18e8625ba\",                        [{\"hovertemplate\":\"Observed Titer=%{x}<br>Predicted Titer=%{y}<extra></extra>\",\"legendgroup\":\"\",\"marker\":{\"color\":\"#636efa\",\"symbol\":\"circle\"},\"mode\":\"markers\",\"name\":\"\",\"orientation\":\"v\",\"showlegend\":false,\"x\":[1565.3100316152315,854.4492329290191,1206.0966547089297,1587.9375363361153,811.5529901913034,841.4987076939608,645.8652400020387,978.3211904574658,1026.2593627477372,1307.3427908630745,1034.0873731742636,1268.3772140122305,1489.9274823809976,1519.9915046105887,1329.31439655397,1431.0248922870994,1566.2144147333108,1438.4509323399373,829.9221681206134,705.0060621997021,1432.1650836978292,188.37323461354003,1498.950979086217,920.6159834819938,1489.455399004581,1236.0520625432987,1323.9958683550722,1490.703545196068,1317.71949505948,1463.7461925349555,645.6194533195517,518.6891441332469,1508.020685458528,681.9077197106743,643.2530983456666,1171.9226021898683,1526.8075977874203,710.1789864596954,547.0659967970258,1239.099546696681,1275.603243989509,1516.3836910289606,1472.959836115183,1561.4366964617066,895.4073430723885,1139.0681753517283,1424.484489881591,1464.164972241741,639.5435764295627,1297.0316324502526],\"xaxis\":\"x\",\"y\":[1492.1809981987217,779.3469717532579,1386.019445716771,1538.16779305696,879.2193752730153,912.4517881845252,716.1176483766139,1036.5668837934559,999.3368347700261,1309.5678620203732,1051.439440645573,1308.5528194514773,1420.5747977954798,1524.8141650617745,1326.9197354657467,1348.7622310814072,1533.238371591124,1448.970873569592,881.611664867369,783.8774139910945,1408.7506745580527,56.39035770885903,1525.485720319069,953.1604919575576,1493.7552909815104,1159.0417613467582,1398.294860903711,1424.9559254801202,1291.405899818949,1446.9612201326943,557.1864939829695,504.30238262158355,1560.5397615519007,635.3196758211594,667.5938478036547,1173.2490452905377,1495.1058917462606,710.457725712751,615.5231124920085,1265.7253009270808,1315.4712093115038,1437.9899418974248,1481.6856157210336,1560.8577416417793,828.6070779174993,1164.747607276997,1401.6257534823235,1425.9740961167756,774.2434884293385,1265.2314218353868],\"yaxis\":\"y\",\"type\":\"scatter\"}],                        {\"template\":{\"data\":{\"bar\":[{\"error_x\":{\"color\":\"#2a3f5f\"},\"error_y\":{\"color\":\"#2a3f5f\"},\"marker\":{\"line\":{\"color\":\"#E5ECF6\",\"width\":0.5},\"pattern\":{\"fillmode\":\"overlay\",\"size\":10,\"solidity\":0.2}},\"type\":\"bar\"}],\"barpolar\":[{\"marker\":{\"line\":{\"color\":\"#E5ECF6\",\"width\":0.5},\"pattern\":{\"fillmode\":\"overlay\",\"size\":10,\"solidity\":0.2}},\"type\":\"barpolar\"}],\"carpet\":[{\"aaxis\":{\"endlinecolor\":\"#2a3f5f\",\"gridcolor\":\"white\",\"linecolor\":\"white\",\"minorgridcolor\":\"white\",\"startlinecolor\":\"#2a3f5f\"},\"baxis\":{\"endlinecolor\":\"#2a3f5f\",\"gridcolor\":\"white\",\"linecolor\":\"white\",\"minorgridcolor\":\"white\",\"startlinecolor\":\"#2a3f5f\"},\"type\":\"carpet\"}],\"choropleth\":[{\"colorbar\":{\"outlinewidth\":0,\"ticks\":\"\"},\"type\":\"choropleth\"}],\"contour\":[{\"colorbar\":{\"outlinewidth\":0,\"ticks\":\"\"},\"colorscale\":[[0.0,\"#0d0887\"],[0.1111111111111111,\"#46039f\"],[0.2222222222222222,\"#7201a8\"],[0.3333333333333333,\"#9c179e\"],[0.4444444444444444,\"#bd3786\"],[0.5555555555555556,\"#d8576b\"],[0.6666666666666666,\"#ed7953\"],[0.7777777777777778,\"#fb9f3a\"],[0.8888888888888888,\"#fdca26\"],[1.0,\"#f0f921\"]],\"type\":\"contour\"}],\"contourcarpet\":[{\"colorbar\":{\"outlinewidth\":0,\"ticks\":\"\"},\"type\":\"contourcarpet\"}],\"heatmap\":[{\"colorbar\":{\"outlinewidth\":0,\"ticks\":\"\"},\"colorscale\":[[0.0,\"#0d0887\"],[0.1111111111111111,\"#46039f\"],[0.2222222222222222,\"#7201a8\"],[0.3333333333333333,\"#9c179e\"],[0.4444444444444444,\"#bd3786\"],[0.5555555555555556,\"#d8576b\"],[0.6666666666666666,\"#ed7953\"],[0.7777777777777778,\"#fb9f3a\"],[0.8888888888888888,\"#fdca26\"],[1.0,\"#f0f921\"]],\"type\":\"heatmap\"}],\"heatmapgl\":[{\"colorbar\":{\"outlinewidth\":0,\"ticks\":\"\"},\"colorscale\":[[0.0,\"#0d0887\"],[0.1111111111111111,\"#46039f\"],[0.2222222222222222,\"#7201a8\"],[0.3333333333333333,\"#9c179e\"],[0.4444444444444444,\"#bd3786\"],[0.5555555555555556,\"#d8576b\"],[0.6666666666666666,\"#ed7953\"],[0.7777777777777778,\"#fb9f3a\"],[0.8888888888888888,\"#fdca26\"],[1.0,\"#f0f921\"]],\"type\":\"heatmapgl\"}],\"histogram\":[{\"marker\":{\"pattern\":{\"fillmode\":\"overlay\",\"size\":10,\"solidity\":0.2}},\"type\":\"histogram\"}],\"histogram2d\":[{\"colorbar\":{\"outlinewidth\":0,\"ticks\":\"\"},\"colorscale\":[[0.0,\"#0d0887\"],[0.1111111111111111,\"#46039f\"],[0.2222222222222222,\"#7201a8\"],[0.3333333333333333,\"#9c179e\"],[0.4444444444444444,\"#bd3786\"],[0.5555555555555556,\"#d8576b\"],[0.6666666666666666,\"#ed7953\"],[0.7777777777777778,\"#fb9f3a\"],[0.8888888888888888,\"#fdca26\"],[1.0,\"#f0f921\"]],\"type\":\"histogram2d\"}],\"histogram2dcontour\":[{\"colorbar\":{\"outlinewidth\":0,\"ticks\":\"\"},\"colorscale\":[[0.0,\"#0d0887\"],[0.1111111111111111,\"#46039f\"],[0.2222222222222222,\"#7201a8\"],[0.3333333333333333,\"#9c179e\"],[0.4444444444444444,\"#bd3786\"],[0.5555555555555556,\"#d8576b\"],[0.6666666666666666,\"#ed7953\"],[0.7777777777777778,\"#fb9f3a\"],[0.8888888888888888,\"#fdca26\"],[1.0,\"#f0f921\"]],\"type\":\"histogram2dcontour\"}],\"mesh3d\":[{\"colorbar\":{\"outlinewidth\":0,\"ticks\":\"\"},\"type\":\"mesh3d\"}],\"parcoords\":[{\"line\":{\"colorbar\":{\"outlinewidth\":0,\"ticks\":\"\"}},\"type\":\"parcoords\"}],\"pie\":[{\"automargin\":true,\"type\":\"pie\"}],\"scatter\":[{\"marker\":{\"colorbar\":{\"outlinewidth\":0,\"ticks\":\"\"}},\"type\":\"scatter\"}],\"scatter3d\":[{\"line\":{\"colorbar\":{\"outlinewidth\":0,\"ticks\":\"\"}},\"marker\":{\"colorbar\":{\"outlinewidth\":0,\"ticks\":\"\"}},\"type\":\"scatter3d\"}],\"scattercarpet\":[{\"marker\":{\"colorbar\":{\"outlinewidth\":0,\"ticks\":\"\"}},\"type\":\"scattercarpet\"}],\"scattergeo\":[{\"marker\":{\"colorbar\":{\"outlinewidth\":0,\"ticks\":\"\"}},\"type\":\"scattergeo\"}],\"scattergl\":[{\"marker\":{\"colorbar\":{\"outlinewidth\":0,\"ticks\":\"\"}},\"type\":\"scattergl\"}],\"scattermapbox\":[{\"marker\":{\"colorbar\":{\"outlinewidth\":0,\"ticks\":\"\"}},\"type\":\"scattermapbox\"}],\"scatterpolar\":[{\"marker\":{\"colorbar\":{\"outlinewidth\":0,\"ticks\":\"\"}},\"type\":\"scatterpolar\"}],\"scatterpolargl\":[{\"marker\":{\"colorbar\":{\"outlinewidth\":0,\"ticks\":\"\"}},\"type\":\"scatterpolargl\"}],\"scatterternary\":[{\"marker\":{\"colorbar\":{\"outlinewidth\":0,\"ticks\":\"\"}},\"type\":\"scatterternary\"}],\"surface\":[{\"colorbar\":{\"outlinewidth\":0,\"ticks\":\"\"},\"colorscale\":[[0.0,\"#0d0887\"],[0.1111111111111111,\"#46039f\"],[0.2222222222222222,\"#7201a8\"],[0.3333333333333333,\"#9c179e\"],[0.4444444444444444,\"#bd3786\"],[0.5555555555555556,\"#d8576b\"],[0.6666666666666666,\"#ed7953\"],[0.7777777777777778,\"#fb9f3a\"],[0.8888888888888888,\"#fdca26\"],[1.0,\"#f0f921\"]],\"type\":\"surface\"}],\"table\":[{\"cells\":{\"fill\":{\"color\":\"#EBF0F8\"},\"line\":{\"color\":\"white\"}},\"header\":{\"fill\":{\"color\":\"#C8D4E3\"},\"line\":{\"color\":\"white\"}},\"type\":\"table\"}]},\"layout\":{\"annotationdefaults\":{\"arrowcolor\":\"#2a3f5f\",\"arrowhead\":0,\"arrowwidth\":1},\"autotypenumbers\":\"strict\",\"coloraxis\":{\"colorbar\":{\"outlinewidth\":0,\"ticks\":\"\"}},\"colorscale\":{\"diverging\":[[0,\"#8e0152\"],[0.1,\"#c51b7d\"],[0.2,\"#de77ae\"],[0.3,\"#f1b6da\"],[0.4,\"#fde0ef\"],[0.5,\"#f7f7f7\"],[0.6,\"#e6f5d0\"],[0.7,\"#b8e186\"],[0.8,\"#7fbc41\"],[0.9,\"#4d9221\"],[1,\"#276419\"]],\"sequential\":[[0.0,\"#0d0887\"],[0.1111111111111111,\"#46039f\"],[0.2222222222222222,\"#7201a8\"],[0.3333333333333333,\"#9c179e\"],[0.4444444444444444,\"#bd3786\"],[0.5555555555555556,\"#d8576b\"],[0.6666666666666666,\"#ed7953\"],[0.7777777777777778,\"#fb9f3a\"],[0.8888888888888888,\"#fdca26\"],[1.0,\"#f0f921\"]],\"sequentialminus\":[[0.0,\"#0d0887\"],[0.1111111111111111,\"#46039f\"],[0.2222222222222222,\"#7201a8\"],[0.3333333333333333,\"#9c179e\"],[0.4444444444444444,\"#bd3786\"],[0.5555555555555556,\"#d8576b\"],[0.6666666666666666,\"#ed7953\"],[0.7777777777777778,\"#fb9f3a\"],[0.8888888888888888,\"#fdca26\"],[1.0,\"#f0f921\"]]},\"colorway\":[\"#636efa\",\"#EF553B\",\"#00cc96\",\"#ab63fa\",\"#FFA15A\",\"#19d3f3\",\"#FF6692\",\"#B6E880\",\"#FF97FF\",\"#FECB52\"],\"font\":{\"color\":\"#2a3f5f\"},\"geo\":{\"bgcolor\":\"white\",\"lakecolor\":\"white\",\"landcolor\":\"#E5ECF6\",\"showlakes\":true,\"showland\":true,\"subunitcolor\":\"white\"},\"hoverlabel\":{\"align\":\"left\"},\"hovermode\":\"closest\",\"mapbox\":{\"style\":\"light\"},\"paper_bgcolor\":\"white\",\"plot_bgcolor\":\"#E5ECF6\",\"polar\":{\"angularaxis\":{\"gridcolor\":\"white\",\"linecolor\":\"white\",\"ticks\":\"\"},\"bgcolor\":\"#E5ECF6\",\"radialaxis\":{\"gridcolor\":\"white\",\"linecolor\":\"white\",\"ticks\":\"\"}},\"scene\":{\"xaxis\":{\"backgroundcolor\":\"#E5ECF6\",\"gridcolor\":\"white\",\"gridwidth\":2,\"linecolor\":\"white\",\"showbackground\":true,\"ticks\":\"\",\"zerolinecolor\":\"white\"},\"yaxis\":{\"backgroundcolor\":\"#E5ECF6\",\"gridcolor\":\"white\",\"gridwidth\":2,\"linecolor\":\"white\",\"showbackground\":true,\"ticks\":\"\",\"zerolinecolor\":\"white\"},\"zaxis\":{\"backgroundcolor\":\"#E5ECF6\",\"gridcolor\":\"white\",\"gridwidth\":2,\"linecolor\":\"white\",\"showbackground\":true,\"ticks\":\"\",\"zerolinecolor\":\"white\"}},\"shapedefaults\":{\"line\":{\"color\":\"#2a3f5f\"}},\"ternary\":{\"aaxis\":{\"gridcolor\":\"white\",\"linecolor\":\"white\",\"ticks\":\"\"},\"baxis\":{\"gridcolor\":\"white\",\"linecolor\":\"white\",\"ticks\":\"\"},\"bgcolor\":\"#E5ECF6\",\"caxis\":{\"gridcolor\":\"white\",\"linecolor\":\"white\",\"ticks\":\"\"}},\"title\":{\"x\":0.05},\"xaxis\":{\"automargin\":true,\"gridcolor\":\"white\",\"linecolor\":\"white\",\"ticks\":\"\",\"title\":{\"standoff\":15},\"zerolinecolor\":\"white\",\"zerolinewidth\":2},\"yaxis\":{\"automargin\":true,\"gridcolor\":\"white\",\"linecolor\":\"white\",\"ticks\":\"\",\"title\":{\"standoff\":15},\"zerolinecolor\":\"white\",\"zerolinewidth\":2}}},\"xaxis\":{\"anchor\":\"y\",\"domain\":[0.0,1.0],\"title\":{\"text\":\"Observed Titer\"}},\"yaxis\":{\"anchor\":\"x\",\"domain\":[0.0,1.0],\"title\":{\"text\":\"Predicted Titer\"}},\"legend\":{\"tracegroupgap\":0},\"title\":{\"text\":\"Observed vs Predicted on Train Set; R^2 = 0.972\"},\"shapes\":[{\"layer\":\"below\",\"type\":\"line\",\"x0\":0,\"x1\":1,\"xref\":\"paper\",\"y0\":0,\"y1\":1,\"yref\":\"paper\"}]},                        {\"responsive\": true}                    ).then(function(){\n",
              "                            \n",
              "var gd = document.getElementById('5c611707-1e5e-416d-9650-1fc18e8625ba');\n",
              "var x = new MutationObserver(function (mutations, observer) {{\n",
              "        var display = window.getComputedStyle(gd).display;\n",
              "        if (!display || display === 'none') {{\n",
              "            console.log([gd, 'removed!']);\n",
              "            Plotly.purge(gd);\n",
              "            observer.disconnect();\n",
              "        }}\n",
              "}});\n",
              "\n",
              "// Listen for the removal of the full notebook cells\n",
              "var notebookContainer = gd.closest('#notebook-container');\n",
              "if (notebookContainer) {{\n",
              "    x.observe(notebookContainer, {childList: true});\n",
              "}}\n",
              "\n",
              "// Listen for the clearing of the current output cell\n",
              "var outputEl = gd.closest('.output');\n",
              "if (outputEl) {{\n",
              "    x.observe(outputEl, {childList: true});\n",
              "}}\n",
              "\n",
              "                        })                };                            </script>        </div>\n",
              "</body>\n",
              "</html>"
            ]
          },
          "metadata": {}
        },
        {
          "output_type": "display_data",
          "data": {
            "text/html": [
              "<html>\n",
              "<head><meta charset=\"utf-8\" /></head>\n",
              "<body>\n",
              "    <div>            <script src=\"https://cdnjs.cloudflare.com/ajax/libs/mathjax/2.7.5/MathJax.js?config=TeX-AMS-MML_SVG\"></script><script type=\"text/javascript\">if (window.MathJax) {MathJax.Hub.Config({SVG: {font: \"STIX-Web\"}});}</script>                <script type=\"text/javascript\">window.PlotlyConfig = {MathJaxConfig: 'local'};</script>\n",
              "        <script src=\"https://cdn.plot.ly/plotly-2.8.3.min.js\"></script>                <div id=\"6e32c7f5-e80a-4d7b-8a3b-9ee314b33a04\" class=\"plotly-graph-div\" style=\"height:525px; width:100%;\"></div>            <script type=\"text/javascript\">                                    window.PLOTLYENV=window.PLOTLYENV || {};                                    if (document.getElementById(\"6e32c7f5-e80a-4d7b-8a3b-9ee314b33a04\")) {                    Plotly.newPlot(                        \"6e32c7f5-e80a-4d7b-8a3b-9ee314b33a04\",                        [{\"hovertemplate\":\"Observed Titer=%{x}<br>Predicted Titer=%{y}<extra></extra>\",\"legendgroup\":\"\",\"marker\":{\"color\":\"#636efa\",\"symbol\":\"circle\"},\"mode\":\"markers\",\"name\":\"\",\"orientation\":\"v\",\"showlegend\":false,\"x\":[1486.555322665747,852.5421510506708,1553.3693013236993,1561.6944741051122,1561.9285093830367,1555.5990575252915,664.6187798777727,1588.1477685622356,1573.9990705283894,1393.0710551474324,1585.7304206956908,1534.768930546699,1586.8676827848133,1120.6204607891566,967.4138303905323,1581.2252660009826,1521.0375916532755,1255.2700326269191,1504.894937980849,728.3175492673013,1127.481659231358,1037.3529483901104,1153.1684886467415,1599.395719266287,1373.3875240676539,1588.972941246536,1397.182482338,1586.1796600561468,1268.1596010497083,1579.9184591007336,777.916772007101,1461.5586797240042,1318.0550040408075,1513.53945930146,678.9881062945203,920.6098404000459,1242.4469308698558,797.4025653838119,1418.0496260461455,1205.021737650426,1154.9710813250379,1360.312718950821,1101.630950463139,1504.347905209396,799.6625192661403,1530.773728116675,1419.8835249141798,1564.0148293057987,1562.1980325113516,1049.7026566235018],\"xaxis\":\"x\",\"y\":[1473.6624850370392,839.003309061002,1510.571207412018,1569.6273168236298,1482.194840592724,1474.2429802288111,751.7375495091699,1543.481425991843,1514.1969257449337,1349.595009741216,1525.6604612786118,1484.587576218723,1557.2220993951278,1101.7057625506372,940.3759539672731,1560.705377960045,1522.6421695542601,1235.7670676213984,1491.5637345297841,815.7340678552102,1092.8240389757193,1078.294821706405,1147.3909689023217,1561.8607354612636,1346.3545788527815,1559.8912528131427,1368.038817778558,1560.4480304751205,1235.676103601119,1572.2033280078697,721.7370554435988,1405.4252370323184,1334.0712363735506,1416.5231839138967,734.4432080070534,911.7274051380125,1194.6809763595115,826.9284062447377,1409.6314613331442,1166.3505818493582,1100.794523797773,1340.6905331307223,1089.441022865811,1526.772615560278,786.1537648524964,1462.2241189026581,1384.0044995169349,1534.4457886361165,1476.7457937440995,993.316391220285],\"yaxis\":\"y\",\"type\":\"scatter\"}],                        {\"template\":{\"data\":{\"bar\":[{\"error_x\":{\"color\":\"#2a3f5f\"},\"error_y\":{\"color\":\"#2a3f5f\"},\"marker\":{\"line\":{\"color\":\"#E5ECF6\",\"width\":0.5},\"pattern\":{\"fillmode\":\"overlay\",\"size\":10,\"solidity\":0.2}},\"type\":\"bar\"}],\"barpolar\":[{\"marker\":{\"line\":{\"color\":\"#E5ECF6\",\"width\":0.5},\"pattern\":{\"fillmode\":\"overlay\",\"size\":10,\"solidity\":0.2}},\"type\":\"barpolar\"}],\"carpet\":[{\"aaxis\":{\"endlinecolor\":\"#2a3f5f\",\"gridcolor\":\"white\",\"linecolor\":\"white\",\"minorgridcolor\":\"white\",\"startlinecolor\":\"#2a3f5f\"},\"baxis\":{\"endlinecolor\":\"#2a3f5f\",\"gridcolor\":\"white\",\"linecolor\":\"white\",\"minorgridcolor\":\"white\",\"startlinecolor\":\"#2a3f5f\"},\"type\":\"carpet\"}],\"choropleth\":[{\"colorbar\":{\"outlinewidth\":0,\"ticks\":\"\"},\"type\":\"choropleth\"}],\"contour\":[{\"colorbar\":{\"outlinewidth\":0,\"ticks\":\"\"},\"colorscale\":[[0.0,\"#0d0887\"],[0.1111111111111111,\"#46039f\"],[0.2222222222222222,\"#7201a8\"],[0.3333333333333333,\"#9c179e\"],[0.4444444444444444,\"#bd3786\"],[0.5555555555555556,\"#d8576b\"],[0.6666666666666666,\"#ed7953\"],[0.7777777777777778,\"#fb9f3a\"],[0.8888888888888888,\"#fdca26\"],[1.0,\"#f0f921\"]],\"type\":\"contour\"}],\"contourcarpet\":[{\"colorbar\":{\"outlinewidth\":0,\"ticks\":\"\"},\"type\":\"contourcarpet\"}],\"heatmap\":[{\"colorbar\":{\"outlinewidth\":0,\"ticks\":\"\"},\"colorscale\":[[0.0,\"#0d0887\"],[0.1111111111111111,\"#46039f\"],[0.2222222222222222,\"#7201a8\"],[0.3333333333333333,\"#9c179e\"],[0.4444444444444444,\"#bd3786\"],[0.5555555555555556,\"#d8576b\"],[0.6666666666666666,\"#ed7953\"],[0.7777777777777778,\"#fb9f3a\"],[0.8888888888888888,\"#fdca26\"],[1.0,\"#f0f921\"]],\"type\":\"heatmap\"}],\"heatmapgl\":[{\"colorbar\":{\"outlinewidth\":0,\"ticks\":\"\"},\"colorscale\":[[0.0,\"#0d0887\"],[0.1111111111111111,\"#46039f\"],[0.2222222222222222,\"#7201a8\"],[0.3333333333333333,\"#9c179e\"],[0.4444444444444444,\"#bd3786\"],[0.5555555555555556,\"#d8576b\"],[0.6666666666666666,\"#ed7953\"],[0.7777777777777778,\"#fb9f3a\"],[0.8888888888888888,\"#fdca26\"],[1.0,\"#f0f921\"]],\"type\":\"heatmapgl\"}],\"histogram\":[{\"marker\":{\"pattern\":{\"fillmode\":\"overlay\",\"size\":10,\"solidity\":0.2}},\"type\":\"histogram\"}],\"histogram2d\":[{\"colorbar\":{\"outlinewidth\":0,\"ticks\":\"\"},\"colorscale\":[[0.0,\"#0d0887\"],[0.1111111111111111,\"#46039f\"],[0.2222222222222222,\"#7201a8\"],[0.3333333333333333,\"#9c179e\"],[0.4444444444444444,\"#bd3786\"],[0.5555555555555556,\"#d8576b\"],[0.6666666666666666,\"#ed7953\"],[0.7777777777777778,\"#fb9f3a\"],[0.8888888888888888,\"#fdca26\"],[1.0,\"#f0f921\"]],\"type\":\"histogram2d\"}],\"histogram2dcontour\":[{\"colorbar\":{\"outlinewidth\":0,\"ticks\":\"\"},\"colorscale\":[[0.0,\"#0d0887\"],[0.1111111111111111,\"#46039f\"],[0.2222222222222222,\"#7201a8\"],[0.3333333333333333,\"#9c179e\"],[0.4444444444444444,\"#bd3786\"],[0.5555555555555556,\"#d8576b\"],[0.6666666666666666,\"#ed7953\"],[0.7777777777777778,\"#fb9f3a\"],[0.8888888888888888,\"#fdca26\"],[1.0,\"#f0f921\"]],\"type\":\"histogram2dcontour\"}],\"mesh3d\":[{\"colorbar\":{\"outlinewidth\":0,\"ticks\":\"\"},\"type\":\"mesh3d\"}],\"parcoords\":[{\"line\":{\"colorbar\":{\"outlinewidth\":0,\"ticks\":\"\"}},\"type\":\"parcoords\"}],\"pie\":[{\"automargin\":true,\"type\":\"pie\"}],\"scatter\":[{\"marker\":{\"colorbar\":{\"outlinewidth\":0,\"ticks\":\"\"}},\"type\":\"scatter\"}],\"scatter3d\":[{\"line\":{\"colorbar\":{\"outlinewidth\":0,\"ticks\":\"\"}},\"marker\":{\"colorbar\":{\"outlinewidth\":0,\"ticks\":\"\"}},\"type\":\"scatter3d\"}],\"scattercarpet\":[{\"marker\":{\"colorbar\":{\"outlinewidth\":0,\"ticks\":\"\"}},\"type\":\"scattercarpet\"}],\"scattergeo\":[{\"marker\":{\"colorbar\":{\"outlinewidth\":0,\"ticks\":\"\"}},\"type\":\"scattergeo\"}],\"scattergl\":[{\"marker\":{\"colorbar\":{\"outlinewidth\":0,\"ticks\":\"\"}},\"type\":\"scattergl\"}],\"scattermapbox\":[{\"marker\":{\"colorbar\":{\"outlinewidth\":0,\"ticks\":\"\"}},\"type\":\"scattermapbox\"}],\"scatterpolar\":[{\"marker\":{\"colorbar\":{\"outlinewidth\":0,\"ticks\":\"\"}},\"type\":\"scatterpolar\"}],\"scatterpolargl\":[{\"marker\":{\"colorbar\":{\"outlinewidth\":0,\"ticks\":\"\"}},\"type\":\"scatterpolargl\"}],\"scatterternary\":[{\"marker\":{\"colorbar\":{\"outlinewidth\":0,\"ticks\":\"\"}},\"type\":\"scatterternary\"}],\"surface\":[{\"colorbar\":{\"outlinewidth\":0,\"ticks\":\"\"},\"colorscale\":[[0.0,\"#0d0887\"],[0.1111111111111111,\"#46039f\"],[0.2222222222222222,\"#7201a8\"],[0.3333333333333333,\"#9c179e\"],[0.4444444444444444,\"#bd3786\"],[0.5555555555555556,\"#d8576b\"],[0.6666666666666666,\"#ed7953\"],[0.7777777777777778,\"#fb9f3a\"],[0.8888888888888888,\"#fdca26\"],[1.0,\"#f0f921\"]],\"type\":\"surface\"}],\"table\":[{\"cells\":{\"fill\":{\"color\":\"#EBF0F8\"},\"line\":{\"color\":\"white\"}},\"header\":{\"fill\":{\"color\":\"#C8D4E3\"},\"line\":{\"color\":\"white\"}},\"type\":\"table\"}]},\"layout\":{\"annotationdefaults\":{\"arrowcolor\":\"#2a3f5f\",\"arrowhead\":0,\"arrowwidth\":1},\"autotypenumbers\":\"strict\",\"coloraxis\":{\"colorbar\":{\"outlinewidth\":0,\"ticks\":\"\"}},\"colorscale\":{\"diverging\":[[0,\"#8e0152\"],[0.1,\"#c51b7d\"],[0.2,\"#de77ae\"],[0.3,\"#f1b6da\"],[0.4,\"#fde0ef\"],[0.5,\"#f7f7f7\"],[0.6,\"#e6f5d0\"],[0.7,\"#b8e186\"],[0.8,\"#7fbc41\"],[0.9,\"#4d9221\"],[1,\"#276419\"]],\"sequential\":[[0.0,\"#0d0887\"],[0.1111111111111111,\"#46039f\"],[0.2222222222222222,\"#7201a8\"],[0.3333333333333333,\"#9c179e\"],[0.4444444444444444,\"#bd3786\"],[0.5555555555555556,\"#d8576b\"],[0.6666666666666666,\"#ed7953\"],[0.7777777777777778,\"#fb9f3a\"],[0.8888888888888888,\"#fdca26\"],[1.0,\"#f0f921\"]],\"sequentialminus\":[[0.0,\"#0d0887\"],[0.1111111111111111,\"#46039f\"],[0.2222222222222222,\"#7201a8\"],[0.3333333333333333,\"#9c179e\"],[0.4444444444444444,\"#bd3786\"],[0.5555555555555556,\"#d8576b\"],[0.6666666666666666,\"#ed7953\"],[0.7777777777777778,\"#fb9f3a\"],[0.8888888888888888,\"#fdca26\"],[1.0,\"#f0f921\"]]},\"colorway\":[\"#636efa\",\"#EF553B\",\"#00cc96\",\"#ab63fa\",\"#FFA15A\",\"#19d3f3\",\"#FF6692\",\"#B6E880\",\"#FF97FF\",\"#FECB52\"],\"font\":{\"color\":\"#2a3f5f\"},\"geo\":{\"bgcolor\":\"white\",\"lakecolor\":\"white\",\"landcolor\":\"#E5ECF6\",\"showlakes\":true,\"showland\":true,\"subunitcolor\":\"white\"},\"hoverlabel\":{\"align\":\"left\"},\"hovermode\":\"closest\",\"mapbox\":{\"style\":\"light\"},\"paper_bgcolor\":\"white\",\"plot_bgcolor\":\"#E5ECF6\",\"polar\":{\"angularaxis\":{\"gridcolor\":\"white\",\"linecolor\":\"white\",\"ticks\":\"\"},\"bgcolor\":\"#E5ECF6\",\"radialaxis\":{\"gridcolor\":\"white\",\"linecolor\":\"white\",\"ticks\":\"\"}},\"scene\":{\"xaxis\":{\"backgroundcolor\":\"#E5ECF6\",\"gridcolor\":\"white\",\"gridwidth\":2,\"linecolor\":\"white\",\"showbackground\":true,\"ticks\":\"\",\"zerolinecolor\":\"white\"},\"yaxis\":{\"backgroundcolor\":\"#E5ECF6\",\"gridcolor\":\"white\",\"gridwidth\":2,\"linecolor\":\"white\",\"showbackground\":true,\"ticks\":\"\",\"zerolinecolor\":\"white\"},\"zaxis\":{\"backgroundcolor\":\"#E5ECF6\",\"gridcolor\":\"white\",\"gridwidth\":2,\"linecolor\":\"white\",\"showbackground\":true,\"ticks\":\"\",\"zerolinecolor\":\"white\"}},\"shapedefaults\":{\"line\":{\"color\":\"#2a3f5f\"}},\"ternary\":{\"aaxis\":{\"gridcolor\":\"white\",\"linecolor\":\"white\",\"ticks\":\"\"},\"baxis\":{\"gridcolor\":\"white\",\"linecolor\":\"white\",\"ticks\":\"\"},\"bgcolor\":\"#E5ECF6\",\"caxis\":{\"gridcolor\":\"white\",\"linecolor\":\"white\",\"ticks\":\"\"}},\"title\":{\"x\":0.05},\"xaxis\":{\"automargin\":true,\"gridcolor\":\"white\",\"linecolor\":\"white\",\"ticks\":\"\",\"title\":{\"standoff\":15},\"zerolinecolor\":\"white\",\"zerolinewidth\":2},\"yaxis\":{\"automargin\":true,\"gridcolor\":\"white\",\"linecolor\":\"white\",\"ticks\":\"\",\"title\":{\"standoff\":15},\"zerolinecolor\":\"white\",\"zerolinewidth\":2}}},\"xaxis\":{\"anchor\":\"y\",\"domain\":[0.0,1.0],\"title\":{\"text\":\"Observed Titer\"}},\"yaxis\":{\"anchor\":\"x\",\"domain\":[0.0,1.0],\"title\":{\"text\":\"Predicted Titer\"}},\"legend\":{\"tracegroupgap\":0},\"title\":{\"text\":\"Observed vs Predicted on Test Set; R^2 = 0.976\"},\"shapes\":[{\"layer\":\"below\",\"type\":\"line\",\"x0\":0,\"x1\":1,\"xref\":\"paper\",\"y0\":0,\"y1\":1,\"yref\":\"paper\"}]},                        {\"responsive\": true}                    ).then(function(){\n",
              "                            \n",
              "var gd = document.getElementById('6e32c7f5-e80a-4d7b-8a3b-9ee314b33a04');\n",
              "var x = new MutationObserver(function (mutations, observer) {{\n",
              "        var display = window.getComputedStyle(gd).display;\n",
              "        if (!display || display === 'none') {{\n",
              "            console.log([gd, 'removed!']);\n",
              "            Plotly.purge(gd);\n",
              "            observer.disconnect();\n",
              "        }}\n",
              "}});\n",
              "\n",
              "// Listen for the removal of the full notebook cells\n",
              "var notebookContainer = gd.closest('#notebook-container');\n",
              "if (notebookContainer) {{\n",
              "    x.observe(notebookContainer, {childList: true});\n",
              "}}\n",
              "\n",
              "// Listen for the clearing of the current output cell\n",
              "var outputEl = gd.closest('.output');\n",
              "if (outputEl) {{\n",
              "    x.observe(outputEl, {childList: true});\n",
              "}}\n",
              "\n",
              "                        })                };                            </script>        </div>\n",
              "</body>\n",
              "</html>"
            ]
          },
          "metadata": {}
        }
      ]
    },
    {
      "cell_type": "code",
      "source": [
        "# Absolute RMSEP\n",
        "rmse_abs = mean_squared_error(y_test, yhat_test,squared=False)\n",
        "print('Absolute RMSEP: ',rmse_abs)\n",
        "# Relative RMSEP\n",
        "rmse_rel = mean_squared_error(y_test, yhat_test,squared=False) / np.std(np.array(y_test))\n",
        "print('Relative RMSEP: ',rmse_rel)"
      ],
      "metadata": {
        "colab": {
          "base_uri": "https://localhost:8080/"
        },
        "id": "LaPaHUjcXKaT",
        "outputId": "685d5790-cdb7-461a-d809-341dda784d92"
      },
      "execution_count": null,
      "outputs": [
        {
          "output_type": "stream",
          "name": "stdout",
          "text": [
            "Absolute RMSEP:  44.912690726879084\n",
            "Relative RMSEP:  0.1553578951494958\n"
          ]
        }
      ]
    },
    {
      "cell_type": "code",
      "source": [
        "# Principal component on x-axis\n",
        "select_x_pca = 1\n",
        "# Principal component on y-axis\n",
        "select_y_pca = 2"
      ],
      "metadata": {
        "id": "ibRl93tiJQDl"
      },
      "execution_count": null,
      "outputs": []
    },
    {
      "cell_type": "code",
      "source": [
        "# Plot loadings\n",
        "loadings = pls.x_loadings_\n",
        "#fig = px.scatter(x=pls.x_scores_[:,select_x_pca-1],y=pls.x_scores_[:,select_y_pca-1])\n",
        "fig = px.scatter(x=[0,0], y=[0,0], title = \"Loadings of PLS model\", labels={'x':\"PC - \"+ str(select_x_pca) , 'y':\"PC -\"+ str(select_y_pca)})\n",
        "for i, feature in enumerate(X.columns):\n",
        "    fig.add_shape(type='line', x0=0, y0=0, x1=loadings[i,select_x_pca-1], y1=loadings[i,select_y_pca-1])\n",
        "    fig.add_annotation(x=loadings[i,select_x_pca-1], y=loadings[i,select_y_pca-1], ax=0, ay=0, xanchor=\"center\", yanchor=\"bottom\", text=feature)\n",
        "fig.show()"
      ],
      "metadata": {
        "colab": {
          "base_uri": "https://localhost:8080/",
          "height": 542
        },
        "id": "eQXkW1jOUmsU",
        "outputId": "200e6148-2741-4714-c1a5-b41017b13c5e"
      },
      "execution_count": null,
      "outputs": [
        {
          "output_type": "display_data",
          "data": {
            "text/html": [
              "<html>\n",
              "<head><meta charset=\"utf-8\" /></head>\n",
              "<body>\n",
              "    <div>            <script src=\"https://cdnjs.cloudflare.com/ajax/libs/mathjax/2.7.5/MathJax.js?config=TeX-AMS-MML_SVG\"></script><script type=\"text/javascript\">if (window.MathJax) {MathJax.Hub.Config({SVG: {font: \"STIX-Web\"}});}</script>                <script type=\"text/javascript\">window.PlotlyConfig = {MathJaxConfig: 'local'};</script>\n",
              "        <script src=\"https://cdn.plot.ly/plotly-2.8.3.min.js\"></script>                <div id=\"864e7a0d-79a9-48af-9228-68f2544cba2e\" class=\"plotly-graph-div\" style=\"height:525px; width:100%;\"></div>            <script type=\"text/javascript\">                                    window.PLOTLYENV=window.PLOTLYENV || {};                                    if (document.getElementById(\"864e7a0d-79a9-48af-9228-68f2544cba2e\")) {                    Plotly.newPlot(                        \"864e7a0d-79a9-48af-9228-68f2544cba2e\",                        [{\"hovertemplate\":\"PC - 1=%{x}<br>PC -2=%{y}<extra></extra>\",\"legendgroup\":\"\",\"marker\":{\"color\":\"#636efa\",\"symbol\":\"circle\"},\"mode\":\"markers\",\"name\":\"\",\"orientation\":\"v\",\"showlegend\":false,\"x\":[0,0],\"xaxis\":\"x\",\"y\":[0,0],\"yaxis\":\"y\",\"type\":\"scatter\"}],                        {\"template\":{\"data\":{\"bar\":[{\"error_x\":{\"color\":\"#2a3f5f\"},\"error_y\":{\"color\":\"#2a3f5f\"},\"marker\":{\"line\":{\"color\":\"#E5ECF6\",\"width\":0.5},\"pattern\":{\"fillmode\":\"overlay\",\"size\":10,\"solidity\":0.2}},\"type\":\"bar\"}],\"barpolar\":[{\"marker\":{\"line\":{\"color\":\"#E5ECF6\",\"width\":0.5},\"pattern\":{\"fillmode\":\"overlay\",\"size\":10,\"solidity\":0.2}},\"type\":\"barpolar\"}],\"carpet\":[{\"aaxis\":{\"endlinecolor\":\"#2a3f5f\",\"gridcolor\":\"white\",\"linecolor\":\"white\",\"minorgridcolor\":\"white\",\"startlinecolor\":\"#2a3f5f\"},\"baxis\":{\"endlinecolor\":\"#2a3f5f\",\"gridcolor\":\"white\",\"linecolor\":\"white\",\"minorgridcolor\":\"white\",\"startlinecolor\":\"#2a3f5f\"},\"type\":\"carpet\"}],\"choropleth\":[{\"colorbar\":{\"outlinewidth\":0,\"ticks\":\"\"},\"type\":\"choropleth\"}],\"contour\":[{\"colorbar\":{\"outlinewidth\":0,\"ticks\":\"\"},\"colorscale\":[[0.0,\"#0d0887\"],[0.1111111111111111,\"#46039f\"],[0.2222222222222222,\"#7201a8\"],[0.3333333333333333,\"#9c179e\"],[0.4444444444444444,\"#bd3786\"],[0.5555555555555556,\"#d8576b\"],[0.6666666666666666,\"#ed7953\"],[0.7777777777777778,\"#fb9f3a\"],[0.8888888888888888,\"#fdca26\"],[1.0,\"#f0f921\"]],\"type\":\"contour\"}],\"contourcarpet\":[{\"colorbar\":{\"outlinewidth\":0,\"ticks\":\"\"},\"type\":\"contourcarpet\"}],\"heatmap\":[{\"colorbar\":{\"outlinewidth\":0,\"ticks\":\"\"},\"colorscale\":[[0.0,\"#0d0887\"],[0.1111111111111111,\"#46039f\"],[0.2222222222222222,\"#7201a8\"],[0.3333333333333333,\"#9c179e\"],[0.4444444444444444,\"#bd3786\"],[0.5555555555555556,\"#d8576b\"],[0.6666666666666666,\"#ed7953\"],[0.7777777777777778,\"#fb9f3a\"],[0.8888888888888888,\"#fdca26\"],[1.0,\"#f0f921\"]],\"type\":\"heatmap\"}],\"heatmapgl\":[{\"colorbar\":{\"outlinewidth\":0,\"ticks\":\"\"},\"colorscale\":[[0.0,\"#0d0887\"],[0.1111111111111111,\"#46039f\"],[0.2222222222222222,\"#7201a8\"],[0.3333333333333333,\"#9c179e\"],[0.4444444444444444,\"#bd3786\"],[0.5555555555555556,\"#d8576b\"],[0.6666666666666666,\"#ed7953\"],[0.7777777777777778,\"#fb9f3a\"],[0.8888888888888888,\"#fdca26\"],[1.0,\"#f0f921\"]],\"type\":\"heatmapgl\"}],\"histogram\":[{\"marker\":{\"pattern\":{\"fillmode\":\"overlay\",\"size\":10,\"solidity\":0.2}},\"type\":\"histogram\"}],\"histogram2d\":[{\"colorbar\":{\"outlinewidth\":0,\"ticks\":\"\"},\"colorscale\":[[0.0,\"#0d0887\"],[0.1111111111111111,\"#46039f\"],[0.2222222222222222,\"#7201a8\"],[0.3333333333333333,\"#9c179e\"],[0.4444444444444444,\"#bd3786\"],[0.5555555555555556,\"#d8576b\"],[0.6666666666666666,\"#ed7953\"],[0.7777777777777778,\"#fb9f3a\"],[0.8888888888888888,\"#fdca26\"],[1.0,\"#f0f921\"]],\"type\":\"histogram2d\"}],\"histogram2dcontour\":[{\"colorbar\":{\"outlinewidth\":0,\"ticks\":\"\"},\"colorscale\":[[0.0,\"#0d0887\"],[0.1111111111111111,\"#46039f\"],[0.2222222222222222,\"#7201a8\"],[0.3333333333333333,\"#9c179e\"],[0.4444444444444444,\"#bd3786\"],[0.5555555555555556,\"#d8576b\"],[0.6666666666666666,\"#ed7953\"],[0.7777777777777778,\"#fb9f3a\"],[0.8888888888888888,\"#fdca26\"],[1.0,\"#f0f921\"]],\"type\":\"histogram2dcontour\"}],\"mesh3d\":[{\"colorbar\":{\"outlinewidth\":0,\"ticks\":\"\"},\"type\":\"mesh3d\"}],\"parcoords\":[{\"line\":{\"colorbar\":{\"outlinewidth\":0,\"ticks\":\"\"}},\"type\":\"parcoords\"}],\"pie\":[{\"automargin\":true,\"type\":\"pie\"}],\"scatter\":[{\"marker\":{\"colorbar\":{\"outlinewidth\":0,\"ticks\":\"\"}},\"type\":\"scatter\"}],\"scatter3d\":[{\"line\":{\"colorbar\":{\"outlinewidth\":0,\"ticks\":\"\"}},\"marker\":{\"colorbar\":{\"outlinewidth\":0,\"ticks\":\"\"}},\"type\":\"scatter3d\"}],\"scattercarpet\":[{\"marker\":{\"colorbar\":{\"outlinewidth\":0,\"ticks\":\"\"}},\"type\":\"scattercarpet\"}],\"scattergeo\":[{\"marker\":{\"colorbar\":{\"outlinewidth\":0,\"ticks\":\"\"}},\"type\":\"scattergeo\"}],\"scattergl\":[{\"marker\":{\"colorbar\":{\"outlinewidth\":0,\"ticks\":\"\"}},\"type\":\"scattergl\"}],\"scattermapbox\":[{\"marker\":{\"colorbar\":{\"outlinewidth\":0,\"ticks\":\"\"}},\"type\":\"scattermapbox\"}],\"scatterpolar\":[{\"marker\":{\"colorbar\":{\"outlinewidth\":0,\"ticks\":\"\"}},\"type\":\"scatterpolar\"}],\"scatterpolargl\":[{\"marker\":{\"colorbar\":{\"outlinewidth\":0,\"ticks\":\"\"}},\"type\":\"scatterpolargl\"}],\"scatterternary\":[{\"marker\":{\"colorbar\":{\"outlinewidth\":0,\"ticks\":\"\"}},\"type\":\"scatterternary\"}],\"surface\":[{\"colorbar\":{\"outlinewidth\":0,\"ticks\":\"\"},\"colorscale\":[[0.0,\"#0d0887\"],[0.1111111111111111,\"#46039f\"],[0.2222222222222222,\"#7201a8\"],[0.3333333333333333,\"#9c179e\"],[0.4444444444444444,\"#bd3786\"],[0.5555555555555556,\"#d8576b\"],[0.6666666666666666,\"#ed7953\"],[0.7777777777777778,\"#fb9f3a\"],[0.8888888888888888,\"#fdca26\"],[1.0,\"#f0f921\"]],\"type\":\"surface\"}],\"table\":[{\"cells\":{\"fill\":{\"color\":\"#EBF0F8\"},\"line\":{\"color\":\"white\"}},\"header\":{\"fill\":{\"color\":\"#C8D4E3\"},\"line\":{\"color\":\"white\"}},\"type\":\"table\"}]},\"layout\":{\"annotationdefaults\":{\"arrowcolor\":\"#2a3f5f\",\"arrowhead\":0,\"arrowwidth\":1},\"autotypenumbers\":\"strict\",\"coloraxis\":{\"colorbar\":{\"outlinewidth\":0,\"ticks\":\"\"}},\"colorscale\":{\"diverging\":[[0,\"#8e0152\"],[0.1,\"#c51b7d\"],[0.2,\"#de77ae\"],[0.3,\"#f1b6da\"],[0.4,\"#fde0ef\"],[0.5,\"#f7f7f7\"],[0.6,\"#e6f5d0\"],[0.7,\"#b8e186\"],[0.8,\"#7fbc41\"],[0.9,\"#4d9221\"],[1,\"#276419\"]],\"sequential\":[[0.0,\"#0d0887\"],[0.1111111111111111,\"#46039f\"],[0.2222222222222222,\"#7201a8\"],[0.3333333333333333,\"#9c179e\"],[0.4444444444444444,\"#bd3786\"],[0.5555555555555556,\"#d8576b\"],[0.6666666666666666,\"#ed7953\"],[0.7777777777777778,\"#fb9f3a\"],[0.8888888888888888,\"#fdca26\"],[1.0,\"#f0f921\"]],\"sequentialminus\":[[0.0,\"#0d0887\"],[0.1111111111111111,\"#46039f\"],[0.2222222222222222,\"#7201a8\"],[0.3333333333333333,\"#9c179e\"],[0.4444444444444444,\"#bd3786\"],[0.5555555555555556,\"#d8576b\"],[0.6666666666666666,\"#ed7953\"],[0.7777777777777778,\"#fb9f3a\"],[0.8888888888888888,\"#fdca26\"],[1.0,\"#f0f921\"]]},\"colorway\":[\"#636efa\",\"#EF553B\",\"#00cc96\",\"#ab63fa\",\"#FFA15A\",\"#19d3f3\",\"#FF6692\",\"#B6E880\",\"#FF97FF\",\"#FECB52\"],\"font\":{\"color\":\"#2a3f5f\"},\"geo\":{\"bgcolor\":\"white\",\"lakecolor\":\"white\",\"landcolor\":\"#E5ECF6\",\"showlakes\":true,\"showland\":true,\"subunitcolor\":\"white\"},\"hoverlabel\":{\"align\":\"left\"},\"hovermode\":\"closest\",\"mapbox\":{\"style\":\"light\"},\"paper_bgcolor\":\"white\",\"plot_bgcolor\":\"#E5ECF6\",\"polar\":{\"angularaxis\":{\"gridcolor\":\"white\",\"linecolor\":\"white\",\"ticks\":\"\"},\"bgcolor\":\"#E5ECF6\",\"radialaxis\":{\"gridcolor\":\"white\",\"linecolor\":\"white\",\"ticks\":\"\"}},\"scene\":{\"xaxis\":{\"backgroundcolor\":\"#E5ECF6\",\"gridcolor\":\"white\",\"gridwidth\":2,\"linecolor\":\"white\",\"showbackground\":true,\"ticks\":\"\",\"zerolinecolor\":\"white\"},\"yaxis\":{\"backgroundcolor\":\"#E5ECF6\",\"gridcolor\":\"white\",\"gridwidth\":2,\"linecolor\":\"white\",\"showbackground\":true,\"ticks\":\"\",\"zerolinecolor\":\"white\"},\"zaxis\":{\"backgroundcolor\":\"#E5ECF6\",\"gridcolor\":\"white\",\"gridwidth\":2,\"linecolor\":\"white\",\"showbackground\":true,\"ticks\":\"\",\"zerolinecolor\":\"white\"}},\"shapedefaults\":{\"line\":{\"color\":\"#2a3f5f\"}},\"ternary\":{\"aaxis\":{\"gridcolor\":\"white\",\"linecolor\":\"white\",\"ticks\":\"\"},\"baxis\":{\"gridcolor\":\"white\",\"linecolor\":\"white\",\"ticks\":\"\"},\"bgcolor\":\"#E5ECF6\",\"caxis\":{\"gridcolor\":\"white\",\"linecolor\":\"white\",\"ticks\":\"\"}},\"title\":{\"x\":0.05},\"xaxis\":{\"automargin\":true,\"gridcolor\":\"white\",\"linecolor\":\"white\",\"ticks\":\"\",\"title\":{\"standoff\":15},\"zerolinecolor\":\"white\",\"zerolinewidth\":2},\"yaxis\":{\"automargin\":true,\"gridcolor\":\"white\",\"linecolor\":\"white\",\"ticks\":\"\",\"title\":{\"standoff\":15},\"zerolinecolor\":\"white\",\"zerolinewidth\":2}}},\"xaxis\":{\"anchor\":\"y\",\"domain\":[0.0,1.0],\"title\":{\"text\":\"PC - 1\"}},\"yaxis\":{\"anchor\":\"x\",\"domain\":[0.0,1.0],\"title\":{\"text\":\"PC -2\"}},\"legend\":{\"tracegroupgap\":0},\"title\":{\"text\":\"Loadings of PLS model\"},\"shapes\":[{\"type\":\"line\",\"x0\":0,\"x1\":0.16086704020535517,\"y0\":0,\"y1\":-0.0768245260147003},{\"type\":\"line\",\"x0\":0,\"x1\":0.12604667737959677,\"y0\":0,\"y1\":0.011148049542506809},{\"type\":\"line\",\"x0\":0,\"x1\":-0.06972413929953583,\"y0\":0,\"y1\":0.19237217198277842},{\"type\":\"line\",\"x0\":0,\"x1\":0.03941583789774733,\"y0\":0,\"y1\":0.24458779643453288},{\"type\":\"line\",\"x0\":0,\"x1\":0.009602421529491091,\"y0\":0,\"y1\":0.14710248124780678},{\"type\":\"line\",\"x0\":0,\"x1\":0.012536635608132207,\"y0\":0,\"y1\":0.15492954158475017},{\"type\":\"line\",\"x0\":0,\"x1\":0.019582411936918835,\"y0\":0,\"y1\":0.15828727302150047},{\"type\":\"line\",\"x0\":0,\"x1\":0.043052878862574605,\"y0\":0,\"y1\":0.15204686412878896},{\"type\":\"line\",\"x0\":0,\"x1\":0.1102018435918486,\"y0\":0,\"y1\":0.11598768136240874},{\"type\":\"line\",\"x0\":0,\"x1\":0.27719770741245175,\"y0\":0,\"y1\":0.006969407938615163},{\"type\":\"line\",\"x0\":0,\"x1\":0.35870748812560194,\"y0\":0,\"y1\":-0.06331476397963945},{\"type\":\"line\",\"x0\":0,\"x1\":0.35833546139893035,\"y0\":0,\"y1\":-0.051617714010736664},{\"type\":\"line\",\"x0\":0,\"x1\":0.36099962045926265,\"y0\":0,\"y1\":-0.047150789014054215},{\"type\":\"line\",\"x0\":0,\"x1\":0.36029678294630746,\"y0\":0,\"y1\":-0.052325143704588746},{\"type\":\"line\",\"x0\":0,\"x1\":0.35642766914915774,\"y0\":0,\"y1\":-0.06187908339632462},{\"type\":\"line\",\"x0\":0,\"x1\":0.3462610202716505,\"y0\":0,\"y1\":-0.07252195421228572},{\"type\":\"line\",\"x0\":0,\"x1\":0.33025890611197567,\"y0\":0,\"y1\":-0.07852398458475825},{\"type\":\"line\",\"x0\":0,\"x1\":0.03938787411426974,\"y0\":0,\"y1\":0.24251789739101015},{\"type\":\"line\",\"x0\":0,\"x1\":0.00984729123104017,\"y0\":0,\"y1\":0.2515421193300572},{\"type\":\"line\",\"x0\":0,\"x1\":-0.049129479811124754,\"y0\":0,\"y1\":0.2664457265833004},{\"type\":\"line\",\"x0\":0,\"x1\":-0.09325332379660327,\"y0\":0,\"y1\":0.26741467986700057},{\"type\":\"line\",\"x0\":0,\"x1\":-0.1151422771943695,\"y0\":0,\"y1\":0.2722512171571065},{\"type\":\"line\",\"x0\":0,\"x1\":-0.1451766575999157,\"y0\":0,\"y1\":0.27376076786497006},{\"type\":\"line\",\"x0\":0,\"x1\":-0.17799765163555373,\"y0\":0,\"y1\":0.27138895751866154},{\"type\":\"line\",\"x0\":0,\"x1\":-0.20076204833687072,\"y0\":0,\"y1\":0.26697084523638664},{\"type\":\"line\",\"x0\":0,\"x1\":-0.2077836804392224,\"y0\":0,\"y1\":0.26680503190477467},{\"type\":\"line\",\"x0\":0,\"x1\":-0.20661401146354974,\"y0\":0,\"y1\":0.26378349472660756},{\"type\":\"line\",\"x0\":0,\"x1\":-0.20201925519189837,\"y0\":0,\"y1\":0.2548369437310288},{\"type\":\"line\",\"x0\":0,\"x1\":-0.20269379134849747,\"y0\":0,\"y1\":0.24593226814934974}],\"annotations\":[{\"ax\":0,\"ay\":0,\"text\":\"feed_start\",\"x\":0.16086704020535517,\"xanchor\":\"center\",\"y\":-0.0768245260147003,\"yanchor\":\"bottom\"},{\"ax\":0,\"ay\":0,\"text\":\"feed_end\",\"x\":0.12604667737959677,\"xanchor\":\"center\",\"y\":0.011148049542506809,\"yanchor\":\"bottom\"},{\"ax\":0,\"ay\":0,\"text\":\"Glc_feed_rate\",\"x\":-0.06972413929953583,\"xanchor\":\"center\",\"y\":0.19237217198277842,\"yanchor\":\"bottom\"},{\"ax\":0,\"ay\":0,\"text\":\"Glc_0\",\"x\":0.03941583789774733,\"xanchor\":\"center\",\"y\":0.24458779643453288,\"yanchor\":\"bottom\"},{\"ax\":0,\"ay\":0,\"text\":\"VCD_0\",\"x\":0.009602421529491091,\"xanchor\":\"center\",\"y\":0.14710248124780678,\"yanchor\":\"bottom\"},{\"ax\":0,\"ay\":0,\"text\":\"X:VCD:1\",\"x\":0.012536635608132207,\"xanchor\":\"center\",\"y\":0.15492954158475017,\"yanchor\":\"bottom\"},{\"ax\":0,\"ay\":0,\"text\":\"X:VCD:2\",\"x\":0.019582411936918835,\"xanchor\":\"center\",\"y\":0.15828727302150047,\"yanchor\":\"bottom\"},{\"ax\":0,\"ay\":0,\"text\":\"X:VCD:3\",\"x\":0.043052878862574605,\"xanchor\":\"center\",\"y\":0.15204686412878896,\"yanchor\":\"bottom\"},{\"ax\":0,\"ay\":0,\"text\":\"X:VCD:4\",\"x\":0.1102018435918486,\"xanchor\":\"center\",\"y\":0.11598768136240874,\"yanchor\":\"bottom\"},{\"ax\":0,\"ay\":0,\"text\":\"X:VCD:5\",\"x\":0.27719770741245175,\"xanchor\":\"center\",\"y\":0.006969407938615163,\"yanchor\":\"bottom\"},{\"ax\":0,\"ay\":0,\"text\":\"X:VCD:6\",\"x\":0.35870748812560194,\"xanchor\":\"center\",\"y\":-0.06331476397963945,\"yanchor\":\"bottom\"},{\"ax\":0,\"ay\":0,\"text\":\"X:VCD:7\",\"x\":0.35833546139893035,\"xanchor\":\"center\",\"y\":-0.051617714010736664,\"yanchor\":\"bottom\"},{\"ax\":0,\"ay\":0,\"text\":\"X:VCD:8\",\"x\":0.36099962045926265,\"xanchor\":\"center\",\"y\":-0.047150789014054215,\"yanchor\":\"bottom\"},{\"ax\":0,\"ay\":0,\"text\":\"X:VCD:9\",\"x\":0.36029678294630746,\"xanchor\":\"center\",\"y\":-0.052325143704588746,\"yanchor\":\"bottom\"},{\"ax\":0,\"ay\":0,\"text\":\"X:VCD:10\",\"x\":0.35642766914915774,\"xanchor\":\"center\",\"y\":-0.06187908339632462,\"yanchor\":\"bottom\"},{\"ax\":0,\"ay\":0,\"text\":\"X:VCD:11\",\"x\":0.3462610202716505,\"xanchor\":\"center\",\"y\":-0.07252195421228572,\"yanchor\":\"bottom\"},{\"ax\":0,\"ay\":0,\"text\":\"X:VCD:12\",\"x\":0.33025890611197567,\"xanchor\":\"center\",\"y\":-0.07852398458475825,\"yanchor\":\"bottom\"},{\"ax\":0,\"ay\":0,\"text\":\"X:Glc:1\",\"x\":0.03938787411426974,\"xanchor\":\"center\",\"y\":0.24251789739101015,\"yanchor\":\"bottom\"},{\"ax\":0,\"ay\":0,\"text\":\"X:Glc:2\",\"x\":0.00984729123104017,\"xanchor\":\"center\",\"y\":0.2515421193300572,\"yanchor\":\"bottom\"},{\"ax\":0,\"ay\":0,\"text\":\"X:Glc:3\",\"x\":-0.049129479811124754,\"xanchor\":\"center\",\"y\":0.2664457265833004,\"yanchor\":\"bottom\"},{\"ax\":0,\"ay\":0,\"text\":\"X:Glc:4\",\"x\":-0.09325332379660327,\"xanchor\":\"center\",\"y\":0.26741467986700057,\"yanchor\":\"bottom\"},{\"ax\":0,\"ay\":0,\"text\":\"X:Glc:5\",\"x\":-0.1151422771943695,\"xanchor\":\"center\",\"y\":0.2722512171571065,\"yanchor\":\"bottom\"},{\"ax\":0,\"ay\":0,\"text\":\"X:Glc:6\",\"x\":-0.1451766575999157,\"xanchor\":\"center\",\"y\":0.27376076786497006,\"yanchor\":\"bottom\"},{\"ax\":0,\"ay\":0,\"text\":\"X:Glc:7\",\"x\":-0.17799765163555373,\"xanchor\":\"center\",\"y\":0.27138895751866154,\"yanchor\":\"bottom\"},{\"ax\":0,\"ay\":0,\"text\":\"X:Glc:8\",\"x\":-0.20076204833687072,\"xanchor\":\"center\",\"y\":0.26697084523638664,\"yanchor\":\"bottom\"},{\"ax\":0,\"ay\":0,\"text\":\"X:Glc:9\",\"x\":-0.2077836804392224,\"xanchor\":\"center\",\"y\":0.26680503190477467,\"yanchor\":\"bottom\"},{\"ax\":0,\"ay\":0,\"text\":\"X:Glc:10\",\"x\":-0.20661401146354974,\"xanchor\":\"center\",\"y\":0.26378349472660756,\"yanchor\":\"bottom\"},{\"ax\":0,\"ay\":0,\"text\":\"X:Glc:11\",\"x\":-0.20201925519189837,\"xanchor\":\"center\",\"y\":0.2548369437310288,\"yanchor\":\"bottom\"},{\"ax\":0,\"ay\":0,\"text\":\"X:Glc:12\",\"x\":-0.20269379134849747,\"xanchor\":\"center\",\"y\":0.24593226814934974,\"yanchor\":\"bottom\"}]},                        {\"responsive\": true}                    ).then(function(){\n",
              "                            \n",
              "var gd = document.getElementById('864e7a0d-79a9-48af-9228-68f2544cba2e');\n",
              "var x = new MutationObserver(function (mutations, observer) {{\n",
              "        var display = window.getComputedStyle(gd).display;\n",
              "        if (!display || display === 'none') {{\n",
              "            console.log([gd, 'removed!']);\n",
              "            Plotly.purge(gd);\n",
              "            observer.disconnect();\n",
              "        }}\n",
              "}});\n",
              "\n",
              "// Listen for the removal of the full notebook cells\n",
              "var notebookContainer = gd.closest('#notebook-container');\n",
              "if (notebookContainer) {{\n",
              "    x.observe(notebookContainer, {childList: true});\n",
              "}}\n",
              "\n",
              "// Listen for the clearing of the current output cell\n",
              "var outputEl = gd.closest('.output');\n",
              "if (outputEl) {{\n",
              "    x.observe(outputEl, {childList: true});\n",
              "}}\n",
              "\n",
              "                        })                };                            </script>        </div>\n",
              "</body>\n",
              "</html>"
            ]
          },
          "metadata": {}
        }
      ]
    },
    {
      "cell_type": "code",
      "source": [
        "# Model coefficients\n",
        "columns = X.columns\n",
        "coefficients = modelhelpers.vip(X,y,pls)\n",
        "fig = px.bar(x=list(columns),y=coefficients.reshape(-1),title=\"Variable Importance in PLS\", labels={'x':\"Variables\", 'y':\"VIP value\"})\n",
        "fig.show()"
      ],
      "metadata": {
        "colab": {
          "base_uri": "https://localhost:8080/",
          "height": 542
        },
        "id": "KbTXck8lU9O5",
        "outputId": "6e5ccf0d-3634-498f-ea78-00fb60349827"
      },
      "execution_count": null,
      "outputs": [
        {
          "output_type": "display_data",
          "data": {
            "text/html": [
              "<html>\n",
              "<head><meta charset=\"utf-8\" /></head>\n",
              "<body>\n",
              "    <div>            <script src=\"https://cdnjs.cloudflare.com/ajax/libs/mathjax/2.7.5/MathJax.js?config=TeX-AMS-MML_SVG\"></script><script type=\"text/javascript\">if (window.MathJax) {MathJax.Hub.Config({SVG: {font: \"STIX-Web\"}});}</script>                <script type=\"text/javascript\">window.PlotlyConfig = {MathJaxConfig: 'local'};</script>\n",
              "        <script src=\"https://cdn.plot.ly/plotly-2.8.3.min.js\"></script>                <div id=\"192b73ec-88ce-4338-8484-1cce5715e49e\" class=\"plotly-graph-div\" style=\"height:525px; width:100%;\"></div>            <script type=\"text/javascript\">                                    window.PLOTLYENV=window.PLOTLYENV || {};                                    if (document.getElementById(\"192b73ec-88ce-4338-8484-1cce5715e49e\")) {                    Plotly.newPlot(                        \"192b73ec-88ce-4338-8484-1cce5715e49e\",                        [{\"alignmentgroup\":\"True\",\"hovertemplate\":\"Variables=%{x}<br>VIP value=%{y}<extra></extra>\",\"legendgroup\":\"\",\"marker\":{\"color\":\"#636efa\",\"pattern\":{\"shape\":\"\"}},\"name\":\"\",\"offsetgroup\":\"\",\"orientation\":\"v\",\"showlegend\":false,\"textposition\":\"auto\",\"x\":[\"feed_start\",\"feed_end\",\"Glc_feed_rate\",\"Glc_0\",\"VCD_0\",\"X:VCD:1\",\"X:VCD:2\",\"X:VCD:3\",\"X:VCD:4\",\"X:VCD:5\",\"X:VCD:6\",\"X:VCD:7\",\"X:VCD:8\",\"X:VCD:9\",\"X:VCD:10\",\"X:VCD:11\",\"X:VCD:12\",\"X:Glc:1\",\"X:Glc:2\",\"X:Glc:3\",\"X:Glc:4\",\"X:Glc:5\",\"X:Glc:6\",\"X:Glc:7\",\"X:Glc:8\",\"X:Glc:9\",\"X:Glc:10\",\"X:Glc:11\",\"X:Glc:12\"],\"xaxis\":\"x\",\"y\":[0.5674325159151735,0.702428184774292,0.8855070204259605,0.765124288930857,0.6710657744727873,0.6922379263740923,0.7161002313117202,0.773517790439548,0.9324321635844568,1.366733375084798,1.5377563690421143,1.5667897043086134,1.611133577251117,1.6184541396909609,1.5971196171112345,1.5511142203635797,1.5091312905274494,0.7586964503973738,0.6883535305463471,0.577333475352447,0.5188941622422459,0.5339349352462619,0.561320951446464,0.6021882305413813,0.6453325082759095,0.6646928916355466,0.6669649929410298,0.654775234578175,0.6492179012656625],\"yaxis\":\"y\",\"type\":\"bar\"}],                        {\"template\":{\"data\":{\"bar\":[{\"error_x\":{\"color\":\"#2a3f5f\"},\"error_y\":{\"color\":\"#2a3f5f\"},\"marker\":{\"line\":{\"color\":\"#E5ECF6\",\"width\":0.5},\"pattern\":{\"fillmode\":\"overlay\",\"size\":10,\"solidity\":0.2}},\"type\":\"bar\"}],\"barpolar\":[{\"marker\":{\"line\":{\"color\":\"#E5ECF6\",\"width\":0.5},\"pattern\":{\"fillmode\":\"overlay\",\"size\":10,\"solidity\":0.2}},\"type\":\"barpolar\"}],\"carpet\":[{\"aaxis\":{\"endlinecolor\":\"#2a3f5f\",\"gridcolor\":\"white\",\"linecolor\":\"white\",\"minorgridcolor\":\"white\",\"startlinecolor\":\"#2a3f5f\"},\"baxis\":{\"endlinecolor\":\"#2a3f5f\",\"gridcolor\":\"white\",\"linecolor\":\"white\",\"minorgridcolor\":\"white\",\"startlinecolor\":\"#2a3f5f\"},\"type\":\"carpet\"}],\"choropleth\":[{\"colorbar\":{\"outlinewidth\":0,\"ticks\":\"\"},\"type\":\"choropleth\"}],\"contour\":[{\"colorbar\":{\"outlinewidth\":0,\"ticks\":\"\"},\"colorscale\":[[0.0,\"#0d0887\"],[0.1111111111111111,\"#46039f\"],[0.2222222222222222,\"#7201a8\"],[0.3333333333333333,\"#9c179e\"],[0.4444444444444444,\"#bd3786\"],[0.5555555555555556,\"#d8576b\"],[0.6666666666666666,\"#ed7953\"],[0.7777777777777778,\"#fb9f3a\"],[0.8888888888888888,\"#fdca26\"],[1.0,\"#f0f921\"]],\"type\":\"contour\"}],\"contourcarpet\":[{\"colorbar\":{\"outlinewidth\":0,\"ticks\":\"\"},\"type\":\"contourcarpet\"}],\"heatmap\":[{\"colorbar\":{\"outlinewidth\":0,\"ticks\":\"\"},\"colorscale\":[[0.0,\"#0d0887\"],[0.1111111111111111,\"#46039f\"],[0.2222222222222222,\"#7201a8\"],[0.3333333333333333,\"#9c179e\"],[0.4444444444444444,\"#bd3786\"],[0.5555555555555556,\"#d8576b\"],[0.6666666666666666,\"#ed7953\"],[0.7777777777777778,\"#fb9f3a\"],[0.8888888888888888,\"#fdca26\"],[1.0,\"#f0f921\"]],\"type\":\"heatmap\"}],\"heatmapgl\":[{\"colorbar\":{\"outlinewidth\":0,\"ticks\":\"\"},\"colorscale\":[[0.0,\"#0d0887\"],[0.1111111111111111,\"#46039f\"],[0.2222222222222222,\"#7201a8\"],[0.3333333333333333,\"#9c179e\"],[0.4444444444444444,\"#bd3786\"],[0.5555555555555556,\"#d8576b\"],[0.6666666666666666,\"#ed7953\"],[0.7777777777777778,\"#fb9f3a\"],[0.8888888888888888,\"#fdca26\"],[1.0,\"#f0f921\"]],\"type\":\"heatmapgl\"}],\"histogram\":[{\"marker\":{\"pattern\":{\"fillmode\":\"overlay\",\"size\":10,\"solidity\":0.2}},\"type\":\"histogram\"}],\"histogram2d\":[{\"colorbar\":{\"outlinewidth\":0,\"ticks\":\"\"},\"colorscale\":[[0.0,\"#0d0887\"],[0.1111111111111111,\"#46039f\"],[0.2222222222222222,\"#7201a8\"],[0.3333333333333333,\"#9c179e\"],[0.4444444444444444,\"#bd3786\"],[0.5555555555555556,\"#d8576b\"],[0.6666666666666666,\"#ed7953\"],[0.7777777777777778,\"#fb9f3a\"],[0.8888888888888888,\"#fdca26\"],[1.0,\"#f0f921\"]],\"type\":\"histogram2d\"}],\"histogram2dcontour\":[{\"colorbar\":{\"outlinewidth\":0,\"ticks\":\"\"},\"colorscale\":[[0.0,\"#0d0887\"],[0.1111111111111111,\"#46039f\"],[0.2222222222222222,\"#7201a8\"],[0.3333333333333333,\"#9c179e\"],[0.4444444444444444,\"#bd3786\"],[0.5555555555555556,\"#d8576b\"],[0.6666666666666666,\"#ed7953\"],[0.7777777777777778,\"#fb9f3a\"],[0.8888888888888888,\"#fdca26\"],[1.0,\"#f0f921\"]],\"type\":\"histogram2dcontour\"}],\"mesh3d\":[{\"colorbar\":{\"outlinewidth\":0,\"ticks\":\"\"},\"type\":\"mesh3d\"}],\"parcoords\":[{\"line\":{\"colorbar\":{\"outlinewidth\":0,\"ticks\":\"\"}},\"type\":\"parcoords\"}],\"pie\":[{\"automargin\":true,\"type\":\"pie\"}],\"scatter\":[{\"marker\":{\"colorbar\":{\"outlinewidth\":0,\"ticks\":\"\"}},\"type\":\"scatter\"}],\"scatter3d\":[{\"line\":{\"colorbar\":{\"outlinewidth\":0,\"ticks\":\"\"}},\"marker\":{\"colorbar\":{\"outlinewidth\":0,\"ticks\":\"\"}},\"type\":\"scatter3d\"}],\"scattercarpet\":[{\"marker\":{\"colorbar\":{\"outlinewidth\":0,\"ticks\":\"\"}},\"type\":\"scattercarpet\"}],\"scattergeo\":[{\"marker\":{\"colorbar\":{\"outlinewidth\":0,\"ticks\":\"\"}},\"type\":\"scattergeo\"}],\"scattergl\":[{\"marker\":{\"colorbar\":{\"outlinewidth\":0,\"ticks\":\"\"}},\"type\":\"scattergl\"}],\"scattermapbox\":[{\"marker\":{\"colorbar\":{\"outlinewidth\":0,\"ticks\":\"\"}},\"type\":\"scattermapbox\"}],\"scatterpolar\":[{\"marker\":{\"colorbar\":{\"outlinewidth\":0,\"ticks\":\"\"}},\"type\":\"scatterpolar\"}],\"scatterpolargl\":[{\"marker\":{\"colorbar\":{\"outlinewidth\":0,\"ticks\":\"\"}},\"type\":\"scatterpolargl\"}],\"scatterternary\":[{\"marker\":{\"colorbar\":{\"outlinewidth\":0,\"ticks\":\"\"}},\"type\":\"scatterternary\"}],\"surface\":[{\"colorbar\":{\"outlinewidth\":0,\"ticks\":\"\"},\"colorscale\":[[0.0,\"#0d0887\"],[0.1111111111111111,\"#46039f\"],[0.2222222222222222,\"#7201a8\"],[0.3333333333333333,\"#9c179e\"],[0.4444444444444444,\"#bd3786\"],[0.5555555555555556,\"#d8576b\"],[0.6666666666666666,\"#ed7953\"],[0.7777777777777778,\"#fb9f3a\"],[0.8888888888888888,\"#fdca26\"],[1.0,\"#f0f921\"]],\"type\":\"surface\"}],\"table\":[{\"cells\":{\"fill\":{\"color\":\"#EBF0F8\"},\"line\":{\"color\":\"white\"}},\"header\":{\"fill\":{\"color\":\"#C8D4E3\"},\"line\":{\"color\":\"white\"}},\"type\":\"table\"}]},\"layout\":{\"annotationdefaults\":{\"arrowcolor\":\"#2a3f5f\",\"arrowhead\":0,\"arrowwidth\":1},\"autotypenumbers\":\"strict\",\"coloraxis\":{\"colorbar\":{\"outlinewidth\":0,\"ticks\":\"\"}},\"colorscale\":{\"diverging\":[[0,\"#8e0152\"],[0.1,\"#c51b7d\"],[0.2,\"#de77ae\"],[0.3,\"#f1b6da\"],[0.4,\"#fde0ef\"],[0.5,\"#f7f7f7\"],[0.6,\"#e6f5d0\"],[0.7,\"#b8e186\"],[0.8,\"#7fbc41\"],[0.9,\"#4d9221\"],[1,\"#276419\"]],\"sequential\":[[0.0,\"#0d0887\"],[0.1111111111111111,\"#46039f\"],[0.2222222222222222,\"#7201a8\"],[0.3333333333333333,\"#9c179e\"],[0.4444444444444444,\"#bd3786\"],[0.5555555555555556,\"#d8576b\"],[0.6666666666666666,\"#ed7953\"],[0.7777777777777778,\"#fb9f3a\"],[0.8888888888888888,\"#fdca26\"],[1.0,\"#f0f921\"]],\"sequentialminus\":[[0.0,\"#0d0887\"],[0.1111111111111111,\"#46039f\"],[0.2222222222222222,\"#7201a8\"],[0.3333333333333333,\"#9c179e\"],[0.4444444444444444,\"#bd3786\"],[0.5555555555555556,\"#d8576b\"],[0.6666666666666666,\"#ed7953\"],[0.7777777777777778,\"#fb9f3a\"],[0.8888888888888888,\"#fdca26\"],[1.0,\"#f0f921\"]]},\"colorway\":[\"#636efa\",\"#EF553B\",\"#00cc96\",\"#ab63fa\",\"#FFA15A\",\"#19d3f3\",\"#FF6692\",\"#B6E880\",\"#FF97FF\",\"#FECB52\"],\"font\":{\"color\":\"#2a3f5f\"},\"geo\":{\"bgcolor\":\"white\",\"lakecolor\":\"white\",\"landcolor\":\"#E5ECF6\",\"showlakes\":true,\"showland\":true,\"subunitcolor\":\"white\"},\"hoverlabel\":{\"align\":\"left\"},\"hovermode\":\"closest\",\"mapbox\":{\"style\":\"light\"},\"paper_bgcolor\":\"white\",\"plot_bgcolor\":\"#E5ECF6\",\"polar\":{\"angularaxis\":{\"gridcolor\":\"white\",\"linecolor\":\"white\",\"ticks\":\"\"},\"bgcolor\":\"#E5ECF6\",\"radialaxis\":{\"gridcolor\":\"white\",\"linecolor\":\"white\",\"ticks\":\"\"}},\"scene\":{\"xaxis\":{\"backgroundcolor\":\"#E5ECF6\",\"gridcolor\":\"white\",\"gridwidth\":2,\"linecolor\":\"white\",\"showbackground\":true,\"ticks\":\"\",\"zerolinecolor\":\"white\"},\"yaxis\":{\"backgroundcolor\":\"#E5ECF6\",\"gridcolor\":\"white\",\"gridwidth\":2,\"linecolor\":\"white\",\"showbackground\":true,\"ticks\":\"\",\"zerolinecolor\":\"white\"},\"zaxis\":{\"backgroundcolor\":\"#E5ECF6\",\"gridcolor\":\"white\",\"gridwidth\":2,\"linecolor\":\"white\",\"showbackground\":true,\"ticks\":\"\",\"zerolinecolor\":\"white\"}},\"shapedefaults\":{\"line\":{\"color\":\"#2a3f5f\"}},\"ternary\":{\"aaxis\":{\"gridcolor\":\"white\",\"linecolor\":\"white\",\"ticks\":\"\"},\"baxis\":{\"gridcolor\":\"white\",\"linecolor\":\"white\",\"ticks\":\"\"},\"bgcolor\":\"#E5ECF6\",\"caxis\":{\"gridcolor\":\"white\",\"linecolor\":\"white\",\"ticks\":\"\"}},\"title\":{\"x\":0.05},\"xaxis\":{\"automargin\":true,\"gridcolor\":\"white\",\"linecolor\":\"white\",\"ticks\":\"\",\"title\":{\"standoff\":15},\"zerolinecolor\":\"white\",\"zerolinewidth\":2},\"yaxis\":{\"automargin\":true,\"gridcolor\":\"white\",\"linecolor\":\"white\",\"ticks\":\"\",\"title\":{\"standoff\":15},\"zerolinecolor\":\"white\",\"zerolinewidth\":2}}},\"xaxis\":{\"anchor\":\"y\",\"domain\":[0.0,1.0],\"title\":{\"text\":\"Variables\"}},\"yaxis\":{\"anchor\":\"x\",\"domain\":[0.0,1.0],\"title\":{\"text\":\"VIP value\"}},\"legend\":{\"tracegroupgap\":0},\"title\":{\"text\":\"Variable Importance in PLS\"},\"barmode\":\"relative\"},                        {\"responsive\": true}                    ).then(function(){\n",
              "                            \n",
              "var gd = document.getElementById('192b73ec-88ce-4338-8484-1cce5715e49e');\n",
              "var x = new MutationObserver(function (mutations, observer) {{\n",
              "        var display = window.getComputedStyle(gd).display;\n",
              "        if (!display || display === 'none') {{\n",
              "            console.log([gd, 'removed!']);\n",
              "            Plotly.purge(gd);\n",
              "            observer.disconnect();\n",
              "        }}\n",
              "}});\n",
              "\n",
              "// Listen for the removal of the full notebook cells\n",
              "var notebookContainer = gd.closest('#notebook-container');\n",
              "if (notebookContainer) {{\n",
              "    x.observe(notebookContainer, {childList: true});\n",
              "}}\n",
              "\n",
              "// Listen for the clearing of the current output cell\n",
              "var outputEl = gd.closest('.output');\n",
              "if (outputEl) {{\n",
              "    x.observe(outputEl, {childList: true});\n",
              "}}\n",
              "\n",
              "                        })                };                            </script>        </div>\n",
              "</body>\n",
              "</html>"
            ]
          },
          "metadata": {}
        }
      ]
    },
    {
      "cell_type": "markdown",
      "source": [
        "### Hyperparameter Optimization in Cross Validation\n",
        "\n",
        "\n",
        "In this section, we will simulate a typical cross- validation to define the optimal number of latent variables.\n",
        "\n",
        "\n",
        "Nfold PLS models are trained using (Nfolds-1) folds. For each model, the sum of squared residuals (SSR) is calculated and summed up..\n",
        "\n",
        "This is repeated for different numbers of latent variables. The number of latent variables returning the least value of the RMSE is chosen as optimal.\n",
        "A second criterion is selected, namely the adjusted R-squared (adj. R^2), which is weighting the effect of the number of latent variables, i.e., if two values of the number of latent variables are returning a similar value of the SSR, then the one using less variables is chosen to be more likely to produce robust predictions.:\n"
      ],
      "metadata": {
        "id": "4NiwnjgvK6tg"
      }
    },
    {
      "cell_type": "code",
      "source": [
        "# Range of number of latent variables to optimize for.\n",
        "range_LV = range(1, 26)\n",
        "# Use k Fold for Cross Validation\n",
        "use_folds = 10"
      ],
      "metadata": {
        "id": "Knlo1C1OKmst"
      },
      "execution_count": null,
      "outputs": []
    },
    {
      "cell_type": "code",
      "source": [
        "# Define Pipeline\n",
        "pscaler = StandardScaler(with_mean=use_norm,with_std=use_norm)\n",
        "pls = PLSRegression(n_components=N_LV)\n",
        "pipe = Pipeline([('scaler', pscaler), ('pls', pls)])\n",
        "# Train PLS model\n",
        "pipe.fit(X,y)\n",
        "# Obtain cross validation curve\n",
        "train_eval, valid_eval = validation_curve(pipe, X, y, param_name = \"pls__n_components\", param_range=list(range_LV),scoring = 'neg_root_mean_squared_error')\n"
      ],
      "metadata": {
        "id": "W_Ey_GIIUlzK"
      },
      "execution_count": null,
      "outputs": []
    },
    {
      "cell_type": "code",
      "source": [
        "train_score=-np.mean(train_eval,axis=1)\n",
        "valid_score=-np.mean(valid_eval,axis=1)\n",
        "train_std = np.std(train_eval,axis=1)\n",
        "valid_std = np.std(valid_eval,axis=1)\n"
      ],
      "metadata": {
        "id": "4ZB_5MRoQvDK"
      },
      "execution_count": null,
      "outputs": []
    },
    {
      "cell_type": "code",
      "source": [
        "fig = go.Figure()\n",
        "fig.add_trace(go.Scatter( x=list(range_LV), y=train_score, error_y=dict(type='data',array=train_std,visible=True), name=\"Training\"))\n",
        "fig.add_trace(go.Scatter( x=list(range_LV), y=valid_score, error_y=dict(type='data',array=valid_std,visible=True), name=\"Validation\"))\n",
        "fig.update_layout(title=\"Hyperparameter Optimization in PLS\",xaxis_title=\"Number of Latent Variables\",yaxis_title=\"RMSE\",legend_title=\"Evaluation type\")\n",
        "fig.show()\n"
      ],
      "metadata": {
        "colab": {
          "base_uri": "https://localhost:8080/",
          "height": 542
        },
        "id": "k3Xv0WUOPFjd",
        "outputId": "b63e69bc-8ea4-4402-8daa-6a88ac3553bf"
      },
      "execution_count": null,
      "outputs": [
        {
          "output_type": "display_data",
          "data": {
            "text/html": [
              "<html>\n",
              "<head><meta charset=\"utf-8\" /></head>\n",
              "<body>\n",
              "    <div>            <script src=\"https://cdnjs.cloudflare.com/ajax/libs/mathjax/2.7.5/MathJax.js?config=TeX-AMS-MML_SVG\"></script><script type=\"text/javascript\">if (window.MathJax) {MathJax.Hub.Config({SVG: {font: \"STIX-Web\"}});}</script>                <script type=\"text/javascript\">window.PlotlyConfig = {MathJaxConfig: 'local'};</script>\n",
              "        <script src=\"https://cdn.plot.ly/plotly-2.8.3.min.js\"></script>                <div id=\"5f49ee24-fe1c-47ec-818c-b7917eac5fe9\" class=\"plotly-graph-div\" style=\"height:525px; width:100%;\"></div>            <script type=\"text/javascript\">                                    window.PLOTLYENV=window.PLOTLYENV || {};                                    if (document.getElementById(\"5f49ee24-fe1c-47ec-818c-b7917eac5fe9\")) {                    Plotly.newPlot(                        \"5f49ee24-fe1c-47ec-818c-b7917eac5fe9\",                        [{\"error_y\":{\"array\":[27.27744484392571,5.525260906224093,2.9938341384526423,3.7450424048897744,3.8750580206822516,3.36331028719418,3.391305755500509,4.3756020926811665,3.6646199316713544,3.5072711798686775,3.4844620618059725,3.572999289473166,3.0535835446440847,3.2440682871780884,3.285708743732528,3.617582940280678,3.504418613446432,3.1757047271779077,3.134115938853675,3.208781407938015,3.0482442012170066,2.4261948193606346,2.0648312719286728,2.0890104736813195,1.9787556826836268],\"type\":\"data\",\"visible\":true},\"name\":\"Training\",\"x\":[1,2,3,4,5,6,7,8,9,10,11,12,13,14,15,16,17,18,19,20,21,22,23,24,25],\"y\":[168.26627019898808,96.88999596599713,70.90569624462307,64.66875686472986,57.566121591620025,53.24775465914088,49.72322247336232,47.9117603640937,40.80834206546928,37.3143722096956,34.62711681547713,33.019382003168246,31.007248978464922,28.887041815846477,27.59063351871111,26.32055563573843,25.82192770584262,25.161633168768937,24.59273397684334,23.74310530178264,22.43770509708894,21.493999018190554,20.49571923270526,20.028309294833807,19.19276608816374],\"type\":\"scatter\"},{\"error_y\":{\"array\":[26.6890949293827,9.971141883605187,15.084997988399575,15.053622814624257,16.68618313251088,18.330468392108756,15.537290862397239,14.466978842473333,24.42530965622957,24.183207005965667,37.65751312573362,39.05622173885009,35.708707462004035,34.559393569081394,33.34148635694576,24.991272630796402,22.067089346627302,20.2119725126247,20.980427275538236,26.189581579407154,34.16355053713647,41.24054969612751,53.81485452709299,58.43440179856188,63.7344048980357],\"type\":\"data\",\"visible\":true},\"name\":\"Validation\",\"x\":[1,2,3,4,5,6,7,8,9,10,11,12,13,14,15,16,17,18,19,20,21,22,23,24,25],\"y\":[180.51942145622485,113.71259529204542,84.23828234565528,77.12214955274149,75.09506490205233,73.05575782740553,68.27537300362249,66.4521604630151,77.68057667003676,76.92516184736567,87.8337082391518,93.22446972744841,99.75431169518625,99.28004831467352,93.58910512175275,82.94478632741315,79.43035858699571,81.78072288638151,85.24945668763925,95.45023704387754,112.14033513759337,122.12833642429669,138.11271856343018,140.63798158413107,149.56155582537585],\"type\":\"scatter\"}],                        {\"template\":{\"data\":{\"bar\":[{\"error_x\":{\"color\":\"#2a3f5f\"},\"error_y\":{\"color\":\"#2a3f5f\"},\"marker\":{\"line\":{\"color\":\"#E5ECF6\",\"width\":0.5},\"pattern\":{\"fillmode\":\"overlay\",\"size\":10,\"solidity\":0.2}},\"type\":\"bar\"}],\"barpolar\":[{\"marker\":{\"line\":{\"color\":\"#E5ECF6\",\"width\":0.5},\"pattern\":{\"fillmode\":\"overlay\",\"size\":10,\"solidity\":0.2}},\"type\":\"barpolar\"}],\"carpet\":[{\"aaxis\":{\"endlinecolor\":\"#2a3f5f\",\"gridcolor\":\"white\",\"linecolor\":\"white\",\"minorgridcolor\":\"white\",\"startlinecolor\":\"#2a3f5f\"},\"baxis\":{\"endlinecolor\":\"#2a3f5f\",\"gridcolor\":\"white\",\"linecolor\":\"white\",\"minorgridcolor\":\"white\",\"startlinecolor\":\"#2a3f5f\"},\"type\":\"carpet\"}],\"choropleth\":[{\"colorbar\":{\"outlinewidth\":0,\"ticks\":\"\"},\"type\":\"choropleth\"}],\"contour\":[{\"colorbar\":{\"outlinewidth\":0,\"ticks\":\"\"},\"colorscale\":[[0.0,\"#0d0887\"],[0.1111111111111111,\"#46039f\"],[0.2222222222222222,\"#7201a8\"],[0.3333333333333333,\"#9c179e\"],[0.4444444444444444,\"#bd3786\"],[0.5555555555555556,\"#d8576b\"],[0.6666666666666666,\"#ed7953\"],[0.7777777777777778,\"#fb9f3a\"],[0.8888888888888888,\"#fdca26\"],[1.0,\"#f0f921\"]],\"type\":\"contour\"}],\"contourcarpet\":[{\"colorbar\":{\"outlinewidth\":0,\"ticks\":\"\"},\"type\":\"contourcarpet\"}],\"heatmap\":[{\"colorbar\":{\"outlinewidth\":0,\"ticks\":\"\"},\"colorscale\":[[0.0,\"#0d0887\"],[0.1111111111111111,\"#46039f\"],[0.2222222222222222,\"#7201a8\"],[0.3333333333333333,\"#9c179e\"],[0.4444444444444444,\"#bd3786\"],[0.5555555555555556,\"#d8576b\"],[0.6666666666666666,\"#ed7953\"],[0.7777777777777778,\"#fb9f3a\"],[0.8888888888888888,\"#fdca26\"],[1.0,\"#f0f921\"]],\"type\":\"heatmap\"}],\"heatmapgl\":[{\"colorbar\":{\"outlinewidth\":0,\"ticks\":\"\"},\"colorscale\":[[0.0,\"#0d0887\"],[0.1111111111111111,\"#46039f\"],[0.2222222222222222,\"#7201a8\"],[0.3333333333333333,\"#9c179e\"],[0.4444444444444444,\"#bd3786\"],[0.5555555555555556,\"#d8576b\"],[0.6666666666666666,\"#ed7953\"],[0.7777777777777778,\"#fb9f3a\"],[0.8888888888888888,\"#fdca26\"],[1.0,\"#f0f921\"]],\"type\":\"heatmapgl\"}],\"histogram\":[{\"marker\":{\"pattern\":{\"fillmode\":\"overlay\",\"size\":10,\"solidity\":0.2}},\"type\":\"histogram\"}],\"histogram2d\":[{\"colorbar\":{\"outlinewidth\":0,\"ticks\":\"\"},\"colorscale\":[[0.0,\"#0d0887\"],[0.1111111111111111,\"#46039f\"],[0.2222222222222222,\"#7201a8\"],[0.3333333333333333,\"#9c179e\"],[0.4444444444444444,\"#bd3786\"],[0.5555555555555556,\"#d8576b\"],[0.6666666666666666,\"#ed7953\"],[0.7777777777777778,\"#fb9f3a\"],[0.8888888888888888,\"#fdca26\"],[1.0,\"#f0f921\"]],\"type\":\"histogram2d\"}],\"histogram2dcontour\":[{\"colorbar\":{\"outlinewidth\":0,\"ticks\":\"\"},\"colorscale\":[[0.0,\"#0d0887\"],[0.1111111111111111,\"#46039f\"],[0.2222222222222222,\"#7201a8\"],[0.3333333333333333,\"#9c179e\"],[0.4444444444444444,\"#bd3786\"],[0.5555555555555556,\"#d8576b\"],[0.6666666666666666,\"#ed7953\"],[0.7777777777777778,\"#fb9f3a\"],[0.8888888888888888,\"#fdca26\"],[1.0,\"#f0f921\"]],\"type\":\"histogram2dcontour\"}],\"mesh3d\":[{\"colorbar\":{\"outlinewidth\":0,\"ticks\":\"\"},\"type\":\"mesh3d\"}],\"parcoords\":[{\"line\":{\"colorbar\":{\"outlinewidth\":0,\"ticks\":\"\"}},\"type\":\"parcoords\"}],\"pie\":[{\"automargin\":true,\"type\":\"pie\"}],\"scatter\":[{\"marker\":{\"colorbar\":{\"outlinewidth\":0,\"ticks\":\"\"}},\"type\":\"scatter\"}],\"scatter3d\":[{\"line\":{\"colorbar\":{\"outlinewidth\":0,\"ticks\":\"\"}},\"marker\":{\"colorbar\":{\"outlinewidth\":0,\"ticks\":\"\"}},\"type\":\"scatter3d\"}],\"scattercarpet\":[{\"marker\":{\"colorbar\":{\"outlinewidth\":0,\"ticks\":\"\"}},\"type\":\"scattercarpet\"}],\"scattergeo\":[{\"marker\":{\"colorbar\":{\"outlinewidth\":0,\"ticks\":\"\"}},\"type\":\"scattergeo\"}],\"scattergl\":[{\"marker\":{\"colorbar\":{\"outlinewidth\":0,\"ticks\":\"\"}},\"type\":\"scattergl\"}],\"scattermapbox\":[{\"marker\":{\"colorbar\":{\"outlinewidth\":0,\"ticks\":\"\"}},\"type\":\"scattermapbox\"}],\"scatterpolar\":[{\"marker\":{\"colorbar\":{\"outlinewidth\":0,\"ticks\":\"\"}},\"type\":\"scatterpolar\"}],\"scatterpolargl\":[{\"marker\":{\"colorbar\":{\"outlinewidth\":0,\"ticks\":\"\"}},\"type\":\"scatterpolargl\"}],\"scatterternary\":[{\"marker\":{\"colorbar\":{\"outlinewidth\":0,\"ticks\":\"\"}},\"type\":\"scatterternary\"}],\"surface\":[{\"colorbar\":{\"outlinewidth\":0,\"ticks\":\"\"},\"colorscale\":[[0.0,\"#0d0887\"],[0.1111111111111111,\"#46039f\"],[0.2222222222222222,\"#7201a8\"],[0.3333333333333333,\"#9c179e\"],[0.4444444444444444,\"#bd3786\"],[0.5555555555555556,\"#d8576b\"],[0.6666666666666666,\"#ed7953\"],[0.7777777777777778,\"#fb9f3a\"],[0.8888888888888888,\"#fdca26\"],[1.0,\"#f0f921\"]],\"type\":\"surface\"}],\"table\":[{\"cells\":{\"fill\":{\"color\":\"#EBF0F8\"},\"line\":{\"color\":\"white\"}},\"header\":{\"fill\":{\"color\":\"#C8D4E3\"},\"line\":{\"color\":\"white\"}},\"type\":\"table\"}]},\"layout\":{\"annotationdefaults\":{\"arrowcolor\":\"#2a3f5f\",\"arrowhead\":0,\"arrowwidth\":1},\"autotypenumbers\":\"strict\",\"coloraxis\":{\"colorbar\":{\"outlinewidth\":0,\"ticks\":\"\"}},\"colorscale\":{\"diverging\":[[0,\"#8e0152\"],[0.1,\"#c51b7d\"],[0.2,\"#de77ae\"],[0.3,\"#f1b6da\"],[0.4,\"#fde0ef\"],[0.5,\"#f7f7f7\"],[0.6,\"#e6f5d0\"],[0.7,\"#b8e186\"],[0.8,\"#7fbc41\"],[0.9,\"#4d9221\"],[1,\"#276419\"]],\"sequential\":[[0.0,\"#0d0887\"],[0.1111111111111111,\"#46039f\"],[0.2222222222222222,\"#7201a8\"],[0.3333333333333333,\"#9c179e\"],[0.4444444444444444,\"#bd3786\"],[0.5555555555555556,\"#d8576b\"],[0.6666666666666666,\"#ed7953\"],[0.7777777777777778,\"#fb9f3a\"],[0.8888888888888888,\"#fdca26\"],[1.0,\"#f0f921\"]],\"sequentialminus\":[[0.0,\"#0d0887\"],[0.1111111111111111,\"#46039f\"],[0.2222222222222222,\"#7201a8\"],[0.3333333333333333,\"#9c179e\"],[0.4444444444444444,\"#bd3786\"],[0.5555555555555556,\"#d8576b\"],[0.6666666666666666,\"#ed7953\"],[0.7777777777777778,\"#fb9f3a\"],[0.8888888888888888,\"#fdca26\"],[1.0,\"#f0f921\"]]},\"colorway\":[\"#636efa\",\"#EF553B\",\"#00cc96\",\"#ab63fa\",\"#FFA15A\",\"#19d3f3\",\"#FF6692\",\"#B6E880\",\"#FF97FF\",\"#FECB52\"],\"font\":{\"color\":\"#2a3f5f\"},\"geo\":{\"bgcolor\":\"white\",\"lakecolor\":\"white\",\"landcolor\":\"#E5ECF6\",\"showlakes\":true,\"showland\":true,\"subunitcolor\":\"white\"},\"hoverlabel\":{\"align\":\"left\"},\"hovermode\":\"closest\",\"mapbox\":{\"style\":\"light\"},\"paper_bgcolor\":\"white\",\"plot_bgcolor\":\"#E5ECF6\",\"polar\":{\"angularaxis\":{\"gridcolor\":\"white\",\"linecolor\":\"white\",\"ticks\":\"\"},\"bgcolor\":\"#E5ECF6\",\"radialaxis\":{\"gridcolor\":\"white\",\"linecolor\":\"white\",\"ticks\":\"\"}},\"scene\":{\"xaxis\":{\"backgroundcolor\":\"#E5ECF6\",\"gridcolor\":\"white\",\"gridwidth\":2,\"linecolor\":\"white\",\"showbackground\":true,\"ticks\":\"\",\"zerolinecolor\":\"white\"},\"yaxis\":{\"backgroundcolor\":\"#E5ECF6\",\"gridcolor\":\"white\",\"gridwidth\":2,\"linecolor\":\"white\",\"showbackground\":true,\"ticks\":\"\",\"zerolinecolor\":\"white\"},\"zaxis\":{\"backgroundcolor\":\"#E5ECF6\",\"gridcolor\":\"white\",\"gridwidth\":2,\"linecolor\":\"white\",\"showbackground\":true,\"ticks\":\"\",\"zerolinecolor\":\"white\"}},\"shapedefaults\":{\"line\":{\"color\":\"#2a3f5f\"}},\"ternary\":{\"aaxis\":{\"gridcolor\":\"white\",\"linecolor\":\"white\",\"ticks\":\"\"},\"baxis\":{\"gridcolor\":\"white\",\"linecolor\":\"white\",\"ticks\":\"\"},\"bgcolor\":\"#E5ECF6\",\"caxis\":{\"gridcolor\":\"white\",\"linecolor\":\"white\",\"ticks\":\"\"}},\"title\":{\"x\":0.05},\"xaxis\":{\"automargin\":true,\"gridcolor\":\"white\",\"linecolor\":\"white\",\"ticks\":\"\",\"title\":{\"standoff\":15},\"zerolinecolor\":\"white\",\"zerolinewidth\":2},\"yaxis\":{\"automargin\":true,\"gridcolor\":\"white\",\"linecolor\":\"white\",\"ticks\":\"\",\"title\":{\"standoff\":15},\"zerolinecolor\":\"white\",\"zerolinewidth\":2}}},\"title\":{\"text\":\"Hyperparameter Optimization in PLS\"},\"xaxis\":{\"title\":{\"text\":\"Number of Latent Variables\"}},\"yaxis\":{\"title\":{\"text\":\"RMSE\"}},\"legend\":{\"title\":{\"text\":\"Evaluation type\"}}},                        {\"responsive\": true}                    ).then(function(){\n",
              "                            \n",
              "var gd = document.getElementById('5f49ee24-fe1c-47ec-818c-b7917eac5fe9');\n",
              "var x = new MutationObserver(function (mutations, observer) {{\n",
              "        var display = window.getComputedStyle(gd).display;\n",
              "        if (!display || display === 'none') {{\n",
              "            console.log([gd, 'removed!']);\n",
              "            Plotly.purge(gd);\n",
              "            observer.disconnect();\n",
              "        }}\n",
              "}});\n",
              "\n",
              "// Listen for the removal of the full notebook cells\n",
              "var notebookContainer = gd.closest('#notebook-container');\n",
              "if (notebookContainer) {{\n",
              "    x.observe(notebookContainer, {childList: true});\n",
              "}}\n",
              "\n",
              "// Listen for the clearing of the current output cell\n",
              "var outputEl = gd.closest('.output');\n",
              "if (outputEl) {{\n",
              "    x.observe(outputEl, {childList: true});\n",
              "}}\n",
              "\n",
              "                        })                };                            </script>        </div>\n",
              "</body>\n",
              "</html>"
            ]
          },
          "metadata": {}
        }
      ]
    },
    {
      "cell_type": "markdown",
      "source": [
        "# Task: \n",
        "\n",
        "1. What is the optimal number of latent variables to use for Historical PLS model\n",
        "2. Check model diagnostics by plotting residuals and verify if the modelling assumptions are satisfied.\n"
      ],
      "metadata": {
        "id": "1ZDg9ewmNfoj"
      }
    },
    {
      "cell_type": "code",
      "source": [],
      "metadata": {
        "id": "UxrsOwqAbRLI"
      },
      "execution_count": null,
      "outputs": []
    }
  ]
}