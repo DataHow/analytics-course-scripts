{
  "nbformat": 4,
  "nbformat_minor": 0,
  "metadata": {
    "colab": {
      "name": "02_PLS",
      "provenance": [],
      "toc_visible": true
    },
    "kernelspec": {
      "name": "python3",
      "display_name": "Python 3"
    },
    "language_info": {
      "name": "python"
    }
  },
  "cells": [
    {
      "cell_type": "markdown",
      "source": [
        "# Setup of Noteboook\n",
        "\n",
        "The follwing code clones the github repository with course files. \n",
        "Subsequently it imports all libraries and custom modules needed for this notebook"
      ],
      "metadata": {
        "id": "3K4Flq2pqV8q"
      }
    },
    {
      "cell_type": "code",
      "source": [
        "!git clone https://github.com/japolak/datahow-course-scripts.git\n",
        "!pip install --upgrade scipy==1.7.3\n",
        "!cd /content/datahow-course-scripts"
      ],
      "metadata": {
        "id": "Hw07wkwbqW43"
      },
      "execution_count": null,
      "outputs": []
    },
    {
      "cell_type": "code",
      "source": [
        "# import libaries\n",
        "import pandas as pd\n",
        "import numpy as np\n",
        "import scipy\n",
        "import importlib  \n",
        "import scipy.integrate\n",
        "import plotly.express as px\n",
        "import plotly.graph_objects as go\n",
        "from plotly.subplots import make_subplots\n",
        "import pandas.util.testing as tm\n",
        "import statsmodels.api as sm\n",
        "from sklearn.linear_model import LinearRegression\n",
        "from sklearn.preprocessing import StandardScaler\n",
        "from sklearn.cross_decomposition import PLSRegression\n",
        "from sklearn.metrics import mean_squared_error\n",
        "\n",
        "\n",
        "\n",
        "# import custom modules\n",
        "emulator = importlib.import_module(\"datahow-course-scripts.scripts.modules.emulator\")\n",
        "plothelpers = importlib.import_module(\"datahow-course-scripts.scripts.modules.plothelpers\")"
      ],
      "metadata": {
        "id": "QbesfOWUqYmG"
      },
      "execution_count": 89,
      "outputs": []
    },
    {
      "cell_type": "markdown",
      "source": [
        "# Regression Modelling\n",
        "\n",
        "In this section, we first create load the train experiments that were create inthe PCA script and save in the file \"Experiment_Train_Set.mat\". \n",
        "These experimental data will be used to create a MLR model to predict final titer, which will serve as term of comparison for the PLS model trained below."
      ],
      "metadata": {
        "id": "_F7ck0Hl8rqw"
      }
    },
    {
      "cell_type": "markdown",
      "source": [
        "# Initial Conditions model\n",
        "\n",
        "We load the OWU dataset with DOE dataset for both train set and test set."
      ],
      "metadata": {
        "id": "J-chgbGTTl4P"
      }
    },
    {
      "cell_type": "code",
      "source": [
        "filename = \"owu-test.csv\"\n",
        "owu = pd.read_csv(\"datahow-course-scripts/scripts/datasets/\"+filename,index_col=None)\n",
        "owu.columns =  [\"X:VCD\", \"X:Glc\", \"X:Lac\", \"X:Titer\",\"W:Feed\"]\n",
        "owu.index = pd.MultiIndex.from_product([list(range(250)),list(range(15))], names=[\"run\",\"time\"])\n",
        "owu_test = owu\n",
        "\n",
        "filename = \"owu.csv\"\n",
        "owu = pd.read_csv(\"datahow-course-scripts/scripts/datasets/\"+filename,index_col=None)\n",
        "owu.columns =  [\"X:VCD\", \"X:Glc\", \"X:Lac\", \"X:Titer\",\"W:Feed\"]\n",
        "owu.index = pd.MultiIndex.from_product([list(range(100)),list(range(15))], names=[\"run\",\"time\"])\n",
        "owu"
      ],
      "metadata": {
        "id": "7XKjKMUAGsp9",
        "outputId": "55d2682e-1810-4303-ff4e-e04784702fef",
        "colab": {
          "base_uri": "https://localhost:8080/",
          "height": 455
        }
      },
      "execution_count": 90,
      "outputs": [
        {
          "output_type": "execute_result",
          "data": {
            "text/plain": [
              "             X:VCD   X:Glc     X:Lac     X:Titer  W:Feed\n",
              "run time                                                \n",
              "0   0      0.65336  24.989    0.0000     0.00000   0.000\n",
              "    1      1.99900  23.828    1.7454     0.12965   0.000\n",
              "    2      5.31610  20.523    6.7136     2.26180  19.803\n",
              "    3     10.93400  32.668   18.2210    21.07500  19.803\n",
              "    4     16.31000  39.240   38.0940   100.25000  19.803\n",
              "...            ...     ...       ...         ...     ...\n",
              "99  10     7.07870  39.417  159.2100  1207.80000   0.000\n",
              "    11     5.30480  33.518  168.0700  1303.90000   0.000\n",
              "    12     3.94070  29.116  174.6800  1373.40000   0.000\n",
              "    13     2.90660  25.859  179.5800  1422.30000   0.000\n",
              "    14     2.13220  23.464  183.1800  1455.30000   0.000\n",
              "\n",
              "[1500 rows x 5 columns]"
            ],
            "text/html": [
              "\n",
              "  <div id=\"df-9e8645a2-2623-4676-98c7-501107d0fc81\">\n",
              "    <div class=\"colab-df-container\">\n",
              "      <div>\n",
              "<style scoped>\n",
              "    .dataframe tbody tr th:only-of-type {\n",
              "        vertical-align: middle;\n",
              "    }\n",
              "\n",
              "    .dataframe tbody tr th {\n",
              "        vertical-align: top;\n",
              "    }\n",
              "\n",
              "    .dataframe thead th {\n",
              "        text-align: right;\n",
              "    }\n",
              "</style>\n",
              "<table border=\"1\" class=\"dataframe\">\n",
              "  <thead>\n",
              "    <tr style=\"text-align: right;\">\n",
              "      <th></th>\n",
              "      <th></th>\n",
              "      <th>X:VCD</th>\n",
              "      <th>X:Glc</th>\n",
              "      <th>X:Lac</th>\n",
              "      <th>X:Titer</th>\n",
              "      <th>W:Feed</th>\n",
              "    </tr>\n",
              "    <tr>\n",
              "      <th>run</th>\n",
              "      <th>time</th>\n",
              "      <th></th>\n",
              "      <th></th>\n",
              "      <th></th>\n",
              "      <th></th>\n",
              "      <th></th>\n",
              "    </tr>\n",
              "  </thead>\n",
              "  <tbody>\n",
              "    <tr>\n",
              "      <th rowspan=\"5\" valign=\"top\">0</th>\n",
              "      <th>0</th>\n",
              "      <td>0.65336</td>\n",
              "      <td>24.989</td>\n",
              "      <td>0.0000</td>\n",
              "      <td>0.00000</td>\n",
              "      <td>0.000</td>\n",
              "    </tr>\n",
              "    <tr>\n",
              "      <th>1</th>\n",
              "      <td>1.99900</td>\n",
              "      <td>23.828</td>\n",
              "      <td>1.7454</td>\n",
              "      <td>0.12965</td>\n",
              "      <td>0.000</td>\n",
              "    </tr>\n",
              "    <tr>\n",
              "      <th>2</th>\n",
              "      <td>5.31610</td>\n",
              "      <td>20.523</td>\n",
              "      <td>6.7136</td>\n",
              "      <td>2.26180</td>\n",
              "      <td>19.803</td>\n",
              "    </tr>\n",
              "    <tr>\n",
              "      <th>3</th>\n",
              "      <td>10.93400</td>\n",
              "      <td>32.668</td>\n",
              "      <td>18.2210</td>\n",
              "      <td>21.07500</td>\n",
              "      <td>19.803</td>\n",
              "    </tr>\n",
              "    <tr>\n",
              "      <th>4</th>\n",
              "      <td>16.31000</td>\n",
              "      <td>39.240</td>\n",
              "      <td>38.0940</td>\n",
              "      <td>100.25000</td>\n",
              "      <td>19.803</td>\n",
              "    </tr>\n",
              "    <tr>\n",
              "      <th>...</th>\n",
              "      <th>...</th>\n",
              "      <td>...</td>\n",
              "      <td>...</td>\n",
              "      <td>...</td>\n",
              "      <td>...</td>\n",
              "      <td>...</td>\n",
              "    </tr>\n",
              "    <tr>\n",
              "      <th rowspan=\"5\" valign=\"top\">99</th>\n",
              "      <th>10</th>\n",
              "      <td>7.07870</td>\n",
              "      <td>39.417</td>\n",
              "      <td>159.2100</td>\n",
              "      <td>1207.80000</td>\n",
              "      <td>0.000</td>\n",
              "    </tr>\n",
              "    <tr>\n",
              "      <th>11</th>\n",
              "      <td>5.30480</td>\n",
              "      <td>33.518</td>\n",
              "      <td>168.0700</td>\n",
              "      <td>1303.90000</td>\n",
              "      <td>0.000</td>\n",
              "    </tr>\n",
              "    <tr>\n",
              "      <th>12</th>\n",
              "      <td>3.94070</td>\n",
              "      <td>29.116</td>\n",
              "      <td>174.6800</td>\n",
              "      <td>1373.40000</td>\n",
              "      <td>0.000</td>\n",
              "    </tr>\n",
              "    <tr>\n",
              "      <th>13</th>\n",
              "      <td>2.90660</td>\n",
              "      <td>25.859</td>\n",
              "      <td>179.5800</td>\n",
              "      <td>1422.30000</td>\n",
              "      <td>0.000</td>\n",
              "    </tr>\n",
              "    <tr>\n",
              "      <th>14</th>\n",
              "      <td>2.13220</td>\n",
              "      <td>23.464</td>\n",
              "      <td>183.1800</td>\n",
              "      <td>1455.30000</td>\n",
              "      <td>0.000</td>\n",
              "    </tr>\n",
              "  </tbody>\n",
              "</table>\n",
              "<p>1500 rows × 5 columns</p>\n",
              "</div>\n",
              "      <button class=\"colab-df-convert\" onclick=\"convertToInteractive('df-9e8645a2-2623-4676-98c7-501107d0fc81')\"\n",
              "              title=\"Convert this dataframe to an interactive table.\"\n",
              "              style=\"display:none;\">\n",
              "        \n",
              "  <svg xmlns=\"http://www.w3.org/2000/svg\" height=\"24px\"viewBox=\"0 0 24 24\"\n",
              "       width=\"24px\">\n",
              "    <path d=\"M0 0h24v24H0V0z\" fill=\"none\"/>\n",
              "    <path d=\"M18.56 5.44l.94 2.06.94-2.06 2.06-.94-2.06-.94-.94-2.06-.94 2.06-2.06.94zm-11 1L8.5 8.5l.94-2.06 2.06-.94-2.06-.94L8.5 2.5l-.94 2.06-2.06.94zm10 10l.94 2.06.94-2.06 2.06-.94-2.06-.94-.94-2.06-.94 2.06-2.06.94z\"/><path d=\"M17.41 7.96l-1.37-1.37c-.4-.4-.92-.59-1.43-.59-.52 0-1.04.2-1.43.59L10.3 9.45l-7.72 7.72c-.78.78-.78 2.05 0 2.83L4 21.41c.39.39.9.59 1.41.59.51 0 1.02-.2 1.41-.59l7.78-7.78 2.81-2.81c.8-.78.8-2.07 0-2.86zM5.41 20L4 18.59l7.72-7.72 1.47 1.35L5.41 20z\"/>\n",
              "  </svg>\n",
              "      </button>\n",
              "      \n",
              "  <style>\n",
              "    .colab-df-container {\n",
              "      display:flex;\n",
              "      flex-wrap:wrap;\n",
              "      gap: 12px;\n",
              "    }\n",
              "\n",
              "    .colab-df-convert {\n",
              "      background-color: #E8F0FE;\n",
              "      border: none;\n",
              "      border-radius: 50%;\n",
              "      cursor: pointer;\n",
              "      display: none;\n",
              "      fill: #1967D2;\n",
              "      height: 32px;\n",
              "      padding: 0 0 0 0;\n",
              "      width: 32px;\n",
              "    }\n",
              "\n",
              "    .colab-df-convert:hover {\n",
              "      background-color: #E2EBFA;\n",
              "      box-shadow: 0px 1px 2px rgba(60, 64, 67, 0.3), 0px 1px 3px 1px rgba(60, 64, 67, 0.15);\n",
              "      fill: #174EA6;\n",
              "    }\n",
              "\n",
              "    [theme=dark] .colab-df-convert {\n",
              "      background-color: #3B4455;\n",
              "      fill: #D2E3FC;\n",
              "    }\n",
              "\n",
              "    [theme=dark] .colab-df-convert:hover {\n",
              "      background-color: #434B5C;\n",
              "      box-shadow: 0px 1px 3px 1px rgba(0, 0, 0, 0.15);\n",
              "      filter: drop-shadow(0px 1px 2px rgba(0, 0, 0, 0.3));\n",
              "      fill: #FFFFFF;\n",
              "    }\n",
              "  </style>\n",
              "\n",
              "      <script>\n",
              "        const buttonEl =\n",
              "          document.querySelector('#df-9e8645a2-2623-4676-98c7-501107d0fc81 button.colab-df-convert');\n",
              "        buttonEl.style.display =\n",
              "          google.colab.kernel.accessAllowed ? 'block' : 'none';\n",
              "\n",
              "        async function convertToInteractive(key) {\n",
              "          const element = document.querySelector('#df-9e8645a2-2623-4676-98c7-501107d0fc81');\n",
              "          const dataTable =\n",
              "            await google.colab.kernel.invokeFunction('convertToInteractive',\n",
              "                                                     [key], {});\n",
              "          if (!dataTable) return;\n",
              "\n",
              "          const docLinkHtml = 'Like what you see? Visit the ' +\n",
              "            '<a target=\"_blank\" href=https://colab.research.google.com/notebooks/data_table.ipynb>data table notebook</a>'\n",
              "            + ' to learn more about interactive tables.';\n",
              "          element.innerHTML = '';\n",
              "          dataTable['output_type'] = 'display_data';\n",
              "          await google.colab.output.renderOutput(dataTable, element);\n",
              "          const docLink = document.createElement('div');\n",
              "          docLink.innerHTML = docLinkHtml;\n",
              "          element.appendChild(docLink);\n",
              "        }\n",
              "      </script>\n",
              "    </div>\n",
              "  </div>\n",
              "  "
            ]
          },
          "metadata": {},
          "execution_count": 90
        }
      ]
    },
    {
      "cell_type": "code",
      "source": [
        "filename = \"bwu-test_doe_unscaled.csv\"\n",
        "doe = pd.read_csv(\"datahow-course-scripts/scripts/datasets/\"+filename,index_col=None, header=None)\n",
        "doe.columns=[\"feed_start\",\"feed_end\",\"Glc_feed_rate\",\"Glc_0\",\"VCD_0\"]\n",
        "doe_test = doe\n",
        "\n",
        "filename = \"bwu_doe_unscaled.csv\"\n",
        "doe = pd.read_csv(\"datahow-course-scripts/scripts/datasets/\"+filename,index_col=None, header=None)\n",
        "doe.columns=[\"feed_start\",\"feed_end\",\"Glc_feed_rate\",\"Glc_0\",\"VCD_0\"]\n",
        "doe"
      ],
      "metadata": {
        "id": "8OLSS4ABqfTs",
        "outputId": "c3c307e0-aa6e-4356-86a5-149a78a8ddf4",
        "colab": {
          "base_uri": "https://localhost:8080/",
          "height": 424
        }
      },
      "execution_count": 91,
      "outputs": [
        {
          "output_type": "execute_result",
          "data": {
            "text/plain": [
              "    feed_start  feed_end  Glc_feed_rate     Glc_0     VCD_0\n",
              "0     -0.57173  -0.65234        0.98479  0.973680  0.229680\n",
              "1     -0.30239   0.70694        0.82030 -0.001358  0.483670\n",
              "2      0.54568   0.60900       -0.39029 -0.840300  0.774100\n",
              "3     -0.84467  -0.51225       -0.63137 -0.676170 -0.440310\n",
              "4     -0.83495   0.42833       -0.64174 -0.024642 -0.019367\n",
              "..         ...       ...            ...       ...       ...\n",
              "95    -0.44449   0.21562       -0.30480 -0.245270 -0.847970\n",
              "96    -0.60051  -0.88541        0.66473 -0.057922  0.150660\n",
              "97     0.36934   0.41479        0.46114 -0.613140  0.190860\n",
              "98    -0.95273  -0.54334        0.89206  0.016768 -0.958280\n",
              "99     0.51039  -0.38002        0.06686 -0.290350  0.296670\n",
              "\n",
              "[100 rows x 5 columns]"
            ],
            "text/html": [
              "\n",
              "  <div id=\"df-7840a41f-b54a-48d2-8881-96bb82835edf\">\n",
              "    <div class=\"colab-df-container\">\n",
              "      <div>\n",
              "<style scoped>\n",
              "    .dataframe tbody tr th:only-of-type {\n",
              "        vertical-align: middle;\n",
              "    }\n",
              "\n",
              "    .dataframe tbody tr th {\n",
              "        vertical-align: top;\n",
              "    }\n",
              "\n",
              "    .dataframe thead th {\n",
              "        text-align: right;\n",
              "    }\n",
              "</style>\n",
              "<table border=\"1\" class=\"dataframe\">\n",
              "  <thead>\n",
              "    <tr style=\"text-align: right;\">\n",
              "      <th></th>\n",
              "      <th>feed_start</th>\n",
              "      <th>feed_end</th>\n",
              "      <th>Glc_feed_rate</th>\n",
              "      <th>Glc_0</th>\n",
              "      <th>VCD_0</th>\n",
              "    </tr>\n",
              "  </thead>\n",
              "  <tbody>\n",
              "    <tr>\n",
              "      <th>0</th>\n",
              "      <td>-0.57173</td>\n",
              "      <td>-0.65234</td>\n",
              "      <td>0.98479</td>\n",
              "      <td>0.973680</td>\n",
              "      <td>0.229680</td>\n",
              "    </tr>\n",
              "    <tr>\n",
              "      <th>1</th>\n",
              "      <td>-0.30239</td>\n",
              "      <td>0.70694</td>\n",
              "      <td>0.82030</td>\n",
              "      <td>-0.001358</td>\n",
              "      <td>0.483670</td>\n",
              "    </tr>\n",
              "    <tr>\n",
              "      <th>2</th>\n",
              "      <td>0.54568</td>\n",
              "      <td>0.60900</td>\n",
              "      <td>-0.39029</td>\n",
              "      <td>-0.840300</td>\n",
              "      <td>0.774100</td>\n",
              "    </tr>\n",
              "    <tr>\n",
              "      <th>3</th>\n",
              "      <td>-0.84467</td>\n",
              "      <td>-0.51225</td>\n",
              "      <td>-0.63137</td>\n",
              "      <td>-0.676170</td>\n",
              "      <td>-0.440310</td>\n",
              "    </tr>\n",
              "    <tr>\n",
              "      <th>4</th>\n",
              "      <td>-0.83495</td>\n",
              "      <td>0.42833</td>\n",
              "      <td>-0.64174</td>\n",
              "      <td>-0.024642</td>\n",
              "      <td>-0.019367</td>\n",
              "    </tr>\n",
              "    <tr>\n",
              "      <th>...</th>\n",
              "      <td>...</td>\n",
              "      <td>...</td>\n",
              "      <td>...</td>\n",
              "      <td>...</td>\n",
              "      <td>...</td>\n",
              "    </tr>\n",
              "    <tr>\n",
              "      <th>95</th>\n",
              "      <td>-0.44449</td>\n",
              "      <td>0.21562</td>\n",
              "      <td>-0.30480</td>\n",
              "      <td>-0.245270</td>\n",
              "      <td>-0.847970</td>\n",
              "    </tr>\n",
              "    <tr>\n",
              "      <th>96</th>\n",
              "      <td>-0.60051</td>\n",
              "      <td>-0.88541</td>\n",
              "      <td>0.66473</td>\n",
              "      <td>-0.057922</td>\n",
              "      <td>0.150660</td>\n",
              "    </tr>\n",
              "    <tr>\n",
              "      <th>97</th>\n",
              "      <td>0.36934</td>\n",
              "      <td>0.41479</td>\n",
              "      <td>0.46114</td>\n",
              "      <td>-0.613140</td>\n",
              "      <td>0.190860</td>\n",
              "    </tr>\n",
              "    <tr>\n",
              "      <th>98</th>\n",
              "      <td>-0.95273</td>\n",
              "      <td>-0.54334</td>\n",
              "      <td>0.89206</td>\n",
              "      <td>0.016768</td>\n",
              "      <td>-0.958280</td>\n",
              "    </tr>\n",
              "    <tr>\n",
              "      <th>99</th>\n",
              "      <td>0.51039</td>\n",
              "      <td>-0.38002</td>\n",
              "      <td>0.06686</td>\n",
              "      <td>-0.290350</td>\n",
              "      <td>0.296670</td>\n",
              "    </tr>\n",
              "  </tbody>\n",
              "</table>\n",
              "<p>100 rows × 5 columns</p>\n",
              "</div>\n",
              "      <button class=\"colab-df-convert\" onclick=\"convertToInteractive('df-7840a41f-b54a-48d2-8881-96bb82835edf')\"\n",
              "              title=\"Convert this dataframe to an interactive table.\"\n",
              "              style=\"display:none;\">\n",
              "        \n",
              "  <svg xmlns=\"http://www.w3.org/2000/svg\" height=\"24px\"viewBox=\"0 0 24 24\"\n",
              "       width=\"24px\">\n",
              "    <path d=\"M0 0h24v24H0V0z\" fill=\"none\"/>\n",
              "    <path d=\"M18.56 5.44l.94 2.06.94-2.06 2.06-.94-2.06-.94-.94-2.06-.94 2.06-2.06.94zm-11 1L8.5 8.5l.94-2.06 2.06-.94-2.06-.94L8.5 2.5l-.94 2.06-2.06.94zm10 10l.94 2.06.94-2.06 2.06-.94-2.06-.94-.94-2.06-.94 2.06-2.06.94z\"/><path d=\"M17.41 7.96l-1.37-1.37c-.4-.4-.92-.59-1.43-.59-.52 0-1.04.2-1.43.59L10.3 9.45l-7.72 7.72c-.78.78-.78 2.05 0 2.83L4 21.41c.39.39.9.59 1.41.59.51 0 1.02-.2 1.41-.59l7.78-7.78 2.81-2.81c.8-.78.8-2.07 0-2.86zM5.41 20L4 18.59l7.72-7.72 1.47 1.35L5.41 20z\"/>\n",
              "  </svg>\n",
              "      </button>\n",
              "      \n",
              "  <style>\n",
              "    .colab-df-container {\n",
              "      display:flex;\n",
              "      flex-wrap:wrap;\n",
              "      gap: 12px;\n",
              "    }\n",
              "\n",
              "    .colab-df-convert {\n",
              "      background-color: #E8F0FE;\n",
              "      border: none;\n",
              "      border-radius: 50%;\n",
              "      cursor: pointer;\n",
              "      display: none;\n",
              "      fill: #1967D2;\n",
              "      height: 32px;\n",
              "      padding: 0 0 0 0;\n",
              "      width: 32px;\n",
              "    }\n",
              "\n",
              "    .colab-df-convert:hover {\n",
              "      background-color: #E2EBFA;\n",
              "      box-shadow: 0px 1px 2px rgba(60, 64, 67, 0.3), 0px 1px 3px 1px rgba(60, 64, 67, 0.15);\n",
              "      fill: #174EA6;\n",
              "    }\n",
              "\n",
              "    [theme=dark] .colab-df-convert {\n",
              "      background-color: #3B4455;\n",
              "      fill: #D2E3FC;\n",
              "    }\n",
              "\n",
              "    [theme=dark] .colab-df-convert:hover {\n",
              "      background-color: #434B5C;\n",
              "      box-shadow: 0px 1px 3px 1px rgba(0, 0, 0, 0.15);\n",
              "      filter: drop-shadow(0px 1px 2px rgba(0, 0, 0, 0.3));\n",
              "      fill: #FFFFFF;\n",
              "    }\n",
              "  </style>\n",
              "\n",
              "      <script>\n",
              "        const buttonEl =\n",
              "          document.querySelector('#df-7840a41f-b54a-48d2-8881-96bb82835edf button.colab-df-convert');\n",
              "        buttonEl.style.display =\n",
              "          google.colab.kernel.accessAllowed ? 'block' : 'none';\n",
              "\n",
              "        async function convertToInteractive(key) {\n",
              "          const element = document.querySelector('#df-7840a41f-b54a-48d2-8881-96bb82835edf');\n",
              "          const dataTable =\n",
              "            await google.colab.kernel.invokeFunction('convertToInteractive',\n",
              "                                                     [key], {});\n",
              "          if (!dataTable) return;\n",
              "\n",
              "          const docLinkHtml = 'Like what you see? Visit the ' +\n",
              "            '<a target=\"_blank\" href=https://colab.research.google.com/notebooks/data_table.ipynb>data table notebook</a>'\n",
              "            + ' to learn more about interactive tables.';\n",
              "          element.innerHTML = '';\n",
              "          dataTable['output_type'] = 'display_data';\n",
              "          await google.colab.output.renderOutput(dataTable, element);\n",
              "          const docLink = document.createElement('div');\n",
              "          docLink.innerHTML = docLinkHtml;\n",
              "          element.appendChild(docLink);\n",
              "        }\n",
              "      </script>\n",
              "    </div>\n",
              "  </div>\n",
              "  "
            ]
          },
          "metadata": {},
          "execution_count": 91
        }
      ]
    },
    {
      "cell_type": "code",
      "source": [
        "# Define Targets as Titer at day 15\n",
        "y = pd.DataFrame(owu[\"X:Titer\"][:,14])\n",
        "y_test = pd.DataFrame(owu_test[\"X:Titer\"][:,14])\n",
        "y"
      ],
      "metadata": {
        "id": "1zz_u_Ffr34Z",
        "outputId": "ae1140c0-34e2-4c34-d056-7024c57f6a66",
        "colab": {
          "base_uri": "https://localhost:8080/",
          "height": 455
        }
      },
      "execution_count": 92,
      "outputs": [
        {
          "output_type": "execute_result",
          "data": {
            "text/plain": [
              "     X:Titer\n",
              "run         \n",
              "0    1311.10\n",
              "1    1056.10\n",
              "2     993.78\n",
              "3     415.18\n",
              "4     846.94\n",
              "..       ...\n",
              "95    951.19\n",
              "96   1505.10\n",
              "97   1371.70\n",
              "98   1408.50\n",
              "99   1455.30\n",
              "\n",
              "[100 rows x 1 columns]"
            ],
            "text/html": [
              "\n",
              "  <div id=\"df-784d16b8-60e7-4e41-aa31-f76d1e6903a8\">\n",
              "    <div class=\"colab-df-container\">\n",
              "      <div>\n",
              "<style scoped>\n",
              "    .dataframe tbody tr th:only-of-type {\n",
              "        vertical-align: middle;\n",
              "    }\n",
              "\n",
              "    .dataframe tbody tr th {\n",
              "        vertical-align: top;\n",
              "    }\n",
              "\n",
              "    .dataframe thead th {\n",
              "        text-align: right;\n",
              "    }\n",
              "</style>\n",
              "<table border=\"1\" class=\"dataframe\">\n",
              "  <thead>\n",
              "    <tr style=\"text-align: right;\">\n",
              "      <th></th>\n",
              "      <th>X:Titer</th>\n",
              "    </tr>\n",
              "    <tr>\n",
              "      <th>run</th>\n",
              "      <th></th>\n",
              "    </tr>\n",
              "  </thead>\n",
              "  <tbody>\n",
              "    <tr>\n",
              "      <th>0</th>\n",
              "      <td>1311.10</td>\n",
              "    </tr>\n",
              "    <tr>\n",
              "      <th>1</th>\n",
              "      <td>1056.10</td>\n",
              "    </tr>\n",
              "    <tr>\n",
              "      <th>2</th>\n",
              "      <td>993.78</td>\n",
              "    </tr>\n",
              "    <tr>\n",
              "      <th>3</th>\n",
              "      <td>415.18</td>\n",
              "    </tr>\n",
              "    <tr>\n",
              "      <th>4</th>\n",
              "      <td>846.94</td>\n",
              "    </tr>\n",
              "    <tr>\n",
              "      <th>...</th>\n",
              "      <td>...</td>\n",
              "    </tr>\n",
              "    <tr>\n",
              "      <th>95</th>\n",
              "      <td>951.19</td>\n",
              "    </tr>\n",
              "    <tr>\n",
              "      <th>96</th>\n",
              "      <td>1505.10</td>\n",
              "    </tr>\n",
              "    <tr>\n",
              "      <th>97</th>\n",
              "      <td>1371.70</td>\n",
              "    </tr>\n",
              "    <tr>\n",
              "      <th>98</th>\n",
              "      <td>1408.50</td>\n",
              "    </tr>\n",
              "    <tr>\n",
              "      <th>99</th>\n",
              "      <td>1455.30</td>\n",
              "    </tr>\n",
              "  </tbody>\n",
              "</table>\n",
              "<p>100 rows × 1 columns</p>\n",
              "</div>\n",
              "      <button class=\"colab-df-convert\" onclick=\"convertToInteractive('df-784d16b8-60e7-4e41-aa31-f76d1e6903a8')\"\n",
              "              title=\"Convert this dataframe to an interactive table.\"\n",
              "              style=\"display:none;\">\n",
              "        \n",
              "  <svg xmlns=\"http://www.w3.org/2000/svg\" height=\"24px\"viewBox=\"0 0 24 24\"\n",
              "       width=\"24px\">\n",
              "    <path d=\"M0 0h24v24H0V0z\" fill=\"none\"/>\n",
              "    <path d=\"M18.56 5.44l.94 2.06.94-2.06 2.06-.94-2.06-.94-.94-2.06-.94 2.06-2.06.94zm-11 1L8.5 8.5l.94-2.06 2.06-.94-2.06-.94L8.5 2.5l-.94 2.06-2.06.94zm10 10l.94 2.06.94-2.06 2.06-.94-2.06-.94-.94-2.06-.94 2.06-2.06.94z\"/><path d=\"M17.41 7.96l-1.37-1.37c-.4-.4-.92-.59-1.43-.59-.52 0-1.04.2-1.43.59L10.3 9.45l-7.72 7.72c-.78.78-.78 2.05 0 2.83L4 21.41c.39.39.9.59 1.41.59.51 0 1.02-.2 1.41-.59l7.78-7.78 2.81-2.81c.8-.78.8-2.07 0-2.86zM5.41 20L4 18.59l7.72-7.72 1.47 1.35L5.41 20z\"/>\n",
              "  </svg>\n",
              "      </button>\n",
              "      \n",
              "  <style>\n",
              "    .colab-df-container {\n",
              "      display:flex;\n",
              "      flex-wrap:wrap;\n",
              "      gap: 12px;\n",
              "    }\n",
              "\n",
              "    .colab-df-convert {\n",
              "      background-color: #E8F0FE;\n",
              "      border: none;\n",
              "      border-radius: 50%;\n",
              "      cursor: pointer;\n",
              "      display: none;\n",
              "      fill: #1967D2;\n",
              "      height: 32px;\n",
              "      padding: 0 0 0 0;\n",
              "      width: 32px;\n",
              "    }\n",
              "\n",
              "    .colab-df-convert:hover {\n",
              "      background-color: #E2EBFA;\n",
              "      box-shadow: 0px 1px 2px rgba(60, 64, 67, 0.3), 0px 1px 3px 1px rgba(60, 64, 67, 0.15);\n",
              "      fill: #174EA6;\n",
              "    }\n",
              "\n",
              "    [theme=dark] .colab-df-convert {\n",
              "      background-color: #3B4455;\n",
              "      fill: #D2E3FC;\n",
              "    }\n",
              "\n",
              "    [theme=dark] .colab-df-convert:hover {\n",
              "      background-color: #434B5C;\n",
              "      box-shadow: 0px 1px 3px 1px rgba(0, 0, 0, 0.15);\n",
              "      filter: drop-shadow(0px 1px 2px rgba(0, 0, 0, 0.3));\n",
              "      fill: #FFFFFF;\n",
              "    }\n",
              "  </style>\n",
              "\n",
              "      <script>\n",
              "        const buttonEl =\n",
              "          document.querySelector('#df-784d16b8-60e7-4e41-aa31-f76d1e6903a8 button.colab-df-convert');\n",
              "        buttonEl.style.display =\n",
              "          google.colab.kernel.accessAllowed ? 'block' : 'none';\n",
              "\n",
              "        async function convertToInteractive(key) {\n",
              "          const element = document.querySelector('#df-784d16b8-60e7-4e41-aa31-f76d1e6903a8');\n",
              "          const dataTable =\n",
              "            await google.colab.kernel.invokeFunction('convertToInteractive',\n",
              "                                                     [key], {});\n",
              "          if (!dataTable) return;\n",
              "\n",
              "          const docLinkHtml = 'Like what you see? Visit the ' +\n",
              "            '<a target=\"_blank\" href=https://colab.research.google.com/notebooks/data_table.ipynb>data table notebook</a>'\n",
              "            + ' to learn more about interactive tables.';\n",
              "          element.innerHTML = '';\n",
              "          dataTable['output_type'] = 'display_data';\n",
              "          await google.colab.output.renderOutput(dataTable, element);\n",
              "          const docLink = document.createElement('div');\n",
              "          docLink.innerHTML = docLinkHtml;\n",
              "          element.appendChild(docLink);\n",
              "        }\n",
              "      </script>\n",
              "    </div>\n",
              "  </div>\n",
              "  "
            ]
          },
          "metadata": {},
          "execution_count": 92
        }
      ]
    },
    {
      "cell_type": "markdown",
      "source": [
        "## Multiple Linear Regression \n",
        "\n",
        "We first train (fit) a quadratic MLR model to the final titer, using the data loaded above.\n",
        "We then characterize the performance of the model using ANOVA, where the user can have information about the importance of each coefficient and of the overal model."
      ],
      "metadata": {
        "id": "kkEQIZOLGwjz"
      }
    },
    {
      "cell_type": "markdown",
      "source": [
        "### Create linear model using stepwise procedure"
      ],
      "metadata": {
        "id": "iXJI69b1HLZJ"
      }
    },
    {
      "cell_type": "code",
      "source": [
        "# Fit Linear Model\n",
        "X = sm.add_constant(doe.values)\n",
        "mod = sm.OLS(y.values, X)\n",
        "res = mod.fit()\n",
        "print(res.summary())"
      ],
      "metadata": {
        "id": "_KLlhxUCsbiO",
        "outputId": "8a03dae9-ebed-4348-e812-35cacdc62e78",
        "colab": {
          "base_uri": "https://localhost:8080/"
        }
      },
      "execution_count": 93,
      "outputs": [
        {
          "output_type": "stream",
          "name": "stdout",
          "text": [
            "                            OLS Regression Results                            \n",
            "==============================================================================\n",
            "Dep. Variable:                      y   R-squared:                       0.178\n",
            "Model:                            OLS   Adj. R-squared:                  0.134\n",
            "Method:                 Least Squares   F-statistic:                     4.063\n",
            "Date:                Fri, 22 Apr 2022   Prob (F-statistic):            0.00221\n",
            "Time:                        05:52:17   Log-Likelihood:                -716.86\n",
            "No. Observations:                 100   AIC:                             1446.\n",
            "Df Residuals:                      94   BIC:                             1461.\n",
            "Df Model:                           5                                         \n",
            "Covariance Type:            nonrobust                                         \n",
            "==============================================================================\n",
            "                 coef    std err          t      P>|t|      [0.025      0.975]\n",
            "------------------------------------------------------------------------------\n",
            "const       1105.8596     32.394     34.138      0.000    1041.540    1170.179\n",
            "x1            26.5519     57.055      0.465      0.643     -86.733     139.837\n",
            "x2           166.2645     56.653      2.935      0.004      53.778     278.751\n",
            "x3           103.3103     57.479      1.797      0.075     -10.816     217.437\n",
            "x4           126.7031     57.737      2.195      0.031      12.066     241.340\n",
            "x5            62.5271     57.733      1.083      0.282     -52.103     177.157\n",
            "==============================================================================\n",
            "Omnibus:                       11.365   Durbin-Watson:                   2.092\n",
            "Prob(Omnibus):                  0.003   Jarque-Bera (JB):                5.188\n",
            "Skew:                          -0.323   Prob(JB):                       0.0747\n",
            "Kurtosis:                       2.090   Cond. No.                         1.98\n",
            "==============================================================================\n",
            "\n",
            "Warnings:\n",
            "[1] Standard Errors assume that the covariance matrix of the errors is correctly specified.\n"
          ]
        }
      ]
    },
    {
      "cell_type": "markdown",
      "source": [
        "### Evaluate model prediction on train set\n",
        "In this section, we check the predictions of the models versus the training data for the final titer.\n"
      ],
      "metadata": {
        "id": "_HtEIdIyHVTo"
      }
    },
    {
      "cell_type": "code",
      "source": [
        "reg = LinearRegression().fit(doe, y)\n",
        "yhat = reg.predict(doe).reshape(len(y))\n",
        "fig = px.scatter(x=y.values.reshape(len(yhat)),y=yhat,labels=dict(x=\"Observed Titer\", y=\"Predicted Titer\"), title=\"Observed vs Predicted on Train Set\")\n",
        "fig.update_layout(shapes = [{'type': 'line', 'yref': 'paper', 'xref': 'paper', 'y0': 0, 'y1': 1, 'x0': 0, 'x1': 1, 'layer': 'below'}])\n",
        "fig.show()"
      ],
      "metadata": {
        "id": "n9xJIvLTv5q8",
        "outputId": "56721e93-0030-408b-e863-3693ee909d65",
        "colab": {
          "base_uri": "https://localhost:8080/",
          "height": 542
        }
      },
      "execution_count": 94,
      "outputs": [
        {
          "output_type": "display_data",
          "data": {
            "text/html": [
              "<html>\n",
              "<head><meta charset=\"utf-8\" /></head>\n",
              "<body>\n",
              "    <div>            <script src=\"https://cdnjs.cloudflare.com/ajax/libs/mathjax/2.7.5/MathJax.js?config=TeX-AMS-MML_SVG\"></script><script type=\"text/javascript\">if (window.MathJax) {MathJax.Hub.Config({SVG: {font: \"STIX-Web\"}});}</script>                <script type=\"text/javascript\">window.PlotlyConfig = {MathJaxConfig: 'local'};</script>\n",
              "        <script src=\"https://cdn.plot.ly/plotly-2.8.3.min.js\"></script>                <div id=\"ed6fa1f7-133e-41c5-90ff-51789d6fab46\" class=\"plotly-graph-div\" style=\"height:525px; width:100%;\"></div>            <script type=\"text/javascript\">                                    window.PLOTLYENV=window.PLOTLYENV || {};                                    if (document.getElementById(\"ed6fa1f7-133e-41c5-90ff-51789d6fab46\")) {                    Plotly.newPlot(                        \"ed6fa1f7-133e-41c5-90ff-51789d6fab46\",                        [{\"hovertemplate\":\"Observed Titer=%{x}<br>Predicted Titer=%{y}<extra></extra>\",\"legendgroup\":\"\",\"marker\":{\"color\":\"#636efa\",\"symbol\":\"circle\"},\"mode\":\"markers\",\"name\":\"\",\"orientation\":\"v\",\"showlegend\":false,\"x\":[1311.1,1056.1,993.78,415.18,846.94,678.6,942.6,1124.2,1467.3,852.45,1449.3,1420.9,983.21,1458.5,1515.4,564.49,1296.8,775.63,1389.2,879.9,528.89,1505.0,1376.3,1199.6,1420.3,599.94,1495.9,580.07,395.92,1269.9,293.8,1295.2,733.33,601.62,1422.9,974.84,601.75,552.03,642.17,577.28,1497.2,1492.9,1349.8,533.16,1439.6,1432.7,1094.9,1077.6,759.86,564.01,809.71,649.04,1466.0,1370.8,1462.8,1490.5,645.69,1133.3,1533.9,1303.6,1109.5,1532.0,938.24,566.1,1301.8,965.96,1177.8,1483.4,1340.9,1432.3,1260.4,1007.3,1353.1,1324.0,1218.4,1410.1,1047.0,739.16,1506.0,1289.4,1144.4,1272.8,1011.0,1194.2,1015.0,1413.1,1489.4,1037.4,603.76,1528.9,824.74,1437.1,1317.1,1405.5,609.23,951.19,1505.1,1371.7,1408.5,1455.3],\"xaxis\":\"x\",\"y\":[1221.6865704588395,1330.1854229758976,1123.2160353865597,819.8317971137185,1084.2745710602153,856.2706078457973,1087.9835255900412,1247.2806446630411,1215.744100612852,1033.8314560678505,1152.8289732725434,1197.1437736089188,1160.4551784152138,1113.3904471908693,1194.2570013206491,1102.5323936225682,1223.0364304269458,1164.8612632806817,1147.951921649378,1048.6372750879282,1015.8814177724248,1267.5628164317066,1027.6630599969349,913.2567355172049,946.43924440781,1173.5945189822764,1063.5874039534704,990.4071719888739,847.4099694267046,1305.4202069055223,1025.0502175552633,1157.5243071316083,988.1167777742133,779.4846723640571,1133.1239217710336,1222.4817935540573,712.1472444994506,946.014816444463,759.9184036587214,1115.0945692632974,920.0760234686079,1228.6834422786812,818.1631397221089,1092.614692582422,1109.612837680542,1212.3584654764486,859.4461894269763,1179.9335590812425,1089.5621496420556,1147.5380659609991,1235.7289749847162,955.8240145658256,1192.409929533014,1267.3601171782354,1287.3758718222848,1179.5222058537731,997.0420661080778,1439.9756454357944,1100.571246340225,1002.1355881993248,1289.5456432004462,1199.7915931820346,1169.1292016963641,997.4605518343898,1023.8123979694611,850.9864354065679,1078.746236182657,1448.695599726069,1265.2305692344423,1289.9067585077805,1217.7420531837038,1040.6668270316,1071.3988594429236,1099.4867484279243,1052.7831374390505,1270.9910261811929,912.8790219760215,1247.3571859087679,1034.1975148352103,1143.4235253716106,1142.5528674742811,1142.6961442375175,1175.37805481307,1268.6875040003356,933.0370812983341,1113.5604142517184,1441.3791235473113,1054.7067420947815,968.1129418322479,1149.025916037812,1210.3224104000203,1092.6983679807881,1240.186939345562,1234.834616664414,1226.96356914208,1014.320919264906,1013.4575494361466,1166.5187695816971,1024.5897753410154,1044.896522126791],\"yaxis\":\"y\",\"type\":\"scatter\"}],                        {\"template\":{\"data\":{\"bar\":[{\"error_x\":{\"color\":\"#2a3f5f\"},\"error_y\":{\"color\":\"#2a3f5f\"},\"marker\":{\"line\":{\"color\":\"#E5ECF6\",\"width\":0.5},\"pattern\":{\"fillmode\":\"overlay\",\"size\":10,\"solidity\":0.2}},\"type\":\"bar\"}],\"barpolar\":[{\"marker\":{\"line\":{\"color\":\"#E5ECF6\",\"width\":0.5},\"pattern\":{\"fillmode\":\"overlay\",\"size\":10,\"solidity\":0.2}},\"type\":\"barpolar\"}],\"carpet\":[{\"aaxis\":{\"endlinecolor\":\"#2a3f5f\",\"gridcolor\":\"white\",\"linecolor\":\"white\",\"minorgridcolor\":\"white\",\"startlinecolor\":\"#2a3f5f\"},\"baxis\":{\"endlinecolor\":\"#2a3f5f\",\"gridcolor\":\"white\",\"linecolor\":\"white\",\"minorgridcolor\":\"white\",\"startlinecolor\":\"#2a3f5f\"},\"type\":\"carpet\"}],\"choropleth\":[{\"colorbar\":{\"outlinewidth\":0,\"ticks\":\"\"},\"type\":\"choropleth\"}],\"contour\":[{\"colorbar\":{\"outlinewidth\":0,\"ticks\":\"\"},\"colorscale\":[[0.0,\"#0d0887\"],[0.1111111111111111,\"#46039f\"],[0.2222222222222222,\"#7201a8\"],[0.3333333333333333,\"#9c179e\"],[0.4444444444444444,\"#bd3786\"],[0.5555555555555556,\"#d8576b\"],[0.6666666666666666,\"#ed7953\"],[0.7777777777777778,\"#fb9f3a\"],[0.8888888888888888,\"#fdca26\"],[1.0,\"#f0f921\"]],\"type\":\"contour\"}],\"contourcarpet\":[{\"colorbar\":{\"outlinewidth\":0,\"ticks\":\"\"},\"type\":\"contourcarpet\"}],\"heatmap\":[{\"colorbar\":{\"outlinewidth\":0,\"ticks\":\"\"},\"colorscale\":[[0.0,\"#0d0887\"],[0.1111111111111111,\"#46039f\"],[0.2222222222222222,\"#7201a8\"],[0.3333333333333333,\"#9c179e\"],[0.4444444444444444,\"#bd3786\"],[0.5555555555555556,\"#d8576b\"],[0.6666666666666666,\"#ed7953\"],[0.7777777777777778,\"#fb9f3a\"],[0.8888888888888888,\"#fdca26\"],[1.0,\"#f0f921\"]],\"type\":\"heatmap\"}],\"heatmapgl\":[{\"colorbar\":{\"outlinewidth\":0,\"ticks\":\"\"},\"colorscale\":[[0.0,\"#0d0887\"],[0.1111111111111111,\"#46039f\"],[0.2222222222222222,\"#7201a8\"],[0.3333333333333333,\"#9c179e\"],[0.4444444444444444,\"#bd3786\"],[0.5555555555555556,\"#d8576b\"],[0.6666666666666666,\"#ed7953\"],[0.7777777777777778,\"#fb9f3a\"],[0.8888888888888888,\"#fdca26\"],[1.0,\"#f0f921\"]],\"type\":\"heatmapgl\"}],\"histogram\":[{\"marker\":{\"pattern\":{\"fillmode\":\"overlay\",\"size\":10,\"solidity\":0.2}},\"type\":\"histogram\"}],\"histogram2d\":[{\"colorbar\":{\"outlinewidth\":0,\"ticks\":\"\"},\"colorscale\":[[0.0,\"#0d0887\"],[0.1111111111111111,\"#46039f\"],[0.2222222222222222,\"#7201a8\"],[0.3333333333333333,\"#9c179e\"],[0.4444444444444444,\"#bd3786\"],[0.5555555555555556,\"#d8576b\"],[0.6666666666666666,\"#ed7953\"],[0.7777777777777778,\"#fb9f3a\"],[0.8888888888888888,\"#fdca26\"],[1.0,\"#f0f921\"]],\"type\":\"histogram2d\"}],\"histogram2dcontour\":[{\"colorbar\":{\"outlinewidth\":0,\"ticks\":\"\"},\"colorscale\":[[0.0,\"#0d0887\"],[0.1111111111111111,\"#46039f\"],[0.2222222222222222,\"#7201a8\"],[0.3333333333333333,\"#9c179e\"],[0.4444444444444444,\"#bd3786\"],[0.5555555555555556,\"#d8576b\"],[0.6666666666666666,\"#ed7953\"],[0.7777777777777778,\"#fb9f3a\"],[0.8888888888888888,\"#fdca26\"],[1.0,\"#f0f921\"]],\"type\":\"histogram2dcontour\"}],\"mesh3d\":[{\"colorbar\":{\"outlinewidth\":0,\"ticks\":\"\"},\"type\":\"mesh3d\"}],\"parcoords\":[{\"line\":{\"colorbar\":{\"outlinewidth\":0,\"ticks\":\"\"}},\"type\":\"parcoords\"}],\"pie\":[{\"automargin\":true,\"type\":\"pie\"}],\"scatter\":[{\"marker\":{\"colorbar\":{\"outlinewidth\":0,\"ticks\":\"\"}},\"type\":\"scatter\"}],\"scatter3d\":[{\"line\":{\"colorbar\":{\"outlinewidth\":0,\"ticks\":\"\"}},\"marker\":{\"colorbar\":{\"outlinewidth\":0,\"ticks\":\"\"}},\"type\":\"scatter3d\"}],\"scattercarpet\":[{\"marker\":{\"colorbar\":{\"outlinewidth\":0,\"ticks\":\"\"}},\"type\":\"scattercarpet\"}],\"scattergeo\":[{\"marker\":{\"colorbar\":{\"outlinewidth\":0,\"ticks\":\"\"}},\"type\":\"scattergeo\"}],\"scattergl\":[{\"marker\":{\"colorbar\":{\"outlinewidth\":0,\"ticks\":\"\"}},\"type\":\"scattergl\"}],\"scattermapbox\":[{\"marker\":{\"colorbar\":{\"outlinewidth\":0,\"ticks\":\"\"}},\"type\":\"scattermapbox\"}],\"scatterpolar\":[{\"marker\":{\"colorbar\":{\"outlinewidth\":0,\"ticks\":\"\"}},\"type\":\"scatterpolar\"}],\"scatterpolargl\":[{\"marker\":{\"colorbar\":{\"outlinewidth\":0,\"ticks\":\"\"}},\"type\":\"scatterpolargl\"}],\"scatterternary\":[{\"marker\":{\"colorbar\":{\"outlinewidth\":0,\"ticks\":\"\"}},\"type\":\"scatterternary\"}],\"surface\":[{\"colorbar\":{\"outlinewidth\":0,\"ticks\":\"\"},\"colorscale\":[[0.0,\"#0d0887\"],[0.1111111111111111,\"#46039f\"],[0.2222222222222222,\"#7201a8\"],[0.3333333333333333,\"#9c179e\"],[0.4444444444444444,\"#bd3786\"],[0.5555555555555556,\"#d8576b\"],[0.6666666666666666,\"#ed7953\"],[0.7777777777777778,\"#fb9f3a\"],[0.8888888888888888,\"#fdca26\"],[1.0,\"#f0f921\"]],\"type\":\"surface\"}],\"table\":[{\"cells\":{\"fill\":{\"color\":\"#EBF0F8\"},\"line\":{\"color\":\"white\"}},\"header\":{\"fill\":{\"color\":\"#C8D4E3\"},\"line\":{\"color\":\"white\"}},\"type\":\"table\"}]},\"layout\":{\"annotationdefaults\":{\"arrowcolor\":\"#2a3f5f\",\"arrowhead\":0,\"arrowwidth\":1},\"autotypenumbers\":\"strict\",\"coloraxis\":{\"colorbar\":{\"outlinewidth\":0,\"ticks\":\"\"}},\"colorscale\":{\"diverging\":[[0,\"#8e0152\"],[0.1,\"#c51b7d\"],[0.2,\"#de77ae\"],[0.3,\"#f1b6da\"],[0.4,\"#fde0ef\"],[0.5,\"#f7f7f7\"],[0.6,\"#e6f5d0\"],[0.7,\"#b8e186\"],[0.8,\"#7fbc41\"],[0.9,\"#4d9221\"],[1,\"#276419\"]],\"sequential\":[[0.0,\"#0d0887\"],[0.1111111111111111,\"#46039f\"],[0.2222222222222222,\"#7201a8\"],[0.3333333333333333,\"#9c179e\"],[0.4444444444444444,\"#bd3786\"],[0.5555555555555556,\"#d8576b\"],[0.6666666666666666,\"#ed7953\"],[0.7777777777777778,\"#fb9f3a\"],[0.8888888888888888,\"#fdca26\"],[1.0,\"#f0f921\"]],\"sequentialminus\":[[0.0,\"#0d0887\"],[0.1111111111111111,\"#46039f\"],[0.2222222222222222,\"#7201a8\"],[0.3333333333333333,\"#9c179e\"],[0.4444444444444444,\"#bd3786\"],[0.5555555555555556,\"#d8576b\"],[0.6666666666666666,\"#ed7953\"],[0.7777777777777778,\"#fb9f3a\"],[0.8888888888888888,\"#fdca26\"],[1.0,\"#f0f921\"]]},\"colorway\":[\"#636efa\",\"#EF553B\",\"#00cc96\",\"#ab63fa\",\"#FFA15A\",\"#19d3f3\",\"#FF6692\",\"#B6E880\",\"#FF97FF\",\"#FECB52\"],\"font\":{\"color\":\"#2a3f5f\"},\"geo\":{\"bgcolor\":\"white\",\"lakecolor\":\"white\",\"landcolor\":\"#E5ECF6\",\"showlakes\":true,\"showland\":true,\"subunitcolor\":\"white\"},\"hoverlabel\":{\"align\":\"left\"},\"hovermode\":\"closest\",\"mapbox\":{\"style\":\"light\"},\"paper_bgcolor\":\"white\",\"plot_bgcolor\":\"#E5ECF6\",\"polar\":{\"angularaxis\":{\"gridcolor\":\"white\",\"linecolor\":\"white\",\"ticks\":\"\"},\"bgcolor\":\"#E5ECF6\",\"radialaxis\":{\"gridcolor\":\"white\",\"linecolor\":\"white\",\"ticks\":\"\"}},\"scene\":{\"xaxis\":{\"backgroundcolor\":\"#E5ECF6\",\"gridcolor\":\"white\",\"gridwidth\":2,\"linecolor\":\"white\",\"showbackground\":true,\"ticks\":\"\",\"zerolinecolor\":\"white\"},\"yaxis\":{\"backgroundcolor\":\"#E5ECF6\",\"gridcolor\":\"white\",\"gridwidth\":2,\"linecolor\":\"white\",\"showbackground\":true,\"ticks\":\"\",\"zerolinecolor\":\"white\"},\"zaxis\":{\"backgroundcolor\":\"#E5ECF6\",\"gridcolor\":\"white\",\"gridwidth\":2,\"linecolor\":\"white\",\"showbackground\":true,\"ticks\":\"\",\"zerolinecolor\":\"white\"}},\"shapedefaults\":{\"line\":{\"color\":\"#2a3f5f\"}},\"ternary\":{\"aaxis\":{\"gridcolor\":\"white\",\"linecolor\":\"white\",\"ticks\":\"\"},\"baxis\":{\"gridcolor\":\"white\",\"linecolor\":\"white\",\"ticks\":\"\"},\"bgcolor\":\"#E5ECF6\",\"caxis\":{\"gridcolor\":\"white\",\"linecolor\":\"white\",\"ticks\":\"\"}},\"title\":{\"x\":0.05},\"xaxis\":{\"automargin\":true,\"gridcolor\":\"white\",\"linecolor\":\"white\",\"ticks\":\"\",\"title\":{\"standoff\":15},\"zerolinecolor\":\"white\",\"zerolinewidth\":2},\"yaxis\":{\"automargin\":true,\"gridcolor\":\"white\",\"linecolor\":\"white\",\"ticks\":\"\",\"title\":{\"standoff\":15},\"zerolinecolor\":\"white\",\"zerolinewidth\":2}}},\"xaxis\":{\"anchor\":\"y\",\"domain\":[0.0,1.0],\"title\":{\"text\":\"Observed Titer\"}},\"yaxis\":{\"anchor\":\"x\",\"domain\":[0.0,1.0],\"title\":{\"text\":\"Predicted Titer\"}},\"legend\":{\"tracegroupgap\":0},\"title\":{\"text\":\"Observed vs Predicted on Train Set\"},\"shapes\":[{\"layer\":\"below\",\"type\":\"line\",\"x0\":0,\"x1\":1,\"xref\":\"paper\",\"y0\":0,\"y1\":1,\"yref\":\"paper\"}]},                        {\"responsive\": true}                    ).then(function(){\n",
              "                            \n",
              "var gd = document.getElementById('ed6fa1f7-133e-41c5-90ff-51789d6fab46');\n",
              "var x = new MutationObserver(function (mutations, observer) {{\n",
              "        var display = window.getComputedStyle(gd).display;\n",
              "        if (!display || display === 'none') {{\n",
              "            console.log([gd, 'removed!']);\n",
              "            Plotly.purge(gd);\n",
              "            observer.disconnect();\n",
              "        }}\n",
              "}});\n",
              "\n",
              "// Listen for the removal of the full notebook cells\n",
              "var notebookContainer = gd.closest('#notebook-container');\n",
              "if (notebookContainer) {{\n",
              "    x.observe(notebookContainer, {childList: true});\n",
              "}}\n",
              "\n",
              "// Listen for the clearing of the current output cell\n",
              "var outputEl = gd.closest('.output');\n",
              "if (outputEl) {{\n",
              "    x.observe(outputEl, {childList: true});\n",
              "}}\n",
              "\n",
              "                        })                };                            </script>        </div>\n",
              "</body>\n",
              "</html>"
            ]
          },
          "metadata": {}
        }
      ]
    },
    {
      "cell_type": "markdown",
      "source": [
        "### Evaluate model prediction on test set\n",
        "\n",
        "In this section, we use the trained model to predict the final titer and we test it on the test set created in the script \"00_Process_Characterization.ipynb\".\n"
      ],
      "metadata": {
        "id": "7hNuCgH3Hnj2"
      }
    },
    {
      "cell_type": "code",
      "source": [
        "yhat_test = reg.predict(doe_test).reshape(len(y_test))\n",
        "fig = px.scatter(x=y_test.values.reshape(len(yhat_test)),y=yhat_test,labels=dict(x=\"Observed Titer\", y=\"Predicted Titer\"), title=\"Observed vs Predicted on Train Set\")\n",
        "fig.update_layout(shapes = [{'type': 'line', 'yref': 'paper', 'xref': 'paper', 'y0': 0, 'y1': 1, 'x0': 0, 'x1': 1, 'layer': 'below'}])\n",
        "fig.show()"
      ],
      "metadata": {
        "id": "Sfuxid_UHyta",
        "outputId": "61ba648b-28bc-4666-9b48-47b9b6f35354",
        "colab": {
          "base_uri": "https://localhost:8080/",
          "height": 542
        }
      },
      "execution_count": 95,
      "outputs": [
        {
          "output_type": "display_data",
          "data": {
            "text/html": [
              "<html>\n",
              "<head><meta charset=\"utf-8\" /></head>\n",
              "<body>\n",
              "    <div>            <script src=\"https://cdnjs.cloudflare.com/ajax/libs/mathjax/2.7.5/MathJax.js?config=TeX-AMS-MML_SVG\"></script><script type=\"text/javascript\">if (window.MathJax) {MathJax.Hub.Config({SVG: {font: \"STIX-Web\"}});}</script>                <script type=\"text/javascript\">window.PlotlyConfig = {MathJaxConfig: 'local'};</script>\n",
              "        <script src=\"https://cdn.plot.ly/plotly-2.8.3.min.js\"></script>                <div id=\"5c9be4a1-120c-4449-b8eb-a6cfdc7565b5\" class=\"plotly-graph-div\" style=\"height:525px; width:100%;\"></div>            <script type=\"text/javascript\">                                    window.PLOTLYENV=window.PLOTLYENV || {};                                    if (document.getElementById(\"5c9be4a1-120c-4449-b8eb-a6cfdc7565b5\")) {                    Plotly.newPlot(                        \"5c9be4a1-120c-4449-b8eb-a6cfdc7565b5\",                        [{\"hovertemplate\":\"Observed Titer=%{x}<br>Predicted Titer=%{y}<extra></extra>\",\"legendgroup\":\"\",\"marker\":{\"color\":\"#636efa\",\"symbol\":\"circle\"},\"mode\":\"markers\",\"name\":\"\",\"orientation\":\"v\",\"showlegend\":false,\"x\":[1490.8,730.69,1177.7,1255.9,563.6,941.68,1131.5,1136.9,1302.1,1353.3,1461.9,1417.6,1480.1,595.13,676.88,1486.6,1282.5,895.78,765.17,1361.9,1196.5,744.82,939.39,1273.9,1218.4,1409.1,910.06,1505.6,1342.6,1515.2,651.05,877.21,1177.4,1056.8,945.05,1166.4,1360.3,916.36,798.15,1127.3,791.14,1130.1,1026.8,1212.2,892.91,777.73,742.06,1381.6,693.13,597.15,707.41,1408.9,488.03,1250.9,560.11,1122.3,976.54,1403.4,1114.4,974.38,1529.0,1155.6,1411.7,903.33,1489.5,1358.2,1509.0,1337.2,989.62,1445.6,959.34,702.59,1520.5,488.13,1459.6,1413.9,1496.0,485.92,1474.1,1486.4,1482.2,1266.4,1352.0,1054.2,1418.1,1400.6,1226.6,1211.1,1218.8,596.82,1296.1,1362.5,1484.9,803.99,920.3,1341.4,800.74,1465.0,955.87,903.73,573.95,326.95,1115.5,1434.6,1456.7,1327.6,859.52,1450.2,678.4,1483.6,1482.9,1480.3,714.74,1089.9,1334.3,1508.9,1524.5,585.12,1222.2,1172.5,1180.8,1412.2,1491.1,750.14,1458.4,865.31,469.67,1520.4,1481.5,1467.0,1229.4,697.83,1461.4,1332.9,1144.2,914.98,594.73,383.95,1497.9,1345.7,1483.2,546.0,1450.5,1119.3,952.11,331.29,1414.6,1403.9,1178.1,287.54,1531.2,954.44,1393.4,1506.7,1454.0,1121.3,511.54,1215.2,1444.4,367.64,982.26,847.82,909.26,632.92,1501.2,1095.2,633.54,595.28,1063.4,724.96,1499.1,1509.6,575.8,1495.4,795.05,1002.4,827.93,1340.6,1104.0,1374.3,699.2,979.49,1285.2,1426.1,1483.8,249.19,1352.9,1437.5,1483.1,1000.4,1298.8,786.2,638.26,175.72,606.1,1006.6,343.62,1355.8,543.63,1489.6,1403.8,1384.3,894.84,1313.4,543.23,1422.6,360.55,1326.3,1255.4,1093.0,1486.1,1217.6,1348.3,589.25,1509.4,593.48,1513.9,1450.9,1013.6,636.85,721.09,718.57,1485.7,1517.1,1457.0,954.54,1515.6,1460.6,1193.8,1453.2,1495.8,451.35,864.66,783.25,1212.7,1486.7,1147.8,1247.4,1212.4,1214.9,990.24,1497.8,1486.3,1478.0,1456.6,1499.9,1266.1,719.15,734.94,1153.0],\"xaxis\":\"x\",\"y\":[1351.69801129352,1146.1819688049459,1348.0676618919756,1300.5538633727213,703.696978628866,1088.5214670227786,1169.663493466674,1005.8277271916356,1185.2944312392096,972.2975660219192,1290.7523577764446,1315.9275748167067,1256.2621280622466,1116.2719098344,1026.3026506763163,1200.4341150770567,851.3241633927266,1021.5612084265051,1315.9238730964373,1064.0584173152956,1113.9804336452307,1019.7628317052759,1072.540794508825,1329.3247904298082,1251.1791317188154,1009.6488316653314,1402.7991989235302,1093.1879408651987,1000.0910926603367,1059.5964301443319,1182.532580595263,1144.2935263109684,1099.197488794634,989.6604329138404,1171.2521688572874,972.9172696254129,1239.0423595909463,813.0424990636985,1118.6569616828326,981.1221408465478,1179.1823546795022,1141.3470899378917,1107.580556099073,917.0619895976895,982.7103523181895,1234.5658248647192,1139.8184278896447,854.6029136306081,815.0028940922056,1160.220520881894,1177.9324603297491,1095.5333819350656,909.9904519035077,1124.9422298917111,948.4178768186654,821.07657524818,1300.5967501210469,1347.39942779909,746.0560025601537,987.3889434689684,1370.530246511273,1138.7870539491757,1244.7380108537523,1042.251611311968,1133.6257402688445,895.7923367710846,1129.529257329434,1280.0914064636447,1063.845195595103,1081.9252993619816,1185.856908274032,872.7767190346725,1237.0546500884006,1221.9299791636142,1297.332832587109,1131.8389171530287,1232.326258871456,777.6308223908411,1313.399650035096,1096.1115738925823,930.6377436515966,1202.2235412000618,1059.6284732120007,1138.0219231672124,1246.2932024790432,1413.3903285919303,784.8382912480381,1011.7523184358927,870.5815850696715,1068.2282602966925,1239.1888998038576,952.6834540006178,1236.683634079449,1210.691110247409,1060.998416171091,984.0503843889235,1100.6792160503555,1377.4583239784092,1149.3075289070714,970.3178704859885,836.9527093335955,917.3403714792324,877.669748536469,1173.508759939958,1239.8875723768288,1184.7852073189827,1176.258650638041,1263.196637869301,1047.286407055921,1258.418739001077,1256.6715092990078,1260.0498115207574,1270.9534867629613,934.7820767456733,1100.8307104451048,1310.1358209818163,1212.8951592688352,1096.4607434208683,1227.2165612126262,939.5860121382226,945.4120361762441,974.4893836623844,1010.8285444143753,1189.0594016792477,1121.4234708530823,1235.7048522731625,1029.3825611340694,1079.6150851435189,1081.1600224512629,1024.1242259303017,1255.296638318593,883.3368383190925,1239.6524581549284,1211.3186664140653,1286.6530958422197,1276.0842266868767,1028.0898301934462,902.2718897225236,1368.4811799273639,1325.177130049513,1125.1250742875059,1018.6156150749797,1148.7225553888595,1103.4632334326905,1291.878729182981,838.8722305095171,1023.076028831874,1177.9913454853438,977.0370502706296,1071.0669594835429,1051.020031948103,1077.7883849027794,1032.7705150434413,1258.7113841030416,1112.722681313149,1308.4710540411902,795.1868309986078,1266.7501270877144,1025.8953195707923,983.4063441155761,987.2900892656074,968.8371702471212,1009.4784021093033,1037.58972273892,1124.4110617605188,1018.6670323584204,1151.492648027183,1189.5086522805263,1404.0333590113175,975.7768589507341,1043.0709456419977,1260.6151695097283,1130.4592414327572,1298.310491143481,959.5274212905987,1142.8319662242204,1075.0470684246093,909.1113463468125,1138.0964334862376,1067.1483528673068,1075.7098701188459,998.2106065712036,1322.031468779101,1172.5878342324404,940.5947025894781,744.1267500321237,1391.0542570771572,1034.5647941111022,994.740413927096,787.9214760741027,869.1407998973182,1152.0923885604025,1093.2672878750022,848.8555316286083,1050.3544836888175,779.9805617811927,1043.7312668213194,1035.5251988022997,989.2422804109467,1195.8577864607319,1144.6125139076862,1233.9628206779973,1304.1392926489386,1403.4663905057005,1072.2875354216144,1079.7199118811022,821.7197347794809,1113.925877539503,938.5937038482183,1231.1784589962579,1153.0700399779644,985.0771035680294,1043.3424375212019,1098.4245751771568,1238.7801037891682,1163.774874193606,1214.9920537806854,1216.999100927583,1090.909309908422,1128.4883300317447,1073.5517019957958,1113.9318009081392,1004.0963204564055,1199.3926757545887,964.2224715739158,1166.944033471074,1236.286821712388,1334.1200181137815,1018.9471392797157,1108.7477684201046,1172.924894883609,1115.9417473894202,1165.6839469012561,1274.4785891794486,1198.0091673723916,1039.393046322422,1371.377473912105,1164.2553350172288,1304.7488847645843,881.459995540999,900.2864792062977,1049.5608964563828,1261.4220923617734,929.378255626408,1078.195651991862,1243.247028675874,1259.2418177281747,1278.4833409255798,890.8457573288799,1295.8516232387901],\"yaxis\":\"y\",\"type\":\"scatter\"}],                        {\"template\":{\"data\":{\"bar\":[{\"error_x\":{\"color\":\"#2a3f5f\"},\"error_y\":{\"color\":\"#2a3f5f\"},\"marker\":{\"line\":{\"color\":\"#E5ECF6\",\"width\":0.5},\"pattern\":{\"fillmode\":\"overlay\",\"size\":10,\"solidity\":0.2}},\"type\":\"bar\"}],\"barpolar\":[{\"marker\":{\"line\":{\"color\":\"#E5ECF6\",\"width\":0.5},\"pattern\":{\"fillmode\":\"overlay\",\"size\":10,\"solidity\":0.2}},\"type\":\"barpolar\"}],\"carpet\":[{\"aaxis\":{\"endlinecolor\":\"#2a3f5f\",\"gridcolor\":\"white\",\"linecolor\":\"white\",\"minorgridcolor\":\"white\",\"startlinecolor\":\"#2a3f5f\"},\"baxis\":{\"endlinecolor\":\"#2a3f5f\",\"gridcolor\":\"white\",\"linecolor\":\"white\",\"minorgridcolor\":\"white\",\"startlinecolor\":\"#2a3f5f\"},\"type\":\"carpet\"}],\"choropleth\":[{\"colorbar\":{\"outlinewidth\":0,\"ticks\":\"\"},\"type\":\"choropleth\"}],\"contour\":[{\"colorbar\":{\"outlinewidth\":0,\"ticks\":\"\"},\"colorscale\":[[0.0,\"#0d0887\"],[0.1111111111111111,\"#46039f\"],[0.2222222222222222,\"#7201a8\"],[0.3333333333333333,\"#9c179e\"],[0.4444444444444444,\"#bd3786\"],[0.5555555555555556,\"#d8576b\"],[0.6666666666666666,\"#ed7953\"],[0.7777777777777778,\"#fb9f3a\"],[0.8888888888888888,\"#fdca26\"],[1.0,\"#f0f921\"]],\"type\":\"contour\"}],\"contourcarpet\":[{\"colorbar\":{\"outlinewidth\":0,\"ticks\":\"\"},\"type\":\"contourcarpet\"}],\"heatmap\":[{\"colorbar\":{\"outlinewidth\":0,\"ticks\":\"\"},\"colorscale\":[[0.0,\"#0d0887\"],[0.1111111111111111,\"#46039f\"],[0.2222222222222222,\"#7201a8\"],[0.3333333333333333,\"#9c179e\"],[0.4444444444444444,\"#bd3786\"],[0.5555555555555556,\"#d8576b\"],[0.6666666666666666,\"#ed7953\"],[0.7777777777777778,\"#fb9f3a\"],[0.8888888888888888,\"#fdca26\"],[1.0,\"#f0f921\"]],\"type\":\"heatmap\"}],\"heatmapgl\":[{\"colorbar\":{\"outlinewidth\":0,\"ticks\":\"\"},\"colorscale\":[[0.0,\"#0d0887\"],[0.1111111111111111,\"#46039f\"],[0.2222222222222222,\"#7201a8\"],[0.3333333333333333,\"#9c179e\"],[0.4444444444444444,\"#bd3786\"],[0.5555555555555556,\"#d8576b\"],[0.6666666666666666,\"#ed7953\"],[0.7777777777777778,\"#fb9f3a\"],[0.8888888888888888,\"#fdca26\"],[1.0,\"#f0f921\"]],\"type\":\"heatmapgl\"}],\"histogram\":[{\"marker\":{\"pattern\":{\"fillmode\":\"overlay\",\"size\":10,\"solidity\":0.2}},\"type\":\"histogram\"}],\"histogram2d\":[{\"colorbar\":{\"outlinewidth\":0,\"ticks\":\"\"},\"colorscale\":[[0.0,\"#0d0887\"],[0.1111111111111111,\"#46039f\"],[0.2222222222222222,\"#7201a8\"],[0.3333333333333333,\"#9c179e\"],[0.4444444444444444,\"#bd3786\"],[0.5555555555555556,\"#d8576b\"],[0.6666666666666666,\"#ed7953\"],[0.7777777777777778,\"#fb9f3a\"],[0.8888888888888888,\"#fdca26\"],[1.0,\"#f0f921\"]],\"type\":\"histogram2d\"}],\"histogram2dcontour\":[{\"colorbar\":{\"outlinewidth\":0,\"ticks\":\"\"},\"colorscale\":[[0.0,\"#0d0887\"],[0.1111111111111111,\"#46039f\"],[0.2222222222222222,\"#7201a8\"],[0.3333333333333333,\"#9c179e\"],[0.4444444444444444,\"#bd3786\"],[0.5555555555555556,\"#d8576b\"],[0.6666666666666666,\"#ed7953\"],[0.7777777777777778,\"#fb9f3a\"],[0.8888888888888888,\"#fdca26\"],[1.0,\"#f0f921\"]],\"type\":\"histogram2dcontour\"}],\"mesh3d\":[{\"colorbar\":{\"outlinewidth\":0,\"ticks\":\"\"},\"type\":\"mesh3d\"}],\"parcoords\":[{\"line\":{\"colorbar\":{\"outlinewidth\":0,\"ticks\":\"\"}},\"type\":\"parcoords\"}],\"pie\":[{\"automargin\":true,\"type\":\"pie\"}],\"scatter\":[{\"marker\":{\"colorbar\":{\"outlinewidth\":0,\"ticks\":\"\"}},\"type\":\"scatter\"}],\"scatter3d\":[{\"line\":{\"colorbar\":{\"outlinewidth\":0,\"ticks\":\"\"}},\"marker\":{\"colorbar\":{\"outlinewidth\":0,\"ticks\":\"\"}},\"type\":\"scatter3d\"}],\"scattercarpet\":[{\"marker\":{\"colorbar\":{\"outlinewidth\":0,\"ticks\":\"\"}},\"type\":\"scattercarpet\"}],\"scattergeo\":[{\"marker\":{\"colorbar\":{\"outlinewidth\":0,\"ticks\":\"\"}},\"type\":\"scattergeo\"}],\"scattergl\":[{\"marker\":{\"colorbar\":{\"outlinewidth\":0,\"ticks\":\"\"}},\"type\":\"scattergl\"}],\"scattermapbox\":[{\"marker\":{\"colorbar\":{\"outlinewidth\":0,\"ticks\":\"\"}},\"type\":\"scattermapbox\"}],\"scatterpolar\":[{\"marker\":{\"colorbar\":{\"outlinewidth\":0,\"ticks\":\"\"}},\"type\":\"scatterpolar\"}],\"scatterpolargl\":[{\"marker\":{\"colorbar\":{\"outlinewidth\":0,\"ticks\":\"\"}},\"type\":\"scatterpolargl\"}],\"scatterternary\":[{\"marker\":{\"colorbar\":{\"outlinewidth\":0,\"ticks\":\"\"}},\"type\":\"scatterternary\"}],\"surface\":[{\"colorbar\":{\"outlinewidth\":0,\"ticks\":\"\"},\"colorscale\":[[0.0,\"#0d0887\"],[0.1111111111111111,\"#46039f\"],[0.2222222222222222,\"#7201a8\"],[0.3333333333333333,\"#9c179e\"],[0.4444444444444444,\"#bd3786\"],[0.5555555555555556,\"#d8576b\"],[0.6666666666666666,\"#ed7953\"],[0.7777777777777778,\"#fb9f3a\"],[0.8888888888888888,\"#fdca26\"],[1.0,\"#f0f921\"]],\"type\":\"surface\"}],\"table\":[{\"cells\":{\"fill\":{\"color\":\"#EBF0F8\"},\"line\":{\"color\":\"white\"}},\"header\":{\"fill\":{\"color\":\"#C8D4E3\"},\"line\":{\"color\":\"white\"}},\"type\":\"table\"}]},\"layout\":{\"annotationdefaults\":{\"arrowcolor\":\"#2a3f5f\",\"arrowhead\":0,\"arrowwidth\":1},\"autotypenumbers\":\"strict\",\"coloraxis\":{\"colorbar\":{\"outlinewidth\":0,\"ticks\":\"\"}},\"colorscale\":{\"diverging\":[[0,\"#8e0152\"],[0.1,\"#c51b7d\"],[0.2,\"#de77ae\"],[0.3,\"#f1b6da\"],[0.4,\"#fde0ef\"],[0.5,\"#f7f7f7\"],[0.6,\"#e6f5d0\"],[0.7,\"#b8e186\"],[0.8,\"#7fbc41\"],[0.9,\"#4d9221\"],[1,\"#276419\"]],\"sequential\":[[0.0,\"#0d0887\"],[0.1111111111111111,\"#46039f\"],[0.2222222222222222,\"#7201a8\"],[0.3333333333333333,\"#9c179e\"],[0.4444444444444444,\"#bd3786\"],[0.5555555555555556,\"#d8576b\"],[0.6666666666666666,\"#ed7953\"],[0.7777777777777778,\"#fb9f3a\"],[0.8888888888888888,\"#fdca26\"],[1.0,\"#f0f921\"]],\"sequentialminus\":[[0.0,\"#0d0887\"],[0.1111111111111111,\"#46039f\"],[0.2222222222222222,\"#7201a8\"],[0.3333333333333333,\"#9c179e\"],[0.4444444444444444,\"#bd3786\"],[0.5555555555555556,\"#d8576b\"],[0.6666666666666666,\"#ed7953\"],[0.7777777777777778,\"#fb9f3a\"],[0.8888888888888888,\"#fdca26\"],[1.0,\"#f0f921\"]]},\"colorway\":[\"#636efa\",\"#EF553B\",\"#00cc96\",\"#ab63fa\",\"#FFA15A\",\"#19d3f3\",\"#FF6692\",\"#B6E880\",\"#FF97FF\",\"#FECB52\"],\"font\":{\"color\":\"#2a3f5f\"},\"geo\":{\"bgcolor\":\"white\",\"lakecolor\":\"white\",\"landcolor\":\"#E5ECF6\",\"showlakes\":true,\"showland\":true,\"subunitcolor\":\"white\"},\"hoverlabel\":{\"align\":\"left\"},\"hovermode\":\"closest\",\"mapbox\":{\"style\":\"light\"},\"paper_bgcolor\":\"white\",\"plot_bgcolor\":\"#E5ECF6\",\"polar\":{\"angularaxis\":{\"gridcolor\":\"white\",\"linecolor\":\"white\",\"ticks\":\"\"},\"bgcolor\":\"#E5ECF6\",\"radialaxis\":{\"gridcolor\":\"white\",\"linecolor\":\"white\",\"ticks\":\"\"}},\"scene\":{\"xaxis\":{\"backgroundcolor\":\"#E5ECF6\",\"gridcolor\":\"white\",\"gridwidth\":2,\"linecolor\":\"white\",\"showbackground\":true,\"ticks\":\"\",\"zerolinecolor\":\"white\"},\"yaxis\":{\"backgroundcolor\":\"#E5ECF6\",\"gridcolor\":\"white\",\"gridwidth\":2,\"linecolor\":\"white\",\"showbackground\":true,\"ticks\":\"\",\"zerolinecolor\":\"white\"},\"zaxis\":{\"backgroundcolor\":\"#E5ECF6\",\"gridcolor\":\"white\",\"gridwidth\":2,\"linecolor\":\"white\",\"showbackground\":true,\"ticks\":\"\",\"zerolinecolor\":\"white\"}},\"shapedefaults\":{\"line\":{\"color\":\"#2a3f5f\"}},\"ternary\":{\"aaxis\":{\"gridcolor\":\"white\",\"linecolor\":\"white\",\"ticks\":\"\"},\"baxis\":{\"gridcolor\":\"white\",\"linecolor\":\"white\",\"ticks\":\"\"},\"bgcolor\":\"#E5ECF6\",\"caxis\":{\"gridcolor\":\"white\",\"linecolor\":\"white\",\"ticks\":\"\"}},\"title\":{\"x\":0.05},\"xaxis\":{\"automargin\":true,\"gridcolor\":\"white\",\"linecolor\":\"white\",\"ticks\":\"\",\"title\":{\"standoff\":15},\"zerolinecolor\":\"white\",\"zerolinewidth\":2},\"yaxis\":{\"automargin\":true,\"gridcolor\":\"white\",\"linecolor\":\"white\",\"ticks\":\"\",\"title\":{\"standoff\":15},\"zerolinecolor\":\"white\",\"zerolinewidth\":2}}},\"xaxis\":{\"anchor\":\"y\",\"domain\":[0.0,1.0],\"title\":{\"text\":\"Observed Titer\"}},\"yaxis\":{\"anchor\":\"x\",\"domain\":[0.0,1.0],\"title\":{\"text\":\"Predicted Titer\"}},\"legend\":{\"tracegroupgap\":0},\"title\":{\"text\":\"Observed vs Predicted on Train Set\"},\"shapes\":[{\"layer\":\"below\",\"type\":\"line\",\"x0\":0,\"x1\":1,\"xref\":\"paper\",\"y0\":0,\"y1\":1,\"yref\":\"paper\"}]},                        {\"responsive\": true}                    ).then(function(){\n",
              "                            \n",
              "var gd = document.getElementById('5c9be4a1-120c-4449-b8eb-a6cfdc7565b5');\n",
              "var x = new MutationObserver(function (mutations, observer) {{\n",
              "        var display = window.getComputedStyle(gd).display;\n",
              "        if (!display || display === 'none') {{\n",
              "            console.log([gd, 'removed!']);\n",
              "            Plotly.purge(gd);\n",
              "            observer.disconnect();\n",
              "        }}\n",
              "}});\n",
              "\n",
              "// Listen for the removal of the full notebook cells\n",
              "var notebookContainer = gd.closest('#notebook-container');\n",
              "if (notebookContainer) {{\n",
              "    x.observe(notebookContainer, {childList: true});\n",
              "}}\n",
              "\n",
              "// Listen for the clearing of the current output cell\n",
              "var outputEl = gd.closest('.output');\n",
              "if (outputEl) {{\n",
              "    x.observe(outputEl, {childList: true});\n",
              "}}\n",
              "\n",
              "                        })                };                            </script>        </div>\n",
              "</body>\n",
              "</html>"
            ]
          },
          "metadata": {}
        }
      ]
    },
    {
      "cell_type": "code",
      "source": [
        "# Absolute RMSE\n",
        "rmse_abs = mean_squared_error(y_test, yhat_test,squared=False)\n",
        "print('Absolute RMSE: ',rmse_abs)\n",
        "# Relative RMSE\n",
        "rmse_rel = mean_squared_error(y_test, yhat_test,squared=False) / np.std(y_test.values)\n",
        "print('Relative RMSE: ',rmse_rel)"
      ],
      "metadata": {
        "id": "ZasZVPBOy1P6",
        "outputId": "30de95c7-51ae-4a3b-b4c4-a0816efc5de0",
        "colab": {
          "base_uri": "https://localhost:8080/"
        }
      },
      "execution_count": 96,
      "outputs": [
        {
          "output_type": "stream",
          "name": "stdout",
          "text": [
            "Absolute RMSE:  332.0290754224323\n",
            "Relative RMSE:  0.9485254690101602\n"
          ]
        }
      ]
    },
    {
      "cell_type": "markdown",
      "source": [
        "## PLS Model\n",
        "\n",
        "In this section, we train a PLS1 model with the data loaded in the section above.\n"
      ],
      "metadata": {
        "id": "3C7-mXh8H1P6"
      }
    },
    {
      "cell_type": "markdown",
      "source": [
        "### Select number of latent variables\n",
        "\n",
        "Create a PLS model to predict the value of the final titer given the initial conditions.\n",
        "\n",
        "* Input matrix: \"DoE_nondim\". This corresponds to the non-dimensional values of the manipulated variables for each experiment.\n",
        "* Output target: \"f_DoE\". This corresponds to the final value of titer at the end of each experiment.\n",
        "\n",
        "Select the number of latent variables for the model (the maximum number of latent variables is 5, equal to the number of variables in the input matrix).\n",
        "\n",
        "\n",
        "\n"
      ],
      "metadata": {
        "id": "gPSnjAS5IGW6"
      }
    },
    {
      "cell_type": "code",
      "source": [
        "# Number of latent variables\n",
        "N_LV = 2"
      ],
      "metadata": {
        "id": "OgBkwZQ0ItJU"
      },
      "execution_count": 101,
      "outputs": []
    },
    {
      "cell_type": "markdown",
      "source": [
        "### Train the PLS model\n",
        "\n",
        "Here we train the PLS1 model with final titer as our response"
      ],
      "metadata": {
        "id": "durqeoZiLfUN"
      }
    },
    {
      "cell_type": "code",
      "source": [
        "# Train PLS model\n",
        "pls = PLSRegression(n_components=N_LV)\n",
        "pls.fit(doe, y)\n",
        "\n",
        "# Plot observed vs predicted\n",
        "yhat = pls.predict(doe).reshape(len(y))\n",
        "fig = px.scatter(x=y.values.reshape(len(yhat)),y=yhat,labels=dict(x=\"Observed Titer\", y=\"Predicted Titer\"), title=\"Observed vs Predicted on Train Set\")\n",
        "fig.update_layout(shapes = [{'type': 'line', 'yref': 'paper', 'xref': 'paper', 'y0': 0, 'y1': 1, 'x0': 0, 'x1': 1, 'layer': 'below'}])\n",
        "fig.show()"
      ],
      "metadata": {
        "id": "u2RWJm8QI81j",
        "outputId": "1acd6955-6d11-47d6-a0db-b8f30120b38d",
        "colab": {
          "base_uri": "https://localhost:8080/",
          "height": 542
        }
      },
      "execution_count": 104,
      "outputs": [
        {
          "output_type": "display_data",
          "data": {
            "text/html": [
              "<html>\n",
              "<head><meta charset=\"utf-8\" /></head>\n",
              "<body>\n",
              "    <div>            <script src=\"https://cdnjs.cloudflare.com/ajax/libs/mathjax/2.7.5/MathJax.js?config=TeX-AMS-MML_SVG\"></script><script type=\"text/javascript\">if (window.MathJax) {MathJax.Hub.Config({SVG: {font: \"STIX-Web\"}});}</script>                <script type=\"text/javascript\">window.PlotlyConfig = {MathJaxConfig: 'local'};</script>\n",
              "        <script src=\"https://cdn.plot.ly/plotly-2.8.3.min.js\"></script>                <div id=\"6b64f3f0-004a-4bac-b2bd-7b535de4fde6\" class=\"plotly-graph-div\" style=\"height:525px; width:100%;\"></div>            <script type=\"text/javascript\">                                    window.PLOTLYENV=window.PLOTLYENV || {};                                    if (document.getElementById(\"6b64f3f0-004a-4bac-b2bd-7b535de4fde6\")) {                    Plotly.newPlot(                        \"6b64f3f0-004a-4bac-b2bd-7b535de4fde6\",                        [{\"hovertemplate\":\"Observed Titer=%{x}<br>Predicted Titer=%{y}<extra></extra>\",\"legendgroup\":\"\",\"marker\":{\"color\":\"#636efa\",\"symbol\":\"circle\"},\"mode\":\"markers\",\"name\":\"\",\"orientation\":\"v\",\"showlegend\":false,\"x\":[1311.1,1056.1,993.78,415.18,846.94,678.6,942.6,1124.2,1467.3,852.45,1449.3,1420.9,983.21,1458.5,1515.4,564.49,1296.8,775.63,1389.2,879.9,528.89,1505.0,1376.3,1199.6,1420.3,599.94,1495.9,580.07,395.92,1269.9,293.8,1295.2,733.33,601.62,1422.9,974.84,601.75,552.03,642.17,577.28,1497.2,1492.9,1349.8,533.16,1439.6,1432.7,1094.9,1077.6,759.86,564.01,809.71,649.04,1466.0,1370.8,1462.8,1490.5,645.69,1133.3,1533.9,1303.6,1109.5,1532.0,938.24,566.1,1301.8,965.96,1177.8,1483.4,1340.9,1432.3,1260.4,1007.3,1353.1,1324.0,1218.4,1410.1,1047.0,739.16,1506.0,1289.4,1144.4,1272.8,1011.0,1194.2,1015.0,1413.1,1489.4,1037.4,603.76,1528.9,824.74,1437.1,1317.1,1405.5,609.23,951.19,1505.1,1371.7,1408.5,1455.3],\"xaxis\":\"x\",\"y\":[1220.7280015333226,1332.1085499524143,1125.8047251962685,822.3893783392044,1087.8660712625356,858.0260781999641,1092.2385245277371,1250.7919457918185,1213.9493964960323,1037.6789388546938,1151.8865144040126,1198.7804891413648,1162.6687459729585,1112.286042824345,1194.819318474573,1097.2826520730387,1222.132093058576,1166.303891038854,1145.5763643119958,1045.6500233364773,1017.9047430408817,1268.9777044370962,1027.619201707687,913.7577645042003,946.0691287333883,1169.4714297568576,1063.1990790650693,985.9283103387363,852.5538943942192,1308.439899222727,1028.0324174228685,1157.4894921166833,992.3521892250671,780.8485048741766,1132.9331370274958,1226.9814273394911,711.9390658592938,946.7966603068925,761.2279515209259,1112.9135582034946,920.0274192436482,1229.1771173178913,817.7446319052408,1095.2103352055594,1108.5378300619075,1211.8333353996213,856.6753659329639,1182.963055811069,1087.1378277567017,1142.8346802112158,1232.7488360174425,958.3868048154053,1191.4811953749127,1266.8409489275011,1285.7383225453755,1178.73116591319,998.4975749786591,1441.5003784579953,1101.082575212548,1002.6729340317845,1287.5219889772413,1201.0011654631207,1171.3108956834683,992.7449056950102,1021.4018550341264,848.6432354740516,1077.6042534281844,1450.0409578132378,1267.5463405875707,1292.2343510423582,1213.900638410539,1038.9341640717723,1070.0519511610148,1103.7932348929435,1051.2446882270788,1268.2618873405481,912.6851723132482,1245.4841233874206,1035.3397373575579,1141.1571059724229,1142.23130814923,1143.4194263351615,1177.0238997837675,1268.6831808171944,931.7128551512565,1113.5499774483417,1440.769047150395,1054.656813177644,963.9005605698138,1150.6253694944935,1206.96517210467,1091.419320547531,1243.9732661572525,1233.2819763491248,1223.5062560765164,1014.4888563514286,1014.0192688082519,1166.743848976697,1023.4957893846522,1044.075515825588],\"yaxis\":\"y\",\"type\":\"scatter\"}],                        {\"template\":{\"data\":{\"bar\":[{\"error_x\":{\"color\":\"#2a3f5f\"},\"error_y\":{\"color\":\"#2a3f5f\"},\"marker\":{\"line\":{\"color\":\"#E5ECF6\",\"width\":0.5},\"pattern\":{\"fillmode\":\"overlay\",\"size\":10,\"solidity\":0.2}},\"type\":\"bar\"}],\"barpolar\":[{\"marker\":{\"line\":{\"color\":\"#E5ECF6\",\"width\":0.5},\"pattern\":{\"fillmode\":\"overlay\",\"size\":10,\"solidity\":0.2}},\"type\":\"barpolar\"}],\"carpet\":[{\"aaxis\":{\"endlinecolor\":\"#2a3f5f\",\"gridcolor\":\"white\",\"linecolor\":\"white\",\"minorgridcolor\":\"white\",\"startlinecolor\":\"#2a3f5f\"},\"baxis\":{\"endlinecolor\":\"#2a3f5f\",\"gridcolor\":\"white\",\"linecolor\":\"white\",\"minorgridcolor\":\"white\",\"startlinecolor\":\"#2a3f5f\"},\"type\":\"carpet\"}],\"choropleth\":[{\"colorbar\":{\"outlinewidth\":0,\"ticks\":\"\"},\"type\":\"choropleth\"}],\"contour\":[{\"colorbar\":{\"outlinewidth\":0,\"ticks\":\"\"},\"colorscale\":[[0.0,\"#0d0887\"],[0.1111111111111111,\"#46039f\"],[0.2222222222222222,\"#7201a8\"],[0.3333333333333333,\"#9c179e\"],[0.4444444444444444,\"#bd3786\"],[0.5555555555555556,\"#d8576b\"],[0.6666666666666666,\"#ed7953\"],[0.7777777777777778,\"#fb9f3a\"],[0.8888888888888888,\"#fdca26\"],[1.0,\"#f0f921\"]],\"type\":\"contour\"}],\"contourcarpet\":[{\"colorbar\":{\"outlinewidth\":0,\"ticks\":\"\"},\"type\":\"contourcarpet\"}],\"heatmap\":[{\"colorbar\":{\"outlinewidth\":0,\"ticks\":\"\"},\"colorscale\":[[0.0,\"#0d0887\"],[0.1111111111111111,\"#46039f\"],[0.2222222222222222,\"#7201a8\"],[0.3333333333333333,\"#9c179e\"],[0.4444444444444444,\"#bd3786\"],[0.5555555555555556,\"#d8576b\"],[0.6666666666666666,\"#ed7953\"],[0.7777777777777778,\"#fb9f3a\"],[0.8888888888888888,\"#fdca26\"],[1.0,\"#f0f921\"]],\"type\":\"heatmap\"}],\"heatmapgl\":[{\"colorbar\":{\"outlinewidth\":0,\"ticks\":\"\"},\"colorscale\":[[0.0,\"#0d0887\"],[0.1111111111111111,\"#46039f\"],[0.2222222222222222,\"#7201a8\"],[0.3333333333333333,\"#9c179e\"],[0.4444444444444444,\"#bd3786\"],[0.5555555555555556,\"#d8576b\"],[0.6666666666666666,\"#ed7953\"],[0.7777777777777778,\"#fb9f3a\"],[0.8888888888888888,\"#fdca26\"],[1.0,\"#f0f921\"]],\"type\":\"heatmapgl\"}],\"histogram\":[{\"marker\":{\"pattern\":{\"fillmode\":\"overlay\",\"size\":10,\"solidity\":0.2}},\"type\":\"histogram\"}],\"histogram2d\":[{\"colorbar\":{\"outlinewidth\":0,\"ticks\":\"\"},\"colorscale\":[[0.0,\"#0d0887\"],[0.1111111111111111,\"#46039f\"],[0.2222222222222222,\"#7201a8\"],[0.3333333333333333,\"#9c179e\"],[0.4444444444444444,\"#bd3786\"],[0.5555555555555556,\"#d8576b\"],[0.6666666666666666,\"#ed7953\"],[0.7777777777777778,\"#fb9f3a\"],[0.8888888888888888,\"#fdca26\"],[1.0,\"#f0f921\"]],\"type\":\"histogram2d\"}],\"histogram2dcontour\":[{\"colorbar\":{\"outlinewidth\":0,\"ticks\":\"\"},\"colorscale\":[[0.0,\"#0d0887\"],[0.1111111111111111,\"#46039f\"],[0.2222222222222222,\"#7201a8\"],[0.3333333333333333,\"#9c179e\"],[0.4444444444444444,\"#bd3786\"],[0.5555555555555556,\"#d8576b\"],[0.6666666666666666,\"#ed7953\"],[0.7777777777777778,\"#fb9f3a\"],[0.8888888888888888,\"#fdca26\"],[1.0,\"#f0f921\"]],\"type\":\"histogram2dcontour\"}],\"mesh3d\":[{\"colorbar\":{\"outlinewidth\":0,\"ticks\":\"\"},\"type\":\"mesh3d\"}],\"parcoords\":[{\"line\":{\"colorbar\":{\"outlinewidth\":0,\"ticks\":\"\"}},\"type\":\"parcoords\"}],\"pie\":[{\"automargin\":true,\"type\":\"pie\"}],\"scatter\":[{\"marker\":{\"colorbar\":{\"outlinewidth\":0,\"ticks\":\"\"}},\"type\":\"scatter\"}],\"scatter3d\":[{\"line\":{\"colorbar\":{\"outlinewidth\":0,\"ticks\":\"\"}},\"marker\":{\"colorbar\":{\"outlinewidth\":0,\"ticks\":\"\"}},\"type\":\"scatter3d\"}],\"scattercarpet\":[{\"marker\":{\"colorbar\":{\"outlinewidth\":0,\"ticks\":\"\"}},\"type\":\"scattercarpet\"}],\"scattergeo\":[{\"marker\":{\"colorbar\":{\"outlinewidth\":0,\"ticks\":\"\"}},\"type\":\"scattergeo\"}],\"scattergl\":[{\"marker\":{\"colorbar\":{\"outlinewidth\":0,\"ticks\":\"\"}},\"type\":\"scattergl\"}],\"scattermapbox\":[{\"marker\":{\"colorbar\":{\"outlinewidth\":0,\"ticks\":\"\"}},\"type\":\"scattermapbox\"}],\"scatterpolar\":[{\"marker\":{\"colorbar\":{\"outlinewidth\":0,\"ticks\":\"\"}},\"type\":\"scatterpolar\"}],\"scatterpolargl\":[{\"marker\":{\"colorbar\":{\"outlinewidth\":0,\"ticks\":\"\"}},\"type\":\"scatterpolargl\"}],\"scatterternary\":[{\"marker\":{\"colorbar\":{\"outlinewidth\":0,\"ticks\":\"\"}},\"type\":\"scatterternary\"}],\"surface\":[{\"colorbar\":{\"outlinewidth\":0,\"ticks\":\"\"},\"colorscale\":[[0.0,\"#0d0887\"],[0.1111111111111111,\"#46039f\"],[0.2222222222222222,\"#7201a8\"],[0.3333333333333333,\"#9c179e\"],[0.4444444444444444,\"#bd3786\"],[0.5555555555555556,\"#d8576b\"],[0.6666666666666666,\"#ed7953\"],[0.7777777777777778,\"#fb9f3a\"],[0.8888888888888888,\"#fdca26\"],[1.0,\"#f0f921\"]],\"type\":\"surface\"}],\"table\":[{\"cells\":{\"fill\":{\"color\":\"#EBF0F8\"},\"line\":{\"color\":\"white\"}},\"header\":{\"fill\":{\"color\":\"#C8D4E3\"},\"line\":{\"color\":\"white\"}},\"type\":\"table\"}]},\"layout\":{\"annotationdefaults\":{\"arrowcolor\":\"#2a3f5f\",\"arrowhead\":0,\"arrowwidth\":1},\"autotypenumbers\":\"strict\",\"coloraxis\":{\"colorbar\":{\"outlinewidth\":0,\"ticks\":\"\"}},\"colorscale\":{\"diverging\":[[0,\"#8e0152\"],[0.1,\"#c51b7d\"],[0.2,\"#de77ae\"],[0.3,\"#f1b6da\"],[0.4,\"#fde0ef\"],[0.5,\"#f7f7f7\"],[0.6,\"#e6f5d0\"],[0.7,\"#b8e186\"],[0.8,\"#7fbc41\"],[0.9,\"#4d9221\"],[1,\"#276419\"]],\"sequential\":[[0.0,\"#0d0887\"],[0.1111111111111111,\"#46039f\"],[0.2222222222222222,\"#7201a8\"],[0.3333333333333333,\"#9c179e\"],[0.4444444444444444,\"#bd3786\"],[0.5555555555555556,\"#d8576b\"],[0.6666666666666666,\"#ed7953\"],[0.7777777777777778,\"#fb9f3a\"],[0.8888888888888888,\"#fdca26\"],[1.0,\"#f0f921\"]],\"sequentialminus\":[[0.0,\"#0d0887\"],[0.1111111111111111,\"#46039f\"],[0.2222222222222222,\"#7201a8\"],[0.3333333333333333,\"#9c179e\"],[0.4444444444444444,\"#bd3786\"],[0.5555555555555556,\"#d8576b\"],[0.6666666666666666,\"#ed7953\"],[0.7777777777777778,\"#fb9f3a\"],[0.8888888888888888,\"#fdca26\"],[1.0,\"#f0f921\"]]},\"colorway\":[\"#636efa\",\"#EF553B\",\"#00cc96\",\"#ab63fa\",\"#FFA15A\",\"#19d3f3\",\"#FF6692\",\"#B6E880\",\"#FF97FF\",\"#FECB52\"],\"font\":{\"color\":\"#2a3f5f\"},\"geo\":{\"bgcolor\":\"white\",\"lakecolor\":\"white\",\"landcolor\":\"#E5ECF6\",\"showlakes\":true,\"showland\":true,\"subunitcolor\":\"white\"},\"hoverlabel\":{\"align\":\"left\"},\"hovermode\":\"closest\",\"mapbox\":{\"style\":\"light\"},\"paper_bgcolor\":\"white\",\"plot_bgcolor\":\"#E5ECF6\",\"polar\":{\"angularaxis\":{\"gridcolor\":\"white\",\"linecolor\":\"white\",\"ticks\":\"\"},\"bgcolor\":\"#E5ECF6\",\"radialaxis\":{\"gridcolor\":\"white\",\"linecolor\":\"white\",\"ticks\":\"\"}},\"scene\":{\"xaxis\":{\"backgroundcolor\":\"#E5ECF6\",\"gridcolor\":\"white\",\"gridwidth\":2,\"linecolor\":\"white\",\"showbackground\":true,\"ticks\":\"\",\"zerolinecolor\":\"white\"},\"yaxis\":{\"backgroundcolor\":\"#E5ECF6\",\"gridcolor\":\"white\",\"gridwidth\":2,\"linecolor\":\"white\",\"showbackground\":true,\"ticks\":\"\",\"zerolinecolor\":\"white\"},\"zaxis\":{\"backgroundcolor\":\"#E5ECF6\",\"gridcolor\":\"white\",\"gridwidth\":2,\"linecolor\":\"white\",\"showbackground\":true,\"ticks\":\"\",\"zerolinecolor\":\"white\"}},\"shapedefaults\":{\"line\":{\"color\":\"#2a3f5f\"}},\"ternary\":{\"aaxis\":{\"gridcolor\":\"white\",\"linecolor\":\"white\",\"ticks\":\"\"},\"baxis\":{\"gridcolor\":\"white\",\"linecolor\":\"white\",\"ticks\":\"\"},\"bgcolor\":\"#E5ECF6\",\"caxis\":{\"gridcolor\":\"white\",\"linecolor\":\"white\",\"ticks\":\"\"}},\"title\":{\"x\":0.05},\"xaxis\":{\"automargin\":true,\"gridcolor\":\"white\",\"linecolor\":\"white\",\"ticks\":\"\",\"title\":{\"standoff\":15},\"zerolinecolor\":\"white\",\"zerolinewidth\":2},\"yaxis\":{\"automargin\":true,\"gridcolor\":\"white\",\"linecolor\":\"white\",\"ticks\":\"\",\"title\":{\"standoff\":15},\"zerolinecolor\":\"white\",\"zerolinewidth\":2}}},\"xaxis\":{\"anchor\":\"y\",\"domain\":[0.0,1.0],\"title\":{\"text\":\"Observed Titer\"}},\"yaxis\":{\"anchor\":\"x\",\"domain\":[0.0,1.0],\"title\":{\"text\":\"Predicted Titer\"}},\"legend\":{\"tracegroupgap\":0},\"title\":{\"text\":\"Observed vs Predicted on Train Set\"},\"shapes\":[{\"layer\":\"below\",\"type\":\"line\",\"x0\":0,\"x1\":1,\"xref\":\"paper\",\"y0\":0,\"y1\":1,\"yref\":\"paper\"}]},                        {\"responsive\": true}                    ).then(function(){\n",
              "                            \n",
              "var gd = document.getElementById('6b64f3f0-004a-4bac-b2bd-7b535de4fde6');\n",
              "var x = new MutationObserver(function (mutations, observer) {{\n",
              "        var display = window.getComputedStyle(gd).display;\n",
              "        if (!display || display === 'none') {{\n",
              "            console.log([gd, 'removed!']);\n",
              "            Plotly.purge(gd);\n",
              "            observer.disconnect();\n",
              "        }}\n",
              "}});\n",
              "\n",
              "// Listen for the removal of the full notebook cells\n",
              "var notebookContainer = gd.closest('#notebook-container');\n",
              "if (notebookContainer) {{\n",
              "    x.observe(notebookContainer, {childList: true});\n",
              "}}\n",
              "\n",
              "// Listen for the clearing of the current output cell\n",
              "var outputEl = gd.closest('.output');\n",
              "if (outputEl) {{\n",
              "    x.observe(outputEl, {childList: true});\n",
              "}}\n",
              "\n",
              "                        })                };                            </script>        </div>\n",
              "</body>\n",
              "</html>"
            ]
          },
          "metadata": {}
        }
      ]
    },
    {
      "cell_type": "markdown",
      "source": [
        "### Plot variance explained in the Y"
      ],
      "metadata": {
        "id": "75UqadR0JEXQ"
      }
    },
    {
      "cell_type": "code",
      "source": [
        "# TODO: explained variance plot"
      ],
      "metadata": {
        "id": "ZuBZRdV4JMgr"
      },
      "execution_count": null,
      "outputs": []
    },
    {
      "cell_type": "markdown",
      "source": [
        "### Evaluate model on test set\n"
      ],
      "metadata": {
        "id": "N17NSQ25JQ6P"
      }
    },
    {
      "cell_type": "code",
      "source": [
        "# Observed vs Predicted on Test Set\n",
        "yhat_test = pls.predict(doe_test).reshape(len(y_test))\n",
        "fig = px.scatter(x=y_test.values.reshape(len(yhat_test)),y=yhat_test,labels=dict(x=\"Observed Titer\", y=\"Predicted Titer\"), title=\"Observed vs Predicted on Train Set\")\n",
        "fig.update_layout(shapes = [{'type': 'line', 'yref': 'paper', 'xref': 'paper', 'y0': 0, 'y1': 1, 'x0': 0, 'x1': 1, 'layer': 'below'}])\n",
        "fig.show()"
      ],
      "metadata": {
        "id": "UV2s1482JgAU",
        "outputId": "e9894e9b-1e87-4206-d05d-dd5bf0f43ec7",
        "colab": {
          "base_uri": "https://localhost:8080/",
          "height": 542
        }
      },
      "execution_count": 106,
      "outputs": [
        {
          "output_type": "display_data",
          "data": {
            "text/html": [
              "<html>\n",
              "<head><meta charset=\"utf-8\" /></head>\n",
              "<body>\n",
              "    <div>            <script src=\"https://cdnjs.cloudflare.com/ajax/libs/mathjax/2.7.5/MathJax.js?config=TeX-AMS-MML_SVG\"></script><script type=\"text/javascript\">if (window.MathJax) {MathJax.Hub.Config({SVG: {font: \"STIX-Web\"}});}</script>                <script type=\"text/javascript\">window.PlotlyConfig = {MathJaxConfig: 'local'};</script>\n",
              "        <script src=\"https://cdn.plot.ly/plotly-2.8.3.min.js\"></script>                <div id=\"1966d6c1-143b-407a-a152-cae0f7d07281\" class=\"plotly-graph-div\" style=\"height:525px; width:100%;\"></div>            <script type=\"text/javascript\">                                    window.PLOTLYENV=window.PLOTLYENV || {};                                    if (document.getElementById(\"1966d6c1-143b-407a-a152-cae0f7d07281\")) {                    Plotly.newPlot(                        \"1966d6c1-143b-407a-a152-cae0f7d07281\",                        [{\"hovertemplate\":\"Observed Titer=%{x}<br>Predicted Titer=%{y}<extra></extra>\",\"legendgroup\":\"\",\"marker\":{\"color\":\"#636efa\",\"symbol\":\"circle\"},\"mode\":\"markers\",\"name\":\"\",\"orientation\":\"v\",\"showlegend\":false,\"x\":[1490.8,730.69,1177.7,1255.9,563.6,941.68,1131.5,1136.9,1302.1,1353.3,1461.9,1417.6,1480.1,595.13,676.88,1486.6,1282.5,895.78,765.17,1361.9,1196.5,744.82,939.39,1273.9,1218.4,1409.1,910.06,1505.6,1342.6,1515.2,651.05,877.21,1177.4,1056.8,945.05,1166.4,1360.3,916.36,798.15,1127.3,791.14,1130.1,1026.8,1212.2,892.91,777.73,742.06,1381.6,693.13,597.15,707.41,1408.9,488.03,1250.9,560.11,1122.3,976.54,1403.4,1114.4,974.38,1529.0,1155.6,1411.7,903.33,1489.5,1358.2,1509.0,1337.2,989.62,1445.6,959.34,702.59,1520.5,488.13,1459.6,1413.9,1496.0,485.92,1474.1,1486.4,1482.2,1266.4,1352.0,1054.2,1418.1,1400.6,1226.6,1211.1,1218.8,596.82,1296.1,1362.5,1484.9,803.99,920.3,1341.4,800.74,1465.0,955.87,903.73,573.95,326.95,1115.5,1434.6,1456.7,1327.6,859.52,1450.2,678.4,1483.6,1482.9,1480.3,714.74,1089.9,1334.3,1508.9,1524.5,585.12,1222.2,1172.5,1180.8,1412.2,1491.1,750.14,1458.4,865.31,469.67,1520.4,1481.5,1467.0,1229.4,697.83,1461.4,1332.9,1144.2,914.98,594.73,383.95,1497.9,1345.7,1483.2,546.0,1450.5,1119.3,952.11,331.29,1414.6,1403.9,1178.1,287.54,1531.2,954.44,1393.4,1506.7,1454.0,1121.3,511.54,1215.2,1444.4,367.64,982.26,847.82,909.26,632.92,1501.2,1095.2,633.54,595.28,1063.4,724.96,1499.1,1509.6,575.8,1495.4,795.05,1002.4,827.93,1340.6,1104.0,1374.3,699.2,979.49,1285.2,1426.1,1483.8,249.19,1352.9,1437.5,1483.1,1000.4,1298.8,786.2,638.26,175.72,606.1,1006.6,343.62,1355.8,543.63,1489.6,1403.8,1384.3,894.84,1313.4,543.23,1422.6,360.55,1326.3,1255.4,1093.0,1486.1,1217.6,1348.3,589.25,1509.4,593.48,1513.9,1450.9,1013.6,636.85,721.09,718.57,1485.7,1517.1,1457.0,954.54,1515.6,1460.6,1193.8,1453.2,1495.8,451.35,864.66,783.25,1212.7,1486.7,1147.8,1247.4,1212.4,1214.9,990.24,1497.8,1486.3,1478.0,1456.6,1499.9,1266.1,719.15,734.94,1153.0],\"xaxis\":\"x\",\"y\":[1351.6845192203068,1150.9326339284648,1349.323600885662,1298.1957733624185,703.7451783972833,1093.694388728308,1169.7543310194537,1007.2451033989851,1187.1285734580974,972.9276517789086,1290.745659320339,1312.8061952532169,1254.8487694255964,1112.1883700889691,1022.5025487673983,1201.412532673567,851.6142724131955,1019.237899992141,1318.9166609264933,1066.073890611919,1110.6556738313006,1025.5006724411005,1071.857729167671,1329.7585287094003,1252.3117283883316,1009.59899750772,1407.3413569860072,1093.229776075804,999.672490361999,1060.9453534374431,1177.612677379616,1143.675985318559,1096.0519800976044,989.357902823223,1175.6658721786978,973.870702188305,1236.9895208718474,812.9414411203694,1114.9330289560241,980.249167156602,1177.8242298012558,1145.155425913732,1107.492777780493,914.6627664668275,986.1566204608996,1230.6897234351266,1144.7150541282706,854.1620728415758,816.471358835527,1156.4757652449568,1175.246327010125,1095.3655723970053,910.5880502525529,1124.4081612374032,944.4233357891551,819.355685497859,1304.25065366953,1349.1628735984232,742.8454905733605,990.9776199133664,1371.268070959985,1137.357489832494,1244.0361689454128,1045.157194683704,1132.7020334899867,893.9405270408379,1130.3316849922905,1281.5726082610722,1064.662957674259,1086.2361031698863,1182.7367348510754,872.1108577232669,1239.9603215808097,1225.79383680865,1297.8653898294178,1130.7444118299336,1232.628843832544,778.8702176469014,1314.5497307801277,1095.66259509435,931.087478884547,1204.834969647454,1058.232128623974,1134.8105353934761,1246.944565955401,1413.6404501113734,782.1162853282814,1010.0726052592686,869.8957300309862,1063.1729324623727,1236.6674997087193,953.8745665984736,1237.483569955224,1214.2628784209046,1059.9839633938568,981.7524402904033,1103.152532985498,1378.3649474702677,1151.7357588988943,969.2721250888842,839.0428362700948,918.8584090091879,877.6974013485826,1176.4895243008684,1238.681571208613,1184.413190897029,1174.4407560871587,1262.3445584658318,1043.3764980600981,1259.0601249349877,1258.0309950450005,1260.3517746626665,1266.742843714205,936.7707059614543,1098.032205556936,1309.240989520919,1213.0842498281581,1092.2737571788136,1225.614152395855,935.5060784359605,944.3325263193334,976.2705291263168,1011.010916443431,1186.3932882936247,1123.925694416823,1236.3386638499078,1033.7049984976838,1080.6517629486225,1084.2051654535428,1021.9384922960148,1252.260514993021,887.3230159418272,1239.2787513137303,1212.2932917394728,1284.777381434592,1279.128072031991,1029.7067258687475,905.8439371219342,1367.7535692904232,1325.453311798128,1125.0314645957353,1013.1926837382405,1147.916452100752,1099.7059670633823,1289.525379249965,840.6102262556129,1023.8926349891613,1177.5878096494725,977.5826549628031,1077.3013205970594,1052.5101300977155,1080.2362108949092,1031.5667042124237,1259.4416983315828,1111.4049719849106,1310.4753391413808,798.3871574675286,1262.8929481690084,1025.9493619563868,986.7639411834919,983.390050956829,971.1417614513551,1009.7330356108449,1033.936584819452,1124.2370153869067,1019.6730597969882,1154.3112504445635,1185.4270492620203,1399.601739312523,980.3410477648875,1045.0396822923742,1261.882765755256,1126.8802852223653,1299.6323112811374,963.8570926019925,1143.6169736441534,1072.1122225176302,907.1352048519383,1140.0352666645413,1064.9335177710432,1072.988315483583,998.869857986522,1320.57852227213,1172.9634052479876,944.0518090998046,745.7601176695728,1388.368049659618,1034.4678145215485,993.4082950356187,787.726099803659,868.9895089182726,1155.4637914349169,1098.4006579077075,852.1964774255556,1052.0113056786204,780.1135997788125,1047.033082916108,1033.2423066480828,983.8237624562637,1195.7158364550555,1144.043812910948,1233.4274504672717,1300.7786462167269,1406.0783501563794,1078.743777682294,1080.7150127163,822.7517447617903,1114.7642729475633,938.5906821533192,1233.2944942572624,1151.6612050820643,984.9567150063543,1040.5992454612694,1096.5298905401878,1239.3808747100293,1158.00072172116,1215.629571206529,1217.161423025627,1091.66909814894,1124.2305647923204,1070.8352613853747,1110.6218508263398,1003.2905960688843,1201.0699861432947,962.2782182803322,1168.9686770203325,1237.1102943244905,1337.0680399756548,1018.2931778138209,1108.2574805893,1175.1115783624814,1119.1562938773366,1165.7770830880124,1272.5291063208742,1195.4935475953198,1040.0764219464188,1369.0703528463173,1163.7480883029327,1302.4112203518048,879.735136325384,898.9133848042129,1051.1614943084521,1259.5833557839917,929.9643933035885,1079.5322683509025,1242.7513540227005,1261.1063362802238,1275.0014289533467,891.6991852278913,1297.3538827382993],\"yaxis\":\"y\",\"type\":\"scatter\"}],                        {\"template\":{\"data\":{\"bar\":[{\"error_x\":{\"color\":\"#2a3f5f\"},\"error_y\":{\"color\":\"#2a3f5f\"},\"marker\":{\"line\":{\"color\":\"#E5ECF6\",\"width\":0.5},\"pattern\":{\"fillmode\":\"overlay\",\"size\":10,\"solidity\":0.2}},\"type\":\"bar\"}],\"barpolar\":[{\"marker\":{\"line\":{\"color\":\"#E5ECF6\",\"width\":0.5},\"pattern\":{\"fillmode\":\"overlay\",\"size\":10,\"solidity\":0.2}},\"type\":\"barpolar\"}],\"carpet\":[{\"aaxis\":{\"endlinecolor\":\"#2a3f5f\",\"gridcolor\":\"white\",\"linecolor\":\"white\",\"minorgridcolor\":\"white\",\"startlinecolor\":\"#2a3f5f\"},\"baxis\":{\"endlinecolor\":\"#2a3f5f\",\"gridcolor\":\"white\",\"linecolor\":\"white\",\"minorgridcolor\":\"white\",\"startlinecolor\":\"#2a3f5f\"},\"type\":\"carpet\"}],\"choropleth\":[{\"colorbar\":{\"outlinewidth\":0,\"ticks\":\"\"},\"type\":\"choropleth\"}],\"contour\":[{\"colorbar\":{\"outlinewidth\":0,\"ticks\":\"\"},\"colorscale\":[[0.0,\"#0d0887\"],[0.1111111111111111,\"#46039f\"],[0.2222222222222222,\"#7201a8\"],[0.3333333333333333,\"#9c179e\"],[0.4444444444444444,\"#bd3786\"],[0.5555555555555556,\"#d8576b\"],[0.6666666666666666,\"#ed7953\"],[0.7777777777777778,\"#fb9f3a\"],[0.8888888888888888,\"#fdca26\"],[1.0,\"#f0f921\"]],\"type\":\"contour\"}],\"contourcarpet\":[{\"colorbar\":{\"outlinewidth\":0,\"ticks\":\"\"},\"type\":\"contourcarpet\"}],\"heatmap\":[{\"colorbar\":{\"outlinewidth\":0,\"ticks\":\"\"},\"colorscale\":[[0.0,\"#0d0887\"],[0.1111111111111111,\"#46039f\"],[0.2222222222222222,\"#7201a8\"],[0.3333333333333333,\"#9c179e\"],[0.4444444444444444,\"#bd3786\"],[0.5555555555555556,\"#d8576b\"],[0.6666666666666666,\"#ed7953\"],[0.7777777777777778,\"#fb9f3a\"],[0.8888888888888888,\"#fdca26\"],[1.0,\"#f0f921\"]],\"type\":\"heatmap\"}],\"heatmapgl\":[{\"colorbar\":{\"outlinewidth\":0,\"ticks\":\"\"},\"colorscale\":[[0.0,\"#0d0887\"],[0.1111111111111111,\"#46039f\"],[0.2222222222222222,\"#7201a8\"],[0.3333333333333333,\"#9c179e\"],[0.4444444444444444,\"#bd3786\"],[0.5555555555555556,\"#d8576b\"],[0.6666666666666666,\"#ed7953\"],[0.7777777777777778,\"#fb9f3a\"],[0.8888888888888888,\"#fdca26\"],[1.0,\"#f0f921\"]],\"type\":\"heatmapgl\"}],\"histogram\":[{\"marker\":{\"pattern\":{\"fillmode\":\"overlay\",\"size\":10,\"solidity\":0.2}},\"type\":\"histogram\"}],\"histogram2d\":[{\"colorbar\":{\"outlinewidth\":0,\"ticks\":\"\"},\"colorscale\":[[0.0,\"#0d0887\"],[0.1111111111111111,\"#46039f\"],[0.2222222222222222,\"#7201a8\"],[0.3333333333333333,\"#9c179e\"],[0.4444444444444444,\"#bd3786\"],[0.5555555555555556,\"#d8576b\"],[0.6666666666666666,\"#ed7953\"],[0.7777777777777778,\"#fb9f3a\"],[0.8888888888888888,\"#fdca26\"],[1.0,\"#f0f921\"]],\"type\":\"histogram2d\"}],\"histogram2dcontour\":[{\"colorbar\":{\"outlinewidth\":0,\"ticks\":\"\"},\"colorscale\":[[0.0,\"#0d0887\"],[0.1111111111111111,\"#46039f\"],[0.2222222222222222,\"#7201a8\"],[0.3333333333333333,\"#9c179e\"],[0.4444444444444444,\"#bd3786\"],[0.5555555555555556,\"#d8576b\"],[0.6666666666666666,\"#ed7953\"],[0.7777777777777778,\"#fb9f3a\"],[0.8888888888888888,\"#fdca26\"],[1.0,\"#f0f921\"]],\"type\":\"histogram2dcontour\"}],\"mesh3d\":[{\"colorbar\":{\"outlinewidth\":0,\"ticks\":\"\"},\"type\":\"mesh3d\"}],\"parcoords\":[{\"line\":{\"colorbar\":{\"outlinewidth\":0,\"ticks\":\"\"}},\"type\":\"parcoords\"}],\"pie\":[{\"automargin\":true,\"type\":\"pie\"}],\"scatter\":[{\"marker\":{\"colorbar\":{\"outlinewidth\":0,\"ticks\":\"\"}},\"type\":\"scatter\"}],\"scatter3d\":[{\"line\":{\"colorbar\":{\"outlinewidth\":0,\"ticks\":\"\"}},\"marker\":{\"colorbar\":{\"outlinewidth\":0,\"ticks\":\"\"}},\"type\":\"scatter3d\"}],\"scattercarpet\":[{\"marker\":{\"colorbar\":{\"outlinewidth\":0,\"ticks\":\"\"}},\"type\":\"scattercarpet\"}],\"scattergeo\":[{\"marker\":{\"colorbar\":{\"outlinewidth\":0,\"ticks\":\"\"}},\"type\":\"scattergeo\"}],\"scattergl\":[{\"marker\":{\"colorbar\":{\"outlinewidth\":0,\"ticks\":\"\"}},\"type\":\"scattergl\"}],\"scattermapbox\":[{\"marker\":{\"colorbar\":{\"outlinewidth\":0,\"ticks\":\"\"}},\"type\":\"scattermapbox\"}],\"scatterpolar\":[{\"marker\":{\"colorbar\":{\"outlinewidth\":0,\"ticks\":\"\"}},\"type\":\"scatterpolar\"}],\"scatterpolargl\":[{\"marker\":{\"colorbar\":{\"outlinewidth\":0,\"ticks\":\"\"}},\"type\":\"scatterpolargl\"}],\"scatterternary\":[{\"marker\":{\"colorbar\":{\"outlinewidth\":0,\"ticks\":\"\"}},\"type\":\"scatterternary\"}],\"surface\":[{\"colorbar\":{\"outlinewidth\":0,\"ticks\":\"\"},\"colorscale\":[[0.0,\"#0d0887\"],[0.1111111111111111,\"#46039f\"],[0.2222222222222222,\"#7201a8\"],[0.3333333333333333,\"#9c179e\"],[0.4444444444444444,\"#bd3786\"],[0.5555555555555556,\"#d8576b\"],[0.6666666666666666,\"#ed7953\"],[0.7777777777777778,\"#fb9f3a\"],[0.8888888888888888,\"#fdca26\"],[1.0,\"#f0f921\"]],\"type\":\"surface\"}],\"table\":[{\"cells\":{\"fill\":{\"color\":\"#EBF0F8\"},\"line\":{\"color\":\"white\"}},\"header\":{\"fill\":{\"color\":\"#C8D4E3\"},\"line\":{\"color\":\"white\"}},\"type\":\"table\"}]},\"layout\":{\"annotationdefaults\":{\"arrowcolor\":\"#2a3f5f\",\"arrowhead\":0,\"arrowwidth\":1},\"autotypenumbers\":\"strict\",\"coloraxis\":{\"colorbar\":{\"outlinewidth\":0,\"ticks\":\"\"}},\"colorscale\":{\"diverging\":[[0,\"#8e0152\"],[0.1,\"#c51b7d\"],[0.2,\"#de77ae\"],[0.3,\"#f1b6da\"],[0.4,\"#fde0ef\"],[0.5,\"#f7f7f7\"],[0.6,\"#e6f5d0\"],[0.7,\"#b8e186\"],[0.8,\"#7fbc41\"],[0.9,\"#4d9221\"],[1,\"#276419\"]],\"sequential\":[[0.0,\"#0d0887\"],[0.1111111111111111,\"#46039f\"],[0.2222222222222222,\"#7201a8\"],[0.3333333333333333,\"#9c179e\"],[0.4444444444444444,\"#bd3786\"],[0.5555555555555556,\"#d8576b\"],[0.6666666666666666,\"#ed7953\"],[0.7777777777777778,\"#fb9f3a\"],[0.8888888888888888,\"#fdca26\"],[1.0,\"#f0f921\"]],\"sequentialminus\":[[0.0,\"#0d0887\"],[0.1111111111111111,\"#46039f\"],[0.2222222222222222,\"#7201a8\"],[0.3333333333333333,\"#9c179e\"],[0.4444444444444444,\"#bd3786\"],[0.5555555555555556,\"#d8576b\"],[0.6666666666666666,\"#ed7953\"],[0.7777777777777778,\"#fb9f3a\"],[0.8888888888888888,\"#fdca26\"],[1.0,\"#f0f921\"]]},\"colorway\":[\"#636efa\",\"#EF553B\",\"#00cc96\",\"#ab63fa\",\"#FFA15A\",\"#19d3f3\",\"#FF6692\",\"#B6E880\",\"#FF97FF\",\"#FECB52\"],\"font\":{\"color\":\"#2a3f5f\"},\"geo\":{\"bgcolor\":\"white\",\"lakecolor\":\"white\",\"landcolor\":\"#E5ECF6\",\"showlakes\":true,\"showland\":true,\"subunitcolor\":\"white\"},\"hoverlabel\":{\"align\":\"left\"},\"hovermode\":\"closest\",\"mapbox\":{\"style\":\"light\"},\"paper_bgcolor\":\"white\",\"plot_bgcolor\":\"#E5ECF6\",\"polar\":{\"angularaxis\":{\"gridcolor\":\"white\",\"linecolor\":\"white\",\"ticks\":\"\"},\"bgcolor\":\"#E5ECF6\",\"radialaxis\":{\"gridcolor\":\"white\",\"linecolor\":\"white\",\"ticks\":\"\"}},\"scene\":{\"xaxis\":{\"backgroundcolor\":\"#E5ECF6\",\"gridcolor\":\"white\",\"gridwidth\":2,\"linecolor\":\"white\",\"showbackground\":true,\"ticks\":\"\",\"zerolinecolor\":\"white\"},\"yaxis\":{\"backgroundcolor\":\"#E5ECF6\",\"gridcolor\":\"white\",\"gridwidth\":2,\"linecolor\":\"white\",\"showbackground\":true,\"ticks\":\"\",\"zerolinecolor\":\"white\"},\"zaxis\":{\"backgroundcolor\":\"#E5ECF6\",\"gridcolor\":\"white\",\"gridwidth\":2,\"linecolor\":\"white\",\"showbackground\":true,\"ticks\":\"\",\"zerolinecolor\":\"white\"}},\"shapedefaults\":{\"line\":{\"color\":\"#2a3f5f\"}},\"ternary\":{\"aaxis\":{\"gridcolor\":\"white\",\"linecolor\":\"white\",\"ticks\":\"\"},\"baxis\":{\"gridcolor\":\"white\",\"linecolor\":\"white\",\"ticks\":\"\"},\"bgcolor\":\"#E5ECF6\",\"caxis\":{\"gridcolor\":\"white\",\"linecolor\":\"white\",\"ticks\":\"\"}},\"title\":{\"x\":0.05},\"xaxis\":{\"automargin\":true,\"gridcolor\":\"white\",\"linecolor\":\"white\",\"ticks\":\"\",\"title\":{\"standoff\":15},\"zerolinecolor\":\"white\",\"zerolinewidth\":2},\"yaxis\":{\"automargin\":true,\"gridcolor\":\"white\",\"linecolor\":\"white\",\"ticks\":\"\",\"title\":{\"standoff\":15},\"zerolinecolor\":\"white\",\"zerolinewidth\":2}}},\"xaxis\":{\"anchor\":\"y\",\"domain\":[0.0,1.0],\"title\":{\"text\":\"Observed Titer\"}},\"yaxis\":{\"anchor\":\"x\",\"domain\":[0.0,1.0],\"title\":{\"text\":\"Predicted Titer\"}},\"legend\":{\"tracegroupgap\":0},\"title\":{\"text\":\"Observed vs Predicted on Train Set\"},\"shapes\":[{\"layer\":\"below\",\"type\":\"line\",\"x0\":0,\"x1\":1,\"xref\":\"paper\",\"y0\":0,\"y1\":1,\"yref\":\"paper\"}]},                        {\"responsive\": true}                    ).then(function(){\n",
              "                            \n",
              "var gd = document.getElementById('1966d6c1-143b-407a-a152-cae0f7d07281');\n",
              "var x = new MutationObserver(function (mutations, observer) {{\n",
              "        var display = window.getComputedStyle(gd).display;\n",
              "        if (!display || display === 'none') {{\n",
              "            console.log([gd, 'removed!']);\n",
              "            Plotly.purge(gd);\n",
              "            observer.disconnect();\n",
              "        }}\n",
              "}});\n",
              "\n",
              "// Listen for the removal of the full notebook cells\n",
              "var notebookContainer = gd.closest('#notebook-container');\n",
              "if (notebookContainer) {{\n",
              "    x.observe(notebookContainer, {childList: true});\n",
              "}}\n",
              "\n",
              "// Listen for the clearing of the current output cell\n",
              "var outputEl = gd.closest('.output');\n",
              "if (outputEl) {{\n",
              "    x.observe(outputEl, {childList: true});\n",
              "}}\n",
              "\n",
              "                        })                };                            </script>        </div>\n",
              "</body>\n",
              "</html>"
            ]
          },
          "metadata": {}
        }
      ]
    },
    {
      "cell_type": "code",
      "source": [
        "# Absolute RMSE\n",
        "rmse_abs = mean_squared_error(y_test, yhat_test,squared=False)\n",
        "print('Absolute RMSE: ',rmse_abs)\n",
        "# Relative RMSE\n",
        "rmse_rel = mean_squared_error(y_test, yhat_test,squared=False) / np.std(y_test.values)\n",
        "print('Relative RMSE: ',rmse_rel)"
      ],
      "metadata": {
        "id": "cbEUdfrP2Jup",
        "outputId": "38bbf6bd-4d7b-4730-883a-817284801b07",
        "colab": {
          "base_uri": "https://localhost:8080/"
        }
      },
      "execution_count": 108,
      "outputs": [
        {
          "output_type": "stream",
          "name": "stdout",
          "text": [
            "Absolute RMSE:  332.07526459136983\n",
            "Relative RMSE:  0.9486574201143637\n"
          ]
        }
      ]
    },
    {
      "cell_type": "markdown",
      "source": [
        "### Plot scores and loadings for the predictors\n"
      ],
      "metadata": {
        "id": "46c4EeopKPps"
      }
    },
    {
      "cell_type": "code",
      "source": [
        "# TODO: bi-plot / scores plot / loadings plot\n",
        "# Color by exp name / FINAL TITER"
      ],
      "metadata": {
        "id": "soJkRof-KVAX"
      },
      "execution_count": null,
      "outputs": []
    },
    {
      "cell_type": "markdown",
      "source": [
        "### Plot VIP scores"
      ],
      "metadata": {
        "id": "QPiuOsULKj3T"
      }
    },
    {
      "cell_type": "code",
      "source": [
        "# TODO: plot VIP scores"
      ],
      "metadata": {
        "id": "uAu_GXQSKnvq"
      },
      "execution_count": null,
      "outputs": []
    },
    {
      "cell_type": "markdown",
      "source": [
        "### Task: What number of latent variables produces best model?"
      ],
      "metadata": {
        "id": "AwZeyCw1KuAw"
      }
    },
    {
      "cell_type": "code",
      "source": [
        ""
      ],
      "metadata": {
        "id": "ChxmoF1YK7bG"
      },
      "execution_count": null,
      "outputs": []
    },
    {
      "cell_type": "markdown",
      "source": [
        "## Simulate Cross Validation\n",
        "\n",
        "In this section, we will simulate a typical cross- validation to define the optimal number of latent variables.\n"
      ],
      "metadata": {
        "id": "4NiwnjgvK6tg"
      }
    },
    {
      "cell_type": "markdown",
      "source": [
        "### Select number of folds\n",
        "First define the number of folds.\n"
      ],
      "metadata": {
        "id": "B9o_F0zfLOcc"
      }
    },
    {
      "cell_type": "code",
      "source": [
        "# Number of folds\n",
        "N_folds = 5"
      ],
      "metadata": {
        "id": "AyjxiHeFLReA"
      },
      "execution_count": null,
      "outputs": []
    },
    {
      "cell_type": "markdown",
      "source": [
        "### Compute cross validation\n",
        "\n",
        "Nfold PLS1 models are trained using (Nfolds-1) folds. For each model, the sum of squared residuals (SSR) is calculated and summed up.\n",
        "\n",
        "This is repeated for different numbers of latent variables. The number of latent variables returning the least value of the SSRs is chosen as optimal.\n",
        "A second criterion is selected, namely the Bayesian Information Criterion (BIC), which is weighting the effect of the number of latent variables, i.e., if two values of the number of latent variables are returning a similar value of the SSR, then the one using less variables is chosen to be more likely to produce robust predictions.:"
      ],
      "metadata": {
        "id": "deBiKJUHLa9k"
      }
    },
    {
      "cell_type": "markdown",
      "source": [
        "### Evaluate model in cross-validation\n"
      ],
      "metadata": {
        "id": "kYcq-JOqL3bG"
      }
    },
    {
      "cell_type": "markdown",
      "source": [
        "# Historical PLS Model\n",
        "\n",
        "In an so-called historical model, the data from different experiments are ordered into a batch-wise unfolded (BWU) matrix (i.e., every row corresponds to an experiment).\n",
        "\n",
        "The BWU can be used to compute final properties of the experiment, like CQAs, which are typically the effect of the cumulated effect of the experiment profile.\n",
        "\n",
        "In this example, we will use the BWU matrix to predict the final value of titer. Clearly, titer information are removed from the BWU matrix."
      ],
      "metadata": {
        "id": "0i44tIGKMIFp"
      }
    },
    {
      "cell_type": "code",
      "source": [
        "# Define number of days to include\n",
        "N_days = 13\n",
        "# Define number of latent variables\n",
        "N_LV = 5"
      ],
      "metadata": {
        "id": "J_Iz4C2wMf_B"
      },
      "execution_count": null,
      "outputs": []
    },
    {
      "cell_type": "markdown",
      "source": [
        "### Create BWU matrix\n",
        "\n",
        "Here the BWU matrix is created. The vaues of the manipulated variables are added as columns at the beginning of the matrix.\n",
        "\n",
        "* Remove titer\n",
        "* Remove exceeding days\n",
        "* Eliminate invariant columns\n",
        "* Remove linearly dependent columns\n",
        "* Create a PLS model from the initial design to the final titer\n"
      ],
      "metadata": {
        "id": "v1IMh8PMMs-s"
      }
    },
    {
      "cell_type": "code",
      "source": [
        "# TODO: code steps above"
      ],
      "metadata": {
        "id": "CXCdim6oNB1y"
      },
      "execution_count": null,
      "outputs": []
    },
    {
      "cell_type": "markdown",
      "source": [
        "### Train Historical PLS model"
      ],
      "metadata": {
        "id": "cLKo0hoPNDx-"
      }
    },
    {
      "cell_type": "code",
      "source": [
        "# TODO: train PLS on modified BWU"
      ],
      "metadata": {
        "id": "WDpN48qWNJs4"
      },
      "execution_count": null,
      "outputs": []
    },
    {
      "cell_type": "markdown",
      "source": [
        "### Evaluate model on train/test set"
      ],
      "metadata": {
        "id": "c2oIwzd1NNLi"
      }
    },
    {
      "cell_type": "code",
      "source": [
        "# TODO: plot obs vs predicted, compute abs/rel rmse"
      ],
      "metadata": {
        "id": "opLCJtcuNS6W"
      },
      "execution_count": null,
      "outputs": []
    },
    {
      "cell_type": "markdown",
      "source": [
        "### Plot scores, loadings and VIP"
      ],
      "metadata": {
        "id": "8KDUuEjCNYdy"
      }
    },
    {
      "cell_type": "code",
      "source": [
        "# TODO: plot bi-plot / scores / loadings / VIP values"
      ],
      "metadata": {
        "id": "JfO8t_EINqrb"
      },
      "execution_count": null,
      "outputs": []
    },
    {
      "cell_type": "markdown",
      "source": [
        "### Task: Check model diagnostics"
      ],
      "metadata": {
        "id": "1ZDg9ewmNfoj"
      }
    },
    {
      "cell_type": "code",
      "source": [
        "# TODO: Residuals, mahalanobis distances"
      ],
      "metadata": {
        "id": "wrjCJ-CZNlJo"
      },
      "execution_count": null,
      "outputs": []
    },
    {
      "cell_type": "markdown",
      "source": [
        "# Solutions to tasks"
      ],
      "metadata": {
        "id": "p9UUsmZ8N3aP"
      }
    },
    {
      "cell_type": "markdown",
      "source": [
        "# Main Focus\n",
        "* RMS model buildup\n",
        "* Model comparison"
      ],
      "metadata": {
        "id": "ldiE-BRXUcsS"
      }
    }
  ]
}