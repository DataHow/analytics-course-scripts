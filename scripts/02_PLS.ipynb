{
  "nbformat": 4,
  "nbformat_minor": 0,
  "metadata": {
    "colab": {
      "name": "02_PLS",
      "provenance": [],
      "toc_visible": true
    },
    "kernelspec": {
      "name": "python3",
      "display_name": "Python 3"
    },
    "language_info": {
      "name": "python"
    }
  },
  "cells": [
    {
      "cell_type": "markdown",
      "source": [
        "# Setup of Noteboook\n",
        "\n",
        "The follwing code clones the github repository with course files. \n",
        "Subsequently it imports all libraries and custom modules needed for this notebook"
      ],
      "metadata": {
        "id": "3K4Flq2pqV8q"
      }
    },
    {
      "cell_type": "code",
      "source": [
        "!git clone https://github.com/DataHow/analytics-course-scripts.git\n",
        "!pip install --upgrade scipy==1.7.3"
      ],
      "metadata": {
        "id": "Hw07wkwbqW43",
        "colab": {
          "base_uri": "https://localhost:8080/"
        },
        "outputId": "680b705d-b2a4-4d82-92ab-dae0b90e5652"
      },
      "execution_count": 1,
      "outputs": [
        {
          "output_type": "stream",
          "name": "stdout",
          "text": [
            "Cloning into 'analytics-course-scripts'...\n",
            "remote: Enumerating objects: 183, done.\u001b[K\n",
            "remote: Counting objects: 100% (183/183), done.\u001b[K\n",
            "remote: Compressing objects: 100% (131/131), done.\u001b[K\n",
            "remote: Total 183 (delta 94), reused 141 (delta 52), pack-reused 0\u001b[K\n",
            "Receiving objects: 100% (183/183), 946.59 KiB | 15.78 MiB/s, done.\n",
            "Resolving deltas: 100% (94/94), done.\n",
            "Collecting scipy==1.7.3\n",
            "  Downloading scipy-1.7.3-cp37-cp37m-manylinux_2_12_x86_64.manylinux2010_x86_64.whl (38.1 MB)\n",
            "\u001b[K     |████████████████████████████████| 38.1 MB 1.3 MB/s \n",
            "\u001b[?25hRequirement already satisfied: numpy<1.23.0,>=1.16.5 in /usr/local/lib/python3.7/dist-packages (from scipy==1.7.3) (1.21.6)\n",
            "Installing collected packages: scipy\n",
            "  Attempting uninstall: scipy\n",
            "    Found existing installation: scipy 1.4.1\n",
            "    Uninstalling scipy-1.4.1:\n",
            "      Successfully uninstalled scipy-1.4.1\n",
            "\u001b[31mERROR: pip's dependency resolver does not currently take into account all the packages that are installed. This behaviour is the source of the following dependency conflicts.\n",
            "albumentations 0.1.12 requires imgaug<0.2.7,>=0.2.5, but you have imgaug 0.2.9 which is incompatible.\u001b[0m\n",
            "Successfully installed scipy-1.7.3\n"
          ]
        }
      ]
    },
    {
      "cell_type": "code",
      "source": [
        "# import libaries\n",
        "import pandas as pd\n",
        "import numpy as np\n",
        "import scipy\n",
        "import importlib  \n",
        "import scipy.integrate\n",
        "import plotly.express as px\n",
        "import plotly.graph_objects as go\n",
        "from plotly.subplots import make_subplots\n",
        "import statsmodels.api as sm\n",
        "from sklearn.pipeline import Pipeline\n",
        "from sklearn.preprocessing import StandardScaler, PolynomialFeatures\n",
        "from sklearn.feature_selection import RFE\n",
        "from sklearn.linear_model import LinearRegression\n",
        "from sklearn.cross_decomposition import PLSRegression\n",
        "from sklearn.metrics import mean_squared_error, explained_variance_score\n",
        "\n",
        "# import custom modules\n",
        "emulator = importlib.import_module(\"analytics-course-scripts.scripts.modules.emulator\")\n",
        "modelhelpers = importlib.import_module(\"analytics-course-scripts.scripts.modules.modelhelpers\")"
      ],
      "metadata": {
        "id": "QbesfOWUqYmG",
        "colab": {
          "base_uri": "https://localhost:8080/"
        },
        "outputId": "a1150000-09c4-438e-c515-54b86f7ea464"
      },
      "execution_count": 2,
      "outputs": [
        {
          "output_type": "stream",
          "name": "stderr",
          "text": [
            "/usr/local/lib/python3.7/dist-packages/statsmodels/tools/_testing.py:19: FutureWarning: pandas.util.testing is deprecated. Use the functions in the public API at pandas.testing instead.\n",
            "  import pandas.util.testing as tm\n"
          ]
        }
      ]
    },
    {
      "cell_type": "markdown",
      "source": [
        "# Import or Generate Dataset\n",
        "\n",
        "In the beginning of each notebook you can make a decision whether you run the notebooks with already pre-generated runs which will be just imported or you will generate your own doe dataset from insilico model. For further information about the process emulator for cell culture fed-batch processes, check the script \"00_Process_Characterization.ipynb\" or the Powerpoint presentation \"Simplified InSilico Model.pptx\".\n",
        "\n",
        "* For dataset import set `select_dataset_source = \"import\"`.\n",
        "* For generating data set `select_dataset_source = \"generate\"`.\n",
        "\n",
        "For first time running the notebook, we recommend choosing the \"import\" option.\n",
        "\n",
        " "
      ],
      "metadata": {
        "id": "O05GdQIHW-TM"
      }
    },
    {
      "cell_type": "code",
      "source": [
        "# Select dataset source\n",
        "select_dataset_source = \"import\""
      ],
      "metadata": {
        "id": "mkFlmeIaW_In"
      },
      "execution_count": 3,
      "outputs": []
    },
    {
      "cell_type": "code",
      "source": [
        "if select_dataset_source == \"import\":\n",
        "    # Define filename to import\n",
        "    filename = \"owu.csv\"\n",
        "    filepath = \"/content/analytics-course-scripts/scripts/datasets/\"\n",
        "    # Import OWU Train data\n",
        "    owu = pd.read_csv(filepath+filename,index_col=None, usecols = [\"X:VCD\", \"X:Glc\", \"X:Lac\", \"X:Titer\",\"W:Feed\"])\n",
        "    owu.index = pd.MultiIndex.from_product([list(range(int(len(owu)/15))),list(range(15))], names=[\"run\",\"time\"])\n",
        "    doe = pd.read_csv(filepath+filename.replace(\".csv\",\"_doe.csv\"),index_col=None, usecols =[\"feed_start\",\"feed_end\",\"Glc_feed_rate\",\"Glc_0\",\"VCD_0\"])\n",
        "    # Import OWU Test data\n",
        "    filename = \"owu_test.csv\"\n",
        "    owu_test = pd.read_csv(filepath+filename,index_col=None, usecols = [\"X:VCD\", \"X:Glc\", \"X:Lac\", \"X:Titer\",\"W:Feed\"])\n",
        "    owu_test.index = pd.MultiIndex.from_product([list(range(int(len(owu_test)/15))),list(range(15))], names=[\"run\",\"time\"])\n",
        "    doe_test = pd.read_csv(filepath+filename.replace(\".csv\",\"_doe.csv\"),index_col=None, usecols =[\"feed_start\",\"feed_end\",\"Glc_feed_rate\",\"Glc_0\",\"VCD_0\"])\n"
      ],
      "metadata": {
        "id": "SG1_Y3_-XA-a"
      },
      "execution_count": 4,
      "outputs": []
    },
    {
      "cell_type": "code",
      "source": [
        "if select_dataset_source == \"generate\":\n",
        "    # Model parameters\n",
        "    mu_g_max = 0.05;\n",
        "    mu_d_max = 0.025;\n",
        "    K_g_Glc  = 1;\n",
        "    K_I_Lac  = 30;\n",
        "    K_d_Lac  = 50;\n",
        "    k_Glc    = 0.04;\n",
        "    k_Lac    = 0.06;\n",
        "    k_Prod   = 1;\n",
        "\n",
        "    # Process parameters\n",
        "    feed_start = [1, 4]\n",
        "    feed_end = [8, 12]\n",
        "    Glc_feed_rate = [5, 20]\n",
        "    Glc_0 = [10, 80.0]\n",
        "    VCD_0 = [0.1, 1.0]\n",
        "\n",
        "    var_lims = {\"mu_g_max\":mu_g_max,\"mu_d_max\": mu_d_max,\"K_g_Glc\" : K_g_Glc,\"K_I_Lac\" : K_I_Lac,\"K_d_Lac\" : K_d_Lac,\"k_Glc\" : k_Glc,\"k_Lac\" : k_Lac,\"k_Prod\" : k_Prod,\"feed_start\" : feed_start, \"feed_end\" : feed_end,\"Glc_feed_rate\" : Glc_feed_rate, \"Glc_0\" : Glc_0, \"VCD_0\" : VCD_0}\n",
        "\n",
        "    # Define the number of experiments\n",
        "    num_runs = 50\n",
        "    # Define the filename for the dataset\n",
        "    filename = \"owu.csv\"\n",
        "    filepath = \"/content/\"\n",
        "    # Generate Dataset\n",
        "    owu = emulator.generate_data(var_lims, num_runs, filename)\n",
        "    # Import OWU\n",
        "    owu = pd.read_csv(filepath+filename,index_col=None, usecols = [\"X:VCD\", \"X:Glc\", \"X:Lac\", \"X:Titer\",\"W:Feed\"])\n",
        "    owu.index = pd.MultiIndex.from_product([list(range(num_runs)),list(range(15))], names=[\"run\",\"time\"])\n",
        "    # Import DOE\n",
        "    doe = pd.read_csv(filepath+filename.replace(\".csv\",\"_doe.csv\"),index_col=None, usecols =[\"feed_start\",\"feed_end\",\"Glc_feed_rate\",\"Glc_0\",\"VCD_0\"])"
      ],
      "metadata": {
        "id": "ST074EQUXCar"
      },
      "execution_count": 5,
      "outputs": []
    },
    {
      "cell_type": "markdown",
      "source": [
        "# Regression Modelling\n",
        "\n",
        "In this section, we first create load the train experiments that were create inthe PCA script and save in the file \"Experiment_Train_Set.mat\". \n",
        "These experimental data will be used to create a MLR model to predict final titer, which will serve as term of comparison for the PLS model trained below."
      ],
      "metadata": {
        "id": "_F7ck0Hl8rqw"
      }
    },
    {
      "cell_type": "markdown",
      "source": [
        "# Initial Conditions model\n",
        "\n",
        "From OWU train and test dataset we create BWU data, DOE data and Target data.\n",
        "DOE data contains the inditial parameter conditions (or Z variable) for the experiments.\n",
        "Target data contain just the final values of Titer at day 14 (or Aggregates)."
      ],
      "metadata": {
        "id": "J-chgbGTTl4P"
      }
    },
    {
      "cell_type": "code",
      "source": [
        "# Train set\n",
        "bwu = emulator.generate_bwu(owu)\n",
        "tar = emulator.generate_y(bwu,return_aggr=False)\n",
        "# Test set\n",
        "bwu_test = emulator.generate_bwu(owu_test)\n",
        "tar_test = emulator.generate_y(bwu_test,return_aggr=False)"
      ],
      "metadata": {
        "id": "ku0WUSTxX49x"
      },
      "execution_count": 6,
      "outputs": []
    },
    {
      "cell_type": "code",
      "source": [
        "# Visualize input data\n",
        "doe"
      ],
      "metadata": {
        "id": "1zz_u_Ffr34Z",
        "outputId": "5fa2e429-196f-4714-e9db-9acd8c15ecbd",
        "colab": {
          "base_uri": "https://localhost:8080/",
          "height": 1000
        }
      },
      "execution_count": 7,
      "outputs": [
        {
          "output_type": "execute_result",
          "data": {
            "text/plain": [
              "    feed_start   feed_end  Glc_feed_rate      Glc_0     VCD_0\n",
              "0     2.500000  10.000000      12.500000  45.000000  0.550000\n",
              "1     1.948980  10.244898      18.622449  40.714286  0.274490\n",
              "2     3.295918   9.346939      14.642857  17.857143  0.127551\n",
              "3     3.479592   9.020408      15.561224  47.857143  0.843878\n",
              "4     1.459184   9.591837       7.295918  33.571429  0.421429\n",
              "5     3.418367   9.265306       8.214286  45.000000  0.403061\n",
              "6     1.153061   8.448980      17.091837  67.857143  0.862245\n",
              "7     2.438776   8.122449      14.336735  10.714286  0.898980\n",
              "8     2.744898  11.551020       9.132653  27.857143  0.292857\n",
              "9     2.316327   9.183673       5.459184  75.000000  0.256122\n",
              "10    2.071429   9.918367      10.051020  25.000000  0.550000\n",
              "11    3.112245  10.897959       5.765306  66.428571  0.311224\n",
              "12    3.602041  10.163265      10.663265  53.571429  0.641837\n",
              "13    1.030612  11.224490      12.806122  43.571429  0.807143\n",
              "14    1.214286   9.755102      11.581633  62.142857  0.880612\n",
              "15    3.969388  11.387755      13.112245  36.428571  0.458163\n",
              "16    3.908163  10.979592      14.030612  55.000000  0.531633\n",
              "17    1.887755  11.795918      18.928571  13.571429  0.586735\n",
              "18    2.867347   8.040816      12.193878  23.571429  0.660204\n",
              "19    2.255102   9.428571      17.704082  77.857143  0.825510\n",
              "20    2.193878   9.673469      18.316327  37.857143  0.678571\n",
              "21    2.132653   8.367347       5.153061  12.142857  0.237755\n",
              "22    2.622449   8.285714      19.540816  49.285714  0.954082\n",
              "23    1.642857  11.714286       9.744898  15.000000  0.752041\n",
              "24    3.357143  11.142857      19.234694  29.285714  0.439796\n",
              "25    2.928571  11.306122      12.500000  19.285714  0.605102\n",
              "26    1.091837  10.734694       6.377551  52.142857  0.145918\n",
              "27    3.846939  11.061224       7.602041  69.285714  0.770408\n",
              "28    3.234694   8.530612      11.887755  73.571429  0.329592\n",
              "29    2.989796   8.693878      15.867347  30.714286  0.788776\n",
              "30    1.275510   8.204082      19.846939  22.142857  0.109184\n",
              "31    2.806122  10.571429       6.683673  20.714286  0.568367\n",
              "32    3.663265  11.632653      18.010204  60.714286  0.917347\n",
              "33    3.785714  10.653061       9.438776  16.428571  0.219388\n",
              "34    1.704082   8.938776      16.785714  72.142857  0.623469\n",
              "35    1.397959   9.836735      11.275510  70.714286  0.990816\n",
              "36    1.520408  10.408163      13.724490  35.000000  0.476531\n",
              "37    3.051020  11.469388      16.479592  79.285714  0.366327\n",
              "38    2.500000   8.857143       7.908163  26.428571  0.384694\n",
              "39    3.540816  11.959184      17.397959  50.714286  0.182653\n",
              "40    2.010204  11.877551      15.255102  32.142857  0.164286\n",
              "41    1.581633  10.326531       8.826531  56.428571  0.494898\n",
              "42    1.765306   9.510204      16.173469  46.428571  0.972449\n",
              "43    3.724490  10.489796      10.969388  76.428571  0.935714\n",
              "44    1.336735   9.102041      13.418367  65.000000  0.733673\n",
              "45    2.377551   8.612245       6.989796  59.285714  0.513265\n",
              "46    2.683673   8.775510      10.357143  57.857143  0.201020\n",
              "47    3.173469  10.000000       8.520408  63.571429  0.696939\n",
              "48    2.561224  10.081633       6.071429  39.285714  0.715306\n",
              "49    1.826531  10.816327      14.948980  42.142857  0.347959"
            ],
            "text/html": [
              "\n",
              "  <div id=\"df-8fdf50e5-dfe2-4dcc-88f1-6c5f7f204dc0\">\n",
              "    <div class=\"colab-df-container\">\n",
              "      <div>\n",
              "<style scoped>\n",
              "    .dataframe tbody tr th:only-of-type {\n",
              "        vertical-align: middle;\n",
              "    }\n",
              "\n",
              "    .dataframe tbody tr th {\n",
              "        vertical-align: top;\n",
              "    }\n",
              "\n",
              "    .dataframe thead th {\n",
              "        text-align: right;\n",
              "    }\n",
              "</style>\n",
              "<table border=\"1\" class=\"dataframe\">\n",
              "  <thead>\n",
              "    <tr style=\"text-align: right;\">\n",
              "      <th></th>\n",
              "      <th>feed_start</th>\n",
              "      <th>feed_end</th>\n",
              "      <th>Glc_feed_rate</th>\n",
              "      <th>Glc_0</th>\n",
              "      <th>VCD_0</th>\n",
              "    </tr>\n",
              "  </thead>\n",
              "  <tbody>\n",
              "    <tr>\n",
              "      <th>0</th>\n",
              "      <td>2.500000</td>\n",
              "      <td>10.000000</td>\n",
              "      <td>12.500000</td>\n",
              "      <td>45.000000</td>\n",
              "      <td>0.550000</td>\n",
              "    </tr>\n",
              "    <tr>\n",
              "      <th>1</th>\n",
              "      <td>1.948980</td>\n",
              "      <td>10.244898</td>\n",
              "      <td>18.622449</td>\n",
              "      <td>40.714286</td>\n",
              "      <td>0.274490</td>\n",
              "    </tr>\n",
              "    <tr>\n",
              "      <th>2</th>\n",
              "      <td>3.295918</td>\n",
              "      <td>9.346939</td>\n",
              "      <td>14.642857</td>\n",
              "      <td>17.857143</td>\n",
              "      <td>0.127551</td>\n",
              "    </tr>\n",
              "    <tr>\n",
              "      <th>3</th>\n",
              "      <td>3.479592</td>\n",
              "      <td>9.020408</td>\n",
              "      <td>15.561224</td>\n",
              "      <td>47.857143</td>\n",
              "      <td>0.843878</td>\n",
              "    </tr>\n",
              "    <tr>\n",
              "      <th>4</th>\n",
              "      <td>1.459184</td>\n",
              "      <td>9.591837</td>\n",
              "      <td>7.295918</td>\n",
              "      <td>33.571429</td>\n",
              "      <td>0.421429</td>\n",
              "    </tr>\n",
              "    <tr>\n",
              "      <th>5</th>\n",
              "      <td>3.418367</td>\n",
              "      <td>9.265306</td>\n",
              "      <td>8.214286</td>\n",
              "      <td>45.000000</td>\n",
              "      <td>0.403061</td>\n",
              "    </tr>\n",
              "    <tr>\n",
              "      <th>6</th>\n",
              "      <td>1.153061</td>\n",
              "      <td>8.448980</td>\n",
              "      <td>17.091837</td>\n",
              "      <td>67.857143</td>\n",
              "      <td>0.862245</td>\n",
              "    </tr>\n",
              "    <tr>\n",
              "      <th>7</th>\n",
              "      <td>2.438776</td>\n",
              "      <td>8.122449</td>\n",
              "      <td>14.336735</td>\n",
              "      <td>10.714286</td>\n",
              "      <td>0.898980</td>\n",
              "    </tr>\n",
              "    <tr>\n",
              "      <th>8</th>\n",
              "      <td>2.744898</td>\n",
              "      <td>11.551020</td>\n",
              "      <td>9.132653</td>\n",
              "      <td>27.857143</td>\n",
              "      <td>0.292857</td>\n",
              "    </tr>\n",
              "    <tr>\n",
              "      <th>9</th>\n",
              "      <td>2.316327</td>\n",
              "      <td>9.183673</td>\n",
              "      <td>5.459184</td>\n",
              "      <td>75.000000</td>\n",
              "      <td>0.256122</td>\n",
              "    </tr>\n",
              "    <tr>\n",
              "      <th>10</th>\n",
              "      <td>2.071429</td>\n",
              "      <td>9.918367</td>\n",
              "      <td>10.051020</td>\n",
              "      <td>25.000000</td>\n",
              "      <td>0.550000</td>\n",
              "    </tr>\n",
              "    <tr>\n",
              "      <th>11</th>\n",
              "      <td>3.112245</td>\n",
              "      <td>10.897959</td>\n",
              "      <td>5.765306</td>\n",
              "      <td>66.428571</td>\n",
              "      <td>0.311224</td>\n",
              "    </tr>\n",
              "    <tr>\n",
              "      <th>12</th>\n",
              "      <td>3.602041</td>\n",
              "      <td>10.163265</td>\n",
              "      <td>10.663265</td>\n",
              "      <td>53.571429</td>\n",
              "      <td>0.641837</td>\n",
              "    </tr>\n",
              "    <tr>\n",
              "      <th>13</th>\n",
              "      <td>1.030612</td>\n",
              "      <td>11.224490</td>\n",
              "      <td>12.806122</td>\n",
              "      <td>43.571429</td>\n",
              "      <td>0.807143</td>\n",
              "    </tr>\n",
              "    <tr>\n",
              "      <th>14</th>\n",
              "      <td>1.214286</td>\n",
              "      <td>9.755102</td>\n",
              "      <td>11.581633</td>\n",
              "      <td>62.142857</td>\n",
              "      <td>0.880612</td>\n",
              "    </tr>\n",
              "    <tr>\n",
              "      <th>15</th>\n",
              "      <td>3.969388</td>\n",
              "      <td>11.387755</td>\n",
              "      <td>13.112245</td>\n",
              "      <td>36.428571</td>\n",
              "      <td>0.458163</td>\n",
              "    </tr>\n",
              "    <tr>\n",
              "      <th>16</th>\n",
              "      <td>3.908163</td>\n",
              "      <td>10.979592</td>\n",
              "      <td>14.030612</td>\n",
              "      <td>55.000000</td>\n",
              "      <td>0.531633</td>\n",
              "    </tr>\n",
              "    <tr>\n",
              "      <th>17</th>\n",
              "      <td>1.887755</td>\n",
              "      <td>11.795918</td>\n",
              "      <td>18.928571</td>\n",
              "      <td>13.571429</td>\n",
              "      <td>0.586735</td>\n",
              "    </tr>\n",
              "    <tr>\n",
              "      <th>18</th>\n",
              "      <td>2.867347</td>\n",
              "      <td>8.040816</td>\n",
              "      <td>12.193878</td>\n",
              "      <td>23.571429</td>\n",
              "      <td>0.660204</td>\n",
              "    </tr>\n",
              "    <tr>\n",
              "      <th>19</th>\n",
              "      <td>2.255102</td>\n",
              "      <td>9.428571</td>\n",
              "      <td>17.704082</td>\n",
              "      <td>77.857143</td>\n",
              "      <td>0.825510</td>\n",
              "    </tr>\n",
              "    <tr>\n",
              "      <th>20</th>\n",
              "      <td>2.193878</td>\n",
              "      <td>9.673469</td>\n",
              "      <td>18.316327</td>\n",
              "      <td>37.857143</td>\n",
              "      <td>0.678571</td>\n",
              "    </tr>\n",
              "    <tr>\n",
              "      <th>21</th>\n",
              "      <td>2.132653</td>\n",
              "      <td>8.367347</td>\n",
              "      <td>5.153061</td>\n",
              "      <td>12.142857</td>\n",
              "      <td>0.237755</td>\n",
              "    </tr>\n",
              "    <tr>\n",
              "      <th>22</th>\n",
              "      <td>2.622449</td>\n",
              "      <td>8.285714</td>\n",
              "      <td>19.540816</td>\n",
              "      <td>49.285714</td>\n",
              "      <td>0.954082</td>\n",
              "    </tr>\n",
              "    <tr>\n",
              "      <th>23</th>\n",
              "      <td>1.642857</td>\n",
              "      <td>11.714286</td>\n",
              "      <td>9.744898</td>\n",
              "      <td>15.000000</td>\n",
              "      <td>0.752041</td>\n",
              "    </tr>\n",
              "    <tr>\n",
              "      <th>24</th>\n",
              "      <td>3.357143</td>\n",
              "      <td>11.142857</td>\n",
              "      <td>19.234694</td>\n",
              "      <td>29.285714</td>\n",
              "      <td>0.439796</td>\n",
              "    </tr>\n",
              "    <tr>\n",
              "      <th>25</th>\n",
              "      <td>2.928571</td>\n",
              "      <td>11.306122</td>\n",
              "      <td>12.500000</td>\n",
              "      <td>19.285714</td>\n",
              "      <td>0.605102</td>\n",
              "    </tr>\n",
              "    <tr>\n",
              "      <th>26</th>\n",
              "      <td>1.091837</td>\n",
              "      <td>10.734694</td>\n",
              "      <td>6.377551</td>\n",
              "      <td>52.142857</td>\n",
              "      <td>0.145918</td>\n",
              "    </tr>\n",
              "    <tr>\n",
              "      <th>27</th>\n",
              "      <td>3.846939</td>\n",
              "      <td>11.061224</td>\n",
              "      <td>7.602041</td>\n",
              "      <td>69.285714</td>\n",
              "      <td>0.770408</td>\n",
              "    </tr>\n",
              "    <tr>\n",
              "      <th>28</th>\n",
              "      <td>3.234694</td>\n",
              "      <td>8.530612</td>\n",
              "      <td>11.887755</td>\n",
              "      <td>73.571429</td>\n",
              "      <td>0.329592</td>\n",
              "    </tr>\n",
              "    <tr>\n",
              "      <th>29</th>\n",
              "      <td>2.989796</td>\n",
              "      <td>8.693878</td>\n",
              "      <td>15.867347</td>\n",
              "      <td>30.714286</td>\n",
              "      <td>0.788776</td>\n",
              "    </tr>\n",
              "    <tr>\n",
              "      <th>30</th>\n",
              "      <td>1.275510</td>\n",
              "      <td>8.204082</td>\n",
              "      <td>19.846939</td>\n",
              "      <td>22.142857</td>\n",
              "      <td>0.109184</td>\n",
              "    </tr>\n",
              "    <tr>\n",
              "      <th>31</th>\n",
              "      <td>2.806122</td>\n",
              "      <td>10.571429</td>\n",
              "      <td>6.683673</td>\n",
              "      <td>20.714286</td>\n",
              "      <td>0.568367</td>\n",
              "    </tr>\n",
              "    <tr>\n",
              "      <th>32</th>\n",
              "      <td>3.663265</td>\n",
              "      <td>11.632653</td>\n",
              "      <td>18.010204</td>\n",
              "      <td>60.714286</td>\n",
              "      <td>0.917347</td>\n",
              "    </tr>\n",
              "    <tr>\n",
              "      <th>33</th>\n",
              "      <td>3.785714</td>\n",
              "      <td>10.653061</td>\n",
              "      <td>9.438776</td>\n",
              "      <td>16.428571</td>\n",
              "      <td>0.219388</td>\n",
              "    </tr>\n",
              "    <tr>\n",
              "      <th>34</th>\n",
              "      <td>1.704082</td>\n",
              "      <td>8.938776</td>\n",
              "      <td>16.785714</td>\n",
              "      <td>72.142857</td>\n",
              "      <td>0.623469</td>\n",
              "    </tr>\n",
              "    <tr>\n",
              "      <th>35</th>\n",
              "      <td>1.397959</td>\n",
              "      <td>9.836735</td>\n",
              "      <td>11.275510</td>\n",
              "      <td>70.714286</td>\n",
              "      <td>0.990816</td>\n",
              "    </tr>\n",
              "    <tr>\n",
              "      <th>36</th>\n",
              "      <td>1.520408</td>\n",
              "      <td>10.408163</td>\n",
              "      <td>13.724490</td>\n",
              "      <td>35.000000</td>\n",
              "      <td>0.476531</td>\n",
              "    </tr>\n",
              "    <tr>\n",
              "      <th>37</th>\n",
              "      <td>3.051020</td>\n",
              "      <td>11.469388</td>\n",
              "      <td>16.479592</td>\n",
              "      <td>79.285714</td>\n",
              "      <td>0.366327</td>\n",
              "    </tr>\n",
              "    <tr>\n",
              "      <th>38</th>\n",
              "      <td>2.500000</td>\n",
              "      <td>8.857143</td>\n",
              "      <td>7.908163</td>\n",
              "      <td>26.428571</td>\n",
              "      <td>0.384694</td>\n",
              "    </tr>\n",
              "    <tr>\n",
              "      <th>39</th>\n",
              "      <td>3.540816</td>\n",
              "      <td>11.959184</td>\n",
              "      <td>17.397959</td>\n",
              "      <td>50.714286</td>\n",
              "      <td>0.182653</td>\n",
              "    </tr>\n",
              "    <tr>\n",
              "      <th>40</th>\n",
              "      <td>2.010204</td>\n",
              "      <td>11.877551</td>\n",
              "      <td>15.255102</td>\n",
              "      <td>32.142857</td>\n",
              "      <td>0.164286</td>\n",
              "    </tr>\n",
              "    <tr>\n",
              "      <th>41</th>\n",
              "      <td>1.581633</td>\n",
              "      <td>10.326531</td>\n",
              "      <td>8.826531</td>\n",
              "      <td>56.428571</td>\n",
              "      <td>0.494898</td>\n",
              "    </tr>\n",
              "    <tr>\n",
              "      <th>42</th>\n",
              "      <td>1.765306</td>\n",
              "      <td>9.510204</td>\n",
              "      <td>16.173469</td>\n",
              "      <td>46.428571</td>\n",
              "      <td>0.972449</td>\n",
              "    </tr>\n",
              "    <tr>\n",
              "      <th>43</th>\n",
              "      <td>3.724490</td>\n",
              "      <td>10.489796</td>\n",
              "      <td>10.969388</td>\n",
              "      <td>76.428571</td>\n",
              "      <td>0.935714</td>\n",
              "    </tr>\n",
              "    <tr>\n",
              "      <th>44</th>\n",
              "      <td>1.336735</td>\n",
              "      <td>9.102041</td>\n",
              "      <td>13.418367</td>\n",
              "      <td>65.000000</td>\n",
              "      <td>0.733673</td>\n",
              "    </tr>\n",
              "    <tr>\n",
              "      <th>45</th>\n",
              "      <td>2.377551</td>\n",
              "      <td>8.612245</td>\n",
              "      <td>6.989796</td>\n",
              "      <td>59.285714</td>\n",
              "      <td>0.513265</td>\n",
              "    </tr>\n",
              "    <tr>\n",
              "      <th>46</th>\n",
              "      <td>2.683673</td>\n",
              "      <td>8.775510</td>\n",
              "      <td>10.357143</td>\n",
              "      <td>57.857143</td>\n",
              "      <td>0.201020</td>\n",
              "    </tr>\n",
              "    <tr>\n",
              "      <th>47</th>\n",
              "      <td>3.173469</td>\n",
              "      <td>10.000000</td>\n",
              "      <td>8.520408</td>\n",
              "      <td>63.571429</td>\n",
              "      <td>0.696939</td>\n",
              "    </tr>\n",
              "    <tr>\n",
              "      <th>48</th>\n",
              "      <td>2.561224</td>\n",
              "      <td>10.081633</td>\n",
              "      <td>6.071429</td>\n",
              "      <td>39.285714</td>\n",
              "      <td>0.715306</td>\n",
              "    </tr>\n",
              "    <tr>\n",
              "      <th>49</th>\n",
              "      <td>1.826531</td>\n",
              "      <td>10.816327</td>\n",
              "      <td>14.948980</td>\n",
              "      <td>42.142857</td>\n",
              "      <td>0.347959</td>\n",
              "    </tr>\n",
              "  </tbody>\n",
              "</table>\n",
              "</div>\n",
              "      <button class=\"colab-df-convert\" onclick=\"convertToInteractive('df-8fdf50e5-dfe2-4dcc-88f1-6c5f7f204dc0')\"\n",
              "              title=\"Convert this dataframe to an interactive table.\"\n",
              "              style=\"display:none;\">\n",
              "        \n",
              "  <svg xmlns=\"http://www.w3.org/2000/svg\" height=\"24px\"viewBox=\"0 0 24 24\"\n",
              "       width=\"24px\">\n",
              "    <path d=\"M0 0h24v24H0V0z\" fill=\"none\"/>\n",
              "    <path d=\"M18.56 5.44l.94 2.06.94-2.06 2.06-.94-2.06-.94-.94-2.06-.94 2.06-2.06.94zm-11 1L8.5 8.5l.94-2.06 2.06-.94-2.06-.94L8.5 2.5l-.94 2.06-2.06.94zm10 10l.94 2.06.94-2.06 2.06-.94-2.06-.94-.94-2.06-.94 2.06-2.06.94z\"/><path d=\"M17.41 7.96l-1.37-1.37c-.4-.4-.92-.59-1.43-.59-.52 0-1.04.2-1.43.59L10.3 9.45l-7.72 7.72c-.78.78-.78 2.05 0 2.83L4 21.41c.39.39.9.59 1.41.59.51 0 1.02-.2 1.41-.59l7.78-7.78 2.81-2.81c.8-.78.8-2.07 0-2.86zM5.41 20L4 18.59l7.72-7.72 1.47 1.35L5.41 20z\"/>\n",
              "  </svg>\n",
              "      </button>\n",
              "      \n",
              "  <style>\n",
              "    .colab-df-container {\n",
              "      display:flex;\n",
              "      flex-wrap:wrap;\n",
              "      gap: 12px;\n",
              "    }\n",
              "\n",
              "    .colab-df-convert {\n",
              "      background-color: #E8F0FE;\n",
              "      border: none;\n",
              "      border-radius: 50%;\n",
              "      cursor: pointer;\n",
              "      display: none;\n",
              "      fill: #1967D2;\n",
              "      height: 32px;\n",
              "      padding: 0 0 0 0;\n",
              "      width: 32px;\n",
              "    }\n",
              "\n",
              "    .colab-df-convert:hover {\n",
              "      background-color: #E2EBFA;\n",
              "      box-shadow: 0px 1px 2px rgba(60, 64, 67, 0.3), 0px 1px 3px 1px rgba(60, 64, 67, 0.15);\n",
              "      fill: #174EA6;\n",
              "    }\n",
              "\n",
              "    [theme=dark] .colab-df-convert {\n",
              "      background-color: #3B4455;\n",
              "      fill: #D2E3FC;\n",
              "    }\n",
              "\n",
              "    [theme=dark] .colab-df-convert:hover {\n",
              "      background-color: #434B5C;\n",
              "      box-shadow: 0px 1px 3px 1px rgba(0, 0, 0, 0.15);\n",
              "      filter: drop-shadow(0px 1px 2px rgba(0, 0, 0, 0.3));\n",
              "      fill: #FFFFFF;\n",
              "    }\n",
              "  </style>\n",
              "\n",
              "      <script>\n",
              "        const buttonEl =\n",
              "          document.querySelector('#df-8fdf50e5-dfe2-4dcc-88f1-6c5f7f204dc0 button.colab-df-convert');\n",
              "        buttonEl.style.display =\n",
              "          google.colab.kernel.accessAllowed ? 'block' : 'none';\n",
              "\n",
              "        async function convertToInteractive(key) {\n",
              "          const element = document.querySelector('#df-8fdf50e5-dfe2-4dcc-88f1-6c5f7f204dc0');\n",
              "          const dataTable =\n",
              "            await google.colab.kernel.invokeFunction('convertToInteractive',\n",
              "                                                     [key], {});\n",
              "          if (!dataTable) return;\n",
              "\n",
              "          const docLinkHtml = 'Like what you see? Visit the ' +\n",
              "            '<a target=\"_blank\" href=https://colab.research.google.com/notebooks/data_table.ipynb>data table notebook</a>'\n",
              "            + ' to learn more about interactive tables.';\n",
              "          element.innerHTML = '';\n",
              "          dataTable['output_type'] = 'display_data';\n",
              "          await google.colab.output.renderOutput(dataTable, element);\n",
              "          const docLink = document.createElement('div');\n",
              "          docLink.innerHTML = docLinkHtml;\n",
              "          element.appendChild(docLink);\n",
              "        }\n",
              "      </script>\n",
              "    </div>\n",
              "  </div>\n",
              "  "
            ]
          },
          "metadata": {},
          "execution_count": 7
        }
      ]
    },
    {
      "cell_type": "code",
      "source": [
        "# Visualize Target data\n",
        "tar"
      ],
      "metadata": {
        "colab": {
          "base_uri": "https://localhost:8080/",
          "height": 1000
        },
        "id": "HlNJlLPiaCc-",
        "outputId": "daf74146-e84e-4ee2-f95c-3bdc864b6e3e"
      },
      "execution_count": 8,
      "outputs": [
        {
          "output_type": "execute_result",
          "data": {
            "text/plain": [
              "         Y:Prod\n",
              "0   1565.310032\n",
              "1    854.449233\n",
              "2   1206.096655\n",
              "3   1587.937536\n",
              "4    811.552990\n",
              "5    841.498708\n",
              "6    645.865240\n",
              "7    978.321190\n",
              "8   1026.259363\n",
              "9   1307.342791\n",
              "10  1034.087373\n",
              "11  1268.377214\n",
              "12  1489.927482\n",
              "13  1519.991505\n",
              "14  1329.314397\n",
              "15  1431.024892\n",
              "16  1566.214415\n",
              "17  1438.450932\n",
              "18   829.922168\n",
              "19   705.006062\n",
              "20  1432.165084\n",
              "21   188.373235\n",
              "22  1498.950979\n",
              "23   920.615983\n",
              "24  1489.455399\n",
              "25  1236.052063\n",
              "26  1323.995868\n",
              "27  1490.703545\n",
              "28  1317.719495\n",
              "29  1463.746193\n",
              "30   645.619453\n",
              "31   518.689144\n",
              "32  1508.020685\n",
              "33   681.907720\n",
              "34   643.253098\n",
              "35  1171.922602\n",
              "36  1526.807598\n",
              "37   710.178986\n",
              "38   547.065997\n",
              "39  1239.099547\n",
              "40  1275.603244\n",
              "41  1516.383691\n",
              "42  1472.959836\n",
              "43  1561.436696\n",
              "44   895.407343\n",
              "45  1139.068175\n",
              "46  1424.484490\n",
              "47  1464.164972\n",
              "48   639.543576\n",
              "49  1297.031632"
            ],
            "text/html": [
              "\n",
              "  <div id=\"df-939b7794-9950-43a3-899f-53665c3c93e7\">\n",
              "    <div class=\"colab-df-container\">\n",
              "      <div>\n",
              "<style scoped>\n",
              "    .dataframe tbody tr th:only-of-type {\n",
              "        vertical-align: middle;\n",
              "    }\n",
              "\n",
              "    .dataframe tbody tr th {\n",
              "        vertical-align: top;\n",
              "    }\n",
              "\n",
              "    .dataframe thead th {\n",
              "        text-align: right;\n",
              "    }\n",
              "</style>\n",
              "<table border=\"1\" class=\"dataframe\">\n",
              "  <thead>\n",
              "    <tr style=\"text-align: right;\">\n",
              "      <th></th>\n",
              "      <th>Y:Prod</th>\n",
              "    </tr>\n",
              "  </thead>\n",
              "  <tbody>\n",
              "    <tr>\n",
              "      <th>0</th>\n",
              "      <td>1565.310032</td>\n",
              "    </tr>\n",
              "    <tr>\n",
              "      <th>1</th>\n",
              "      <td>854.449233</td>\n",
              "    </tr>\n",
              "    <tr>\n",
              "      <th>2</th>\n",
              "      <td>1206.096655</td>\n",
              "    </tr>\n",
              "    <tr>\n",
              "      <th>3</th>\n",
              "      <td>1587.937536</td>\n",
              "    </tr>\n",
              "    <tr>\n",
              "      <th>4</th>\n",
              "      <td>811.552990</td>\n",
              "    </tr>\n",
              "    <tr>\n",
              "      <th>5</th>\n",
              "      <td>841.498708</td>\n",
              "    </tr>\n",
              "    <tr>\n",
              "      <th>6</th>\n",
              "      <td>645.865240</td>\n",
              "    </tr>\n",
              "    <tr>\n",
              "      <th>7</th>\n",
              "      <td>978.321190</td>\n",
              "    </tr>\n",
              "    <tr>\n",
              "      <th>8</th>\n",
              "      <td>1026.259363</td>\n",
              "    </tr>\n",
              "    <tr>\n",
              "      <th>9</th>\n",
              "      <td>1307.342791</td>\n",
              "    </tr>\n",
              "    <tr>\n",
              "      <th>10</th>\n",
              "      <td>1034.087373</td>\n",
              "    </tr>\n",
              "    <tr>\n",
              "      <th>11</th>\n",
              "      <td>1268.377214</td>\n",
              "    </tr>\n",
              "    <tr>\n",
              "      <th>12</th>\n",
              "      <td>1489.927482</td>\n",
              "    </tr>\n",
              "    <tr>\n",
              "      <th>13</th>\n",
              "      <td>1519.991505</td>\n",
              "    </tr>\n",
              "    <tr>\n",
              "      <th>14</th>\n",
              "      <td>1329.314397</td>\n",
              "    </tr>\n",
              "    <tr>\n",
              "      <th>15</th>\n",
              "      <td>1431.024892</td>\n",
              "    </tr>\n",
              "    <tr>\n",
              "      <th>16</th>\n",
              "      <td>1566.214415</td>\n",
              "    </tr>\n",
              "    <tr>\n",
              "      <th>17</th>\n",
              "      <td>1438.450932</td>\n",
              "    </tr>\n",
              "    <tr>\n",
              "      <th>18</th>\n",
              "      <td>829.922168</td>\n",
              "    </tr>\n",
              "    <tr>\n",
              "      <th>19</th>\n",
              "      <td>705.006062</td>\n",
              "    </tr>\n",
              "    <tr>\n",
              "      <th>20</th>\n",
              "      <td>1432.165084</td>\n",
              "    </tr>\n",
              "    <tr>\n",
              "      <th>21</th>\n",
              "      <td>188.373235</td>\n",
              "    </tr>\n",
              "    <tr>\n",
              "      <th>22</th>\n",
              "      <td>1498.950979</td>\n",
              "    </tr>\n",
              "    <tr>\n",
              "      <th>23</th>\n",
              "      <td>920.615983</td>\n",
              "    </tr>\n",
              "    <tr>\n",
              "      <th>24</th>\n",
              "      <td>1489.455399</td>\n",
              "    </tr>\n",
              "    <tr>\n",
              "      <th>25</th>\n",
              "      <td>1236.052063</td>\n",
              "    </tr>\n",
              "    <tr>\n",
              "      <th>26</th>\n",
              "      <td>1323.995868</td>\n",
              "    </tr>\n",
              "    <tr>\n",
              "      <th>27</th>\n",
              "      <td>1490.703545</td>\n",
              "    </tr>\n",
              "    <tr>\n",
              "      <th>28</th>\n",
              "      <td>1317.719495</td>\n",
              "    </tr>\n",
              "    <tr>\n",
              "      <th>29</th>\n",
              "      <td>1463.746193</td>\n",
              "    </tr>\n",
              "    <tr>\n",
              "      <th>30</th>\n",
              "      <td>645.619453</td>\n",
              "    </tr>\n",
              "    <tr>\n",
              "      <th>31</th>\n",
              "      <td>518.689144</td>\n",
              "    </tr>\n",
              "    <tr>\n",
              "      <th>32</th>\n",
              "      <td>1508.020685</td>\n",
              "    </tr>\n",
              "    <tr>\n",
              "      <th>33</th>\n",
              "      <td>681.907720</td>\n",
              "    </tr>\n",
              "    <tr>\n",
              "      <th>34</th>\n",
              "      <td>643.253098</td>\n",
              "    </tr>\n",
              "    <tr>\n",
              "      <th>35</th>\n",
              "      <td>1171.922602</td>\n",
              "    </tr>\n",
              "    <tr>\n",
              "      <th>36</th>\n",
              "      <td>1526.807598</td>\n",
              "    </tr>\n",
              "    <tr>\n",
              "      <th>37</th>\n",
              "      <td>710.178986</td>\n",
              "    </tr>\n",
              "    <tr>\n",
              "      <th>38</th>\n",
              "      <td>547.065997</td>\n",
              "    </tr>\n",
              "    <tr>\n",
              "      <th>39</th>\n",
              "      <td>1239.099547</td>\n",
              "    </tr>\n",
              "    <tr>\n",
              "      <th>40</th>\n",
              "      <td>1275.603244</td>\n",
              "    </tr>\n",
              "    <tr>\n",
              "      <th>41</th>\n",
              "      <td>1516.383691</td>\n",
              "    </tr>\n",
              "    <tr>\n",
              "      <th>42</th>\n",
              "      <td>1472.959836</td>\n",
              "    </tr>\n",
              "    <tr>\n",
              "      <th>43</th>\n",
              "      <td>1561.436696</td>\n",
              "    </tr>\n",
              "    <tr>\n",
              "      <th>44</th>\n",
              "      <td>895.407343</td>\n",
              "    </tr>\n",
              "    <tr>\n",
              "      <th>45</th>\n",
              "      <td>1139.068175</td>\n",
              "    </tr>\n",
              "    <tr>\n",
              "      <th>46</th>\n",
              "      <td>1424.484490</td>\n",
              "    </tr>\n",
              "    <tr>\n",
              "      <th>47</th>\n",
              "      <td>1464.164972</td>\n",
              "    </tr>\n",
              "    <tr>\n",
              "      <th>48</th>\n",
              "      <td>639.543576</td>\n",
              "    </tr>\n",
              "    <tr>\n",
              "      <th>49</th>\n",
              "      <td>1297.031632</td>\n",
              "    </tr>\n",
              "  </tbody>\n",
              "</table>\n",
              "</div>\n",
              "      <button class=\"colab-df-convert\" onclick=\"convertToInteractive('df-939b7794-9950-43a3-899f-53665c3c93e7')\"\n",
              "              title=\"Convert this dataframe to an interactive table.\"\n",
              "              style=\"display:none;\">\n",
              "        \n",
              "  <svg xmlns=\"http://www.w3.org/2000/svg\" height=\"24px\"viewBox=\"0 0 24 24\"\n",
              "       width=\"24px\">\n",
              "    <path d=\"M0 0h24v24H0V0z\" fill=\"none\"/>\n",
              "    <path d=\"M18.56 5.44l.94 2.06.94-2.06 2.06-.94-2.06-.94-.94-2.06-.94 2.06-2.06.94zm-11 1L8.5 8.5l.94-2.06 2.06-.94-2.06-.94L8.5 2.5l-.94 2.06-2.06.94zm10 10l.94 2.06.94-2.06 2.06-.94-2.06-.94-.94-2.06-.94 2.06-2.06.94z\"/><path d=\"M17.41 7.96l-1.37-1.37c-.4-.4-.92-.59-1.43-.59-.52 0-1.04.2-1.43.59L10.3 9.45l-7.72 7.72c-.78.78-.78 2.05 0 2.83L4 21.41c.39.39.9.59 1.41.59.51 0 1.02-.2 1.41-.59l7.78-7.78 2.81-2.81c.8-.78.8-2.07 0-2.86zM5.41 20L4 18.59l7.72-7.72 1.47 1.35L5.41 20z\"/>\n",
              "  </svg>\n",
              "      </button>\n",
              "      \n",
              "  <style>\n",
              "    .colab-df-container {\n",
              "      display:flex;\n",
              "      flex-wrap:wrap;\n",
              "      gap: 12px;\n",
              "    }\n",
              "\n",
              "    .colab-df-convert {\n",
              "      background-color: #E8F0FE;\n",
              "      border: none;\n",
              "      border-radius: 50%;\n",
              "      cursor: pointer;\n",
              "      display: none;\n",
              "      fill: #1967D2;\n",
              "      height: 32px;\n",
              "      padding: 0 0 0 0;\n",
              "      width: 32px;\n",
              "    }\n",
              "\n",
              "    .colab-df-convert:hover {\n",
              "      background-color: #E2EBFA;\n",
              "      box-shadow: 0px 1px 2px rgba(60, 64, 67, 0.3), 0px 1px 3px 1px rgba(60, 64, 67, 0.15);\n",
              "      fill: #174EA6;\n",
              "    }\n",
              "\n",
              "    [theme=dark] .colab-df-convert {\n",
              "      background-color: #3B4455;\n",
              "      fill: #D2E3FC;\n",
              "    }\n",
              "\n",
              "    [theme=dark] .colab-df-convert:hover {\n",
              "      background-color: #434B5C;\n",
              "      box-shadow: 0px 1px 3px 1px rgba(0, 0, 0, 0.15);\n",
              "      filter: drop-shadow(0px 1px 2px rgba(0, 0, 0, 0.3));\n",
              "      fill: #FFFFFF;\n",
              "    }\n",
              "  </style>\n",
              "\n",
              "      <script>\n",
              "        const buttonEl =\n",
              "          document.querySelector('#df-939b7794-9950-43a3-899f-53665c3c93e7 button.colab-df-convert');\n",
              "        buttonEl.style.display =\n",
              "          google.colab.kernel.accessAllowed ? 'block' : 'none';\n",
              "\n",
              "        async function convertToInteractive(key) {\n",
              "          const element = document.querySelector('#df-939b7794-9950-43a3-899f-53665c3c93e7');\n",
              "          const dataTable =\n",
              "            await google.colab.kernel.invokeFunction('convertToInteractive',\n",
              "                                                     [key], {});\n",
              "          if (!dataTable) return;\n",
              "\n",
              "          const docLinkHtml = 'Like what you see? Visit the ' +\n",
              "            '<a target=\"_blank\" href=https://colab.research.google.com/notebooks/data_table.ipynb>data table notebook</a>'\n",
              "            + ' to learn more about interactive tables.';\n",
              "          element.innerHTML = '';\n",
              "          dataTable['output_type'] = 'display_data';\n",
              "          await google.colab.output.renderOutput(dataTable, element);\n",
              "          const docLink = document.createElement('div');\n",
              "          docLink.innerHTML = docLinkHtml;\n",
              "          element.appendChild(docLink);\n",
              "        }\n",
              "      </script>\n",
              "    </div>\n",
              "  </div>\n",
              "  "
            ]
          },
          "metadata": {},
          "execution_count": 8
        }
      ]
    },
    {
      "cell_type": "markdown",
      "source": [
        "## Multiple Linear Regression \n",
        "\n",
        "We first train/fit a quadratic MLR model to the final titer, using the data loaded above.\n",
        "We then characterize the performance of the model using ANOVA, where the user can have information about the importance of each coefficient and of the overal model."
      ],
      "metadata": {
        "id": "kkEQIZOLGwjz"
      }
    },
    {
      "cell_type": "markdown",
      "source": [
        "### Create linear model with preprocessing\n",
        "\n",
        "Here we create a linear model to predict the value of the final titer given the initial conditions.\n",
        "\n",
        "* Input matrix: \"doe\". This corresponds to the values of the manipulated process parameters for each experiment.\n",
        "* Output target: \"tar\". This corresponds to the final value of titer at the end of each experiment. (or aggregates)"
      ],
      "metadata": {
        "id": "iXJI69b1HLZJ"
      }
    },
    {
      "cell_type": "code",
      "source": [
        "# Fit Linear Model\n",
        "datascaler = StandardScaler()\n",
        "does = datascaler.fit_transform(doe.values)\n",
        "\n",
        "X = sm.add_constant(does)\n",
        "y = tar.values\n",
        "mod = sm.OLS(y, X)\n",
        "res = mod.fit()\n",
        "print(res.summary())"
      ],
      "metadata": {
        "id": "_KLlhxUCsbiO",
        "outputId": "134c99c6-09f2-489c-a0a5-6ff5e55a81c9",
        "colab": {
          "base_uri": "https://localhost:8080/"
        }
      },
      "execution_count": 9,
      "outputs": [
        {
          "output_type": "stream",
          "name": "stdout",
          "text": [
            "                            OLS Regression Results                            \n",
            "==============================================================================\n",
            "Dep. Variable:                      y   R-squared:                       0.269\n",
            "Model:                            OLS   Adj. R-squared:                  0.186\n",
            "Method:                 Least Squares   F-statistic:                     3.240\n",
            "Date:                Wed, 27 Apr 2022   Prob (F-statistic):             0.0141\n",
            "Time:                        08:36:44   Log-Likelihood:                -357.18\n",
            "No. Observations:                  50   AIC:                             726.4\n",
            "Df Residuals:                      44   BIC:                             737.8\n",
            "Df Model:                           5                                         \n",
            "Covariance Type:            nonrobust                                         \n",
            "==============================================================================\n",
            "                 coef    std err          t      P>|t|      [0.025      0.975]\n",
            "------------------------------------------------------------------------------\n",
            "const       1153.5475     46.179     24.980      0.000    1060.480    1246.615\n",
            "x1            66.2397     47.334      1.399      0.169     -29.156     161.635\n",
            "x2           109.1749     47.629      2.292      0.027      13.184     205.166\n",
            "x3            58.6069     47.344      1.238      0.222     -36.809     154.023\n",
            "x4            75.0607     47.819      1.570      0.124     -21.313     171.434\n",
            "x5            72.4612     49.215      1.472      0.148     -26.725     171.647\n",
            "==============================================================================\n",
            "Omnibus:                        3.705   Durbin-Watson:                   1.875\n",
            "Prob(Omnibus):                  0.157   Jarque-Bera (JB):                3.534\n",
            "Skew:                          -0.604   Prob(JB):                        0.171\n",
            "Kurtosis:                       2.514   Cond. No.                         1.45\n",
            "==============================================================================\n",
            "\n",
            "Warnings:\n",
            "[1] Standard Errors assume that the covariance matrix of the errors is correctly specified.\n"
          ]
        }
      ]
    },
    {
      "cell_type": "markdown",
      "source": [
        "### Evaluate model prediction on train set and model inference\n",
        "\n",
        "\n",
        "In this section, we check the predictions of the models versus the training data for the final titer.\n"
      ],
      "metadata": {
        "id": "_HtEIdIyHVTo"
      }
    },
    {
      "cell_type": "code",
      "source": [
        "# Use data normalization\n",
        "use_norm = True\n",
        "# Use bias term\n",
        "use_bias = True\n",
        "# Use polynomial features of degree\n",
        "use_degree = 2\n",
        "# Use only interaction terms form higher degree polynomial features\n",
        "use_inter = True"
      ],
      "metadata": {
        "id": "xLFJfRVjhzeV"
      },
      "execution_count": 16,
      "outputs": []
    },
    {
      "cell_type": "code",
      "source": [
        "# Define pipeline\n",
        "pfeatures = PolynomialFeatures(degree=use_degree,interaction_only=use_inter, include_bias=use_bias)\n",
        "pscaler = StandardScaler(with_mean=use_norm,with_std=use_norm)\n",
        "lm = LinearRegression()\n",
        "pipe = Pipeline([('features', pfeatures),('scaler', pscaler), ('model', lm)])\n",
        "# Fit model\n",
        "X = doe\n",
        "y = tar\n",
        "pipe.fit(X,y)"
      ],
      "metadata": {
        "colab": {
          "base_uri": "https://localhost:8080/"
        },
        "id": "OEvXt2pQiy9-",
        "outputId": "6d51c3ce-cc93-4416-fb2f-6fe84adb9c89"
      },
      "execution_count": 17,
      "outputs": [
        {
          "output_type": "execute_result",
          "data": {
            "text/plain": [
              "Pipeline(steps=[('features', PolynomialFeatures(interaction_only=True)),\n",
              "                ('scaler', StandardScaler()), ('model', LinearRegression())])"
            ]
          },
          "metadata": {},
          "execution_count": 17
        }
      ]
    },
    {
      "cell_type": "code",
      "source": [
        "# Model coefficients\n",
        "columns = pfeatures.get_feature_names_out()\n",
        "coefficients = lm.coef_\n",
        "fig = px.bar(x=list(columns),y=coefficients.reshape(-1),title=\"Linear model coefficients\")\n",
        "fig.show()"
      ],
      "metadata": {
        "colab": {
          "base_uri": "https://localhost:8080/",
          "height": 542
        },
        "id": "YbA0jrenv1X1",
        "outputId": "23780c93-3b31-49df-f472-a0cbadae62be"
      },
      "execution_count": 18,
      "outputs": [
        {
          "output_type": "display_data",
          "data": {
            "text/html": [
              "<html>\n",
              "<head><meta charset=\"utf-8\" /></head>\n",
              "<body>\n",
              "    <div>            <script src=\"https://cdnjs.cloudflare.com/ajax/libs/mathjax/2.7.5/MathJax.js?config=TeX-AMS-MML_SVG\"></script><script type=\"text/javascript\">if (window.MathJax) {MathJax.Hub.Config({SVG: {font: \"STIX-Web\"}});}</script>                <script type=\"text/javascript\">window.PlotlyConfig = {MathJaxConfig: 'local'};</script>\n",
              "        <script src=\"https://cdn.plot.ly/plotly-2.8.3.min.js\"></script>                <div id=\"ea02cf00-b19b-4dd2-a2cb-a95193d2362f\" class=\"plotly-graph-div\" style=\"height:525px; width:100%;\"></div>            <script type=\"text/javascript\">                                    window.PLOTLYENV=window.PLOTLYENV || {};                                    if (document.getElementById(\"ea02cf00-b19b-4dd2-a2cb-a95193d2362f\")) {                    Plotly.newPlot(                        \"ea02cf00-b19b-4dd2-a2cb-a95193d2362f\",                        [{\"alignmentgroup\":\"True\",\"hovertemplate\":\"x=%{x}<br>y=%{y}<extra></extra>\",\"legendgroup\":\"\",\"marker\":{\"color\":\"#636efa\",\"pattern\":{\"shape\":\"\"}},\"name\":\"\",\"offsetgroup\":\"\",\"orientation\":\"v\",\"showlegend\":false,\"textposition\":\"auto\",\"x\":[\"1\",\"feed_start\",\"feed_end\",\"Glc_feed_rate\",\"Glc_0\",\"VCD_0\",\"feed_start feed_end\",\"feed_start Glc_feed_rate\",\"feed_start Glc_0\",\"feed_start VCD_0\",\"feed_end Glc_feed_rate\",\"feed_end Glc_0\",\"feed_end VCD_0\",\"Glc_feed_rate Glc_0\",\"Glc_feed_rate VCD_0\",\"Glc_0 VCD_0\"],\"xaxis\":\"x\",\"y\":[0.0,371.41459914316357,480.7460156560933,475.9733252387647,646.9001654518179,-167.7257318362298,-817.5879855215925,540.7037881868036,166.71629488246566,-85.70326774268466,-427.2289003302374,-123.59606665514288,59.36489871298458,-837.4538446606261,239.81243914784824,131.32411418038072],\"yaxis\":\"y\",\"type\":\"bar\"}],                        {\"template\":{\"data\":{\"bar\":[{\"error_x\":{\"color\":\"#2a3f5f\"},\"error_y\":{\"color\":\"#2a3f5f\"},\"marker\":{\"line\":{\"color\":\"#E5ECF6\",\"width\":0.5},\"pattern\":{\"fillmode\":\"overlay\",\"size\":10,\"solidity\":0.2}},\"type\":\"bar\"}],\"barpolar\":[{\"marker\":{\"line\":{\"color\":\"#E5ECF6\",\"width\":0.5},\"pattern\":{\"fillmode\":\"overlay\",\"size\":10,\"solidity\":0.2}},\"type\":\"barpolar\"}],\"carpet\":[{\"aaxis\":{\"endlinecolor\":\"#2a3f5f\",\"gridcolor\":\"white\",\"linecolor\":\"white\",\"minorgridcolor\":\"white\",\"startlinecolor\":\"#2a3f5f\"},\"baxis\":{\"endlinecolor\":\"#2a3f5f\",\"gridcolor\":\"white\",\"linecolor\":\"white\",\"minorgridcolor\":\"white\",\"startlinecolor\":\"#2a3f5f\"},\"type\":\"carpet\"}],\"choropleth\":[{\"colorbar\":{\"outlinewidth\":0,\"ticks\":\"\"},\"type\":\"choropleth\"}],\"contour\":[{\"colorbar\":{\"outlinewidth\":0,\"ticks\":\"\"},\"colorscale\":[[0.0,\"#0d0887\"],[0.1111111111111111,\"#46039f\"],[0.2222222222222222,\"#7201a8\"],[0.3333333333333333,\"#9c179e\"],[0.4444444444444444,\"#bd3786\"],[0.5555555555555556,\"#d8576b\"],[0.6666666666666666,\"#ed7953\"],[0.7777777777777778,\"#fb9f3a\"],[0.8888888888888888,\"#fdca26\"],[1.0,\"#f0f921\"]],\"type\":\"contour\"}],\"contourcarpet\":[{\"colorbar\":{\"outlinewidth\":0,\"ticks\":\"\"},\"type\":\"contourcarpet\"}],\"heatmap\":[{\"colorbar\":{\"outlinewidth\":0,\"ticks\":\"\"},\"colorscale\":[[0.0,\"#0d0887\"],[0.1111111111111111,\"#46039f\"],[0.2222222222222222,\"#7201a8\"],[0.3333333333333333,\"#9c179e\"],[0.4444444444444444,\"#bd3786\"],[0.5555555555555556,\"#d8576b\"],[0.6666666666666666,\"#ed7953\"],[0.7777777777777778,\"#fb9f3a\"],[0.8888888888888888,\"#fdca26\"],[1.0,\"#f0f921\"]],\"type\":\"heatmap\"}],\"heatmapgl\":[{\"colorbar\":{\"outlinewidth\":0,\"ticks\":\"\"},\"colorscale\":[[0.0,\"#0d0887\"],[0.1111111111111111,\"#46039f\"],[0.2222222222222222,\"#7201a8\"],[0.3333333333333333,\"#9c179e\"],[0.4444444444444444,\"#bd3786\"],[0.5555555555555556,\"#d8576b\"],[0.6666666666666666,\"#ed7953\"],[0.7777777777777778,\"#fb9f3a\"],[0.8888888888888888,\"#fdca26\"],[1.0,\"#f0f921\"]],\"type\":\"heatmapgl\"}],\"histogram\":[{\"marker\":{\"pattern\":{\"fillmode\":\"overlay\",\"size\":10,\"solidity\":0.2}},\"type\":\"histogram\"}],\"histogram2d\":[{\"colorbar\":{\"outlinewidth\":0,\"ticks\":\"\"},\"colorscale\":[[0.0,\"#0d0887\"],[0.1111111111111111,\"#46039f\"],[0.2222222222222222,\"#7201a8\"],[0.3333333333333333,\"#9c179e\"],[0.4444444444444444,\"#bd3786\"],[0.5555555555555556,\"#d8576b\"],[0.6666666666666666,\"#ed7953\"],[0.7777777777777778,\"#fb9f3a\"],[0.8888888888888888,\"#fdca26\"],[1.0,\"#f0f921\"]],\"type\":\"histogram2d\"}],\"histogram2dcontour\":[{\"colorbar\":{\"outlinewidth\":0,\"ticks\":\"\"},\"colorscale\":[[0.0,\"#0d0887\"],[0.1111111111111111,\"#46039f\"],[0.2222222222222222,\"#7201a8\"],[0.3333333333333333,\"#9c179e\"],[0.4444444444444444,\"#bd3786\"],[0.5555555555555556,\"#d8576b\"],[0.6666666666666666,\"#ed7953\"],[0.7777777777777778,\"#fb9f3a\"],[0.8888888888888888,\"#fdca26\"],[1.0,\"#f0f921\"]],\"type\":\"histogram2dcontour\"}],\"mesh3d\":[{\"colorbar\":{\"outlinewidth\":0,\"ticks\":\"\"},\"type\":\"mesh3d\"}],\"parcoords\":[{\"line\":{\"colorbar\":{\"outlinewidth\":0,\"ticks\":\"\"}},\"type\":\"parcoords\"}],\"pie\":[{\"automargin\":true,\"type\":\"pie\"}],\"scatter\":[{\"marker\":{\"colorbar\":{\"outlinewidth\":0,\"ticks\":\"\"}},\"type\":\"scatter\"}],\"scatter3d\":[{\"line\":{\"colorbar\":{\"outlinewidth\":0,\"ticks\":\"\"}},\"marker\":{\"colorbar\":{\"outlinewidth\":0,\"ticks\":\"\"}},\"type\":\"scatter3d\"}],\"scattercarpet\":[{\"marker\":{\"colorbar\":{\"outlinewidth\":0,\"ticks\":\"\"}},\"type\":\"scattercarpet\"}],\"scattergeo\":[{\"marker\":{\"colorbar\":{\"outlinewidth\":0,\"ticks\":\"\"}},\"type\":\"scattergeo\"}],\"scattergl\":[{\"marker\":{\"colorbar\":{\"outlinewidth\":0,\"ticks\":\"\"}},\"type\":\"scattergl\"}],\"scattermapbox\":[{\"marker\":{\"colorbar\":{\"outlinewidth\":0,\"ticks\":\"\"}},\"type\":\"scattermapbox\"}],\"scatterpolar\":[{\"marker\":{\"colorbar\":{\"outlinewidth\":0,\"ticks\":\"\"}},\"type\":\"scatterpolar\"}],\"scatterpolargl\":[{\"marker\":{\"colorbar\":{\"outlinewidth\":0,\"ticks\":\"\"}},\"type\":\"scatterpolargl\"}],\"scatterternary\":[{\"marker\":{\"colorbar\":{\"outlinewidth\":0,\"ticks\":\"\"}},\"type\":\"scatterternary\"}],\"surface\":[{\"colorbar\":{\"outlinewidth\":0,\"ticks\":\"\"},\"colorscale\":[[0.0,\"#0d0887\"],[0.1111111111111111,\"#46039f\"],[0.2222222222222222,\"#7201a8\"],[0.3333333333333333,\"#9c179e\"],[0.4444444444444444,\"#bd3786\"],[0.5555555555555556,\"#d8576b\"],[0.6666666666666666,\"#ed7953\"],[0.7777777777777778,\"#fb9f3a\"],[0.8888888888888888,\"#fdca26\"],[1.0,\"#f0f921\"]],\"type\":\"surface\"}],\"table\":[{\"cells\":{\"fill\":{\"color\":\"#EBF0F8\"},\"line\":{\"color\":\"white\"}},\"header\":{\"fill\":{\"color\":\"#C8D4E3\"},\"line\":{\"color\":\"white\"}},\"type\":\"table\"}]},\"layout\":{\"annotationdefaults\":{\"arrowcolor\":\"#2a3f5f\",\"arrowhead\":0,\"arrowwidth\":1},\"autotypenumbers\":\"strict\",\"coloraxis\":{\"colorbar\":{\"outlinewidth\":0,\"ticks\":\"\"}},\"colorscale\":{\"diverging\":[[0,\"#8e0152\"],[0.1,\"#c51b7d\"],[0.2,\"#de77ae\"],[0.3,\"#f1b6da\"],[0.4,\"#fde0ef\"],[0.5,\"#f7f7f7\"],[0.6,\"#e6f5d0\"],[0.7,\"#b8e186\"],[0.8,\"#7fbc41\"],[0.9,\"#4d9221\"],[1,\"#276419\"]],\"sequential\":[[0.0,\"#0d0887\"],[0.1111111111111111,\"#46039f\"],[0.2222222222222222,\"#7201a8\"],[0.3333333333333333,\"#9c179e\"],[0.4444444444444444,\"#bd3786\"],[0.5555555555555556,\"#d8576b\"],[0.6666666666666666,\"#ed7953\"],[0.7777777777777778,\"#fb9f3a\"],[0.8888888888888888,\"#fdca26\"],[1.0,\"#f0f921\"]],\"sequentialminus\":[[0.0,\"#0d0887\"],[0.1111111111111111,\"#46039f\"],[0.2222222222222222,\"#7201a8\"],[0.3333333333333333,\"#9c179e\"],[0.4444444444444444,\"#bd3786\"],[0.5555555555555556,\"#d8576b\"],[0.6666666666666666,\"#ed7953\"],[0.7777777777777778,\"#fb9f3a\"],[0.8888888888888888,\"#fdca26\"],[1.0,\"#f0f921\"]]},\"colorway\":[\"#636efa\",\"#EF553B\",\"#00cc96\",\"#ab63fa\",\"#FFA15A\",\"#19d3f3\",\"#FF6692\",\"#B6E880\",\"#FF97FF\",\"#FECB52\"],\"font\":{\"color\":\"#2a3f5f\"},\"geo\":{\"bgcolor\":\"white\",\"lakecolor\":\"white\",\"landcolor\":\"#E5ECF6\",\"showlakes\":true,\"showland\":true,\"subunitcolor\":\"white\"},\"hoverlabel\":{\"align\":\"left\"},\"hovermode\":\"closest\",\"mapbox\":{\"style\":\"light\"},\"paper_bgcolor\":\"white\",\"plot_bgcolor\":\"#E5ECF6\",\"polar\":{\"angularaxis\":{\"gridcolor\":\"white\",\"linecolor\":\"white\",\"ticks\":\"\"},\"bgcolor\":\"#E5ECF6\",\"radialaxis\":{\"gridcolor\":\"white\",\"linecolor\":\"white\",\"ticks\":\"\"}},\"scene\":{\"xaxis\":{\"backgroundcolor\":\"#E5ECF6\",\"gridcolor\":\"white\",\"gridwidth\":2,\"linecolor\":\"white\",\"showbackground\":true,\"ticks\":\"\",\"zerolinecolor\":\"white\"},\"yaxis\":{\"backgroundcolor\":\"#E5ECF6\",\"gridcolor\":\"white\",\"gridwidth\":2,\"linecolor\":\"white\",\"showbackground\":true,\"ticks\":\"\",\"zerolinecolor\":\"white\"},\"zaxis\":{\"backgroundcolor\":\"#E5ECF6\",\"gridcolor\":\"white\",\"gridwidth\":2,\"linecolor\":\"white\",\"showbackground\":true,\"ticks\":\"\",\"zerolinecolor\":\"white\"}},\"shapedefaults\":{\"line\":{\"color\":\"#2a3f5f\"}},\"ternary\":{\"aaxis\":{\"gridcolor\":\"white\",\"linecolor\":\"white\",\"ticks\":\"\"},\"baxis\":{\"gridcolor\":\"white\",\"linecolor\":\"white\",\"ticks\":\"\"},\"bgcolor\":\"#E5ECF6\",\"caxis\":{\"gridcolor\":\"white\",\"linecolor\":\"white\",\"ticks\":\"\"}},\"title\":{\"x\":0.05},\"xaxis\":{\"automargin\":true,\"gridcolor\":\"white\",\"linecolor\":\"white\",\"ticks\":\"\",\"title\":{\"standoff\":15},\"zerolinecolor\":\"white\",\"zerolinewidth\":2},\"yaxis\":{\"automargin\":true,\"gridcolor\":\"white\",\"linecolor\":\"white\",\"ticks\":\"\",\"title\":{\"standoff\":15},\"zerolinecolor\":\"white\",\"zerolinewidth\":2}}},\"xaxis\":{\"anchor\":\"y\",\"domain\":[0.0,1.0],\"title\":{\"text\":\"x\"}},\"yaxis\":{\"anchor\":\"x\",\"domain\":[0.0,1.0],\"title\":{\"text\":\"y\"}},\"legend\":{\"tracegroupgap\":0},\"title\":{\"text\":\"Linear model coefficients\"},\"barmode\":\"relative\"},                        {\"responsive\": true}                    ).then(function(){\n",
              "                            \n",
              "var gd = document.getElementById('ea02cf00-b19b-4dd2-a2cb-a95193d2362f');\n",
              "var x = new MutationObserver(function (mutations, observer) {{\n",
              "        var display = window.getComputedStyle(gd).display;\n",
              "        if (!display || display === 'none') {{\n",
              "            console.log([gd, 'removed!']);\n",
              "            Plotly.purge(gd);\n",
              "            observer.disconnect();\n",
              "        }}\n",
              "}});\n",
              "\n",
              "// Listen for the removal of the full notebook cells\n",
              "var notebookContainer = gd.closest('#notebook-container');\n",
              "if (notebookContainer) {{\n",
              "    x.observe(notebookContainer, {childList: true});\n",
              "}}\n",
              "\n",
              "// Listen for the clearing of the current output cell\n",
              "var outputEl = gd.closest('.output');\n",
              "if (outputEl) {{\n",
              "    x.observe(outputEl, {childList: true});\n",
              "}}\n",
              "\n",
              "                        })                };                            </script>        </div>\n",
              "</body>\n",
              "</html>"
            ]
          },
          "metadata": {}
        }
      ]
    },
    {
      "cell_type": "markdown",
      "source": [
        "### Evaluate model prediction on train and test set"
      ],
      "metadata": {
        "id": "GyPkpFhimuLO"
      }
    },
    {
      "cell_type": "code",
      "source": [
        "# Plot predictions in train set\n",
        "yhat = pipe.predict(X)\n",
        "fig = px.scatter(x=y.values.reshape(-1),y=yhat.reshape(-1), title=\"Observed vs Predicted on Train Set; R^2 = \"+str(round(pipe.score(X,y),3)), labels=dict(x=\"Observed Titer\", y=\"Predicted Titer\"))\n",
        "fig.update_layout(shapes = [{'type': 'line', 'yref': 'paper', 'xref': 'paper', 'y0': 0, 'y1': 1, 'x0': 0, 'x1': 1, 'layer': 'below'}])\n",
        "fig.show()\n",
        "# Plot predictions in test set\n",
        "X_test = doe_test\n",
        "y_test = tar_test\n",
        "yhat_test = pipe.predict(X_test)\n",
        "fig = px.scatter(x=y_test.values.reshape(-1),y=yhat_test.reshape(-1), title=\"Observed vs Predicted on Test Set; R^2 = \"+str(round(pipe.score(X_test,y_test),3)), labels=dict(x=\"Observed Titer\", y=\"Predicted Titer\"))\n",
        "fig.update_layout(shapes = [{'type': 'line', 'yref': 'paper', 'xref': 'paper', 'y0': 0, 'y1': 1, 'x0': 0, 'x1': 1, 'layer': 'below'}])\n",
        "fig.show()"
      ],
      "metadata": {
        "id": "n9xJIvLTv5q8",
        "outputId": "19124622-3fbe-42b7-844c-3c28ca37af00",
        "colab": {
          "base_uri": "https://localhost:8080/",
          "height": 1000
        }
      },
      "execution_count": 19,
      "outputs": [
        {
          "output_type": "display_data",
          "data": {
            "text/html": [
              "<html>\n",
              "<head><meta charset=\"utf-8\" /></head>\n",
              "<body>\n",
              "    <div>            <script src=\"https://cdnjs.cloudflare.com/ajax/libs/mathjax/2.7.5/MathJax.js?config=TeX-AMS-MML_SVG\"></script><script type=\"text/javascript\">if (window.MathJax) {MathJax.Hub.Config({SVG: {font: \"STIX-Web\"}});}</script>                <script type=\"text/javascript\">window.PlotlyConfig = {MathJaxConfig: 'local'};</script>\n",
              "        <script src=\"https://cdn.plot.ly/plotly-2.8.3.min.js\"></script>                <div id=\"fb12757e-23f2-4a23-99db-7bd0914a1151\" class=\"plotly-graph-div\" style=\"height:525px; width:100%;\"></div>            <script type=\"text/javascript\">                                    window.PLOTLYENV=window.PLOTLYENV || {};                                    if (document.getElementById(\"fb12757e-23f2-4a23-99db-7bd0914a1151\")) {                    Plotly.newPlot(                        \"fb12757e-23f2-4a23-99db-7bd0914a1151\",                        [{\"hovertemplate\":\"Observed Titer=%{x}<br>Predicted Titer=%{y}<extra></extra>\",\"legendgroup\":\"\",\"marker\":{\"color\":\"#636efa\",\"symbol\":\"circle\"},\"mode\":\"markers\",\"name\":\"\",\"orientation\":\"v\",\"showlegend\":false,\"x\":[1565.3100316152315,854.4492329290191,1206.0966547089297,1587.9375363361153,811.5529901913034,841.4987076939608,645.8652400020387,978.3211904574658,1026.2593627477372,1307.3427908630745,1034.0873731742636,1268.3772140122305,1489.9274823809976,1519.9915046105887,1329.31439655397,1431.0248922870994,1566.2144147333108,1438.4509323399373,829.9221681206134,705.0060621997021,1432.1650836978292,188.37323461354003,1498.950979086217,920.6159834819938,1489.455399004581,1236.0520625432987,1323.9958683550722,1490.703545196068,1317.71949505948,1463.7461925349555,645.6194533195517,518.6891441332469,1508.020685458528,681.9077197106743,643.2530983456666,1171.9226021898683,1526.8075977874203,710.1789864596954,547.0659967970258,1239.099546696681,1275.603243989509,1516.3836910289606,1472.959836115183,1561.4366964617066,895.4073430723885,1139.0681753517283,1424.484489881591,1464.164972241741,639.5435764295627,1297.0316324502526],\"xaxis\":\"x\",\"y\":[1150.1640139844299,988.0253742450598,1287.3713708493788,1538.937494027301,879.399855093742,995.8471869415688,640.620606114355,1098.3685787254212,1023.1282284224384,1530.9740746080888,911.1277809881949,1482.4079340313488,1260.6143449634976,1362.3906546076687,1206.048618917058,1229.4859284408967,1367.3059911626056,1723.3504317729216,942.5103529891653,1022.1306454102316,1309.9801089892346,132.06057166203232,1514.9799611872347,1192.251333178009,1664.371716662403,1167.4226395807057,1426.2701494961984,1447.7822052229658,1300.8421713571313,1428.3247545065733,772.82955435244,605.8827911900617,1570.6571582947836,746.432511532081,719.6778187655286,1363.257584824632,1087.9389411410964,999.3766902971254,640.7861513025588,1195.1432078196076,1195.2731447345307,1276.4013754536097,1219.9451760873294,1608.704170778568,937.6748812112976,1118.0895604958566,1063.4069814095421,1353.0643949879075,900.0921506143243,1078.247186020866],\"yaxis\":\"y\",\"type\":\"scatter\"}],                        {\"template\":{\"data\":{\"bar\":[{\"error_x\":{\"color\":\"#2a3f5f\"},\"error_y\":{\"color\":\"#2a3f5f\"},\"marker\":{\"line\":{\"color\":\"#E5ECF6\",\"width\":0.5},\"pattern\":{\"fillmode\":\"overlay\",\"size\":10,\"solidity\":0.2}},\"type\":\"bar\"}],\"barpolar\":[{\"marker\":{\"line\":{\"color\":\"#E5ECF6\",\"width\":0.5},\"pattern\":{\"fillmode\":\"overlay\",\"size\":10,\"solidity\":0.2}},\"type\":\"barpolar\"}],\"carpet\":[{\"aaxis\":{\"endlinecolor\":\"#2a3f5f\",\"gridcolor\":\"white\",\"linecolor\":\"white\",\"minorgridcolor\":\"white\",\"startlinecolor\":\"#2a3f5f\"},\"baxis\":{\"endlinecolor\":\"#2a3f5f\",\"gridcolor\":\"white\",\"linecolor\":\"white\",\"minorgridcolor\":\"white\",\"startlinecolor\":\"#2a3f5f\"},\"type\":\"carpet\"}],\"choropleth\":[{\"colorbar\":{\"outlinewidth\":0,\"ticks\":\"\"},\"type\":\"choropleth\"}],\"contour\":[{\"colorbar\":{\"outlinewidth\":0,\"ticks\":\"\"},\"colorscale\":[[0.0,\"#0d0887\"],[0.1111111111111111,\"#46039f\"],[0.2222222222222222,\"#7201a8\"],[0.3333333333333333,\"#9c179e\"],[0.4444444444444444,\"#bd3786\"],[0.5555555555555556,\"#d8576b\"],[0.6666666666666666,\"#ed7953\"],[0.7777777777777778,\"#fb9f3a\"],[0.8888888888888888,\"#fdca26\"],[1.0,\"#f0f921\"]],\"type\":\"contour\"}],\"contourcarpet\":[{\"colorbar\":{\"outlinewidth\":0,\"ticks\":\"\"},\"type\":\"contourcarpet\"}],\"heatmap\":[{\"colorbar\":{\"outlinewidth\":0,\"ticks\":\"\"},\"colorscale\":[[0.0,\"#0d0887\"],[0.1111111111111111,\"#46039f\"],[0.2222222222222222,\"#7201a8\"],[0.3333333333333333,\"#9c179e\"],[0.4444444444444444,\"#bd3786\"],[0.5555555555555556,\"#d8576b\"],[0.6666666666666666,\"#ed7953\"],[0.7777777777777778,\"#fb9f3a\"],[0.8888888888888888,\"#fdca26\"],[1.0,\"#f0f921\"]],\"type\":\"heatmap\"}],\"heatmapgl\":[{\"colorbar\":{\"outlinewidth\":0,\"ticks\":\"\"},\"colorscale\":[[0.0,\"#0d0887\"],[0.1111111111111111,\"#46039f\"],[0.2222222222222222,\"#7201a8\"],[0.3333333333333333,\"#9c179e\"],[0.4444444444444444,\"#bd3786\"],[0.5555555555555556,\"#d8576b\"],[0.6666666666666666,\"#ed7953\"],[0.7777777777777778,\"#fb9f3a\"],[0.8888888888888888,\"#fdca26\"],[1.0,\"#f0f921\"]],\"type\":\"heatmapgl\"}],\"histogram\":[{\"marker\":{\"pattern\":{\"fillmode\":\"overlay\",\"size\":10,\"solidity\":0.2}},\"type\":\"histogram\"}],\"histogram2d\":[{\"colorbar\":{\"outlinewidth\":0,\"ticks\":\"\"},\"colorscale\":[[0.0,\"#0d0887\"],[0.1111111111111111,\"#46039f\"],[0.2222222222222222,\"#7201a8\"],[0.3333333333333333,\"#9c179e\"],[0.4444444444444444,\"#bd3786\"],[0.5555555555555556,\"#d8576b\"],[0.6666666666666666,\"#ed7953\"],[0.7777777777777778,\"#fb9f3a\"],[0.8888888888888888,\"#fdca26\"],[1.0,\"#f0f921\"]],\"type\":\"histogram2d\"}],\"histogram2dcontour\":[{\"colorbar\":{\"outlinewidth\":0,\"ticks\":\"\"},\"colorscale\":[[0.0,\"#0d0887\"],[0.1111111111111111,\"#46039f\"],[0.2222222222222222,\"#7201a8\"],[0.3333333333333333,\"#9c179e\"],[0.4444444444444444,\"#bd3786\"],[0.5555555555555556,\"#d8576b\"],[0.6666666666666666,\"#ed7953\"],[0.7777777777777778,\"#fb9f3a\"],[0.8888888888888888,\"#fdca26\"],[1.0,\"#f0f921\"]],\"type\":\"histogram2dcontour\"}],\"mesh3d\":[{\"colorbar\":{\"outlinewidth\":0,\"ticks\":\"\"},\"type\":\"mesh3d\"}],\"parcoords\":[{\"line\":{\"colorbar\":{\"outlinewidth\":0,\"ticks\":\"\"}},\"type\":\"parcoords\"}],\"pie\":[{\"automargin\":true,\"type\":\"pie\"}],\"scatter\":[{\"marker\":{\"colorbar\":{\"outlinewidth\":0,\"ticks\":\"\"}},\"type\":\"scatter\"}],\"scatter3d\":[{\"line\":{\"colorbar\":{\"outlinewidth\":0,\"ticks\":\"\"}},\"marker\":{\"colorbar\":{\"outlinewidth\":0,\"ticks\":\"\"}},\"type\":\"scatter3d\"}],\"scattercarpet\":[{\"marker\":{\"colorbar\":{\"outlinewidth\":0,\"ticks\":\"\"}},\"type\":\"scattercarpet\"}],\"scattergeo\":[{\"marker\":{\"colorbar\":{\"outlinewidth\":0,\"ticks\":\"\"}},\"type\":\"scattergeo\"}],\"scattergl\":[{\"marker\":{\"colorbar\":{\"outlinewidth\":0,\"ticks\":\"\"}},\"type\":\"scattergl\"}],\"scattermapbox\":[{\"marker\":{\"colorbar\":{\"outlinewidth\":0,\"ticks\":\"\"}},\"type\":\"scattermapbox\"}],\"scatterpolar\":[{\"marker\":{\"colorbar\":{\"outlinewidth\":0,\"ticks\":\"\"}},\"type\":\"scatterpolar\"}],\"scatterpolargl\":[{\"marker\":{\"colorbar\":{\"outlinewidth\":0,\"ticks\":\"\"}},\"type\":\"scatterpolargl\"}],\"scatterternary\":[{\"marker\":{\"colorbar\":{\"outlinewidth\":0,\"ticks\":\"\"}},\"type\":\"scatterternary\"}],\"surface\":[{\"colorbar\":{\"outlinewidth\":0,\"ticks\":\"\"},\"colorscale\":[[0.0,\"#0d0887\"],[0.1111111111111111,\"#46039f\"],[0.2222222222222222,\"#7201a8\"],[0.3333333333333333,\"#9c179e\"],[0.4444444444444444,\"#bd3786\"],[0.5555555555555556,\"#d8576b\"],[0.6666666666666666,\"#ed7953\"],[0.7777777777777778,\"#fb9f3a\"],[0.8888888888888888,\"#fdca26\"],[1.0,\"#f0f921\"]],\"type\":\"surface\"}],\"table\":[{\"cells\":{\"fill\":{\"color\":\"#EBF0F8\"},\"line\":{\"color\":\"white\"}},\"header\":{\"fill\":{\"color\":\"#C8D4E3\"},\"line\":{\"color\":\"white\"}},\"type\":\"table\"}]},\"layout\":{\"annotationdefaults\":{\"arrowcolor\":\"#2a3f5f\",\"arrowhead\":0,\"arrowwidth\":1},\"autotypenumbers\":\"strict\",\"coloraxis\":{\"colorbar\":{\"outlinewidth\":0,\"ticks\":\"\"}},\"colorscale\":{\"diverging\":[[0,\"#8e0152\"],[0.1,\"#c51b7d\"],[0.2,\"#de77ae\"],[0.3,\"#f1b6da\"],[0.4,\"#fde0ef\"],[0.5,\"#f7f7f7\"],[0.6,\"#e6f5d0\"],[0.7,\"#b8e186\"],[0.8,\"#7fbc41\"],[0.9,\"#4d9221\"],[1,\"#276419\"]],\"sequential\":[[0.0,\"#0d0887\"],[0.1111111111111111,\"#46039f\"],[0.2222222222222222,\"#7201a8\"],[0.3333333333333333,\"#9c179e\"],[0.4444444444444444,\"#bd3786\"],[0.5555555555555556,\"#d8576b\"],[0.6666666666666666,\"#ed7953\"],[0.7777777777777778,\"#fb9f3a\"],[0.8888888888888888,\"#fdca26\"],[1.0,\"#f0f921\"]],\"sequentialminus\":[[0.0,\"#0d0887\"],[0.1111111111111111,\"#46039f\"],[0.2222222222222222,\"#7201a8\"],[0.3333333333333333,\"#9c179e\"],[0.4444444444444444,\"#bd3786\"],[0.5555555555555556,\"#d8576b\"],[0.6666666666666666,\"#ed7953\"],[0.7777777777777778,\"#fb9f3a\"],[0.8888888888888888,\"#fdca26\"],[1.0,\"#f0f921\"]]},\"colorway\":[\"#636efa\",\"#EF553B\",\"#00cc96\",\"#ab63fa\",\"#FFA15A\",\"#19d3f3\",\"#FF6692\",\"#B6E880\",\"#FF97FF\",\"#FECB52\"],\"font\":{\"color\":\"#2a3f5f\"},\"geo\":{\"bgcolor\":\"white\",\"lakecolor\":\"white\",\"landcolor\":\"#E5ECF6\",\"showlakes\":true,\"showland\":true,\"subunitcolor\":\"white\"},\"hoverlabel\":{\"align\":\"left\"},\"hovermode\":\"closest\",\"mapbox\":{\"style\":\"light\"},\"paper_bgcolor\":\"white\",\"plot_bgcolor\":\"#E5ECF6\",\"polar\":{\"angularaxis\":{\"gridcolor\":\"white\",\"linecolor\":\"white\",\"ticks\":\"\"},\"bgcolor\":\"#E5ECF6\",\"radialaxis\":{\"gridcolor\":\"white\",\"linecolor\":\"white\",\"ticks\":\"\"}},\"scene\":{\"xaxis\":{\"backgroundcolor\":\"#E5ECF6\",\"gridcolor\":\"white\",\"gridwidth\":2,\"linecolor\":\"white\",\"showbackground\":true,\"ticks\":\"\",\"zerolinecolor\":\"white\"},\"yaxis\":{\"backgroundcolor\":\"#E5ECF6\",\"gridcolor\":\"white\",\"gridwidth\":2,\"linecolor\":\"white\",\"showbackground\":true,\"ticks\":\"\",\"zerolinecolor\":\"white\"},\"zaxis\":{\"backgroundcolor\":\"#E5ECF6\",\"gridcolor\":\"white\",\"gridwidth\":2,\"linecolor\":\"white\",\"showbackground\":true,\"ticks\":\"\",\"zerolinecolor\":\"white\"}},\"shapedefaults\":{\"line\":{\"color\":\"#2a3f5f\"}},\"ternary\":{\"aaxis\":{\"gridcolor\":\"white\",\"linecolor\":\"white\",\"ticks\":\"\"},\"baxis\":{\"gridcolor\":\"white\",\"linecolor\":\"white\",\"ticks\":\"\"},\"bgcolor\":\"#E5ECF6\",\"caxis\":{\"gridcolor\":\"white\",\"linecolor\":\"white\",\"ticks\":\"\"}},\"title\":{\"x\":0.05},\"xaxis\":{\"automargin\":true,\"gridcolor\":\"white\",\"linecolor\":\"white\",\"ticks\":\"\",\"title\":{\"standoff\":15},\"zerolinecolor\":\"white\",\"zerolinewidth\":2},\"yaxis\":{\"automargin\":true,\"gridcolor\":\"white\",\"linecolor\":\"white\",\"ticks\":\"\",\"title\":{\"standoff\":15},\"zerolinecolor\":\"white\",\"zerolinewidth\":2}}},\"xaxis\":{\"anchor\":\"y\",\"domain\":[0.0,1.0],\"title\":{\"text\":\"Observed Titer\"}},\"yaxis\":{\"anchor\":\"x\",\"domain\":[0.0,1.0],\"title\":{\"text\":\"Predicted Titer\"}},\"legend\":{\"tracegroupgap\":0},\"title\":{\"text\":\"Observed vs Predicted on Train Set; R^2 = 0.749\"},\"shapes\":[{\"layer\":\"below\",\"type\":\"line\",\"x0\":0,\"x1\":1,\"xref\":\"paper\",\"y0\":0,\"y1\":1,\"yref\":\"paper\"}]},                        {\"responsive\": true}                    ).then(function(){\n",
              "                            \n",
              "var gd = document.getElementById('fb12757e-23f2-4a23-99db-7bd0914a1151');\n",
              "var x = new MutationObserver(function (mutations, observer) {{\n",
              "        var display = window.getComputedStyle(gd).display;\n",
              "        if (!display || display === 'none') {{\n",
              "            console.log([gd, 'removed!']);\n",
              "            Plotly.purge(gd);\n",
              "            observer.disconnect();\n",
              "        }}\n",
              "}});\n",
              "\n",
              "// Listen for the removal of the full notebook cells\n",
              "var notebookContainer = gd.closest('#notebook-container');\n",
              "if (notebookContainer) {{\n",
              "    x.observe(notebookContainer, {childList: true});\n",
              "}}\n",
              "\n",
              "// Listen for the clearing of the current output cell\n",
              "var outputEl = gd.closest('.output');\n",
              "if (outputEl) {{\n",
              "    x.observe(outputEl, {childList: true});\n",
              "}}\n",
              "\n",
              "                        })                };                            </script>        </div>\n",
              "</body>\n",
              "</html>"
            ]
          },
          "metadata": {}
        },
        {
          "output_type": "display_data",
          "data": {
            "text/html": [
              "<html>\n",
              "<head><meta charset=\"utf-8\" /></head>\n",
              "<body>\n",
              "    <div>            <script src=\"https://cdnjs.cloudflare.com/ajax/libs/mathjax/2.7.5/MathJax.js?config=TeX-AMS-MML_SVG\"></script><script type=\"text/javascript\">if (window.MathJax) {MathJax.Hub.Config({SVG: {font: \"STIX-Web\"}});}</script>                <script type=\"text/javascript\">window.PlotlyConfig = {MathJaxConfig: 'local'};</script>\n",
              "        <script src=\"https://cdn.plot.ly/plotly-2.8.3.min.js\"></script>                <div id=\"1d8506b4-5c1c-4295-9bcd-1fda00be466a\" class=\"plotly-graph-div\" style=\"height:525px; width:100%;\"></div>            <script type=\"text/javascript\">                                    window.PLOTLYENV=window.PLOTLYENV || {};                                    if (document.getElementById(\"1d8506b4-5c1c-4295-9bcd-1fda00be466a\")) {                    Plotly.newPlot(                        \"1d8506b4-5c1c-4295-9bcd-1fda00be466a\",                        [{\"hovertemplate\":\"Observed Titer=%{x}<br>Predicted Titer=%{y}<extra></extra>\",\"legendgroup\":\"\",\"marker\":{\"color\":\"#636efa\",\"symbol\":\"circle\"},\"mode\":\"markers\",\"name\":\"\",\"orientation\":\"v\",\"showlegend\":false,\"x\":[1486.555322665747,852.5421510506708,1553.3693013236993,1561.6944741051122,1561.9285093830367,1555.5990575252915,664.6187798777727,1588.1477685622356,1573.9990705283894,1393.0710551474324,1585.7304206956908,1534.768930546699,1586.8676827848133,1120.6204607891566,967.4138303905323,1581.2252660009826,1521.0375916532755,1255.2700326269191,1504.894937980849,728.3175492673013,1127.481659231358,1037.3529483901104,1153.1684886467415,1599.395719266287,1373.3875240676539,1588.972941246536,1397.182482338,1586.1796600561468,1268.1596010497083,1579.9184591007336,777.916772007101,1461.5586797240042,1318.0550040408075,1513.53945930146,678.9881062945203,920.6098404000459,1242.4469308698558,797.4025653838119,1418.0496260461455,1205.021737650426,1154.9710813250379,1360.312718950821,1101.630950463139,1504.347905209396,799.6625192661403,1530.773728116675,1419.8835249141798,1564.0148293057987,1562.1980325113516,1049.7026566235018],\"xaxis\":\"x\",\"y\":[1130.316812544989,945.8399998691173,1241.9404441709175,1386.5086509645275,936.4314716607611,1131.3686098037758,650.2112866711223,1169.8135923608675,1200.1618428267798,1119.5552054377379,1059.2977527661367,1291.7035523153586,1295.8337905668623,1165.6079171684898,1006.264023797502,1372.0539443079824,1362.9363073214474,1415.024419469045,1090.0110714942944,949.1545016203147,1151.1122129427226,687.3995840613759,1239.058748420581,1291.5209533218417,1458.7434053082925,1321.3245145250185,1092.1544817328654,1408.2324345634925,1100.8660781165365,1309.7117933121406,693.4010392684559,1083.0556513263725,1463.300495273421,1169.836289467859,732.2443081304211,1085.1036416752252,1027.0672167288753,1043.6520700388382,925.4860529237482,1229.554889525936,1134.9627654406222,1081.1611939100294,1091.5548322833806,1431.3815253000814,836.0556921563443,1016.0045959323393,979.6190458716492,1267.5954443417313,1123.1237193993366,1026.6398903235322],\"yaxis\":\"y\",\"type\":\"scatter\"}],                        {\"template\":{\"data\":{\"bar\":[{\"error_x\":{\"color\":\"#2a3f5f\"},\"error_y\":{\"color\":\"#2a3f5f\"},\"marker\":{\"line\":{\"color\":\"#E5ECF6\",\"width\":0.5},\"pattern\":{\"fillmode\":\"overlay\",\"size\":10,\"solidity\":0.2}},\"type\":\"bar\"}],\"barpolar\":[{\"marker\":{\"line\":{\"color\":\"#E5ECF6\",\"width\":0.5},\"pattern\":{\"fillmode\":\"overlay\",\"size\":10,\"solidity\":0.2}},\"type\":\"barpolar\"}],\"carpet\":[{\"aaxis\":{\"endlinecolor\":\"#2a3f5f\",\"gridcolor\":\"white\",\"linecolor\":\"white\",\"minorgridcolor\":\"white\",\"startlinecolor\":\"#2a3f5f\"},\"baxis\":{\"endlinecolor\":\"#2a3f5f\",\"gridcolor\":\"white\",\"linecolor\":\"white\",\"minorgridcolor\":\"white\",\"startlinecolor\":\"#2a3f5f\"},\"type\":\"carpet\"}],\"choropleth\":[{\"colorbar\":{\"outlinewidth\":0,\"ticks\":\"\"},\"type\":\"choropleth\"}],\"contour\":[{\"colorbar\":{\"outlinewidth\":0,\"ticks\":\"\"},\"colorscale\":[[0.0,\"#0d0887\"],[0.1111111111111111,\"#46039f\"],[0.2222222222222222,\"#7201a8\"],[0.3333333333333333,\"#9c179e\"],[0.4444444444444444,\"#bd3786\"],[0.5555555555555556,\"#d8576b\"],[0.6666666666666666,\"#ed7953\"],[0.7777777777777778,\"#fb9f3a\"],[0.8888888888888888,\"#fdca26\"],[1.0,\"#f0f921\"]],\"type\":\"contour\"}],\"contourcarpet\":[{\"colorbar\":{\"outlinewidth\":0,\"ticks\":\"\"},\"type\":\"contourcarpet\"}],\"heatmap\":[{\"colorbar\":{\"outlinewidth\":0,\"ticks\":\"\"},\"colorscale\":[[0.0,\"#0d0887\"],[0.1111111111111111,\"#46039f\"],[0.2222222222222222,\"#7201a8\"],[0.3333333333333333,\"#9c179e\"],[0.4444444444444444,\"#bd3786\"],[0.5555555555555556,\"#d8576b\"],[0.6666666666666666,\"#ed7953\"],[0.7777777777777778,\"#fb9f3a\"],[0.8888888888888888,\"#fdca26\"],[1.0,\"#f0f921\"]],\"type\":\"heatmap\"}],\"heatmapgl\":[{\"colorbar\":{\"outlinewidth\":0,\"ticks\":\"\"},\"colorscale\":[[0.0,\"#0d0887\"],[0.1111111111111111,\"#46039f\"],[0.2222222222222222,\"#7201a8\"],[0.3333333333333333,\"#9c179e\"],[0.4444444444444444,\"#bd3786\"],[0.5555555555555556,\"#d8576b\"],[0.6666666666666666,\"#ed7953\"],[0.7777777777777778,\"#fb9f3a\"],[0.8888888888888888,\"#fdca26\"],[1.0,\"#f0f921\"]],\"type\":\"heatmapgl\"}],\"histogram\":[{\"marker\":{\"pattern\":{\"fillmode\":\"overlay\",\"size\":10,\"solidity\":0.2}},\"type\":\"histogram\"}],\"histogram2d\":[{\"colorbar\":{\"outlinewidth\":0,\"ticks\":\"\"},\"colorscale\":[[0.0,\"#0d0887\"],[0.1111111111111111,\"#46039f\"],[0.2222222222222222,\"#7201a8\"],[0.3333333333333333,\"#9c179e\"],[0.4444444444444444,\"#bd3786\"],[0.5555555555555556,\"#d8576b\"],[0.6666666666666666,\"#ed7953\"],[0.7777777777777778,\"#fb9f3a\"],[0.8888888888888888,\"#fdca26\"],[1.0,\"#f0f921\"]],\"type\":\"histogram2d\"}],\"histogram2dcontour\":[{\"colorbar\":{\"outlinewidth\":0,\"ticks\":\"\"},\"colorscale\":[[0.0,\"#0d0887\"],[0.1111111111111111,\"#46039f\"],[0.2222222222222222,\"#7201a8\"],[0.3333333333333333,\"#9c179e\"],[0.4444444444444444,\"#bd3786\"],[0.5555555555555556,\"#d8576b\"],[0.6666666666666666,\"#ed7953\"],[0.7777777777777778,\"#fb9f3a\"],[0.8888888888888888,\"#fdca26\"],[1.0,\"#f0f921\"]],\"type\":\"histogram2dcontour\"}],\"mesh3d\":[{\"colorbar\":{\"outlinewidth\":0,\"ticks\":\"\"},\"type\":\"mesh3d\"}],\"parcoords\":[{\"line\":{\"colorbar\":{\"outlinewidth\":0,\"ticks\":\"\"}},\"type\":\"parcoords\"}],\"pie\":[{\"automargin\":true,\"type\":\"pie\"}],\"scatter\":[{\"marker\":{\"colorbar\":{\"outlinewidth\":0,\"ticks\":\"\"}},\"type\":\"scatter\"}],\"scatter3d\":[{\"line\":{\"colorbar\":{\"outlinewidth\":0,\"ticks\":\"\"}},\"marker\":{\"colorbar\":{\"outlinewidth\":0,\"ticks\":\"\"}},\"type\":\"scatter3d\"}],\"scattercarpet\":[{\"marker\":{\"colorbar\":{\"outlinewidth\":0,\"ticks\":\"\"}},\"type\":\"scattercarpet\"}],\"scattergeo\":[{\"marker\":{\"colorbar\":{\"outlinewidth\":0,\"ticks\":\"\"}},\"type\":\"scattergeo\"}],\"scattergl\":[{\"marker\":{\"colorbar\":{\"outlinewidth\":0,\"ticks\":\"\"}},\"type\":\"scattergl\"}],\"scattermapbox\":[{\"marker\":{\"colorbar\":{\"outlinewidth\":0,\"ticks\":\"\"}},\"type\":\"scattermapbox\"}],\"scatterpolar\":[{\"marker\":{\"colorbar\":{\"outlinewidth\":0,\"ticks\":\"\"}},\"type\":\"scatterpolar\"}],\"scatterpolargl\":[{\"marker\":{\"colorbar\":{\"outlinewidth\":0,\"ticks\":\"\"}},\"type\":\"scatterpolargl\"}],\"scatterternary\":[{\"marker\":{\"colorbar\":{\"outlinewidth\":0,\"ticks\":\"\"}},\"type\":\"scatterternary\"}],\"surface\":[{\"colorbar\":{\"outlinewidth\":0,\"ticks\":\"\"},\"colorscale\":[[0.0,\"#0d0887\"],[0.1111111111111111,\"#46039f\"],[0.2222222222222222,\"#7201a8\"],[0.3333333333333333,\"#9c179e\"],[0.4444444444444444,\"#bd3786\"],[0.5555555555555556,\"#d8576b\"],[0.6666666666666666,\"#ed7953\"],[0.7777777777777778,\"#fb9f3a\"],[0.8888888888888888,\"#fdca26\"],[1.0,\"#f0f921\"]],\"type\":\"surface\"}],\"table\":[{\"cells\":{\"fill\":{\"color\":\"#EBF0F8\"},\"line\":{\"color\":\"white\"}},\"header\":{\"fill\":{\"color\":\"#C8D4E3\"},\"line\":{\"color\":\"white\"}},\"type\":\"table\"}]},\"layout\":{\"annotationdefaults\":{\"arrowcolor\":\"#2a3f5f\",\"arrowhead\":0,\"arrowwidth\":1},\"autotypenumbers\":\"strict\",\"coloraxis\":{\"colorbar\":{\"outlinewidth\":0,\"ticks\":\"\"}},\"colorscale\":{\"diverging\":[[0,\"#8e0152\"],[0.1,\"#c51b7d\"],[0.2,\"#de77ae\"],[0.3,\"#f1b6da\"],[0.4,\"#fde0ef\"],[0.5,\"#f7f7f7\"],[0.6,\"#e6f5d0\"],[0.7,\"#b8e186\"],[0.8,\"#7fbc41\"],[0.9,\"#4d9221\"],[1,\"#276419\"]],\"sequential\":[[0.0,\"#0d0887\"],[0.1111111111111111,\"#46039f\"],[0.2222222222222222,\"#7201a8\"],[0.3333333333333333,\"#9c179e\"],[0.4444444444444444,\"#bd3786\"],[0.5555555555555556,\"#d8576b\"],[0.6666666666666666,\"#ed7953\"],[0.7777777777777778,\"#fb9f3a\"],[0.8888888888888888,\"#fdca26\"],[1.0,\"#f0f921\"]],\"sequentialminus\":[[0.0,\"#0d0887\"],[0.1111111111111111,\"#46039f\"],[0.2222222222222222,\"#7201a8\"],[0.3333333333333333,\"#9c179e\"],[0.4444444444444444,\"#bd3786\"],[0.5555555555555556,\"#d8576b\"],[0.6666666666666666,\"#ed7953\"],[0.7777777777777778,\"#fb9f3a\"],[0.8888888888888888,\"#fdca26\"],[1.0,\"#f0f921\"]]},\"colorway\":[\"#636efa\",\"#EF553B\",\"#00cc96\",\"#ab63fa\",\"#FFA15A\",\"#19d3f3\",\"#FF6692\",\"#B6E880\",\"#FF97FF\",\"#FECB52\"],\"font\":{\"color\":\"#2a3f5f\"},\"geo\":{\"bgcolor\":\"white\",\"lakecolor\":\"white\",\"landcolor\":\"#E5ECF6\",\"showlakes\":true,\"showland\":true,\"subunitcolor\":\"white\"},\"hoverlabel\":{\"align\":\"left\"},\"hovermode\":\"closest\",\"mapbox\":{\"style\":\"light\"},\"paper_bgcolor\":\"white\",\"plot_bgcolor\":\"#E5ECF6\",\"polar\":{\"angularaxis\":{\"gridcolor\":\"white\",\"linecolor\":\"white\",\"ticks\":\"\"},\"bgcolor\":\"#E5ECF6\",\"radialaxis\":{\"gridcolor\":\"white\",\"linecolor\":\"white\",\"ticks\":\"\"}},\"scene\":{\"xaxis\":{\"backgroundcolor\":\"#E5ECF6\",\"gridcolor\":\"white\",\"gridwidth\":2,\"linecolor\":\"white\",\"showbackground\":true,\"ticks\":\"\",\"zerolinecolor\":\"white\"},\"yaxis\":{\"backgroundcolor\":\"#E5ECF6\",\"gridcolor\":\"white\",\"gridwidth\":2,\"linecolor\":\"white\",\"showbackground\":true,\"ticks\":\"\",\"zerolinecolor\":\"white\"},\"zaxis\":{\"backgroundcolor\":\"#E5ECF6\",\"gridcolor\":\"white\",\"gridwidth\":2,\"linecolor\":\"white\",\"showbackground\":true,\"ticks\":\"\",\"zerolinecolor\":\"white\"}},\"shapedefaults\":{\"line\":{\"color\":\"#2a3f5f\"}},\"ternary\":{\"aaxis\":{\"gridcolor\":\"white\",\"linecolor\":\"white\",\"ticks\":\"\"},\"baxis\":{\"gridcolor\":\"white\",\"linecolor\":\"white\",\"ticks\":\"\"},\"bgcolor\":\"#E5ECF6\",\"caxis\":{\"gridcolor\":\"white\",\"linecolor\":\"white\",\"ticks\":\"\"}},\"title\":{\"x\":0.05},\"xaxis\":{\"automargin\":true,\"gridcolor\":\"white\",\"linecolor\":\"white\",\"ticks\":\"\",\"title\":{\"standoff\":15},\"zerolinecolor\":\"white\",\"zerolinewidth\":2},\"yaxis\":{\"automargin\":true,\"gridcolor\":\"white\",\"linecolor\":\"white\",\"ticks\":\"\",\"title\":{\"standoff\":15},\"zerolinecolor\":\"white\",\"zerolinewidth\":2}}},\"xaxis\":{\"anchor\":\"y\",\"domain\":[0.0,1.0],\"title\":{\"text\":\"Observed Titer\"}},\"yaxis\":{\"anchor\":\"x\",\"domain\":[0.0,1.0],\"title\":{\"text\":\"Predicted Titer\"}},\"legend\":{\"tracegroupgap\":0},\"title\":{\"text\":\"Observed vs Predicted on Test Set; R^2 = 0.046\"},\"shapes\":[{\"layer\":\"below\",\"type\":\"line\",\"x0\":0,\"x1\":1,\"xref\":\"paper\",\"y0\":0,\"y1\":1,\"yref\":\"paper\"}]},                        {\"responsive\": true}                    ).then(function(){\n",
              "                            \n",
              "var gd = document.getElementById('1d8506b4-5c1c-4295-9bcd-1fda00be466a');\n",
              "var x = new MutationObserver(function (mutations, observer) {{\n",
              "        var display = window.getComputedStyle(gd).display;\n",
              "        if (!display || display === 'none') {{\n",
              "            console.log([gd, 'removed!']);\n",
              "            Plotly.purge(gd);\n",
              "            observer.disconnect();\n",
              "        }}\n",
              "}});\n",
              "\n",
              "// Listen for the removal of the full notebook cells\n",
              "var notebookContainer = gd.closest('#notebook-container');\n",
              "if (notebookContainer) {{\n",
              "    x.observe(notebookContainer, {childList: true});\n",
              "}}\n",
              "\n",
              "// Listen for the clearing of the current output cell\n",
              "var outputEl = gd.closest('.output');\n",
              "if (outputEl) {{\n",
              "    x.observe(outputEl, {childList: true});\n",
              "}}\n",
              "\n",
              "                        })                };                            </script>        </div>\n",
              "</body>\n",
              "</html>"
            ]
          },
          "metadata": {}
        }
      ]
    },
    {
      "cell_type": "code",
      "source": [
        "# Absolute RMSEP\n",
        "rmse_abs = mean_squared_error(y_test, yhat_test,squared=False)\n",
        "print('Absolute RMSEP: ',rmse_abs)\n",
        "# Relative RMSEP\n",
        "rmse_rel = mean_squared_error(y_test, yhat_test,squared=False) / np.std(np.array(y_test))\n",
        "print('Relative RMSEP: ',rmse_rel)"
      ],
      "metadata": {
        "id": "ZasZVPBOy1P6",
        "outputId": "a0fcfb41-ca01-409e-c615-7f31f0077d44",
        "colab": {
          "base_uri": "https://localhost:8080/"
        }
      },
      "execution_count": 20,
      "outputs": [
        {
          "output_type": "stream",
          "name": "stdout",
          "text": [
            "Absolute RMSEP:  282.4383189173625\n",
            "Relative RMSEP:  0.9769849462682716\n"
          ]
        }
      ]
    },
    {
      "cell_type": "markdown",
      "source": [
        "## PLS Model\n",
        "\n",
        "In this section, we train a PLS model with the data loaded in the section above.\n"
      ],
      "metadata": {
        "id": "3C7-mXh8H1P6"
      }
    },
    {
      "cell_type": "markdown",
      "source": [
        "### Create a PLS model with specific latent variables\n",
        "\n",
        "Create a PLS model to predict the value of the final titer given the initial conditions.\n",
        "\n",
        "* Input matrix: \"doe\". This corresponds to the values of the manipulated process parameters for each experiment.\n",
        "* Output target: \"tar\". This corresponds to the final value of titer at the end of each experiment. (or aggregates)\n",
        "\n",
        "Select the number of latent variables for the model (the maximum number of latent variables is 5, equal to the number of variables in the input matrix).\n",
        "\n",
        "\n",
        "\n"
      ],
      "metadata": {
        "id": "gPSnjAS5IGW6"
      }
    },
    {
      "cell_type": "code",
      "source": [
        "# Use data normalization\n",
        "use_norm = True\n",
        "# Number of latent variables\n",
        "N_LV = 5"
      ],
      "metadata": {
        "id": "OgBkwZQ0ItJU"
      },
      "execution_count": 21,
      "outputs": []
    },
    {
      "cell_type": "code",
      "source": [
        "# Define Pipeline\n",
        "pscaler = StandardScaler(with_mean=use_norm,with_std=use_norm)\n",
        "pls = PLSRegression(n_components=N_LV)\n",
        "pipe = Pipeline([('scaler', pscaler), ('model', pls)])\n",
        "# Train PLS model\n",
        "X = doe\n",
        "y = tar\n",
        "pipe.fit(X,y)"
      ],
      "metadata": {
        "id": "u2RWJm8QI81j",
        "outputId": "d2cdf0ec-9945-42b4-e1f6-9b6ce80c9d97",
        "colab": {
          "base_uri": "https://localhost:8080/"
        }
      },
      "execution_count": 22,
      "outputs": [
        {
          "output_type": "execute_result",
          "data": {
            "text/plain": [
              "Pipeline(steps=[('scaler', StandardScaler()),\n",
              "                ('model', PLSRegression(n_components=5))])"
            ]
          },
          "metadata": {},
          "execution_count": 22
        }
      ]
    },
    {
      "cell_type": "markdown",
      "source": [
        "### Evaluate model on train and test set\n"
      ],
      "metadata": {
        "id": "0dR7w0nmJvud"
      }
    },
    {
      "cell_type": "code",
      "source": [
        "# Plot predictions in train set\n",
        "yhat = pipe.predict(X)\n",
        "fig = px.scatter(x=y.values.reshape(-1),y=yhat.reshape(-1), title=\"Observed vs Predicted on Train Set; R^2 = \"+str(round(pipe.score(X,y),3)), labels=dict(x=\"Observed Titer\", y=\"Predicted Titer\"))\n",
        "fig.update_layout(shapes = [{'type': 'line', 'yref': 'paper', 'xref': 'paper', 'y0': 0, 'y1': 1, 'x0': 0, 'x1': 1, 'layer': 'below'}])\n",
        "fig.show()\n",
        "# Plot predictions in test set\n",
        "X_test = doe_test\n",
        "y_test = tar_test\n",
        "yhat_test = pipe.predict(X_test)\n",
        "fig = px.scatter(x=y_test.values.reshape(-1),y=yhat_test.reshape(-1), title=\"Observed vs Predicted on Test Set; R^2 = \"+str(round(pipe.score(X_test,y_test),3)), labels=dict(x=\"Observed Titer\", y=\"Predicted Titer\"))\n",
        "fig.update_layout(shapes = [{'type': 'line', 'yref': 'paper', 'xref': 'paper', 'y0': 0, 'y1': 1, 'x0': 0, 'x1': 1, 'layer': 'below'}])\n",
        "fig.show()"
      ],
      "metadata": {
        "id": "LNlkWg-q3Xfp",
        "outputId": "85eea51d-5755-4a06-9cf6-7f3058927897",
        "colab": {
          "base_uri": "https://localhost:8080/",
          "height": 1000
        }
      },
      "execution_count": 23,
      "outputs": [
        {
          "output_type": "display_data",
          "data": {
            "text/html": [
              "<html>\n",
              "<head><meta charset=\"utf-8\" /></head>\n",
              "<body>\n",
              "    <div>            <script src=\"https://cdnjs.cloudflare.com/ajax/libs/mathjax/2.7.5/MathJax.js?config=TeX-AMS-MML_SVG\"></script><script type=\"text/javascript\">if (window.MathJax) {MathJax.Hub.Config({SVG: {font: \"STIX-Web\"}});}</script>                <script type=\"text/javascript\">window.PlotlyConfig = {MathJaxConfig: 'local'};</script>\n",
              "        <script src=\"https://cdn.plot.ly/plotly-2.8.3.min.js\"></script>                <div id=\"cbcef33e-e1b2-4f5d-b4a8-8e17a1efc5c1\" class=\"plotly-graph-div\" style=\"height:525px; width:100%;\"></div>            <script type=\"text/javascript\">                                    window.PLOTLYENV=window.PLOTLYENV || {};                                    if (document.getElementById(\"cbcef33e-e1b2-4f5d-b4a8-8e17a1efc5c1\")) {                    Plotly.newPlot(                        \"cbcef33e-e1b2-4f5d-b4a8-8e17a1efc5c1\",                        [{\"hovertemplate\":\"Observed Titer=%{x}<br>Predicted Titer=%{y}<extra></extra>\",\"legendgroup\":\"\",\"marker\":{\"color\":\"#636efa\",\"symbol\":\"circle\"},\"mode\":\"markers\",\"name\":\"\",\"orientation\":\"v\",\"showlegend\":false,\"x\":[1565.3100316152315,854.4492329290191,1206.0966547089297,1587.9375363361153,811.5529901913034,841.4987076939608,645.8652400020387,978.3211904574658,1026.2593627477372,1307.3427908630745,1034.0873731742636,1268.3772140122305,1489.9274823809976,1519.9915046105887,1329.31439655397,1431.0248922870994,1566.2144147333108,1438.4509323399373,829.9221681206134,705.0060621997021,1432.1650836978292,188.37323461354003,1498.950979086217,920.6159834819938,1489.455399004581,1236.0520625432987,1323.9958683550722,1490.703545196068,1317.71949505948,1463.7461925349555,645.6194533195517,518.6891441332469,1508.020685458528,681.9077197106743,643.2530983456666,1171.9226021898683,1526.8075977874203,710.1789864596954,547.0659967970258,1239.099546696681,1275.603243989509,1516.3836910289606,1472.959836115183,1561.4366964617066,895.4073430723885,1139.0681753517283,1424.484489881591,1464.164972241741,639.5435764295627,1297.0316324502526],\"xaxis\":\"x\",\"y\":[1153.5475301890322,1124.362167341392,961.0620815930905,1271.0692942917922,883.8347275902847,1054.321504851275,1137.8560116195495,964.2392378284233,1137.7918951056863,994.8668810956215,1004.0791388536903,1207.6821950619862,1287.2398772748838,1228.2528142408826,1175.7369320956086,1349.9952874322314,1409.2338968151805,1258.1033348715703,941.2253839763795,1352.1509458857263,1187.6587363215956,657.4234703954803,1225.482687335367,1157.7370643115394,1331.027495006376,1230.4594173923863,944.1248500401707,1445.2906007648407,1106.704287799421,1126.346277478338,777.8249415095863,1066.2847641304388,1637.2522604154171,1073.0366716590956,1171.8407531496794,1256.7668193487473,1075.347348631821,1467.8360800912242,865.298157843298,1406.0475809572008,1175.7857916307803,1090.8992899994612,1224.620717531281,1500.678170765697,1117.2478861695154,979.426750515361,971.3783775206896,1262.2779623223587,1103.3031275709134,1145.3170328292408],\"yaxis\":\"y\",\"type\":\"scatter\"}],                        {\"template\":{\"data\":{\"bar\":[{\"error_x\":{\"color\":\"#2a3f5f\"},\"error_y\":{\"color\":\"#2a3f5f\"},\"marker\":{\"line\":{\"color\":\"#E5ECF6\",\"width\":0.5},\"pattern\":{\"fillmode\":\"overlay\",\"size\":10,\"solidity\":0.2}},\"type\":\"bar\"}],\"barpolar\":[{\"marker\":{\"line\":{\"color\":\"#E5ECF6\",\"width\":0.5},\"pattern\":{\"fillmode\":\"overlay\",\"size\":10,\"solidity\":0.2}},\"type\":\"barpolar\"}],\"carpet\":[{\"aaxis\":{\"endlinecolor\":\"#2a3f5f\",\"gridcolor\":\"white\",\"linecolor\":\"white\",\"minorgridcolor\":\"white\",\"startlinecolor\":\"#2a3f5f\"},\"baxis\":{\"endlinecolor\":\"#2a3f5f\",\"gridcolor\":\"white\",\"linecolor\":\"white\",\"minorgridcolor\":\"white\",\"startlinecolor\":\"#2a3f5f\"},\"type\":\"carpet\"}],\"choropleth\":[{\"colorbar\":{\"outlinewidth\":0,\"ticks\":\"\"},\"type\":\"choropleth\"}],\"contour\":[{\"colorbar\":{\"outlinewidth\":0,\"ticks\":\"\"},\"colorscale\":[[0.0,\"#0d0887\"],[0.1111111111111111,\"#46039f\"],[0.2222222222222222,\"#7201a8\"],[0.3333333333333333,\"#9c179e\"],[0.4444444444444444,\"#bd3786\"],[0.5555555555555556,\"#d8576b\"],[0.6666666666666666,\"#ed7953\"],[0.7777777777777778,\"#fb9f3a\"],[0.8888888888888888,\"#fdca26\"],[1.0,\"#f0f921\"]],\"type\":\"contour\"}],\"contourcarpet\":[{\"colorbar\":{\"outlinewidth\":0,\"ticks\":\"\"},\"type\":\"contourcarpet\"}],\"heatmap\":[{\"colorbar\":{\"outlinewidth\":0,\"ticks\":\"\"},\"colorscale\":[[0.0,\"#0d0887\"],[0.1111111111111111,\"#46039f\"],[0.2222222222222222,\"#7201a8\"],[0.3333333333333333,\"#9c179e\"],[0.4444444444444444,\"#bd3786\"],[0.5555555555555556,\"#d8576b\"],[0.6666666666666666,\"#ed7953\"],[0.7777777777777778,\"#fb9f3a\"],[0.8888888888888888,\"#fdca26\"],[1.0,\"#f0f921\"]],\"type\":\"heatmap\"}],\"heatmapgl\":[{\"colorbar\":{\"outlinewidth\":0,\"ticks\":\"\"},\"colorscale\":[[0.0,\"#0d0887\"],[0.1111111111111111,\"#46039f\"],[0.2222222222222222,\"#7201a8\"],[0.3333333333333333,\"#9c179e\"],[0.4444444444444444,\"#bd3786\"],[0.5555555555555556,\"#d8576b\"],[0.6666666666666666,\"#ed7953\"],[0.7777777777777778,\"#fb9f3a\"],[0.8888888888888888,\"#fdca26\"],[1.0,\"#f0f921\"]],\"type\":\"heatmapgl\"}],\"histogram\":[{\"marker\":{\"pattern\":{\"fillmode\":\"overlay\",\"size\":10,\"solidity\":0.2}},\"type\":\"histogram\"}],\"histogram2d\":[{\"colorbar\":{\"outlinewidth\":0,\"ticks\":\"\"},\"colorscale\":[[0.0,\"#0d0887\"],[0.1111111111111111,\"#46039f\"],[0.2222222222222222,\"#7201a8\"],[0.3333333333333333,\"#9c179e\"],[0.4444444444444444,\"#bd3786\"],[0.5555555555555556,\"#d8576b\"],[0.6666666666666666,\"#ed7953\"],[0.7777777777777778,\"#fb9f3a\"],[0.8888888888888888,\"#fdca26\"],[1.0,\"#f0f921\"]],\"type\":\"histogram2d\"}],\"histogram2dcontour\":[{\"colorbar\":{\"outlinewidth\":0,\"ticks\":\"\"},\"colorscale\":[[0.0,\"#0d0887\"],[0.1111111111111111,\"#46039f\"],[0.2222222222222222,\"#7201a8\"],[0.3333333333333333,\"#9c179e\"],[0.4444444444444444,\"#bd3786\"],[0.5555555555555556,\"#d8576b\"],[0.6666666666666666,\"#ed7953\"],[0.7777777777777778,\"#fb9f3a\"],[0.8888888888888888,\"#fdca26\"],[1.0,\"#f0f921\"]],\"type\":\"histogram2dcontour\"}],\"mesh3d\":[{\"colorbar\":{\"outlinewidth\":0,\"ticks\":\"\"},\"type\":\"mesh3d\"}],\"parcoords\":[{\"line\":{\"colorbar\":{\"outlinewidth\":0,\"ticks\":\"\"}},\"type\":\"parcoords\"}],\"pie\":[{\"automargin\":true,\"type\":\"pie\"}],\"scatter\":[{\"marker\":{\"colorbar\":{\"outlinewidth\":0,\"ticks\":\"\"}},\"type\":\"scatter\"}],\"scatter3d\":[{\"line\":{\"colorbar\":{\"outlinewidth\":0,\"ticks\":\"\"}},\"marker\":{\"colorbar\":{\"outlinewidth\":0,\"ticks\":\"\"}},\"type\":\"scatter3d\"}],\"scattercarpet\":[{\"marker\":{\"colorbar\":{\"outlinewidth\":0,\"ticks\":\"\"}},\"type\":\"scattercarpet\"}],\"scattergeo\":[{\"marker\":{\"colorbar\":{\"outlinewidth\":0,\"ticks\":\"\"}},\"type\":\"scattergeo\"}],\"scattergl\":[{\"marker\":{\"colorbar\":{\"outlinewidth\":0,\"ticks\":\"\"}},\"type\":\"scattergl\"}],\"scattermapbox\":[{\"marker\":{\"colorbar\":{\"outlinewidth\":0,\"ticks\":\"\"}},\"type\":\"scattermapbox\"}],\"scatterpolar\":[{\"marker\":{\"colorbar\":{\"outlinewidth\":0,\"ticks\":\"\"}},\"type\":\"scatterpolar\"}],\"scatterpolargl\":[{\"marker\":{\"colorbar\":{\"outlinewidth\":0,\"ticks\":\"\"}},\"type\":\"scatterpolargl\"}],\"scatterternary\":[{\"marker\":{\"colorbar\":{\"outlinewidth\":0,\"ticks\":\"\"}},\"type\":\"scatterternary\"}],\"surface\":[{\"colorbar\":{\"outlinewidth\":0,\"ticks\":\"\"},\"colorscale\":[[0.0,\"#0d0887\"],[0.1111111111111111,\"#46039f\"],[0.2222222222222222,\"#7201a8\"],[0.3333333333333333,\"#9c179e\"],[0.4444444444444444,\"#bd3786\"],[0.5555555555555556,\"#d8576b\"],[0.6666666666666666,\"#ed7953\"],[0.7777777777777778,\"#fb9f3a\"],[0.8888888888888888,\"#fdca26\"],[1.0,\"#f0f921\"]],\"type\":\"surface\"}],\"table\":[{\"cells\":{\"fill\":{\"color\":\"#EBF0F8\"},\"line\":{\"color\":\"white\"}},\"header\":{\"fill\":{\"color\":\"#C8D4E3\"},\"line\":{\"color\":\"white\"}},\"type\":\"table\"}]},\"layout\":{\"annotationdefaults\":{\"arrowcolor\":\"#2a3f5f\",\"arrowhead\":0,\"arrowwidth\":1},\"autotypenumbers\":\"strict\",\"coloraxis\":{\"colorbar\":{\"outlinewidth\":0,\"ticks\":\"\"}},\"colorscale\":{\"diverging\":[[0,\"#8e0152\"],[0.1,\"#c51b7d\"],[0.2,\"#de77ae\"],[0.3,\"#f1b6da\"],[0.4,\"#fde0ef\"],[0.5,\"#f7f7f7\"],[0.6,\"#e6f5d0\"],[0.7,\"#b8e186\"],[0.8,\"#7fbc41\"],[0.9,\"#4d9221\"],[1,\"#276419\"]],\"sequential\":[[0.0,\"#0d0887\"],[0.1111111111111111,\"#46039f\"],[0.2222222222222222,\"#7201a8\"],[0.3333333333333333,\"#9c179e\"],[0.4444444444444444,\"#bd3786\"],[0.5555555555555556,\"#d8576b\"],[0.6666666666666666,\"#ed7953\"],[0.7777777777777778,\"#fb9f3a\"],[0.8888888888888888,\"#fdca26\"],[1.0,\"#f0f921\"]],\"sequentialminus\":[[0.0,\"#0d0887\"],[0.1111111111111111,\"#46039f\"],[0.2222222222222222,\"#7201a8\"],[0.3333333333333333,\"#9c179e\"],[0.4444444444444444,\"#bd3786\"],[0.5555555555555556,\"#d8576b\"],[0.6666666666666666,\"#ed7953\"],[0.7777777777777778,\"#fb9f3a\"],[0.8888888888888888,\"#fdca26\"],[1.0,\"#f0f921\"]]},\"colorway\":[\"#636efa\",\"#EF553B\",\"#00cc96\",\"#ab63fa\",\"#FFA15A\",\"#19d3f3\",\"#FF6692\",\"#B6E880\",\"#FF97FF\",\"#FECB52\"],\"font\":{\"color\":\"#2a3f5f\"},\"geo\":{\"bgcolor\":\"white\",\"lakecolor\":\"white\",\"landcolor\":\"#E5ECF6\",\"showlakes\":true,\"showland\":true,\"subunitcolor\":\"white\"},\"hoverlabel\":{\"align\":\"left\"},\"hovermode\":\"closest\",\"mapbox\":{\"style\":\"light\"},\"paper_bgcolor\":\"white\",\"plot_bgcolor\":\"#E5ECF6\",\"polar\":{\"angularaxis\":{\"gridcolor\":\"white\",\"linecolor\":\"white\",\"ticks\":\"\"},\"bgcolor\":\"#E5ECF6\",\"radialaxis\":{\"gridcolor\":\"white\",\"linecolor\":\"white\",\"ticks\":\"\"}},\"scene\":{\"xaxis\":{\"backgroundcolor\":\"#E5ECF6\",\"gridcolor\":\"white\",\"gridwidth\":2,\"linecolor\":\"white\",\"showbackground\":true,\"ticks\":\"\",\"zerolinecolor\":\"white\"},\"yaxis\":{\"backgroundcolor\":\"#E5ECF6\",\"gridcolor\":\"white\",\"gridwidth\":2,\"linecolor\":\"white\",\"showbackground\":true,\"ticks\":\"\",\"zerolinecolor\":\"white\"},\"zaxis\":{\"backgroundcolor\":\"#E5ECF6\",\"gridcolor\":\"white\",\"gridwidth\":2,\"linecolor\":\"white\",\"showbackground\":true,\"ticks\":\"\",\"zerolinecolor\":\"white\"}},\"shapedefaults\":{\"line\":{\"color\":\"#2a3f5f\"}},\"ternary\":{\"aaxis\":{\"gridcolor\":\"white\",\"linecolor\":\"white\",\"ticks\":\"\"},\"baxis\":{\"gridcolor\":\"white\",\"linecolor\":\"white\",\"ticks\":\"\"},\"bgcolor\":\"#E5ECF6\",\"caxis\":{\"gridcolor\":\"white\",\"linecolor\":\"white\",\"ticks\":\"\"}},\"title\":{\"x\":0.05},\"xaxis\":{\"automargin\":true,\"gridcolor\":\"white\",\"linecolor\":\"white\",\"ticks\":\"\",\"title\":{\"standoff\":15},\"zerolinecolor\":\"white\",\"zerolinewidth\":2},\"yaxis\":{\"automargin\":true,\"gridcolor\":\"white\",\"linecolor\":\"white\",\"ticks\":\"\",\"title\":{\"standoff\":15},\"zerolinecolor\":\"white\",\"zerolinewidth\":2}}},\"xaxis\":{\"anchor\":\"y\",\"domain\":[0.0,1.0],\"title\":{\"text\":\"Observed Titer\"}},\"yaxis\":{\"anchor\":\"x\",\"domain\":[0.0,1.0],\"title\":{\"text\":\"Predicted Titer\"}},\"legend\":{\"tracegroupgap\":0},\"title\":{\"text\":\"Observed vs Predicted on Train Set; R^2 = 0.269\"},\"shapes\":[{\"layer\":\"below\",\"type\":\"line\",\"x0\":0,\"x1\":1,\"xref\":\"paper\",\"y0\":0,\"y1\":1,\"yref\":\"paper\"}]},                        {\"responsive\": true}                    ).then(function(){\n",
              "                            \n",
              "var gd = document.getElementById('cbcef33e-e1b2-4f5d-b4a8-8e17a1efc5c1');\n",
              "var x = new MutationObserver(function (mutations, observer) {{\n",
              "        var display = window.getComputedStyle(gd).display;\n",
              "        if (!display || display === 'none') {{\n",
              "            console.log([gd, 'removed!']);\n",
              "            Plotly.purge(gd);\n",
              "            observer.disconnect();\n",
              "        }}\n",
              "}});\n",
              "\n",
              "// Listen for the removal of the full notebook cells\n",
              "var notebookContainer = gd.closest('#notebook-container');\n",
              "if (notebookContainer) {{\n",
              "    x.observe(notebookContainer, {childList: true});\n",
              "}}\n",
              "\n",
              "// Listen for the clearing of the current output cell\n",
              "var outputEl = gd.closest('.output');\n",
              "if (outputEl) {{\n",
              "    x.observe(outputEl, {childList: true});\n",
              "}}\n",
              "\n",
              "                        })                };                            </script>        </div>\n",
              "</body>\n",
              "</html>"
            ]
          },
          "metadata": {}
        },
        {
          "output_type": "display_data",
          "data": {
            "text/html": [
              "<html>\n",
              "<head><meta charset=\"utf-8\" /></head>\n",
              "<body>\n",
              "    <div>            <script src=\"https://cdnjs.cloudflare.com/ajax/libs/mathjax/2.7.5/MathJax.js?config=TeX-AMS-MML_SVG\"></script><script type=\"text/javascript\">if (window.MathJax) {MathJax.Hub.Config({SVG: {font: \"STIX-Web\"}});}</script>                <script type=\"text/javascript\">window.PlotlyConfig = {MathJaxConfig: 'local'};</script>\n",
              "        <script src=\"https://cdn.plot.ly/plotly-2.8.3.min.js\"></script>                <div id=\"e98a4aa4-3c4c-47af-a839-3b60b5dedcc0\" class=\"plotly-graph-div\" style=\"height:525px; width:100%;\"></div>            <script type=\"text/javascript\">                                    window.PLOTLYENV=window.PLOTLYENV || {};                                    if (document.getElementById(\"e98a4aa4-3c4c-47af-a839-3b60b5dedcc0\")) {                    Plotly.newPlot(                        \"e98a4aa4-3c4c-47af-a839-3b60b5dedcc0\",                        [{\"hovertemplate\":\"Observed Titer=%{x}<br>Predicted Titer=%{y}<extra></extra>\",\"legendgroup\":\"\",\"marker\":{\"color\":\"#636efa\",\"symbol\":\"circle\"},\"mode\":\"markers\",\"name\":\"\",\"orientation\":\"v\",\"showlegend\":false,\"x\":[1486.555322665747,852.5421510506708,1553.3693013236993,1561.6944741051122,1561.9285093830367,1555.5990575252915,664.6187798777727,1588.1477685622356,1573.9990705283894,1393.0710551474324,1585.7304206956908,1534.768930546699,1586.8676827848133,1120.6204607891566,967.4138303905323,1581.2252660009826,1521.0375916532755,1255.2700326269191,1504.894937980849,728.3175492673013,1127.481659231358,1037.3529483901104,1153.1684886467415,1599.395719266287,1373.3875240676539,1588.972941246536,1397.182482338,1586.1796600561468,1268.1596010497083,1579.9184591007336,777.916772007101,1461.5586797240042,1318.0550040408075,1513.53945930146,678.9881062945203,920.6098404000459,1242.4469308698558,797.4025653838119,1418.0496260461455,1205.021737650426,1154.9710813250379,1360.312718950821,1101.630950463139,1504.347905209396,799.6625192661403,1530.773728116675,1419.8835249141798,1564.0148293057987,1562.1980325113516,1049.7026566235018],\"xaxis\":\"x\",\"y\":[1176.4549125703306,1169.105737430737,1065.8612417552763,1236.781895475643,1001.507682915237,1109.056283626836,1135.7003575788797,1036.6309487407223,1192.4769637420954,1062.6477662965374,1083.3081081025716,1219.5099405879453,1260.9436986254368,1228.4655689526649,1172.8192932106338,1324.4066897065595,1351.7114653676726,1270.5388945284624,1023.5191274179977,1283.9377108232993,1195.1237795005402,854.2292309825314,1196.5810200033936,1197.2917815983744,1312.940117636676,1245.5929556110177,1052.7873126470554,1363.8167939698408,1130.2174955092516,1145.5531541281866,933.6484779674836,1130.9340920982218,1494.8031810220505,1148.5437508729583,1168.200256625898,1220.9748334811557,1133.4453858081054,1391.1739971988793,987.0045780640185,1369.8439978508786,1222.8993995786363,1134.9291500280797,1206.2002772443545,1388.4640028360805,1132.2072667556536,1045.3709392999056,1051.5921832323781,1237.7031346953827,1140.4751651737338,1184.8136296402693],\"yaxis\":\"y\",\"type\":\"scatter\"}],                        {\"template\":{\"data\":{\"bar\":[{\"error_x\":{\"color\":\"#2a3f5f\"},\"error_y\":{\"color\":\"#2a3f5f\"},\"marker\":{\"line\":{\"color\":\"#E5ECF6\",\"width\":0.5},\"pattern\":{\"fillmode\":\"overlay\",\"size\":10,\"solidity\":0.2}},\"type\":\"bar\"}],\"barpolar\":[{\"marker\":{\"line\":{\"color\":\"#E5ECF6\",\"width\":0.5},\"pattern\":{\"fillmode\":\"overlay\",\"size\":10,\"solidity\":0.2}},\"type\":\"barpolar\"}],\"carpet\":[{\"aaxis\":{\"endlinecolor\":\"#2a3f5f\",\"gridcolor\":\"white\",\"linecolor\":\"white\",\"minorgridcolor\":\"white\",\"startlinecolor\":\"#2a3f5f\"},\"baxis\":{\"endlinecolor\":\"#2a3f5f\",\"gridcolor\":\"white\",\"linecolor\":\"white\",\"minorgridcolor\":\"white\",\"startlinecolor\":\"#2a3f5f\"},\"type\":\"carpet\"}],\"choropleth\":[{\"colorbar\":{\"outlinewidth\":0,\"ticks\":\"\"},\"type\":\"choropleth\"}],\"contour\":[{\"colorbar\":{\"outlinewidth\":0,\"ticks\":\"\"},\"colorscale\":[[0.0,\"#0d0887\"],[0.1111111111111111,\"#46039f\"],[0.2222222222222222,\"#7201a8\"],[0.3333333333333333,\"#9c179e\"],[0.4444444444444444,\"#bd3786\"],[0.5555555555555556,\"#d8576b\"],[0.6666666666666666,\"#ed7953\"],[0.7777777777777778,\"#fb9f3a\"],[0.8888888888888888,\"#fdca26\"],[1.0,\"#f0f921\"]],\"type\":\"contour\"}],\"contourcarpet\":[{\"colorbar\":{\"outlinewidth\":0,\"ticks\":\"\"},\"type\":\"contourcarpet\"}],\"heatmap\":[{\"colorbar\":{\"outlinewidth\":0,\"ticks\":\"\"},\"colorscale\":[[0.0,\"#0d0887\"],[0.1111111111111111,\"#46039f\"],[0.2222222222222222,\"#7201a8\"],[0.3333333333333333,\"#9c179e\"],[0.4444444444444444,\"#bd3786\"],[0.5555555555555556,\"#d8576b\"],[0.6666666666666666,\"#ed7953\"],[0.7777777777777778,\"#fb9f3a\"],[0.8888888888888888,\"#fdca26\"],[1.0,\"#f0f921\"]],\"type\":\"heatmap\"}],\"heatmapgl\":[{\"colorbar\":{\"outlinewidth\":0,\"ticks\":\"\"},\"colorscale\":[[0.0,\"#0d0887\"],[0.1111111111111111,\"#46039f\"],[0.2222222222222222,\"#7201a8\"],[0.3333333333333333,\"#9c179e\"],[0.4444444444444444,\"#bd3786\"],[0.5555555555555556,\"#d8576b\"],[0.6666666666666666,\"#ed7953\"],[0.7777777777777778,\"#fb9f3a\"],[0.8888888888888888,\"#fdca26\"],[1.0,\"#f0f921\"]],\"type\":\"heatmapgl\"}],\"histogram\":[{\"marker\":{\"pattern\":{\"fillmode\":\"overlay\",\"size\":10,\"solidity\":0.2}},\"type\":\"histogram\"}],\"histogram2d\":[{\"colorbar\":{\"outlinewidth\":0,\"ticks\":\"\"},\"colorscale\":[[0.0,\"#0d0887\"],[0.1111111111111111,\"#46039f\"],[0.2222222222222222,\"#7201a8\"],[0.3333333333333333,\"#9c179e\"],[0.4444444444444444,\"#bd3786\"],[0.5555555555555556,\"#d8576b\"],[0.6666666666666666,\"#ed7953\"],[0.7777777777777778,\"#fb9f3a\"],[0.8888888888888888,\"#fdca26\"],[1.0,\"#f0f921\"]],\"type\":\"histogram2d\"}],\"histogram2dcontour\":[{\"colorbar\":{\"outlinewidth\":0,\"ticks\":\"\"},\"colorscale\":[[0.0,\"#0d0887\"],[0.1111111111111111,\"#46039f\"],[0.2222222222222222,\"#7201a8\"],[0.3333333333333333,\"#9c179e\"],[0.4444444444444444,\"#bd3786\"],[0.5555555555555556,\"#d8576b\"],[0.6666666666666666,\"#ed7953\"],[0.7777777777777778,\"#fb9f3a\"],[0.8888888888888888,\"#fdca26\"],[1.0,\"#f0f921\"]],\"type\":\"histogram2dcontour\"}],\"mesh3d\":[{\"colorbar\":{\"outlinewidth\":0,\"ticks\":\"\"},\"type\":\"mesh3d\"}],\"parcoords\":[{\"line\":{\"colorbar\":{\"outlinewidth\":0,\"ticks\":\"\"}},\"type\":\"parcoords\"}],\"pie\":[{\"automargin\":true,\"type\":\"pie\"}],\"scatter\":[{\"marker\":{\"colorbar\":{\"outlinewidth\":0,\"ticks\":\"\"}},\"type\":\"scatter\"}],\"scatter3d\":[{\"line\":{\"colorbar\":{\"outlinewidth\":0,\"ticks\":\"\"}},\"marker\":{\"colorbar\":{\"outlinewidth\":0,\"ticks\":\"\"}},\"type\":\"scatter3d\"}],\"scattercarpet\":[{\"marker\":{\"colorbar\":{\"outlinewidth\":0,\"ticks\":\"\"}},\"type\":\"scattercarpet\"}],\"scattergeo\":[{\"marker\":{\"colorbar\":{\"outlinewidth\":0,\"ticks\":\"\"}},\"type\":\"scattergeo\"}],\"scattergl\":[{\"marker\":{\"colorbar\":{\"outlinewidth\":0,\"ticks\":\"\"}},\"type\":\"scattergl\"}],\"scattermapbox\":[{\"marker\":{\"colorbar\":{\"outlinewidth\":0,\"ticks\":\"\"}},\"type\":\"scattermapbox\"}],\"scatterpolar\":[{\"marker\":{\"colorbar\":{\"outlinewidth\":0,\"ticks\":\"\"}},\"type\":\"scatterpolar\"}],\"scatterpolargl\":[{\"marker\":{\"colorbar\":{\"outlinewidth\":0,\"ticks\":\"\"}},\"type\":\"scatterpolargl\"}],\"scatterternary\":[{\"marker\":{\"colorbar\":{\"outlinewidth\":0,\"ticks\":\"\"}},\"type\":\"scatterternary\"}],\"surface\":[{\"colorbar\":{\"outlinewidth\":0,\"ticks\":\"\"},\"colorscale\":[[0.0,\"#0d0887\"],[0.1111111111111111,\"#46039f\"],[0.2222222222222222,\"#7201a8\"],[0.3333333333333333,\"#9c179e\"],[0.4444444444444444,\"#bd3786\"],[0.5555555555555556,\"#d8576b\"],[0.6666666666666666,\"#ed7953\"],[0.7777777777777778,\"#fb9f3a\"],[0.8888888888888888,\"#fdca26\"],[1.0,\"#f0f921\"]],\"type\":\"surface\"}],\"table\":[{\"cells\":{\"fill\":{\"color\":\"#EBF0F8\"},\"line\":{\"color\":\"white\"}},\"header\":{\"fill\":{\"color\":\"#C8D4E3\"},\"line\":{\"color\":\"white\"}},\"type\":\"table\"}]},\"layout\":{\"annotationdefaults\":{\"arrowcolor\":\"#2a3f5f\",\"arrowhead\":0,\"arrowwidth\":1},\"autotypenumbers\":\"strict\",\"coloraxis\":{\"colorbar\":{\"outlinewidth\":0,\"ticks\":\"\"}},\"colorscale\":{\"diverging\":[[0,\"#8e0152\"],[0.1,\"#c51b7d\"],[0.2,\"#de77ae\"],[0.3,\"#f1b6da\"],[0.4,\"#fde0ef\"],[0.5,\"#f7f7f7\"],[0.6,\"#e6f5d0\"],[0.7,\"#b8e186\"],[0.8,\"#7fbc41\"],[0.9,\"#4d9221\"],[1,\"#276419\"]],\"sequential\":[[0.0,\"#0d0887\"],[0.1111111111111111,\"#46039f\"],[0.2222222222222222,\"#7201a8\"],[0.3333333333333333,\"#9c179e\"],[0.4444444444444444,\"#bd3786\"],[0.5555555555555556,\"#d8576b\"],[0.6666666666666666,\"#ed7953\"],[0.7777777777777778,\"#fb9f3a\"],[0.8888888888888888,\"#fdca26\"],[1.0,\"#f0f921\"]],\"sequentialminus\":[[0.0,\"#0d0887\"],[0.1111111111111111,\"#46039f\"],[0.2222222222222222,\"#7201a8\"],[0.3333333333333333,\"#9c179e\"],[0.4444444444444444,\"#bd3786\"],[0.5555555555555556,\"#d8576b\"],[0.6666666666666666,\"#ed7953\"],[0.7777777777777778,\"#fb9f3a\"],[0.8888888888888888,\"#fdca26\"],[1.0,\"#f0f921\"]]},\"colorway\":[\"#636efa\",\"#EF553B\",\"#00cc96\",\"#ab63fa\",\"#FFA15A\",\"#19d3f3\",\"#FF6692\",\"#B6E880\",\"#FF97FF\",\"#FECB52\"],\"font\":{\"color\":\"#2a3f5f\"},\"geo\":{\"bgcolor\":\"white\",\"lakecolor\":\"white\",\"landcolor\":\"#E5ECF6\",\"showlakes\":true,\"showland\":true,\"subunitcolor\":\"white\"},\"hoverlabel\":{\"align\":\"left\"},\"hovermode\":\"closest\",\"mapbox\":{\"style\":\"light\"},\"paper_bgcolor\":\"white\",\"plot_bgcolor\":\"#E5ECF6\",\"polar\":{\"angularaxis\":{\"gridcolor\":\"white\",\"linecolor\":\"white\",\"ticks\":\"\"},\"bgcolor\":\"#E5ECF6\",\"radialaxis\":{\"gridcolor\":\"white\",\"linecolor\":\"white\",\"ticks\":\"\"}},\"scene\":{\"xaxis\":{\"backgroundcolor\":\"#E5ECF6\",\"gridcolor\":\"white\",\"gridwidth\":2,\"linecolor\":\"white\",\"showbackground\":true,\"ticks\":\"\",\"zerolinecolor\":\"white\"},\"yaxis\":{\"backgroundcolor\":\"#E5ECF6\",\"gridcolor\":\"white\",\"gridwidth\":2,\"linecolor\":\"white\",\"showbackground\":true,\"ticks\":\"\",\"zerolinecolor\":\"white\"},\"zaxis\":{\"backgroundcolor\":\"#E5ECF6\",\"gridcolor\":\"white\",\"gridwidth\":2,\"linecolor\":\"white\",\"showbackground\":true,\"ticks\":\"\",\"zerolinecolor\":\"white\"}},\"shapedefaults\":{\"line\":{\"color\":\"#2a3f5f\"}},\"ternary\":{\"aaxis\":{\"gridcolor\":\"white\",\"linecolor\":\"white\",\"ticks\":\"\"},\"baxis\":{\"gridcolor\":\"white\",\"linecolor\":\"white\",\"ticks\":\"\"},\"bgcolor\":\"#E5ECF6\",\"caxis\":{\"gridcolor\":\"white\",\"linecolor\":\"white\",\"ticks\":\"\"}},\"title\":{\"x\":0.05},\"xaxis\":{\"automargin\":true,\"gridcolor\":\"white\",\"linecolor\":\"white\",\"ticks\":\"\",\"title\":{\"standoff\":15},\"zerolinecolor\":\"white\",\"zerolinewidth\":2},\"yaxis\":{\"automargin\":true,\"gridcolor\":\"white\",\"linecolor\":\"white\",\"ticks\":\"\",\"title\":{\"standoff\":15},\"zerolinecolor\":\"white\",\"zerolinewidth\":2}}},\"xaxis\":{\"anchor\":\"y\",\"domain\":[0.0,1.0],\"title\":{\"text\":\"Observed Titer\"}},\"yaxis\":{\"anchor\":\"x\",\"domain\":[0.0,1.0],\"title\":{\"text\":\"Predicted Titer\"}},\"legend\":{\"tracegroupgap\":0},\"title\":{\"text\":\"Observed vs Predicted on Test Set; R^2 = -0.376\"},\"shapes\":[{\"layer\":\"below\",\"type\":\"line\",\"x0\":0,\"x1\":1,\"xref\":\"paper\",\"y0\":0,\"y1\":1,\"yref\":\"paper\"}]},                        {\"responsive\": true}                    ).then(function(){\n",
              "                            \n",
              "var gd = document.getElementById('e98a4aa4-3c4c-47af-a839-3b60b5dedcc0');\n",
              "var x = new MutationObserver(function (mutations, observer) {{\n",
              "        var display = window.getComputedStyle(gd).display;\n",
              "        if (!display || display === 'none') {{\n",
              "            console.log([gd, 'removed!']);\n",
              "            Plotly.purge(gd);\n",
              "            observer.disconnect();\n",
              "        }}\n",
              "}});\n",
              "\n",
              "// Listen for the removal of the full notebook cells\n",
              "var notebookContainer = gd.closest('#notebook-container');\n",
              "if (notebookContainer) {{\n",
              "    x.observe(notebookContainer, {childList: true});\n",
              "}}\n",
              "\n",
              "// Listen for the clearing of the current output cell\n",
              "var outputEl = gd.closest('.output');\n",
              "if (outputEl) {{\n",
              "    x.observe(outputEl, {childList: true});\n",
              "}}\n",
              "\n",
              "                        })                };                            </script>        </div>\n",
              "</body>\n",
              "</html>"
            ]
          },
          "metadata": {}
        }
      ]
    },
    {
      "cell_type": "code",
      "source": [
        "# Absolute RMSEP\n",
        "rmse_abs = mean_squared_error(y_test, yhat_test,squared=False)\n",
        "print('Absolute RMSEP: ',rmse_abs)\n",
        "# Relative RMSEP\n",
        "rmse_rel = mean_squared_error(y_test, yhat_test,squared=False) / np.std(np.array(y_test))\n",
        "print('Relative RMSEP: ',rmse_rel)"
      ],
      "metadata": {
        "id": "43b0WGXZ9ECg",
        "outputId": "4a4200dd-b1b4-4311-a78c-e5d0b1058a97",
        "colab": {
          "base_uri": "https://localhost:8080/"
        }
      },
      "execution_count": 24,
      "outputs": [
        {
          "output_type": "stream",
          "name": "stdout",
          "text": [
            "Absolute RMSEP:  339.0945364710543\n",
            "Relative RMSEP:  1.17296498139464\n"
          ]
        }
      ]
    },
    {
      "cell_type": "markdown",
      "source": [
        "### Plot variance explained in the Y\n",
        "\n",
        "Similarly as in PCA script, we can look at explained variance by the principal components. However the difference being that in PCA we are trying to maximize the variance explained. In PLS we are trying to maximize the covarinace with the target."
      ],
      "metadata": {
        "id": "75UqadR0JEXQ"
      }
    },
    {
      "cell_type": "code",
      "source": [
        "# Plot Explained Variance plots\n",
        "scores = pls.x_scores_\n",
        "expl_var = np.var(scores, axis=0)\n",
        "expl_var_ratio = expl_var / np.sum(expl_var)\n",
        "fig = px.line(x=list(range(N_LV)), y=np.cumsum(expl_var_ratio), color=px.Constant(\"Cumulative explained variance\"), labels=dict(x=\"Principal component index\", y=\"Explained Variance Ratio\", color=\"Legend\"))\n",
        "fig.add_bar(x=list(range(N_LV)), y=expl_var_ratio, name=\"Individual explained variance\")\n",
        "fig.show()\n"
      ],
      "metadata": {
        "id": "AgnQLIpd3Wtq",
        "outputId": "d75231f8-5b46-4e38-f839-87d3f1bd819a",
        "colab": {
          "base_uri": "https://localhost:8080/",
          "height": 542
        }
      },
      "execution_count": 25,
      "outputs": [
        {
          "output_type": "display_data",
          "data": {
            "text/html": [
              "<html>\n",
              "<head><meta charset=\"utf-8\" /></head>\n",
              "<body>\n",
              "    <div>            <script src=\"https://cdnjs.cloudflare.com/ajax/libs/mathjax/2.7.5/MathJax.js?config=TeX-AMS-MML_SVG\"></script><script type=\"text/javascript\">if (window.MathJax) {MathJax.Hub.Config({SVG: {font: \"STIX-Web\"}});}</script>                <script type=\"text/javascript\">window.PlotlyConfig = {MathJaxConfig: 'local'};</script>\n",
              "        <script src=\"https://cdn.plot.ly/plotly-2.8.3.min.js\"></script>                <div id=\"43de1030-4ddc-4ff8-a20b-2def84843a0a\" class=\"plotly-graph-div\" style=\"height:525px; width:100%;\"></div>            <script type=\"text/javascript\">                                    window.PLOTLYENV=window.PLOTLYENV || {};                                    if (document.getElementById(\"43de1030-4ddc-4ff8-a20b-2def84843a0a\")) {                    Plotly.newPlot(                        \"43de1030-4ddc-4ff8-a20b-2def84843a0a\",                        [{\"hovertemplate\":\"Legend=Cumulative explained variance<br>Principal component index=%{x}<br>Explained Variance Ratio=%{y}<extra></extra>\",\"legendgroup\":\"Cumulative explained variance\",\"line\":{\"color\":\"#636efa\",\"dash\":\"solid\"},\"marker\":{\"symbol\":\"circle\"},\"mode\":\"lines\",\"name\":\"Cumulative explained variance\",\"orientation\":\"v\",\"showlegend\":true,\"x\":[0,1,2,3,4],\"xaxis\":\"x\",\"y\":[0.23512487018316108,0.43824034763431896,0.65302534740109,0.8316956554494177,0.9999999999999999],\"yaxis\":\"y\",\"type\":\"scatter\"},{\"name\":\"Individual explained variance\",\"x\":[0,1,2,3,4],\"y\":[0.23512487018316108,0.2031154774511579,0.21478499976677104,0.17867030804832768,0.16830434455058219],\"type\":\"bar\"}],                        {\"template\":{\"data\":{\"bar\":[{\"error_x\":{\"color\":\"#2a3f5f\"},\"error_y\":{\"color\":\"#2a3f5f\"},\"marker\":{\"line\":{\"color\":\"#E5ECF6\",\"width\":0.5},\"pattern\":{\"fillmode\":\"overlay\",\"size\":10,\"solidity\":0.2}},\"type\":\"bar\"}],\"barpolar\":[{\"marker\":{\"line\":{\"color\":\"#E5ECF6\",\"width\":0.5},\"pattern\":{\"fillmode\":\"overlay\",\"size\":10,\"solidity\":0.2}},\"type\":\"barpolar\"}],\"carpet\":[{\"aaxis\":{\"endlinecolor\":\"#2a3f5f\",\"gridcolor\":\"white\",\"linecolor\":\"white\",\"minorgridcolor\":\"white\",\"startlinecolor\":\"#2a3f5f\"},\"baxis\":{\"endlinecolor\":\"#2a3f5f\",\"gridcolor\":\"white\",\"linecolor\":\"white\",\"minorgridcolor\":\"white\",\"startlinecolor\":\"#2a3f5f\"},\"type\":\"carpet\"}],\"choropleth\":[{\"colorbar\":{\"outlinewidth\":0,\"ticks\":\"\"},\"type\":\"choropleth\"}],\"contour\":[{\"colorbar\":{\"outlinewidth\":0,\"ticks\":\"\"},\"colorscale\":[[0.0,\"#0d0887\"],[0.1111111111111111,\"#46039f\"],[0.2222222222222222,\"#7201a8\"],[0.3333333333333333,\"#9c179e\"],[0.4444444444444444,\"#bd3786\"],[0.5555555555555556,\"#d8576b\"],[0.6666666666666666,\"#ed7953\"],[0.7777777777777778,\"#fb9f3a\"],[0.8888888888888888,\"#fdca26\"],[1.0,\"#f0f921\"]],\"type\":\"contour\"}],\"contourcarpet\":[{\"colorbar\":{\"outlinewidth\":0,\"ticks\":\"\"},\"type\":\"contourcarpet\"}],\"heatmap\":[{\"colorbar\":{\"outlinewidth\":0,\"ticks\":\"\"},\"colorscale\":[[0.0,\"#0d0887\"],[0.1111111111111111,\"#46039f\"],[0.2222222222222222,\"#7201a8\"],[0.3333333333333333,\"#9c179e\"],[0.4444444444444444,\"#bd3786\"],[0.5555555555555556,\"#d8576b\"],[0.6666666666666666,\"#ed7953\"],[0.7777777777777778,\"#fb9f3a\"],[0.8888888888888888,\"#fdca26\"],[1.0,\"#f0f921\"]],\"type\":\"heatmap\"}],\"heatmapgl\":[{\"colorbar\":{\"outlinewidth\":0,\"ticks\":\"\"},\"colorscale\":[[0.0,\"#0d0887\"],[0.1111111111111111,\"#46039f\"],[0.2222222222222222,\"#7201a8\"],[0.3333333333333333,\"#9c179e\"],[0.4444444444444444,\"#bd3786\"],[0.5555555555555556,\"#d8576b\"],[0.6666666666666666,\"#ed7953\"],[0.7777777777777778,\"#fb9f3a\"],[0.8888888888888888,\"#fdca26\"],[1.0,\"#f0f921\"]],\"type\":\"heatmapgl\"}],\"histogram\":[{\"marker\":{\"pattern\":{\"fillmode\":\"overlay\",\"size\":10,\"solidity\":0.2}},\"type\":\"histogram\"}],\"histogram2d\":[{\"colorbar\":{\"outlinewidth\":0,\"ticks\":\"\"},\"colorscale\":[[0.0,\"#0d0887\"],[0.1111111111111111,\"#46039f\"],[0.2222222222222222,\"#7201a8\"],[0.3333333333333333,\"#9c179e\"],[0.4444444444444444,\"#bd3786\"],[0.5555555555555556,\"#d8576b\"],[0.6666666666666666,\"#ed7953\"],[0.7777777777777778,\"#fb9f3a\"],[0.8888888888888888,\"#fdca26\"],[1.0,\"#f0f921\"]],\"type\":\"histogram2d\"}],\"histogram2dcontour\":[{\"colorbar\":{\"outlinewidth\":0,\"ticks\":\"\"},\"colorscale\":[[0.0,\"#0d0887\"],[0.1111111111111111,\"#46039f\"],[0.2222222222222222,\"#7201a8\"],[0.3333333333333333,\"#9c179e\"],[0.4444444444444444,\"#bd3786\"],[0.5555555555555556,\"#d8576b\"],[0.6666666666666666,\"#ed7953\"],[0.7777777777777778,\"#fb9f3a\"],[0.8888888888888888,\"#fdca26\"],[1.0,\"#f0f921\"]],\"type\":\"histogram2dcontour\"}],\"mesh3d\":[{\"colorbar\":{\"outlinewidth\":0,\"ticks\":\"\"},\"type\":\"mesh3d\"}],\"parcoords\":[{\"line\":{\"colorbar\":{\"outlinewidth\":0,\"ticks\":\"\"}},\"type\":\"parcoords\"}],\"pie\":[{\"automargin\":true,\"type\":\"pie\"}],\"scatter\":[{\"marker\":{\"colorbar\":{\"outlinewidth\":0,\"ticks\":\"\"}},\"type\":\"scatter\"}],\"scatter3d\":[{\"line\":{\"colorbar\":{\"outlinewidth\":0,\"ticks\":\"\"}},\"marker\":{\"colorbar\":{\"outlinewidth\":0,\"ticks\":\"\"}},\"type\":\"scatter3d\"}],\"scattercarpet\":[{\"marker\":{\"colorbar\":{\"outlinewidth\":0,\"ticks\":\"\"}},\"type\":\"scattercarpet\"}],\"scattergeo\":[{\"marker\":{\"colorbar\":{\"outlinewidth\":0,\"ticks\":\"\"}},\"type\":\"scattergeo\"}],\"scattergl\":[{\"marker\":{\"colorbar\":{\"outlinewidth\":0,\"ticks\":\"\"}},\"type\":\"scattergl\"}],\"scattermapbox\":[{\"marker\":{\"colorbar\":{\"outlinewidth\":0,\"ticks\":\"\"}},\"type\":\"scattermapbox\"}],\"scatterpolar\":[{\"marker\":{\"colorbar\":{\"outlinewidth\":0,\"ticks\":\"\"}},\"type\":\"scatterpolar\"}],\"scatterpolargl\":[{\"marker\":{\"colorbar\":{\"outlinewidth\":0,\"ticks\":\"\"}},\"type\":\"scatterpolargl\"}],\"scatterternary\":[{\"marker\":{\"colorbar\":{\"outlinewidth\":0,\"ticks\":\"\"}},\"type\":\"scatterternary\"}],\"surface\":[{\"colorbar\":{\"outlinewidth\":0,\"ticks\":\"\"},\"colorscale\":[[0.0,\"#0d0887\"],[0.1111111111111111,\"#46039f\"],[0.2222222222222222,\"#7201a8\"],[0.3333333333333333,\"#9c179e\"],[0.4444444444444444,\"#bd3786\"],[0.5555555555555556,\"#d8576b\"],[0.6666666666666666,\"#ed7953\"],[0.7777777777777778,\"#fb9f3a\"],[0.8888888888888888,\"#fdca26\"],[1.0,\"#f0f921\"]],\"type\":\"surface\"}],\"table\":[{\"cells\":{\"fill\":{\"color\":\"#EBF0F8\"},\"line\":{\"color\":\"white\"}},\"header\":{\"fill\":{\"color\":\"#C8D4E3\"},\"line\":{\"color\":\"white\"}},\"type\":\"table\"}]},\"layout\":{\"annotationdefaults\":{\"arrowcolor\":\"#2a3f5f\",\"arrowhead\":0,\"arrowwidth\":1},\"autotypenumbers\":\"strict\",\"coloraxis\":{\"colorbar\":{\"outlinewidth\":0,\"ticks\":\"\"}},\"colorscale\":{\"diverging\":[[0,\"#8e0152\"],[0.1,\"#c51b7d\"],[0.2,\"#de77ae\"],[0.3,\"#f1b6da\"],[0.4,\"#fde0ef\"],[0.5,\"#f7f7f7\"],[0.6,\"#e6f5d0\"],[0.7,\"#b8e186\"],[0.8,\"#7fbc41\"],[0.9,\"#4d9221\"],[1,\"#276419\"]],\"sequential\":[[0.0,\"#0d0887\"],[0.1111111111111111,\"#46039f\"],[0.2222222222222222,\"#7201a8\"],[0.3333333333333333,\"#9c179e\"],[0.4444444444444444,\"#bd3786\"],[0.5555555555555556,\"#d8576b\"],[0.6666666666666666,\"#ed7953\"],[0.7777777777777778,\"#fb9f3a\"],[0.8888888888888888,\"#fdca26\"],[1.0,\"#f0f921\"]],\"sequentialminus\":[[0.0,\"#0d0887\"],[0.1111111111111111,\"#46039f\"],[0.2222222222222222,\"#7201a8\"],[0.3333333333333333,\"#9c179e\"],[0.4444444444444444,\"#bd3786\"],[0.5555555555555556,\"#d8576b\"],[0.6666666666666666,\"#ed7953\"],[0.7777777777777778,\"#fb9f3a\"],[0.8888888888888888,\"#fdca26\"],[1.0,\"#f0f921\"]]},\"colorway\":[\"#636efa\",\"#EF553B\",\"#00cc96\",\"#ab63fa\",\"#FFA15A\",\"#19d3f3\",\"#FF6692\",\"#B6E880\",\"#FF97FF\",\"#FECB52\"],\"font\":{\"color\":\"#2a3f5f\"},\"geo\":{\"bgcolor\":\"white\",\"lakecolor\":\"white\",\"landcolor\":\"#E5ECF6\",\"showlakes\":true,\"showland\":true,\"subunitcolor\":\"white\"},\"hoverlabel\":{\"align\":\"left\"},\"hovermode\":\"closest\",\"mapbox\":{\"style\":\"light\"},\"paper_bgcolor\":\"white\",\"plot_bgcolor\":\"#E5ECF6\",\"polar\":{\"angularaxis\":{\"gridcolor\":\"white\",\"linecolor\":\"white\",\"ticks\":\"\"},\"bgcolor\":\"#E5ECF6\",\"radialaxis\":{\"gridcolor\":\"white\",\"linecolor\":\"white\",\"ticks\":\"\"}},\"scene\":{\"xaxis\":{\"backgroundcolor\":\"#E5ECF6\",\"gridcolor\":\"white\",\"gridwidth\":2,\"linecolor\":\"white\",\"showbackground\":true,\"ticks\":\"\",\"zerolinecolor\":\"white\"},\"yaxis\":{\"backgroundcolor\":\"#E5ECF6\",\"gridcolor\":\"white\",\"gridwidth\":2,\"linecolor\":\"white\",\"showbackground\":true,\"ticks\":\"\",\"zerolinecolor\":\"white\"},\"zaxis\":{\"backgroundcolor\":\"#E5ECF6\",\"gridcolor\":\"white\",\"gridwidth\":2,\"linecolor\":\"white\",\"showbackground\":true,\"ticks\":\"\",\"zerolinecolor\":\"white\"}},\"shapedefaults\":{\"line\":{\"color\":\"#2a3f5f\"}},\"ternary\":{\"aaxis\":{\"gridcolor\":\"white\",\"linecolor\":\"white\",\"ticks\":\"\"},\"baxis\":{\"gridcolor\":\"white\",\"linecolor\":\"white\",\"ticks\":\"\"},\"bgcolor\":\"#E5ECF6\",\"caxis\":{\"gridcolor\":\"white\",\"linecolor\":\"white\",\"ticks\":\"\"}},\"title\":{\"x\":0.05},\"xaxis\":{\"automargin\":true,\"gridcolor\":\"white\",\"linecolor\":\"white\",\"ticks\":\"\",\"title\":{\"standoff\":15},\"zerolinecolor\":\"white\",\"zerolinewidth\":2},\"yaxis\":{\"automargin\":true,\"gridcolor\":\"white\",\"linecolor\":\"white\",\"ticks\":\"\",\"title\":{\"standoff\":15},\"zerolinecolor\":\"white\",\"zerolinewidth\":2}}},\"xaxis\":{\"anchor\":\"y\",\"domain\":[0.0,1.0],\"title\":{\"text\":\"Principal component index\"}},\"yaxis\":{\"anchor\":\"x\",\"domain\":[0.0,1.0],\"title\":{\"text\":\"Explained Variance Ratio\"}},\"legend\":{\"title\":{\"text\":\"Legend\"},\"tracegroupgap\":0},\"margin\":{\"t\":60}},                        {\"responsive\": true}                    ).then(function(){\n",
              "                            \n",
              "var gd = document.getElementById('43de1030-4ddc-4ff8-a20b-2def84843a0a');\n",
              "var x = new MutationObserver(function (mutations, observer) {{\n",
              "        var display = window.getComputedStyle(gd).display;\n",
              "        if (!display || display === 'none') {{\n",
              "            console.log([gd, 'removed!']);\n",
              "            Plotly.purge(gd);\n",
              "            observer.disconnect();\n",
              "        }}\n",
              "}});\n",
              "\n",
              "// Listen for the removal of the full notebook cells\n",
              "var notebookContainer = gd.closest('#notebook-container');\n",
              "if (notebookContainer) {{\n",
              "    x.observe(notebookContainer, {childList: true});\n",
              "}}\n",
              "\n",
              "// Listen for the clearing of the current output cell\n",
              "var outputEl = gd.closest('.output');\n",
              "if (outputEl) {{\n",
              "    x.observe(outputEl, {childList: true});\n",
              "}}\n",
              "\n",
              "                        })                };                            </script>        </div>\n",
              "</body>\n",
              "</html>"
            ]
          },
          "metadata": {}
        }
      ]
    },
    {
      "cell_type": "code",
      "source": [
        "# Principal component on x-axis\n",
        "select_x_pca = 1\n",
        "# Principal component on y-axis\n",
        "select_y_pca = 2"
      ],
      "metadata": {
        "id": "9vzQgQ8bLjFP"
      },
      "execution_count": 40,
      "outputs": []
    },
    {
      "cell_type": "code",
      "source": [
        "# Plot loadings\n",
        "loadings = pls.x_loadings_\n",
        "fig = px.scatter(x=pls.x_scores_[:,select_x_pca-1],y=pls.x_scores_[:,select_y_pca-1])\n",
        "for i, feature in enumerate(doe.columns):\n",
        "    fig.add_shape(type='line', x0=0, y0=0, x1=loadings[i,select_x_pca-1], y1=loadings[i,select_y_pca-1])\n",
        "    fig.add_annotation(x=loadings[i,select_x_pca-1], y=loadings[i,select_y_pca-1], ax=0, ay=0, xanchor=\"center\", yanchor=\"bottom\", text=feature)\n",
        "fig.show()"
      ],
      "metadata": {
        "id": "4oVufG1OF79g",
        "outputId": "4189de71-7c62-46d9-fd4b-d600867c09aa",
        "colab": {
          "base_uri": "https://localhost:8080/",
          "height": 542
        }
      },
      "execution_count": 41,
      "outputs": [
        {
          "output_type": "display_data",
          "data": {
            "text/html": [
              "<html>\n",
              "<head><meta charset=\"utf-8\" /></head>\n",
              "<body>\n",
              "    <div>            <script src=\"https://cdnjs.cloudflare.com/ajax/libs/mathjax/2.7.5/MathJax.js?config=TeX-AMS-MML_SVG\"></script><script type=\"text/javascript\">if (window.MathJax) {MathJax.Hub.Config({SVG: {font: \"STIX-Web\"}});}</script>                <script type=\"text/javascript\">window.PlotlyConfig = {MathJaxConfig: 'local'};</script>\n",
              "        <script src=\"https://cdn.plot.ly/plotly-2.8.3.min.js\"></script>                <div id=\"6afaca4b-21ba-40b6-9245-16bfc5164c5a\" class=\"plotly-graph-div\" style=\"height:525px; width:100%;\"></div>            <script type=\"text/javascript\">                                    window.PLOTLYENV=window.PLOTLYENV || {};                                    if (document.getElementById(\"6afaca4b-21ba-40b6-9245-16bfc5164c5a\")) {                    Plotly.newPlot(                        \"6afaca4b-21ba-40b6-9245-16bfc5164c5a\",                        [{\"hovertemplate\":\"x=%{x}<br>y=%{y}<extra></extra>\",\"legendgroup\":\"\",\"marker\":{\"color\":\"#636efa\",\"symbol\":\"circle\"},\"mode\":\"markers\",\"name\":\"\",\"orientation\":\"v\",\"showlegend\":false,\"x\":[-4.6989689174879566e-17,-0.18343166993268928,-1.0382543929110315,0.7969180325177925,-1.601081405981929,-0.4988770840803559,-0.012209319096469495,-0.9905848333220627,-0.20807403713392328,-0.8707202404740515,-0.8999636236534287,0.2697382298634626,0.8053687977911694,0.2821065864812819,0.09405302139233174,1.100126911907695,1.483347161930081,0.4579397910524008,-1.0954969384295272,1.2157113246106797,0.2222610148644111,-2.817937937876785,0.5624196381880509,-0.16433698509773814,1.000634714214232,0.3542093736264609,-1.3325497876480856,1.6647373284362568,-0.11797701211410208,-0.04779530337881588,-2.0805881743114023,-0.5706352490642711,2.7596215033953633,-0.48264664343078373,0.17948949723517454,0.56761458244313,-0.5222964823444115,1.7816151203008879,-1.6160809402971905,1.3980193048666623,-0.012866373143165744,-0.42859550695945825,0.4220130934195398,2.0343771212793373,-0.18260997661850237,-0.9273804944826056,-0.9550940194644895,0.6520020935495694,-0.32512957956965804,-0.12111023254903633],\"xaxis\":\"x\",\"y\":[-1.7919142065275841e-16,0.36608723401783194,-0.18179301189806202,-1.4889522839088594,0.5708300856918783,-0.578767215662654,-1.4350751865627789,-1.2397639537197724,1.6590842943998796,-0.426964105341498,0.491231502153636,0.632099150225417,-0.38428444749917073,1.2686383319532102,-0.15862857345734654,0.6633935007758709,0.02084202844313096,1.6886726271177395,-1.3641063490298748,-1.2466634153719216,-0.39464557871137557,-0.05350579729922114,-2.0111210686656187,1.9980376967711464,0.5358770575947072,1.1443736876410426,1.542969910692184,0.02215025048159171,-1.58108160118495,-1.2854285034353403,-0.58702670346123,0.9142742554465221,0.049793736290497166,0.809300235438253,-1.1398141762587553,-0.3531094459840482,0.8021284944383551,0.3654614936712409,-0.2586671400551536,1.0509862587264898,1.923464527384127,0.6276457745015916,-0.5999759885107541,-0.7391868549314251,-0.708650191380864,-0.9149092685478493,-0.8089002443313379,-0.43355484864329724,0.29395917863216936,0.9332746413646433],\"yaxis\":\"y\",\"type\":\"scatter\"}],                        {\"template\":{\"data\":{\"bar\":[{\"error_x\":{\"color\":\"#2a3f5f\"},\"error_y\":{\"color\":\"#2a3f5f\"},\"marker\":{\"line\":{\"color\":\"#E5ECF6\",\"width\":0.5},\"pattern\":{\"fillmode\":\"overlay\",\"size\":10,\"solidity\":0.2}},\"type\":\"bar\"}],\"barpolar\":[{\"marker\":{\"line\":{\"color\":\"#E5ECF6\",\"width\":0.5},\"pattern\":{\"fillmode\":\"overlay\",\"size\":10,\"solidity\":0.2}},\"type\":\"barpolar\"}],\"carpet\":[{\"aaxis\":{\"endlinecolor\":\"#2a3f5f\",\"gridcolor\":\"white\",\"linecolor\":\"white\",\"minorgridcolor\":\"white\",\"startlinecolor\":\"#2a3f5f\"},\"baxis\":{\"endlinecolor\":\"#2a3f5f\",\"gridcolor\":\"white\",\"linecolor\":\"white\",\"minorgridcolor\":\"white\",\"startlinecolor\":\"#2a3f5f\"},\"type\":\"carpet\"}],\"choropleth\":[{\"colorbar\":{\"outlinewidth\":0,\"ticks\":\"\"},\"type\":\"choropleth\"}],\"contour\":[{\"colorbar\":{\"outlinewidth\":0,\"ticks\":\"\"},\"colorscale\":[[0.0,\"#0d0887\"],[0.1111111111111111,\"#46039f\"],[0.2222222222222222,\"#7201a8\"],[0.3333333333333333,\"#9c179e\"],[0.4444444444444444,\"#bd3786\"],[0.5555555555555556,\"#d8576b\"],[0.6666666666666666,\"#ed7953\"],[0.7777777777777778,\"#fb9f3a\"],[0.8888888888888888,\"#fdca26\"],[1.0,\"#f0f921\"]],\"type\":\"contour\"}],\"contourcarpet\":[{\"colorbar\":{\"outlinewidth\":0,\"ticks\":\"\"},\"type\":\"contourcarpet\"}],\"heatmap\":[{\"colorbar\":{\"outlinewidth\":0,\"ticks\":\"\"},\"colorscale\":[[0.0,\"#0d0887\"],[0.1111111111111111,\"#46039f\"],[0.2222222222222222,\"#7201a8\"],[0.3333333333333333,\"#9c179e\"],[0.4444444444444444,\"#bd3786\"],[0.5555555555555556,\"#d8576b\"],[0.6666666666666666,\"#ed7953\"],[0.7777777777777778,\"#fb9f3a\"],[0.8888888888888888,\"#fdca26\"],[1.0,\"#f0f921\"]],\"type\":\"heatmap\"}],\"heatmapgl\":[{\"colorbar\":{\"outlinewidth\":0,\"ticks\":\"\"},\"colorscale\":[[0.0,\"#0d0887\"],[0.1111111111111111,\"#46039f\"],[0.2222222222222222,\"#7201a8\"],[0.3333333333333333,\"#9c179e\"],[0.4444444444444444,\"#bd3786\"],[0.5555555555555556,\"#d8576b\"],[0.6666666666666666,\"#ed7953\"],[0.7777777777777778,\"#fb9f3a\"],[0.8888888888888888,\"#fdca26\"],[1.0,\"#f0f921\"]],\"type\":\"heatmapgl\"}],\"histogram\":[{\"marker\":{\"pattern\":{\"fillmode\":\"overlay\",\"size\":10,\"solidity\":0.2}},\"type\":\"histogram\"}],\"histogram2d\":[{\"colorbar\":{\"outlinewidth\":0,\"ticks\":\"\"},\"colorscale\":[[0.0,\"#0d0887\"],[0.1111111111111111,\"#46039f\"],[0.2222222222222222,\"#7201a8\"],[0.3333333333333333,\"#9c179e\"],[0.4444444444444444,\"#bd3786\"],[0.5555555555555556,\"#d8576b\"],[0.6666666666666666,\"#ed7953\"],[0.7777777777777778,\"#fb9f3a\"],[0.8888888888888888,\"#fdca26\"],[1.0,\"#f0f921\"]],\"type\":\"histogram2d\"}],\"histogram2dcontour\":[{\"colorbar\":{\"outlinewidth\":0,\"ticks\":\"\"},\"colorscale\":[[0.0,\"#0d0887\"],[0.1111111111111111,\"#46039f\"],[0.2222222222222222,\"#7201a8\"],[0.3333333333333333,\"#9c179e\"],[0.4444444444444444,\"#bd3786\"],[0.5555555555555556,\"#d8576b\"],[0.6666666666666666,\"#ed7953\"],[0.7777777777777778,\"#fb9f3a\"],[0.8888888888888888,\"#fdca26\"],[1.0,\"#f0f921\"]],\"type\":\"histogram2dcontour\"}],\"mesh3d\":[{\"colorbar\":{\"outlinewidth\":0,\"ticks\":\"\"},\"type\":\"mesh3d\"}],\"parcoords\":[{\"line\":{\"colorbar\":{\"outlinewidth\":0,\"ticks\":\"\"}},\"type\":\"parcoords\"}],\"pie\":[{\"automargin\":true,\"type\":\"pie\"}],\"scatter\":[{\"marker\":{\"colorbar\":{\"outlinewidth\":0,\"ticks\":\"\"}},\"type\":\"scatter\"}],\"scatter3d\":[{\"line\":{\"colorbar\":{\"outlinewidth\":0,\"ticks\":\"\"}},\"marker\":{\"colorbar\":{\"outlinewidth\":0,\"ticks\":\"\"}},\"type\":\"scatter3d\"}],\"scattercarpet\":[{\"marker\":{\"colorbar\":{\"outlinewidth\":0,\"ticks\":\"\"}},\"type\":\"scattercarpet\"}],\"scattergeo\":[{\"marker\":{\"colorbar\":{\"outlinewidth\":0,\"ticks\":\"\"}},\"type\":\"scattergeo\"}],\"scattergl\":[{\"marker\":{\"colorbar\":{\"outlinewidth\":0,\"ticks\":\"\"}},\"type\":\"scattergl\"}],\"scattermapbox\":[{\"marker\":{\"colorbar\":{\"outlinewidth\":0,\"ticks\":\"\"}},\"type\":\"scattermapbox\"}],\"scatterpolar\":[{\"marker\":{\"colorbar\":{\"outlinewidth\":0,\"ticks\":\"\"}},\"type\":\"scatterpolar\"}],\"scatterpolargl\":[{\"marker\":{\"colorbar\":{\"outlinewidth\":0,\"ticks\":\"\"}},\"type\":\"scatterpolargl\"}],\"scatterternary\":[{\"marker\":{\"colorbar\":{\"outlinewidth\":0,\"ticks\":\"\"}},\"type\":\"scatterternary\"}],\"surface\":[{\"colorbar\":{\"outlinewidth\":0,\"ticks\":\"\"},\"colorscale\":[[0.0,\"#0d0887\"],[0.1111111111111111,\"#46039f\"],[0.2222222222222222,\"#7201a8\"],[0.3333333333333333,\"#9c179e\"],[0.4444444444444444,\"#bd3786\"],[0.5555555555555556,\"#d8576b\"],[0.6666666666666666,\"#ed7953\"],[0.7777777777777778,\"#fb9f3a\"],[0.8888888888888888,\"#fdca26\"],[1.0,\"#f0f921\"]],\"type\":\"surface\"}],\"table\":[{\"cells\":{\"fill\":{\"color\":\"#EBF0F8\"},\"line\":{\"color\":\"white\"}},\"header\":{\"fill\":{\"color\":\"#C8D4E3\"},\"line\":{\"color\":\"white\"}},\"type\":\"table\"}]},\"layout\":{\"annotationdefaults\":{\"arrowcolor\":\"#2a3f5f\",\"arrowhead\":0,\"arrowwidth\":1},\"autotypenumbers\":\"strict\",\"coloraxis\":{\"colorbar\":{\"outlinewidth\":0,\"ticks\":\"\"}},\"colorscale\":{\"diverging\":[[0,\"#8e0152\"],[0.1,\"#c51b7d\"],[0.2,\"#de77ae\"],[0.3,\"#f1b6da\"],[0.4,\"#fde0ef\"],[0.5,\"#f7f7f7\"],[0.6,\"#e6f5d0\"],[0.7,\"#b8e186\"],[0.8,\"#7fbc41\"],[0.9,\"#4d9221\"],[1,\"#276419\"]],\"sequential\":[[0.0,\"#0d0887\"],[0.1111111111111111,\"#46039f\"],[0.2222222222222222,\"#7201a8\"],[0.3333333333333333,\"#9c179e\"],[0.4444444444444444,\"#bd3786\"],[0.5555555555555556,\"#d8576b\"],[0.6666666666666666,\"#ed7953\"],[0.7777777777777778,\"#fb9f3a\"],[0.8888888888888888,\"#fdca26\"],[1.0,\"#f0f921\"]],\"sequentialminus\":[[0.0,\"#0d0887\"],[0.1111111111111111,\"#46039f\"],[0.2222222222222222,\"#7201a8\"],[0.3333333333333333,\"#9c179e\"],[0.4444444444444444,\"#bd3786\"],[0.5555555555555556,\"#d8576b\"],[0.6666666666666666,\"#ed7953\"],[0.7777777777777778,\"#fb9f3a\"],[0.8888888888888888,\"#fdca26\"],[1.0,\"#f0f921\"]]},\"colorway\":[\"#636efa\",\"#EF553B\",\"#00cc96\",\"#ab63fa\",\"#FFA15A\",\"#19d3f3\",\"#FF6692\",\"#B6E880\",\"#FF97FF\",\"#FECB52\"],\"font\":{\"color\":\"#2a3f5f\"},\"geo\":{\"bgcolor\":\"white\",\"lakecolor\":\"white\",\"landcolor\":\"#E5ECF6\",\"showlakes\":true,\"showland\":true,\"subunitcolor\":\"white\"},\"hoverlabel\":{\"align\":\"left\"},\"hovermode\":\"closest\",\"mapbox\":{\"style\":\"light\"},\"paper_bgcolor\":\"white\",\"plot_bgcolor\":\"#E5ECF6\",\"polar\":{\"angularaxis\":{\"gridcolor\":\"white\",\"linecolor\":\"white\",\"ticks\":\"\"},\"bgcolor\":\"#E5ECF6\",\"radialaxis\":{\"gridcolor\":\"white\",\"linecolor\":\"white\",\"ticks\":\"\"}},\"scene\":{\"xaxis\":{\"backgroundcolor\":\"#E5ECF6\",\"gridcolor\":\"white\",\"gridwidth\":2,\"linecolor\":\"white\",\"showbackground\":true,\"ticks\":\"\",\"zerolinecolor\":\"white\"},\"yaxis\":{\"backgroundcolor\":\"#E5ECF6\",\"gridcolor\":\"white\",\"gridwidth\":2,\"linecolor\":\"white\",\"showbackground\":true,\"ticks\":\"\",\"zerolinecolor\":\"white\"},\"zaxis\":{\"backgroundcolor\":\"#E5ECF6\",\"gridcolor\":\"white\",\"gridwidth\":2,\"linecolor\":\"white\",\"showbackground\":true,\"ticks\":\"\",\"zerolinecolor\":\"white\"}},\"shapedefaults\":{\"line\":{\"color\":\"#2a3f5f\"}},\"ternary\":{\"aaxis\":{\"gridcolor\":\"white\",\"linecolor\":\"white\",\"ticks\":\"\"},\"baxis\":{\"gridcolor\":\"white\",\"linecolor\":\"white\",\"ticks\":\"\"},\"bgcolor\":\"#E5ECF6\",\"caxis\":{\"gridcolor\":\"white\",\"linecolor\":\"white\",\"ticks\":\"\"}},\"title\":{\"x\":0.05},\"xaxis\":{\"automargin\":true,\"gridcolor\":\"white\",\"linecolor\":\"white\",\"ticks\":\"\",\"title\":{\"standoff\":15},\"zerolinecolor\":\"white\",\"zerolinewidth\":2},\"yaxis\":{\"automargin\":true,\"gridcolor\":\"white\",\"linecolor\":\"white\",\"ticks\":\"\",\"title\":{\"standoff\":15},\"zerolinecolor\":\"white\",\"zerolinewidth\":2}}},\"xaxis\":{\"anchor\":\"y\",\"domain\":[0.0,1.0],\"title\":{\"text\":\"x\"}},\"yaxis\":{\"anchor\":\"x\",\"domain\":[0.0,1.0],\"title\":{\"text\":\"y\"}},\"legend\":{\"tracegroupgap\":0},\"margin\":{\"t\":60},\"shapes\":[{\"type\":\"line\",\"x0\":0,\"x1\":0.446408123994289,\"y0\":0,\"y1\":-0.13289649489869879},{\"type\":\"line\",\"x0\":0,\"x1\":0.5027135965120675,\"y0\":0,\"y1\":0.8452210821243284},{\"type\":\"line\",\"x0\":0,\"x1\":0.37412986709071133,\"y0\":0,\"y1\":-0.1998630777500643},{\"type\":\"line\",\"x0\":0,\"x1\":0.4737256724758235,\"y0\":0,\"y1\":-0.3866605957535784},{\"type\":\"line\",\"x0\":0,\"x1\":0.4337530515716667,\"y0\":0,\"y1\":-0.4033465197833241}],\"annotations\":[{\"ax\":0,\"ay\":0,\"text\":\"feed_start\",\"x\":0.446408123994289,\"xanchor\":\"center\",\"y\":-0.13289649489869879,\"yanchor\":\"bottom\"},{\"ax\":0,\"ay\":0,\"text\":\"feed_end\",\"x\":0.5027135965120675,\"xanchor\":\"center\",\"y\":0.8452210821243284,\"yanchor\":\"bottom\"},{\"ax\":0,\"ay\":0,\"text\":\"Glc_feed_rate\",\"x\":0.37412986709071133,\"xanchor\":\"center\",\"y\":-0.1998630777500643,\"yanchor\":\"bottom\"},{\"ax\":0,\"ay\":0,\"text\":\"Glc_0\",\"x\":0.4737256724758235,\"xanchor\":\"center\",\"y\":-0.3866605957535784,\"yanchor\":\"bottom\"},{\"ax\":0,\"ay\":0,\"text\":\"VCD_0\",\"x\":0.4337530515716667,\"xanchor\":\"center\",\"y\":-0.4033465197833241,\"yanchor\":\"bottom\"}]},                        {\"responsive\": true}                    ).then(function(){\n",
              "                            \n",
              "var gd = document.getElementById('6afaca4b-21ba-40b6-9245-16bfc5164c5a');\n",
              "var x = new MutationObserver(function (mutations, observer) {{\n",
              "        var display = window.getComputedStyle(gd).display;\n",
              "        if (!display || display === 'none') {{\n",
              "            console.log([gd, 'removed!']);\n",
              "            Plotly.purge(gd);\n",
              "            observer.disconnect();\n",
              "        }}\n",
              "}});\n",
              "\n",
              "// Listen for the removal of the full notebook cells\n",
              "var notebookContainer = gd.closest('#notebook-container');\n",
              "if (notebookContainer) {{\n",
              "    x.observe(notebookContainer, {childList: true});\n",
              "}}\n",
              "\n",
              "// Listen for the clearing of the current output cell\n",
              "var outputEl = gd.closest('.output');\n",
              "if (outputEl) {{\n",
              "    x.observe(outputEl, {childList: true});\n",
              "}}\n",
              "\n",
              "                        })                };                            </script>        </div>\n",
              "</body>\n",
              "</html>"
            ]
          },
          "metadata": {}
        }
      ]
    },
    {
      "cell_type": "markdown",
      "source": [
        "### Plot VIP scores"
      ],
      "metadata": {
        "id": "QPiuOsULKj3T"
      }
    },
    {
      "cell_type": "code",
      "source": [
        "# Model coefficients\n",
        "columns = X.columns\n",
        "coefficients = vip(X,y,pls)\n",
        "fig = px.bar(x=list(columns),y=coefficients.reshape(-1),title=\"Variable Importance in PLS\")\n",
        "fig.show()\n"
      ],
      "metadata": {
        "id": "uAu_GXQSKnvq",
        "colab": {
          "base_uri": "https://localhost:8080/",
          "height": 542
        },
        "outputId": "89865215-2d5a-4d59-c92f-10a6d3d47452"
      },
      "execution_count": 39,
      "outputs": [
        {
          "output_type": "display_data",
          "data": {
            "text/html": [
              "<html>\n",
              "<head><meta charset=\"utf-8\" /></head>\n",
              "<body>\n",
              "    <div>            <script src=\"https://cdnjs.cloudflare.com/ajax/libs/mathjax/2.7.5/MathJax.js?config=TeX-AMS-MML_SVG\"></script><script type=\"text/javascript\">if (window.MathJax) {MathJax.Hub.Config({SVG: {font: \"STIX-Web\"}});}</script>                <script type=\"text/javascript\">window.PlotlyConfig = {MathJaxConfig: 'local'};</script>\n",
              "        <script src=\"https://cdn.plot.ly/plotly-2.8.3.min.js\"></script>                <div id=\"7e9c1998-574e-4e9e-af54-caf29f212c4b\" class=\"plotly-graph-div\" style=\"height:525px; width:100%;\"></div>            <script type=\"text/javascript\">                                    window.PLOTLYENV=window.PLOTLYENV || {};                                    if (document.getElementById(\"7e9c1998-574e-4e9e-af54-caf29f212c4b\")) {                    Plotly.newPlot(                        \"7e9c1998-574e-4e9e-af54-caf29f212c4b\",                        [{\"alignmentgroup\":\"True\",\"hovertemplate\":\"x=%{x}<br>y=%{y}<extra></extra>\",\"legendgroup\":\"\",\"marker\":{\"color\":\"#636efa\",\"pattern\":{\"shape\":\"\"}},\"name\":\"\",\"offsetgroup\":\"\",\"orientation\":\"v\",\"showlegend\":false,\"textposition\":\"auto\",\"x\":[\"feed_start\",\"feed_end\",\"Glc_feed_rate\",\"Glc_0\",\"VCD_0\"],\"xaxis\":\"x\",\"y\":[0.9459141613721446,1.2521062607739086,0.8014691678392293,1.010150230896906,0.9352646657863409],\"yaxis\":\"y\",\"type\":\"bar\"}],                        {\"template\":{\"data\":{\"bar\":[{\"error_x\":{\"color\":\"#2a3f5f\"},\"error_y\":{\"color\":\"#2a3f5f\"},\"marker\":{\"line\":{\"color\":\"#E5ECF6\",\"width\":0.5},\"pattern\":{\"fillmode\":\"overlay\",\"size\":10,\"solidity\":0.2}},\"type\":\"bar\"}],\"barpolar\":[{\"marker\":{\"line\":{\"color\":\"#E5ECF6\",\"width\":0.5},\"pattern\":{\"fillmode\":\"overlay\",\"size\":10,\"solidity\":0.2}},\"type\":\"barpolar\"}],\"carpet\":[{\"aaxis\":{\"endlinecolor\":\"#2a3f5f\",\"gridcolor\":\"white\",\"linecolor\":\"white\",\"minorgridcolor\":\"white\",\"startlinecolor\":\"#2a3f5f\"},\"baxis\":{\"endlinecolor\":\"#2a3f5f\",\"gridcolor\":\"white\",\"linecolor\":\"white\",\"minorgridcolor\":\"white\",\"startlinecolor\":\"#2a3f5f\"},\"type\":\"carpet\"}],\"choropleth\":[{\"colorbar\":{\"outlinewidth\":0,\"ticks\":\"\"},\"type\":\"choropleth\"}],\"contour\":[{\"colorbar\":{\"outlinewidth\":0,\"ticks\":\"\"},\"colorscale\":[[0.0,\"#0d0887\"],[0.1111111111111111,\"#46039f\"],[0.2222222222222222,\"#7201a8\"],[0.3333333333333333,\"#9c179e\"],[0.4444444444444444,\"#bd3786\"],[0.5555555555555556,\"#d8576b\"],[0.6666666666666666,\"#ed7953\"],[0.7777777777777778,\"#fb9f3a\"],[0.8888888888888888,\"#fdca26\"],[1.0,\"#f0f921\"]],\"type\":\"contour\"}],\"contourcarpet\":[{\"colorbar\":{\"outlinewidth\":0,\"ticks\":\"\"},\"type\":\"contourcarpet\"}],\"heatmap\":[{\"colorbar\":{\"outlinewidth\":0,\"ticks\":\"\"},\"colorscale\":[[0.0,\"#0d0887\"],[0.1111111111111111,\"#46039f\"],[0.2222222222222222,\"#7201a8\"],[0.3333333333333333,\"#9c179e\"],[0.4444444444444444,\"#bd3786\"],[0.5555555555555556,\"#d8576b\"],[0.6666666666666666,\"#ed7953\"],[0.7777777777777778,\"#fb9f3a\"],[0.8888888888888888,\"#fdca26\"],[1.0,\"#f0f921\"]],\"type\":\"heatmap\"}],\"heatmapgl\":[{\"colorbar\":{\"outlinewidth\":0,\"ticks\":\"\"},\"colorscale\":[[0.0,\"#0d0887\"],[0.1111111111111111,\"#46039f\"],[0.2222222222222222,\"#7201a8\"],[0.3333333333333333,\"#9c179e\"],[0.4444444444444444,\"#bd3786\"],[0.5555555555555556,\"#d8576b\"],[0.6666666666666666,\"#ed7953\"],[0.7777777777777778,\"#fb9f3a\"],[0.8888888888888888,\"#fdca26\"],[1.0,\"#f0f921\"]],\"type\":\"heatmapgl\"}],\"histogram\":[{\"marker\":{\"pattern\":{\"fillmode\":\"overlay\",\"size\":10,\"solidity\":0.2}},\"type\":\"histogram\"}],\"histogram2d\":[{\"colorbar\":{\"outlinewidth\":0,\"ticks\":\"\"},\"colorscale\":[[0.0,\"#0d0887\"],[0.1111111111111111,\"#46039f\"],[0.2222222222222222,\"#7201a8\"],[0.3333333333333333,\"#9c179e\"],[0.4444444444444444,\"#bd3786\"],[0.5555555555555556,\"#d8576b\"],[0.6666666666666666,\"#ed7953\"],[0.7777777777777778,\"#fb9f3a\"],[0.8888888888888888,\"#fdca26\"],[1.0,\"#f0f921\"]],\"type\":\"histogram2d\"}],\"histogram2dcontour\":[{\"colorbar\":{\"outlinewidth\":0,\"ticks\":\"\"},\"colorscale\":[[0.0,\"#0d0887\"],[0.1111111111111111,\"#46039f\"],[0.2222222222222222,\"#7201a8\"],[0.3333333333333333,\"#9c179e\"],[0.4444444444444444,\"#bd3786\"],[0.5555555555555556,\"#d8576b\"],[0.6666666666666666,\"#ed7953\"],[0.7777777777777778,\"#fb9f3a\"],[0.8888888888888888,\"#fdca26\"],[1.0,\"#f0f921\"]],\"type\":\"histogram2dcontour\"}],\"mesh3d\":[{\"colorbar\":{\"outlinewidth\":0,\"ticks\":\"\"},\"type\":\"mesh3d\"}],\"parcoords\":[{\"line\":{\"colorbar\":{\"outlinewidth\":0,\"ticks\":\"\"}},\"type\":\"parcoords\"}],\"pie\":[{\"automargin\":true,\"type\":\"pie\"}],\"scatter\":[{\"marker\":{\"colorbar\":{\"outlinewidth\":0,\"ticks\":\"\"}},\"type\":\"scatter\"}],\"scatter3d\":[{\"line\":{\"colorbar\":{\"outlinewidth\":0,\"ticks\":\"\"}},\"marker\":{\"colorbar\":{\"outlinewidth\":0,\"ticks\":\"\"}},\"type\":\"scatter3d\"}],\"scattercarpet\":[{\"marker\":{\"colorbar\":{\"outlinewidth\":0,\"ticks\":\"\"}},\"type\":\"scattercarpet\"}],\"scattergeo\":[{\"marker\":{\"colorbar\":{\"outlinewidth\":0,\"ticks\":\"\"}},\"type\":\"scattergeo\"}],\"scattergl\":[{\"marker\":{\"colorbar\":{\"outlinewidth\":0,\"ticks\":\"\"}},\"type\":\"scattergl\"}],\"scattermapbox\":[{\"marker\":{\"colorbar\":{\"outlinewidth\":0,\"ticks\":\"\"}},\"type\":\"scattermapbox\"}],\"scatterpolar\":[{\"marker\":{\"colorbar\":{\"outlinewidth\":0,\"ticks\":\"\"}},\"type\":\"scatterpolar\"}],\"scatterpolargl\":[{\"marker\":{\"colorbar\":{\"outlinewidth\":0,\"ticks\":\"\"}},\"type\":\"scatterpolargl\"}],\"scatterternary\":[{\"marker\":{\"colorbar\":{\"outlinewidth\":0,\"ticks\":\"\"}},\"type\":\"scatterternary\"}],\"surface\":[{\"colorbar\":{\"outlinewidth\":0,\"ticks\":\"\"},\"colorscale\":[[0.0,\"#0d0887\"],[0.1111111111111111,\"#46039f\"],[0.2222222222222222,\"#7201a8\"],[0.3333333333333333,\"#9c179e\"],[0.4444444444444444,\"#bd3786\"],[0.5555555555555556,\"#d8576b\"],[0.6666666666666666,\"#ed7953\"],[0.7777777777777778,\"#fb9f3a\"],[0.8888888888888888,\"#fdca26\"],[1.0,\"#f0f921\"]],\"type\":\"surface\"}],\"table\":[{\"cells\":{\"fill\":{\"color\":\"#EBF0F8\"},\"line\":{\"color\":\"white\"}},\"header\":{\"fill\":{\"color\":\"#C8D4E3\"},\"line\":{\"color\":\"white\"}},\"type\":\"table\"}]},\"layout\":{\"annotationdefaults\":{\"arrowcolor\":\"#2a3f5f\",\"arrowhead\":0,\"arrowwidth\":1},\"autotypenumbers\":\"strict\",\"coloraxis\":{\"colorbar\":{\"outlinewidth\":0,\"ticks\":\"\"}},\"colorscale\":{\"diverging\":[[0,\"#8e0152\"],[0.1,\"#c51b7d\"],[0.2,\"#de77ae\"],[0.3,\"#f1b6da\"],[0.4,\"#fde0ef\"],[0.5,\"#f7f7f7\"],[0.6,\"#e6f5d0\"],[0.7,\"#b8e186\"],[0.8,\"#7fbc41\"],[0.9,\"#4d9221\"],[1,\"#276419\"]],\"sequential\":[[0.0,\"#0d0887\"],[0.1111111111111111,\"#46039f\"],[0.2222222222222222,\"#7201a8\"],[0.3333333333333333,\"#9c179e\"],[0.4444444444444444,\"#bd3786\"],[0.5555555555555556,\"#d8576b\"],[0.6666666666666666,\"#ed7953\"],[0.7777777777777778,\"#fb9f3a\"],[0.8888888888888888,\"#fdca26\"],[1.0,\"#f0f921\"]],\"sequentialminus\":[[0.0,\"#0d0887\"],[0.1111111111111111,\"#46039f\"],[0.2222222222222222,\"#7201a8\"],[0.3333333333333333,\"#9c179e\"],[0.4444444444444444,\"#bd3786\"],[0.5555555555555556,\"#d8576b\"],[0.6666666666666666,\"#ed7953\"],[0.7777777777777778,\"#fb9f3a\"],[0.8888888888888888,\"#fdca26\"],[1.0,\"#f0f921\"]]},\"colorway\":[\"#636efa\",\"#EF553B\",\"#00cc96\",\"#ab63fa\",\"#FFA15A\",\"#19d3f3\",\"#FF6692\",\"#B6E880\",\"#FF97FF\",\"#FECB52\"],\"font\":{\"color\":\"#2a3f5f\"},\"geo\":{\"bgcolor\":\"white\",\"lakecolor\":\"white\",\"landcolor\":\"#E5ECF6\",\"showlakes\":true,\"showland\":true,\"subunitcolor\":\"white\"},\"hoverlabel\":{\"align\":\"left\"},\"hovermode\":\"closest\",\"mapbox\":{\"style\":\"light\"},\"paper_bgcolor\":\"white\",\"plot_bgcolor\":\"#E5ECF6\",\"polar\":{\"angularaxis\":{\"gridcolor\":\"white\",\"linecolor\":\"white\",\"ticks\":\"\"},\"bgcolor\":\"#E5ECF6\",\"radialaxis\":{\"gridcolor\":\"white\",\"linecolor\":\"white\",\"ticks\":\"\"}},\"scene\":{\"xaxis\":{\"backgroundcolor\":\"#E5ECF6\",\"gridcolor\":\"white\",\"gridwidth\":2,\"linecolor\":\"white\",\"showbackground\":true,\"ticks\":\"\",\"zerolinecolor\":\"white\"},\"yaxis\":{\"backgroundcolor\":\"#E5ECF6\",\"gridcolor\":\"white\",\"gridwidth\":2,\"linecolor\":\"white\",\"showbackground\":true,\"ticks\":\"\",\"zerolinecolor\":\"white\"},\"zaxis\":{\"backgroundcolor\":\"#E5ECF6\",\"gridcolor\":\"white\",\"gridwidth\":2,\"linecolor\":\"white\",\"showbackground\":true,\"ticks\":\"\",\"zerolinecolor\":\"white\"}},\"shapedefaults\":{\"line\":{\"color\":\"#2a3f5f\"}},\"ternary\":{\"aaxis\":{\"gridcolor\":\"white\",\"linecolor\":\"white\",\"ticks\":\"\"},\"baxis\":{\"gridcolor\":\"white\",\"linecolor\":\"white\",\"ticks\":\"\"},\"bgcolor\":\"#E5ECF6\",\"caxis\":{\"gridcolor\":\"white\",\"linecolor\":\"white\",\"ticks\":\"\"}},\"title\":{\"x\":0.05},\"xaxis\":{\"automargin\":true,\"gridcolor\":\"white\",\"linecolor\":\"white\",\"ticks\":\"\",\"title\":{\"standoff\":15},\"zerolinecolor\":\"white\",\"zerolinewidth\":2},\"yaxis\":{\"automargin\":true,\"gridcolor\":\"white\",\"linecolor\":\"white\",\"ticks\":\"\",\"title\":{\"standoff\":15},\"zerolinecolor\":\"white\",\"zerolinewidth\":2}}},\"xaxis\":{\"anchor\":\"y\",\"domain\":[0.0,1.0],\"title\":{\"text\":\"x\"}},\"yaxis\":{\"anchor\":\"x\",\"domain\":[0.0,1.0],\"title\":{\"text\":\"y\"}},\"legend\":{\"tracegroupgap\":0},\"title\":{\"text\":\"Variable Importance in PLS\"},\"barmode\":\"relative\"},                        {\"responsive\": true}                    ).then(function(){\n",
              "                            \n",
              "var gd = document.getElementById('7e9c1998-574e-4e9e-af54-caf29f212c4b');\n",
              "var x = new MutationObserver(function (mutations, observer) {{\n",
              "        var display = window.getComputedStyle(gd).display;\n",
              "        if (!display || display === 'none') {{\n",
              "            console.log([gd, 'removed!']);\n",
              "            Plotly.purge(gd);\n",
              "            observer.disconnect();\n",
              "        }}\n",
              "}});\n",
              "\n",
              "// Listen for the removal of the full notebook cells\n",
              "var notebookContainer = gd.closest('#notebook-container');\n",
              "if (notebookContainer) {{\n",
              "    x.observe(notebookContainer, {childList: true});\n",
              "}}\n",
              "\n",
              "// Listen for the clearing of the current output cell\n",
              "var outputEl = gd.closest('.output');\n",
              "if (outputEl) {{\n",
              "    x.observe(outputEl, {childList: true});\n",
              "}}\n",
              "\n",
              "                        })                };                            </script>        </div>\n",
              "</body>\n",
              "</html>"
            ]
          },
          "metadata": {}
        }
      ]
    },
    {
      "cell_type": "markdown",
      "source": [
        "### Task: \n",
        "1. What number of latent variables produces best model?"
      ],
      "metadata": {
        "id": "AwZeyCw1KuAw"
      }
    },
    {
      "cell_type": "markdown",
      "source": [
        "# Historical PLS Model\n",
        "\n",
        "In an so-called historical model, the data from different experiments are ordered into a batch-wise unfolded (BWU) matrix (i.e., every row corresponds to an experiment).\n",
        "\n",
        "The BWU can be used to compute final properties of the experiment, like CQAs, which are typically the effect of the cumulated effect of the experiment profile.\n",
        "\n",
        "In this example, we will use the BWU matrix to predict the final value of titer. Clearly, titer information are removed from the BWU matrix."
      ],
      "metadata": {
        "id": "0i44tIGKMIFp"
      }
    },
    {
      "cell_type": "markdown",
      "source": [
        "### Create BWU matrix\n",
        "\n",
        "Here the BWU matrix is created. The vaues of the manipulated variables are added as columns at the beginning of the matrix. The following pre-processing was performed.\n",
        "\n",
        "* Remove titer\n",
        "* Remove exceeding days\n",
        "* Eliminate invariant columns\n",
        "* Remove linearly dependent columns\n",
        "* Add process parameters at the beginning\n",
        "* Create a PLS model from the initial design to the final titer\n"
      ],
      "metadata": {
        "id": "v1IMh8PMMs-s"
      }
    },
    {
      "cell_type": "code",
      "source": [
        "# Define number of days to include\n",
        "N_days = 13"
      ],
      "metadata": {
        "id": "JEYDQzd5TSnx"
      },
      "execution_count": 98,
      "outputs": []
    },
    {
      "cell_type": "code",
      "source": [
        "X = bwu\n",
        "remove_columns = []\n",
        "# Remove X:Titer \n",
        "remove_columns.extend([c for c in bwu.columns if c.startswith('X:Titer')])\n",
        "# Remove X:Lactate\n",
        "remove_columns.extend([c for c in bwu.columns if c.startswith('X:Lac')])\n",
        "# Remove W:Feed\n",
        "remove_columns.extend([c for c in bwu.columns if c.startswith('W:Feed')])\n",
        "# Remove Initial conditions\n",
        "remove_columns.extend([c for c in bwu.columns if c.endswith(':0')])\n",
        "# Remove exceeding days\n",
        "for d in range(N_days,15):\n",
        "    remove_columns.extend([c for c in bwu.columns if c.endswith(\":\"+str(d))])\n",
        "# Remove invariant \n",
        "remove_columns.extend(list(bwu.columns[~(bwu != bwu.iloc[0]).any().values]))\n",
        "\n",
        "# Add and remove columns\n",
        "X = X.drop(set(remove_columns),axis=1)\n",
        "X = pd.concat([doe, X], axis=1)\n",
        "\n",
        "X.columns"
      ],
      "metadata": {
        "id": "CXCdim6oNB1y",
        "colab": {
          "base_uri": "https://localhost:8080/"
        },
        "outputId": "f831622f-c0ae-49d9-f7b1-a7c122603c0c"
      },
      "execution_count": 114,
      "outputs": [
        {
          "output_type": "execute_result",
          "data": {
            "text/plain": [
              "Index(['feed_start', 'feed_end', 'Glc_feed_rate', 'Glc_0', 'VCD_0', 'X:VCD:1',\n",
              "       'X:VCD:2', 'X:VCD:3', 'X:VCD:4', 'X:VCD:5', 'X:VCD:6', 'X:VCD:7',\n",
              "       'X:VCD:8', 'X:VCD:9', 'X:VCD:10', 'X:VCD:11', 'X:VCD:12', 'X:Glc:1',\n",
              "       'X:Glc:2', 'X:Glc:3', 'X:Glc:4', 'X:Glc:5', 'X:Glc:6', 'X:Glc:7',\n",
              "       'X:Glc:8', 'X:Glc:9', 'X:Glc:10', 'X:Glc:11', 'X:Glc:12'],\n",
              "      dtype='object')"
            ]
          },
          "metadata": {},
          "execution_count": 114
        }
      ]
    },
    {
      "cell_type": "markdown",
      "source": [
        "### Train Historical PLS model"
      ],
      "metadata": {
        "id": "cLKo0hoPNDx-"
      }
    },
    {
      "cell_type": "code",
      "source": [
        "# Define number of latent variables\n",
        "N_LV = 5\n",
        "# Use data normalization\n",
        "use_norm = True"
      ],
      "metadata": {
        "id": "WDpN48qWNJs4"
      },
      "execution_count": 101,
      "outputs": []
    },
    {
      "cell_type": "code",
      "source": [
        "# Define Pipeline\n",
        "pscaler = StandardScaler(with_mean=use_norm,with_std=use_norm)\n",
        "pls = PLSRegression(n_components=N_LV)\n",
        "pipe = Pipeline([('scaler', pscaler), ('model', pls)])\n",
        "# Train PLS model\n",
        "y = tar\n",
        "pipe.fit(X,y)"
      ],
      "metadata": {
        "id": "vyenCRC1TNWs",
        "outputId": "4aae10ad-1ab7-49f6-8876-392e1a4b422f",
        "colab": {
          "base_uri": "https://localhost:8080/"
        }
      },
      "execution_count": 102,
      "outputs": [
        {
          "output_type": "execute_result",
          "data": {
            "text/plain": [
              "Pipeline(steps=[('scaler', StandardScaler()),\n",
              "                ('model', PLSRegression(n_components=5))])"
            ]
          },
          "metadata": {},
          "execution_count": 102
        }
      ]
    },
    {
      "cell_type": "markdown",
      "source": [
        "### Evaluate model on train and test set\n",
        "\n",
        "\n"
      ],
      "metadata": {
        "id": "sDXKkm4VVnDM"
      }
    },
    {
      "cell_type": "code",
      "source": [
        "# Plot predictions in train set\n",
        "yhat = pipe.predict(X)\n",
        "fig = px.scatter(x=y.values.reshape(-1),y=yhat.reshape(-1), title=\"Observed vs Predicted on Train Set; R^2 = \"+str(round(pipe.score(X,y),3)), labels=dict(x=\"Observed Titer\", y=\"Predicted Titer\"))\n",
        "fig.update_layout(shapes = [{'type': 'line', 'yref': 'paper', 'xref': 'paper', 'y0': 0, 'y1': 1, 'x0': 0, 'x1': 1, 'layer': 'below'}])\n",
        "fig.show()\n",
        "# Plot predictions in test set\n",
        "X_test = bwu_test\n",
        "y_test = tar_test\n",
        "X_test = X_test.drop(set(remove_columns),axis=1)\n",
        "X_test = pd.concat([doe_test, X_test], axis=1)\n",
        "yhat_test = pipe.predict(X_test)\n",
        "fig = px.scatter(x=y_test.values.reshape(-1),y=yhat_test.reshape(-1), title=\"Observed vs Predicted on Test Set; R^2 = \"+str(round(pipe.score(X_test,y_test),3)), labels=dict(x=\"Observed Titer\", y=\"Predicted Titer\"))\n",
        "fig.update_layout(shapes = [{'type': 'line', 'yref': 'paper', 'xref': 'paper', 'y0': 0, 'y1': 1, 'x0': 0, 'x1': 1, 'layer': 'below'}])\n",
        "fig.show()"
      ],
      "metadata": {
        "id": "xbIdWuBrTn12",
        "outputId": "d5b75a94-cdfd-45fb-c8d4-1d47753cae58",
        "colab": {
          "base_uri": "https://localhost:8080/",
          "height": 1000
        }
      },
      "execution_count": 105,
      "outputs": [
        {
          "output_type": "display_data",
          "data": {
            "text/html": [
              "<html>\n",
              "<head><meta charset=\"utf-8\" /></head>\n",
              "<body>\n",
              "    <div>            <script src=\"https://cdnjs.cloudflare.com/ajax/libs/mathjax/2.7.5/MathJax.js?config=TeX-AMS-MML_SVG\"></script><script type=\"text/javascript\">if (window.MathJax) {MathJax.Hub.Config({SVG: {font: \"STIX-Web\"}});}</script>                <script type=\"text/javascript\">window.PlotlyConfig = {MathJaxConfig: 'local'};</script>\n",
              "        <script src=\"https://cdn.plot.ly/plotly-2.8.3.min.js\"></script>                <div id=\"03c38226-42f8-4fd6-bac4-b6f8d3f114bf\" class=\"plotly-graph-div\" style=\"height:525px; width:100%;\"></div>            <script type=\"text/javascript\">                                    window.PLOTLYENV=window.PLOTLYENV || {};                                    if (document.getElementById(\"03c38226-42f8-4fd6-bac4-b6f8d3f114bf\")) {                    Plotly.newPlot(                        \"03c38226-42f8-4fd6-bac4-b6f8d3f114bf\",                        [{\"hovertemplate\":\"Observed Titer=%{x}<br>Predicted Titer=%{y}<extra></extra>\",\"legendgroup\":\"\",\"marker\":{\"color\":\"#636efa\",\"symbol\":\"circle\"},\"mode\":\"markers\",\"name\":\"\",\"orientation\":\"v\",\"showlegend\":false,\"x\":[1565.3100316152315,854.4492329290191,1206.0966547089297,1587.9375363361153,811.5529901913034,841.4987076939608,645.8652400020387,978.3211904574658,1026.2593627477372,1307.3427908630745,1034.0873731742636,1268.3772140122305,1489.9274823809976,1519.9915046105887,1329.31439655397,1431.0248922870994,1566.2144147333108,1438.4509323399373,829.9221681206134,705.0060621997021,1432.1650836978292,188.37323461354003,1498.950979086217,920.6159834819938,1489.455399004581,1236.0520625432987,1323.9958683550722,1490.703545196068,1317.71949505948,1463.7461925349555,645.6194533195517,518.6891441332469,1508.020685458528,681.9077197106743,643.2530983456666,1171.9226021898683,1526.8075977874203,710.1789864596954,547.0659967970258,1239.099546696681,1275.603243989509,1516.3836910289606,1472.959836115183,1561.4366964617066,895.4073430723885,1139.0681753517283,1424.484489881591,1464.164972241741,639.5435764295627,1297.0316324502526],\"xaxis\":\"x\",\"y\":[1492.1809981987217,779.3469717532579,1386.019445716771,1538.16779305696,879.2193752730153,912.4517881845252,716.1176483766139,1036.5668837934559,999.3368347700261,1309.5678620203732,1051.439440645573,1308.5528194514773,1420.5747977954798,1524.8141650617745,1326.9197354657467,1348.7622310814072,1533.238371591124,1448.970873569592,881.611664867369,783.8774139910945,1408.7506745580527,56.39035770885903,1525.485720319069,953.1604919575576,1493.7552909815104,1159.0417613467582,1398.294860903711,1424.9559254801202,1291.405899818949,1446.9612201326943,557.1864939829695,504.30238262158355,1560.5397615519007,635.3196758211594,667.5938478036547,1173.2490452905377,1495.1058917462606,710.457725712751,615.5231124920085,1265.7253009270808,1315.4712093115038,1437.9899418974248,1481.6856157210336,1560.8577416417793,828.6070779174993,1164.747607276997,1401.6257534823235,1425.9740961167756,774.2434884293385,1265.2314218353868],\"yaxis\":\"y\",\"type\":\"scatter\"}],                        {\"template\":{\"data\":{\"bar\":[{\"error_x\":{\"color\":\"#2a3f5f\"},\"error_y\":{\"color\":\"#2a3f5f\"},\"marker\":{\"line\":{\"color\":\"#E5ECF6\",\"width\":0.5},\"pattern\":{\"fillmode\":\"overlay\",\"size\":10,\"solidity\":0.2}},\"type\":\"bar\"}],\"barpolar\":[{\"marker\":{\"line\":{\"color\":\"#E5ECF6\",\"width\":0.5},\"pattern\":{\"fillmode\":\"overlay\",\"size\":10,\"solidity\":0.2}},\"type\":\"barpolar\"}],\"carpet\":[{\"aaxis\":{\"endlinecolor\":\"#2a3f5f\",\"gridcolor\":\"white\",\"linecolor\":\"white\",\"minorgridcolor\":\"white\",\"startlinecolor\":\"#2a3f5f\"},\"baxis\":{\"endlinecolor\":\"#2a3f5f\",\"gridcolor\":\"white\",\"linecolor\":\"white\",\"minorgridcolor\":\"white\",\"startlinecolor\":\"#2a3f5f\"},\"type\":\"carpet\"}],\"choropleth\":[{\"colorbar\":{\"outlinewidth\":0,\"ticks\":\"\"},\"type\":\"choropleth\"}],\"contour\":[{\"colorbar\":{\"outlinewidth\":0,\"ticks\":\"\"},\"colorscale\":[[0.0,\"#0d0887\"],[0.1111111111111111,\"#46039f\"],[0.2222222222222222,\"#7201a8\"],[0.3333333333333333,\"#9c179e\"],[0.4444444444444444,\"#bd3786\"],[0.5555555555555556,\"#d8576b\"],[0.6666666666666666,\"#ed7953\"],[0.7777777777777778,\"#fb9f3a\"],[0.8888888888888888,\"#fdca26\"],[1.0,\"#f0f921\"]],\"type\":\"contour\"}],\"contourcarpet\":[{\"colorbar\":{\"outlinewidth\":0,\"ticks\":\"\"},\"type\":\"contourcarpet\"}],\"heatmap\":[{\"colorbar\":{\"outlinewidth\":0,\"ticks\":\"\"},\"colorscale\":[[0.0,\"#0d0887\"],[0.1111111111111111,\"#46039f\"],[0.2222222222222222,\"#7201a8\"],[0.3333333333333333,\"#9c179e\"],[0.4444444444444444,\"#bd3786\"],[0.5555555555555556,\"#d8576b\"],[0.6666666666666666,\"#ed7953\"],[0.7777777777777778,\"#fb9f3a\"],[0.8888888888888888,\"#fdca26\"],[1.0,\"#f0f921\"]],\"type\":\"heatmap\"}],\"heatmapgl\":[{\"colorbar\":{\"outlinewidth\":0,\"ticks\":\"\"},\"colorscale\":[[0.0,\"#0d0887\"],[0.1111111111111111,\"#46039f\"],[0.2222222222222222,\"#7201a8\"],[0.3333333333333333,\"#9c179e\"],[0.4444444444444444,\"#bd3786\"],[0.5555555555555556,\"#d8576b\"],[0.6666666666666666,\"#ed7953\"],[0.7777777777777778,\"#fb9f3a\"],[0.8888888888888888,\"#fdca26\"],[1.0,\"#f0f921\"]],\"type\":\"heatmapgl\"}],\"histogram\":[{\"marker\":{\"pattern\":{\"fillmode\":\"overlay\",\"size\":10,\"solidity\":0.2}},\"type\":\"histogram\"}],\"histogram2d\":[{\"colorbar\":{\"outlinewidth\":0,\"ticks\":\"\"},\"colorscale\":[[0.0,\"#0d0887\"],[0.1111111111111111,\"#46039f\"],[0.2222222222222222,\"#7201a8\"],[0.3333333333333333,\"#9c179e\"],[0.4444444444444444,\"#bd3786\"],[0.5555555555555556,\"#d8576b\"],[0.6666666666666666,\"#ed7953\"],[0.7777777777777778,\"#fb9f3a\"],[0.8888888888888888,\"#fdca26\"],[1.0,\"#f0f921\"]],\"type\":\"histogram2d\"}],\"histogram2dcontour\":[{\"colorbar\":{\"outlinewidth\":0,\"ticks\":\"\"},\"colorscale\":[[0.0,\"#0d0887\"],[0.1111111111111111,\"#46039f\"],[0.2222222222222222,\"#7201a8\"],[0.3333333333333333,\"#9c179e\"],[0.4444444444444444,\"#bd3786\"],[0.5555555555555556,\"#d8576b\"],[0.6666666666666666,\"#ed7953\"],[0.7777777777777778,\"#fb9f3a\"],[0.8888888888888888,\"#fdca26\"],[1.0,\"#f0f921\"]],\"type\":\"histogram2dcontour\"}],\"mesh3d\":[{\"colorbar\":{\"outlinewidth\":0,\"ticks\":\"\"},\"type\":\"mesh3d\"}],\"parcoords\":[{\"line\":{\"colorbar\":{\"outlinewidth\":0,\"ticks\":\"\"}},\"type\":\"parcoords\"}],\"pie\":[{\"automargin\":true,\"type\":\"pie\"}],\"scatter\":[{\"marker\":{\"colorbar\":{\"outlinewidth\":0,\"ticks\":\"\"}},\"type\":\"scatter\"}],\"scatter3d\":[{\"line\":{\"colorbar\":{\"outlinewidth\":0,\"ticks\":\"\"}},\"marker\":{\"colorbar\":{\"outlinewidth\":0,\"ticks\":\"\"}},\"type\":\"scatter3d\"}],\"scattercarpet\":[{\"marker\":{\"colorbar\":{\"outlinewidth\":0,\"ticks\":\"\"}},\"type\":\"scattercarpet\"}],\"scattergeo\":[{\"marker\":{\"colorbar\":{\"outlinewidth\":0,\"ticks\":\"\"}},\"type\":\"scattergeo\"}],\"scattergl\":[{\"marker\":{\"colorbar\":{\"outlinewidth\":0,\"ticks\":\"\"}},\"type\":\"scattergl\"}],\"scattermapbox\":[{\"marker\":{\"colorbar\":{\"outlinewidth\":0,\"ticks\":\"\"}},\"type\":\"scattermapbox\"}],\"scatterpolar\":[{\"marker\":{\"colorbar\":{\"outlinewidth\":0,\"ticks\":\"\"}},\"type\":\"scatterpolar\"}],\"scatterpolargl\":[{\"marker\":{\"colorbar\":{\"outlinewidth\":0,\"ticks\":\"\"}},\"type\":\"scatterpolargl\"}],\"scatterternary\":[{\"marker\":{\"colorbar\":{\"outlinewidth\":0,\"ticks\":\"\"}},\"type\":\"scatterternary\"}],\"surface\":[{\"colorbar\":{\"outlinewidth\":0,\"ticks\":\"\"},\"colorscale\":[[0.0,\"#0d0887\"],[0.1111111111111111,\"#46039f\"],[0.2222222222222222,\"#7201a8\"],[0.3333333333333333,\"#9c179e\"],[0.4444444444444444,\"#bd3786\"],[0.5555555555555556,\"#d8576b\"],[0.6666666666666666,\"#ed7953\"],[0.7777777777777778,\"#fb9f3a\"],[0.8888888888888888,\"#fdca26\"],[1.0,\"#f0f921\"]],\"type\":\"surface\"}],\"table\":[{\"cells\":{\"fill\":{\"color\":\"#EBF0F8\"},\"line\":{\"color\":\"white\"}},\"header\":{\"fill\":{\"color\":\"#C8D4E3\"},\"line\":{\"color\":\"white\"}},\"type\":\"table\"}]},\"layout\":{\"annotationdefaults\":{\"arrowcolor\":\"#2a3f5f\",\"arrowhead\":0,\"arrowwidth\":1},\"autotypenumbers\":\"strict\",\"coloraxis\":{\"colorbar\":{\"outlinewidth\":0,\"ticks\":\"\"}},\"colorscale\":{\"diverging\":[[0,\"#8e0152\"],[0.1,\"#c51b7d\"],[0.2,\"#de77ae\"],[0.3,\"#f1b6da\"],[0.4,\"#fde0ef\"],[0.5,\"#f7f7f7\"],[0.6,\"#e6f5d0\"],[0.7,\"#b8e186\"],[0.8,\"#7fbc41\"],[0.9,\"#4d9221\"],[1,\"#276419\"]],\"sequential\":[[0.0,\"#0d0887\"],[0.1111111111111111,\"#46039f\"],[0.2222222222222222,\"#7201a8\"],[0.3333333333333333,\"#9c179e\"],[0.4444444444444444,\"#bd3786\"],[0.5555555555555556,\"#d8576b\"],[0.6666666666666666,\"#ed7953\"],[0.7777777777777778,\"#fb9f3a\"],[0.8888888888888888,\"#fdca26\"],[1.0,\"#f0f921\"]],\"sequentialminus\":[[0.0,\"#0d0887\"],[0.1111111111111111,\"#46039f\"],[0.2222222222222222,\"#7201a8\"],[0.3333333333333333,\"#9c179e\"],[0.4444444444444444,\"#bd3786\"],[0.5555555555555556,\"#d8576b\"],[0.6666666666666666,\"#ed7953\"],[0.7777777777777778,\"#fb9f3a\"],[0.8888888888888888,\"#fdca26\"],[1.0,\"#f0f921\"]]},\"colorway\":[\"#636efa\",\"#EF553B\",\"#00cc96\",\"#ab63fa\",\"#FFA15A\",\"#19d3f3\",\"#FF6692\",\"#B6E880\",\"#FF97FF\",\"#FECB52\"],\"font\":{\"color\":\"#2a3f5f\"},\"geo\":{\"bgcolor\":\"white\",\"lakecolor\":\"white\",\"landcolor\":\"#E5ECF6\",\"showlakes\":true,\"showland\":true,\"subunitcolor\":\"white\"},\"hoverlabel\":{\"align\":\"left\"},\"hovermode\":\"closest\",\"mapbox\":{\"style\":\"light\"},\"paper_bgcolor\":\"white\",\"plot_bgcolor\":\"#E5ECF6\",\"polar\":{\"angularaxis\":{\"gridcolor\":\"white\",\"linecolor\":\"white\",\"ticks\":\"\"},\"bgcolor\":\"#E5ECF6\",\"radialaxis\":{\"gridcolor\":\"white\",\"linecolor\":\"white\",\"ticks\":\"\"}},\"scene\":{\"xaxis\":{\"backgroundcolor\":\"#E5ECF6\",\"gridcolor\":\"white\",\"gridwidth\":2,\"linecolor\":\"white\",\"showbackground\":true,\"ticks\":\"\",\"zerolinecolor\":\"white\"},\"yaxis\":{\"backgroundcolor\":\"#E5ECF6\",\"gridcolor\":\"white\",\"gridwidth\":2,\"linecolor\":\"white\",\"showbackground\":true,\"ticks\":\"\",\"zerolinecolor\":\"white\"},\"zaxis\":{\"backgroundcolor\":\"#E5ECF6\",\"gridcolor\":\"white\",\"gridwidth\":2,\"linecolor\":\"white\",\"showbackground\":true,\"ticks\":\"\",\"zerolinecolor\":\"white\"}},\"shapedefaults\":{\"line\":{\"color\":\"#2a3f5f\"}},\"ternary\":{\"aaxis\":{\"gridcolor\":\"white\",\"linecolor\":\"white\",\"ticks\":\"\"},\"baxis\":{\"gridcolor\":\"white\",\"linecolor\":\"white\",\"ticks\":\"\"},\"bgcolor\":\"#E5ECF6\",\"caxis\":{\"gridcolor\":\"white\",\"linecolor\":\"white\",\"ticks\":\"\"}},\"title\":{\"x\":0.05},\"xaxis\":{\"automargin\":true,\"gridcolor\":\"white\",\"linecolor\":\"white\",\"ticks\":\"\",\"title\":{\"standoff\":15},\"zerolinecolor\":\"white\",\"zerolinewidth\":2},\"yaxis\":{\"automargin\":true,\"gridcolor\":\"white\",\"linecolor\":\"white\",\"ticks\":\"\",\"title\":{\"standoff\":15},\"zerolinecolor\":\"white\",\"zerolinewidth\":2}}},\"xaxis\":{\"anchor\":\"y\",\"domain\":[0.0,1.0],\"title\":{\"text\":\"Observed Titer\"}},\"yaxis\":{\"anchor\":\"x\",\"domain\":[0.0,1.0],\"title\":{\"text\":\"Predicted Titer\"}},\"legend\":{\"tracegroupgap\":0},\"title\":{\"text\":\"Observed vs Predicted on Train Set; R^2 = 0.972\"},\"shapes\":[{\"layer\":\"below\",\"type\":\"line\",\"x0\":0,\"x1\":1,\"xref\":\"paper\",\"y0\":0,\"y1\":1,\"yref\":\"paper\"}]},                        {\"responsive\": true}                    ).then(function(){\n",
              "                            \n",
              "var gd = document.getElementById('03c38226-42f8-4fd6-bac4-b6f8d3f114bf');\n",
              "var x = new MutationObserver(function (mutations, observer) {{\n",
              "        var display = window.getComputedStyle(gd).display;\n",
              "        if (!display || display === 'none') {{\n",
              "            console.log([gd, 'removed!']);\n",
              "            Plotly.purge(gd);\n",
              "            observer.disconnect();\n",
              "        }}\n",
              "}});\n",
              "\n",
              "// Listen for the removal of the full notebook cells\n",
              "var notebookContainer = gd.closest('#notebook-container');\n",
              "if (notebookContainer) {{\n",
              "    x.observe(notebookContainer, {childList: true});\n",
              "}}\n",
              "\n",
              "// Listen for the clearing of the current output cell\n",
              "var outputEl = gd.closest('.output');\n",
              "if (outputEl) {{\n",
              "    x.observe(outputEl, {childList: true});\n",
              "}}\n",
              "\n",
              "                        })                };                            </script>        </div>\n",
              "</body>\n",
              "</html>"
            ]
          },
          "metadata": {}
        },
        {
          "output_type": "display_data",
          "data": {
            "text/html": [
              "<html>\n",
              "<head><meta charset=\"utf-8\" /></head>\n",
              "<body>\n",
              "    <div>            <script src=\"https://cdnjs.cloudflare.com/ajax/libs/mathjax/2.7.5/MathJax.js?config=TeX-AMS-MML_SVG\"></script><script type=\"text/javascript\">if (window.MathJax) {MathJax.Hub.Config({SVG: {font: \"STIX-Web\"}});}</script>                <script type=\"text/javascript\">window.PlotlyConfig = {MathJaxConfig: 'local'};</script>\n",
              "        <script src=\"https://cdn.plot.ly/plotly-2.8.3.min.js\"></script>                <div id=\"08c070b5-f350-4825-9c7e-832b2b25ba05\" class=\"plotly-graph-div\" style=\"height:525px; width:100%;\"></div>            <script type=\"text/javascript\">                                    window.PLOTLYENV=window.PLOTLYENV || {};                                    if (document.getElementById(\"08c070b5-f350-4825-9c7e-832b2b25ba05\")) {                    Plotly.newPlot(                        \"08c070b5-f350-4825-9c7e-832b2b25ba05\",                        [{\"hovertemplate\":\"Observed Titer=%{x}<br>Predicted Titer=%{y}<extra></extra>\",\"legendgroup\":\"\",\"marker\":{\"color\":\"#636efa\",\"symbol\":\"circle\"},\"mode\":\"markers\",\"name\":\"\",\"orientation\":\"v\",\"showlegend\":false,\"x\":[1486.555322665747,852.5421510506708,1553.3693013236993,1561.6944741051122,1561.9285093830367,1555.5990575252915,664.6187798777727,1588.1477685622356,1573.9990705283894,1393.0710551474324,1585.7304206956908,1534.768930546699,1586.8676827848133,1120.6204607891566,967.4138303905323,1581.2252660009826,1521.0375916532755,1255.2700326269191,1504.894937980849,728.3175492673013,1127.481659231358,1037.3529483901104,1153.1684886467415,1599.395719266287,1373.3875240676539,1588.972941246536,1397.182482338,1586.1796600561468,1268.1596010497083,1579.9184591007336,777.916772007101,1461.5586797240042,1318.0550040408075,1513.53945930146,678.9881062945203,920.6098404000459,1242.4469308698558,797.4025653838119,1418.0496260461455,1205.021737650426,1154.9710813250379,1360.312718950821,1101.630950463139,1504.347905209396,799.6625192661403,1530.773728116675,1419.8835249141798,1564.0148293057987,1562.1980325113516,1049.7026566235018],\"xaxis\":\"x\",\"y\":[1473.6624850370392,839.003309061002,1510.571207412018,1569.6273168236298,1482.194840592724,1474.2429802288111,751.7375495091699,1543.481425991843,1514.1969257449337,1349.595009741216,1525.6604612786118,1484.587576218723,1557.2220993951278,1101.7057625506372,940.3759539672731,1560.705377960045,1522.6421695542601,1235.7670676213984,1491.5637345297841,815.7340678552102,1092.8240389757193,1078.294821706405,1147.3909689023217,1561.8607354612636,1346.3545788527815,1559.8912528131427,1368.038817778558,1560.4480304751205,1235.676103601119,1572.2033280078697,721.7370554435988,1405.4252370323184,1334.0712363735506,1416.5231839138967,734.4432080070534,911.7274051380125,1194.6809763595115,826.9284062447377,1409.6314613331442,1166.3505818493582,1100.794523797773,1340.6905331307223,1089.441022865811,1526.772615560278,786.1537648524964,1462.2241189026581,1384.0044995169349,1534.4457886361165,1476.7457937440995,993.316391220285],\"yaxis\":\"y\",\"type\":\"scatter\"}],                        {\"template\":{\"data\":{\"bar\":[{\"error_x\":{\"color\":\"#2a3f5f\"},\"error_y\":{\"color\":\"#2a3f5f\"},\"marker\":{\"line\":{\"color\":\"#E5ECF6\",\"width\":0.5},\"pattern\":{\"fillmode\":\"overlay\",\"size\":10,\"solidity\":0.2}},\"type\":\"bar\"}],\"barpolar\":[{\"marker\":{\"line\":{\"color\":\"#E5ECF6\",\"width\":0.5},\"pattern\":{\"fillmode\":\"overlay\",\"size\":10,\"solidity\":0.2}},\"type\":\"barpolar\"}],\"carpet\":[{\"aaxis\":{\"endlinecolor\":\"#2a3f5f\",\"gridcolor\":\"white\",\"linecolor\":\"white\",\"minorgridcolor\":\"white\",\"startlinecolor\":\"#2a3f5f\"},\"baxis\":{\"endlinecolor\":\"#2a3f5f\",\"gridcolor\":\"white\",\"linecolor\":\"white\",\"minorgridcolor\":\"white\",\"startlinecolor\":\"#2a3f5f\"},\"type\":\"carpet\"}],\"choropleth\":[{\"colorbar\":{\"outlinewidth\":0,\"ticks\":\"\"},\"type\":\"choropleth\"}],\"contour\":[{\"colorbar\":{\"outlinewidth\":0,\"ticks\":\"\"},\"colorscale\":[[0.0,\"#0d0887\"],[0.1111111111111111,\"#46039f\"],[0.2222222222222222,\"#7201a8\"],[0.3333333333333333,\"#9c179e\"],[0.4444444444444444,\"#bd3786\"],[0.5555555555555556,\"#d8576b\"],[0.6666666666666666,\"#ed7953\"],[0.7777777777777778,\"#fb9f3a\"],[0.8888888888888888,\"#fdca26\"],[1.0,\"#f0f921\"]],\"type\":\"contour\"}],\"contourcarpet\":[{\"colorbar\":{\"outlinewidth\":0,\"ticks\":\"\"},\"type\":\"contourcarpet\"}],\"heatmap\":[{\"colorbar\":{\"outlinewidth\":0,\"ticks\":\"\"},\"colorscale\":[[0.0,\"#0d0887\"],[0.1111111111111111,\"#46039f\"],[0.2222222222222222,\"#7201a8\"],[0.3333333333333333,\"#9c179e\"],[0.4444444444444444,\"#bd3786\"],[0.5555555555555556,\"#d8576b\"],[0.6666666666666666,\"#ed7953\"],[0.7777777777777778,\"#fb9f3a\"],[0.8888888888888888,\"#fdca26\"],[1.0,\"#f0f921\"]],\"type\":\"heatmap\"}],\"heatmapgl\":[{\"colorbar\":{\"outlinewidth\":0,\"ticks\":\"\"},\"colorscale\":[[0.0,\"#0d0887\"],[0.1111111111111111,\"#46039f\"],[0.2222222222222222,\"#7201a8\"],[0.3333333333333333,\"#9c179e\"],[0.4444444444444444,\"#bd3786\"],[0.5555555555555556,\"#d8576b\"],[0.6666666666666666,\"#ed7953\"],[0.7777777777777778,\"#fb9f3a\"],[0.8888888888888888,\"#fdca26\"],[1.0,\"#f0f921\"]],\"type\":\"heatmapgl\"}],\"histogram\":[{\"marker\":{\"pattern\":{\"fillmode\":\"overlay\",\"size\":10,\"solidity\":0.2}},\"type\":\"histogram\"}],\"histogram2d\":[{\"colorbar\":{\"outlinewidth\":0,\"ticks\":\"\"},\"colorscale\":[[0.0,\"#0d0887\"],[0.1111111111111111,\"#46039f\"],[0.2222222222222222,\"#7201a8\"],[0.3333333333333333,\"#9c179e\"],[0.4444444444444444,\"#bd3786\"],[0.5555555555555556,\"#d8576b\"],[0.6666666666666666,\"#ed7953\"],[0.7777777777777778,\"#fb9f3a\"],[0.8888888888888888,\"#fdca26\"],[1.0,\"#f0f921\"]],\"type\":\"histogram2d\"}],\"histogram2dcontour\":[{\"colorbar\":{\"outlinewidth\":0,\"ticks\":\"\"},\"colorscale\":[[0.0,\"#0d0887\"],[0.1111111111111111,\"#46039f\"],[0.2222222222222222,\"#7201a8\"],[0.3333333333333333,\"#9c179e\"],[0.4444444444444444,\"#bd3786\"],[0.5555555555555556,\"#d8576b\"],[0.6666666666666666,\"#ed7953\"],[0.7777777777777778,\"#fb9f3a\"],[0.8888888888888888,\"#fdca26\"],[1.0,\"#f0f921\"]],\"type\":\"histogram2dcontour\"}],\"mesh3d\":[{\"colorbar\":{\"outlinewidth\":0,\"ticks\":\"\"},\"type\":\"mesh3d\"}],\"parcoords\":[{\"line\":{\"colorbar\":{\"outlinewidth\":0,\"ticks\":\"\"}},\"type\":\"parcoords\"}],\"pie\":[{\"automargin\":true,\"type\":\"pie\"}],\"scatter\":[{\"marker\":{\"colorbar\":{\"outlinewidth\":0,\"ticks\":\"\"}},\"type\":\"scatter\"}],\"scatter3d\":[{\"line\":{\"colorbar\":{\"outlinewidth\":0,\"ticks\":\"\"}},\"marker\":{\"colorbar\":{\"outlinewidth\":0,\"ticks\":\"\"}},\"type\":\"scatter3d\"}],\"scattercarpet\":[{\"marker\":{\"colorbar\":{\"outlinewidth\":0,\"ticks\":\"\"}},\"type\":\"scattercarpet\"}],\"scattergeo\":[{\"marker\":{\"colorbar\":{\"outlinewidth\":0,\"ticks\":\"\"}},\"type\":\"scattergeo\"}],\"scattergl\":[{\"marker\":{\"colorbar\":{\"outlinewidth\":0,\"ticks\":\"\"}},\"type\":\"scattergl\"}],\"scattermapbox\":[{\"marker\":{\"colorbar\":{\"outlinewidth\":0,\"ticks\":\"\"}},\"type\":\"scattermapbox\"}],\"scatterpolar\":[{\"marker\":{\"colorbar\":{\"outlinewidth\":0,\"ticks\":\"\"}},\"type\":\"scatterpolar\"}],\"scatterpolargl\":[{\"marker\":{\"colorbar\":{\"outlinewidth\":0,\"ticks\":\"\"}},\"type\":\"scatterpolargl\"}],\"scatterternary\":[{\"marker\":{\"colorbar\":{\"outlinewidth\":0,\"ticks\":\"\"}},\"type\":\"scatterternary\"}],\"surface\":[{\"colorbar\":{\"outlinewidth\":0,\"ticks\":\"\"},\"colorscale\":[[0.0,\"#0d0887\"],[0.1111111111111111,\"#46039f\"],[0.2222222222222222,\"#7201a8\"],[0.3333333333333333,\"#9c179e\"],[0.4444444444444444,\"#bd3786\"],[0.5555555555555556,\"#d8576b\"],[0.6666666666666666,\"#ed7953\"],[0.7777777777777778,\"#fb9f3a\"],[0.8888888888888888,\"#fdca26\"],[1.0,\"#f0f921\"]],\"type\":\"surface\"}],\"table\":[{\"cells\":{\"fill\":{\"color\":\"#EBF0F8\"},\"line\":{\"color\":\"white\"}},\"header\":{\"fill\":{\"color\":\"#C8D4E3\"},\"line\":{\"color\":\"white\"}},\"type\":\"table\"}]},\"layout\":{\"annotationdefaults\":{\"arrowcolor\":\"#2a3f5f\",\"arrowhead\":0,\"arrowwidth\":1},\"autotypenumbers\":\"strict\",\"coloraxis\":{\"colorbar\":{\"outlinewidth\":0,\"ticks\":\"\"}},\"colorscale\":{\"diverging\":[[0,\"#8e0152\"],[0.1,\"#c51b7d\"],[0.2,\"#de77ae\"],[0.3,\"#f1b6da\"],[0.4,\"#fde0ef\"],[0.5,\"#f7f7f7\"],[0.6,\"#e6f5d0\"],[0.7,\"#b8e186\"],[0.8,\"#7fbc41\"],[0.9,\"#4d9221\"],[1,\"#276419\"]],\"sequential\":[[0.0,\"#0d0887\"],[0.1111111111111111,\"#46039f\"],[0.2222222222222222,\"#7201a8\"],[0.3333333333333333,\"#9c179e\"],[0.4444444444444444,\"#bd3786\"],[0.5555555555555556,\"#d8576b\"],[0.6666666666666666,\"#ed7953\"],[0.7777777777777778,\"#fb9f3a\"],[0.8888888888888888,\"#fdca26\"],[1.0,\"#f0f921\"]],\"sequentialminus\":[[0.0,\"#0d0887\"],[0.1111111111111111,\"#46039f\"],[0.2222222222222222,\"#7201a8\"],[0.3333333333333333,\"#9c179e\"],[0.4444444444444444,\"#bd3786\"],[0.5555555555555556,\"#d8576b\"],[0.6666666666666666,\"#ed7953\"],[0.7777777777777778,\"#fb9f3a\"],[0.8888888888888888,\"#fdca26\"],[1.0,\"#f0f921\"]]},\"colorway\":[\"#636efa\",\"#EF553B\",\"#00cc96\",\"#ab63fa\",\"#FFA15A\",\"#19d3f3\",\"#FF6692\",\"#B6E880\",\"#FF97FF\",\"#FECB52\"],\"font\":{\"color\":\"#2a3f5f\"},\"geo\":{\"bgcolor\":\"white\",\"lakecolor\":\"white\",\"landcolor\":\"#E5ECF6\",\"showlakes\":true,\"showland\":true,\"subunitcolor\":\"white\"},\"hoverlabel\":{\"align\":\"left\"},\"hovermode\":\"closest\",\"mapbox\":{\"style\":\"light\"},\"paper_bgcolor\":\"white\",\"plot_bgcolor\":\"#E5ECF6\",\"polar\":{\"angularaxis\":{\"gridcolor\":\"white\",\"linecolor\":\"white\",\"ticks\":\"\"},\"bgcolor\":\"#E5ECF6\",\"radialaxis\":{\"gridcolor\":\"white\",\"linecolor\":\"white\",\"ticks\":\"\"}},\"scene\":{\"xaxis\":{\"backgroundcolor\":\"#E5ECF6\",\"gridcolor\":\"white\",\"gridwidth\":2,\"linecolor\":\"white\",\"showbackground\":true,\"ticks\":\"\",\"zerolinecolor\":\"white\"},\"yaxis\":{\"backgroundcolor\":\"#E5ECF6\",\"gridcolor\":\"white\",\"gridwidth\":2,\"linecolor\":\"white\",\"showbackground\":true,\"ticks\":\"\",\"zerolinecolor\":\"white\"},\"zaxis\":{\"backgroundcolor\":\"#E5ECF6\",\"gridcolor\":\"white\",\"gridwidth\":2,\"linecolor\":\"white\",\"showbackground\":true,\"ticks\":\"\",\"zerolinecolor\":\"white\"}},\"shapedefaults\":{\"line\":{\"color\":\"#2a3f5f\"}},\"ternary\":{\"aaxis\":{\"gridcolor\":\"white\",\"linecolor\":\"white\",\"ticks\":\"\"},\"baxis\":{\"gridcolor\":\"white\",\"linecolor\":\"white\",\"ticks\":\"\"},\"bgcolor\":\"#E5ECF6\",\"caxis\":{\"gridcolor\":\"white\",\"linecolor\":\"white\",\"ticks\":\"\"}},\"title\":{\"x\":0.05},\"xaxis\":{\"automargin\":true,\"gridcolor\":\"white\",\"linecolor\":\"white\",\"ticks\":\"\",\"title\":{\"standoff\":15},\"zerolinecolor\":\"white\",\"zerolinewidth\":2},\"yaxis\":{\"automargin\":true,\"gridcolor\":\"white\",\"linecolor\":\"white\",\"ticks\":\"\",\"title\":{\"standoff\":15},\"zerolinecolor\":\"white\",\"zerolinewidth\":2}}},\"xaxis\":{\"anchor\":\"y\",\"domain\":[0.0,1.0],\"title\":{\"text\":\"Observed Titer\"}},\"yaxis\":{\"anchor\":\"x\",\"domain\":[0.0,1.0],\"title\":{\"text\":\"Predicted Titer\"}},\"legend\":{\"tracegroupgap\":0},\"title\":{\"text\":\"Observed vs Predicted on Test Set; R^2 = 0.976\"},\"shapes\":[{\"layer\":\"below\",\"type\":\"line\",\"x0\":0,\"x1\":1,\"xref\":\"paper\",\"y0\":0,\"y1\":1,\"yref\":\"paper\"}]},                        {\"responsive\": true}                    ).then(function(){\n",
              "                            \n",
              "var gd = document.getElementById('08c070b5-f350-4825-9c7e-832b2b25ba05');\n",
              "var x = new MutationObserver(function (mutations, observer) {{\n",
              "        var display = window.getComputedStyle(gd).display;\n",
              "        if (!display || display === 'none') {{\n",
              "            console.log([gd, 'removed!']);\n",
              "            Plotly.purge(gd);\n",
              "            observer.disconnect();\n",
              "        }}\n",
              "}});\n",
              "\n",
              "// Listen for the removal of the full notebook cells\n",
              "var notebookContainer = gd.closest('#notebook-container');\n",
              "if (notebookContainer) {{\n",
              "    x.observe(notebookContainer, {childList: true});\n",
              "}}\n",
              "\n",
              "// Listen for the clearing of the current output cell\n",
              "var outputEl = gd.closest('.output');\n",
              "if (outputEl) {{\n",
              "    x.observe(outputEl, {childList: true});\n",
              "}}\n",
              "\n",
              "                        })                };                            </script>        </div>\n",
              "</body>\n",
              "</html>"
            ]
          },
          "metadata": {}
        }
      ]
    },
    {
      "cell_type": "code",
      "source": [
        "# Absolute RMSEP\n",
        "rmse_abs = mean_squared_error(y_test, yhat_test,squared=False)\n",
        "print('Absolute RMSEP: ',rmse_abs)\n",
        "# Relative RMSEP\n",
        "rmse_rel = mean_squared_error(y_test, yhat_test,squared=False) / np.std(np.array(y_test))\n",
        "print('Relative RMSEP: ',rmse_rel)"
      ],
      "metadata": {
        "id": "LaPaHUjcXKaT",
        "outputId": "dd72c18d-8c63-4a2a-c427-b9bd7020cd0a",
        "colab": {
          "base_uri": "https://localhost:8080/"
        }
      },
      "execution_count": 115,
      "outputs": [
        {
          "output_type": "stream",
          "name": "stdout",
          "text": [
            "Absolute RMSEP:  44.912690726879084\n",
            "Relative RMSEP:  0.1553578951494958\n"
          ]
        }
      ]
    },
    {
      "cell_type": "code",
      "source": [
        "# Plot loadings\n",
        "loadings = pls.x_loadings_\n",
        "#fig = px.scatter(x=pls.x_scores_[:,select_x_pca-1],y=pls.x_scores_[:,select_y_pca-1])\n",
        "fig = px.scatter(x=[0,0], y=[0,0])\n",
        "for i, feature in enumerate(X.columns):\n",
        "    fig.add_shape(type='line', x0=0, y0=0, x1=loadings[i,select_x_pca-1], y1=loadings[i,select_y_pca-1])\n",
        "    fig.add_annotation(x=loadings[i,select_x_pca-1], y=loadings[i,select_y_pca-1], ax=0, ay=0, xanchor=\"center\", yanchor=\"bottom\", text=feature)\n",
        "fig.show()"
      ],
      "metadata": {
        "id": "eQXkW1jOUmsU",
        "outputId": "a5901d1d-89dc-4b69-bd6a-8b01e72255dd",
        "colab": {
          "base_uri": "https://localhost:8080/",
          "height": 542
        }
      },
      "execution_count": 110,
      "outputs": [
        {
          "output_type": "display_data",
          "data": {
            "text/html": [
              "<html>\n",
              "<head><meta charset=\"utf-8\" /></head>\n",
              "<body>\n",
              "    <div>            <script src=\"https://cdnjs.cloudflare.com/ajax/libs/mathjax/2.7.5/MathJax.js?config=TeX-AMS-MML_SVG\"></script><script type=\"text/javascript\">if (window.MathJax) {MathJax.Hub.Config({SVG: {font: \"STIX-Web\"}});}</script>                <script type=\"text/javascript\">window.PlotlyConfig = {MathJaxConfig: 'local'};</script>\n",
              "        <script src=\"https://cdn.plot.ly/plotly-2.8.3.min.js\"></script>                <div id=\"ed00a285-4398-4de5-a8c3-82c50d0266d0\" class=\"plotly-graph-div\" style=\"height:525px; width:100%;\"></div>            <script type=\"text/javascript\">                                    window.PLOTLYENV=window.PLOTLYENV || {};                                    if (document.getElementById(\"ed00a285-4398-4de5-a8c3-82c50d0266d0\")) {                    Plotly.newPlot(                        \"ed00a285-4398-4de5-a8c3-82c50d0266d0\",                        [{\"hovertemplate\":\"x=%{x}<br>y=%{y}<extra></extra>\",\"legendgroup\":\"\",\"marker\":{\"color\":\"#636efa\",\"symbol\":\"circle\"},\"mode\":\"markers\",\"name\":\"\",\"orientation\":\"v\",\"showlegend\":false,\"x\":[0,0],\"xaxis\":\"x\",\"y\":[0,0],\"yaxis\":\"y\",\"type\":\"scatter\"}],                        {\"template\":{\"data\":{\"bar\":[{\"error_x\":{\"color\":\"#2a3f5f\"},\"error_y\":{\"color\":\"#2a3f5f\"},\"marker\":{\"line\":{\"color\":\"#E5ECF6\",\"width\":0.5},\"pattern\":{\"fillmode\":\"overlay\",\"size\":10,\"solidity\":0.2}},\"type\":\"bar\"}],\"barpolar\":[{\"marker\":{\"line\":{\"color\":\"#E5ECF6\",\"width\":0.5},\"pattern\":{\"fillmode\":\"overlay\",\"size\":10,\"solidity\":0.2}},\"type\":\"barpolar\"}],\"carpet\":[{\"aaxis\":{\"endlinecolor\":\"#2a3f5f\",\"gridcolor\":\"white\",\"linecolor\":\"white\",\"minorgridcolor\":\"white\",\"startlinecolor\":\"#2a3f5f\"},\"baxis\":{\"endlinecolor\":\"#2a3f5f\",\"gridcolor\":\"white\",\"linecolor\":\"white\",\"minorgridcolor\":\"white\",\"startlinecolor\":\"#2a3f5f\"},\"type\":\"carpet\"}],\"choropleth\":[{\"colorbar\":{\"outlinewidth\":0,\"ticks\":\"\"},\"type\":\"choropleth\"}],\"contour\":[{\"colorbar\":{\"outlinewidth\":0,\"ticks\":\"\"},\"colorscale\":[[0.0,\"#0d0887\"],[0.1111111111111111,\"#46039f\"],[0.2222222222222222,\"#7201a8\"],[0.3333333333333333,\"#9c179e\"],[0.4444444444444444,\"#bd3786\"],[0.5555555555555556,\"#d8576b\"],[0.6666666666666666,\"#ed7953\"],[0.7777777777777778,\"#fb9f3a\"],[0.8888888888888888,\"#fdca26\"],[1.0,\"#f0f921\"]],\"type\":\"contour\"}],\"contourcarpet\":[{\"colorbar\":{\"outlinewidth\":0,\"ticks\":\"\"},\"type\":\"contourcarpet\"}],\"heatmap\":[{\"colorbar\":{\"outlinewidth\":0,\"ticks\":\"\"},\"colorscale\":[[0.0,\"#0d0887\"],[0.1111111111111111,\"#46039f\"],[0.2222222222222222,\"#7201a8\"],[0.3333333333333333,\"#9c179e\"],[0.4444444444444444,\"#bd3786\"],[0.5555555555555556,\"#d8576b\"],[0.6666666666666666,\"#ed7953\"],[0.7777777777777778,\"#fb9f3a\"],[0.8888888888888888,\"#fdca26\"],[1.0,\"#f0f921\"]],\"type\":\"heatmap\"}],\"heatmapgl\":[{\"colorbar\":{\"outlinewidth\":0,\"ticks\":\"\"},\"colorscale\":[[0.0,\"#0d0887\"],[0.1111111111111111,\"#46039f\"],[0.2222222222222222,\"#7201a8\"],[0.3333333333333333,\"#9c179e\"],[0.4444444444444444,\"#bd3786\"],[0.5555555555555556,\"#d8576b\"],[0.6666666666666666,\"#ed7953\"],[0.7777777777777778,\"#fb9f3a\"],[0.8888888888888888,\"#fdca26\"],[1.0,\"#f0f921\"]],\"type\":\"heatmapgl\"}],\"histogram\":[{\"marker\":{\"pattern\":{\"fillmode\":\"overlay\",\"size\":10,\"solidity\":0.2}},\"type\":\"histogram\"}],\"histogram2d\":[{\"colorbar\":{\"outlinewidth\":0,\"ticks\":\"\"},\"colorscale\":[[0.0,\"#0d0887\"],[0.1111111111111111,\"#46039f\"],[0.2222222222222222,\"#7201a8\"],[0.3333333333333333,\"#9c179e\"],[0.4444444444444444,\"#bd3786\"],[0.5555555555555556,\"#d8576b\"],[0.6666666666666666,\"#ed7953\"],[0.7777777777777778,\"#fb9f3a\"],[0.8888888888888888,\"#fdca26\"],[1.0,\"#f0f921\"]],\"type\":\"histogram2d\"}],\"histogram2dcontour\":[{\"colorbar\":{\"outlinewidth\":0,\"ticks\":\"\"},\"colorscale\":[[0.0,\"#0d0887\"],[0.1111111111111111,\"#46039f\"],[0.2222222222222222,\"#7201a8\"],[0.3333333333333333,\"#9c179e\"],[0.4444444444444444,\"#bd3786\"],[0.5555555555555556,\"#d8576b\"],[0.6666666666666666,\"#ed7953\"],[0.7777777777777778,\"#fb9f3a\"],[0.8888888888888888,\"#fdca26\"],[1.0,\"#f0f921\"]],\"type\":\"histogram2dcontour\"}],\"mesh3d\":[{\"colorbar\":{\"outlinewidth\":0,\"ticks\":\"\"},\"type\":\"mesh3d\"}],\"parcoords\":[{\"line\":{\"colorbar\":{\"outlinewidth\":0,\"ticks\":\"\"}},\"type\":\"parcoords\"}],\"pie\":[{\"automargin\":true,\"type\":\"pie\"}],\"scatter\":[{\"marker\":{\"colorbar\":{\"outlinewidth\":0,\"ticks\":\"\"}},\"type\":\"scatter\"}],\"scatter3d\":[{\"line\":{\"colorbar\":{\"outlinewidth\":0,\"ticks\":\"\"}},\"marker\":{\"colorbar\":{\"outlinewidth\":0,\"ticks\":\"\"}},\"type\":\"scatter3d\"}],\"scattercarpet\":[{\"marker\":{\"colorbar\":{\"outlinewidth\":0,\"ticks\":\"\"}},\"type\":\"scattercarpet\"}],\"scattergeo\":[{\"marker\":{\"colorbar\":{\"outlinewidth\":0,\"ticks\":\"\"}},\"type\":\"scattergeo\"}],\"scattergl\":[{\"marker\":{\"colorbar\":{\"outlinewidth\":0,\"ticks\":\"\"}},\"type\":\"scattergl\"}],\"scattermapbox\":[{\"marker\":{\"colorbar\":{\"outlinewidth\":0,\"ticks\":\"\"}},\"type\":\"scattermapbox\"}],\"scatterpolar\":[{\"marker\":{\"colorbar\":{\"outlinewidth\":0,\"ticks\":\"\"}},\"type\":\"scatterpolar\"}],\"scatterpolargl\":[{\"marker\":{\"colorbar\":{\"outlinewidth\":0,\"ticks\":\"\"}},\"type\":\"scatterpolargl\"}],\"scatterternary\":[{\"marker\":{\"colorbar\":{\"outlinewidth\":0,\"ticks\":\"\"}},\"type\":\"scatterternary\"}],\"surface\":[{\"colorbar\":{\"outlinewidth\":0,\"ticks\":\"\"},\"colorscale\":[[0.0,\"#0d0887\"],[0.1111111111111111,\"#46039f\"],[0.2222222222222222,\"#7201a8\"],[0.3333333333333333,\"#9c179e\"],[0.4444444444444444,\"#bd3786\"],[0.5555555555555556,\"#d8576b\"],[0.6666666666666666,\"#ed7953\"],[0.7777777777777778,\"#fb9f3a\"],[0.8888888888888888,\"#fdca26\"],[1.0,\"#f0f921\"]],\"type\":\"surface\"}],\"table\":[{\"cells\":{\"fill\":{\"color\":\"#EBF0F8\"},\"line\":{\"color\":\"white\"}},\"header\":{\"fill\":{\"color\":\"#C8D4E3\"},\"line\":{\"color\":\"white\"}},\"type\":\"table\"}]},\"layout\":{\"annotationdefaults\":{\"arrowcolor\":\"#2a3f5f\",\"arrowhead\":0,\"arrowwidth\":1},\"autotypenumbers\":\"strict\",\"coloraxis\":{\"colorbar\":{\"outlinewidth\":0,\"ticks\":\"\"}},\"colorscale\":{\"diverging\":[[0,\"#8e0152\"],[0.1,\"#c51b7d\"],[0.2,\"#de77ae\"],[0.3,\"#f1b6da\"],[0.4,\"#fde0ef\"],[0.5,\"#f7f7f7\"],[0.6,\"#e6f5d0\"],[0.7,\"#b8e186\"],[0.8,\"#7fbc41\"],[0.9,\"#4d9221\"],[1,\"#276419\"]],\"sequential\":[[0.0,\"#0d0887\"],[0.1111111111111111,\"#46039f\"],[0.2222222222222222,\"#7201a8\"],[0.3333333333333333,\"#9c179e\"],[0.4444444444444444,\"#bd3786\"],[0.5555555555555556,\"#d8576b\"],[0.6666666666666666,\"#ed7953\"],[0.7777777777777778,\"#fb9f3a\"],[0.8888888888888888,\"#fdca26\"],[1.0,\"#f0f921\"]],\"sequentialminus\":[[0.0,\"#0d0887\"],[0.1111111111111111,\"#46039f\"],[0.2222222222222222,\"#7201a8\"],[0.3333333333333333,\"#9c179e\"],[0.4444444444444444,\"#bd3786\"],[0.5555555555555556,\"#d8576b\"],[0.6666666666666666,\"#ed7953\"],[0.7777777777777778,\"#fb9f3a\"],[0.8888888888888888,\"#fdca26\"],[1.0,\"#f0f921\"]]},\"colorway\":[\"#636efa\",\"#EF553B\",\"#00cc96\",\"#ab63fa\",\"#FFA15A\",\"#19d3f3\",\"#FF6692\",\"#B6E880\",\"#FF97FF\",\"#FECB52\"],\"font\":{\"color\":\"#2a3f5f\"},\"geo\":{\"bgcolor\":\"white\",\"lakecolor\":\"white\",\"landcolor\":\"#E5ECF6\",\"showlakes\":true,\"showland\":true,\"subunitcolor\":\"white\"},\"hoverlabel\":{\"align\":\"left\"},\"hovermode\":\"closest\",\"mapbox\":{\"style\":\"light\"},\"paper_bgcolor\":\"white\",\"plot_bgcolor\":\"#E5ECF6\",\"polar\":{\"angularaxis\":{\"gridcolor\":\"white\",\"linecolor\":\"white\",\"ticks\":\"\"},\"bgcolor\":\"#E5ECF6\",\"radialaxis\":{\"gridcolor\":\"white\",\"linecolor\":\"white\",\"ticks\":\"\"}},\"scene\":{\"xaxis\":{\"backgroundcolor\":\"#E5ECF6\",\"gridcolor\":\"white\",\"gridwidth\":2,\"linecolor\":\"white\",\"showbackground\":true,\"ticks\":\"\",\"zerolinecolor\":\"white\"},\"yaxis\":{\"backgroundcolor\":\"#E5ECF6\",\"gridcolor\":\"white\",\"gridwidth\":2,\"linecolor\":\"white\",\"showbackground\":true,\"ticks\":\"\",\"zerolinecolor\":\"white\"},\"zaxis\":{\"backgroundcolor\":\"#E5ECF6\",\"gridcolor\":\"white\",\"gridwidth\":2,\"linecolor\":\"white\",\"showbackground\":true,\"ticks\":\"\",\"zerolinecolor\":\"white\"}},\"shapedefaults\":{\"line\":{\"color\":\"#2a3f5f\"}},\"ternary\":{\"aaxis\":{\"gridcolor\":\"white\",\"linecolor\":\"white\",\"ticks\":\"\"},\"baxis\":{\"gridcolor\":\"white\",\"linecolor\":\"white\",\"ticks\":\"\"},\"bgcolor\":\"#E5ECF6\",\"caxis\":{\"gridcolor\":\"white\",\"linecolor\":\"white\",\"ticks\":\"\"}},\"title\":{\"x\":0.05},\"xaxis\":{\"automargin\":true,\"gridcolor\":\"white\",\"linecolor\":\"white\",\"ticks\":\"\",\"title\":{\"standoff\":15},\"zerolinecolor\":\"white\",\"zerolinewidth\":2},\"yaxis\":{\"automargin\":true,\"gridcolor\":\"white\",\"linecolor\":\"white\",\"ticks\":\"\",\"title\":{\"standoff\":15},\"zerolinecolor\":\"white\",\"zerolinewidth\":2}}},\"xaxis\":{\"anchor\":\"y\",\"domain\":[0.0,1.0],\"title\":{\"text\":\"x\"}},\"yaxis\":{\"anchor\":\"x\",\"domain\":[0.0,1.0],\"title\":{\"text\":\"y\"}},\"legend\":{\"tracegroupgap\":0},\"margin\":{\"t\":60},\"shapes\":[{\"type\":\"line\",\"x0\":0,\"x1\":0.16086704020535517,\"y0\":0,\"y1\":-0.0768245260147003},{\"type\":\"line\",\"x0\":0,\"x1\":0.12604667737959677,\"y0\":0,\"y1\":0.011148049542506809},{\"type\":\"line\",\"x0\":0,\"x1\":-0.06972413929953583,\"y0\":0,\"y1\":0.19237217198277842},{\"type\":\"line\",\"x0\":0,\"x1\":0.03941583789774733,\"y0\":0,\"y1\":0.24458779643453288},{\"type\":\"line\",\"x0\":0,\"x1\":0.009602421529491091,\"y0\":0,\"y1\":0.14710248124780678},{\"type\":\"line\",\"x0\":0,\"x1\":0.012536635608132207,\"y0\":0,\"y1\":0.15492954158475017},{\"type\":\"line\",\"x0\":0,\"x1\":0.019582411936918835,\"y0\":0,\"y1\":0.15828727302150047},{\"type\":\"line\",\"x0\":0,\"x1\":0.043052878862574605,\"y0\":0,\"y1\":0.15204686412878896},{\"type\":\"line\",\"x0\":0,\"x1\":0.1102018435918486,\"y0\":0,\"y1\":0.11598768136240874},{\"type\":\"line\",\"x0\":0,\"x1\":0.27719770741245175,\"y0\":0,\"y1\":0.006969407938615163},{\"type\":\"line\",\"x0\":0,\"x1\":0.35870748812560194,\"y0\":0,\"y1\":-0.06331476397963945},{\"type\":\"line\",\"x0\":0,\"x1\":0.35833546139893035,\"y0\":0,\"y1\":-0.051617714010736664},{\"type\":\"line\",\"x0\":0,\"x1\":0.36099962045926265,\"y0\":0,\"y1\":-0.047150789014054215},{\"type\":\"line\",\"x0\":0,\"x1\":0.36029678294630746,\"y0\":0,\"y1\":-0.052325143704588746},{\"type\":\"line\",\"x0\":0,\"x1\":0.35642766914915774,\"y0\":0,\"y1\":-0.06187908339632462},{\"type\":\"line\",\"x0\":0,\"x1\":0.3462610202716505,\"y0\":0,\"y1\":-0.07252195421228572},{\"type\":\"line\",\"x0\":0,\"x1\":0.33025890611197567,\"y0\":0,\"y1\":-0.07852398458475825},{\"type\":\"line\",\"x0\":0,\"x1\":0.03938787411426974,\"y0\":0,\"y1\":0.24251789739101015},{\"type\":\"line\",\"x0\":0,\"x1\":0.00984729123104017,\"y0\":0,\"y1\":0.2515421193300572},{\"type\":\"line\",\"x0\":0,\"x1\":-0.049129479811124754,\"y0\":0,\"y1\":0.2664457265833004},{\"type\":\"line\",\"x0\":0,\"x1\":-0.09325332379660327,\"y0\":0,\"y1\":0.26741467986700057},{\"type\":\"line\",\"x0\":0,\"x1\":-0.1151422771943695,\"y0\":0,\"y1\":0.2722512171571065},{\"type\":\"line\",\"x0\":0,\"x1\":-0.1451766575999157,\"y0\":0,\"y1\":0.27376076786497006},{\"type\":\"line\",\"x0\":0,\"x1\":-0.17799765163555373,\"y0\":0,\"y1\":0.27138895751866154},{\"type\":\"line\",\"x0\":0,\"x1\":-0.20076204833687072,\"y0\":0,\"y1\":0.26697084523638664},{\"type\":\"line\",\"x0\":0,\"x1\":-0.2077836804392224,\"y0\":0,\"y1\":0.26680503190477467},{\"type\":\"line\",\"x0\":0,\"x1\":-0.20661401146354974,\"y0\":0,\"y1\":0.26378349472660756},{\"type\":\"line\",\"x0\":0,\"x1\":-0.20201925519189837,\"y0\":0,\"y1\":0.2548369437310288},{\"type\":\"line\",\"x0\":0,\"x1\":-0.20269379134849747,\"y0\":0,\"y1\":0.24593226814934974}],\"annotations\":[{\"ax\":0,\"ay\":0,\"text\":\"feed_start\",\"x\":0.16086704020535517,\"xanchor\":\"center\",\"y\":-0.0768245260147003,\"yanchor\":\"bottom\"},{\"ax\":0,\"ay\":0,\"text\":\"feed_end\",\"x\":0.12604667737959677,\"xanchor\":\"center\",\"y\":0.011148049542506809,\"yanchor\":\"bottom\"},{\"ax\":0,\"ay\":0,\"text\":\"Glc_feed_rate\",\"x\":-0.06972413929953583,\"xanchor\":\"center\",\"y\":0.19237217198277842,\"yanchor\":\"bottom\"},{\"ax\":0,\"ay\":0,\"text\":\"Glc_0\",\"x\":0.03941583789774733,\"xanchor\":\"center\",\"y\":0.24458779643453288,\"yanchor\":\"bottom\"},{\"ax\":0,\"ay\":0,\"text\":\"VCD_0\",\"x\":0.009602421529491091,\"xanchor\":\"center\",\"y\":0.14710248124780678,\"yanchor\":\"bottom\"},{\"ax\":0,\"ay\":0,\"text\":\"X:VCD:1\",\"x\":0.012536635608132207,\"xanchor\":\"center\",\"y\":0.15492954158475017,\"yanchor\":\"bottom\"},{\"ax\":0,\"ay\":0,\"text\":\"X:VCD:2\",\"x\":0.019582411936918835,\"xanchor\":\"center\",\"y\":0.15828727302150047,\"yanchor\":\"bottom\"},{\"ax\":0,\"ay\":0,\"text\":\"X:VCD:3\",\"x\":0.043052878862574605,\"xanchor\":\"center\",\"y\":0.15204686412878896,\"yanchor\":\"bottom\"},{\"ax\":0,\"ay\":0,\"text\":\"X:VCD:4\",\"x\":0.1102018435918486,\"xanchor\":\"center\",\"y\":0.11598768136240874,\"yanchor\":\"bottom\"},{\"ax\":0,\"ay\":0,\"text\":\"X:VCD:5\",\"x\":0.27719770741245175,\"xanchor\":\"center\",\"y\":0.006969407938615163,\"yanchor\":\"bottom\"},{\"ax\":0,\"ay\":0,\"text\":\"X:VCD:6\",\"x\":0.35870748812560194,\"xanchor\":\"center\",\"y\":-0.06331476397963945,\"yanchor\":\"bottom\"},{\"ax\":0,\"ay\":0,\"text\":\"X:VCD:7\",\"x\":0.35833546139893035,\"xanchor\":\"center\",\"y\":-0.051617714010736664,\"yanchor\":\"bottom\"},{\"ax\":0,\"ay\":0,\"text\":\"X:VCD:8\",\"x\":0.36099962045926265,\"xanchor\":\"center\",\"y\":-0.047150789014054215,\"yanchor\":\"bottom\"},{\"ax\":0,\"ay\":0,\"text\":\"X:VCD:9\",\"x\":0.36029678294630746,\"xanchor\":\"center\",\"y\":-0.052325143704588746,\"yanchor\":\"bottom\"},{\"ax\":0,\"ay\":0,\"text\":\"X:VCD:10\",\"x\":0.35642766914915774,\"xanchor\":\"center\",\"y\":-0.06187908339632462,\"yanchor\":\"bottom\"},{\"ax\":0,\"ay\":0,\"text\":\"X:VCD:11\",\"x\":0.3462610202716505,\"xanchor\":\"center\",\"y\":-0.07252195421228572,\"yanchor\":\"bottom\"},{\"ax\":0,\"ay\":0,\"text\":\"X:VCD:12\",\"x\":0.33025890611197567,\"xanchor\":\"center\",\"y\":-0.07852398458475825,\"yanchor\":\"bottom\"},{\"ax\":0,\"ay\":0,\"text\":\"X:Glc:1\",\"x\":0.03938787411426974,\"xanchor\":\"center\",\"y\":0.24251789739101015,\"yanchor\":\"bottom\"},{\"ax\":0,\"ay\":0,\"text\":\"X:Glc:2\",\"x\":0.00984729123104017,\"xanchor\":\"center\",\"y\":0.2515421193300572,\"yanchor\":\"bottom\"},{\"ax\":0,\"ay\":0,\"text\":\"X:Glc:3\",\"x\":-0.049129479811124754,\"xanchor\":\"center\",\"y\":0.2664457265833004,\"yanchor\":\"bottom\"},{\"ax\":0,\"ay\":0,\"text\":\"X:Glc:4\",\"x\":-0.09325332379660327,\"xanchor\":\"center\",\"y\":0.26741467986700057,\"yanchor\":\"bottom\"},{\"ax\":0,\"ay\":0,\"text\":\"X:Glc:5\",\"x\":-0.1151422771943695,\"xanchor\":\"center\",\"y\":0.2722512171571065,\"yanchor\":\"bottom\"},{\"ax\":0,\"ay\":0,\"text\":\"X:Glc:6\",\"x\":-0.1451766575999157,\"xanchor\":\"center\",\"y\":0.27376076786497006,\"yanchor\":\"bottom\"},{\"ax\":0,\"ay\":0,\"text\":\"X:Glc:7\",\"x\":-0.17799765163555373,\"xanchor\":\"center\",\"y\":0.27138895751866154,\"yanchor\":\"bottom\"},{\"ax\":0,\"ay\":0,\"text\":\"X:Glc:8\",\"x\":-0.20076204833687072,\"xanchor\":\"center\",\"y\":0.26697084523638664,\"yanchor\":\"bottom\"},{\"ax\":0,\"ay\":0,\"text\":\"X:Glc:9\",\"x\":-0.2077836804392224,\"xanchor\":\"center\",\"y\":0.26680503190477467,\"yanchor\":\"bottom\"},{\"ax\":0,\"ay\":0,\"text\":\"X:Glc:10\",\"x\":-0.20661401146354974,\"xanchor\":\"center\",\"y\":0.26378349472660756,\"yanchor\":\"bottom\"},{\"ax\":0,\"ay\":0,\"text\":\"X:Glc:11\",\"x\":-0.20201925519189837,\"xanchor\":\"center\",\"y\":0.2548369437310288,\"yanchor\":\"bottom\"},{\"ax\":0,\"ay\":0,\"text\":\"X:Glc:12\",\"x\":-0.20269379134849747,\"xanchor\":\"center\",\"y\":0.24593226814934974,\"yanchor\":\"bottom\"}]},                        {\"responsive\": true}                    ).then(function(){\n",
              "                            \n",
              "var gd = document.getElementById('ed00a285-4398-4de5-a8c3-82c50d0266d0');\n",
              "var x = new MutationObserver(function (mutations, observer) {{\n",
              "        var display = window.getComputedStyle(gd).display;\n",
              "        if (!display || display === 'none') {{\n",
              "            console.log([gd, 'removed!']);\n",
              "            Plotly.purge(gd);\n",
              "            observer.disconnect();\n",
              "        }}\n",
              "}});\n",
              "\n",
              "// Listen for the removal of the full notebook cells\n",
              "var notebookContainer = gd.closest('#notebook-container');\n",
              "if (notebookContainer) {{\n",
              "    x.observe(notebookContainer, {childList: true});\n",
              "}}\n",
              "\n",
              "// Listen for the clearing of the current output cell\n",
              "var outputEl = gd.closest('.output');\n",
              "if (outputEl) {{\n",
              "    x.observe(outputEl, {childList: true});\n",
              "}}\n",
              "\n",
              "                        })                };                            </script>        </div>\n",
              "</body>\n",
              "</html>"
            ]
          },
          "metadata": {}
        }
      ]
    },
    {
      "cell_type": "code",
      "source": [
        "# Model coefficients\n",
        "columns = X.columns\n",
        "coefficients = vip(X,y,pls)\n",
        "fig = px.bar(x=list(columns),y=coefficients.reshape(-1),title=\"Variable Importance in PLS\")\n",
        "fig.show()"
      ],
      "metadata": {
        "id": "KbTXck8lU9O5",
        "outputId": "2a5f97ab-9f89-484d-cd1a-ba4c56fed50f",
        "colab": {
          "base_uri": "https://localhost:8080/",
          "height": 542
        }
      },
      "execution_count": 111,
      "outputs": [
        {
          "output_type": "display_data",
          "data": {
            "text/html": [
              "<html>\n",
              "<head><meta charset=\"utf-8\" /></head>\n",
              "<body>\n",
              "    <div>            <script src=\"https://cdnjs.cloudflare.com/ajax/libs/mathjax/2.7.5/MathJax.js?config=TeX-AMS-MML_SVG\"></script><script type=\"text/javascript\">if (window.MathJax) {MathJax.Hub.Config({SVG: {font: \"STIX-Web\"}});}</script>                <script type=\"text/javascript\">window.PlotlyConfig = {MathJaxConfig: 'local'};</script>\n",
              "        <script src=\"https://cdn.plot.ly/plotly-2.8.3.min.js\"></script>                <div id=\"fdca310d-1675-4a55-b7ff-6751cb918fee\" class=\"plotly-graph-div\" style=\"height:525px; width:100%;\"></div>            <script type=\"text/javascript\">                                    window.PLOTLYENV=window.PLOTLYENV || {};                                    if (document.getElementById(\"fdca310d-1675-4a55-b7ff-6751cb918fee\")) {                    Plotly.newPlot(                        \"fdca310d-1675-4a55-b7ff-6751cb918fee\",                        [{\"alignmentgroup\":\"True\",\"hovertemplate\":\"x=%{x}<br>y=%{y}<extra></extra>\",\"legendgroup\":\"\",\"marker\":{\"color\":\"#636efa\",\"pattern\":{\"shape\":\"\"}},\"name\":\"\",\"offsetgroup\":\"\",\"orientation\":\"v\",\"showlegend\":false,\"textposition\":\"auto\",\"x\":[\"feed_start\",\"feed_end\",\"Glc_feed_rate\",\"Glc_0\",\"VCD_0\",\"X:VCD:1\",\"X:VCD:2\",\"X:VCD:3\",\"X:VCD:4\",\"X:VCD:5\",\"X:VCD:6\",\"X:VCD:7\",\"X:VCD:8\",\"X:VCD:9\",\"X:VCD:10\",\"X:VCD:11\",\"X:VCD:12\",\"X:Glc:1\",\"X:Glc:2\",\"X:Glc:3\",\"X:Glc:4\",\"X:Glc:5\",\"X:Glc:6\",\"X:Glc:7\",\"X:Glc:8\",\"X:Glc:9\",\"X:Glc:10\",\"X:Glc:11\",\"X:Glc:12\"],\"xaxis\":\"x\",\"y\":[0.5674325159151735,0.702428184774292,0.8855070204259605,0.765124288930857,0.6710657744727873,0.6922379263740923,0.7161002313117202,0.773517790439548,0.9324321635844568,1.366733375084798,1.5377563690421143,1.5667897043086134,1.611133577251117,1.6184541396909609,1.5971196171112345,1.5511142203635797,1.5091312905274494,0.7586964503973738,0.6883535305463471,0.577333475352447,0.5188941622422459,0.5339349352462619,0.561320951446464,0.6021882305413813,0.6453325082759095,0.6646928916355466,0.6669649929410298,0.654775234578175,0.6492179012656625],\"yaxis\":\"y\",\"type\":\"bar\"}],                        {\"template\":{\"data\":{\"bar\":[{\"error_x\":{\"color\":\"#2a3f5f\"},\"error_y\":{\"color\":\"#2a3f5f\"},\"marker\":{\"line\":{\"color\":\"#E5ECF6\",\"width\":0.5},\"pattern\":{\"fillmode\":\"overlay\",\"size\":10,\"solidity\":0.2}},\"type\":\"bar\"}],\"barpolar\":[{\"marker\":{\"line\":{\"color\":\"#E5ECF6\",\"width\":0.5},\"pattern\":{\"fillmode\":\"overlay\",\"size\":10,\"solidity\":0.2}},\"type\":\"barpolar\"}],\"carpet\":[{\"aaxis\":{\"endlinecolor\":\"#2a3f5f\",\"gridcolor\":\"white\",\"linecolor\":\"white\",\"minorgridcolor\":\"white\",\"startlinecolor\":\"#2a3f5f\"},\"baxis\":{\"endlinecolor\":\"#2a3f5f\",\"gridcolor\":\"white\",\"linecolor\":\"white\",\"minorgridcolor\":\"white\",\"startlinecolor\":\"#2a3f5f\"},\"type\":\"carpet\"}],\"choropleth\":[{\"colorbar\":{\"outlinewidth\":0,\"ticks\":\"\"},\"type\":\"choropleth\"}],\"contour\":[{\"colorbar\":{\"outlinewidth\":0,\"ticks\":\"\"},\"colorscale\":[[0.0,\"#0d0887\"],[0.1111111111111111,\"#46039f\"],[0.2222222222222222,\"#7201a8\"],[0.3333333333333333,\"#9c179e\"],[0.4444444444444444,\"#bd3786\"],[0.5555555555555556,\"#d8576b\"],[0.6666666666666666,\"#ed7953\"],[0.7777777777777778,\"#fb9f3a\"],[0.8888888888888888,\"#fdca26\"],[1.0,\"#f0f921\"]],\"type\":\"contour\"}],\"contourcarpet\":[{\"colorbar\":{\"outlinewidth\":0,\"ticks\":\"\"},\"type\":\"contourcarpet\"}],\"heatmap\":[{\"colorbar\":{\"outlinewidth\":0,\"ticks\":\"\"},\"colorscale\":[[0.0,\"#0d0887\"],[0.1111111111111111,\"#46039f\"],[0.2222222222222222,\"#7201a8\"],[0.3333333333333333,\"#9c179e\"],[0.4444444444444444,\"#bd3786\"],[0.5555555555555556,\"#d8576b\"],[0.6666666666666666,\"#ed7953\"],[0.7777777777777778,\"#fb9f3a\"],[0.8888888888888888,\"#fdca26\"],[1.0,\"#f0f921\"]],\"type\":\"heatmap\"}],\"heatmapgl\":[{\"colorbar\":{\"outlinewidth\":0,\"ticks\":\"\"},\"colorscale\":[[0.0,\"#0d0887\"],[0.1111111111111111,\"#46039f\"],[0.2222222222222222,\"#7201a8\"],[0.3333333333333333,\"#9c179e\"],[0.4444444444444444,\"#bd3786\"],[0.5555555555555556,\"#d8576b\"],[0.6666666666666666,\"#ed7953\"],[0.7777777777777778,\"#fb9f3a\"],[0.8888888888888888,\"#fdca26\"],[1.0,\"#f0f921\"]],\"type\":\"heatmapgl\"}],\"histogram\":[{\"marker\":{\"pattern\":{\"fillmode\":\"overlay\",\"size\":10,\"solidity\":0.2}},\"type\":\"histogram\"}],\"histogram2d\":[{\"colorbar\":{\"outlinewidth\":0,\"ticks\":\"\"},\"colorscale\":[[0.0,\"#0d0887\"],[0.1111111111111111,\"#46039f\"],[0.2222222222222222,\"#7201a8\"],[0.3333333333333333,\"#9c179e\"],[0.4444444444444444,\"#bd3786\"],[0.5555555555555556,\"#d8576b\"],[0.6666666666666666,\"#ed7953\"],[0.7777777777777778,\"#fb9f3a\"],[0.8888888888888888,\"#fdca26\"],[1.0,\"#f0f921\"]],\"type\":\"histogram2d\"}],\"histogram2dcontour\":[{\"colorbar\":{\"outlinewidth\":0,\"ticks\":\"\"},\"colorscale\":[[0.0,\"#0d0887\"],[0.1111111111111111,\"#46039f\"],[0.2222222222222222,\"#7201a8\"],[0.3333333333333333,\"#9c179e\"],[0.4444444444444444,\"#bd3786\"],[0.5555555555555556,\"#d8576b\"],[0.6666666666666666,\"#ed7953\"],[0.7777777777777778,\"#fb9f3a\"],[0.8888888888888888,\"#fdca26\"],[1.0,\"#f0f921\"]],\"type\":\"histogram2dcontour\"}],\"mesh3d\":[{\"colorbar\":{\"outlinewidth\":0,\"ticks\":\"\"},\"type\":\"mesh3d\"}],\"parcoords\":[{\"line\":{\"colorbar\":{\"outlinewidth\":0,\"ticks\":\"\"}},\"type\":\"parcoords\"}],\"pie\":[{\"automargin\":true,\"type\":\"pie\"}],\"scatter\":[{\"marker\":{\"colorbar\":{\"outlinewidth\":0,\"ticks\":\"\"}},\"type\":\"scatter\"}],\"scatter3d\":[{\"line\":{\"colorbar\":{\"outlinewidth\":0,\"ticks\":\"\"}},\"marker\":{\"colorbar\":{\"outlinewidth\":0,\"ticks\":\"\"}},\"type\":\"scatter3d\"}],\"scattercarpet\":[{\"marker\":{\"colorbar\":{\"outlinewidth\":0,\"ticks\":\"\"}},\"type\":\"scattercarpet\"}],\"scattergeo\":[{\"marker\":{\"colorbar\":{\"outlinewidth\":0,\"ticks\":\"\"}},\"type\":\"scattergeo\"}],\"scattergl\":[{\"marker\":{\"colorbar\":{\"outlinewidth\":0,\"ticks\":\"\"}},\"type\":\"scattergl\"}],\"scattermapbox\":[{\"marker\":{\"colorbar\":{\"outlinewidth\":0,\"ticks\":\"\"}},\"type\":\"scattermapbox\"}],\"scatterpolar\":[{\"marker\":{\"colorbar\":{\"outlinewidth\":0,\"ticks\":\"\"}},\"type\":\"scatterpolar\"}],\"scatterpolargl\":[{\"marker\":{\"colorbar\":{\"outlinewidth\":0,\"ticks\":\"\"}},\"type\":\"scatterpolargl\"}],\"scatterternary\":[{\"marker\":{\"colorbar\":{\"outlinewidth\":0,\"ticks\":\"\"}},\"type\":\"scatterternary\"}],\"surface\":[{\"colorbar\":{\"outlinewidth\":0,\"ticks\":\"\"},\"colorscale\":[[0.0,\"#0d0887\"],[0.1111111111111111,\"#46039f\"],[0.2222222222222222,\"#7201a8\"],[0.3333333333333333,\"#9c179e\"],[0.4444444444444444,\"#bd3786\"],[0.5555555555555556,\"#d8576b\"],[0.6666666666666666,\"#ed7953\"],[0.7777777777777778,\"#fb9f3a\"],[0.8888888888888888,\"#fdca26\"],[1.0,\"#f0f921\"]],\"type\":\"surface\"}],\"table\":[{\"cells\":{\"fill\":{\"color\":\"#EBF0F8\"},\"line\":{\"color\":\"white\"}},\"header\":{\"fill\":{\"color\":\"#C8D4E3\"},\"line\":{\"color\":\"white\"}},\"type\":\"table\"}]},\"layout\":{\"annotationdefaults\":{\"arrowcolor\":\"#2a3f5f\",\"arrowhead\":0,\"arrowwidth\":1},\"autotypenumbers\":\"strict\",\"coloraxis\":{\"colorbar\":{\"outlinewidth\":0,\"ticks\":\"\"}},\"colorscale\":{\"diverging\":[[0,\"#8e0152\"],[0.1,\"#c51b7d\"],[0.2,\"#de77ae\"],[0.3,\"#f1b6da\"],[0.4,\"#fde0ef\"],[0.5,\"#f7f7f7\"],[0.6,\"#e6f5d0\"],[0.7,\"#b8e186\"],[0.8,\"#7fbc41\"],[0.9,\"#4d9221\"],[1,\"#276419\"]],\"sequential\":[[0.0,\"#0d0887\"],[0.1111111111111111,\"#46039f\"],[0.2222222222222222,\"#7201a8\"],[0.3333333333333333,\"#9c179e\"],[0.4444444444444444,\"#bd3786\"],[0.5555555555555556,\"#d8576b\"],[0.6666666666666666,\"#ed7953\"],[0.7777777777777778,\"#fb9f3a\"],[0.8888888888888888,\"#fdca26\"],[1.0,\"#f0f921\"]],\"sequentialminus\":[[0.0,\"#0d0887\"],[0.1111111111111111,\"#46039f\"],[0.2222222222222222,\"#7201a8\"],[0.3333333333333333,\"#9c179e\"],[0.4444444444444444,\"#bd3786\"],[0.5555555555555556,\"#d8576b\"],[0.6666666666666666,\"#ed7953\"],[0.7777777777777778,\"#fb9f3a\"],[0.8888888888888888,\"#fdca26\"],[1.0,\"#f0f921\"]]},\"colorway\":[\"#636efa\",\"#EF553B\",\"#00cc96\",\"#ab63fa\",\"#FFA15A\",\"#19d3f3\",\"#FF6692\",\"#B6E880\",\"#FF97FF\",\"#FECB52\"],\"font\":{\"color\":\"#2a3f5f\"},\"geo\":{\"bgcolor\":\"white\",\"lakecolor\":\"white\",\"landcolor\":\"#E5ECF6\",\"showlakes\":true,\"showland\":true,\"subunitcolor\":\"white\"},\"hoverlabel\":{\"align\":\"left\"},\"hovermode\":\"closest\",\"mapbox\":{\"style\":\"light\"},\"paper_bgcolor\":\"white\",\"plot_bgcolor\":\"#E5ECF6\",\"polar\":{\"angularaxis\":{\"gridcolor\":\"white\",\"linecolor\":\"white\",\"ticks\":\"\"},\"bgcolor\":\"#E5ECF6\",\"radialaxis\":{\"gridcolor\":\"white\",\"linecolor\":\"white\",\"ticks\":\"\"}},\"scene\":{\"xaxis\":{\"backgroundcolor\":\"#E5ECF6\",\"gridcolor\":\"white\",\"gridwidth\":2,\"linecolor\":\"white\",\"showbackground\":true,\"ticks\":\"\",\"zerolinecolor\":\"white\"},\"yaxis\":{\"backgroundcolor\":\"#E5ECF6\",\"gridcolor\":\"white\",\"gridwidth\":2,\"linecolor\":\"white\",\"showbackground\":true,\"ticks\":\"\",\"zerolinecolor\":\"white\"},\"zaxis\":{\"backgroundcolor\":\"#E5ECF6\",\"gridcolor\":\"white\",\"gridwidth\":2,\"linecolor\":\"white\",\"showbackground\":true,\"ticks\":\"\",\"zerolinecolor\":\"white\"}},\"shapedefaults\":{\"line\":{\"color\":\"#2a3f5f\"}},\"ternary\":{\"aaxis\":{\"gridcolor\":\"white\",\"linecolor\":\"white\",\"ticks\":\"\"},\"baxis\":{\"gridcolor\":\"white\",\"linecolor\":\"white\",\"ticks\":\"\"},\"bgcolor\":\"#E5ECF6\",\"caxis\":{\"gridcolor\":\"white\",\"linecolor\":\"white\",\"ticks\":\"\"}},\"title\":{\"x\":0.05},\"xaxis\":{\"automargin\":true,\"gridcolor\":\"white\",\"linecolor\":\"white\",\"ticks\":\"\",\"title\":{\"standoff\":15},\"zerolinecolor\":\"white\",\"zerolinewidth\":2},\"yaxis\":{\"automargin\":true,\"gridcolor\":\"white\",\"linecolor\":\"white\",\"ticks\":\"\",\"title\":{\"standoff\":15},\"zerolinecolor\":\"white\",\"zerolinewidth\":2}}},\"xaxis\":{\"anchor\":\"y\",\"domain\":[0.0,1.0],\"title\":{\"text\":\"x\"}},\"yaxis\":{\"anchor\":\"x\",\"domain\":[0.0,1.0],\"title\":{\"text\":\"y\"}},\"legend\":{\"tracegroupgap\":0},\"title\":{\"text\":\"Variable Importance in PLS\"},\"barmode\":\"relative\"},                        {\"responsive\": true}                    ).then(function(){\n",
              "                            \n",
              "var gd = document.getElementById('fdca310d-1675-4a55-b7ff-6751cb918fee');\n",
              "var x = new MutationObserver(function (mutations, observer) {{\n",
              "        var display = window.getComputedStyle(gd).display;\n",
              "        if (!display || display === 'none') {{\n",
              "            console.log([gd, 'removed!']);\n",
              "            Plotly.purge(gd);\n",
              "            observer.disconnect();\n",
              "        }}\n",
              "}});\n",
              "\n",
              "// Listen for the removal of the full notebook cells\n",
              "var notebookContainer = gd.closest('#notebook-container');\n",
              "if (notebookContainer) {{\n",
              "    x.observe(notebookContainer, {childList: true});\n",
              "}}\n",
              "\n",
              "// Listen for the clearing of the current output cell\n",
              "var outputEl = gd.closest('.output');\n",
              "if (outputEl) {{\n",
              "    x.observe(outputEl, {childList: true});\n",
              "}}\n",
              "\n",
              "                        })                };                            </script>        </div>\n",
              "</body>\n",
              "</html>"
            ]
          },
          "metadata": {}
        }
      ]
    },
    {
      "cell_type": "markdown",
      "source": [
        "## Simulate Cross Validation\n",
        "\n"
      ],
      "metadata": {
        "id": "4NiwnjgvK6tg"
      }
    },
    {
      "cell_type": "markdown",
      "source": [
        "### Compute cross validation\n",
        "\n",
        "In this section, we will simulate a typical cross- validation to define the optimal number of latent variables.\n",
        "\n",
        "\n",
        "Nfold PLS1 models are trained using (Nfolds-1) folds. For each model, the sum of squared residuals (SSR) is calculated and summed up.\n",
        "\n",
        "This is repeated for different numbers of latent variables. The number of latent variables returning the least value of the SSRs is chosen as optimal.\n",
        "A second criterion is selected, namely the Bayesian Information Criterion (BIC), which is weighting the effect of the number of latent variables, i.e., if two values of the number of latent variables are returning a similar value of the SSR, then the one using less variables is chosen to be more likely to produce robust predictions.:"
      ],
      "metadata": {
        "id": "deBiKJUHLa9k"
      }
    },
    {
      "cell_type": "markdown",
      "source": [
        "\n",
        "![image.png](data:image/png;base64,iVBORw0KGgoAAAANSUhEUgAAA28AAAK3CAYAAAAS1XcKAAAK1mlDQ1BJQ0MgUHJvZmlsZQAASImVlwdUU9kWhs+96SGhhS4l9Ca9BZASegClV1EJSSChhJgQml0ZHMGxoCKCioKjIAqODkXGgoBiQRQbFnSCDArKOFiwoTIXeISZeeu9t96/1sn51s4+++x91j137QsA2YcpEKTD8gBk8LOE4f5e1Ni4eCruGYCADpADhsCMyRIJ6KGhwQDR7Px3vb+HeCO6bTEV69///69SZHNELACgBIST2CJWBsJtyHjGEgizAEDVIHb9nCzBFHcjrCREEkRYMsUpM/xuipOmGY2f9okM90ZYEwA8ickUpgBAMkHs1GxWChKHFICwNZ/N4yOci7A7i8tkI9yC8PyMjMwp/g1hE8RfAACZhDAt6S8xU/4WP0kan8lMkfJMXdPC+/BEgnRm3v95NP9bGeni2T2MkEHiCgPCkVkWOb/7aZlBUuYnLQqZZR572n+aueKAqFlmibzjZ5nN9AmSrk1fFDzLyTw/hjROFiNyljki34hZFmaGS/dKFnrTZ5kpnNtXnBYltXM5DGn8fG5kzCxn86IXzbIoLSJozsdbaheKw6X5c/j+XnP7+klrzxD9pV4eQ7o2ixsZIK2dOZc/h0+fiymKlebG5vj4zvlESf0FWV7SvQTpoVJ/Trq/1C7KjpCuzUIezrm1odIzTGUGhs4yCAW2wAlwgQUyWwOQxcnNmirCO1OQJ+SlcLOodOSmcagMPstyPtXW2tYWgKl7O/MovA2bvo+QSvecLfMA8giPI3dl25wtaTcAzRsBUHswZzOoBECuAICmDpZYmD1jQ0/9YAAReR8oAXWgDfSByXRmjsAVeAJfEAhCQCSIA0sBC8k5AwhBDlgJ1oFCUAy2gV2gHFSCalADjoOToBmcARfAJXAN3AR3wSMgAUPgJRgD78EEBEE4iAxRIHVIBzKEzCFbiAa5Q75QMBQOxUGJUArEh8TQSmgDVAyVQOXQQagW+gk6DV2ArkC90ANoABqB3kCfYRRMgpVgLdgItoJpMB0OgiPhJXAKvBzOhwvgLXAZXAUfg5vgC/A1+C4sgV/C4yiAkkGpoHRRFigayhsVgopHJaOEqNWoIlQpqgpVj2pFdaFuoySoUdQnNBZNQVPRFmhXdAA6Cs1CL0evRm9Gl6Nr0E3oTvRt9AB6DP0NQ8ZoYswxLhgGJhaTgsnBFGJKMYcxjZiLmLuYIcx7LBargjXGOmEDsHHYVOwK7GbsPmwDtg3bix3EjuNwOHWcOc4NF4Jj4rJwhbg9uGO487hbuCHcR7wMXgdvi/fDx+P5+PX4UvxR/Dn8Lfxz/ARBnmBIcCGEENiEPMJWwiFCK+EGYYgwQVQgGhPdiJHEVOI6YhmxnniR2E98KyMjoyfjLBMmw5NZK1Mmc0LmssyAzCeSIsmM5E1KIIlJW0hHSG2kB6S3ZDLZiOxJjidnkbeQa8kd5Cfkj7IUWUtZhixbdo1shWyT7C3ZV3IEOUM5utxSuXy5UrlTcjfkRuUJ8kby3vJM+dXyFfKn5fvkxxUoCjYKIQoZCpsVjipcURhWxCkaKfoqshULFKsVOxQHKSiKPsWbwqJsoByiXKQMKWGVjJUYSqlKxUrHlXqUxpQVle2Vo5VzlSuUzypLVFAqRioMlXSVrSonVe6pfFbVUqWrclQ3qdar3lL9oDZPzVONo1ak1qB2V+2zOlXdVz1Nfbt6s/pjDbSGmUaYRo7Gfo2LGqPzlOa5zmPNK5p3ct5DTVjTTDNcc4VmtWa35riWtpa/lkBrj1aH1qi2irandqr2Tu1z2iM6FB13HZ7OTp3zOi+oylQ6NZ1aRu2kjulq6gboinUP6vboTugZ60Xprddr0HusT9Sn6Sfr79Rv1x8z0DFYaLDSoM7goSHBkGbINdxt2GX4wcjYKMZoo1Gz0bCxmjHDON+4zrjfhGziYbLcpMrkjinWlGaaZrrP9KYZbOZgxjWrMLthDps7mvPM95n3zsfMd57Pn181v8+CZEG3yLaosxiwVLEMtlxv2Wz5ysrAKt5qu1WX1TdrB+t060PWj2wUbQJt1tu02ryxNbNl2VbY3rEj2/nZrbFrsXttb27Psd9vf9+B4rDQYaNDu8NXRydHoWO944iTgVOi016nPpoSLZS2mXbZGePs5bzG+YzzJxdHlyyXky5/uFq4prkedR1eYLyAs+DQgkE3PTem20E3iTvVPdH9gLvEQ9eD6VHl8dRT35PtedjzOd2Unko/Rn/lZe0l9Gr0+uDt4r3Ku80H5ePvU+TT46voG+Vb7vvET88vxa/Ob8zfwX+Ff1sAJiAoYHtAH0OLwWLUMsYCnQJXBXYGkYIigsqDngabBQuDWxfCCwMX7ljYv8hwEX9RcwgIYYTsCHkcahy6PPSXMGxYaFhF2LNwm/CV4V0RlIhlEUcj3kd6RW6NfBRlEiWOao+Wi06Iro3+EOMTUxIjibWKXRV7LU4jjhfXEo+Lj44/HD++2HfxrsVDCQ4JhQn3lhgvyV1yZanG0vSlZ5fJLWMuO5WISYxJPJr4hRnCrGKOJzGS9iaNsbxZu1kv2Z7snewRjhunhPM82S25JHk4xS1lR8oI14Nbyh3lefPKea9TA1IrUz+khaQdSZtMj0lvyMBnJGac5ivy0/idmdqZuZm9AnNBoUCy3GX5ruVjwiDhYREkWiJqyVJCGqRusYn4O/FAtnt2RfbHnOicU7kKufzc7jyzvE15z/P98n9cgV7BWtG+UnflupUDq+irDq6GVietbl+jv6ZgzdBa/7U164jr0tZdX2+9vmT9uw0xG1oLtArWFgx+5/9dXaFsobCwb6Prxsrv0d/zvu/ZZLdpz6ZvReyiq8XWxaXFXzazNl/9weaHsh8mtyRv6dnquHX/Nuw2/rZ72z2215QolOSXDO5YuKNpJ3Vn0c53u5btulJqX1q5m7hbvFtSFlzWssdgz7Y9X8q55XcrvCoa9mru3bT3wz72vlv7PffXV2pVFld+PsA7cP+g/8GmKqOq0mpsdXb1s0PRh7p+pP1Ye1jjcPHhr0f4RyQ14TWdtU61tUc1j26tg+vEdSPHEo7dPO5zvKXeov5gg0pD8QlwQnzixU+JP907GXSy/RTtVP3Phj/vbaQ0FjVBTXlNY83cZklLXEvv6cDT7a2urY2/WP5y5IzumYqzyme3niOeKzg3eT7//HiboG30QsqFwfZl7Y86YjvudIZ19lwMunj5kt+lji561/nLbpfPXHG5cvoq7WrzNcdrTd0O3Y3XHa439jj2NN1wutFy0/lma++C3nO3PG5duO1z+9Idxp1rdxfd7b0Xde9+X0Kf5D77/vCD9AevH2Y/nHi0th/TX/RY/nHpE80nVb+a/togcZScHfAZ6H4a8fTRIGvw5W+i374MFTwjPyt9rvO8dth2+MyI38jNF4tfDL0UvJwYLfxd4fe9r0xe/fyH5x/dY7FjQ6+FryffbH6r/vbIO/t37eOh40/eZ7yf+FD0Uf1jzSfap67PMZ+fT+R8wX0p+2r6tfVb0Lf+yYzJSQFTyJxuBVDIgJOTAXhzBOmL4wCg3ASAuHimr54WNPMtME3gP/FM7z0tRwCq+wCIXAFA8HUA9pQjrSwSXw75HgglI3ZnANvZSce/JEq2s52JRUJ6PsyTycm3SP+L2wHA122TkxNVk5Nfq5Fk+wFo48/081OyrgeAOTJF/VaXwD810+v/pcZ/zmAqA3vwz/lPYKoY0g8o++sAAABWZVhJZk1NACoAAAAIAAGHaQAEAAAAAQAAABoAAAAAAAOShgAHAAAAEgAAAESgAgAEAAAAAQAAA2+gAwAEAAAAAQAAArcAAAAAQVNDSUkAAABTY3JlZW5zaG90CIBWSAAAAdZpVFh0WE1MOmNvbS5hZG9iZS54bXAAAAAAADx4OnhtcG1ldGEgeG1sbnM6eD0iYWRvYmU6bnM6bWV0YS8iIHg6eG1wdGs9IlhNUCBDb3JlIDYuMC4wIj4KICAgPHJkZjpSREYgeG1sbnM6cmRmPSJodHRwOi8vd3d3LnczLm9yZy8xOTk5LzAyLzIyLXJkZi1zeW50YXgtbnMjIj4KICAgICAgPHJkZjpEZXNjcmlwdGlvbiByZGY6YWJvdXQ9IiIKICAgICAgICAgICAgeG1sbnM6ZXhpZj0iaHR0cDovL25zLmFkb2JlLmNvbS9leGlmLzEuMC8iPgogICAgICAgICA8ZXhpZjpQaXhlbFlEaW1lbnNpb24+Njk1PC9leGlmOlBpeGVsWURpbWVuc2lvbj4KICAgICAgICAgPGV4aWY6UGl4ZWxYRGltZW5zaW9uPjg3OTwvZXhpZjpQaXhlbFhEaW1lbnNpb24+CiAgICAgICAgIDxleGlmOlVzZXJDb21tZW50PlNjcmVlbnNob3Q8L2V4aWY6VXNlckNvbW1lbnQ+CiAgICAgIDwvcmRmOkRlc2NyaXB0aW9uPgogICA8L3JkZjpSREY+CjwveDp4bXBtZXRhPgobCV4PAABAAElEQVR4AeydB5xlRZm33xlmGBiGnPOQc04SJAdJCiyyiiAYdlVEd3HXXRf9Vr8N7uKyfgZWUdFVVhYBCUoQEJCcFBDJeUhDGhhyZvqrp67Vnr5zu/v2dLrhqd/vzj19Qp2qp+rcef/nfatqQk9KYZKABCQgAQlIQAISkIAEJCCBliYwsaVLZ+EkIAEJSEACEpCABCQgAQlIIBNQvNkRJCABCUhAAhKQgAQkIAEJtAEBxVsbNJJFlIAEJCABCUhAAhKQgAQkoHizD0hAAhKQgAQkIAEJSEACEmgDAoq3NmgkiygBCUhAAhKQgAQkIAEJSEDxZh+QgAQkIAEJSEACEpCABCTQBgQUb23QSBZRAhKQgAQkIAEJSEACEpCA4s0+IAEJSEACEpCABCQgAQlIoA0IKN7aoJEsogQkIAEJSEACEpCABCQgAcWbfUACEpCABCQgAQlIQAISkEAbEFC8tUEjWUQJSEACEpCABCQgAQlIQAKKN/uABCQgAQlIQAISkIAEJCCBNiCgeGuDRrKIEpCABCQgAQlIQAISkIAEFG/2AQlIQAISkIAEJCABCUhAAm1AQPHWBo1kESUgAQlIQAISkIAEJCABCSje7AMSkIAEJCABCUhAAhKQgATagIDirQ0aySJKQAISkIAEJCABCUhAAhJQvNkHJCABCUhAAhKQgAQkIAEJtAEBxVsbNJJFlIAEJCABCUhAAhKQgAQkoHizD0hAAhKQgAQkIAEJSEACEmgDAoq3NmgkiygBCUhAAhKQgAQkIAEJSEDxZh+QgAQkIAEJSEACEpCABCTQBgQUb23QSBZRAhKQgAQkIAEJSEACEpCA4s0+IAEJSEACEpCABCQgAQlIoA0IKN7aoJEsogQkIAEJSEACEpCABCQgAcWbfUACEpCABCQgAQlIQAISkEAbEFC8tUEjWUQJSEACEpCABCQgAQlIQAKKN/uABCQgAQlIQAISkIAEJCCBNiCgeGuDRrKIEpCABCQgAQlIQAISkIAEFG/2AQlIQAISkIAEJCABCUhAAm1AYFIblNEiSkACEugl8Morr8SsWbPitddey/umTp0aK664Ysw333y957ghAQlIoFsIzJkzJ5566ql48cUXo6enJ1d78cUXjyWWWCImT57cLRispwS6hoDirWua2opKoH0JPP3003HHHXfEnXfeGY899liveJswYUIsuOCCsfLKK8cKK6wQG2ywQWy++eYx//zzt29lW7jkv/nNb+L3v/99vPHGG72lXGeddWKvvfYKRHQz6bLLLovbb789Xn311d7Tt95669h2221zW/buHObGvffeG9dcc002aslqoYUWio033jh22mmnPjn/8pe/jHvuuSfeeeedvH/VVVeNXXfdNZZddtk+5w3ljx/+8Ie5jxZDeo011ogddtghll9++aFkM0/nvv7668FnscUWa3j9eeedl+v71ltv5eOrrLJK7Lzzzvn5aXhBG+88//zz46677oq333570FpMnDgxpkyZEossskgsuuiisfTSS8eaa645aJtdd911ccstt2ThVH8TfpfoSwO1+8UXX5x/26rPVMln/fXXz88FZalPnE+/vfXWW+Ohhx7qI974XaQOSy21VNCfN9lkk1h77bVj2rRp9dn0/o3woyz3339/77552VhmmWVi9913D/qVSQISGB0CirfR4WquEpDACBDAu3bTTTfFpZdeGldffXXcdttt8cwzzwRvmqtp0qRJ2fu22WabZcNhn332ycaD3rgqpeFvI6C/973vxYwZM3oz22233WL11VfPBmLvzn42EAw/+clPAqP65ZdfzmdhLH/+85+Pd73rXf1cNW+777777jjxxBOzcUsOGJUf+chH+og3xNWZZ54Zv/jFL7Lg4TyEzHrrrTcs8fbd7343i4YiCPfee+/MaCAjnnsPJyFQeLFx7bXXxptvvhlHHnlkw+zOPvvs4FPE84477hhrrbVWx4k32vacc86Jn//8571e+oZA0k7EDp8FFlggi168Vsstt1xstNFGscsuu+Q+gbBrlK666qr4/ve/n9nXH+f3iLwGaveTTjopfv3rXzcs4wc+8IFA+FfFW/GyXXjhhXHJJZfEb3/723jwwQd7Xz5Uy8DvIgJyyy23zCISUUV+1LU+Id5OPfXU/GzWHxvK3zCjPynehkLNcyUwNAKKt6Hx8mwJSGCMCDz//POBl+a///u/AwPphRde6PfOGK4PP/xwPPLII3HFFVcEXpe/+Iu/CLxChg31i23IB7bYYotslPHGvyTe1ON94O3+YAkPAV63Z599tvdUjDyMvWY9d70XDrKBkYuIKR4NtouYql6KoOScch5/178cqJ7fzHa5b7kffw83z4HuS8jczTffnI15hAAeo/7EW6P6Fg/hQPdox2P8LlTbdrA68LJo9uzZ2ZPFubw0wntLqPZBBx3U8HLauLR3/QmPP/54/OEPfwheJjVK/KZxHOHUqH806otEIfzv//5vfOc738mirVG+ZR/155njc+ONN2aBecQRR+TnrZxTvukDpW+UffPy3ajM85KP10hAAv0TULz1z8YjEpDAOBEg7IsQnq9//evZKMUgKImQSLw1hEtinGAAFS8CBgjG17e+9a1stB177LGx0korBSFRpuETIIxr3XXXzV7QMuZw5syZ2TvK37TJQAlhzXjFkvAAbLrpptnTVfb5PTQC8Dz33HMDDw7he4gAxJupMYH+fgv47agXsQi/66+/Pv71X/818KIRgtjf9Y3uxkuKEraJF6w+8SKD36tGwq3+XP5GRBKB8F//9V+9ApP9lAnPMi9AiDbgd5F8X3rppd4XFrzcOvnkk/Nv51/+5V/2G1ZLftU0lPpyXfFiVvNwWwISGFkCc/+ajGz+5iYBCUhgyATwImCg8F2EG2FLhABtuOGG+c0xg/ERDIQMYQRhJBXvCTf80Y9+lMOFDjnkkGywDLkQXjAXAcbRMG4Mb1nxvhH+iKfzvvvuy8fmuuiPO/BQIN4wKktaeOGFs8cOo3g8EoYmYV54PvCekDDSeTnQLgnujNu74YYbcpEbiYRqXXh+aIPyrOAxpV27ISFEttlmm7lCYhFtCCiYEJb9wAMP9I5hQwjx+/LTn/40/u7v/i6Pi2uWFS+VEE1PPPFE/u2qvw4hxouqZhN50dZ40kj0X/oqY0apF2PceLlFPagDHnHChxF9pEcffTSHaG611VY5HDTvHOAfeBFqORSv+PTp02PJJZccIFcPSUACwyWgeBsuQa+XgARGlABigDEkTIxRFW54aD760Y/GgQce2GcMCAYSoU3HHXdcFgcYWySuxRux/fbb54H6Q32DPKKV6qDMEDd434p4o2qEh2GIIuz6SxiweIbwBpSEcCIvxhqNV/rrv/7r+PSnP917e8RPf+Obek9q443Pfvaz8clPfrK3Bp1e396Kpg28Ul/60pf6DWPktwcRzFhJxsuV3xK+GTv3uc99btC+UcbZlpBZPKOM2+XFU33id6uIaH6fEGOIyHoPYLmO54xrSqKfvvvd786/l43G1TGWE68hL8FKeRi3SnkYyzdYom8wxhVBZpKABFqHgOKtddrCkkhAAokAxhMfvCElMXbtr/7qr+Lggw+eawwbb4UxRAgbev/73589QFyHYcN4LEQDE2oUgxyvA0ZaMZAI9cPzgOeFsUMcw5BiZjbeIPfnhUGEELLJ+WVME8YOQgSPErP9lXuWejT65nrG9/F2HEOuhFAVo5pyUL5m3n5TJvJC0NbnRblKXoOFNzYqZ9nHZB6ETxLWWkIn4UabffzjH+93pk8mV6BsJWGoMpFCoxA/GMCj1AXvRGkvrmPmSOqA95V6sW9eE/ehHiV/2gz2xQivz5e2fu6553L/LPXnGvoJE0sMZYwlBnWpJ3lV60kfpM350A/xqFTryXU8I7Av5Shlpf0Z/0miPFXDnus4PpT6lhA87kOZKQd1pmy0Ae1RLVspR/nmfjwr5WUMZeK64iVC4NB36bPkQ9vCk3oPhWe537x+83zwW0Ld8Fohlkj0R7xvRcwNlD/PKn0HDx6J0EnE0gEHHNDnMurLM1M8vvxecB9+D/q7D+2N960k+O+777592rcc4/t973tfrseTTz6Z+cMWxpSJ9h+ozar5uC0BCbQWAcVba7WHpZFA1xMgLIhB+SVhvGH47Lnnnv0achjbCLSPfexj8c1vfjMbf8yqRogYBmDVSCF/hEQxmhAQzAbIMgS8cWdgP4KA2Q+ZnfDP/uzPSlHyNwY2xiaTqTChAYYZs/yRHwYnk29st912efp8PFEYqY28fhjB1JPp9xFCTFyAYYZxTXmZpW56euPNJCHvec97cljUQHlhoFEm8mJWTox3jGby4rrVVlstCJdiWn++yb9RufpUtsEfGIx4zBBd3IeEwYknDrGMsKtPGIowrwpyDGXqVh8yCUd44mGgLngKCA1kP+XF4Kdd+bz3ve/NeRAuRh+Yl8TkD7R5ERYsN3H44YdnXtX8qAMGN+2EV+byyy/PobqUiTDSndMslVzH9UUYVa+v38aIpr2ZjId+RD0JAS71pA/Sf8gPb3OZubCISvodfRkPNSHDJdGvEBrM4Enb4/H5j//4j3I4zyhYFQ2014c+9KG5RDQCAsFFuZgdlLFf3AcGsCZfQi7333//PJ09S3XUC8xyU8qD56oID9r8wx/+cJ7REW8sbcAsmYT1wZMXBMyC+ed//ue5/vS56jNc8h2Nb+6PkOI5LuKN+yCsYDKY6KEvIGbp67QxLyCK8Ct9lDZilsiqiCb0kfBjnqX+Egxof64n0Vd4Bvk9oswl/+r1iFHKzAsHjvN7ynNHfUpfqp7vtgQk0AYE0kNtkoAEJNASBJKx05PWaetJRgorzeZPWp+oJxl+g5YvGVY9M2bM6Lngggt6kjHTk4yThtekMLme9Ga/N/899tijJ01s0pMW+u7dx72TAdbzN3/zN33ySMKt56KLLupJhnqfPEpZq9/JC9Nz1FFH9aTxKT3J2OqTD3+kMSk9SZQNmg95JnGS80qTg8yVDzuSaOpJ60n1JIO/Tx2q5SnbyUPZA4PkkWyYVzM7k4Dp+eAHP9jnXklo9pxwwgkNL0+em54kpvu0a1pioCeFWvY5nzZMRm1PmiK9JxnRffIv5a9+Jw9JTxqHlBnXt3eaDr8nhdr25pHWbev54he/2Od+XEM9qtzgmITRXOfRp6gf9ayWoWzTZ5PXpefHP/5xrmsyjHvPS7MN9iSB2JtnEoo9V155ZU/yjDRdz//7f/9vD+1f6pmWXOhJArb3HqUc1W8YJqHde182ksDsSWKo9zr6chJzfc6hfOllRk8SgLnvVfNstJ1C93qSAO1JwqO3fNUM03IMPUno9d6Tcv/P//xPz5e//OUB+396IdNzxhln5Hyr+TWzDacjjzyyT/5JuPQkITrg5Vz3u9/9rie91OktL3WmjyQxO9e1X/3qV3uSkO09N4nsnhQh0JOiBXr38ZuWXkD0XptEV657td/RjzkvCaze6w499NAenrWS0kyiuW9V24DfshT2m5+b5O3rSaKxh9+p0k/KtYN9p5c9PUmI996beyQxnp+twa71uAQkMLYEnIIt/UKZJCCB1iDAm33eWKefwd4C8Qa8GvbVe6Bug7fIvNHHi1bvbas7tc+fyVCLZHD3ecvOCbztx+NRUjKG8npgLEGA16WEqpW34bzV5q19SYRNMWkKM7sxI2M14eU5+uije/MhD96IE66VDLr8wYtR8uPN+s9+9rM8fqW8dS/5kRfhimXyg5JXyYdv8i554e1j8oXjjz++9w1+yavZb7w1eF0oY0nke3niAqf6lARvn3aljIxFxBtYTXjufvCDH+S6lnwoN/eBDd9VbwGeDerBmldVr141z5HYxtsK/3/6p3+K9IKgN8tq2Wh/ykD/wHNYyt97cmWjeHkZk1TOq+bVqJ5JvGW+eGZLgmN/iWPl0985jfbz7OHN+ed//ufssaPvlUQZqSef6r3xHh522GHZ8wurwRJ9hSVAqBNtWNqXfKsJT2QSzNnbWd0/nG148ww1+uBZw0PFGDE+JdHn6O/VvleONfrGC4nnvyT6BR7Gkrg3zLhfSXiS+wvRLuekF0z5uamy53eIyZ3wpu+3336ZKQuxEy7OMX4fSh8r+Qzlmzzoc818OLf+92ko9/JcCUigOQJ9fymbu8azJCABCYwKAcKmCAWqJsKzCIsbrcR4Hj4kjKJioHFfBEZJhAX+wz/8Qw7tKvv4Th6dHEZIGTHsMXxL6BOGLOF/n/nMZ/Ji0Bi/JMIBCdUrhi4hjITcMfkAY2Yw6ghtS16HHLbGNRiVlydxhEjbaaed2JUNpV/96lc5BKtwI0SSiV0I+8QYxHijDIStlUlGMMgJ1yQUrlrHnGkT/8AIAcckMtSDRAhYmXWSMYrVhDFZFR3UMXkZ+ohyRAPjjKhzSRj15JU8EHnJBxgQwgeHUl8MUwzhHXbYYdRmTUxesjj99NPnCufFQE+eu1w2QuN4CUCYXPXlQ6lL+eYYYZLUoyQENqGojOnkRQXj2JIHOdez5EU9uY5ZBQk5RZDzgoEQPVjQziUhghg3Rn/jnKEk7s2U8qeddlqfy8iPyWVod/otbUB7lPIhFgjV/OEPf5jDhqsCo09G6Y8SLowgJzSUGWEZL0hfJiQVQVcS/Z1+RXgzdR5OoqyEvVKXakJwwJD60Nb0warggSfPZ7P3pw0LF+5D+ClikDG5JO5FmGgRb4UtY2UHSvQ3+gicypi66vn8ZpTnkbKWkGteQtF2zZa/5Ek5eU4HastyLt8I3K985Ss5NLu6320JSGBkCSjeRpanuUlAAsMggFFYNZrICgNvqEbHUIuA8GJsG8YnhjHGYr23DKOEcWVVo4xxOwgzxuhg4GB0skjy1772tTwWjnLwNhqRhKeBMXkkzinCjb+5NzMAYpwVQ4mxKozjwwPCBAPcg3FPRVxyHUYnhlzVcE8hh9nbhxeymhd///u//3v2DmHIYQwXMUleQ02lPMVY5HqMX+pWFW8wwdCHQ0kIRsRxKR/7MegRvxiMJAxmynjqqadmgUxZYQ9DjFGM7GLk01ZFMOeLR/Af2NJ+fErC2GYK9W9/+9t53Bb1oC3wujGBBGO76vtxuZay8pKitBl9O4Vq5ln9EDDUk2sR4CzujGe4eDPw6CGSSRjxjDejXKyHSD8gwQ3vM95V0lDbGNGI2K6Wn/ZMIY75fqUdaGtm6uTc0maMTWT8Gi80Gk1Ekwv0x38Yo0VfZZZYRDr5Im7op8xwiOAhUXeeR0QlazYOJyGWeJ6qz1DJj77Fh/uVtuEYZaN9BpqMp+RRvhn3VsaUwpGXQ2WWSFjxsqEw4xrGyMJjsERZeEnBc/y3f/u3vS+dqteV3yfy59nE48c4YOqAt59njz7SbKr+Tg12Dfes9pvBzve4BCQwbwSaf4LnLX+vkoAEJNA0gUb/8WMYV438pjMbwomIBKYBJ4yPe+G9Km/FyQaPFR6AqgAhROkTn/hE9j4VYwijnv0Yf3//93+fQzExpjDeMKaLeMPIKUYW+SN4iheniBryRKQg4igThhuGfr3XoGoEkhfGN3nhzSB8i2vJC0MZo77kRX71eXF9s2l6mkyFN+14C5jEgoTIpC4YiSTasz5kkv07p8k9MHCrCQFNGyBa8OKwThXlr19knXLj/UG0FPHGd7W9qvkOd5tQzjJhSskLMZPGM2YBWhVHaXxmpHGSkcbW9YqPck35Xm655eIf//Ef8+ypiDEmlkGwUNdqXrQToXQY30W8VV9u0Bf44Hkr/a/cg78HC8Er51a/eTmBWHzoj+uIcYy+xFIKTBpU7S9sf/e7380hopSRPk9741FklsOBxBt141njGal6m6gPnkwEYBFvlIHnriqo2DevaShihBc5PEeEd/ISqdmEOKSdqSP9mL6Jp4xwWfo9Qq76/OPd4l7NJEQewp3nj5cHTFrT6HeTvOg3fHg+ENn8jtFveek0VI9sM2Wr1qmZ8z1HAhKYNwKKt3nj5lUSkMAYERhtgwBjiBn98HIV47kYxqWKhBji2Sll4Ty8HhjXVcMZoxSjCA8Znpk0qUTOAoGF9wBDHeOtPoQJI56xW4yRQwAQjkg4GflgADbyFJAx90PIVI/j1fm3f/u37L3gPuRFSB4GIveunlvqNy/f1LuUFU8CCcOYerIwMPfGqMS4LCKLczBqEX14JqqJciE4MOYJO4Mt+0qbYLzfeuut2aNJeGU1TwzU0jbVPEdim7apemEpD4KSENdStnIfynvQQQfFv/zLv/QRH+U435xDnyN0lHrSPrAseSFUqCezEfIpwo1rEQH9GeocH27CuEeslnvSvxhzykuEqnDjPpQXTyEzVSJuS+gxMzQyVo3npT9BguCk7zTypCGMef6qiTqPVvtW78M2fZDnhRc6zMzKc8MyJENNXAM7xBsJHswQSpsXL1zJk+e8KmLL/kbftAnn4kEjf5ZQIQybl0v0l0biFHbsZ0wxa19yPe3WTOL3jHs2k+gj9G+TBCQwugQUb6PL19wlIIEhEMBoqzcUED4j9da9UVEQEUwEUBVh1fMwfDCmq2XA8EYI9Wec4kVCvJRUjCeEDdcxxf13vvOdbNBhKGOUMw4NzxXii7ErGLjcB1GJEMSQxAtSTZQZsfCtb32rd5KM8paf/MiLsTWUE6MUY4+8WHYBUTjchHeFiRKKeKOehNNhTFJ/2o7JRKrsED0Y7f0ZebQ/wgDPC8YoBi+eIEQF+/DywamaJ/cdrYQoqa5PhzGLAU77NEqEDMKbOgwktEo9qQvhbUz5j+jhU+pJGxYh1eheI70PoUp4Ykl4m6grn0aJOtD+jNkrif5HPtShv+eD83nmGvUBjhUhW/IcqW/uhweaZwrueMIYo8p2SdwbT+gRRxyR+3C9aC3nDfZNP0CI0v9JiDdeOjBeFU9l6bPkTwjyUDxhcKdteI64D9cfeeSRWUAzpo++xLND/apjTWkbxmaybAfhl9RzoMTvMRP14BVuJlGHZs9tJj/PkYAEGhNQvDXm4l4JSGAcCPBGuN6gI4SuvNUfrEgYJ7xdxpPWrAFIGF5/hni5X/0MmAgwhFV/90Ao1XsVMNZKeCGhkcxc+JWvfCV7LSg3iXPwvPAhzAojDcHHZAd4sBgbR8hTCeHiOHnhaSMUb0YaM1aMffJifBSfkhceEsLiyIvxRYSolbxKXYfyjVGP5wixitAgwQqD9VOf+lQel8a9qyImLRHQrxiAAwYn49zwJJAnbV9muisGb30ZaQdYjEZCJJb2IX/6ykCeGMoC04HKQ34Y8BjGhH9ST8TOeNaTutHvqh5NPIQDCW2u4YVAvaeMPlcfzsu5JfGMVwVf2c/3QNyq583LNm1D6DDjvygfffXyNB7zx2mimTK7JCKL8ZSUjwmKBgr/HKgMPBt4j7kn/Z986dMIdbZLwsNXxseVfc1+w4rfLwQcH54PBCMvZ3hu8PrRx1j/kZcqJNqXZ4z+N5h4I3+8kNOnT8/X+o8EJNAaBBRvrdEOlkICEkgEMHbqhRSTPzCZxWAJIxuDhDFHeJUId2K2Nb7r86zmhfeq3visHme73qDESOpPSNRfW/27XIPxWpY0wEuFAcliyNW35FzH+RjUMGA8Eh4ChAECriTKzzg7QtgYX0ZeCNgysUU5j7zYh8AjL4w58kLAzWvCcMS4JeyLsW4kjEPCJvFoIBKLmOQYRiDGYKMQMQxcvIR4ETFyaXPKDHvKiUjEY4JxiieUUNZSx9EUb5S7muhn5b7V/c1uU088H3hei3Ar9aSf0mepJ1zxOjLDZBGPo11PWFf7OuXiM1Aa7Hh/11bv0985o7EfoVT1JBLGS5vgXcXrCWtCP1nGgbqxwDlLjww14VHDu4j4JVyafMmfdq8yY1bYgX6fyn3xiOJNwwtNCCT5IdgYI1oSTBHcfBBmeL/pS/yu8EKl3Bdhx0sxkwQk0J4EFG/t2W6WWgIdSQCPBkYrRg6ihcTbYzxGGCADGTmcf9ZZZ2XDH+8SAgDjKS1+myf96C+EC4MHo3ighDFUNTYJC6sXWtXr8bBhAFZTMazKPgQMk5FQX4RcCQ3krTjiq/4eiCJCnpiynkkUqp4LPH14E/CCMNshecEMQcg4JvKqCg6MP8Kr4EXYJeJoXhNG4rbbbtsr3jAQMYSZ8p0ZEDGMSyJkjLCqeu8qxykz1yBAi2cCQYq3kVBLjGwMb/Yxu2IJ1eTaatvw90gmhH1V3NPu1dDC+ntRf/pitd7Vc/Ckwh1vCHlRdgx82gGOGORMmINnF7Fe7ZujWU/KSNhbtS/gmWK8H3Xq7948n9UQVvLhOUXYt0OiPxHGzPN64oknZu849eXlBpOvTE8vHPBqz0vCI01II+KNxDOIYK8mPG/NhGbyAoeJXPDcIdzoX4RRM3at2mbVvPmNYOws3nle8pR24vqqh7V6jdsSkEDrE1C8tX4bWUIJdA0BDFXC6vA4IDhIGJB4dfBIYMQ3MiIJgUKosJYZCXGCGMDIxmjhM6+J+xGGiQFfBCXiBFHEeB+EXX3Cs4V3qCTywJDCkKsmRB55MukIeZEvRiRvxTGaGbuCkc94LxL1QtjOSN6z6pg6jpW88GxtvfXWOWyqmhdM8VbBhYQhSV4YhUweMa8JA5UJSPBmlLf5iC/CtTBaMYRJtC3hXP15MagjnoUi3BAvnH/MMcdkUVptdwzXku+8lrvZ6xBT1LEk+hqhoPQtjtUnxBls+ysf/RQPcRH/8GBJgM9+9rPZS1LqyX0wsscy0YaImZLob4ybpM/gwWmUCDEszwXHEeaEFSO02yVRXiZl4YUHLxBItB/i+ZRTTsmTg/C7NNRUxBsvJEjkWWWFaOO3pfoipr97wJX2KBOgcB5iDM8s/ae/xP24rtofeRaH85vY373cLwEJjA2BebdoxqZ83kUCEugyAniOMKAIm8OAJfG2mlnSMGzrJ0jAMGG8CuF2VcOG61g/iTC7Zowjzu8v4THCm4BAwghCPBASyFtt7lE1hBBgTDhSnVGO+1NuvEcY9ixkjMDjXMY7MYkIb//xFPIhFUHKdxFv7CcMsYgDykNeZWwY3xhyhFHizeFDIg/ujyFXxBv7EQdVY5J9Q014WDDs8SCce+65+XKMSgzhasJLgLDsz3uKWEWUlsR5CNR6YUn9EZ3Fi1DOH61vPC94F+l7tD0fRClhaExqUU3wZD2/IkCrx8o2YqjqlcUDi6ivn4yG+tHu/XnwSn6Uqwi+sq9qqJd9zXzzrFAORD6cyYd2PPPMM/PyD1UPUTnGs0p/LIk2w5s8lAk4yrXj9Y0wom/i0Sbklw8JBrzcwNNL2C4e0XrWA5UZIUwoeOk79eci3BB4jTzR9efiseYlCbxL+/L7wRpu5MHzXV82XhDwO0UIM3UpqT50tOz3WwISaA8Cirf2aCdLKYGuIYAQwIjCQEaMYagwRoMQJt6E77zzznlMG6FCiBKMK0LoyqxuBRShhBjXVU9COTbUbwQEU3OzhloxVBmf9f3vfz8LpyIQi3A77bTTekOlMKgoA2UpxhXHCe0soUuIFgzDPfbYo3d9Lgw66l4VKezDI0UYFAmDDM8AIZDlPIQB3hxCMkuoaMmr6slhH17DIhaHyqR6PnngFWUtqWJYVo+zjUCFQzUMsHoObKrHMDwRDrQ59SFf9nEPPJK0fUmj6YlDcCOuCOkt4ZIIsJNPPjnzw8uJMYynGNGDx3EgQUw9Sz+g/HiWEWn0cfKhLvQjxlzVG91FUJV680078imJ6xHx9C/EFkJym222KYcH/MaTiIebMXnlRQj9iT5GXmUxafoRLwEI4eXFSWkLvNMsoVEvRAe8aYsc5FlhBkYm8vl//+//9QpwntHL0zhSQhZZ13Eo4aC8gGD8LVx5WVOfuF+zL5YQaLQNv0V4/Um8uKJsTFjE88XLmlI+nhXO44UKYrQ8lxzn9wohOFiiv/HSbCheVPoJkQT8TpskIIHRIaB4Gx2u5ioBCQyDACFMiDcMZIxHDA/GoDCGCi8cRgpGAoYVHpv6CU0wUFjIllCnImCGUZzsWcNww8gm7A2hhHHE2CUEBt4GykMZEVKEzpWEQMKgLWFXeCQwtBi/VsQbBvD3vve9PAsc4hUjmLwIdWTsXknkhYgsgpS6EVrIGLki3hgTw+LJlAPDEcOevNhfHW+DIMIYxygcbsK4wzOBd6DqVSr54plkXB/Cs7+EAJyevFy0Owmv4hVXXBEnnHBC9oogSjBCEQyEZ/J3SdQPQ3Y0Ei8J4IShjRcDzgh4WFJGRCvtgZhh8hmEHfWlfMVgrpaLED36L/2WhGgj9I2QRUQiQohxj4QAU69qQsiWPlP209fpLyVxX/rfv//7v+e+j1BsVrwhnqkP4hjBxgyY1Jc+/7WvfS2YXIN+wz76Pd7lqkcHRnh9qxOClHK1wzd9kAXGCWvlJUFJ9C36IfXDQ1f1tJdzGn3DnpcyeNgaiTfGOPY3Xq0+P9oYwcWLLbxtiH4S/QWhT1vw/JAf/Q7RTp8s0QIlP8bF8lvEuYMl2hYhW33ZMNg19A8mQVK8DUbK4xKYdwKKt3ln55USkMAoEcDL8bGPfSwbIRixeKYwGIuIqzdqSzEwMhA0rIn2uc99LhvVQzE8Sj6NvvFkMbMbC2kjljCi8bAgivjUJ+6LMCIM9Kijjur1qHEe+WBg48nDCMOTwbg+PDcYvhjkGOocKyKF8DoM6+riuhiRiEresHM9Bht5IXLxniCmOIcxWhwreSGiMK4wBEcicQ+8gYicM844Y64s8cRgeCJw+0sYlYgDxgoiGigrXlVECIIWQxLxzDfhqtS5CBkEI94m6t6sYd1fORrt536wQpghtLkPAo4xenyqiZBBPC6Ur5GgJIyOEFP6EIY19eRc6omwwxjH6KavM1MqPIpAQtgi9vi7eNsQjngHqTflIvEyg1BHEuzg1KxIwLNDXekziEqeNfKl7nwaJe5N2N5nPvOZLG6qYrLR+a26D/GKV+rItGYaAprwXBJtxPOKp50lPnium/1d4YUL4g2W1YTHjRceQ2HF84xnkOcCcVl+B+krtBef/hJ142UOwooXPs0+JyXSoL986/fzjPNbbZKABEaPgOJt9NiaswQkMAwCGJ1HH310FjMYKhi7GKXFYK9mjWGCIME4wcvw13/91zl0qxi41XPndZu8EJR4zso4EjxA9QY6Rh1CCyMewcc19ROVYKQfe+yx+TwW7sVIxEgqRnK1jBh5GG28pWeJAAz/krgX47G+/OUv5xA+xtph+CMqMaAw8qoJwwrvAt67ww8/PE/xXz0+nG1Cw6gvoqGIxJIf3gzCWAdK1OOAAw7IAgERS4giRil8MaSLGEYEEoL6L//yL71irhpi2WgSkYHu28wxuOEtRVgRRoZXExFVEmWjX+CBpY3wEMK+vm9wPv2CGTSpH5N9IDqpJ+KaetLPeHnB8gsf+chH8oQteOlgyjkIPYQSHh0SYh/RjIcWD1n1+aBc5M2LAPpQM4lnifwQFQhDPDrUBUFNXtXEubQb4paXCLxcGAlPd/UeY71N+an/YYcdFscff3xvmDTlIHSS0Ob3vOc9TY/pwysNn9IW5AM3ft9ou6H8RnEuvyVf+MIX8vNO/6Ftqn2R/KuJdkRsIsp5DpnVlN8AkwQk0L4EFG/t23aWXAIdTwCDk8WeMabwLOH1IPwIoVMEAl4qDFk8NxjYeN3Y11/C+OEcDHESxmeZ2KO/a8p+DHTEGEKKEDk8bmUafgxbjCuMP8pSFgPuT7TggfnqV7+a86FuGGHFc8b9MPAQDZSN+5Efhn+jhHF43HHH9Xrc8JAgaIonhrwoO94xhBv1x3gcyYSHgYldCBGtf/OOKOP+AyWMW0QJCyNTNsISEQx4mfASlNBM+OPJgxdhpUWsIHKrXgJEHGFuRbRQPgzYauKeeD+4rpQZcdgovJM+huELQ7yLhL3SXrQ7bU7bEKqLcf+Tn/wkizLagES9uD+Je+64445ZuFMPxqYVYUQ9MbQR6Ecm7w8vI+jziLLSluRRFYXkRxgc5WcyC/oj26X/0BdL3biW+lHuwo0wwFI2jpMw+HnmuJbxpMx4iuepeP3Im2eMEDnuXQRBf0IEzyBtUURDo7ao3bn2L/0ID1hJjKEarP+Uc8s3XHguGD9YnnXKhzAeLNF3EG94/BHX1YT3F3alPLQhLy3KefxdDRvl+WdcJBMJFfELP3jU/06VFzPF00rf5EVQNdFH+A3j5QXevNI2xUNazi3tT38iH555eJRyl/PKN7813L/cu+wf6jf1rX9ZNdQ8PF8CEhiYwIT0Y9L3VdrA53tUAhKQwLgRwGjFC8EHgxQDDUMbY7+RwT3aBcWgxsArY7AwgBALGKmUrdnEzzB58MGwJmFAYwQiFpoNceI68oIPeRXxQF6UCSHYn4HNta2SEOZ4ixhXheENV4RE8TaNdzkpE54z2p5EO/UnrPMJ/fyDoUyoG5OD0JcItySfejHVz+Vz7UaolHFO9BmECmJiKH1xrkzTDtoDgYn3m7qTN2XESG+H/tSoTp20j99FvMH1L7UQzTz3PD8mCUigcwgo3jqnLa2JBCQgAQlIQAISkIAEJNDBBCZ2cN2smgQkIAEJSEACEpCABCQggY4hoHjrmKa0IhKQgAQkIAEJSEACEpBAJxNwwpJxat0y2QK3Z2Bxs4nxLHwYwzDYOAbOIw12XrP39jwJSEACEpCABCQgAQlIYPwIKN7GgT2Di1kElTV+mEGNGdD6m5GuWjwGtDPTHtOKM0MY1w6UGLjOvZikoJn8B8rLYxKQgAQkIAEJSEACEpDA+BJQvI0hfzxhF110UXzjG9/IM4zhfcMrxkxlH//4x/M05/XTAleLx0K0X/ziF/NU0P/xH/+Rp5+uHq9uI9y+/e1v5xnrWCtI8Val47YEJCABCUhAAhKQgATaj0Dz8XrtV7eWKjFTQrMm0b/+67/mqZURYaeddlr80z/9U17H5cQTT4wrrriiz1o+1QowLfXPf/7z7LFjAd5q2GX1PLYRbuTHAp6sRzPQufXX+rcEJCABCUhAAhKQgAQk0JoE9LyNUbuwNs7JJ5+cFzlFsLEYJmv6sIYT61X9+Mc/zsKMBVTZV02s3cJCrmeddVZMmTKleqjPNgLx8ssvj1NOOSUvIIvIM0lAAhKQgAQkIAEJSEACnUFA8TZG7chCpptvvnleSHjTTTeNadOm5ZBJFs9cZZVVYurUqfH000/nhVCr4g2v2d133529buxnIWLGyzVKiMNf/vKXeQKUPffcM+64445Gp7lPAhKQgAQkIAEJSEACEmhDAoq3MWq0yZMnx7777psnEGH8WXUGyEcffTRefPHFWG+99bI4qxbp4YcfjvPOOy9754444oi49NJLq4f7bDOmbvfddw/EIaKPMXImCUhAAhKQgAQkIAEJSKAzCCjexqgdEWtLL710792eeeaZPHMkXrQLL7wwFltssdhmm21imWWW6T3nueeey+PW7rrrrth///1j/fXXH1C87bHHHjH//PPnWSjvvffePLauNzM3JCABCUhAAhKQgAQkIIG2JqB4G6fmY3KSSy65JB544IG8ZADCa/XVV+8d08Y4uFtuuSWLt3XWWSc4zlIBA6VquOVA5zVz7D//8z9zGGcz53qOBCQgAQlIQAISkIAExoPAuuuuG8ys3i1J8TZOLc3aa7vssktsvPHGWaTNmDEjzzbJGDiO3XPPPXHxxRfnqf7f9773Za/dE088MWalJTyT8q2wwgpjds9Ov9Gvf/3rLM533HHHTq/qmNWPmVUvu+yy+NjHPjZm9+yWG33zm9+MQw89tE/EQLfUfbTqef7558cSSywR22677Wjdouvy5f/KG2+8MQ4//PCuq/toV/j444/PyxgRGWQaGQLnnHNOtvGYtM40MgRuv/32uP766xVvI4PTXAYiwOQlW2+9dTCTJALu+9//fvBQr7jiijncEfGEWEO4bbjhhgNlNWrH9tprr1y2UbtBl2XM2EYmqvnQhz7UZTUfvepee+218Yc//EGmo4D4pJNOyuN011prrVHIvTuzJJydCar8DRi59uf/SsaGy3R4TNNk1TFrVqSXyZFeJEcayhHx/POPxl13HZpe4i6eon8iNtgg0uRqw7tPt1/N/1fMKs6LMdPIEOClGJP1dVPS8zZOrc3YNBLGPG9heXPIOm78587EI7/97W/TD+msuPPOO/OC3pz70ksvxX333ZcnPaGjElbJf1hl5krOMUlAAhKQgAQkIIGhEHj++Yif/QzBFukFcu0TMad3OwUCJfsjUkROxPLLDyVnz5XAyBN44YVIM6pHmo090hrKy8TMmRtHCm6K9I48Xnkl4sADI3k4R/6+rZKj4m2MWoLFsnk7QPjBDjvskCcWKbdmGYHFF188FlhggeyJe/nll7Mgez79it5www3ltDzj5LPPPpu/r7vuurj11lvjoIMOyuf2nuSGBCQgAQlIQAISaIIAQ+kZkXHllRFpjrQgqn+33WoX/vznv4zPf/7DyQhePL1cjrjookhDOSJ74YykbAKup4wagZtuqvVZXjS8+OKkZBcvGMl0zn2Y/vyLX0R8+tOjdvtxz1jxNkZNgHj77ne/mxfmZgKS5dOrq4kTJ+a7Ezr51FNPBYtsL7nkktmljphDxFUTYo6ZKfHO7bPPPrHGGmso3KqA3JaABCQgAQlIoGkCeDAuv7xmCH/hC5HsisaXHnxwpJfLtZBKPG/pHbRJAmNOoHjcbrutFsa79970yZkpbPKG5G37aC4PLyF+/OPay4Y0KimWWy7S8lxjXtRRvaHibVTx/ilzwiQZ23ZRenXFRCRMWsF6b2+++WbclnrhTek1wrLLLhsIu/L509W1LcbAsfA2k5u8+93vzksL1J/j361LgNlEmZDGNHIEeMnBuoamkSfAmNypDnAZUbCMH6wuGTOimXdpZrzw5P9W07wRePLJSMM2at62euHGkA4igkpKQ/Czhw7DGeTJhDENkQD2nRPBDRHaH09PPpC45pqIq6+uvTxIPoyGKc0JlSYxi/jSlyKNiY/4q7+KFO3W8NS23al4G6OmQ7wxjSkLZ5988slZgCHW8K4x3o1lAA455BD/Exqj9hiP27CAevG2jsf9O/Geq622WlfNMDWWbfiZz3ymz7qTY3nvTr3X3uk18aRJ/rc7ku279tprpzfr6dW6aZ4I4KWYOTPiAx+Y+/JjjjkmD/UoRxZdtBZW+cgjkZY5ithss3LE72YJvPe97+1dEqrZazyvRuDFFyN+9atI0WmRos8GprLQQpFmoK316099SvE2MC2P9ksAo51ZI4899tj46U9/mmZwuituvvnmvBQAM0zuu+++eeKSRfl17CchADFWX0h+YyYpGSjxxnzNNdfMnh7fng9EymPtRoBZ0YgoTsM/02dCinGfnMds8IKYxyc9TiYJSEACXU8gLRcbc+ZEGg8UgdeC307GuKWAn7yPYw8+WBsnlOZIy/umTKlh4/vZZyenUMkJedKSkhfXp8k9U7RQbfzbSEMuZRzpfEt+1Jn6j0WCYX243uzZk5IXaGIaQjMyJeBdEOO+RjOR/2i/c4JT6Xv91eWZZ2r/9zOpDhOTlPTMMwukvp3cbZVEeZmoHZugvg0qp7Xtpq8Ax7jpCO/42te+lhfAfib1RNb8WWqppbKIG6wohId8uskRmITofYEAdpMEOowAg5GvuirShD0RjzwyOZ58cuH8HyEv35MzOz6awt7TO46O/MHusKa0OhKQwBAIIDwQT2lC6ixAyjaz65EQWOUbgYKRy740UXVeBuD112vj1njxxQswzklD6OP3v480MQkTP9R+QzF2Gdc2depCyfidkCJGIs16XTt/xoyI2bMjjdOPSPOmjXiiXJRjtBJ1ZkmEsUiE7/1xaoPe27311kI5AmekBNfCC0cKbe3NflQ2EFXcZzQTPOA1UKIPpmUd82ySpc9z/r33rpyeie3nupQ8U/T/qIvbuW48BjsUb2MAudEtlllmGUOSGoFxnwT6IYChwn/qac6etDB3pHVyInbf/c1kSMzOEwBhkPBu46ijIq2bWJsmuP4/zn6ydrcEJCCBMSfAbxqJbzxOiLLieUKoFbHGcbYRX0WQIZ74zeMYU6aTnn66dh77OY7XAcM+DQ3OEQl4exinxtKNHGMI9kMP1fJNoznSGoS1fMq/jzzyfBqfNTV5XZJ6+2P63/+thUwyUYTrTBcqjb950Uh7VtNzz72UZxsfLHqqes1A2wjpqpAZ6Nx5PcZENYTXjmaCE+MvB0p4j+nP9OPqbKfTpr2dGKRC1iVeQiAI9bzVgfFPCUhAAmNFgPCetG50fov27W9Hmpm1ZnSU+/P3j34U8fd/H2kcXARGRnpH0pE/3KXOfktAAq1BAOHFB5FVtsvfRZhxjMTfbGPc843oYtwZXiGMZPZjMDOzHtscY5v5g/idwxPCGlZEGzB1P9P7k9jHCyv2sz1YGBrXpNEb+YOIqxdvHK8mvHh46ijDCitUj7jdiECj9fAWWGBOapeeEfNkdfJaZvVM6XsIuM03j/jgB//k1Tz//IfSbJOXptMP6XMJz9m119ZecDTzLPS5uMX/0PPW4g1k8SQggZoxxDpE/AAfcUTNeGjEBePmG9+IOOCAiDPOiPjwh50RrREn90lAAoMTQHyRihir/dX373IM0UXIHyKLTxmXi2fkzjtrwqyINcbr8Fl55ZoBihBCODEjHi+c1l33T94F9nPeYCFlpWxD/SbEPE1enYZzRGy3XW1sU72noojQSy+NeO212kQlirehkvb84RJIcxPl/ocgSxOhRhodNGDiZQjPXHmOBzy5zQ4q3tqswSyuBLqRADObFWOnfjrreh7EuZ99ds0YYkYqp7OuJ+TfEpDAYASK4cfbe2ZX5ENKE0bn3yL+xgvAOBy2ebE0LY0LWnSRWkgXc4ohuPiwJhoeMjwx/D4hxvhURVLZ5rtsc7/6v9k3komQSl6IbbNNxK671iIWKFs1YQCfe27tGFENzPZnksB4EEiTIMf//E9tuYCBxBsvU5ht8jvfGf0xgePBQfE2HtS9pwQkMCQChEwSDjR9el/Dpr9MmGmK0CEMJZMEJCABxtOUySp4EURYIuPHEGPFU4bBh2fpscdqk3LgBeM3BC9T8TTxu7LRRhF77VXzlCHOOMY4HIQWv1NFcJW/y+9QGYPL32W7FVqGsiDYWBtrq60i3v/+2t8LLLBQzJgxIc8uSf2OO67mdeu0NbNaoQ0sQ3ME8L6xfhtDKL7+9YjPfa7vdTzjrO3G0IpTT62N6xztmTL7lmBs/lK8jQ1n7yIBCQyDAAPwMYR4S1xNf/jD/PGXf7lkNsIwiKpjDO6+O+Loo2tGFUYYBgdjNarrpDODFgP3CbfECOPt+dJL10KHMNJMEpBAaxIgLBHx9fzzE9M4rMl57BjCi1loCZNClJHwGrHNc473i98QZqXld4Dnn23GDfEbwDn8BrCP34oiujD+igHIPrb55jep/M12Oyc8hYg2vISXXFIbh3fHHVPS+KIJ8clP1n4fC8N2rqdlb28CPG88q2nZ3PjudyM22IDncbX0HO4eeOV41vld4HgnR92knyCTBCQggdYmUAb6V99WM/PazJkT0lIb86W1E/80y1qpyUEHRey5Z80QKzO0MWU2b9lLwrBjpi7y4hhv7ThOqBRv4UtCFBbjDCGIEUjCEMQIxKgpSy/yH0uZCQvBmFYCycYe11H+qsCs5eK/EuhuAmXyDijgIeO55BlkSne2yyyLbPPhWWXWOcTXfPNNTs/fQtnTzvNGWDXPKmGAJEQYzyDnsx/hxfPLs4ghWN3mb/azr4i1Wi6d/y9s8K7BD2ZMTvLwwy/GqqsukP6emFl1PgVr2C4EmDH1H/6hFvJ74YWT4oILFswecf7PX2+9P/0f3C71GWo5FW9DJeb5EpDAmBPgzfh999VmXdtii9rtMeLuuuudNNj+zbQY59T8th3xVRLX7LJLbewb+3kbj0FShCDnlSm6MRTLdNzl3GpeTDpQUhF3/M3bf87jjT8zxpEYB1OmbiZPljfgnlxHGap5FS8f1yEEMTBJGKUYUnzK20M8ApyDYYkxSsLgKh7CEuJVO+K/rULgggtq44XoH1OmLJQ9RfSLtORnnlgHT0enJfo4gou+z7PAh21eiLDAM88M2zyPTGnPuDH6NokXH2wjouj7/M03E2swJqs8J8Xj9eabb6V8Xk6hiwvka8pLFJ4XEoKObZ4V0+AE4FTa4vXX384RCbA2SaCVCPD/IOHKeMkfeeTR5H2/Og46aL/8MpX/Nzs9Kd46vYWtnwQ6gMCmm0bcfntt1jamCSbEkUkCZs+ek2adSmoppmbjjB90jMFvfatmGPPjXsTPcDBgiJYZqxBnRQBifCL8+MYgJ5W/yzaGKudzHQmhVxLir+TFGBzyIXE/ruPD+BsS+WMEk38Rh5QJo5iEN6KUEeMLo5VE/UuoKF5BhCEisXgH8TDAE2MZAVjSm2+mHSnxnyNcTUMn8M1vRtx4Y22hWDzBc+a8kT7zJf7z53EZjNuYMSPisMOGnvdYXkE/RJDRBxGhiC0S2+VDv0SQ8XfxaNHPEE7lg1FFX8NTveqqtfPoj/TR8uKCbz70R/ow29X86MtVr9irr85Jz8DbvS8xaiXzXwlIoBsI8NswZcrr6f+42b0vNbuh3oq3bmhl6yiBNieAsbfvvrVZJE85pTZZAG/wX399Tqy/frIsU0IE4Y27+OKaQcyg5pEQbuRdDEu2ixBie7gJIVcEF4INA5iEiKt+2McxzqGefJeE6CPx3SgvDO8iCvnm7zKNOdeRX7m25MX+WbMWS/8pzpdFZxGYRfhxvHgG2cY4p40wqstbe4xvwq9IeAr5m4RoRAxyPtd1aqKfMjHGgQfWpmBHGL/wwtuZEXVn4D0sbrmlRmAsBRxjSOlPhBMjxOgTiH/CFOmTxVtGP+M4fxdBRbvzDJQwO14IMNkF7cv4E/7mQ19AfPFNe/MhD/pQzeCqXcO5I/lMdWp/sl4SkIAECgHFWyHhtwQk0NIEpk+vjWM566yI44+vGYWMz8AbwCDlO+6IOOecWhjhpz5VM46rb+hbsXJVoxUjdqQSBngRgnj8quKNv2FWBGBVvBWPHuV49NHXkvidPxn2E3vzIp+SL98lX/Ionj/GLJEQksXbWO7FfoQC55dv9hWDn20EHQY+ifZD4CAM8NiUhEBkH8dKG3MN1xZxUc4dj2+8baefHnn2PkL9SihftSwrrhix3341TjfcUFtoebBFkqvXV7cR3XzgjDCjLegDeKdpJ7xmtAfH+CCqEF98w6x4tso2TGHM/jXXrImrIt6oC+1VxFsR8bQH/ZnjXGeSgAQkIIHRIaB4Gx2u5ioBCYwCAaboRjDg1bj5ZgzTSSlEclpvKCAhfnvvHcG4OIzJbk1VUdhIODTD5bHHXkshk4tkj0k5H0FQBBviq4gz9hXBWLx3iAVEBAlPX/EKIhARFNW8EHN8SHwXgYjILGIQIVJSKQPHS75cU/IpeRUxx3V4forXB9FXEiIFIULCU4tw4TzOJxXPEOKlWYHNOoP0w+23byzcajnXPJPMisY9r7464tBDa3Uv4yMJQyzCi30ldBGubHOcNqCvlw/lRjzxN/WnbuTPN2HECET6BMcRXoUJfabUm+v4FGbV/lTK7rcEJCABCYwPgfSTbpKABCTQHgQwLvEEEJ6F4b7ddj0prOvtHJaHUbr++rUQrvaoTfuVEiN+NAx5PEZFCCIKiwBEkBXhV8b2QQ3xgkDjWBF6XFNEZMmLc4u4YxsBRML7VFL1eBF91X1sl0+5BlGD8CEhlBB9iKMiChFiTEjCtPUkzuWaN96YmETTxLxNWRBf1JdlLfC+IVCpWxGTCKxG2+zjU0JUYad05AAAQABJREFUEZZ88KRRFkQm4ouXGeTBc8P5HCNks+RZK53/SkACEpBAOxFQvLVTa1lWCUggZsyojc054ACWAngneSBeTdPvJ4vU1LYEivgY6Qog4ooQROwX0VdEHPdju4g1BGIRjMW7h4ewiEu2SQiuchwhhBeMhFAiIcp++9uaUOLvIpZef31KOme+LLK4J2KRb0Qbob9FuFXFIIKwCC+2EYt4ztjmg0gzSUACEpBA9xBQvHVPW1tTCbQ9AYzmBx+seVy22qrtq2MFRpkAwqYqbliaYSQSwg2hRULsMfEHIqyIuN/9LtLixn+asIVzuebpp3uS160ne8wQXkzkgrfs3ntr1//d3/1J8NVy918JSEACEpBAXwKKt748/EsCEmhhAjNnRp5RkoWu+VQnwmjhYlu0DiNACGR1ApV6Ucgag/TPbbftO07u2WdfT+PPJqXQxRTjWEl41gidJKTRJAEJSEACEhiIwB+DPAY6xWMSkIAExp8Angs8FITClYW6x79UlkACcxNgGYDTTou4554/hVfOfVZt3CZLXrCW3447NjrDfRKQgAQkIIG+BBRvfXn4lwQk0KIECE1jbBDjozCOTRJoVQJ/8ze1yURYc/CBBxoLOLzG999fW96CMMtddmnV2lguCUhAAhJoJQKKt1ZqDcsiAQn0S4AJHViEm8WOWRTYJIFWJnDccbX+ev75tclLHnqIWS4npHFxE7Kn7frrI37xi5r37fDDW7kmlk0CEpCABFqJgGPeWqk1LIsEJNCQAJNCXHddzdDdeeeGp7hTAi1H4ItfjDjxxIgTTqgtHr/iipOT53i+mDUr4r77auG/xxzTcsW2QBKQgAQk0MIEFG8t3DgWTQISqBHA2GWyEta1WnVVqUigPQgwkcn/+T+1sW8sHXD11VPSMgMTgsXmP//5iE02aY96WEoJSEACEmgdAoq31mkLSyIBCfRDgLFBrG+12mr9nOBuCbQwgXXWieCz994v/XG2SaeVbOHmsmgSkIAEWpqAY95aunksnAQkAIGbbqqJt003lYcEJCABCUhAAhLoXgKKt+5te2sugbYg8OyztVkmCZmcPr0timwhJSABCUhAAhKQwKgQULyNClYzlYAERorADTdETJsWscEGESxmbJKABCQgAQlIQALdSkDx1q0tb70l0AYE8LoxxfpSS0WsskobFNgiSkACEpCABCQggVEkoHgbRbhmLQEJDI8As0yyMDdruynehsfSqyUgAQlIQAISaH8Cirf2b0NrIIGOJfDrX0cssUTExhtHTJ7csdW0YhKQgAQkIAEJSKApAoq3pjB5kgQkMNYEZs+OuOOOiBVXdKKSsWbv/SQgAQlIQAISaE0CirfWbBdLJYGuJ3DffRHzzx+x3HIRCyzQ9TgEIAEJSEACEpCABELxZieQgARaksB119W8bo51a8nmsVASkIAEJCABCYwDAcXbOED3lhKQwMAEXnwx4vbba5OUrLTSwOd6VAISkIAEJCABCXQLAcVbt7S09ZRAGxH4/e9roZJ43aZObaOCW1QJSEACEpCABCQwigQUb6MI16wlIIGhE3j55YibbopYa62IFVYY+vVeIQEJSEACEpCABDqVgOKtU1vWekmgTQk88URtbbc11qgtzt2m1bDYEpCABCQgAQlIYMQJKN5GHKkZSkACwyFw4421WSZXXz1i2rTh5OS1EpCABCQgAQlIoLMIKN46qz2tjQTamsBrr0Wcd17EtttGrLxyW1fFwktAAhKQgAQkIIERJ6B4G3GkZigBCcwrgQcfjHjllYjVVtPrNq8MvU4CEpCABCQggc4loHjr3La1ZhJoOwLXXhuxwQYRiy7adkW3wBKQgAQkIAEJSGDUCSjeRh2xN5CABJoh8NZbERddFPGudzlRSTO8PEcCEpCABCQgge4joHjrvja3xhJoSQKETD73XMR66xky2ZINZKEkIAEJSEACEhh3Aoq3cW8CCyABCcyZE3HWWRG77x6x2GLykIAEJCABCUhAAhJoREDx1oiK+yQggTEj0NNTW9eN8W577ql4GzPw3kgCEpCABCQggbYjoHhruyazwBLoPAKPPhqB922FFWprvHVeDa2RBCQgAQlIQAISGD4BxdvwGZqDBCQwDALvvBPx9a9HfPSjet2GgdFLJSABCUhAAhLoAgKKty5oZKsogVYlgLftscci7r03YrvtIhZcsFVLarkkIAEJSEACEpDA+BNQvI1/G1gCCXQtgbffjrjxxogNN6zNMDlhQteisOISkIAEJCABCUhgUAKKt0EReYIEJDBaBN58M+KccyIOOMCxbqPF2HwlIAEJSEACEugcAoq3zmlLayKBtiLAWLcnnoi4446IXXZRvLVV41lYCUhAAhKQgATGhYDibVywe1MJSOC11yKuuCJiq60illoqwpBJ+4QEJCABCUhAAhIYmMCkgQ97tErg7TRA57E0u8Irr7ySJlZYMJZddtlYaKGFqqc03O5JC1m99NJL8fjjj8fKK6+cr5lQZ6lyzjPPPBPPPvtsMmInJGN2qVhyySXzdsNMG+wkD8rId30iz4kTJ8Z8881Xf8i/JTDmBPC6zZwZcc01EYcdFqlvjnkRvKEEJCABCUhAAhJoOwKKtyab7J577olLLrkk7r///nj11VdjypQpsdJKK8WOO+4YG2+8cUydOrXfnDj/lFNOiT/84Q9x1FFHxXrrrReTJv0J/XPPPRdXXXVV/Pa3v83ijYyWWWaZ2GabbWL77bePRRddtN+8qweuTasc35hmf0Ao1ieE4Lbbbhubb755/SH/lsCYE2Cs2yOPROrvNc+b4m3Mm8AbSkACEpCABCTQhgT+pCDasPBjVWQ8Zj/5yU/i5ptvjnXXXTfWXnvtmD17dlx//fUxY8aMOPTQQ7MwauTVev311+O6666LU089NZ5++uk45JBD+njG3nrrrbjooovi7LPPzgKQvPGeIRYfeOCBeDNZufvtt18fsddfvSlPyWfatGl9TltxxRVzufvs9A8JjBOBF1+M9MIi4t3vjlhkkXEqhLeVgAQkIAEJSEACbUZA8dZEg1188cVx6aWXxr777hsHHXRQrL766oG3DKH0q1/9KnvNEF14y6oJEYa4++lPfxrPP/989VDv9n333ZfzwJN38MEHZ08b11155ZVx1llnxYUXXhjrr79+U8Lr4YcfziGZ73vf+2KNNdbovQcbhHdOnz69zz7/kMB4ECgTldxwQ8SJJ45HCbynBCQgAQlIQAISaE8Circm2m3WrFlZDCHcCHnEw0aYJCGNt9xySwr/eiTNmvdEH/HGuDPGr11wwQWBqELc3X777XPd7eqrr87j6P78z/8857f44ovnc3ZJ0+/h8TvvvPOyh4/rB0qEZnL+CiusEDvttFNssMEGA53uMQmMG4HUVZNXubaum+8Txq0ZvLEEJCABCUhAAm1IQPHWRKO95z3vic022yxWXXXVPhN+EPKIl2yBBRaYa2KRl19+OYuu3/zmNznsEc9bvXhD4N15550xZ86cLA6LcKNISyyxRKy22mrBPQih5Nz6SU6qRUe4vZam78NLx7lMrPJOcnEwsQpj5vDsmSTQCgRwQqfhn+klQyuUxjJIQAISkIAEJCCB9iGgeGuirTbaaKPgQ2IMG7NNMjMkXjNE2pZbbhmMKSuJcWqIsnPPPTfWWmutwKv2ve99rxzu/UZc4Z1DtC288MK9+8sGoosP5yDwGo2pK+c++OCDuWyIPcrFmDzKgQhknB7lZ3bMgQRgyat8M4EK9awmBCzePdPQCSCumfFz/vnnH/rFHXJF6sbJUz1f3HrrpPjyl99Ik/8Mr2I8j3DF82waWQKF6+TJk0c24y7ODaZMViXTkesEMC19deRyNScI8PvKb2t1gjXJDI8AfRXbbyB7bnh36OyrsXWfeuqpPpWsd4z0OdihfyjehtiweMGYuOSGNGCHDkMY5bve9a48rT9ZIbLwejFOjlkfjz766DQhQ+MZGXiIEVuEYDb6z5wfTAx9zuEHtJHAK8Uv4o1y3XvvvdnjhleQSVLwvjEOjrDPpZdeulwy6Dchn/UTn+y9996x8847D3qtJ8xNgP6AeBuKgJ47l/be8+KLE5LXbf7Ur6fG8su/GExcMpz0xhtv5OdsoNleh5N/N1/LiymiChr9NnUzl+HUnd8ADeHhEJz7Wv4fpa/y/5xpZAnQX/lttc+OHFeYYtcRIWUaOgHmg8DOrSYcHFUHSvVYp24r3obYskwwwpT8iCLEFMKs/OeB0HnhhRfS2lXXxO9+97v4sz/7s9h0002TgdrYQuU6xB4PMkZ9fSprs2Gg4kkbSLwh1JgwZZ111okDDjggNtxww/wfGssbMPHJL3/5y1hsscXi/e9/f8N71d+bv7/85S/nZRAaHXPf0AmUdqYdujHhdUu/senlRqQXCRHLLbfcsDHwZhiuI5HXsAvTYRnwm4K3XvE2cg0LSwzhZpd/Gbk7d25OvNhEuPkbMPJtTPQOXBVvI8cWlgxjGcieG7m7dV5OLLfFp5rOP//8bONW93X6tuJtiC28zz77ZC8WIg3P1Omnn55mzDsx/uIv/iJ22GGH7JVjBkrEE+JtoMQDjGjjDUx/b2HYzzmD/XjuueeeWShy3zJ2jh+HD3zgA9lz9/3vfz9uuummwHPWnydwoLJ6TALDJUBkY1omMb34iNh11+Hm5vUSkIAEJCABCUig+wgo3obY5iU8a6mllsrru+ERYykAxofh+WJqf7wBiClCOcoHLxuJiUuI1+WNNiFJxD0TFokHrj4RF82H87jfQAmPG5/6xJveVVZZJbuUcS0/+uijzkRZD8m/x4RAihaJmTMjvVxgEfoxuaU3kYAEJCABCUhAAh1FQPHWRHMSlkEIY/GUlUvwhq288sp5HBlhlL///e/joYceymPOPv3pT5fT8jciDC/aF7/4xexJ+9nPfpbHyxHyxVIEhEbWJ/Zx7+WXXz6HhtUfr/6NYCT/+jJyDgKxDI7t5vFWVV5ujy2B1DXTrKmRwokjPvvZsb23d5OABCQgAQlIQAKdQkDxNkhL4hX70Ic+lGdt/MpXvpLFWvUSxoXwwSO35pprBuuzMYlJNRE3fuutt8aMtGD3tttum2PICW1ESLHgN5Og4MFDfBVxxTaijvFyzPA4UOL+X/rSl7LQO+aYY/IMl9Xz8fohApklcigTllTzcFsCwyGQJmhNs0xG8jJHbLLJcHLyWglIQAISkIAEJNC9BBRvg7Q9YYcIM2aYfCCtLExoJN4tUvG2ERpJaOLWW28dW2yxxVzj15hd6D//8z+zeGMM2nbbbZfzRKhx/vXXX59nz2GNNtZ2IzExCvdEbG0yiLWLBxChh0BkTN5KK63UO/MWoZJ4BAnXZNmCwcIv8839RwIjTICZfVl1Ig3JNElAAhKQgAQkIAEJzCMBxVsT4D7+8Y9nz9a//du/5QlAGFuGYGNikuuuuy523HHH7HFjYpFGs0YiAEvYIkKLUMniYdsprVR8xRVXBIt5k/ib8W/MEsmslrvttlsWexzDg8Yabl/96lezUDzuuOPYndPhhx+ex7N94xvfyN+s60bY5aWXXhpMrYrHb7/99uu9b7nObwmMBYEUTZxeXkR8+MNjcTfvIQEJSEACEpCABDqTgOKtiXZF+Bx77LHx4x//OH74wx9mAYTAwiPHtPwHHnhgTJ8+vYmc5j6FPD7xiU/kSUlYYuCyyy7Lnjv2MzMkIZtskwilRJDhZWO2y2rafvvt43Of+1yccsop+YM45HwmO9lrr73i4IMPzh656jVuS2AsCKT3HPHww5HCiyMtPTEWd/QeEpCABCQgAQlIoDMJKN6aaFcE0M5pYWrCGlmAm3BJpttnIhFmjWTdroGm8l9ooYXiU5/6VHzwgx/MY+aq5yKyGNPGuhUIwccffzyLQxYc5LPEEkv0essox7vf/e68PAF5VlMpI0sFMKMkZUT0UUY+jLEr3r/qdW5LYLQJPPhgpBlWI7baKlLI8WjfzfwlIAEJSEACEpBA5xJQvDXZtoglxqMhqJiApIQ/NgqTrM8S0cRkIXwaJY4jAhmPVqb7Z1xdvdjiXizu2t8Cr5SRD2KNMnI9IZr1+TQqg/skMBoEmKjkjjsiLZ8R6cXDaNzBPCUgAQlIQAISkED3EFC8DbGtEUN8RiMhskqI5HDyH80yDqdcXtt9BIjuffLJmsdtkElTuw+ONZaABCQgAQlIQAJDJDBxiOd7ugQkIIGmCdx+e6RlMCK22SbSS4+mL/NECUhAAhKQgAQkIIEGBBRvDaC4SwISGD6BtLRg3H13pNlTI7bccvj5mYMEJCABCUhAAhLodgKKt27vAdZfAqNEYObMSLOiRlqUPtKkPqN0E7OVgAQkIAEJSEACXURA8dZFjW1VJTCWBPC6vfOOC3OPJXPvJQEJSEACEpBAZxNQvHV2+1o7CYwLAWaXvOeeSLOyKt7GpQG8qQQkIAEJSEACHUlA8daRzWqlJDC+BB56qBYyudJKkZbAGN+yeHcJSEACEpCABCTQKQQUb53SktZDAi1C4I03Im6+OdKyFxGbbNIihbIYEpCABCQgAQlIoAMIKN46oBGtggRaicCzz0bcd1/EEktErLVWK5XMskhAAhKQgAQkIIH2JqB4a+/2s/QSaDkCDz4Y8fbbESuuGDFtWssVzwJJQAISkIAEJCCBtiWgeGvbprPgEmg9Aoi2Sy+NWHLJiC22aL3yWSIJSEACEpCABCTQzgQUb+3cepZdAi1G4MknI556KmLZZWvru7VY8SyOBCQgAQlIQAISaGsCire2bj4LL4HWInD77RGLL14LmWytklkaCUhAAhKQgAQk0P4EFG/t34bWQAItQaCnJ+Kaa2peNycqaYkmsRASkIAEJCABCXQYAcVbhzWo1ZHAeBF4+umIhx+ued1WWGG8SuF9JSABCUhAAhKQQOcSULx1bttaMwmMKYHLLotYbbWI1Vcf09t6MwlIQAISkIAEJNA1BBRvXdPUVlQCo0cAr9sFF0RsuWXEhhuO3n3MWQISkIAEJCABCXQzAcVbN7e+dZfACBFglslJkyIWWSRi8uQRytRsJCABCUhAAhKQgAT6EFC89cHhHxKQwLwQOOusiM02M2RyXth5jQQkIAEJSEACEmiWgOKtWVKeJwEJNCQwa1YESwSsu65ruzUE5E4JSEACEpCABCQwQgQUbyME0mwk0K0EEG6LLRaxzDKGTHZrH7DeEpCABCQgAQmMDQHF29hw9i4S6FgCzDK50UY18daxlbRiEpCABCQgAQlIoAUIKN5aoBEsggTalcDs2RG33lqbYXLJJdu1FpZbAhKQgAQkIAEJtAcBxVt7tJOllEBLErjuuoill45YeeWIKVNasogWSgISkIAEJCABCXQMAcVbxzSlFZHA2BJ44YWIs8+O2HtvJyoZW/LeTQISkIAEJCCBbiWgeOvWlrfeEhgmgccei3jwwYhNNqmt7zbM7LxcAhKQgAQkIAEJSGAQAoq3QQB5WAISaEzgiisittgiYtq0xsfdKwEJSEACEpCABCQwsgQUbyPL09wk0BUEXnkl4swzI/bfP2LxxbuiylZSAhKQgAQkIAEJjDsBxdu4N4EFkEB7EZgzJ+KeeyLefjtizTWdqKS9Ws/SSkACEpCABCTQzgQUb+3cepZdAuNAAPF26aUR220XseCC41AAbykBCUhAAhKQgAS6lIDirUsb3mpLYF4JvP56xLnn1WaZnDp1XnPxOglIQAISkIAEJCCBoRJQvA2VmOdLoIsJECpJyOTLL9VmmZx//i6GYdUlIAEJSEACEpDAGBNQvI0xcG8ngXYm8OqrET//ecShhzrWrZ3b0bJLQAISkIAEJNCeBCa1Z7EttQQkMNYE8Lo98EDEOedE3HZbxCR/Pca6CbyfBCQgAQlIQAJdTkDPW5d3AKsvgWYJIN6eeCJilVWavcLzJCABCUhAAhKQgARGkoDibSRpmpcEOpjA889HnHRSxN/+bcR883VwRa2aBCQgAQlIQAISaFECircWbRiLJYFWIvDWWxGPPBLx2GMRO+4YMWFCK5XOskhAAhKQgAQkIIHuIKB46452tpYSGBaBV16JuOOO2gyTU6YMKysvloAEJCABCUhAAhKYRwKKt3kE52US6CYCL7wQceWVEe99bzfV2rpKQAISkIAEJCCB1iKgeGut9rA0Emg5Am++WQuXfPTRWshkyxXQAklAAhKQgAQkIIEuIaB465KGtpoSmFcCs2dH3HJLxJZbRiy66Lzm4nUSkIAEJCABCUhAAsMloHgbLkGvl0AHE8Drdt99ETfeGHHkkR1cUasmAQlIQAISkIAE2oCA4q0NGskiSmC8CLz+esTjj0cw2+S6645XKbyvBCQgAQlIQAISkAAEFG/2AwlIoF8CTz5Zm2Vyt936PcUDEpCABCQgAQlIQAJjREDxNkagvY0E2o0A3rYZMyLuvz9i773brfSWVwISkIAEJCABCXQeAcVb57WpNZLAiBBgeQAW5V588YgVVxyRLM1EAhKQgAQkIAEJSGAYBBRvw4DnpRLoZAKETOJ522abTq6ldZOABCQgAQlIQALtQ0Dx1j5tZUklMGYE3n474pFHImbOjHj3u8fstt5IAhKQgAQkIAEJSGAAApMGOOahUSIwZ86cePHFF+PtZCFPnjw5FlpooZg0afCm6OnpiTfeeCNeffXVWHjhhfO1jYr48ssvx+tpmsAJEybkvBdYYIFGp7lPAv0SePbZiIcfjlhssYjVVuv3NA9IQAISkIAEJCABCYwhgcEVwxgWphtu9Wyyih988MG48847e0XYGmusEWuuuWYsscQSMd988/WLAdH2u9/9Lh566KHYc889Y4UVVuhz7muvvRaPPvpo3HHHHfHUU0/lvKZPn56meF83lltuuX7FXp9M/KPrCbzzTsQ999SWCNhrr67HIQAJSEACEpCABCTQMgQUb2PUFHjNXnnllTjzzDPjlFNOifnnnz/wiOEhI73vfe+LAw88MAsyPGb16a009d89yaI+7rjjAgG43nrr9RFvePNuvvnm+N73vpfW5Xo8541n7820yvL2228fhx12WKyzzjrZG1eft39LoEogOYXj9tsjXnopYo89qkfcloAEJCABCUhAAhIYTwKKtzGi/05yZ1x11VVxwgknxOabbx6f/OQnY8MNN4x77703fvCDH8Tpp5+ePW8HHXRQFl7VYiHM8Kiddtpp2eu2yCKLVA/n7WeeeSa+853vBN9HHnlk9sy9kKYL/NnPfhZXXHFFDp886qijYtFFF53rWndIoErguecivWiIWHnl6l63JSABCUhAAhKQgATGm4ATloxRC+A5w+s2ZcqU+MIXvhBbbbVVTJs2LQu5D3zgA7H00ksnb8ft2WtWXyTGx1177bVx8cUXZ4FXf5y/L7zwwjTBxCOB+Ns7Lcq17LLLxtprr509bltssUXccsstOeSy0bXuk0AhkBzEcdNNEU88EbH//mWv3xKQgAQkIAEJSEACrUBA8TZGrcDEJIRFfuQjH4lVVlmlz9g2PGmIOkQaoZXVROjjrbfemj1z26Q527fddtvq4d7t66+/PodI4tVbcskle/evvvrqeTzdk2ne97vuuqt3vxsSaETg+ecjeXkjhfVGCrNtdIb7JCABCUhAAhKQgATGi4DibYzIM5vkPvvsk8Mlp06d2ueuTF4ya9asLOqWWWaZPsfuvvvuOOOMM7Ig+/SnP93nWPmDsEq8biumlZTx5tWPmcMLxz2ffvrpYOydSQL9EUC4MQxzrbX6O8P9EpCABCQgAQlIQALjRcAxb2NIHlFVhBVj2Jg18je/+U3+4CHbeeedoyre8JYRKvlEimH7zGc+08ejVi02k54QlrnUUks1nFESrx4fzuHDZCkmCTQikCYqjbTSRLzrXY2Ouk8CEpCABCQgAQlIYDwJKN7Gif65554bv/jFL/KU/sw6uVZydSDcJk6sOUNZz+2aa67JY9122mmnHC75HDNJNEiEW+J9Q5SV66unsQ/RSEgmebBsQDPpU5/61FxikPF5++23XzOXe04dgedTTCJtwTp8rZheemli/OEP09JagpE8tS/GY4+1Yin7lokXF0zMw4RAppElwEsjXvYQ8m0aGQKzZ8/Oa3q+xFSuphEhwBI5/KYyxMA0sgT4DcC2aGYd2pG9c+fmhg2GrUaUlGnoBH74wx9mh0f1SuyATTbZpLqr47cVb+PUxPvuu2/svvvuOVwSIXfllVcG/wl96EMfylP6s57bBRdcENPTOm0HH3xw9pz1V1R+WItHr79zOE7IJD/EzaZjjz02l6V6/mJp1WZnrKwSaX4bIxjxBsNWTExUMmnSxNh114iVVlqwFYs4V5l4ZviPkNBg08gSQLjxQklP/chx5beaj7+hI8eU9U95AepvwMgxLTmx1BBcFW+FyPC/WcuXSKiFF154+Jl1YQ6f+MQnsp1crTozqt94443VXR2/rXgbpyZeaaWVsiGPOGP7+OOPz28TWD6Ah/uiiy7KYotJTgbzlDGeDXHGm8dGY9qKaFtwwQWHJBxWTnPFs3i4aWQIFPHWip6M5LyK226L9B9KJC9vJG9L/4vFjwyNkckFjxs8W5HpyNRw/HKBKcJNtiPXBrDEEJbpyDKFp0xHjmnJqfRVxVshMvzv0lftr/PGspE9zBrI3ZYUb+PU4gg0EsYRImn99dfPs0oyDg6D9I40+IjFtr/5zW/GSSedlM8llJKJSQgRYbFu3t4i+vDk8ONKWGSj0BGu48PbHt5QmiRQTyBFcyXPb6QlKyKFc9Qf9W8JSEACEpCABCQggVYgoHgbo1ZAWCG4Vlhhhfjwhz+cZ38st8ZrhogrY9Nwp6+T5mlvtBh3I88a1yEAmZmyfqkBzmcmS8IfqmPqyr39lgAE0koTSdxHbLaZPCQgAQlIQAISkIAEWpWA4m2MWgYRRUwuHjDGuq222mq9a70xkcUDDzyQPW64hFnAe4011sjnVouHCDv11FPj97//fV6MmxBLhB7ij/Xd8NbdlmLfmLly8cUXz5cyq+X999+f/zYEskrT7UKAuRPS+vDZ65YcwCYJSEACEpCABCQggRYloHgbo4bBs7b33nvnEMgf/ehHsf/++ydjeelgsPVVV10VTFCCGNt4443zAOFGg6+Z+QlRRogks1NuuummvaXfNc0ycfnll8eFF16YvXobbbRRnimOpQgQdJsllwp5myRQT+DhhyN5ZiOWX96QyXo2/i0BCUhAAhKQgARaiYDibYxaA8F10EEH5RDG61OMGmu4ERbJbHmIsrXXXjsfR5TNS8Lbdsghh8SZZ54ZZ511Vp69ktninnnmmezFQzguj3VukkAdgVtuidQXI01OU3fAPyUgAQlIQAISkIAEWoqA4m2MmqOMS/v4xz+ehdrDyd3B+mx40rbccsv8YZwbM0f2l1gXhJBLQioZO1dNTICy11575TDK21MM3NNPP53DMgmnJAxzgw02yGPqqte4LYE0FDOHTKZJT1O/kocEJCABCUhAAhKQQCsTULyNceusuuqqcfjhhwfj3BBvjFnj08xUvJz3nve8p98SI/wQdzvssENejJupaJmRkpBNkwQaEcDrxtJ/CLfUVUwSkIAEJCABCUhAAi1MQPE2To3D9P6jtVgzywHUe+bGqZretoUJsDTAxRdHmuAmIg2RNElAAhKQgAQkIAEJtDiBiS1ePosnAQmMEoGnnopIk5GmReJrk5WM0m3MVgISkIAEJCABCUhghAgo3kYIpNlIoN0I3HlnbXkAFuY2SUACEpCABCQgAQm0PgHFW+u3kSWUwIgTYGmACy6IYF23NNGpSQISkIAEJCABCUigDQgo3tqgkSyiBEaawGOPRVq2ImKVVSKWWGKkczc/CUhAAhKQgAQkIIHRIKB4Gw2q5imBFidw000RaeLTWGqpFi+oxZOABCQgAQlIQAIS6CWgeOtF4YYEuoMASwNcckmktf9qk5V0R62tpQQkIAEJSEACEmh/Aoq39m9DayCBIREgZJLPWmsZMjkkcJ4sAQlIQAISkIAExpmA4m2cG8DbS2CsCfzgBxF77lkLmxzre3s/CUhAAhKQgAQkIIF5J6B4m3d2XimBtiMwc2bEdddFbL99xHLLtV3xLbAEJCABCUhAAhLoagKKt65ufivfbQQefzxi0UUjFlooYqJPf7c1v/WVgAQkIAEJSKDNCWi+tXkDWnwJDIXAf/93xD77RCy77FCu8lwJSEACEpCABCQggVYgoHhrhVawDBIYAwJPPRVx++0RW25Z876NwS29hQQkIAEJSEACEpDACBJQvI0gTLOSQCsTYG23lVeOWHLJiPnma+WSWjYJSEACEpCABCQggUYEFG+NqLhPAh1I4LzzInbaKWLhhTuwclZJAhKQgAQkIAEJdAEBxVsXNLJV7G4CPT0Rs2ZF3HJLxLbb1iYr6W4i1l4CEpCABCQgAQm0JwHFW3u2m6WWQNME3nkn4uc/r411W2mliEmTmr7UEyUgAQlIQAISkIAEWoiA4q2FGsOiSGCkCRSv2+mnRxx2WMS0aSN9B/OTgAQkIAEJSEACEhgrAoq3sSLtfSQwDgTwuj36aMTzz0esv37E5MnjUAhvKQEJSEACEpCABCQwIgQUbyOC0Uwk0JoE3ngj4je/idhjD8MlW7OFLJUEJCABCUhAAhJonoDirXlWnimBtiIwZ07Ec89F/OIXEUccETFlSlsV38JKQAISkIAEJCABCdQRULzVAfFPCXQKgbfeirjvvtqabuuuGzHRp71TmtZ6SEACEpCABCTQpQQ057q04a125xN49dWI666L2HXXzq+rNZSABCQgAQlIQALdQEDx1g2tbB27jgCzTM6eHXHllREHHBAxYULXIbDCEpCABCQgAQlIoOMIuOJTxzWpFZJAxGuvRdx1Vy1UctNNJSIBCUhAAhKQgAQk0AkE9Lx1QitaBwlUCOB1e+KJiHPOiTjqqMoBNyUgAQlIQAISkIAE2pqA4q2tm8/CS2BuAiwP8MADtc/++8993D0SkIAEJCABCUhAAu1JQPHWnu1mqSXQL4HXX4+YNStipZX6PcUDEpCABCQgAQlIQAJtSEDx1oaNZpElMBCBRx+NuOCCiE9+cqCzPCYBCUhAAhKQgAQk0G4EFG/t1mKWVwIDEGCikocfjnjhhYittx7gRA9JQAISkIAEJCABCbQdAcVb2zWZBZZA/wRYHgDxtuGGEZOcS7Z/UB6RgAQkIAEJSEACbUhA8daGjWaRJdAfAWaZvP32iD326O8M90tAAhKQgAQkIAEJtCsBxVu7tpzllkAdAbxud98dMd98hkzWofFPCUhAAhKQgAQk0BEEFG8d0YxWQgIRjz0Wce+9EdtsEzFtmkQkIAEJSEACEpCABDqNgOKt01rU+nQlAZYHQLg99ZQhk13ZAay0BCQgAQlIQAJdQUDx1hXNbCU7ncDLL0c880zEAgtELLdcp9fW+klAAhKQgAQkIIHuJKB46852t9YdRuDBByNmzozYYYcOq5jVkYAEJCABCUhAAhLoJaB460XhhgTak8Abb9RCJpmwZMcd27MOlloCEpCABCQgAQlIYHACirfBGXmGBFqawKxZEU8/HbHUUhHLLNPSRbVwEpCABCQgAQlIQALDIKB4GwY8L5VAKxB46KGIF16I2GyzViiNZZCABCQgAQlIQAISGC0CirfRImu+EhgDAkxUct99Ee+8E7HFFmNwQ28hAQlIQAISkIAEJDBuBBRv44beG0tg+ASYqOTxxyPWWCNixRWHn585SEACEpCABCQgAQm0LgHFW+u2jSWTwIAE3nor4rbbIvjeeusBT/WgBCQgAQlIQAISkEAHEFC8dUAjWoXuJPD88xEPPFBb222DDbqTgbWWgAQkIAEJSEAC3URA8dZNrW1dO4rAE09E9PRErLBCR1XLykhAAhKQgAQkIAEJ9ENA8dYPGHdLoJUJzJkTcdVVtRLutFMrl9SySUACEpCABCQgAQmMFAHF20iRNB8JjCGBZ5+NeOyxiMUWi5g+fQxv7K0kIAEJSEACEpCABMaNgOJt3NB7YwnMOwGWB5g8OWLVVec9D6+UgAQkIAEJSEACEmgvAoq39movSyuBTOC3v61NVLLxxgKRgAQkIAEJSEACEugWAoq3bmlp69kxBO69N2LmzFq4pJ63jmlWKyIBCUhAAhKQgAQGJTBp0DM8oZfAm2++Gffcc0+88MILMW3atDTWaHoac5QGHTVIc9KMEs+nudw5/5133ollllkm1l577QZn1nZxzsMPPxxPpCkEF1hggVh55ZXzNf1e0OAA93wrLfrFd32aOHFizDfffDFpkk1ez6bd/r7++oiFF45Yd91Ibdpupbe8EpCABCQgAQlIQALzSkBLvkly1113XZx88snx0EMPZYGEGFp++eXjwAMPjN122y0WWWSR3pxmzZoVv/rVr+Lss8/OQo8D888/f6y55ppxzDHHpHFKq2YhVS6444474rTTToubb745XnvttSDvpZZaKnbfffc44IADYskllyynDvh95plnxvnnnx/PPffcXOetuOKKOa+99tprrmPuaB8CNO1NN0VstlnE+uu3T7ktqQQkIAEJSEACEpDA8Ako3ppgePfdd8cJJ5yQRdG+++4bG264YQpbmxkXXnhhFnRksf/++2evFt62Sy65JE455ZRYeuml4/DDD48lllgiC7Mzzjgj/vmf/zmOO+64fGzChAlx//33x0knnRS33HJLbLnllrFTmvcd8Xb11VfHeeedF6+++mp89KMfjYUWWmjQkpLXfWkmixXSwl/1gg/P39SpUwfNwxNam8Azz0Ty5EYsumhtzFtrl9bSSUACEpCABCQgAQmMJAHFWxM08aAR/nj00UfHnnvumYUXomrKlClx6qmnJk/ITbH55ptnj9qMGTPi4osvzseOOuqo2DjNKMF5eN1efvnlOOuss7JQQ6QRHnnBBRfk63feeed4//vfH2ussUYg6qankMzTTz89reV1Vay33nrZCzdYUR944IHssTvssMPyNdXz8fwtvvji1V1utyGB9F4gVlqpFjLZhsW3yBKQgAQkIAEJSEACwyDghCVNwFtuueWyR2zHHXcMtienOdoXTa6PtdZaK3vVnnrqqSBUkoR3a5111oldd901Czo8ZowzW3bZZWPTTTeNt99+O3vbGD/H9m233ZZF3A477JDGMK2br19wwQVzHltssUW88sorcc011wxaSjx+z6bFvygf92d8XfWDGKTMpvYlkJo4br21tjyAa7u1bztacglIQAISkIAEJDCvBPS8NUFujz32iG222SaHIxLSWBJjy1566aU89o0JTEiMLcODxnl43EpiEpFHHnkkenp6sucOQYf3jusJqyTMEVFYEseZDAWPGSGajIVD1PWXyJtzGE/H963JykcgkgeCbmFmuDC1NQHWdmO+mdScqS+0dVUsvAQkIAEJSEACEpDAPBBQvDUBbSXi1P6YmGkSLxtjyy666KI8kyQeMkQbCU/b6quvnrfxrOENwzOHmOL8TTbZJHvkEHYIOUIk+5shkv0IMbxvTz/9dBZmOeMG/xAy+frrr+dyPZMGRiEKmcGS8uDR22WXXdIEF+vn+zW4vOGun/zkJzkMs3oQEYsH0TR0AnhHae9Gs4E2k9tll01N7UGbvpXGX849o2gzeXTaOfR5nsnqi5JOq+N41Yf+ygul6kul8SpLp9x39uzZORKD32bTyBDg/0j+v+NFp2lkCfDbyvAOZ6keOa78BvD/Ffbd/2fvPsClqs79j7/03nsv0pQO0gUFBBQFu1ijeDVqYtSbf27JTTQx9Sb64I0abywxYokVCyoqCiJNkN5770rv3f/6rXM3zjmcMuecOTN7Zr7recYzZ2bP3mt/9nCcd9613kXLv8DkyZNt2bJlmV64du1anzDJ9GCK/0Lwls8LrPltkyZNssWLF9v27dutW7duvoBJkHmL3N3+/ft91ckZrra7gj39Ibzrrrt8oKey/cqkqaiJhk6qiqXmtgX70bbr3fw5BWKqZKl95da0zIA+yKpPqlSpQE2/q5Ll2LFjfRB5ww03+CGVue0n8jn1JetQS/0hj8w+Rm7P/dwF5KbgrSB+WtdtxYpiNmhQcbeMRHG3j9yPlS7PyjK4pcs5x+s8A9eCvF/j1cdkO47+7uuGaeyuHO/T2Flm3RO2WUUK/zumhTPU1KSsn0v1mD7vplMjeMvn1da30Jq/pn+ACqpUhGThwoV+TTZVeYxs+qCuN1VTN0FJxUKWLl1qqlypypLK1unbl759+/piKFpaQE1ZMmXkFBxqrpuOE01Tn3r16uUDSc2fa9y4sX8zz58/3y9DoG8rtLSBCqJE+y3aNddc4wuuRHN8tslbQBk3Xc+c1gbMbQ+uBo4L9M1dX3PXkTGTgZX+YOvfS0FMg33wM3sB/W2TK5m37H0K8qgybvr7m/XDR0H2xWsyBJRx0/9r+RsQ+3eEvjSWa7SfGWLfg9Tbo0Zk6bMfU1kKdm1VNFC3yKYlspSkSKdG8JbPq929e3cfJGm+2qxZs+zll182LQGgf4hak03/Ewma/gc9fPhw/+FHwx4VoD399NM+4FMQpYDroosusi1btvjlBf75z3/6xbn1YenYsWN+GIiGY+oPp4LA3JqKqaiypea8Bdk7ZfYUHCobp6BRwaOGceq4tOQRcKNmXbbX3LXMqDSZPD2npwgggAACCCCAAAKxFIgurRPLI0axLwUuYZ0ToG9MFEwp66bAS9kuFS5RpkzfVEc2ZVk0zFDDZJT1Ugn/Zs2amYZRqgiJvoHRsEkNZ/zBD37ggy8FbgoEtUD30KFDfSCmIExDIXNrCvLatm17JnALtlVftcabXq95AUFVzOB5foZfQEMmXXzvsqbmMrjh7y89RAABBBBAAAEEECgagdBl3jQEaubMmb5SogqFKChRJikyo1U0FNnvVf1Rhk1DM1SCP7Lio4IyBUXBnDTNU9Pkac1f0+PKrkU2BWYazqg145SJ04RVFSPRfq644grTMEUFrfpdtwkTJviAS9UidYycmvqorJpeq2NmXdBbz+umQE7BJy25BNw0Sx+4sdJDcl03eosAAggggAACCMRaIHSZNwUZ//jHP+zf/u3f7PHHH/dDDVUkREMLlamKd1NA9Oc//9n+8Ic/2KZNmzJVClQpflVkC0ryK2OmOWaPPPKIvfrqq/7xoL86Lw21VAESBXHKuOmnzu3999/3AZ8CVAWJCtyUJVMFSQV3ChpzC141l+rZZ5+1P/3pT74wSmQ1QwWIGiqp/Wg5grwyeEF/+RkOAZeEdgu7m8vyahmKcPSJXiCAAAIIIIAAAggkRiB0mTcxKMDQkEMV2ZjkJvtoHbRLLrnEhgwZ4ocAKghRJiq3gCZWnMpWKVv2xRdf+IxgUOlGQZ3Kk86ePdtntLQgtua4qV8aKjl37lxfmESBl4IxFVbQYypuorlpwVw27UOBnjJ2yphpcrACLu33q6++8nPYNM9OTUGZJhBv3rzZD63U/DY17V+BoOa1KWupfchMAaOqUCpzKCsdl0ndnixp/uPeHq5KaUbm7f+WEkyavtNRBBBAAAEEEEAAgdgKhC54U9B24403+mBE88g0n0wBy2uvveYLg7Rs2dIPMezdu7cPlLIubh1bnoy93X777bbele1//vnn/ULbGpqoTJaCSy2Offnll5sqPKopiNMQyBdeeMFnwvSchn1qjtuYMWN8YHr33XefCaIuvPBCH6h9+OGHPounYE9DKjUvTuc9YsQIvzac9q0AcOrUqfbzn//c+vTpY3/729/0sG8333yzP4aKnihLqaqVyghOnz7dZ/AuvfRSP48u2J6fySHgCo66oNvcez05+ksvEUAAAQQQQAABBIpOIHTBm061S5cu/hYESBpWqKySCoJovtgf//hHn91Suf377rvPV2jUXDRlrooiG6eM1UMPPeSDt88//9wUaOk4KkIycuRIU2CkYZBqynipwqT6o0BKAZ8yZhoOqcBO/W3fvr3P1ml7BaNa+03Zt4kTJ5pKnirbp23vvfdeGzhwoDbzTcdUVk8FSLJm0Dp37mw/+9nPfPVLBXifffaZ76O2VTCsPjFkMpBMjp8u9rZPPjFXzIZCJclxxeglAggggAACCCBQtAKhDN6CU1YwpsBIN2WhVGr/lVdeOTP/TVklDS3UGmrKdt16661nhi0qAIplU3D017/+1Xbs2OFL72uIpAqJKJjK2tSf66+/3i8doCGOe/bssaZurTdlCbNrCkIVsCo7pzlxCrIUGGo4ZGRTQKgqlLpl14KgV5m7bdu2+Yyf9pPXMgPZ7YvHEi/gYnAX+OvLDHPXMvH9oQcIIIAAAggggAACiRWIbYRThOeiuWQaQqigSOuWKRunbJWCHQ2t1DBFFTpRsKIsmUr4K7CKdSZOa6RFu06asm3NmzePSkX91Dw43QrblG3TjZbcAm75QDfXkyGTyX0V6T0CCCCAAAIIIBA7gdBVm8zr1BTkKON15513+kzcu+++64M6ZZdUoEMZpwcffNDPQXvggQds0aJFvgBIXvvleQTCIuDexq7QjLn5jebmU5orThOWntEPBBBAAAEEEEAAgUQKJF3wJiwFcBoWqUIgmhumZQXGjx9vb775pnXr1s2vd6b5caoQqSDvqquu8sMrEwnNsRGIVkBDJV0dHPclhbm5knq/R/tKtkMAAQQQQAABBBBIZYGkGTaZ00XQvDAFcbpprtljjz3mqzKq4uKoUaN8oRMVPlEwR0MgGQTcShH2l7+Y++KBuW7JcL3oIwIIIIAAAgggEC+BpA/eIqGUjStTpoyr0PeJr9y4bt06v7C3MnUaUklDIOwCyrq57x3MrZLhCuSYez+Hvcf0DwEEEEAAAQQQQCBeAkkfvKkM/z63irGGSE6YMMF27drl572piIkWu1YJ/xtuuMGX548XKsdBoKACbik/+/RTswEDzC36zpDJgjryOgQQQAABBBBAIBUFkjJ4UxZNSwfMmjXLz3VTxUmV2ddNC1NriYFLXJk+LWStypBaVDunMv2peFE5p+QVOHbM3OLvZtddZ25eZ/KeBz1HAAEEEEAAAQQQiL1AUn081Ny1OXPm+Cyb1jJTsLZ27Vo/x01z384991y/3psCNpXob9SokR9GqWGTNATCLqBFud0a9C6TbK5aqrl1/sLeY/qHAAIIIIAAAgggEE+B0AdvR44csblz59rXX3/t13dbv369+4C7wvS45rhpXbcBboyZqk7qfqdOnfyi1ARs8XwbcaxYCKimjhv5az17mssYx2KP7AMBBBBAAAEEEEAglQRCGbwddRN/Fi5c6G9at03Bmm4HDhzw9qoqqUW4O3fu7Be1VsAWi8WtU+nCci7JJXDypLlMsrklLcwefTS5+k5vEUAAAQQQQAABBOIjELrgTfPZ3nvvPfvss89s6dKltnfvXlNRElWR7NChg3Xt2tUaNmxobdu29cMk9TgNgWQX0JDJzZvNNOfNjf6lIYAAAggggAACCCBwlkAog7dPXbm96dOn+2GRjRs39kFakyZNfPDWvXt3q1Sp0lknwgMIJLOAq7/j5nOaDRyYzGdB3xFAAAEEEEAAAQSKUiB0wZtOtoqrka5KkUHgpoBN91WUhIZAqgmcOpWxttuMGRmLc6fa+XE+CCCAAAIIIIAAArERCF3wpkIj/fv3t2bNmlmbNm2sdOnSsTlT9oJASAU0lVNVJqtXN1clNaSdpFsIIIAAAggggAACCRcIZfB2xRVXZII56Mrwae5buXLlclyvTfPi1q1b5ytSqniJ5sWpGiUNgbALuGUKbd48s0GDwt5T+ocAAggggAACCCCQSIFQRzeqOrnZVXFYsGCBrVq1ytq3b2+XXXZZtl7a9u9//7srtT7BzRsaaEOGDLF27dpZ1apVGW6ZrRgPhkHgxAmzHTsybq4WDw0BBBBAAAEEEEAAgRwFQhu8aR03Lcj9wgsv2Aw3Gahs2bL+ltOZnHS11mfOnOkWON5nY8aMsffff9/uv/9+GzZsmFszqw4BXE5wPJ5QgZ07zRYtMqtblyqTCb0QHBwBBBBAAAEEEEgCgVAGb1ouQItyP/XUU36tNw2XrFy5sl8uICdTzZXTPLlSpUrZnj17bL8r3zdq1ChXev2Y3XDDDVa7du2cXsrjCCREwI30tU2bzC2JYXb11QnpAgdFAAEEEEAAAQQQSCKBUAZvu3fvtpdfftkHbuXLl7d+/frZrbfeal26dMmRVssHPP/8835NuJdeesl02759u/31r3+11q1b24ABA3xgl+MOeAKBOAscPmxuOLCZe7u7Ij1xPjiHQwABBBBAAAEEEEg6geJh7PHTTz/tAzcVHPnBD35gDz/8sJ1//vlWvHje3dU2t99+u/3mN7+x+vXrmzJyb775pqvm58r50RAIkYCqTGp9N1dfh4YAAggggAACCCCAQJ4CeUdDee4ithuoauTatWv93LVLL73UdKtRo0a+D3LBBRf4jJ2GW2rO3LZt2/K9D16AQFEKaLjk/PlmN91UlEdh3wgggAACCCCAAAKpIhC64E3z1Y4fP+59O3fu7OexFRT7hz/8octqNDAVM1EhE81/oyEQBgG3+oVt3GimBbo7dAhDj+gDAggggAACCCCAQNgFQhe8qeT/KfeJVoVHKlasmGuRkrxwVaSkTJkyfjMFhAriaAiEQWDNGrMtW8xcgtgNBw5Dj+gDAggggAACCCCAQNgFQvexUcMm1TRXLZo5brkB6/WlS5f2+9F+VcWShkAYBLZuNdu1y9zahWHoDX1AAAEEEEAAAQQQSAaB0AVvJUqU8IHbCbd6sTJwhW3KtiloUyBX2GCwsH3h9QhIQItyu2mdVqWK2XnnYYIAAggggAACCCCAQHQCoQveVPJfVSYVcB06dKhQ89R2udSG5rlpX1orTkMxaQgkWmDlSrNvvjG39IW592Wie8PxEUAAAQQQQAABBJJFIHTBm9Z1CwK4adOm2fLlywtsOXr0aNvqxqdp3luFChV8UFjgnfFCBGIg4L6PsCVLzM2/NOvTJwY7ZBcIIIAAAggggAACaSMQuuBNwyZV5l9rtM2ePdsmT57sshQuTZHPNm/ePPviiy9s79691rFjR6tbt64fjpnP3bA5AjEVcEVPzRVUdcV4zC2BEdNdszMEEEAAAQQQQACBFBcIXfAm7wEDBliLFi38sMlx48b5RbbXrVsX9aWYMmWKPfPMM7Zp0yY/ZPKSSy6xpk2bRv16NkSgqAQWLzZzBVXdovNFdQT2iwACCCCAAAIIIJCqAiXDeGLKkl1zzTWusMMON8RsiY0ZM8Yv3N2mTRtX4OE8a9u2rR8KqQIkms+m4iYHDhywiRMn+tfMdysfL1iwwK8Xd/XVV/tMnhbrpiGQSIGjR4u797OqqBK8JfI6cGwEEEAAAQQQQCBZBUIZvAmzX79+LkNx1F566SVb7NIVysBNnTrVWrdu7W+axxYEb6ooedCteqyMm4ZYalkAPX/ttdfayJEj/ULdyXqB6HfqCGzcWNIOHy7mvnwwq1Ytdc6LM0EAAQQQQAABBBCIj0Bogzetz6bhjmXLlrXx48fbwoULbePGjfb111/7W048KnjSuXNnn6G76aab/Fw3lgjISYvH4ymwalUpt+5gMZYHiCc6x0IAAQQQQAABBFJIILTBm4y1ZMDFF19sGi6pypMaQqnhkbt37/bz2Y4cOeK30TBLFTjRcgDVXEpDr2nvVj9WAEhDIAwCKlSyeXMJv7Zbs2Zh6BF9QAABBBBAAAEEEEg2gVAHbwFmw4YNbcSIEX4Om4I3ZeA0r22f+0Ss4ZEaSql5cFXcqsfK1NEQCJuAlgfYu/eUK1RSzGrVClvv6A8CCCCAAAIIIIBAMggkRfAWQEVkJXIAAEAASURBVCqTVsPVV9dNQyNpCCSDwPHjZrNmmfui4bjLIhdzXSYjnAzXjT4igAACCCCAAAJhEwjlUgGxRDp16pRbEPmkr0oZy/2yLwSiFdi501y1VLOqVU9Yo0ZudW4aAggggAACCCCAAAIFEAhl5m3r1q2uKt9hq169uh8KqYW7C9KOu5TH8uXL/b5atWrl91eQ/fAaBAojsH69maujY7VrF2YvvBYBBBBAAAEEEEAg3QVCl3lTmf/HH3/c7r77bvv444/9Qt1ZL5KWENi2bZuf+6alAXJq27dvt4cfftgvFzB79uycNuNxBIpMwCV+7dNPzVU9NevSpcgOw44RQAABBBBAAAEE0kAgdMGbzHe6cWabN2/ONnDT84sWLbIf/ehHduWVV9ovfvELPURDIJQCLonsvmgwVw01I4ALZSfpFAIIIIAAAggggEBSCIQyeMtL7rvvvrMTJ0746pOaz0ZDIKwCkyebuWKpds45Ye0h/UIAAQQQQAABBBBIFoGkDN6SBZd+IqAlAtzUTT9sEg0EEEAAAQQQQAABBAojQPBWGD1ei0AuAm50r1tQ3tw6hGb16uWyIU8hgAACCCCAAAIIIBCFAMFbFEhsgkBBBCZMMGvWzKxpU7NiWt6NhgACCCCAAAIIIIBAIQQI3gqBx0sRyElARVBnzjRr3z4jeMtpOx5HAAEEEEAAAQQQQCBaAYK3aKXYDoF8CCxebFatmlmdOmalSuXjhWyKAAIIIIAAAggggEAOAgRvOcDwMAKFEfj8c7PzzmOuW2EMeS0CCCCAAAIIIIBAZgGCt8we/IZAoQV27TJbutTs3HPNatYs9O7YAQIIIIAAAggggAACXoDgjTcCAjEWmDo1Y223Bg3MSpeO8c7ZHQIIIIAAAggggEDaChC8pe2l58SLSkALc7drl7G+W1Edg/0igAACCCCAAAIIpJ9AyTCf8vTp023fvn1WpkyZTN3csmWL7dy5006dOmUbN260J554ItPzwS/79++3b7/9Nvg1ND9PnjxpOodjx45ZuXLlrHbt2medY9DZ06dP28GDB+0blS90rXLlyn774PmsP7W9tj1w4IDL+pS2GjVqWMWKFbNuxu9FJLBhg7lra3bllWZVqhTRQdgtAggggAACCCCAQFoKhDp4mzVrls2dO/esC6OgTQGQmoKg559//qxtggdOnDgR3A3Fz5UrV9pkl5pZu3atHT161AdvTd1CYH369LFzzjknUxC3d+9eW7Bggclh+/btvv9Vq1Z1hTDOs/79+7tqhq6cYURTIDtjxgxbtmyZKXBV8NawYUPr3r27tW3b1sqXLx+xNXeLQuCzzzKGTGp9tyzfORTF4dgnAggggAACCCCAQBoJhDJ4K1u2bK7ZolL5qL2ubYsXL24lSyb2VL/77jvbtm2bvfDCCz4Ya9OmjdWqVct2ueoW77//vg/mbrrpJh9kqb+HDh3ygdgbb7zht9H2ykCuXr3apk2b5h8bOXLkmfPasWOHvfXWW/aZix6qV6/uFoZu6gNcbauA8eqrr7ZevXr5gC6N3t9xPVWX7LRPPzW7446MZQLienAOhgACCCCAAAIIIJDyAomNaLLhLVasmM8qNW/ePJtnC/aQ9qkMVCKbMoAff/yxffTRR3bdddfZ9ddfb02aNLGtW7faq6++6rNxzVy6plGjRqbsmjJz48aN80Mgb775Zrv44ot95kyZyGeffdZGjx5tAwYMML1GwZ6CNgWBrVu39vs+//zzTcdUlu/dd9+1sWPHWr169axVq1aJZEjpY7uEp8t4Zsx3q1AhpU+Vk0MAAQQQQAABBBBIgEAogzcFNqnWNBdtzZo1pqD0Bz/4gTVu3NgHXRoqOXDgQFu0aJHPqmm+moI3DZk8fvy4H045fPjwM5nILl26+O1HjRplc+bM8QGgrD51KR9l92TXt29fU/ZSbejQoaasnJ7XkEqCN88S8/84etPabr17mxG4xZyXHSKAAAIIIIAAAgg4gdAFb4W5Kso0KYDREEllo8LUNHzziiuusJ49e/oMWGT/1Gc1zeVTkKfWokULGzFihC9QEllwRNsG22ven+4fOXLEB2jK2ikoDAI37Ufz3PS4ttWQS/1M9BBS9SuVmi7f4cNm48eb/e53BG+pdG05FwQQQAABBBBAIEwCoQ/eFNCo2qKqJyoQ0XyuyKbnNW9s8+bNvkiHArgKLvWhgEdZLb1GwyYT3UqUKGE9evQ40w1VmlTQtWfPHvvqq6988RLNa1PlSTUNcdRNTeeo4iaaB7d+/Xq/fd26dU1ZOO1X+1IQpwIlkUGhf7H7j85fz8tQ1TtVgZIWOwHF2y5x6gLvjIW5KVQSO1v2hAACCCCAAAIIIPC9QKiDt927d/tqkvPnz7cVK1aY5nFdqRrs/9eURVKFxXfeecdefvllH+AEz9WpU8d++tOfumFsvX2woiAnTG358uV+qORUt6KzKkp27drVZ+WyBqfqs4IuzXWTw5QpU3ygqqGXCvbUtHyAglQtn6DgTMFecL4aeqnlEhQkKghWoBtt8KZAMWtxGL1Wwzpp3wu4uNrefruUXXrpKRc8n3bDXb9/LvKevlhQIK1rQouNgCyDW2z2yF4CAb1fZRtk+oPH+VlwgcBTP2mxEZBl8F6NzR7ZSyAQuAYjgoLH+VlwAb1f+RxQcD99nlU19cimqvPp1kIbvCnYUEA2ZswYPySwils0q379+meujz5QqNjHM888Y++9957/x6Bsm27KUukC/8d//IfdddddpoIfQRbrzA4SfGfmzJn2ySef+KBKgVfNmjX9kEn9w1YGLbIpKBvvxuRpyQD9EVXWTcsE6A1cqVIlPwyyU6dOvsCJCpQouFLwKiMFvQr6gjd7fv4IP/bYY5mWLlCfVGxF8+hoGQKO2F3D4i4bWsN+9jNlNo+5DGnGMNisRgqs+aOdVaVwvyvrLNfgy4rC7Y1XRwro745a1i9wIrfhfv4E9P81DVvX/6NosRGQpb7g1N9WWmwF9GWv3q/8fY2dq5ISqhyukVe0/Au8+OKL9uWXX2Z6oUaltW/fPtNjqf5LKIM3fdvz5JNP+gqJuigKbhS8RS7WrT/YCxcu9IGbhgoqmLnmmmt8Zk7l8RX4KRp/7rnnfIZq0KBBmV6f6AurZQHucDXl9QHp9ddf95Ui1d977rnHZ+Ei+9fUlf1/6KGH/B9QZez+93//1/70pz/5oPYnP/mJD/ZuvfVWH6i98sorfp03DanUH4evv/7aFz9RwCen/PwRfuqpp6xDhw6RXeF+FgF9BtNShEpGXnppGTffMMsGEb/qfaxrQOYyAqWQd/V3QK5h+3KmkKcVmpfrSyCCt9hdjnLlyvkPw/r/GS02AofdhGN9Oan/x9FiK6Ave/WlOfPkY+eqmgT6LKsv3mn5F/jlL39pukU2VXFXRfV0aqEM3hR8zZs3zw/z0x8OBTkaLhlZuENBzBNPPOGvlYYaPvroo36IpB7QXLfLL7/cbrvtNlu1apUP5Bo0aGCdO3cOzbUNzkX/w/nxj39s+jbmww8/9EMo1c/IuWv6wxn88ezYsaP9+te/tmuvvdavGXfnnXf64E0FTn71q1/5Bcs1h06ZPa0jN2zYMD9PUG9ufcjNurB3aECStCMqVKK/GTfe6Kr/hPJfU5LC0m0EEEAAAQQQQACBswRC+XFT65WprL6Csvvvv99XaYwcEhEU39B8NwU1CvC0AHVk02sVuLz00kt+bpmGUYa16ZttBZwKrFR4Zfv27ZmGiEb2Ww4qyKJhkp+72vSaL6dz1z40B05BrIZeaj6gHtNNQy41vEwBY3Zz6iL3z/3oBVyC2K3HZzZ7trmgWYVhon8tWyKAAAIIIIAAAgggkF+BcNXTd73XEAhloRRsaCjghRdeeNZYdg0HVDCmIE4Bj9Y2iwzuAgRl35R9UgEPDavQPhPVNC9H67X967/+qx+fn7UfCrY0REGBmVLqmuun89cC3lmbzjs4F82VU5ZOa75pvpvOU2n5YD9yUZCrOQFaMiAyo5d1v/yePwENWXexs6siSuCWPzm2RgABBBBAAAEEECiIQOiCNwUZyhypKTBRJcWsbeXKlT640ePKJl1wwQVZN/G/K7BT5klNwY4CpEQ1ZQgVRGqi5YYNGzL1RYtoK4Om/inAUr8VdCkLpyIlmjQcNM0HVFZS1Se1rW6ax6bs2u9//3tfnCSoZqTXaPipAjsNG023CZ2BWVH9dHGyX9vNTbWkIYAAAggggAACCCBQ5AKhGzapIEsZKGWIFHhlV2BD2SUFQNpGGaZgbbSsWqraGGTktE9lrBLV1BfNT3v44YftkUce8RUwGzZs6DNlmuumIO3iiy/2yyHovFQoRAt6T5o0yQ+FvOyyy3xGba0bp6cCJzqXBx980DQBXk1LIkyYMMGeffZZH+w1dUVOVABl3Lhxtm7dOj9HTkMtabER0JBJF1s7Y7O+fWOzT/aCAAIIIIAAAggggEBuAqEL3oJgS52OvB+chIIWDa1UyWUFd5rDlV2Ap+2VpQoCNgVE2e0v2G9R/1TmbeDAgb4Iy2uvvWaq5KjHlG3Tz6uuusrP0VMmTa1x48auCMaN/hy1FpwybToHba9qhQoCL7roojPnrjXwVNhFwy1VjVL71Pkre6n9XHrppWcCvaI+13TYv3v7ueUBzF0Dc4Vg0uGMOUcEEEAAAQQQQACBRAuELnhThkrBmIIuDf+LXHBaWJrvpsBNj6tSY25rju3du9cHMHqd5pEpoElUU+CoIaAqoqLhi5s2bfIZMgViKnOuYE2BVjDMUw6tW7f269QNHjzYr2mnc1dxFm2vzFpQsVLnpAykArR27dr5YZWaY6f9ab8aMkmhktheeQ2ZdCtV2IgRsd0ve0MAAQQQQAABBBBAICeBxEUzOfRIAY6CLAVvqrqoAKxGjRpnttYSAVrcWk1r5fRQtYgc2htvvOH3oWBQwU0QGOWweVweVrCm4YsKzLRGVbDmh7JqWZsCTmXiFLApcFPWTeX+Fdhl1zRXTjdVrlTgqyGV2kciM47Z9TPZH3NLD5qbdum+GDDr3j3Zz4b+I4AAAggggAACCCSLwNkRQ4J7rmBGAYgCFAVpKrgRDH1UALNixQpf3EOBmIK6nOa7qcKiioMoA6XgR4FedgFSok5XgZXOUz/z6peCT2XZFPjlFLhFnocCVe1blgRukTKxua9VJ7Q8gAI3N2qXhgACCCCAAAIIIIBAXARCl3lTsKGS+uvXrzdl2f7xj3/4YE0BiQIxzf1SENesWTO//lt2QyEXLVrkS+yrqImGV2poZfPmzeMCykFSW0CFUN1b02fefvOb1D5Xzg4BBBBAAAEEEEAgXAKhC97E06dPH59hU7A226U4li5d6rNIGmaoYiXKuPXv39/fAk4NE/zoo498ZUUtJfCVqyah7bt27eoLheSUoQtez08EohHQXDctzK0VLPg+IBoxtkEAAQQQQAABBBCIlUAogzcN91O2TPO7NHRSwZjWf9PwwVatWtmgQYP8LbJgh4K3999/32bOnOmXGhBQr169fKVFZenyGpoYK1D2k9oCbhqmrV5tbm3B1D5Pzg4BBBBAAAEEEEAgfAKhDN7EpGqKI1wpP1VL1DBIrf+m4K1FixZ+Ue7IIibaXs8pSNOcuI4dO/qKjEOGDPH3g7XQtB0NgYIKqECJKxLq13a7996C7oXXIYAAAggggAACCCBQMIHQBm86HQVdAwYM8Le8Tk+FPLRWmkriKzOnIC+7+XB57YfnEchJYNeujPlutWubqwKa01Y8jgACCCCAAAIIIIBA0QiEOnjLzykr89ahQwd/y8/r2BaBaAWUdXNFTBkyGS0Y2yGAAAIIIIAAAgjEVCB0SwXE9OzYGQIxEnCjdv1wSa3x5tZYpyGAAAIIIIAAAgggEHeBUGbetBh1sLZbrESUmaNoSaw0028/mzdnFCrRcEmqTKbf9eeMEUAAAQQQQACBMAiEMnhbtWqVX9MtlkCqUqn5cDQE8ivglgr067p9843Ztdfm99VsjwACCCCAAAIIIIBAbARCF7ydPn3a/vznP9v06dNjc4ZuL8q4/eUvf7HBgwfHbJ/sKH0E9u41V8U043y7d0+f8+ZMEUAAAQQQQAABBMIlELrgLSuPAi9VkixVqpQVK1Ys69NR/a59UHkyKio2ykZAhUo01+3cc7N5kocQQAABBBBAAAEEEIiTQCiDNwVpumneW7169WzYsGHWr18/q1Spkl/PrSBz12qrvjsNgQIILFtmpuzbNdcU4MW8BAEEEEAAAQQQQACBGAmELnhTYHbRRRfZN26C0fr1623r1q327LPP2iuvvGLt2rVzH6Cvsf79+1vFihXzRVDQrF2+DsLGKSegoE3LA5QpY9a6dcqdHieEAAIIIIAAAgggkEQCoQveZDdixAi/4PaePXts/PjxNnbsWFu7dq3Nnj3bFi5caI8++qj7IN3aB3IK9LSYNw2BohBYtMjs6FGzbt3MZYOL4gjsEwEEEEAAAQQQQACB6ARCGbyVcWkO3SpUqGA33nijDR8+3FefnDZtmr3zzju2Zs0amzlzpi1evNhGjRplTZs2tVtuucV69erl58dFd+pshUDeAuvWmZ04YdayZd7bsgUCCCCAAAIIIIAAAkUpEMrgLThhDaFUAKdbzZo1rU6dOjZgwAAfyM2bN89ef/11W++GVu7YscO0vICGUtatW9fuuOMO69Kli5UtWzbYFT8RyLeAhkvq5t5S1qJFvl/OCxBAAAEEEEAAAQQQiKlAqIO3yDNVIFe5cmV/03ICjRs3th49etiBAwd84Pb3v//d/9ywYYNtdisqq7iJip0oc9epUyeGVkZicj8qgcmTzbTGW+/e5jK6Ub2EjRBAAAEEEEAAAQQQKDKBpAneIgUUyFWpUsXfFMhpAe42bdq4cu6HXKZko40ePdqWLFniFlZe6TNzNWrUsPvuu8+6du0auRvuI5CjwP79GWu7VavGEgE5IvEEAggggAACCCCAQFwFkjJ4ixQKMnKdO3f2D+93n7qrV6/uh1RqaOUKt7qytlEGjoZAtAJuNK7PutWvby5rG+2r2A4BBBBAAAEEEEAAgaITSPrgTTTKvu3cudPGjRvnq1IqgNMSAydPnvRyGm6phb5pCEQr4OJ+K1+e5QGi9WI7BBBAAAEEEEAAgaIXSNrgTYHZli1bbMqUKX6o5O7du23u3Lm+eIme07DKSy65xA+pVLETDa2kIRCNwMGDZsuXmzVsSKGSaLzYBgEEEEAAAQQQQCA+AkkVvB0/ftzPYZszZ45t27bN33R/+/btPvumgG3w4MHWrFkzP3RSc9y0jICqTrJId3zeUKlwlKVLlc01a9LEXOGbVDgjzgEBBBBAAAEEEEAgFQRCH7wdO3bMVq9e7TIhy31WTWu8KWD75ptvvL/mt2n5AFWfVGGSPn36WPPmzRkmmQrvzgSdg0vgWtWq5r4ESFAHOCwCCCCAAAIIIIAAAtkIhDJ4O3r0qC/7v86tkPztt9/aokWL/JBIzWtTq1Wrlg/SGjVqZA0aNPCLc7d0qyiXKlUqm1PkIQSiF9i1y8ytNuGG2Zp7b0X/OrZEAAEEEEAAAQQQQKCoBUIXvH333Xc2adIk++CDD2z+/PmmuWyqFqmArXv37lbflf/TsMhevXr5eWwUIinqt0h67X/qVHPvt4zlAZR9oyGAAAIIIIAAAgggEBaBUAZvb7zxhk2fPt0blSxZ0i+4rblrGhKpwiMK2LQ4t4ZPRtv0Og2rpCGQk4BL+NqECWZadaJ165y24nEEEEAAAQQQQAABBBIjELrgLSuDhkIqWNu8ebMpqCtIU+buoYcesr59+xbk5bwmTQTc+u6mxbk1XFKLc9MQQAABBBBAAAEEEAiTQCiDN1WGVMClpoIlmvdWmKZ9HTlypDC74LVpIKBErpYHqFMnDU6WU0QAAQQQQAABBBBIOoFQBm9NXI12LbQdq6ZgUAt10xDISUDruU+ebNazp5mrg0NDAAEEEEAAAQQQQCB0AqEL3pQl+9WvfhU6KDqU2gKqMKlipm6VCbdGYGqfK2eHAAIIIIAAAgggkJwCGWMTk7PvUfdai3ufOnUq6u3ZMP0EPvnErEMHc9VM0+/cOWMEEEAAAQQQQACB5BBI6eBNyw4oaHv33Xf9Qt/JcUnoZbwF3NvELUth5gqaUqgk3vgcDwEEEEAAAQQQQCBqgaQI3lS0ROu97dmzx5RFi7atX7/ebr/9dvvjH/9oG1VKkIZANgKzZpkdPJiReaPKZDZAPIQAAggggAACCCAQCoHQzXmLVJk9e7a9/PLLfj23EydO+KfKlCnj13v70Y9+5ApL5FxZYtSoUfbhhx/ajh077PTp06YsHA2B7ASefdbs0kszCpW42jY0BBBAAAEEEEAAAQRCKRDa4O21116zN99809auXeuXCwiCL1WO/Pjjj/3yAT/96U/tvPPOOwOrbb7++mufadu0aZMdPnzYB25169a1cuXKndmOOwgEAlu3mq1aZXbffWZVqwaP8hMBBBBAAAEEEEAAgfAJhDJ4W716tU2cONFWrlxpJ10N96ruU3WtWrW83k5XElDDJ2e5sW5/+9vf7IknnvCPax23J5980saPH29b3SfyoEDJ9ddfb8OHD88U5IXvMtCjRAlobTdVmFTg9n9LCyaqKxwXAQQQQAABBBBAAIFcBUIZvL3//vu2ZMkSH7hdd911NmzYMKtSpYo/ES3Y/YkrDfj222/7rNzChQv98Mnf/e53Nm3aNNu7d68fItm6dWu75557rFOnTj7wK1WqVK4QPJmeAmPHmvXrR9YtPa8+Z40AAggggAACCCSXQCiDtw1u0S0t0t2uXTsbMGCAnX/++VaiRAkv29ylSVS0RJm3b775xl544QVX3r2+z9RpmKSagra+ffta27ZtGS7pRfhPdgLu7eO+JDC7/36zSpWy24LHEEAAAQQQQAABBBAIj0AogzcFYRou2atXLz/cMQjcxFa6dGn/2JAhQ+z555+3qVOnWtmyZf28uPbt29vIkSOta9euPtsW+brwkNOTMAiofo0bYWvuLWN16pj7ciAMvaIPCCCAAAIIIIAAAgjkLBC64C1Ym00/Nc8tGC4ZeQp6TBk4VZE8cOCAqRKlgjnNb+vRo4ebu5QUKyBEnhL34yzg3jr22WfmMrtm5cvH+eAcDgEEEEAAAQQQQACBAgiEMngLzkOZM1WXzNr0eMmSGV3X0gEdO3a0O++80w+TzLotvyOQVUCBm6uJY9u2mXXrZi5zm3ULfkcAAQQQQAABBBBAIHwCSZuiCrJr1dyqyjfeeCOBW/jeW6HtkVvz3f75T7MLLjBr0sTcFwGh7SodQwABBBBAAAEEEEDgjEDSBm/BGVSoUMF9CHefwmkIRCGgrNuuXWbjxpkbZkvWLQoyNkEAAQQQQAABBBAIiUDSB2/KwKmICQ2BaATc9EhbvjxjnluzZhQqicaMbRBAAAEEEEAAAQTCIZD0wZsYs5sXFw5eehE2gaNHzSZPNlfghsAtbNeG/iCAAAIIIIAAAgjkLpASwVvup8izCGQIaMjknj1mU6aYXXGFuaqkyCCAAAIIIIAAAgggkDwCoS7VsHHjRpszZ85ZwyK1NMCaNWu88pEjR2z27NlWqlSpXNVbtGhhKm5CS18BFSpZutTMFSh1BW7S14EzRwABBBBAAAEEEEhOgVAHb2+88Ya988472cqeOnXKP75161a7//77s90meFDz4v77v//brek1IHiIn2kosH+/2aRJZsOHp+HJc8oIIIAAAggggAACSS8QyuAtWMft5MmTpltOLVjrTdm33JqCtyDYy227vJ7TwuHHXPpG+woKpaivOTVtd1STrFxTX7UmXW7t+PHjfsFxbaNMYkEKsaiPumVtwbzA4GfW51P992DI5KpVZjfckOpny/khgAACCCCAAAIIpKJAKIO3xo0b2759+2LmrYClUqVKhdqfgrBdrsb8kiVL3LypPX5/GorZoEEDK1eunA/mggMoaDt48KBt2bLFli1b5oO92rVr+7XoqlatetYQTw0D3e/SQitWrLDNmzf7AiwyaNmypVWuXPnMguTB/nP6qX3ILbuAV8Gjjl1Yh5yOHfbH9XaaOdOsRg2zLl3C3lv6hwACCCCAAAIIIIDA2QKhC96U0Xr44YfP7mkCH1EwNn78eHv66aftm2++8cHVaZfKUWA1YsQIu+aaa6xOnTq+h8p6KWj7p1sF+s033/SPBZm/evXq2W9+8xvr2LHjmQBO2y9evNj+9re/2dy5c037VVNGr2fPnnbnnXda+/bto6qo+eqrr/rj7t69+6ztm7m6+Lfddptde+21fv/p9h83utY+/NDs3/893c6c80UAAQQQQAABBBBIFYHQBW9hhFXRlEcffdQHa7/97W+tV69etm7dOnvuuefslVde8YGYAiMNc9y5c6eNHTvWB259+vSx++67zxS0TZgwwf74xz/agw8+aK+//rrVr1/fZ+sUDP71r3/1Gb2bbrrJB4LKFGqbt99+2wdzDz300JngMDcf7UvBX+/evf0xI7et4VJOTZs2jXwobe5rVK2rfeOykmbduqXNaXOiCCCAAAIIIIAAAikmQPAWxQVVgKZhkMqaKXDT3DUNQbzlllt8xmypK2G4du1aa9Omja1evdo+//xza926tf3iF7/wQZeCsUsvvdT27t1ro0aNsmnTptnll19uFSpUsBkzZvihkkPcwmNXXnmlNWrUyPfoqquu8tvPnz/fvvrqK/9cXl1d7laf1jDOe+65xzp06JBpc/VBGcB0bI7dVSc169o1Hc+ec0YAAQQQQAABBBBIFQGCtyiu5KBBg6xJkyZ27rnnWtmyZf0rFAxp6QEFYJpnFszRU/CkwEsFRzTPTdupac6Zsm1qqpAZzEv79ttvfVETDcHU3Llg+5o1a/rs2Uw3USvYt39xDv/ZsWOHHTp0yJq67Jr2ldfSCTnsJiUf3r7d3JITZv/yLyl5epwUAggggAACCCCAQJoIELxFcaEHDhxo/fr1s4oVK2baesOGDX4OnLJswZw3BWiaA5c106V5cxp+qWGN2j6oJBkUJdm0aZMvhFK3bl1/jG3btvlsngqMNGzYMNNxs/tl/fr1Pghs3ry5ac6bhmmqyIr6pceqV6+e3ctS/jENmXS0DJlM+SvNCSKAAAIIIIAAAqkvQPAWxTUuX778ma00r0yB1tdff+0DJGXiFNgp46amDFsQ5Kn0v6pHan7cF1984YdTDh482M4///wzGTzdV3CogihPPfWUaZ6c2tSpU03BoYZTdu/e3T+W2380XFNLJmg/n332mR0+fNgHisrAaTjndddd5/sZZPZy21cqPadCJa7gp11wQcbi3Kl0bpwLAggggAACCCCAQHoJELzl83p/+eWX9sEHH/ismIY+XnTRRX5IZXbDFLWkwGuvvWaTJ0/2WTUFdl3dxCsNawyCKA277OaqaCxatMjmzZvnC5eoS1pPTlUpVXEymvL+ChIVLGo+ngJEDfHUMEoFjapiqX4o26c5e9E2Vf1U/yLbZZddllSLna9YUcqWLy9vw4Ydsu3bc14zMPIci+q+5jzqugdr/xXVcdJpv7LUsOLg31M6nXtRn6u+qFI13Oz+thX1sVN1/xoVof8P5LU2aaqef1GclywPHDhQFLtO+31qWofmyus9S4uNgJac0uc0fT6j5V/grbfe8rUiIl+pv6taXiudGv8i83m1FVCpeqT+AU6fPt1WuVWf33nnHf8HTgFTZFPQpUBKAZiGQSroUwVJ/cMdOnSoD4xUkGTMmDH+fz4qWKJlAfSBacGCBf727rvv+ixd1gIkkcfR/S5u8TLNmevUqZMP3FRQRcGlhmWq4MrEiRN9Nk/b6fjRNM3d0xy6yKaCKlWqVIl8KLT3Xezs3Itb+fIlXOatkguCM5ZhSFSHNWRWQUay+CXKKT/H1XtZ/14wzY9adNuqSJO+aAqGeEf3KrbKTUB/kxUMy5UWGwF58nc1NpZZ96K1Y/W3leAtq0zBf9e6vvr/VjRfyhf8KKn7yosvvvisgnyzZs3yn8VT96zPPjOCt7NNcn1E88e0OLeyXJq7puUClN1SUKPhiZEZgCCY0ppt+iCkQOjf3UJjL730ki/nr+GYCuiUcVOgdMUVV5wp8d+uXTsXdJS3jz76yBdGyWutN2Xv9BrNbQuCM/1PTX1VwKZhnuvdvLjtrnqHiq9E0zp37nzWP5JoXheWbVwy01X/NBdAmysek/i3ur4h1reYel/QYiOgf2/KvmEaG8/IvWhIuP4GkXmLVCncfb1P9UGY92vhHCNfrS9v9IEY00iV2NzX34DgPRubPbIXeeozGu/Xgr0XlCTJmijR52slUtKppWft+EJcYf2PVx/A9UetVatWfmij/uehOWfKxkU2fbDUBx9tr29alYFTwKcgSvPgNCxJ5f31nIZTKgDU9ropBawsmoYtaikCVajMrSnTpoxgELgF2wbH1rc8+pCrN3k6NHeqPnBT9q1v33Q4Y84RAQQQQAABBBBAINUFEp+OCLmwqkSOHj3aB1EqHqIgKWgKjPTNtAImDYfRt38KxlRsRMMVL7zwwmBT/1MZuOD1mtOm7XVTgKZgMDJrpxfoMT2noCu3Mf0ajvfhhx/6bKCOWatWrUzHVd90Uz+DYiqZNkjBX9xa6S44NlPxzjQttJmCV5VTQgABBBBAAAEE0luA4C2P66+A6pNPPjGN/dawSAU/wfhvZbFUKETBlQImjQ1fsmSJaUKlhjlquGIwrlnZOWXmtJi39qEsmYY4KphTJk4TgxXIBUOUFDSqwIWKnigjlzUgy9rtjz/+2FfB1FIF2mewH1Wd3Lhxow/+lN3Laz9Z95usvztSUwCXj/osyXqq9BsBBBBAAAEEEEAgTQQI3vK40MquabijqjW+//77PrultdM0503FRr766iuX3anrhzgqC6fnmrq5bSo4MnbsWP9aZbwUiH3++ec+UBs2bJh/jbZX9cc1a9b4Ev/KtGk+mgJGLUegIiPKqmk+mwI9BXcKxFS9UksTqBiKmvqoIZzqjzJwanpeAeDixYt9JlBBm85Dx0z15pKaztRcNSdzw1FT/Ww5PwQQQAABBBBAAIF0ESB4i+JKX3311b7Qx7Rp02zHjh2u+EVtn21T0KUM1/Dhw32WTbtS4KbiI6rwqIBPmThNTFUp04ULF7r5V33tpptuOpORGzRokM+6ad8vvviiz7IpeFNGT1m3/v37m6rr6DEFb8vcomWjRo3y68EFwZuOq2InO12qScsC6KcycBoqqUyfmvoYzXpxfuMk/4+mB7rL5ALYjGGTSX46dB8BBBBAAAEEEEAAAS9A8BbFG0EB2d133+2HT6qijbJfKp+t6o5aVFsLbQelyjVM8gK3IrQyXMqcqbqjsnR6/PLLL/dBlPan+W9qDRs2tJtvvtkHW8rWqTCJArUaNWr4wE0LgAfrV+g1yqhpP8q0RTZVwRw5cqTfdsWKFT5zp8BSc++U3VPWLR3KUztqW7nSnLm5ip6RQtxHAAEEEEAAAQQQQCC5BQjeorx+55xzjv34xz/22TBl0TRvrVq1atmugaTnFHQpaFIWTHPjNJwyp+BJAdktt9zis2eaFxcEb9pPZNPwS5Xv1y27pmUBdNMQTfVRwzAVBOp16dLcqbvg2tw5mwtw0+WsOU8EEEAAAQQQQACBdBAgeMvnVVbApls0TZkvFSaJtik7FxQ4ifY12W2ngiVBVcvsnk/lx9xoU7cwt5lLRLqsZiqfKeeGAAIIIIAAAgggkG4CrPOWblc8hc/XTfGzGTPMFWoxl/lM4RPl1BBAAAEEEEAAAQTSUoDgLS0ve2qetJYGUNZNS/G5Nc5pCCCAAAIIIIAAAgiklADBW0pdzvQ+mdWrzRWCyRgymd4SnD0CCCCAAAIIIIBAKgoQvKXiVU3Dc3JroNucOeYWUDfr2DENAThlBBBAAAEEEEAAgZQXIHhL+UucHifoinT6KpOqJeNWYqAhgAACCCCAAAIIIJByAgRvKXdJ0/OEVKjEFet0a++l5/lz1ggggAACCCCAAAKpL0DwlvrXOOXPUIVK1q83q1XLrFGjlD9dThABBBBAAAEEEEAgTQUI3tL0wqfSaSt408LctWtTZTKVrivnggACCCCAAAIIIJBZgOAtswe/JaHAJ5+Y1ayZUahEBUtoCCCAAAIIIIAAAgikogDBWype1TQ6pz17zJYvN2vQwKxJkzQ6cU4VAQQQQAABBBBAIO0ECN7S7pKn1gmvXGlWpoxZ3boZP1Pr7DgbBBBAAAEEEEAAAQS+FyB4+96Ce0koMG2aWcOGzHVLwktHlxFAAAEEEEAAAQTyKUDwlk8wNg+PwL59ZkuWZAyX1LBJGgIIIIAAAggggAACqSxA8JbKVzfFz23uXLMKFTKybuXLp/jJcnoIIIAAAggggAACaS9A8Jb2b4HkBDhwwGzePLOWLc3q1UvOc6DXCCCAAAIIIIAAAgjkR4DgLT9abBsagW3bMtZ2O+ecjGUCQtMxOoIAAggggAACCCCAQBEJELwVESy7LVqBGTPMNFRSwZuGTtIQQAABBBBAAAEEEEh1AYK3VL/CKXh+hw+bjRtn1qNHxvpuKXiKnBICCCCAAAIIIIAAAmcJELydRcIDYRdYs8bs6FGzpk3NKlYMe2/pHwIIIIAAAggggAACsREgeIuNI3uJo4DWdmvXzqxq1TgelEMhgAACCCCAAAIIIJBgAYK3BF8ADp8/gePHzT77LGPIZI0a+XstWyOAAAIIIIAAAgggkMwCBG/JfPXSsO+rV5tpce42bRgymYaXn1NGAAEEEEAAAQTSWoDgLa0vf3Kd/KlTZmPHmg0YYFalSnL1nd4igAACCCCAAAIIIFBYAYK3wgry+rgIfPddxrpuGzaYderE8gBxQecgCCCAAAIIIIAAAqESIHgL1eWgM7kJbNqUEcB17kzwlpsTzyGAAAIIIIAAAgikpgDBW2pe15Q7Kw2ZfPRRsx/+kCqTKXdxOSEEEEAAAQQQQACBqAQI3qJiYqNECpw+baasm4qV9OxpVrZsInvDsRFAAAEEEEAAAQQQSIwAwVti3DlqPgROnjSbOdNMwyXLlzcrViwfL2ZTBBBAAAEEEEAAAQRSRIDgLUUuZCqfxrFjZu+8Y3bllWZlyqTymXJuCCCAAAIIIIAAAgjkLEDwlrMNz4RAQHPdtm0zW77c7KKLzEqVCkGn6AICCCCAAAIIIIAAAgkQIHhLADqHjF7gyBGzSZPMevUyq16dIZPRy7ElAggggAACCCCAQKoJELyl2hVNofPRXDdl3ZYtMxs0yKw479YUurqcCgIIIIAAAggggEB+Bfg4nF8xto+bwIkTGeu6bd9u1qcPWbe4wXMgBBBAAAEEEEAAgVAKlAxlr+gUAk5g/36zL74w697drF49SBBAAAEEEEAAAQQQSG8BMm/pff1De/YaMrl1q9msWWbXXBPabtIxBBBAAAEEEEAAAQTiJkDwFjdqDpQfgcOHzdasMatSxaxx4/y8km0RQAABBBBAAAEEEEhNAYK31LyuSX9We/eaLViQsTxA0p8MJ4AAAggggAACCCCAQAwECN5igMguYiugtd1UpGTJkowqk7HdO3tDAAEEEEAAAQQQQCA5BQjekvO6pXSvDxwwW73arFIls5YtU/pUOTkEEEAAAQQQQAABBKIWIHiLmooN4yFw+rTZpk1mixebXXZZPI7IMRBAAAEEEEAAAQQQSA4BgrfkuE5p08ugUMnOnWb9+6fNaXOiCCCAAAIIIIAAAgjkKUDwlicRG8RTYN8+sy1bzGrVyrjF89gcCwEEEEAAAQQQQACBMAsQvIX56qRZ3777zmzlSrO5c81uuCHNTp7TRQABBBBAAAEEEEAgDwGCtzyAeDp+AgcPmm3caKZqk+3bx++4HAkBBBBAAAEEEEAAgWQQIHhLhquUJn3cscPs22/N2rVLkxPmNBFAAAEEEEAAAQQQyIcAwVs+sNi0aAXWrjVbv55CJUWrzN4RQAABBBBAAAEEklWA4C1Zr1yK9TtyyGSHDil2cpwOAggggAACCCCAAAIxECB4iwEiuyi8gBbl1rDJHj3MSpUq/P7YAwIIIIAAAggggAACqSZA8JZqVzQJz0dZt6VLzY4dM+vbNwlPgC4jgAACCCCAAAIIIBAHgZJxOAaHyCJw/PhxW+1STYfditSVKlWyRo0aWfny5bNslfHr6dOnbc+ePa4K40b7ztXSr1mzpjVu3DjbbfWgtt+wYYPt2rXLihcvbg0bNnRrptWyYsWK5fiaRD+htd2UdStTxpxFonvD8RFAAAEEEEAAAQQQCKcAwVucr8vXX39tb7/9tm3atMlOnDhhpUuX9sHbsGHDrEuXLpmCuB0uovniiy9s4sSJPoBTVytWrGht27a1W265xerWrZup9+vWrbP33nvPFixYYAddOksBW40aNaxfv342cOBAq1OnTqbtw/LLokVmu3eb66M5j7D0in4ggAACCCCAAAIIIBAuAYK3OF0PZcSUbXvqqadclmmHD6aaNGlimzdvtqlTp9oLL7zgg62ePXtaiRIlfLA2YcIEe+utt3zANnjwYB/YLXKRzrhx42zv3r328MMP++BPp6DfR48ebdOnT3drpLW3AQMGmDJ8+v3NN9/096+99lq/rzidclSHOXTIbMWKjE1d7EpDAAEEEEAAAQQQQACBHAQI3nKAifXDyrKNGTPG5s2bZw8++KANGTLEateu7TJOu61cuXI2duxYmzVrlrVs2dI/vmrVKvv8889d8Y5SNnLkSOvatasbVljGB2ZHjx71z11zzTXWsWNHPzxy/vz5PlBr3bq1XX/99X67kydP+mzbq6++6gPEDq6Mo7J7YWpbt5rt329Wr55Z5cph6hl9QQABBBBAAAEEEEAgXAIULInj9ShZsqR1797dhg4davXr1/dZMw19VEBVpUoVP69Nc9XUNOSxnotoLrzwQuvdu7d/vmzZsta8eXMfyB1yKaslS5bYqVOn/PbLly/3QyXPO+88O+ecc3yWrrKLhrTvFi1auMWvv7UtW7b4bcP0n2XLzJ0DC3OH6ZrQFwQQQAABBBBAAIFwCpB5i9N1UQZN89r6unKKKjqiYiJBO3DggKu0eMwUnGkOnJoCsBEjRvisnB4PmoI1FTBRU7GToBCJAjUFh9qXhksGTVk63bTfyP0Ezyfy55EjZitXmuu3uXl8iewJx0YAAQQQQAABBBBAIPwCBG9xukYK1tq0aXPmaAqyNE9NlSHHjx/v57lpWKOGUqpVr17d33RfQy73uZKMO3fu9Nm2adOmmTJsyqppfpyaMnqTJk2yhQsX+gIn2pdep21VHEXz4Fq1auW3jfY/H330kR/mGbm9iqXkdz+Rr4+8v2JFSZcRLGFNm55yw0NP+uGTkc+n2n1dc70PIgP3VDvHeJ+PvpiQa4UKFeJ96JQ/nlw1pFtfPNFiIyBTfckWfOkWm72m916OuG8BVaBrv8bf02IqELjqPUuLjYD+BujLelUPp+VfQFOP1q9fn+mFS7XWVJo1/kUm6ILPmTPHZs6c6YMjvRH79OljCriUTcvalGlTxUm9RgVL9D+pO+64w1epDLbV0EhVlHzppZdMc9xmzJjh/0CsWbPGLxegipO5LTEQ7Cfyp5Yn0B/vyKaKlU2bNo18qED3taabK7zpsoHKup3MlC0s0A6T4EUKphW4RWZGk6Dboe6iLOWKaewvU+DKh4zY2cpUnrxfY2cqy+AWu72yJwno/aqbCq7RYiMgT315w9+Agnlu27bNjdhyQ7Yimh7TF43p1AjeEnS1FZAp86a5bpr/puGQypDpftWqVTP1St/SaC6csgyaB6fhj/pd1Ss1B04Bgd68CrS0NEDQ9I25MnkaUqlve1QcJfL5YLucft57770+oMzp+cI8rul3bhqeCyzNzeEzlzkpzN6S47VB1i3r9U2O3oezl/o3oeyzhiLTYisgW7mSeYudqz60KYuhv/u02AhovVS9R/kbEBvPyL3IVp8ZyLxFqhT+vorPZfdFfeH3nPp7uOGGG0y3yKZRYir6l06N4C1BV1vVJocPH+4DOA2bfO2113ypfy3WrXlxkU0BnTJt+pCqLN0bb7zht1cw9sgjj/gqlHrjah/dunXzb2wNb9Q3O8rAvf766z4jpw8Ol112WSiG7Li401wxTB+8pUPgFnk9uY8AAggggAACCCCAQEEEvq+aUZBX85oCCyhIUzCmb7Wuu+4669Gjh2l5AFWQVKYtsmk7pYRVdERLCfzwhz+0WrVq2QcffOCLl2jMv9Z+0/P6RqJz584+O6eM26BBg+ySSy7xWTet+aZv0hLd3KgBt/i4uW9Kzc3bS3RvOD4CCCCAAAIIIIAAAskhQPAWp+ukYZEa5qihkUF5/+DQGpLQoEEDP7xRRUmUUdOwynXr1vn7wXb6qeyZAjkFcdqPttEyAFo6QHPaNBwnsiCGttdwEhVA0b63amG1BDc3wtMPmXTT59w6dAnuDIdHAAEEEEAAAQQQQCBJBAje4nShNB/t7rvvtl/+8pd+qGRkEQAtpq3gS8GYgi9l5T799FO/mLeGSEYGe8FkdxUtUdAXzGnTmH9l1TRUMnLfwfaaJKtx1mGY1Ll4sVm1auYC1jjhcxgEEEAAAQQQQAABBFJAgOAtThdRwZWGSKpipMqaKlhTQKUhkmvXrrW5c+f6YZRNXSVHBXAqfa5t9LiqPioo0/YqPLJgwQKbP3++X3pAGbtqLhJS4RIt1L3MrXqtQijaXjdl8FasWOF/NmvWzGf44nTK2R5GRavc6gU+4+aShzQEEEAAAQQQQAABBBCIUoCCJVFCFXYzZb0eeOABu//+++2//uu/7LbbbjMFagqu3n33XV/69KabbvLrtelYXV0JxosvvtjeeustX5Tkqquu8hk5lUjVUgAVK1a0n//852cW9R45cqQvZvL444/74ZkdO3b05X2nTJliumkZgsGDBye8WMn27WabN2dUmHSFM2kIIIAAAggggAACCCAQpQDBW5RQhd1MRUd69+5to0aNsscee8z+8pe/uGqLrtyia6om+ZOf/MSGDh3qC5EEj916660+YFO1yP/8z//026ooSbt27exnP/uZderU6UwwpmDvt7/9rT399NO+uuSLL77ot1c5WhUtufnmm+3cc8/1jyXyP265OnMJQJcpTGQvODYCCCCAAAIIIIAAAsknQPAWx2um4iFajFuB1maXftru0lCas1a3bl2fScu6npLWdNM8OVWQ1PaaN9ekSRNfgERrvWl/QdN9ZdueeOIJv+ab1n1ToKdhlSpWovuR2wevi+fPHTvMZs82F8QSvMXTnWMhgAACCCCAAAIIpIYAwVucr6OKjGjIo6pFap6aMnKqDpldYKXHNdxSywIoADvtJozp9ZHVJCO7r32p2ElTNxyzUaNGfp/B/iO3S9R9DZl08acLWM0tUJmoXnBcBBBAAAEEEEAAAQSSU4DgLUHXTUGVbtE0BXYK2qJt+dl3tPuMxXZvvmluqKe5wFVLHsRij+wDAQQQQAABBBBAAIH0EaDaZPpc64SeqVuKzlXCNFchk7XdEnohODgCCCCAAAIIIIBA0goQvCXtpUuujmttN7dSghsCai6LmFx9p7cIIIAAAggggAACCIRBgOAtDFchDfrw+efmlivImO+WBqfLKSKAAAIIIIAAAgggEHMBgreYk7LDrAK7d5stWmRuiYOM7FvW5/kdAQQQQAABBBBAAAEE8hYgeMvbiC0KKTBtmpkW5G7Y0NySBYXcGS9HAAEEEEAAAQQQQCBNBQje0vTCx+u09+41mzDBrF8/c+vTxeuoHAcBBBBAAAEEEEAAgdQTIHhLvWsaqjNya4vbxo0ZQyZZ2y1Ul4bOIIAAAggggAACCCSZAMFbkl2wZOvuxIkZywPUrUuVyWS7dvQXAQQQQAABBBBAIFwCBG/huh4p1ZuDB83ee89s6FCzqlVT6tQ4GQQQQAABBBBAAAEE4i5A8BZ38vQ44OnTZsuXm53+zqxFC7MyZdLjvDlLBBBAAAEEEEAAAQSKSoDgrahk03y/Ct60ttsFfczKlk1zDE4fAQQQQAABBBBAAIEYCBC8xQCRXWQW+M5l244cMfvoI7NLLjErXz7z8/yGAAIIIIAAAggggAAC+RcgeMu/Ga/IQ+DUKbNly8yOHjXr0IG13fLg4mkEEEAAAQQQQAABBKISIHiLiomNohVQ1u3QIbO33jK75RYCt2jd2A4BBBBAAAEEEEAAgbwESua1Ac8jkB+BkyfN1qzJGDK5cCHLA+THjm0RQAABBBBAAAEEEMhNgMxbbjo8l28BBW9btpg1bZrvl/ICBBBAAAEEEEAAAQQQyEWA4C0XHJ7Kv8DevWbPPWf2b/9mVqJE/l/PKxBAAAEEEEAAAQQQQCB7AYK37F14tAACJ06Ybdxotm2bWyLgArNixQqwE16CAAIIIIAAAggggAAC2QoQvGXLwoMFEVChkiVLzLp0MStVqiB74DUIIIAAAggggAACCCCQkwDBW04yPJ5vAQ2ZnDTJ7Ior8v1SXoAAAggggAACCCCAAAJ5CBC85QHE09EJHD9utnlzRrGSvn2jew1bIYAAAggggAACCCCAQPQCBG/RW7FlLgK7d5vNmWPWs6dZpUq5bMhTCCCAAAIIIIAAAgggUCABgrcCsfGiSAFl3VauNJs1y2zkyMhnuI8AAggggAACCCCAAAKxEiB4i5VkGu/nyJGMCpOnT5u1aJHGEJw6AggggAACCCCAAAJFKEDwVoS46bLr7dvNFi0yGzw4Xc6Y80QAAQQQQAABBBBAIP4CBG/xN0+pI2rI5Pr1ZmvXmg0ZklKnxskggAACCCCAAAIIIBAqAYK3UF2O5OvMvn0ZVSarVzerVy/5+k+PEUAAAQQQQAABBBBIFgGCt2S5UiHt57ZtGZm3Xr1C2kG6hQACCCCAAAIIIIBAiggQvKXIhUzEaZw4YbZxo9nWrWYXXJCIHnBMBBBAAAEEEEAAAQTSR4DgLX2udczPdNeujOCtZk2zJk1ivnt2iAACCCCAAAIIIIAAAhECBG8RGNyNXuDkSbPly822bKFQSfRqbIkAAggggAACCCCAQMEFCN4KbpfWrzxwwGzJErPDh80GDEhrCk4eAQQQQAABBBBAAIG4CBC8xYU59Q6yc6fZoUMMl0y9K8sZIYAAAggggAACCIRVgOAtrFcmxP06fdps7lwzLc592WUh7ihdQwABBBBAAAEEEEAghQQI3lLoYsbrVPbuzVjbrUwZs5Yt43VUjoMAAggggAACCCCAQHoLELyl9/Uv0Nlv2mR25IhZq1YFejkvQgABBBBAAAEEEEAAgQIIELwVAC3dX7J4sdnBg2Y9e6a7BOePAAIIIIAAAggggED8BAje4medEkfSkMkNG8zKlSPzlhIXlJNAAAEEEEAAAQQQSBoBgrekuVTh6OiiRWYnTph16mRWokQ4+kQvEEAAAQQQQAABBBBIBwGCt3S4yjE6x337zKZMMStfnrXdYkTKbhBAAAEEEEAAAQQQiFqA4C1qKjbcvTtjUe4qVcwqVcIDAQQQQAABBBBAAAEE4ilA8BZP7SQ/1vTpZqVLm3XtmuQnQvcRQAABBBBAAAEEEEhCAYK3JLxoiejy/v1mS5eaVa1q1qZNInrAMRFAAAEEEEAAAQQQSG8Bgrf0vv5Rn70qTJ48aVavnlmFClG/jA0RQAABBBBAAAEEEEAgRgIEbzGCTPXdzJ2bMc+tRYtUP1PODwEEEEAAAQQQQACBcAoQvIXzuoSqV4cOmS1ZYlazptk554Sqa3QGAQQQQAABBBBAAIG0ESB4S5tLXfATXbbM7NQps8aNzSpXLvh+eCUCCCCAAAIIIIAAAggUXKDKGWMyAAA7qElEQVRkwV+afq885SKYXbt22bFjx1zVxdJWxdXML1u2bLYQ3333nR09etRvr/vl3eJoNWrUOGtb7VPP59aKFStmxYsXN/3MrWk/p0+fznF/2odu+WmHD5tNmGDWrJlZ27b5eSXbIoAAAggggAACCCCAQCwFCN6i1Ny6dastXLjQli9fbgcPHrRy5cpZ06ZNrUOHDtakSRMfzAW7OnLkiK1du9YWLFhg69ev9wFVtWrV7Nxzz3Vl9ru67FXlM4HY5MmT7dtvvw1emu1PBX1dunQx7SO3tmLFClu1apXp+FlbJbcwW+vWra158+ZZn8r192++MXfOZldfbe48c92UJxFAAAEEEEAAAQQQQKAIBQjeosDds2ePvf322zZu3Di3OHUlH0QdchPBJriUlIKxESNG2HnnneezWsrKLXU19V955RUfvDVq1Mhn5+bNm2fvvvuujRw50q688kpXsTGjZOPYsWP9dlm7oYycjnHYpb569OjhMl/N8gzePv30U3vrrbd8sJg1I6h+XH/99fkO3hYtMqtTx6x27aw95HcEEEAAAQQQQAABBBCIpwDBWxTaU6ZMsddff906depkt956q7Vr1862bdtmr732milzpsyYgiMNo9y+fbt99NFHNnv2bLvqqqvsuuuu88/PmTPHHn/8cXvyySetY8eObq20NlayZEkbPHiwz95l7YYyfTNnzrT9boE1BYj1VKM/j7ZlyxafAbzwwgvd/DQ3QS2iqW8toigVuXevucydbnXdsUu7czHr1cusVauInXEXAQQQQAABBBBAAAEE4i5A8BYF+ddff+0zbnfccYcPvEqVKuV/Hzp0qK1bt85Wr15tmzZt8sGbhkDqMQV62r6qVrV2rWfPnj7z9fvf/94UyGnIZcWKFe3SSy89qwfKuL333nv21Vdf2QUXXOAzexqmmVs7ceKEH6JZv359N8Txamvfvn1um2d6zk2Tc3PzzHbuNJcFzPi5bdtAl1ms5qtMDhlirq+ZXsIvCCCAAAIIIIAAAgggEGcBgrcowBVgtXXVOs5xdfIVuAVN95U901BJFSdRC4Yn6vEgcAu2DwKwAwcO+KGNweORP1VwZNasWaYhkLVq1bLhw4f7n5HbZHdfmUANsVRQqH7pGCpgon6UKVPGSpQokd3L/MLbGzeaG25ppiGSbnOrW9fca/fZSy+ddD8zAjol8pR9c6NGaQgggAACCCCAAAIIIJAAAYK3KND79OljuqlpLtrJkyd9sLbIRTvKtHXr1s0aNGjgn6/jJogF2TQFT9pWt71uPKKGXyqQ0rBJ/cyuqZqlhmJu3rzZbrnlFuvevXt2m531mAqkKICs6RZjW7NmjSlbqKBS/VGhEg2jDILH4MXKuLmEof3852YqTDJ6tFnDhubm7ilgG+f63Nd+9KMGpqUCfvlLszvvNDdfz1wgGOyBnwgggAACCCCAAAIIIBAvAYK3fEpreKSqOk6aNMmmTZvmM139+/fPdk6agilVp1QBk48//tgPl7z55pt95cjsgjcFe9qn5stp2OVFF10Ude80dFNVJt9//30bM2aMDzK1v+PHj/s+3n777TZs2LBMVTE1TPLNN80FoGZffJH5UCdP1nfz98yd10G74orTNmpUcRfEKfAs6Yqe5L60QeY98VsgoKyqWvAzeJyfBReQZXAr+F54ZXYCgSvv1+x0CvYYpgVzy+1VmOamU7jn9Bki8C3cnnh1IBB46ict/wJKSmiaUGTLrsJ65POpeJ/gLZ9Xdfz48b5QiQqTqOS/Su8r26U/clnXYVMW7R//+Id99tln/jllwbRcQE5DGHfv3u2LlGjI4/nnn5+vypAaNqkMn4Z23nbbbb5C5b59+3wgp4BO1S9VgfKyyy7zZ6xRnprf9sknZwdu2mDv3hEukzfWZd7Gu6GU37p9V3PZuf9wFTD72t1378unGptLQNdD7xEVoaHFRkB/yOWa9Y95bPae3nvR3zh9+aOh17TYCGgEhjz1nqXFRkBfkmr5Hr1XabEVUOE0fa7I6TNLbI+WHntT9XKtExxUHE+Ps47dWT7xxBPuc6v74BrR9Pm7X79+EY+k/t1i7qRJo+TjOut/ulroOlg+QJUlVcb/rrvu8gFT5K70R0/b6x+qhjWOGjXKtGSAlgtQMRNVgIxsmuf27LPP+iGY9957rw/0Ip/P7b72q6GWCvoUJAaBpL6RUACp2yWXXGK/+MUv/PBJfXZwyUD74AOzV1/NvGe3Gxs0aLs9/3xlV+lSYyT1FilmjzxS0g2/LG733JN5e36LTkDBud47WedCRvdqtspOQO9vfSCOphprdq/nsZwF9PektlsjRH+/aLER0Bd6Ct6y/u2Pzd7Tcy+a660vxOpqsjYtpgIb3YR4FUHjC5zYse50Q5408krLTtHyL6DP1Zq+FNkUzGl02zPPPBP5cErf5yvVfF7eYIFtfWuigE3f/Gv9thkzZvi5b/pwHjT9watevboPpFTw5LHHHvNLB/zzn//0ywgE+9L2iqE1h27Hjh1++YCWLVsGu4nqp6pL6hg6ZmQfNM9NSwQ0dJPZtO8NGzb4ZQqU/HEjLV1wdvbu3YoDrj+73B+YSi5b9/3cPDd1zmUZXRhX7OzX8EjeAgqog1veW7NFNAJ6r2MajVT+t5Fr4Jv/V/OK7ASC96p+0mIjgGlsHLPbC7bZqRTuMUwL56eCfJGFA7W3rL8X7gjJ8ervI43k6G/Cexn8T1cfalTqX8MUq1WrZlpjTUMMsrZgewVVWg+uQ4cOPuDTvLmgQqVeo2+41q9f77/pViYvv990aXt9Qx4ZuGm/Or4e101jrINvLFQ0U1/8aImArM3VU3FVM//b/YPYmOkpFSqJiE0zPccvCCCAAAIIIIAAAgggULQCBG95+CpF+9Of/tQNGXzEZ64iNw++QdFjwbcB06dPtwceeMANRcwyFtFtE2yvLJsyYpGBloZVKjOmwC3rAtuRx8zuvvqoIZl/+MMffBCYdRtlBxUoKluoTKCail26WNIFnFm3Npdt0/nscv3NPClUQy3d1AIaAggggAACCCCAAAIIJECA4C0PdE3UVTEQFSpRgBU5KVrz3lRNUotqa1y4AiMFSUuWLLEvv/zSZbW+T2sp66VKlQtclRBtp2GMkXNJlLnT3B0FbsGyA3l07czT6mNQ0XLlypU+sxc8qTl36qPmBDRp0sQXV9Fzyrpp3Ta3nrgtXhxsnftPN2XL7Sf3bXgWAQQQQAABBBBAAAEEikaAOW95uCpbdqVb3Ox//ud/fDGRq666ypq6hbBVKEHrsWntNs036927t8++6bmePXvaxIkT7cknn7ShQ4f6jJcqt73lVsJWQHfffff5hbe176BpyKQCLRWzyKkKkTJoCv5efPFFO++88/x+9Hrt5+KLL7ZVq1b55xRUtnKRmSrwKRP4+eef++In2iYYG+xGWbosn9nll5t7jbn5eEFPsv+pJQVKuaGWnTtn/zyPIoAAAggggAACCCCAQNEKELxF4augR4GVKkuqamP58uV9YKQqV5rDdsUVV/iFsLUrZc2uvvpqP7dMa7YtcytcK2DStrrdfffdfr017SOyaf96TMFb5HDKyG00X+0bt5q2Asasa4SojyqXPG7cOL8sgAJAbaNjqviJgk4t1h3Z3FQ9u+GGjMzb//t/Zo8+evacNpcMdPvLyNS5XbjMYOQeuI8AAggggAACCCCAAALxEiB4i0JahUYU/CgIUoZM2TMFRypProBI2TbNYVNTCVhlxbQUQPfu3X0REw2rVMltBXZafFv7yxqgXXvttTZw4EBr165djj3SMEsFi7/+9a/PKousteaGDx/u+7jOjYVUH7Wum8onq49aj06/RzZl39zoTVdwxdz6cuYCS3NDOs1VzTQ3VHSQjR6tSpkZRU3+5V/MVamMfDX3EUAAAQQQQAABBBBAIJ4CBG9RateqVcv69+/v57cpGFOQpgAuu6qQCpIU6Clg0oLbmgendX2CAC+7Q/bo0SO7hzM9pmNpTlxOBU0UIOrWzUVfysIp2FMfg6GSmXYW8YtiOreut733XkaGzS0T585vl5vHd8IvDeCm8xG4RXhxFwEEEEAAAQQQQACBRAgQvOVTXcGQbtE0FRJJxILMGn6ZdVhmbv3VEgAueWgPPvj9VtWrz3ULdV/vMn3fP8Y9BBBAAAEEEEAAAQQQSJwA1SYTZ8+REUAAAQQQQAABBBBAAIGoBQjeoqZiQwQQQAABBBBAAAEEEEAgcQIEb4mz58gIIIAAAggggAACCCCAQNQCBG9RU7EhAggggAACCCCAAAIIIJA4AYK3xNlzZAQQQAABBBBAAAEEEEAgagGCt6ip2BABBBBAAAEEEEAAAQQQSJwAwVvi7DkyAggggAACCCCAAAIIIBC1AMFb1FRsiAACCCCAAAIIIIAAAggkToDgLXH2HBkBBBBAAAEEEEAAAQQQiFqA4C1qKjZEAAEEEEAAAQQQQAABBBInQPCWOHuOjAACCCCAAAIIIIAAAghELUDwFjUVGyKAAAIIIIAAAggggAACiRMgeEucPUdGAAEEEEAAAQQQQAABBKIWIHiLmooNEUAAAQQQQAABBBBAAIHECRC8Jc6eIyOAAAIIIIAAAggggAACUQsQvEVNxYYIIIAAAggggAACCCCAQOIECN4SZ8+REUAAAQQQQAABBBBAAIGoBQjeoqZiQwQQQAABBBBAAAEEEEAgcQIEb4mz58gIIIAAAggggAACCCCAQNQCBG9RU7EhAggggAACCCCAAAIIIJA4AYK3xNlzZAQQQAABBBBAAAEEEEAgagGCt6ip2BABBBBAAAEEEEAAAQQQSJwAwVvi7DkyAggggAACCCCAAAIIIBC1AMFb1FRsiAACCCCAAAIIIIAAAggkToDgLXH2HBkBBBBAAAEEEEAAAQQQiFqA4C1qKjZEAAEEEEAAAQQQQAABBBInQPCWOHuOjAACCCCAAAIIIIAAAghELUDwFjUVGyKAAAIIIIAAAggggAACiRMgeEucPUdGAAEEEEAAAQQQQAABBKIWIHiLmooNEUAAAQQQQAABBBBAAIHECRC8Jc6eIyOAAAIIIIAAAggggAACUQsQvEVNxYYIIIAAAggggAACCCCAQOIECN4SZ8+REUAAAQQQQAABBBBAAIGoBQjeoqZiQwQQQAABBBBAAAEEEEAgcQIEb4mz58gIIIAAAggggAACCCCAQNQCBG9RU7EhAggggAACCCCAAAIIIJA4AYK3xNlzZAQQQAABBBBAAAEEEEAgagGCt6ip2BABBBBAAAEEEEAAAQQQSJwAwVvi7DkyAggggAACCCCAAAIIIBC1AMFb1FRsiAACCCCAAAIIIIAAAggkToDgLXH2HBkBBBBAAAEEEEAAAQQQiFqA4C1qKjZEAAEEEEAAAQQQQAABBBInQPCWOHuOjAACCCCAAAIIIIAAAghELUDwFjUVGyKAAAIIIIAAAggggAACiRMgeEucPUdGAAEEEEAAAQQQQAABBKIWIHiLmooNEUAAAQQQQAABBBBAAIHECRC8Jc6eIyOAAAIIIIAAAggggAACUQsQvEVNxYYIIIAAAggggAACCCCAQOIESibu0Ol75JMnT9r27dvt+PHjVrZsWatRo4aVKVMmW5DTp0/boUOHbOfOnf75SpUqWc2aNc/aVvv87rvvzno88oFixYpZiRIlTD9pCCCAAAIIIIAAAgggkFwCBG9xvl5r1661GTNm2OrVq+3IkSNWvnx5a9asmXXv3t2aNm1qpUuXPtOj/fv325IlS2zu3Lm2bds2H5xVr17dzjvvPOvdu7dVqVLlzLbvvvuu7d2798zv2d1p1KiRP472QYu/wOLFi/317dmzZ/wPnqJH/Oabb2zatGl24403pugZJu60Pv30U7vyyiv9l0uJ60VqHXn+/Pn+7/b555+fWieWwLPR/xvnzZtn1157bQJ7kZqHHjdunP/bGvlZIzXPNH5nNWfOHKtbt6517NgxfgflSCknQPAWp0uqrJg+aI4ePdqmTp3qAzUFURs3brSvvvrKVq5c6f9Itm7d2ooXL26HDx+2WbNm2euvv25btmyxc845x3/w1z/8iRMn+kycPrCWLJlxCfVBa/PmzWedjTJyCuqOHj1qgwcPtvbt25+1DQ/ER2D69OlWsWJFI3iLnbfe8/riguAtdqbBnl555RXr168fwVsAEoOfkydPtsaNGxvBWwww/28X69evtw8++IDgLXakZ/b04osv2uWXX57pi+IzT3KnQAL6/NahQweCtwLp8aJAgOAtkCjinwqiFGC98847Nnz4cP9hs3nz5j7gevnll31Ap/+pN2jQwCpXrmz6H9KHH35omzZtshtuuMEuueQSq1Chgg/onnnmGXvuueesb9++/oOAgr2rr77alKnL2pThU7Co4ZLdunXLdshl1tfwOwIIIIAAAggggAACCIRPgOAtTtfk1KlTtmjRImvYsKHdeeedPuhSQNWqVSsbMmSILV++3FatWmU7duzwwdu3337rgzENj9RwEGVs1BSAKbB7/PHHbfbs2X5/Ct6GDh161pns3r3b769UqVI2cOBAHwDmNLfurBfzAAIIIIAAAggggAACCIRKgOAtTpdDAZTmj/To0cPq1avnM2HBoRV8qYjIiRMnTBk6tRYtWviMm7JwQeCmx7WdtlfTnLmcipRoPxqiM2XKFL8vDZmsVq2afx3/QQABBBBAAAEEEEAAgeQTIHiL0zVTlq1Pnz5njqZKk7odOHDAD4VURcmWLVta7dq1/TYaPqmbmipOalsFaxpGOXPmTD8PpWvXrpmCQL/x//1n69at9sUXX/jXXHTRRb7ISeTz0dzfsGFDpgIq0byGbXIW2LNnj597qCwrLTYC+vegfxeYxsYzci/6MmndunWmUQO02Aho/rEqDPN+jY2n9qJ5r5ojjmnsTIM96d/+mjVr7ODBg8FD/CykwL59+/yIKN6vhYSMeLk+76ZbK+YyN7nXl083kTid79KlS023L7/80g9/7Ny5s91zzz1+ImvWLugfu4ZcLliwwAdkGjZ566232gMPPJB1U/+7/uC+9NJLvtiJ5sXdcccdVr9+/Wy3zelBvUbFVGgIIIAAAggggAACCIRVQIXgfve734W1ezHvF5m3mJNGt0NlxVQhS9kYfROr4EpDKzXcMaggGexJVSrHjBnjlxhQrK0ys8rKKeNQrly5YLMzP7WGnCpYKtunqmb5Ddy0oxdeeOHM/riDAAIIIIAAAggggAACiRcg85aga6DhkgratPi2qk0qkGvbtq3dfffdpixcZNPwpWPHjvmgTuu+Pfnkk6YlA+666y6frYtcG+7/t3cm0FZVZRzfVmZiTAKaE4OIIwgKiCg44YAoJOVAlppmZmVlpqtodC1bKxtcrsxE0sSJJBUSc0RBIhAEFFRUlFHUxIEccEjLjN+m87jvvDuch7x377v3t9eCd4dzzj3nd/bd9/t/37e/zX4333xzGDduXFzT7fTTT4/LEuQez8cSkIAEJCABCUhAAhKQQMsjsL7yRcs77xZ/xq1bt46RNoqXkP7Iekpz586NqZHpTFYichQtQewh7AgN85zlAli/LbexL8KOVEsWgezSpUvu2z6WgAQkIAEJSEACEpCABFooAcVbBdw4yvdTXbJdu3axIAlpj4UalSYRfggzipgwF47IXNJYboAJ3N26dYvpklSntElAAhKQgAQkIAEJSEACLZ+A4q2Z7iELaLPY9ujRo/NWbqKiJFGzVq1axQqPkydPDmeddVZMgcx3ikkFOARfsnQA21HBiPXddtttt7gkQb59fU0CEpCABCQgAQlIQAISaHkEFG/NdM8oHoKAmzp1aqzimKznxsdTkIQIGq+xiDeCjMdE0VgWADGWtKR898KFC2PRErbn2EmjQiRlfbt371637EDynn8lIAEJSEACEpCABCQggZZL4OMXrmst9/RbzpmTvkh65LRp08LSpUvj/DXWdkOgUbBkzpw5gbL+w4YNCx07doyCjPRJXkfcse8rr7wS58WNHTs2Pr7gggtCr1696kXexo8fH5YvXx6GDh0a13YzbbLl9BHPVAISkIAEJCABCUhAAsUIuFRAMTqb8D3K/x955JEx+jZp0qQwZsyYmB5JJI2UScTWiBEj6gqMdO3aNZx00kmxwuSsWbPCggULokhjnhuFSxBuQ4YMqRd143QpVNK+ffvQpk2boHDbhDfQQ0lAAhKQgAQkIAEJSKDMBFwqoJlvwJo1a8IzzzwTUydJh2zbtm2cm0aaI+u35Zb9p5LkCy+8EJYtWxZYQZ7nyRpvu+66a9w3ffrz58+PhUyY89ahQ4f02z6XgAQkIAEJSEACEpCABFooAcVbmW7cO++8ExfZJorGQtu5RUfSp8T8N7YnSscSAaRQ2iQgAQlIQAISkIAEJCCB2iKgeKut++3VSkACEpCABCQgAQlIQAItlIDVJlvojfO0JSABCUhAAhKQgAQkIIHaIqB4q6377dVKQAISkIAEJCABCUhAAi2UgOKthd44T1sCEpCABCQgAQlIQAISqC0CLhVQW/c789VSCXPzzTcPrVq1arAcQeaD1NiGrMNH8RmYFStAk8bCUhH8y9dY7iF3EfZ829Tiax9++GGsvvr6669HdvRVqqvKqnBvgBmFj958883IjGJJ7dq1axQzjkFf5W+60Vf515i+nz5GtT6HGcu4vPvuu3H5l9atW8exolqvd1Nc1wcffBBee+218N5778UqzCx/09hiXaX6K33VJXUK3y3Ycw9gz3jhd7swq9x3qAwON8ZXuGXtY9oCuRSLP+a7nXy/821JX63m/qp4y3fXa/w1DOK//vWvgeUL+vTpEytc1jiSopfPAILYveWWW0L//v3D3nvvndnIWLt2bVi8eHF48cUX834GS0NwPH4AbOsJsLj9ypUrw1NPPRX/Uo11q622Cj169Ah77LFH3VqJ8tpAAOGwfPny2NdYfgTDGIOMJUd23333sMMOO2zYuMgj9l26dGkUgOnNMKy7dOkSj5d+r5afv/rqq5E733PGCb7LO+64Y9hrr71C13XreTZWkNQCy5deeik8+eSTkRtjJA4x+lbPnj1jX81dUqcYD47BWEF/TzcMa5bU2XbbbdNv+fz/BObMmRMWLlwYDjnkkPi9tq+W7hr0tZkzZ4bHHnssHH300WGXXXaJjvBSezJGP/3002H16tV5N91uu+1C79696y0nlXfDGnkRZznLbjGmphvrKjPGYjtVa1O8Veud3cjrwit/7733hrFjx4YTTzwxGncsT2DLTwBPGR6222+/PVxxxRXh/PPPjwIi64/c888/H6688sowd+7csPXWWzf4kEGDBkURrXhbj4bIxcMPPxz+/Oc/R8OuU6dO0fjFwJs4cWI47LDDwle/+tW4HmJWb2cD6FX2AmL3wQcfjM4F+lvHjh1j9AdjYfLkyeGoo44KX/ziF8M222xT8spnzZoVrr322sAPJ4I5t9F/hw8frnjLgUK/vPvuu8Nf/vKXuP5m+/bt419e33PPPcPJJ58cHWTV7CHOwZHpIf1y0qRJsW8y7uFk4HsPs/333z+cdNJJsY+V+n7jVLvpppvCHXfcEfsqBl1uw2nx5S9/WfGWC+X/j2GHo2bMmDFh0aJFcTzdeeeddTTkYZX7EsLt2WefDZdddllYsmRJtJ9w0JAZUqqxHzbEI488Ehgn0u2ggw6Kx8vquEjvX23PH3300Wg74ZRkjMhtZEAdeeSRirdcKD6uTgKIkJdffjnMmDEjDiAIEltxAqy7x+Lp06ZNC7/73e8CEaDGNtLYMIQZ4DF80w1vMwORbT0BBmoMOzyUn/vc58Kxxx4bxQgeuD/96U/RSGbh+29+85tRoMgthCeeeCIKNyJAiIUjjjgiRtMff/zxaNzCE2ZnnHFGSVwcg36OEZ32atJPiXzaNhCYP39+ZIywxakAN8ZWHA04yRAn3bp1y2usbThKbT0ianHDDTfEyORpp50W+xnj7Pjx4+PvE4YtkeK0wZaPEgYxzsfjjjuuwfY4frJGnPMdu1pfQ7jh8Bk3blwcZzfmd61a2RS7Lrjx3YYbv1PYVI1pMCeKhEgeNmxYg12N0tdHQoYY9hPRyAMOOKDem4hlIp7V3Oq7oqr5Sr22ggTwFpFagpfyrrvuit41PcEFccU33n///Rj5mTBhQrj//vuj8cVA0pjG4M4AxICNcDvrrLMas3tNbotIIxVqwIABUWwkwpb0XiJKpPkQ5Tj77LMVb//vIaQ9YcSOGDEifOELX6jznvODB79zzz03ColS4o1xgsgdxjDHwrNpK05g3rx50YhDNBMVJiKP+MA4gyXjLh76/fbbr/iBauhdxBv9ErG7zz77xKgFQo0x8rnnnou8Vq1aFVMoi2HBuYaTB+Pu1FNPzRRZLna8WnkPbrNnz44RS+YRF0rprxUeWa+T6DCZCdhQpDjy/c7akgwe7AEcDdoCxcnxW0R6KYKZzBF+12qtKd5q7Y7nuV5ExyWXXBJztAnN41EnfG8rTIAfNFIj8LCR1878lYsuuqjwDnnegTvRTrxEeICZHM4PJ8KZ17KkWuQ5bFW/RKoe814w6hLhxgWTQsV7RDFIO2FQt60nQFQNcUuaXm46L/0Mo3j77bfPO28gzY+oG2nVRJEouIGxgtGR9Nd0Wlp6/1p8fuihh4addtop9OrVqx57Up+4F3zn8bjbNhBA2NJX03OFiFIyJtLv+Fes0S8RejjZiFjQEs70U46jgzJiqfdf4qD59a9/HR0KiDfmv9uKEyA6uWzZspjGx1QHuDEHPmujb5KBw7jAeEzBE46ZjK3aAvVJInKJcvL7BWt40XcTXrXwW6R4q98navIZHR3jDu8kBTeYH2PVvuJdAeFw4IEHhm984xtR7D7wwAPFd8jzLoYw3jmMEgzsv/3tbzFCwrEpvoEBQ5Sj1NyOPIeu2peI9uSL+GCsMSeGKAaFCGS2oQswR4h/6caPHT+CRDEwGEo15sAwH4lt+ctcLvbnx5PCDxjJ9GXbBgKMp/yj0UdhjlFGPyUaioceh4NtA4HBgwcH/tESZji1iLjj7MJxUyrdkf2IuvG3c+fOgRRhxlqcOjxnvhtzPGvByNtAtvgj2JAFwnx3eI8ePTrceOONxXfy3dincOZeu24uMP3pBz/4Qbj66qsbRYbxlNRgCvPwm48twLicW4iLx/6urcfKOLBmzZpoNzGeTpkyJYpf7CiKcGE/5Tp3G3UzWsjGircWcqOa8jTp5IbpG0eYH/7TTz897sTgsTGNAZsBGqPil7/8ZTSEGZwTg4WI3o9+9KNoHDtoFyeMiGDuFh5MnBA6H4rzwlDDWCDFh75F6kmpRiQDzqSuTp8+Pc43YB/6KxX7Ro0aFVNZ9RLnJ0kFRUQbaYE4ezDShg4dGkVv/j18lbERZvQ3DFrmAB9++OElnQ30SeZ68veqq66KzgYe0+8R0AhA5sUyB9GxYn0/Y+ykXzIN4Oc//3ksUmJ0svR3kDFx6tSp4aGHHgoXXnhhTN8vvVf9LYgiMb6SRv2LX/wi9tfEFmBLxomf/OQnUaxoC4TAWIqAw0GDY+att96KQPl+M64yH/673/1uVVfmVLzV/w75TALNRiBJlcDbxnyYU045JRrBDEaXXnpp9CaRnsacpHyVKJvtRCv8g4i4UTTmuuuui8bdmWeeqUFW4p7htSRyRrVJ5gQhvEo10nroswi1E044IRrRGMR4PZn7efPNN0fPMf3Y1pDA3//+99hHSbXmO08qZakIUsOj1NYrFHVhLjaRDcZClq/JUhWVfoljjL+kXzJ/jmI6OCwYJxCCf/zjH2P6pPMNQ4wGswQIUTfEMc4chVvp7xoRSpwEFMuiEBS/4zgHGtsYV0lLJ7oGe+bIUlCHioq//e1v41hNiiC2ANGlWm+IXZzf2EXMEWQONmnozDm85pproiMXluecc07VolK8Ve2t9cIqnQBe5K985Ssx8kEKJoMPXjWMicsvvzxOwqXMNYY1A7Ye4oZ3lEH8zjvvjLwwhH/1q1/pnWyIqd4rTPS+9dZbY0oUczWJ7mIYl2r0UQxnDOjc+UikZFKE4+KLL45CDq8nP5y2+gRI92UOHM4GBC9ziZhbxBjA67aGBOhLI0eOjPNbbrvttsiN/guzJB214V4hijKWuiH9csiQIXXjJ/38+9//fozA4fBhLS6mDNR6+XUinCxZg0AgYqFwy9erGr6G4MUZgEPr61//euS2MeKN1GmcjqRdDhw4sM4W4DHvUZADRxtLutCHa/3+4HBEmCFwcYLx/cV2IluJtXHPO++8yIulQIjEVWNTvFXjXfWaWgQB5gphXDDoINySRtoZPwb9+vWLxgqLUTNPo1oHoeS6G/uXNBM8nqyxhxD+6U9/GnPdTSspTJI0E8qwk4aG0fq9730vGgdZmCHYuq6b10b/zJ0rRBSJ1xF1zJkhrZK0NFt9AonHnO89xhjMKStOmtrBBx9c8wZZfVrrnyUZBzgHEGwUIEH0Ug2xb9++BZnh6MIJRuSNeZhJ/+Z1jsV8YtaLJDpHChZFZWq1EVHHAUZE+IILLsgU2axVVrnXTRQXbvQfxALVjje2sS/F4uinhWwBxgnmfTLnmDG3lhv2EBz4Puem6TMFiMW5cUqyPiH/SI2uxqZ4q8a76jW1CAJ4zwoVeGAQx8PGXwwWcrltGwggaDF8WdwcL9y3vvWtKNxyRcWGrX0EAVhdf/310QDAaYAxjFc3a0SXH8ncH8qEKn0UzycGBZFQ+qutIQE40fhLhIP1nIhkkhKIiOi6TgDb6hNImCWiCwcC7IgUwa1Y2mmuEZx7VI6JkUdfZr7yxs5Zzj1mS36Mw4X1CBEjzL2minLSSOWjKvLvf//7OHZQxARj2HE2xDlXpDWuXDdPjTmCSYEMfqsRxKRU/uY3v4kRTSpRU8W70FjL64Xew07QFkh65Pq/9L9CfZDXyfzgPlDNt1qb4q1a76zXVdEE8Agzt420SKojMYco3UivYjsMvHxGc3r7WnnODybCjbkGlGWmcAyGb6Efv1rhUuw6KZKBcCNayeR3Uh3xUGZlRioQqZZUSCT9j6hdbsMApnw7Ii7LnKTcfav1Mcww3hCzRNoQHklDQGCUJX9rPW0v4UI/ojADAg3nQm5fghX9lb8YaMXGROYQwR6j92tf+1qDNF5Ki2NcEw1lm1puOF2IROZzJMKJuUVU8CUbJBEotcwruXYyYYjwpDNi+M1G8FJNmigvqX352CbHYfsFCxbEtTaZl0macG5DhFCQg7/cg0KiJXefan4ML9LOWb+UtUqJWOY2xl2+/4yvVPOt1qZ4q9Y763VVNAEMEDyepK9hUDPRmXQqGoM0XlAGdAZrUgI17tbfTuYYMPeFyBupZhTHIIUCnrb8BEgdYeFySv0zJ+D444+PP2qNYcYPIemQzBPCoKYUczKvDUOFNY6IhhAFzbLsQP4zra5XYQZznA377rtvFMuJEYdjBmYUjoHZR0m5qiZqiDMiGfQlxkSM30SkJZVO6W8YZbxXrM2ZMycavawbR39NHBUwJ/2McZaxFWFSy43vM86FfGvnXbuu/D0VaSnGQbQeB0TCsZaZce1EfZmDhsDNbTggKIZzzz33hGOOOSYMGDAg9jPGg3yNcZgIJ5U+iSbzu5akCyNUGENYu5Q+ry2wPnMBm+m+++6LAg1HIs4eGpE2HIz8VsEK26Bam+KtWu+s11UxBMiJZ7Ixf4l6MNGeAZvBH8ON+RtjxoyJ72EQM5AT5cDI+M53vhMFXKGBv2IushlOhAjGvHnzooCABwN1vvX1YEu1rsToa4ZTq9iPwLCAEX2MKANedLyW6Yb3mOIQsFuxYkXsj/RPll3AkOB15mAyT4g5RzxPom9EQHmN7ThGoXS19GdW+3MYUSxj8eLFsRonxjHr4RHxIU0No5joJyJF58z63gCz4cOHx9Q91soiCoERBjuixzNmzIhVIynkwPcbEUzfplQ7/TPJYOA9DGeqJ1L8ieNg/CL82JZ+zDGYN1frkQy+r/TDfA2BzFiLwGNOazrKlG+fWnmNKGS+uZJJRJe+TPEMBG8SsaTYDkva4LjFqYBTh+0QGUTx6Jf0WcQytgA2A7YAjgvmI+LkYftablw/kWJ+n3B+0yeT8QCHGLYW32l+uxJnWTXyUrxV4131miqKACF8omhMCCfvPWkM/BgbeNcoXU00iR9SDAzmDpEOiNhLIhzJfrX6l3kEFNzgB41BGWOOBeXTDc8w0SXFW4ieXLyQGAuIXSJn+RwBGLaUXOY9+h7bITQSYxjGzHVB/JHqO3HixGgE80OKAY0wpLpfsQqA6ftUC8+JVsAToTZ+/PjoIeb7DjMMO4QKAsK2gQCGK8xYJoCy3xhnGMQwI62MsuD8peHQwdmAgyJ3nOS7jyOBdDPewyDmfbanDxMN4f1q9sxvIOqjSiFAfySKRjQN4ZY0HBTJWEt/xSFGH8YWoN+z1AVLCFSzGElYZPlLhUlS/8nCoWgMDhx+9+HLb9gZZ5zRIJ0yy3Fb0jabrUsdsBJCS7pjzXCupOyRcsKEegy4xGvUDB/dIj8iSW1gHSeq7OFpyxUO5L4zYGM0MOjANWl4lBF1pLYxoDNY411D2GEI8zifsZ3sX0t/8T7CibSqYg1BgZDIvQfFtq/m94jikrZHOk6xhoGMUQw7RDIGBOlkLA+Q620nGoyTgYWTWSSVvklqL2lpeI6T9JVin1Vr73EPmN+KV5jHRNkQboytzHet9TlX+foDDhrmtCDMEHL8BuFgwONOBCiptkdkmVRq0iC7rpv3ml6zjfRLjkMqFeMHfRmPPeMwBrPGcD76G17D6YjzB6EBLyPEG9gUeoQ9QASNMZI5WUQ1k+guNgBRdxy6OHLps0njtz+xBbDBsA0SW4B+zbQKxmfbegKwpG/ye8R4wVw3IsTYV2SFVHs6tOLNb4IEKoAAAw+DEcYIg05inFTAqXkKEmhAAMMCjzDGBILNVMkGiBq8kHjRcSog2HQuNEDU4AU86fxDZCG8EiO4wYYlXsCBhsHMuMpxnLdVAphvl40Ac+bor9oC2W4B0XR4YUORAVIrDhnFW7b+4VYSkIAEJCABCUhAAhKQgATKSiB/+ZuynpIfLgEJSEACEpCABCQgAQlIQAJpAoq3NBGfS0ACEpCABCQgAQlIQAISqEACircKvCmekgQkIAEJSEACEpCABCQggTQBxVuaiM8lIAEJSEACEpCABCQgAQlUIAHFWwXeFE9JAhKQgAQkIAEJSEACEpBAmoDiLU3E5xKQgAQkIAEJSEACEpCABCqQgOKtAm+KpyQBCUhAAhKQgAQkIAEJSCBNQPGWJuJzCUhAAhKQgAQkIAEJSEACFUhA8VaBN8VTkoAEJCABCUhAAhKQgAQkkCageEsT8bkEJCABCUhAAhKQgAQkIIEKJKB4q8Cb4ilJQAISkIAEJCABCUhAAhJIE1C8pYn4XAISkIAEJCABCUhAAhKQQAUSULxV4E3xlCQgAQlIQAISkIAEJCABCaQJKN7SRHwuAQlIQAISkIAEJCABCUigAgl8ogLPyVOSgAQkIAEJ1BF4/fXXw4UXXhjeeuut+Np5550Xdt111/CJTxT/CVu8eHGYPHlyWLZsWejZs2f49re/XXfMSngwa9ascP3114etttoqDB48OIwcOTLzaU2fPj3cd9994aWXXgoHH3xwGDFiRGjbtm3m/WfPnh3ZvPrqq+H4448PgwYNCp/+9Kcz7++GEpCABCRQHgLFf/nKc05+qgQkIAEJSKCOwHvvvRcQG4g4WuvWrcMPf/jD0LFjx7DZZpvVbZd+wPaPPvpoWLhwYdHt0vs113OE18yZM0O7du1C586dG/WxCL7nn38+zJkzJ17bnnvuGfr27Zv5GFOnTg3Tpk0LH//4x6N4++QnP5l5XzeUgAQkIIHyETBtsnzs/WQJSEACEtgIAjNmzAhTpkwJa9eu3Yi9q2OX3XffPeyyyy7hU5/6VFi6dGl48sknM1/YK6+8EkUtkczevXuHLl26BMVbZnxuKAEJSKCsBBRvZcXvh0tAAhKQQGMJIDomTJgQnn766fD+++83dveq2J7oI9G2HXbYISDGlixZEv75z39murZ58+bFdMsPP/wwDBw4MGy33XaZ9nMjCUhAAhIoPwHFW/nvgWcgAQlIQAIZCXTo0CHOdXvmmWfCpEmTwurVqwMipBZbr169Qo8ePcJ//vOfsGLFiihmS3GAFemSRC1J1dxjjz1CmzZtSu3m+xKQgAQkUCEEnPNWITfC05CABCQggeIEmN+28847h4997GMx7Y95WwiYYcOGxXljxfcu/O7bb78dli9fHiNYb775ZpwHtuWWW8aIFAKHKFclNs5tt912i/PeVq5cGR5//PGw//77F53f949//CNu969//SsceOCBMXIHz9zGe4hi5tS98cYbgecwaNWqVdyeNMv0Prn7+1gCEpCABJqOgOKt6dh6ZAlIQAIS2MQEiLxRWfHSSy+NgovoG2Kif//+GzVvi9RLqj4uWLAgIGxIPaSKJZUXOW6fPn1iaiGicfPNN9/EV/PRDsd8N1Inu3fvHouycC1r1qyJhVwKHZn5gq+99lrYYostotDbeuut621KCub8+fNjgRjm0nG8d999N1ayRMDxWfvtt1845JBDKlbU1rsgn0hAAhKoMgL13W1VdnFejgQkIAEJVB+BAQMG1EXbFi1aFO65554YJWpM+uR///vfmGZ4zTXXhMsuuyw8+OCDERSCjXlkNETdlVdeGa677rrwxBNPhA8++CC+Xkn/UbgEAUdUctWqVTGqVuj8SK9keQHEGBE7hBgRxqS98847AXE3duzYcOeddwaikMyHozAKyxAg+iZOnBguueSScP/99wcY2iQgAQlIoHkJGHlrXt5+mgQkIAEJbAICJ554YqywiMC6995749wvokiU3S/VEHksI3D11VeHu+66K875Yq20I444oq54BymDDzzwQCzlzzaIo/bt28doXKnjN+f72267bRRinTp1Ci+88EKMwHEt6bRGrvm5554LiN1///vfYciQIfF6cs+V1FFSUfnbr1+/8NnPfjZyJRKJsKOi5U033RSrWyLw+ByYFFuuIff4PpaABCQggY9OQPH20Rl6BAlIQAISaGYCrPE2atSomOpIuuAdd9wRdtpppziPq1TZe8QLa7+xD6LmqKOOCuecc04gJTMRIkSz9tprr1iKn4W+WU+NaNWXvvSlBsKomS+93sdxvixYzrkivFiYnIW3t9lmm3rbESW7++67A2vmIXCJXqYX9SZNkugdguyggw6K4i33IBRHYX25MWPGxPlvrFPHMVgrziYBCUhAAs1DwLTJ5uHsp0hAAhKQwCYmMGjQoHDYYYdF0cVi3KTyEV0qlT5JAQ7SAhE0CJlTTz01ELVLhFtymqRPEl0iNZGoFlErUgkrrTEfr2fPnnHOH/P2mLOW2+BBqiQpkwhXipp85jOfaSC62I5/pFeSIok4Q+wlDeF2+OGHh3PPPTeMHj06EPVLR/iSbf0rAQlIQAJNQ0Dx1jRcPaoEJCABCTQDAdIn99lnnxghQ7xNnz49sA5cscbacETeaBTfIOWwkAhJ5oYhaijm8eyzzxY7dFneo5AI0Tfm6yG4Hn744Xrz85irx9IKRChppIfmq6DJ/DYEGUVbiEpeddVVMeLINb/88suRK0VShg4dGgvE5BO8ZQHgh0pAAhKoIQKKtxq62V6qBCQggWojQHrgyJEjY0ojUbEpU6aEhx56qJ54SV8zYoYIFW3HHXcsKNx4HzFDiiYNUZh1Iey4QzP+161bt1gZEwakTiK2koZYJWUSAbr99tuHvn37xrTH5P3k79577x2jcjBFBN5www3h7LPPDqecckq4+OKLw2233Va3GDgRPJsEJCABCTQ/AcVb8zP3EyUgAQlIYBMSoGw96Y2ILCJqpAeSPlmokS7JP9IkSY0sNmeLiFwSlSP1kEInldiIuiURSCKEs2fPrjtNzhtRi3g7+uij47y1ujdzHrCO28knnxzOP//8KASJzrE8AssFULTloosuCieccEJ8/7HHHovplTm7+1ACEpCABJqBgOKtGSD7ERKQgAQk0LQESJ+kCAdCjNRJlg8oFB1KxBhihmgafws13kvepxAKAqcSG9fdtWvXKLooWEKBFRpz1h555JG46DbPEW/FroH17YYPHx4rcd54441xftvAgQNjYRK4wZQKn2eeeWZcKJ35cTYJSEACEmg+Aoq35mPtJ0lAAhKQQBMRIOp2zDHHBFL/3njjjTBt2rQo4vJ9HBG3RMBQFr/Y+m2kIa5duzYeBmGTpFDmO265X+vcuXOci/b222/Hcv5EH3lM1A3hte+++8aKnMUijck1MLeNeXQUc7niiiti2iV/jz322LgJRV/+8Ic/BP7aJCABCUig+Qi4VEDzsfaTJCABCUigiQggyKg+uWTJkrhgN4tqM6+NNcrSjQgaKYZEkEizLBShYz+KdVBpklbp4o0CIiwZQCVJqkWSOkllSYQs4o1127bYYot4Len/SCNlHbe5c+fGde8OOOCAOD8uiVKyfAB8WbCbtEwie1T4NPKWJulzCUhAAk1LwMhb0/L16BKQgAQk0EwEmJ9FWiDz30h1ZK5WbuGO5DQQbwgRWrIYN4tQpxuibt68eYH5XUTqiGwxR65SG0KLAixU0GRuHnP/EGNcW5s2beJ6djDK19h3xowZYdy4ceHWW2+Nwix3O8Qx+7JcwJZbbhnnC7LMQiLucrf1sQQkIAEJNB2Bhi7JpvssjywBCUhAAhJoUgJUU2QtshUrVsSS+XxYOk0wKXc/YcKEuCg16YCIEPYjukZjLhzl8m+//fZYYZIKjSxcnRvJQxQxn2z6ujl2vH7cccfFVMPGChpEIimOM2fOjJ9d7D8iYF3XzW1DROVrlPtn7h/r2BEZI20S0XXooYfG5QEQYYUa4pToHRE4rp1j9enTp25zrpdoJYKW4wwePDgeu24DH0hAAhKQQJMTULw1OWI/QAISkIAEmosAQq1///4x3RFBlC/yhriiHP6Pf/zj8LOf/Sy8+OKL4fLLL4/zuhBGCBPEHymYpAiySPfnP//50Lt373qXQQl+tkHgkY5IimKPHj3qbZPlCUIRUYRoKtW4ttNOOy10794976ZECFm0m/NgbTfSR4k0jhgxomSUjPNnLbjVq1fHtEi48DmIOK511apV8XqpXsn6d6NGjSqYhpn35HxRAhKQgAQ+MgHF20dG6AEkIAEJSKCSCBA9I3USAXbLLbfkPTUiZUSoEG+TJ0+OKYPMESNaRSNi1bZt25iGyaLUzJFLR7tIzaSaIwVSEG9E0JLKlHk/tMCLFExhjhr/SjXSIhFShRrCk+gjaaGs98axEZ8UcikWdeN4RN1YM4/rZGkAhBwMSZNkThzFSYhaMncOMYvQbWyUsdB5+7oEJCABCWQjsNm6H5rCNZKzHcOtJCABCUhAAk1GANFASiHiiGIcvXr1qpe+mO+D2ZZiI0uXLo2CqlOnTqFfv34NNmU7Kk4SVVq5cmWguiStQ4cOcf4YAoV5bgiYdENEEd1D5BDxI8WQiF4pkZQch/l2ixYtisIoea3UX66DqBdz2Ao1zosiK0899VQUV1wLEbssDZFGtBHRBhOicAhUxC7ijtRK/rEouMItC1G3kYAEJLBpCSjeNi1PjyYBCUhAAi2QAH5MinwgVGhEn0hBTM+Xa4GXttGnjGhmmQQqSiLU4MHC3TYJSEACEigfAcVb+dj7yRKQgAQkIAEJSEACEpCABDITcKmAzKjcUAISkIAEJCABCUhAAhKQQPkIKN7Kx95PloAEJCABCUhAAhKQgAQkkJmA4i0zKjeUgAQkIAEJSEACEpCABCRQPgKKt/Kx95MlIAEJSEACEpCABCQgAQlkJqB4y4zKDSUgAQlIQAISkIAEJCABCZSPgOKtfOz9ZAlIQAISkIAEJCABCUhAApkJKN4yo3JDCUhAAhKQgAQkIAEJSEAC5SOgeCsfez9ZAhKQgAQkIAEJSEACEpBAZgKKt8yo3FACEpCABCQgAQlIQAISkED5CCjeysfeT5aABCQgAQlIQAISkIAEJJCZgOItMyo3lIAEJCABCUhAAhKQgAQkUD4CirfysfeTJSABCUhAAhKQgAQkIAEJZCageMuMyg0lIAEJSEACEpCABCQgAQmUj4DirXzs/WQJSEACEpCABCQgAQlIQAKZCSjeMqNyQwlIQAISkIAEJCABCUhAAuUjoHgrH3s/WQISkIAEJCABCUhAAhKQQGYCirfMqNxQAhKQgAQkIAEJSEACEpBA+Qgo3srH3k+WgAQkIAEJSEACEpCABCSQmYDiLTMqN5SABCQgAQlIQAISkIAEJFA+Av8Df2pSJHUOtjIAAAAASUVORK5CYII=)"
      ],
      "metadata": {
        "id": "c2oIwzd1NNLi"
      }
    },
    {
      "cell_type": "code",
      "source": [
        ""
      ],
      "metadata": {
        "id": "W_Ey_GIIUlzK"
      },
      "execution_count": null,
      "outputs": []
    },
    {
      "cell_type": "code",
      "source": [
        "# plot obs vs predicted, compute abs/rel rmse"
      ],
      "metadata": {
        "id": "opLCJtcuNS6W"
      },
      "execution_count": null,
      "outputs": []
    },
    {
      "cell_type": "markdown",
      "source": [
        "### Plot scores, loadings and VIP"
      ],
      "metadata": {
        "id": "8KDUuEjCNYdy"
      }
    },
    {
      "cell_type": "code",
      "source": [
        "# plot bi-plot / scores / loadings / VIP values"
      ],
      "metadata": {
        "id": "JfO8t_EINqrb"
      },
      "execution_count": null,
      "outputs": []
    },
    {
      "cell_type": "markdown",
      "source": [
        "### Task: Check model diagnostics"
      ],
      "metadata": {
        "id": "1ZDg9ewmNfoj"
      }
    },
    {
      "cell_type": "code",
      "source": [
        "# Residuals, mahalanobis distances"
      ],
      "metadata": {
        "id": "wrjCJ-CZNlJo"
      },
      "execution_count": null,
      "outputs": []
    }
  ]
}