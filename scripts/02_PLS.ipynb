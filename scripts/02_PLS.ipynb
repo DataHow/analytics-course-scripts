{
  "nbformat": 4,
  "nbformat_minor": 0,
  "metadata": {
    "colab": {
      "name": "02_PLS",
      "provenance": [],
      "toc_visible": true
    },
    "kernelspec": {
      "name": "python3",
      "display_name": "Python 3"
    },
    "language_info": {
      "name": "python"
    }
  },
  "cells": [
    {
      "cell_type": "markdown",
      "source": [
        "# Setup of Noteboook\n",
        "\n",
        "The follwing code clones the github repository with course files. \n",
        "Subsequently it imports all libraries and custom modules needed for this notebook"
      ],
      "metadata": {
        "id": "3K4Flq2pqV8q"
      }
    },
    {
      "cell_type": "code",
      "source": [
        "!git clone https://github.com/DataHow/analytics-course-scripts.git\n",
        "!pip install --upgrade scipy==1.7.3"
      ],
      "metadata": {
        "id": "Hw07wkwbqW43"
      },
      "execution_count": null,
      "outputs": []
    },
    {
      "cell_type": "code",
      "source": [
        "# import libaries\n",
        "import pandas as pd\n",
        "import numpy as np\n",
        "import scipy\n",
        "import importlib  \n",
        "import scipy.integrate\n",
        "import plotly.express as px\n",
        "import plotly.graph_objects as go\n",
        "from plotly.subplots import make_subplots\n",
        "import statsmodels.api as sm\n",
        "from sklearn.pipeline import Pipeline\n",
        "from sklearn.preprocessing import StandardScaler\n",
        "from sklearn.preprocessing import PolynomialFeatures\n",
        "from sklearn.feature_selection import RFE\n",
        "from sklearn.linear_model import LinearRegression\n",
        "from sklearn.cross_decomposition import PLSRegression\n",
        "from sklearn.metrics import mean_squared_error\n",
        "\n",
        "# import custom modules\n",
        "emulator = importlib.import_module(\"analytics-course-scripts.scripts.modules.emulator\")\n",
        "plothelpers = importlib.import_module(\"analytics-course-scripts.scripts.modules.plothelpers\")"
      ],
      "metadata": {
        "id": "QbesfOWUqYmG"
      },
      "execution_count": 94,
      "outputs": []
    },
    {
      "cell_type": "markdown",
      "source": [
        "# Import or Generate Dataset\n",
        "\n",
        "In the beginning of each notebook you can make a decision whether you run the notebooks with already pre-generated runs which will be just imported or you will generate your own doe dataset from insilico model. For further information about the process emulator for cell culture fed-batch processes, check the script \"00_Process_Characterization.ipynb\" or the Powerpoint presentation \"Simplified InSilico Model.pptx\".\n",
        "\n",
        "* For dataset import set `select_dataset_source = \"import\"`.\n",
        "* For generating data set `select_dataset_source = \"generate\"`.\n",
        "\n",
        "For first time running the notebook, we recommend choosing the \"import\" option.\n",
        "\n",
        " "
      ],
      "metadata": {
        "id": "O05GdQIHW-TM"
      }
    },
    {
      "cell_type": "code",
      "source": [
        "# Select dataset source\n",
        "select_dataset_source = \"import\""
      ],
      "metadata": {
        "id": "mkFlmeIaW_In"
      },
      "execution_count": 3,
      "outputs": []
    },
    {
      "cell_type": "code",
      "source": [
        "if select_dataset_source == \"import\":\n",
        "    # Define filename to import\n",
        "    filename = \"owu.csv\"\n",
        "    filepath = \"/content/analytics-course-scripts/scripts/datasets/\"\n",
        "    # Import OWU Train data\n",
        "    owu = pd.read_csv(filepath+filename,index_col=None, usecols = [\"X:VCD\", \"X:Glc\", \"X:Lac\", \"X:Titer\",\"W:Feed\"])\n",
        "    owu.index = pd.MultiIndex.from_product([list(range(int(len(owu)/15))),list(range(15))], names=[\"run\",\"time\"])\n",
        "    doe = pd.read_csv(filepath+filename.replace(\".csv\",\"_doe.csv\"),index_col=None, usecols =[\"feed_start\",\"feed_end\",\"Glc_feed_rate\",\"Glc_0\",\"VCD_0\"])\n",
        "    # Import OWU Test data\n",
        "    filename = \"owu_test.csv\"\n",
        "    owu_test = pd.read_csv(filepath+filename,index_col=None, usecols = [\"X:VCD\", \"X:Glc\", \"X:Lac\", \"X:Titer\",\"W:Feed\"])\n",
        "    owu_test.index = pd.MultiIndex.from_product([list(range(int(len(owu_test)/15))),list(range(15))], names=[\"run\",\"time\"])\n",
        "    doe_test = pd.read_csv(filepath+filename.replace(\".csv\",\"_doe.csv\"),index_col=None, usecols =[\"feed_start\",\"feed_end\",\"Glc_feed_rate\",\"Glc_0\",\"VCD_0\"])\n"
      ],
      "metadata": {
        "id": "SG1_Y3_-XA-a"
      },
      "execution_count": 4,
      "outputs": []
    },
    {
      "cell_type": "code",
      "source": [
        "if select_dataset_source == \"generate\":\n",
        "    # Model parameters\n",
        "    mu_g_max = 0.05;\n",
        "    mu_d_max = 0.025;\n",
        "    K_g_Glc  = 1;\n",
        "    K_I_Lac  = 30;\n",
        "    K_d_Lac  = 50;\n",
        "    k_Glc    = 0.04;\n",
        "    k_Lac    = 0.06;\n",
        "    k_Prod   = 1;\n",
        "\n",
        "    # Process parameters\n",
        "    feed_start = [1, 4]\n",
        "    feed_end = [8, 12]\n",
        "    Glc_feed_rate = [5, 20]\n",
        "    Glc_0 = [10, 80.0]\n",
        "    VCD_0 = [0.1, 1.0]\n",
        "\n",
        "    var_lims = {\"mu_g_max\":mu_g_max,\"mu_d_max\": mu_d_max,\"K_g_Glc\" : K_g_Glc,\"K_I_Lac\" : K_I_Lac,\"K_d_Lac\" : K_d_Lac,\"k_Glc\" : k_Glc,\"k_Lac\" : k_Lac,\"k_Prod\" : k_Prod,\"feed_start\" : feed_start, \"feed_end\" : feed_end,\"Glc_feed_rate\" : Glc_feed_rate, \"Glc_0\" : Glc_0, \"VCD_0\" : VCD_0}\n",
        "\n",
        "    # Define the number of experiments\n",
        "    num_runs = 50\n",
        "    # Define the filename for the dataset\n",
        "    filename = \"owu.csv\"\n",
        "    filepath = \"/content/\"\n",
        "    # Generate Dataset\n",
        "    owu = emulator.generate_data(var_lims, num_runs, filename)\n",
        "    # Import OWU\n",
        "    owu = pd.read_csv(filepath+filename,index_col=None, usecols = [\"X:VCD\", \"X:Glc\", \"X:Lac\", \"X:Titer\",\"W:Feed\"])\n",
        "    owu.index = pd.MultiIndex.from_product([list(range(num_runs)),list(range(15))], names=[\"run\",\"time\"])\n",
        "    # Import DOE\n",
        "    doe = pd.read_csv(filepath+filename.replace(\".csv\",\"_doe.csv\"),index_col=None, usecols =[\"feed_start\",\"feed_end\",\"Glc_feed_rate\",\"Glc_0\",\"VCD_0\"])"
      ],
      "metadata": {
        "id": "ST074EQUXCar"
      },
      "execution_count": 5,
      "outputs": []
    },
    {
      "cell_type": "markdown",
      "source": [
        "# Regression Modelling\n",
        "\n",
        "In this section, we first create load the train experiments that were create inthe PCA script and save in the file \"Experiment_Train_Set.mat\". \n",
        "These experimental data will be used to create a MLR model to predict final titer, which will serve as term of comparison for the PLS model trained below."
      ],
      "metadata": {
        "id": "_F7ck0Hl8rqw"
      }
    },
    {
      "cell_type": "markdown",
      "source": [
        "# Initial Conditions model\n",
        "\n",
        "From OWU train and test dataset we create BWU data, DOE data and Target data.\n",
        "DOE data contains the inditial parameter conditions (or Z variable) for the experiments.\n",
        "Target data contain just the final values of Titer at day 14 (or Aggregates)."
      ],
      "metadata": {
        "id": "J-chgbGTTl4P"
      }
    },
    {
      "cell_type": "code",
      "source": [
        "# Train set\n",
        "bwu = emulator.generate_bwu(owu)\n",
        "tar = emulator.generate_y(bwu,return_aggr=False)\n",
        "# Test set\n",
        "bwu_test = emulator.generate_bwu(owu_test)\n",
        "tar_test = emulator.generate_y(bwu_test,return_aggr=False)"
      ],
      "metadata": {
        "id": "ku0WUSTxX49x"
      },
      "execution_count": 6,
      "outputs": []
    },
    {
      "cell_type": "code",
      "source": [
        "# Visualize input data\n",
        "doe"
      ],
      "metadata": {
        "id": "1zz_u_Ffr34Z",
        "outputId": "5299e355-f273-4bda-b8b5-ed84c66ccdc7",
        "colab": {
          "base_uri": "https://localhost:8080/",
          "height": 1000
        }
      },
      "execution_count": 7,
      "outputs": [
        {
          "output_type": "execute_result",
          "data": {
            "text/plain": [
              "    feed_start   feed_end  Glc_feed_rate      Glc_0     VCD_0\n",
              "0     2.500000  10.000000      12.500000  45.000000  0.550000\n",
              "1     1.948980  10.244898      18.622449  40.714286  0.274490\n",
              "2     3.295918   9.346939      14.642857  17.857143  0.127551\n",
              "3     3.479592   9.020408      15.561224  47.857143  0.843878\n",
              "4     1.459184   9.591837       7.295918  33.571429  0.421429\n",
              "5     3.418367   9.265306       8.214286  45.000000  0.403061\n",
              "6     1.153061   8.448980      17.091837  67.857143  0.862245\n",
              "7     2.438776   8.122449      14.336735  10.714286  0.898980\n",
              "8     2.744898  11.551020       9.132653  27.857143  0.292857\n",
              "9     2.316327   9.183673       5.459184  75.000000  0.256122\n",
              "10    2.071429   9.918367      10.051020  25.000000  0.550000\n",
              "11    3.112245  10.897959       5.765306  66.428571  0.311224\n",
              "12    3.602041  10.163265      10.663265  53.571429  0.641837\n",
              "13    1.030612  11.224490      12.806122  43.571429  0.807143\n",
              "14    1.214286   9.755102      11.581633  62.142857  0.880612\n",
              "15    3.969388  11.387755      13.112245  36.428571  0.458163\n",
              "16    3.908163  10.979592      14.030612  55.000000  0.531633\n",
              "17    1.887755  11.795918      18.928571  13.571429  0.586735\n",
              "18    2.867347   8.040816      12.193878  23.571429  0.660204\n",
              "19    2.255102   9.428571      17.704082  77.857143  0.825510\n",
              "20    2.193878   9.673469      18.316327  37.857143  0.678571\n",
              "21    2.132653   8.367347       5.153061  12.142857  0.237755\n",
              "22    2.622449   8.285714      19.540816  49.285714  0.954082\n",
              "23    1.642857  11.714286       9.744898  15.000000  0.752041\n",
              "24    3.357143  11.142857      19.234694  29.285714  0.439796\n",
              "25    2.928571  11.306122      12.500000  19.285714  0.605102\n",
              "26    1.091837  10.734694       6.377551  52.142857  0.145918\n",
              "27    3.846939  11.061224       7.602041  69.285714  0.770408\n",
              "28    3.234694   8.530612      11.887755  73.571429  0.329592\n",
              "29    2.989796   8.693878      15.867347  30.714286  0.788776\n",
              "30    1.275510   8.204082      19.846939  22.142857  0.109184\n",
              "31    2.806122  10.571429       6.683673  20.714286  0.568367\n",
              "32    3.663265  11.632653      18.010204  60.714286  0.917347\n",
              "33    3.785714  10.653061       9.438776  16.428571  0.219388\n",
              "34    1.704082   8.938776      16.785714  72.142857  0.623469\n",
              "35    1.397959   9.836735      11.275510  70.714286  0.990816\n",
              "36    1.520408  10.408163      13.724490  35.000000  0.476531\n",
              "37    3.051020  11.469388      16.479592  79.285714  0.366327\n",
              "38    2.500000   8.857143       7.908163  26.428571  0.384694\n",
              "39    3.540816  11.959184      17.397959  50.714286  0.182653\n",
              "40    2.010204  11.877551      15.255102  32.142857  0.164286\n",
              "41    1.581633  10.326531       8.826531  56.428571  0.494898\n",
              "42    1.765306   9.510204      16.173469  46.428571  0.972449\n",
              "43    3.724490  10.489796      10.969388  76.428571  0.935714\n",
              "44    1.336735   9.102041      13.418367  65.000000  0.733673\n",
              "45    2.377551   8.612245       6.989796  59.285714  0.513265\n",
              "46    2.683673   8.775510      10.357143  57.857143  0.201020\n",
              "47    3.173469  10.000000       8.520408  63.571429  0.696939\n",
              "48    2.561224  10.081633       6.071429  39.285714  0.715306\n",
              "49    1.826531  10.816327      14.948980  42.142857  0.347959"
            ],
            "text/html": [
              "\n",
              "  <div id=\"df-0b207aad-ffaf-4c39-969b-e6f6e88fa0ed\">\n",
              "    <div class=\"colab-df-container\">\n",
              "      <div>\n",
              "<style scoped>\n",
              "    .dataframe tbody tr th:only-of-type {\n",
              "        vertical-align: middle;\n",
              "    }\n",
              "\n",
              "    .dataframe tbody tr th {\n",
              "        vertical-align: top;\n",
              "    }\n",
              "\n",
              "    .dataframe thead th {\n",
              "        text-align: right;\n",
              "    }\n",
              "</style>\n",
              "<table border=\"1\" class=\"dataframe\">\n",
              "  <thead>\n",
              "    <tr style=\"text-align: right;\">\n",
              "      <th></th>\n",
              "      <th>feed_start</th>\n",
              "      <th>feed_end</th>\n",
              "      <th>Glc_feed_rate</th>\n",
              "      <th>Glc_0</th>\n",
              "      <th>VCD_0</th>\n",
              "    </tr>\n",
              "  </thead>\n",
              "  <tbody>\n",
              "    <tr>\n",
              "      <th>0</th>\n",
              "      <td>2.500000</td>\n",
              "      <td>10.000000</td>\n",
              "      <td>12.500000</td>\n",
              "      <td>45.000000</td>\n",
              "      <td>0.550000</td>\n",
              "    </tr>\n",
              "    <tr>\n",
              "      <th>1</th>\n",
              "      <td>1.948980</td>\n",
              "      <td>10.244898</td>\n",
              "      <td>18.622449</td>\n",
              "      <td>40.714286</td>\n",
              "      <td>0.274490</td>\n",
              "    </tr>\n",
              "    <tr>\n",
              "      <th>2</th>\n",
              "      <td>3.295918</td>\n",
              "      <td>9.346939</td>\n",
              "      <td>14.642857</td>\n",
              "      <td>17.857143</td>\n",
              "      <td>0.127551</td>\n",
              "    </tr>\n",
              "    <tr>\n",
              "      <th>3</th>\n",
              "      <td>3.479592</td>\n",
              "      <td>9.020408</td>\n",
              "      <td>15.561224</td>\n",
              "      <td>47.857143</td>\n",
              "      <td>0.843878</td>\n",
              "    </tr>\n",
              "    <tr>\n",
              "      <th>4</th>\n",
              "      <td>1.459184</td>\n",
              "      <td>9.591837</td>\n",
              "      <td>7.295918</td>\n",
              "      <td>33.571429</td>\n",
              "      <td>0.421429</td>\n",
              "    </tr>\n",
              "    <tr>\n",
              "      <th>5</th>\n",
              "      <td>3.418367</td>\n",
              "      <td>9.265306</td>\n",
              "      <td>8.214286</td>\n",
              "      <td>45.000000</td>\n",
              "      <td>0.403061</td>\n",
              "    </tr>\n",
              "    <tr>\n",
              "      <th>6</th>\n",
              "      <td>1.153061</td>\n",
              "      <td>8.448980</td>\n",
              "      <td>17.091837</td>\n",
              "      <td>67.857143</td>\n",
              "      <td>0.862245</td>\n",
              "    </tr>\n",
              "    <tr>\n",
              "      <th>7</th>\n",
              "      <td>2.438776</td>\n",
              "      <td>8.122449</td>\n",
              "      <td>14.336735</td>\n",
              "      <td>10.714286</td>\n",
              "      <td>0.898980</td>\n",
              "    </tr>\n",
              "    <tr>\n",
              "      <th>8</th>\n",
              "      <td>2.744898</td>\n",
              "      <td>11.551020</td>\n",
              "      <td>9.132653</td>\n",
              "      <td>27.857143</td>\n",
              "      <td>0.292857</td>\n",
              "    </tr>\n",
              "    <tr>\n",
              "      <th>9</th>\n",
              "      <td>2.316327</td>\n",
              "      <td>9.183673</td>\n",
              "      <td>5.459184</td>\n",
              "      <td>75.000000</td>\n",
              "      <td>0.256122</td>\n",
              "    </tr>\n",
              "    <tr>\n",
              "      <th>10</th>\n",
              "      <td>2.071429</td>\n",
              "      <td>9.918367</td>\n",
              "      <td>10.051020</td>\n",
              "      <td>25.000000</td>\n",
              "      <td>0.550000</td>\n",
              "    </tr>\n",
              "    <tr>\n",
              "      <th>11</th>\n",
              "      <td>3.112245</td>\n",
              "      <td>10.897959</td>\n",
              "      <td>5.765306</td>\n",
              "      <td>66.428571</td>\n",
              "      <td>0.311224</td>\n",
              "    </tr>\n",
              "    <tr>\n",
              "      <th>12</th>\n",
              "      <td>3.602041</td>\n",
              "      <td>10.163265</td>\n",
              "      <td>10.663265</td>\n",
              "      <td>53.571429</td>\n",
              "      <td>0.641837</td>\n",
              "    </tr>\n",
              "    <tr>\n",
              "      <th>13</th>\n",
              "      <td>1.030612</td>\n",
              "      <td>11.224490</td>\n",
              "      <td>12.806122</td>\n",
              "      <td>43.571429</td>\n",
              "      <td>0.807143</td>\n",
              "    </tr>\n",
              "    <tr>\n",
              "      <th>14</th>\n",
              "      <td>1.214286</td>\n",
              "      <td>9.755102</td>\n",
              "      <td>11.581633</td>\n",
              "      <td>62.142857</td>\n",
              "      <td>0.880612</td>\n",
              "    </tr>\n",
              "    <tr>\n",
              "      <th>15</th>\n",
              "      <td>3.969388</td>\n",
              "      <td>11.387755</td>\n",
              "      <td>13.112245</td>\n",
              "      <td>36.428571</td>\n",
              "      <td>0.458163</td>\n",
              "    </tr>\n",
              "    <tr>\n",
              "      <th>16</th>\n",
              "      <td>3.908163</td>\n",
              "      <td>10.979592</td>\n",
              "      <td>14.030612</td>\n",
              "      <td>55.000000</td>\n",
              "      <td>0.531633</td>\n",
              "    </tr>\n",
              "    <tr>\n",
              "      <th>17</th>\n",
              "      <td>1.887755</td>\n",
              "      <td>11.795918</td>\n",
              "      <td>18.928571</td>\n",
              "      <td>13.571429</td>\n",
              "      <td>0.586735</td>\n",
              "    </tr>\n",
              "    <tr>\n",
              "      <th>18</th>\n",
              "      <td>2.867347</td>\n",
              "      <td>8.040816</td>\n",
              "      <td>12.193878</td>\n",
              "      <td>23.571429</td>\n",
              "      <td>0.660204</td>\n",
              "    </tr>\n",
              "    <tr>\n",
              "      <th>19</th>\n",
              "      <td>2.255102</td>\n",
              "      <td>9.428571</td>\n",
              "      <td>17.704082</td>\n",
              "      <td>77.857143</td>\n",
              "      <td>0.825510</td>\n",
              "    </tr>\n",
              "    <tr>\n",
              "      <th>20</th>\n",
              "      <td>2.193878</td>\n",
              "      <td>9.673469</td>\n",
              "      <td>18.316327</td>\n",
              "      <td>37.857143</td>\n",
              "      <td>0.678571</td>\n",
              "    </tr>\n",
              "    <tr>\n",
              "      <th>21</th>\n",
              "      <td>2.132653</td>\n",
              "      <td>8.367347</td>\n",
              "      <td>5.153061</td>\n",
              "      <td>12.142857</td>\n",
              "      <td>0.237755</td>\n",
              "    </tr>\n",
              "    <tr>\n",
              "      <th>22</th>\n",
              "      <td>2.622449</td>\n",
              "      <td>8.285714</td>\n",
              "      <td>19.540816</td>\n",
              "      <td>49.285714</td>\n",
              "      <td>0.954082</td>\n",
              "    </tr>\n",
              "    <tr>\n",
              "      <th>23</th>\n",
              "      <td>1.642857</td>\n",
              "      <td>11.714286</td>\n",
              "      <td>9.744898</td>\n",
              "      <td>15.000000</td>\n",
              "      <td>0.752041</td>\n",
              "    </tr>\n",
              "    <tr>\n",
              "      <th>24</th>\n",
              "      <td>3.357143</td>\n",
              "      <td>11.142857</td>\n",
              "      <td>19.234694</td>\n",
              "      <td>29.285714</td>\n",
              "      <td>0.439796</td>\n",
              "    </tr>\n",
              "    <tr>\n",
              "      <th>25</th>\n",
              "      <td>2.928571</td>\n",
              "      <td>11.306122</td>\n",
              "      <td>12.500000</td>\n",
              "      <td>19.285714</td>\n",
              "      <td>0.605102</td>\n",
              "    </tr>\n",
              "    <tr>\n",
              "      <th>26</th>\n",
              "      <td>1.091837</td>\n",
              "      <td>10.734694</td>\n",
              "      <td>6.377551</td>\n",
              "      <td>52.142857</td>\n",
              "      <td>0.145918</td>\n",
              "    </tr>\n",
              "    <tr>\n",
              "      <th>27</th>\n",
              "      <td>3.846939</td>\n",
              "      <td>11.061224</td>\n",
              "      <td>7.602041</td>\n",
              "      <td>69.285714</td>\n",
              "      <td>0.770408</td>\n",
              "    </tr>\n",
              "    <tr>\n",
              "      <th>28</th>\n",
              "      <td>3.234694</td>\n",
              "      <td>8.530612</td>\n",
              "      <td>11.887755</td>\n",
              "      <td>73.571429</td>\n",
              "      <td>0.329592</td>\n",
              "    </tr>\n",
              "    <tr>\n",
              "      <th>29</th>\n",
              "      <td>2.989796</td>\n",
              "      <td>8.693878</td>\n",
              "      <td>15.867347</td>\n",
              "      <td>30.714286</td>\n",
              "      <td>0.788776</td>\n",
              "    </tr>\n",
              "    <tr>\n",
              "      <th>30</th>\n",
              "      <td>1.275510</td>\n",
              "      <td>8.204082</td>\n",
              "      <td>19.846939</td>\n",
              "      <td>22.142857</td>\n",
              "      <td>0.109184</td>\n",
              "    </tr>\n",
              "    <tr>\n",
              "      <th>31</th>\n",
              "      <td>2.806122</td>\n",
              "      <td>10.571429</td>\n",
              "      <td>6.683673</td>\n",
              "      <td>20.714286</td>\n",
              "      <td>0.568367</td>\n",
              "    </tr>\n",
              "    <tr>\n",
              "      <th>32</th>\n",
              "      <td>3.663265</td>\n",
              "      <td>11.632653</td>\n",
              "      <td>18.010204</td>\n",
              "      <td>60.714286</td>\n",
              "      <td>0.917347</td>\n",
              "    </tr>\n",
              "    <tr>\n",
              "      <th>33</th>\n",
              "      <td>3.785714</td>\n",
              "      <td>10.653061</td>\n",
              "      <td>9.438776</td>\n",
              "      <td>16.428571</td>\n",
              "      <td>0.219388</td>\n",
              "    </tr>\n",
              "    <tr>\n",
              "      <th>34</th>\n",
              "      <td>1.704082</td>\n",
              "      <td>8.938776</td>\n",
              "      <td>16.785714</td>\n",
              "      <td>72.142857</td>\n",
              "      <td>0.623469</td>\n",
              "    </tr>\n",
              "    <tr>\n",
              "      <th>35</th>\n",
              "      <td>1.397959</td>\n",
              "      <td>9.836735</td>\n",
              "      <td>11.275510</td>\n",
              "      <td>70.714286</td>\n",
              "      <td>0.990816</td>\n",
              "    </tr>\n",
              "    <tr>\n",
              "      <th>36</th>\n",
              "      <td>1.520408</td>\n",
              "      <td>10.408163</td>\n",
              "      <td>13.724490</td>\n",
              "      <td>35.000000</td>\n",
              "      <td>0.476531</td>\n",
              "    </tr>\n",
              "    <tr>\n",
              "      <th>37</th>\n",
              "      <td>3.051020</td>\n",
              "      <td>11.469388</td>\n",
              "      <td>16.479592</td>\n",
              "      <td>79.285714</td>\n",
              "      <td>0.366327</td>\n",
              "    </tr>\n",
              "    <tr>\n",
              "      <th>38</th>\n",
              "      <td>2.500000</td>\n",
              "      <td>8.857143</td>\n",
              "      <td>7.908163</td>\n",
              "      <td>26.428571</td>\n",
              "      <td>0.384694</td>\n",
              "    </tr>\n",
              "    <tr>\n",
              "      <th>39</th>\n",
              "      <td>3.540816</td>\n",
              "      <td>11.959184</td>\n",
              "      <td>17.397959</td>\n",
              "      <td>50.714286</td>\n",
              "      <td>0.182653</td>\n",
              "    </tr>\n",
              "    <tr>\n",
              "      <th>40</th>\n",
              "      <td>2.010204</td>\n",
              "      <td>11.877551</td>\n",
              "      <td>15.255102</td>\n",
              "      <td>32.142857</td>\n",
              "      <td>0.164286</td>\n",
              "    </tr>\n",
              "    <tr>\n",
              "      <th>41</th>\n",
              "      <td>1.581633</td>\n",
              "      <td>10.326531</td>\n",
              "      <td>8.826531</td>\n",
              "      <td>56.428571</td>\n",
              "      <td>0.494898</td>\n",
              "    </tr>\n",
              "    <tr>\n",
              "      <th>42</th>\n",
              "      <td>1.765306</td>\n",
              "      <td>9.510204</td>\n",
              "      <td>16.173469</td>\n",
              "      <td>46.428571</td>\n",
              "      <td>0.972449</td>\n",
              "    </tr>\n",
              "    <tr>\n",
              "      <th>43</th>\n",
              "      <td>3.724490</td>\n",
              "      <td>10.489796</td>\n",
              "      <td>10.969388</td>\n",
              "      <td>76.428571</td>\n",
              "      <td>0.935714</td>\n",
              "    </tr>\n",
              "    <tr>\n",
              "      <th>44</th>\n",
              "      <td>1.336735</td>\n",
              "      <td>9.102041</td>\n",
              "      <td>13.418367</td>\n",
              "      <td>65.000000</td>\n",
              "      <td>0.733673</td>\n",
              "    </tr>\n",
              "    <tr>\n",
              "      <th>45</th>\n",
              "      <td>2.377551</td>\n",
              "      <td>8.612245</td>\n",
              "      <td>6.989796</td>\n",
              "      <td>59.285714</td>\n",
              "      <td>0.513265</td>\n",
              "    </tr>\n",
              "    <tr>\n",
              "      <th>46</th>\n",
              "      <td>2.683673</td>\n",
              "      <td>8.775510</td>\n",
              "      <td>10.357143</td>\n",
              "      <td>57.857143</td>\n",
              "      <td>0.201020</td>\n",
              "    </tr>\n",
              "    <tr>\n",
              "      <th>47</th>\n",
              "      <td>3.173469</td>\n",
              "      <td>10.000000</td>\n",
              "      <td>8.520408</td>\n",
              "      <td>63.571429</td>\n",
              "      <td>0.696939</td>\n",
              "    </tr>\n",
              "    <tr>\n",
              "      <th>48</th>\n",
              "      <td>2.561224</td>\n",
              "      <td>10.081633</td>\n",
              "      <td>6.071429</td>\n",
              "      <td>39.285714</td>\n",
              "      <td>0.715306</td>\n",
              "    </tr>\n",
              "    <tr>\n",
              "      <th>49</th>\n",
              "      <td>1.826531</td>\n",
              "      <td>10.816327</td>\n",
              "      <td>14.948980</td>\n",
              "      <td>42.142857</td>\n",
              "      <td>0.347959</td>\n",
              "    </tr>\n",
              "  </tbody>\n",
              "</table>\n",
              "</div>\n",
              "      <button class=\"colab-df-convert\" onclick=\"convertToInteractive('df-0b207aad-ffaf-4c39-969b-e6f6e88fa0ed')\"\n",
              "              title=\"Convert this dataframe to an interactive table.\"\n",
              "              style=\"display:none;\">\n",
              "        \n",
              "  <svg xmlns=\"http://www.w3.org/2000/svg\" height=\"24px\"viewBox=\"0 0 24 24\"\n",
              "       width=\"24px\">\n",
              "    <path d=\"M0 0h24v24H0V0z\" fill=\"none\"/>\n",
              "    <path d=\"M18.56 5.44l.94 2.06.94-2.06 2.06-.94-2.06-.94-.94-2.06-.94 2.06-2.06.94zm-11 1L8.5 8.5l.94-2.06 2.06-.94-2.06-.94L8.5 2.5l-.94 2.06-2.06.94zm10 10l.94 2.06.94-2.06 2.06-.94-2.06-.94-.94-2.06-.94 2.06-2.06.94z\"/><path d=\"M17.41 7.96l-1.37-1.37c-.4-.4-.92-.59-1.43-.59-.52 0-1.04.2-1.43.59L10.3 9.45l-7.72 7.72c-.78.78-.78 2.05 0 2.83L4 21.41c.39.39.9.59 1.41.59.51 0 1.02-.2 1.41-.59l7.78-7.78 2.81-2.81c.8-.78.8-2.07 0-2.86zM5.41 20L4 18.59l7.72-7.72 1.47 1.35L5.41 20z\"/>\n",
              "  </svg>\n",
              "      </button>\n",
              "      \n",
              "  <style>\n",
              "    .colab-df-container {\n",
              "      display:flex;\n",
              "      flex-wrap:wrap;\n",
              "      gap: 12px;\n",
              "    }\n",
              "\n",
              "    .colab-df-convert {\n",
              "      background-color: #E8F0FE;\n",
              "      border: none;\n",
              "      border-radius: 50%;\n",
              "      cursor: pointer;\n",
              "      display: none;\n",
              "      fill: #1967D2;\n",
              "      height: 32px;\n",
              "      padding: 0 0 0 0;\n",
              "      width: 32px;\n",
              "    }\n",
              "\n",
              "    .colab-df-convert:hover {\n",
              "      background-color: #E2EBFA;\n",
              "      box-shadow: 0px 1px 2px rgba(60, 64, 67, 0.3), 0px 1px 3px 1px rgba(60, 64, 67, 0.15);\n",
              "      fill: #174EA6;\n",
              "    }\n",
              "\n",
              "    [theme=dark] .colab-df-convert {\n",
              "      background-color: #3B4455;\n",
              "      fill: #D2E3FC;\n",
              "    }\n",
              "\n",
              "    [theme=dark] .colab-df-convert:hover {\n",
              "      background-color: #434B5C;\n",
              "      box-shadow: 0px 1px 3px 1px rgba(0, 0, 0, 0.15);\n",
              "      filter: drop-shadow(0px 1px 2px rgba(0, 0, 0, 0.3));\n",
              "      fill: #FFFFFF;\n",
              "    }\n",
              "  </style>\n",
              "\n",
              "      <script>\n",
              "        const buttonEl =\n",
              "          document.querySelector('#df-0b207aad-ffaf-4c39-969b-e6f6e88fa0ed button.colab-df-convert');\n",
              "        buttonEl.style.display =\n",
              "          google.colab.kernel.accessAllowed ? 'block' : 'none';\n",
              "\n",
              "        async function convertToInteractive(key) {\n",
              "          const element = document.querySelector('#df-0b207aad-ffaf-4c39-969b-e6f6e88fa0ed');\n",
              "          const dataTable =\n",
              "            await google.colab.kernel.invokeFunction('convertToInteractive',\n",
              "                                                     [key], {});\n",
              "          if (!dataTable) return;\n",
              "\n",
              "          const docLinkHtml = 'Like what you see? Visit the ' +\n",
              "            '<a target=\"_blank\" href=https://colab.research.google.com/notebooks/data_table.ipynb>data table notebook</a>'\n",
              "            + ' to learn more about interactive tables.';\n",
              "          element.innerHTML = '';\n",
              "          dataTable['output_type'] = 'display_data';\n",
              "          await google.colab.output.renderOutput(dataTable, element);\n",
              "          const docLink = document.createElement('div');\n",
              "          docLink.innerHTML = docLinkHtml;\n",
              "          element.appendChild(docLink);\n",
              "        }\n",
              "      </script>\n",
              "    </div>\n",
              "  </div>\n",
              "  "
            ]
          },
          "metadata": {},
          "execution_count": 7
        }
      ]
    },
    {
      "cell_type": "code",
      "source": [
        "# Visualize Target data\n",
        "tar"
      ],
      "metadata": {
        "id": "HlNJlLPiaCc-",
        "outputId": "6b7bffef-e837-4dcc-bf23-a2bdd6cf05ae",
        "colab": {
          "base_uri": "https://localhost:8080/",
          "height": 1000
        }
      },
      "execution_count": 8,
      "outputs": [
        {
          "output_type": "execute_result",
          "data": {
            "text/plain": [
              "         Y:Prod\n",
              "0   1565.310032\n",
              "1    854.449233\n",
              "2   1206.096655\n",
              "3   1587.937536\n",
              "4    811.552990\n",
              "5    841.498708\n",
              "6    645.865240\n",
              "7    978.321190\n",
              "8   1026.259363\n",
              "9   1307.342791\n",
              "10  1034.087373\n",
              "11  1268.377214\n",
              "12  1489.927482\n",
              "13  1519.991505\n",
              "14  1329.314397\n",
              "15  1431.024892\n",
              "16  1566.214415\n",
              "17  1438.450932\n",
              "18   829.922168\n",
              "19   705.006062\n",
              "20  1432.165084\n",
              "21   188.373235\n",
              "22  1498.950979\n",
              "23   920.615983\n",
              "24  1489.455399\n",
              "25  1236.052063\n",
              "26  1323.995868\n",
              "27  1490.703545\n",
              "28  1317.719495\n",
              "29  1463.746193\n",
              "30   645.619453\n",
              "31   518.689144\n",
              "32  1508.020685\n",
              "33   681.907720\n",
              "34   643.253098\n",
              "35  1171.922602\n",
              "36  1526.807598\n",
              "37   710.178986\n",
              "38   547.065997\n",
              "39  1239.099547\n",
              "40  1275.603244\n",
              "41  1516.383691\n",
              "42  1472.959836\n",
              "43  1561.436696\n",
              "44   895.407343\n",
              "45  1139.068175\n",
              "46  1424.484490\n",
              "47  1464.164972\n",
              "48   639.543576\n",
              "49  1297.031632"
            ],
            "text/html": [
              "\n",
              "  <div id=\"df-500919aa-5fa9-4ff1-9293-33730912bafd\">\n",
              "    <div class=\"colab-df-container\">\n",
              "      <div>\n",
              "<style scoped>\n",
              "    .dataframe tbody tr th:only-of-type {\n",
              "        vertical-align: middle;\n",
              "    }\n",
              "\n",
              "    .dataframe tbody tr th {\n",
              "        vertical-align: top;\n",
              "    }\n",
              "\n",
              "    .dataframe thead th {\n",
              "        text-align: right;\n",
              "    }\n",
              "</style>\n",
              "<table border=\"1\" class=\"dataframe\">\n",
              "  <thead>\n",
              "    <tr style=\"text-align: right;\">\n",
              "      <th></th>\n",
              "      <th>Y:Prod</th>\n",
              "    </tr>\n",
              "  </thead>\n",
              "  <tbody>\n",
              "    <tr>\n",
              "      <th>0</th>\n",
              "      <td>1565.310032</td>\n",
              "    </tr>\n",
              "    <tr>\n",
              "      <th>1</th>\n",
              "      <td>854.449233</td>\n",
              "    </tr>\n",
              "    <tr>\n",
              "      <th>2</th>\n",
              "      <td>1206.096655</td>\n",
              "    </tr>\n",
              "    <tr>\n",
              "      <th>3</th>\n",
              "      <td>1587.937536</td>\n",
              "    </tr>\n",
              "    <tr>\n",
              "      <th>4</th>\n",
              "      <td>811.552990</td>\n",
              "    </tr>\n",
              "    <tr>\n",
              "      <th>5</th>\n",
              "      <td>841.498708</td>\n",
              "    </tr>\n",
              "    <tr>\n",
              "      <th>6</th>\n",
              "      <td>645.865240</td>\n",
              "    </tr>\n",
              "    <tr>\n",
              "      <th>7</th>\n",
              "      <td>978.321190</td>\n",
              "    </tr>\n",
              "    <tr>\n",
              "      <th>8</th>\n",
              "      <td>1026.259363</td>\n",
              "    </tr>\n",
              "    <tr>\n",
              "      <th>9</th>\n",
              "      <td>1307.342791</td>\n",
              "    </tr>\n",
              "    <tr>\n",
              "      <th>10</th>\n",
              "      <td>1034.087373</td>\n",
              "    </tr>\n",
              "    <tr>\n",
              "      <th>11</th>\n",
              "      <td>1268.377214</td>\n",
              "    </tr>\n",
              "    <tr>\n",
              "      <th>12</th>\n",
              "      <td>1489.927482</td>\n",
              "    </tr>\n",
              "    <tr>\n",
              "      <th>13</th>\n",
              "      <td>1519.991505</td>\n",
              "    </tr>\n",
              "    <tr>\n",
              "      <th>14</th>\n",
              "      <td>1329.314397</td>\n",
              "    </tr>\n",
              "    <tr>\n",
              "      <th>15</th>\n",
              "      <td>1431.024892</td>\n",
              "    </tr>\n",
              "    <tr>\n",
              "      <th>16</th>\n",
              "      <td>1566.214415</td>\n",
              "    </tr>\n",
              "    <tr>\n",
              "      <th>17</th>\n",
              "      <td>1438.450932</td>\n",
              "    </tr>\n",
              "    <tr>\n",
              "      <th>18</th>\n",
              "      <td>829.922168</td>\n",
              "    </tr>\n",
              "    <tr>\n",
              "      <th>19</th>\n",
              "      <td>705.006062</td>\n",
              "    </tr>\n",
              "    <tr>\n",
              "      <th>20</th>\n",
              "      <td>1432.165084</td>\n",
              "    </tr>\n",
              "    <tr>\n",
              "      <th>21</th>\n",
              "      <td>188.373235</td>\n",
              "    </tr>\n",
              "    <tr>\n",
              "      <th>22</th>\n",
              "      <td>1498.950979</td>\n",
              "    </tr>\n",
              "    <tr>\n",
              "      <th>23</th>\n",
              "      <td>920.615983</td>\n",
              "    </tr>\n",
              "    <tr>\n",
              "      <th>24</th>\n",
              "      <td>1489.455399</td>\n",
              "    </tr>\n",
              "    <tr>\n",
              "      <th>25</th>\n",
              "      <td>1236.052063</td>\n",
              "    </tr>\n",
              "    <tr>\n",
              "      <th>26</th>\n",
              "      <td>1323.995868</td>\n",
              "    </tr>\n",
              "    <tr>\n",
              "      <th>27</th>\n",
              "      <td>1490.703545</td>\n",
              "    </tr>\n",
              "    <tr>\n",
              "      <th>28</th>\n",
              "      <td>1317.719495</td>\n",
              "    </tr>\n",
              "    <tr>\n",
              "      <th>29</th>\n",
              "      <td>1463.746193</td>\n",
              "    </tr>\n",
              "    <tr>\n",
              "      <th>30</th>\n",
              "      <td>645.619453</td>\n",
              "    </tr>\n",
              "    <tr>\n",
              "      <th>31</th>\n",
              "      <td>518.689144</td>\n",
              "    </tr>\n",
              "    <tr>\n",
              "      <th>32</th>\n",
              "      <td>1508.020685</td>\n",
              "    </tr>\n",
              "    <tr>\n",
              "      <th>33</th>\n",
              "      <td>681.907720</td>\n",
              "    </tr>\n",
              "    <tr>\n",
              "      <th>34</th>\n",
              "      <td>643.253098</td>\n",
              "    </tr>\n",
              "    <tr>\n",
              "      <th>35</th>\n",
              "      <td>1171.922602</td>\n",
              "    </tr>\n",
              "    <tr>\n",
              "      <th>36</th>\n",
              "      <td>1526.807598</td>\n",
              "    </tr>\n",
              "    <tr>\n",
              "      <th>37</th>\n",
              "      <td>710.178986</td>\n",
              "    </tr>\n",
              "    <tr>\n",
              "      <th>38</th>\n",
              "      <td>547.065997</td>\n",
              "    </tr>\n",
              "    <tr>\n",
              "      <th>39</th>\n",
              "      <td>1239.099547</td>\n",
              "    </tr>\n",
              "    <tr>\n",
              "      <th>40</th>\n",
              "      <td>1275.603244</td>\n",
              "    </tr>\n",
              "    <tr>\n",
              "      <th>41</th>\n",
              "      <td>1516.383691</td>\n",
              "    </tr>\n",
              "    <tr>\n",
              "      <th>42</th>\n",
              "      <td>1472.959836</td>\n",
              "    </tr>\n",
              "    <tr>\n",
              "      <th>43</th>\n",
              "      <td>1561.436696</td>\n",
              "    </tr>\n",
              "    <tr>\n",
              "      <th>44</th>\n",
              "      <td>895.407343</td>\n",
              "    </tr>\n",
              "    <tr>\n",
              "      <th>45</th>\n",
              "      <td>1139.068175</td>\n",
              "    </tr>\n",
              "    <tr>\n",
              "      <th>46</th>\n",
              "      <td>1424.484490</td>\n",
              "    </tr>\n",
              "    <tr>\n",
              "      <th>47</th>\n",
              "      <td>1464.164972</td>\n",
              "    </tr>\n",
              "    <tr>\n",
              "      <th>48</th>\n",
              "      <td>639.543576</td>\n",
              "    </tr>\n",
              "    <tr>\n",
              "      <th>49</th>\n",
              "      <td>1297.031632</td>\n",
              "    </tr>\n",
              "  </tbody>\n",
              "</table>\n",
              "</div>\n",
              "      <button class=\"colab-df-convert\" onclick=\"convertToInteractive('df-500919aa-5fa9-4ff1-9293-33730912bafd')\"\n",
              "              title=\"Convert this dataframe to an interactive table.\"\n",
              "              style=\"display:none;\">\n",
              "        \n",
              "  <svg xmlns=\"http://www.w3.org/2000/svg\" height=\"24px\"viewBox=\"0 0 24 24\"\n",
              "       width=\"24px\">\n",
              "    <path d=\"M0 0h24v24H0V0z\" fill=\"none\"/>\n",
              "    <path d=\"M18.56 5.44l.94 2.06.94-2.06 2.06-.94-2.06-.94-.94-2.06-.94 2.06-2.06.94zm-11 1L8.5 8.5l.94-2.06 2.06-.94-2.06-.94L8.5 2.5l-.94 2.06-2.06.94zm10 10l.94 2.06.94-2.06 2.06-.94-2.06-.94-.94-2.06-.94 2.06-2.06.94z\"/><path d=\"M17.41 7.96l-1.37-1.37c-.4-.4-.92-.59-1.43-.59-.52 0-1.04.2-1.43.59L10.3 9.45l-7.72 7.72c-.78.78-.78 2.05 0 2.83L4 21.41c.39.39.9.59 1.41.59.51 0 1.02-.2 1.41-.59l7.78-7.78 2.81-2.81c.8-.78.8-2.07 0-2.86zM5.41 20L4 18.59l7.72-7.72 1.47 1.35L5.41 20z\"/>\n",
              "  </svg>\n",
              "      </button>\n",
              "      \n",
              "  <style>\n",
              "    .colab-df-container {\n",
              "      display:flex;\n",
              "      flex-wrap:wrap;\n",
              "      gap: 12px;\n",
              "    }\n",
              "\n",
              "    .colab-df-convert {\n",
              "      background-color: #E8F0FE;\n",
              "      border: none;\n",
              "      border-radius: 50%;\n",
              "      cursor: pointer;\n",
              "      display: none;\n",
              "      fill: #1967D2;\n",
              "      height: 32px;\n",
              "      padding: 0 0 0 0;\n",
              "      width: 32px;\n",
              "    }\n",
              "\n",
              "    .colab-df-convert:hover {\n",
              "      background-color: #E2EBFA;\n",
              "      box-shadow: 0px 1px 2px rgba(60, 64, 67, 0.3), 0px 1px 3px 1px rgba(60, 64, 67, 0.15);\n",
              "      fill: #174EA6;\n",
              "    }\n",
              "\n",
              "    [theme=dark] .colab-df-convert {\n",
              "      background-color: #3B4455;\n",
              "      fill: #D2E3FC;\n",
              "    }\n",
              "\n",
              "    [theme=dark] .colab-df-convert:hover {\n",
              "      background-color: #434B5C;\n",
              "      box-shadow: 0px 1px 3px 1px rgba(0, 0, 0, 0.15);\n",
              "      filter: drop-shadow(0px 1px 2px rgba(0, 0, 0, 0.3));\n",
              "      fill: #FFFFFF;\n",
              "    }\n",
              "  </style>\n",
              "\n",
              "      <script>\n",
              "        const buttonEl =\n",
              "          document.querySelector('#df-500919aa-5fa9-4ff1-9293-33730912bafd button.colab-df-convert');\n",
              "        buttonEl.style.display =\n",
              "          google.colab.kernel.accessAllowed ? 'block' : 'none';\n",
              "\n",
              "        async function convertToInteractive(key) {\n",
              "          const element = document.querySelector('#df-500919aa-5fa9-4ff1-9293-33730912bafd');\n",
              "          const dataTable =\n",
              "            await google.colab.kernel.invokeFunction('convertToInteractive',\n",
              "                                                     [key], {});\n",
              "          if (!dataTable) return;\n",
              "\n",
              "          const docLinkHtml = 'Like what you see? Visit the ' +\n",
              "            '<a target=\"_blank\" href=https://colab.research.google.com/notebooks/data_table.ipynb>data table notebook</a>'\n",
              "            + ' to learn more about interactive tables.';\n",
              "          element.innerHTML = '';\n",
              "          dataTable['output_type'] = 'display_data';\n",
              "          await google.colab.output.renderOutput(dataTable, element);\n",
              "          const docLink = document.createElement('div');\n",
              "          docLink.innerHTML = docLinkHtml;\n",
              "          element.appendChild(docLink);\n",
              "        }\n",
              "      </script>\n",
              "    </div>\n",
              "  </div>\n",
              "  "
            ]
          },
          "metadata": {},
          "execution_count": 8
        }
      ]
    },
    {
      "cell_type": "markdown",
      "source": [
        "## Multiple Linear Regression \n",
        "\n",
        "We first train/fit a quadratic MLR model to the final titer, using the data loaded above.\n",
        "We then characterize the performance of the model using ANOVA, where the user can have information about the importance of each coefficient and of the overal model."
      ],
      "metadata": {
        "id": "kkEQIZOLGwjz"
      }
    },
    {
      "cell_type": "markdown",
      "source": [
        "### Create linear model with preprocessing\n",
        "\n",
        "Here we create a linear model to predict the value of the final titer given the initial conditions.\n",
        "\n",
        "* Input matrix: \"doe\". This corresponds to the values of the manipulated process parameters for each experiment.\n",
        "* Output target: \"tar\". This corresponds to the final value of titer at the end of each experiment. (or aggregates)"
      ],
      "metadata": {
        "id": "iXJI69b1HLZJ"
      }
    },
    {
      "cell_type": "code",
      "source": [
        "# Fit Linear Model\n",
        "datascaler = StandardScaler()\n",
        "does = datascaler.fit_transform(doe.values)\n",
        "\n",
        "X = sm.add_constant(does)\n",
        "y = tar.values\n",
        "mod = sm.OLS(y, X)\n",
        "res = mod.fit()\n",
        "print(res.summary())"
      ],
      "metadata": {
        "id": "_KLlhxUCsbiO",
        "outputId": "e13532ba-5ea0-4a92-8193-da5c708e5b74",
        "colab": {
          "base_uri": "https://localhost:8080/"
        }
      },
      "execution_count": 9,
      "outputs": [
        {
          "output_type": "stream",
          "name": "stdout",
          "text": [
            "                            OLS Regression Results                            \n",
            "==============================================================================\n",
            "Dep. Variable:                      y   R-squared:                       0.269\n",
            "Model:                            OLS   Adj. R-squared:                  0.186\n",
            "Method:                 Least Squares   F-statistic:                     3.240\n",
            "Date:                Wed, 27 Apr 2022   Prob (F-statistic):             0.0141\n",
            "Time:                        05:23:34   Log-Likelihood:                -357.18\n",
            "No. Observations:                  50   AIC:                             726.4\n",
            "Df Residuals:                      44   BIC:                             737.8\n",
            "Df Model:                           5                                         \n",
            "Covariance Type:            nonrobust                                         \n",
            "==============================================================================\n",
            "                 coef    std err          t      P>|t|      [0.025      0.975]\n",
            "------------------------------------------------------------------------------\n",
            "const       1153.5475     46.179     24.980      0.000    1060.480    1246.615\n",
            "x1            66.2397     47.334      1.399      0.169     -29.156     161.635\n",
            "x2           109.1749     47.629      2.292      0.027      13.184     205.166\n",
            "x3            58.6069     47.344      1.238      0.222     -36.809     154.023\n",
            "x4            75.0607     47.819      1.570      0.124     -21.313     171.434\n",
            "x5            72.4612     49.215      1.472      0.148     -26.725     171.647\n",
            "==============================================================================\n",
            "Omnibus:                        3.705   Durbin-Watson:                   1.875\n",
            "Prob(Omnibus):                  0.157   Jarque-Bera (JB):                3.534\n",
            "Skew:                          -0.604   Prob(JB):                        0.171\n",
            "Kurtosis:                       2.514   Cond. No.                         1.45\n",
            "==============================================================================\n",
            "\n",
            "Warnings:\n",
            "[1] Standard Errors assume that the covariance matrix of the errors is correctly specified.\n"
          ]
        }
      ]
    },
    {
      "cell_type": "markdown",
      "source": [
        "### Evaluate model prediction on train set\n",
        "In this section, we check the predictions of the models versus the training data for the final titer.\n"
      ],
      "metadata": {
        "id": "_HtEIdIyHVTo"
      }
    },
    {
      "cell_type": "code",
      "source": [
        "# Use data normalization\n",
        "use_norm = True\n",
        "# Use bias term\n",
        "use_bias = True\n",
        "# Use polynomial features of degree\n",
        "use_degree = 2\n",
        "# Use only interaction terms form higher degree polynomial features\n",
        "use_inter = False"
      ],
      "metadata": {
        "id": "xLFJfRVjhzeV"
      },
      "execution_count": 216,
      "outputs": []
    },
    {
      "cell_type": "code",
      "source": [
        "# Define pipeline\n",
        "pfeatures = PolynomialFeatures(degree=use_degree,interaction_only=not use_inter, include_bias=use_bias)\n",
        "pscaler = StandardScaler(with_mean=use_norm,with_std=use_norm)\n",
        "pmodel = LinearRegression()\n",
        "pipe = Pipeline([('features', pfeatures),('scaler', pscaler), ('model', pmodel)])\n",
        "# Fit model\n",
        "X = doe.values\n",
        "y = tar.values\n",
        "pipe.fit(doe,tar)"
      ],
      "metadata": {
        "id": "OEvXt2pQiy9-",
        "outputId": "87d3f895-d928-4e41-d4ea-1aa4ee790f45",
        "colab": {
          "base_uri": "https://localhost:8080/"
        }
      },
      "execution_count": 234,
      "outputs": [
        {
          "output_type": "execute_result",
          "data": {
            "text/plain": [
              "Pipeline(steps=[('features', PolynomialFeatures(interaction_only=True)),\n",
              "                ('scaler', StandardScaler()), ('model', LinearRegression())])"
            ]
          },
          "metadata": {},
          "execution_count": 234
        }
      ]
    },
    {
      "cell_type": "code",
      "source": [
        "# Model coefficients\n",
        "columns = pfeatures.get_feature_names_out()\n",
        "coefficients = pmodel.coef_\n",
        "fig = px.bar(x=list(columns),y=coefficients.reshape(-1),title=\"Linear model coefficients\")\n",
        "fig.show()"
      ],
      "metadata": {
        "id": "YbA0jrenv1X1",
        "outputId": "8ad1dd23-31f8-47ff-92ba-8642ec93c42a",
        "colab": {
          "base_uri": "https://localhost:8080/",
          "height": 542
        }
      },
      "execution_count": 235,
      "outputs": [
        {
          "output_type": "display_data",
          "data": {
            "text/html": [
              "<html>\n",
              "<head><meta charset=\"utf-8\" /></head>\n",
              "<body>\n",
              "    <div>            <script src=\"https://cdnjs.cloudflare.com/ajax/libs/mathjax/2.7.5/MathJax.js?config=TeX-AMS-MML_SVG\"></script><script type=\"text/javascript\">if (window.MathJax) {MathJax.Hub.Config({SVG: {font: \"STIX-Web\"}});}</script>                <script type=\"text/javascript\">window.PlotlyConfig = {MathJaxConfig: 'local'};</script>\n",
              "        <script src=\"https://cdn.plot.ly/plotly-2.8.3.min.js\"></script>                <div id=\"685fb6e8-e5e9-4e7f-8ea0-790674b3247a\" class=\"plotly-graph-div\" style=\"height:525px; width:100%;\"></div>            <script type=\"text/javascript\">                                    window.PLOTLYENV=window.PLOTLYENV || {};                                    if (document.getElementById(\"685fb6e8-e5e9-4e7f-8ea0-790674b3247a\")) {                    Plotly.newPlot(                        \"685fb6e8-e5e9-4e7f-8ea0-790674b3247a\",                        [{\"alignmentgroup\":\"True\",\"hovertemplate\":\"x=%{x}<br>y=%{y}<extra></extra>\",\"legendgroup\":\"\",\"marker\":{\"color\":\"#636efa\",\"pattern\":{\"shape\":\"\"}},\"name\":\"\",\"offsetgroup\":\"\",\"orientation\":\"v\",\"showlegend\":false,\"textposition\":\"auto\",\"x\":[\"1\",\"feed_start\",\"feed_end\",\"Glc_feed_rate\",\"Glc_0\",\"VCD_0\",\"feed_start feed_end\",\"feed_start Glc_feed_rate\",\"feed_start Glc_0\",\"feed_start VCD_0\",\"feed_end Glc_feed_rate\",\"feed_end Glc_0\",\"feed_end VCD_0\",\"Glc_feed_rate Glc_0\",\"Glc_feed_rate VCD_0\",\"Glc_0 VCD_0\"],\"xaxis\":\"x\",\"y\":[0.0,371.41459914316357,480.7460156560933,475.9733252387647,646.9001654518179,-167.7257318362298,-817.5879855215925,540.7037881868036,166.71629488246566,-85.70326774268466,-427.2289003302374,-123.59606665514288,59.36489871298458,-837.4538446606261,239.81243914784824,131.32411418038072],\"yaxis\":\"y\",\"type\":\"bar\"}],                        {\"template\":{\"data\":{\"bar\":[{\"error_x\":{\"color\":\"#2a3f5f\"},\"error_y\":{\"color\":\"#2a3f5f\"},\"marker\":{\"line\":{\"color\":\"#E5ECF6\",\"width\":0.5},\"pattern\":{\"fillmode\":\"overlay\",\"size\":10,\"solidity\":0.2}},\"type\":\"bar\"}],\"barpolar\":[{\"marker\":{\"line\":{\"color\":\"#E5ECF6\",\"width\":0.5},\"pattern\":{\"fillmode\":\"overlay\",\"size\":10,\"solidity\":0.2}},\"type\":\"barpolar\"}],\"carpet\":[{\"aaxis\":{\"endlinecolor\":\"#2a3f5f\",\"gridcolor\":\"white\",\"linecolor\":\"white\",\"minorgridcolor\":\"white\",\"startlinecolor\":\"#2a3f5f\"},\"baxis\":{\"endlinecolor\":\"#2a3f5f\",\"gridcolor\":\"white\",\"linecolor\":\"white\",\"minorgridcolor\":\"white\",\"startlinecolor\":\"#2a3f5f\"},\"type\":\"carpet\"}],\"choropleth\":[{\"colorbar\":{\"outlinewidth\":0,\"ticks\":\"\"},\"type\":\"choropleth\"}],\"contour\":[{\"colorbar\":{\"outlinewidth\":0,\"ticks\":\"\"},\"colorscale\":[[0.0,\"#0d0887\"],[0.1111111111111111,\"#46039f\"],[0.2222222222222222,\"#7201a8\"],[0.3333333333333333,\"#9c179e\"],[0.4444444444444444,\"#bd3786\"],[0.5555555555555556,\"#d8576b\"],[0.6666666666666666,\"#ed7953\"],[0.7777777777777778,\"#fb9f3a\"],[0.8888888888888888,\"#fdca26\"],[1.0,\"#f0f921\"]],\"type\":\"contour\"}],\"contourcarpet\":[{\"colorbar\":{\"outlinewidth\":0,\"ticks\":\"\"},\"type\":\"contourcarpet\"}],\"heatmap\":[{\"colorbar\":{\"outlinewidth\":0,\"ticks\":\"\"},\"colorscale\":[[0.0,\"#0d0887\"],[0.1111111111111111,\"#46039f\"],[0.2222222222222222,\"#7201a8\"],[0.3333333333333333,\"#9c179e\"],[0.4444444444444444,\"#bd3786\"],[0.5555555555555556,\"#d8576b\"],[0.6666666666666666,\"#ed7953\"],[0.7777777777777778,\"#fb9f3a\"],[0.8888888888888888,\"#fdca26\"],[1.0,\"#f0f921\"]],\"type\":\"heatmap\"}],\"heatmapgl\":[{\"colorbar\":{\"outlinewidth\":0,\"ticks\":\"\"},\"colorscale\":[[0.0,\"#0d0887\"],[0.1111111111111111,\"#46039f\"],[0.2222222222222222,\"#7201a8\"],[0.3333333333333333,\"#9c179e\"],[0.4444444444444444,\"#bd3786\"],[0.5555555555555556,\"#d8576b\"],[0.6666666666666666,\"#ed7953\"],[0.7777777777777778,\"#fb9f3a\"],[0.8888888888888888,\"#fdca26\"],[1.0,\"#f0f921\"]],\"type\":\"heatmapgl\"}],\"histogram\":[{\"marker\":{\"pattern\":{\"fillmode\":\"overlay\",\"size\":10,\"solidity\":0.2}},\"type\":\"histogram\"}],\"histogram2d\":[{\"colorbar\":{\"outlinewidth\":0,\"ticks\":\"\"},\"colorscale\":[[0.0,\"#0d0887\"],[0.1111111111111111,\"#46039f\"],[0.2222222222222222,\"#7201a8\"],[0.3333333333333333,\"#9c179e\"],[0.4444444444444444,\"#bd3786\"],[0.5555555555555556,\"#d8576b\"],[0.6666666666666666,\"#ed7953\"],[0.7777777777777778,\"#fb9f3a\"],[0.8888888888888888,\"#fdca26\"],[1.0,\"#f0f921\"]],\"type\":\"histogram2d\"}],\"histogram2dcontour\":[{\"colorbar\":{\"outlinewidth\":0,\"ticks\":\"\"},\"colorscale\":[[0.0,\"#0d0887\"],[0.1111111111111111,\"#46039f\"],[0.2222222222222222,\"#7201a8\"],[0.3333333333333333,\"#9c179e\"],[0.4444444444444444,\"#bd3786\"],[0.5555555555555556,\"#d8576b\"],[0.6666666666666666,\"#ed7953\"],[0.7777777777777778,\"#fb9f3a\"],[0.8888888888888888,\"#fdca26\"],[1.0,\"#f0f921\"]],\"type\":\"histogram2dcontour\"}],\"mesh3d\":[{\"colorbar\":{\"outlinewidth\":0,\"ticks\":\"\"},\"type\":\"mesh3d\"}],\"parcoords\":[{\"line\":{\"colorbar\":{\"outlinewidth\":0,\"ticks\":\"\"}},\"type\":\"parcoords\"}],\"pie\":[{\"automargin\":true,\"type\":\"pie\"}],\"scatter\":[{\"marker\":{\"colorbar\":{\"outlinewidth\":0,\"ticks\":\"\"}},\"type\":\"scatter\"}],\"scatter3d\":[{\"line\":{\"colorbar\":{\"outlinewidth\":0,\"ticks\":\"\"}},\"marker\":{\"colorbar\":{\"outlinewidth\":0,\"ticks\":\"\"}},\"type\":\"scatter3d\"}],\"scattercarpet\":[{\"marker\":{\"colorbar\":{\"outlinewidth\":0,\"ticks\":\"\"}},\"type\":\"scattercarpet\"}],\"scattergeo\":[{\"marker\":{\"colorbar\":{\"outlinewidth\":0,\"ticks\":\"\"}},\"type\":\"scattergeo\"}],\"scattergl\":[{\"marker\":{\"colorbar\":{\"outlinewidth\":0,\"ticks\":\"\"}},\"type\":\"scattergl\"}],\"scattermapbox\":[{\"marker\":{\"colorbar\":{\"outlinewidth\":0,\"ticks\":\"\"}},\"type\":\"scattermapbox\"}],\"scatterpolar\":[{\"marker\":{\"colorbar\":{\"outlinewidth\":0,\"ticks\":\"\"}},\"type\":\"scatterpolar\"}],\"scatterpolargl\":[{\"marker\":{\"colorbar\":{\"outlinewidth\":0,\"ticks\":\"\"}},\"type\":\"scatterpolargl\"}],\"scatterternary\":[{\"marker\":{\"colorbar\":{\"outlinewidth\":0,\"ticks\":\"\"}},\"type\":\"scatterternary\"}],\"surface\":[{\"colorbar\":{\"outlinewidth\":0,\"ticks\":\"\"},\"colorscale\":[[0.0,\"#0d0887\"],[0.1111111111111111,\"#46039f\"],[0.2222222222222222,\"#7201a8\"],[0.3333333333333333,\"#9c179e\"],[0.4444444444444444,\"#bd3786\"],[0.5555555555555556,\"#d8576b\"],[0.6666666666666666,\"#ed7953\"],[0.7777777777777778,\"#fb9f3a\"],[0.8888888888888888,\"#fdca26\"],[1.0,\"#f0f921\"]],\"type\":\"surface\"}],\"table\":[{\"cells\":{\"fill\":{\"color\":\"#EBF0F8\"},\"line\":{\"color\":\"white\"}},\"header\":{\"fill\":{\"color\":\"#C8D4E3\"},\"line\":{\"color\":\"white\"}},\"type\":\"table\"}]},\"layout\":{\"annotationdefaults\":{\"arrowcolor\":\"#2a3f5f\",\"arrowhead\":0,\"arrowwidth\":1},\"autotypenumbers\":\"strict\",\"coloraxis\":{\"colorbar\":{\"outlinewidth\":0,\"ticks\":\"\"}},\"colorscale\":{\"diverging\":[[0,\"#8e0152\"],[0.1,\"#c51b7d\"],[0.2,\"#de77ae\"],[0.3,\"#f1b6da\"],[0.4,\"#fde0ef\"],[0.5,\"#f7f7f7\"],[0.6,\"#e6f5d0\"],[0.7,\"#b8e186\"],[0.8,\"#7fbc41\"],[0.9,\"#4d9221\"],[1,\"#276419\"]],\"sequential\":[[0.0,\"#0d0887\"],[0.1111111111111111,\"#46039f\"],[0.2222222222222222,\"#7201a8\"],[0.3333333333333333,\"#9c179e\"],[0.4444444444444444,\"#bd3786\"],[0.5555555555555556,\"#d8576b\"],[0.6666666666666666,\"#ed7953\"],[0.7777777777777778,\"#fb9f3a\"],[0.8888888888888888,\"#fdca26\"],[1.0,\"#f0f921\"]],\"sequentialminus\":[[0.0,\"#0d0887\"],[0.1111111111111111,\"#46039f\"],[0.2222222222222222,\"#7201a8\"],[0.3333333333333333,\"#9c179e\"],[0.4444444444444444,\"#bd3786\"],[0.5555555555555556,\"#d8576b\"],[0.6666666666666666,\"#ed7953\"],[0.7777777777777778,\"#fb9f3a\"],[0.8888888888888888,\"#fdca26\"],[1.0,\"#f0f921\"]]},\"colorway\":[\"#636efa\",\"#EF553B\",\"#00cc96\",\"#ab63fa\",\"#FFA15A\",\"#19d3f3\",\"#FF6692\",\"#B6E880\",\"#FF97FF\",\"#FECB52\"],\"font\":{\"color\":\"#2a3f5f\"},\"geo\":{\"bgcolor\":\"white\",\"lakecolor\":\"white\",\"landcolor\":\"#E5ECF6\",\"showlakes\":true,\"showland\":true,\"subunitcolor\":\"white\"},\"hoverlabel\":{\"align\":\"left\"},\"hovermode\":\"closest\",\"mapbox\":{\"style\":\"light\"},\"paper_bgcolor\":\"white\",\"plot_bgcolor\":\"#E5ECF6\",\"polar\":{\"angularaxis\":{\"gridcolor\":\"white\",\"linecolor\":\"white\",\"ticks\":\"\"},\"bgcolor\":\"#E5ECF6\",\"radialaxis\":{\"gridcolor\":\"white\",\"linecolor\":\"white\",\"ticks\":\"\"}},\"scene\":{\"xaxis\":{\"backgroundcolor\":\"#E5ECF6\",\"gridcolor\":\"white\",\"gridwidth\":2,\"linecolor\":\"white\",\"showbackground\":true,\"ticks\":\"\",\"zerolinecolor\":\"white\"},\"yaxis\":{\"backgroundcolor\":\"#E5ECF6\",\"gridcolor\":\"white\",\"gridwidth\":2,\"linecolor\":\"white\",\"showbackground\":true,\"ticks\":\"\",\"zerolinecolor\":\"white\"},\"zaxis\":{\"backgroundcolor\":\"#E5ECF6\",\"gridcolor\":\"white\",\"gridwidth\":2,\"linecolor\":\"white\",\"showbackground\":true,\"ticks\":\"\",\"zerolinecolor\":\"white\"}},\"shapedefaults\":{\"line\":{\"color\":\"#2a3f5f\"}},\"ternary\":{\"aaxis\":{\"gridcolor\":\"white\",\"linecolor\":\"white\",\"ticks\":\"\"},\"baxis\":{\"gridcolor\":\"white\",\"linecolor\":\"white\",\"ticks\":\"\"},\"bgcolor\":\"#E5ECF6\",\"caxis\":{\"gridcolor\":\"white\",\"linecolor\":\"white\",\"ticks\":\"\"}},\"title\":{\"x\":0.05},\"xaxis\":{\"automargin\":true,\"gridcolor\":\"white\",\"linecolor\":\"white\",\"ticks\":\"\",\"title\":{\"standoff\":15},\"zerolinecolor\":\"white\",\"zerolinewidth\":2},\"yaxis\":{\"automargin\":true,\"gridcolor\":\"white\",\"linecolor\":\"white\",\"ticks\":\"\",\"title\":{\"standoff\":15},\"zerolinecolor\":\"white\",\"zerolinewidth\":2}}},\"xaxis\":{\"anchor\":\"y\",\"domain\":[0.0,1.0],\"title\":{\"text\":\"x\"}},\"yaxis\":{\"anchor\":\"x\",\"domain\":[0.0,1.0],\"title\":{\"text\":\"y\"}},\"legend\":{\"tracegroupgap\":0},\"title\":{\"text\":\"Linear model coefficients\"},\"barmode\":\"relative\"},                        {\"responsive\": true}                    ).then(function(){\n",
              "                            \n",
              "var gd = document.getElementById('685fb6e8-e5e9-4e7f-8ea0-790674b3247a');\n",
              "var x = new MutationObserver(function (mutations, observer) {{\n",
              "        var display = window.getComputedStyle(gd).display;\n",
              "        if (!display || display === 'none') {{\n",
              "            console.log([gd, 'removed!']);\n",
              "            Plotly.purge(gd);\n",
              "            observer.disconnect();\n",
              "        }}\n",
              "}});\n",
              "\n",
              "// Listen for the removal of the full notebook cells\n",
              "var notebookContainer = gd.closest('#notebook-container');\n",
              "if (notebookContainer) {{\n",
              "    x.observe(notebookContainer, {childList: true});\n",
              "}}\n",
              "\n",
              "// Listen for the clearing of the current output cell\n",
              "var outputEl = gd.closest('.output');\n",
              "if (outputEl) {{\n",
              "    x.observe(outputEl, {childList: true});\n",
              "}}\n",
              "\n",
              "                        })                };                            </script>        </div>\n",
              "</body>\n",
              "</html>"
            ]
          },
          "metadata": {}
        }
      ]
    },
    {
      "cell_type": "code",
      "source": [
        "# Plot predictions in train set\n",
        "yhat = pipe.predict(doe)\n",
        "fig = px.scatter(x=y.reshape(-1),y=yhat.reshape(-1), title=\"Observed vs Predicted on Train Set; R^2 = \"+str(round(pipe.score(doe,y),3)), labels=dict(x=\"Observed Titer\", y=\"Predicted Titer\"))\n",
        "fig.update_layout(shapes = [{'type': 'line', 'yref': 'paper', 'xref': 'paper', 'y0': 0, 'y1': 1, 'x0': 0, 'x1': 1, 'layer': 'below'}])\n",
        "fig.show()"
      ],
      "metadata": {
        "id": "n9xJIvLTv5q8",
        "outputId": "aae1569c-3d86-4218-c2c1-5d2bc79bfb58",
        "colab": {
          "base_uri": "https://localhost:8080/",
          "height": 542
        }
      },
      "execution_count": 238,
      "outputs": [
        {
          "output_type": "display_data",
          "data": {
            "text/html": [
              "<html>\n",
              "<head><meta charset=\"utf-8\" /></head>\n",
              "<body>\n",
              "    <div>            <script src=\"https://cdnjs.cloudflare.com/ajax/libs/mathjax/2.7.5/MathJax.js?config=TeX-AMS-MML_SVG\"></script><script type=\"text/javascript\">if (window.MathJax) {MathJax.Hub.Config({SVG: {font: \"STIX-Web\"}});}</script>                <script type=\"text/javascript\">window.PlotlyConfig = {MathJaxConfig: 'local'};</script>\n",
              "        <script src=\"https://cdn.plot.ly/plotly-2.8.3.min.js\"></script>                <div id=\"97754fbd-a5fb-467b-a067-6c36114509bb\" class=\"plotly-graph-div\" style=\"height:525px; width:100%;\"></div>            <script type=\"text/javascript\">                                    window.PLOTLYENV=window.PLOTLYENV || {};                                    if (document.getElementById(\"97754fbd-a5fb-467b-a067-6c36114509bb\")) {                    Plotly.newPlot(                        \"97754fbd-a5fb-467b-a067-6c36114509bb\",                        [{\"hovertemplate\":\"Observed Titer=%{x}<br>Predicted Titer=%{y}<extra></extra>\",\"legendgroup\":\"\",\"marker\":{\"color\":\"#636efa\",\"symbol\":\"circle\"},\"mode\":\"markers\",\"name\":\"\",\"orientation\":\"v\",\"showlegend\":false,\"x\":[1565.3100316152315,854.4492329290191,1206.0966547089297,1587.9375363361153,811.5529901913034,841.4987076939608,645.8652400020387,978.3211904574658,1026.2593627477372,1307.3427908630745,1034.0873731742636,1268.3772140122305,1489.9274823809976,1519.9915046105887,1329.31439655397,1431.0248922870994,1566.2144147333108,1438.4509323399373,829.9221681206134,705.0060621997021,1432.1650836978292,188.37323461354003,1498.950979086217,920.6159834819938,1489.455399004581,1236.0520625432987,1323.9958683550722,1490.703545196068,1317.71949505948,1463.7461925349555,645.6194533195517,518.6891441332469,1508.020685458528,681.9077197106743,643.2530983456666,1171.9226021898683,1526.8075977874203,710.1789864596954,547.0659967970258,1239.099546696681,1275.603243989509,1516.3836910289606,1472.959836115183,1561.4366964617066,895.4073430723885,1139.0681753517283,1424.484489881591,1464.164972241741,639.5435764295627,1297.0316324502526],\"xaxis\":\"x\",\"y\":[1150.1640139844299,988.0253742450598,1287.3713708493788,1538.937494027301,879.399855093742,995.8471869415688,640.620606114355,1098.3685787254212,1023.1282284224384,1530.9740746080888,911.1277809881949,1482.4079340313488,1260.6143449634976,1362.3906546076687,1206.048618917058,1229.4859284408967,1367.3059911626056,1723.3504317729216,942.5103529891653,1022.1306454102316,1309.9801089892346,132.06057166203232,1514.9799611872347,1192.251333178009,1664.371716662403,1167.4226395807057,1426.2701494961984,1447.7822052229658,1300.8421713571313,1428.3247545065733,772.82955435244,605.8827911900617,1570.6571582947836,746.432511532081,719.6778187655286,1363.257584824632,1087.9389411410964,999.3766902971254,640.7861513025588,1195.1432078196076,1195.2731447345307,1276.4013754536097,1219.9451760873294,1608.704170778568,937.6748812112976,1118.0895604958566,1063.4069814095421,1353.0643949879075,900.0921506143243,1078.247186020866],\"yaxis\":\"y\",\"type\":\"scatter\"}],                        {\"template\":{\"data\":{\"bar\":[{\"error_x\":{\"color\":\"#2a3f5f\"},\"error_y\":{\"color\":\"#2a3f5f\"},\"marker\":{\"line\":{\"color\":\"#E5ECF6\",\"width\":0.5},\"pattern\":{\"fillmode\":\"overlay\",\"size\":10,\"solidity\":0.2}},\"type\":\"bar\"}],\"barpolar\":[{\"marker\":{\"line\":{\"color\":\"#E5ECF6\",\"width\":0.5},\"pattern\":{\"fillmode\":\"overlay\",\"size\":10,\"solidity\":0.2}},\"type\":\"barpolar\"}],\"carpet\":[{\"aaxis\":{\"endlinecolor\":\"#2a3f5f\",\"gridcolor\":\"white\",\"linecolor\":\"white\",\"minorgridcolor\":\"white\",\"startlinecolor\":\"#2a3f5f\"},\"baxis\":{\"endlinecolor\":\"#2a3f5f\",\"gridcolor\":\"white\",\"linecolor\":\"white\",\"minorgridcolor\":\"white\",\"startlinecolor\":\"#2a3f5f\"},\"type\":\"carpet\"}],\"choropleth\":[{\"colorbar\":{\"outlinewidth\":0,\"ticks\":\"\"},\"type\":\"choropleth\"}],\"contour\":[{\"colorbar\":{\"outlinewidth\":0,\"ticks\":\"\"},\"colorscale\":[[0.0,\"#0d0887\"],[0.1111111111111111,\"#46039f\"],[0.2222222222222222,\"#7201a8\"],[0.3333333333333333,\"#9c179e\"],[0.4444444444444444,\"#bd3786\"],[0.5555555555555556,\"#d8576b\"],[0.6666666666666666,\"#ed7953\"],[0.7777777777777778,\"#fb9f3a\"],[0.8888888888888888,\"#fdca26\"],[1.0,\"#f0f921\"]],\"type\":\"contour\"}],\"contourcarpet\":[{\"colorbar\":{\"outlinewidth\":0,\"ticks\":\"\"},\"type\":\"contourcarpet\"}],\"heatmap\":[{\"colorbar\":{\"outlinewidth\":0,\"ticks\":\"\"},\"colorscale\":[[0.0,\"#0d0887\"],[0.1111111111111111,\"#46039f\"],[0.2222222222222222,\"#7201a8\"],[0.3333333333333333,\"#9c179e\"],[0.4444444444444444,\"#bd3786\"],[0.5555555555555556,\"#d8576b\"],[0.6666666666666666,\"#ed7953\"],[0.7777777777777778,\"#fb9f3a\"],[0.8888888888888888,\"#fdca26\"],[1.0,\"#f0f921\"]],\"type\":\"heatmap\"}],\"heatmapgl\":[{\"colorbar\":{\"outlinewidth\":0,\"ticks\":\"\"},\"colorscale\":[[0.0,\"#0d0887\"],[0.1111111111111111,\"#46039f\"],[0.2222222222222222,\"#7201a8\"],[0.3333333333333333,\"#9c179e\"],[0.4444444444444444,\"#bd3786\"],[0.5555555555555556,\"#d8576b\"],[0.6666666666666666,\"#ed7953\"],[0.7777777777777778,\"#fb9f3a\"],[0.8888888888888888,\"#fdca26\"],[1.0,\"#f0f921\"]],\"type\":\"heatmapgl\"}],\"histogram\":[{\"marker\":{\"pattern\":{\"fillmode\":\"overlay\",\"size\":10,\"solidity\":0.2}},\"type\":\"histogram\"}],\"histogram2d\":[{\"colorbar\":{\"outlinewidth\":0,\"ticks\":\"\"},\"colorscale\":[[0.0,\"#0d0887\"],[0.1111111111111111,\"#46039f\"],[0.2222222222222222,\"#7201a8\"],[0.3333333333333333,\"#9c179e\"],[0.4444444444444444,\"#bd3786\"],[0.5555555555555556,\"#d8576b\"],[0.6666666666666666,\"#ed7953\"],[0.7777777777777778,\"#fb9f3a\"],[0.8888888888888888,\"#fdca26\"],[1.0,\"#f0f921\"]],\"type\":\"histogram2d\"}],\"histogram2dcontour\":[{\"colorbar\":{\"outlinewidth\":0,\"ticks\":\"\"},\"colorscale\":[[0.0,\"#0d0887\"],[0.1111111111111111,\"#46039f\"],[0.2222222222222222,\"#7201a8\"],[0.3333333333333333,\"#9c179e\"],[0.4444444444444444,\"#bd3786\"],[0.5555555555555556,\"#d8576b\"],[0.6666666666666666,\"#ed7953\"],[0.7777777777777778,\"#fb9f3a\"],[0.8888888888888888,\"#fdca26\"],[1.0,\"#f0f921\"]],\"type\":\"histogram2dcontour\"}],\"mesh3d\":[{\"colorbar\":{\"outlinewidth\":0,\"ticks\":\"\"},\"type\":\"mesh3d\"}],\"parcoords\":[{\"line\":{\"colorbar\":{\"outlinewidth\":0,\"ticks\":\"\"}},\"type\":\"parcoords\"}],\"pie\":[{\"automargin\":true,\"type\":\"pie\"}],\"scatter\":[{\"marker\":{\"colorbar\":{\"outlinewidth\":0,\"ticks\":\"\"}},\"type\":\"scatter\"}],\"scatter3d\":[{\"line\":{\"colorbar\":{\"outlinewidth\":0,\"ticks\":\"\"}},\"marker\":{\"colorbar\":{\"outlinewidth\":0,\"ticks\":\"\"}},\"type\":\"scatter3d\"}],\"scattercarpet\":[{\"marker\":{\"colorbar\":{\"outlinewidth\":0,\"ticks\":\"\"}},\"type\":\"scattercarpet\"}],\"scattergeo\":[{\"marker\":{\"colorbar\":{\"outlinewidth\":0,\"ticks\":\"\"}},\"type\":\"scattergeo\"}],\"scattergl\":[{\"marker\":{\"colorbar\":{\"outlinewidth\":0,\"ticks\":\"\"}},\"type\":\"scattergl\"}],\"scattermapbox\":[{\"marker\":{\"colorbar\":{\"outlinewidth\":0,\"ticks\":\"\"}},\"type\":\"scattermapbox\"}],\"scatterpolar\":[{\"marker\":{\"colorbar\":{\"outlinewidth\":0,\"ticks\":\"\"}},\"type\":\"scatterpolar\"}],\"scatterpolargl\":[{\"marker\":{\"colorbar\":{\"outlinewidth\":0,\"ticks\":\"\"}},\"type\":\"scatterpolargl\"}],\"scatterternary\":[{\"marker\":{\"colorbar\":{\"outlinewidth\":0,\"ticks\":\"\"}},\"type\":\"scatterternary\"}],\"surface\":[{\"colorbar\":{\"outlinewidth\":0,\"ticks\":\"\"},\"colorscale\":[[0.0,\"#0d0887\"],[0.1111111111111111,\"#46039f\"],[0.2222222222222222,\"#7201a8\"],[0.3333333333333333,\"#9c179e\"],[0.4444444444444444,\"#bd3786\"],[0.5555555555555556,\"#d8576b\"],[0.6666666666666666,\"#ed7953\"],[0.7777777777777778,\"#fb9f3a\"],[0.8888888888888888,\"#fdca26\"],[1.0,\"#f0f921\"]],\"type\":\"surface\"}],\"table\":[{\"cells\":{\"fill\":{\"color\":\"#EBF0F8\"},\"line\":{\"color\":\"white\"}},\"header\":{\"fill\":{\"color\":\"#C8D4E3\"},\"line\":{\"color\":\"white\"}},\"type\":\"table\"}]},\"layout\":{\"annotationdefaults\":{\"arrowcolor\":\"#2a3f5f\",\"arrowhead\":0,\"arrowwidth\":1},\"autotypenumbers\":\"strict\",\"coloraxis\":{\"colorbar\":{\"outlinewidth\":0,\"ticks\":\"\"}},\"colorscale\":{\"diverging\":[[0,\"#8e0152\"],[0.1,\"#c51b7d\"],[0.2,\"#de77ae\"],[0.3,\"#f1b6da\"],[0.4,\"#fde0ef\"],[0.5,\"#f7f7f7\"],[0.6,\"#e6f5d0\"],[0.7,\"#b8e186\"],[0.8,\"#7fbc41\"],[0.9,\"#4d9221\"],[1,\"#276419\"]],\"sequential\":[[0.0,\"#0d0887\"],[0.1111111111111111,\"#46039f\"],[0.2222222222222222,\"#7201a8\"],[0.3333333333333333,\"#9c179e\"],[0.4444444444444444,\"#bd3786\"],[0.5555555555555556,\"#d8576b\"],[0.6666666666666666,\"#ed7953\"],[0.7777777777777778,\"#fb9f3a\"],[0.8888888888888888,\"#fdca26\"],[1.0,\"#f0f921\"]],\"sequentialminus\":[[0.0,\"#0d0887\"],[0.1111111111111111,\"#46039f\"],[0.2222222222222222,\"#7201a8\"],[0.3333333333333333,\"#9c179e\"],[0.4444444444444444,\"#bd3786\"],[0.5555555555555556,\"#d8576b\"],[0.6666666666666666,\"#ed7953\"],[0.7777777777777778,\"#fb9f3a\"],[0.8888888888888888,\"#fdca26\"],[1.0,\"#f0f921\"]]},\"colorway\":[\"#636efa\",\"#EF553B\",\"#00cc96\",\"#ab63fa\",\"#FFA15A\",\"#19d3f3\",\"#FF6692\",\"#B6E880\",\"#FF97FF\",\"#FECB52\"],\"font\":{\"color\":\"#2a3f5f\"},\"geo\":{\"bgcolor\":\"white\",\"lakecolor\":\"white\",\"landcolor\":\"#E5ECF6\",\"showlakes\":true,\"showland\":true,\"subunitcolor\":\"white\"},\"hoverlabel\":{\"align\":\"left\"},\"hovermode\":\"closest\",\"mapbox\":{\"style\":\"light\"},\"paper_bgcolor\":\"white\",\"plot_bgcolor\":\"#E5ECF6\",\"polar\":{\"angularaxis\":{\"gridcolor\":\"white\",\"linecolor\":\"white\",\"ticks\":\"\"},\"bgcolor\":\"#E5ECF6\",\"radialaxis\":{\"gridcolor\":\"white\",\"linecolor\":\"white\",\"ticks\":\"\"}},\"scene\":{\"xaxis\":{\"backgroundcolor\":\"#E5ECF6\",\"gridcolor\":\"white\",\"gridwidth\":2,\"linecolor\":\"white\",\"showbackground\":true,\"ticks\":\"\",\"zerolinecolor\":\"white\"},\"yaxis\":{\"backgroundcolor\":\"#E5ECF6\",\"gridcolor\":\"white\",\"gridwidth\":2,\"linecolor\":\"white\",\"showbackground\":true,\"ticks\":\"\",\"zerolinecolor\":\"white\"},\"zaxis\":{\"backgroundcolor\":\"#E5ECF6\",\"gridcolor\":\"white\",\"gridwidth\":2,\"linecolor\":\"white\",\"showbackground\":true,\"ticks\":\"\",\"zerolinecolor\":\"white\"}},\"shapedefaults\":{\"line\":{\"color\":\"#2a3f5f\"}},\"ternary\":{\"aaxis\":{\"gridcolor\":\"white\",\"linecolor\":\"white\",\"ticks\":\"\"},\"baxis\":{\"gridcolor\":\"white\",\"linecolor\":\"white\",\"ticks\":\"\"},\"bgcolor\":\"#E5ECF6\",\"caxis\":{\"gridcolor\":\"white\",\"linecolor\":\"white\",\"ticks\":\"\"}},\"title\":{\"x\":0.05},\"xaxis\":{\"automargin\":true,\"gridcolor\":\"white\",\"linecolor\":\"white\",\"ticks\":\"\",\"title\":{\"standoff\":15},\"zerolinecolor\":\"white\",\"zerolinewidth\":2},\"yaxis\":{\"automargin\":true,\"gridcolor\":\"white\",\"linecolor\":\"white\",\"ticks\":\"\",\"title\":{\"standoff\":15},\"zerolinecolor\":\"white\",\"zerolinewidth\":2}}},\"xaxis\":{\"anchor\":\"y\",\"domain\":[0.0,1.0],\"title\":{\"text\":\"Observed Titer\"}},\"yaxis\":{\"anchor\":\"x\",\"domain\":[0.0,1.0],\"title\":{\"text\":\"Predicted Titer\"}},\"legend\":{\"tracegroupgap\":0},\"title\":{\"text\":\"Observed vs Predicted on Train Set; R^2 = 0.749\"},\"shapes\":[{\"layer\":\"below\",\"type\":\"line\",\"x0\":0,\"x1\":1,\"xref\":\"paper\",\"y0\":0,\"y1\":1,\"yref\":\"paper\"}]},                        {\"responsive\": true}                    ).then(function(){\n",
              "                            \n",
              "var gd = document.getElementById('97754fbd-a5fb-467b-a067-6c36114509bb');\n",
              "var x = new MutationObserver(function (mutations, observer) {{\n",
              "        var display = window.getComputedStyle(gd).display;\n",
              "        if (!display || display === 'none') {{\n",
              "            console.log([gd, 'removed!']);\n",
              "            Plotly.purge(gd);\n",
              "            observer.disconnect();\n",
              "        }}\n",
              "}});\n",
              "\n",
              "// Listen for the removal of the full notebook cells\n",
              "var notebookContainer = gd.closest('#notebook-container');\n",
              "if (notebookContainer) {{\n",
              "    x.observe(notebookContainer, {childList: true});\n",
              "}}\n",
              "\n",
              "// Listen for the clearing of the current output cell\n",
              "var outputEl = gd.closest('.output');\n",
              "if (outputEl) {{\n",
              "    x.observe(outputEl, {childList: true});\n",
              "}}\n",
              "\n",
              "                        })                };                            </script>        </div>\n",
              "</body>\n",
              "</html>"
            ]
          },
          "metadata": {}
        }
      ]
    },
    {
      "cell_type": "markdown",
      "source": [
        "### Evaluate model prediction on test set"
      ],
      "metadata": {
        "id": "GyPkpFhimuLO"
      }
    },
    {
      "cell_type": "code",
      "source": [
        "# Plot predictions in test set\n",
        "X_test = doe_test.values\n",
        "y_test = tar_test.values\n",
        "yhat_test = pipe.predict(doe_test)\n",
        "fig = px.scatter(x=y_test.reshape(-1),y=yhat_test.reshape(-1), title=\"Observed vs Predicted on Test Set; R^2 = \"+str(round(pipe.score(doe_test,y_test),3)), labels=dict(x=\"Observed Titer\", y=\"Predicted Titer\"))\n",
        "fig.update_layout(shapes = [{'type': 'line', 'yref': 'paper', 'xref': 'paper', 'y0': 0, 'y1': 1, 'x0': 0, 'x1': 1, 'layer': 'below'}])\n",
        "fig.show()"
      ],
      "metadata": {
        "id": "PSxUjK68f7sR",
        "outputId": "fdf41dd7-bced-4911-9225-501dfa9a652e",
        "colab": {
          "base_uri": "https://localhost:8080/",
          "height": 542
        }
      },
      "execution_count": 239,
      "outputs": [
        {
          "output_type": "display_data",
          "data": {
            "text/html": [
              "<html>\n",
              "<head><meta charset=\"utf-8\" /></head>\n",
              "<body>\n",
              "    <div>            <script src=\"https://cdnjs.cloudflare.com/ajax/libs/mathjax/2.7.5/MathJax.js?config=TeX-AMS-MML_SVG\"></script><script type=\"text/javascript\">if (window.MathJax) {MathJax.Hub.Config({SVG: {font: \"STIX-Web\"}});}</script>                <script type=\"text/javascript\">window.PlotlyConfig = {MathJaxConfig: 'local'};</script>\n",
              "        <script src=\"https://cdn.plot.ly/plotly-2.8.3.min.js\"></script>                <div id=\"77c497ab-f34d-4499-b52f-6b89a923729a\" class=\"plotly-graph-div\" style=\"height:525px; width:100%;\"></div>            <script type=\"text/javascript\">                                    window.PLOTLYENV=window.PLOTLYENV || {};                                    if (document.getElementById(\"77c497ab-f34d-4499-b52f-6b89a923729a\")) {                    Plotly.newPlot(                        \"77c497ab-f34d-4499-b52f-6b89a923729a\",                        [{\"hovertemplate\":\"Observed Titer=%{x}<br>Predicted Titer=%{y}<extra></extra>\",\"legendgroup\":\"\",\"marker\":{\"color\":\"#636efa\",\"symbol\":\"circle\"},\"mode\":\"markers\",\"name\":\"\",\"orientation\":\"v\",\"showlegend\":false,\"x\":[1486.555322665747,852.5421510506708,1553.3693013236993,1561.6944741051122,1561.9285093830367,1555.5990575252915,664.6187798777727,1588.1477685622356,1573.9990705283894,1393.0710551474324,1585.7304206956908,1534.768930546699,1586.8676827848133,1120.6204607891566,967.4138303905323,1581.2252660009826,1521.0375916532755,1255.2700326269191,1504.894937980849,728.3175492673013,1127.481659231358,1037.3529483901104,1153.1684886467415,1599.395719266287,1373.3875240676539,1588.972941246536,1397.182482338,1586.1796600561468,1268.1596010497083,1579.9184591007336,777.916772007101,1461.5586797240042,1318.0550040408075,1513.53945930146,678.9881062945203,920.6098404000459,1242.4469308698558,797.4025653838119,1418.0496260461455,1205.021737650426,1154.9710813250379,1360.312718950821,1101.630950463139,1504.347905209396,799.6625192661403,1530.773728116675,1419.8835249141798,1564.0148293057987,1562.1980325113516,1049.7026566235018],\"xaxis\":\"x\",\"y\":[1130.316812544989,945.8399998691173,1241.9404441709175,1386.5086509645275,936.4314716607611,1131.3686098037758,650.2112866711223,1169.8135923608675,1200.1618428267798,1119.5552054377379,1059.2977527661367,1291.7035523153586,1295.8337905668623,1165.6079171684898,1006.264023797502,1372.0539443079824,1362.9363073214474,1415.024419469045,1090.0110714942944,949.1545016203147,1151.1122129427226,687.3995840613759,1239.058748420581,1291.5209533218417,1458.7434053082925,1321.3245145250185,1092.1544817328654,1408.2324345634925,1100.8660781165365,1309.7117933121406,693.4010392684559,1083.0556513263725,1463.300495273421,1169.836289467859,732.2443081304211,1085.1036416752252,1027.0672167288753,1043.6520700388382,925.4860529237482,1229.554889525936,1134.9627654406222,1081.1611939100294,1091.5548322833806,1431.3815253000814,836.0556921563443,1016.0045959323393,979.6190458716492,1267.5954443417313,1123.1237193993366,1026.6398903235322],\"yaxis\":\"y\",\"type\":\"scatter\"}],                        {\"template\":{\"data\":{\"bar\":[{\"error_x\":{\"color\":\"#2a3f5f\"},\"error_y\":{\"color\":\"#2a3f5f\"},\"marker\":{\"line\":{\"color\":\"#E5ECF6\",\"width\":0.5},\"pattern\":{\"fillmode\":\"overlay\",\"size\":10,\"solidity\":0.2}},\"type\":\"bar\"}],\"barpolar\":[{\"marker\":{\"line\":{\"color\":\"#E5ECF6\",\"width\":0.5},\"pattern\":{\"fillmode\":\"overlay\",\"size\":10,\"solidity\":0.2}},\"type\":\"barpolar\"}],\"carpet\":[{\"aaxis\":{\"endlinecolor\":\"#2a3f5f\",\"gridcolor\":\"white\",\"linecolor\":\"white\",\"minorgridcolor\":\"white\",\"startlinecolor\":\"#2a3f5f\"},\"baxis\":{\"endlinecolor\":\"#2a3f5f\",\"gridcolor\":\"white\",\"linecolor\":\"white\",\"minorgridcolor\":\"white\",\"startlinecolor\":\"#2a3f5f\"},\"type\":\"carpet\"}],\"choropleth\":[{\"colorbar\":{\"outlinewidth\":0,\"ticks\":\"\"},\"type\":\"choropleth\"}],\"contour\":[{\"colorbar\":{\"outlinewidth\":0,\"ticks\":\"\"},\"colorscale\":[[0.0,\"#0d0887\"],[0.1111111111111111,\"#46039f\"],[0.2222222222222222,\"#7201a8\"],[0.3333333333333333,\"#9c179e\"],[0.4444444444444444,\"#bd3786\"],[0.5555555555555556,\"#d8576b\"],[0.6666666666666666,\"#ed7953\"],[0.7777777777777778,\"#fb9f3a\"],[0.8888888888888888,\"#fdca26\"],[1.0,\"#f0f921\"]],\"type\":\"contour\"}],\"contourcarpet\":[{\"colorbar\":{\"outlinewidth\":0,\"ticks\":\"\"},\"type\":\"contourcarpet\"}],\"heatmap\":[{\"colorbar\":{\"outlinewidth\":0,\"ticks\":\"\"},\"colorscale\":[[0.0,\"#0d0887\"],[0.1111111111111111,\"#46039f\"],[0.2222222222222222,\"#7201a8\"],[0.3333333333333333,\"#9c179e\"],[0.4444444444444444,\"#bd3786\"],[0.5555555555555556,\"#d8576b\"],[0.6666666666666666,\"#ed7953\"],[0.7777777777777778,\"#fb9f3a\"],[0.8888888888888888,\"#fdca26\"],[1.0,\"#f0f921\"]],\"type\":\"heatmap\"}],\"heatmapgl\":[{\"colorbar\":{\"outlinewidth\":0,\"ticks\":\"\"},\"colorscale\":[[0.0,\"#0d0887\"],[0.1111111111111111,\"#46039f\"],[0.2222222222222222,\"#7201a8\"],[0.3333333333333333,\"#9c179e\"],[0.4444444444444444,\"#bd3786\"],[0.5555555555555556,\"#d8576b\"],[0.6666666666666666,\"#ed7953\"],[0.7777777777777778,\"#fb9f3a\"],[0.8888888888888888,\"#fdca26\"],[1.0,\"#f0f921\"]],\"type\":\"heatmapgl\"}],\"histogram\":[{\"marker\":{\"pattern\":{\"fillmode\":\"overlay\",\"size\":10,\"solidity\":0.2}},\"type\":\"histogram\"}],\"histogram2d\":[{\"colorbar\":{\"outlinewidth\":0,\"ticks\":\"\"},\"colorscale\":[[0.0,\"#0d0887\"],[0.1111111111111111,\"#46039f\"],[0.2222222222222222,\"#7201a8\"],[0.3333333333333333,\"#9c179e\"],[0.4444444444444444,\"#bd3786\"],[0.5555555555555556,\"#d8576b\"],[0.6666666666666666,\"#ed7953\"],[0.7777777777777778,\"#fb9f3a\"],[0.8888888888888888,\"#fdca26\"],[1.0,\"#f0f921\"]],\"type\":\"histogram2d\"}],\"histogram2dcontour\":[{\"colorbar\":{\"outlinewidth\":0,\"ticks\":\"\"},\"colorscale\":[[0.0,\"#0d0887\"],[0.1111111111111111,\"#46039f\"],[0.2222222222222222,\"#7201a8\"],[0.3333333333333333,\"#9c179e\"],[0.4444444444444444,\"#bd3786\"],[0.5555555555555556,\"#d8576b\"],[0.6666666666666666,\"#ed7953\"],[0.7777777777777778,\"#fb9f3a\"],[0.8888888888888888,\"#fdca26\"],[1.0,\"#f0f921\"]],\"type\":\"histogram2dcontour\"}],\"mesh3d\":[{\"colorbar\":{\"outlinewidth\":0,\"ticks\":\"\"},\"type\":\"mesh3d\"}],\"parcoords\":[{\"line\":{\"colorbar\":{\"outlinewidth\":0,\"ticks\":\"\"}},\"type\":\"parcoords\"}],\"pie\":[{\"automargin\":true,\"type\":\"pie\"}],\"scatter\":[{\"marker\":{\"colorbar\":{\"outlinewidth\":0,\"ticks\":\"\"}},\"type\":\"scatter\"}],\"scatter3d\":[{\"line\":{\"colorbar\":{\"outlinewidth\":0,\"ticks\":\"\"}},\"marker\":{\"colorbar\":{\"outlinewidth\":0,\"ticks\":\"\"}},\"type\":\"scatter3d\"}],\"scattercarpet\":[{\"marker\":{\"colorbar\":{\"outlinewidth\":0,\"ticks\":\"\"}},\"type\":\"scattercarpet\"}],\"scattergeo\":[{\"marker\":{\"colorbar\":{\"outlinewidth\":0,\"ticks\":\"\"}},\"type\":\"scattergeo\"}],\"scattergl\":[{\"marker\":{\"colorbar\":{\"outlinewidth\":0,\"ticks\":\"\"}},\"type\":\"scattergl\"}],\"scattermapbox\":[{\"marker\":{\"colorbar\":{\"outlinewidth\":0,\"ticks\":\"\"}},\"type\":\"scattermapbox\"}],\"scatterpolar\":[{\"marker\":{\"colorbar\":{\"outlinewidth\":0,\"ticks\":\"\"}},\"type\":\"scatterpolar\"}],\"scatterpolargl\":[{\"marker\":{\"colorbar\":{\"outlinewidth\":0,\"ticks\":\"\"}},\"type\":\"scatterpolargl\"}],\"scatterternary\":[{\"marker\":{\"colorbar\":{\"outlinewidth\":0,\"ticks\":\"\"}},\"type\":\"scatterternary\"}],\"surface\":[{\"colorbar\":{\"outlinewidth\":0,\"ticks\":\"\"},\"colorscale\":[[0.0,\"#0d0887\"],[0.1111111111111111,\"#46039f\"],[0.2222222222222222,\"#7201a8\"],[0.3333333333333333,\"#9c179e\"],[0.4444444444444444,\"#bd3786\"],[0.5555555555555556,\"#d8576b\"],[0.6666666666666666,\"#ed7953\"],[0.7777777777777778,\"#fb9f3a\"],[0.8888888888888888,\"#fdca26\"],[1.0,\"#f0f921\"]],\"type\":\"surface\"}],\"table\":[{\"cells\":{\"fill\":{\"color\":\"#EBF0F8\"},\"line\":{\"color\":\"white\"}},\"header\":{\"fill\":{\"color\":\"#C8D4E3\"},\"line\":{\"color\":\"white\"}},\"type\":\"table\"}]},\"layout\":{\"annotationdefaults\":{\"arrowcolor\":\"#2a3f5f\",\"arrowhead\":0,\"arrowwidth\":1},\"autotypenumbers\":\"strict\",\"coloraxis\":{\"colorbar\":{\"outlinewidth\":0,\"ticks\":\"\"}},\"colorscale\":{\"diverging\":[[0,\"#8e0152\"],[0.1,\"#c51b7d\"],[0.2,\"#de77ae\"],[0.3,\"#f1b6da\"],[0.4,\"#fde0ef\"],[0.5,\"#f7f7f7\"],[0.6,\"#e6f5d0\"],[0.7,\"#b8e186\"],[0.8,\"#7fbc41\"],[0.9,\"#4d9221\"],[1,\"#276419\"]],\"sequential\":[[0.0,\"#0d0887\"],[0.1111111111111111,\"#46039f\"],[0.2222222222222222,\"#7201a8\"],[0.3333333333333333,\"#9c179e\"],[0.4444444444444444,\"#bd3786\"],[0.5555555555555556,\"#d8576b\"],[0.6666666666666666,\"#ed7953\"],[0.7777777777777778,\"#fb9f3a\"],[0.8888888888888888,\"#fdca26\"],[1.0,\"#f0f921\"]],\"sequentialminus\":[[0.0,\"#0d0887\"],[0.1111111111111111,\"#46039f\"],[0.2222222222222222,\"#7201a8\"],[0.3333333333333333,\"#9c179e\"],[0.4444444444444444,\"#bd3786\"],[0.5555555555555556,\"#d8576b\"],[0.6666666666666666,\"#ed7953\"],[0.7777777777777778,\"#fb9f3a\"],[0.8888888888888888,\"#fdca26\"],[1.0,\"#f0f921\"]]},\"colorway\":[\"#636efa\",\"#EF553B\",\"#00cc96\",\"#ab63fa\",\"#FFA15A\",\"#19d3f3\",\"#FF6692\",\"#B6E880\",\"#FF97FF\",\"#FECB52\"],\"font\":{\"color\":\"#2a3f5f\"},\"geo\":{\"bgcolor\":\"white\",\"lakecolor\":\"white\",\"landcolor\":\"#E5ECF6\",\"showlakes\":true,\"showland\":true,\"subunitcolor\":\"white\"},\"hoverlabel\":{\"align\":\"left\"},\"hovermode\":\"closest\",\"mapbox\":{\"style\":\"light\"},\"paper_bgcolor\":\"white\",\"plot_bgcolor\":\"#E5ECF6\",\"polar\":{\"angularaxis\":{\"gridcolor\":\"white\",\"linecolor\":\"white\",\"ticks\":\"\"},\"bgcolor\":\"#E5ECF6\",\"radialaxis\":{\"gridcolor\":\"white\",\"linecolor\":\"white\",\"ticks\":\"\"}},\"scene\":{\"xaxis\":{\"backgroundcolor\":\"#E5ECF6\",\"gridcolor\":\"white\",\"gridwidth\":2,\"linecolor\":\"white\",\"showbackground\":true,\"ticks\":\"\",\"zerolinecolor\":\"white\"},\"yaxis\":{\"backgroundcolor\":\"#E5ECF6\",\"gridcolor\":\"white\",\"gridwidth\":2,\"linecolor\":\"white\",\"showbackground\":true,\"ticks\":\"\",\"zerolinecolor\":\"white\"},\"zaxis\":{\"backgroundcolor\":\"#E5ECF6\",\"gridcolor\":\"white\",\"gridwidth\":2,\"linecolor\":\"white\",\"showbackground\":true,\"ticks\":\"\",\"zerolinecolor\":\"white\"}},\"shapedefaults\":{\"line\":{\"color\":\"#2a3f5f\"}},\"ternary\":{\"aaxis\":{\"gridcolor\":\"white\",\"linecolor\":\"white\",\"ticks\":\"\"},\"baxis\":{\"gridcolor\":\"white\",\"linecolor\":\"white\",\"ticks\":\"\"},\"bgcolor\":\"#E5ECF6\",\"caxis\":{\"gridcolor\":\"white\",\"linecolor\":\"white\",\"ticks\":\"\"}},\"title\":{\"x\":0.05},\"xaxis\":{\"automargin\":true,\"gridcolor\":\"white\",\"linecolor\":\"white\",\"ticks\":\"\",\"title\":{\"standoff\":15},\"zerolinecolor\":\"white\",\"zerolinewidth\":2},\"yaxis\":{\"automargin\":true,\"gridcolor\":\"white\",\"linecolor\":\"white\",\"ticks\":\"\",\"title\":{\"standoff\":15},\"zerolinecolor\":\"white\",\"zerolinewidth\":2}}},\"xaxis\":{\"anchor\":\"y\",\"domain\":[0.0,1.0],\"title\":{\"text\":\"Observed Titer\"}},\"yaxis\":{\"anchor\":\"x\",\"domain\":[0.0,1.0],\"title\":{\"text\":\"Predicted Titer\"}},\"legend\":{\"tracegroupgap\":0},\"title\":{\"text\":\"Observed vs Predicted on Test Set; R^2 = 0.046\"},\"shapes\":[{\"layer\":\"below\",\"type\":\"line\",\"x0\":0,\"x1\":1,\"xref\":\"paper\",\"y0\":0,\"y1\":1,\"yref\":\"paper\"}]},                        {\"responsive\": true}                    ).then(function(){\n",
              "                            \n",
              "var gd = document.getElementById('77c497ab-f34d-4499-b52f-6b89a923729a');\n",
              "var x = new MutationObserver(function (mutations, observer) {{\n",
              "        var display = window.getComputedStyle(gd).display;\n",
              "        if (!display || display === 'none') {{\n",
              "            console.log([gd, 'removed!']);\n",
              "            Plotly.purge(gd);\n",
              "            observer.disconnect();\n",
              "        }}\n",
              "}});\n",
              "\n",
              "// Listen for the removal of the full notebook cells\n",
              "var notebookContainer = gd.closest('#notebook-container');\n",
              "if (notebookContainer) {{\n",
              "    x.observe(notebookContainer, {childList: true});\n",
              "}}\n",
              "\n",
              "// Listen for the clearing of the current output cell\n",
              "var outputEl = gd.closest('.output');\n",
              "if (outputEl) {{\n",
              "    x.observe(outputEl, {childList: true});\n",
              "}}\n",
              "\n",
              "                        })                };                            </script>        </div>\n",
              "</body>\n",
              "</html>"
            ]
          },
          "metadata": {}
        }
      ]
    },
    {
      "cell_type": "code",
      "source": [
        "# Absolute RMSEP\n",
        "rmse_abs = mean_squared_error(y_test, yhat_test,squared=False)\n",
        "print('Absolute RMSEP: ',rmse_abs)\n",
        "# Relative RMSEP\n",
        "rmse_rel = mean_squared_error(y_test, yhat_test,squared=False) / np.std(y_test)\n",
        "print('Relative RMSEP: ',rmse_rel)"
      ],
      "metadata": {
        "id": "ZasZVPBOy1P6",
        "outputId": "acaa9e84-46cc-4211-9600-efce91dac077",
        "colab": {
          "base_uri": "https://localhost:8080/"
        }
      },
      "execution_count": 240,
      "outputs": [
        {
          "output_type": "stream",
          "name": "stdout",
          "text": [
            "Absolute RMSEP:  282.4383189173625\n",
            "Relative RMSEP:  0.9769849462682716\n"
          ]
        }
      ]
    },
    {
      "cell_type": "markdown",
      "source": [
        "## PLS Model\n",
        "\n",
        "In this section, we train a PLS1 model with the data loaded in the section above.\n"
      ],
      "metadata": {
        "id": "3C7-mXh8H1P6"
      }
    },
    {
      "cell_type": "markdown",
      "source": [
        "### Select number of latent variables\n",
        "\n",
        "Create a PLS model to predict the value of the final titer given the initial conditions.\n",
        "\n",
        "* Input matrix: \"doe\". This corresponds to the values of the manipulated process parameters for each experiment.\n",
        "* Output target: \"tar\". This corresponds to the final value of titer at the end of each experiment. (or aggregates)\n",
        "\n",
        "Select the number of latent variables for the model (the maximum number of latent variables is 5, equal to the number of variables in the input matrix).\n",
        "\n",
        "\n",
        "\n"
      ],
      "metadata": {
        "id": "gPSnjAS5IGW6"
      }
    },
    {
      "cell_type": "code",
      "source": [
        "# Number of latent variables\n",
        "N_LV = 5"
      ],
      "metadata": {
        "id": "OgBkwZQ0ItJU"
      },
      "execution_count": null,
      "outputs": []
    },
    {
      "cell_type": "markdown",
      "source": [
        "### Train the PLS model\n",
        "\n",
        "Here we train the PLS1 model with final titer as our response"
      ],
      "metadata": {
        "id": "durqeoZiLfUN"
      }
    },
    {
      "cell_type": "code",
      "source": [
        "# Train PLS model\n",
        "pls = PLSRegression(n_components=N_LV)\n",
        "pls.fit(doe, y)\n",
        "\n",
        "# Plot observed vs predicted\n",
        "yhat = pls.predict(doe).reshape(len(y))\n",
        "fig = px.scatter(x=y.values.reshape(len(yhat)),y=yhat,labels=dict(x=\"Observed Titer\", y=\"Predicted Titer\"), title=\"Observed vs Predicted on Train Set\")\n",
        "fig.update_layout(shapes = [{'type': 'line', 'yref': 'paper', 'xref': 'paper', 'y0': 0, 'y1': 1, 'x0': 0, 'x1': 1, 'layer': 'below'}])\n",
        "fig.show()"
      ],
      "metadata": {
        "id": "u2RWJm8QI81j",
        "outputId": "1acd6955-6d11-47d6-a0db-b8f30120b38d",
        "colab": {
          "base_uri": "https://localhost:8080/",
          "height": 542
        }
      },
      "execution_count": null,
      "outputs": [
        {
          "output_type": "display_data",
          "data": {
            "text/html": [
              "<html>\n",
              "<head><meta charset=\"utf-8\" /></head>\n",
              "<body>\n",
              "    <div>            <script src=\"https://cdnjs.cloudflare.com/ajax/libs/mathjax/2.7.5/MathJax.js?config=TeX-AMS-MML_SVG\"></script><script type=\"text/javascript\">if (window.MathJax) {MathJax.Hub.Config({SVG: {font: \"STIX-Web\"}});}</script>                <script type=\"text/javascript\">window.PlotlyConfig = {MathJaxConfig: 'local'};</script>\n",
              "        <script src=\"https://cdn.plot.ly/plotly-2.8.3.min.js\"></script>                <div id=\"6b64f3f0-004a-4bac-b2bd-7b535de4fde6\" class=\"plotly-graph-div\" style=\"height:525px; width:100%;\"></div>            <script type=\"text/javascript\">                                    window.PLOTLYENV=window.PLOTLYENV || {};                                    if (document.getElementById(\"6b64f3f0-004a-4bac-b2bd-7b535de4fde6\")) {                    Plotly.newPlot(                        \"6b64f3f0-004a-4bac-b2bd-7b535de4fde6\",                        [{\"hovertemplate\":\"Observed Titer=%{x}<br>Predicted Titer=%{y}<extra></extra>\",\"legendgroup\":\"\",\"marker\":{\"color\":\"#636efa\",\"symbol\":\"circle\"},\"mode\":\"markers\",\"name\":\"\",\"orientation\":\"v\",\"showlegend\":false,\"x\":[1311.1,1056.1,993.78,415.18,846.94,678.6,942.6,1124.2,1467.3,852.45,1449.3,1420.9,983.21,1458.5,1515.4,564.49,1296.8,775.63,1389.2,879.9,528.89,1505.0,1376.3,1199.6,1420.3,599.94,1495.9,580.07,395.92,1269.9,293.8,1295.2,733.33,601.62,1422.9,974.84,601.75,552.03,642.17,577.28,1497.2,1492.9,1349.8,533.16,1439.6,1432.7,1094.9,1077.6,759.86,564.01,809.71,649.04,1466.0,1370.8,1462.8,1490.5,645.69,1133.3,1533.9,1303.6,1109.5,1532.0,938.24,566.1,1301.8,965.96,1177.8,1483.4,1340.9,1432.3,1260.4,1007.3,1353.1,1324.0,1218.4,1410.1,1047.0,739.16,1506.0,1289.4,1144.4,1272.8,1011.0,1194.2,1015.0,1413.1,1489.4,1037.4,603.76,1528.9,824.74,1437.1,1317.1,1405.5,609.23,951.19,1505.1,1371.7,1408.5,1455.3],\"xaxis\":\"x\",\"y\":[1220.7280015333226,1332.1085499524143,1125.8047251962685,822.3893783392044,1087.8660712625356,858.0260781999641,1092.2385245277371,1250.7919457918185,1213.9493964960323,1037.6789388546938,1151.8865144040126,1198.7804891413648,1162.6687459729585,1112.286042824345,1194.819318474573,1097.2826520730387,1222.132093058576,1166.303891038854,1145.5763643119958,1045.6500233364773,1017.9047430408817,1268.9777044370962,1027.619201707687,913.7577645042003,946.0691287333883,1169.4714297568576,1063.1990790650693,985.9283103387363,852.5538943942192,1308.439899222727,1028.0324174228685,1157.4894921166833,992.3521892250671,780.8485048741766,1132.9331370274958,1226.9814273394911,711.9390658592938,946.7966603068925,761.2279515209259,1112.9135582034946,920.0274192436482,1229.1771173178913,817.7446319052408,1095.2103352055594,1108.5378300619075,1211.8333353996213,856.6753659329639,1182.963055811069,1087.1378277567017,1142.8346802112158,1232.7488360174425,958.3868048154053,1191.4811953749127,1266.8409489275011,1285.7383225453755,1178.73116591319,998.4975749786591,1441.5003784579953,1101.082575212548,1002.6729340317845,1287.5219889772413,1201.0011654631207,1171.3108956834683,992.7449056950102,1021.4018550341264,848.6432354740516,1077.6042534281844,1450.0409578132378,1267.5463405875707,1292.2343510423582,1213.900638410539,1038.9341640717723,1070.0519511610148,1103.7932348929435,1051.2446882270788,1268.2618873405481,912.6851723132482,1245.4841233874206,1035.3397373575579,1141.1571059724229,1142.23130814923,1143.4194263351615,1177.0238997837675,1268.6831808171944,931.7128551512565,1113.5499774483417,1440.769047150395,1054.656813177644,963.9005605698138,1150.6253694944935,1206.96517210467,1091.419320547531,1243.9732661572525,1233.2819763491248,1223.5062560765164,1014.4888563514286,1014.0192688082519,1166.743848976697,1023.4957893846522,1044.075515825588],\"yaxis\":\"y\",\"type\":\"scatter\"}],                        {\"template\":{\"data\":{\"bar\":[{\"error_x\":{\"color\":\"#2a3f5f\"},\"error_y\":{\"color\":\"#2a3f5f\"},\"marker\":{\"line\":{\"color\":\"#E5ECF6\",\"width\":0.5},\"pattern\":{\"fillmode\":\"overlay\",\"size\":10,\"solidity\":0.2}},\"type\":\"bar\"}],\"barpolar\":[{\"marker\":{\"line\":{\"color\":\"#E5ECF6\",\"width\":0.5},\"pattern\":{\"fillmode\":\"overlay\",\"size\":10,\"solidity\":0.2}},\"type\":\"barpolar\"}],\"carpet\":[{\"aaxis\":{\"endlinecolor\":\"#2a3f5f\",\"gridcolor\":\"white\",\"linecolor\":\"white\",\"minorgridcolor\":\"white\",\"startlinecolor\":\"#2a3f5f\"},\"baxis\":{\"endlinecolor\":\"#2a3f5f\",\"gridcolor\":\"white\",\"linecolor\":\"white\",\"minorgridcolor\":\"white\",\"startlinecolor\":\"#2a3f5f\"},\"type\":\"carpet\"}],\"choropleth\":[{\"colorbar\":{\"outlinewidth\":0,\"ticks\":\"\"},\"type\":\"choropleth\"}],\"contour\":[{\"colorbar\":{\"outlinewidth\":0,\"ticks\":\"\"},\"colorscale\":[[0.0,\"#0d0887\"],[0.1111111111111111,\"#46039f\"],[0.2222222222222222,\"#7201a8\"],[0.3333333333333333,\"#9c179e\"],[0.4444444444444444,\"#bd3786\"],[0.5555555555555556,\"#d8576b\"],[0.6666666666666666,\"#ed7953\"],[0.7777777777777778,\"#fb9f3a\"],[0.8888888888888888,\"#fdca26\"],[1.0,\"#f0f921\"]],\"type\":\"contour\"}],\"contourcarpet\":[{\"colorbar\":{\"outlinewidth\":0,\"ticks\":\"\"},\"type\":\"contourcarpet\"}],\"heatmap\":[{\"colorbar\":{\"outlinewidth\":0,\"ticks\":\"\"},\"colorscale\":[[0.0,\"#0d0887\"],[0.1111111111111111,\"#46039f\"],[0.2222222222222222,\"#7201a8\"],[0.3333333333333333,\"#9c179e\"],[0.4444444444444444,\"#bd3786\"],[0.5555555555555556,\"#d8576b\"],[0.6666666666666666,\"#ed7953\"],[0.7777777777777778,\"#fb9f3a\"],[0.8888888888888888,\"#fdca26\"],[1.0,\"#f0f921\"]],\"type\":\"heatmap\"}],\"heatmapgl\":[{\"colorbar\":{\"outlinewidth\":0,\"ticks\":\"\"},\"colorscale\":[[0.0,\"#0d0887\"],[0.1111111111111111,\"#46039f\"],[0.2222222222222222,\"#7201a8\"],[0.3333333333333333,\"#9c179e\"],[0.4444444444444444,\"#bd3786\"],[0.5555555555555556,\"#d8576b\"],[0.6666666666666666,\"#ed7953\"],[0.7777777777777778,\"#fb9f3a\"],[0.8888888888888888,\"#fdca26\"],[1.0,\"#f0f921\"]],\"type\":\"heatmapgl\"}],\"histogram\":[{\"marker\":{\"pattern\":{\"fillmode\":\"overlay\",\"size\":10,\"solidity\":0.2}},\"type\":\"histogram\"}],\"histogram2d\":[{\"colorbar\":{\"outlinewidth\":0,\"ticks\":\"\"},\"colorscale\":[[0.0,\"#0d0887\"],[0.1111111111111111,\"#46039f\"],[0.2222222222222222,\"#7201a8\"],[0.3333333333333333,\"#9c179e\"],[0.4444444444444444,\"#bd3786\"],[0.5555555555555556,\"#d8576b\"],[0.6666666666666666,\"#ed7953\"],[0.7777777777777778,\"#fb9f3a\"],[0.8888888888888888,\"#fdca26\"],[1.0,\"#f0f921\"]],\"type\":\"histogram2d\"}],\"histogram2dcontour\":[{\"colorbar\":{\"outlinewidth\":0,\"ticks\":\"\"},\"colorscale\":[[0.0,\"#0d0887\"],[0.1111111111111111,\"#46039f\"],[0.2222222222222222,\"#7201a8\"],[0.3333333333333333,\"#9c179e\"],[0.4444444444444444,\"#bd3786\"],[0.5555555555555556,\"#d8576b\"],[0.6666666666666666,\"#ed7953\"],[0.7777777777777778,\"#fb9f3a\"],[0.8888888888888888,\"#fdca26\"],[1.0,\"#f0f921\"]],\"type\":\"histogram2dcontour\"}],\"mesh3d\":[{\"colorbar\":{\"outlinewidth\":0,\"ticks\":\"\"},\"type\":\"mesh3d\"}],\"parcoords\":[{\"line\":{\"colorbar\":{\"outlinewidth\":0,\"ticks\":\"\"}},\"type\":\"parcoords\"}],\"pie\":[{\"automargin\":true,\"type\":\"pie\"}],\"scatter\":[{\"marker\":{\"colorbar\":{\"outlinewidth\":0,\"ticks\":\"\"}},\"type\":\"scatter\"}],\"scatter3d\":[{\"line\":{\"colorbar\":{\"outlinewidth\":0,\"ticks\":\"\"}},\"marker\":{\"colorbar\":{\"outlinewidth\":0,\"ticks\":\"\"}},\"type\":\"scatter3d\"}],\"scattercarpet\":[{\"marker\":{\"colorbar\":{\"outlinewidth\":0,\"ticks\":\"\"}},\"type\":\"scattercarpet\"}],\"scattergeo\":[{\"marker\":{\"colorbar\":{\"outlinewidth\":0,\"ticks\":\"\"}},\"type\":\"scattergeo\"}],\"scattergl\":[{\"marker\":{\"colorbar\":{\"outlinewidth\":0,\"ticks\":\"\"}},\"type\":\"scattergl\"}],\"scattermapbox\":[{\"marker\":{\"colorbar\":{\"outlinewidth\":0,\"ticks\":\"\"}},\"type\":\"scattermapbox\"}],\"scatterpolar\":[{\"marker\":{\"colorbar\":{\"outlinewidth\":0,\"ticks\":\"\"}},\"type\":\"scatterpolar\"}],\"scatterpolargl\":[{\"marker\":{\"colorbar\":{\"outlinewidth\":0,\"ticks\":\"\"}},\"type\":\"scatterpolargl\"}],\"scatterternary\":[{\"marker\":{\"colorbar\":{\"outlinewidth\":0,\"ticks\":\"\"}},\"type\":\"scatterternary\"}],\"surface\":[{\"colorbar\":{\"outlinewidth\":0,\"ticks\":\"\"},\"colorscale\":[[0.0,\"#0d0887\"],[0.1111111111111111,\"#46039f\"],[0.2222222222222222,\"#7201a8\"],[0.3333333333333333,\"#9c179e\"],[0.4444444444444444,\"#bd3786\"],[0.5555555555555556,\"#d8576b\"],[0.6666666666666666,\"#ed7953\"],[0.7777777777777778,\"#fb9f3a\"],[0.8888888888888888,\"#fdca26\"],[1.0,\"#f0f921\"]],\"type\":\"surface\"}],\"table\":[{\"cells\":{\"fill\":{\"color\":\"#EBF0F8\"},\"line\":{\"color\":\"white\"}},\"header\":{\"fill\":{\"color\":\"#C8D4E3\"},\"line\":{\"color\":\"white\"}},\"type\":\"table\"}]},\"layout\":{\"annotationdefaults\":{\"arrowcolor\":\"#2a3f5f\",\"arrowhead\":0,\"arrowwidth\":1},\"autotypenumbers\":\"strict\",\"coloraxis\":{\"colorbar\":{\"outlinewidth\":0,\"ticks\":\"\"}},\"colorscale\":{\"diverging\":[[0,\"#8e0152\"],[0.1,\"#c51b7d\"],[0.2,\"#de77ae\"],[0.3,\"#f1b6da\"],[0.4,\"#fde0ef\"],[0.5,\"#f7f7f7\"],[0.6,\"#e6f5d0\"],[0.7,\"#b8e186\"],[0.8,\"#7fbc41\"],[0.9,\"#4d9221\"],[1,\"#276419\"]],\"sequential\":[[0.0,\"#0d0887\"],[0.1111111111111111,\"#46039f\"],[0.2222222222222222,\"#7201a8\"],[0.3333333333333333,\"#9c179e\"],[0.4444444444444444,\"#bd3786\"],[0.5555555555555556,\"#d8576b\"],[0.6666666666666666,\"#ed7953\"],[0.7777777777777778,\"#fb9f3a\"],[0.8888888888888888,\"#fdca26\"],[1.0,\"#f0f921\"]],\"sequentialminus\":[[0.0,\"#0d0887\"],[0.1111111111111111,\"#46039f\"],[0.2222222222222222,\"#7201a8\"],[0.3333333333333333,\"#9c179e\"],[0.4444444444444444,\"#bd3786\"],[0.5555555555555556,\"#d8576b\"],[0.6666666666666666,\"#ed7953\"],[0.7777777777777778,\"#fb9f3a\"],[0.8888888888888888,\"#fdca26\"],[1.0,\"#f0f921\"]]},\"colorway\":[\"#636efa\",\"#EF553B\",\"#00cc96\",\"#ab63fa\",\"#FFA15A\",\"#19d3f3\",\"#FF6692\",\"#B6E880\",\"#FF97FF\",\"#FECB52\"],\"font\":{\"color\":\"#2a3f5f\"},\"geo\":{\"bgcolor\":\"white\",\"lakecolor\":\"white\",\"landcolor\":\"#E5ECF6\",\"showlakes\":true,\"showland\":true,\"subunitcolor\":\"white\"},\"hoverlabel\":{\"align\":\"left\"},\"hovermode\":\"closest\",\"mapbox\":{\"style\":\"light\"},\"paper_bgcolor\":\"white\",\"plot_bgcolor\":\"#E5ECF6\",\"polar\":{\"angularaxis\":{\"gridcolor\":\"white\",\"linecolor\":\"white\",\"ticks\":\"\"},\"bgcolor\":\"#E5ECF6\",\"radialaxis\":{\"gridcolor\":\"white\",\"linecolor\":\"white\",\"ticks\":\"\"}},\"scene\":{\"xaxis\":{\"backgroundcolor\":\"#E5ECF6\",\"gridcolor\":\"white\",\"gridwidth\":2,\"linecolor\":\"white\",\"showbackground\":true,\"ticks\":\"\",\"zerolinecolor\":\"white\"},\"yaxis\":{\"backgroundcolor\":\"#E5ECF6\",\"gridcolor\":\"white\",\"gridwidth\":2,\"linecolor\":\"white\",\"showbackground\":true,\"ticks\":\"\",\"zerolinecolor\":\"white\"},\"zaxis\":{\"backgroundcolor\":\"#E5ECF6\",\"gridcolor\":\"white\",\"gridwidth\":2,\"linecolor\":\"white\",\"showbackground\":true,\"ticks\":\"\",\"zerolinecolor\":\"white\"}},\"shapedefaults\":{\"line\":{\"color\":\"#2a3f5f\"}},\"ternary\":{\"aaxis\":{\"gridcolor\":\"white\",\"linecolor\":\"white\",\"ticks\":\"\"},\"baxis\":{\"gridcolor\":\"white\",\"linecolor\":\"white\",\"ticks\":\"\"},\"bgcolor\":\"#E5ECF6\",\"caxis\":{\"gridcolor\":\"white\",\"linecolor\":\"white\",\"ticks\":\"\"}},\"title\":{\"x\":0.05},\"xaxis\":{\"automargin\":true,\"gridcolor\":\"white\",\"linecolor\":\"white\",\"ticks\":\"\",\"title\":{\"standoff\":15},\"zerolinecolor\":\"white\",\"zerolinewidth\":2},\"yaxis\":{\"automargin\":true,\"gridcolor\":\"white\",\"linecolor\":\"white\",\"ticks\":\"\",\"title\":{\"standoff\":15},\"zerolinecolor\":\"white\",\"zerolinewidth\":2}}},\"xaxis\":{\"anchor\":\"y\",\"domain\":[0.0,1.0],\"title\":{\"text\":\"Observed Titer\"}},\"yaxis\":{\"anchor\":\"x\",\"domain\":[0.0,1.0],\"title\":{\"text\":\"Predicted Titer\"}},\"legend\":{\"tracegroupgap\":0},\"title\":{\"text\":\"Observed vs Predicted on Train Set\"},\"shapes\":[{\"layer\":\"below\",\"type\":\"line\",\"x0\":0,\"x1\":1,\"xref\":\"paper\",\"y0\":0,\"y1\":1,\"yref\":\"paper\"}]},                        {\"responsive\": true}                    ).then(function(){\n",
              "                            \n",
              "var gd = document.getElementById('6b64f3f0-004a-4bac-b2bd-7b535de4fde6');\n",
              "var x = new MutationObserver(function (mutations, observer) {{\n",
              "        var display = window.getComputedStyle(gd).display;\n",
              "        if (!display || display === 'none') {{\n",
              "            console.log([gd, 'removed!']);\n",
              "            Plotly.purge(gd);\n",
              "            observer.disconnect();\n",
              "        }}\n",
              "}});\n",
              "\n",
              "// Listen for the removal of the full notebook cells\n",
              "var notebookContainer = gd.closest('#notebook-container');\n",
              "if (notebookContainer) {{\n",
              "    x.observe(notebookContainer, {childList: true});\n",
              "}}\n",
              "\n",
              "// Listen for the clearing of the current output cell\n",
              "var outputEl = gd.closest('.output');\n",
              "if (outputEl) {{\n",
              "    x.observe(outputEl, {childList: true});\n",
              "}}\n",
              "\n",
              "                        })                };                            </script>        </div>\n",
              "</body>\n",
              "</html>"
            ]
          },
          "metadata": {}
        }
      ]
    },
    {
      "cell_type": "markdown",
      "source": [
        "### Plot variance explained in the Y"
      ],
      "metadata": {
        "id": "75UqadR0JEXQ"
      }
    },
    {
      "cell_type": "code",
      "source": [
        "# TODO: explained variance plot"
      ],
      "metadata": {
        "id": "ZuBZRdV4JMgr"
      },
      "execution_count": null,
      "outputs": []
    },
    {
      "cell_type": "markdown",
      "source": [
        "### Evaluate model on test set\n"
      ],
      "metadata": {
        "id": "N17NSQ25JQ6P"
      }
    },
    {
      "cell_type": "code",
      "source": [
        "# Observed vs Predicted on Test Set\n",
        "yhat_test = pls.predict(doe_test).reshape(len(y_test))\n",
        "fig = px.scatter(x=y_test.values.reshape(len(yhat_test)),y=yhat_test,labels=dict(x=\"Observed Titer\", y=\"Predicted Titer\"), title=\"Observed vs Predicted on Train Set\")\n",
        "fig.update_layout(shapes = [{'type': 'line', 'yref': 'paper', 'xref': 'paper', 'y0': 0, 'y1': 1, 'x0': 0, 'x1': 1, 'layer': 'below'}])\n",
        "fig.show()"
      ],
      "metadata": {
        "id": "UV2s1482JgAU",
        "outputId": "e9894e9b-1e87-4206-d05d-dd5bf0f43ec7",
        "colab": {
          "base_uri": "https://localhost:8080/",
          "height": 542
        }
      },
      "execution_count": null,
      "outputs": [
        {
          "output_type": "display_data",
          "data": {
            "text/html": [
              "<html>\n",
              "<head><meta charset=\"utf-8\" /></head>\n",
              "<body>\n",
              "    <div>            <script src=\"https://cdnjs.cloudflare.com/ajax/libs/mathjax/2.7.5/MathJax.js?config=TeX-AMS-MML_SVG\"></script><script type=\"text/javascript\">if (window.MathJax) {MathJax.Hub.Config({SVG: {font: \"STIX-Web\"}});}</script>                <script type=\"text/javascript\">window.PlotlyConfig = {MathJaxConfig: 'local'};</script>\n",
              "        <script src=\"https://cdn.plot.ly/plotly-2.8.3.min.js\"></script>                <div id=\"1966d6c1-143b-407a-a152-cae0f7d07281\" class=\"plotly-graph-div\" style=\"height:525px; width:100%;\"></div>            <script type=\"text/javascript\">                                    window.PLOTLYENV=window.PLOTLYENV || {};                                    if (document.getElementById(\"1966d6c1-143b-407a-a152-cae0f7d07281\")) {                    Plotly.newPlot(                        \"1966d6c1-143b-407a-a152-cae0f7d07281\",                        [{\"hovertemplate\":\"Observed Titer=%{x}<br>Predicted Titer=%{y}<extra></extra>\",\"legendgroup\":\"\",\"marker\":{\"color\":\"#636efa\",\"symbol\":\"circle\"},\"mode\":\"markers\",\"name\":\"\",\"orientation\":\"v\",\"showlegend\":false,\"x\":[1490.8,730.69,1177.7,1255.9,563.6,941.68,1131.5,1136.9,1302.1,1353.3,1461.9,1417.6,1480.1,595.13,676.88,1486.6,1282.5,895.78,765.17,1361.9,1196.5,744.82,939.39,1273.9,1218.4,1409.1,910.06,1505.6,1342.6,1515.2,651.05,877.21,1177.4,1056.8,945.05,1166.4,1360.3,916.36,798.15,1127.3,791.14,1130.1,1026.8,1212.2,892.91,777.73,742.06,1381.6,693.13,597.15,707.41,1408.9,488.03,1250.9,560.11,1122.3,976.54,1403.4,1114.4,974.38,1529.0,1155.6,1411.7,903.33,1489.5,1358.2,1509.0,1337.2,989.62,1445.6,959.34,702.59,1520.5,488.13,1459.6,1413.9,1496.0,485.92,1474.1,1486.4,1482.2,1266.4,1352.0,1054.2,1418.1,1400.6,1226.6,1211.1,1218.8,596.82,1296.1,1362.5,1484.9,803.99,920.3,1341.4,800.74,1465.0,955.87,903.73,573.95,326.95,1115.5,1434.6,1456.7,1327.6,859.52,1450.2,678.4,1483.6,1482.9,1480.3,714.74,1089.9,1334.3,1508.9,1524.5,585.12,1222.2,1172.5,1180.8,1412.2,1491.1,750.14,1458.4,865.31,469.67,1520.4,1481.5,1467.0,1229.4,697.83,1461.4,1332.9,1144.2,914.98,594.73,383.95,1497.9,1345.7,1483.2,546.0,1450.5,1119.3,952.11,331.29,1414.6,1403.9,1178.1,287.54,1531.2,954.44,1393.4,1506.7,1454.0,1121.3,511.54,1215.2,1444.4,367.64,982.26,847.82,909.26,632.92,1501.2,1095.2,633.54,595.28,1063.4,724.96,1499.1,1509.6,575.8,1495.4,795.05,1002.4,827.93,1340.6,1104.0,1374.3,699.2,979.49,1285.2,1426.1,1483.8,249.19,1352.9,1437.5,1483.1,1000.4,1298.8,786.2,638.26,175.72,606.1,1006.6,343.62,1355.8,543.63,1489.6,1403.8,1384.3,894.84,1313.4,543.23,1422.6,360.55,1326.3,1255.4,1093.0,1486.1,1217.6,1348.3,589.25,1509.4,593.48,1513.9,1450.9,1013.6,636.85,721.09,718.57,1485.7,1517.1,1457.0,954.54,1515.6,1460.6,1193.8,1453.2,1495.8,451.35,864.66,783.25,1212.7,1486.7,1147.8,1247.4,1212.4,1214.9,990.24,1497.8,1486.3,1478.0,1456.6,1499.9,1266.1,719.15,734.94,1153.0],\"xaxis\":\"x\",\"y\":[1351.6845192203068,1150.9326339284648,1349.323600885662,1298.1957733624185,703.7451783972833,1093.694388728308,1169.7543310194537,1007.2451033989851,1187.1285734580974,972.9276517789086,1290.745659320339,1312.8061952532169,1254.8487694255964,1112.1883700889691,1022.5025487673983,1201.412532673567,851.6142724131955,1019.237899992141,1318.9166609264933,1066.073890611919,1110.6556738313006,1025.5006724411005,1071.857729167671,1329.7585287094003,1252.3117283883316,1009.59899750772,1407.3413569860072,1093.229776075804,999.672490361999,1060.9453534374431,1177.612677379616,1143.675985318559,1096.0519800976044,989.357902823223,1175.6658721786978,973.870702188305,1236.9895208718474,812.9414411203694,1114.9330289560241,980.249167156602,1177.8242298012558,1145.155425913732,1107.492777780493,914.6627664668275,986.1566204608996,1230.6897234351266,1144.7150541282706,854.1620728415758,816.471358835527,1156.4757652449568,1175.246327010125,1095.3655723970053,910.5880502525529,1124.4081612374032,944.4233357891551,819.355685497859,1304.25065366953,1349.1628735984232,742.8454905733605,990.9776199133664,1371.268070959985,1137.357489832494,1244.0361689454128,1045.157194683704,1132.7020334899867,893.9405270408379,1130.3316849922905,1281.5726082610722,1064.662957674259,1086.2361031698863,1182.7367348510754,872.1108577232669,1239.9603215808097,1225.79383680865,1297.8653898294178,1130.7444118299336,1232.628843832544,778.8702176469014,1314.5497307801277,1095.66259509435,931.087478884547,1204.834969647454,1058.232128623974,1134.8105353934761,1246.944565955401,1413.6404501113734,782.1162853282814,1010.0726052592686,869.8957300309862,1063.1729324623727,1236.6674997087193,953.8745665984736,1237.483569955224,1214.2628784209046,1059.9839633938568,981.7524402904033,1103.152532985498,1378.3649474702677,1151.7357588988943,969.2721250888842,839.0428362700948,918.8584090091879,877.6974013485826,1176.4895243008684,1238.681571208613,1184.413190897029,1174.4407560871587,1262.3445584658318,1043.3764980600981,1259.0601249349877,1258.0309950450005,1260.3517746626665,1266.742843714205,936.7707059614543,1098.032205556936,1309.240989520919,1213.0842498281581,1092.2737571788136,1225.614152395855,935.5060784359605,944.3325263193334,976.2705291263168,1011.010916443431,1186.3932882936247,1123.925694416823,1236.3386638499078,1033.7049984976838,1080.6517629486225,1084.2051654535428,1021.9384922960148,1252.260514993021,887.3230159418272,1239.2787513137303,1212.2932917394728,1284.777381434592,1279.128072031991,1029.7067258687475,905.8439371219342,1367.7535692904232,1325.453311798128,1125.0314645957353,1013.1926837382405,1147.916452100752,1099.7059670633823,1289.525379249965,840.6102262556129,1023.8926349891613,1177.5878096494725,977.5826549628031,1077.3013205970594,1052.5101300977155,1080.2362108949092,1031.5667042124237,1259.4416983315828,1111.4049719849106,1310.4753391413808,798.3871574675286,1262.8929481690084,1025.9493619563868,986.7639411834919,983.390050956829,971.1417614513551,1009.7330356108449,1033.936584819452,1124.2370153869067,1019.6730597969882,1154.3112504445635,1185.4270492620203,1399.601739312523,980.3410477648875,1045.0396822923742,1261.882765755256,1126.8802852223653,1299.6323112811374,963.8570926019925,1143.6169736441534,1072.1122225176302,907.1352048519383,1140.0352666645413,1064.9335177710432,1072.988315483583,998.869857986522,1320.57852227213,1172.9634052479876,944.0518090998046,745.7601176695728,1388.368049659618,1034.4678145215485,993.4082950356187,787.726099803659,868.9895089182726,1155.4637914349169,1098.4006579077075,852.1964774255556,1052.0113056786204,780.1135997788125,1047.033082916108,1033.2423066480828,983.8237624562637,1195.7158364550555,1144.043812910948,1233.4274504672717,1300.7786462167269,1406.0783501563794,1078.743777682294,1080.7150127163,822.7517447617903,1114.7642729475633,938.5906821533192,1233.2944942572624,1151.6612050820643,984.9567150063543,1040.5992454612694,1096.5298905401878,1239.3808747100293,1158.00072172116,1215.629571206529,1217.161423025627,1091.66909814894,1124.2305647923204,1070.8352613853747,1110.6218508263398,1003.2905960688843,1201.0699861432947,962.2782182803322,1168.9686770203325,1237.1102943244905,1337.0680399756548,1018.2931778138209,1108.2574805893,1175.1115783624814,1119.1562938773366,1165.7770830880124,1272.5291063208742,1195.4935475953198,1040.0764219464188,1369.0703528463173,1163.7480883029327,1302.4112203518048,879.735136325384,898.9133848042129,1051.1614943084521,1259.5833557839917,929.9643933035885,1079.5322683509025,1242.7513540227005,1261.1063362802238,1275.0014289533467,891.6991852278913,1297.3538827382993],\"yaxis\":\"y\",\"type\":\"scatter\"}],                        {\"template\":{\"data\":{\"bar\":[{\"error_x\":{\"color\":\"#2a3f5f\"},\"error_y\":{\"color\":\"#2a3f5f\"},\"marker\":{\"line\":{\"color\":\"#E5ECF6\",\"width\":0.5},\"pattern\":{\"fillmode\":\"overlay\",\"size\":10,\"solidity\":0.2}},\"type\":\"bar\"}],\"barpolar\":[{\"marker\":{\"line\":{\"color\":\"#E5ECF6\",\"width\":0.5},\"pattern\":{\"fillmode\":\"overlay\",\"size\":10,\"solidity\":0.2}},\"type\":\"barpolar\"}],\"carpet\":[{\"aaxis\":{\"endlinecolor\":\"#2a3f5f\",\"gridcolor\":\"white\",\"linecolor\":\"white\",\"minorgridcolor\":\"white\",\"startlinecolor\":\"#2a3f5f\"},\"baxis\":{\"endlinecolor\":\"#2a3f5f\",\"gridcolor\":\"white\",\"linecolor\":\"white\",\"minorgridcolor\":\"white\",\"startlinecolor\":\"#2a3f5f\"},\"type\":\"carpet\"}],\"choropleth\":[{\"colorbar\":{\"outlinewidth\":0,\"ticks\":\"\"},\"type\":\"choropleth\"}],\"contour\":[{\"colorbar\":{\"outlinewidth\":0,\"ticks\":\"\"},\"colorscale\":[[0.0,\"#0d0887\"],[0.1111111111111111,\"#46039f\"],[0.2222222222222222,\"#7201a8\"],[0.3333333333333333,\"#9c179e\"],[0.4444444444444444,\"#bd3786\"],[0.5555555555555556,\"#d8576b\"],[0.6666666666666666,\"#ed7953\"],[0.7777777777777778,\"#fb9f3a\"],[0.8888888888888888,\"#fdca26\"],[1.0,\"#f0f921\"]],\"type\":\"contour\"}],\"contourcarpet\":[{\"colorbar\":{\"outlinewidth\":0,\"ticks\":\"\"},\"type\":\"contourcarpet\"}],\"heatmap\":[{\"colorbar\":{\"outlinewidth\":0,\"ticks\":\"\"},\"colorscale\":[[0.0,\"#0d0887\"],[0.1111111111111111,\"#46039f\"],[0.2222222222222222,\"#7201a8\"],[0.3333333333333333,\"#9c179e\"],[0.4444444444444444,\"#bd3786\"],[0.5555555555555556,\"#d8576b\"],[0.6666666666666666,\"#ed7953\"],[0.7777777777777778,\"#fb9f3a\"],[0.8888888888888888,\"#fdca26\"],[1.0,\"#f0f921\"]],\"type\":\"heatmap\"}],\"heatmapgl\":[{\"colorbar\":{\"outlinewidth\":0,\"ticks\":\"\"},\"colorscale\":[[0.0,\"#0d0887\"],[0.1111111111111111,\"#46039f\"],[0.2222222222222222,\"#7201a8\"],[0.3333333333333333,\"#9c179e\"],[0.4444444444444444,\"#bd3786\"],[0.5555555555555556,\"#d8576b\"],[0.6666666666666666,\"#ed7953\"],[0.7777777777777778,\"#fb9f3a\"],[0.8888888888888888,\"#fdca26\"],[1.0,\"#f0f921\"]],\"type\":\"heatmapgl\"}],\"histogram\":[{\"marker\":{\"pattern\":{\"fillmode\":\"overlay\",\"size\":10,\"solidity\":0.2}},\"type\":\"histogram\"}],\"histogram2d\":[{\"colorbar\":{\"outlinewidth\":0,\"ticks\":\"\"},\"colorscale\":[[0.0,\"#0d0887\"],[0.1111111111111111,\"#46039f\"],[0.2222222222222222,\"#7201a8\"],[0.3333333333333333,\"#9c179e\"],[0.4444444444444444,\"#bd3786\"],[0.5555555555555556,\"#d8576b\"],[0.6666666666666666,\"#ed7953\"],[0.7777777777777778,\"#fb9f3a\"],[0.8888888888888888,\"#fdca26\"],[1.0,\"#f0f921\"]],\"type\":\"histogram2d\"}],\"histogram2dcontour\":[{\"colorbar\":{\"outlinewidth\":0,\"ticks\":\"\"},\"colorscale\":[[0.0,\"#0d0887\"],[0.1111111111111111,\"#46039f\"],[0.2222222222222222,\"#7201a8\"],[0.3333333333333333,\"#9c179e\"],[0.4444444444444444,\"#bd3786\"],[0.5555555555555556,\"#d8576b\"],[0.6666666666666666,\"#ed7953\"],[0.7777777777777778,\"#fb9f3a\"],[0.8888888888888888,\"#fdca26\"],[1.0,\"#f0f921\"]],\"type\":\"histogram2dcontour\"}],\"mesh3d\":[{\"colorbar\":{\"outlinewidth\":0,\"ticks\":\"\"},\"type\":\"mesh3d\"}],\"parcoords\":[{\"line\":{\"colorbar\":{\"outlinewidth\":0,\"ticks\":\"\"}},\"type\":\"parcoords\"}],\"pie\":[{\"automargin\":true,\"type\":\"pie\"}],\"scatter\":[{\"marker\":{\"colorbar\":{\"outlinewidth\":0,\"ticks\":\"\"}},\"type\":\"scatter\"}],\"scatter3d\":[{\"line\":{\"colorbar\":{\"outlinewidth\":0,\"ticks\":\"\"}},\"marker\":{\"colorbar\":{\"outlinewidth\":0,\"ticks\":\"\"}},\"type\":\"scatter3d\"}],\"scattercarpet\":[{\"marker\":{\"colorbar\":{\"outlinewidth\":0,\"ticks\":\"\"}},\"type\":\"scattercarpet\"}],\"scattergeo\":[{\"marker\":{\"colorbar\":{\"outlinewidth\":0,\"ticks\":\"\"}},\"type\":\"scattergeo\"}],\"scattergl\":[{\"marker\":{\"colorbar\":{\"outlinewidth\":0,\"ticks\":\"\"}},\"type\":\"scattergl\"}],\"scattermapbox\":[{\"marker\":{\"colorbar\":{\"outlinewidth\":0,\"ticks\":\"\"}},\"type\":\"scattermapbox\"}],\"scatterpolar\":[{\"marker\":{\"colorbar\":{\"outlinewidth\":0,\"ticks\":\"\"}},\"type\":\"scatterpolar\"}],\"scatterpolargl\":[{\"marker\":{\"colorbar\":{\"outlinewidth\":0,\"ticks\":\"\"}},\"type\":\"scatterpolargl\"}],\"scatterternary\":[{\"marker\":{\"colorbar\":{\"outlinewidth\":0,\"ticks\":\"\"}},\"type\":\"scatterternary\"}],\"surface\":[{\"colorbar\":{\"outlinewidth\":0,\"ticks\":\"\"},\"colorscale\":[[0.0,\"#0d0887\"],[0.1111111111111111,\"#46039f\"],[0.2222222222222222,\"#7201a8\"],[0.3333333333333333,\"#9c179e\"],[0.4444444444444444,\"#bd3786\"],[0.5555555555555556,\"#d8576b\"],[0.6666666666666666,\"#ed7953\"],[0.7777777777777778,\"#fb9f3a\"],[0.8888888888888888,\"#fdca26\"],[1.0,\"#f0f921\"]],\"type\":\"surface\"}],\"table\":[{\"cells\":{\"fill\":{\"color\":\"#EBF0F8\"},\"line\":{\"color\":\"white\"}},\"header\":{\"fill\":{\"color\":\"#C8D4E3\"},\"line\":{\"color\":\"white\"}},\"type\":\"table\"}]},\"layout\":{\"annotationdefaults\":{\"arrowcolor\":\"#2a3f5f\",\"arrowhead\":0,\"arrowwidth\":1},\"autotypenumbers\":\"strict\",\"coloraxis\":{\"colorbar\":{\"outlinewidth\":0,\"ticks\":\"\"}},\"colorscale\":{\"diverging\":[[0,\"#8e0152\"],[0.1,\"#c51b7d\"],[0.2,\"#de77ae\"],[0.3,\"#f1b6da\"],[0.4,\"#fde0ef\"],[0.5,\"#f7f7f7\"],[0.6,\"#e6f5d0\"],[0.7,\"#b8e186\"],[0.8,\"#7fbc41\"],[0.9,\"#4d9221\"],[1,\"#276419\"]],\"sequential\":[[0.0,\"#0d0887\"],[0.1111111111111111,\"#46039f\"],[0.2222222222222222,\"#7201a8\"],[0.3333333333333333,\"#9c179e\"],[0.4444444444444444,\"#bd3786\"],[0.5555555555555556,\"#d8576b\"],[0.6666666666666666,\"#ed7953\"],[0.7777777777777778,\"#fb9f3a\"],[0.8888888888888888,\"#fdca26\"],[1.0,\"#f0f921\"]],\"sequentialminus\":[[0.0,\"#0d0887\"],[0.1111111111111111,\"#46039f\"],[0.2222222222222222,\"#7201a8\"],[0.3333333333333333,\"#9c179e\"],[0.4444444444444444,\"#bd3786\"],[0.5555555555555556,\"#d8576b\"],[0.6666666666666666,\"#ed7953\"],[0.7777777777777778,\"#fb9f3a\"],[0.8888888888888888,\"#fdca26\"],[1.0,\"#f0f921\"]]},\"colorway\":[\"#636efa\",\"#EF553B\",\"#00cc96\",\"#ab63fa\",\"#FFA15A\",\"#19d3f3\",\"#FF6692\",\"#B6E880\",\"#FF97FF\",\"#FECB52\"],\"font\":{\"color\":\"#2a3f5f\"},\"geo\":{\"bgcolor\":\"white\",\"lakecolor\":\"white\",\"landcolor\":\"#E5ECF6\",\"showlakes\":true,\"showland\":true,\"subunitcolor\":\"white\"},\"hoverlabel\":{\"align\":\"left\"},\"hovermode\":\"closest\",\"mapbox\":{\"style\":\"light\"},\"paper_bgcolor\":\"white\",\"plot_bgcolor\":\"#E5ECF6\",\"polar\":{\"angularaxis\":{\"gridcolor\":\"white\",\"linecolor\":\"white\",\"ticks\":\"\"},\"bgcolor\":\"#E5ECF6\",\"radialaxis\":{\"gridcolor\":\"white\",\"linecolor\":\"white\",\"ticks\":\"\"}},\"scene\":{\"xaxis\":{\"backgroundcolor\":\"#E5ECF6\",\"gridcolor\":\"white\",\"gridwidth\":2,\"linecolor\":\"white\",\"showbackground\":true,\"ticks\":\"\",\"zerolinecolor\":\"white\"},\"yaxis\":{\"backgroundcolor\":\"#E5ECF6\",\"gridcolor\":\"white\",\"gridwidth\":2,\"linecolor\":\"white\",\"showbackground\":true,\"ticks\":\"\",\"zerolinecolor\":\"white\"},\"zaxis\":{\"backgroundcolor\":\"#E5ECF6\",\"gridcolor\":\"white\",\"gridwidth\":2,\"linecolor\":\"white\",\"showbackground\":true,\"ticks\":\"\",\"zerolinecolor\":\"white\"}},\"shapedefaults\":{\"line\":{\"color\":\"#2a3f5f\"}},\"ternary\":{\"aaxis\":{\"gridcolor\":\"white\",\"linecolor\":\"white\",\"ticks\":\"\"},\"baxis\":{\"gridcolor\":\"white\",\"linecolor\":\"white\",\"ticks\":\"\"},\"bgcolor\":\"#E5ECF6\",\"caxis\":{\"gridcolor\":\"white\",\"linecolor\":\"white\",\"ticks\":\"\"}},\"title\":{\"x\":0.05},\"xaxis\":{\"automargin\":true,\"gridcolor\":\"white\",\"linecolor\":\"white\",\"ticks\":\"\",\"title\":{\"standoff\":15},\"zerolinecolor\":\"white\",\"zerolinewidth\":2},\"yaxis\":{\"automargin\":true,\"gridcolor\":\"white\",\"linecolor\":\"white\",\"ticks\":\"\",\"title\":{\"standoff\":15},\"zerolinecolor\":\"white\",\"zerolinewidth\":2}}},\"xaxis\":{\"anchor\":\"y\",\"domain\":[0.0,1.0],\"title\":{\"text\":\"Observed Titer\"}},\"yaxis\":{\"anchor\":\"x\",\"domain\":[0.0,1.0],\"title\":{\"text\":\"Predicted Titer\"}},\"legend\":{\"tracegroupgap\":0},\"title\":{\"text\":\"Observed vs Predicted on Train Set\"},\"shapes\":[{\"layer\":\"below\",\"type\":\"line\",\"x0\":0,\"x1\":1,\"xref\":\"paper\",\"y0\":0,\"y1\":1,\"yref\":\"paper\"}]},                        {\"responsive\": true}                    ).then(function(){\n",
              "                            \n",
              "var gd = document.getElementById('1966d6c1-143b-407a-a152-cae0f7d07281');\n",
              "var x = new MutationObserver(function (mutations, observer) {{\n",
              "        var display = window.getComputedStyle(gd).display;\n",
              "        if (!display || display === 'none') {{\n",
              "            console.log([gd, 'removed!']);\n",
              "            Plotly.purge(gd);\n",
              "            observer.disconnect();\n",
              "        }}\n",
              "}});\n",
              "\n",
              "// Listen for the removal of the full notebook cells\n",
              "var notebookContainer = gd.closest('#notebook-container');\n",
              "if (notebookContainer) {{\n",
              "    x.observe(notebookContainer, {childList: true});\n",
              "}}\n",
              "\n",
              "// Listen for the clearing of the current output cell\n",
              "var outputEl = gd.closest('.output');\n",
              "if (outputEl) {{\n",
              "    x.observe(outputEl, {childList: true});\n",
              "}}\n",
              "\n",
              "                        })                };                            </script>        </div>\n",
              "</body>\n",
              "</html>"
            ]
          },
          "metadata": {}
        }
      ]
    },
    {
      "cell_type": "code",
      "source": [
        "# Absolute RMSE\n",
        "rmse_abs = mean_squared_error(y_test, yhat_test,squared=False)\n",
        "print('Absolute RMSE: ',rmse_abs)\n",
        "# Relative RMSE\n",
        "rmse_rel = mean_squared_error(y_test, yhat_test,squared=False) / np.std(y_test.values)\n",
        "print('Relative RMSE: ',rmse_rel)"
      ],
      "metadata": {
        "id": "cbEUdfrP2Jup",
        "outputId": "38bbf6bd-4d7b-4730-883a-817284801b07",
        "colab": {
          "base_uri": "https://localhost:8080/"
        }
      },
      "execution_count": null,
      "outputs": [
        {
          "output_type": "stream",
          "name": "stdout",
          "text": [
            "Absolute RMSE:  332.07526459136983\n",
            "Relative RMSE:  0.9486574201143637\n"
          ]
        }
      ]
    },
    {
      "cell_type": "markdown",
      "source": [
        "### Plot scores and loadings for the predictors\n"
      ],
      "metadata": {
        "id": "46c4EeopKPps"
      }
    },
    {
      "cell_type": "code",
      "source": [
        "# TODO: bi-plot / scores plot / loadings plot\n",
        "# Color by exp name / FINAL TITER"
      ],
      "metadata": {
        "id": "soJkRof-KVAX"
      },
      "execution_count": null,
      "outputs": []
    },
    {
      "cell_type": "markdown",
      "source": [
        "### Plot VIP scores"
      ],
      "metadata": {
        "id": "QPiuOsULKj3T"
      }
    },
    {
      "cell_type": "code",
      "source": [
        "# TODO: plot VIP scores"
      ],
      "metadata": {
        "id": "uAu_GXQSKnvq"
      },
      "execution_count": null,
      "outputs": []
    },
    {
      "cell_type": "markdown",
      "source": [
        "### Task: What number of latent variables produces best model?"
      ],
      "metadata": {
        "id": "AwZeyCw1KuAw"
      }
    },
    {
      "cell_type": "code",
      "source": [
        ""
      ],
      "metadata": {
        "id": "ChxmoF1YK7bG"
      },
      "execution_count": null,
      "outputs": []
    },
    {
      "cell_type": "markdown",
      "source": [
        "## Simulate Cross Validation\n",
        "\n",
        "In this section, we will simulate a typical cross- validation to define the optimal number of latent variables.\n"
      ],
      "metadata": {
        "id": "4NiwnjgvK6tg"
      }
    },
    {
      "cell_type": "markdown",
      "source": [
        "### Select number of folds\n",
        "First define the number of folds.\n"
      ],
      "metadata": {
        "id": "B9o_F0zfLOcc"
      }
    },
    {
      "cell_type": "code",
      "source": [
        "# Number of folds\n",
        "N_folds = 5"
      ],
      "metadata": {
        "id": "AyjxiHeFLReA"
      },
      "execution_count": null,
      "outputs": []
    },
    {
      "cell_type": "markdown",
      "source": [
        "### Compute cross validation\n",
        "\n",
        "Nfold PLS1 models are trained using (Nfolds-1) folds. For each model, the sum of squared residuals (SSR) is calculated and summed up.\n",
        "\n",
        "This is repeated for different numbers of latent variables. The number of latent variables returning the least value of the SSRs is chosen as optimal.\n",
        "A second criterion is selected, namely the Bayesian Information Criterion (BIC), which is weighting the effect of the number of latent variables, i.e., if two values of the number of latent variables are returning a similar value of the SSR, then the one using less variables is chosen to be more likely to produce robust predictions.:"
      ],
      "metadata": {
        "id": "deBiKJUHLa9k"
      }
    },
    {
      "cell_type": "markdown",
      "source": [
        "### Evaluate model in cross-validation\n"
      ],
      "metadata": {
        "id": "kYcq-JOqL3bG"
      }
    },
    {
      "cell_type": "markdown",
      "source": [
        "# Historical PLS Model\n",
        "\n",
        "In an so-called historical model, the data from different experiments are ordered into a batch-wise unfolded (BWU) matrix (i.e., every row corresponds to an experiment).\n",
        "\n",
        "The BWU can be used to compute final properties of the experiment, like CQAs, which are typically the effect of the cumulated effect of the experiment profile.\n",
        "\n",
        "In this example, we will use the BWU matrix to predict the final value of titer. Clearly, titer information are removed from the BWU matrix."
      ],
      "metadata": {
        "id": "0i44tIGKMIFp"
      }
    },
    {
      "cell_type": "code",
      "source": [
        "# Define number of days to include\n",
        "N_days = 13\n",
        "# Define number of latent variables\n",
        "N_LV = 5"
      ],
      "metadata": {
        "id": "J_Iz4C2wMf_B"
      },
      "execution_count": null,
      "outputs": []
    },
    {
      "cell_type": "markdown",
      "source": [
        "### Create BWU matrix\n",
        "\n",
        "Here the BWU matrix is created. The vaues of the manipulated variables are added as columns at the beginning of the matrix.\n",
        "\n",
        "* Remove titer\n",
        "* Remove exceeding days\n",
        "* Eliminate invariant columns\n",
        "* Remove linearly dependent columns\n",
        "* Create a PLS model from the initial design to the final titer\n"
      ],
      "metadata": {
        "id": "v1IMh8PMMs-s"
      }
    },
    {
      "cell_type": "code",
      "source": [
        "# TODO: code steps above"
      ],
      "metadata": {
        "id": "CXCdim6oNB1y"
      },
      "execution_count": null,
      "outputs": []
    },
    {
      "cell_type": "markdown",
      "source": [
        "### Train Historical PLS model"
      ],
      "metadata": {
        "id": "cLKo0hoPNDx-"
      }
    },
    {
      "cell_type": "code",
      "source": [
        "# TODO: train PLS on modified BWU"
      ],
      "metadata": {
        "id": "WDpN48qWNJs4"
      },
      "execution_count": null,
      "outputs": []
    },
    {
      "cell_type": "markdown",
      "source": [
        "### Evaluate model on train/test set"
      ],
      "metadata": {
        "id": "c2oIwzd1NNLi"
      }
    },
    {
      "cell_type": "code",
      "source": [
        "# TODO: plot obs vs predicted, compute abs/rel rmse"
      ],
      "metadata": {
        "id": "opLCJtcuNS6W"
      },
      "execution_count": null,
      "outputs": []
    },
    {
      "cell_type": "markdown",
      "source": [
        "### Plot scores, loadings and VIP"
      ],
      "metadata": {
        "id": "8KDUuEjCNYdy"
      }
    },
    {
      "cell_type": "code",
      "source": [
        "# TODO: plot bi-plot / scores / loadings / VIP values"
      ],
      "metadata": {
        "id": "JfO8t_EINqrb"
      },
      "execution_count": null,
      "outputs": []
    },
    {
      "cell_type": "markdown",
      "source": [
        "### Task: Check model diagnostics"
      ],
      "metadata": {
        "id": "1ZDg9ewmNfoj"
      }
    },
    {
      "cell_type": "code",
      "source": [
        "# TODO: Residuals, mahalanobis distances"
      ],
      "metadata": {
        "id": "wrjCJ-CZNlJo"
      },
      "execution_count": null,
      "outputs": []
    },
    {
      "cell_type": "markdown",
      "source": [
        "# Solutions to tasks"
      ],
      "metadata": {
        "id": "p9UUsmZ8N3aP"
      }
    },
    {
      "cell_type": "markdown",
      "source": [
        "# Main Focus\n",
        "* RMS model buildup\n",
        "* Model comparison"
      ],
      "metadata": {
        "id": "ldiE-BRXUcsS"
      }
    }
  ]
}