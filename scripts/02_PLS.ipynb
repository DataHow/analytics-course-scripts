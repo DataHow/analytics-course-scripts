{
  "nbformat": 4,
  "nbformat_minor": 0,
  "metadata": {
    "colab": {
      "name": "02_PLS",
      "provenance": [],
      "toc_visible": true
    },
    "kernelspec": {
      "name": "python3",
      "display_name": "Python 3"
    },
    "language_info": {
      "name": "python"
    }
  },
  "cells": [
    {
      "cell_type": "markdown",
      "source": [
        "# Setup of Noteboook\n",
        "\n",
        "The follwing code clones the github repository with course files. \n",
        "Subsequently it imports all libraries and custom modules needed for this notebook"
      ],
      "metadata": {
        "id": "3K4Flq2pqV8q"
      }
    },
    {
      "cell_type": "code",
      "source": [
        "!git clone https://github.com/DataHow/analytics-course-scripts.git"
      ],
      "metadata": {
        "id": "Hw07wkwbqW43",
        "colab": {
          "base_uri": "https://localhost:8080/"
        },
        "outputId": "27421c72-97ce-4210-ac63-df793e66ce0e"
      },
      "execution_count": 98,
      "outputs": [
        {
          "output_type": "stream",
          "name": "stdout",
          "text": [
            "fatal: destination path 'analytics-course-scripts' already exists and is not an empty directory.\n"
          ]
        }
      ]
    },
    {
      "cell_type": "code",
      "source": [
        "# import libaries\n",
        "import pandas as pd\n",
        "import numpy as np\n",
        "import scipy\n",
        "import copy\n",
        "import importlib  \n",
        "import scipy.integrate\n",
        "import scipy.stats as stats\n",
        "import plotly.express as px\n",
        "import plotly.graph_objects as go\n",
        "from plotly.subplots import make_subplots\n",
        "import statsmodels.api as sm\n",
        "from sklearn.pipeline import Pipeline, FeatureUnion\n",
        "from sklearn.preprocessing import StandardScaler, PolynomialFeatures\n",
        "from sklearn.feature_selection import RFE, VarianceThreshold\n",
        "from sklearn.linear_model import LinearRegression\n",
        "from sklearn.cross_decomposition import PLSRegression\n",
        "from sklearn.model_selection import GridSearchCV, validation_curve\n",
        "from sklearn.metrics import mean_squared_error\n",
        "import warnings\n",
        "warnings.filterwarnings(\"ignore\")\n",
        "\n",
        "# import custom modules\n",
        "simulator = importlib.import_module(\"analytics-course-scripts.scripts.modules.simulator\")\n",
        "modelhelpers = importlib.import_module(\"analytics-course-scripts.scripts.modules.modelhelpers\")"
      ],
      "metadata": {
        "id": "QbesfOWUqYmG"
      },
      "execution_count": 99,
      "outputs": []
    },
    {
      "cell_type": "markdown",
      "source": [
        "# Import or Generate Dataset\n",
        "\n",
        "In the beginning of each notebook you can make a decision whether you run the notebooks with already pre-generated runs which will be just imported or you will generate your own doe dataset from insilico model. For further information about the process emulator for cell culture fed-batch processes, check the script \"00_Process_Characterization.ipynb\" or the Powerpoint presentation \"Simplified InSilico Model.pptx\".\n",
        "\n",
        "* For dataset import set `select_dataset_source = \"import\"`.\n",
        "* For generating data set `select_dataset_source = \"generate\"`.\n",
        "\n",
        "For first time running the notebook, we recommend choosing the \"import\" option.\n",
        "\n",
        " "
      ],
      "metadata": {
        "id": "O05GdQIHW-TM"
      }
    },
    {
      "cell_type": "code",
      "source": [
        "\"\"\" Select dataset source, one of (import, generate) \"\"\"\n",
        "DATASET_SOURCE = \"import\""
      ],
      "metadata": {
        "id": "mkFlmeIaW_In"
      },
      "execution_count": 100,
      "outputs": []
    },
    {
      "cell_type": "code",
      "source": [
        "if DATASET_SOURCE == \"import\":\n",
        "    # Define filename to import\n",
        "    FILENAME = \"owu.csv\"\n",
        "    FILEPATH = \"/content/analytics-course-scripts/scripts/datasets/\"\n",
        "    # Import OWU data\n",
        "    doe = pd.read_csv(FILEPATH+FILENAME.replace(\".csv\",\"_doe.csv\"),index_col=None, usecols =[\"feed_start\",\"feed_end\",\"Glc_feed_rate\",\"Glc_0\",\"VCD_0\"])\n",
        "    owu = pd.read_csv(FILEPATH+FILENAME,index_col=None, usecols = [\"X:VCD\", \"X:Glc\", \"X:Lac\", \"X:Titer\",\"W:Feed\"])\n",
        "    owu.index = pd.MultiIndex.from_product([list(range(int(len(owu)/15))),list(range(15))], names=[\"run\",\"time\"])\n",
        "    # Import OWU Test data\n",
        "    FILENAME = \"owu_test.csv\"\n",
        "    doe_test = pd.read_csv(FILEPATH+FILENAME.replace(\".csv\",\"_doe.csv\"),index_col=None, usecols =[\"feed_start\",\"feed_end\",\"Glc_feed_rate\",\"Glc_0\",\"VCD_0\"])\n",
        "    owu_test = pd.read_csv(FILEPATH+FILENAME,index_col=None, usecols = [\"X:VCD\", \"X:Glc\", \"X:Lac\", \"X:Titer\",\"W:Feed\"])\n",
        "    owu_test.index = pd.MultiIndex.from_product([list(range(int(len(owu)/15))),list(range(15))], names=[\"run\",\"time\"])"
      ],
      "metadata": {
        "id": "SG1_Y3_-XA-a"
      },
      "execution_count": 101,
      "outputs": []
    },
    {
      "cell_type": "code",
      "source": [
        "if DATASET_SOURCE == \"generate\":\n",
        "    # DOE Dataset definition (variable = [lower bound, upper bound]) \n",
        "    # Model parameters: Dictate the behaviour of the cell process\n",
        "    MU_G_MAX = 0.05;\n",
        "    MU_D_MAX = 0.025;\n",
        "    K_G_GLC  = 1;\n",
        "    K_I_LAC  = 30;\n",
        "    K_D_LAC  = 50;\n",
        "    K_GLC    = 0.04;\n",
        "    K_LAC    = 0.06;\n",
        "    K_PROD   = 1;\n",
        "    # Process parameters: Conditions at which process is run\n",
        "    FEED_START = [1, 4]\n",
        "    FEED_END = [8, 12]\n",
        "    GLC_FEED_RATE = [5, 20]\n",
        "    GLC_0 = [10, 80.0]\n",
        "    VCD_0 = [0.1, 1.0]\n",
        "    # Number of experiments to generate\n",
        "    NUM_RUNS = 40\n",
        "    # Filename and filepath for the dataset \n",
        "    FILENAME = \"owu.csv\"\n",
        "    FILEPATH = \"/content/\"\n",
        "    # Collect parameters to dictionary\n",
        "    VAR_LIMS = {\"mu_g_max\":MU_G_MAX, \"mu_d_max\": MU_D_MAX, \"K_g_Glc\" : K_G_GLC, \"K_I_Lac\" : K_I_LAC, \"K_d_Lac\" : K_D_LAC, \"k_Glc\" : K_GLC, \"k_Lac\" : K_LAC, \"k_Prod\" : K_PROD,\n",
        "        \"feed_start\" : FEED_START,\"feed_end\" : FEED_END, \"Glc_feed_rate\" : GLC_FEED_RATE, \"Glc_0\" : GLC_0, \"VCD_0\" : VCD_0}\n",
        "    # Generate Dataset\n",
        "    data = simulator.generate_data(VAR_LIMS, NUM_RUNS, FILENAME)\n",
        "    # Import DOE\n",
        "    doe = pd.read_csv(FILEPATH+FILENAME.replace(\".csv\",\"_doe.csv\"),index_col=None, usecols =[\"feed_start\",\"feed_end\",\"Glc_feed_rate\",\"Glc_0\",\"VCD_0\"])\n",
        "    # Import OWU\n",
        "    owu = pd.read_csv(FILEPATH+FILENAME,index_col=None, usecols = [\"X:VCD\", \"X:Glc\", \"X:Lac\", \"X:Titer\",\"W:Feed\"])\n",
        "    owu.index = pd.MultiIndex.from_product([list(range(NUM_RUNS)),list(range(15))], names=[\"run\",\"time\"])"
      ],
      "metadata": {
        "id": "ST074EQUXCar"
      },
      "execution_count": 102,
      "outputs": []
    },
    {
      "cell_type": "markdown",
      "source": [
        "# Regression Modelling\n",
        "\n",
        "In this section, we first load / import the train and test experiments that were created in the Process_Characterization script. Alternatively you can generate your own training data using generate option. \n",
        "\n",
        "These experimental data will be used to create models with the aim of predicting the final titer. \n",
        "\n",
        "Several different types of models will be considered.\n",
        "* *Initial Conditions Model*: takes only the process condition and initial conditions as inputs. Black box type model, which disregards the process behaviour and consideres only outcome.\n",
        "* *Historical Model*: takes full process history into account as inputs. This model however needs to be able to handle high-dimensional & colinear data."
      ],
      "metadata": {
        "id": "_F7ck0Hl8rqw"
      }
    },
    {
      "cell_type": "markdown",
      "source": [
        "# Initial Conditions Models\n",
        "\n",
        "From OWU train and test dataset we create BWU data, DOE data and Target data.\n",
        "DOE data contains the inditial parameter conditions (or Z variable) for the experiments.\n",
        "Target data contain just the final values of Titer at day 14 (or Aggregates)."
      ],
      "metadata": {
        "id": "J-chgbGTTl4P"
      }
    },
    {
      "cell_type": "code",
      "source": [
        "# Train set\n",
        "bwu = simulator.generate_bwu(owu)\n",
        "tar = simulator.generate_y(bwu,return_aggr=False)\n",
        "# Test set\n",
        "bwu_test = simulator.generate_bwu(owu_test)\n",
        "tar_test = simulator.generate_y(bwu_test,return_aggr=False)"
      ],
      "metadata": {
        "id": "ku0WUSTxX49x"
      },
      "execution_count": 103,
      "outputs": []
    },
    {
      "cell_type": "code",
      "source": [
        "# Visualize input data and output data\n",
        "dataset = copy.copy(doe) # inputs\n",
        "dataset[\"Target\"] = tar # outputs\n",
        "dataset"
      ],
      "metadata": {
        "id": "1zz_u_Ffr34Z",
        "outputId": "b0e32f60-397d-402a-f83b-4a80fd064840",
        "colab": {
          "base_uri": "https://localhost:8080/",
          "height": 1000
        }
      },
      "execution_count": 104,
      "outputs": [
        {
          "output_type": "execute_result",
          "data": {
            "text/plain": [
              "    feed_start   feed_end  Glc_feed_rate      Glc_0     VCD_0       Target\n",
              "0     2.500000  10.000000      12.500000  45.000000  0.550000  1565.310032\n",
              "1     1.948980  10.244898      18.622449  40.714286  0.274490   854.449233\n",
              "2     3.295918   9.346939      14.642857  17.857143  0.127551  1206.096655\n",
              "3     3.479592   9.020408      15.561224  47.857143  0.843878  1587.937536\n",
              "4     1.459184   9.591837       7.295918  33.571429  0.421429    811.55299\n",
              "5     3.418367   9.265306       8.214286  45.000000  0.403061   841.498708\n",
              "6     1.153061   8.448980      17.091837  67.857143  0.862245    645.86524\n",
              "7     2.438776   8.122449      14.336735  10.714286  0.898980    978.32119\n",
              "8     2.744898  11.551020       9.132653  27.857143  0.292857  1026.259363\n",
              "9     2.316327   9.183673       5.459184  75.000000  0.256122  1307.342791\n",
              "10    2.071429   9.918367      10.051020  25.000000  0.550000  1034.087373\n",
              "11    3.112245  10.897959       5.765306  66.428571  0.311224  1268.377214\n",
              "12    3.602041  10.163265      10.663265  53.571429  0.641837  1489.927482\n",
              "13    1.030612  11.224490      12.806122  43.571429  0.807143  1519.991505\n",
              "14    1.214286   9.755102      11.581633  62.142857  0.880612  1329.314397\n",
              "15    3.969388  11.387755      13.112245  36.428571  0.458163  1431.024892\n",
              "16    3.908163  10.979592      14.030612  55.000000  0.531633  1566.214415\n",
              "17    1.887755  11.795918      18.928571  13.571429  0.586735  1438.450932\n",
              "18    2.867347   8.040816      12.193878  23.571429  0.660204   829.922168\n",
              "19    2.255102   9.428571      17.704082  77.857143  0.825510   705.006062\n",
              "20    2.193878   9.673469      18.316327  37.857143  0.678571  1432.165084\n",
              "21    2.132653   8.367347       5.153061  12.142857  0.237755   188.373235\n",
              "22    2.622449   8.285714      19.540816  49.285714  0.954082  1498.950979\n",
              "23    1.642857  11.714286       9.744898  15.000000  0.752041   920.615983\n",
              "24    3.357143  11.142857      19.234694  29.285714  0.439796  1489.455399\n",
              "25    2.928571  11.306122      12.500000  19.285714  0.605102  1236.052063\n",
              "26    1.091837  10.734694       6.377551  52.142857  0.145918  1323.995868\n",
              "27    3.846939  11.061224       7.602041  69.285714  0.770408  1490.703545\n",
              "28    3.234694   8.530612      11.887755  73.571429  0.329592  1317.719495\n",
              "29    2.989796   8.693878      15.867347  30.714286  0.788776  1463.746193\n",
              "30    1.275510   8.204082      19.846939  22.142857  0.109184   645.619453\n",
              "31    2.806122  10.571429       6.683673  20.714286  0.568367   518.689144\n",
              "32    3.663265  11.632653      18.010204  60.714286  0.917347  1508.020685\n",
              "33    3.785714  10.653061       9.438776  16.428571  0.219388    681.90772\n",
              "34    1.704082   8.938776      16.785714  72.142857  0.623469   643.253098\n",
              "35    1.397959   9.836735      11.275510  70.714286  0.990816  1171.922602\n",
              "36    1.520408  10.408163      13.724490  35.000000  0.476531  1526.807598\n",
              "37    3.051020  11.469388      16.479592  79.285714  0.366327   710.178986\n",
              "38    2.500000   8.857143       7.908163  26.428571  0.384694   547.065997\n",
              "39    3.540816  11.959184      17.397959  50.714286  0.182653  1239.099547\n",
              "40    2.010204  11.877551      15.255102  32.142857  0.164286  1275.603244\n",
              "41    1.581633  10.326531       8.826531  56.428571  0.494898  1516.383691\n",
              "42    1.765306   9.510204      16.173469  46.428571  0.972449  1472.959836\n",
              "43    3.724490  10.489796      10.969388  76.428571  0.935714  1561.436696\n",
              "44    1.336735   9.102041      13.418367  65.000000  0.733673   895.407343\n",
              "45    2.377551   8.612245       6.989796  59.285714  0.513265  1139.068175\n",
              "46    2.683673   8.775510      10.357143  57.857143  0.201020   1424.48449\n",
              "47    3.173469  10.000000       8.520408  63.571429  0.696939  1464.164972\n",
              "48    2.561224  10.081633       6.071429  39.285714  0.715306   639.543576\n",
              "49    1.826531  10.816327      14.948980  42.142857  0.347959  1297.031632"
            ],
            "text/html": [
              "\n",
              "  <div id=\"df-dbf0eb82-9f73-4741-b710-fe83d2b2e907\">\n",
              "    <div class=\"colab-df-container\">\n",
              "      <div>\n",
              "<style scoped>\n",
              "    .dataframe tbody tr th:only-of-type {\n",
              "        vertical-align: middle;\n",
              "    }\n",
              "\n",
              "    .dataframe tbody tr th {\n",
              "        vertical-align: top;\n",
              "    }\n",
              "\n",
              "    .dataframe thead th {\n",
              "        text-align: right;\n",
              "    }\n",
              "</style>\n",
              "<table border=\"1\" class=\"dataframe\">\n",
              "  <thead>\n",
              "    <tr style=\"text-align: right;\">\n",
              "      <th></th>\n",
              "      <th>feed_start</th>\n",
              "      <th>feed_end</th>\n",
              "      <th>Glc_feed_rate</th>\n",
              "      <th>Glc_0</th>\n",
              "      <th>VCD_0</th>\n",
              "      <th>Target</th>\n",
              "    </tr>\n",
              "  </thead>\n",
              "  <tbody>\n",
              "    <tr>\n",
              "      <th>0</th>\n",
              "      <td>2.500000</td>\n",
              "      <td>10.000000</td>\n",
              "      <td>12.500000</td>\n",
              "      <td>45.000000</td>\n",
              "      <td>0.550000</td>\n",
              "      <td>1565.310032</td>\n",
              "    </tr>\n",
              "    <tr>\n",
              "      <th>1</th>\n",
              "      <td>1.948980</td>\n",
              "      <td>10.244898</td>\n",
              "      <td>18.622449</td>\n",
              "      <td>40.714286</td>\n",
              "      <td>0.274490</td>\n",
              "      <td>854.449233</td>\n",
              "    </tr>\n",
              "    <tr>\n",
              "      <th>2</th>\n",
              "      <td>3.295918</td>\n",
              "      <td>9.346939</td>\n",
              "      <td>14.642857</td>\n",
              "      <td>17.857143</td>\n",
              "      <td>0.127551</td>\n",
              "      <td>1206.096655</td>\n",
              "    </tr>\n",
              "    <tr>\n",
              "      <th>3</th>\n",
              "      <td>3.479592</td>\n",
              "      <td>9.020408</td>\n",
              "      <td>15.561224</td>\n",
              "      <td>47.857143</td>\n",
              "      <td>0.843878</td>\n",
              "      <td>1587.937536</td>\n",
              "    </tr>\n",
              "    <tr>\n",
              "      <th>4</th>\n",
              "      <td>1.459184</td>\n",
              "      <td>9.591837</td>\n",
              "      <td>7.295918</td>\n",
              "      <td>33.571429</td>\n",
              "      <td>0.421429</td>\n",
              "      <td>811.55299</td>\n",
              "    </tr>\n",
              "    <tr>\n",
              "      <th>5</th>\n",
              "      <td>3.418367</td>\n",
              "      <td>9.265306</td>\n",
              "      <td>8.214286</td>\n",
              "      <td>45.000000</td>\n",
              "      <td>0.403061</td>\n",
              "      <td>841.498708</td>\n",
              "    </tr>\n",
              "    <tr>\n",
              "      <th>6</th>\n",
              "      <td>1.153061</td>\n",
              "      <td>8.448980</td>\n",
              "      <td>17.091837</td>\n",
              "      <td>67.857143</td>\n",
              "      <td>0.862245</td>\n",
              "      <td>645.86524</td>\n",
              "    </tr>\n",
              "    <tr>\n",
              "      <th>7</th>\n",
              "      <td>2.438776</td>\n",
              "      <td>8.122449</td>\n",
              "      <td>14.336735</td>\n",
              "      <td>10.714286</td>\n",
              "      <td>0.898980</td>\n",
              "      <td>978.32119</td>\n",
              "    </tr>\n",
              "    <tr>\n",
              "      <th>8</th>\n",
              "      <td>2.744898</td>\n",
              "      <td>11.551020</td>\n",
              "      <td>9.132653</td>\n",
              "      <td>27.857143</td>\n",
              "      <td>0.292857</td>\n",
              "      <td>1026.259363</td>\n",
              "    </tr>\n",
              "    <tr>\n",
              "      <th>9</th>\n",
              "      <td>2.316327</td>\n",
              "      <td>9.183673</td>\n",
              "      <td>5.459184</td>\n",
              "      <td>75.000000</td>\n",
              "      <td>0.256122</td>\n",
              "      <td>1307.342791</td>\n",
              "    </tr>\n",
              "    <tr>\n",
              "      <th>10</th>\n",
              "      <td>2.071429</td>\n",
              "      <td>9.918367</td>\n",
              "      <td>10.051020</td>\n",
              "      <td>25.000000</td>\n",
              "      <td>0.550000</td>\n",
              "      <td>1034.087373</td>\n",
              "    </tr>\n",
              "    <tr>\n",
              "      <th>11</th>\n",
              "      <td>3.112245</td>\n",
              "      <td>10.897959</td>\n",
              "      <td>5.765306</td>\n",
              "      <td>66.428571</td>\n",
              "      <td>0.311224</td>\n",
              "      <td>1268.377214</td>\n",
              "    </tr>\n",
              "    <tr>\n",
              "      <th>12</th>\n",
              "      <td>3.602041</td>\n",
              "      <td>10.163265</td>\n",
              "      <td>10.663265</td>\n",
              "      <td>53.571429</td>\n",
              "      <td>0.641837</td>\n",
              "      <td>1489.927482</td>\n",
              "    </tr>\n",
              "    <tr>\n",
              "      <th>13</th>\n",
              "      <td>1.030612</td>\n",
              "      <td>11.224490</td>\n",
              "      <td>12.806122</td>\n",
              "      <td>43.571429</td>\n",
              "      <td>0.807143</td>\n",
              "      <td>1519.991505</td>\n",
              "    </tr>\n",
              "    <tr>\n",
              "      <th>14</th>\n",
              "      <td>1.214286</td>\n",
              "      <td>9.755102</td>\n",
              "      <td>11.581633</td>\n",
              "      <td>62.142857</td>\n",
              "      <td>0.880612</td>\n",
              "      <td>1329.314397</td>\n",
              "    </tr>\n",
              "    <tr>\n",
              "      <th>15</th>\n",
              "      <td>3.969388</td>\n",
              "      <td>11.387755</td>\n",
              "      <td>13.112245</td>\n",
              "      <td>36.428571</td>\n",
              "      <td>0.458163</td>\n",
              "      <td>1431.024892</td>\n",
              "    </tr>\n",
              "    <tr>\n",
              "      <th>16</th>\n",
              "      <td>3.908163</td>\n",
              "      <td>10.979592</td>\n",
              "      <td>14.030612</td>\n",
              "      <td>55.000000</td>\n",
              "      <td>0.531633</td>\n",
              "      <td>1566.214415</td>\n",
              "    </tr>\n",
              "    <tr>\n",
              "      <th>17</th>\n",
              "      <td>1.887755</td>\n",
              "      <td>11.795918</td>\n",
              "      <td>18.928571</td>\n",
              "      <td>13.571429</td>\n",
              "      <td>0.586735</td>\n",
              "      <td>1438.450932</td>\n",
              "    </tr>\n",
              "    <tr>\n",
              "      <th>18</th>\n",
              "      <td>2.867347</td>\n",
              "      <td>8.040816</td>\n",
              "      <td>12.193878</td>\n",
              "      <td>23.571429</td>\n",
              "      <td>0.660204</td>\n",
              "      <td>829.922168</td>\n",
              "    </tr>\n",
              "    <tr>\n",
              "      <th>19</th>\n",
              "      <td>2.255102</td>\n",
              "      <td>9.428571</td>\n",
              "      <td>17.704082</td>\n",
              "      <td>77.857143</td>\n",
              "      <td>0.825510</td>\n",
              "      <td>705.006062</td>\n",
              "    </tr>\n",
              "    <tr>\n",
              "      <th>20</th>\n",
              "      <td>2.193878</td>\n",
              "      <td>9.673469</td>\n",
              "      <td>18.316327</td>\n",
              "      <td>37.857143</td>\n",
              "      <td>0.678571</td>\n",
              "      <td>1432.165084</td>\n",
              "    </tr>\n",
              "    <tr>\n",
              "      <th>21</th>\n",
              "      <td>2.132653</td>\n",
              "      <td>8.367347</td>\n",
              "      <td>5.153061</td>\n",
              "      <td>12.142857</td>\n",
              "      <td>0.237755</td>\n",
              "      <td>188.373235</td>\n",
              "    </tr>\n",
              "    <tr>\n",
              "      <th>22</th>\n",
              "      <td>2.622449</td>\n",
              "      <td>8.285714</td>\n",
              "      <td>19.540816</td>\n",
              "      <td>49.285714</td>\n",
              "      <td>0.954082</td>\n",
              "      <td>1498.950979</td>\n",
              "    </tr>\n",
              "    <tr>\n",
              "      <th>23</th>\n",
              "      <td>1.642857</td>\n",
              "      <td>11.714286</td>\n",
              "      <td>9.744898</td>\n",
              "      <td>15.000000</td>\n",
              "      <td>0.752041</td>\n",
              "      <td>920.615983</td>\n",
              "    </tr>\n",
              "    <tr>\n",
              "      <th>24</th>\n",
              "      <td>3.357143</td>\n",
              "      <td>11.142857</td>\n",
              "      <td>19.234694</td>\n",
              "      <td>29.285714</td>\n",
              "      <td>0.439796</td>\n",
              "      <td>1489.455399</td>\n",
              "    </tr>\n",
              "    <tr>\n",
              "      <th>25</th>\n",
              "      <td>2.928571</td>\n",
              "      <td>11.306122</td>\n",
              "      <td>12.500000</td>\n",
              "      <td>19.285714</td>\n",
              "      <td>0.605102</td>\n",
              "      <td>1236.052063</td>\n",
              "    </tr>\n",
              "    <tr>\n",
              "      <th>26</th>\n",
              "      <td>1.091837</td>\n",
              "      <td>10.734694</td>\n",
              "      <td>6.377551</td>\n",
              "      <td>52.142857</td>\n",
              "      <td>0.145918</td>\n",
              "      <td>1323.995868</td>\n",
              "    </tr>\n",
              "    <tr>\n",
              "      <th>27</th>\n",
              "      <td>3.846939</td>\n",
              "      <td>11.061224</td>\n",
              "      <td>7.602041</td>\n",
              "      <td>69.285714</td>\n",
              "      <td>0.770408</td>\n",
              "      <td>1490.703545</td>\n",
              "    </tr>\n",
              "    <tr>\n",
              "      <th>28</th>\n",
              "      <td>3.234694</td>\n",
              "      <td>8.530612</td>\n",
              "      <td>11.887755</td>\n",
              "      <td>73.571429</td>\n",
              "      <td>0.329592</td>\n",
              "      <td>1317.719495</td>\n",
              "    </tr>\n",
              "    <tr>\n",
              "      <th>29</th>\n",
              "      <td>2.989796</td>\n",
              "      <td>8.693878</td>\n",
              "      <td>15.867347</td>\n",
              "      <td>30.714286</td>\n",
              "      <td>0.788776</td>\n",
              "      <td>1463.746193</td>\n",
              "    </tr>\n",
              "    <tr>\n",
              "      <th>30</th>\n",
              "      <td>1.275510</td>\n",
              "      <td>8.204082</td>\n",
              "      <td>19.846939</td>\n",
              "      <td>22.142857</td>\n",
              "      <td>0.109184</td>\n",
              "      <td>645.619453</td>\n",
              "    </tr>\n",
              "    <tr>\n",
              "      <th>31</th>\n",
              "      <td>2.806122</td>\n",
              "      <td>10.571429</td>\n",
              "      <td>6.683673</td>\n",
              "      <td>20.714286</td>\n",
              "      <td>0.568367</td>\n",
              "      <td>518.689144</td>\n",
              "    </tr>\n",
              "    <tr>\n",
              "      <th>32</th>\n",
              "      <td>3.663265</td>\n",
              "      <td>11.632653</td>\n",
              "      <td>18.010204</td>\n",
              "      <td>60.714286</td>\n",
              "      <td>0.917347</td>\n",
              "      <td>1508.020685</td>\n",
              "    </tr>\n",
              "    <tr>\n",
              "      <th>33</th>\n",
              "      <td>3.785714</td>\n",
              "      <td>10.653061</td>\n",
              "      <td>9.438776</td>\n",
              "      <td>16.428571</td>\n",
              "      <td>0.219388</td>\n",
              "      <td>681.90772</td>\n",
              "    </tr>\n",
              "    <tr>\n",
              "      <th>34</th>\n",
              "      <td>1.704082</td>\n",
              "      <td>8.938776</td>\n",
              "      <td>16.785714</td>\n",
              "      <td>72.142857</td>\n",
              "      <td>0.623469</td>\n",
              "      <td>643.253098</td>\n",
              "    </tr>\n",
              "    <tr>\n",
              "      <th>35</th>\n",
              "      <td>1.397959</td>\n",
              "      <td>9.836735</td>\n",
              "      <td>11.275510</td>\n",
              "      <td>70.714286</td>\n",
              "      <td>0.990816</td>\n",
              "      <td>1171.922602</td>\n",
              "    </tr>\n",
              "    <tr>\n",
              "      <th>36</th>\n",
              "      <td>1.520408</td>\n",
              "      <td>10.408163</td>\n",
              "      <td>13.724490</td>\n",
              "      <td>35.000000</td>\n",
              "      <td>0.476531</td>\n",
              "      <td>1526.807598</td>\n",
              "    </tr>\n",
              "    <tr>\n",
              "      <th>37</th>\n",
              "      <td>3.051020</td>\n",
              "      <td>11.469388</td>\n",
              "      <td>16.479592</td>\n",
              "      <td>79.285714</td>\n",
              "      <td>0.366327</td>\n",
              "      <td>710.178986</td>\n",
              "    </tr>\n",
              "    <tr>\n",
              "      <th>38</th>\n",
              "      <td>2.500000</td>\n",
              "      <td>8.857143</td>\n",
              "      <td>7.908163</td>\n",
              "      <td>26.428571</td>\n",
              "      <td>0.384694</td>\n",
              "      <td>547.065997</td>\n",
              "    </tr>\n",
              "    <tr>\n",
              "      <th>39</th>\n",
              "      <td>3.540816</td>\n",
              "      <td>11.959184</td>\n",
              "      <td>17.397959</td>\n",
              "      <td>50.714286</td>\n",
              "      <td>0.182653</td>\n",
              "      <td>1239.099547</td>\n",
              "    </tr>\n",
              "    <tr>\n",
              "      <th>40</th>\n",
              "      <td>2.010204</td>\n",
              "      <td>11.877551</td>\n",
              "      <td>15.255102</td>\n",
              "      <td>32.142857</td>\n",
              "      <td>0.164286</td>\n",
              "      <td>1275.603244</td>\n",
              "    </tr>\n",
              "    <tr>\n",
              "      <th>41</th>\n",
              "      <td>1.581633</td>\n",
              "      <td>10.326531</td>\n",
              "      <td>8.826531</td>\n",
              "      <td>56.428571</td>\n",
              "      <td>0.494898</td>\n",
              "      <td>1516.383691</td>\n",
              "    </tr>\n",
              "    <tr>\n",
              "      <th>42</th>\n",
              "      <td>1.765306</td>\n",
              "      <td>9.510204</td>\n",
              "      <td>16.173469</td>\n",
              "      <td>46.428571</td>\n",
              "      <td>0.972449</td>\n",
              "      <td>1472.959836</td>\n",
              "    </tr>\n",
              "    <tr>\n",
              "      <th>43</th>\n",
              "      <td>3.724490</td>\n",
              "      <td>10.489796</td>\n",
              "      <td>10.969388</td>\n",
              "      <td>76.428571</td>\n",
              "      <td>0.935714</td>\n",
              "      <td>1561.436696</td>\n",
              "    </tr>\n",
              "    <tr>\n",
              "      <th>44</th>\n",
              "      <td>1.336735</td>\n",
              "      <td>9.102041</td>\n",
              "      <td>13.418367</td>\n",
              "      <td>65.000000</td>\n",
              "      <td>0.733673</td>\n",
              "      <td>895.407343</td>\n",
              "    </tr>\n",
              "    <tr>\n",
              "      <th>45</th>\n",
              "      <td>2.377551</td>\n",
              "      <td>8.612245</td>\n",
              "      <td>6.989796</td>\n",
              "      <td>59.285714</td>\n",
              "      <td>0.513265</td>\n",
              "      <td>1139.068175</td>\n",
              "    </tr>\n",
              "    <tr>\n",
              "      <th>46</th>\n",
              "      <td>2.683673</td>\n",
              "      <td>8.775510</td>\n",
              "      <td>10.357143</td>\n",
              "      <td>57.857143</td>\n",
              "      <td>0.201020</td>\n",
              "      <td>1424.48449</td>\n",
              "    </tr>\n",
              "    <tr>\n",
              "      <th>47</th>\n",
              "      <td>3.173469</td>\n",
              "      <td>10.000000</td>\n",
              "      <td>8.520408</td>\n",
              "      <td>63.571429</td>\n",
              "      <td>0.696939</td>\n",
              "      <td>1464.164972</td>\n",
              "    </tr>\n",
              "    <tr>\n",
              "      <th>48</th>\n",
              "      <td>2.561224</td>\n",
              "      <td>10.081633</td>\n",
              "      <td>6.071429</td>\n",
              "      <td>39.285714</td>\n",
              "      <td>0.715306</td>\n",
              "      <td>639.543576</td>\n",
              "    </tr>\n",
              "    <tr>\n",
              "      <th>49</th>\n",
              "      <td>1.826531</td>\n",
              "      <td>10.816327</td>\n",
              "      <td>14.948980</td>\n",
              "      <td>42.142857</td>\n",
              "      <td>0.347959</td>\n",
              "      <td>1297.031632</td>\n",
              "    </tr>\n",
              "  </tbody>\n",
              "</table>\n",
              "</div>\n",
              "      <button class=\"colab-df-convert\" onclick=\"convertToInteractive('df-dbf0eb82-9f73-4741-b710-fe83d2b2e907')\"\n",
              "              title=\"Convert this dataframe to an interactive table.\"\n",
              "              style=\"display:none;\">\n",
              "        \n",
              "  <svg xmlns=\"http://www.w3.org/2000/svg\" height=\"24px\"viewBox=\"0 0 24 24\"\n",
              "       width=\"24px\">\n",
              "    <path d=\"M0 0h24v24H0V0z\" fill=\"none\"/>\n",
              "    <path d=\"M18.56 5.44l.94 2.06.94-2.06 2.06-.94-2.06-.94-.94-2.06-.94 2.06-2.06.94zm-11 1L8.5 8.5l.94-2.06 2.06-.94-2.06-.94L8.5 2.5l-.94 2.06-2.06.94zm10 10l.94 2.06.94-2.06 2.06-.94-2.06-.94-.94-2.06-.94 2.06-2.06.94z\"/><path d=\"M17.41 7.96l-1.37-1.37c-.4-.4-.92-.59-1.43-.59-.52 0-1.04.2-1.43.59L10.3 9.45l-7.72 7.72c-.78.78-.78 2.05 0 2.83L4 21.41c.39.39.9.59 1.41.59.51 0 1.02-.2 1.41-.59l7.78-7.78 2.81-2.81c.8-.78.8-2.07 0-2.86zM5.41 20L4 18.59l7.72-7.72 1.47 1.35L5.41 20z\"/>\n",
              "  </svg>\n",
              "      </button>\n",
              "      \n",
              "  <style>\n",
              "    .colab-df-container {\n",
              "      display:flex;\n",
              "      flex-wrap:wrap;\n",
              "      gap: 12px;\n",
              "    }\n",
              "\n",
              "    .colab-df-convert {\n",
              "      background-color: #E8F0FE;\n",
              "      border: none;\n",
              "      border-radius: 50%;\n",
              "      cursor: pointer;\n",
              "      display: none;\n",
              "      fill: #1967D2;\n",
              "      height: 32px;\n",
              "      padding: 0 0 0 0;\n",
              "      width: 32px;\n",
              "    }\n",
              "\n",
              "    .colab-df-convert:hover {\n",
              "      background-color: #E2EBFA;\n",
              "      box-shadow: 0px 1px 2px rgba(60, 64, 67, 0.3), 0px 1px 3px 1px rgba(60, 64, 67, 0.15);\n",
              "      fill: #174EA6;\n",
              "    }\n",
              "\n",
              "    [theme=dark] .colab-df-convert {\n",
              "      background-color: #3B4455;\n",
              "      fill: #D2E3FC;\n",
              "    }\n",
              "\n",
              "    [theme=dark] .colab-df-convert:hover {\n",
              "      background-color: #434B5C;\n",
              "      box-shadow: 0px 1px 3px 1px rgba(0, 0, 0, 0.15);\n",
              "      filter: drop-shadow(0px 1px 2px rgba(0, 0, 0, 0.3));\n",
              "      fill: #FFFFFF;\n",
              "    }\n",
              "  </style>\n",
              "\n",
              "      <script>\n",
              "        const buttonEl =\n",
              "          document.querySelector('#df-dbf0eb82-9f73-4741-b710-fe83d2b2e907 button.colab-df-convert');\n",
              "        buttonEl.style.display =\n",
              "          google.colab.kernel.accessAllowed ? 'block' : 'none';\n",
              "\n",
              "        async function convertToInteractive(key) {\n",
              "          const element = document.querySelector('#df-dbf0eb82-9f73-4741-b710-fe83d2b2e907');\n",
              "          const dataTable =\n",
              "            await google.colab.kernel.invokeFunction('convertToInteractive',\n",
              "                                                     [key], {});\n",
              "          if (!dataTable) return;\n",
              "\n",
              "          const docLinkHtml = 'Like what you see? Visit the ' +\n",
              "            '<a target=\"_blank\" href=https://colab.research.google.com/notebooks/data_table.ipynb>data table notebook</a>'\n",
              "            + ' to learn more about interactive tables.';\n",
              "          element.innerHTML = '';\n",
              "          dataTable['output_type'] = 'display_data';\n",
              "          await google.colab.output.renderOutput(dataTable, element);\n",
              "          const docLink = document.createElement('div');\n",
              "          docLink.innerHTML = docLinkHtml;\n",
              "          element.appendChild(docLink);\n",
              "        }\n",
              "      </script>\n",
              "    </div>\n",
              "  </div>\n",
              "  "
            ]
          },
          "metadata": {},
          "execution_count": 104
        }
      ]
    },
    {
      "cell_type": "markdown",
      "source": [
        "## Multiple Linear Regression \n",
        "\n",
        "We first train/fit a Linear Regression model to the final titer, using the data loaded above.\n",
        "\n",
        "We then characterize the performance of the model using ANOVA, where the user can have information about the importance of each coefficient and of the overal model."
      ],
      "metadata": {
        "id": "kkEQIZOLGwjz"
      }
    },
    {
      "cell_type": "markdown",
      "source": [
        "### Create linear model with preprocessing\n",
        "\n",
        "Here we create a linear model to predict the value of the final titer given the initial conditions.\n",
        "\n",
        "* Input matrix: \"doe\". This corresponds to the values of the manipulated process parameters for each experiment.\n",
        "* Output target: \"tar\". This corresponds to the final value of titer at the end of each experiment. (or aggregates)"
      ],
      "metadata": {
        "id": "iXJI69b1HLZJ"
      }
    },
    {
      "cell_type": "code",
      "source": [
        "# Fit Linear Model\n",
        "datascaler = StandardScaler()\n",
        "does = datascaler.fit_transform(doe.values)\n",
        "\n",
        "X = sm.add_constant(does)\n",
        "y = tar.values\n",
        "mod = sm.OLS(y.astype(float), X.astype(float))\n",
        "res = mod.fit()\n",
        "print(res.summary())"
      ],
      "metadata": {
        "id": "_KLlhxUCsbiO",
        "outputId": "db7fc6fe-7279-4bfe-8b02-6c07d687cca2",
        "colab": {
          "base_uri": "https://localhost:8080/"
        }
      },
      "execution_count": 105,
      "outputs": [
        {
          "output_type": "stream",
          "name": "stdout",
          "text": [
            "                            OLS Regression Results                            \n",
            "==============================================================================\n",
            "Dep. Variable:                      y   R-squared:                       0.269\n",
            "Model:                            OLS   Adj. R-squared:                  0.186\n",
            "Method:                 Least Squares   F-statistic:                     3.240\n",
            "Date:                Wed, 09 Nov 2022   Prob (F-statistic):             0.0141\n",
            "Time:                        07:32:03   Log-Likelihood:                -357.18\n",
            "No. Observations:                  50   AIC:                             726.4\n",
            "Df Residuals:                      44   BIC:                             737.8\n",
            "Df Model:                           5                                         \n",
            "Covariance Type:            nonrobust                                         \n",
            "==============================================================================\n",
            "                 coef    std err          t      P>|t|      [0.025      0.975]\n",
            "------------------------------------------------------------------------------\n",
            "const       1153.5475     46.179     24.980      0.000    1060.480    1246.615\n",
            "x1            66.2397     47.334      1.399      0.169     -29.156     161.635\n",
            "x2           109.1749     47.629      2.292      0.027      13.184     205.166\n",
            "x3            58.6069     47.344      1.238      0.222     -36.809     154.023\n",
            "x4            75.0607     47.819      1.570      0.124     -21.313     171.434\n",
            "x5            72.4612     49.215      1.472      0.148     -26.725     171.647\n",
            "==============================================================================\n",
            "Omnibus:                        3.705   Durbin-Watson:                   1.875\n",
            "Prob(Omnibus):                  0.157   Jarque-Bera (JB):                3.534\n",
            "Skew:                          -0.604   Prob(JB):                        0.171\n",
            "Kurtosis:                       2.514   Cond. No.                         1.45\n",
            "==============================================================================\n",
            "\n",
            "Notes:\n",
            "[1] Standard Errors assume that the covariance matrix of the errors is correctly specified.\n"
          ]
        }
      ]
    },
    {
      "cell_type": "markdown",
      "source": [
        "Where the description/interpretation of some items in the table is as follows:\n",
        "* R-squared : the coefficient of determination. It is the proportion of the variance in the dependent variable that is predictable/explained\n",
        "* Adj. R-squared : Adjusted R-squared is the modified form of R-squared adjusted for the number of independent variables in the model. Value of adj. R-squared increases, when we include extra variables which actually improve the model.\n",
        "* F-statistic : the ratio of mean squared error of the model to the mean squared error of residuals. It determines the overall significance of the model.\n",
        "* coef : the coefficients of the independent variables and the constant term in the equation.\n",
        "* t : the value of t-statistic. It is the ratio of the difference between the estimated and hypothesized value of a parameter, to the standard error"
      ],
      "metadata": {
        "id": "E1rciExKwXlm"
      }
    },
    {
      "cell_type": "markdown",
      "source": [
        "### Model Training and Inference\n",
        "\n",
        "In this section, we fit a different linear model that is more flexible regarding the inputs. We mainly check the predictions of the models versus the training data for the final titer.\n"
      ],
      "metadata": {
        "id": "_HtEIdIyHVTo"
      }
    },
    {
      "cell_type": "code",
      "source": [
        "\"\"\" Normalize data \"\"\"\n",
        "USE_NORMALIZATION = True\n",
        "\"\"\" Ploynomial degree of features \"\"\"\n",
        "USE_POLYDEGREE = 1\n",
        "\"\"\" Add only interaction between features\"\"\"\n",
        "USE_INTERACTIONSONLY = False"
      ],
      "metadata": {
        "id": "xLFJfRVjhzeV"
      },
      "execution_count": 106,
      "outputs": []
    },
    {
      "cell_type": "code",
      "source": [
        "# Define pipeline\n",
        "poly_features = PolynomialFeatures(degree=USE_POLYDEGREE, interaction_only=USE_INTERACTIONSONLY,include_bias=False)\n",
        "standard_scaler = StandardScaler(with_mean=USE_NORMALIZATION, with_std=USE_NORMALIZATION)\n",
        "lm_model = LinearRegression()\n",
        "pipe = Pipeline([('features', poly_features), \n",
        "                 ('scaler', standard_scaler),\n",
        "                 ('model', lm_model)])\n",
        "# Fit model\n",
        "X = doe\n",
        "y = tar\n",
        "pipe.fit(X,y)\n",
        "\n",
        "# Model Features and Coefficients\n",
        "X_columns = poly_features.get_feature_names_out()\n",
        "lm_coefficients = lm_model.coef_\n",
        "# Model Std Error and p-values (not via sklearn)\n",
        "X_preproc = pd.DataFrame(pipe.steps[1][1].transform(pipe.steps[0][1].transform(X)),columns=X_columns)\n",
        "ols_model = sm.OLS(y.values.astype(float), sm.add_constant(X_preproc).values.astype(float)).fit()\n",
        "ols_coefficients = ols_model.params[1:]\n",
        "if X_preproc.shape[1]<X_preproc.shape[0]:\n",
        "  ols_stderror = ols_model.bse[1:]\n",
        "  ols_pvalue = ols_model.pvalues[1:].round(4)\n",
        "else:\n",
        "  print(\"\\n !!!!! Model is overspecified !!!!! \\n Results in perfect fit and unreliable coefficients  \\n\")\n",
        "  ols_stderror = None\n",
        "  ols_pvalue = None\n",
        "# Plot Model Inference\n",
        "fig = px.bar(x=list(X_columns),\n",
        "             y=ols_coefficients.reshape(-1), \n",
        "             title=\"Linear model coefficients\",\n",
        "             labels={'x':\"Variables\", 'y':\"Estimated Coefficients\",'color':\"p-value\"}, \n",
        "             error_y=ols_stderror,\n",
        "             color=ols_pvalue)\n",
        "fig.show()\n"
      ],
      "metadata": {
        "colab": {
          "base_uri": "https://localhost:8080/",
          "height": 542
        },
        "id": "OEvXt2pQiy9-",
        "outputId": "9d9c622f-9d1a-4d54-999d-3e41ed9801d5"
      },
      "execution_count": 107,
      "outputs": [
        {
          "output_type": "display_data",
          "data": {
            "text/html": [
              "<html>\n",
              "<head><meta charset=\"utf-8\" /></head>\n",
              "<body>\n",
              "    <div>            <script src=\"https://cdnjs.cloudflare.com/ajax/libs/mathjax/2.7.5/MathJax.js?config=TeX-AMS-MML_SVG\"></script><script type=\"text/javascript\">if (window.MathJax) {MathJax.Hub.Config({SVG: {font: \"STIX-Web\"}});}</script>                <script type=\"text/javascript\">window.PlotlyConfig = {MathJaxConfig: 'local'};</script>\n",
              "        <script src=\"https://cdn.plot.ly/plotly-2.8.3.min.js\"></script>                <div id=\"f6fd149a-a68a-4988-b427-29b0a5deabe0\" class=\"plotly-graph-div\" style=\"height:525px; width:100%;\"></div>            <script type=\"text/javascript\">                                    window.PLOTLYENV=window.PLOTLYENV || {};                                    if (document.getElementById(\"f6fd149a-a68a-4988-b427-29b0a5deabe0\")) {                    Plotly.newPlot(                        \"f6fd149a-a68a-4988-b427-29b0a5deabe0\",                        [{\"alignmentgroup\":\"True\",\"error_y\":{\"array\":[47.33418008167231,47.629351362913035,47.34406239578102,47.8192100540135,49.2147170647718]},\"hovertemplate\":\"Variables=%{x}<br>Estimated Coefficients=%{y}<br>p-value=%{marker.color}<extra></extra>\",\"legendgroup\":\"\",\"marker\":{\"color\":[0.1687,0.0267,0.2223,0.1237,0.148],\"coloraxis\":\"coloraxis\",\"pattern\":{\"shape\":\"\"}},\"name\":\"\",\"offsetgroup\":\"\",\"orientation\":\"v\",\"showlegend\":false,\"textposition\":\"auto\",\"x\":[\"feed_start\",\"feed_end\",\"Glc_feed_rate\",\"Glc_0\",\"VCD_0\"],\"xaxis\":\"x\",\"y\":[66.23966508102153,109.17489112055937,58.60685102170457,75.06072313095976,72.46117456937733],\"yaxis\":\"y\",\"type\":\"bar\"}],                        {\"template\":{\"data\":{\"bar\":[{\"error_x\":{\"color\":\"#2a3f5f\"},\"error_y\":{\"color\":\"#2a3f5f\"},\"marker\":{\"line\":{\"color\":\"#E5ECF6\",\"width\":0.5},\"pattern\":{\"fillmode\":\"overlay\",\"size\":10,\"solidity\":0.2}},\"type\":\"bar\"}],\"barpolar\":[{\"marker\":{\"line\":{\"color\":\"#E5ECF6\",\"width\":0.5},\"pattern\":{\"fillmode\":\"overlay\",\"size\":10,\"solidity\":0.2}},\"type\":\"barpolar\"}],\"carpet\":[{\"aaxis\":{\"endlinecolor\":\"#2a3f5f\",\"gridcolor\":\"white\",\"linecolor\":\"white\",\"minorgridcolor\":\"white\",\"startlinecolor\":\"#2a3f5f\"},\"baxis\":{\"endlinecolor\":\"#2a3f5f\",\"gridcolor\":\"white\",\"linecolor\":\"white\",\"minorgridcolor\":\"white\",\"startlinecolor\":\"#2a3f5f\"},\"type\":\"carpet\"}],\"choropleth\":[{\"colorbar\":{\"outlinewidth\":0,\"ticks\":\"\"},\"type\":\"choropleth\"}],\"contour\":[{\"colorbar\":{\"outlinewidth\":0,\"ticks\":\"\"},\"colorscale\":[[0.0,\"#0d0887\"],[0.1111111111111111,\"#46039f\"],[0.2222222222222222,\"#7201a8\"],[0.3333333333333333,\"#9c179e\"],[0.4444444444444444,\"#bd3786\"],[0.5555555555555556,\"#d8576b\"],[0.6666666666666666,\"#ed7953\"],[0.7777777777777778,\"#fb9f3a\"],[0.8888888888888888,\"#fdca26\"],[1.0,\"#f0f921\"]],\"type\":\"contour\"}],\"contourcarpet\":[{\"colorbar\":{\"outlinewidth\":0,\"ticks\":\"\"},\"type\":\"contourcarpet\"}],\"heatmap\":[{\"colorbar\":{\"outlinewidth\":0,\"ticks\":\"\"},\"colorscale\":[[0.0,\"#0d0887\"],[0.1111111111111111,\"#46039f\"],[0.2222222222222222,\"#7201a8\"],[0.3333333333333333,\"#9c179e\"],[0.4444444444444444,\"#bd3786\"],[0.5555555555555556,\"#d8576b\"],[0.6666666666666666,\"#ed7953\"],[0.7777777777777778,\"#fb9f3a\"],[0.8888888888888888,\"#fdca26\"],[1.0,\"#f0f921\"]],\"type\":\"heatmap\"}],\"heatmapgl\":[{\"colorbar\":{\"outlinewidth\":0,\"ticks\":\"\"},\"colorscale\":[[0.0,\"#0d0887\"],[0.1111111111111111,\"#46039f\"],[0.2222222222222222,\"#7201a8\"],[0.3333333333333333,\"#9c179e\"],[0.4444444444444444,\"#bd3786\"],[0.5555555555555556,\"#d8576b\"],[0.6666666666666666,\"#ed7953\"],[0.7777777777777778,\"#fb9f3a\"],[0.8888888888888888,\"#fdca26\"],[1.0,\"#f0f921\"]],\"type\":\"heatmapgl\"}],\"histogram\":[{\"marker\":{\"pattern\":{\"fillmode\":\"overlay\",\"size\":10,\"solidity\":0.2}},\"type\":\"histogram\"}],\"histogram2d\":[{\"colorbar\":{\"outlinewidth\":0,\"ticks\":\"\"},\"colorscale\":[[0.0,\"#0d0887\"],[0.1111111111111111,\"#46039f\"],[0.2222222222222222,\"#7201a8\"],[0.3333333333333333,\"#9c179e\"],[0.4444444444444444,\"#bd3786\"],[0.5555555555555556,\"#d8576b\"],[0.6666666666666666,\"#ed7953\"],[0.7777777777777778,\"#fb9f3a\"],[0.8888888888888888,\"#fdca26\"],[1.0,\"#f0f921\"]],\"type\":\"histogram2d\"}],\"histogram2dcontour\":[{\"colorbar\":{\"outlinewidth\":0,\"ticks\":\"\"},\"colorscale\":[[0.0,\"#0d0887\"],[0.1111111111111111,\"#46039f\"],[0.2222222222222222,\"#7201a8\"],[0.3333333333333333,\"#9c179e\"],[0.4444444444444444,\"#bd3786\"],[0.5555555555555556,\"#d8576b\"],[0.6666666666666666,\"#ed7953\"],[0.7777777777777778,\"#fb9f3a\"],[0.8888888888888888,\"#fdca26\"],[1.0,\"#f0f921\"]],\"type\":\"histogram2dcontour\"}],\"mesh3d\":[{\"colorbar\":{\"outlinewidth\":0,\"ticks\":\"\"},\"type\":\"mesh3d\"}],\"parcoords\":[{\"line\":{\"colorbar\":{\"outlinewidth\":0,\"ticks\":\"\"}},\"type\":\"parcoords\"}],\"pie\":[{\"automargin\":true,\"type\":\"pie\"}],\"scatter\":[{\"marker\":{\"colorbar\":{\"outlinewidth\":0,\"ticks\":\"\"}},\"type\":\"scatter\"}],\"scatter3d\":[{\"line\":{\"colorbar\":{\"outlinewidth\":0,\"ticks\":\"\"}},\"marker\":{\"colorbar\":{\"outlinewidth\":0,\"ticks\":\"\"}},\"type\":\"scatter3d\"}],\"scattercarpet\":[{\"marker\":{\"colorbar\":{\"outlinewidth\":0,\"ticks\":\"\"}},\"type\":\"scattercarpet\"}],\"scattergeo\":[{\"marker\":{\"colorbar\":{\"outlinewidth\":0,\"ticks\":\"\"}},\"type\":\"scattergeo\"}],\"scattergl\":[{\"marker\":{\"colorbar\":{\"outlinewidth\":0,\"ticks\":\"\"}},\"type\":\"scattergl\"}],\"scattermapbox\":[{\"marker\":{\"colorbar\":{\"outlinewidth\":0,\"ticks\":\"\"}},\"type\":\"scattermapbox\"}],\"scatterpolar\":[{\"marker\":{\"colorbar\":{\"outlinewidth\":0,\"ticks\":\"\"}},\"type\":\"scatterpolar\"}],\"scatterpolargl\":[{\"marker\":{\"colorbar\":{\"outlinewidth\":0,\"ticks\":\"\"}},\"type\":\"scatterpolargl\"}],\"scatterternary\":[{\"marker\":{\"colorbar\":{\"outlinewidth\":0,\"ticks\":\"\"}},\"type\":\"scatterternary\"}],\"surface\":[{\"colorbar\":{\"outlinewidth\":0,\"ticks\":\"\"},\"colorscale\":[[0.0,\"#0d0887\"],[0.1111111111111111,\"#46039f\"],[0.2222222222222222,\"#7201a8\"],[0.3333333333333333,\"#9c179e\"],[0.4444444444444444,\"#bd3786\"],[0.5555555555555556,\"#d8576b\"],[0.6666666666666666,\"#ed7953\"],[0.7777777777777778,\"#fb9f3a\"],[0.8888888888888888,\"#fdca26\"],[1.0,\"#f0f921\"]],\"type\":\"surface\"}],\"table\":[{\"cells\":{\"fill\":{\"color\":\"#EBF0F8\"},\"line\":{\"color\":\"white\"}},\"header\":{\"fill\":{\"color\":\"#C8D4E3\"},\"line\":{\"color\":\"white\"}},\"type\":\"table\"}]},\"layout\":{\"annotationdefaults\":{\"arrowcolor\":\"#2a3f5f\",\"arrowhead\":0,\"arrowwidth\":1},\"autotypenumbers\":\"strict\",\"coloraxis\":{\"colorbar\":{\"outlinewidth\":0,\"ticks\":\"\"}},\"colorscale\":{\"diverging\":[[0,\"#8e0152\"],[0.1,\"#c51b7d\"],[0.2,\"#de77ae\"],[0.3,\"#f1b6da\"],[0.4,\"#fde0ef\"],[0.5,\"#f7f7f7\"],[0.6,\"#e6f5d0\"],[0.7,\"#b8e186\"],[0.8,\"#7fbc41\"],[0.9,\"#4d9221\"],[1,\"#276419\"]],\"sequential\":[[0.0,\"#0d0887\"],[0.1111111111111111,\"#46039f\"],[0.2222222222222222,\"#7201a8\"],[0.3333333333333333,\"#9c179e\"],[0.4444444444444444,\"#bd3786\"],[0.5555555555555556,\"#d8576b\"],[0.6666666666666666,\"#ed7953\"],[0.7777777777777778,\"#fb9f3a\"],[0.8888888888888888,\"#fdca26\"],[1.0,\"#f0f921\"]],\"sequentialminus\":[[0.0,\"#0d0887\"],[0.1111111111111111,\"#46039f\"],[0.2222222222222222,\"#7201a8\"],[0.3333333333333333,\"#9c179e\"],[0.4444444444444444,\"#bd3786\"],[0.5555555555555556,\"#d8576b\"],[0.6666666666666666,\"#ed7953\"],[0.7777777777777778,\"#fb9f3a\"],[0.8888888888888888,\"#fdca26\"],[1.0,\"#f0f921\"]]},\"colorway\":[\"#636efa\",\"#EF553B\",\"#00cc96\",\"#ab63fa\",\"#FFA15A\",\"#19d3f3\",\"#FF6692\",\"#B6E880\",\"#FF97FF\",\"#FECB52\"],\"font\":{\"color\":\"#2a3f5f\"},\"geo\":{\"bgcolor\":\"white\",\"lakecolor\":\"white\",\"landcolor\":\"#E5ECF6\",\"showlakes\":true,\"showland\":true,\"subunitcolor\":\"white\"},\"hoverlabel\":{\"align\":\"left\"},\"hovermode\":\"closest\",\"mapbox\":{\"style\":\"light\"},\"paper_bgcolor\":\"white\",\"plot_bgcolor\":\"#E5ECF6\",\"polar\":{\"angularaxis\":{\"gridcolor\":\"white\",\"linecolor\":\"white\",\"ticks\":\"\"},\"bgcolor\":\"#E5ECF6\",\"radialaxis\":{\"gridcolor\":\"white\",\"linecolor\":\"white\",\"ticks\":\"\"}},\"scene\":{\"xaxis\":{\"backgroundcolor\":\"#E5ECF6\",\"gridcolor\":\"white\",\"gridwidth\":2,\"linecolor\":\"white\",\"showbackground\":true,\"ticks\":\"\",\"zerolinecolor\":\"white\"},\"yaxis\":{\"backgroundcolor\":\"#E5ECF6\",\"gridcolor\":\"white\",\"gridwidth\":2,\"linecolor\":\"white\",\"showbackground\":true,\"ticks\":\"\",\"zerolinecolor\":\"white\"},\"zaxis\":{\"backgroundcolor\":\"#E5ECF6\",\"gridcolor\":\"white\",\"gridwidth\":2,\"linecolor\":\"white\",\"showbackground\":true,\"ticks\":\"\",\"zerolinecolor\":\"white\"}},\"shapedefaults\":{\"line\":{\"color\":\"#2a3f5f\"}},\"ternary\":{\"aaxis\":{\"gridcolor\":\"white\",\"linecolor\":\"white\",\"ticks\":\"\"},\"baxis\":{\"gridcolor\":\"white\",\"linecolor\":\"white\",\"ticks\":\"\"},\"bgcolor\":\"#E5ECF6\",\"caxis\":{\"gridcolor\":\"white\",\"linecolor\":\"white\",\"ticks\":\"\"}},\"title\":{\"x\":0.05},\"xaxis\":{\"automargin\":true,\"gridcolor\":\"white\",\"linecolor\":\"white\",\"ticks\":\"\",\"title\":{\"standoff\":15},\"zerolinecolor\":\"white\",\"zerolinewidth\":2},\"yaxis\":{\"automargin\":true,\"gridcolor\":\"white\",\"linecolor\":\"white\",\"ticks\":\"\",\"title\":{\"standoff\":15},\"zerolinecolor\":\"white\",\"zerolinewidth\":2}}},\"xaxis\":{\"anchor\":\"y\",\"domain\":[0.0,1.0],\"title\":{\"text\":\"Variables\"}},\"yaxis\":{\"anchor\":\"x\",\"domain\":[0.0,1.0],\"title\":{\"text\":\"Estimated Coefficients\"}},\"coloraxis\":{\"colorbar\":{\"title\":{\"text\":\"p-value\"}},\"colorscale\":[[0.0,\"#0d0887\"],[0.1111111111111111,\"#46039f\"],[0.2222222222222222,\"#7201a8\"],[0.3333333333333333,\"#9c179e\"],[0.4444444444444444,\"#bd3786\"],[0.5555555555555556,\"#d8576b\"],[0.6666666666666666,\"#ed7953\"],[0.7777777777777778,\"#fb9f3a\"],[0.8888888888888888,\"#fdca26\"],[1.0,\"#f0f921\"]]},\"legend\":{\"tracegroupgap\":0},\"title\":{\"text\":\"Linear model coefficients\"},\"barmode\":\"relative\"},                        {\"responsive\": true}                    ).then(function(){\n",
              "                            \n",
              "var gd = document.getElementById('f6fd149a-a68a-4988-b427-29b0a5deabe0');\n",
              "var x = new MutationObserver(function (mutations, observer) {{\n",
              "        var display = window.getComputedStyle(gd).display;\n",
              "        if (!display || display === 'none') {{\n",
              "            console.log([gd, 'removed!']);\n",
              "            Plotly.purge(gd);\n",
              "            observer.disconnect();\n",
              "        }}\n",
              "}});\n",
              "\n",
              "// Listen for the removal of the full notebook cells\n",
              "var notebookContainer = gd.closest('#notebook-container');\n",
              "if (notebookContainer) {{\n",
              "    x.observe(notebookContainer, {childList: true});\n",
              "}}\n",
              "\n",
              "// Listen for the clearing of the current output cell\n",
              "var outputEl = gd.closest('.output');\n",
              "if (outputEl) {{\n",
              "    x.observe(outputEl, {childList: true});\n",
              "}}\n",
              "\n",
              "                        })                };                            </script>        </div>\n",
              "</body>\n",
              "</html>"
            ]
          },
          "metadata": {}
        }
      ]
    },
    {
      "cell_type": "markdown",
      "source": [
        "### Evaluate model prediction on train and test set"
      ],
      "metadata": {
        "id": "GyPkpFhimuLO"
      }
    },
    {
      "cell_type": "code",
      "source": [
        "# Make predictions\n",
        "yhat = pipe.predict(X)\n",
        "X_test = doe_test\n",
        "y_test = tar_test\n",
        "yhat_test = pipe.predict(X_test)\n",
        "\n",
        "# Calculate error metrics\n",
        "train_r2 = round(pipe.score(X,y),3)\n",
        "train_abs_rmse = round(mean_squared_error(y, yhat,squared=False),3)\n",
        "train_rel_rmse = round(mean_squared_error(y, yhat,squared=False) / np.std(np.array(y)),3)\n",
        "test_r2 = round(pipe.score(X_test,y_test),3)\n",
        "test_abs_rmse = round(mean_squared_error(y_test, yhat_test,squared=False),3)\n",
        "test_rel_rmse = round(mean_squared_error(y_test, yhat_test,squared=False) / np.std(np.array(y_test)),3)\n",
        "\n",
        "# Plot observed vs predicted\n",
        "fig = make_subplots(rows=1, cols=2, subplot_titles=(\n",
        "    f\"Train Set <br> R^2 = {train_r2} <br> Abs RMSE = {train_abs_rmse} <br> Rel RMSE = {train_rel_rmse}\" ,\n",
        "    f\"Test Set <br> R^2 = {test_r2} <br> Abs RMSE = {test_abs_rmse} <br> Rel RMSE = {test_rel_rmse}\"))\n",
        "# Train set plot\n",
        "fig.add_trace(go.Scatter(x=y.values.reshape(-1),y=yhat.reshape(-1),mode=\"markers\"),row=1,col=1)\n",
        "fig.add_shape(type=\"line\",x0=min(yhat)[0],y0=min(yhat)[0],x1=max(yhat)[0],y1=max(yhat)[0], layer='below', line=dict(dash='dash'))\n",
        "# Test set plot\n",
        "fig.add_trace(go.Scatter(x=y_test.values.reshape(-1),y=yhat_test.reshape(-1),mode=\"markers\"),row=1,col=2)\n",
        "fig.add_shape(type=\"line\",x0=min(yhat_test)[0],y0=min(yhat_test)[0],x1=max(yhat_test)[0],y1=max(yhat_test)[0], layer='below', line=dict(dash='dash'),row=1,col=2)\n",
        "fig.update_layout(title_text = \"Observed vs Predicted Values\")\n",
        "fig.show()\n"
      ],
      "metadata": {
        "id": "n9xJIvLTv5q8",
        "outputId": "7acb99e6-c0c4-4d0e-d8a1-7f3046a5dcec",
        "colab": {
          "base_uri": "https://localhost:8080/",
          "height": 542
        }
      },
      "execution_count": 108,
      "outputs": [
        {
          "output_type": "display_data",
          "data": {
            "text/html": [
              "<html>\n",
              "<head><meta charset=\"utf-8\" /></head>\n",
              "<body>\n",
              "    <div>            <script src=\"https://cdnjs.cloudflare.com/ajax/libs/mathjax/2.7.5/MathJax.js?config=TeX-AMS-MML_SVG\"></script><script type=\"text/javascript\">if (window.MathJax) {MathJax.Hub.Config({SVG: {font: \"STIX-Web\"}});}</script>                <script type=\"text/javascript\">window.PlotlyConfig = {MathJaxConfig: 'local'};</script>\n",
              "        <script src=\"https://cdn.plot.ly/plotly-2.8.3.min.js\"></script>                <div id=\"49bb1140-a655-45d0-a94d-00e991cc3986\" class=\"plotly-graph-div\" style=\"height:525px; width:100%;\"></div>            <script type=\"text/javascript\">                                    window.PLOTLYENV=window.PLOTLYENV || {};                                    if (document.getElementById(\"49bb1140-a655-45d0-a94d-00e991cc3986\")) {                    Plotly.newPlot(                        \"49bb1140-a655-45d0-a94d-00e991cc3986\",                        [{\"mode\":\"markers\",\"x\":[1565.3100316152315,854.4492329290191,1206.0966547089297,1587.9375363361153,811.5529901913034,841.4987076939608,645.8652400020387,978.3211904574658,1026.2593627477372,1307.3427908630745,1034.0873731742636,1268.3772140122305,1489.9274823809976,1519.9915046105887,1329.31439655397,1431.0248922870994,1566.2144147333108,1438.4509323399373,829.9221681206134,705.0060621997021,1432.1650836978292,188.37323461354003,1498.950979086217,920.6159834819938,1489.455399004581,1236.0520625432987,1323.9958683550722,1490.703545196068,1317.71949505948,1463.7461925349555,645.6194533195517,518.6891441332469,1508.020685458528,681.9077197106743,643.2530983456666,1171.9226021898683,1526.8075977874203,710.1789864596954,547.0659967970258,1239.099546696681,1275.603243989509,1516.3836910289606,1472.959836115183,1561.4366964617066,895.4073430723885,1139.0681753517283,1424.484489881591,1464.164972241741,639.5435764295627,1297.0316324502526],\"y\":[1153.5475301890322,1124.3621673413918,961.0620815930905,1271.0692942917922,883.834727590285,1054.3215048512752,1137.8560116195492,964.2392378284233,1137.7918951056865,994.8668810956215,1004.0791388536904,1207.6821950619862,1287.2398772748838,1228.2528142408826,1175.7369320956086,1349.9952874322314,1409.2338968151805,1258.1033348715703,941.2253839763796,1352.150945885726,1187.6587363215954,657.4234703954805,1225.4826873353668,1157.7370643115396,1331.0274950063758,1230.4594173923863,944.1248500401709,1445.2906007648407,1106.704287799421,1126.346277478338,777.8249415095862,1066.284764130439,1637.2522604154171,1073.0366716590959,1171.8407531496791,1256.7668193487473,1075.347348631821,1467.836080091224,865.2981578432981,1406.0475809572006,1175.7857916307803,1090.8992899994612,1224.620717531281,1500.678170765697,1117.2478861695151,979.426750515361,971.3783775206896,1262.2779623223587,1103.3031275709136,1145.3170328292408],\"type\":\"scatter\",\"xaxis\":\"x\",\"yaxis\":\"y\"},{\"mode\":\"markers\",\"x\":[1486.555322665747,852.5421510506708,1553.3693013236993,1561.6944741051122,1561.9285093830367,1555.5990575252915,664.6187798777727,1588.1477685622356,1573.9990705283894,1393.0710551474324,1585.7304206956908,1534.768930546699,1586.8676827848133,1120.6204607891566,967.4138303905323,1581.2252660009826,1521.0375916532755,1255.2700326269191,1504.894937980849,728.3175492673013,1127.481659231358,1037.3529483901104,1153.1684886467415,1599.395719266287,1373.3875240676539,1588.972941246536,1397.182482338,1586.1796600561468,1268.1596010497083,1579.9184591007336,777.916772007101,1461.5586797240042,1318.0550040408075,1513.53945930146,678.9881062945203,920.6098404000459,1242.4469308698558,797.4025653838119,1418.0496260461455,1205.021737650426,1154.9710813250379,1360.312718950821,1101.630950463139,1504.347905209396,799.6625192661403,1530.773728116675,1419.8835249141798,1564.0148293057987,1562.1980325113516,1049.7026566235018],\"y\":[1176.4549125703306,1169.1057374307368,1065.8612417552763,1236.781895475643,1001.507682915237,1109.056283626836,1135.7003575788794,1036.6309487407223,1192.4769637420954,1062.6477662965374,1083.3081081025716,1219.5099405879453,1260.9436986254368,1228.4655689526649,1172.8192932106335,1324.4066897065595,1351.7114653676724,1270.5388945284624,1023.5191274179977,1283.937710823299,1195.1237795005402,854.2292309825315,1196.5810200033936,1197.2917815983744,1312.9401176366757,1245.5929556110177,1052.7873126470554,1363.8167939698408,1130.2174955092514,1145.5531541281866,933.6484779674834,1130.9340920982218,1494.8031810220505,1148.5437508729583,1168.2002566258977,1220.9748334811557,1133.4453858081054,1391.173997198879,987.0045780640186,1369.8439978508786,1222.8993995786363,1134.9291500280797,1206.2002772443545,1388.4640028360805,1132.2072667556533,1045.3709392999056,1051.592183232378,1237.7031346953827,1140.4751651737338,1184.813629640269],\"type\":\"scatter\",\"xaxis\":\"x2\",\"yaxis\":\"y2\"}],                        {\"template\":{\"data\":{\"bar\":[{\"error_x\":{\"color\":\"#2a3f5f\"},\"error_y\":{\"color\":\"#2a3f5f\"},\"marker\":{\"line\":{\"color\":\"#E5ECF6\",\"width\":0.5},\"pattern\":{\"fillmode\":\"overlay\",\"size\":10,\"solidity\":0.2}},\"type\":\"bar\"}],\"barpolar\":[{\"marker\":{\"line\":{\"color\":\"#E5ECF6\",\"width\":0.5},\"pattern\":{\"fillmode\":\"overlay\",\"size\":10,\"solidity\":0.2}},\"type\":\"barpolar\"}],\"carpet\":[{\"aaxis\":{\"endlinecolor\":\"#2a3f5f\",\"gridcolor\":\"white\",\"linecolor\":\"white\",\"minorgridcolor\":\"white\",\"startlinecolor\":\"#2a3f5f\"},\"baxis\":{\"endlinecolor\":\"#2a3f5f\",\"gridcolor\":\"white\",\"linecolor\":\"white\",\"minorgridcolor\":\"white\",\"startlinecolor\":\"#2a3f5f\"},\"type\":\"carpet\"}],\"choropleth\":[{\"colorbar\":{\"outlinewidth\":0,\"ticks\":\"\"},\"type\":\"choropleth\"}],\"contour\":[{\"colorbar\":{\"outlinewidth\":0,\"ticks\":\"\"},\"colorscale\":[[0.0,\"#0d0887\"],[0.1111111111111111,\"#46039f\"],[0.2222222222222222,\"#7201a8\"],[0.3333333333333333,\"#9c179e\"],[0.4444444444444444,\"#bd3786\"],[0.5555555555555556,\"#d8576b\"],[0.6666666666666666,\"#ed7953\"],[0.7777777777777778,\"#fb9f3a\"],[0.8888888888888888,\"#fdca26\"],[1.0,\"#f0f921\"]],\"type\":\"contour\"}],\"contourcarpet\":[{\"colorbar\":{\"outlinewidth\":0,\"ticks\":\"\"},\"type\":\"contourcarpet\"}],\"heatmap\":[{\"colorbar\":{\"outlinewidth\":0,\"ticks\":\"\"},\"colorscale\":[[0.0,\"#0d0887\"],[0.1111111111111111,\"#46039f\"],[0.2222222222222222,\"#7201a8\"],[0.3333333333333333,\"#9c179e\"],[0.4444444444444444,\"#bd3786\"],[0.5555555555555556,\"#d8576b\"],[0.6666666666666666,\"#ed7953\"],[0.7777777777777778,\"#fb9f3a\"],[0.8888888888888888,\"#fdca26\"],[1.0,\"#f0f921\"]],\"type\":\"heatmap\"}],\"heatmapgl\":[{\"colorbar\":{\"outlinewidth\":0,\"ticks\":\"\"},\"colorscale\":[[0.0,\"#0d0887\"],[0.1111111111111111,\"#46039f\"],[0.2222222222222222,\"#7201a8\"],[0.3333333333333333,\"#9c179e\"],[0.4444444444444444,\"#bd3786\"],[0.5555555555555556,\"#d8576b\"],[0.6666666666666666,\"#ed7953\"],[0.7777777777777778,\"#fb9f3a\"],[0.8888888888888888,\"#fdca26\"],[1.0,\"#f0f921\"]],\"type\":\"heatmapgl\"}],\"histogram\":[{\"marker\":{\"pattern\":{\"fillmode\":\"overlay\",\"size\":10,\"solidity\":0.2}},\"type\":\"histogram\"}],\"histogram2d\":[{\"colorbar\":{\"outlinewidth\":0,\"ticks\":\"\"},\"colorscale\":[[0.0,\"#0d0887\"],[0.1111111111111111,\"#46039f\"],[0.2222222222222222,\"#7201a8\"],[0.3333333333333333,\"#9c179e\"],[0.4444444444444444,\"#bd3786\"],[0.5555555555555556,\"#d8576b\"],[0.6666666666666666,\"#ed7953\"],[0.7777777777777778,\"#fb9f3a\"],[0.8888888888888888,\"#fdca26\"],[1.0,\"#f0f921\"]],\"type\":\"histogram2d\"}],\"histogram2dcontour\":[{\"colorbar\":{\"outlinewidth\":0,\"ticks\":\"\"},\"colorscale\":[[0.0,\"#0d0887\"],[0.1111111111111111,\"#46039f\"],[0.2222222222222222,\"#7201a8\"],[0.3333333333333333,\"#9c179e\"],[0.4444444444444444,\"#bd3786\"],[0.5555555555555556,\"#d8576b\"],[0.6666666666666666,\"#ed7953\"],[0.7777777777777778,\"#fb9f3a\"],[0.8888888888888888,\"#fdca26\"],[1.0,\"#f0f921\"]],\"type\":\"histogram2dcontour\"}],\"mesh3d\":[{\"colorbar\":{\"outlinewidth\":0,\"ticks\":\"\"},\"type\":\"mesh3d\"}],\"parcoords\":[{\"line\":{\"colorbar\":{\"outlinewidth\":0,\"ticks\":\"\"}},\"type\":\"parcoords\"}],\"pie\":[{\"automargin\":true,\"type\":\"pie\"}],\"scatter\":[{\"marker\":{\"colorbar\":{\"outlinewidth\":0,\"ticks\":\"\"}},\"type\":\"scatter\"}],\"scatter3d\":[{\"line\":{\"colorbar\":{\"outlinewidth\":0,\"ticks\":\"\"}},\"marker\":{\"colorbar\":{\"outlinewidth\":0,\"ticks\":\"\"}},\"type\":\"scatter3d\"}],\"scattercarpet\":[{\"marker\":{\"colorbar\":{\"outlinewidth\":0,\"ticks\":\"\"}},\"type\":\"scattercarpet\"}],\"scattergeo\":[{\"marker\":{\"colorbar\":{\"outlinewidth\":0,\"ticks\":\"\"}},\"type\":\"scattergeo\"}],\"scattergl\":[{\"marker\":{\"colorbar\":{\"outlinewidth\":0,\"ticks\":\"\"}},\"type\":\"scattergl\"}],\"scattermapbox\":[{\"marker\":{\"colorbar\":{\"outlinewidth\":0,\"ticks\":\"\"}},\"type\":\"scattermapbox\"}],\"scatterpolar\":[{\"marker\":{\"colorbar\":{\"outlinewidth\":0,\"ticks\":\"\"}},\"type\":\"scatterpolar\"}],\"scatterpolargl\":[{\"marker\":{\"colorbar\":{\"outlinewidth\":0,\"ticks\":\"\"}},\"type\":\"scatterpolargl\"}],\"scatterternary\":[{\"marker\":{\"colorbar\":{\"outlinewidth\":0,\"ticks\":\"\"}},\"type\":\"scatterternary\"}],\"surface\":[{\"colorbar\":{\"outlinewidth\":0,\"ticks\":\"\"},\"colorscale\":[[0.0,\"#0d0887\"],[0.1111111111111111,\"#46039f\"],[0.2222222222222222,\"#7201a8\"],[0.3333333333333333,\"#9c179e\"],[0.4444444444444444,\"#bd3786\"],[0.5555555555555556,\"#d8576b\"],[0.6666666666666666,\"#ed7953\"],[0.7777777777777778,\"#fb9f3a\"],[0.8888888888888888,\"#fdca26\"],[1.0,\"#f0f921\"]],\"type\":\"surface\"}],\"table\":[{\"cells\":{\"fill\":{\"color\":\"#EBF0F8\"},\"line\":{\"color\":\"white\"}},\"header\":{\"fill\":{\"color\":\"#C8D4E3\"},\"line\":{\"color\":\"white\"}},\"type\":\"table\"}]},\"layout\":{\"annotationdefaults\":{\"arrowcolor\":\"#2a3f5f\",\"arrowhead\":0,\"arrowwidth\":1},\"autotypenumbers\":\"strict\",\"coloraxis\":{\"colorbar\":{\"outlinewidth\":0,\"ticks\":\"\"}},\"colorscale\":{\"diverging\":[[0,\"#8e0152\"],[0.1,\"#c51b7d\"],[0.2,\"#de77ae\"],[0.3,\"#f1b6da\"],[0.4,\"#fde0ef\"],[0.5,\"#f7f7f7\"],[0.6,\"#e6f5d0\"],[0.7,\"#b8e186\"],[0.8,\"#7fbc41\"],[0.9,\"#4d9221\"],[1,\"#276419\"]],\"sequential\":[[0.0,\"#0d0887\"],[0.1111111111111111,\"#46039f\"],[0.2222222222222222,\"#7201a8\"],[0.3333333333333333,\"#9c179e\"],[0.4444444444444444,\"#bd3786\"],[0.5555555555555556,\"#d8576b\"],[0.6666666666666666,\"#ed7953\"],[0.7777777777777778,\"#fb9f3a\"],[0.8888888888888888,\"#fdca26\"],[1.0,\"#f0f921\"]],\"sequentialminus\":[[0.0,\"#0d0887\"],[0.1111111111111111,\"#46039f\"],[0.2222222222222222,\"#7201a8\"],[0.3333333333333333,\"#9c179e\"],[0.4444444444444444,\"#bd3786\"],[0.5555555555555556,\"#d8576b\"],[0.6666666666666666,\"#ed7953\"],[0.7777777777777778,\"#fb9f3a\"],[0.8888888888888888,\"#fdca26\"],[1.0,\"#f0f921\"]]},\"colorway\":[\"#636efa\",\"#EF553B\",\"#00cc96\",\"#ab63fa\",\"#FFA15A\",\"#19d3f3\",\"#FF6692\",\"#B6E880\",\"#FF97FF\",\"#FECB52\"],\"font\":{\"color\":\"#2a3f5f\"},\"geo\":{\"bgcolor\":\"white\",\"lakecolor\":\"white\",\"landcolor\":\"#E5ECF6\",\"showlakes\":true,\"showland\":true,\"subunitcolor\":\"white\"},\"hoverlabel\":{\"align\":\"left\"},\"hovermode\":\"closest\",\"mapbox\":{\"style\":\"light\"},\"paper_bgcolor\":\"white\",\"plot_bgcolor\":\"#E5ECF6\",\"polar\":{\"angularaxis\":{\"gridcolor\":\"white\",\"linecolor\":\"white\",\"ticks\":\"\"},\"bgcolor\":\"#E5ECF6\",\"radialaxis\":{\"gridcolor\":\"white\",\"linecolor\":\"white\",\"ticks\":\"\"}},\"scene\":{\"xaxis\":{\"backgroundcolor\":\"#E5ECF6\",\"gridcolor\":\"white\",\"gridwidth\":2,\"linecolor\":\"white\",\"showbackground\":true,\"ticks\":\"\",\"zerolinecolor\":\"white\"},\"yaxis\":{\"backgroundcolor\":\"#E5ECF6\",\"gridcolor\":\"white\",\"gridwidth\":2,\"linecolor\":\"white\",\"showbackground\":true,\"ticks\":\"\",\"zerolinecolor\":\"white\"},\"zaxis\":{\"backgroundcolor\":\"#E5ECF6\",\"gridcolor\":\"white\",\"gridwidth\":2,\"linecolor\":\"white\",\"showbackground\":true,\"ticks\":\"\",\"zerolinecolor\":\"white\"}},\"shapedefaults\":{\"line\":{\"color\":\"#2a3f5f\"}},\"ternary\":{\"aaxis\":{\"gridcolor\":\"white\",\"linecolor\":\"white\",\"ticks\":\"\"},\"baxis\":{\"gridcolor\":\"white\",\"linecolor\":\"white\",\"ticks\":\"\"},\"bgcolor\":\"#E5ECF6\",\"caxis\":{\"gridcolor\":\"white\",\"linecolor\":\"white\",\"ticks\":\"\"}},\"title\":{\"x\":0.05},\"xaxis\":{\"automargin\":true,\"gridcolor\":\"white\",\"linecolor\":\"white\",\"ticks\":\"\",\"title\":{\"standoff\":15},\"zerolinecolor\":\"white\",\"zerolinewidth\":2},\"yaxis\":{\"automargin\":true,\"gridcolor\":\"white\",\"linecolor\":\"white\",\"ticks\":\"\",\"title\":{\"standoff\":15},\"zerolinecolor\":\"white\",\"zerolinewidth\":2}}},\"xaxis\":{\"anchor\":\"y\",\"domain\":[0.0,0.45]},\"yaxis\":{\"anchor\":\"x\",\"domain\":[0.0,1.0]},\"xaxis2\":{\"anchor\":\"y2\",\"domain\":[0.55,1.0]},\"yaxis2\":{\"anchor\":\"x2\",\"domain\":[0.0,1.0]},\"annotations\":[{\"font\":{\"size\":16},\"showarrow\":false,\"text\":\"Train Set <br> R^2 = 0.269 <br> Abs RMSE = 306.317 <br> Rel RMSE = 0.855\",\"x\":0.225,\"xanchor\":\"center\",\"xref\":\"paper\",\"y\":1.0,\"yanchor\":\"bottom\",\"yref\":\"paper\"},{\"font\":{\"size\":16},\"showarrow\":false,\"text\":\"Test Set <br> R^2 = -0.376 <br> Abs RMSE = 339.095 <br> Rel RMSE = 1.173\",\"x\":0.775,\"xanchor\":\"center\",\"xref\":\"paper\",\"y\":1.0,\"yanchor\":\"bottom\",\"yref\":\"paper\"}],\"shapes\":[{\"layer\":\"below\",\"line\":{\"dash\":\"dash\"},\"type\":\"line\",\"x0\":657.4234703954805,\"x1\":1637.2522604154171,\"y0\":657.4234703954805,\"y1\":1637.2522604154171},{\"layer\":\"below\",\"line\":{\"dash\":\"dash\"},\"type\":\"line\",\"x0\":854.2292309825315,\"x1\":1494.8031810220505,\"xref\":\"x2\",\"y0\":854.2292309825315,\"y1\":1494.8031810220505,\"yref\":\"y2\"}],\"title\":{\"text\":\"Observed vs Predicted Values\"}},                        {\"responsive\": true}                    ).then(function(){\n",
              "                            \n",
              "var gd = document.getElementById('49bb1140-a655-45d0-a94d-00e991cc3986');\n",
              "var x = new MutationObserver(function (mutations, observer) {{\n",
              "        var display = window.getComputedStyle(gd).display;\n",
              "        if (!display || display === 'none') {{\n",
              "            console.log([gd, 'removed!']);\n",
              "            Plotly.purge(gd);\n",
              "            observer.disconnect();\n",
              "        }}\n",
              "}});\n",
              "\n",
              "// Listen for the removal of the full notebook cells\n",
              "var notebookContainer = gd.closest('#notebook-container');\n",
              "if (notebookContainer) {{\n",
              "    x.observe(notebookContainer, {childList: true});\n",
              "}}\n",
              "\n",
              "// Listen for the clearing of the current output cell\n",
              "var outputEl = gd.closest('.output');\n",
              "if (outputEl) {{\n",
              "    x.observe(outputEl, {childList: true});\n",
              "}}\n",
              "\n",
              "                        })                };                            </script>        </div>\n",
              "</body>\n",
              "</html>"
            ]
          },
          "metadata": {}
        }
      ]
    },
    {
      "cell_type": "markdown",
      "source": [
        "### Model Diagnostics Plots\n",
        "\n",
        "There are four main assumptions associated with a linear regression model:\n",
        "\n",
        "* Linearity: The relationship between X and the mean of Y is linear.\n",
        "* Homoscedasticity: The variance of residual is the same for any value of X.\n",
        "* Independence: Observations are independent of each other.\n",
        "* Normality: Errors are normally distributed.\n",
        "\n",
        "These can by verified by so called diagnostics plots"
      ],
      "metadata": {
        "id": "baU0_Pdd_ZmX"
      }
    },
    {
      "cell_type": "code",
      "source": [
        "# Quantities and Statistics necessary for Diagnostic Plots\n",
        "model_X = pipe.steps[1][1].transform(pipe.steps[0][1].transform(X))\n",
        "model_y = y.values.reshape(-1)\n",
        "model_fitted_y = ols_model.fittedvalues\n",
        "model_residuals = ols_model.resid\n",
        "model_residuals_trendline = sm.nonparametric.lowess(exog=model_fitted_y, endog=model_residuals)\n",
        "model_norm_residuals = ols_model.get_influence().resid_studentized_internal\n",
        "model_norm_qq = stats.probplot(model_norm_residuals, dist=\"norm\")\n",
        "model_norm_residuals_abs_sqrt = np.sqrt(np.abs(model_norm_residuals))\n",
        "model_norm_residuals_abs_sqrt_trendline = sm.nonparametric.lowess(exog=model_fitted_y, endog=model_norm_residuals_abs_sqrt)\n",
        "model_abs_resid = np.abs(model_residuals)\n",
        "model_leverage = ols_model.get_influence().hat_matrix_diag\n",
        "model_leverage_trendline = sm.nonparametric.lowess(exog=model_leverage, endog=model_norm_residuals)"
      ],
      "metadata": {
        "id": "KjwmFyd6Kj0F"
      },
      "execution_count": 109,
      "outputs": []
    },
    {
      "cell_type": "code",
      "source": [
        "# Diagnostic Plots\n",
        "fig = make_subplots(rows=2, cols=2, subplot_titles=(\"Residulas vs Fitted\", \"Normal Q-Q Plot\", \"Scale-Location\", \"Residuals vs Leverage\"))\n",
        "fig.add_trace(go.Scatter(x=model_fitted_y, y=model_residuals, mode=\"markers\",text=X.index.get_level_values(0),name=\"run_id\",marker=dict(color='blue')),row=1,col=1)\n",
        "fig.add_trace(go.Scatter(x=model_residuals_trendline[:,0], y=model_residuals_trendline[:,1], mode=\"lines\",line=dict(dash='dash'),name='trendline'),row=1,col=1)\n",
        "fig.add_hline(y=0,row=1,col=1)\n",
        "fig.update_xaxes(title_text=\"Fitted Values\", row=1, col=1)\n",
        "fig.update_yaxes(title_text=\"Residuals\", row=1, col=1)\n",
        "fig.add_trace(go.Scatter(x=model_norm_qq[0][0], y=model_norm_qq[0][1],mode='markers',marker=dict(color='blue'),name='norm_resid'),row=1,col=2)\n",
        "fig.add_shape(type='line',x0=min(model_norm_qq[0][0]),y0=min(model_norm_qq[0][0]),x1=max(model_norm_qq[0][0]),y1=max(model_norm_qq[0][0]),layer='below',row=1,col=2)\n",
        "fig.update_xaxes(title_text=\"Theoretical Quantiles\", row=1, col=2)\n",
        "fig.update_yaxes(title_text=\"Standardized Residuals\", row=1, col=2)\n",
        "fig.add_trace(go.Scatter(x=model_fitted_y, y=model_norm_residuals_abs_sqrt, mode=\"markers\",text=X.index.get_level_values(0),name=\"run_id\",marker=dict(color='blue')),row=2,col=1)\n",
        "fig.add_trace(go.Scatter(x=model_norm_residuals_abs_sqrt_trendline[:,0], y=model_norm_residuals_abs_sqrt_trendline[:,1], mode=\"lines\",line=dict(dash='dash',color='red'),name='trendline'),row=2,col=1)\n",
        "fig.update_xaxes(title_text=\"Fitted Values\", row=2, col=1)\n",
        "fig.update_yaxes(title_text=\"Sqrt of | Standardized Residuals |\", row=2, col=1)\n",
        "fig.add_trace(go.Scatter(x=model_leverage, y=model_norm_residuals, mode=\"markers\",text=X.index.get_level_values(0),name=\"run_id\",marker=dict(color='blue')),row=2,col=2)\n",
        "fig.add_trace(go.Scatter(x=model_leverage_trendline[:,0], y=model_leverage_trendline[:,1], mode=\"lines\",line=dict(dash='dash'),name='trendline'),row=2,col=2)\n",
        "xgrid=np.linspace(0.1,max(model_leverage),30)\n",
        "fig.add_trace(go.Scatter(x=xgrid, y=np.sqrt((0.5 * len(ols_model.params) * (1 - xgrid)) / xgrid), mode=\"lines\",line=dict(dash='dot',color='red'),name='Cooks dist 0.5'),row=2,col=2)\n",
        "xgrid=np.linspace(0.2,max(model_leverage),30)\n",
        "fig.add_trace(go.Scatter(x=xgrid, y=np.sqrt((1 * len(ols_model.params) * (1 - xgrid)) / xgrid), mode=\"lines\",line=dict(dash='dot',color='darkred'),name='Cooks dist 1'),row=2,col=2)\n",
        "fig.update_xaxes(title_text=\"Leverage\", row=2, col=2)\n",
        "fig.update_yaxes(title_text=\"Standardized Residuals\", row=2, col=2)\n",
        "\n",
        "fig.update_layout(height=900,showlegend=False,title=\"Diagnostic Plots\")\n",
        "fig.show()\n"
      ],
      "metadata": {
        "id": "lXtzJyMpB4k5",
        "outputId": "cb330379-aedf-4c69-a430-7ab229d7b39b",
        "colab": {
          "base_uri": "https://localhost:8080/",
          "height": 917
        }
      },
      "execution_count": 110,
      "outputs": [
        {
          "output_type": "display_data",
          "data": {
            "text/html": [
              "<html>\n",
              "<head><meta charset=\"utf-8\" /></head>\n",
              "<body>\n",
              "    <div>            <script src=\"https://cdnjs.cloudflare.com/ajax/libs/mathjax/2.7.5/MathJax.js?config=TeX-AMS-MML_SVG\"></script><script type=\"text/javascript\">if (window.MathJax) {MathJax.Hub.Config({SVG: {font: \"STIX-Web\"}});}</script>                <script type=\"text/javascript\">window.PlotlyConfig = {MathJaxConfig: 'local'};</script>\n",
              "        <script src=\"https://cdn.plot.ly/plotly-2.8.3.min.js\"></script>                <div id=\"98453403-d174-4b46-b107-5b475172d635\" class=\"plotly-graph-div\" style=\"height:900px; width:100%;\"></div>            <script type=\"text/javascript\">                                    window.PLOTLYENV=window.PLOTLYENV || {};                                    if (document.getElementById(\"98453403-d174-4b46-b107-5b475172d635\")) {                    Plotly.newPlot(                        \"98453403-d174-4b46-b107-5b475172d635\",                        [{\"marker\":{\"color\":\"blue\"},\"mode\":\"markers\",\"name\":\"run_id\",\"text\":[0.0,1.0,2.0,3.0,4.0,5.0,6.0,7.0,8.0,9.0,10.0,11.0,12.0,13.0,14.0,15.0,16.0,17.0,18.0,19.0,20.0,21.0,22.0,23.0,24.0,25.0,26.0,27.0,28.0,29.0,30.0,31.0,32.0,33.0,34.0,35.0,36.0,37.0,38.0,39.0,40.0,41.0,42.0,43.0,44.0,45.0,46.0,47.0,48.0,49.0],\"x\":[1153.5475301890324,1124.362167341392,961.062081593091,1271.0692942917922,883.8347275902854,1054.3215048512757,1137.8560116195495,964.2392378284235,1137.7918951056868,994.8668810956219,1004.0791388536907,1207.6821950619867,1287.2398772748838,1228.2528142408826,1175.7369320956086,1349.9952874322316,1409.2338968151803,1258.1033348715703,941.22538397638,1352.150945885726,1187.6587363215954,657.4234703954814,1225.482687335367,1157.7370643115396,1331.027495006376,1230.4594173923863,944.1248500401713,1445.2906007648407,1106.7042877994215,1126.346277478338,777.8249415095867,1066.2847641304393,1637.252260415417,1073.036671659096,1171.8407531496791,1256.7668193487473,1075.3473486318212,1467.836080091224,865.2981578432988,1406.0475809572006,1175.7857916307805,1090.8992899994614,1224.620717531281,1500.678170765697,1117.2478861695154,979.4267505153616,971.3783775206903,1262.2779623223591,1103.3031275709138,1145.3170328292408],\"y\":[411.76250142619915,-269.9129344123729,245.03457311583873,316.8682420443231,-72.28173739898205,-212.82279715731488,-491.99077161751075,14.081952629042348,-111.53253235794955,312.47590976745255,30.00823432057291,60.69501895024382,202.68760510611378,291.7386903697061,153.57746445836142,81.02960485486778,156.98051791813054,180.34759746836698,-111.30321585576667,-647.144883686024,244.50634737623386,-469.0502357819414,273.4682917508501,-237.1210808295458,158.427903998205,5.5926451509124036,379.8710183149009,45.41294443122729,211.01520726005856,337.3999150566176,-132.205488190035,-547.5956199971923,-129.23157495688884,-391.1289519484218,-528.5876548040126,-84.84421715887902,451.46024915559906,-757.6570936315286,-318.23216104627295,-166.94803426051953,99.81745235872859,425.48440102949917,248.33911858390206,60.758525696009656,-221.8405430971269,159.6414248363667,453.1061123609006,201.88700991938185,-463.75955114135115,151.71459962101176],\"type\":\"scatter\",\"xaxis\":\"x\",\"yaxis\":\"y\"},{\"line\":{\"dash\":\"dash\"},\"mode\":\"lines\",\"name\":\"trendline\",\"x\":[657.4234703954814,777.8249415095867,865.2981578432988,883.8347275902854,941.22538397638,944.1248500401713,961.062081593091,964.2392378284235,971.3783775206903,979.4267505153616,994.8668810956219,1004.0791388536907,1054.3215048512757,1066.2847641304393,1073.036671659096,1075.3473486318212,1090.8992899994614,1103.3031275709138,1106.7042877994215,1117.2478861695154,1124.362167341392,1126.346277478338,1137.7918951056868,1137.8560116195495,1145.3170328292408,1153.5475301890324,1157.7370643115396,1171.8407531496791,1175.7369320956086,1175.7857916307805,1187.6587363215954,1207.6821950619867,1224.620717531281,1225.482687335367,1228.2528142408826,1230.4594173923863,1256.7668193487473,1258.1033348715703,1262.2779623223591,1271.0692942917922,1287.2398772748838,1331.027495006376,1349.9952874322316,1352.150945885726,1406.0475809572006,1409.2338968151803,1445.2906007648407,1467.836080091224,1500.678170765697,1637.252260415417],\"y\":[-336.317592232018,-171.31705486976296,-55.559645953603514,-29.82999958048877,29.41237121492232,30.481473339229833,37.68513687286441,39.12277189615033,42.40208225574006,46.02231196453524,51.48089993727301,52.64044673473621,39.699114691836215,32.241529297236106,28.14309189779521,25.341594440463773,0.9832737934148967,-17.647166986591984,-23.656136221889433,-24.98102288943445,-15.756729910491272,-13.676330974212005,0.7292497674978897,0.8271722065504521,12.127374565840508,23.600358473165443,29.547426444514986,50.471462329226156,56.415678654332915,56.4911929458416,72.91293061109964,92.0600195889056,112.07439911526944,113.06138122618502,116.22014569285507,118.48661155365818,119.98004837363396,120.61795504432789,118.82283085917724,112.78356519236074,100.40033790249923,67.1734458322188,53.49371384695793,51.977899119094644,11.607371848140804,9.405445474287195,-15.562860757782817,-31.553740893746493,-55.279810460028585,-151.76724648447802],\"type\":\"scatter\",\"xaxis\":\"x\",\"yaxis\":\"y\"},{\"marker\":{\"color\":\"blue\"},\"mode\":\"markers\",\"name\":\"norm_resid\",\"x\":[-2.2038543193919886,-1.832934782096951,-1.6140232349225472,-1.4529684907558387,-1.3226775907499744,-1.2116334217984945,-1.113805000713168,-1.0256152690243034,-0.9447567372367901,-0.8696472647994755,-0.7991502146206946,-0.7324180714913386,-0.66879924550216,-0.6077795951824284,-0.5489441469321729,-0.4919511230407071,-0.43651376730447095,-0.38238727333683137,-0.3293591439228716,-0.27724190958337397,-0.22586749816478416,-0.17508277411238346,-0.12474591089442287,-0.07472335405014022,-0.024887193818824104,0.024887193818824104,0.07472335405014036,0.12474591089442287,0.1750827741123836,0.22586749816478416,0.27724190958337414,0.3293591439228716,0.3823872733368312,0.43651376730447067,0.4919511230407068,0.5489441469321724,0.6077795951824281,0.6687992455021594,0.7324180714913382,0.7991502146206944,0.8696472647994751,0.9447567372367895,1.0256152690243034,1.1138050007131675,1.2116334217984945,1.3226775907499735,1.4529684907558387,1.6140232349225463,1.8329347820969502,2.2038543193919886],\"y\":[-2.5391022724110237,-2.103919373163727,-1.772737208129007,-1.715275961616211,-1.6303771113597896,-1.5939321983760895,-1.4898430146055834,-1.2836818611888314,-1.0187160175865224,-0.8756352854478925,-0.8095724645356555,-0.7106081670508338,-0.6791918191138361,-0.561979253576188,-0.4747442924684025,-0.4332125720809837,-0.3645597653362229,-0.3576648689792733,-0.279503151231242,-0.23191556624379386,0.01795188196433831,0.04806129744229551,0.09449136042024603,0.1508431641749477,0.19842327326415832,0.20154527423821866,0.26149047822318994,0.3297789974790761,0.48138734309070086,0.4980091230087136,0.503337082042607,0.5125850034667342,0.5170154491670913,0.6082154887767688,0.6410780846736984,0.6415700368209435,0.7016266169525353,0.7738559922191476,0.7981303702229172,0.8112893507898429,0.9087986535229922,0.9670235026625872,1.0243684538313613,1.0456347217290396,1.0907585389493657,1.273809592886938,1.290793670171717,1.354331382218879,1.4251585963441944,1.471458940503352],\"type\":\"scatter\",\"xaxis\":\"x2\",\"yaxis\":\"y2\"},{\"marker\":{\"color\":\"blue\"},\"mode\":\"markers\",\"name\":\"run_id\",\"text\":[0.0,1.0,2.0,3.0,4.0,5.0,6.0,7.0,8.0,9.0,10.0,11.0,12.0,13.0,14.0,15.0,16.0,17.0,18.0,19.0,20.0,21.0,22.0,23.0,24.0,25.0,26.0,27.0,28.0,29.0,30.0,31.0,32.0,33.0,34.0,35.0,36.0,37.0,38.0,39.0,40.0,41.0,42.0,43.0,44.0,45.0,46.0,47.0,48.0,49.0],\"x\":[1153.5475301890324,1124.362167341392,961.062081593091,1271.0692942917922,883.8347275902854,1054.3215048512757,1137.8560116195495,964.2392378284235,1137.7918951056868,994.8668810956219,1004.0791388536907,1207.6821950619867,1287.2398772748838,1228.2528142408826,1175.7369320956086,1349.9952874322316,1409.2338968151803,1258.1033348715703,941.22538397638,1352.150945885726,1187.6587363215954,657.4234703954814,1225.482687335367,1157.7370643115396,1331.027495006376,1230.4594173923863,944.1248500401713,1445.2906007648407,1106.7042877994215,1126.346277478338,777.8249415095867,1066.2847641304393,1637.252260415417,1073.036671659096,1171.8407531496791,1256.7668193487473,1075.3473486318212,1467.836080091224,865.2981578432988,1406.0475809572006,1175.7857916307805,1090.8992899994614,1224.620717531281,1500.678170765697,1117.2478861695154,979.4267505153616,971.3783775206903,1262.2779623223591,1103.3031275709138,1145.3170328292408],\"y\":[1.1286317348395525,0.9357538594352109,0.9007160211686271,1.012110890086339,0.4815761271531157,0.824130947795213,1.276862213145878,0.21922887000186703,0.5980508916298622,1.0225628204316053,0.3073944703800737,0.44544727327053907,0.8006735194033199,0.9833735316056595,0.7056976144275348,0.5113613968840334,0.7094625304007302,0.7798817146059835,0.6037878479534206,1.4504893564462054,0.8796908503668477,1.2625102765427652,0.9533093168132745,0.8997624489473072,0.7190378635142181,0.13398463331419133,1.1361310092466084,0.38838532950530935,0.8376315520278205,1.044393861983766,0.6890169028901995,1.3314417779719123,0.6581888574573287,1.1329968495935157,1.3096854437674,0.5286805758028584,1.193800065481735,1.5934560779673295,1.00931462764914,0.7496527553315522,0.57426387443324,1.1637574413162215,0.893381424825319,0.448937940297118,0.8429757808210351,0.7159504196986927,1.213037073012755,0.8009806719396814,1.2205912561564511,0.6938208292424644],\"type\":\"scatter\",\"xaxis\":\"x3\",\"yaxis\":\"y3\"},{\"line\":{\"color\":\"red\",\"dash\":\"dash\"},\"mode\":\"lines\",\"name\":\"trendline\",\"x\":[657.4234703954814,777.8249415095867,865.2981578432988,883.8347275902854,941.22538397638,944.1248500401713,961.062081593091,964.2392378284235,971.3783775206903,979.4267505153616,994.8668810956219,1004.0791388536907,1054.3215048512757,1066.2847641304393,1073.036671659096,1075.3473486318212,1090.8992899994614,1103.3031275709138,1106.7042877994215,1117.2478861695154,1124.362167341392,1126.346277478338,1137.7918951056868,1137.8560116195495,1145.3170328292408,1153.5475301890324,1157.7370643115396,1171.8407531496791,1175.7369320956086,1175.7857916307805,1187.6587363215954,1207.6821950619867,1224.620717531281,1225.482687335367,1228.2528142408826,1230.4594173923863,1256.7668193487473,1258.1033348715703,1262.2779623223591,1271.0692942917922,1287.2398772748838,1331.027495006376,1349.9952874322316,1352.150945885726,1406.0475809572006,1409.2338968151803,1445.2906007648407,1467.836080091224,1500.678170765697,1637.252260415417],\"y\":[0.9255617664894865,0.8797775015502383,0.8416777613755093,0.8304148698513626,0.8300233636038932,0.8328711075112727,0.8489181407908977,0.851890083267051,0.8585275134886501,0.8659683687452715,0.8802478462153314,0.888705868978887,0.9384534445991118,0.9415115220560556,0.9435112866545747,0.9456077052713646,0.9643722876255119,0.9761615280614218,0.9798517706121331,0.9753868757331424,0.9632565895475653,0.9603544639789259,0.9420761606859145,0.9419637064794215,0.9293335835794249,0.9164579431694525,0.9098683229693737,0.8870803590337422,0.88046791748538,0.8803798483429759,0.8634354757379104,0.8400585966426557,0.8169218777829562,0.8158689309740793,0.8125894263915753,0.8102096598269388,0.7934794589967369,0.7924635048829225,0.7903981086988401,0.7856030184079099,0.7735493425998777,0.7365279871048174,0.7179885636514116,0.7159073634242173,0.6749861626074928,0.6736362823143549,0.6598513921176892,0.6502709240185134,0.6345430186106127,0.5614734742284573],\"type\":\"scatter\",\"xaxis\":\"x3\",\"yaxis\":\"y3\"},{\"marker\":{\"color\":\"blue\"},\"mode\":\"markers\",\"name\":\"run_id\",\"text\":[0.0,1.0,2.0,3.0,4.0,5.0,6.0,7.0,8.0,9.0,10.0,11.0,12.0,13.0,14.0,15.0,16.0,17.0,18.0,19.0,20.0,21.0,22.0,23.0,24.0,25.0,26.0,27.0,28.0,29.0,30.0,31.0,32.0,33.0,34.0,35.0,36.0,37.0,38.0,39.0,40.0,41.0,42.0,43.0,44.0,45.0,46.0,47.0,48.0,49.0],\"x\":[0.019999999999999993,0.10886725059745453,0.14445137225927052,0.10259898456525192,0.08895697897110467,0.07914145945870121,0.14595787418630354,0.19485092986640104,0.08800580046520397,0.16244254425887283,0.05411530090316585,0.12246913156070388,0.06249403444983068,0.14639781457631285,0.10808820352646754,0.09943056642363925,0.0877472526796396,0.17539248208735908,0.1257825484480774,0.11266752243227701,0.06372916547006181,0.18784195866664588,0.1507801741136317,0.19541784887235103,0.11936117034215007,0.08975965731914258,0.18773042396736594,0.14994001427982168,0.15168544927869518,0.10262448886546782,0.27268761512450823,0.10510366408054697,0.1654032484781331,0.12930382138908417,0.10934902398941876,0.13580331640443016,0.05886015769600161,0.16492300831063295,0.08478446045314915,0.17231788232951825,0.14077185496432676,0.07432417771653653,0.09200362198302724,0.14766419162796754,0.0859646980738418,0.09029429665771697,0.11070660975161617,0.07131137779593355,0.09124621041481747,0.06844835986742102],\"y\":[1.273809592886938,-0.8756352854478925,0.8112893507898429,1.0243684538313613,-0.23191556624379386,-0.6791918191138361,-1.6303771113597896,0.04806129744229551,-0.3576648689792733,1.0456347217290396,0.09449136042024603,0.19842327326415832,0.6410780846736984,0.9670235026625872,0.4980091230087136,0.26149047822318994,0.503337082042607,0.6082154887767688,-0.3645597653362229,-2.103919373163727,0.7738559922191476,-1.5939321983760895,0.9087986535229922,-0.8095724645356555,0.5170154491670913,0.01795188196433831,1.290793670171717,0.1508431641749477,0.7016266169525353,1.0907585389493657,-0.4747442924684025,-1.772737208129007,-0.4332125720809837,-1.2836818611888314,-1.715275961616211,-0.279503151231242,1.4251585963441944,-2.5391022724110237,-1.0187160175865224,-0.561979253576188,0.3297789974790761,1.354331382218879,0.7981303702229172,0.20154527423821866,-0.7106081670508338,0.5125850034667342,1.471458940503352,0.6415700368209435,-1.4898430146055834,0.48138734309070086],\"type\":\"scatter\",\"xaxis\":\"x4\",\"yaxis\":\"y4\"},{\"line\":{\"dash\":\"dash\"},\"mode\":\"lines\",\"name\":\"trendline\",\"x\":[0.019999999999999993,0.05411530090316585,0.05886015769600161,0.06249403444983068,0.06372916547006181,0.06844835986742102,0.07131137779593355,0.07432417771653653,0.07914145945870121,0.08478446045314915,0.0859646980738418,0.0877472526796396,0.08800580046520397,0.08895697897110467,0.08975965731914258,0.09029429665771697,0.09124621041481747,0.09200362198302724,0.09943056642363925,0.10259898456525192,0.10262448886546782,0.10510366408054697,0.10808820352646754,0.10886725059745453,0.10934902398941876,0.11070660975161617,0.11266752243227701,0.11936117034215007,0.12246913156070388,0.1257825484480774,0.12930382138908417,0.13580331640443016,0.14077185496432676,0.14445137225927052,0.14595787418630354,0.14639781457631285,0.14766419162796754,0.14994001427982168,0.1507801741136317,0.15168544927869518,0.16244254425887283,0.16492300831063295,0.1654032484781331,0.17231788232951825,0.17539248208735908,0.18773042396736594,0.18784195866664588,0.19485092986640104,0.19541784887235103,0.27268761512450823],\"y\":[1.3421181441185013,0.6992741369798761,0.6112200754038108,0.544610754802841,0.522170744934022,0.4374444444651122,0.38685648569987324,0.334338960268168,0.2518693593360119,0.15840563821129466,0.13855528852807847,0.10827186702724587,0.1038458664790405,0.08748447613631757,0.07357976195008285,0.06426932388403762,0.0476008317507325,0.034263609243553386,-0.08918196331909349,-0.12101816167969731,-0.12116149061447275,-0.13665585029846555,-0.14584213343398988,-0.14815455452219725,-0.1487689579821545,-0.1507259818442139,-0.1520941968108294,-0.07521125711207836,-0.0562474688954862,-0.05646347109393359,-0.010313864144943967,0.025534300879193377,0.03956368990602344,0.04770352096228925,0.04748759990722686,0.04698393796770946,0.04464874244617802,0.038453866243739025,0.03589041315180791,0.033090860279603784,0.000971497338032104,-0.006808832910413037,-0.008370294141992037,-0.03321418219938656,-0.04573571265800856,-0.10837303261521902,-0.10900723989913677,-0.14891551315921914,-0.1520586720467833,-0.5444208674634787],\"type\":\"scatter\",\"xaxis\":\"x4\",\"yaxis\":\"y4\"},{\"line\":{\"color\":\"red\",\"dash\":\"dot\"},\"mode\":\"lines\",\"name\":\"Cooks dist 0.5\",\"x\":[0.1,0.10595474534912099,0.11190949069824195,0.11786423604736293,0.1238189813964839,0.12977372674560486,0.13572847209472585,0.14168321744384682,0.1476379627929678,0.15359270814208875,0.15954745349120975,0.1655021988403307,0.17145694418945168,0.17741168953857267,0.18336643488769364,0.1893211802368146,0.1952759255859356,0.20123067093505656,0.20718541628417753,0.21314016163329852,0.21909490698241946,0.22504965233154045,0.23100439768066142,0.23695914302978238,0.24291388837890338,0.24886863372802434,0.2548233790771453,0.2607781244262663,0.26673286977538724,0.27268761512450823],\"y\":[5.196152422706632,5.031299523650741,4.879280462404111,4.738461097653684,4.60748504362686,4.485215709602879,4.370692474790179,4.2630970961299175,4.161727639324458,4.065978019087244,3.9753217754349466,3.889299086735627,3.807506282764159,3.72958730801451,3.655226720476924,3.5841439096816243,3.516088290655579,3.450835284827744,3.38818293992661,3.3279490721178857,3.269968837578318,3.2140926592296375,3.1601844488002566,3.108120075722483,3.057786043336834,3.009078340005663,2.961901438445023,2.9161674211770547,2.87179521372252,2.8287099101770665],\"type\":\"scatter\",\"xaxis\":\"x4\",\"yaxis\":\"y4\"},{\"line\":{\"color\":\"darkred\",\"dash\":\"dot\"},\"mode\":\"lines\",\"name\":\"Cooks dist 1\",\"x\":[0.2,0.20250646948705203,0.20501293897410403,0.20751940846115605,0.21002587794820804,0.21253234743526006,0.21503881692231205,0.21754528640936407,0.22005175589641607,0.2225582253834681,0.22506469487052008,0.2275711643575721,0.2300776338446241,0.23258410333167612,0.2350905728187281,0.23759704230578013,0.24010351179283212,0.24260998127988415,0.24511645076693614,0.24762292025398816,0.25012938974104015,0.2526358592280922,0.2551423287151442,0.25764879820219616,0.2601552676892482,0.2626617371763002,0.2651682066633522,0.2676746761504042,0.2701811456374562,0.27268761512450823],\"y\":[4.898979485566357,4.860934380339709,4.8235303952855295,4.786748195195099,4.750569249675089,4.71497579042467,4.679950771254146,4.645477830639463,4.6115412566245455,4.578125953899352,4.545217412895903,4.5128016807576286,4.480865334049191,4.449395453084712,4.418379597762103,4.387805784800092,4.357662466282668,4.327938509423029,4.298623177465903,4.269706111653254,4.241177314184037,4.213027132103853,4.185246242065033,4.157825635902104,4.13075660697149,4.1040307372080305,4.077639884854228,4.0515761728212425,4.025831977643527,4.000399918991587],\"type\":\"scatter\",\"xaxis\":\"x4\",\"yaxis\":\"y4\"}],                        {\"template\":{\"data\":{\"bar\":[{\"error_x\":{\"color\":\"#2a3f5f\"},\"error_y\":{\"color\":\"#2a3f5f\"},\"marker\":{\"line\":{\"color\":\"#E5ECF6\",\"width\":0.5},\"pattern\":{\"fillmode\":\"overlay\",\"size\":10,\"solidity\":0.2}},\"type\":\"bar\"}],\"barpolar\":[{\"marker\":{\"line\":{\"color\":\"#E5ECF6\",\"width\":0.5},\"pattern\":{\"fillmode\":\"overlay\",\"size\":10,\"solidity\":0.2}},\"type\":\"barpolar\"}],\"carpet\":[{\"aaxis\":{\"endlinecolor\":\"#2a3f5f\",\"gridcolor\":\"white\",\"linecolor\":\"white\",\"minorgridcolor\":\"white\",\"startlinecolor\":\"#2a3f5f\"},\"baxis\":{\"endlinecolor\":\"#2a3f5f\",\"gridcolor\":\"white\",\"linecolor\":\"white\",\"minorgridcolor\":\"white\",\"startlinecolor\":\"#2a3f5f\"},\"type\":\"carpet\"}],\"choropleth\":[{\"colorbar\":{\"outlinewidth\":0,\"ticks\":\"\"},\"type\":\"choropleth\"}],\"contour\":[{\"colorbar\":{\"outlinewidth\":0,\"ticks\":\"\"},\"colorscale\":[[0.0,\"#0d0887\"],[0.1111111111111111,\"#46039f\"],[0.2222222222222222,\"#7201a8\"],[0.3333333333333333,\"#9c179e\"],[0.4444444444444444,\"#bd3786\"],[0.5555555555555556,\"#d8576b\"],[0.6666666666666666,\"#ed7953\"],[0.7777777777777778,\"#fb9f3a\"],[0.8888888888888888,\"#fdca26\"],[1.0,\"#f0f921\"]],\"type\":\"contour\"}],\"contourcarpet\":[{\"colorbar\":{\"outlinewidth\":0,\"ticks\":\"\"},\"type\":\"contourcarpet\"}],\"heatmap\":[{\"colorbar\":{\"outlinewidth\":0,\"ticks\":\"\"},\"colorscale\":[[0.0,\"#0d0887\"],[0.1111111111111111,\"#46039f\"],[0.2222222222222222,\"#7201a8\"],[0.3333333333333333,\"#9c179e\"],[0.4444444444444444,\"#bd3786\"],[0.5555555555555556,\"#d8576b\"],[0.6666666666666666,\"#ed7953\"],[0.7777777777777778,\"#fb9f3a\"],[0.8888888888888888,\"#fdca26\"],[1.0,\"#f0f921\"]],\"type\":\"heatmap\"}],\"heatmapgl\":[{\"colorbar\":{\"outlinewidth\":0,\"ticks\":\"\"},\"colorscale\":[[0.0,\"#0d0887\"],[0.1111111111111111,\"#46039f\"],[0.2222222222222222,\"#7201a8\"],[0.3333333333333333,\"#9c179e\"],[0.4444444444444444,\"#bd3786\"],[0.5555555555555556,\"#d8576b\"],[0.6666666666666666,\"#ed7953\"],[0.7777777777777778,\"#fb9f3a\"],[0.8888888888888888,\"#fdca26\"],[1.0,\"#f0f921\"]],\"type\":\"heatmapgl\"}],\"histogram\":[{\"marker\":{\"pattern\":{\"fillmode\":\"overlay\",\"size\":10,\"solidity\":0.2}},\"type\":\"histogram\"}],\"histogram2d\":[{\"colorbar\":{\"outlinewidth\":0,\"ticks\":\"\"},\"colorscale\":[[0.0,\"#0d0887\"],[0.1111111111111111,\"#46039f\"],[0.2222222222222222,\"#7201a8\"],[0.3333333333333333,\"#9c179e\"],[0.4444444444444444,\"#bd3786\"],[0.5555555555555556,\"#d8576b\"],[0.6666666666666666,\"#ed7953\"],[0.7777777777777778,\"#fb9f3a\"],[0.8888888888888888,\"#fdca26\"],[1.0,\"#f0f921\"]],\"type\":\"histogram2d\"}],\"histogram2dcontour\":[{\"colorbar\":{\"outlinewidth\":0,\"ticks\":\"\"},\"colorscale\":[[0.0,\"#0d0887\"],[0.1111111111111111,\"#46039f\"],[0.2222222222222222,\"#7201a8\"],[0.3333333333333333,\"#9c179e\"],[0.4444444444444444,\"#bd3786\"],[0.5555555555555556,\"#d8576b\"],[0.6666666666666666,\"#ed7953\"],[0.7777777777777778,\"#fb9f3a\"],[0.8888888888888888,\"#fdca26\"],[1.0,\"#f0f921\"]],\"type\":\"histogram2dcontour\"}],\"mesh3d\":[{\"colorbar\":{\"outlinewidth\":0,\"ticks\":\"\"},\"type\":\"mesh3d\"}],\"parcoords\":[{\"line\":{\"colorbar\":{\"outlinewidth\":0,\"ticks\":\"\"}},\"type\":\"parcoords\"}],\"pie\":[{\"automargin\":true,\"type\":\"pie\"}],\"scatter\":[{\"marker\":{\"colorbar\":{\"outlinewidth\":0,\"ticks\":\"\"}},\"type\":\"scatter\"}],\"scatter3d\":[{\"line\":{\"colorbar\":{\"outlinewidth\":0,\"ticks\":\"\"}},\"marker\":{\"colorbar\":{\"outlinewidth\":0,\"ticks\":\"\"}},\"type\":\"scatter3d\"}],\"scattercarpet\":[{\"marker\":{\"colorbar\":{\"outlinewidth\":0,\"ticks\":\"\"}},\"type\":\"scattercarpet\"}],\"scattergeo\":[{\"marker\":{\"colorbar\":{\"outlinewidth\":0,\"ticks\":\"\"}},\"type\":\"scattergeo\"}],\"scattergl\":[{\"marker\":{\"colorbar\":{\"outlinewidth\":0,\"ticks\":\"\"}},\"type\":\"scattergl\"}],\"scattermapbox\":[{\"marker\":{\"colorbar\":{\"outlinewidth\":0,\"ticks\":\"\"}},\"type\":\"scattermapbox\"}],\"scatterpolar\":[{\"marker\":{\"colorbar\":{\"outlinewidth\":0,\"ticks\":\"\"}},\"type\":\"scatterpolar\"}],\"scatterpolargl\":[{\"marker\":{\"colorbar\":{\"outlinewidth\":0,\"ticks\":\"\"}},\"type\":\"scatterpolargl\"}],\"scatterternary\":[{\"marker\":{\"colorbar\":{\"outlinewidth\":0,\"ticks\":\"\"}},\"type\":\"scatterternary\"}],\"surface\":[{\"colorbar\":{\"outlinewidth\":0,\"ticks\":\"\"},\"colorscale\":[[0.0,\"#0d0887\"],[0.1111111111111111,\"#46039f\"],[0.2222222222222222,\"#7201a8\"],[0.3333333333333333,\"#9c179e\"],[0.4444444444444444,\"#bd3786\"],[0.5555555555555556,\"#d8576b\"],[0.6666666666666666,\"#ed7953\"],[0.7777777777777778,\"#fb9f3a\"],[0.8888888888888888,\"#fdca26\"],[1.0,\"#f0f921\"]],\"type\":\"surface\"}],\"table\":[{\"cells\":{\"fill\":{\"color\":\"#EBF0F8\"},\"line\":{\"color\":\"white\"}},\"header\":{\"fill\":{\"color\":\"#C8D4E3\"},\"line\":{\"color\":\"white\"}},\"type\":\"table\"}]},\"layout\":{\"annotationdefaults\":{\"arrowcolor\":\"#2a3f5f\",\"arrowhead\":0,\"arrowwidth\":1},\"autotypenumbers\":\"strict\",\"coloraxis\":{\"colorbar\":{\"outlinewidth\":0,\"ticks\":\"\"}},\"colorscale\":{\"diverging\":[[0,\"#8e0152\"],[0.1,\"#c51b7d\"],[0.2,\"#de77ae\"],[0.3,\"#f1b6da\"],[0.4,\"#fde0ef\"],[0.5,\"#f7f7f7\"],[0.6,\"#e6f5d0\"],[0.7,\"#b8e186\"],[0.8,\"#7fbc41\"],[0.9,\"#4d9221\"],[1,\"#276419\"]],\"sequential\":[[0.0,\"#0d0887\"],[0.1111111111111111,\"#46039f\"],[0.2222222222222222,\"#7201a8\"],[0.3333333333333333,\"#9c179e\"],[0.4444444444444444,\"#bd3786\"],[0.5555555555555556,\"#d8576b\"],[0.6666666666666666,\"#ed7953\"],[0.7777777777777778,\"#fb9f3a\"],[0.8888888888888888,\"#fdca26\"],[1.0,\"#f0f921\"]],\"sequentialminus\":[[0.0,\"#0d0887\"],[0.1111111111111111,\"#46039f\"],[0.2222222222222222,\"#7201a8\"],[0.3333333333333333,\"#9c179e\"],[0.4444444444444444,\"#bd3786\"],[0.5555555555555556,\"#d8576b\"],[0.6666666666666666,\"#ed7953\"],[0.7777777777777778,\"#fb9f3a\"],[0.8888888888888888,\"#fdca26\"],[1.0,\"#f0f921\"]]},\"colorway\":[\"#636efa\",\"#EF553B\",\"#00cc96\",\"#ab63fa\",\"#FFA15A\",\"#19d3f3\",\"#FF6692\",\"#B6E880\",\"#FF97FF\",\"#FECB52\"],\"font\":{\"color\":\"#2a3f5f\"},\"geo\":{\"bgcolor\":\"white\",\"lakecolor\":\"white\",\"landcolor\":\"#E5ECF6\",\"showlakes\":true,\"showland\":true,\"subunitcolor\":\"white\"},\"hoverlabel\":{\"align\":\"left\"},\"hovermode\":\"closest\",\"mapbox\":{\"style\":\"light\"},\"paper_bgcolor\":\"white\",\"plot_bgcolor\":\"#E5ECF6\",\"polar\":{\"angularaxis\":{\"gridcolor\":\"white\",\"linecolor\":\"white\",\"ticks\":\"\"},\"bgcolor\":\"#E5ECF6\",\"radialaxis\":{\"gridcolor\":\"white\",\"linecolor\":\"white\",\"ticks\":\"\"}},\"scene\":{\"xaxis\":{\"backgroundcolor\":\"#E5ECF6\",\"gridcolor\":\"white\",\"gridwidth\":2,\"linecolor\":\"white\",\"showbackground\":true,\"ticks\":\"\",\"zerolinecolor\":\"white\"},\"yaxis\":{\"backgroundcolor\":\"#E5ECF6\",\"gridcolor\":\"white\",\"gridwidth\":2,\"linecolor\":\"white\",\"showbackground\":true,\"ticks\":\"\",\"zerolinecolor\":\"white\"},\"zaxis\":{\"backgroundcolor\":\"#E5ECF6\",\"gridcolor\":\"white\",\"gridwidth\":2,\"linecolor\":\"white\",\"showbackground\":true,\"ticks\":\"\",\"zerolinecolor\":\"white\"}},\"shapedefaults\":{\"line\":{\"color\":\"#2a3f5f\"}},\"ternary\":{\"aaxis\":{\"gridcolor\":\"white\",\"linecolor\":\"white\",\"ticks\":\"\"},\"baxis\":{\"gridcolor\":\"white\",\"linecolor\":\"white\",\"ticks\":\"\"},\"bgcolor\":\"#E5ECF6\",\"caxis\":{\"gridcolor\":\"white\",\"linecolor\":\"white\",\"ticks\":\"\"}},\"title\":{\"x\":0.05},\"xaxis\":{\"automargin\":true,\"gridcolor\":\"white\",\"linecolor\":\"white\",\"ticks\":\"\",\"title\":{\"standoff\":15},\"zerolinecolor\":\"white\",\"zerolinewidth\":2},\"yaxis\":{\"automargin\":true,\"gridcolor\":\"white\",\"linecolor\":\"white\",\"ticks\":\"\",\"title\":{\"standoff\":15},\"zerolinecolor\":\"white\",\"zerolinewidth\":2}}},\"xaxis\":{\"anchor\":\"y\",\"domain\":[0.0,0.45],\"title\":{\"text\":\"Fitted Values\"}},\"yaxis\":{\"anchor\":\"x\",\"domain\":[0.625,1.0],\"title\":{\"text\":\"Residuals\"}},\"xaxis2\":{\"anchor\":\"y2\",\"domain\":[0.55,1.0],\"title\":{\"text\":\"Theoretical Quantiles\"}},\"yaxis2\":{\"anchor\":\"x2\",\"domain\":[0.625,1.0],\"title\":{\"text\":\"Standardized Residuals\"}},\"xaxis3\":{\"anchor\":\"y3\",\"domain\":[0.0,0.45],\"title\":{\"text\":\"Fitted Values\"}},\"yaxis3\":{\"anchor\":\"x3\",\"domain\":[0.0,0.375],\"title\":{\"text\":\"Sqrt of | Standardized Residuals |\"}},\"xaxis4\":{\"anchor\":\"y4\",\"domain\":[0.55,1.0],\"title\":{\"text\":\"Leverage\"}},\"yaxis4\":{\"anchor\":\"x4\",\"domain\":[0.0,0.375],\"title\":{\"text\":\"Standardized Residuals\"}},\"annotations\":[{\"font\":{\"size\":16},\"showarrow\":false,\"text\":\"Residulas vs Fitted\",\"x\":0.225,\"xanchor\":\"center\",\"xref\":\"paper\",\"y\":1.0,\"yanchor\":\"bottom\",\"yref\":\"paper\"},{\"font\":{\"size\":16},\"showarrow\":false,\"text\":\"Normal Q-Q Plot\",\"x\":0.775,\"xanchor\":\"center\",\"xref\":\"paper\",\"y\":1.0,\"yanchor\":\"bottom\",\"yref\":\"paper\"},{\"font\":{\"size\":16},\"showarrow\":false,\"text\":\"Scale-Location\",\"x\":0.225,\"xanchor\":\"center\",\"xref\":\"paper\",\"y\":0.375,\"yanchor\":\"bottom\",\"yref\":\"paper\"},{\"font\":{\"size\":16},\"showarrow\":false,\"text\":\"Residuals vs Leverage\",\"x\":0.775,\"xanchor\":\"center\",\"xref\":\"paper\",\"y\":0.375,\"yanchor\":\"bottom\",\"yref\":\"paper\"}],\"shapes\":[{\"type\":\"line\",\"x0\":0,\"x1\":1,\"xref\":\"x domain\",\"y0\":0,\"y1\":0,\"yref\":\"y\"},{\"layer\":\"below\",\"type\":\"line\",\"x0\":-2.2038543193919886,\"x1\":2.2038543193919886,\"xref\":\"x2\",\"y0\":-2.2038543193919886,\"y1\":2.2038543193919886,\"yref\":\"y2\"}],\"height\":900,\"showlegend\":false,\"title\":{\"text\":\"Diagnostic Plots\"}},                        {\"responsive\": true}                    ).then(function(){\n",
              "                            \n",
              "var gd = document.getElementById('98453403-d174-4b46-b107-5b475172d635');\n",
              "var x = new MutationObserver(function (mutations, observer) {{\n",
              "        var display = window.getComputedStyle(gd).display;\n",
              "        if (!display || display === 'none') {{\n",
              "            console.log([gd, 'removed!']);\n",
              "            Plotly.purge(gd);\n",
              "            observer.disconnect();\n",
              "        }}\n",
              "}});\n",
              "\n",
              "// Listen for the removal of the full notebook cells\n",
              "var notebookContainer = gd.closest('#notebook-container');\n",
              "if (notebookContainer) {{\n",
              "    x.observe(notebookContainer, {childList: true});\n",
              "}}\n",
              "\n",
              "// Listen for the clearing of the current output cell\n",
              "var outputEl = gd.closest('.output');\n",
              "if (outputEl) {{\n",
              "    x.observe(outputEl, {childList: true});\n",
              "}}\n",
              "\n",
              "                        })                };                            </script>        </div>\n",
              "</body>\n",
              "</html>"
            ]
          },
          "metadata": {}
        }
      ]
    },
    {
      "cell_type": "markdown",
      "source": [
        "Interpretation of Diagnostic Plots\n",
        "\n",
        "* **Residuals vs Fitted**: This graph shows if there are any nonlinear patterns in the residuals, and thus in the data as well. One of the mathematical assumptions in building an OLS model is that the data can be fit by a line. If this assumption holds and our data can be fit by a linear model, then we should see a relatively flat line when looking at the residuals vs fitted. An ideal Residuals vs Fitted plot will look like random noise; there won’t be any apparent patterns in the scatterplot and the red line would be horizontal.\n",
        "\n",
        "* **Normal Q-Q Plot**: This plot shows if the residuals are normally distributed. A good normal QQ plot has all of the residuals lying on or close to the red line. If there are  several points that fall far away from the diagonal line. This is indicative of the errors not being normally distributed. The model can suffer from “heavy tails”, \"skweness\", etc.\n",
        "\n",
        "* **Scale-Location**: This plot is a way to check if the residuals suffer from non-constant variance, aka heteroscedasticity. The more horizontal the red line is, the more likely the data is homoscedastic. \n",
        "\n",
        "* **Residuals vs Leverage**: Unlike outliers, which have an unusually large y value, leverage points have extreme x values. This can have damaging effects on the model because the β coefficients are very sensitive to leverage points. Here we can identify problematic observations. Points that have Cook's distance lager then 0.5 are considered leverage points."
      ],
      "metadata": {
        "id": "BukbUYlixn_E"
      }
    },
    {
      "cell_type": "markdown",
      "source": [
        "## Model Comparison\n",
        "\n",
        "![image.png](data:image/png;base64,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)\n",
        "\n",
        "### Partial Least Squares\n",
        "\n",
        "![image.png](data:image/png;base64,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)\n",
        "\n",
        "In PLS, we also find these latent variables, but we find them so they best explain $X$ and best explain $Y$, and so that these latent variables have the strongest possible relationship between $X$ and $Y$."
      ],
      "metadata": {
        "id": "sQ3nE4CPNiA5"
      }
    },
    {
      "cell_type": "markdown",
      "source": [
        "## PLS Model\n",
        "\n",
        "In this section, we keep the same data structure but we train a PLS model. PLS model allows us to use more variables/columns without the model being overspecified.\n",
        "\n",
        "In a case of single response $y$ and $k$ predictors, PLS regression model with $h$ latent variables is expressed as follows.\n",
        "\n",
        "$ X = T P^t + E$\n",
        "\n",
        "$ y = U c+f$\n",
        "\n",
        "The VIP score is a summary of the importance for the projections to find $h$ latent variables. It's calculated for $j-th$ variable as \n",
        "$ VIP_j = (k \\sum_i^h (SS(c_i t_i)(w_{ij} / ||{w_i}||)^2) / \\sum_k^h(c_i t_i))^{1/2}$\n",
        "Since the average of squared VIP scores equals 1, 'greather than one rule' is generally used as criterion for variable selection."
      ],
      "metadata": {
        "id": "3C7-mXh8H1P6"
      }
    },
    {
      "cell_type": "markdown",
      "source": [
        "### Create a PLS model with specific latent variables\n",
        "\n",
        "Create a PLS model to predict the value of the final titer given the initial conditions.\n",
        "\n",
        "* Input matrix: \"doe\". This corresponds to the values of the manipulated process parameters for each experiment.\n",
        "* Output target: \"tar\". This corresponds to the final value of titer at the end of each experiment. (or aggregates)\n",
        "\n",
        "Select the number of latent variables for the model (the maximum number of latent variables is 5, equal to the number of variables in the input matrix).\n",
        "\n",
        "\n",
        "\n"
      ],
      "metadata": {
        "id": "gPSnjAS5IGW6"
      }
    },
    {
      "cell_type": "code",
      "source": [
        "\"\"\" Number of latent Variables \"\"\"\n",
        "USE_LV = 9\n",
        "\"\"\" Normalize data \"\"\"\n",
        "USE_NORMALIZATION = True\n",
        "\"\"\" Ploynomial degree of features \"\"\"\n",
        "USE_POLYDEGREE = 2\n",
        "\"\"\" Add only interaction between features\"\"\"\n",
        "USE_INTERACTIONSONLY = False"
      ],
      "metadata": {
        "id": "h9tfpH95G2yi"
      },
      "execution_count": 111,
      "outputs": []
    },
    {
      "cell_type": "code",
      "source": [
        "# Define pipeline\n",
        "poly_features = PolynomialFeatures(degree=USE_POLYDEGREE, interaction_only=USE_INTERACTIONSONLY,include_bias=False)\n",
        "standard_scaler = StandardScaler(with_mean=USE_NORMALIZATION, with_std=USE_NORMALIZATION)\n",
        "pls_model = PLSRegression(n_components=USE_LV)\n",
        "pipe = Pipeline([('features', poly_features), \n",
        "                 ('scaler', standard_scaler),\n",
        "                 ('model', pls_model)])\n",
        "# Fit PLS model\n",
        "X = doe\n",
        "y = tar\n",
        "pipe.fit(X,y)\n",
        "# Model features and variable importance \n",
        "X_columns = poly_features.get_feature_names_out()\n",
        "X_preproc = pd.DataFrame(pipe.steps[1][1].transform(pipe.steps[0][1].transform(X)),columns=X_columns)\n",
        "pls_vip = modelhelpers.vip(X_preproc,y,pls_model)\n",
        "# Plot Model Inference\n",
        "fig = px.bar(x=list(X_columns),\n",
        "             y=pls_vip.reshape(-1), \n",
        "             title=\"VIP scores of PLS model\",\n",
        "             labels={'x':\"Variables\", 'y':\"Estimated VIP\",'color':\"p-value\"})\n",
        "fig.add_hline(y=1)\n",
        "fig.show()\n"
      ],
      "metadata": {
        "colab": {
          "base_uri": "https://localhost:8080/",
          "height": 542
        },
        "id": "rQaQ6SnNGyOk",
        "outputId": "9e0d4dbe-1ae2-4ea7-ce29-ef882b8897d4"
      },
      "execution_count": 112,
      "outputs": [
        {
          "output_type": "display_data",
          "data": {
            "text/html": [
              "<html>\n",
              "<head><meta charset=\"utf-8\" /></head>\n",
              "<body>\n",
              "    <div>            <script src=\"https://cdnjs.cloudflare.com/ajax/libs/mathjax/2.7.5/MathJax.js?config=TeX-AMS-MML_SVG\"></script><script type=\"text/javascript\">if (window.MathJax) {MathJax.Hub.Config({SVG: {font: \"STIX-Web\"}});}</script>                <script type=\"text/javascript\">window.PlotlyConfig = {MathJaxConfig: 'local'};</script>\n",
              "        <script src=\"https://cdn.plot.ly/plotly-2.8.3.min.js\"></script>                <div id=\"223a3c0a-ffbd-4e78-a03d-202e49d4e936\" class=\"plotly-graph-div\" style=\"height:525px; width:100%;\"></div>            <script type=\"text/javascript\">                                    window.PLOTLYENV=window.PLOTLYENV || {};                                    if (document.getElementById(\"223a3c0a-ffbd-4e78-a03d-202e49d4e936\")) {                    Plotly.newPlot(                        \"223a3c0a-ffbd-4e78-a03d-202e49d4e936\",                        [{\"alignmentgroup\":\"True\",\"hovertemplate\":\"Variables=%{x}<br>Estimated VIP=%{y}<extra></extra>\",\"legendgroup\":\"\",\"marker\":{\"color\":\"#636efa\",\"pattern\":{\"shape\":\"\"}},\"name\":\"\",\"offsetgroup\":\"\",\"orientation\":\"v\",\"showlegend\":false,\"textposition\":\"auto\",\"x\":[\"feed_start\",\"feed_end\",\"Glc_feed_rate\",\"Glc_0\",\"VCD_0\",\"feed_start^2\",\"feed_start feed_end\",\"feed_start Glc_feed_rate\",\"feed_start Glc_0\",\"feed_start VCD_0\",\"feed_end^2\",\"feed_end Glc_feed_rate\",\"feed_end Glc_0\",\"feed_end VCD_0\",\"Glc_feed_rate^2\",\"Glc_feed_rate Glc_0\",\"Glc_feed_rate VCD_0\",\"Glc_0^2\",\"Glc_0 VCD_0\",\"VCD_0^2\"],\"xaxis\":\"x\",\"y\":[0.8370638831089388,1.1536688402221542,0.9760501402366166,1.0513506544215871,0.8984835591525308,0.8678013042452195,0.7669665475125962,1.2410864826661816,1.2270721086215426,1.3105846364306506,1.163239585304875,0.8684910984884379,0.9986573830429117,1.0709007317979935,0.6492281555661159,1.1413722844451848,0.7746177275138355,0.8146332616457063,0.9478626984725886,0.9275005984178051],\"yaxis\":\"y\",\"type\":\"bar\"}],                        {\"template\":{\"data\":{\"bar\":[{\"error_x\":{\"color\":\"#2a3f5f\"},\"error_y\":{\"color\":\"#2a3f5f\"},\"marker\":{\"line\":{\"color\":\"#E5ECF6\",\"width\":0.5},\"pattern\":{\"fillmode\":\"overlay\",\"size\":10,\"solidity\":0.2}},\"type\":\"bar\"}],\"barpolar\":[{\"marker\":{\"line\":{\"color\":\"#E5ECF6\",\"width\":0.5},\"pattern\":{\"fillmode\":\"overlay\",\"size\":10,\"solidity\":0.2}},\"type\":\"barpolar\"}],\"carpet\":[{\"aaxis\":{\"endlinecolor\":\"#2a3f5f\",\"gridcolor\":\"white\",\"linecolor\":\"white\",\"minorgridcolor\":\"white\",\"startlinecolor\":\"#2a3f5f\"},\"baxis\":{\"endlinecolor\":\"#2a3f5f\",\"gridcolor\":\"white\",\"linecolor\":\"white\",\"minorgridcolor\":\"white\",\"startlinecolor\":\"#2a3f5f\"},\"type\":\"carpet\"}],\"choropleth\":[{\"colorbar\":{\"outlinewidth\":0,\"ticks\":\"\"},\"type\":\"choropleth\"}],\"contour\":[{\"colorbar\":{\"outlinewidth\":0,\"ticks\":\"\"},\"colorscale\":[[0.0,\"#0d0887\"],[0.1111111111111111,\"#46039f\"],[0.2222222222222222,\"#7201a8\"],[0.3333333333333333,\"#9c179e\"],[0.4444444444444444,\"#bd3786\"],[0.5555555555555556,\"#d8576b\"],[0.6666666666666666,\"#ed7953\"],[0.7777777777777778,\"#fb9f3a\"],[0.8888888888888888,\"#fdca26\"],[1.0,\"#f0f921\"]],\"type\":\"contour\"}],\"contourcarpet\":[{\"colorbar\":{\"outlinewidth\":0,\"ticks\":\"\"},\"type\":\"contourcarpet\"}],\"heatmap\":[{\"colorbar\":{\"outlinewidth\":0,\"ticks\":\"\"},\"colorscale\":[[0.0,\"#0d0887\"],[0.1111111111111111,\"#46039f\"],[0.2222222222222222,\"#7201a8\"],[0.3333333333333333,\"#9c179e\"],[0.4444444444444444,\"#bd3786\"],[0.5555555555555556,\"#d8576b\"],[0.6666666666666666,\"#ed7953\"],[0.7777777777777778,\"#fb9f3a\"],[0.8888888888888888,\"#fdca26\"],[1.0,\"#f0f921\"]],\"type\":\"heatmap\"}],\"heatmapgl\":[{\"colorbar\":{\"outlinewidth\":0,\"ticks\":\"\"},\"colorscale\":[[0.0,\"#0d0887\"],[0.1111111111111111,\"#46039f\"],[0.2222222222222222,\"#7201a8\"],[0.3333333333333333,\"#9c179e\"],[0.4444444444444444,\"#bd3786\"],[0.5555555555555556,\"#d8576b\"],[0.6666666666666666,\"#ed7953\"],[0.7777777777777778,\"#fb9f3a\"],[0.8888888888888888,\"#fdca26\"],[1.0,\"#f0f921\"]],\"type\":\"heatmapgl\"}],\"histogram\":[{\"marker\":{\"pattern\":{\"fillmode\":\"overlay\",\"size\":10,\"solidity\":0.2}},\"type\":\"histogram\"}],\"histogram2d\":[{\"colorbar\":{\"outlinewidth\":0,\"ticks\":\"\"},\"colorscale\":[[0.0,\"#0d0887\"],[0.1111111111111111,\"#46039f\"],[0.2222222222222222,\"#7201a8\"],[0.3333333333333333,\"#9c179e\"],[0.4444444444444444,\"#bd3786\"],[0.5555555555555556,\"#d8576b\"],[0.6666666666666666,\"#ed7953\"],[0.7777777777777778,\"#fb9f3a\"],[0.8888888888888888,\"#fdca26\"],[1.0,\"#f0f921\"]],\"type\":\"histogram2d\"}],\"histogram2dcontour\":[{\"colorbar\":{\"outlinewidth\":0,\"ticks\":\"\"},\"colorscale\":[[0.0,\"#0d0887\"],[0.1111111111111111,\"#46039f\"],[0.2222222222222222,\"#7201a8\"],[0.3333333333333333,\"#9c179e\"],[0.4444444444444444,\"#bd3786\"],[0.5555555555555556,\"#d8576b\"],[0.6666666666666666,\"#ed7953\"],[0.7777777777777778,\"#fb9f3a\"],[0.8888888888888888,\"#fdca26\"],[1.0,\"#f0f921\"]],\"type\":\"histogram2dcontour\"}],\"mesh3d\":[{\"colorbar\":{\"outlinewidth\":0,\"ticks\":\"\"},\"type\":\"mesh3d\"}],\"parcoords\":[{\"line\":{\"colorbar\":{\"outlinewidth\":0,\"ticks\":\"\"}},\"type\":\"parcoords\"}],\"pie\":[{\"automargin\":true,\"type\":\"pie\"}],\"scatter\":[{\"marker\":{\"colorbar\":{\"outlinewidth\":0,\"ticks\":\"\"}},\"type\":\"scatter\"}],\"scatter3d\":[{\"line\":{\"colorbar\":{\"outlinewidth\":0,\"ticks\":\"\"}},\"marker\":{\"colorbar\":{\"outlinewidth\":0,\"ticks\":\"\"}},\"type\":\"scatter3d\"}],\"scattercarpet\":[{\"marker\":{\"colorbar\":{\"outlinewidth\":0,\"ticks\":\"\"}},\"type\":\"scattercarpet\"}],\"scattergeo\":[{\"marker\":{\"colorbar\":{\"outlinewidth\":0,\"ticks\":\"\"}},\"type\":\"scattergeo\"}],\"scattergl\":[{\"marker\":{\"colorbar\":{\"outlinewidth\":0,\"ticks\":\"\"}},\"type\":\"scattergl\"}],\"scattermapbox\":[{\"marker\":{\"colorbar\":{\"outlinewidth\":0,\"ticks\":\"\"}},\"type\":\"scattermapbox\"}],\"scatterpolar\":[{\"marker\":{\"colorbar\":{\"outlinewidth\":0,\"ticks\":\"\"}},\"type\":\"scatterpolar\"}],\"scatterpolargl\":[{\"marker\":{\"colorbar\":{\"outlinewidth\":0,\"ticks\":\"\"}},\"type\":\"scatterpolargl\"}],\"scatterternary\":[{\"marker\":{\"colorbar\":{\"outlinewidth\":0,\"ticks\":\"\"}},\"type\":\"scatterternary\"}],\"surface\":[{\"colorbar\":{\"outlinewidth\":0,\"ticks\":\"\"},\"colorscale\":[[0.0,\"#0d0887\"],[0.1111111111111111,\"#46039f\"],[0.2222222222222222,\"#7201a8\"],[0.3333333333333333,\"#9c179e\"],[0.4444444444444444,\"#bd3786\"],[0.5555555555555556,\"#d8576b\"],[0.6666666666666666,\"#ed7953\"],[0.7777777777777778,\"#fb9f3a\"],[0.8888888888888888,\"#fdca26\"],[1.0,\"#f0f921\"]],\"type\":\"surface\"}],\"table\":[{\"cells\":{\"fill\":{\"color\":\"#EBF0F8\"},\"line\":{\"color\":\"white\"}},\"header\":{\"fill\":{\"color\":\"#C8D4E3\"},\"line\":{\"color\":\"white\"}},\"type\":\"table\"}]},\"layout\":{\"annotationdefaults\":{\"arrowcolor\":\"#2a3f5f\",\"arrowhead\":0,\"arrowwidth\":1},\"autotypenumbers\":\"strict\",\"coloraxis\":{\"colorbar\":{\"outlinewidth\":0,\"ticks\":\"\"}},\"colorscale\":{\"diverging\":[[0,\"#8e0152\"],[0.1,\"#c51b7d\"],[0.2,\"#de77ae\"],[0.3,\"#f1b6da\"],[0.4,\"#fde0ef\"],[0.5,\"#f7f7f7\"],[0.6,\"#e6f5d0\"],[0.7,\"#b8e186\"],[0.8,\"#7fbc41\"],[0.9,\"#4d9221\"],[1,\"#276419\"]],\"sequential\":[[0.0,\"#0d0887\"],[0.1111111111111111,\"#46039f\"],[0.2222222222222222,\"#7201a8\"],[0.3333333333333333,\"#9c179e\"],[0.4444444444444444,\"#bd3786\"],[0.5555555555555556,\"#d8576b\"],[0.6666666666666666,\"#ed7953\"],[0.7777777777777778,\"#fb9f3a\"],[0.8888888888888888,\"#fdca26\"],[1.0,\"#f0f921\"]],\"sequentialminus\":[[0.0,\"#0d0887\"],[0.1111111111111111,\"#46039f\"],[0.2222222222222222,\"#7201a8\"],[0.3333333333333333,\"#9c179e\"],[0.4444444444444444,\"#bd3786\"],[0.5555555555555556,\"#d8576b\"],[0.6666666666666666,\"#ed7953\"],[0.7777777777777778,\"#fb9f3a\"],[0.8888888888888888,\"#fdca26\"],[1.0,\"#f0f921\"]]},\"colorway\":[\"#636efa\",\"#EF553B\",\"#00cc96\",\"#ab63fa\",\"#FFA15A\",\"#19d3f3\",\"#FF6692\",\"#B6E880\",\"#FF97FF\",\"#FECB52\"],\"font\":{\"color\":\"#2a3f5f\"},\"geo\":{\"bgcolor\":\"white\",\"lakecolor\":\"white\",\"landcolor\":\"#E5ECF6\",\"showlakes\":true,\"showland\":true,\"subunitcolor\":\"white\"},\"hoverlabel\":{\"align\":\"left\"},\"hovermode\":\"closest\",\"mapbox\":{\"style\":\"light\"},\"paper_bgcolor\":\"white\",\"plot_bgcolor\":\"#E5ECF6\",\"polar\":{\"angularaxis\":{\"gridcolor\":\"white\",\"linecolor\":\"white\",\"ticks\":\"\"},\"bgcolor\":\"#E5ECF6\",\"radialaxis\":{\"gridcolor\":\"white\",\"linecolor\":\"white\",\"ticks\":\"\"}},\"scene\":{\"xaxis\":{\"backgroundcolor\":\"#E5ECF6\",\"gridcolor\":\"white\",\"gridwidth\":2,\"linecolor\":\"white\",\"showbackground\":true,\"ticks\":\"\",\"zerolinecolor\":\"white\"},\"yaxis\":{\"backgroundcolor\":\"#E5ECF6\",\"gridcolor\":\"white\",\"gridwidth\":2,\"linecolor\":\"white\",\"showbackground\":true,\"ticks\":\"\",\"zerolinecolor\":\"white\"},\"zaxis\":{\"backgroundcolor\":\"#E5ECF6\",\"gridcolor\":\"white\",\"gridwidth\":2,\"linecolor\":\"white\",\"showbackground\":true,\"ticks\":\"\",\"zerolinecolor\":\"white\"}},\"shapedefaults\":{\"line\":{\"color\":\"#2a3f5f\"}},\"ternary\":{\"aaxis\":{\"gridcolor\":\"white\",\"linecolor\":\"white\",\"ticks\":\"\"},\"baxis\":{\"gridcolor\":\"white\",\"linecolor\":\"white\",\"ticks\":\"\"},\"bgcolor\":\"#E5ECF6\",\"caxis\":{\"gridcolor\":\"white\",\"linecolor\":\"white\",\"ticks\":\"\"}},\"title\":{\"x\":0.05},\"xaxis\":{\"automargin\":true,\"gridcolor\":\"white\",\"linecolor\":\"white\",\"ticks\":\"\",\"title\":{\"standoff\":15},\"zerolinecolor\":\"white\",\"zerolinewidth\":2},\"yaxis\":{\"automargin\":true,\"gridcolor\":\"white\",\"linecolor\":\"white\",\"ticks\":\"\",\"title\":{\"standoff\":15},\"zerolinecolor\":\"white\",\"zerolinewidth\":2}}},\"xaxis\":{\"anchor\":\"y\",\"domain\":[0.0,1.0],\"title\":{\"text\":\"Variables\"}},\"yaxis\":{\"anchor\":\"x\",\"domain\":[0.0,1.0],\"title\":{\"text\":\"Estimated VIP\"}},\"legend\":{\"tracegroupgap\":0},\"title\":{\"text\":\"VIP scores of PLS model\"},\"barmode\":\"relative\",\"shapes\":[{\"type\":\"line\",\"x0\":0,\"x1\":1,\"xref\":\"x domain\",\"y0\":1,\"y1\":1,\"yref\":\"y\"}]},                        {\"responsive\": true}                    ).then(function(){\n",
              "                            \n",
              "var gd = document.getElementById('223a3c0a-ffbd-4e78-a03d-202e49d4e936');\n",
              "var x = new MutationObserver(function (mutations, observer) {{\n",
              "        var display = window.getComputedStyle(gd).display;\n",
              "        if (!display || display === 'none') {{\n",
              "            console.log([gd, 'removed!']);\n",
              "            Plotly.purge(gd);\n",
              "            observer.disconnect();\n",
              "        }}\n",
              "}});\n",
              "\n",
              "// Listen for the removal of the full notebook cells\n",
              "var notebookContainer = gd.closest('#notebook-container');\n",
              "if (notebookContainer) {{\n",
              "    x.observe(notebookContainer, {childList: true});\n",
              "}}\n",
              "\n",
              "// Listen for the clearing of the current output cell\n",
              "var outputEl = gd.closest('.output');\n",
              "if (outputEl) {{\n",
              "    x.observe(outputEl, {childList: true});\n",
              "}}\n",
              "\n",
              "                        })                };                            </script>        </div>\n",
              "</body>\n",
              "</html>"
            ]
          },
          "metadata": {}
        }
      ]
    },
    {
      "cell_type": "markdown",
      "source": [
        "### Evaluate model on train and test set\n"
      ],
      "metadata": {
        "id": "0dR7w0nmJvud"
      }
    },
    {
      "cell_type": "code",
      "source": [
        "# Make predictions\n",
        "yhat = pipe.predict(X)\n",
        "X_test = doe_test\n",
        "y_test = tar_test\n",
        "yhat_test = pipe.predict(X_test)\n",
        "\n",
        "# Calculate error metrics\n",
        "train_r2 = round(pipe.score(X,y),3)\n",
        "train_abs_rmse = round(mean_squared_error(y, yhat,squared=False),3)\n",
        "train_rel_rmse = round(mean_squared_error(y, yhat,squared=False) / np.std(np.array(y)),3)\n",
        "test_r2 = round(pipe.score(X_test,y_test),3)\n",
        "test_abs_rmse = round(mean_squared_error(y_test, yhat_test,squared=False),3)\n",
        "test_rel_rmse = round(mean_squared_error(y_test, yhat_test,squared=False) / np.std(np.array(y_test)),3)\n",
        "\n",
        "# Plot observed vs predicted\n",
        "fig = make_subplots(rows=1, cols=2, subplot_titles=(\n",
        "    f\"Train Set <br> R^2 = {train_r2} <br> Abs RMSE = {train_abs_rmse} <br> Rel RMSE = {train_rel_rmse}\" ,\n",
        "    f\"Test Set <br> R^2 = {test_r2} <br> Abs RMSE = {test_abs_rmse} <br> Rel RMSE = {test_rel_rmse}\"))\n",
        "# Train set plot\n",
        "fig.add_trace(go.Scatter(x=y.values.reshape(-1),y=yhat.reshape(-1),mode=\"markers\"),row=1,col=1)\n",
        "fig.add_shape(type=\"line\",x0=min(yhat)[0],y0=min(yhat)[0],x1=max(yhat)[0],y1=max(yhat)[0], layer='below', line=dict(dash='dash'))\n",
        "# Test set plot\n",
        "fig.add_trace(go.Scatter(x=y_test.values.reshape(-1),y=yhat_test.reshape(-1),mode=\"markers\"),row=1,col=2)\n",
        "fig.add_shape(type=\"line\",x0=min(yhat_test)[0],y0=min(yhat_test)[0],x1=max(yhat_test)[0],y1=max(yhat_test)[0], layer='below', line=dict(dash='dash'),row=1,col=2)\n",
        "fig.update_layout(title_text = \"Observed vs Predicted\")\n",
        "fig.show()\n"
      ],
      "metadata": {
        "colab": {
          "base_uri": "https://localhost:8080/",
          "height": 542
        },
        "id": "uuBJFKDWMFAh",
        "outputId": "d1a19e33-31d7-41bc-f4cc-66ed32b0bba6"
      },
      "execution_count": 113,
      "outputs": [
        {
          "output_type": "display_data",
          "data": {
            "text/html": [
              "<html>\n",
              "<head><meta charset=\"utf-8\" /></head>\n",
              "<body>\n",
              "    <div>            <script src=\"https://cdnjs.cloudflare.com/ajax/libs/mathjax/2.7.5/MathJax.js?config=TeX-AMS-MML_SVG\"></script><script type=\"text/javascript\">if (window.MathJax) {MathJax.Hub.Config({SVG: {font: \"STIX-Web\"}});}</script>                <script type=\"text/javascript\">window.PlotlyConfig = {MathJaxConfig: 'local'};</script>\n",
              "        <script src=\"https://cdn.plot.ly/plotly-2.8.3.min.js\"></script>                <div id=\"d3db6586-8f30-4a82-9c3e-5cd5a3875a0f\" class=\"plotly-graph-div\" style=\"height:525px; width:100%;\"></div>            <script type=\"text/javascript\">                                    window.PLOTLYENV=window.PLOTLYENV || {};                                    if (document.getElementById(\"d3db6586-8f30-4a82-9c3e-5cd5a3875a0f\")) {                    Plotly.newPlot(                        \"d3db6586-8f30-4a82-9c3e-5cd5a3875a0f\",                        [{\"mode\":\"markers\",\"x\":[1565.3100316152315,854.4492329290191,1206.0966547089297,1587.9375363361153,811.5529901913034,841.4987076939608,645.8652400020387,978.3211904574658,1026.2593627477372,1307.3427908630745,1034.0873731742636,1268.3772140122305,1489.9274823809976,1519.9915046105887,1329.31439655397,1431.0248922870994,1566.2144147333108,1438.4509323399373,829.9221681206134,705.0060621997021,1432.1650836978292,188.37323461354003,1498.950979086217,920.6159834819938,1489.455399004581,1236.0520625432987,1323.9958683550722,1490.703545196068,1317.71949505948,1463.7461925349555,645.6194533195517,518.6891441332469,1508.020685458528,681.9077197106743,643.2530983456666,1171.9226021898683,1526.8075977874203,710.1789864596954,547.0659967970258,1239.099546696681,1275.603243989509,1516.3836910289606,1472.959836115183,1561.4366964617066,895.4073430723885,1139.0681753517283,1424.484489881591,1464.164972241741,639.5435764295627,1297.0316324502526],\"y\":[1371.730750728817,952.079348667275,1094.0745200379763,1602.4839964010066,1040.8526605291274,1204.6225476608715,676.2648908752765,965.0140815918758,1027.6265650425196,1283.5760362652277,1030.9203572694398,1365.9894561395504,1445.97024690799,1557.702701718233,1253.2137357515292,1421.6007706893138,1609.380006619007,1605.9797009688816,1042.0008373525975,763.3532906997066,1391.9420305623194,115.61444887955076,1380.8952681428757,923.0420712602975,1494.944458634291,1101.6748733142804,1343.9597532510243,1352.7519511913329,1277.2839516683043,1446.2674133737976,528.7196537027289,356.4588917160837,1661.6667652270264,644.9065263919963,606.701142275954,1181.3115837493676,1370.5258943774038,822.9157869429142,793.4617210174099,1220.0155631406792,1266.8988434026287,1328.1113456221974,1405.9546616374132,1499.3920492267348,1062.345727615418,1193.1332977507536,1230.723551590552,1350.929732699409,730.0885319432098,1280.3025172274324],\"type\":\"scatter\",\"xaxis\":\"x\",\"yaxis\":\"y\"},{\"mode\":\"markers\",\"x\":[1486.555322665747,852.5421510506708,1553.3693013236993,1561.6944741051122,1561.9285093830367,1555.5990575252915,664.6187798777727,1588.1477685622356,1573.9990705283894,1393.0710551474324,1585.7304206956908,1534.768930546699,1586.8676827848133,1120.6204607891566,967.4138303905323,1581.2252660009826,1521.0375916532755,1255.2700326269191,1504.894937980849,728.3175492673013,1127.481659231358,1037.3529483901104,1153.1684886467415,1599.395719266287,1373.3875240676539,1588.972941246536,1397.182482338,1586.1796600561468,1268.1596010497083,1579.9184591007336,777.916772007101,1461.5586797240042,1318.0550040408075,1513.53945930146,678.9881062945203,920.6098404000459,1242.4469308698558,797.4025653838119,1418.0496260461455,1205.021737650426,1154.9710813250379,1360.312718950821,1101.630950463139,1504.347905209396,799.6625192661403,1530.773728116675,1419.8835249141798,1564.0148293057987,1562.1980325113516,1049.7026566235018],\"y\":[1341.0684519017348,1035.6432947920625,1331.7291713920092,1423.6478516905831,1265.8236072298678,1341.5924426925733,737.4359759511306,1328.8687394980934,1406.175171406487,1172.9069361640063,1339.5622178485744,1357.7862393799867,1433.9976555671533,1433.2363688259547,1178.7751564466828,1530.4045800062386,1476.8097852621347,1555.9226923377441,1298.0761207567243,834.4586231972057,1261.4487905345964,1023.8594416759396,1167.1132896698539,1464.8672310333413,1448.6293059875063,1482.2237575976367,1303.0538435677977,1418.3049429764349,1126.8069228824043,1401.2893304289128,779.1278022130728,1223.300447546852,1461.8657377540098,1334.171869956819,733.1973531545741,1143.8037628960408,1330.998904480322,972.2328806362477,1222.1011115795864,1276.091943271383,1344.4195192438847,1279.414044347405,1268.5273676894858,1395.4449361079937,1008.3707219598841,1200.3273812106186,1168.373390845238,1349.3517111384103,1248.9909620461108,1255.8537633477408],\"type\":\"scatter\",\"xaxis\":\"x2\",\"yaxis\":\"y2\"}],                        {\"template\":{\"data\":{\"bar\":[{\"error_x\":{\"color\":\"#2a3f5f\"},\"error_y\":{\"color\":\"#2a3f5f\"},\"marker\":{\"line\":{\"color\":\"#E5ECF6\",\"width\":0.5},\"pattern\":{\"fillmode\":\"overlay\",\"size\":10,\"solidity\":0.2}},\"type\":\"bar\"}],\"barpolar\":[{\"marker\":{\"line\":{\"color\":\"#E5ECF6\",\"width\":0.5},\"pattern\":{\"fillmode\":\"overlay\",\"size\":10,\"solidity\":0.2}},\"type\":\"barpolar\"}],\"carpet\":[{\"aaxis\":{\"endlinecolor\":\"#2a3f5f\",\"gridcolor\":\"white\",\"linecolor\":\"white\",\"minorgridcolor\":\"white\",\"startlinecolor\":\"#2a3f5f\"},\"baxis\":{\"endlinecolor\":\"#2a3f5f\",\"gridcolor\":\"white\",\"linecolor\":\"white\",\"minorgridcolor\":\"white\",\"startlinecolor\":\"#2a3f5f\"},\"type\":\"carpet\"}],\"choropleth\":[{\"colorbar\":{\"outlinewidth\":0,\"ticks\":\"\"},\"type\":\"choropleth\"}],\"contour\":[{\"colorbar\":{\"outlinewidth\":0,\"ticks\":\"\"},\"colorscale\":[[0.0,\"#0d0887\"],[0.1111111111111111,\"#46039f\"],[0.2222222222222222,\"#7201a8\"],[0.3333333333333333,\"#9c179e\"],[0.4444444444444444,\"#bd3786\"],[0.5555555555555556,\"#d8576b\"],[0.6666666666666666,\"#ed7953\"],[0.7777777777777778,\"#fb9f3a\"],[0.8888888888888888,\"#fdca26\"],[1.0,\"#f0f921\"]],\"type\":\"contour\"}],\"contourcarpet\":[{\"colorbar\":{\"outlinewidth\":0,\"ticks\":\"\"},\"type\":\"contourcarpet\"}],\"heatmap\":[{\"colorbar\":{\"outlinewidth\":0,\"ticks\":\"\"},\"colorscale\":[[0.0,\"#0d0887\"],[0.1111111111111111,\"#46039f\"],[0.2222222222222222,\"#7201a8\"],[0.3333333333333333,\"#9c179e\"],[0.4444444444444444,\"#bd3786\"],[0.5555555555555556,\"#d8576b\"],[0.6666666666666666,\"#ed7953\"],[0.7777777777777778,\"#fb9f3a\"],[0.8888888888888888,\"#fdca26\"],[1.0,\"#f0f921\"]],\"type\":\"heatmap\"}],\"heatmapgl\":[{\"colorbar\":{\"outlinewidth\":0,\"ticks\":\"\"},\"colorscale\":[[0.0,\"#0d0887\"],[0.1111111111111111,\"#46039f\"],[0.2222222222222222,\"#7201a8\"],[0.3333333333333333,\"#9c179e\"],[0.4444444444444444,\"#bd3786\"],[0.5555555555555556,\"#d8576b\"],[0.6666666666666666,\"#ed7953\"],[0.7777777777777778,\"#fb9f3a\"],[0.8888888888888888,\"#fdca26\"],[1.0,\"#f0f921\"]],\"type\":\"heatmapgl\"}],\"histogram\":[{\"marker\":{\"pattern\":{\"fillmode\":\"overlay\",\"size\":10,\"solidity\":0.2}},\"type\":\"histogram\"}],\"histogram2d\":[{\"colorbar\":{\"outlinewidth\":0,\"ticks\":\"\"},\"colorscale\":[[0.0,\"#0d0887\"],[0.1111111111111111,\"#46039f\"],[0.2222222222222222,\"#7201a8\"],[0.3333333333333333,\"#9c179e\"],[0.4444444444444444,\"#bd3786\"],[0.5555555555555556,\"#d8576b\"],[0.6666666666666666,\"#ed7953\"],[0.7777777777777778,\"#fb9f3a\"],[0.8888888888888888,\"#fdca26\"],[1.0,\"#f0f921\"]],\"type\":\"histogram2d\"}],\"histogram2dcontour\":[{\"colorbar\":{\"outlinewidth\":0,\"ticks\":\"\"},\"colorscale\":[[0.0,\"#0d0887\"],[0.1111111111111111,\"#46039f\"],[0.2222222222222222,\"#7201a8\"],[0.3333333333333333,\"#9c179e\"],[0.4444444444444444,\"#bd3786\"],[0.5555555555555556,\"#d8576b\"],[0.6666666666666666,\"#ed7953\"],[0.7777777777777778,\"#fb9f3a\"],[0.8888888888888888,\"#fdca26\"],[1.0,\"#f0f921\"]],\"type\":\"histogram2dcontour\"}],\"mesh3d\":[{\"colorbar\":{\"outlinewidth\":0,\"ticks\":\"\"},\"type\":\"mesh3d\"}],\"parcoords\":[{\"line\":{\"colorbar\":{\"outlinewidth\":0,\"ticks\":\"\"}},\"type\":\"parcoords\"}],\"pie\":[{\"automargin\":true,\"type\":\"pie\"}],\"scatter\":[{\"marker\":{\"colorbar\":{\"outlinewidth\":0,\"ticks\":\"\"}},\"type\":\"scatter\"}],\"scatter3d\":[{\"line\":{\"colorbar\":{\"outlinewidth\":0,\"ticks\":\"\"}},\"marker\":{\"colorbar\":{\"outlinewidth\":0,\"ticks\":\"\"}},\"type\":\"scatter3d\"}],\"scattercarpet\":[{\"marker\":{\"colorbar\":{\"outlinewidth\":0,\"ticks\":\"\"}},\"type\":\"scattercarpet\"}],\"scattergeo\":[{\"marker\":{\"colorbar\":{\"outlinewidth\":0,\"ticks\":\"\"}},\"type\":\"scattergeo\"}],\"scattergl\":[{\"marker\":{\"colorbar\":{\"outlinewidth\":0,\"ticks\":\"\"}},\"type\":\"scattergl\"}],\"scattermapbox\":[{\"marker\":{\"colorbar\":{\"outlinewidth\":0,\"ticks\":\"\"}},\"type\":\"scattermapbox\"}],\"scatterpolar\":[{\"marker\":{\"colorbar\":{\"outlinewidth\":0,\"ticks\":\"\"}},\"type\":\"scatterpolar\"}],\"scatterpolargl\":[{\"marker\":{\"colorbar\":{\"outlinewidth\":0,\"ticks\":\"\"}},\"type\":\"scatterpolargl\"}],\"scatterternary\":[{\"marker\":{\"colorbar\":{\"outlinewidth\":0,\"ticks\":\"\"}},\"type\":\"scatterternary\"}],\"surface\":[{\"colorbar\":{\"outlinewidth\":0,\"ticks\":\"\"},\"colorscale\":[[0.0,\"#0d0887\"],[0.1111111111111111,\"#46039f\"],[0.2222222222222222,\"#7201a8\"],[0.3333333333333333,\"#9c179e\"],[0.4444444444444444,\"#bd3786\"],[0.5555555555555556,\"#d8576b\"],[0.6666666666666666,\"#ed7953\"],[0.7777777777777778,\"#fb9f3a\"],[0.8888888888888888,\"#fdca26\"],[1.0,\"#f0f921\"]],\"type\":\"surface\"}],\"table\":[{\"cells\":{\"fill\":{\"color\":\"#EBF0F8\"},\"line\":{\"color\":\"white\"}},\"header\":{\"fill\":{\"color\":\"#C8D4E3\"},\"line\":{\"color\":\"white\"}},\"type\":\"table\"}]},\"layout\":{\"annotationdefaults\":{\"arrowcolor\":\"#2a3f5f\",\"arrowhead\":0,\"arrowwidth\":1},\"autotypenumbers\":\"strict\",\"coloraxis\":{\"colorbar\":{\"outlinewidth\":0,\"ticks\":\"\"}},\"colorscale\":{\"diverging\":[[0,\"#8e0152\"],[0.1,\"#c51b7d\"],[0.2,\"#de77ae\"],[0.3,\"#f1b6da\"],[0.4,\"#fde0ef\"],[0.5,\"#f7f7f7\"],[0.6,\"#e6f5d0\"],[0.7,\"#b8e186\"],[0.8,\"#7fbc41\"],[0.9,\"#4d9221\"],[1,\"#276419\"]],\"sequential\":[[0.0,\"#0d0887\"],[0.1111111111111111,\"#46039f\"],[0.2222222222222222,\"#7201a8\"],[0.3333333333333333,\"#9c179e\"],[0.4444444444444444,\"#bd3786\"],[0.5555555555555556,\"#d8576b\"],[0.6666666666666666,\"#ed7953\"],[0.7777777777777778,\"#fb9f3a\"],[0.8888888888888888,\"#fdca26\"],[1.0,\"#f0f921\"]],\"sequentialminus\":[[0.0,\"#0d0887\"],[0.1111111111111111,\"#46039f\"],[0.2222222222222222,\"#7201a8\"],[0.3333333333333333,\"#9c179e\"],[0.4444444444444444,\"#bd3786\"],[0.5555555555555556,\"#d8576b\"],[0.6666666666666666,\"#ed7953\"],[0.7777777777777778,\"#fb9f3a\"],[0.8888888888888888,\"#fdca26\"],[1.0,\"#f0f921\"]]},\"colorway\":[\"#636efa\",\"#EF553B\",\"#00cc96\",\"#ab63fa\",\"#FFA15A\",\"#19d3f3\",\"#FF6692\",\"#B6E880\",\"#FF97FF\",\"#FECB52\"],\"font\":{\"color\":\"#2a3f5f\"},\"geo\":{\"bgcolor\":\"white\",\"lakecolor\":\"white\",\"landcolor\":\"#E5ECF6\",\"showlakes\":true,\"showland\":true,\"subunitcolor\":\"white\"},\"hoverlabel\":{\"align\":\"left\"},\"hovermode\":\"closest\",\"mapbox\":{\"style\":\"light\"},\"paper_bgcolor\":\"white\",\"plot_bgcolor\":\"#E5ECF6\",\"polar\":{\"angularaxis\":{\"gridcolor\":\"white\",\"linecolor\":\"white\",\"ticks\":\"\"},\"bgcolor\":\"#E5ECF6\",\"radialaxis\":{\"gridcolor\":\"white\",\"linecolor\":\"white\",\"ticks\":\"\"}},\"scene\":{\"xaxis\":{\"backgroundcolor\":\"#E5ECF6\",\"gridcolor\":\"white\",\"gridwidth\":2,\"linecolor\":\"white\",\"showbackground\":true,\"ticks\":\"\",\"zerolinecolor\":\"white\"},\"yaxis\":{\"backgroundcolor\":\"#E5ECF6\",\"gridcolor\":\"white\",\"gridwidth\":2,\"linecolor\":\"white\",\"showbackground\":true,\"ticks\":\"\",\"zerolinecolor\":\"white\"},\"zaxis\":{\"backgroundcolor\":\"#E5ECF6\",\"gridcolor\":\"white\",\"gridwidth\":2,\"linecolor\":\"white\",\"showbackground\":true,\"ticks\":\"\",\"zerolinecolor\":\"white\"}},\"shapedefaults\":{\"line\":{\"color\":\"#2a3f5f\"}},\"ternary\":{\"aaxis\":{\"gridcolor\":\"white\",\"linecolor\":\"white\",\"ticks\":\"\"},\"baxis\":{\"gridcolor\":\"white\",\"linecolor\":\"white\",\"ticks\":\"\"},\"bgcolor\":\"#E5ECF6\",\"caxis\":{\"gridcolor\":\"white\",\"linecolor\":\"white\",\"ticks\":\"\"}},\"title\":{\"x\":0.05},\"xaxis\":{\"automargin\":true,\"gridcolor\":\"white\",\"linecolor\":\"white\",\"ticks\":\"\",\"title\":{\"standoff\":15},\"zerolinecolor\":\"white\",\"zerolinewidth\":2},\"yaxis\":{\"automargin\":true,\"gridcolor\":\"white\",\"linecolor\":\"white\",\"ticks\":\"\",\"title\":{\"standoff\":15},\"zerolinecolor\":\"white\",\"zerolinewidth\":2}}},\"xaxis\":{\"anchor\":\"y\",\"domain\":[0.0,0.45]},\"yaxis\":{\"anchor\":\"x\",\"domain\":[0.0,1.0]},\"xaxis2\":{\"anchor\":\"y2\",\"domain\":[0.55,1.0]},\"yaxis2\":{\"anchor\":\"x2\",\"domain\":[0.0,1.0]},\"annotations\":[{\"font\":{\"size\":16},\"showarrow\":false,\"text\":\"Train Set <br> R^2 = 0.891 <br> Abs RMSE = 118.436 <br> Rel RMSE = 0.331\",\"x\":0.225,\"xanchor\":\"center\",\"xref\":\"paper\",\"y\":1.0,\"yanchor\":\"bottom\",\"yref\":\"paper\"},{\"font\":{\"size\":16},\"showarrow\":false,\"text\":\"Test Set <br> R^2 = 0.597 <br> Abs RMSE = 183.502 <br> Rel RMSE = 0.635\",\"x\":0.775,\"xanchor\":\"center\",\"xref\":\"paper\",\"y\":1.0,\"yanchor\":\"bottom\",\"yref\":\"paper\"}],\"shapes\":[{\"layer\":\"below\",\"line\":{\"dash\":\"dash\"},\"type\":\"line\",\"x0\":115.61444887955076,\"x1\":1661.6667652270264,\"y0\":115.61444887955076,\"y1\":1661.6667652270264},{\"layer\":\"below\",\"line\":{\"dash\":\"dash\"},\"type\":\"line\",\"x0\":733.1973531545741,\"x1\":1555.9226923377441,\"xref\":\"x2\",\"y0\":733.1973531545741,\"y1\":1555.9226923377441,\"yref\":\"y2\"}],\"title\":{\"text\":\"Observed vs Predicted\"}},                        {\"responsive\": true}                    ).then(function(){\n",
              "                            \n",
              "var gd = document.getElementById('d3db6586-8f30-4a82-9c3e-5cd5a3875a0f');\n",
              "var x = new MutationObserver(function (mutations, observer) {{\n",
              "        var display = window.getComputedStyle(gd).display;\n",
              "        if (!display || display === 'none') {{\n",
              "            console.log([gd, 'removed!']);\n",
              "            Plotly.purge(gd);\n",
              "            observer.disconnect();\n",
              "        }}\n",
              "}});\n",
              "\n",
              "// Listen for the removal of the full notebook cells\n",
              "var notebookContainer = gd.closest('#notebook-container');\n",
              "if (notebookContainer) {{\n",
              "    x.observe(notebookContainer, {childList: true});\n",
              "}}\n",
              "\n",
              "// Listen for the clearing of the current output cell\n",
              "var outputEl = gd.closest('.output');\n",
              "if (outputEl) {{\n",
              "    x.observe(outputEl, {childList: true});\n",
              "}}\n",
              "\n",
              "                        })                };                            </script>        </div>\n",
              "</body>\n",
              "</html>"
            ]
          },
          "metadata": {}
        }
      ]
    },
    {
      "cell_type": "code",
      "source": [
        "\"\"\" Principal component on x-axis and y-axis \"\"\"\n",
        "PC_X_AXIS = 1\n",
        "PC_Y_AXIS = 2"
      ],
      "metadata": {
        "id": "9vzQgQ8bLjFP"
      },
      "execution_count": 114,
      "outputs": []
    },
    {
      "cell_type": "code",
      "source": [
        "# Plot loadings\n",
        "loadings = pls_model.x_loadings_\n",
        "fig = px.scatter(x=pls_model.x_scores_[:,PC_X_AXIS-1],y=pls_model.x_scores_[:,PC_Y_AXIS-1], title=\"PLS Score and loadings plot\",labels={'x':\"PC - \"+ str(PC_X_AXIS) , 'y':\"PC - \"+ str(PC_Y_AXIS)})\n",
        "for i, feature in enumerate(doe.columns):\n",
        "    fig.add_shape(type='line', x0=0, y0=0, x1=loadings[i,PC_X_AXIS-1], y1=loadings[i,PC_Y_AXIS-1])\n",
        "    fig.add_annotation(x=loadings[i,PC_X_AXIS-1], y=loadings[i,PC_Y_AXIS-1], ax=0, ay=0, xanchor=\"center\", yanchor=\"bottom\", text=feature)\n",
        "fig.show()"
      ],
      "metadata": {
        "colab": {
          "base_uri": "https://localhost:8080/",
          "height": 542
        },
        "id": "4oVufG1OF79g",
        "outputId": "67a4b5f7-5e5b-483b-eb7e-3c80bf5d1d23"
      },
      "execution_count": 115,
      "outputs": [
        {
          "output_type": "display_data",
          "data": {
            "text/html": [
              "<html>\n",
              "<head><meta charset=\"utf-8\" /></head>\n",
              "<body>\n",
              "    <div>            <script src=\"https://cdnjs.cloudflare.com/ajax/libs/mathjax/2.7.5/MathJax.js?config=TeX-AMS-MML_SVG\"></script><script type=\"text/javascript\">if (window.MathJax) {MathJax.Hub.Config({SVG: {font: \"STIX-Web\"}});}</script>                <script type=\"text/javascript\">window.PlotlyConfig = {MathJaxConfig: 'local'};</script>\n",
              "        <script src=\"https://cdn.plot.ly/plotly-2.8.3.min.js\"></script>                <div id=\"f65f5b9b-0f2d-44cb-96ba-2c972a6354e3\" class=\"plotly-graph-div\" style=\"height:525px; width:100%;\"></div>            <script type=\"text/javascript\">                                    window.PLOTLYENV=window.PLOTLYENV || {};                                    if (document.getElementById(\"f65f5b9b-0f2d-44cb-96ba-2c972a6354e3\")) {                    Plotly.newPlot(                        \"f65f5b9b-0f2d-44cb-96ba-2c972a6354e3\",                        [{\"hovertemplate\":\"PC - 1=%{x}<br>PC - 2=%{y}<extra></extra>\",\"legendgroup\":\"\",\"marker\":{\"color\":\"#636efa\",\"symbol\":\"circle\"},\"mode\":\"markers\",\"name\":\"\",\"orientation\":\"v\",\"showlegend\":false,\"x\":[-0.16216084996953412,-0.8647589520035857,-2.2278485778959887,2.896329789526951,-3.6722006291005105,-0.9800960955972082,0.4581457720988043,-1.20395554918974,-1.4531174763971184,-2.0735949055874503,-2.20029604071191,-0.11565002251273282,1.9996409290278425,-0.16345670544521998,0.07577881390297836,2.1088043146828572,3.401936900863714,0.20103786798182616,-1.5750970667215105,3.3893657346610926,0.6711565340351198,-5.464983998941202,2.6309048732228617,-1.2575723633644964,2.0030355687790045,0.2307656400077019,-3.6993998632136,3.88075264569777,0.23733848604424318,0.7582907730938688,-4.110147800635877,-1.7048685584420398,7.071327443465712,-1.5804002396861891,0.6480711570357012,1.2917618514893663,-1.6916292832913378,3.6125089077274004,-3.3198940566441966,2.3722185965354767,-1.2276716286094702,-1.5368311833039194,1.3113479734975098,5.481612482687237,-0.33423214314933575,-1.7850384214123063,-1.9869165358111547,1.5867052715449563,-0.9249267528912812,-1.0020926270810806],\"xaxis\":\"x\",\"y\":[-0.0699396940540686,-0.24653461412480016,-0.5988073955952907,1.087868058169553,0.07115576883887931,0.08142836040554252,3.5988555556889175,1.0853850271019354,-2.382192614854744,0.851095175833462,-0.42701031679436957,-1.1919451115542021,-0.3505729534495595,-0.6082445249581353,1.5461211643913557,-2.3195946914104706,-1.247849144536636,-2.5414182342679124,1.1847499755215214,2.694320881336812,0.5010800081002864,0.6825902883872973,2.5915062061317435,-2.1995119056554113,-1.9633470688937558,-2.174849602669795,-0.8855490608770499,-0.9128782537699741,1.7330004342312786,0.9236042390613973,1.2704558050258292,-1.3142597931179072,-0.9708433302542856,-1.9309697283851945,2.7210797670935536,1.8941563865924818,-0.48696217182267626,-0.5449482543045236,0.37132303612066736,-2.4806938784790233,-2.449581240469481,-0.022508336365267778,1.401231717407701,0.43500794046326097,2.2110215364214216,1.3900497865277603,0.9742963906239626,0.21792336688304914,-0.34485010639285846,-0.8534448493022766],\"yaxis\":\"y\",\"type\":\"scatter\"}],                        {\"template\":{\"data\":{\"bar\":[{\"error_x\":{\"color\":\"#2a3f5f\"},\"error_y\":{\"color\":\"#2a3f5f\"},\"marker\":{\"line\":{\"color\":\"#E5ECF6\",\"width\":0.5},\"pattern\":{\"fillmode\":\"overlay\",\"size\":10,\"solidity\":0.2}},\"type\":\"bar\"}],\"barpolar\":[{\"marker\":{\"line\":{\"color\":\"#E5ECF6\",\"width\":0.5},\"pattern\":{\"fillmode\":\"overlay\",\"size\":10,\"solidity\":0.2}},\"type\":\"barpolar\"}],\"carpet\":[{\"aaxis\":{\"endlinecolor\":\"#2a3f5f\",\"gridcolor\":\"white\",\"linecolor\":\"white\",\"minorgridcolor\":\"white\",\"startlinecolor\":\"#2a3f5f\"},\"baxis\":{\"endlinecolor\":\"#2a3f5f\",\"gridcolor\":\"white\",\"linecolor\":\"white\",\"minorgridcolor\":\"white\",\"startlinecolor\":\"#2a3f5f\"},\"type\":\"carpet\"}],\"choropleth\":[{\"colorbar\":{\"outlinewidth\":0,\"ticks\":\"\"},\"type\":\"choropleth\"}],\"contour\":[{\"colorbar\":{\"outlinewidth\":0,\"ticks\":\"\"},\"colorscale\":[[0.0,\"#0d0887\"],[0.1111111111111111,\"#46039f\"],[0.2222222222222222,\"#7201a8\"],[0.3333333333333333,\"#9c179e\"],[0.4444444444444444,\"#bd3786\"],[0.5555555555555556,\"#d8576b\"],[0.6666666666666666,\"#ed7953\"],[0.7777777777777778,\"#fb9f3a\"],[0.8888888888888888,\"#fdca26\"],[1.0,\"#f0f921\"]],\"type\":\"contour\"}],\"contourcarpet\":[{\"colorbar\":{\"outlinewidth\":0,\"ticks\":\"\"},\"type\":\"contourcarpet\"}],\"heatmap\":[{\"colorbar\":{\"outlinewidth\":0,\"ticks\":\"\"},\"colorscale\":[[0.0,\"#0d0887\"],[0.1111111111111111,\"#46039f\"],[0.2222222222222222,\"#7201a8\"],[0.3333333333333333,\"#9c179e\"],[0.4444444444444444,\"#bd3786\"],[0.5555555555555556,\"#d8576b\"],[0.6666666666666666,\"#ed7953\"],[0.7777777777777778,\"#fb9f3a\"],[0.8888888888888888,\"#fdca26\"],[1.0,\"#f0f921\"]],\"type\":\"heatmap\"}],\"heatmapgl\":[{\"colorbar\":{\"outlinewidth\":0,\"ticks\":\"\"},\"colorscale\":[[0.0,\"#0d0887\"],[0.1111111111111111,\"#46039f\"],[0.2222222222222222,\"#7201a8\"],[0.3333333333333333,\"#9c179e\"],[0.4444444444444444,\"#bd3786\"],[0.5555555555555556,\"#d8576b\"],[0.6666666666666666,\"#ed7953\"],[0.7777777777777778,\"#fb9f3a\"],[0.8888888888888888,\"#fdca26\"],[1.0,\"#f0f921\"]],\"type\":\"heatmapgl\"}],\"histogram\":[{\"marker\":{\"pattern\":{\"fillmode\":\"overlay\",\"size\":10,\"solidity\":0.2}},\"type\":\"histogram\"}],\"histogram2d\":[{\"colorbar\":{\"outlinewidth\":0,\"ticks\":\"\"},\"colorscale\":[[0.0,\"#0d0887\"],[0.1111111111111111,\"#46039f\"],[0.2222222222222222,\"#7201a8\"],[0.3333333333333333,\"#9c179e\"],[0.4444444444444444,\"#bd3786\"],[0.5555555555555556,\"#d8576b\"],[0.6666666666666666,\"#ed7953\"],[0.7777777777777778,\"#fb9f3a\"],[0.8888888888888888,\"#fdca26\"],[1.0,\"#f0f921\"]],\"type\":\"histogram2d\"}],\"histogram2dcontour\":[{\"colorbar\":{\"outlinewidth\":0,\"ticks\":\"\"},\"colorscale\":[[0.0,\"#0d0887\"],[0.1111111111111111,\"#46039f\"],[0.2222222222222222,\"#7201a8\"],[0.3333333333333333,\"#9c179e\"],[0.4444444444444444,\"#bd3786\"],[0.5555555555555556,\"#d8576b\"],[0.6666666666666666,\"#ed7953\"],[0.7777777777777778,\"#fb9f3a\"],[0.8888888888888888,\"#fdca26\"],[1.0,\"#f0f921\"]],\"type\":\"histogram2dcontour\"}],\"mesh3d\":[{\"colorbar\":{\"outlinewidth\":0,\"ticks\":\"\"},\"type\":\"mesh3d\"}],\"parcoords\":[{\"line\":{\"colorbar\":{\"outlinewidth\":0,\"ticks\":\"\"}},\"type\":\"parcoords\"}],\"pie\":[{\"automargin\":true,\"type\":\"pie\"}],\"scatter\":[{\"marker\":{\"colorbar\":{\"outlinewidth\":0,\"ticks\":\"\"}},\"type\":\"scatter\"}],\"scatter3d\":[{\"line\":{\"colorbar\":{\"outlinewidth\":0,\"ticks\":\"\"}},\"marker\":{\"colorbar\":{\"outlinewidth\":0,\"ticks\":\"\"}},\"type\":\"scatter3d\"}],\"scattercarpet\":[{\"marker\":{\"colorbar\":{\"outlinewidth\":0,\"ticks\":\"\"}},\"type\":\"scattercarpet\"}],\"scattergeo\":[{\"marker\":{\"colorbar\":{\"outlinewidth\":0,\"ticks\":\"\"}},\"type\":\"scattergeo\"}],\"scattergl\":[{\"marker\":{\"colorbar\":{\"outlinewidth\":0,\"ticks\":\"\"}},\"type\":\"scattergl\"}],\"scattermapbox\":[{\"marker\":{\"colorbar\":{\"outlinewidth\":0,\"ticks\":\"\"}},\"type\":\"scattermapbox\"}],\"scatterpolar\":[{\"marker\":{\"colorbar\":{\"outlinewidth\":0,\"ticks\":\"\"}},\"type\":\"scatterpolar\"}],\"scatterpolargl\":[{\"marker\":{\"colorbar\":{\"outlinewidth\":0,\"ticks\":\"\"}},\"type\":\"scatterpolargl\"}],\"scatterternary\":[{\"marker\":{\"colorbar\":{\"outlinewidth\":0,\"ticks\":\"\"}},\"type\":\"scatterternary\"}],\"surface\":[{\"colorbar\":{\"outlinewidth\":0,\"ticks\":\"\"},\"colorscale\":[[0.0,\"#0d0887\"],[0.1111111111111111,\"#46039f\"],[0.2222222222222222,\"#7201a8\"],[0.3333333333333333,\"#9c179e\"],[0.4444444444444444,\"#bd3786\"],[0.5555555555555556,\"#d8576b\"],[0.6666666666666666,\"#ed7953\"],[0.7777777777777778,\"#fb9f3a\"],[0.8888888888888888,\"#fdca26\"],[1.0,\"#f0f921\"]],\"type\":\"surface\"}],\"table\":[{\"cells\":{\"fill\":{\"color\":\"#EBF0F8\"},\"line\":{\"color\":\"white\"}},\"header\":{\"fill\":{\"color\":\"#C8D4E3\"},\"line\":{\"color\":\"white\"}},\"type\":\"table\"}]},\"layout\":{\"annotationdefaults\":{\"arrowcolor\":\"#2a3f5f\",\"arrowhead\":0,\"arrowwidth\":1},\"autotypenumbers\":\"strict\",\"coloraxis\":{\"colorbar\":{\"outlinewidth\":0,\"ticks\":\"\"}},\"colorscale\":{\"diverging\":[[0,\"#8e0152\"],[0.1,\"#c51b7d\"],[0.2,\"#de77ae\"],[0.3,\"#f1b6da\"],[0.4,\"#fde0ef\"],[0.5,\"#f7f7f7\"],[0.6,\"#e6f5d0\"],[0.7,\"#b8e186\"],[0.8,\"#7fbc41\"],[0.9,\"#4d9221\"],[1,\"#276419\"]],\"sequential\":[[0.0,\"#0d0887\"],[0.1111111111111111,\"#46039f\"],[0.2222222222222222,\"#7201a8\"],[0.3333333333333333,\"#9c179e\"],[0.4444444444444444,\"#bd3786\"],[0.5555555555555556,\"#d8576b\"],[0.6666666666666666,\"#ed7953\"],[0.7777777777777778,\"#fb9f3a\"],[0.8888888888888888,\"#fdca26\"],[1.0,\"#f0f921\"]],\"sequentialminus\":[[0.0,\"#0d0887\"],[0.1111111111111111,\"#46039f\"],[0.2222222222222222,\"#7201a8\"],[0.3333333333333333,\"#9c179e\"],[0.4444444444444444,\"#bd3786\"],[0.5555555555555556,\"#d8576b\"],[0.6666666666666666,\"#ed7953\"],[0.7777777777777778,\"#fb9f3a\"],[0.8888888888888888,\"#fdca26\"],[1.0,\"#f0f921\"]]},\"colorway\":[\"#636efa\",\"#EF553B\",\"#00cc96\",\"#ab63fa\",\"#FFA15A\",\"#19d3f3\",\"#FF6692\",\"#B6E880\",\"#FF97FF\",\"#FECB52\"],\"font\":{\"color\":\"#2a3f5f\"},\"geo\":{\"bgcolor\":\"white\",\"lakecolor\":\"white\",\"landcolor\":\"#E5ECF6\",\"showlakes\":true,\"showland\":true,\"subunitcolor\":\"white\"},\"hoverlabel\":{\"align\":\"left\"},\"hovermode\":\"closest\",\"mapbox\":{\"style\":\"light\"},\"paper_bgcolor\":\"white\",\"plot_bgcolor\":\"#E5ECF6\",\"polar\":{\"angularaxis\":{\"gridcolor\":\"white\",\"linecolor\":\"white\",\"ticks\":\"\"},\"bgcolor\":\"#E5ECF6\",\"radialaxis\":{\"gridcolor\":\"white\",\"linecolor\":\"white\",\"ticks\":\"\"}},\"scene\":{\"xaxis\":{\"backgroundcolor\":\"#E5ECF6\",\"gridcolor\":\"white\",\"gridwidth\":2,\"linecolor\":\"white\",\"showbackground\":true,\"ticks\":\"\",\"zerolinecolor\":\"white\"},\"yaxis\":{\"backgroundcolor\":\"#E5ECF6\",\"gridcolor\":\"white\",\"gridwidth\":2,\"linecolor\":\"white\",\"showbackground\":true,\"ticks\":\"\",\"zerolinecolor\":\"white\"},\"zaxis\":{\"backgroundcolor\":\"#E5ECF6\",\"gridcolor\":\"white\",\"gridwidth\":2,\"linecolor\":\"white\",\"showbackground\":true,\"ticks\":\"\",\"zerolinecolor\":\"white\"}},\"shapedefaults\":{\"line\":{\"color\":\"#2a3f5f\"}},\"ternary\":{\"aaxis\":{\"gridcolor\":\"white\",\"linecolor\":\"white\",\"ticks\":\"\"},\"baxis\":{\"gridcolor\":\"white\",\"linecolor\":\"white\",\"ticks\":\"\"},\"bgcolor\":\"#E5ECF6\",\"caxis\":{\"gridcolor\":\"white\",\"linecolor\":\"white\",\"ticks\":\"\"}},\"title\":{\"x\":0.05},\"xaxis\":{\"automargin\":true,\"gridcolor\":\"white\",\"linecolor\":\"white\",\"ticks\":\"\",\"title\":{\"standoff\":15},\"zerolinecolor\":\"white\",\"zerolinewidth\":2},\"yaxis\":{\"automargin\":true,\"gridcolor\":\"white\",\"linecolor\":\"white\",\"ticks\":\"\",\"title\":{\"standoff\":15},\"zerolinecolor\":\"white\",\"zerolinewidth\":2}}},\"xaxis\":{\"anchor\":\"y\",\"domain\":[0.0,1.0],\"title\":{\"text\":\"PC - 1\"}},\"yaxis\":{\"anchor\":\"x\",\"domain\":[0.0,1.0],\"title\":{\"text\":\"PC - 2\"}},\"legend\":{\"tracegroupgap\":0},\"title\":{\"text\":\"PLS Score and loadings plot\"},\"shapes\":[{\"type\":\"line\",\"x0\":0,\"x1\":0.20684825540894394,\"y0\":0,\"y1\":-0.22800387147503287},{\"type\":\"line\",\"x0\":0,\"x1\":0.1344750669425506,\"y0\":0,\"y1\":-0.5457212392513493},{\"type\":\"line\",\"x0\":0,\"x1\":0.17506107034242807,\"y0\":0,\"y1\":0.0844347124216634},{\"type\":\"line\",\"x0\":0,\"x1\":0.21380463479613315,\"y0\":0,\"y1\":0.29315764998863214},{\"type\":\"line\",\"x0\":0,\"x1\":0.22680547144039645,\"y0\":0,\"y1\":0.2695620417012472}],\"annotations\":[{\"ax\":0,\"ay\":0,\"text\":\"feed_start\",\"x\":0.20684825540894394,\"xanchor\":\"center\",\"y\":-0.22800387147503287,\"yanchor\":\"bottom\"},{\"ax\":0,\"ay\":0,\"text\":\"feed_end\",\"x\":0.1344750669425506,\"xanchor\":\"center\",\"y\":-0.5457212392513493,\"yanchor\":\"bottom\"},{\"ax\":0,\"ay\":0,\"text\":\"Glc_feed_rate\",\"x\":0.17506107034242807,\"xanchor\":\"center\",\"y\":0.0844347124216634,\"yanchor\":\"bottom\"},{\"ax\":0,\"ay\":0,\"text\":\"Glc_0\",\"x\":0.21380463479613315,\"xanchor\":\"center\",\"y\":0.29315764998863214,\"yanchor\":\"bottom\"},{\"ax\":0,\"ay\":0,\"text\":\"VCD_0\",\"x\":0.22680547144039645,\"xanchor\":\"center\",\"y\":0.2695620417012472,\"yanchor\":\"bottom\"}]},                        {\"responsive\": true}                    ).then(function(){\n",
              "                            \n",
              "var gd = document.getElementById('f65f5b9b-0f2d-44cb-96ba-2c972a6354e3');\n",
              "var x = new MutationObserver(function (mutations, observer) {{\n",
              "        var display = window.getComputedStyle(gd).display;\n",
              "        if (!display || display === 'none') {{\n",
              "            console.log([gd, 'removed!']);\n",
              "            Plotly.purge(gd);\n",
              "            observer.disconnect();\n",
              "        }}\n",
              "}});\n",
              "\n",
              "// Listen for the removal of the full notebook cells\n",
              "var notebookContainer = gd.closest('#notebook-container');\n",
              "if (notebookContainer) {{\n",
              "    x.observe(notebookContainer, {childList: true});\n",
              "}}\n",
              "\n",
              "// Listen for the clearing of the current output cell\n",
              "var outputEl = gd.closest('.output');\n",
              "if (outputEl) {{\n",
              "    x.observe(outputEl, {childList: true});\n",
              "}}\n",
              "\n",
              "                        })                };                            </script>        </div>\n",
              "</body>\n",
              "</html>"
            ]
          },
          "metadata": {}
        }
      ]
    },
    {
      "cell_type": "markdown",
      "source": [
        "# Historical Model\n",
        "\n",
        "In an so-called historical model, the data from different experiments are ordered into a batch-wise unfolded (BWU) matrix (i.e., every row corresponds to an experiment).\n",
        "\n",
        "The BWU can be used to compute final properties of the experiment, like CQAs, which are typically the effect of the cumulated effect of the experiment profile.\n",
        "\n",
        "In this example, we will use the BWU matrix to predict the final value of titer. Clearly, titer information are removed from the BWU matrix.\n",
        "\n"
      ],
      "metadata": {
        "id": "0i44tIGKMIFp"
      }
    },
    {
      "cell_type": "markdown",
      "source": [
        "## Multiple Linear Model\n",
        "\n",
        "Unlinke in the initial conditions model, there are several problems in using an linear regression / response surface model for modelling historical data. The main problem is that MLR requires our dataset $X$ (the BWU data) to have more rows (samples) than columns (variables). Second is that if $X^T X$ has full rank due only to noise, the inverse is unstable and small changes in noise realization can produce dramatically different results.\n",
        "\n",
        "If we look at the shape of our BWU matrix, that it already has 75 variables and only 50 samples which makes it dificult to fit linear model."
      ],
      "metadata": {
        "id": "UK3j34XlF9j5"
      }
    },
    {
      "cell_type": "code",
      "source": [
        "bwu.shape"
      ],
      "metadata": {
        "colab": {
          "base_uri": "https://localhost:8080/"
        },
        "id": "TS3qWBQWhC5b",
        "outputId": "26079380-3f09-46a6-a307-873c4a63d347"
      },
      "execution_count": 116,
      "outputs": [
        {
          "output_type": "execute_result",
          "data": {
            "text/plain": [
              "(50, 75)"
            ]
          },
          "metadata": {},
          "execution_count": 116
        }
      ]
    },
    {
      "cell_type": "markdown",
      "source": [
        "## PLS Model\n",
        "\n",
        "We demonstrate that with more information and more variables, the PLS becomes a model with good predictions and low RMSEP."
      ],
      "metadata": {
        "id": "SMsAm9jDGUcJ"
      }
    },
    {
      "cell_type": "markdown",
      "source": [
        "### Create BWU matrix\n",
        "\n",
        "Here the BWU matrix is created. The vaues of the manipulated variables are added as columns at the beginning of the matrix. The following pre-processing was performed.\n",
        "\n",
        "* Remove titer (and also lactate)\n",
        "* Remove exceeding days\n",
        "* Eliminate invariant columns\n",
        "* Remove linearly dependent columns\n",
        "* Add process parameters at the beginning\n",
        "* Create a PLS model from the initial design to the final titer\n"
      ],
      "metadata": {
        "id": "v1IMh8PMMs-s"
      }
    },
    {
      "cell_type": "code",
      "source": [
        "\"\"\" Number of days of process history \"\"\"\n",
        "USE_DAYS = 14\n",
        "\"\"\" Remove variables \"\"\"\n",
        "REMOVE_VARS = ['Feed']"
      ],
      "metadata": {
        "id": "JEYDQzd5TSnx"
      },
      "execution_count": 117,
      "outputs": []
    },
    {
      "cell_type": "code",
      "source": [
        "X = bwu\n",
        "remove_columns = []\n",
        "# Remove Variables\n",
        "if 'Titer' in REMOVE_VARS:\n",
        "    remove_columns.extend([c for c in bwu.columns if c.startswith('X:Titer')])\n",
        "if 'Lac' in REMOVE_VARS:\n",
        "    remove_columns.extend([c for c in bwu.columns if c.startswith('X:Lac')])\n",
        "if 'Feed' in REMOVE_VARS:\n",
        "    remove_columns.extend([c for c in bwu.columns if c.startswith('W:Feed')])\n",
        "# Remove History\n",
        "for d in range(USE_DAYS,15):\n",
        "    remove_columns.extend([c for c in bwu.columns if c.endswith(':0')])\n",
        "    remove_columns.extend([c for c in bwu.columns if c.endswith(\":\"+str(d))])\n",
        "# Remove Invariant \n",
        "remove_columns.extend(list(bwu.columns[~(bwu != bwu.iloc[0]).any().values]))\n",
        "# Add and remove columns\n",
        "X = X.drop(set(remove_columns),axis=1)\n",
        "X = pd.concat([doe, X], axis=1)\n",
        "\n",
        "print(X.columns)"
      ],
      "metadata": {
        "id": "CXCdim6oNB1y",
        "colab": {
          "base_uri": "https://localhost:8080/"
        },
        "outputId": "0f82e5d3-bf9c-429e-d2d6-04694bfdc8ec"
      },
      "execution_count": 118,
      "outputs": [
        {
          "output_type": "stream",
          "name": "stdout",
          "text": [
            "Index(['feed_start', 'feed_end', 'Glc_feed_rate', 'Glc_0', 'VCD_0', 'X:VCD:1',\n",
            "       'X:VCD:2', 'X:VCD:3', 'X:VCD:4', 'X:VCD:5', 'X:VCD:6', 'X:VCD:7',\n",
            "       'X:VCD:8', 'X:VCD:9', 'X:VCD:10', 'X:VCD:11', 'X:VCD:12', 'X:VCD:13',\n",
            "       'X:Glc:1', 'X:Glc:2', 'X:Glc:3', 'X:Glc:4', 'X:Glc:5', 'X:Glc:6',\n",
            "       'X:Glc:7', 'X:Glc:8', 'X:Glc:9', 'X:Glc:10', 'X:Glc:11', 'X:Glc:12',\n",
            "       'X:Glc:13', 'X:Lac:1', 'X:Lac:2', 'X:Lac:3', 'X:Lac:4', 'X:Lac:5',\n",
            "       'X:Lac:6', 'X:Lac:7', 'X:Lac:8', 'X:Lac:9', 'X:Lac:10', 'X:Lac:11',\n",
            "       'X:Lac:12', 'X:Lac:13', 'X:Titer:1', 'X:Titer:2', 'X:Titer:3',\n",
            "       'X:Titer:4', 'X:Titer:5', 'X:Titer:6', 'X:Titer:7', 'X:Titer:8',\n",
            "       'X:Titer:9', 'X:Titer:10', 'X:Titer:11', 'X:Titer:12', 'X:Titer:13'],\n",
            "      dtype='object')\n"
          ]
        }
      ]
    },
    {
      "cell_type": "markdown",
      "source": [
        "### Train Historical PLS model"
      ],
      "metadata": {
        "id": "cLKo0hoPNDx-"
      }
    },
    {
      "cell_type": "code",
      "source": [
        "\"\"\" Number of latent variables \"\"\"\n",
        "N_LV = 5\n",
        "\"\"\" Normalize data \"\"\"\n",
        "USE_NORM = True"
      ],
      "metadata": {
        "id": "WDpN48qWNJs4"
      },
      "execution_count": 119,
      "outputs": []
    },
    {
      "cell_type": "code",
      "source": [
        "# Define Pipeline\n",
        "pscaler = StandardScaler(with_mean=USE_NORM,with_std=USE_NORM)\n",
        "pls = PLSRegression(n_components=N_LV)\n",
        "pipe = Pipeline([('scaler', pscaler), ('model', pls)])\n",
        "# Train PLS model\n",
        "y = tar\n",
        "pipe.fit(X,y)"
      ],
      "metadata": {
        "colab": {
          "base_uri": "https://localhost:8080/"
        },
        "id": "vyenCRC1TNWs",
        "outputId": "05447194-b6f1-4bdb-ac27-7e7a007a4b40"
      },
      "execution_count": 120,
      "outputs": [
        {
          "output_type": "execute_result",
          "data": {
            "text/plain": [
              "Pipeline(steps=[('scaler', StandardScaler()),\n",
              "                ('model', PLSRegression(n_components=5))])"
            ]
          },
          "metadata": {},
          "execution_count": 120
        }
      ]
    },
    {
      "cell_type": "markdown",
      "source": [
        "### Evaluate model on train and test set\n",
        "\n",
        "\n"
      ],
      "metadata": {
        "id": "sDXKkm4VVnDM"
      }
    },
    {
      "cell_type": "code",
      "source": [
        "# Plot predictions in train set\n",
        "yhat = pipe.predict(X)\n",
        "fig = px.scatter(x=y.values.reshape(-1),y=yhat.reshape(-1), title=\"Observed vs Predicted on Train Set; R^2 = \"+str(round(pipe.score(X,y),3)), labels=dict(x=\"Observed Titer\", y=\"Predicted Titer\"))\n",
        "fig.update_layout(shapes = [{'type': 'line', 'yref': 'paper', 'xref': 'paper', 'y0': 0, 'y1': 1, 'x0': 0, 'x1': 1, 'layer': 'below'}])\n",
        "fig.show()\n",
        "# Plot predictions in test set\n",
        "X_test = bwu_test\n",
        "y_test = tar_test\n",
        "X_test = X_test.drop(set(remove_columns),axis=1)\n",
        "X_test = pd.concat([doe_test, X_test], axis=1)\n",
        "yhat_test = pipe.predict(X_test)\n",
        "fig = px.scatter(x=y_test.values.reshape(-1),y=yhat_test.reshape(-1), title=\"Observed vs Predicted on Test Set; R^2 = \"+str(round(pipe.score(X_test,y_test),3)), labels=dict(x=\"Observed Titer\", y=\"Predicted Titer\"))\n",
        "fig.update_layout(shapes = [{'type': 'line', 'yref': 'paper', 'xref': 'paper', 'y0': 0, 'y1': 1, 'x0': 0, 'x1': 1, 'layer': 'below'}])\n",
        "fig.show()"
      ],
      "metadata": {
        "colab": {
          "base_uri": "https://localhost:8080/",
          "height": 1000
        },
        "id": "xbIdWuBrTn12",
        "outputId": "a83c4636-0ce2-4dfe-9981-a3840ad3b966"
      },
      "execution_count": 121,
      "outputs": [
        {
          "output_type": "display_data",
          "data": {
            "text/html": [
              "<html>\n",
              "<head><meta charset=\"utf-8\" /></head>\n",
              "<body>\n",
              "    <div>            <script src=\"https://cdnjs.cloudflare.com/ajax/libs/mathjax/2.7.5/MathJax.js?config=TeX-AMS-MML_SVG\"></script><script type=\"text/javascript\">if (window.MathJax) {MathJax.Hub.Config({SVG: {font: \"STIX-Web\"}});}</script>                <script type=\"text/javascript\">window.PlotlyConfig = {MathJaxConfig: 'local'};</script>\n",
              "        <script src=\"https://cdn.plot.ly/plotly-2.8.3.min.js\"></script>                <div id=\"5e08c703-5e94-4b5d-af10-54339cf65bd0\" class=\"plotly-graph-div\" style=\"height:525px; width:100%;\"></div>            <script type=\"text/javascript\">                                    window.PLOTLYENV=window.PLOTLYENV || {};                                    if (document.getElementById(\"5e08c703-5e94-4b5d-af10-54339cf65bd0\")) {                    Plotly.newPlot(                        \"5e08c703-5e94-4b5d-af10-54339cf65bd0\",                        [{\"hovertemplate\":\"Observed Titer=%{x}<br>Predicted Titer=%{y}<extra></extra>\",\"legendgroup\":\"\",\"marker\":{\"color\":\"#636efa\",\"symbol\":\"circle\"},\"mode\":\"markers\",\"name\":\"\",\"orientation\":\"v\",\"showlegend\":false,\"x\":[1565.3100316152315,854.4492329290191,1206.0966547089297,1587.9375363361153,811.5529901913034,841.4987076939608,645.8652400020387,978.3211904574658,1026.2593627477372,1307.3427908630745,1034.0873731742636,1268.3772140122305,1489.9274823809976,1519.9915046105887,1329.31439655397,1431.0248922870994,1566.2144147333108,1438.4509323399373,829.9221681206134,705.0060621997021,1432.1650836978292,188.37323461354003,1498.950979086217,920.6159834819938,1489.455399004581,1236.0520625432987,1323.9958683550722,1490.703545196068,1317.71949505948,1463.7461925349555,645.6194533195517,518.6891441332469,1508.020685458528,681.9077197106743,643.2530983456666,1171.9226021898683,1526.8075977874203,710.1789864596954,547.0659967970258,1239.099546696681,1275.603243989509,1516.3836910289606,1472.959836115183,1561.4366964617066,895.4073430723885,1139.0681753517283,1424.484489881591,1464.164972241741,639.5435764295627,1297.0316324502526],\"xaxis\":\"x\",\"y\":[1519.2855617225287,810.1806336023124,1336.2148040460643,1553.1781077722935,838.4801380744691,879.0109018317156,688.1427560037878,1019.5339277532519,1013.0996406998141,1319.313152416824,1046.4369726016405,1313.4961591240067,1462.7154601895825,1526.4330596305015,1327.512871906496,1397.80491258162,1553.7034078490854,1428.7994289136102,849.6029890151352,763.9214862716824,1408.6941676491608,94.5522143668868,1499.9249108867264,930.3261507950634,1487.9763730041154,1208.4140734128664,1387.533828100746,1470.4641544122258,1290.7501048177626,1459.2973498146905,579.5431447956872,512.2682573238126,1535.7483551714834,688.0144589813674,662.957940859518,1173.8310162933215,1503.768554492847,735.145126248113,556.3430839979178,1234.9679753658277,1283.2547274102478,1466.7583215355385,1474.656550953423,1568.3955458383318,853.5739854652791,1159.2835781817134,1397.6035778385785,1456.9504644667302,684.0860435143005,1265.4261014509038],\"yaxis\":\"y\",\"type\":\"scatter\"}],                        {\"template\":{\"data\":{\"bar\":[{\"error_x\":{\"color\":\"#2a3f5f\"},\"error_y\":{\"color\":\"#2a3f5f\"},\"marker\":{\"line\":{\"color\":\"#E5ECF6\",\"width\":0.5},\"pattern\":{\"fillmode\":\"overlay\",\"size\":10,\"solidity\":0.2}},\"type\":\"bar\"}],\"barpolar\":[{\"marker\":{\"line\":{\"color\":\"#E5ECF6\",\"width\":0.5},\"pattern\":{\"fillmode\":\"overlay\",\"size\":10,\"solidity\":0.2}},\"type\":\"barpolar\"}],\"carpet\":[{\"aaxis\":{\"endlinecolor\":\"#2a3f5f\",\"gridcolor\":\"white\",\"linecolor\":\"white\",\"minorgridcolor\":\"white\",\"startlinecolor\":\"#2a3f5f\"},\"baxis\":{\"endlinecolor\":\"#2a3f5f\",\"gridcolor\":\"white\",\"linecolor\":\"white\",\"minorgridcolor\":\"white\",\"startlinecolor\":\"#2a3f5f\"},\"type\":\"carpet\"}],\"choropleth\":[{\"colorbar\":{\"outlinewidth\":0,\"ticks\":\"\"},\"type\":\"choropleth\"}],\"contour\":[{\"colorbar\":{\"outlinewidth\":0,\"ticks\":\"\"},\"colorscale\":[[0.0,\"#0d0887\"],[0.1111111111111111,\"#46039f\"],[0.2222222222222222,\"#7201a8\"],[0.3333333333333333,\"#9c179e\"],[0.4444444444444444,\"#bd3786\"],[0.5555555555555556,\"#d8576b\"],[0.6666666666666666,\"#ed7953\"],[0.7777777777777778,\"#fb9f3a\"],[0.8888888888888888,\"#fdca26\"],[1.0,\"#f0f921\"]],\"type\":\"contour\"}],\"contourcarpet\":[{\"colorbar\":{\"outlinewidth\":0,\"ticks\":\"\"},\"type\":\"contourcarpet\"}],\"heatmap\":[{\"colorbar\":{\"outlinewidth\":0,\"ticks\":\"\"},\"colorscale\":[[0.0,\"#0d0887\"],[0.1111111111111111,\"#46039f\"],[0.2222222222222222,\"#7201a8\"],[0.3333333333333333,\"#9c179e\"],[0.4444444444444444,\"#bd3786\"],[0.5555555555555556,\"#d8576b\"],[0.6666666666666666,\"#ed7953\"],[0.7777777777777778,\"#fb9f3a\"],[0.8888888888888888,\"#fdca26\"],[1.0,\"#f0f921\"]],\"type\":\"heatmap\"}],\"heatmapgl\":[{\"colorbar\":{\"outlinewidth\":0,\"ticks\":\"\"},\"colorscale\":[[0.0,\"#0d0887\"],[0.1111111111111111,\"#46039f\"],[0.2222222222222222,\"#7201a8\"],[0.3333333333333333,\"#9c179e\"],[0.4444444444444444,\"#bd3786\"],[0.5555555555555556,\"#d8576b\"],[0.6666666666666666,\"#ed7953\"],[0.7777777777777778,\"#fb9f3a\"],[0.8888888888888888,\"#fdca26\"],[1.0,\"#f0f921\"]],\"type\":\"heatmapgl\"}],\"histogram\":[{\"marker\":{\"pattern\":{\"fillmode\":\"overlay\",\"size\":10,\"solidity\":0.2}},\"type\":\"histogram\"}],\"histogram2d\":[{\"colorbar\":{\"outlinewidth\":0,\"ticks\":\"\"},\"colorscale\":[[0.0,\"#0d0887\"],[0.1111111111111111,\"#46039f\"],[0.2222222222222222,\"#7201a8\"],[0.3333333333333333,\"#9c179e\"],[0.4444444444444444,\"#bd3786\"],[0.5555555555555556,\"#d8576b\"],[0.6666666666666666,\"#ed7953\"],[0.7777777777777778,\"#fb9f3a\"],[0.8888888888888888,\"#fdca26\"],[1.0,\"#f0f921\"]],\"type\":\"histogram2d\"}],\"histogram2dcontour\":[{\"colorbar\":{\"outlinewidth\":0,\"ticks\":\"\"},\"colorscale\":[[0.0,\"#0d0887\"],[0.1111111111111111,\"#46039f\"],[0.2222222222222222,\"#7201a8\"],[0.3333333333333333,\"#9c179e\"],[0.4444444444444444,\"#bd3786\"],[0.5555555555555556,\"#d8576b\"],[0.6666666666666666,\"#ed7953\"],[0.7777777777777778,\"#fb9f3a\"],[0.8888888888888888,\"#fdca26\"],[1.0,\"#f0f921\"]],\"type\":\"histogram2dcontour\"}],\"mesh3d\":[{\"colorbar\":{\"outlinewidth\":0,\"ticks\":\"\"},\"type\":\"mesh3d\"}],\"parcoords\":[{\"line\":{\"colorbar\":{\"outlinewidth\":0,\"ticks\":\"\"}},\"type\":\"parcoords\"}],\"pie\":[{\"automargin\":true,\"type\":\"pie\"}],\"scatter\":[{\"marker\":{\"colorbar\":{\"outlinewidth\":0,\"ticks\":\"\"}},\"type\":\"scatter\"}],\"scatter3d\":[{\"line\":{\"colorbar\":{\"outlinewidth\":0,\"ticks\":\"\"}},\"marker\":{\"colorbar\":{\"outlinewidth\":0,\"ticks\":\"\"}},\"type\":\"scatter3d\"}],\"scattercarpet\":[{\"marker\":{\"colorbar\":{\"outlinewidth\":0,\"ticks\":\"\"}},\"type\":\"scattercarpet\"}],\"scattergeo\":[{\"marker\":{\"colorbar\":{\"outlinewidth\":0,\"ticks\":\"\"}},\"type\":\"scattergeo\"}],\"scattergl\":[{\"marker\":{\"colorbar\":{\"outlinewidth\":0,\"ticks\":\"\"}},\"type\":\"scattergl\"}],\"scattermapbox\":[{\"marker\":{\"colorbar\":{\"outlinewidth\":0,\"ticks\":\"\"}},\"type\":\"scattermapbox\"}],\"scatterpolar\":[{\"marker\":{\"colorbar\":{\"outlinewidth\":0,\"ticks\":\"\"}},\"type\":\"scatterpolar\"}],\"scatterpolargl\":[{\"marker\":{\"colorbar\":{\"outlinewidth\":0,\"ticks\":\"\"}},\"type\":\"scatterpolargl\"}],\"scatterternary\":[{\"marker\":{\"colorbar\":{\"outlinewidth\":0,\"ticks\":\"\"}},\"type\":\"scatterternary\"}],\"surface\":[{\"colorbar\":{\"outlinewidth\":0,\"ticks\":\"\"},\"colorscale\":[[0.0,\"#0d0887\"],[0.1111111111111111,\"#46039f\"],[0.2222222222222222,\"#7201a8\"],[0.3333333333333333,\"#9c179e\"],[0.4444444444444444,\"#bd3786\"],[0.5555555555555556,\"#d8576b\"],[0.6666666666666666,\"#ed7953\"],[0.7777777777777778,\"#fb9f3a\"],[0.8888888888888888,\"#fdca26\"],[1.0,\"#f0f921\"]],\"type\":\"surface\"}],\"table\":[{\"cells\":{\"fill\":{\"color\":\"#EBF0F8\"},\"line\":{\"color\":\"white\"}},\"header\":{\"fill\":{\"color\":\"#C8D4E3\"},\"line\":{\"color\":\"white\"}},\"type\":\"table\"}]},\"layout\":{\"annotationdefaults\":{\"arrowcolor\":\"#2a3f5f\",\"arrowhead\":0,\"arrowwidth\":1},\"autotypenumbers\":\"strict\",\"coloraxis\":{\"colorbar\":{\"outlinewidth\":0,\"ticks\":\"\"}},\"colorscale\":{\"diverging\":[[0,\"#8e0152\"],[0.1,\"#c51b7d\"],[0.2,\"#de77ae\"],[0.3,\"#f1b6da\"],[0.4,\"#fde0ef\"],[0.5,\"#f7f7f7\"],[0.6,\"#e6f5d0\"],[0.7,\"#b8e186\"],[0.8,\"#7fbc41\"],[0.9,\"#4d9221\"],[1,\"#276419\"]],\"sequential\":[[0.0,\"#0d0887\"],[0.1111111111111111,\"#46039f\"],[0.2222222222222222,\"#7201a8\"],[0.3333333333333333,\"#9c179e\"],[0.4444444444444444,\"#bd3786\"],[0.5555555555555556,\"#d8576b\"],[0.6666666666666666,\"#ed7953\"],[0.7777777777777778,\"#fb9f3a\"],[0.8888888888888888,\"#fdca26\"],[1.0,\"#f0f921\"]],\"sequentialminus\":[[0.0,\"#0d0887\"],[0.1111111111111111,\"#46039f\"],[0.2222222222222222,\"#7201a8\"],[0.3333333333333333,\"#9c179e\"],[0.4444444444444444,\"#bd3786\"],[0.5555555555555556,\"#d8576b\"],[0.6666666666666666,\"#ed7953\"],[0.7777777777777778,\"#fb9f3a\"],[0.8888888888888888,\"#fdca26\"],[1.0,\"#f0f921\"]]},\"colorway\":[\"#636efa\",\"#EF553B\",\"#00cc96\",\"#ab63fa\",\"#FFA15A\",\"#19d3f3\",\"#FF6692\",\"#B6E880\",\"#FF97FF\",\"#FECB52\"],\"font\":{\"color\":\"#2a3f5f\"},\"geo\":{\"bgcolor\":\"white\",\"lakecolor\":\"white\",\"landcolor\":\"#E5ECF6\",\"showlakes\":true,\"showland\":true,\"subunitcolor\":\"white\"},\"hoverlabel\":{\"align\":\"left\"},\"hovermode\":\"closest\",\"mapbox\":{\"style\":\"light\"},\"paper_bgcolor\":\"white\",\"plot_bgcolor\":\"#E5ECF6\",\"polar\":{\"angularaxis\":{\"gridcolor\":\"white\",\"linecolor\":\"white\",\"ticks\":\"\"},\"bgcolor\":\"#E5ECF6\",\"radialaxis\":{\"gridcolor\":\"white\",\"linecolor\":\"white\",\"ticks\":\"\"}},\"scene\":{\"xaxis\":{\"backgroundcolor\":\"#E5ECF6\",\"gridcolor\":\"white\",\"gridwidth\":2,\"linecolor\":\"white\",\"showbackground\":true,\"ticks\":\"\",\"zerolinecolor\":\"white\"},\"yaxis\":{\"backgroundcolor\":\"#E5ECF6\",\"gridcolor\":\"white\",\"gridwidth\":2,\"linecolor\":\"white\",\"showbackground\":true,\"ticks\":\"\",\"zerolinecolor\":\"white\"},\"zaxis\":{\"backgroundcolor\":\"#E5ECF6\",\"gridcolor\":\"white\",\"gridwidth\":2,\"linecolor\":\"white\",\"showbackground\":true,\"ticks\":\"\",\"zerolinecolor\":\"white\"}},\"shapedefaults\":{\"line\":{\"color\":\"#2a3f5f\"}},\"ternary\":{\"aaxis\":{\"gridcolor\":\"white\",\"linecolor\":\"white\",\"ticks\":\"\"},\"baxis\":{\"gridcolor\":\"white\",\"linecolor\":\"white\",\"ticks\":\"\"},\"bgcolor\":\"#E5ECF6\",\"caxis\":{\"gridcolor\":\"white\",\"linecolor\":\"white\",\"ticks\":\"\"}},\"title\":{\"x\":0.05},\"xaxis\":{\"automargin\":true,\"gridcolor\":\"white\",\"linecolor\":\"white\",\"ticks\":\"\",\"title\":{\"standoff\":15},\"zerolinecolor\":\"white\",\"zerolinewidth\":2},\"yaxis\":{\"automargin\":true,\"gridcolor\":\"white\",\"linecolor\":\"white\",\"ticks\":\"\",\"title\":{\"standoff\":15},\"zerolinecolor\":\"white\",\"zerolinewidth\":2}}},\"xaxis\":{\"anchor\":\"y\",\"domain\":[0.0,1.0],\"title\":{\"text\":\"Observed Titer\"}},\"yaxis\":{\"anchor\":\"x\",\"domain\":[0.0,1.0],\"title\":{\"text\":\"Predicted Titer\"}},\"legend\":{\"tracegroupgap\":0},\"title\":{\"text\":\"Observed vs Predicted on Train Set; R^2 = 0.99\"},\"shapes\":[{\"layer\":\"below\",\"type\":\"line\",\"x0\":0,\"x1\":1,\"xref\":\"paper\",\"y0\":0,\"y1\":1,\"yref\":\"paper\"}]},                        {\"responsive\": true}                    ).then(function(){\n",
              "                            \n",
              "var gd = document.getElementById('5e08c703-5e94-4b5d-af10-54339cf65bd0');\n",
              "var x = new MutationObserver(function (mutations, observer) {{\n",
              "        var display = window.getComputedStyle(gd).display;\n",
              "        if (!display || display === 'none') {{\n",
              "            console.log([gd, 'removed!']);\n",
              "            Plotly.purge(gd);\n",
              "            observer.disconnect();\n",
              "        }}\n",
              "}});\n",
              "\n",
              "// Listen for the removal of the full notebook cells\n",
              "var notebookContainer = gd.closest('#notebook-container');\n",
              "if (notebookContainer) {{\n",
              "    x.observe(notebookContainer, {childList: true});\n",
              "}}\n",
              "\n",
              "// Listen for the clearing of the current output cell\n",
              "var outputEl = gd.closest('.output');\n",
              "if (outputEl) {{\n",
              "    x.observe(outputEl, {childList: true});\n",
              "}}\n",
              "\n",
              "                        })                };                            </script>        </div>\n",
              "</body>\n",
              "</html>"
            ]
          },
          "metadata": {}
        },
        {
          "output_type": "display_data",
          "data": {
            "text/html": [
              "<html>\n",
              "<head><meta charset=\"utf-8\" /></head>\n",
              "<body>\n",
              "    <div>            <script src=\"https://cdnjs.cloudflare.com/ajax/libs/mathjax/2.7.5/MathJax.js?config=TeX-AMS-MML_SVG\"></script><script type=\"text/javascript\">if (window.MathJax) {MathJax.Hub.Config({SVG: {font: \"STIX-Web\"}});}</script>                <script type=\"text/javascript\">window.PlotlyConfig = {MathJaxConfig: 'local'};</script>\n",
              "        <script src=\"https://cdn.plot.ly/plotly-2.8.3.min.js\"></script>                <div id=\"a8a65027-ad21-4301-b6b4-9ab1d320368d\" class=\"plotly-graph-div\" style=\"height:525px; width:100%;\"></div>            <script type=\"text/javascript\">                                    window.PLOTLYENV=window.PLOTLYENV || {};                                    if (document.getElementById(\"a8a65027-ad21-4301-b6b4-9ab1d320368d\")) {                    Plotly.newPlot(                        \"a8a65027-ad21-4301-b6b4-9ab1d320368d\",                        [{\"hovertemplate\":\"Observed Titer=%{x}<br>Predicted Titer=%{y}<extra></extra>\",\"legendgroup\":\"\",\"marker\":{\"color\":\"#636efa\",\"symbol\":\"circle\"},\"mode\":\"markers\",\"name\":\"\",\"orientation\":\"v\",\"showlegend\":false,\"x\":[1486.555322665747,852.5421510506708,1553.3693013236993,1561.6944741051122,1561.9285093830367,1555.5990575252915,664.6187798777727,1588.1477685622356,1573.9990705283894,1393.0710551474324,1585.7304206956908,1534.768930546699,1586.8676827848133,1120.6204607891566,967.4138303905323,1581.2252660009826,1521.0375916532755,1255.2700326269191,1504.894937980849,728.3175492673013,1127.481659231358,1037.3529483901104,1153.1684886467415,1599.395719266287,1373.3875240676539,1588.972941246536,1397.182482338,1586.1796600561468,1268.1596010497083,1579.9184591007336,777.916772007101,1461.5586797240042,1318.0550040408075,1513.53945930146,678.9881062945203,920.6098404000459,1242.4469308698558,797.4025653838119,1418.0496260461455,1205.021737650426,1154.9710813250379,1360.312718950821,1101.630950463139,1504.347905209396,799.6625192661403,1530.773728116675,1419.8835249141798,1564.0148293057987,1562.1980325113516,1049.7026566235018],\"xaxis\":\"x\",\"y\":[1473.5827813006847,849.3710135099724,1513.7184563116589,1556.7212201320795,1503.2586413414099,1499.733442079594,715.8188951899747,1545.229437649064,1542.3781499723332,1358.6564876874313,1543.5031938912336,1504.8090813548993,1567.2852064035856,1112.7761269017774,951.505098834677,1574.2527032051985,1520.474677087493,1245.5940449508073,1491.3389857088173,788.7920154305094,1101.4297232963888,1058.4226659095957,1136.6254165300709,1584.5415873114207,1347.16627701614,1577.577750325354,1376.5282496723435,1576.6306096152607,1237.624806267697,1561.7078036825528,729.2966125350172,1443.3059190653307,1331.5482693153012,1458.8957719372538,715.2241584431456,918.6916835952691,1205.7714781257705,834.512504795615,1414.1667334650813,1179.8170606416363,1119.9884592859903,1345.712824531283,1091.5918468648306,1518.8801460295865,792.2471429206252,1475.036448049196,1384.4915514445215,1543.5597574409517,1513.1444894917884,1016.0576104266293],\"yaxis\":\"y\",\"type\":\"scatter\"}],                        {\"template\":{\"data\":{\"bar\":[{\"error_x\":{\"color\":\"#2a3f5f\"},\"error_y\":{\"color\":\"#2a3f5f\"},\"marker\":{\"line\":{\"color\":\"#E5ECF6\",\"width\":0.5},\"pattern\":{\"fillmode\":\"overlay\",\"size\":10,\"solidity\":0.2}},\"type\":\"bar\"}],\"barpolar\":[{\"marker\":{\"line\":{\"color\":\"#E5ECF6\",\"width\":0.5},\"pattern\":{\"fillmode\":\"overlay\",\"size\":10,\"solidity\":0.2}},\"type\":\"barpolar\"}],\"carpet\":[{\"aaxis\":{\"endlinecolor\":\"#2a3f5f\",\"gridcolor\":\"white\",\"linecolor\":\"white\",\"minorgridcolor\":\"white\",\"startlinecolor\":\"#2a3f5f\"},\"baxis\":{\"endlinecolor\":\"#2a3f5f\",\"gridcolor\":\"white\",\"linecolor\":\"white\",\"minorgridcolor\":\"white\",\"startlinecolor\":\"#2a3f5f\"},\"type\":\"carpet\"}],\"choropleth\":[{\"colorbar\":{\"outlinewidth\":0,\"ticks\":\"\"},\"type\":\"choropleth\"}],\"contour\":[{\"colorbar\":{\"outlinewidth\":0,\"ticks\":\"\"},\"colorscale\":[[0.0,\"#0d0887\"],[0.1111111111111111,\"#46039f\"],[0.2222222222222222,\"#7201a8\"],[0.3333333333333333,\"#9c179e\"],[0.4444444444444444,\"#bd3786\"],[0.5555555555555556,\"#d8576b\"],[0.6666666666666666,\"#ed7953\"],[0.7777777777777778,\"#fb9f3a\"],[0.8888888888888888,\"#fdca26\"],[1.0,\"#f0f921\"]],\"type\":\"contour\"}],\"contourcarpet\":[{\"colorbar\":{\"outlinewidth\":0,\"ticks\":\"\"},\"type\":\"contourcarpet\"}],\"heatmap\":[{\"colorbar\":{\"outlinewidth\":0,\"ticks\":\"\"},\"colorscale\":[[0.0,\"#0d0887\"],[0.1111111111111111,\"#46039f\"],[0.2222222222222222,\"#7201a8\"],[0.3333333333333333,\"#9c179e\"],[0.4444444444444444,\"#bd3786\"],[0.5555555555555556,\"#d8576b\"],[0.6666666666666666,\"#ed7953\"],[0.7777777777777778,\"#fb9f3a\"],[0.8888888888888888,\"#fdca26\"],[1.0,\"#f0f921\"]],\"type\":\"heatmap\"}],\"heatmapgl\":[{\"colorbar\":{\"outlinewidth\":0,\"ticks\":\"\"},\"colorscale\":[[0.0,\"#0d0887\"],[0.1111111111111111,\"#46039f\"],[0.2222222222222222,\"#7201a8\"],[0.3333333333333333,\"#9c179e\"],[0.4444444444444444,\"#bd3786\"],[0.5555555555555556,\"#d8576b\"],[0.6666666666666666,\"#ed7953\"],[0.7777777777777778,\"#fb9f3a\"],[0.8888888888888888,\"#fdca26\"],[1.0,\"#f0f921\"]],\"type\":\"heatmapgl\"}],\"histogram\":[{\"marker\":{\"pattern\":{\"fillmode\":\"overlay\",\"size\":10,\"solidity\":0.2}},\"type\":\"histogram\"}],\"histogram2d\":[{\"colorbar\":{\"outlinewidth\":0,\"ticks\":\"\"},\"colorscale\":[[0.0,\"#0d0887\"],[0.1111111111111111,\"#46039f\"],[0.2222222222222222,\"#7201a8\"],[0.3333333333333333,\"#9c179e\"],[0.4444444444444444,\"#bd3786\"],[0.5555555555555556,\"#d8576b\"],[0.6666666666666666,\"#ed7953\"],[0.7777777777777778,\"#fb9f3a\"],[0.8888888888888888,\"#fdca26\"],[1.0,\"#f0f921\"]],\"type\":\"histogram2d\"}],\"histogram2dcontour\":[{\"colorbar\":{\"outlinewidth\":0,\"ticks\":\"\"},\"colorscale\":[[0.0,\"#0d0887\"],[0.1111111111111111,\"#46039f\"],[0.2222222222222222,\"#7201a8\"],[0.3333333333333333,\"#9c179e\"],[0.4444444444444444,\"#bd3786\"],[0.5555555555555556,\"#d8576b\"],[0.6666666666666666,\"#ed7953\"],[0.7777777777777778,\"#fb9f3a\"],[0.8888888888888888,\"#fdca26\"],[1.0,\"#f0f921\"]],\"type\":\"histogram2dcontour\"}],\"mesh3d\":[{\"colorbar\":{\"outlinewidth\":0,\"ticks\":\"\"},\"type\":\"mesh3d\"}],\"parcoords\":[{\"line\":{\"colorbar\":{\"outlinewidth\":0,\"ticks\":\"\"}},\"type\":\"parcoords\"}],\"pie\":[{\"automargin\":true,\"type\":\"pie\"}],\"scatter\":[{\"marker\":{\"colorbar\":{\"outlinewidth\":0,\"ticks\":\"\"}},\"type\":\"scatter\"}],\"scatter3d\":[{\"line\":{\"colorbar\":{\"outlinewidth\":0,\"ticks\":\"\"}},\"marker\":{\"colorbar\":{\"outlinewidth\":0,\"ticks\":\"\"}},\"type\":\"scatter3d\"}],\"scattercarpet\":[{\"marker\":{\"colorbar\":{\"outlinewidth\":0,\"ticks\":\"\"}},\"type\":\"scattercarpet\"}],\"scattergeo\":[{\"marker\":{\"colorbar\":{\"outlinewidth\":0,\"ticks\":\"\"}},\"type\":\"scattergeo\"}],\"scattergl\":[{\"marker\":{\"colorbar\":{\"outlinewidth\":0,\"ticks\":\"\"}},\"type\":\"scattergl\"}],\"scattermapbox\":[{\"marker\":{\"colorbar\":{\"outlinewidth\":0,\"ticks\":\"\"}},\"type\":\"scattermapbox\"}],\"scatterpolar\":[{\"marker\":{\"colorbar\":{\"outlinewidth\":0,\"ticks\":\"\"}},\"type\":\"scatterpolar\"}],\"scatterpolargl\":[{\"marker\":{\"colorbar\":{\"outlinewidth\":0,\"ticks\":\"\"}},\"type\":\"scatterpolargl\"}],\"scatterternary\":[{\"marker\":{\"colorbar\":{\"outlinewidth\":0,\"ticks\":\"\"}},\"type\":\"scatterternary\"}],\"surface\":[{\"colorbar\":{\"outlinewidth\":0,\"ticks\":\"\"},\"colorscale\":[[0.0,\"#0d0887\"],[0.1111111111111111,\"#46039f\"],[0.2222222222222222,\"#7201a8\"],[0.3333333333333333,\"#9c179e\"],[0.4444444444444444,\"#bd3786\"],[0.5555555555555556,\"#d8576b\"],[0.6666666666666666,\"#ed7953\"],[0.7777777777777778,\"#fb9f3a\"],[0.8888888888888888,\"#fdca26\"],[1.0,\"#f0f921\"]],\"type\":\"surface\"}],\"table\":[{\"cells\":{\"fill\":{\"color\":\"#EBF0F8\"},\"line\":{\"color\":\"white\"}},\"header\":{\"fill\":{\"color\":\"#C8D4E3\"},\"line\":{\"color\":\"white\"}},\"type\":\"table\"}]},\"layout\":{\"annotationdefaults\":{\"arrowcolor\":\"#2a3f5f\",\"arrowhead\":0,\"arrowwidth\":1},\"autotypenumbers\":\"strict\",\"coloraxis\":{\"colorbar\":{\"outlinewidth\":0,\"ticks\":\"\"}},\"colorscale\":{\"diverging\":[[0,\"#8e0152\"],[0.1,\"#c51b7d\"],[0.2,\"#de77ae\"],[0.3,\"#f1b6da\"],[0.4,\"#fde0ef\"],[0.5,\"#f7f7f7\"],[0.6,\"#e6f5d0\"],[0.7,\"#b8e186\"],[0.8,\"#7fbc41\"],[0.9,\"#4d9221\"],[1,\"#276419\"]],\"sequential\":[[0.0,\"#0d0887\"],[0.1111111111111111,\"#46039f\"],[0.2222222222222222,\"#7201a8\"],[0.3333333333333333,\"#9c179e\"],[0.4444444444444444,\"#bd3786\"],[0.5555555555555556,\"#d8576b\"],[0.6666666666666666,\"#ed7953\"],[0.7777777777777778,\"#fb9f3a\"],[0.8888888888888888,\"#fdca26\"],[1.0,\"#f0f921\"]],\"sequentialminus\":[[0.0,\"#0d0887\"],[0.1111111111111111,\"#46039f\"],[0.2222222222222222,\"#7201a8\"],[0.3333333333333333,\"#9c179e\"],[0.4444444444444444,\"#bd3786\"],[0.5555555555555556,\"#d8576b\"],[0.6666666666666666,\"#ed7953\"],[0.7777777777777778,\"#fb9f3a\"],[0.8888888888888888,\"#fdca26\"],[1.0,\"#f0f921\"]]},\"colorway\":[\"#636efa\",\"#EF553B\",\"#00cc96\",\"#ab63fa\",\"#FFA15A\",\"#19d3f3\",\"#FF6692\",\"#B6E880\",\"#FF97FF\",\"#FECB52\"],\"font\":{\"color\":\"#2a3f5f\"},\"geo\":{\"bgcolor\":\"white\",\"lakecolor\":\"white\",\"landcolor\":\"#E5ECF6\",\"showlakes\":true,\"showland\":true,\"subunitcolor\":\"white\"},\"hoverlabel\":{\"align\":\"left\"},\"hovermode\":\"closest\",\"mapbox\":{\"style\":\"light\"},\"paper_bgcolor\":\"white\",\"plot_bgcolor\":\"#E5ECF6\",\"polar\":{\"angularaxis\":{\"gridcolor\":\"white\",\"linecolor\":\"white\",\"ticks\":\"\"},\"bgcolor\":\"#E5ECF6\",\"radialaxis\":{\"gridcolor\":\"white\",\"linecolor\":\"white\",\"ticks\":\"\"}},\"scene\":{\"xaxis\":{\"backgroundcolor\":\"#E5ECF6\",\"gridcolor\":\"white\",\"gridwidth\":2,\"linecolor\":\"white\",\"showbackground\":true,\"ticks\":\"\",\"zerolinecolor\":\"white\"},\"yaxis\":{\"backgroundcolor\":\"#E5ECF6\",\"gridcolor\":\"white\",\"gridwidth\":2,\"linecolor\":\"white\",\"showbackground\":true,\"ticks\":\"\",\"zerolinecolor\":\"white\"},\"zaxis\":{\"backgroundcolor\":\"#E5ECF6\",\"gridcolor\":\"white\",\"gridwidth\":2,\"linecolor\":\"white\",\"showbackground\":true,\"ticks\":\"\",\"zerolinecolor\":\"white\"}},\"shapedefaults\":{\"line\":{\"color\":\"#2a3f5f\"}},\"ternary\":{\"aaxis\":{\"gridcolor\":\"white\",\"linecolor\":\"white\",\"ticks\":\"\"},\"baxis\":{\"gridcolor\":\"white\",\"linecolor\":\"white\",\"ticks\":\"\"},\"bgcolor\":\"#E5ECF6\",\"caxis\":{\"gridcolor\":\"white\",\"linecolor\":\"white\",\"ticks\":\"\"}},\"title\":{\"x\":0.05},\"xaxis\":{\"automargin\":true,\"gridcolor\":\"white\",\"linecolor\":\"white\",\"ticks\":\"\",\"title\":{\"standoff\":15},\"zerolinecolor\":\"white\",\"zerolinewidth\":2},\"yaxis\":{\"automargin\":true,\"gridcolor\":\"white\",\"linecolor\":\"white\",\"ticks\":\"\",\"title\":{\"standoff\":15},\"zerolinecolor\":\"white\",\"zerolinewidth\":2}}},\"xaxis\":{\"anchor\":\"y\",\"domain\":[0.0,1.0],\"title\":{\"text\":\"Observed Titer\"}},\"yaxis\":{\"anchor\":\"x\",\"domain\":[0.0,1.0],\"title\":{\"text\":\"Predicted Titer\"}},\"legend\":{\"tracegroupgap\":0},\"title\":{\"text\":\"Observed vs Predicted on Test Set; R^2 = 0.989\"},\"shapes\":[{\"layer\":\"below\",\"type\":\"line\",\"x0\":0,\"x1\":1,\"xref\":\"paper\",\"y0\":0,\"y1\":1,\"yref\":\"paper\"}]},                        {\"responsive\": true}                    ).then(function(){\n",
              "                            \n",
              "var gd = document.getElementById('a8a65027-ad21-4301-b6b4-9ab1d320368d');\n",
              "var x = new MutationObserver(function (mutations, observer) {{\n",
              "        var display = window.getComputedStyle(gd).display;\n",
              "        if (!display || display === 'none') {{\n",
              "            console.log([gd, 'removed!']);\n",
              "            Plotly.purge(gd);\n",
              "            observer.disconnect();\n",
              "        }}\n",
              "}});\n",
              "\n",
              "// Listen for the removal of the full notebook cells\n",
              "var notebookContainer = gd.closest('#notebook-container');\n",
              "if (notebookContainer) {{\n",
              "    x.observe(notebookContainer, {childList: true});\n",
              "}}\n",
              "\n",
              "// Listen for the clearing of the current output cell\n",
              "var outputEl = gd.closest('.output');\n",
              "if (outputEl) {{\n",
              "    x.observe(outputEl, {childList: true});\n",
              "}}\n",
              "\n",
              "                        })                };                            </script>        </div>\n",
              "</body>\n",
              "</html>"
            ]
          },
          "metadata": {}
        }
      ]
    },
    {
      "cell_type": "code",
      "source": [
        "# Absolute RMSEP\n",
        "rmse_abs = mean_squared_error(y_test, yhat_test,squared=False)\n",
        "print('Absolute RMSEP: ',rmse_abs)\n",
        "# Relative RMSEP\n",
        "rmse_rel = mean_squared_error(y_test, yhat_test,squared=False) / np.std(np.array(y_test))\n",
        "print('Relative RMSEP: ',rmse_rel)"
      ],
      "metadata": {
        "colab": {
          "base_uri": "https://localhost:8080/"
        },
        "id": "LaPaHUjcXKaT",
        "outputId": "ff16bf9f-fffc-4422-9e66-a2998f19c769"
      },
      "execution_count": 122,
      "outputs": [
        {
          "output_type": "stream",
          "name": "stdout",
          "text": [
            "Absolute RMSEP:  30.73717778373681\n",
            "Relative RMSEP:  0.10632324997752414\n"
          ]
        }
      ]
    },
    {
      "cell_type": "code",
      "source": [
        "# Principal component on x-axis\n",
        "select_x_pca = 1\n",
        "# Principal component on y-axis\n",
        "select_y_pca = 2"
      ],
      "metadata": {
        "id": "ibRl93tiJQDl"
      },
      "execution_count": 123,
      "outputs": []
    },
    {
      "cell_type": "code",
      "source": [
        "# Plot loadings\n",
        "loadings = pls.x_loadings_\n",
        "#fig = px.scatter(x=pls.x_scores_[:,select_x_pca-1],y=pls.x_scores_[:,select_y_pca-1])\n",
        "fig = px.scatter(x=[0,0], y=[0,0], title = \"Loadings of PLS model\", labels={'x':\"PC - \"+ str(select_x_pca) , 'y':\"PC -\"+ str(select_y_pca)})\n",
        "for i, feature in enumerate(X.columns):\n",
        "    fig.add_shape(type='line', x0=0, y0=0, x1=loadings[i,select_x_pca-1], y1=loadings[i,select_y_pca-1])\n",
        "    fig.add_annotation(x=loadings[i,select_x_pca-1], y=loadings[i,select_y_pca-1], ax=0, ay=0, xanchor=\"center\", yanchor=\"bottom\", text=feature)\n",
        "fig.show()"
      ],
      "metadata": {
        "colab": {
          "base_uri": "https://localhost:8080/",
          "height": 542
        },
        "id": "eQXkW1jOUmsU",
        "outputId": "a3e2c3df-8421-4d10-9143-9edd100e9c47"
      },
      "execution_count": 124,
      "outputs": [
        {
          "output_type": "display_data",
          "data": {
            "text/html": [
              "<html>\n",
              "<head><meta charset=\"utf-8\" /></head>\n",
              "<body>\n",
              "    <div>            <script src=\"https://cdnjs.cloudflare.com/ajax/libs/mathjax/2.7.5/MathJax.js?config=TeX-AMS-MML_SVG\"></script><script type=\"text/javascript\">if (window.MathJax) {MathJax.Hub.Config({SVG: {font: \"STIX-Web\"}});}</script>                <script type=\"text/javascript\">window.PlotlyConfig = {MathJaxConfig: 'local'};</script>\n",
              "        <script src=\"https://cdn.plot.ly/plotly-2.8.3.min.js\"></script>                <div id=\"42d1dc0f-5330-452d-a8d6-c75bedac2814\" class=\"plotly-graph-div\" style=\"height:525px; width:100%;\"></div>            <script type=\"text/javascript\">                                    window.PLOTLYENV=window.PLOTLYENV || {};                                    if (document.getElementById(\"42d1dc0f-5330-452d-a8d6-c75bedac2814\")) {                    Plotly.newPlot(                        \"42d1dc0f-5330-452d-a8d6-c75bedac2814\",                        [{\"hovertemplate\":\"PC - 1=%{x}<br>PC -2=%{y}<extra></extra>\",\"legendgroup\":\"\",\"marker\":{\"color\":\"#636efa\",\"symbol\":\"circle\"},\"mode\":\"markers\",\"name\":\"\",\"orientation\":\"v\",\"showlegend\":false,\"x\":[0,0],\"xaxis\":\"x\",\"y\":[0,0],\"yaxis\":\"y\",\"type\":\"scatter\"}],                        {\"template\":{\"data\":{\"bar\":[{\"error_x\":{\"color\":\"#2a3f5f\"},\"error_y\":{\"color\":\"#2a3f5f\"},\"marker\":{\"line\":{\"color\":\"#E5ECF6\",\"width\":0.5},\"pattern\":{\"fillmode\":\"overlay\",\"size\":10,\"solidity\":0.2}},\"type\":\"bar\"}],\"barpolar\":[{\"marker\":{\"line\":{\"color\":\"#E5ECF6\",\"width\":0.5},\"pattern\":{\"fillmode\":\"overlay\",\"size\":10,\"solidity\":0.2}},\"type\":\"barpolar\"}],\"carpet\":[{\"aaxis\":{\"endlinecolor\":\"#2a3f5f\",\"gridcolor\":\"white\",\"linecolor\":\"white\",\"minorgridcolor\":\"white\",\"startlinecolor\":\"#2a3f5f\"},\"baxis\":{\"endlinecolor\":\"#2a3f5f\",\"gridcolor\":\"white\",\"linecolor\":\"white\",\"minorgridcolor\":\"white\",\"startlinecolor\":\"#2a3f5f\"},\"type\":\"carpet\"}],\"choropleth\":[{\"colorbar\":{\"outlinewidth\":0,\"ticks\":\"\"},\"type\":\"choropleth\"}],\"contour\":[{\"colorbar\":{\"outlinewidth\":0,\"ticks\":\"\"},\"colorscale\":[[0.0,\"#0d0887\"],[0.1111111111111111,\"#46039f\"],[0.2222222222222222,\"#7201a8\"],[0.3333333333333333,\"#9c179e\"],[0.4444444444444444,\"#bd3786\"],[0.5555555555555556,\"#d8576b\"],[0.6666666666666666,\"#ed7953\"],[0.7777777777777778,\"#fb9f3a\"],[0.8888888888888888,\"#fdca26\"],[1.0,\"#f0f921\"]],\"type\":\"contour\"}],\"contourcarpet\":[{\"colorbar\":{\"outlinewidth\":0,\"ticks\":\"\"},\"type\":\"contourcarpet\"}],\"heatmap\":[{\"colorbar\":{\"outlinewidth\":0,\"ticks\":\"\"},\"colorscale\":[[0.0,\"#0d0887\"],[0.1111111111111111,\"#46039f\"],[0.2222222222222222,\"#7201a8\"],[0.3333333333333333,\"#9c179e\"],[0.4444444444444444,\"#bd3786\"],[0.5555555555555556,\"#d8576b\"],[0.6666666666666666,\"#ed7953\"],[0.7777777777777778,\"#fb9f3a\"],[0.8888888888888888,\"#fdca26\"],[1.0,\"#f0f921\"]],\"type\":\"heatmap\"}],\"heatmapgl\":[{\"colorbar\":{\"outlinewidth\":0,\"ticks\":\"\"},\"colorscale\":[[0.0,\"#0d0887\"],[0.1111111111111111,\"#46039f\"],[0.2222222222222222,\"#7201a8\"],[0.3333333333333333,\"#9c179e\"],[0.4444444444444444,\"#bd3786\"],[0.5555555555555556,\"#d8576b\"],[0.6666666666666666,\"#ed7953\"],[0.7777777777777778,\"#fb9f3a\"],[0.8888888888888888,\"#fdca26\"],[1.0,\"#f0f921\"]],\"type\":\"heatmapgl\"}],\"histogram\":[{\"marker\":{\"pattern\":{\"fillmode\":\"overlay\",\"size\":10,\"solidity\":0.2}},\"type\":\"histogram\"}],\"histogram2d\":[{\"colorbar\":{\"outlinewidth\":0,\"ticks\":\"\"},\"colorscale\":[[0.0,\"#0d0887\"],[0.1111111111111111,\"#46039f\"],[0.2222222222222222,\"#7201a8\"],[0.3333333333333333,\"#9c179e\"],[0.4444444444444444,\"#bd3786\"],[0.5555555555555556,\"#d8576b\"],[0.6666666666666666,\"#ed7953\"],[0.7777777777777778,\"#fb9f3a\"],[0.8888888888888888,\"#fdca26\"],[1.0,\"#f0f921\"]],\"type\":\"histogram2d\"}],\"histogram2dcontour\":[{\"colorbar\":{\"outlinewidth\":0,\"ticks\":\"\"},\"colorscale\":[[0.0,\"#0d0887\"],[0.1111111111111111,\"#46039f\"],[0.2222222222222222,\"#7201a8\"],[0.3333333333333333,\"#9c179e\"],[0.4444444444444444,\"#bd3786\"],[0.5555555555555556,\"#d8576b\"],[0.6666666666666666,\"#ed7953\"],[0.7777777777777778,\"#fb9f3a\"],[0.8888888888888888,\"#fdca26\"],[1.0,\"#f0f921\"]],\"type\":\"histogram2dcontour\"}],\"mesh3d\":[{\"colorbar\":{\"outlinewidth\":0,\"ticks\":\"\"},\"type\":\"mesh3d\"}],\"parcoords\":[{\"line\":{\"colorbar\":{\"outlinewidth\":0,\"ticks\":\"\"}},\"type\":\"parcoords\"}],\"pie\":[{\"automargin\":true,\"type\":\"pie\"}],\"scatter\":[{\"marker\":{\"colorbar\":{\"outlinewidth\":0,\"ticks\":\"\"}},\"type\":\"scatter\"}],\"scatter3d\":[{\"line\":{\"colorbar\":{\"outlinewidth\":0,\"ticks\":\"\"}},\"marker\":{\"colorbar\":{\"outlinewidth\":0,\"ticks\":\"\"}},\"type\":\"scatter3d\"}],\"scattercarpet\":[{\"marker\":{\"colorbar\":{\"outlinewidth\":0,\"ticks\":\"\"}},\"type\":\"scattercarpet\"}],\"scattergeo\":[{\"marker\":{\"colorbar\":{\"outlinewidth\":0,\"ticks\":\"\"}},\"type\":\"scattergeo\"}],\"scattergl\":[{\"marker\":{\"colorbar\":{\"outlinewidth\":0,\"ticks\":\"\"}},\"type\":\"scattergl\"}],\"scattermapbox\":[{\"marker\":{\"colorbar\":{\"outlinewidth\":0,\"ticks\":\"\"}},\"type\":\"scattermapbox\"}],\"scatterpolar\":[{\"marker\":{\"colorbar\":{\"outlinewidth\":0,\"ticks\":\"\"}},\"type\":\"scatterpolar\"}],\"scatterpolargl\":[{\"marker\":{\"colorbar\":{\"outlinewidth\":0,\"ticks\":\"\"}},\"type\":\"scatterpolargl\"}],\"scatterternary\":[{\"marker\":{\"colorbar\":{\"outlinewidth\":0,\"ticks\":\"\"}},\"type\":\"scatterternary\"}],\"surface\":[{\"colorbar\":{\"outlinewidth\":0,\"ticks\":\"\"},\"colorscale\":[[0.0,\"#0d0887\"],[0.1111111111111111,\"#46039f\"],[0.2222222222222222,\"#7201a8\"],[0.3333333333333333,\"#9c179e\"],[0.4444444444444444,\"#bd3786\"],[0.5555555555555556,\"#d8576b\"],[0.6666666666666666,\"#ed7953\"],[0.7777777777777778,\"#fb9f3a\"],[0.8888888888888888,\"#fdca26\"],[1.0,\"#f0f921\"]],\"type\":\"surface\"}],\"table\":[{\"cells\":{\"fill\":{\"color\":\"#EBF0F8\"},\"line\":{\"color\":\"white\"}},\"header\":{\"fill\":{\"color\":\"#C8D4E3\"},\"line\":{\"color\":\"white\"}},\"type\":\"table\"}]},\"layout\":{\"annotationdefaults\":{\"arrowcolor\":\"#2a3f5f\",\"arrowhead\":0,\"arrowwidth\":1},\"autotypenumbers\":\"strict\",\"coloraxis\":{\"colorbar\":{\"outlinewidth\":0,\"ticks\":\"\"}},\"colorscale\":{\"diverging\":[[0,\"#8e0152\"],[0.1,\"#c51b7d\"],[0.2,\"#de77ae\"],[0.3,\"#f1b6da\"],[0.4,\"#fde0ef\"],[0.5,\"#f7f7f7\"],[0.6,\"#e6f5d0\"],[0.7,\"#b8e186\"],[0.8,\"#7fbc41\"],[0.9,\"#4d9221\"],[1,\"#276419\"]],\"sequential\":[[0.0,\"#0d0887\"],[0.1111111111111111,\"#46039f\"],[0.2222222222222222,\"#7201a8\"],[0.3333333333333333,\"#9c179e\"],[0.4444444444444444,\"#bd3786\"],[0.5555555555555556,\"#d8576b\"],[0.6666666666666666,\"#ed7953\"],[0.7777777777777778,\"#fb9f3a\"],[0.8888888888888888,\"#fdca26\"],[1.0,\"#f0f921\"]],\"sequentialminus\":[[0.0,\"#0d0887\"],[0.1111111111111111,\"#46039f\"],[0.2222222222222222,\"#7201a8\"],[0.3333333333333333,\"#9c179e\"],[0.4444444444444444,\"#bd3786\"],[0.5555555555555556,\"#d8576b\"],[0.6666666666666666,\"#ed7953\"],[0.7777777777777778,\"#fb9f3a\"],[0.8888888888888888,\"#fdca26\"],[1.0,\"#f0f921\"]]},\"colorway\":[\"#636efa\",\"#EF553B\",\"#00cc96\",\"#ab63fa\",\"#FFA15A\",\"#19d3f3\",\"#FF6692\",\"#B6E880\",\"#FF97FF\",\"#FECB52\"],\"font\":{\"color\":\"#2a3f5f\"},\"geo\":{\"bgcolor\":\"white\",\"lakecolor\":\"white\",\"landcolor\":\"#E5ECF6\",\"showlakes\":true,\"showland\":true,\"subunitcolor\":\"white\"},\"hoverlabel\":{\"align\":\"left\"},\"hovermode\":\"closest\",\"mapbox\":{\"style\":\"light\"},\"paper_bgcolor\":\"white\",\"plot_bgcolor\":\"#E5ECF6\",\"polar\":{\"angularaxis\":{\"gridcolor\":\"white\",\"linecolor\":\"white\",\"ticks\":\"\"},\"bgcolor\":\"#E5ECF6\",\"radialaxis\":{\"gridcolor\":\"white\",\"linecolor\":\"white\",\"ticks\":\"\"}},\"scene\":{\"xaxis\":{\"backgroundcolor\":\"#E5ECF6\",\"gridcolor\":\"white\",\"gridwidth\":2,\"linecolor\":\"white\",\"showbackground\":true,\"ticks\":\"\",\"zerolinecolor\":\"white\"},\"yaxis\":{\"backgroundcolor\":\"#E5ECF6\",\"gridcolor\":\"white\",\"gridwidth\":2,\"linecolor\":\"white\",\"showbackground\":true,\"ticks\":\"\",\"zerolinecolor\":\"white\"},\"zaxis\":{\"backgroundcolor\":\"#E5ECF6\",\"gridcolor\":\"white\",\"gridwidth\":2,\"linecolor\":\"white\",\"showbackground\":true,\"ticks\":\"\",\"zerolinecolor\":\"white\"}},\"shapedefaults\":{\"line\":{\"color\":\"#2a3f5f\"}},\"ternary\":{\"aaxis\":{\"gridcolor\":\"white\",\"linecolor\":\"white\",\"ticks\":\"\"},\"baxis\":{\"gridcolor\":\"white\",\"linecolor\":\"white\",\"ticks\":\"\"},\"bgcolor\":\"#E5ECF6\",\"caxis\":{\"gridcolor\":\"white\",\"linecolor\":\"white\",\"ticks\":\"\"}},\"title\":{\"x\":0.05},\"xaxis\":{\"automargin\":true,\"gridcolor\":\"white\",\"linecolor\":\"white\",\"ticks\":\"\",\"title\":{\"standoff\":15},\"zerolinecolor\":\"white\",\"zerolinewidth\":2},\"yaxis\":{\"automargin\":true,\"gridcolor\":\"white\",\"linecolor\":\"white\",\"ticks\":\"\",\"title\":{\"standoff\":15},\"zerolinecolor\":\"white\",\"zerolinewidth\":2}}},\"xaxis\":{\"anchor\":\"y\",\"domain\":[0.0,1.0],\"title\":{\"text\":\"PC - 1\"}},\"yaxis\":{\"anchor\":\"x\",\"domain\":[0.0,1.0],\"title\":{\"text\":\"PC -2\"}},\"legend\":{\"tracegroupgap\":0},\"title\":{\"text\":\"Loadings of PLS model\"},\"shapes\":[{\"type\":\"line\",\"x0\":0,\"x1\":0.06335259769382263,\"y0\":0,\"y1\":-0.009607918699405813},{\"type\":\"line\",\"x0\":0,\"x1\":0.04780248209632292,\"y0\":0,\"y1\":0.07304644978633906},{\"type\":\"line\",\"x0\":0,\"x1\":0.005932679020739228,\"y0\":0,\"y1\":0.07234078279310147},{\"type\":\"line\",\"x0\":0,\"x1\":0.04290032433444184,\"y0\":0,\"y1\":0.08582928092178758},{\"type\":\"line\",\"x0\":0,\"x1\":0.09520656993796568,\"y0\":0,\"y1\":-0.20193140235938614},{\"type\":\"line\",\"x0\":0,\"x1\":0.09704017549449526,\"y0\":0,\"y1\":-0.19721336389213223},{\"type\":\"line\",\"x0\":0,\"x1\":0.10103865769645266,\"y0\":0,\"y1\":-0.19553212880085175},{\"type\":\"line\",\"x0\":0,\"x1\":0.11216382606679932,\"y0\":0,\"y1\":-0.19488612448292325},{\"type\":\"line\",\"x0\":0,\"x1\":0.1388979514485195,\"y0\":0,\"y1\":-0.18876019301037775},{\"type\":\"line\",\"x0\":0,\"x1\":0.18379028921688934,\"y0\":0,\"y1\":-0.10758631028531594},{\"type\":\"line\",\"x0\":0,\"x1\":0.16462136391975402,\"y0\":0,\"y1\":0.0704963025823354},{\"type\":\"line\",\"x0\":0,\"x1\":0.14817241011701868,\"y0\":0,\"y1\":0.14200603311543616},{\"type\":\"line\",\"x0\":0,\"x1\":0.14461172267254213,\"y0\":0,\"y1\":0.16108136828276928},{\"type\":\"line\",\"x0\":0,\"x1\":0.14117015843168218,\"y0\":0,\"y1\":0.16259037292984932},{\"type\":\"line\",\"x0\":0,\"x1\":0.13581213484929608,\"y0\":0,\"y1\":0.16030433073482073},{\"type\":\"line\",\"x0\":0,\"x1\":0.12901915509123157,\"y0\":0,\"y1\":0.15051980098046996},{\"type\":\"line\",\"x0\":0,\"x1\":0.1227030105845902,\"y0\":0,\"y1\":0.13343665430236082},{\"type\":\"line\",\"x0\":0,\"x1\":0.1187766112159191,\"y0\":0,\"y1\":0.11401386256331357},{\"type\":\"line\",\"x0\":0,\"x1\":0.04093639066499489,\"y0\":0,\"y1\":0.09090811859237333},{\"type\":\"line\",\"x0\":0,\"x1\":0.024598671311544824,\"y0\":0,\"y1\":0.10601838783403947},{\"type\":\"line\",\"x0\":0,\"x1\":-0.006359642619890697,\"y0\":0,\"y1\":0.13387621675537406},{\"type\":\"line\",\"x0\":0,\"x1\":-0.032081709880005894,\"y0\":0,\"y1\":0.1581389199092117},{\"type\":\"line\",\"x0\":0,\"x1\":-0.04348342403413531,\"y0\":0,\"y1\":0.17207307467057922},{\"type\":\"line\",\"x0\":0,\"x1\":-0.05482235702672145,\"y0\":0,\"y1\":0.16335116564429536},{\"type\":\"line\",\"x0\":0,\"x1\":-0.06592257603380987,\"y0\":0,\"y1\":0.14146879530848697},{\"type\":\"line\",\"x0\":0,\"x1\":-0.07220533029142417,\"y0\":0,\"y1\":0.11974712183128795},{\"type\":\"line\",\"x0\":0,\"x1\":-0.07239829809466075,\"y0\":0,\"y1\":0.10785714763877688},{\"type\":\"line\",\"x0\":0,\"x1\":-0.07036405638020216,\"y0\":0,\"y1\":0.10163362455890293},{\"type\":\"line\",\"x0\":0,\"x1\":-0.06952631988453621,\"y0\":0,\"y1\":0.09963577970818394},{\"type\":\"line\",\"x0\":0,\"x1\":-0.0711225370437106,\"y0\":0,\"y1\":0.09537616344073117},{\"type\":\"line\",\"x0\":0,\"x1\":-0.07421490068669878,\"y0\":0,\"y1\":0.09097703023607359},{\"type\":\"line\",\"x0\":0,\"x1\":0.09621556379697074,\"y0\":0,\"y1\":-0.1989622430893157},{\"type\":\"line\",\"x0\":0,\"x1\":0.09829840279476253,\"y0\":0,\"y1\":-0.1968879345828624},{\"type\":\"line\",\"x0\":0,\"x1\":0.10313926337486487,\"y0\":0,\"y1\":-0.1963857717440485},{\"type\":\"line\",\"x0\":0,\"x1\":0.11255348569569334,\"y0\":0,\"y1\":-0.19690227576508817},{\"type\":\"line\",\"x0\":0,\"x1\":0.1283458508580335,\"y0\":0,\"y1\":-0.19539353017718467},{\"type\":\"line\",\"x0\":0,\"x1\":0.15411312492804263,\"y0\":0,\"y1\":-0.181487755656636},{\"type\":\"line\",\"x0\":0,\"x1\":0.1852809034319509,\"y0\":0,\"y1\":-0.14310593384190604},{\"type\":\"line\",\"x0\":0,\"x1\":0.20735816227416856,\"y0\":0,\"y1\":-0.09122040165416404},{\"type\":\"line\",\"x0\":0,\"x1\":0.21672550107920965,\"y0\":0,\"y1\":-0.0457433368353052},{\"type\":\"line\",\"x0\":0,\"x1\":0.21853064465895078,\"y0\":0,\"y1\":-0.013256283331760384},{\"type\":\"line\",\"x0\":0,\"x1\":0.2174053055992744,\"y0\":0,\"y1\":0.008034184499107002},{\"type\":\"line\",\"x0\":0,\"x1\":0.21556191999521238,\"y0\":0,\"y1\":0.021128683690021233},{\"type\":\"line\",\"x0\":0,\"x1\":0.2138729915967292,\"y0\":0,\"y1\":0.028643068095401424},{\"type\":\"line\",\"x0\":0,\"x1\":0.04037080922649427,\"y0\":0,\"y1\":-0.1927083851080327},{\"type\":\"line\",\"x0\":0,\"x1\":0.07896836454907193,\"y0\":0,\"y1\":-0.19801670265427837},{\"type\":\"line\",\"x0\":0,\"x1\":0.09372461301442846,\"y0\":0,\"y1\":-0.1966408947951476},{\"type\":\"line\",\"x0\":0,\"x1\":0.10943703738528779,\"y0\":0,\"y1\":-0.2006018168412154},{\"type\":\"line\",\"x0\":0,\"x1\":0.13093229293375486,\"y0\":0,\"y1\":-0.19699302220017326},{\"type\":\"line\",\"x0\":0,\"x1\":0.16645421900367924,\"y0\":0,\"y1\":-0.15209386372764816},{\"type\":\"line\",\"x0\":0,\"x1\":0.19666930632035376,\"y0\":0,\"y1\":-0.06829724834655201},{\"type\":\"line\",\"x0\":0,\"x1\":0.20935538368990533,\"y0\":0,\"y1\":-0.003896004671018514},{\"type\":\"line\",\"x0\":0,\"x1\":0.21306609426703566,\"y0\":0,\"y1\":0.03960695850327976},{\"type\":\"line\",\"x0\":0,\"x1\":0.21250173586185236,\"y0\":0,\"y1\":0.07009436509258354},{\"type\":\"line\",\"x0\":0,\"x1\":0.20972917773213212,\"y0\":0,\"y1\":0.08908687710465445},{\"type\":\"line\",\"x0\":0,\"x1\":0.2070485107601019,\"y0\":0,\"y1\":0.09887927561057352},{\"type\":\"line\",\"x0\":0,\"x1\":0.20541406427046766,\"y0\":0,\"y1\":0.10206715279523546}],\"annotations\":[{\"ax\":0,\"ay\":0,\"text\":\"feed_start\",\"x\":0.06335259769382263,\"xanchor\":\"center\",\"y\":-0.009607918699405813,\"yanchor\":\"bottom\"},{\"ax\":0,\"ay\":0,\"text\":\"feed_end\",\"x\":0.04780248209632292,\"xanchor\":\"center\",\"y\":0.07304644978633906,\"yanchor\":\"bottom\"},{\"ax\":0,\"ay\":0,\"text\":\"Glc_feed_rate\",\"x\":0.005932679020739228,\"xanchor\":\"center\",\"y\":0.07234078279310147,\"yanchor\":\"bottom\"},{\"ax\":0,\"ay\":0,\"text\":\"Glc_0\",\"x\":0.04290032433444184,\"xanchor\":\"center\",\"y\":0.08582928092178758,\"yanchor\":\"bottom\"},{\"ax\":0,\"ay\":0,\"text\":\"VCD_0\",\"x\":0.09520656993796568,\"xanchor\":\"center\",\"y\":-0.20193140235938614,\"yanchor\":\"bottom\"},{\"ax\":0,\"ay\":0,\"text\":\"X:VCD:1\",\"x\":0.09704017549449526,\"xanchor\":\"center\",\"y\":-0.19721336389213223,\"yanchor\":\"bottom\"},{\"ax\":0,\"ay\":0,\"text\":\"X:VCD:2\",\"x\":0.10103865769645266,\"xanchor\":\"center\",\"y\":-0.19553212880085175,\"yanchor\":\"bottom\"},{\"ax\":0,\"ay\":0,\"text\":\"X:VCD:3\",\"x\":0.11216382606679932,\"xanchor\":\"center\",\"y\":-0.19488612448292325,\"yanchor\":\"bottom\"},{\"ax\":0,\"ay\":0,\"text\":\"X:VCD:4\",\"x\":0.1388979514485195,\"xanchor\":\"center\",\"y\":-0.18876019301037775,\"yanchor\":\"bottom\"},{\"ax\":0,\"ay\":0,\"text\":\"X:VCD:5\",\"x\":0.18379028921688934,\"xanchor\":\"center\",\"y\":-0.10758631028531594,\"yanchor\":\"bottom\"},{\"ax\":0,\"ay\":0,\"text\":\"X:VCD:6\",\"x\":0.16462136391975402,\"xanchor\":\"center\",\"y\":0.0704963025823354,\"yanchor\":\"bottom\"},{\"ax\":0,\"ay\":0,\"text\":\"X:VCD:7\",\"x\":0.14817241011701868,\"xanchor\":\"center\",\"y\":0.14200603311543616,\"yanchor\":\"bottom\"},{\"ax\":0,\"ay\":0,\"text\":\"X:VCD:8\",\"x\":0.14461172267254213,\"xanchor\":\"center\",\"y\":0.16108136828276928,\"yanchor\":\"bottom\"},{\"ax\":0,\"ay\":0,\"text\":\"X:VCD:9\",\"x\":0.14117015843168218,\"xanchor\":\"center\",\"y\":0.16259037292984932,\"yanchor\":\"bottom\"},{\"ax\":0,\"ay\":0,\"text\":\"X:VCD:10\",\"x\":0.13581213484929608,\"xanchor\":\"center\",\"y\":0.16030433073482073,\"yanchor\":\"bottom\"},{\"ax\":0,\"ay\":0,\"text\":\"X:VCD:11\",\"x\":0.12901915509123157,\"xanchor\":\"center\",\"y\":0.15051980098046996,\"yanchor\":\"bottom\"},{\"ax\":0,\"ay\":0,\"text\":\"X:VCD:12\",\"x\":0.1227030105845902,\"xanchor\":\"center\",\"y\":0.13343665430236082,\"yanchor\":\"bottom\"},{\"ax\":0,\"ay\":0,\"text\":\"X:VCD:13\",\"x\":0.1187766112159191,\"xanchor\":\"center\",\"y\":0.11401386256331357,\"yanchor\":\"bottom\"},{\"ax\":0,\"ay\":0,\"text\":\"X:Glc:1\",\"x\":0.04093639066499489,\"xanchor\":\"center\",\"y\":0.09090811859237333,\"yanchor\":\"bottom\"},{\"ax\":0,\"ay\":0,\"text\":\"X:Glc:2\",\"x\":0.024598671311544824,\"xanchor\":\"center\",\"y\":0.10601838783403947,\"yanchor\":\"bottom\"},{\"ax\":0,\"ay\":0,\"text\":\"X:Glc:3\",\"x\":-0.006359642619890697,\"xanchor\":\"center\",\"y\":0.13387621675537406,\"yanchor\":\"bottom\"},{\"ax\":0,\"ay\":0,\"text\":\"X:Glc:4\",\"x\":-0.032081709880005894,\"xanchor\":\"center\",\"y\":0.1581389199092117,\"yanchor\":\"bottom\"},{\"ax\":0,\"ay\":0,\"text\":\"X:Glc:5\",\"x\":-0.04348342403413531,\"xanchor\":\"center\",\"y\":0.17207307467057922,\"yanchor\":\"bottom\"},{\"ax\":0,\"ay\":0,\"text\":\"X:Glc:6\",\"x\":-0.05482235702672145,\"xanchor\":\"center\",\"y\":0.16335116564429536,\"yanchor\":\"bottom\"},{\"ax\":0,\"ay\":0,\"text\":\"X:Glc:7\",\"x\":-0.06592257603380987,\"xanchor\":\"center\",\"y\":0.14146879530848697,\"yanchor\":\"bottom\"},{\"ax\":0,\"ay\":0,\"text\":\"X:Glc:8\",\"x\":-0.07220533029142417,\"xanchor\":\"center\",\"y\":0.11974712183128795,\"yanchor\":\"bottom\"},{\"ax\":0,\"ay\":0,\"text\":\"X:Glc:9\",\"x\":-0.07239829809466075,\"xanchor\":\"center\",\"y\":0.10785714763877688,\"yanchor\":\"bottom\"},{\"ax\":0,\"ay\":0,\"text\":\"X:Glc:10\",\"x\":-0.07036405638020216,\"xanchor\":\"center\",\"y\":0.10163362455890293,\"yanchor\":\"bottom\"},{\"ax\":0,\"ay\":0,\"text\":\"X:Glc:11\",\"x\":-0.06952631988453621,\"xanchor\":\"center\",\"y\":0.09963577970818394,\"yanchor\":\"bottom\"},{\"ax\":0,\"ay\":0,\"text\":\"X:Glc:12\",\"x\":-0.0711225370437106,\"xanchor\":\"center\",\"y\":0.09537616344073117,\"yanchor\":\"bottom\"},{\"ax\":0,\"ay\":0,\"text\":\"X:Glc:13\",\"x\":-0.07421490068669878,\"xanchor\":\"center\",\"y\":0.09097703023607359,\"yanchor\":\"bottom\"},{\"ax\":0,\"ay\":0,\"text\":\"X:Lac:1\",\"x\":0.09621556379697074,\"xanchor\":\"center\",\"y\":-0.1989622430893157,\"yanchor\":\"bottom\"},{\"ax\":0,\"ay\":0,\"text\":\"X:Lac:2\",\"x\":0.09829840279476253,\"xanchor\":\"center\",\"y\":-0.1968879345828624,\"yanchor\":\"bottom\"},{\"ax\":0,\"ay\":0,\"text\":\"X:Lac:3\",\"x\":0.10313926337486487,\"xanchor\":\"center\",\"y\":-0.1963857717440485,\"yanchor\":\"bottom\"},{\"ax\":0,\"ay\":0,\"text\":\"X:Lac:4\",\"x\":0.11255348569569334,\"xanchor\":\"center\",\"y\":-0.19690227576508817,\"yanchor\":\"bottom\"},{\"ax\":0,\"ay\":0,\"text\":\"X:Lac:5\",\"x\":0.1283458508580335,\"xanchor\":\"center\",\"y\":-0.19539353017718467,\"yanchor\":\"bottom\"},{\"ax\":0,\"ay\":0,\"text\":\"X:Lac:6\",\"x\":0.15411312492804263,\"xanchor\":\"center\",\"y\":-0.181487755656636,\"yanchor\":\"bottom\"},{\"ax\":0,\"ay\":0,\"text\":\"X:Lac:7\",\"x\":0.1852809034319509,\"xanchor\":\"center\",\"y\":-0.14310593384190604,\"yanchor\":\"bottom\"},{\"ax\":0,\"ay\":0,\"text\":\"X:Lac:8\",\"x\":0.20735816227416856,\"xanchor\":\"center\",\"y\":-0.09122040165416404,\"yanchor\":\"bottom\"},{\"ax\":0,\"ay\":0,\"text\":\"X:Lac:9\",\"x\":0.21672550107920965,\"xanchor\":\"center\",\"y\":-0.0457433368353052,\"yanchor\":\"bottom\"},{\"ax\":0,\"ay\":0,\"text\":\"X:Lac:10\",\"x\":0.21853064465895078,\"xanchor\":\"center\",\"y\":-0.013256283331760384,\"yanchor\":\"bottom\"},{\"ax\":0,\"ay\":0,\"text\":\"X:Lac:11\",\"x\":0.2174053055992744,\"xanchor\":\"center\",\"y\":0.008034184499107002,\"yanchor\":\"bottom\"},{\"ax\":0,\"ay\":0,\"text\":\"X:Lac:12\",\"x\":0.21556191999521238,\"xanchor\":\"center\",\"y\":0.021128683690021233,\"yanchor\":\"bottom\"},{\"ax\":0,\"ay\":0,\"text\":\"X:Lac:13\",\"x\":0.2138729915967292,\"xanchor\":\"center\",\"y\":0.028643068095401424,\"yanchor\":\"bottom\"},{\"ax\":0,\"ay\":0,\"text\":\"X:Titer:1\",\"x\":0.04037080922649427,\"xanchor\":\"center\",\"y\":-0.1927083851080327,\"yanchor\":\"bottom\"},{\"ax\":0,\"ay\":0,\"text\":\"X:Titer:2\",\"x\":0.07896836454907193,\"xanchor\":\"center\",\"y\":-0.19801670265427837,\"yanchor\":\"bottom\"},{\"ax\":0,\"ay\":0,\"text\":\"X:Titer:3\",\"x\":0.09372461301442846,\"xanchor\":\"center\",\"y\":-0.1966408947951476,\"yanchor\":\"bottom\"},{\"ax\":0,\"ay\":0,\"text\":\"X:Titer:4\",\"x\":0.10943703738528779,\"xanchor\":\"center\",\"y\":-0.2006018168412154,\"yanchor\":\"bottom\"},{\"ax\":0,\"ay\":0,\"text\":\"X:Titer:5\",\"x\":0.13093229293375486,\"xanchor\":\"center\",\"y\":-0.19699302220017326,\"yanchor\":\"bottom\"},{\"ax\":0,\"ay\":0,\"text\":\"X:Titer:6\",\"x\":0.16645421900367924,\"xanchor\":\"center\",\"y\":-0.15209386372764816,\"yanchor\":\"bottom\"},{\"ax\":0,\"ay\":0,\"text\":\"X:Titer:7\",\"x\":0.19666930632035376,\"xanchor\":\"center\",\"y\":-0.06829724834655201,\"yanchor\":\"bottom\"},{\"ax\":0,\"ay\":0,\"text\":\"X:Titer:8\",\"x\":0.20935538368990533,\"xanchor\":\"center\",\"y\":-0.003896004671018514,\"yanchor\":\"bottom\"},{\"ax\":0,\"ay\":0,\"text\":\"X:Titer:9\",\"x\":0.21306609426703566,\"xanchor\":\"center\",\"y\":0.03960695850327976,\"yanchor\":\"bottom\"},{\"ax\":0,\"ay\":0,\"text\":\"X:Titer:10\",\"x\":0.21250173586185236,\"xanchor\":\"center\",\"y\":0.07009436509258354,\"yanchor\":\"bottom\"},{\"ax\":0,\"ay\":0,\"text\":\"X:Titer:11\",\"x\":0.20972917773213212,\"xanchor\":\"center\",\"y\":0.08908687710465445,\"yanchor\":\"bottom\"},{\"ax\":0,\"ay\":0,\"text\":\"X:Titer:12\",\"x\":0.2070485107601019,\"xanchor\":\"center\",\"y\":0.09887927561057352,\"yanchor\":\"bottom\"},{\"ax\":0,\"ay\":0,\"text\":\"X:Titer:13\",\"x\":0.20541406427046766,\"xanchor\":\"center\",\"y\":0.10206715279523546,\"yanchor\":\"bottom\"}]},                        {\"responsive\": true}                    ).then(function(){\n",
              "                            \n",
              "var gd = document.getElementById('42d1dc0f-5330-452d-a8d6-c75bedac2814');\n",
              "var x = new MutationObserver(function (mutations, observer) {{\n",
              "        var display = window.getComputedStyle(gd).display;\n",
              "        if (!display || display === 'none') {{\n",
              "            console.log([gd, 'removed!']);\n",
              "            Plotly.purge(gd);\n",
              "            observer.disconnect();\n",
              "        }}\n",
              "}});\n",
              "\n",
              "// Listen for the removal of the full notebook cells\n",
              "var notebookContainer = gd.closest('#notebook-container');\n",
              "if (notebookContainer) {{\n",
              "    x.observe(notebookContainer, {childList: true});\n",
              "}}\n",
              "\n",
              "// Listen for the clearing of the current output cell\n",
              "var outputEl = gd.closest('.output');\n",
              "if (outputEl) {{\n",
              "    x.observe(outputEl, {childList: true});\n",
              "}}\n",
              "\n",
              "                        })                };                            </script>        </div>\n",
              "</body>\n",
              "</html>"
            ]
          },
          "metadata": {}
        }
      ]
    },
    {
      "cell_type": "code",
      "source": [
        "# Model coefficients\n",
        "columns = X.columns\n",
        "coefficients = modelhelpers.vip(X,y,pls)\n",
        "fig = px.bar(x=list(columns),y=coefficients.reshape(-1),title=\"Variable Importance in PLS\", labels={'x':\"Variables\", 'y':\"VIP value\"})\n",
        "fig.show()"
      ],
      "metadata": {
        "colab": {
          "base_uri": "https://localhost:8080/",
          "height": 542
        },
        "id": "KbTXck8lU9O5",
        "outputId": "7f45ccb4-b483-437a-f4cf-d5ed88494c04"
      },
      "execution_count": 125,
      "outputs": [
        {
          "output_type": "display_data",
          "data": {
            "text/html": [
              "<html>\n",
              "<head><meta charset=\"utf-8\" /></head>\n",
              "<body>\n",
              "    <div>            <script src=\"https://cdnjs.cloudflare.com/ajax/libs/mathjax/2.7.5/MathJax.js?config=TeX-AMS-MML_SVG\"></script><script type=\"text/javascript\">if (window.MathJax) {MathJax.Hub.Config({SVG: {font: \"STIX-Web\"}});}</script>                <script type=\"text/javascript\">window.PlotlyConfig = {MathJaxConfig: 'local'};</script>\n",
              "        <script src=\"https://cdn.plot.ly/plotly-2.8.3.min.js\"></script>                <div id=\"e053395a-a0af-4e69-aa7b-f71a975e84aa\" class=\"plotly-graph-div\" style=\"height:525px; width:100%;\"></div>            <script type=\"text/javascript\">                                    window.PLOTLYENV=window.PLOTLYENV || {};                                    if (document.getElementById(\"e053395a-a0af-4e69-aa7b-f71a975e84aa\")) {                    Plotly.newPlot(                        \"e053395a-a0af-4e69-aa7b-f71a975e84aa\",                        [{\"alignmentgroup\":\"True\",\"hovertemplate\":\"Variables=%{x}<br>VIP value=%{y}<extra></extra>\",\"legendgroup\":\"\",\"marker\":{\"color\":\"#636efa\",\"pattern\":{\"shape\":\"\"}},\"name\":\"\",\"offsetgroup\":\"\",\"orientation\":\"v\",\"showlegend\":false,\"textposition\":\"auto\",\"x\":[\"feed_start\",\"feed_end\",\"Glc_feed_rate\",\"Glc_0\",\"VCD_0\",\"X:VCD:1\",\"X:VCD:2\",\"X:VCD:3\",\"X:VCD:4\",\"X:VCD:5\",\"X:VCD:6\",\"X:VCD:7\",\"X:VCD:8\",\"X:VCD:9\",\"X:VCD:10\",\"X:VCD:11\",\"X:VCD:12\",\"X:VCD:13\",\"X:Glc:1\",\"X:Glc:2\",\"X:Glc:3\",\"X:Glc:4\",\"X:Glc:5\",\"X:Glc:6\",\"X:Glc:7\",\"X:Glc:8\",\"X:Glc:9\",\"X:Glc:10\",\"X:Glc:11\",\"X:Glc:12\",\"X:Glc:13\",\"X:Lac:1\",\"X:Lac:2\",\"X:Lac:3\",\"X:Lac:4\",\"X:Lac:5\",\"X:Lac:6\",\"X:Lac:7\",\"X:Lac:8\",\"X:Lac:9\",\"X:Lac:10\",\"X:Lac:11\",\"X:Lac:12\",\"X:Lac:13\",\"X:Titer:1\",\"X:Titer:2\",\"X:Titer:3\",\"X:Titer:4\",\"X:Titer:5\",\"X:Titer:6\",\"X:Titer:7\",\"X:Titer:8\",\"X:Titer:9\",\"X:Titer:10\",\"X:Titer:11\",\"X:Titer:12\",\"X:Titer:13\"],\"xaxis\":\"x\",\"y\":[0.4106092025598149,0.6097665332482026,0.6047552972899399,0.5669536073382948,0.5594922235547104,0.5670836604997271,0.5872624658232137,0.6460149771649067,0.792426610489833,1.0921024951364473,1.1728831583728656,1.2129798322407301,1.2581779922832768,1.2709704155854502,1.263295300838446,1.237226686136115,1.2138349460497238,1.2110030587682872,0.5659537731929101,0.5288150217513845,0.49146083981453614,0.5016079315572308,0.5411292599774824,0.5459437832541019,0.533831238320612,0.5231737896467147,0.5137770481159218,0.5041505522755058,0.4990326965810505,0.49288076019898863,0.4956897654804103,0.563437180106201,0.5733648727286091,0.5982233517702739,0.6476872294800926,0.7329284502015693,0.8827688704897567,1.094838106096271,1.2841985542685461,1.401546601750124,1.4609023340712173,1.4890604709488477,1.5017289755763747,1.5073456926294813,0.43230651447829993,0.4923906366392751,0.5518310645084337,0.6315434026543897,0.7470054143953412,0.9782628423064758,1.2664840474211527,1.461523972088771,1.5839096147288734,1.6586667798157735,1.6993620160615013,1.7222987553866853,1.7354272015436845],\"yaxis\":\"y\",\"type\":\"bar\"}],                        {\"template\":{\"data\":{\"bar\":[{\"error_x\":{\"color\":\"#2a3f5f\"},\"error_y\":{\"color\":\"#2a3f5f\"},\"marker\":{\"line\":{\"color\":\"#E5ECF6\",\"width\":0.5},\"pattern\":{\"fillmode\":\"overlay\",\"size\":10,\"solidity\":0.2}},\"type\":\"bar\"}],\"barpolar\":[{\"marker\":{\"line\":{\"color\":\"#E5ECF6\",\"width\":0.5},\"pattern\":{\"fillmode\":\"overlay\",\"size\":10,\"solidity\":0.2}},\"type\":\"barpolar\"}],\"carpet\":[{\"aaxis\":{\"endlinecolor\":\"#2a3f5f\",\"gridcolor\":\"white\",\"linecolor\":\"white\",\"minorgridcolor\":\"white\",\"startlinecolor\":\"#2a3f5f\"},\"baxis\":{\"endlinecolor\":\"#2a3f5f\",\"gridcolor\":\"white\",\"linecolor\":\"white\",\"minorgridcolor\":\"white\",\"startlinecolor\":\"#2a3f5f\"},\"type\":\"carpet\"}],\"choropleth\":[{\"colorbar\":{\"outlinewidth\":0,\"ticks\":\"\"},\"type\":\"choropleth\"}],\"contour\":[{\"colorbar\":{\"outlinewidth\":0,\"ticks\":\"\"},\"colorscale\":[[0.0,\"#0d0887\"],[0.1111111111111111,\"#46039f\"],[0.2222222222222222,\"#7201a8\"],[0.3333333333333333,\"#9c179e\"],[0.4444444444444444,\"#bd3786\"],[0.5555555555555556,\"#d8576b\"],[0.6666666666666666,\"#ed7953\"],[0.7777777777777778,\"#fb9f3a\"],[0.8888888888888888,\"#fdca26\"],[1.0,\"#f0f921\"]],\"type\":\"contour\"}],\"contourcarpet\":[{\"colorbar\":{\"outlinewidth\":0,\"ticks\":\"\"},\"type\":\"contourcarpet\"}],\"heatmap\":[{\"colorbar\":{\"outlinewidth\":0,\"ticks\":\"\"},\"colorscale\":[[0.0,\"#0d0887\"],[0.1111111111111111,\"#46039f\"],[0.2222222222222222,\"#7201a8\"],[0.3333333333333333,\"#9c179e\"],[0.4444444444444444,\"#bd3786\"],[0.5555555555555556,\"#d8576b\"],[0.6666666666666666,\"#ed7953\"],[0.7777777777777778,\"#fb9f3a\"],[0.8888888888888888,\"#fdca26\"],[1.0,\"#f0f921\"]],\"type\":\"heatmap\"}],\"heatmapgl\":[{\"colorbar\":{\"outlinewidth\":0,\"ticks\":\"\"},\"colorscale\":[[0.0,\"#0d0887\"],[0.1111111111111111,\"#46039f\"],[0.2222222222222222,\"#7201a8\"],[0.3333333333333333,\"#9c179e\"],[0.4444444444444444,\"#bd3786\"],[0.5555555555555556,\"#d8576b\"],[0.6666666666666666,\"#ed7953\"],[0.7777777777777778,\"#fb9f3a\"],[0.8888888888888888,\"#fdca26\"],[1.0,\"#f0f921\"]],\"type\":\"heatmapgl\"}],\"histogram\":[{\"marker\":{\"pattern\":{\"fillmode\":\"overlay\",\"size\":10,\"solidity\":0.2}},\"type\":\"histogram\"}],\"histogram2d\":[{\"colorbar\":{\"outlinewidth\":0,\"ticks\":\"\"},\"colorscale\":[[0.0,\"#0d0887\"],[0.1111111111111111,\"#46039f\"],[0.2222222222222222,\"#7201a8\"],[0.3333333333333333,\"#9c179e\"],[0.4444444444444444,\"#bd3786\"],[0.5555555555555556,\"#d8576b\"],[0.6666666666666666,\"#ed7953\"],[0.7777777777777778,\"#fb9f3a\"],[0.8888888888888888,\"#fdca26\"],[1.0,\"#f0f921\"]],\"type\":\"histogram2d\"}],\"histogram2dcontour\":[{\"colorbar\":{\"outlinewidth\":0,\"ticks\":\"\"},\"colorscale\":[[0.0,\"#0d0887\"],[0.1111111111111111,\"#46039f\"],[0.2222222222222222,\"#7201a8\"],[0.3333333333333333,\"#9c179e\"],[0.4444444444444444,\"#bd3786\"],[0.5555555555555556,\"#d8576b\"],[0.6666666666666666,\"#ed7953\"],[0.7777777777777778,\"#fb9f3a\"],[0.8888888888888888,\"#fdca26\"],[1.0,\"#f0f921\"]],\"type\":\"histogram2dcontour\"}],\"mesh3d\":[{\"colorbar\":{\"outlinewidth\":0,\"ticks\":\"\"},\"type\":\"mesh3d\"}],\"parcoords\":[{\"line\":{\"colorbar\":{\"outlinewidth\":0,\"ticks\":\"\"}},\"type\":\"parcoords\"}],\"pie\":[{\"automargin\":true,\"type\":\"pie\"}],\"scatter\":[{\"marker\":{\"colorbar\":{\"outlinewidth\":0,\"ticks\":\"\"}},\"type\":\"scatter\"}],\"scatter3d\":[{\"line\":{\"colorbar\":{\"outlinewidth\":0,\"ticks\":\"\"}},\"marker\":{\"colorbar\":{\"outlinewidth\":0,\"ticks\":\"\"}},\"type\":\"scatter3d\"}],\"scattercarpet\":[{\"marker\":{\"colorbar\":{\"outlinewidth\":0,\"ticks\":\"\"}},\"type\":\"scattercarpet\"}],\"scattergeo\":[{\"marker\":{\"colorbar\":{\"outlinewidth\":0,\"ticks\":\"\"}},\"type\":\"scattergeo\"}],\"scattergl\":[{\"marker\":{\"colorbar\":{\"outlinewidth\":0,\"ticks\":\"\"}},\"type\":\"scattergl\"}],\"scattermapbox\":[{\"marker\":{\"colorbar\":{\"outlinewidth\":0,\"ticks\":\"\"}},\"type\":\"scattermapbox\"}],\"scatterpolar\":[{\"marker\":{\"colorbar\":{\"outlinewidth\":0,\"ticks\":\"\"}},\"type\":\"scatterpolar\"}],\"scatterpolargl\":[{\"marker\":{\"colorbar\":{\"outlinewidth\":0,\"ticks\":\"\"}},\"type\":\"scatterpolargl\"}],\"scatterternary\":[{\"marker\":{\"colorbar\":{\"outlinewidth\":0,\"ticks\":\"\"}},\"type\":\"scatterternary\"}],\"surface\":[{\"colorbar\":{\"outlinewidth\":0,\"ticks\":\"\"},\"colorscale\":[[0.0,\"#0d0887\"],[0.1111111111111111,\"#46039f\"],[0.2222222222222222,\"#7201a8\"],[0.3333333333333333,\"#9c179e\"],[0.4444444444444444,\"#bd3786\"],[0.5555555555555556,\"#d8576b\"],[0.6666666666666666,\"#ed7953\"],[0.7777777777777778,\"#fb9f3a\"],[0.8888888888888888,\"#fdca26\"],[1.0,\"#f0f921\"]],\"type\":\"surface\"}],\"table\":[{\"cells\":{\"fill\":{\"color\":\"#EBF0F8\"},\"line\":{\"color\":\"white\"}},\"header\":{\"fill\":{\"color\":\"#C8D4E3\"},\"line\":{\"color\":\"white\"}},\"type\":\"table\"}]},\"layout\":{\"annotationdefaults\":{\"arrowcolor\":\"#2a3f5f\",\"arrowhead\":0,\"arrowwidth\":1},\"autotypenumbers\":\"strict\",\"coloraxis\":{\"colorbar\":{\"outlinewidth\":0,\"ticks\":\"\"}},\"colorscale\":{\"diverging\":[[0,\"#8e0152\"],[0.1,\"#c51b7d\"],[0.2,\"#de77ae\"],[0.3,\"#f1b6da\"],[0.4,\"#fde0ef\"],[0.5,\"#f7f7f7\"],[0.6,\"#e6f5d0\"],[0.7,\"#b8e186\"],[0.8,\"#7fbc41\"],[0.9,\"#4d9221\"],[1,\"#276419\"]],\"sequential\":[[0.0,\"#0d0887\"],[0.1111111111111111,\"#46039f\"],[0.2222222222222222,\"#7201a8\"],[0.3333333333333333,\"#9c179e\"],[0.4444444444444444,\"#bd3786\"],[0.5555555555555556,\"#d8576b\"],[0.6666666666666666,\"#ed7953\"],[0.7777777777777778,\"#fb9f3a\"],[0.8888888888888888,\"#fdca26\"],[1.0,\"#f0f921\"]],\"sequentialminus\":[[0.0,\"#0d0887\"],[0.1111111111111111,\"#46039f\"],[0.2222222222222222,\"#7201a8\"],[0.3333333333333333,\"#9c179e\"],[0.4444444444444444,\"#bd3786\"],[0.5555555555555556,\"#d8576b\"],[0.6666666666666666,\"#ed7953\"],[0.7777777777777778,\"#fb9f3a\"],[0.8888888888888888,\"#fdca26\"],[1.0,\"#f0f921\"]]},\"colorway\":[\"#636efa\",\"#EF553B\",\"#00cc96\",\"#ab63fa\",\"#FFA15A\",\"#19d3f3\",\"#FF6692\",\"#B6E880\",\"#FF97FF\",\"#FECB52\"],\"font\":{\"color\":\"#2a3f5f\"},\"geo\":{\"bgcolor\":\"white\",\"lakecolor\":\"white\",\"landcolor\":\"#E5ECF6\",\"showlakes\":true,\"showland\":true,\"subunitcolor\":\"white\"},\"hoverlabel\":{\"align\":\"left\"},\"hovermode\":\"closest\",\"mapbox\":{\"style\":\"light\"},\"paper_bgcolor\":\"white\",\"plot_bgcolor\":\"#E5ECF6\",\"polar\":{\"angularaxis\":{\"gridcolor\":\"white\",\"linecolor\":\"white\",\"ticks\":\"\"},\"bgcolor\":\"#E5ECF6\",\"radialaxis\":{\"gridcolor\":\"white\",\"linecolor\":\"white\",\"ticks\":\"\"}},\"scene\":{\"xaxis\":{\"backgroundcolor\":\"#E5ECF6\",\"gridcolor\":\"white\",\"gridwidth\":2,\"linecolor\":\"white\",\"showbackground\":true,\"ticks\":\"\",\"zerolinecolor\":\"white\"},\"yaxis\":{\"backgroundcolor\":\"#E5ECF6\",\"gridcolor\":\"white\",\"gridwidth\":2,\"linecolor\":\"white\",\"showbackground\":true,\"ticks\":\"\",\"zerolinecolor\":\"white\"},\"zaxis\":{\"backgroundcolor\":\"#E5ECF6\",\"gridcolor\":\"white\",\"gridwidth\":2,\"linecolor\":\"white\",\"showbackground\":true,\"ticks\":\"\",\"zerolinecolor\":\"white\"}},\"shapedefaults\":{\"line\":{\"color\":\"#2a3f5f\"}},\"ternary\":{\"aaxis\":{\"gridcolor\":\"white\",\"linecolor\":\"white\",\"ticks\":\"\"},\"baxis\":{\"gridcolor\":\"white\",\"linecolor\":\"white\",\"ticks\":\"\"},\"bgcolor\":\"#E5ECF6\",\"caxis\":{\"gridcolor\":\"white\",\"linecolor\":\"white\",\"ticks\":\"\"}},\"title\":{\"x\":0.05},\"xaxis\":{\"automargin\":true,\"gridcolor\":\"white\",\"linecolor\":\"white\",\"ticks\":\"\",\"title\":{\"standoff\":15},\"zerolinecolor\":\"white\",\"zerolinewidth\":2},\"yaxis\":{\"automargin\":true,\"gridcolor\":\"white\",\"linecolor\":\"white\",\"ticks\":\"\",\"title\":{\"standoff\":15},\"zerolinecolor\":\"white\",\"zerolinewidth\":2}}},\"xaxis\":{\"anchor\":\"y\",\"domain\":[0.0,1.0],\"title\":{\"text\":\"Variables\"}},\"yaxis\":{\"anchor\":\"x\",\"domain\":[0.0,1.0],\"title\":{\"text\":\"VIP value\"}},\"legend\":{\"tracegroupgap\":0},\"title\":{\"text\":\"Variable Importance in PLS\"},\"barmode\":\"relative\"},                        {\"responsive\": true}                    ).then(function(){\n",
              "                            \n",
              "var gd = document.getElementById('e053395a-a0af-4e69-aa7b-f71a975e84aa');\n",
              "var x = new MutationObserver(function (mutations, observer) {{\n",
              "        var display = window.getComputedStyle(gd).display;\n",
              "        if (!display || display === 'none') {{\n",
              "            console.log([gd, 'removed!']);\n",
              "            Plotly.purge(gd);\n",
              "            observer.disconnect();\n",
              "        }}\n",
              "}});\n",
              "\n",
              "// Listen for the removal of the full notebook cells\n",
              "var notebookContainer = gd.closest('#notebook-container');\n",
              "if (notebookContainer) {{\n",
              "    x.observe(notebookContainer, {childList: true});\n",
              "}}\n",
              "\n",
              "// Listen for the clearing of the current output cell\n",
              "var outputEl = gd.closest('.output');\n",
              "if (outputEl) {{\n",
              "    x.observe(outputEl, {childList: true});\n",
              "}}\n",
              "\n",
              "                        })                };                            </script>        </div>\n",
              "</body>\n",
              "</html>"
            ]
          },
          "metadata": {}
        }
      ]
    },
    {
      "cell_type": "markdown",
      "source": [
        "### Hyperparameter Optimization in Cross Validation\n",
        "\n",
        "\n",
        "In this section, we will simulate a typical cross- validation to define the optimal number of latent variables.\n",
        "\n",
        "\n",
        "Nfold PLS models are trained using (Nfolds-1) folds. For each model, the sum of squared residuals (SSR) is calculated and summed up..\n",
        "\n",
        "This is repeated for different numbers of latent variables. The number of latent variables returning the least value of the RMSE is chosen as optimal.\n",
        "A second criterion is selected, namely the adjusted R-squared (adj. R^2), which is weighting the effect of the number of latent variables, i.e., if two values of the number of latent variables are returning a similar value of the SSR, then the one using less variables is chosen to be more likely to produce robust predictions.:\n"
      ],
      "metadata": {
        "id": "4NiwnjgvK6tg"
      }
    },
    {
      "cell_type": "code",
      "source": [
        "# Range of number of latent variables to optimize for.\n",
        "range_LV = range(1, 26)\n",
        "# Use k Fold for Cross Validation\n",
        "use_folds = 10"
      ],
      "metadata": {
        "id": "Knlo1C1OKmst"
      },
      "execution_count": 126,
      "outputs": []
    },
    {
      "cell_type": "code",
      "source": [
        "# Define Pipeline\n",
        "pscaler = StandardScaler(with_mean=USE_NORM,with_std=USE_NORM)\n",
        "pls = PLSRegression(n_components=N_LV)\n",
        "pipe = Pipeline([('scaler', pscaler), ('pls', pls)])\n",
        "# Train PLS model\n",
        "pipe.fit(X,y)\n",
        "# Obtain cross validation curve\n",
        "train_eval, valid_eval = validation_curve(pipe, X, y, param_name = \"pls__n_components\", param_range=list(range_LV),scoring = 'neg_root_mean_squared_error')\n"
      ],
      "metadata": {
        "id": "W_Ey_GIIUlzK"
      },
      "execution_count": 128,
      "outputs": []
    },
    {
      "cell_type": "code",
      "source": [
        "train_score=-np.mean(train_eval,axis=1)\n",
        "valid_score=-np.mean(valid_eval,axis=1)\n",
        "train_std = np.std(train_eval,axis=1)\n",
        "valid_std = np.std(valid_eval,axis=1)\n"
      ],
      "metadata": {
        "id": "4ZB_5MRoQvDK"
      },
      "execution_count": 129,
      "outputs": []
    },
    {
      "cell_type": "code",
      "source": [
        "fig = go.Figure()\n",
        "fig.add_trace(go.Scatter( x=list(range_LV), y=train_score, error_y=dict(type='data',array=train_std,visible=True), name=\"Training\"))\n",
        "fig.add_trace(go.Scatter( x=list(range_LV), y=valid_score, error_y=dict(type='data',array=valid_std,visible=True), name=\"Validation\"))\n",
        "fig.update_layout(title=\"Hyperparameter Optimization in PLS\",xaxis_title=\"Number of Latent Variables\",yaxis_title=\"RMSE\",legend_title=\"Evaluation type\")\n",
        "fig.show()\n"
      ],
      "metadata": {
        "colab": {
          "base_uri": "https://localhost:8080/",
          "height": 542
        },
        "id": "k3Xv0WUOPFjd",
        "outputId": "3f38fa6f-6079-463c-ac92-8df885685391"
      },
      "execution_count": 130,
      "outputs": [
        {
          "output_type": "display_data",
          "data": {
            "text/html": [
              "<html>\n",
              "<head><meta charset=\"utf-8\" /></head>\n",
              "<body>\n",
              "    <div>            <script src=\"https://cdnjs.cloudflare.com/ajax/libs/mathjax/2.7.5/MathJax.js?config=TeX-AMS-MML_SVG\"></script><script type=\"text/javascript\">if (window.MathJax) {MathJax.Hub.Config({SVG: {font: \"STIX-Web\"}});}</script>                <script type=\"text/javascript\">window.PlotlyConfig = {MathJaxConfig: 'local'};</script>\n",
              "        <script src=\"https://cdn.plot.ly/plotly-2.8.3.min.js\"></script>                <div id=\"591e28a6-67b1-4244-baeb-dd4bb6f8d9ec\" class=\"plotly-graph-div\" style=\"height:525px; width:100%;\"></div>            <script type=\"text/javascript\">                                    window.PLOTLYENV=window.PLOTLYENV || {};                                    if (document.getElementById(\"591e28a6-67b1-4244-baeb-dd4bb6f8d9ec\")) {                    Plotly.newPlot(                        \"591e28a6-67b1-4244-baeb-dd4bb6f8d9ec\",                        [{\"error_y\":{\"array\":[9.841714129111176,3.1989948146243634,2.668956897162438,2.290800896591756,2.4108005309368883,2.0570876244989353,2.312656648681583,1.8246838726300323,2.197888633602367,1.4098108550918769,1.1917876649575843,0.5569787479998346,0.9545546854482839,0.6747680160385444,0.7240859003643139,0.7831382881520516,0.5732055421448424,0.55685746597839,0.46738595868634886,0.38120170791226843,0.35139050324647825,0.3517132601647889,0.355949968814052,0.3834839228983969,0.34254914191990987],\"type\":\"data\",\"visible\":true},\"name\":\"Training\",\"x\":[1,2,3,4,5,6,7,8,9,10,11,12,13,14,15,16,17,18,19,20,21,22,23,24,25],\"y\":[139.9918414044186,73.76209813238621,64.37436192980995,44.49390600561384,35.10335171437113,30.0332730465556,26.307260141810218,22.011306022711427,19.135201016310223,15.174265184667865,13.120832078386243,9.921697674288968,7.966774035852103,6.662444405649663,5.5512536154180046,4.9316664080663735,4.267309275038334,3.8972105279885354,3.3809156827770037,3.0354060136673957,2.856238825865689,2.617079705738607,2.4581964781358634,2.3194076005676107,2.1386683450738304],\"type\":\"scatter\"},{\"error_y\":{\"array\":[29.418850236911307,15.877967604320142,10.791706215928546,13.812741591475442,16.456907034854517,12.641394090317013,9.17367975709964,8.423691901520163,7.740982504299233,4.778145178078003,4.563390339216152,7.064189337554626,4.522921140828768,4.296645111034117,5.841960253175791,7.373475950984007,6.750217130871884,6.298033554041002,5.370481767219978,4.182764208051963,3.9203148290809495,4.125876177649306,3.4923670751898066,5.090531004828752,9.647423961551986],\"type\":\"data\",\"visible\":true},\"name\":\"Validation\",\"x\":[1,2,3,4,5,6,7,8,9,10,11,12,13,14,15,16,17,18,19,20,21,22,23,24,25],\"y\":[142.527935601327,84.33857844182812,75.33675254792827,53.79790807667606,46.370261736924725,43.14584811674251,37.31290865153817,34.248212609626535,30.570545475222456,26.464645476125895,22.058363714842294,18.357767387432226,16.701698319335883,14.07606409293599,14.256148385621234,14.72085062986746,14.178678322919726,14.077704787866082,14.347883461118348,14.268117570786533,14.56058953706569,14.974515560371529,15.519262624512015,17.714961306580967,20.12919310815008],\"type\":\"scatter\"}],                        {\"template\":{\"data\":{\"bar\":[{\"error_x\":{\"color\":\"#2a3f5f\"},\"error_y\":{\"color\":\"#2a3f5f\"},\"marker\":{\"line\":{\"color\":\"#E5ECF6\",\"width\":0.5},\"pattern\":{\"fillmode\":\"overlay\",\"size\":10,\"solidity\":0.2}},\"type\":\"bar\"}],\"barpolar\":[{\"marker\":{\"line\":{\"color\":\"#E5ECF6\",\"width\":0.5},\"pattern\":{\"fillmode\":\"overlay\",\"size\":10,\"solidity\":0.2}},\"type\":\"barpolar\"}],\"carpet\":[{\"aaxis\":{\"endlinecolor\":\"#2a3f5f\",\"gridcolor\":\"white\",\"linecolor\":\"white\",\"minorgridcolor\":\"white\",\"startlinecolor\":\"#2a3f5f\"},\"baxis\":{\"endlinecolor\":\"#2a3f5f\",\"gridcolor\":\"white\",\"linecolor\":\"white\",\"minorgridcolor\":\"white\",\"startlinecolor\":\"#2a3f5f\"},\"type\":\"carpet\"}],\"choropleth\":[{\"colorbar\":{\"outlinewidth\":0,\"ticks\":\"\"},\"type\":\"choropleth\"}],\"contour\":[{\"colorbar\":{\"outlinewidth\":0,\"ticks\":\"\"},\"colorscale\":[[0.0,\"#0d0887\"],[0.1111111111111111,\"#46039f\"],[0.2222222222222222,\"#7201a8\"],[0.3333333333333333,\"#9c179e\"],[0.4444444444444444,\"#bd3786\"],[0.5555555555555556,\"#d8576b\"],[0.6666666666666666,\"#ed7953\"],[0.7777777777777778,\"#fb9f3a\"],[0.8888888888888888,\"#fdca26\"],[1.0,\"#f0f921\"]],\"type\":\"contour\"}],\"contourcarpet\":[{\"colorbar\":{\"outlinewidth\":0,\"ticks\":\"\"},\"type\":\"contourcarpet\"}],\"heatmap\":[{\"colorbar\":{\"outlinewidth\":0,\"ticks\":\"\"},\"colorscale\":[[0.0,\"#0d0887\"],[0.1111111111111111,\"#46039f\"],[0.2222222222222222,\"#7201a8\"],[0.3333333333333333,\"#9c179e\"],[0.4444444444444444,\"#bd3786\"],[0.5555555555555556,\"#d8576b\"],[0.6666666666666666,\"#ed7953\"],[0.7777777777777778,\"#fb9f3a\"],[0.8888888888888888,\"#fdca26\"],[1.0,\"#f0f921\"]],\"type\":\"heatmap\"}],\"heatmapgl\":[{\"colorbar\":{\"outlinewidth\":0,\"ticks\":\"\"},\"colorscale\":[[0.0,\"#0d0887\"],[0.1111111111111111,\"#46039f\"],[0.2222222222222222,\"#7201a8\"],[0.3333333333333333,\"#9c179e\"],[0.4444444444444444,\"#bd3786\"],[0.5555555555555556,\"#d8576b\"],[0.6666666666666666,\"#ed7953\"],[0.7777777777777778,\"#fb9f3a\"],[0.8888888888888888,\"#fdca26\"],[1.0,\"#f0f921\"]],\"type\":\"heatmapgl\"}],\"histogram\":[{\"marker\":{\"pattern\":{\"fillmode\":\"overlay\",\"size\":10,\"solidity\":0.2}},\"type\":\"histogram\"}],\"histogram2d\":[{\"colorbar\":{\"outlinewidth\":0,\"ticks\":\"\"},\"colorscale\":[[0.0,\"#0d0887\"],[0.1111111111111111,\"#46039f\"],[0.2222222222222222,\"#7201a8\"],[0.3333333333333333,\"#9c179e\"],[0.4444444444444444,\"#bd3786\"],[0.5555555555555556,\"#d8576b\"],[0.6666666666666666,\"#ed7953\"],[0.7777777777777778,\"#fb9f3a\"],[0.8888888888888888,\"#fdca26\"],[1.0,\"#f0f921\"]],\"type\":\"histogram2d\"}],\"histogram2dcontour\":[{\"colorbar\":{\"outlinewidth\":0,\"ticks\":\"\"},\"colorscale\":[[0.0,\"#0d0887\"],[0.1111111111111111,\"#46039f\"],[0.2222222222222222,\"#7201a8\"],[0.3333333333333333,\"#9c179e\"],[0.4444444444444444,\"#bd3786\"],[0.5555555555555556,\"#d8576b\"],[0.6666666666666666,\"#ed7953\"],[0.7777777777777778,\"#fb9f3a\"],[0.8888888888888888,\"#fdca26\"],[1.0,\"#f0f921\"]],\"type\":\"histogram2dcontour\"}],\"mesh3d\":[{\"colorbar\":{\"outlinewidth\":0,\"ticks\":\"\"},\"type\":\"mesh3d\"}],\"parcoords\":[{\"line\":{\"colorbar\":{\"outlinewidth\":0,\"ticks\":\"\"}},\"type\":\"parcoords\"}],\"pie\":[{\"automargin\":true,\"type\":\"pie\"}],\"scatter\":[{\"marker\":{\"colorbar\":{\"outlinewidth\":0,\"ticks\":\"\"}},\"type\":\"scatter\"}],\"scatter3d\":[{\"line\":{\"colorbar\":{\"outlinewidth\":0,\"ticks\":\"\"}},\"marker\":{\"colorbar\":{\"outlinewidth\":0,\"ticks\":\"\"}},\"type\":\"scatter3d\"}],\"scattercarpet\":[{\"marker\":{\"colorbar\":{\"outlinewidth\":0,\"ticks\":\"\"}},\"type\":\"scattercarpet\"}],\"scattergeo\":[{\"marker\":{\"colorbar\":{\"outlinewidth\":0,\"ticks\":\"\"}},\"type\":\"scattergeo\"}],\"scattergl\":[{\"marker\":{\"colorbar\":{\"outlinewidth\":0,\"ticks\":\"\"}},\"type\":\"scattergl\"}],\"scattermapbox\":[{\"marker\":{\"colorbar\":{\"outlinewidth\":0,\"ticks\":\"\"}},\"type\":\"scattermapbox\"}],\"scatterpolar\":[{\"marker\":{\"colorbar\":{\"outlinewidth\":0,\"ticks\":\"\"}},\"type\":\"scatterpolar\"}],\"scatterpolargl\":[{\"marker\":{\"colorbar\":{\"outlinewidth\":0,\"ticks\":\"\"}},\"type\":\"scatterpolargl\"}],\"scatterternary\":[{\"marker\":{\"colorbar\":{\"outlinewidth\":0,\"ticks\":\"\"}},\"type\":\"scatterternary\"}],\"surface\":[{\"colorbar\":{\"outlinewidth\":0,\"ticks\":\"\"},\"colorscale\":[[0.0,\"#0d0887\"],[0.1111111111111111,\"#46039f\"],[0.2222222222222222,\"#7201a8\"],[0.3333333333333333,\"#9c179e\"],[0.4444444444444444,\"#bd3786\"],[0.5555555555555556,\"#d8576b\"],[0.6666666666666666,\"#ed7953\"],[0.7777777777777778,\"#fb9f3a\"],[0.8888888888888888,\"#fdca26\"],[1.0,\"#f0f921\"]],\"type\":\"surface\"}],\"table\":[{\"cells\":{\"fill\":{\"color\":\"#EBF0F8\"},\"line\":{\"color\":\"white\"}},\"header\":{\"fill\":{\"color\":\"#C8D4E3\"},\"line\":{\"color\":\"white\"}},\"type\":\"table\"}]},\"layout\":{\"annotationdefaults\":{\"arrowcolor\":\"#2a3f5f\",\"arrowhead\":0,\"arrowwidth\":1},\"autotypenumbers\":\"strict\",\"coloraxis\":{\"colorbar\":{\"outlinewidth\":0,\"ticks\":\"\"}},\"colorscale\":{\"diverging\":[[0,\"#8e0152\"],[0.1,\"#c51b7d\"],[0.2,\"#de77ae\"],[0.3,\"#f1b6da\"],[0.4,\"#fde0ef\"],[0.5,\"#f7f7f7\"],[0.6,\"#e6f5d0\"],[0.7,\"#b8e186\"],[0.8,\"#7fbc41\"],[0.9,\"#4d9221\"],[1,\"#276419\"]],\"sequential\":[[0.0,\"#0d0887\"],[0.1111111111111111,\"#46039f\"],[0.2222222222222222,\"#7201a8\"],[0.3333333333333333,\"#9c179e\"],[0.4444444444444444,\"#bd3786\"],[0.5555555555555556,\"#d8576b\"],[0.6666666666666666,\"#ed7953\"],[0.7777777777777778,\"#fb9f3a\"],[0.8888888888888888,\"#fdca26\"],[1.0,\"#f0f921\"]],\"sequentialminus\":[[0.0,\"#0d0887\"],[0.1111111111111111,\"#46039f\"],[0.2222222222222222,\"#7201a8\"],[0.3333333333333333,\"#9c179e\"],[0.4444444444444444,\"#bd3786\"],[0.5555555555555556,\"#d8576b\"],[0.6666666666666666,\"#ed7953\"],[0.7777777777777778,\"#fb9f3a\"],[0.8888888888888888,\"#fdca26\"],[1.0,\"#f0f921\"]]},\"colorway\":[\"#636efa\",\"#EF553B\",\"#00cc96\",\"#ab63fa\",\"#FFA15A\",\"#19d3f3\",\"#FF6692\",\"#B6E880\",\"#FF97FF\",\"#FECB52\"],\"font\":{\"color\":\"#2a3f5f\"},\"geo\":{\"bgcolor\":\"white\",\"lakecolor\":\"white\",\"landcolor\":\"#E5ECF6\",\"showlakes\":true,\"showland\":true,\"subunitcolor\":\"white\"},\"hoverlabel\":{\"align\":\"left\"},\"hovermode\":\"closest\",\"mapbox\":{\"style\":\"light\"},\"paper_bgcolor\":\"white\",\"plot_bgcolor\":\"#E5ECF6\",\"polar\":{\"angularaxis\":{\"gridcolor\":\"white\",\"linecolor\":\"white\",\"ticks\":\"\"},\"bgcolor\":\"#E5ECF6\",\"radialaxis\":{\"gridcolor\":\"white\",\"linecolor\":\"white\",\"ticks\":\"\"}},\"scene\":{\"xaxis\":{\"backgroundcolor\":\"#E5ECF6\",\"gridcolor\":\"white\",\"gridwidth\":2,\"linecolor\":\"white\",\"showbackground\":true,\"ticks\":\"\",\"zerolinecolor\":\"white\"},\"yaxis\":{\"backgroundcolor\":\"#E5ECF6\",\"gridcolor\":\"white\",\"gridwidth\":2,\"linecolor\":\"white\",\"showbackground\":true,\"ticks\":\"\",\"zerolinecolor\":\"white\"},\"zaxis\":{\"backgroundcolor\":\"#E5ECF6\",\"gridcolor\":\"white\",\"gridwidth\":2,\"linecolor\":\"white\",\"showbackground\":true,\"ticks\":\"\",\"zerolinecolor\":\"white\"}},\"shapedefaults\":{\"line\":{\"color\":\"#2a3f5f\"}},\"ternary\":{\"aaxis\":{\"gridcolor\":\"white\",\"linecolor\":\"white\",\"ticks\":\"\"},\"baxis\":{\"gridcolor\":\"white\",\"linecolor\":\"white\",\"ticks\":\"\"},\"bgcolor\":\"#E5ECF6\",\"caxis\":{\"gridcolor\":\"white\",\"linecolor\":\"white\",\"ticks\":\"\"}},\"title\":{\"x\":0.05},\"xaxis\":{\"automargin\":true,\"gridcolor\":\"white\",\"linecolor\":\"white\",\"ticks\":\"\",\"title\":{\"standoff\":15},\"zerolinecolor\":\"white\",\"zerolinewidth\":2},\"yaxis\":{\"automargin\":true,\"gridcolor\":\"white\",\"linecolor\":\"white\",\"ticks\":\"\",\"title\":{\"standoff\":15},\"zerolinecolor\":\"white\",\"zerolinewidth\":2}}},\"title\":{\"text\":\"Hyperparameter Optimization in PLS\"},\"xaxis\":{\"title\":{\"text\":\"Number of Latent Variables\"}},\"yaxis\":{\"title\":{\"text\":\"RMSE\"}},\"legend\":{\"title\":{\"text\":\"Evaluation type\"}}},                        {\"responsive\": true}                    ).then(function(){\n",
              "                            \n",
              "var gd = document.getElementById('591e28a6-67b1-4244-baeb-dd4bb6f8d9ec');\n",
              "var x = new MutationObserver(function (mutations, observer) {{\n",
              "        var display = window.getComputedStyle(gd).display;\n",
              "        if (!display || display === 'none') {{\n",
              "            console.log([gd, 'removed!']);\n",
              "            Plotly.purge(gd);\n",
              "            observer.disconnect();\n",
              "        }}\n",
              "}});\n",
              "\n",
              "// Listen for the removal of the full notebook cells\n",
              "var notebookContainer = gd.closest('#notebook-container');\n",
              "if (notebookContainer) {{\n",
              "    x.observe(notebookContainer, {childList: true});\n",
              "}}\n",
              "\n",
              "// Listen for the clearing of the current output cell\n",
              "var outputEl = gd.closest('.output');\n",
              "if (outputEl) {{\n",
              "    x.observe(outputEl, {childList: true});\n",
              "}}\n",
              "\n",
              "                        })                };                            </script>        </div>\n",
              "</body>\n",
              "</html>"
            ]
          },
          "metadata": {}
        }
      ]
    },
    {
      "cell_type": "markdown",
      "source": [
        "# Task: \n",
        "\n",
        "1. What is the optimal number of latent variables to use for Historical PLS model\n",
        "2. Check model diagnostics by plotting residuals and verify if the modelling assumptions are satisfied.\n"
      ],
      "metadata": {
        "id": "1ZDg9ewmNfoj"
      }
    },
    {
      "cell_type": "code",
      "source": [],
      "metadata": {
        "id": "UxrsOwqAbRLI"
      },
      "execution_count": null,
      "outputs": []
    }
  ]
}