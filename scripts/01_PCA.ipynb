{
  "nbformat": 4,
  "nbformat_minor": 0,
  "metadata": {
    "colab": {
      "name": "01_PCA",
      "provenance": [],
      "toc_visible": true
    },
    "kernelspec": {
      "name": "python3",
      "display_name": "Python 3"
    },
    "language_info": {
      "name": "python"
    }
  },
  "cells": [
    {
      "cell_type": "markdown",
      "source": [
        "# Setup of Noteboook\n",
        "\n",
        "The follwing code clones the github repository with course files. \n",
        "Subsequently it imports all libraries and custom modules needed for this notebook"
      ],
      "metadata": {
        "id": "tOzihHnKPpTr"
      }
    },
    {
      "cell_type": "code",
      "source": [
        "!git clone https://github.com/DataHow/analytics-course-scripts.git\n",
        "!pip install --upgrade scipy==1.7.3"
      ],
      "metadata": {
        "colab": {
          "base_uri": "https://localhost:8080/"
        },
        "id": "7dd3XC6EPq18",
        "outputId": "fa8c3ab8-b958-4bf8-8e43-0cd220cb2cbe"
      },
      "execution_count": 1,
      "outputs": [
        {
          "output_type": "stream",
          "name": "stdout",
          "text": [
            "Cloning into 'analytics-course-scripts'...\n",
            "remote: Enumerating objects: 56, done.\u001b[K\n",
            "remote: Counting objects: 100% (56/56), done.\u001b[K\n",
            "remote: Compressing objects: 100% (42/42), done.\u001b[K\n",
            "remote: Total 56 (delta 21), reused 49 (delta 14), pack-reused 0\u001b[K\n",
            "Unpacking objects: 100% (56/56), done.\n",
            "Collecting scipy==1.7.3\n",
            "  Downloading scipy-1.7.3-cp37-cp37m-manylinux_2_12_x86_64.manylinux2010_x86_64.whl (38.1 MB)\n",
            "\u001b[K     |████████████████████████████████| 38.1 MB 1.3 MB/s \n",
            "\u001b[?25hRequirement already satisfied: numpy<1.23.0,>=1.16.5 in /usr/local/lib/python3.7/dist-packages (from scipy==1.7.3) (1.21.6)\n",
            "Installing collected packages: scipy\n",
            "  Attempting uninstall: scipy\n",
            "    Found existing installation: scipy 1.4.1\n",
            "    Uninstalling scipy-1.4.1:\n",
            "      Successfully uninstalled scipy-1.4.1\n",
            "\u001b[31mERROR: pip's dependency resolver does not currently take into account all the packages that are installed. This behaviour is the source of the following dependency conflicts.\n",
            "albumentations 0.1.12 requires imgaug<0.2.7,>=0.2.5, but you have imgaug 0.2.9 which is incompatible.\u001b[0m\n",
            "Successfully installed scipy-1.7.3\n"
          ]
        }
      ]
    },
    {
      "cell_type": "code",
      "source": [
        "# import libaries\n",
        "import pandas as pd\n",
        "import numpy as np\n",
        "import scipy\n",
        "import importlib  \n",
        "import scipy.integrate\n",
        "import plotly.express as px\n",
        "import plotly.graph_objects as go\n",
        "from plotly.subplots import make_subplots\n",
        "from sklearn.decomposition import PCA\n",
        "from sklearn.preprocessing import StandardScaler\n",
        "from sklearn.covariance import EmpiricalCovariance\n",
        "from scipy.stats import chi2\n",
        "\n",
        "# import custom modules\n",
        "emulator = importlib.import_module(\"analytics-course-scripts.scripts.modules.emulator\")\n",
        "plothelpers = importlib.import_module(\"analytics-course-scripts.scripts.modules.plothelpers\")"
      ],
      "metadata": {
        "id": "kd2F9lhaPtIs"
      },
      "execution_count": 2,
      "outputs": []
    },
    {
      "cell_type": "markdown",
      "source": [
        "# Exploratory Analysis via PCA\n",
        "\n",
        "Why is it important to visualize and understand the data, not only in univariate setting, but also in multivariate. What insights can multivariate analysis provide?"
      ],
      "metadata": {
        "id": "_F7ck0Hl8rqw"
      }
    },
    {
      "cell_type": "markdown",
      "source": [
        "## Import or Generate Dataset\n",
        "\n",
        "In the beginning of each notebook you can make a decision whether you run the notebooks with already pre-generated runs which will be just imported or you will generate your own based on the template from `00_Process_Characterization` script.\n",
        "\n",
        "* For dataset import set `select_dataset_source = \"import\"`.\n",
        "* For generating data set `select_dataset_source = \"generate\"`.\n",
        "\n",
        "For first time running the notebook, we recommend importing the dataset.\n",
        "\n",
        " "
      ],
      "metadata": {
        "id": "oD0RkBnJJogf"
      }
    },
    {
      "cell_type": "code",
      "source": [
        "# Select dataset source\n",
        "select_dataset_source = \"import\""
      ],
      "metadata": {
        "id": "HwBXb3aTJntc"
      },
      "execution_count": 15,
      "outputs": []
    },
    {
      "cell_type": "code",
      "source": [
        "if select_dataset_source == \"import\":\n",
        "    filename = \"owu.csv\"\n",
        "    filepath = \"/content/analytics-course-scripts/scripts/datasets/\"\n",
        "    owu = pd.read_csv(filepath+filename,index_col=None)\n",
        "    owu.columns =  [\"X:VCD\", \"X:Glc\", \"X:Lac\", \"X:Titer\",\"W:Feed\"]\n",
        "    owu.index = pd.MultiIndex.from_product([list(range(int(len(owu)/15))),list(range(15))], names=[\"run\",\"time\"])\n",
        "    #doe = pd.read_csv(filepath+filename.replace(\".csv\",\"_doe.csv\"),index_col=None, usecols =[\"feed_start\",\"feed_end\",\"Glc_feed_rate\",\"Glc_0\",\"VCD_0\"])\n",
        "    doe = pd.read_csv(filepath+filename.replace(\".csv\",\"_doe.csv\"),index_col=None)\n",
        "    doe.columns =[\"feed_start\",\"feed_end\",\"Glc_feed_rate\",\"Glc_0\",\"VCD_0\"]"
      ],
      "metadata": {
        "id": "lCa2Q_76KkIy"
      },
      "execution_count": 16,
      "outputs": []
    },
    {
      "cell_type": "code",
      "source": [
        "if select_dataset_source == \"generate\":\n",
        "    # Model parameters\n",
        "    mu_g_max = 0.05;\n",
        "    mu_d_max = 0.025;\n",
        "    K_g_Glc  = 1;\n",
        "    K_I_Lac  = 30;\n",
        "    K_d_Lac  = 50;\n",
        "    k_Glc    = 0.04;\n",
        "    k_Lac    = 0.06;\n",
        "    k_Prod   = 1;\n",
        "\n",
        "    # Process parameters\n",
        "    feed_start = [1, 4]\n",
        "    feed_end = [8, 12]\n",
        "    Glc_feed_rate = [5, 20]\n",
        "    Glc_0 = [10, 80.0]\n",
        "    VCD_0 = [0.1, 1.0]\n",
        "\n",
        "    var_lims = {\"mu_g_max\":mu_g_max,\"mu_d_max\": mu_d_max,\"K_g_Glc\" : K_g_Glc,\"K_I_Lac\" : K_I_Lac,\"K_d_Lac\" : K_d_Lac,\"k_Glc\" : k_Glc,\"k_Lac\" : k_Lac,\"k_Prod\" : k_Prod,\"feed_start\" : feed_start, \"feed_end\" : feed_end,\"Glc_feed_rate\" : Glc_feed_rate, \"Glc_0\" : Glc_0, \"VCD_0\" : VCD_0}\n",
        "\n",
        "    ## Define the number of experiments\n",
        "    num_runs = 50\n",
        "    ## Define the filename for the dataset\n",
        "    filename = \"owu.csv\"\n",
        "    filepath = \"/content/\"\n",
        "    # Generate DOE Dataset\n",
        "    owu = emulator.generate_data(var_lims, num_runs, filename)\n",
        "    doe = pd.read_csv(filepath+filename.replace(\".csv\",\"_doe.csv\"),index_col=None, usecols =[\"feed_start\",\"feed_end\",\"Glc_feed_rate\",\"Glc_0\",\"VCD_0\"])\n",
        "    owu = pd.read_csv(\"/content/\"+filename,index_col=0)\n",
        "    owu.columns =  [\"X:VCD\", \"X:Glc\", \"X:Lac\", \"X:Titer\",\"W:Feed\"]\n",
        "    owu.index = pd.MultiIndex.from_product([list(range(num_runs)),list(range(15))], names=[\"run\",\"time\"])"
      ],
      "metadata": {
        "id": "BLw6fZHCMpFk"
      },
      "execution_count": 17,
      "outputs": []
    },
    {
      "cell_type": "markdown",
      "source": [
        "# PCA of OWU matrix\n",
        "\n",
        "In this section, we use generated experiments using a Latin Hypercube design (LHD) from previous notebook. This will be used to create an observation-wise unfolder (OWU) matrix that will be analyzed using Principle Component Analysis (PCA).\n",
        "\n",
        "For further information about the process emulator for cell culture fed-batch processes, check the script \"00_Process_Characterization.ipynb\" or the Powerpoint presentation \"Simplified InSilico Model.pptx\".\n",
        "\n",
        "Details of OWU unfolding"
      ],
      "metadata": {
        "id": "jXTgRMZgBHAx"
      }
    },
    {
      "cell_type": "markdown",
      "source": [
        "### Visualize the OWU matrix\n",
        "\n",
        "In the OWU matrix, the 1st column corresponds to VCD, the 2nd to glucose, the 3rd to lactate, the 4th to titer, and the 5th to the feed rate.\n"
      ],
      "metadata": {
        "id": "WNd1QGP6B8is"
      }
    },
    {
      "cell_type": "code",
      "source": [
        "owu"
      ],
      "metadata": {
        "id": "6WdkPL1RCHEG",
        "colab": {
          "base_uri": "https://localhost:8080/",
          "height": 455
        },
        "outputId": "9523738f-2334-4797-c91a-0db29e999efb"
      },
      "execution_count": 18,
      "outputs": [
        {
          "output_type": "execute_result",
          "data": {
            "text/plain": [
              "             X:VCD   X:Glc     X:Lac     X:Titer  W:Feed\n",
              "run time                                                \n",
              "0   0      0.65336  24.989    0.0000     0.00000   0.000\n",
              "    1      1.99900  23.828    1.7454     0.12965   0.000\n",
              "    2      5.31610  20.523    6.7136     2.26180  19.803\n",
              "    3     10.93400  32.668   18.2210    21.07500  19.803\n",
              "    4     16.31000  39.240   38.0940   100.25000  19.803\n",
              "...            ...     ...       ...         ...     ...\n",
              "99  10     7.07870  39.417  159.2100  1207.80000   0.000\n",
              "    11     5.30480  33.518  168.0700  1303.90000   0.000\n",
              "    12     3.94070  29.116  174.6800  1373.40000   0.000\n",
              "    13     2.90660  25.859  179.5800  1422.30000   0.000\n",
              "    14     2.13220  23.464  183.1800  1455.30000   0.000\n",
              "\n",
              "[1500 rows x 5 columns]"
            ],
            "text/html": [
              "\n",
              "  <div id=\"df-8a35eb3b-b02d-481f-bedb-8b6110bd3d71\">\n",
              "    <div class=\"colab-df-container\">\n",
              "      <div>\n",
              "<style scoped>\n",
              "    .dataframe tbody tr th:only-of-type {\n",
              "        vertical-align: middle;\n",
              "    }\n",
              "\n",
              "    .dataframe tbody tr th {\n",
              "        vertical-align: top;\n",
              "    }\n",
              "\n",
              "    .dataframe thead th {\n",
              "        text-align: right;\n",
              "    }\n",
              "</style>\n",
              "<table border=\"1\" class=\"dataframe\">\n",
              "  <thead>\n",
              "    <tr style=\"text-align: right;\">\n",
              "      <th></th>\n",
              "      <th></th>\n",
              "      <th>X:VCD</th>\n",
              "      <th>X:Glc</th>\n",
              "      <th>X:Lac</th>\n",
              "      <th>X:Titer</th>\n",
              "      <th>W:Feed</th>\n",
              "    </tr>\n",
              "    <tr>\n",
              "      <th>run</th>\n",
              "      <th>time</th>\n",
              "      <th></th>\n",
              "      <th></th>\n",
              "      <th></th>\n",
              "      <th></th>\n",
              "      <th></th>\n",
              "    </tr>\n",
              "  </thead>\n",
              "  <tbody>\n",
              "    <tr>\n",
              "      <th rowspan=\"5\" valign=\"top\">0</th>\n",
              "      <th>0</th>\n",
              "      <td>0.65336</td>\n",
              "      <td>24.989</td>\n",
              "      <td>0.0000</td>\n",
              "      <td>0.00000</td>\n",
              "      <td>0.000</td>\n",
              "    </tr>\n",
              "    <tr>\n",
              "      <th>1</th>\n",
              "      <td>1.99900</td>\n",
              "      <td>23.828</td>\n",
              "      <td>1.7454</td>\n",
              "      <td>0.12965</td>\n",
              "      <td>0.000</td>\n",
              "    </tr>\n",
              "    <tr>\n",
              "      <th>2</th>\n",
              "      <td>5.31610</td>\n",
              "      <td>20.523</td>\n",
              "      <td>6.7136</td>\n",
              "      <td>2.26180</td>\n",
              "      <td>19.803</td>\n",
              "    </tr>\n",
              "    <tr>\n",
              "      <th>3</th>\n",
              "      <td>10.93400</td>\n",
              "      <td>32.668</td>\n",
              "      <td>18.2210</td>\n",
              "      <td>21.07500</td>\n",
              "      <td>19.803</td>\n",
              "    </tr>\n",
              "    <tr>\n",
              "      <th>4</th>\n",
              "      <td>16.31000</td>\n",
              "      <td>39.240</td>\n",
              "      <td>38.0940</td>\n",
              "      <td>100.25000</td>\n",
              "      <td>19.803</td>\n",
              "    </tr>\n",
              "    <tr>\n",
              "      <th>...</th>\n",
              "      <th>...</th>\n",
              "      <td>...</td>\n",
              "      <td>...</td>\n",
              "      <td>...</td>\n",
              "      <td>...</td>\n",
              "      <td>...</td>\n",
              "    </tr>\n",
              "    <tr>\n",
              "      <th rowspan=\"5\" valign=\"top\">99</th>\n",
              "      <th>10</th>\n",
              "      <td>7.07870</td>\n",
              "      <td>39.417</td>\n",
              "      <td>159.2100</td>\n",
              "      <td>1207.80000</td>\n",
              "      <td>0.000</td>\n",
              "    </tr>\n",
              "    <tr>\n",
              "      <th>11</th>\n",
              "      <td>5.30480</td>\n",
              "      <td>33.518</td>\n",
              "      <td>168.0700</td>\n",
              "      <td>1303.90000</td>\n",
              "      <td>0.000</td>\n",
              "    </tr>\n",
              "    <tr>\n",
              "      <th>12</th>\n",
              "      <td>3.94070</td>\n",
              "      <td>29.116</td>\n",
              "      <td>174.6800</td>\n",
              "      <td>1373.40000</td>\n",
              "      <td>0.000</td>\n",
              "    </tr>\n",
              "    <tr>\n",
              "      <th>13</th>\n",
              "      <td>2.90660</td>\n",
              "      <td>25.859</td>\n",
              "      <td>179.5800</td>\n",
              "      <td>1422.30000</td>\n",
              "      <td>0.000</td>\n",
              "    </tr>\n",
              "    <tr>\n",
              "      <th>14</th>\n",
              "      <td>2.13220</td>\n",
              "      <td>23.464</td>\n",
              "      <td>183.1800</td>\n",
              "      <td>1455.30000</td>\n",
              "      <td>0.000</td>\n",
              "    </tr>\n",
              "  </tbody>\n",
              "</table>\n",
              "<p>1500 rows × 5 columns</p>\n",
              "</div>\n",
              "      <button class=\"colab-df-convert\" onclick=\"convertToInteractive('df-8a35eb3b-b02d-481f-bedb-8b6110bd3d71')\"\n",
              "              title=\"Convert this dataframe to an interactive table.\"\n",
              "              style=\"display:none;\">\n",
              "        \n",
              "  <svg xmlns=\"http://www.w3.org/2000/svg\" height=\"24px\"viewBox=\"0 0 24 24\"\n",
              "       width=\"24px\">\n",
              "    <path d=\"M0 0h24v24H0V0z\" fill=\"none\"/>\n",
              "    <path d=\"M18.56 5.44l.94 2.06.94-2.06 2.06-.94-2.06-.94-.94-2.06-.94 2.06-2.06.94zm-11 1L8.5 8.5l.94-2.06 2.06-.94-2.06-.94L8.5 2.5l-.94 2.06-2.06.94zm10 10l.94 2.06.94-2.06 2.06-.94-2.06-.94-.94-2.06-.94 2.06-2.06.94z\"/><path d=\"M17.41 7.96l-1.37-1.37c-.4-.4-.92-.59-1.43-.59-.52 0-1.04.2-1.43.59L10.3 9.45l-7.72 7.72c-.78.78-.78 2.05 0 2.83L4 21.41c.39.39.9.59 1.41.59.51 0 1.02-.2 1.41-.59l7.78-7.78 2.81-2.81c.8-.78.8-2.07 0-2.86zM5.41 20L4 18.59l7.72-7.72 1.47 1.35L5.41 20z\"/>\n",
              "  </svg>\n",
              "      </button>\n",
              "      \n",
              "  <style>\n",
              "    .colab-df-container {\n",
              "      display:flex;\n",
              "      flex-wrap:wrap;\n",
              "      gap: 12px;\n",
              "    }\n",
              "\n",
              "    .colab-df-convert {\n",
              "      background-color: #E8F0FE;\n",
              "      border: none;\n",
              "      border-radius: 50%;\n",
              "      cursor: pointer;\n",
              "      display: none;\n",
              "      fill: #1967D2;\n",
              "      height: 32px;\n",
              "      padding: 0 0 0 0;\n",
              "      width: 32px;\n",
              "    }\n",
              "\n",
              "    .colab-df-convert:hover {\n",
              "      background-color: #E2EBFA;\n",
              "      box-shadow: 0px 1px 2px rgba(60, 64, 67, 0.3), 0px 1px 3px 1px rgba(60, 64, 67, 0.15);\n",
              "      fill: #174EA6;\n",
              "    }\n",
              "\n",
              "    [theme=dark] .colab-df-convert {\n",
              "      background-color: #3B4455;\n",
              "      fill: #D2E3FC;\n",
              "    }\n",
              "\n",
              "    [theme=dark] .colab-df-convert:hover {\n",
              "      background-color: #434B5C;\n",
              "      box-shadow: 0px 1px 3px 1px rgba(0, 0, 0, 0.15);\n",
              "      filter: drop-shadow(0px 1px 2px rgba(0, 0, 0, 0.3));\n",
              "      fill: #FFFFFF;\n",
              "    }\n",
              "  </style>\n",
              "\n",
              "      <script>\n",
              "        const buttonEl =\n",
              "          document.querySelector('#df-8a35eb3b-b02d-481f-bedb-8b6110bd3d71 button.colab-df-convert');\n",
              "        buttonEl.style.display =\n",
              "          google.colab.kernel.accessAllowed ? 'block' : 'none';\n",
              "\n",
              "        async function convertToInteractive(key) {\n",
              "          const element = document.querySelector('#df-8a35eb3b-b02d-481f-bedb-8b6110bd3d71');\n",
              "          const dataTable =\n",
              "            await google.colab.kernel.invokeFunction('convertToInteractive',\n",
              "                                                     [key], {});\n",
              "          if (!dataTable) return;\n",
              "\n",
              "          const docLinkHtml = 'Like what you see? Visit the ' +\n",
              "            '<a target=\"_blank\" href=https://colab.research.google.com/notebooks/data_table.ipynb>data table notebook</a>'\n",
              "            + ' to learn more about interactive tables.';\n",
              "          element.innerHTML = '';\n",
              "          dataTable['output_type'] = 'display_data';\n",
              "          await google.colab.output.renderOutput(dataTable, element);\n",
              "          const docLink = document.createElement('div');\n",
              "          docLink.innerHTML = docLinkHtml;\n",
              "          element.appendChild(docLink);\n",
              "        }\n",
              "      </script>\n",
              "    </div>\n",
              "  </div>\n",
              "  "
            ]
          },
          "metadata": {},
          "execution_count": 18
        }
      ]
    },
    {
      "cell_type": "code",
      "source": [
        "doe"
      ],
      "metadata": {
        "colab": {
          "base_uri": "https://localhost:8080/",
          "height": 423
        },
        "id": "-pkNsreFjnbl",
        "outputId": "2c99d0ba-1788-4b67-ca85-6d7f721a2207"
      },
      "execution_count": 19,
      "outputs": [
        {
          "output_type": "execute_result",
          "data": {
            "text/plain": [
              "    feed_start  feed_end  Glc_feed_rate    Glc_0    VCD_0\n",
              "0       34.416         4             12  12.4900  0.76765\n",
              "1       64.099         3              9   6.1978  0.89835\n",
              "2       15.436         2              9   7.4287  0.35186\n",
              "3       15.777         3              9  12.3150  0.54128\n",
              "4       34.904         2              9   7.2966  0.48320\n",
              "..         ...       ...            ...      ...      ...\n",
              "94      29.443         3              9  10.6600  0.16841\n",
              "95      23.982         1             11  12.0660  0.61780\n",
              "96      57.927         3             11   7.9015  0.63589\n",
              "97      11.654         2             12  12.6260  0.11877\n",
              "98      62.864         2             10  10.3220  0.68350\n",
              "\n",
              "[99 rows x 5 columns]"
            ],
            "text/html": [
              "\n",
              "  <div id=\"df-19ec21a8-127a-4ae7-aa36-5da44e38b5d8\">\n",
              "    <div class=\"colab-df-container\">\n",
              "      <div>\n",
              "<style scoped>\n",
              "    .dataframe tbody tr th:only-of-type {\n",
              "        vertical-align: middle;\n",
              "    }\n",
              "\n",
              "    .dataframe tbody tr th {\n",
              "        vertical-align: top;\n",
              "    }\n",
              "\n",
              "    .dataframe thead th {\n",
              "        text-align: right;\n",
              "    }\n",
              "</style>\n",
              "<table border=\"1\" class=\"dataframe\">\n",
              "  <thead>\n",
              "    <tr style=\"text-align: right;\">\n",
              "      <th></th>\n",
              "      <th>feed_start</th>\n",
              "      <th>feed_end</th>\n",
              "      <th>Glc_feed_rate</th>\n",
              "      <th>Glc_0</th>\n",
              "      <th>VCD_0</th>\n",
              "    </tr>\n",
              "  </thead>\n",
              "  <tbody>\n",
              "    <tr>\n",
              "      <th>0</th>\n",
              "      <td>34.416</td>\n",
              "      <td>4</td>\n",
              "      <td>12</td>\n",
              "      <td>12.4900</td>\n",
              "      <td>0.76765</td>\n",
              "    </tr>\n",
              "    <tr>\n",
              "      <th>1</th>\n",
              "      <td>64.099</td>\n",
              "      <td>3</td>\n",
              "      <td>9</td>\n",
              "      <td>6.1978</td>\n",
              "      <td>0.89835</td>\n",
              "    </tr>\n",
              "    <tr>\n",
              "      <th>2</th>\n",
              "      <td>15.436</td>\n",
              "      <td>2</td>\n",
              "      <td>9</td>\n",
              "      <td>7.4287</td>\n",
              "      <td>0.35186</td>\n",
              "    </tr>\n",
              "    <tr>\n",
              "      <th>3</th>\n",
              "      <td>15.777</td>\n",
              "      <td>3</td>\n",
              "      <td>9</td>\n",
              "      <td>12.3150</td>\n",
              "      <td>0.54128</td>\n",
              "    </tr>\n",
              "    <tr>\n",
              "      <th>4</th>\n",
              "      <td>34.904</td>\n",
              "      <td>2</td>\n",
              "      <td>9</td>\n",
              "      <td>7.2966</td>\n",
              "      <td>0.48320</td>\n",
              "    </tr>\n",
              "    <tr>\n",
              "      <th>...</th>\n",
              "      <td>...</td>\n",
              "      <td>...</td>\n",
              "      <td>...</td>\n",
              "      <td>...</td>\n",
              "      <td>...</td>\n",
              "    </tr>\n",
              "    <tr>\n",
              "      <th>94</th>\n",
              "      <td>29.443</td>\n",
              "      <td>3</td>\n",
              "      <td>9</td>\n",
              "      <td>10.6600</td>\n",
              "      <td>0.16841</td>\n",
              "    </tr>\n",
              "    <tr>\n",
              "      <th>95</th>\n",
              "      <td>23.982</td>\n",
              "      <td>1</td>\n",
              "      <td>11</td>\n",
              "      <td>12.0660</td>\n",
              "      <td>0.61780</td>\n",
              "    </tr>\n",
              "    <tr>\n",
              "      <th>96</th>\n",
              "      <td>57.927</td>\n",
              "      <td>3</td>\n",
              "      <td>11</td>\n",
              "      <td>7.9015</td>\n",
              "      <td>0.63589</td>\n",
              "    </tr>\n",
              "    <tr>\n",
              "      <th>97</th>\n",
              "      <td>11.654</td>\n",
              "      <td>2</td>\n",
              "      <td>12</td>\n",
              "      <td>12.6260</td>\n",
              "      <td>0.11877</td>\n",
              "    </tr>\n",
              "    <tr>\n",
              "      <th>98</th>\n",
              "      <td>62.864</td>\n",
              "      <td>2</td>\n",
              "      <td>10</td>\n",
              "      <td>10.3220</td>\n",
              "      <td>0.68350</td>\n",
              "    </tr>\n",
              "  </tbody>\n",
              "</table>\n",
              "<p>99 rows × 5 columns</p>\n",
              "</div>\n",
              "      <button class=\"colab-df-convert\" onclick=\"convertToInteractive('df-19ec21a8-127a-4ae7-aa36-5da44e38b5d8')\"\n",
              "              title=\"Convert this dataframe to an interactive table.\"\n",
              "              style=\"display:none;\">\n",
              "        \n",
              "  <svg xmlns=\"http://www.w3.org/2000/svg\" height=\"24px\"viewBox=\"0 0 24 24\"\n",
              "       width=\"24px\">\n",
              "    <path d=\"M0 0h24v24H0V0z\" fill=\"none\"/>\n",
              "    <path d=\"M18.56 5.44l.94 2.06.94-2.06 2.06-.94-2.06-.94-.94-2.06-.94 2.06-2.06.94zm-11 1L8.5 8.5l.94-2.06 2.06-.94-2.06-.94L8.5 2.5l-.94 2.06-2.06.94zm10 10l.94 2.06.94-2.06 2.06-.94-2.06-.94-.94-2.06-.94 2.06-2.06.94z\"/><path d=\"M17.41 7.96l-1.37-1.37c-.4-.4-.92-.59-1.43-.59-.52 0-1.04.2-1.43.59L10.3 9.45l-7.72 7.72c-.78.78-.78 2.05 0 2.83L4 21.41c.39.39.9.59 1.41.59.51 0 1.02-.2 1.41-.59l7.78-7.78 2.81-2.81c.8-.78.8-2.07 0-2.86zM5.41 20L4 18.59l7.72-7.72 1.47 1.35L5.41 20z\"/>\n",
              "  </svg>\n",
              "      </button>\n",
              "      \n",
              "  <style>\n",
              "    .colab-df-container {\n",
              "      display:flex;\n",
              "      flex-wrap:wrap;\n",
              "      gap: 12px;\n",
              "    }\n",
              "\n",
              "    .colab-df-convert {\n",
              "      background-color: #E8F0FE;\n",
              "      border: none;\n",
              "      border-radius: 50%;\n",
              "      cursor: pointer;\n",
              "      display: none;\n",
              "      fill: #1967D2;\n",
              "      height: 32px;\n",
              "      padding: 0 0 0 0;\n",
              "      width: 32px;\n",
              "    }\n",
              "\n",
              "    .colab-df-convert:hover {\n",
              "      background-color: #E2EBFA;\n",
              "      box-shadow: 0px 1px 2px rgba(60, 64, 67, 0.3), 0px 1px 3px 1px rgba(60, 64, 67, 0.15);\n",
              "      fill: #174EA6;\n",
              "    }\n",
              "\n",
              "    [theme=dark] .colab-df-convert {\n",
              "      background-color: #3B4455;\n",
              "      fill: #D2E3FC;\n",
              "    }\n",
              "\n",
              "    [theme=dark] .colab-df-convert:hover {\n",
              "      background-color: #434B5C;\n",
              "      box-shadow: 0px 1px 3px 1px rgba(0, 0, 0, 0.15);\n",
              "      filter: drop-shadow(0px 1px 2px rgba(0, 0, 0, 0.3));\n",
              "      fill: #FFFFFF;\n",
              "    }\n",
              "  </style>\n",
              "\n",
              "      <script>\n",
              "        const buttonEl =\n",
              "          document.querySelector('#df-19ec21a8-127a-4ae7-aa36-5da44e38b5d8 button.colab-df-convert');\n",
              "        buttonEl.style.display =\n",
              "          google.colab.kernel.accessAllowed ? 'block' : 'none';\n",
              "\n",
              "        async function convertToInteractive(key) {\n",
              "          const element = document.querySelector('#df-19ec21a8-127a-4ae7-aa36-5da44e38b5d8');\n",
              "          const dataTable =\n",
              "            await google.colab.kernel.invokeFunction('convertToInteractive',\n",
              "                                                     [key], {});\n",
              "          if (!dataTable) return;\n",
              "\n",
              "          const docLinkHtml = 'Like what you see? Visit the ' +\n",
              "            '<a target=\"_blank\" href=https://colab.research.google.com/notebooks/data_table.ipynb>data table notebook</a>'\n",
              "            + ' to learn more about interactive tables.';\n",
              "          element.innerHTML = '';\n",
              "          dataTable['output_type'] = 'display_data';\n",
              "          await google.colab.output.renderOutput(dataTable, element);\n",
              "          const docLink = document.createElement('div');\n",
              "          docLink.innerHTML = docLinkHtml;\n",
              "          element.appendChild(docLink);\n",
              "        }\n",
              "      </script>\n",
              "    </div>\n",
              "  </div>\n",
              "  "
            ]
          },
          "metadata": {},
          "execution_count": 19
        }
      ]
    },
    {
      "cell_type": "markdown",
      "source": [
        "### Plot correlation matrix\n",
        "\n",
        "The OWU matrix is used to plot the degree of correlation between the different variables."
      ],
      "metadata": {
        "id": "FD2i_fY_CMDx"
      }
    },
    {
      "cell_type": "code",
      "source": [
        "fig = px.imshow(owu.corr())\n",
        "fig.update_layout(title='Correlation Matrix among X variables')\n",
        "fig.show()"
      ],
      "metadata": {
        "colab": {
          "base_uri": "https://localhost:8080/",
          "height": 542
        },
        "id": "p36lM8q3WF4J",
        "outputId": "108a779c-b73c-410f-b117-73d184505579"
      },
      "execution_count": 20,
      "outputs": [
        {
          "output_type": "display_data",
          "data": {
            "text/html": [
              "<html>\n",
              "<head><meta charset=\"utf-8\" /></head>\n",
              "<body>\n",
              "    <div>            <script src=\"https://cdnjs.cloudflare.com/ajax/libs/mathjax/2.7.5/MathJax.js?config=TeX-AMS-MML_SVG\"></script><script type=\"text/javascript\">if (window.MathJax) {MathJax.Hub.Config({SVG: {font: \"STIX-Web\"}});}</script>                <script type=\"text/javascript\">window.PlotlyConfig = {MathJaxConfig: 'local'};</script>\n",
              "        <script src=\"https://cdn.plot.ly/plotly-2.8.3.min.js\"></script>                <div id=\"bfca6abd-c4d7-42ef-8977-387f47653e24\" class=\"plotly-graph-div\" style=\"height:525px; width:100%;\"></div>            <script type=\"text/javascript\">                                    window.PLOTLYENV=window.PLOTLYENV || {};                                    if (document.getElementById(\"bfca6abd-c4d7-42ef-8977-387f47653e24\")) {                    Plotly.newPlot(                        \"bfca6abd-c4d7-42ef-8977-387f47653e24\",                        [{\"coloraxis\":\"coloraxis\",\"name\":\"0\",\"x\":[\"X:VCD\",\"X:Glc\",\"X:Lac\",\"X:Titer\",\"W:Feed\"],\"y\":[\"X:VCD\",\"X:Glc\",\"X:Lac\",\"X:Titer\",\"W:Feed\"],\"z\":[[1.0,-0.16494392310272893,-0.08065928461444613,-0.15578378077112073,0.6220794268604196],[-0.16494392310272893,1.0,-0.18891392005063148,-0.1429815502125579,0.15879226584616735],[-0.08065928461444613,-0.18891392005063148,1.0,0.96373620189891,-0.21092017903524304],[-0.15578378077112073,-0.1429815502125579,0.96373620189891,1.0,-0.2550968402057644],[0.6220794268604196,0.15879226584616735,-0.21092017903524304,-0.2550968402057644,1.0]],\"type\":\"heatmap\",\"xaxis\":\"x\",\"yaxis\":\"y\",\"hovertemplate\":\"x: %{x}<br>y: %{y}<br>color: %{z}<extra></extra>\"}],                        {\"template\":{\"data\":{\"bar\":[{\"error_x\":{\"color\":\"#2a3f5f\"},\"error_y\":{\"color\":\"#2a3f5f\"},\"marker\":{\"line\":{\"color\":\"#E5ECF6\",\"width\":0.5},\"pattern\":{\"fillmode\":\"overlay\",\"size\":10,\"solidity\":0.2}},\"type\":\"bar\"}],\"barpolar\":[{\"marker\":{\"line\":{\"color\":\"#E5ECF6\",\"width\":0.5},\"pattern\":{\"fillmode\":\"overlay\",\"size\":10,\"solidity\":0.2}},\"type\":\"barpolar\"}],\"carpet\":[{\"aaxis\":{\"endlinecolor\":\"#2a3f5f\",\"gridcolor\":\"white\",\"linecolor\":\"white\",\"minorgridcolor\":\"white\",\"startlinecolor\":\"#2a3f5f\"},\"baxis\":{\"endlinecolor\":\"#2a3f5f\",\"gridcolor\":\"white\",\"linecolor\":\"white\",\"minorgridcolor\":\"white\",\"startlinecolor\":\"#2a3f5f\"},\"type\":\"carpet\"}],\"choropleth\":[{\"colorbar\":{\"outlinewidth\":0,\"ticks\":\"\"},\"type\":\"choropleth\"}],\"contour\":[{\"colorbar\":{\"outlinewidth\":0,\"ticks\":\"\"},\"colorscale\":[[0.0,\"#0d0887\"],[0.1111111111111111,\"#46039f\"],[0.2222222222222222,\"#7201a8\"],[0.3333333333333333,\"#9c179e\"],[0.4444444444444444,\"#bd3786\"],[0.5555555555555556,\"#d8576b\"],[0.6666666666666666,\"#ed7953\"],[0.7777777777777778,\"#fb9f3a\"],[0.8888888888888888,\"#fdca26\"],[1.0,\"#f0f921\"]],\"type\":\"contour\"}],\"contourcarpet\":[{\"colorbar\":{\"outlinewidth\":0,\"ticks\":\"\"},\"type\":\"contourcarpet\"}],\"heatmap\":[{\"colorbar\":{\"outlinewidth\":0,\"ticks\":\"\"},\"colorscale\":[[0.0,\"#0d0887\"],[0.1111111111111111,\"#46039f\"],[0.2222222222222222,\"#7201a8\"],[0.3333333333333333,\"#9c179e\"],[0.4444444444444444,\"#bd3786\"],[0.5555555555555556,\"#d8576b\"],[0.6666666666666666,\"#ed7953\"],[0.7777777777777778,\"#fb9f3a\"],[0.8888888888888888,\"#fdca26\"],[1.0,\"#f0f921\"]],\"type\":\"heatmap\"}],\"heatmapgl\":[{\"colorbar\":{\"outlinewidth\":0,\"ticks\":\"\"},\"colorscale\":[[0.0,\"#0d0887\"],[0.1111111111111111,\"#46039f\"],[0.2222222222222222,\"#7201a8\"],[0.3333333333333333,\"#9c179e\"],[0.4444444444444444,\"#bd3786\"],[0.5555555555555556,\"#d8576b\"],[0.6666666666666666,\"#ed7953\"],[0.7777777777777778,\"#fb9f3a\"],[0.8888888888888888,\"#fdca26\"],[1.0,\"#f0f921\"]],\"type\":\"heatmapgl\"}],\"histogram\":[{\"marker\":{\"pattern\":{\"fillmode\":\"overlay\",\"size\":10,\"solidity\":0.2}},\"type\":\"histogram\"}],\"histogram2d\":[{\"colorbar\":{\"outlinewidth\":0,\"ticks\":\"\"},\"colorscale\":[[0.0,\"#0d0887\"],[0.1111111111111111,\"#46039f\"],[0.2222222222222222,\"#7201a8\"],[0.3333333333333333,\"#9c179e\"],[0.4444444444444444,\"#bd3786\"],[0.5555555555555556,\"#d8576b\"],[0.6666666666666666,\"#ed7953\"],[0.7777777777777778,\"#fb9f3a\"],[0.8888888888888888,\"#fdca26\"],[1.0,\"#f0f921\"]],\"type\":\"histogram2d\"}],\"histogram2dcontour\":[{\"colorbar\":{\"outlinewidth\":0,\"ticks\":\"\"},\"colorscale\":[[0.0,\"#0d0887\"],[0.1111111111111111,\"#46039f\"],[0.2222222222222222,\"#7201a8\"],[0.3333333333333333,\"#9c179e\"],[0.4444444444444444,\"#bd3786\"],[0.5555555555555556,\"#d8576b\"],[0.6666666666666666,\"#ed7953\"],[0.7777777777777778,\"#fb9f3a\"],[0.8888888888888888,\"#fdca26\"],[1.0,\"#f0f921\"]],\"type\":\"histogram2dcontour\"}],\"mesh3d\":[{\"colorbar\":{\"outlinewidth\":0,\"ticks\":\"\"},\"type\":\"mesh3d\"}],\"parcoords\":[{\"line\":{\"colorbar\":{\"outlinewidth\":0,\"ticks\":\"\"}},\"type\":\"parcoords\"}],\"pie\":[{\"automargin\":true,\"type\":\"pie\"}],\"scatter\":[{\"marker\":{\"colorbar\":{\"outlinewidth\":0,\"ticks\":\"\"}},\"type\":\"scatter\"}],\"scatter3d\":[{\"line\":{\"colorbar\":{\"outlinewidth\":0,\"ticks\":\"\"}},\"marker\":{\"colorbar\":{\"outlinewidth\":0,\"ticks\":\"\"}},\"type\":\"scatter3d\"}],\"scattercarpet\":[{\"marker\":{\"colorbar\":{\"outlinewidth\":0,\"ticks\":\"\"}},\"type\":\"scattercarpet\"}],\"scattergeo\":[{\"marker\":{\"colorbar\":{\"outlinewidth\":0,\"ticks\":\"\"}},\"type\":\"scattergeo\"}],\"scattergl\":[{\"marker\":{\"colorbar\":{\"outlinewidth\":0,\"ticks\":\"\"}},\"type\":\"scattergl\"}],\"scattermapbox\":[{\"marker\":{\"colorbar\":{\"outlinewidth\":0,\"ticks\":\"\"}},\"type\":\"scattermapbox\"}],\"scatterpolar\":[{\"marker\":{\"colorbar\":{\"outlinewidth\":0,\"ticks\":\"\"}},\"type\":\"scatterpolar\"}],\"scatterpolargl\":[{\"marker\":{\"colorbar\":{\"outlinewidth\":0,\"ticks\":\"\"}},\"type\":\"scatterpolargl\"}],\"scatterternary\":[{\"marker\":{\"colorbar\":{\"outlinewidth\":0,\"ticks\":\"\"}},\"type\":\"scatterternary\"}],\"surface\":[{\"colorbar\":{\"outlinewidth\":0,\"ticks\":\"\"},\"colorscale\":[[0.0,\"#0d0887\"],[0.1111111111111111,\"#46039f\"],[0.2222222222222222,\"#7201a8\"],[0.3333333333333333,\"#9c179e\"],[0.4444444444444444,\"#bd3786\"],[0.5555555555555556,\"#d8576b\"],[0.6666666666666666,\"#ed7953\"],[0.7777777777777778,\"#fb9f3a\"],[0.8888888888888888,\"#fdca26\"],[1.0,\"#f0f921\"]],\"type\":\"surface\"}],\"table\":[{\"cells\":{\"fill\":{\"color\":\"#EBF0F8\"},\"line\":{\"color\":\"white\"}},\"header\":{\"fill\":{\"color\":\"#C8D4E3\"},\"line\":{\"color\":\"white\"}},\"type\":\"table\"}]},\"layout\":{\"annotationdefaults\":{\"arrowcolor\":\"#2a3f5f\",\"arrowhead\":0,\"arrowwidth\":1},\"autotypenumbers\":\"strict\",\"coloraxis\":{\"colorbar\":{\"outlinewidth\":0,\"ticks\":\"\"}},\"colorscale\":{\"diverging\":[[0,\"#8e0152\"],[0.1,\"#c51b7d\"],[0.2,\"#de77ae\"],[0.3,\"#f1b6da\"],[0.4,\"#fde0ef\"],[0.5,\"#f7f7f7\"],[0.6,\"#e6f5d0\"],[0.7,\"#b8e186\"],[0.8,\"#7fbc41\"],[0.9,\"#4d9221\"],[1,\"#276419\"]],\"sequential\":[[0.0,\"#0d0887\"],[0.1111111111111111,\"#46039f\"],[0.2222222222222222,\"#7201a8\"],[0.3333333333333333,\"#9c179e\"],[0.4444444444444444,\"#bd3786\"],[0.5555555555555556,\"#d8576b\"],[0.6666666666666666,\"#ed7953\"],[0.7777777777777778,\"#fb9f3a\"],[0.8888888888888888,\"#fdca26\"],[1.0,\"#f0f921\"]],\"sequentialminus\":[[0.0,\"#0d0887\"],[0.1111111111111111,\"#46039f\"],[0.2222222222222222,\"#7201a8\"],[0.3333333333333333,\"#9c179e\"],[0.4444444444444444,\"#bd3786\"],[0.5555555555555556,\"#d8576b\"],[0.6666666666666666,\"#ed7953\"],[0.7777777777777778,\"#fb9f3a\"],[0.8888888888888888,\"#fdca26\"],[1.0,\"#f0f921\"]]},\"colorway\":[\"#636efa\",\"#EF553B\",\"#00cc96\",\"#ab63fa\",\"#FFA15A\",\"#19d3f3\",\"#FF6692\",\"#B6E880\",\"#FF97FF\",\"#FECB52\"],\"font\":{\"color\":\"#2a3f5f\"},\"geo\":{\"bgcolor\":\"white\",\"lakecolor\":\"white\",\"landcolor\":\"#E5ECF6\",\"showlakes\":true,\"showland\":true,\"subunitcolor\":\"white\"},\"hoverlabel\":{\"align\":\"left\"},\"hovermode\":\"closest\",\"mapbox\":{\"style\":\"light\"},\"paper_bgcolor\":\"white\",\"plot_bgcolor\":\"#E5ECF6\",\"polar\":{\"angularaxis\":{\"gridcolor\":\"white\",\"linecolor\":\"white\",\"ticks\":\"\"},\"bgcolor\":\"#E5ECF6\",\"radialaxis\":{\"gridcolor\":\"white\",\"linecolor\":\"white\",\"ticks\":\"\"}},\"scene\":{\"xaxis\":{\"backgroundcolor\":\"#E5ECF6\",\"gridcolor\":\"white\",\"gridwidth\":2,\"linecolor\":\"white\",\"showbackground\":true,\"ticks\":\"\",\"zerolinecolor\":\"white\"},\"yaxis\":{\"backgroundcolor\":\"#E5ECF6\",\"gridcolor\":\"white\",\"gridwidth\":2,\"linecolor\":\"white\",\"showbackground\":true,\"ticks\":\"\",\"zerolinecolor\":\"white\"},\"zaxis\":{\"backgroundcolor\":\"#E5ECF6\",\"gridcolor\":\"white\",\"gridwidth\":2,\"linecolor\":\"white\",\"showbackground\":true,\"ticks\":\"\",\"zerolinecolor\":\"white\"}},\"shapedefaults\":{\"line\":{\"color\":\"#2a3f5f\"}},\"ternary\":{\"aaxis\":{\"gridcolor\":\"white\",\"linecolor\":\"white\",\"ticks\":\"\"},\"baxis\":{\"gridcolor\":\"white\",\"linecolor\":\"white\",\"ticks\":\"\"},\"bgcolor\":\"#E5ECF6\",\"caxis\":{\"gridcolor\":\"white\",\"linecolor\":\"white\",\"ticks\":\"\"}},\"title\":{\"x\":0.05},\"xaxis\":{\"automargin\":true,\"gridcolor\":\"white\",\"linecolor\":\"white\",\"ticks\":\"\",\"title\":{\"standoff\":15},\"zerolinecolor\":\"white\",\"zerolinewidth\":2},\"yaxis\":{\"automargin\":true,\"gridcolor\":\"white\",\"linecolor\":\"white\",\"ticks\":\"\",\"title\":{\"standoff\":15},\"zerolinecolor\":\"white\",\"zerolinewidth\":2}}},\"xaxis\":{\"anchor\":\"y\",\"domain\":[0.0,1.0],\"scaleanchor\":\"y\",\"constrain\":\"domain\"},\"yaxis\":{\"anchor\":\"x\",\"domain\":[0.0,1.0],\"autorange\":\"reversed\",\"constrain\":\"domain\"},\"coloraxis\":{\"colorscale\":[[0.0,\"#0d0887\"],[0.1111111111111111,\"#46039f\"],[0.2222222222222222,\"#7201a8\"],[0.3333333333333333,\"#9c179e\"],[0.4444444444444444,\"#bd3786\"],[0.5555555555555556,\"#d8576b\"],[0.6666666666666666,\"#ed7953\"],[0.7777777777777778,\"#fb9f3a\"],[0.8888888888888888,\"#fdca26\"],[1.0,\"#f0f921\"]]},\"margin\":{\"t\":60},\"title\":{\"text\":\"Correlation Matrix among X variables\"}},                        {\"responsive\": true}                    ).then(function(){\n",
              "                            \n",
              "var gd = document.getElementById('bfca6abd-c4d7-42ef-8977-387f47653e24');\n",
              "var x = new MutationObserver(function (mutations, observer) {{\n",
              "        var display = window.getComputedStyle(gd).display;\n",
              "        if (!display || display === 'none') {{\n",
              "            console.log([gd, 'removed!']);\n",
              "            Plotly.purge(gd);\n",
              "            observer.disconnect();\n",
              "        }}\n",
              "}});\n",
              "\n",
              "// Listen for the removal of the full notebook cells\n",
              "var notebookContainer = gd.closest('#notebook-container');\n",
              "if (notebookContainer) {{\n",
              "    x.observe(notebookContainer, {childList: true});\n",
              "}}\n",
              "\n",
              "// Listen for the clearing of the current output cell\n",
              "var outputEl = gd.closest('.output');\n",
              "if (outputEl) {{\n",
              "    x.observe(outputEl, {childList: true});\n",
              "}}\n",
              "\n",
              "                        })                };                            </script>        </div>\n",
              "</body>\n",
              "</html>"
            ]
          },
          "metadata": {}
        }
      ]
    },
    {
      "cell_type": "markdown",
      "source": [
        "### Unnormalized PCA\n",
        "\n",
        "PCA is run on the OWU matrix, without any variable normalization.\n",
        "\n"
      ],
      "metadata": {
        "id": "8Wl5VJDoCfb7"
      }
    },
    {
      "cell_type": "code",
      "source": [
        "# Select number of components\n",
        "select_n_components = 5"
      ],
      "metadata": {
        "id": "IVLjL36PwtO2"
      },
      "execution_count": 7,
      "outputs": []
    },
    {
      "cell_type": "code",
      "source": [
        "# Run PCA\n",
        "pca = PCA(n_components = select_n_components)\n",
        "pca.fit(owu)\n",
        "expl_var = pca.explained_variance_\n",
        "expl_var_ratio = pca.explained_variance_ratio_\n",
        "pca_n_comp = list(range(1,pca.n_components_+1))"
      ],
      "metadata": {
        "id": "rM7Pdn7FCmkd"
      },
      "execution_count": 8,
      "outputs": []
    },
    {
      "cell_type": "code",
      "source": [
        "# Explained Variance Plot\n",
        "fig = px.line(x=pca_n_comp, y=1-expl_var_ratio, color=px.Constant(\"Cumulative explained variance\"), labels=dict(x=\"Principal component index\", y=\"Explained Variance Ratio\", color=\"Legend\"))\n",
        "fig.add_bar(x=pca_n_comp, y=expl_var_ratio, name=\"Individual explained variance\")\n",
        "fig.show()"
      ],
      "metadata": {
        "colab": {
          "base_uri": "https://localhost:8080/",
          "height": 542
        },
        "id": "PIzBUsLGXqZO",
        "outputId": "e78ef1cf-d833-419a-a0f7-dd3c0fdbb636"
      },
      "execution_count": 9,
      "outputs": [
        {
          "output_type": "display_data",
          "data": {
            "text/html": [
              "<html>\n",
              "<head><meta charset=\"utf-8\" /></head>\n",
              "<body>\n",
              "    <div>            <script src=\"https://cdnjs.cloudflare.com/ajax/libs/mathjax/2.7.5/MathJax.js?config=TeX-AMS-MML_SVG\"></script><script type=\"text/javascript\">if (window.MathJax) {MathJax.Hub.Config({SVG: {font: \"STIX-Web\"}});}</script>                <script type=\"text/javascript\">window.PlotlyConfig = {MathJaxConfig: 'local'};</script>\n",
              "        <script src=\"https://cdn.plot.ly/plotly-2.8.3.min.js\"></script>                <div id=\"3d71ee56-89d4-4cd1-8ffe-de141608ed6c\" class=\"plotly-graph-div\" style=\"height:525px; width:100%;\"></div>            <script type=\"text/javascript\">                                    window.PLOTLYENV=window.PLOTLYENV || {};                                    if (document.getElementById(\"3d71ee56-89d4-4cd1-8ffe-de141608ed6c\")) {                    Plotly.newPlot(                        \"3d71ee56-89d4-4cd1-8ffe-de141608ed6c\",                        [{\"hovertemplate\":\"Legend=Cumulative explained variance<br>Principal component index=%{x}<br>Explained Variance Ratio=%{y}<extra></extra>\",\"legendgroup\":\"Cumulative explained variance\",\"line\":{\"color\":\"#636efa\",\"dash\":\"solid\"},\"marker\":{\"symbol\":\"circle\"},\"mode\":\"lines\",\"name\":\"Cumulative explained variance\",\"orientation\":\"v\",\"showlegend\":true,\"x\":[1,2,3,4,5],\"xaxis\":\"x\",\"y\":[0.006829497968446008,0.9945933556477417,0.9988783376093447,0.9997513764078623,0.9999474323666053],\"yaxis\":\"y\",\"type\":\"scatter\"},{\"name\":\"Individual explained variance\",\"x\":[1,2,3,4,5],\"y\":[0.993170502031554,0.005406644352258367,0.0011216623906552278,0.00024862359213773794,5.2567633394696264e-05],\"type\":\"bar\"}],                        {\"template\":{\"data\":{\"bar\":[{\"error_x\":{\"color\":\"#2a3f5f\"},\"error_y\":{\"color\":\"#2a3f5f\"},\"marker\":{\"line\":{\"color\":\"#E5ECF6\",\"width\":0.5},\"pattern\":{\"fillmode\":\"overlay\",\"size\":10,\"solidity\":0.2}},\"type\":\"bar\"}],\"barpolar\":[{\"marker\":{\"line\":{\"color\":\"#E5ECF6\",\"width\":0.5},\"pattern\":{\"fillmode\":\"overlay\",\"size\":10,\"solidity\":0.2}},\"type\":\"barpolar\"}],\"carpet\":[{\"aaxis\":{\"endlinecolor\":\"#2a3f5f\",\"gridcolor\":\"white\",\"linecolor\":\"white\",\"minorgridcolor\":\"white\",\"startlinecolor\":\"#2a3f5f\"},\"baxis\":{\"endlinecolor\":\"#2a3f5f\",\"gridcolor\":\"white\",\"linecolor\":\"white\",\"minorgridcolor\":\"white\",\"startlinecolor\":\"#2a3f5f\"},\"type\":\"carpet\"}],\"choropleth\":[{\"colorbar\":{\"outlinewidth\":0,\"ticks\":\"\"},\"type\":\"choropleth\"}],\"contour\":[{\"colorbar\":{\"outlinewidth\":0,\"ticks\":\"\"},\"colorscale\":[[0.0,\"#0d0887\"],[0.1111111111111111,\"#46039f\"],[0.2222222222222222,\"#7201a8\"],[0.3333333333333333,\"#9c179e\"],[0.4444444444444444,\"#bd3786\"],[0.5555555555555556,\"#d8576b\"],[0.6666666666666666,\"#ed7953\"],[0.7777777777777778,\"#fb9f3a\"],[0.8888888888888888,\"#fdca26\"],[1.0,\"#f0f921\"]],\"type\":\"contour\"}],\"contourcarpet\":[{\"colorbar\":{\"outlinewidth\":0,\"ticks\":\"\"},\"type\":\"contourcarpet\"}],\"heatmap\":[{\"colorbar\":{\"outlinewidth\":0,\"ticks\":\"\"},\"colorscale\":[[0.0,\"#0d0887\"],[0.1111111111111111,\"#46039f\"],[0.2222222222222222,\"#7201a8\"],[0.3333333333333333,\"#9c179e\"],[0.4444444444444444,\"#bd3786\"],[0.5555555555555556,\"#d8576b\"],[0.6666666666666666,\"#ed7953\"],[0.7777777777777778,\"#fb9f3a\"],[0.8888888888888888,\"#fdca26\"],[1.0,\"#f0f921\"]],\"type\":\"heatmap\"}],\"heatmapgl\":[{\"colorbar\":{\"outlinewidth\":0,\"ticks\":\"\"},\"colorscale\":[[0.0,\"#0d0887\"],[0.1111111111111111,\"#46039f\"],[0.2222222222222222,\"#7201a8\"],[0.3333333333333333,\"#9c179e\"],[0.4444444444444444,\"#bd3786\"],[0.5555555555555556,\"#d8576b\"],[0.6666666666666666,\"#ed7953\"],[0.7777777777777778,\"#fb9f3a\"],[0.8888888888888888,\"#fdca26\"],[1.0,\"#f0f921\"]],\"type\":\"heatmapgl\"}],\"histogram\":[{\"marker\":{\"pattern\":{\"fillmode\":\"overlay\",\"size\":10,\"solidity\":0.2}},\"type\":\"histogram\"}],\"histogram2d\":[{\"colorbar\":{\"outlinewidth\":0,\"ticks\":\"\"},\"colorscale\":[[0.0,\"#0d0887\"],[0.1111111111111111,\"#46039f\"],[0.2222222222222222,\"#7201a8\"],[0.3333333333333333,\"#9c179e\"],[0.4444444444444444,\"#bd3786\"],[0.5555555555555556,\"#d8576b\"],[0.6666666666666666,\"#ed7953\"],[0.7777777777777778,\"#fb9f3a\"],[0.8888888888888888,\"#fdca26\"],[1.0,\"#f0f921\"]],\"type\":\"histogram2d\"}],\"histogram2dcontour\":[{\"colorbar\":{\"outlinewidth\":0,\"ticks\":\"\"},\"colorscale\":[[0.0,\"#0d0887\"],[0.1111111111111111,\"#46039f\"],[0.2222222222222222,\"#7201a8\"],[0.3333333333333333,\"#9c179e\"],[0.4444444444444444,\"#bd3786\"],[0.5555555555555556,\"#d8576b\"],[0.6666666666666666,\"#ed7953\"],[0.7777777777777778,\"#fb9f3a\"],[0.8888888888888888,\"#fdca26\"],[1.0,\"#f0f921\"]],\"type\":\"histogram2dcontour\"}],\"mesh3d\":[{\"colorbar\":{\"outlinewidth\":0,\"ticks\":\"\"},\"type\":\"mesh3d\"}],\"parcoords\":[{\"line\":{\"colorbar\":{\"outlinewidth\":0,\"ticks\":\"\"}},\"type\":\"parcoords\"}],\"pie\":[{\"automargin\":true,\"type\":\"pie\"}],\"scatter\":[{\"marker\":{\"colorbar\":{\"outlinewidth\":0,\"ticks\":\"\"}},\"type\":\"scatter\"}],\"scatter3d\":[{\"line\":{\"colorbar\":{\"outlinewidth\":0,\"ticks\":\"\"}},\"marker\":{\"colorbar\":{\"outlinewidth\":0,\"ticks\":\"\"}},\"type\":\"scatter3d\"}],\"scattercarpet\":[{\"marker\":{\"colorbar\":{\"outlinewidth\":0,\"ticks\":\"\"}},\"type\":\"scattercarpet\"}],\"scattergeo\":[{\"marker\":{\"colorbar\":{\"outlinewidth\":0,\"ticks\":\"\"}},\"type\":\"scattergeo\"}],\"scattergl\":[{\"marker\":{\"colorbar\":{\"outlinewidth\":0,\"ticks\":\"\"}},\"type\":\"scattergl\"}],\"scattermapbox\":[{\"marker\":{\"colorbar\":{\"outlinewidth\":0,\"ticks\":\"\"}},\"type\":\"scattermapbox\"}],\"scatterpolar\":[{\"marker\":{\"colorbar\":{\"outlinewidth\":0,\"ticks\":\"\"}},\"type\":\"scatterpolar\"}],\"scatterpolargl\":[{\"marker\":{\"colorbar\":{\"outlinewidth\":0,\"ticks\":\"\"}},\"type\":\"scatterpolargl\"}],\"scatterternary\":[{\"marker\":{\"colorbar\":{\"outlinewidth\":0,\"ticks\":\"\"}},\"type\":\"scatterternary\"}],\"surface\":[{\"colorbar\":{\"outlinewidth\":0,\"ticks\":\"\"},\"colorscale\":[[0.0,\"#0d0887\"],[0.1111111111111111,\"#46039f\"],[0.2222222222222222,\"#7201a8\"],[0.3333333333333333,\"#9c179e\"],[0.4444444444444444,\"#bd3786\"],[0.5555555555555556,\"#d8576b\"],[0.6666666666666666,\"#ed7953\"],[0.7777777777777778,\"#fb9f3a\"],[0.8888888888888888,\"#fdca26\"],[1.0,\"#f0f921\"]],\"type\":\"surface\"}],\"table\":[{\"cells\":{\"fill\":{\"color\":\"#EBF0F8\"},\"line\":{\"color\":\"white\"}},\"header\":{\"fill\":{\"color\":\"#C8D4E3\"},\"line\":{\"color\":\"white\"}},\"type\":\"table\"}]},\"layout\":{\"annotationdefaults\":{\"arrowcolor\":\"#2a3f5f\",\"arrowhead\":0,\"arrowwidth\":1},\"autotypenumbers\":\"strict\",\"coloraxis\":{\"colorbar\":{\"outlinewidth\":0,\"ticks\":\"\"}},\"colorscale\":{\"diverging\":[[0,\"#8e0152\"],[0.1,\"#c51b7d\"],[0.2,\"#de77ae\"],[0.3,\"#f1b6da\"],[0.4,\"#fde0ef\"],[0.5,\"#f7f7f7\"],[0.6,\"#e6f5d0\"],[0.7,\"#b8e186\"],[0.8,\"#7fbc41\"],[0.9,\"#4d9221\"],[1,\"#276419\"]],\"sequential\":[[0.0,\"#0d0887\"],[0.1111111111111111,\"#46039f\"],[0.2222222222222222,\"#7201a8\"],[0.3333333333333333,\"#9c179e\"],[0.4444444444444444,\"#bd3786\"],[0.5555555555555556,\"#d8576b\"],[0.6666666666666666,\"#ed7953\"],[0.7777777777777778,\"#fb9f3a\"],[0.8888888888888888,\"#fdca26\"],[1.0,\"#f0f921\"]],\"sequentialminus\":[[0.0,\"#0d0887\"],[0.1111111111111111,\"#46039f\"],[0.2222222222222222,\"#7201a8\"],[0.3333333333333333,\"#9c179e\"],[0.4444444444444444,\"#bd3786\"],[0.5555555555555556,\"#d8576b\"],[0.6666666666666666,\"#ed7953\"],[0.7777777777777778,\"#fb9f3a\"],[0.8888888888888888,\"#fdca26\"],[1.0,\"#f0f921\"]]},\"colorway\":[\"#636efa\",\"#EF553B\",\"#00cc96\",\"#ab63fa\",\"#FFA15A\",\"#19d3f3\",\"#FF6692\",\"#B6E880\",\"#FF97FF\",\"#FECB52\"],\"font\":{\"color\":\"#2a3f5f\"},\"geo\":{\"bgcolor\":\"white\",\"lakecolor\":\"white\",\"landcolor\":\"#E5ECF6\",\"showlakes\":true,\"showland\":true,\"subunitcolor\":\"white\"},\"hoverlabel\":{\"align\":\"left\"},\"hovermode\":\"closest\",\"mapbox\":{\"style\":\"light\"},\"paper_bgcolor\":\"white\",\"plot_bgcolor\":\"#E5ECF6\",\"polar\":{\"angularaxis\":{\"gridcolor\":\"white\",\"linecolor\":\"white\",\"ticks\":\"\"},\"bgcolor\":\"#E5ECF6\",\"radialaxis\":{\"gridcolor\":\"white\",\"linecolor\":\"white\",\"ticks\":\"\"}},\"scene\":{\"xaxis\":{\"backgroundcolor\":\"#E5ECF6\",\"gridcolor\":\"white\",\"gridwidth\":2,\"linecolor\":\"white\",\"showbackground\":true,\"ticks\":\"\",\"zerolinecolor\":\"white\"},\"yaxis\":{\"backgroundcolor\":\"#E5ECF6\",\"gridcolor\":\"white\",\"gridwidth\":2,\"linecolor\":\"white\",\"showbackground\":true,\"ticks\":\"\",\"zerolinecolor\":\"white\"},\"zaxis\":{\"backgroundcolor\":\"#E5ECF6\",\"gridcolor\":\"white\",\"gridwidth\":2,\"linecolor\":\"white\",\"showbackground\":true,\"ticks\":\"\",\"zerolinecolor\":\"white\"}},\"shapedefaults\":{\"line\":{\"color\":\"#2a3f5f\"}},\"ternary\":{\"aaxis\":{\"gridcolor\":\"white\",\"linecolor\":\"white\",\"ticks\":\"\"},\"baxis\":{\"gridcolor\":\"white\",\"linecolor\":\"white\",\"ticks\":\"\"},\"bgcolor\":\"#E5ECF6\",\"caxis\":{\"gridcolor\":\"white\",\"linecolor\":\"white\",\"ticks\":\"\"}},\"title\":{\"x\":0.05},\"xaxis\":{\"automargin\":true,\"gridcolor\":\"white\",\"linecolor\":\"white\",\"ticks\":\"\",\"title\":{\"standoff\":15},\"zerolinecolor\":\"white\",\"zerolinewidth\":2},\"yaxis\":{\"automargin\":true,\"gridcolor\":\"white\",\"linecolor\":\"white\",\"ticks\":\"\",\"title\":{\"standoff\":15},\"zerolinecolor\":\"white\",\"zerolinewidth\":2}}},\"xaxis\":{\"anchor\":\"y\",\"domain\":[0.0,1.0],\"title\":{\"text\":\"Principal component index\"}},\"yaxis\":{\"anchor\":\"x\",\"domain\":[0.0,1.0],\"title\":{\"text\":\"Explained Variance Ratio\"}},\"legend\":{\"title\":{\"text\":\"Legend\"},\"tracegroupgap\":0},\"margin\":{\"t\":60}},                        {\"responsive\": true}                    ).then(function(){\n",
              "                            \n",
              "var gd = document.getElementById('3d71ee56-89d4-4cd1-8ffe-de141608ed6c');\n",
              "var x = new MutationObserver(function (mutations, observer) {{\n",
              "        var display = window.getComputedStyle(gd).display;\n",
              "        if (!display || display === 'none') {{\n",
              "            console.log([gd, 'removed!']);\n",
              "            Plotly.purge(gd);\n",
              "            observer.disconnect();\n",
              "        }}\n",
              "}});\n",
              "\n",
              "// Listen for the removal of the full notebook cells\n",
              "var notebookContainer = gd.closest('#notebook-container');\n",
              "if (notebookContainer) {{\n",
              "    x.observe(notebookContainer, {childList: true});\n",
              "}}\n",
              "\n",
              "// Listen for the clearing of the current output cell\n",
              "var outputEl = gd.closest('.output');\n",
              "if (outputEl) {{\n",
              "    x.observe(outputEl, {childList: true});\n",
              "}}\n",
              "\n",
              "                        })                };                            </script>        </div>\n",
              "</body>\n",
              "</html>"
            ]
          },
          "metadata": {}
        }
      ]
    },
    {
      "cell_type": "markdown",
      "source": [
        "### Normalized PCA\n",
        "\n",
        "PCA is run on the OWU matrix, but this time the variables are first normalized with respect to their mean and standard deviation.\n"
      ],
      "metadata": {
        "id": "a6DqqlXcCrHN"
      }
    },
    {
      "cell_type": "code",
      "source": [
        "# Scale data by mean and standard deviation\n",
        "scaler = StandardScaler()\n",
        "scaled_data = scaler.fit_transform(owu)"
      ],
      "metadata": {
        "id": "GLKQYJRKCzUd"
      },
      "execution_count": 10,
      "outputs": []
    },
    {
      "cell_type": "code",
      "source": [
        "# Run PCA on scaled data\n",
        "pca.fit(scaled_data)\n",
        "expl_var = pca.explained_variance_\n",
        "expl_var_ratio = pca.explained_variance_ratio_\n",
        "pca_n_comp = list(range(1,pca.n_components_+1))\n",
        "components = pca.fit_transform(scaled_data)"
      ],
      "metadata": {
        "id": "YGLZGpxawj2N"
      },
      "execution_count": 11,
      "outputs": []
    },
    {
      "cell_type": "code",
      "source": [
        "# Plot Explained Variance plots\n",
        "fig = px.line(x=pca_n_comp, y=1-expl_var_ratio, color=px.Constant(\"Cumulative explained variance\"), labels=dict(x=\"Principal component index\", y=\"Explained Variance Ratio\", color=\"Legend\"))\n",
        "fig.add_bar(x=pca_n_comp, y=expl_var_ratio, name=\"Individual explained variance\")\n",
        "fig.show()"
      ],
      "metadata": {
        "id": "A6FFhlPywzom",
        "outputId": "70a01e26-5c3b-41d1-9695-c8233f57ed42",
        "colab": {
          "base_uri": "https://localhost:8080/",
          "height": 542
        }
      },
      "execution_count": 12,
      "outputs": [
        {
          "output_type": "display_data",
          "data": {
            "text/html": [
              "<html>\n",
              "<head><meta charset=\"utf-8\" /></head>\n",
              "<body>\n",
              "    <div>            <script src=\"https://cdnjs.cloudflare.com/ajax/libs/mathjax/2.7.5/MathJax.js?config=TeX-AMS-MML_SVG\"></script><script type=\"text/javascript\">if (window.MathJax) {MathJax.Hub.Config({SVG: {font: \"STIX-Web\"}});}</script>                <script type=\"text/javascript\">window.PlotlyConfig = {MathJaxConfig: 'local'};</script>\n",
              "        <script src=\"https://cdn.plot.ly/plotly-2.8.3.min.js\"></script>                <div id=\"66c0b76e-69ca-44d1-9b3e-ade5311c40a3\" class=\"plotly-graph-div\" style=\"height:525px; width:100%;\"></div>            <script type=\"text/javascript\">                                    window.PLOTLYENV=window.PLOTLYENV || {};                                    if (document.getElementById(\"66c0b76e-69ca-44d1-9b3e-ade5311c40a3\")) {                    Plotly.newPlot(                        \"66c0b76e-69ca-44d1-9b3e-ade5311c40a3\",                        [{\"hovertemplate\":\"Legend=Cumulative explained variance<br>Principal component index=%{x}<br>Explained Variance Ratio=%{y}<extra></extra>\",\"legendgroup\":\"Cumulative explained variance\",\"line\":{\"color\":\"#636efa\",\"dash\":\"solid\"},\"marker\":{\"symbol\":\"circle\"},\"mode\":\"lines\",\"name\":\"Cumulative explained variance\",\"orientation\":\"v\",\"showlegend\":true,\"x\":[1,2,3,4,5],\"xaxis\":\"x\",\"y\":[0.5547794077574921,0.7098837068496975,0.8022798039260031,0.9396025119158321,0.9934545695509749],\"yaxis\":\"y\",\"type\":\"scatter\"},{\"name\":\"Individual explained variance\",\"x\":[1,2,3,4,5],\"y\":[0.4452205922425078,0.29011629315030246,0.19772019607399696,0.06039748808416786,0.006545430449025082],\"type\":\"bar\"}],                        {\"template\":{\"data\":{\"bar\":[{\"error_x\":{\"color\":\"#2a3f5f\"},\"error_y\":{\"color\":\"#2a3f5f\"},\"marker\":{\"line\":{\"color\":\"#E5ECF6\",\"width\":0.5},\"pattern\":{\"fillmode\":\"overlay\",\"size\":10,\"solidity\":0.2}},\"type\":\"bar\"}],\"barpolar\":[{\"marker\":{\"line\":{\"color\":\"#E5ECF6\",\"width\":0.5},\"pattern\":{\"fillmode\":\"overlay\",\"size\":10,\"solidity\":0.2}},\"type\":\"barpolar\"}],\"carpet\":[{\"aaxis\":{\"endlinecolor\":\"#2a3f5f\",\"gridcolor\":\"white\",\"linecolor\":\"white\",\"minorgridcolor\":\"white\",\"startlinecolor\":\"#2a3f5f\"},\"baxis\":{\"endlinecolor\":\"#2a3f5f\",\"gridcolor\":\"white\",\"linecolor\":\"white\",\"minorgridcolor\":\"white\",\"startlinecolor\":\"#2a3f5f\"},\"type\":\"carpet\"}],\"choropleth\":[{\"colorbar\":{\"outlinewidth\":0,\"ticks\":\"\"},\"type\":\"choropleth\"}],\"contour\":[{\"colorbar\":{\"outlinewidth\":0,\"ticks\":\"\"},\"colorscale\":[[0.0,\"#0d0887\"],[0.1111111111111111,\"#46039f\"],[0.2222222222222222,\"#7201a8\"],[0.3333333333333333,\"#9c179e\"],[0.4444444444444444,\"#bd3786\"],[0.5555555555555556,\"#d8576b\"],[0.6666666666666666,\"#ed7953\"],[0.7777777777777778,\"#fb9f3a\"],[0.8888888888888888,\"#fdca26\"],[1.0,\"#f0f921\"]],\"type\":\"contour\"}],\"contourcarpet\":[{\"colorbar\":{\"outlinewidth\":0,\"ticks\":\"\"},\"type\":\"contourcarpet\"}],\"heatmap\":[{\"colorbar\":{\"outlinewidth\":0,\"ticks\":\"\"},\"colorscale\":[[0.0,\"#0d0887\"],[0.1111111111111111,\"#46039f\"],[0.2222222222222222,\"#7201a8\"],[0.3333333333333333,\"#9c179e\"],[0.4444444444444444,\"#bd3786\"],[0.5555555555555556,\"#d8576b\"],[0.6666666666666666,\"#ed7953\"],[0.7777777777777778,\"#fb9f3a\"],[0.8888888888888888,\"#fdca26\"],[1.0,\"#f0f921\"]],\"type\":\"heatmap\"}],\"heatmapgl\":[{\"colorbar\":{\"outlinewidth\":0,\"ticks\":\"\"},\"colorscale\":[[0.0,\"#0d0887\"],[0.1111111111111111,\"#46039f\"],[0.2222222222222222,\"#7201a8\"],[0.3333333333333333,\"#9c179e\"],[0.4444444444444444,\"#bd3786\"],[0.5555555555555556,\"#d8576b\"],[0.6666666666666666,\"#ed7953\"],[0.7777777777777778,\"#fb9f3a\"],[0.8888888888888888,\"#fdca26\"],[1.0,\"#f0f921\"]],\"type\":\"heatmapgl\"}],\"histogram\":[{\"marker\":{\"pattern\":{\"fillmode\":\"overlay\",\"size\":10,\"solidity\":0.2}},\"type\":\"histogram\"}],\"histogram2d\":[{\"colorbar\":{\"outlinewidth\":0,\"ticks\":\"\"},\"colorscale\":[[0.0,\"#0d0887\"],[0.1111111111111111,\"#46039f\"],[0.2222222222222222,\"#7201a8\"],[0.3333333333333333,\"#9c179e\"],[0.4444444444444444,\"#bd3786\"],[0.5555555555555556,\"#d8576b\"],[0.6666666666666666,\"#ed7953\"],[0.7777777777777778,\"#fb9f3a\"],[0.8888888888888888,\"#fdca26\"],[1.0,\"#f0f921\"]],\"type\":\"histogram2d\"}],\"histogram2dcontour\":[{\"colorbar\":{\"outlinewidth\":0,\"ticks\":\"\"},\"colorscale\":[[0.0,\"#0d0887\"],[0.1111111111111111,\"#46039f\"],[0.2222222222222222,\"#7201a8\"],[0.3333333333333333,\"#9c179e\"],[0.4444444444444444,\"#bd3786\"],[0.5555555555555556,\"#d8576b\"],[0.6666666666666666,\"#ed7953\"],[0.7777777777777778,\"#fb9f3a\"],[0.8888888888888888,\"#fdca26\"],[1.0,\"#f0f921\"]],\"type\":\"histogram2dcontour\"}],\"mesh3d\":[{\"colorbar\":{\"outlinewidth\":0,\"ticks\":\"\"},\"type\":\"mesh3d\"}],\"parcoords\":[{\"line\":{\"colorbar\":{\"outlinewidth\":0,\"ticks\":\"\"}},\"type\":\"parcoords\"}],\"pie\":[{\"automargin\":true,\"type\":\"pie\"}],\"scatter\":[{\"marker\":{\"colorbar\":{\"outlinewidth\":0,\"ticks\":\"\"}},\"type\":\"scatter\"}],\"scatter3d\":[{\"line\":{\"colorbar\":{\"outlinewidth\":0,\"ticks\":\"\"}},\"marker\":{\"colorbar\":{\"outlinewidth\":0,\"ticks\":\"\"}},\"type\":\"scatter3d\"}],\"scattercarpet\":[{\"marker\":{\"colorbar\":{\"outlinewidth\":0,\"ticks\":\"\"}},\"type\":\"scattercarpet\"}],\"scattergeo\":[{\"marker\":{\"colorbar\":{\"outlinewidth\":0,\"ticks\":\"\"}},\"type\":\"scattergeo\"}],\"scattergl\":[{\"marker\":{\"colorbar\":{\"outlinewidth\":0,\"ticks\":\"\"}},\"type\":\"scattergl\"}],\"scattermapbox\":[{\"marker\":{\"colorbar\":{\"outlinewidth\":0,\"ticks\":\"\"}},\"type\":\"scattermapbox\"}],\"scatterpolar\":[{\"marker\":{\"colorbar\":{\"outlinewidth\":0,\"ticks\":\"\"}},\"type\":\"scatterpolar\"}],\"scatterpolargl\":[{\"marker\":{\"colorbar\":{\"outlinewidth\":0,\"ticks\":\"\"}},\"type\":\"scatterpolargl\"}],\"scatterternary\":[{\"marker\":{\"colorbar\":{\"outlinewidth\":0,\"ticks\":\"\"}},\"type\":\"scatterternary\"}],\"surface\":[{\"colorbar\":{\"outlinewidth\":0,\"ticks\":\"\"},\"colorscale\":[[0.0,\"#0d0887\"],[0.1111111111111111,\"#46039f\"],[0.2222222222222222,\"#7201a8\"],[0.3333333333333333,\"#9c179e\"],[0.4444444444444444,\"#bd3786\"],[0.5555555555555556,\"#d8576b\"],[0.6666666666666666,\"#ed7953\"],[0.7777777777777778,\"#fb9f3a\"],[0.8888888888888888,\"#fdca26\"],[1.0,\"#f0f921\"]],\"type\":\"surface\"}],\"table\":[{\"cells\":{\"fill\":{\"color\":\"#EBF0F8\"},\"line\":{\"color\":\"white\"}},\"header\":{\"fill\":{\"color\":\"#C8D4E3\"},\"line\":{\"color\":\"white\"}},\"type\":\"table\"}]},\"layout\":{\"annotationdefaults\":{\"arrowcolor\":\"#2a3f5f\",\"arrowhead\":0,\"arrowwidth\":1},\"autotypenumbers\":\"strict\",\"coloraxis\":{\"colorbar\":{\"outlinewidth\":0,\"ticks\":\"\"}},\"colorscale\":{\"diverging\":[[0,\"#8e0152\"],[0.1,\"#c51b7d\"],[0.2,\"#de77ae\"],[0.3,\"#f1b6da\"],[0.4,\"#fde0ef\"],[0.5,\"#f7f7f7\"],[0.6,\"#e6f5d0\"],[0.7,\"#b8e186\"],[0.8,\"#7fbc41\"],[0.9,\"#4d9221\"],[1,\"#276419\"]],\"sequential\":[[0.0,\"#0d0887\"],[0.1111111111111111,\"#46039f\"],[0.2222222222222222,\"#7201a8\"],[0.3333333333333333,\"#9c179e\"],[0.4444444444444444,\"#bd3786\"],[0.5555555555555556,\"#d8576b\"],[0.6666666666666666,\"#ed7953\"],[0.7777777777777778,\"#fb9f3a\"],[0.8888888888888888,\"#fdca26\"],[1.0,\"#f0f921\"]],\"sequentialminus\":[[0.0,\"#0d0887\"],[0.1111111111111111,\"#46039f\"],[0.2222222222222222,\"#7201a8\"],[0.3333333333333333,\"#9c179e\"],[0.4444444444444444,\"#bd3786\"],[0.5555555555555556,\"#d8576b\"],[0.6666666666666666,\"#ed7953\"],[0.7777777777777778,\"#fb9f3a\"],[0.8888888888888888,\"#fdca26\"],[1.0,\"#f0f921\"]]},\"colorway\":[\"#636efa\",\"#EF553B\",\"#00cc96\",\"#ab63fa\",\"#FFA15A\",\"#19d3f3\",\"#FF6692\",\"#B6E880\",\"#FF97FF\",\"#FECB52\"],\"font\":{\"color\":\"#2a3f5f\"},\"geo\":{\"bgcolor\":\"white\",\"lakecolor\":\"white\",\"landcolor\":\"#E5ECF6\",\"showlakes\":true,\"showland\":true,\"subunitcolor\":\"white\"},\"hoverlabel\":{\"align\":\"left\"},\"hovermode\":\"closest\",\"mapbox\":{\"style\":\"light\"},\"paper_bgcolor\":\"white\",\"plot_bgcolor\":\"#E5ECF6\",\"polar\":{\"angularaxis\":{\"gridcolor\":\"white\",\"linecolor\":\"white\",\"ticks\":\"\"},\"bgcolor\":\"#E5ECF6\",\"radialaxis\":{\"gridcolor\":\"white\",\"linecolor\":\"white\",\"ticks\":\"\"}},\"scene\":{\"xaxis\":{\"backgroundcolor\":\"#E5ECF6\",\"gridcolor\":\"white\",\"gridwidth\":2,\"linecolor\":\"white\",\"showbackground\":true,\"ticks\":\"\",\"zerolinecolor\":\"white\"},\"yaxis\":{\"backgroundcolor\":\"#E5ECF6\",\"gridcolor\":\"white\",\"gridwidth\":2,\"linecolor\":\"white\",\"showbackground\":true,\"ticks\":\"\",\"zerolinecolor\":\"white\"},\"zaxis\":{\"backgroundcolor\":\"#E5ECF6\",\"gridcolor\":\"white\",\"gridwidth\":2,\"linecolor\":\"white\",\"showbackground\":true,\"ticks\":\"\",\"zerolinecolor\":\"white\"}},\"shapedefaults\":{\"line\":{\"color\":\"#2a3f5f\"}},\"ternary\":{\"aaxis\":{\"gridcolor\":\"white\",\"linecolor\":\"white\",\"ticks\":\"\"},\"baxis\":{\"gridcolor\":\"white\",\"linecolor\":\"white\",\"ticks\":\"\"},\"bgcolor\":\"#E5ECF6\",\"caxis\":{\"gridcolor\":\"white\",\"linecolor\":\"white\",\"ticks\":\"\"}},\"title\":{\"x\":0.05},\"xaxis\":{\"automargin\":true,\"gridcolor\":\"white\",\"linecolor\":\"white\",\"ticks\":\"\",\"title\":{\"standoff\":15},\"zerolinecolor\":\"white\",\"zerolinewidth\":2},\"yaxis\":{\"automargin\":true,\"gridcolor\":\"white\",\"linecolor\":\"white\",\"ticks\":\"\",\"title\":{\"standoff\":15},\"zerolinecolor\":\"white\",\"zerolinewidth\":2}}},\"xaxis\":{\"anchor\":\"y\",\"domain\":[0.0,1.0],\"title\":{\"text\":\"Principal component index\"}},\"yaxis\":{\"anchor\":\"x\",\"domain\":[0.0,1.0],\"title\":{\"text\":\"Explained Variance Ratio\"}},\"legend\":{\"title\":{\"text\":\"Legend\"},\"tracegroupgap\":0},\"margin\":{\"t\":60}},                        {\"responsive\": true}                    ).then(function(){\n",
              "                            \n",
              "var gd = document.getElementById('66c0b76e-69ca-44d1-9b3e-ade5311c40a3');\n",
              "var x = new MutationObserver(function (mutations, observer) {{\n",
              "        var display = window.getComputedStyle(gd).display;\n",
              "        if (!display || display === 'none') {{\n",
              "            console.log([gd, 'removed!']);\n",
              "            Plotly.purge(gd);\n",
              "            observer.disconnect();\n",
              "        }}\n",
              "}});\n",
              "\n",
              "// Listen for the removal of the full notebook cells\n",
              "var notebookContainer = gd.closest('#notebook-container');\n",
              "if (notebookContainer) {{\n",
              "    x.observe(notebookContainer, {childList: true});\n",
              "}}\n",
              "\n",
              "// Listen for the clearing of the current output cell\n",
              "var outputEl = gd.closest('.output');\n",
              "if (outputEl) {{\n",
              "    x.observe(outputEl, {childList: true});\n",
              "}}\n",
              "\n",
              "                        })                };                            </script>        </div>\n",
              "</body>\n",
              "</html>"
            ]
          },
          "metadata": {}
        }
      ]
    },
    {
      "cell_type": "markdown",
      "source": [
        "### Plot scores and loadings\n",
        "\n",
        "In the following plot, the PCA loadings are plotted together with the observation scores.\n",
        "\n",
        "Color according to run number / time step / display loadings\n"
      ],
      "metadata": {
        "id": "VKrDGuxIC865"
      }
    },
    {
      "cell_type": "code",
      "source": [
        "# Principal component on x-axis\n",
        "select_x_pca = 1\n",
        "# Principal component on y-axis\n",
        "select_y_pca = 3\n",
        "# Color plots by\n",
        "select_color = \"Run_id\"\n",
        "# Highlight run\n",
        "select_highlight = 1"
      ],
      "metadata": {
        "id": "SyD6M4FBwy3p"
      },
      "execution_count": 60,
      "outputs": []
    },
    {
      "cell_type": "code",
      "source": [
        "# Score plot of PCA\n",
        "if select_color == \"Run_id\":\n",
        "    color_idx=owu.index.get_level_values(\"run\")\n",
        "elif select_color == \"Time_id\":\n",
        "    color_idx=owu.index.get_level_values(\"time\")\n",
        "elif select_color == \"Titer_14\":\n",
        "    color_idx =np.repeat(np.array(owu[\"X:Titer\"][:,14]),15)\n",
        "elif select_color in doe.columns:\n",
        "    color_idx = np.repeat(np.array(doe[select_color]),15)\n",
        "else: \n",
        "    color_idx = None\n",
        "fig = px.scatter(x=components[:,select_x_pca-1], y=components[:,select_y_pca-1], color=color_idx, title=\"PCA Score plot\", labels={'x':\"Principal Component - \"+str(select_x_pca), 'y':\"Principal Component - \"+str(select_y_pca), 'color':str(select_color)}, )    \n",
        "fig.show()"
      ],
      "metadata": {
        "colab": {
          "base_uri": "https://localhost:8080/",
          "height": 542
        },
        "id": "q3H2vledZXYa",
        "outputId": "8b9cc2f7-e751-4736-987d-8ac54ac51eaa"
      },
      "execution_count": 61,
      "outputs": [
        {
          "output_type": "display_data",
          "data": {
            "text/html": [
              "<html>\n",
              "<head><meta charset=\"utf-8\" /></head>\n",
              "<body>\n",
              "    <div>            <script src=\"https://cdnjs.cloudflare.com/ajax/libs/mathjax/2.7.5/MathJax.js?config=TeX-AMS-MML_SVG\"></script><script type=\"text/javascript\">if (window.MathJax) {MathJax.Hub.Config({SVG: {font: \"STIX-Web\"}});}</script>                <script type=\"text/javascript\">window.PlotlyConfig = {MathJaxConfig: 'local'};</script>\n",
              "        <script src=\"https://cdn.plot.ly/plotly-2.8.3.min.js\"></script>                <div id=\"1c48a405-0ee3-4511-83d6-6571a087b561\" class=\"plotly-graph-div\" style=\"height:525px; width:100%;\"></div>            <script type=\"text/javascript\">                                    window.PLOTLYENV=window.PLOTLYENV || {};                                    if (document.getElementById(\"1c48a405-0ee3-4511-83d6-6571a087b561\")) {                    Plotly.newPlot(                        \"1c48a405-0ee3-4511-83d6-6571a087b561\",                        [{\"hovertemplate\":\"Principal Component - 1=%{x}<br>Principal Component - 3=%{y}<br>Run_id=%{marker.color}<extra></extra>\",\"legendgroup\":\"\",\"marker\":{\"color\":[0,0,0,0,0,0,0,0,0,0,0,0,0,0,0,1,1,1,1,1,1,1,1,1,1,1,1,1,1,1,2,2,2,2,2,2,2,2,2,2,2,2,2,2,2,3,3,3,3,3,3,3,3,3,3,3,3,3,3,3,4,4,4,4,4,4,4,4,4,4,4,4,4,4,4,5,5,5,5,5,5,5,5,5,5,5,5,5,5,5,6,6,6,6,6,6,6,6,6,6,6,6,6,6,6,7,7,7,7,7,7,7,7,7,7,7,7,7,7,7,8,8,8,8,8,8,8,8,8,8,8,8,8,8,8,9,9,9,9,9,9,9,9,9,9,9,9,9,9,9,10,10,10,10,10,10,10,10,10,10,10,10,10,10,10,11,11,11,11,11,11,11,11,11,11,11,11,11,11,11,12,12,12,12,12,12,12,12,12,12,12,12,12,12,12,13,13,13,13,13,13,13,13,13,13,13,13,13,13,13,14,14,14,14,14,14,14,14,14,14,14,14,14,14,14,15,15,15,15,15,15,15,15,15,15,15,15,15,15,15,16,16,16,16,16,16,16,16,16,16,16,16,16,16,16,17,17,17,17,17,17,17,17,17,17,17,17,17,17,17,18,18,18,18,18,18,18,18,18,18,18,18,18,18,18,19,19,19,19,19,19,19,19,19,19,19,19,19,19,19,20,20,20,20,20,20,20,20,20,20,20,20,20,20,20,21,21,21,21,21,21,21,21,21,21,21,21,21,21,21,22,22,22,22,22,22,22,22,22,22,22,22,22,22,22,23,23,23,23,23,23,23,23,23,23,23,23,23,23,23,24,24,24,24,24,24,24,24,24,24,24,24,24,24,24,25,25,25,25,25,25,25,25,25,25,25,25,25,25,25,26,26,26,26,26,26,26,26,26,26,26,26,26,26,26,27,27,27,27,27,27,27,27,27,27,27,27,27,27,27,28,28,28,28,28,28,28,28,28,28,28,28,28,28,28,29,29,29,29,29,29,29,29,29,29,29,29,29,29,29,30,30,30,30,30,30,30,30,30,30,30,30,30,30,30,31,31,31,31,31,31,31,31,31,31,31,31,31,31,31,32,32,32,32,32,32,32,32,32,32,32,32,32,32,32,33,33,33,33,33,33,33,33,33,33,33,33,33,33,33,34,34,34,34,34,34,34,34,34,34,34,34,34,34,34,35,35,35,35,35,35,35,35,35,35,35,35,35,35,35,36,36,36,36,36,36,36,36,36,36,36,36,36,36,36,37,37,37,37,37,37,37,37,37,37,37,37,37,37,37,38,38,38,38,38,38,38,38,38,38,38,38,38,38,38,39,39,39,39,39,39,39,39,39,39,39,39,39,39,39,40,40,40,40,40,40,40,40,40,40,40,40,40,40,40,41,41,41,41,41,41,41,41,41,41,41,41,41,41,41,42,42,42,42,42,42,42,42,42,42,42,42,42,42,42,43,43,43,43,43,43,43,43,43,43,43,43,43,43,43,44,44,44,44,44,44,44,44,44,44,44,44,44,44,44,45,45,45,45,45,45,45,45,45,45,45,45,45,45,45,46,46,46,46,46,46,46,46,46,46,46,46,46,46,46,47,47,47,47,47,47,47,47,47,47,47,47,47,47,47,48,48,48,48,48,48,48,48,48,48,48,48,48,48,48,49,49,49,49,49,49,49,49,49,49,49,49,49,49,49,50,50,50,50,50,50,50,50,50,50,50,50,50,50,50,51,51,51,51,51,51,51,51,51,51,51,51,51,51,51,52,52,52,52,52,52,52,52,52,52,52,52,52,52,52,53,53,53,53,53,53,53,53,53,53,53,53,53,53,53,54,54,54,54,54,54,54,54,54,54,54,54,54,54,54,55,55,55,55,55,55,55,55,55,55,55,55,55,55,55,56,56,56,56,56,56,56,56,56,56,56,56,56,56,56,57,57,57,57,57,57,57,57,57,57,57,57,57,57,57,58,58,58,58,58,58,58,58,58,58,58,58,58,58,58,59,59,59,59,59,59,59,59,59,59,59,59,59,59,59,60,60,60,60,60,60,60,60,60,60,60,60,60,60,60,61,61,61,61,61,61,61,61,61,61,61,61,61,61,61,62,62,62,62,62,62,62,62,62,62,62,62,62,62,62,63,63,63,63,63,63,63,63,63,63,63,63,63,63,63,64,64,64,64,64,64,64,64,64,64,64,64,64,64,64,65,65,65,65,65,65,65,65,65,65,65,65,65,65,65,66,66,66,66,66,66,66,66,66,66,66,66,66,66,66,67,67,67,67,67,67,67,67,67,67,67,67,67,67,67,68,68,68,68,68,68,68,68,68,68,68,68,68,68,68,69,69,69,69,69,69,69,69,69,69,69,69,69,69,69,70,70,70,70,70,70,70,70,70,70,70,70,70,70,70,71,71,71,71,71,71,71,71,71,71,71,71,71,71,71,72,72,72,72,72,72,72,72,72,72,72,72,72,72,72,73,73,73,73,73,73,73,73,73,73,73,73,73,73,73,74,74,74,74,74,74,74,74,74,74,74,74,74,74,74,75,75,75,75,75,75,75,75,75,75,75,75,75,75,75,76,76,76,76,76,76,76,76,76,76,76,76,76,76,76,77,77,77,77,77,77,77,77,77,77,77,77,77,77,77,78,78,78,78,78,78,78,78,78,78,78,78,78,78,78,79,79,79,79,79,79,79,79,79,79,79,79,79,79,79,80,80,80,80,80,80,80,80,80,80,80,80,80,80,80,81,81,81,81,81,81,81,81,81,81,81,81,81,81,81,82,82,82,82,82,82,82,82,82,82,82,82,82,82,82,83,83,83,83,83,83,83,83,83,83,83,83,83,83,83,84,84,84,84,84,84,84,84,84,84,84,84,84,84,84,85,85,85,85,85,85,85,85,85,85,85,85,85,85,85,86,86,86,86,86,86,86,86,86,86,86,86,86,86,86,87,87,87,87,87,87,87,87,87,87,87,87,87,87,87,88,88,88,88,88,88,88,88,88,88,88,88,88,88,88,89,89,89,89,89,89,89,89,89,89,89,89,89,89,89,90,90,90,90,90,90,90,90,90,90,90,90,90,90,90,91,91,91,91,91,91,91,91,91,91,91,91,91,91,91,92,92,92,92,92,92,92,92,92,92,92,92,92,92,92,93,93,93,93,93,93,93,93,93,93,93,93,93,93,93,94,94,94,94,94,94,94,94,94,94,94,94,94,94,94,95,95,95,95,95,95,95,95,95,95,95,95,95,95,95,96,96,96,96,96,96,96,96,96,96,96,96,96,96,96,97,97,97,97,97,97,97,97,97,97,97,97,97,97,97,98,98,98,98,98,98,98,98,98,98,98,98,98,98,98,99,99,99,99,99,99,99,99,99,99,99,99,99,99,99],\"coloraxis\":\"coloraxis\",\"symbol\":\"circle\"},\"mode\":\"markers\",\"name\":\"\",\"showlegend\":false,\"x\":[-0.7058341552788522,-0.7519441920499297,-1.9884980010468853,-2.2000524499818366,-2.2197488250356856,-1.9007526858722292,-1.342089707111166,-0.7199193525172835,-0.15368776112681695,0.3042498102366748,0.636569305408287,0.827893865018313,2.021425390388528,2.092539624730377,2.121483632257311,-0.7566147208995886,-0.811421960926505,-0.9287734593984397,-1.0322831398445862,-1.5977477786855903,-1.1648905225713388,-0.6106288338735525,-0.15087802817618137,0.22567718659277305,0.528481656002928,0.763579043267656,0.9386354672731881,1.7772909057631976,1.9176292254958418,2.0231307784569035,-0.9049135125297629,-0.9697306864352248,-1.0995530230709123,-1.541912807142001,-1.3800699574236241,-0.885193179634502,-0.21122917801376628,0.4727851845625434,1.0551813146966589,1.7757689254827587,1.9890617286948156,2.1213811108240725,2.2028663797232384,2.2519579743628158,2.2805949192396184,-0.6449799740233139,-0.6693255201817347,-1.1561973618424413,-1.3005984461895101,-1.3926736745438235,-1.2296266847289483,-0.7628093451316199,-0.3299094273418198,-0.00041434930638910105,0.6827297962292563,0.8710133288528064,0.984417723253795,1.0584816819337952,1.1064256424883399,1.1372759330453355,-0.6561916672332755,-0.6929366703820137,-0.777038990398649,-1.5795357041535094,-1.594934518462088,-1.3481475532605176,-0.8806011811034915,-0.3649501162074616,0.07877911231120785,1.1470599581468228,1.4816387435795553,1.654451382944128,1.764285051881166,1.8331289952146044,1.875633146489434,-0.7445519021490393,-0.7801619013383121,-1.285980474769831,-1.448536627095448,-1.4762588843484108,-1.1803495866042073,-0.6090948167468355,0.04804308133200827,0.4903824144312957,1.227949305617387,1.4316134444248512,1.5577480799525796,1.637550324160799,1.6873637102629377,1.718063411962321,-0.7481346929101388,-0.8149573830487795,-0.9439872270165907,-1.7566067032062591,-1.6035337667014196,-1.1367589807827883,-0.521167856322866,0.0705004947514961,1.2995658600113968,1.6744201427760033,1.8757068092053697,2.0023892106360175,2.0808082562688632,2.1283933577032355,2.1565222360955287,-0.6556212765841449,-0.7016093185057621,-0.7964019434582325,-1.585532808602668,-1.5168610659174375,-1.242549542897446,-0.8194844656510405,-0.3729793499553496,0.03130804479594358,0.3758398088583417,0.6561122413812913,1.5996151707185662,1.8209162947367084,1.9926150900245936,2.123160186640937,-0.9057402736357756,-0.9445718367445486,-1.0390694761991217,-1.6886455446461335,-1.699054076837534,-1.3886210945065356,-0.8311656552728421,-0.1870221838399404,0.42378820967367203,0.9421406613187181,1.3517479313941458,2.183462818107512,2.4474470891280498,2.6411792427696086,2.78069017236134,-0.6929633579609004,-0.7508109787703713,-1.4173071456974538,-1.5489708586654873,-1.436838677023024,-1.0016422987309934,-0.4414364447150968,-0.017010832242592512,0.31931025807098057,0.583291853842533,1.3386322528484438,1.5360196238699948,1.687548705840102,1.798834512656385,1.8712458092744666,-0.9164970583599583,-0.9563583777483616,-1.05236826902817,-1.7302513446726087,-1.7343237972352312,-1.4189194387712796,-0.866288046006682,-0.2344054569620832,0.36238031898006934,0.8680328792330975,1.8218630378950242,2.166665259404323,2.425819354829549,2.61657562989275,2.7541562282764787,-0.8827465025321615,-0.953710737251131,-1.089937867086447,-1.6423345069587494,-1.4538583728428895,-0.9344293864638663,-0.2539887895332189,0.4205082305133006,0.9938889470595433,1.4344961519760882,1.7560759318002062,2.462506819915569,2.657624478247028,2.793319127991872,2.880682109375526,-0.7836549211391257,-0.8377188438156895,-0.955146169015651,-1.5601012065480884,-1.4695828452951567,-1.0382591636892569,-0.4021374329485222,0.17530468308942618,0.5695977996997389,0.8726529159122873,1.1002144524040396,1.7626157327845824,1.919889726477458,2.0365677784911265,2.121228430217326,-0.8406006722962718,-0.8725217116730731,-0.9548133350672164,-1.887069897000377,-1.9712559906535463,-1.739298226376343,-1.2243812206831257,-0.5958784259915874,0.009918629798395018,1.3262982309973859,1.7920373134128316,2.150006638289092,2.4190157612598897,2.6171075526707104,2.7602576753696915,-0.8835502709765598,-0.93769252462942,-1.0557847154001745,-1.8443751323137905,-1.7715497706858114,-1.3583198548567292,-0.7377983581124163,-0.07931468989643375,0.5120607942865995,0.9942993778562673,2.041354597037195,2.363910276426713,2.6020359252688134,2.7745536967588804,2.897093935628108,-0.8565986358519176,-1.8728212644125593,-2.0179223471422416,-2.211898974568495,-2.325404525725933,-2.1704505083558954,-1.8081226141198854,-1.4290084402597485,-1.1428902711630626,-0.968382722961525,-0.8844956538367491,0.12977490648972298,0.19236457924689004,0.2294246361330755,0.2508597919774936,-0.6966010226209916,-0.736178153472203,-1.9485523611317936,-2.1649558356884966,-2.2271048156594704,-1.9586145860136484,-1.4272325422509375,-0.808650557816639,-0.2327312618473867,0.23970722452626628,0.5877214491896546,0.7960014158873145,1.9894334809827894,2.0678178757794896,2.1005915892497176,-0.6467687510286488,-0.6616418489959829,-0.7027985177557687,-0.7911127153179374,-1.4575970149447632,-1.4216442157558271,-1.111812713795751,-0.6805546020854819,-0.3211666471672194,-0.02031579916769076,0.2325089292740606,1.0207495015692138,1.235939477538731,1.409794584422501,1.5434641970047236,-0.9137041885699776,-0.9573303548273622,-1.577328967783089,-1.7373110613559124,-1.7021015173773462,-1.3584281328940981,-0.8131272763871142,-0.21128237097087763,0.35035162333015873,0.8254402727172314,1.201502250896304,1.4845894788345673,2.205709983317575,2.385778861949462,2.514448572976194,-0.7921267066433888,-0.8088981149668776,-1.7590958323665646,-1.9400200577139126,-2.1168145700854994,-2.0678912478646088,-1.7085295458007759,-1.1918623752950541,-0.6843468117207248,-0.2794409314747718,0.8882041369807191,1.0951786348797588,1.2124405206662703,1.278114650383558,1.3141388166341683,-0.6731400785481635,-0.6998687803074376,-0.76839520166561,-1.2649979048147035,-1.332165801215176,-1.1185930410928342,-0.671259535587948,-0.3140410921883033,-0.03891983772125791,0.17830186812500512,0.3509498363286924,0.8713662234508152,1.011220258470266,1.1230012816689847,1.2065056555146714,-0.7482050273721836,-0.8101339934801849,-1.8725426088407386,-2.0423284052056636,-1.9447468360062536,-1.5099332288044938,-0.8879784480046622,-0.24646878906859113,0.31722481557724086,0.7675595433111131,1.1033241891314398,2.2755775126093285,2.4935303087089404,2.636816522456145,2.730870381368083,-0.9431686986036611,-1.002789730682338,-1.4602834844993122,-1.5767152865821368,-1.4372291691442198,-0.9936333848415646,-0.37390828067391424,0.2775089018965435,0.8669114238033865,1.353273427196172,2.066041632727447,2.3734014444774103,2.595511773380962,2.730652442965902,2.7930164424365564,-0.6708574220107295,-0.690986752703682,-1.5745720686147797,-1.7537700855615264,-1.9153525977478696,-1.8454679924483945,-1.4532612210029765,-0.8619524061958992,0.5963021751702571,1.2292829940132688,1.7534292500775541,2.14668780316891,2.3359029877676236,2.451823310449674,2.5214781005591425,-0.6900528944638175,-0.7095892434449816,-1.7023086571398127,-1.891281062374017,-2.066012089341038,-2.0085814210696338,-1.6258412787535703,-1.0462257410745357,0.5058932024010315,1.1236459561952261,1.6338821259831378,2.037560218386879,2.3453354600704768,2.5729010919420294,2.7358252445203046,-0.8201259710247338,-1.944637110422866,-2.1206773170148523,-2.330027058739039,-2.374010965961654,-2.110848728826681,-1.693073216830365,-1.3163516887039557,-1.0611669033620377,-0.9234202735184238,-0.8721054503420685,-0.8776106686921716,0.17252572295718263,0.20131829997100825,0.21731630934164137,-0.9166469652718389,-0.9818844882486014,-1.5844465565534052,-1.7054108396271899,-1.544727223446343,-1.0700597318131118,-0.4306272710255749,0.2231919259384561,0.8026885157685654,1.2738198372614766,1.635251243544552,2.3732953722949124,2.5990136520990963,2.762407385738789,2.878517278937565,-0.8232641217926043,-1.7454995342363315,-1.8674980885293193,-2.0430601298981497,-2.200315461779469,-2.132577549505988,-1.805880372809732,-1.3979166728696686,-1.0571115196219982,-0.8312250914443909,0.1976268012371077,0.32114973417839804,0.3956814309467099,0.43965534976698994,0.4651078443398321,-0.7086781805151807,-1.0968433924998862,-1.249670540557891,-1.350360177964103,-1.1633160022998696,-0.6594409464378839,-0.22782417960039722,0.08801298550998449,0.32201872392299263,0.8237432580787296,0.9640083568307262,1.042655627923432,1.0936240405362665,1.1263665135674947,1.1472122642548621,-0.7553047605807167,-0.8152082000406635,-0.9382362475826196,-1.0303663467764974,-1.9869783456534142,-1.5793540662797607,-1.039700369259431,-0.48594676422830835,1.1503968088433072,1.6424581086776329,2.031435054659275,2.3226914199391984,2.4938691490291167,2.5799994980267664,2.630582868606991,-0.7231879201388693,-0.7481636053638663,-0.8147842444453545,-0.934931777211436,-1.3324746794512874,-1.1356851119723996,-0.6513944716830607,-0.24561930935247542,0.3962407917987548,0.5987671314590876,0.7333073285820859,0.8222999298395675,0.8806894119956733,0.9188105106130708,0.9434669427942904,-0.958051130776484,-1.0260968983138468,-1.155920731107088,-2.085853114824578,-1.9418814935863935,-1.4844450433976712,-0.8856403537803793,-0.29718651440381416,0.20276139259808612,1.4455345185293818,1.7703017471617346,1.9901130459040925,2.1416975170090446,2.2466012336722248,2.3189832856072017,-0.644697585715522,-0.6952794786343491,-1.3223695353154725,-1.4310713547796396,-1.3525943125920326,-0.9826234675390312,-0.585202573773575,-0.25649993340599253,0.017040186939606707,0.24590133678623705,0.9719504957367776,1.1680347863380633,1.3273538868356969,1.4514208284546977,1.536459087598979,-0.7648270918364521,-1.0877390528661806,-1.2003567280789724,-1.354101478827813,-1.3724063257504127,-1.0647501850564918,-0.47884619626354197,0.1625088887926032,0.5780898160563445,1.151971529152113,1.3341919484864508,1.45015923170338,1.5237048593082085,1.5699236992259487,1.5986596240541102,-0.661145152713279,-0.6827013534196669,-1.7241822449307118,-1.9185274080716639,-2.08574427430559,-2.008827143890192,-1.6111535591767878,-1.0258996218052205,-0.413292710769756,0.12943548424744322,1.548323052659728,1.9403657612057783,2.225887028307065,2.4333746732067283,2.5826641479440022,-0.6618483568490637,-0.7126167067732208,-0.8134357699395904,-1.5304722458885116,-1.4068063142248266,-1.100940601171358,-0.7119707622997061,-0.34047450378610483,-0.007829002112445476,0.280455233167702,1.18630596662519,1.4328109574571917,1.631474663774725,1.785889887316465,1.899398449962449,-0.70118986346741,-1.02720547634563,-1.0803329684307053,-1.1765362159334194,-1.3241885859444653,-1.4000258461460122,-1.1949097370535995,-0.6875287541886119,-0.03330783261612603,0.7704881618416883,1.0808101669595487,1.2834444852144653,1.4138649720333114,1.496925752291936,1.549307723913347,-0.6965043334592036,-0.704133732110198,-0.727139560003915,-1.196661499778478,-1.344626247495537,-1.4498477754678896,-1.3026219504130208,-0.8454286950202131,-0.21914866035492778,0.6637273718797605,0.972437677225985,1.1749862938777202,1.306147797935125,1.3900409844757462,1.4432912189359688,-0.7313153549337577,-1.1223132717291529,-1.2341438863890892,-1.3927400919731356,-1.4391976857182436,-1.1713674824236282,-0.6143271342780672,0.051112761244216674,0.5003470890870649,1.1736041160818789,1.3730402446199057,1.4991196125308175,1.57911160527333,1.629303660884305,1.6602813686000317,-0.9784737217609345,-2.0876871863916766,-2.29702847622117,-2.418833964604129,-2.247551067363063,-1.86316067265456,-1.4729968615786857,-1.186246618139057,-1.01625225743076,0.10480397646610673,0.20616085195369502,0.2669364748781779,0.3025852485289418,0.3230222242998465,0.33433172096407054,-0.7843627151200007,-1.432013327419469,-1.5874675617854155,-1.7610780817024025,-1.7379097783595312,-1.3779448272967287,-0.7835693183865541,-0.12450884272892977,0.48325384340917055,0.9882254708279822,1.9828597200675837,2.321465396063902,2.5731892451674807,2.756201913889558,2.8865021672613103,-0.8648396129176311,-0.9317878421534512,-1.0645771586292716,-2.106283071668469,-1.9792722939085756,-1.5157834931517709,-0.881124734781314,-0.24102812823423606,0.3133841411755832,0.7507735338175571,2.0292231569961756,2.3158138450818306,2.510829222669677,2.644182474967303,2.73451049510062,-0.7603444022462793,-1.4174663415037765,-1.5352416109303542,-1.7104360396976905,-1.830026702545699,-1.6763868530257784,-1.2233483136113243,-0.617506125304643,0.6315675594748836,1.2263800168861332,1.7175816929291272,2.1034016594327114,2.393394693839875,2.5953684879825545,2.691444211622775,-0.6490269707663539,-0.6715394936212107,-0.7299107173413397,-1.2385402974794009,-1.3257658560197114,-1.1687575355050086,-0.7609305486494178,-0.42040099208313175,-0.15036482046769287,0.06723517182784872,0.2445979923342315,0.7954469612508049,0.9463172825536705,1.0693677381348436,1.1621013329490493,-0.8185243171298043,-0.8406188086355452,-0.9017512665999592,-1.792666974779946,-1.9383488567332077,-1.8224784944404753,-1.3907490035869765,-0.787471272626299,-0.16687327254561504,1.1525848758179684,1.655272149758416,2.048836074823595,2.348215243317531,2.5701760145397468,2.7316083979621233,-0.8453458505357051,-0.8799113099254053,-0.9673010115683971,-1.0976653002643506,-2.0464570518974714,-1.8040509724145655,-1.280652461810552,-0.6479784072272493,0.9043387390785184,1.4901313092828714,1.9595923333690104,2.319703493450881,2.5851642514257853,2.769432141853226,2.8634448140488,-0.9355524024640188,-0.9549836274901662,-1.4756506841396542,-1.6222075993553962,-1.7287194414412534,-1.5994618117598507,-1.2240444017433412,-0.7433570356530292,0.19919525081952014,0.6498216775760945,1.026848095073586,1.3376584679420942,1.5885510318357094,1.786997053577802,1.9413097339349483,-0.9125912896447084,-0.979964817007904,-1.1119966331659477,-1.1931507167298474,-1.516587969226666,-1.024369665752487,-0.3597790674388254,0.30963261868153885,1.415824741283066,1.8710079228652678,2.1016514367177628,2.2455388423439837,2.3337973102448175,2.3866649369516795,2.417206963465894,-0.8731942670669852,-0.917641854843279,-2.07403664684806,-2.279711987098714,-2.2652483446407436,-1.9161141894231122,-1.4039683687525923,-0.9287107150368138,-0.5951645778339827,0.6378649131867198,0.793614096218849,0.8802779610316722,0.9271484026763448,0.9517456874510622,0.9637608116731203,-0.9423530205321219,-1.9975709274041966,-2.179259096219056,-2.3594078419917937,-2.3280514572755,-2.027008486467345,-1.6340743386169785,-1.3044002687396101,-1.086969353398816,-0.9707513304569727,-0.9286304157813073,0.07735710589049734,0.12357968070701746,0.15067537904704992,0.16605082355366335,-0.8244729371322383,-0.8596490456908036,-2.026274297781694,-2.2447900278243003,-2.3097987031507223,-2.03650369784808,-1.533941942416354,-1.0114090501844257,-0.6068790491392304,-0.3660675058023058,-0.2616641922698873,0.8334125170254157,0.8899062361891599,0.9187558152288212,0.9324947655484012,-0.792463274334344,-0.8383494154896475,-0.9446385611590515,-1.4997289587245985,-1.4585027428854482,-1.0759178343737812,-0.45635277060800006,0.16792896790494757,1.0106238453380036,1.2738937432286288,1.4429962351802026,1.550758078620726,1.6187753582056816,1.6611077557919893,1.6871648967313573,-0.8159975639492411,-0.8543070913304436,-0.9484623076317944,-1.9942779542458746,-2.0457161760766533,-1.7635604542595726,-1.216314422179114,-0.579866093058752,0.016390351548577244,0.5121962136594529,1.8092188094110597,2.1490062288705905,2.3923727984716714,2.566157909133838,2.689205489498504,-0.690533169963978,-0.7008355392914601,-0.7312297080878493,-0.8066665457344052,-1.6843041794727291,-1.7675050526221323,-1.5691096712984398,-1.091689983712354,-0.48643283741708987,0.1076581144289761,0.6176406420255973,1.7838759184265762,2.1494527039706903,2.4239829315297863,2.6215599336725615,-0.8780491158612951,-0.9089247208554387,-0.9889795802552763,-1.1173321221081536,-2.0370806743560728,-1.830204489903939,-1.3315210208436254,-0.7081163961931136,-0.10192168902585685,1.3084628841517552,1.780868576935077,2.1427065396759413,2.414398940307663,2.6144912832358074,2.758862567299183,-0.7552044763694037,-0.7871142269838299,-0.868588756167871,-1.792534155239307,-1.876895857158284,-1.6518497053311545,-1.138002163525552,-0.5015090346286234,0.1161304307405423,0.6425442463875009,1.0567759689733844,2.160307471573915,2.440497190600953,2.645169527245747,2.792364326296257,-0.8123341814035274,-0.8522218684764685,-0.9490856246872797,-1.3796556231197727,-1.3690626204583858,-1.0222710672064295,-0.4137367050034291,0.2001648535852043,0.5961430934276919,0.8712637691254909,1.374186233890467,1.5081037903473111,1.5852998513010914,1.633590622193344,1.663455129386504,-0.6775250454456355,-0.7227886642388138,-0.8216931776229579,-0.9176581586782159,-1.8463062277202749,-1.649054700126964,-1.3562537419442993,-0.9837087324885991,-0.5954021874797588,-0.2394115593096043,0.059239445119444734,1.4045892992747453,1.6486833732019466,1.8178838800108756,1.9367348051158708,-0.8117219919078476,-0.8738509861179509,-1.6886352587151008,-1.840872253064479,-1.7190783144228843,-1.2581917358830603,-0.6120681090642337,0.05113831318551456,0.6344203771168796,1.1029738224829848,1.4570013115353757,2.3982532951089746,2.6271187928909385,2.791717065834935,2.9079340620036094,-0.6848246857025988,-0.7146677320975099,-1.4523466730029206,-1.6298420124087507,-1.7167502294627524,-1.5085359669851965,-1.0071593997343002,-0.37336104912204354,0.2452987911691977,0.7720166600399592,1.8488472629842745,2.2113715274871577,2.471831202986825,2.5992191990960043,2.6709369958336824,-0.9397104082646759,-0.9896614993847352,-1.1002918644862294,-2.0758781032044475,-2.03401591447572,-1.6641079049061207,-1.1103072113152839,-0.5392603320641298,-0.04602472539373783,0.3311151185427946,1.4471074427377362,1.6424015733763717,1.7514833797869924,1.8121301956646567,1.8445908498104115,-0.814969617114881,-0.8746450203670455,-0.9995160994582057,-1.9385647944854647,-1.8442811069126563,-1.409793572707334,-0.7819342483925344,-0.13087872161067746,0.443623170017546,0.9050840244254628,2.091551807552811,2.406018662546372,2.6367050555686524,2.8029773876871436,2.920716079439085,-0.9326584449049221,-0.9959049421559716,-1.1228184830329249,-1.2100856233060067,-1.3358746973004165,-0.8546618098527011,-0.18836961544164582,0.494283619104023,1.0380278758928787,1.3545448275159024,1.8818923429037622,2.02117597418443,2.1022321072161234,2.1514736348453822,2.180557065215701,-0.9411908006243723,-1.7862674936984295,-1.9315061177467523,-2.1093967723915252,-2.149042120643908,-1.9109531823843116,-1.5156588820283246,-1.1402962241373675,-0.8668967933500774,-0.7010950804070192,0.19557106376467828,0.2879323733867685,0.3434466595642251,0.376116474813325,0.3948938722778328,-0.8021705403600767,-0.8168800168428709,-1.2392573853187852,-1.3695533319078481,-1.5176455996616796,-1.4881166158789159,-1.1385171159249938,-0.5498318264453995,0.1147037987434149,0.7330820505151474,1.2444615804345034,1.633792287343629,2.2948053330076603,2.5144871612431183,2.617253699182069,-0.8948985556550444,-1.4874460180429725,-1.606851431714148,-1.770850695487018,-1.8289000337096475,-1.609313476657153,-1.1811246424103832,-0.7020115432737942,0.296012818074063,0.6790943010582514,0.9719649017911192,1.1995602310174083,1.3771810486294356,1.5154346181604157,1.6223442795680205,-0.9150349068433298,-0.9338324198418744,-0.986936716574123,-1.0961019989943914,-1.579673460902589,-1.4857937434154733,-1.0876939641359051,-0.4942666901133824,0.14722812869493856,1.127306059079987,1.6495089536963043,2.054399770470925,2.2660771695661124,2.3885008452175387,2.4626280239183647,-0.8069589819854718,-0.8752341415223093,-1.0085722636690324,-1.087387145607162,-1.9628373503438972,-1.505847906687547,-0.9016496931836407,-0.29917221758902335,0.221757965852247,0.6337588434277541,0.9382620354725213,2.24738009650264,2.4613853711392286,2.6035092871794756,2.697578666485218,-0.6768302634493668,-0.7261072307022898,-0.8295301668674604,-1.7584456957282055,-1.7077295991522083,-1.3862080108554786,-0.8797865343107986,-0.3322836567534628,0.16561889140851158,0.579368684824035,0.9025490087375168,1.9866001616554447,2.223277516943875,2.3996852621251072,2.5291078145601285,-0.7641433070204077,-0.8211418103781297,-0.9414102328580012,-1.0415335506209946,-1.9182168245407925,-1.514743584847508,-0.950700942119171,-0.3698996278143242,0.1448697636013097,1.599615404646903,1.9994082845762369,2.304962307492287,2.5318723678938393,2.6963322449219667,2.8121366021554848,-0.8674318517834609,-0.892690274251,-0.9609977672362788,-1.8775953478529224,-2.0006226281764126,-1.8371520883210417,-1.3817386102673679,-0.7955942581287606,-0.2187382874289476,0.27576679044658603,0.6625239096595688,0.9409062211919191,1.9096873104023269,2.0554972847574664,2.1352528662661894,-0.7924754019707116,-1.7180567947924819,-1.8950577662567503,-2.0893568186891005,-2.0781812145456304,-1.7361070460839132,-1.2001009243137892,-0.6442846155988909,-0.1692827508873572,0.1814776438752882,0.39587189010771767,1.3729405661227643,1.4608344882953102,1.5037562425625715,1.5231889512820482,-0.8916581429738873,-0.9209688202189602,-0.997720465537351,-1.8687315733985597,-1.9582724937591893,-1.7447523775559843,-1.2615823238431816,-0.6729215299138538,0.6382381108264555,1.1741783773871233,1.6067193798228296,1.94692087501097,2.207877394903419,2.40343267704158,2.5475462742880124,-0.6492599098436042,-0.7012900092547768,-1.794928343555383,-1.9604977567222142,-1.939145206443727,-1.6124356843157017,-1.0728044330724102,-0.47494680443589204,1.0738752963836145,1.6088886556480568,2.033947165529766,2.3550169230811955,2.5634130321257915,2.661513944674217,2.719294000342172,-0.6234467239054066,-1.5664133378493068,-1.6831864631481344,-1.8540105089728176,-2.0503775483025386,-2.0806979931833527,-1.787582630176781,-1.2573202992379802,-0.6605943079846776,-0.11458592195080017,0.3277916680363126,0.6500388060742223,1.7771963923930487,1.934268592259288,2.015531530651087,-0.8258072889507373,-0.8535353393766347,-0.9272202413154642,-1.8783747811354579,-1.9928713893237846,-1.8088415884004931,-1.3256969797028524,-0.7066462907216378,-0.09657132311424052,0.42802528101457366,0.8415881597117127,1.1463227681509267,2.177856259935251,2.361919532276287,2.475690398608777,-0.7489900266471947,-0.7687317974141394,-1.3261932188033057,-1.4814486799082844,-1.6187461069055518,-1.5205309893826962,-1.097400901403478,-0.47470273540551056,0.18275446750517987,1.271538146985627,1.7542747205111464,1.9991131371673183,2.152656552936488,2.2473728369122536,2.3046983853252927,-0.9475831862552894,-1.0179199368157563,-2.1823988886432195,-2.321611257987619,-2.135895878723259,-1.6757922144547388,-1.1658530754169005,-0.7620763801077535,-0.5137161132162636,-0.3970100989048745,-0.36745606480477927,0.6418583895288522,0.6757839591246175,0.6931356767800434,0.701220247195076,-0.8055545302294008,-0.8566160155623602,-1.587879016060742,-1.7551214357820266,-1.6964406053477763,-1.2945905078075743,-0.6723805477217527,-0.0036729080180463503,0.600016292864519,1.0934980696898835,2.0888994960183855,2.4153591164366053,2.6561023279855513,2.8292775334385913,2.9504587102654405,-0.9547906037055837,-0.9921208091995679,-1.0827884345003238,-1.777722150346732,-1.788340522933129,-1.4971048937786222,-0.9946505526060134,-0.4287691148058251,0.10297263523688294,0.5539264817636653,1.4865118905412107,1.796724057235005,2.0282670417440305,2.2001388271550377,2.3261213758334827,-0.7618578962673864,-0.7796691213086191,-0.8302267622196691,-1.4237232538761688,-1.5684947905634585,-1.49895517553687,-1.1024654087385237,-0.4908832492602494,0.1653346797880976,0.7456551120947835,1.1902677115572755,1.9978217014150381,2.229290315476346,2.345882675121755,2.4166142324424857,-0.8097541128944648,-0.8472763330650777,-0.93997389617746,-1.6918016794036512,-1.7243636488378806,-1.4266354326994397,-0.8595324166745052,-0.19746050427221565,0.4260476915364551,1.5705379378412456,2.027220330858941,2.360721202984853,2.519477198718207,2.613941758021267,2.669625685107158,-0.8726591491313886,-0.9253712868621329,-1.0417526041039278,-1.1547252824232666,-1.484569850833917,-1.0594152054090578,-0.4179554536089435,0.2585315925306074,0.8197953534719858,1.1752940771143514,1.8897322681454665,2.0821383082085654,2.180556514737789,2.240569215594913,2.2758531744243276,-0.8567689250350973,-0.9228260612418244,-2.0324479094567316,-2.1981148575403284,-2.066330725198884,-1.6060927281195836,-0.9966348609736034,-0.4001336590447741,0.09967388542166532,0.4711918597775302,0.7029228258733984,1.7812262692018508,1.8718185856350977,1.9128435922608333,1.9290725226483973,-0.7862984288379294,-0.8002823236602514,-1.210983200999006,-1.3375165769294621,-1.4876229926373885,-1.4712430783086097,-1.1340903844435797,-0.5485082813615058,0.11921821151323683,0.7400007208453898,1.6075196939169032,1.8909967934000298,2.0621682871760756,2.1683164523589804,2.233335728992015,-0.956044637739327,-1.0134384810732502,-1.132579681542643,-1.8737594527903765,-1.7731056699552519,-1.3587106675463954,-0.7732070880006476,-0.16519369055549604,0.3779805132218793,1.468668247757541,1.8587155901536727,2.154941025517157,2.3763794640008795,2.539092781806651,2.656557975211433,-0.8665061396236095,-0.922027026646548,-1.0421328312808302,-1.150602253603711,-2.030755331136283,-1.6352483885072089,-1.0326088385695649,-0.3945681156329303,0.17367395673760092,0.6309657322427287,0.9733137514689302,2.2301340088362203,2.452617423030785,2.5945184624830495,2.685379702400922,-0.7202278487575274,-1.8411397356308026,-2.037370932155921,-2.247939449433119,-2.2459071233546766,-1.8971469486186068,-1.3370130166968455,-0.7524466846458382,-0.25933584835029355,0.08386911755134879,1.3380313757397722,1.4815762643559098,1.553470783217312,1.5877161242820739,1.6023510920183164,-0.9022969867660536,-0.9141367093196154,-1.6999945893016717,-1.8471001778940894,-2.01256631583242,-2.012604620779761,-1.7381904908799781,-1.323360868876304,-0.9335608262364651,0.10399604739064196,0.34157268566903726,0.49282355866018535,0.5866903515290262,0.6438794480399759,0.6782560486247624,-0.7691931405017258,-0.8265077262444954,-1.7310434857573387,-1.8995372496062373,-1.816176057169859,-1.3913180856872327,-0.7656262844415733,-0.11016155360363708,0.4722278394351676,0.9424581463615501,2.081767808777088,2.4001068552974405,2.6342176438385123,2.803232260192008,2.922986586436688,-0.897047901764923,-0.9398026447633574,-1.9138990728403225,-2.103930895861557,-2.087028543606344,-1.7499421315579957,-1.2435936013129105,-0.7443350547394617,-0.3494956777864787,-0.09326503958712706,0.03660009540452558,0.07756834297625124,0.9381970948294006,0.9689233851474742,0.9835351653924003,-0.687910642147933,-0.7000921403371705,-1.3775598346355047,-1.5165618495967568,-1.691869549976254,-1.7355954057811223,-1.4672634052082536,-0.9302609712554346,-0.2882467416451143,0.32630288735686347,0.8475050619306961,1.257725744047383,2.205608218461157,2.475650804684452,2.6734336566317873,-0.6540902131766593,-0.702231501360745,-0.7981216189848118,-1.8106121480170405,-1.7686549721308382,-1.540358932831113,-1.1275124234803502,-0.6337033761546436,-0.15084385262807773,1.2380921936531137,1.6546375540769875,1.985367545868756,2.238457536863607,2.4254490850479864,2.556368142041001,-0.7320314572002202,-0.7420996455334928,-0.7721768196860258,-0.8482170054157433,-2.0782149394380736,-2.1979096965940874,-2.025388334795025,-1.561760206075738,-0.9648308372834032,0.7309595680629696,1.3121780966006285,1.777093517038659,2.138111558342407,2.410933830129262,2.6121988965969933,-0.961729953603814,-1.0126125090231506,-2.187032249588083,-2.364972558626901,-2.282710398431531,-1.9208095323131495,-1.4897973170747427,-1.1475793342830038,-0.9347807517538166,-0.8306034317992151,0.2617507832628404,0.3312354390071918,0.37137661052719106,0.394065977462407,0.4063723342387301,-0.7025576306622888,-0.7152632834849919,-0.7522158490922437,-1.4495161852112506,-1.6186800805010206,-1.650082440550136,-1.3703530828277575,-0.8282101103798091,-0.18930107936441953,1.0234011552432034,1.5254281703356654,1.7905624961905453,1.9586454908465616,2.0635185478875253,2.127794584984243,-0.6992282302830164,-1.4334632513627892,-1.5924861748987509,-1.7728760448369685,-1.7679254011198355,-1.425001768247746,-0.8364692194087209,-0.17751983461063522,0.4299723709684281,0.9326455647077113,1.320554046921414,2.29540781967767,2.5499663477340917,2.735175891300038,2.867165516167573,-0.8621731431608679,-0.9093238603327827,-1.0179196635185186,-1.5915327426184158,-1.5455267911464803,-1.1582443852656708,-0.5364439261727493,0.14392294490230859,0.7614154488735989,1.2612079199814055,1.637392958794219,2.361779489161227,2.5872478011225497,2.7341410293999706,2.7997430247972,-0.6151338089865043,-0.6232142274962532,-1.3686545139398438,-1.4886748226235993,-1.6614886006962604,-1.790608226643075,-1.6686138047603716,-1.2395697221923183,-0.636840422971759,-0.01331356799560975,0.5395986568955908,0.9870149110020348,2.049966229327802,2.3547817810239673,2.5806274213538067,-0.8881478201120978,-0.9386496277397295,-1.6425433414733936,-1.8038705975333191,-1.7371123411041705,-1.3461557143216156,-0.7569351808589873,-0.12540420496183993,0.4497707004003525,0.9257985490623788,1.8857090880927105,2.2056676254142067,2.443707233361539,2.618037739579524,2.7432311476923457],\"xaxis\":\"x\",\"y\":[-1.1224436188403168,-1.16042214090732,-0.34894930695864884,-0.07071859730805273,0.1305141353865845,0.3362927475293018,0.5938526065529708,0.9088285386929412,1.2727594347222275,1.6771695303828023,2.11629019150904,2.5798341441485877,2.1406606427733745,2.134477467773025,2.1294632133849403,-0.893856454323334,-0.9387891857770915,-1.057052453423093,-1.2818914467656606,-0.9870052275650545,-0.9290340461184741,-0.8008320106770612,-0.6204674631012095,-0.4082284176811791,-0.17298348318460155,0.07895887283357993,0.34340929399608466,0.04151971190222207,0.01786700857726816,-0.0006214485061603019,-0.17148835024553816,-0.22448433312676636,-0.36064887317052785,-0.31981888211285464,-0.4630996246394547,-0.5787012451589362,-0.6376901634586586,-0.6430223454037286,-0.607520696728059,-0.8134090001020091,-0.7624878110393903,-0.7276874995164033,-0.7065430717957284,-0.694103053417437,-0.6871469535611837,-1.351970713123105,-1.3721362052195978,-1.0861453128229661,-1.0370468598147309,-1.0819534294381399,-1.1667841762614555,-1.1956841545079957,-1.0714154421987694,-0.9668917649823562,-1.195114051463373,-1.1857107347125775,-1.1551112167836848,-1.135187563614202,-1.1223457008459874,-1.1141274332673243,-1.3458129163538561,-1.3766317818419085,-1.4588709055642741,-1.0584587691884024,-0.9938594562402737,-0.9408497908628668,-0.8482301927098901,-0.7039695403752039,-0.5190813060249695,-0.8725359713612025,-0.9367512728567973,-0.8912916470816451,-0.8622227657905154,-0.8442101418765432,-0.8332852196008237,-0.8787154467995264,-0.9073993371350069,-0.6517919479872556,-0.651617107640904,-0.74189967956562,-0.8462875335642782,-0.9058718423807013,-0.9052973886684972,-0.7836660764245171,-1.012009412666013,-0.9747728121452489,-0.9411328775423605,-0.9199852068035911,-0.9069215533957771,-0.8989987939011561,-0.9901501729964798,-1.0458580962704176,-1.1857617073057893,-0.8342485453604125,-0.8041627201393889,-0.742675782213644,-0.6242807481126643,-0.45447648200425894,-0.8411885475989016,-0.8592689031220394,-0.8057622086755143,-0.7723613456032763,-0.7519499948091107,-0.7398269096637525,-0.7329218437705632,-1.3924563397759868,-1.4318006250268023,-1.5317721739259513,-1.127536567163916,-1.034333880025752,-0.9417642853932389,-0.8141579056724675,-0.6477227528259069,-0.44935860229424995,-0.2256024590199081,0.017950389070589087,-0.3077796911129955,-0.34667875688154426,-0.3769242260308517,-0.40057133322543004,-0.06379625791259518,-0.0947565589276679,-0.18178954193630692,0.05395142085069154,0.007875232788136241,-0.04345709394005059,-0.05107481909178466,-0.006154963307253031,0.08393746037528413,0.208841955898694,0.35950887875462667,0.10685779642894842,0.06645970163348991,0.03564334120577334,0.01175285011372025,-1.2430314903811546,-1.2918080363862243,-0.9703345364645027,-0.9592551691440446,-1.0018532840518575,-1.019274391722489,-0.9398884822336583,-0.8045562250727646,-0.6523132051658369,-0.477746137166172,-0.7327006904198469,-0.7676705869727368,-0.7946909689123811,-0.8156815004019219,-0.8309829888823603,-0.012724680115311597,-0.044535340404353585,-0.1335386897011703,0.12436752985422837,0.0917617411814657,0.05702827837482019,0.06653927085729354,0.12769685637889758,0.23305261131575217,0.3725092170961177,0.09088362265325424,0.03775938180345471,-0.0023539876131754497,-0.032971782219987616,-0.05675177835850737,-0.31093750500681444,-0.36935436658702386,-0.5166128879282267,-0.3881270346871961,-0.482493235815312,-0.5426442746764619,-0.5442897946006132,-0.49274403689303486,-0.40055469635677393,-0.27855548780430417,-0.13388608596782908,-0.35761785029707865,-0.389454006210037,-0.4142880703359937,-0.43423649507828677,-0.750666948243257,-0.7947722626276646,-0.9117666489144756,-0.7367443069628004,-0.8134241788320536,-0.8718571880381568,-0.8731603070410829,-0.7874011427088794,-0.660712352670785,-0.5162497355403686,-0.35153867981953507,-0.5743672126576862,-0.6003813538467686,-0.6204277420472794,-0.6359414056681116,-0.3711857019762486,-0.39654743784006663,-0.4696944095696029,0.009204176224524041,0.08877173871242468,0.1480280086346852,0.2483604150533573,0.403970541549693,0.6080382916649841,0.2035407618747125,0.130177445888042,0.07528672091247127,0.033888147847715454,0.0023213980959800097,-0.022097823073666676,-0.23723066667894885,-0.2810762340909664,-0.39798789893958914,-0.07693511837275895,-0.07744784644523289,-0.06049802657814155,0.010174254988267642,0.1348272103817146,0.3028296653844591,0.5032383045175108,0.18083121971613017,0.1326166594915848,0.09616479845635524,0.06821502289712347,0.046398626984985106,-0.25519746969071894,0.5273125053511011,0.8973828241646418,1.1919031762133987,1.4066296312986852,1.6168877433468007,1.8836143806943497,2.2092855062877517,2.5750530977343016,2.964893719111705,3.3685112269364232,2.9797056486709916,2.9724985248306606,2.96784360317743,2.964892324217739,-1.1435087507783095,-1.1759533974681717,-0.3627606581718137,-0.07324008630593189,0.13022358463780967,0.3266898313080154,0.5708965831263381,0.8729666983112859,1.2254075167478824,1.6195353805345232,2.0492295507952996,2.504841239427265,2.0703796996297656,2.063812906564503,2.05867122978049,-1.3040739594019102,-1.3161942364662826,-1.351720363934411,-1.4429793106245927,-1.152985168355451,-1.1393078975594042,-1.1150262564332885,-1.006985801898591,-0.8689942118181023,-0.7092057195457826,-0.5312280529016733,-0.8055655433855519,-0.8486929745586885,-0.8826769502611674,-0.9093112028492304,-0.04147783347555965,-0.07641868321371899,0.24413330451877618,0.26729143151359624,0.2220280276796101,0.18501934915376572,0.19289504120139014,0.2490299862956695,0.34603120958976313,0.4748326569913879,0.6274154378987966,0.7977299096311474,0.5641012515585621,0.5361190265515045,0.5145023969350683,-0.5639339123816306,-0.5771062902242605,0.10929876974025406,0.3878145892672305,0.5668590844893638,0.6916048150512445,0.8450438235815603,1.0601295554148964,1.3339167574825592,1.6540708813264022,1.2788684360025164,1.2611387528563192,1.2502518165264684,1.243208222709461,1.2383469864359538,-1.2138200299657111,-1.2356243838003,-1.297420441701112,-1.1315641969585006,-1.2007328636045818,-1.2947709612674536,-1.2330221442385523,-1.1288653916271578,-1.0363042400849725,-0.93235153038542,-0.8149774651506767,-0.9965002365460593,-1.0253262759893234,-1.0481675523449703,-1.0659027748256944,-0.9681677079644931,-1.019474746623393,-0.39543037598764397,-0.23534165963677214,-0.12937840806140968,0.0016283218006827643,0.1888013505746373,0.4298922741364038,0.7136663895169365,1.029470053578254,1.369319748869348,0.972989040335791,0.9452615549396088,0.9242230507022278,0.9077680747511349,0.045406236270703546,-0.0030944435956190555,0.14067287163369435,0.053382765542405085,-0.08281160586298647,-0.19779578559070587,-0.26366058286901795,-0.27990903668348915,-0.2554625032408441,-0.2002405862629944,-0.39224391221550237,-0.4408305950402144,-0.4781993417004997,-0.4991383561820856,-0.4838052545427639,-1.1996080550416313,-1.2158851648117504,-0.595515317773247,-0.3609731365332962,-0.2287081094273099,-0.15618590319729347,-0.06796344698579469,0.07135792312893452,-0.40511708636304955,-0.5249058228808927,-0.6136059490750431,-0.6812775734107392,-0.6344708151422467,-0.6044273483605386,-0.586809713677279,-1.0980887060660063,-1.113759169418088,-0.4036306716113276,-0.12064965869084118,0.059221463429453246,0.17888187892415283,0.31597516668843456,0.505913180340464,-0.007169228033417174,-0.12270746506609422,-0.20887748463474812,-0.2730987435094042,-0.3213773544020699,-0.3580033568334998,-0.3862504052442492,-0.4817612081570384,0.3705547028277609,0.7591017720526452,1.0563055208427612,1.287516544739239,1.5447280000434707,1.870485500608782,2.2534484944216,2.6719111910572777,3.1103037921987458,3.5595943715567993,4.01530553697402,3.595724636612619,3.5918703303597685,3.5895576285196613,-0.11322752700876265,-0.16657946577280142,0.07749994640528143,0.03561584679350365,-0.050052787011076155,-0.10729094305475487,-0.11127232602984052,-0.06461286081621864,0.0223943991171789,0.13952198317997674,0.2786431279956865,0.05291834664374274,0.017949976170715646,-0.00894987479783013,-0.03000227816944458,-0.4019091936353718,0.315508061919223,0.6631546979494781,0.9481618753052631,1.1449685440551547,1.307399212220045,1.5128480819016632,1.781159781508388,2.0973937622768517,2.443216099892028,2.0761461290465313,2.0621979033834794,2.053951878127642,2.0487955094402395,2.0452404003927644,-1.195647815509836,-0.9917113297591064,-0.9928867606817157,-1.0985061524526163,-1.2448355555081059,-1.2792414350108399,-1.1578730322200155,-1.0662779264404343,-0.9847362573465298,-1.1512313960739118,-1.1622931962180043,-1.1411234101246746,-1.1274509371076193,-1.1187145464195558,-1.1131985540317546,-0.9223069717934007,-0.9717356755423052,-1.0993674543924061,-1.3335675777158076,-0.6921914835555186,-0.4495760266438196,-0.16143956781358776,0.1732809828551703,-0.3747286023155908,-0.4595056808180115,-0.5229534931491305,-0.5712815978874738,-0.5817992699933201,-0.5598913402892256,-0.5475091842594373,-0.9479457531013975,-0.9679346287024473,-1.026191950983018,-1.166100811716346,-1.1286762845405394,-1.2549372686032991,-1.2610889660374347,-1.1461416701559135,-1.3312730953006766,-1.2818724631933585,-1.245406641017597,-1.2213381800882783,-1.2055808279044615,-1.1953172580743505,-1.1887089222225937,0.08628108834420876,0.030418500482290597,-0.1102663094659329,0.3364943857644959,0.41865659937930366,0.5376720850923135,0.7147900524525962,0.9442411091243031,1.21548711560856,0.8287180096826859,0.7882045558137699,0.7581095153901011,0.7353393261605449,0.7177898553372086,0.704051804734372,-1.4834895635871204,-1.5285300488304794,-1.202930783573465,-1.1632810083898826,-1.1754467417403647,-1.1519596714761584,-1.0296047186228612,-0.8999213222999181,-0.7503443777140146,-0.5846263472687463,-0.8385526335087773,-0.878566493899686,-0.9102595303193055,-0.9351262266579493,-0.9524759033702608,-0.7735691333294221,-0.5704596443633131,-0.5285557074357375,-0.5845313511883055,-0.7317520545914671,-0.893250218098971,-1.009489794628764,-1.026109648988994,-0.910982648215509,-1.0593555847461305,-1.0150425588356402,-0.9840572411062837,-0.9645192370556741,-0.9523417269971819,-0.9448664121112796,-1.2557014813516907,-1.2732734906165857,-0.5310208659842719,-0.2360440152181799,-0.04332093218797662,0.09442091584693343,0.25242204493410053,0.46341005663537366,0.7272259521607156,1.034127742284639,0.5820343653741958,0.5262871039806224,0.48443339539874825,0.45261759980412997,0.4280383630897873,-1.3810515356624804,-1.424605876190522,-1.5336269748850633,-1.1863698693226554,-1.1082873072786443,-1.0157155949959067,-0.8853502866475172,-0.7241802305343705,-0.5385788505728369,-0.33271771299195607,-0.6466472835979665,-0.694842771926871,-0.7325818226768817,-0.7621204039725553,-0.7853429279265978,-1.0013238572302663,-0.7528588911180675,-0.6394102430266227,-0.5664844132185732,-0.5777608309287452,-0.6870865529181795,-0.8332679309506131,-0.9480777472392597,-1.0060114028821223,-1.1663107506156942,-1.0840084395909217,-1.0295694787617975,-0.9946730553357365,-0.9725598081044304,-0.9587151077148244,-1.0208922799020663,-1.0269146886833784,-1.045600027654649,-0.7704384769157845,-0.7267644241725231,-0.7821323751410993,-0.8855796789566495,-0.9650895901927159,-0.9878867825911695,-1.2049663274145213,-1.1241564544804064,-1.0696459132203553,-1.0344716270544412,-1.0120780234840143,-0.9979490063793429,-0.9334552115611079,-0.6702151002136689,-0.5910108366940204,-0.6055205694745827,-0.7150160398869363,-0.8465799763967737,-0.9369618361864436,-0.9675015353892661,-0.8489113054189197,-1.0424147767428364,-0.997120217389155,-0.9634565252378207,-0.9422188313875841,-0.929007406569792,-0.9209768085879657,0.1995671932581485,0.986044700950009,1.295538469734463,1.520105548619148,1.7445045812567312,2.0313471613817087,2.379385113215509,2.76784873517684,3.1799623177315355,2.7651376794744875,2.7539818057729772,2.746973640834221,2.7426487429457156,2.7396388315895934,2.7374721322908906,-0.7100632575809641,-0.2608251515969646,-0.10378173716457319,-0.05219028367098281,-0.07696051668170587,-0.09660324869356071,-0.06677397183562313,0.017284341912730643,0.1461719755217427,0.3090023040158799,0.011260487672630437,-0.040067198871198806,-0.07876461710478683,-0.10840293691038888,-0.13140664140603686,-0.3858347149838046,-0.4407320556091921,-0.5810975944261647,-0.06050811188401951,0.05017617557664273,0.19252087619406244,0.39324575381827936,0.6479720914779677,0.9451087104650131,1.2743608742567942,0.8579436965923345,0.82128456223384,0.7936737161749385,0.7724734654617667,0.7557658416165913,-0.752420170969214,-0.2611102000217833,-0.04714003816053412,0.08541639525818383,0.11729632567371426,0.10890207292742778,0.12904859946279115,0.2008272120756373,-0.18877142829385013,-0.2999159357288574,-0.3826984534647888,-0.44453373562883375,-0.49127881110340405,-0.5281482212050967,-0.5166084822989877,-1.3229907166274073,-1.3415356279958817,-1.3940692453967256,-1.1910852834605496,-1.2294395446330753,-1.302583270465799,-1.242156731091783,-1.140586720943356,-1.0441075906722577,-0.9341804943066346,-0.811394071281958,-1.0057025160825017,-1.0382770107936186,-1.0642463718899051,-1.0843829206047193,-0.4479957547995296,-0.46538709392089,-0.5174304682031048,-0.026313946572129054,0.06899094468006971,0.11541315733153418,0.18701281866255928,0.3117424134727472,0.48749140474231306,0.08276960343148376,0.00028148915088626616,-0.06126000140364423,-0.10750023022612203,-0.14266179279840943,-0.16962493683793675,-0.35679929197507426,-0.38430100972933934,-0.4629470021668737,-0.6386473136947168,-0.1435771442107407,-0.02493162753154834,0.13618969265149927,0.3533581071042339,-0.14390598106974273,-0.24507480450002658,-0.3199771092388188,-0.3758431380997705,-0.4181546670582015,-0.45132191660295423,-0.4537076584044774,0.16021885546307507,0.14501913477941591,0.4745582873935175,0.5573216721909907,0.5507780088521553,0.510891451542793,0.5006344964640661,0.5354898790875624,0.2347510824892149,0.13983809237013925,0.06537753059840255,0.007211076436783575,-0.038095547520499436,-0.07346213067973947,-0.10109149064358434,-0.1429184772995296,-0.1981535570688405,-0.3387177349135202,-0.5874290896746441,-0.45730053718565683,-0.4976697465030313,-0.48081838945750544,-0.4107341577770403,-0.724593938104378,-0.7772600241569483,-0.7161542012285025,-0.6784016280674785,-0.6555842997258972,-0.6422670563893754,-0.634932678557995,-0.251957796811077,-0.287605118684682,0.46131383072024096,0.7082684614096213,0.8943728301754827,1.1141449749015846,1.4067316624950068,1.7645791864670806,2.165799627648246,1.742466488276359,1.7292577680392354,1.7215114858726923,1.7164721537792063,1.7132454219106366,1.7108718399835863,0.11087188906645158,0.8933103764184952,1.2324144516349405,1.4815150012654972,1.689043210579933,1.9369723893529882,2.248409718728561,2.6083084769614695,2.9981891449505467,3.4050817534469595,3.822230910533264,3.429043190593467,3.423565774602085,3.41975469860638,3.417544843639834,-0.4661139316189634,-0.4941568115478017,0.29421428422971807,0.5763485042829377,0.7762786342069333,0.9856983754302243,1.2619971337154081,1.6086975591180304,2.008144862186823,2.4379216526060894,2.8817150870502015,2.464076050547726,2.458987917729969,2.455411366556365,2.452720876434131,-0.6721680085483732,-0.7092536006875342,-0.8106437054422223,-0.6685637258903343,-0.7669937774254648,-0.8594752133168638,-0.8989118763974464,-0.8572118568353647,-1.0868295838330553,-1.0217502810867518,-0.976467683023284,-0.9477578221128445,-0.9297593276762519,-0.9186829932113184,-0.9119793923696259,-0.5215692591792844,-0.5522192018495771,-0.6385671342184628,-0.08755574648624845,0.028171693003471845,0.13615371438097157,0.29106400547308164,0.5023306266468167,0.7613543540236906,1.057270826196444,0.6433313325985559,0.5961548079122847,0.5606029161761764,0.5334056072208293,0.5122929673763202,-1.0612274763339393,-1.069422573563173,-1.094450271769189,-1.1641566495775713,-0.7064836795197192,-0.6279469307335923,-0.5779377421258944,-0.4953319605156486,-0.3609056293188105,-0.17913957975535325,0.03972729680995939,-0.32706156679732895,-0.38491738046645324,-0.4286143362047138,-0.4622788008229958,-0.17554763034344875,-0.20000829476007911,-0.2708596224405141,-0.43374756707420736,0.0280468886046736,0.12504735975706102,0.2607952011960858,0.4522465193006191,0.6932248842698041,0.25266143579435296,0.17882952956394785,0.12358283854629006,0.08199620119372661,0.050315508449030176,0.02575211562025563,-0.8094921753058392,-0.835037099261108,-0.9081454610096459,-0.4326232618158971,-0.35398942084435286,-0.29931675482400116,-0.20612448524883456,-0.05784038728656285,0.1392269619513864,0.3739721544094728,0.6366383797057589,0.27813136128410193,0.23626310253284385,0.20436572123549918,0.17975257958367633,-0.5464600260001395,-0.5784404891842859,-0.6679675519431764,-0.6161085800484083,-0.7642680817089379,-0.9172714968699538,-1.0207668343602319,-1.0010352423238666,-0.8907475835526016,-0.8082434390614388,-0.9682899835012426,-0.9607286731113373,-0.9402466990762077,-0.927558318976527,-0.9198268728903647,-1.2688610372704314,-1.3066615153800747,-1.4059975488980347,-1.5987395501541408,-0.8176642363617431,-0.5251229562028561,-0.2307569322148522,0.08970499374509229,0.43991326048934987,0.8176185130179628,1.2193571771723717,0.7481323375507822,0.7150283232580615,0.6901256555032271,0.671262810382106,-0.6391784426356897,-0.6901142134185949,-0.26846541802254154,-0.21759911971865034,-0.22003983616492076,-0.19612706515754047,-0.11567258266663125,0.018487296148599387,0.194910957547451,0.4025568873678293,0.6329021744335162,0.32600504672167213,0.29132095093306304,0.2647396441698003,0.24391341255952756,-1.1653761535907776,-1.1896647334277262,-0.7246134200722107,-0.5987701191251638,-0.5690027965718636,-0.5690352495485194,-0.5342069723840839,-0.44494994149240014,-0.3066954291650364,-0.13042761164972952,-0.4595408118582208,-0.5172655988096916,-0.562144075495785,-0.5469197398854077,-0.5289401070516999,0.06665553983340596,0.026391132168794407,-0.08189914796372053,0.40419107377493746,0.49931935172833175,0.6166583244072328,0.7911458853847508,1.0212771805591687,1.297131447898835,1.609413961122156,1.2508129237126073,1.2343860517911853,1.223416587721402,1.2157471654247087,1.2098997915841951,-0.6121826459322055,-0.660975657454358,-0.7884039013256663,-0.34931747715768346,-0.28545854115543606,-0.19840543803150815,-0.05543782967724742,0.1416100351522613,0.38142899387877616,0.6530795411064814,0.27174262364314533,0.22522661113424988,0.19003329864675758,0.16304517935385282,0.14196095221179364,-0.02318709391510195,-0.07483312923399678,-0.20768401762554803,-0.4471867853174373,-0.4925310626413791,-0.6292337269005007,-0.7107177781394608,-0.7386446389656147,-0.7091699094241566,-0.6186986685494051,-0.7826228822381095,-0.7656455228482132,-0.744534357225195,-0.7319634991243853,-0.7247999310091521,0.1495542167234819,0.7819605577026779,1.060067661263164,1.2546051256468735,1.3836539938602817,1.5296353129874867,1.7361954705309184,1.9969630527818278,2.2933541313262777,2.6108856863836487,2.284250841304048,2.2737333788118845,2.2672079474559115,2.263022721928622,2.2602951547326,-0.5051398918038709,-0.5166586972178749,-0.2464112173768161,-0.18021605832724868,-0.21409676694248053,-0.32467230167467964,-0.4363502085515613,-0.5026038566341166,-0.5156929379027245,-0.4837417990482761,-0.41783236549571406,-0.3268430517256099,-0.5225760424071935,-0.5621121455639055,-0.5438724045119168,-0.076300762851237,0.3574207963495059,0.535025155361327,0.629331325116426,0.6435034153508393,0.6520693448046627,0.7059607821188824,0.8099796270881936,0.4999006847683304,0.4312770686183948,0.3783113231637594,0.3369748837441172,0.30454420199614113,0.2789703963412181,0.2586615368212219,0.05759681583780921,0.04289675447337757,-0.0016507794474102603,-0.1158264872242296,-0.013910422240570893,-0.11905702966449794,-0.21184276258623344,-0.2582040833969546,-0.25489989765194165,-0.5252667506377022,-0.6157598448638945,-0.6843231384506788,-0.6584949412279955,-0.626648041802327,-0.6077730480892563,-0.6899446023954741,-0.746298834585504,-0.8890996976885349,-1.1406614255576293,-0.5491989483903759,-0.33854432189138933,-0.07293848646122965,0.24340790482429023,0.5998664162929759,0.9863009257019343,1.3952647022054936,0.9381874266163379,0.9104044809851982,0.889357254696524,0.8729531057474763,-1.2908302078856893,-1.3323102338544266,-1.4392024837958095,-0.9580240850927474,-0.8501517830368501,-0.737559474720958,-0.5828206624728403,-0.3816311887798561,-0.14145533120228557,0.1290320346243833,0.42225438952619926,0.05173841860666918,0.013998824745989054,-0.015020888865932723,-0.037573603609305464,-0.8639544789742594,-0.9107356742406901,-1.0331054709878216,-1.2627338985450998,-0.7097010125419551,-0.5225326784586067,-0.2854434009694392,0.0008613418482427488,0.32718365898883733,-0.15239634507646763,-0.21588541110933301,-0.26358499166397953,-0.29984108557053407,-0.3276200004975419,-0.34929938909212144,-0.20918437840160253,-0.2290978589954374,-0.2879983284834493,0.20771399092968815,0.3034915852952727,0.36625575943307054,0.46435167550035666,0.6168604798373378,0.818516963520001,1.0594227237643223,1.3309912244509665,1.626911530980821,1.3030722749856252,1.2896302209562935,1.279991734464632,-0.6636667661872259,0.011391793643313823,0.2896568427292003,0.46450518451997075,0.5709170526101623,0.6960451973573482,0.8797391199606311,1.1216057994495499,1.4115378895086912,1.7385258375789383,2.0900248805260015,1.7437298172234785,1.736698613029421,1.7319528565140796,1.7284432077515217,-0.10011555888874682,-0.12329679043794071,-0.1907786382903588,0.25183681817026876,0.31820833712794583,0.36422288456504076,0.45057195525196514,0.5903185931667577,0.17739096404951515,0.08081038640322398,0.007825508496550568,-0.04729724696085736,-0.08908572820601517,-0.12115210641051774,-0.14590669718120539,-1.4629258822313116,-1.5088794995105548,-0.8139769529646793,-0.590231076332953,-0.43333108889936894,-0.2714885626259233,-0.0640972677519104,0.19420716314879502,-0.30953884214937155,-0.4016527934252775,-0.47025083563152226,-0.5220054025389815,-0.5520842531484593,-0.5270812231882175,-0.5128691199698208,-1.4203736164376568,-0.6830206841309062,-0.32029500455974497,-0.014349150226575912,0.19326633962425213,0.32161023722559023,0.4500485418003894,0.6277192998084903,0.8612257804897914,1.142375313039465,1.462122479109462,1.8131190061202465,1.438169595733749,1.4261636065731402,1.4179012327682532,-0.4313800398341027,-0.45334788493578915,-0.517646918789323,-0.006834995630461126,0.09191609701464873,0.1591484702151791,0.26224272186410846,0.4204930395459726,0.6284951339880439,0.8755882031422205,1.1522784237196333,1.451806766013572,1.1064745210103542,1.0851487755474303,1.0691287000695127,-0.795795280250846,-0.8114191522771393,-0.4536140651845348,-0.3588463574775198,-0.3677030596094809,-0.4362439539654707,-0.48844353002471547,-0.488950575771949,-0.4367947119021281,-0.7468485259251982,-0.8166996758585845,-0.751651235022809,-0.71122054133617,-0.6866100333499016,-0.6720292214328567,0.023228729250559806,-0.03462137762834061,0.6514841667698954,0.8469633508715212,1.0306720844241084,1.2783182490651062,1.599000424225658,1.9737405214942811,2.379873939517883,2.801563538619552,3.231143757741008,2.833811435494032,2.8297817438227493,2.8272218241675247,2.8249677786821588,-0.6254412053239594,-0.6668528159136206,-0.2810585033422859,-0.23775995179800727,-0.26363963911085075,-0.27652679122414053,-0.23635706359532252,-0.14142374173189295,-0.0022529680850264895,0.17001453047062773,-0.1308377746840335,-0.18038321625680726,-0.2178050389757887,-0.24645281820706919,-0.26881651980995586,0.1926528988595732,0.16293311078498723,0.07937711884140919,0.3651859233936196,0.35636325595340085,0.3484967856873358,0.383956639055115,0.4672697645810424,0.5912666005461299,0.7472697177065509,0.46369642116938126,0.4157442180929197,0.3791955565371791,0.3511519151616152,0.32922925399697306,-0.7227678919019916,-0.736841356936344,-0.7792858722520498,-0.49866939034852864,-0.5048242945674704,-0.5777104503778113,-0.6401628688237898,-0.6520160813412545,-0.6102250581850759,-0.5251081735487736,-0.4079559455498896,-0.6556569712666606,-0.6743786971707185,-0.6440494271283234,-0.6260231976176017,-0.5505893871979156,-0.5806108093165204,-0.6653545552465354,-0.34890778988626947,-0.3572525798715054,-0.3759845236234092,-0.3496302277227334,-0.2674653655876735,-0.13793329112338126,-0.4735126972194003,-0.5469867203248575,-0.6037919168671593,-0.5711642167279095,-0.547035728137506,-0.5332942748618679,-0.28730447950351184,-0.32992290748095016,-0.4442402770541288,-0.667020236916845,-0.5954625675641141,-0.6792106468272889,-0.7084562183895521,-0.6819481565041945,-0.6116344158812491,-0.4971024657741555,-0.7229767124924555,-0.7366139392802302,-0.7109528435082069,-0.6955848533953441,-0.686881829530926,-0.4235584628088526,-0.4777089894060494,0.17087368973725733,0.33932487147040563,0.4660321909607933,0.6309377194637813,0.857611936441692,1.1403699268820164,1.4688737543118362,1.834191976754233,2.225930486383072,1.8436162981598936,1.8365493410155134,1.8314728033700394,1.8272652915123742,-0.5838051780986447,-0.594780880236823,-0.3306897452512714,-0.2647962401165109,-0.29815328221008425,-0.41172877505665995,-0.5299224920120216,-0.6032333127889083,-0.6225465424225476,-0.5961054446960369,-0.834013763086517,-0.7872075308997837,-0.7419485988951736,-0.7142140945719031,-0.6974968695336455,0.12018861649568556,0.07356576262837397,-0.048243886989675584,0.24795014078920383,0.24597229838645457,0.2678241725651219,0.3411965342982385,0.4642017930602683,0.6272479618611423,0.29917956582658106,0.23839026645438438,0.19252726534507617,0.15766200515245118,0.1308051370406503,0.10975824049898848,-0.33014483153764257,-0.37517830770468913,-0.4947895233035385,-0.723723792491299,-0.1962682309434146,-0.03629201243421356,0.17829556178858327,0.4476968028397358,0.761129369763455,1.1078747147184949,1.4800977639042616,1.054064084177496,1.0276641941932527,1.0077925001426837,0.9924636193981066,-1.0473155263352794,-0.21950996470107734,0.1357898359743174,0.38492197721501975,0.5631920724636522,0.7597878289669019,1.0186886959223211,1.3417797194894445,1.7192607035360468,2.137087462590522,1.7110253098554191,1.7015367554733023,1.6953761862366434,1.6908459405464074,1.6874070047052458,0.017028400466342877,0.007819805801052097,0.5836146101707224,0.8240684299119054,0.9785707319305813,1.0759057829632195,1.1964085559606001,1.3767706637588548,1.6103176927335583,1.2752914600960261,1.246029867797481,1.2282718483404045,1.2172374133026895,1.2101752269216088,1.2055559564663878,-0.8390703508064565,-0.8860901785632878,-0.37788825057015857,-0.2758978563926564,-0.23439385529127554,-0.17245112542933067,-0.05536586724152346,0.11597381802187032,0.3304944039155641,0.577131006597495,0.2160222761391869,0.16872740075305945,0.1329873516855318,0.10554601425684546,0.08412698711355553,-0.12330194698334108,-0.15752312358209147,0.45055675727442923,0.6268958539504675,0.7406048779443389,0.8800679530145094,1.082895614210314,1.3457798817279516,1.6548558729202358,1.9940548423461502,2.349098983599659,2.711970287444253,2.3754323295651347,2.3716218340785833,2.3689180766810565,-1.0815913935589394,-1.091303204814329,-0.6036023405312471,-0.4106943184229127,-0.31225603867735374,-0.30189872106896554,-0.307081356813484,-0.271608293000717,-0.1823339074697376,-0.04614799062819515,0.1261553436404217,0.3252220329880099,0.026592112230137244,-0.014639053034833304,-0.04612031386130998,-1.4121748741260083,-1.4537067595744968,-1.55750247099189,-0.9550991569715829,-0.7569477099828014,-0.5758739440297395,-0.36819000393134965,-0.12094586809465094,0.16391530437003934,-0.300609934072319,-0.37375692234150204,-0.4290746313747614,-0.4712138163902107,-0.5036475239532908,-0.5292066099683989,-0.8476601219101481,-0.8555636410773104,-0.880073755207505,-0.9492587377909679,-0.21302393769170572,0.008280659786162025,0.2003606486948124,0.42779465063569133,0.7105912553798646,0.15127376561366282,0.05052707939777555,-0.02473182087991813,-0.08103369560806775,-0.12345324953037629,-0.15581684887913733,0.1754319350765625,0.13438804093456272,0.8813252681913576,1.128207588952497,1.3438817790302788,1.6126764551054955,1.9505068092062696,2.3376016718024495,2.7537376704467538,3.1856019446098793,2.7695639676346766,2.762041776887359,2.7574860146432636,2.754352109059387,2.7522024516539965,-1.0083026022649584,-1.0183944414442794,-1.0490562162599115,-0.6410073422096233,-0.5585636165989394,-0.5617166026604657,-0.5780879675929268,-0.552999561868214,-0.4741077277091754,-0.8401612023742913,-0.8970036169402641,-0.8262750390243112,-0.7817426761391882,-0.7542290044977492,-0.737634663570744,-1.1465954654908412,-0.6262448123077933,-0.42940848439652446,-0.3365656569875615,-0.323354089088963,-0.308900066234401,-0.24522386020771306,-0.12632544355305078,0.03836408264072626,0.23761212360619766,0.4620195499817126,0.14845228461789411,0.1098901042373685,0.08045199942954034,0.057542401966697576,-0.31901028461517855,-0.3569543953960867,-0.4607022555264419,-0.30673916885359825,-0.39927750928137307,-0.4849336241694962,-0.5193798006159168,-0.4984586280641245,-0.432345580548885,-0.33262240468304305,-0.2079404664111162,-0.42897883084641175,-0.46606656840699595,-0.495259898690532,-0.4814498941082962,-1.441544098837869,-1.4482807777713238,-0.8858735718410689,-0.6326568430916116,-0.45596557346012695,-0.37797552340480695,-0.3482695485796292,-0.2966699617598453,-0.19403388519467246,-0.041249852782202875,0.1518604564177721,0.3752001430529267,0.038692235311664123,-0.007817653986946282,-0.04304068377517385,-0.19915775058524343,-0.23990196731395189,0.12593657286290416,0.16157449769504123,0.13392416718473707,0.12189827788440598,0.15996392821969488,0.24909779228183535,0.38010421059540406,0.5429654401491361,0.2534940600319037,0.20493693770494148,0.16808281213348097,0.139902709943398,0.11789375840924765],\"yaxis\":\"y\",\"type\":\"scattergl\"}],                        {\"template\":{\"data\":{\"bar\":[{\"error_x\":{\"color\":\"#2a3f5f\"},\"error_y\":{\"color\":\"#2a3f5f\"},\"marker\":{\"line\":{\"color\":\"#E5ECF6\",\"width\":0.5},\"pattern\":{\"fillmode\":\"overlay\",\"size\":10,\"solidity\":0.2}},\"type\":\"bar\"}],\"barpolar\":[{\"marker\":{\"line\":{\"color\":\"#E5ECF6\",\"width\":0.5},\"pattern\":{\"fillmode\":\"overlay\",\"size\":10,\"solidity\":0.2}},\"type\":\"barpolar\"}],\"carpet\":[{\"aaxis\":{\"endlinecolor\":\"#2a3f5f\",\"gridcolor\":\"white\",\"linecolor\":\"white\",\"minorgridcolor\":\"white\",\"startlinecolor\":\"#2a3f5f\"},\"baxis\":{\"endlinecolor\":\"#2a3f5f\",\"gridcolor\":\"white\",\"linecolor\":\"white\",\"minorgridcolor\":\"white\",\"startlinecolor\":\"#2a3f5f\"},\"type\":\"carpet\"}],\"choropleth\":[{\"colorbar\":{\"outlinewidth\":0,\"ticks\":\"\"},\"type\":\"choropleth\"}],\"contour\":[{\"colorbar\":{\"outlinewidth\":0,\"ticks\":\"\"},\"colorscale\":[[0.0,\"#0d0887\"],[0.1111111111111111,\"#46039f\"],[0.2222222222222222,\"#7201a8\"],[0.3333333333333333,\"#9c179e\"],[0.4444444444444444,\"#bd3786\"],[0.5555555555555556,\"#d8576b\"],[0.6666666666666666,\"#ed7953\"],[0.7777777777777778,\"#fb9f3a\"],[0.8888888888888888,\"#fdca26\"],[1.0,\"#f0f921\"]],\"type\":\"contour\"}],\"contourcarpet\":[{\"colorbar\":{\"outlinewidth\":0,\"ticks\":\"\"},\"type\":\"contourcarpet\"}],\"heatmap\":[{\"colorbar\":{\"outlinewidth\":0,\"ticks\":\"\"},\"colorscale\":[[0.0,\"#0d0887\"],[0.1111111111111111,\"#46039f\"],[0.2222222222222222,\"#7201a8\"],[0.3333333333333333,\"#9c179e\"],[0.4444444444444444,\"#bd3786\"],[0.5555555555555556,\"#d8576b\"],[0.6666666666666666,\"#ed7953\"],[0.7777777777777778,\"#fb9f3a\"],[0.8888888888888888,\"#fdca26\"],[1.0,\"#f0f921\"]],\"type\":\"heatmap\"}],\"heatmapgl\":[{\"colorbar\":{\"outlinewidth\":0,\"ticks\":\"\"},\"colorscale\":[[0.0,\"#0d0887\"],[0.1111111111111111,\"#46039f\"],[0.2222222222222222,\"#7201a8\"],[0.3333333333333333,\"#9c179e\"],[0.4444444444444444,\"#bd3786\"],[0.5555555555555556,\"#d8576b\"],[0.6666666666666666,\"#ed7953\"],[0.7777777777777778,\"#fb9f3a\"],[0.8888888888888888,\"#fdca26\"],[1.0,\"#f0f921\"]],\"type\":\"heatmapgl\"}],\"histogram\":[{\"marker\":{\"pattern\":{\"fillmode\":\"overlay\",\"size\":10,\"solidity\":0.2}},\"type\":\"histogram\"}],\"histogram2d\":[{\"colorbar\":{\"outlinewidth\":0,\"ticks\":\"\"},\"colorscale\":[[0.0,\"#0d0887\"],[0.1111111111111111,\"#46039f\"],[0.2222222222222222,\"#7201a8\"],[0.3333333333333333,\"#9c179e\"],[0.4444444444444444,\"#bd3786\"],[0.5555555555555556,\"#d8576b\"],[0.6666666666666666,\"#ed7953\"],[0.7777777777777778,\"#fb9f3a\"],[0.8888888888888888,\"#fdca26\"],[1.0,\"#f0f921\"]],\"type\":\"histogram2d\"}],\"histogram2dcontour\":[{\"colorbar\":{\"outlinewidth\":0,\"ticks\":\"\"},\"colorscale\":[[0.0,\"#0d0887\"],[0.1111111111111111,\"#46039f\"],[0.2222222222222222,\"#7201a8\"],[0.3333333333333333,\"#9c179e\"],[0.4444444444444444,\"#bd3786\"],[0.5555555555555556,\"#d8576b\"],[0.6666666666666666,\"#ed7953\"],[0.7777777777777778,\"#fb9f3a\"],[0.8888888888888888,\"#fdca26\"],[1.0,\"#f0f921\"]],\"type\":\"histogram2dcontour\"}],\"mesh3d\":[{\"colorbar\":{\"outlinewidth\":0,\"ticks\":\"\"},\"type\":\"mesh3d\"}],\"parcoords\":[{\"line\":{\"colorbar\":{\"outlinewidth\":0,\"ticks\":\"\"}},\"type\":\"parcoords\"}],\"pie\":[{\"automargin\":true,\"type\":\"pie\"}],\"scatter\":[{\"marker\":{\"colorbar\":{\"outlinewidth\":0,\"ticks\":\"\"}},\"type\":\"scatter\"}],\"scatter3d\":[{\"line\":{\"colorbar\":{\"outlinewidth\":0,\"ticks\":\"\"}},\"marker\":{\"colorbar\":{\"outlinewidth\":0,\"ticks\":\"\"}},\"type\":\"scatter3d\"}],\"scattercarpet\":[{\"marker\":{\"colorbar\":{\"outlinewidth\":0,\"ticks\":\"\"}},\"type\":\"scattercarpet\"}],\"scattergeo\":[{\"marker\":{\"colorbar\":{\"outlinewidth\":0,\"ticks\":\"\"}},\"type\":\"scattergeo\"}],\"scattergl\":[{\"marker\":{\"colorbar\":{\"outlinewidth\":0,\"ticks\":\"\"}},\"type\":\"scattergl\"}],\"scattermapbox\":[{\"marker\":{\"colorbar\":{\"outlinewidth\":0,\"ticks\":\"\"}},\"type\":\"scattermapbox\"}],\"scatterpolar\":[{\"marker\":{\"colorbar\":{\"outlinewidth\":0,\"ticks\":\"\"}},\"type\":\"scatterpolar\"}],\"scatterpolargl\":[{\"marker\":{\"colorbar\":{\"outlinewidth\":0,\"ticks\":\"\"}},\"type\":\"scatterpolargl\"}],\"scatterternary\":[{\"marker\":{\"colorbar\":{\"outlinewidth\":0,\"ticks\":\"\"}},\"type\":\"scatterternary\"}],\"surface\":[{\"colorbar\":{\"outlinewidth\":0,\"ticks\":\"\"},\"colorscale\":[[0.0,\"#0d0887\"],[0.1111111111111111,\"#46039f\"],[0.2222222222222222,\"#7201a8\"],[0.3333333333333333,\"#9c179e\"],[0.4444444444444444,\"#bd3786\"],[0.5555555555555556,\"#d8576b\"],[0.6666666666666666,\"#ed7953\"],[0.7777777777777778,\"#fb9f3a\"],[0.8888888888888888,\"#fdca26\"],[1.0,\"#f0f921\"]],\"type\":\"surface\"}],\"table\":[{\"cells\":{\"fill\":{\"color\":\"#EBF0F8\"},\"line\":{\"color\":\"white\"}},\"header\":{\"fill\":{\"color\":\"#C8D4E3\"},\"line\":{\"color\":\"white\"}},\"type\":\"table\"}]},\"layout\":{\"annotationdefaults\":{\"arrowcolor\":\"#2a3f5f\",\"arrowhead\":0,\"arrowwidth\":1},\"autotypenumbers\":\"strict\",\"coloraxis\":{\"colorbar\":{\"outlinewidth\":0,\"ticks\":\"\"}},\"colorscale\":{\"diverging\":[[0,\"#8e0152\"],[0.1,\"#c51b7d\"],[0.2,\"#de77ae\"],[0.3,\"#f1b6da\"],[0.4,\"#fde0ef\"],[0.5,\"#f7f7f7\"],[0.6,\"#e6f5d0\"],[0.7,\"#b8e186\"],[0.8,\"#7fbc41\"],[0.9,\"#4d9221\"],[1,\"#276419\"]],\"sequential\":[[0.0,\"#0d0887\"],[0.1111111111111111,\"#46039f\"],[0.2222222222222222,\"#7201a8\"],[0.3333333333333333,\"#9c179e\"],[0.4444444444444444,\"#bd3786\"],[0.5555555555555556,\"#d8576b\"],[0.6666666666666666,\"#ed7953\"],[0.7777777777777778,\"#fb9f3a\"],[0.8888888888888888,\"#fdca26\"],[1.0,\"#f0f921\"]],\"sequentialminus\":[[0.0,\"#0d0887\"],[0.1111111111111111,\"#46039f\"],[0.2222222222222222,\"#7201a8\"],[0.3333333333333333,\"#9c179e\"],[0.4444444444444444,\"#bd3786\"],[0.5555555555555556,\"#d8576b\"],[0.6666666666666666,\"#ed7953\"],[0.7777777777777778,\"#fb9f3a\"],[0.8888888888888888,\"#fdca26\"],[1.0,\"#f0f921\"]]},\"colorway\":[\"#636efa\",\"#EF553B\",\"#00cc96\",\"#ab63fa\",\"#FFA15A\",\"#19d3f3\",\"#FF6692\",\"#B6E880\",\"#FF97FF\",\"#FECB52\"],\"font\":{\"color\":\"#2a3f5f\"},\"geo\":{\"bgcolor\":\"white\",\"lakecolor\":\"white\",\"landcolor\":\"#E5ECF6\",\"showlakes\":true,\"showland\":true,\"subunitcolor\":\"white\"},\"hoverlabel\":{\"align\":\"left\"},\"hovermode\":\"closest\",\"mapbox\":{\"style\":\"light\"},\"paper_bgcolor\":\"white\",\"plot_bgcolor\":\"#E5ECF6\",\"polar\":{\"angularaxis\":{\"gridcolor\":\"white\",\"linecolor\":\"white\",\"ticks\":\"\"},\"bgcolor\":\"#E5ECF6\",\"radialaxis\":{\"gridcolor\":\"white\",\"linecolor\":\"white\",\"ticks\":\"\"}},\"scene\":{\"xaxis\":{\"backgroundcolor\":\"#E5ECF6\",\"gridcolor\":\"white\",\"gridwidth\":2,\"linecolor\":\"white\",\"showbackground\":true,\"ticks\":\"\",\"zerolinecolor\":\"white\"},\"yaxis\":{\"backgroundcolor\":\"#E5ECF6\",\"gridcolor\":\"white\",\"gridwidth\":2,\"linecolor\":\"white\",\"showbackground\":true,\"ticks\":\"\",\"zerolinecolor\":\"white\"},\"zaxis\":{\"backgroundcolor\":\"#E5ECF6\",\"gridcolor\":\"white\",\"gridwidth\":2,\"linecolor\":\"white\",\"showbackground\":true,\"ticks\":\"\",\"zerolinecolor\":\"white\"}},\"shapedefaults\":{\"line\":{\"color\":\"#2a3f5f\"}},\"ternary\":{\"aaxis\":{\"gridcolor\":\"white\",\"linecolor\":\"white\",\"ticks\":\"\"},\"baxis\":{\"gridcolor\":\"white\",\"linecolor\":\"white\",\"ticks\":\"\"},\"bgcolor\":\"#E5ECF6\",\"caxis\":{\"gridcolor\":\"white\",\"linecolor\":\"white\",\"ticks\":\"\"}},\"title\":{\"x\":0.05},\"xaxis\":{\"automargin\":true,\"gridcolor\":\"white\",\"linecolor\":\"white\",\"ticks\":\"\",\"title\":{\"standoff\":15},\"zerolinecolor\":\"white\",\"zerolinewidth\":2},\"yaxis\":{\"automargin\":true,\"gridcolor\":\"white\",\"linecolor\":\"white\",\"ticks\":\"\",\"title\":{\"standoff\":15},\"zerolinecolor\":\"white\",\"zerolinewidth\":2}}},\"xaxis\":{\"anchor\":\"y\",\"domain\":[0.0,1.0],\"title\":{\"text\":\"Principal Component - 1\"}},\"yaxis\":{\"anchor\":\"x\",\"domain\":[0.0,1.0],\"title\":{\"text\":\"Principal Component - 3\"}},\"coloraxis\":{\"colorbar\":{\"title\":{\"text\":\"Run_id\"}},\"colorscale\":[[0.0,\"#0d0887\"],[0.1111111111111111,\"#46039f\"],[0.2222222222222222,\"#7201a8\"],[0.3333333333333333,\"#9c179e\"],[0.4444444444444444,\"#bd3786\"],[0.5555555555555556,\"#d8576b\"],[0.6666666666666666,\"#ed7953\"],[0.7777777777777778,\"#fb9f3a\"],[0.8888888888888888,\"#fdca26\"],[1.0,\"#f0f921\"]]},\"legend\":{\"tracegroupgap\":0},\"title\":{\"text\":\"PCA Score plot\"}},                        {\"responsive\": true}                    ).then(function(){\n",
              "                            \n",
              "var gd = document.getElementById('1c48a405-0ee3-4511-83d6-6571a087b561');\n",
              "var x = new MutationObserver(function (mutations, observer) {{\n",
              "        var display = window.getComputedStyle(gd).display;\n",
              "        if (!display || display === 'none') {{\n",
              "            console.log([gd, 'removed!']);\n",
              "            Plotly.purge(gd);\n",
              "            observer.disconnect();\n",
              "        }}\n",
              "}});\n",
              "\n",
              "// Listen for the removal of the full notebook cells\n",
              "var notebookContainer = gd.closest('#notebook-container');\n",
              "if (notebookContainer) {{\n",
              "    x.observe(notebookContainer, {childList: true});\n",
              "}}\n",
              "\n",
              "// Listen for the clearing of the current output cell\n",
              "var outputEl = gd.closest('.output');\n",
              "if (outputEl) {{\n",
              "    x.observe(outputEl, {childList: true});\n",
              "}}\n",
              "\n",
              "                        })                };                            </script>        </div>\n",
              "</body>\n",
              "</html>"
            ]
          },
          "metadata": {}
        }
      ]
    },
    {
      "cell_type": "code",
      "source": [
        "# Loading plot of PCA\n",
        "loadings = pca.components_.T * np.sqrt(pca.explained_variance_)\n",
        "features = list(owu.columns)\n",
        "\n",
        "fig = px.scatter(x=[0,0], y=[0,0], labels={'x':\"Principal Component - \"+str(select_x_pca), 'y':\"Principal Component - \"+str(select_y_pca)}, title=\"PCA Loading plot\")\n",
        "for i, feature in enumerate(features):\n",
        "    fig.add_shape(type='line', x0=0, y0=0, x1=loadings[i, 0], y1=loadings[i, 1])\n",
        "    fig.add_annotation(x=loadings[i, 0], y=loadings[i, 1], ax=0, ay=0, xanchor=\"center\", yanchor=\"bottom\", text=feature)\n",
        "fig.show()\n"
      ],
      "metadata": {
        "colab": {
          "base_uri": "https://localhost:8080/",
          "height": 542
        },
        "id": "jy2HYKJHaXfE",
        "outputId": "e188497e-061a-407a-867e-d5353bbac1cc"
      },
      "execution_count": 62,
      "outputs": [
        {
          "output_type": "display_data",
          "data": {
            "text/html": [
              "<html>\n",
              "<head><meta charset=\"utf-8\" /></head>\n",
              "<body>\n",
              "    <div>            <script src=\"https://cdnjs.cloudflare.com/ajax/libs/mathjax/2.7.5/MathJax.js?config=TeX-AMS-MML_SVG\"></script><script type=\"text/javascript\">if (window.MathJax) {MathJax.Hub.Config({SVG: {font: \"STIX-Web\"}});}</script>                <script type=\"text/javascript\">window.PlotlyConfig = {MathJaxConfig: 'local'};</script>\n",
              "        <script src=\"https://cdn.plot.ly/plotly-2.8.3.min.js\"></script>                <div id=\"0609d80e-38e2-4e91-af2e-56c6601f4b9d\" class=\"plotly-graph-div\" style=\"height:525px; width:100%;\"></div>            <script type=\"text/javascript\">                                    window.PLOTLYENV=window.PLOTLYENV || {};                                    if (document.getElementById(\"0609d80e-38e2-4e91-af2e-56c6601f4b9d\")) {                    Plotly.newPlot(                        \"0609d80e-38e2-4e91-af2e-56c6601f4b9d\",                        [{\"hovertemplate\":\"Principal Component - 1=%{x}<br>Principal Component - 3=%{y}<extra></extra>\",\"legendgroup\":\"\",\"marker\":{\"color\":\"#636efa\",\"symbol\":\"circle\"},\"mode\":\"markers\",\"name\":\"\",\"orientation\":\"v\",\"showlegend\":false,\"x\":[0,0],\"xaxis\":\"x\",\"y\":[0,0],\"yaxis\":\"y\",\"type\":\"scatter\"}],                        {\"template\":{\"data\":{\"bar\":[{\"error_x\":{\"color\":\"#2a3f5f\"},\"error_y\":{\"color\":\"#2a3f5f\"},\"marker\":{\"line\":{\"color\":\"#E5ECF6\",\"width\":0.5},\"pattern\":{\"fillmode\":\"overlay\",\"size\":10,\"solidity\":0.2}},\"type\":\"bar\"}],\"barpolar\":[{\"marker\":{\"line\":{\"color\":\"#E5ECF6\",\"width\":0.5},\"pattern\":{\"fillmode\":\"overlay\",\"size\":10,\"solidity\":0.2}},\"type\":\"barpolar\"}],\"carpet\":[{\"aaxis\":{\"endlinecolor\":\"#2a3f5f\",\"gridcolor\":\"white\",\"linecolor\":\"white\",\"minorgridcolor\":\"white\",\"startlinecolor\":\"#2a3f5f\"},\"baxis\":{\"endlinecolor\":\"#2a3f5f\",\"gridcolor\":\"white\",\"linecolor\":\"white\",\"minorgridcolor\":\"white\",\"startlinecolor\":\"#2a3f5f\"},\"type\":\"carpet\"}],\"choropleth\":[{\"colorbar\":{\"outlinewidth\":0,\"ticks\":\"\"},\"type\":\"choropleth\"}],\"contour\":[{\"colorbar\":{\"outlinewidth\":0,\"ticks\":\"\"},\"colorscale\":[[0.0,\"#0d0887\"],[0.1111111111111111,\"#46039f\"],[0.2222222222222222,\"#7201a8\"],[0.3333333333333333,\"#9c179e\"],[0.4444444444444444,\"#bd3786\"],[0.5555555555555556,\"#d8576b\"],[0.6666666666666666,\"#ed7953\"],[0.7777777777777778,\"#fb9f3a\"],[0.8888888888888888,\"#fdca26\"],[1.0,\"#f0f921\"]],\"type\":\"contour\"}],\"contourcarpet\":[{\"colorbar\":{\"outlinewidth\":0,\"ticks\":\"\"},\"type\":\"contourcarpet\"}],\"heatmap\":[{\"colorbar\":{\"outlinewidth\":0,\"ticks\":\"\"},\"colorscale\":[[0.0,\"#0d0887\"],[0.1111111111111111,\"#46039f\"],[0.2222222222222222,\"#7201a8\"],[0.3333333333333333,\"#9c179e\"],[0.4444444444444444,\"#bd3786\"],[0.5555555555555556,\"#d8576b\"],[0.6666666666666666,\"#ed7953\"],[0.7777777777777778,\"#fb9f3a\"],[0.8888888888888888,\"#fdca26\"],[1.0,\"#f0f921\"]],\"type\":\"heatmap\"}],\"heatmapgl\":[{\"colorbar\":{\"outlinewidth\":0,\"ticks\":\"\"},\"colorscale\":[[0.0,\"#0d0887\"],[0.1111111111111111,\"#46039f\"],[0.2222222222222222,\"#7201a8\"],[0.3333333333333333,\"#9c179e\"],[0.4444444444444444,\"#bd3786\"],[0.5555555555555556,\"#d8576b\"],[0.6666666666666666,\"#ed7953\"],[0.7777777777777778,\"#fb9f3a\"],[0.8888888888888888,\"#fdca26\"],[1.0,\"#f0f921\"]],\"type\":\"heatmapgl\"}],\"histogram\":[{\"marker\":{\"pattern\":{\"fillmode\":\"overlay\",\"size\":10,\"solidity\":0.2}},\"type\":\"histogram\"}],\"histogram2d\":[{\"colorbar\":{\"outlinewidth\":0,\"ticks\":\"\"},\"colorscale\":[[0.0,\"#0d0887\"],[0.1111111111111111,\"#46039f\"],[0.2222222222222222,\"#7201a8\"],[0.3333333333333333,\"#9c179e\"],[0.4444444444444444,\"#bd3786\"],[0.5555555555555556,\"#d8576b\"],[0.6666666666666666,\"#ed7953\"],[0.7777777777777778,\"#fb9f3a\"],[0.8888888888888888,\"#fdca26\"],[1.0,\"#f0f921\"]],\"type\":\"histogram2d\"}],\"histogram2dcontour\":[{\"colorbar\":{\"outlinewidth\":0,\"ticks\":\"\"},\"colorscale\":[[0.0,\"#0d0887\"],[0.1111111111111111,\"#46039f\"],[0.2222222222222222,\"#7201a8\"],[0.3333333333333333,\"#9c179e\"],[0.4444444444444444,\"#bd3786\"],[0.5555555555555556,\"#d8576b\"],[0.6666666666666666,\"#ed7953\"],[0.7777777777777778,\"#fb9f3a\"],[0.8888888888888888,\"#fdca26\"],[1.0,\"#f0f921\"]],\"type\":\"histogram2dcontour\"}],\"mesh3d\":[{\"colorbar\":{\"outlinewidth\":0,\"ticks\":\"\"},\"type\":\"mesh3d\"}],\"parcoords\":[{\"line\":{\"colorbar\":{\"outlinewidth\":0,\"ticks\":\"\"}},\"type\":\"parcoords\"}],\"pie\":[{\"automargin\":true,\"type\":\"pie\"}],\"scatter\":[{\"marker\":{\"colorbar\":{\"outlinewidth\":0,\"ticks\":\"\"}},\"type\":\"scatter\"}],\"scatter3d\":[{\"line\":{\"colorbar\":{\"outlinewidth\":0,\"ticks\":\"\"}},\"marker\":{\"colorbar\":{\"outlinewidth\":0,\"ticks\":\"\"}},\"type\":\"scatter3d\"}],\"scattercarpet\":[{\"marker\":{\"colorbar\":{\"outlinewidth\":0,\"ticks\":\"\"}},\"type\":\"scattercarpet\"}],\"scattergeo\":[{\"marker\":{\"colorbar\":{\"outlinewidth\":0,\"ticks\":\"\"}},\"type\":\"scattergeo\"}],\"scattergl\":[{\"marker\":{\"colorbar\":{\"outlinewidth\":0,\"ticks\":\"\"}},\"type\":\"scattergl\"}],\"scattermapbox\":[{\"marker\":{\"colorbar\":{\"outlinewidth\":0,\"ticks\":\"\"}},\"type\":\"scattermapbox\"}],\"scatterpolar\":[{\"marker\":{\"colorbar\":{\"outlinewidth\":0,\"ticks\":\"\"}},\"type\":\"scatterpolar\"}],\"scatterpolargl\":[{\"marker\":{\"colorbar\":{\"outlinewidth\":0,\"ticks\":\"\"}},\"type\":\"scatterpolargl\"}],\"scatterternary\":[{\"marker\":{\"colorbar\":{\"outlinewidth\":0,\"ticks\":\"\"}},\"type\":\"scatterternary\"}],\"surface\":[{\"colorbar\":{\"outlinewidth\":0,\"ticks\":\"\"},\"colorscale\":[[0.0,\"#0d0887\"],[0.1111111111111111,\"#46039f\"],[0.2222222222222222,\"#7201a8\"],[0.3333333333333333,\"#9c179e\"],[0.4444444444444444,\"#bd3786\"],[0.5555555555555556,\"#d8576b\"],[0.6666666666666666,\"#ed7953\"],[0.7777777777777778,\"#fb9f3a\"],[0.8888888888888888,\"#fdca26\"],[1.0,\"#f0f921\"]],\"type\":\"surface\"}],\"table\":[{\"cells\":{\"fill\":{\"color\":\"#EBF0F8\"},\"line\":{\"color\":\"white\"}},\"header\":{\"fill\":{\"color\":\"#C8D4E3\"},\"line\":{\"color\":\"white\"}},\"type\":\"table\"}]},\"layout\":{\"annotationdefaults\":{\"arrowcolor\":\"#2a3f5f\",\"arrowhead\":0,\"arrowwidth\":1},\"autotypenumbers\":\"strict\",\"coloraxis\":{\"colorbar\":{\"outlinewidth\":0,\"ticks\":\"\"}},\"colorscale\":{\"diverging\":[[0,\"#8e0152\"],[0.1,\"#c51b7d\"],[0.2,\"#de77ae\"],[0.3,\"#f1b6da\"],[0.4,\"#fde0ef\"],[0.5,\"#f7f7f7\"],[0.6,\"#e6f5d0\"],[0.7,\"#b8e186\"],[0.8,\"#7fbc41\"],[0.9,\"#4d9221\"],[1,\"#276419\"]],\"sequential\":[[0.0,\"#0d0887\"],[0.1111111111111111,\"#46039f\"],[0.2222222222222222,\"#7201a8\"],[0.3333333333333333,\"#9c179e\"],[0.4444444444444444,\"#bd3786\"],[0.5555555555555556,\"#d8576b\"],[0.6666666666666666,\"#ed7953\"],[0.7777777777777778,\"#fb9f3a\"],[0.8888888888888888,\"#fdca26\"],[1.0,\"#f0f921\"]],\"sequentialminus\":[[0.0,\"#0d0887\"],[0.1111111111111111,\"#46039f\"],[0.2222222222222222,\"#7201a8\"],[0.3333333333333333,\"#9c179e\"],[0.4444444444444444,\"#bd3786\"],[0.5555555555555556,\"#d8576b\"],[0.6666666666666666,\"#ed7953\"],[0.7777777777777778,\"#fb9f3a\"],[0.8888888888888888,\"#fdca26\"],[1.0,\"#f0f921\"]]},\"colorway\":[\"#636efa\",\"#EF553B\",\"#00cc96\",\"#ab63fa\",\"#FFA15A\",\"#19d3f3\",\"#FF6692\",\"#B6E880\",\"#FF97FF\",\"#FECB52\"],\"font\":{\"color\":\"#2a3f5f\"},\"geo\":{\"bgcolor\":\"white\",\"lakecolor\":\"white\",\"landcolor\":\"#E5ECF6\",\"showlakes\":true,\"showland\":true,\"subunitcolor\":\"white\"},\"hoverlabel\":{\"align\":\"left\"},\"hovermode\":\"closest\",\"mapbox\":{\"style\":\"light\"},\"paper_bgcolor\":\"white\",\"plot_bgcolor\":\"#E5ECF6\",\"polar\":{\"angularaxis\":{\"gridcolor\":\"white\",\"linecolor\":\"white\",\"ticks\":\"\"},\"bgcolor\":\"#E5ECF6\",\"radialaxis\":{\"gridcolor\":\"white\",\"linecolor\":\"white\",\"ticks\":\"\"}},\"scene\":{\"xaxis\":{\"backgroundcolor\":\"#E5ECF6\",\"gridcolor\":\"white\",\"gridwidth\":2,\"linecolor\":\"white\",\"showbackground\":true,\"ticks\":\"\",\"zerolinecolor\":\"white\"},\"yaxis\":{\"backgroundcolor\":\"#E5ECF6\",\"gridcolor\":\"white\",\"gridwidth\":2,\"linecolor\":\"white\",\"showbackground\":true,\"ticks\":\"\",\"zerolinecolor\":\"white\"},\"zaxis\":{\"backgroundcolor\":\"#E5ECF6\",\"gridcolor\":\"white\",\"gridwidth\":2,\"linecolor\":\"white\",\"showbackground\":true,\"ticks\":\"\",\"zerolinecolor\":\"white\"}},\"shapedefaults\":{\"line\":{\"color\":\"#2a3f5f\"}},\"ternary\":{\"aaxis\":{\"gridcolor\":\"white\",\"linecolor\":\"white\",\"ticks\":\"\"},\"baxis\":{\"gridcolor\":\"white\",\"linecolor\":\"white\",\"ticks\":\"\"},\"bgcolor\":\"#E5ECF6\",\"caxis\":{\"gridcolor\":\"white\",\"linecolor\":\"white\",\"ticks\":\"\"}},\"title\":{\"x\":0.05},\"xaxis\":{\"automargin\":true,\"gridcolor\":\"white\",\"linecolor\":\"white\",\"ticks\":\"\",\"title\":{\"standoff\":15},\"zerolinecolor\":\"white\",\"zerolinewidth\":2},\"yaxis\":{\"automargin\":true,\"gridcolor\":\"white\",\"linecolor\":\"white\",\"ticks\":\"\",\"title\":{\"standoff\":15},\"zerolinecolor\":\"white\",\"zerolinewidth\":2}}},\"xaxis\":{\"anchor\":\"y\",\"domain\":[0.0,1.0],\"title\":{\"text\":\"Principal Component - 1\"}},\"yaxis\":{\"anchor\":\"x\",\"domain\":[0.0,1.0],\"title\":{\"text\":\"Principal Component - 3\"}},\"legend\":{\"tracegroupgap\":0},\"title\":{\"text\":\"PCA Loading plot\"},\"shapes\":[{\"type\":\"line\",\"x0\":0,\"x1\":-0.4423500621120169,\"y0\":0,\"y1\":-0.8156988063173951},{\"type\":\"line\",\"x0\":0,\"x1\":-0.26016673984764593,\"y0\":0,\"y1\":0.34684365574143455},{\"type\":\"line\",\"x0\":0,\"x1\":0.8849681501473158,\"y0\":0,\"y1\":-0.40003080637000843},{\"type\":\"line\",\"x0\":0,\"x1\":0.9067706620257665,\"y0\":0,\"y1\":-0.3256892255571035},{\"type\":\"line\",\"x0\":0,\"x1\":-0.5990209091786364,\"y0\":0,\"y1\":-0.6322863143784191}],\"annotations\":[{\"ax\":0,\"ay\":0,\"text\":\"X:VCD\",\"x\":-0.4423500621120169,\"xanchor\":\"center\",\"y\":-0.8156988063173951,\"yanchor\":\"bottom\"},{\"ax\":0,\"ay\":0,\"text\":\"X:Glc\",\"x\":-0.26016673984764593,\"xanchor\":\"center\",\"y\":0.34684365574143455,\"yanchor\":\"bottom\"},{\"ax\":0,\"ay\":0,\"text\":\"X:Lac\",\"x\":0.8849681501473158,\"xanchor\":\"center\",\"y\":-0.40003080637000843,\"yanchor\":\"bottom\"},{\"ax\":0,\"ay\":0,\"text\":\"X:Titer\",\"x\":0.9067706620257665,\"xanchor\":\"center\",\"y\":-0.3256892255571035,\"yanchor\":\"bottom\"},{\"ax\":0,\"ay\":0,\"text\":\"W:Feed\",\"x\":-0.5990209091786364,\"xanchor\":\"center\",\"y\":-0.6322863143784191,\"yanchor\":\"bottom\"}]},                        {\"responsive\": true}                    ).then(function(){\n",
              "                            \n",
              "var gd = document.getElementById('0609d80e-38e2-4e91-af2e-56c6601f4b9d');\n",
              "var x = new MutationObserver(function (mutations, observer) {{\n",
              "        var display = window.getComputedStyle(gd).display;\n",
              "        if (!display || display === 'none') {{\n",
              "            console.log([gd, 'removed!']);\n",
              "            Plotly.purge(gd);\n",
              "            observer.disconnect();\n",
              "        }}\n",
              "}});\n",
              "\n",
              "// Listen for the removal of the full notebook cells\n",
              "var notebookContainer = gd.closest('#notebook-container');\n",
              "if (notebookContainer) {{\n",
              "    x.observe(notebookContainer, {childList: true});\n",
              "}}\n",
              "\n",
              "// Listen for the clearing of the current output cell\n",
              "var outputEl = gd.closest('.output');\n",
              "if (outputEl) {{\n",
              "    x.observe(outputEl, {childList: true});\n",
              "}}\n",
              "\n",
              "                        })                };                            </script>        </div>\n",
              "</body>\n",
              "</html>"
            ]
          },
          "metadata": {}
        }
      ]
    },
    {
      "cell_type": "code",
      "source": [
        "# Mahalanobis distance of observations (equal to the euclidean distance in PCA space)\n",
        "emp_cov = EmpiricalCovariance().fit(scaled_data)\n",
        "mahalanobis = emp_cov.mahalanobis(scaled_data)\n",
        "T2threshold = chi2.ppf(0.95, scaled_data.shape[1]-1)\n",
        "fig = px.bar(x=list(range(len(mahalanobis))),y=mahalanobis, labels=dict(x=\"Observation Id.\", y=\"Mahalanobis distance\"), title=\"Mahalanobis distance with 95% Confidence Interval\")\n",
        "fig.add_hline(y=T2threshold)\n",
        "fig.show()\n"
      ],
      "metadata": {
        "colab": {
          "base_uri": "https://localhost:8080/",
          "height": 542
        },
        "id": "5WXfHR-cZons",
        "outputId": "7fd84da6-ddbb-45c5-cdff-6a6ec136eafe"
      },
      "execution_count": 51,
      "outputs": [
        {
          "output_type": "display_data",
          "data": {
            "text/html": [
              "<html>\n",
              "<head><meta charset=\"utf-8\" /></head>\n",
              "<body>\n",
              "    <div>            <script src=\"https://cdnjs.cloudflare.com/ajax/libs/mathjax/2.7.5/MathJax.js?config=TeX-AMS-MML_SVG\"></script><script type=\"text/javascript\">if (window.MathJax) {MathJax.Hub.Config({SVG: {font: \"STIX-Web\"}});}</script>                <script type=\"text/javascript\">window.PlotlyConfig = {MathJaxConfig: 'local'};</script>\n",
              "        <script src=\"https://cdn.plot.ly/plotly-2.8.3.min.js\"></script>                <div id=\"e6b81f13-bdc1-4aed-a396-8dd774fe0fda\" class=\"plotly-graph-div\" style=\"height:525px; width:100%;\"></div>            <script type=\"text/javascript\">                                    window.PLOTLYENV=window.PLOTLYENV || {};                                    if (document.getElementById(\"e6b81f13-bdc1-4aed-a396-8dd774fe0fda\")) {                    Plotly.newPlot(                        \"e6b81f13-bdc1-4aed-a396-8dd774fe0fda\",                        [{\"alignmentgroup\":\"True\",\"hovertemplate\":\"Observation Id.=%{x}<br>Mahalanobis distance=%{y}<extra></extra>\",\"legendgroup\":\"\",\"marker\":{\"color\":\"#636efa\",\"pattern\":{\"shape\":\"\"}},\"name\":\"\",\"offsetgroup\":\"\",\"orientation\":\"v\",\"showlegend\":false,\"textposition\":\"auto\",\"x\":[0,1,2,3,4,5,6,7,8,9,10,11,12,13,14,15,16,17,18,19,20,21,22,23,24,25,26,27,28,29,30,31,32,33,34,35,36,37,38,39,40,41,42,43,44,45,46,47,48,49,50,51,52,53,54,55,56,57,58,59,60,61,62,63,64,65,66,67,68,69,70,71,72,73,74,75,76,77,78,79,80,81,82,83,84,85,86,87,88,89,90,91,92,93,94,95,96,97,98,99,100,101,102,103,104,105,106,107,108,109,110,111,112,113,114,115,116,117,118,119,120,121,122,123,124,125,126,127,128,129,130,131,132,133,134,135,136,137,138,139,140,141,142,143,144,145,146,147,148,149,150,151,152,153,154,155,156,157,158,159,160,161,162,163,164,165,166,167,168,169,170,171,172,173,174,175,176,177,178,179,180,181,182,183,184,185,186,187,188,189,190,191,192,193,194,195,196,197,198,199,200,201,202,203,204,205,206,207,208,209,210,211,212,213,214,215,216,217,218,219,220,221,222,223,224,225,226,227,228,229,230,231,232,233,234,235,236,237,238,239,240,241,242,243,244,245,246,247,248,249,250,251,252,253,254,255,256,257,258,259,260,261,262,263,264,265,266,267,268,269,270,271,272,273,274,275,276,277,278,279,280,281,282,283,284,285,286,287,288,289,290,291,292,293,294,295,296,297,298,299,300,301,302,303,304,305,306,307,308,309,310,311,312,313,314,315,316,317,318,319,320,321,322,323,324,325,326,327,328,329,330,331,332,333,334,335,336,337,338,339,340,341,342,343,344,345,346,347,348,349,350,351,352,353,354,355,356,357,358,359,360,361,362,363,364,365,366,367,368,369,370,371,372,373,374,375,376,377,378,379,380,381,382,383,384,385,386,387,388,389,390,391,392,393,394,395,396,397,398,399,400,401,402,403,404,405,406,407,408,409,410,411,412,413,414,415,416,417,418,419,420,421,422,423,424,425,426,427,428,429,430,431,432,433,434,435,436,437,438,439,440,441,442,443,444,445,446,447,448,449,450,451,452,453,454,455,456,457,458,459,460,461,462,463,464,465,466,467,468,469,470,471,472,473,474,475,476,477,478,479,480,481,482,483,484,485,486,487,488,489,490,491,492,493,494,495,496,497,498,499,500,501,502,503,504,505,506,507,508,509,510,511,512,513,514,515,516,517,518,519,520,521,522,523,524,525,526,527,528,529,530,531,532,533,534,535,536,537,538,539,540,541,542,543,544,545,546,547,548,549,550,551,552,553,554,555,556,557,558,559,560,561,562,563,564,565,566,567,568,569,570,571,572,573,574,575,576,577,578,579,580,581,582,583,584,585,586,587,588,589,590,591,592,593,594,595,596,597,598,599,600,601,602,603,604,605,606,607,608,609,610,611,612,613,614,615,616,617,618,619,620,621,622,623,624,625,626,627,628,629,630,631,632,633,634,635,636,637,638,639,640,641,642,643,644,645,646,647,648,649,650,651,652,653,654,655,656,657,658,659,660,661,662,663,664,665,666,667,668,669,670,671,672,673,674,675,676,677,678,679,680,681,682,683,684,685,686,687,688,689,690,691,692,693,694,695,696,697,698,699,700,701,702,703,704,705,706,707,708,709,710,711,712,713,714,715,716,717,718,719,720,721,722,723,724,725,726,727,728,729,730,731,732,733,734,735,736,737,738,739,740,741,742,743,744,745,746,747,748,749,750,751,752,753,754,755,756,757,758,759,760,761,762,763,764,765,766,767,768,769,770,771,772,773,774,775,776,777,778,779,780,781,782,783,784,785,786,787,788,789,790,791,792,793,794,795,796,797,798,799,800,801,802,803,804,805,806,807,808,809,810,811,812,813,814,815,816,817,818,819,820,821,822,823,824,825,826,827,828,829,830,831,832,833,834,835,836,837,838,839,840,841,842,843,844,845,846,847,848,849,850,851,852,853,854,855,856,857,858,859,860,861,862,863,864,865,866,867,868,869,870,871,872,873,874,875,876,877,878,879,880,881,882,883,884,885,886,887,888,889,890,891,892,893,894,895,896,897,898,899,900,901,902,903,904,905,906,907,908,909,910,911,912,913,914,915,916,917,918,919,920,921,922,923,924,925,926,927,928,929,930,931,932,933,934,935,936,937,938,939,940,941,942,943,944,945,946,947,948,949,950,951,952,953,954,955,956,957,958,959,960,961,962,963,964,965,966,967,968,969,970,971,972,973,974,975,976,977,978,979,980,981,982,983,984,985,986,987,988,989,990,991,992,993,994,995,996,997,998,999,1000,1001,1002,1003,1004,1005,1006,1007,1008,1009,1010,1011,1012,1013,1014,1015,1016,1017,1018,1019,1020,1021,1022,1023,1024,1025,1026,1027,1028,1029,1030,1031,1032,1033,1034,1035,1036,1037,1038,1039,1040,1041,1042,1043,1044,1045,1046,1047,1048,1049,1050,1051,1052,1053,1054,1055,1056,1057,1058,1059,1060,1061,1062,1063,1064,1065,1066,1067,1068,1069,1070,1071,1072,1073,1074,1075,1076,1077,1078,1079,1080,1081,1082,1083,1084,1085,1086,1087,1088,1089,1090,1091,1092,1093,1094,1095,1096,1097,1098,1099,1100,1101,1102,1103,1104,1105,1106,1107,1108,1109,1110,1111,1112,1113,1114,1115,1116,1117,1118,1119,1120,1121,1122,1123,1124,1125,1126,1127,1128,1129,1130,1131,1132,1133,1134,1135,1136,1137,1138,1139,1140,1141,1142,1143,1144,1145,1146,1147,1148,1149,1150,1151,1152,1153,1154,1155,1156,1157,1158,1159,1160,1161,1162,1163,1164,1165,1166,1167,1168,1169,1170,1171,1172,1173,1174,1175,1176,1177,1178,1179,1180,1181,1182,1183,1184,1185,1186,1187,1188,1189,1190,1191,1192,1193,1194,1195,1196,1197,1198,1199,1200,1201,1202,1203,1204,1205,1206,1207,1208,1209,1210,1211,1212,1213,1214,1215,1216,1217,1218,1219,1220,1221,1222,1223,1224,1225,1226,1227,1228,1229,1230,1231,1232,1233,1234,1235,1236,1237,1238,1239,1240,1241,1242,1243,1244,1245,1246,1247,1248,1249,1250,1251,1252,1253,1254,1255,1256,1257,1258,1259,1260,1261,1262,1263,1264,1265,1266,1267,1268,1269,1270,1271,1272,1273,1274,1275,1276,1277,1278,1279,1280,1281,1282,1283,1284,1285,1286,1287,1288,1289,1290,1291,1292,1293,1294,1295,1296,1297,1298,1299,1300,1301,1302,1303,1304,1305,1306,1307,1308,1309,1310,1311,1312,1313,1314,1315,1316,1317,1318,1319,1320,1321,1322,1323,1324,1325,1326,1327,1328,1329,1330,1331,1332,1333,1334,1335,1336,1337,1338,1339,1340,1341,1342,1343,1344,1345,1346,1347,1348,1349,1350,1351,1352,1353,1354,1355,1356,1357,1358,1359,1360,1361,1362,1363,1364,1365,1366,1367,1368,1369,1370,1371,1372,1373,1374,1375,1376,1377,1378,1379,1380,1381,1382,1383,1384,1385,1386,1387,1388,1389,1390,1391,1392,1393,1394,1395,1396,1397,1398,1399,1400,1401,1402,1403,1404,1405,1406,1407,1408,1409,1410,1411,1412,1413,1414,1415,1416,1417,1418,1419,1420,1421,1422,1423,1424,1425,1426,1427,1428,1429,1430,1431,1432,1433,1434,1435,1436,1437,1438,1439,1440,1441,1442,1443,1444,1445,1446,1447,1448,1449,1450,1451,1452,1453,1454,1455,1456,1457,1458,1459,1460,1461,1462,1463,1464,1465,1466,1467,1468,1469,1470,1471,1472,1473,1474,1475,1476,1477,1478,1479,1480,1481,1482,1483,1484,1485,1486,1487,1488,1489,1490,1491,1492,1493,1494,1495,1496,1497,1498,1499],\"xaxis\":\"x\",\"y\":[4.784500111329821,4.220880493781199,11.780098453255485,5.679911934593443,4.100232737966271,4.509985964409303,4.361979939039881,4.539655565113278,5.921831717868627,8.420710932872609,11.618206815743036,14.845477413573155,8.03559837370328,7.913925392454278,7.835658497668276,4.334393318418085,3.7586468781386193,3.394874356386918,5.625944994886187,3.4798345245904154,3.546468629753138,2.793223608390387,3.4127615401813594,3.9567926614254216,4.494258783503283,5.057675017313785,5.603267165216496,2.007521520154875,2.1832281541322223,2.4026338587045273,4.073906211583137,3.644695390999668,3.943911904287702,3.1144385481263974,6.304931173765519,6.685570988184517,4.656765563490646,2.848915781402729,2.1712847483527202,2.430144553706038,3.163065812873625,4.547772572633717,5.832062842296668,6.846392772146325,7.5980598226199785,5.498079781792819,5.130028092577254,5.172847055837527,2.648476693823943,2.3687758908219596,4.030980417986571,3.518947267408043,4.1354641321985675,6.833146609553306,8.248036645482753,10.608776830563679,13.162002198742607,15.098078367978815,16.483699822928816,17.448640291247568,5.389809784719922,4.8729487348052345,4.090039082659833,3.9913914182966757,2.7292613520748352,3.0134365430656764,2.6738658280179948,2.2972986778414954,2.653401932883293,2.0177640334372136,2.0744022712278314,3.0569562185264116,4.313546791325971,5.402482398948014,6.240385774937021,4.414800855691207,3.9877676304876597,3.041706173865435,1.581920144076331,3.336186465762033,5.386851065390674,4.777331403309093,2.753422963656698,2.89748011560395,5.1397257966163705,7.643071005728372,10.100910963981859,12.023379668148504,13.417522928448232,14.399851304579474,4.4161302332599925,3.7549587730718144,3.6476229921672645,2.633659374903025,3.528173412000194,3.716669535517251,2.8887627520243755,2.598158353356415,2.896217302173387,2.2869998176612936,3.1339661453383343,4.514441928274778,5.765017281204337,6.73905440791936,7.462179387474715,5.449938624187366,4.828085612528895,4.10129128421745,4.060201973413405,2.8849311625764504,2.675962097566638,2.367717665550712,2.2919216315001654,2.612677307329239,3.2144876477633546,3.9655297722953895,1.3364682436622817,1.657453825590788,2.0845565091036775,2.5164137447943524,4.24377796552309,3.922262833163313,3.642798394464026,1.5015378794314453,3.384657343065876,4.961767856367912,4.06934995000766,2.393109811766388,1.6113313949460455,2.0236036143079144,3.18474663614075,3.5826199818765394,4.145240438941754,4.770570796086454,5.304080155090187,4.979307311193986,4.298485379845502,3.606001781739297,2.172796719044021,3.590636101706807,4.007442540377176,2.7273049913929777,4.286682956019553,5.472453785897206,5.940939541897802,4.463517527834216,4.555047368370942,4.860794886317025,5.323086840410892,6.015499065533211,4.298203062561218,3.9798741859244102,3.7365579814431737,1.5323088091911858,3.3138891659293743,4.711840168482008,3.779595951691687,2.1900725453530545,1.493026673593407,1.943665531813404,3.1981468556265917,3.4363527368894666,4.02088354936959,4.65417604025007,5.191910030611317,3.97316100263002,3.4989471474719394,3.9287729378521816,2.5427213500083203,5.298657827557305,5.454115758181643,3.690415257393787,2.429957789366404,2.439378977100913,3.303715760441048,4.487786222251748,3.591302609956966,4.28350259620964,4.842516138388362,5.197038757663865,4.167623589707717,3.629405701230375,3.322907759371042,1.8647942232315422,4.041843348823278,4.972905537431437,3.647031094082827,2.208663049196432,3.803037734195433,5.034374339000115,5.656438570710057,4.102941297558829,4.364687716293828,4.71001471245822,5.076566364424808,4.092436661591355,3.7698336863727064,3.301379456755238,2.5753529909367736,2.2470537506640977,3.631542882449439,3.420798151193653,2.4518898734054386,2.300599298148491,4.174615386125391,3.362153766709127,3.5300396664548344,4.094374056515715,4.731049848000171,5.28258786484837,4.059999299991697,3.6385682519995926,3.595722240692303,1.6217508092326023,3.4376173871449676,4.2875900739839246,3.1806812822337682,2.14352964068839,2.3093226850595556,3.5188032822241215,3.7903062461132566,4.198832662731348,4.838237935752755,5.451143595014609,5.933325013764154,4.155400773434774,11.46356089706573,8.700745779582109,5.5175480481091155,4.530362642151041,5.236685165530568,5.819826021870261,7.114892625146672,9.400971865688364,12.208669821198011,15.228542357970474,17.305293076489495,16.95893074723328,16.7801863565377,16.69376941865035,4.8705086684262415,4.361797682586267,12.365713393171083,6.047122773119908,3.9391462151988144,4.359924054399316,4.273588532352104,4.284904519891898,5.428461267435091,7.741160291023816,10.828680309665694,14.049693030516421,7.625030687612237,7.5065701275899395,7.437217736522538,5.43269145299398,5.200636086200064,4.640662095780862,3.9131720436451407,2.975041629129731,2.6353692881586426,2.756096718435107,2.7064717565337952,3.695974143990072,4.138141239182296,4.345889577758309,2.970777201799446,3.00974688182627,3.2679399164551164,3.7130684713063435,4.255005048806805,3.914306891211149,2.3850574126253345,1.8741390616092615,3.8627974356036248,4.7612964230914345,3.5327243014510343,1.9147190112463257,1.1797517424662913,1.4940236949182106,2.474073216878306,3.6900201017632277,3.5179911217354607,3.8481309201599925,4.168690528472055,4.197987038228303,3.9955824528233936,9.114538307387626,5.159519819350807,2.6341089299283342,3.1533782893396123,3.3922834949565766,2.790716332673301,2.9411735939864383,4.412643772169547,4.295649658080316,3.7635891336892575,3.656485212774517,3.6655227026629915,3.700030628841542,5.116556834646533,4.736647221280875,4.007583814492201,2.5632643944134887,2.7743849388311923,4.238386951758888,3.4112233099382827,5.608686686707371,8.215010786237928,9.348838783510036,9.63736209149943,8.925894638126357,8.976743057100665,9.222365258172415,9.7534741714818,4.407476595756009,3.7743881336697958,6.34705191382331,2.9289631486148293,3.4355562664123713,3.8870485844120255,3.317901622094089,3.2725838176363595,4.414516747150504,6.395222715265384,8.663792827413847,5.131085107530955,5.302764466900955,5.537841513648553,5.704531394375548,4.328324188217993,3.961699818209523,2.0362319127011745,3.4561654596671714,6.284344131943619,6.631525343225718,4.658856513411516,2.6377120786319135,1.8295565758570538,2.1942727006772538,3.33904677607775,3.994212698946081,4.682610662693086,4.913077755479522,4.873481666023208,5.1257939503820324,4.830699484766313,9.683946804016452,5.023790803477836,2.1967091379115757,2.8427097734244073,3.472887509301143,2.8433761541313354,6.626652062136718,4.260722112402293,3.562429775689015,3.533497869703822,3.03838798564392,3.4738473562667402,4.075572225517949,4.897914769297004,4.620077960544934,11.252256891288098,6.116670518455353,2.7526029666018808,3.0852032092878745,3.638783217869687,3.101725911500815,7.081436448888413,4.241383885153466,3.2193053511010836,3.3257630080689116,3.958092164373842,4.706251361925237,5.3495867083006745,4.094724404877659,13.42080182743059,9.262234704126286,5.335219736964201,4.635839098099004,5.216526603961857,6.042989522156494,8.030736732788714,10.90399887506087,14.075062162766823,17.366405886561775,20.87284808571775,22.94403926007628,22.769708324631804,22.690874268701403,4.124386367124604,3.710639364395158,1.6955932623401697,2.6798481177270093,5.285878387724101,5.451110254316159,3.622303191194087,2.071765169269828,1.806061336956595,2.6098431406955247,3.906773825641119,4.0128582934294705,4.666165536054037,5.273971495192435,5.744219945134746,4.153615545813757,10.526033235116177,8.274515836670254,5.2806760366431735,3.6169029591198067,4.1467347105091115,4.459890207726216,4.938920792682508,6.453207245791263,8.682927786491033,10.198786316025235,9.658316401616695,9.412582304794674,9.30319767101832,9.258754304936385,4.818338669658876,4.167115919911461,2.283268408554889,3.1433700249080383,5.727951439597379,4.502203170546691,5.4752360347894005,9.112357555544675,12.003025758832127,12.868715466248071,14.566763012271112,16.70529173473259,18.235158291607572,19.294851976932282,20.017113904616306,4.348252333981376,3.737289895745014,3.479293584250242,6.025192968059321,5.782191657427364,5.359112686747052,5.18587258099303,5.702836285684494,3.5972928513287323,2.8744322003128957,3.1117522910191564,3.704095135794742,3.8141369194319936,3.9435731440485275,4.2144505417641325,4.580303159978977,4.252541063672995,3.6061118181633565,3.553500509859108,2.9242745742276255,5.041064140761488,3.9146499189808233,5.385763852575331,9.599537351213453,13.258862343935151,16.506093138170012,19.007478165757444,20.81192415651457,22.069518472460302,22.92626173793178,4.373763489019349,4.0153231340649125,4.544089118032836,2.2854657520689936,3.5891121884185657,3.6443199552537027,2.6657282695867623,2.362203009142406,3.258822983261858,3.6158863206563026,3.019840919506032,3.0306804233002156,3.2036762223273305,3.388622673145254,3.5337288299319467,5.669585834679528,4.980863661614312,4.763678840623791,2.6022525588901657,2.829841858505502,2.629223327027071,3.231101505176611,4.394531267097756,4.828933465799923,4.984195981307107,3.730414494300723,3.7569934880388662,3.9788809650367756,4.369785657136768,5.047122050005573,4.282433595096043,3.9061754076937527,2.404640598502841,1.9159874440400906,4.5548488452200795,6.923766807542748,6.084395061318111,3.249511755467284,3.9314559275747096,7.37964588574406,10.473515866878953,13.128036315869181,15.121320543472425,16.53980559946614,17.531087439679386,5.256822974518148,4.937184088117343,12.566799365224707,6.853249377498505,3.170372482719951,3.271543966311225,3.6990519135337916,3.2708846437935835,3.29478626623267,4.447039870948877,4.1510326090344805,3.593185650852661,3.7663963923055293,4.162976081811979,4.563371001058588,5.382396920086623,4.720337788091614,4.060804897613967,3.507746101019074,2.7160476593720806,2.4113052157085035,2.2471620339791425,2.3770026315079607,2.6272433680548266,2.9918112683387044,1.3242957210954,1.4925340410418104,1.8578521618478645,2.308017825807476,2.7773778602117036,4.7681578611245286,5.3379377815373505,4.42124810669078,2.9086930215877413,1.653196442179894,3.1405377701419743,5.804337389585659,5.881263846840326,3.9000278623572453,4.563763337261517,6.417775472834847,9.477458947236798,12.261617369518513,14.411124207909252,15.957854273768538,4.8129184452835965,4.70033117990485,4.385464838634589,4.116126070416275,1.9700011621506568,2.157641145775204,4.4201692032999675,4.934354665619087,3.3211129741441456,4.85305055862306,6.911227201736993,10.090880490832141,12.960373633590192,15.162145249439224,16.74578012077791,4.516566488377207,4.657520054532734,2.8332658656625753,1.6129540274449847,3.506173550897118,5.900533212341603,5.454922645812008,3.2522622155461,2.976504972960303,5.87984451261686,8.707401089781614,11.318636052175451,13.337970025191302,14.794391858414569,15.812584618561697,4.5761414289879045,9.534420811318054,6.062776599830493,5.0894726822242395,5.899797761761304,6.55810829935871,8.072223069019104,10.649831402783118,13.755888538924976,15.650210832927256,15.067176242941082,14.772234277642555,14.62679359288223,14.558361725819394,14.53257970240764,4.172965082226785,5.646717088183914,2.865062990096989,1.4719088725735674,3.329189397156358,4.615126353155767,3.5987842494455355,2.2103125790117724,1.9129011621390295,2.7637252587129675,3.5753605274300915,4.010312485485308,4.7082656603292286,5.391807651511541,5.9369561471662635,3.965281108153397,3.4739109131997776,3.725733956689113,2.8330757800627766,3.658680943221291,4.002083446877885,3.3621758338852303,3.3937647179710417,4.664826412457502,6.777974737901971,4.6872002130606685,4.689992364233374,4.96519624489061,5.243422113341355,5.437694629549509,4.31764935138184,6.952275761190525,4.627781057665936,2.00703157230542,1.9217187512781027,3.7858427503609047,3.9410250635251525,2.612541298462917,6.002338191233866,3.766297477127246,3.1157032009585395,3.423738976079713,4.0980410097092275,4.639764658802402,4.54018222985577,5.430227296657151,5.090181558542456,4.382014268233947,3.1550043065050923,2.4865086260476112,3.567685096890062,3.042635040851291,4.9487094132092855,7.000642264982481,7.813246742004757,8.007840251870004,7.261661348085,7.303323203134837,7.547501576539771,8.131121992764074,4.134151661340123,3.8872282619046334,3.3926660175669303,3.2701392042212194,1.8285290244858228,3.2235525645570884,3.6329658884320333,2.663176875238573,2.052629274419086,4.450552841865047,3.3160994875789918,3.3409959113781498,3.898315627960106,4.594686396870082,5.229330438894545,4.084256109730138,3.744105872143484,3.300661138478946,4.37605930376457,2.8400127514822167,3.6612194025792726,3.5569103029192792,3.0860987981946253,5.708996343753107,3.8937262186209165,3.6313966442053176,4.16987796976857,4.930805319409352,5.5121860280052895,5.4266202524693545,4.596283302526771,4.424959699472942,3.5646334795161834,2.3615416599801624,2.8927652533617705,4.276124806112501,3.876665152839995,2.3940942897420374,4.832136725865087,2.7268236826160055,1.6699329139283403,1.2973320423165244,1.341835842510263,1.602660719209527,1.9439251624285168,4.091305594814581,3.6678135958608937,4.065558178263597,7.602418601252274,4.601354273259964,4.986121539182018,3.4561495706727583,2.3214218361536716,4.04876785559879,2.898025405848442,2.6650460967473433,3.6093230899720568,4.680737029667913,5.581436342571809,6.268954758654069,4.082975367104962,3.69959858292974,7.781836077421874,3.973731139789674,3.854052620202502,4.153951982442366,4.126105342372387,5.41409360699266,8.013244619059023,6.867387346173802,6.356009518321207,6.193259603825166,6.149533857454657,6.152182167528655,6.171004639028051,4.464554075152013,10.252746760660814,7.134333420168568,5.082684654248444,5.605798305209167,6.328078203475215,7.316213904029151,9.368594785611636,12.184634681813758,15.336262998399858,18.699692055198696,21.74672129369881,21.455250113108534,21.300822866393354,21.229674996854385,4.084280330192777,3.7235123751760657,9.656124770625821,4.837245095468941,3.7452912724889003,4.23723997661064,4.090271114119615,4.832213157007083,7.175752798575022,10.201782139781253,13.098911591864686,10.650195923425777,10.48242710328158,10.422869314076097,10.411563925171599,4.137024101507966,3.665019008865618,3.236233743908959,1.7225703869191498,4.043013868835474,5.50750429805496,4.345214713694188,2.273928683015884,4.462939794894452,6.829483913371299,9.69908141334532,12.121033590061918,13.93640628080105,15.22360761262618,16.126145753088917,4.086119274633938,3.693565998714332,3.2238229967216783,3.3406391219699407,2.7208536939834467,3.7268400702947497,3.433156134882279,2.8620281673447683,3.3069522297102765,4.843595225460586,4.148860611981053,4.002975669825521,4.311022577753194,4.705991298504783,5.04617667848024,4.8774993632713874,4.725564467637165,4.321001990596643,3.6261822233401158,3.8027166717676715,2.3000927726775173,3.1412414338925365,3.1851074984822594,2.5470057050391963,2.5247200053736853,3.4464808910912845,2.9428840509626752,3.3065017546012565,4.001244257582247,4.676436832346229,4.171378045007,3.882288355386997,3.474663663233177,4.340347234450635,2.414814197919415,3.4879071805985804,3.4642275570458065,2.7668224609504724,2.8747362033439847,4.374706035286811,3.455564206224811,3.5706648159253676,4.1096734572119775,4.7329021072481225,5.274813046554912,4.342398496511723,3.960144184518688,3.3395213748706554,3.23555668548122,2.2531148411338973,3.4365439743735355,3.3829379948219067,2.614705118488942,2.6285234767861736,3.7289006491584207,5.462907067727124,3.8453037640400254,4.31164906630834,4.894979034670475,5.4092553020380505,4.088915254637131,3.68091860834726,3.2195972720698602,1.9984122469340104,4.8222614388213865,6.8617965481373036,5.724341743062167,2.9842211279313227,4.3955840292709,7.456369214286127,9.046102980989087,11.191358575652934,13.140259114002871,14.539815601133036,15.522531099189449,5.127489869165875,4.5405075858914286,3.8449242320505523,4.865414021613866,7.303197948423865,5.917673388010359,5.123916443189569,4.914405157662144,5.275136114911621,6.209291817050157,7.628691373101005,2.526924877876841,2.2554822026449766,2.29601511702405,2.4284015360906346,4.042117487191926,3.494647483758157,2.873791271852947,1.7758260174656646,3.6890889115115475,4.242986051924903,3.0735085351408773,2.269027365870111,2.724558744285026,4.125854540370307,5.868280455837384,4.416945335952434,4.977264019161528,5.512748873128072,5.927074559448136,4.981547674302808,4.571637249818101,6.1599059666394425,2.5980895464162654,2.048510261510492,3.526991764244577,3.5679002384382974,2.598667835404694,2.2554871547150035,2.9631808539098654,3.060715093996444,3.491605557816975,4.049521476515086,3.9729658989992465,4.181773823755772,4.379900332633262,4.037562658307019,4.030960275184694,2.3323699411710805,3.1497946459686506,3.616338374887076,2.7768462939518965,2.299513418156426,3.009278830561228,4.747828421085283,3.8245914479523435,3.5616072199709423,3.568193561089066,3.6156703966573494,3.651778750520431,4.036818313268654,3.505491766078022,3.412409361832454,2.382815925821738,3.2834227353276937,3.8496749573535034,3.121310958794033,2.7993857976066816,3.659857299620585,5.381530730600033,3.9990006260049067,4.399788575215327,5.011397728672569,5.588048600922674,6.032887697904431,4.228724298292135,3.840799759805452,4.163211252014626,7.4148901963593135,6.624892879893509,7.126816022210145,5.071139376968701,3.0777685463340108,1.7913301582570393,2.560914345601344,3.643766043497998,5.1609968781031075,6.566534428327784,7.651351838553192,8.449778646159428,4.553483381041264,7.651870066092233,5.6442964719818844,3.9186573194294305,4.369263804255973,4.940503304621345,4.903609674413755,5.623497249136278,7.284078596073062,9.406748764348913,11.580875891194221,11.178978930099126,10.985600566558961,10.895885746159712,10.860013769392634,4.18052316194926,4.004466098106086,3.6378646685339024,2.008938191315669,1.8165872370326575,4.377530721735636,5.9738425942769116,4.825701535965042,2.9471492835108988,2.0506169713936826,2.308518670026334,3.1920955566043303,3.355075660932284,3.8989450757033732,3.9761513957880066,4.264021476638517,5.083626369506398,3.548879645544469,2.227967648841582,3.0574885896950508,3.8842216222239485,2.9901978070086828,1.7600663055169474,4.1914836747577535,2.43936898757467,1.657901085573982,1.3657456585649272,1.3269151788755298,1.412065171511179,1.5479638310633632,4.443265104940877,4.268590141265896,3.9146278034103625,3.9853026995895324,2.3386819981695464,4.886133885526161,5.700868723615166,4.183335318983353,2.383601520278357,4.072296085078759,3.2603739441599826,3.3378693581770027,2.916794385961886,3.318266002497737,3.92746358481016,4.050225999898839,3.469675356879626,3.585618534652005,6.920892888629897,4.992912191715571,4.896430764446735,4.688544870186934,5.282813680944731,6.882311483867454,9.062704901086834,11.368905373693002,4.738348361818242,4.909494913206202,5.149722847731589,5.325752057915031,5.155122156698784,4.5277871247123604,3.8773581860512656,4.383051368232212,3.2703174836145537,3.3314882813329287,3.003151163086747,2.8816797413787056,3.468076303228844,4.625649032426184,6.014285502054849,2.392410178809884,2.825353436655249,3.3333169953229027,3.792556708998479,4.282552688369593,3.7014815665171152,3.4035224404151947,5.821806877990859,4.67299853811674,4.538315161672619,4.250189182088084,4.546277654397521,5.740744920454783,2.9852039277473397,2.9952105186470264,3.5551990394327437,4.268366534628874,4.918927017026835,5.421024983758906,4.168931683252468,3.918103348228381,3.4801193618282498,2.904081388669638,2.085398759659585,3.4198782733109927,3.3853554405646786,2.3579232619432173,1.934934474482374,2.616271415702851,4.1141822425988215,5.998508286573927,4.343766538690789,4.324599220652967,4.3717954013626255,4.140285088993155,9.358555177386451,5.399110638070724,2.536118359019836,3.087994818817105,3.610479485208927,2.840653775522881,2.4365276701788865,3.282181489976431,5.197507388429931,7.52075024495201,5.566349846299627,5.473228788303092,5.464973932005285,5.4750955167998665,4.235891509572136,3.967227894005105,3.575016280445645,2.2447877361781563,2.2520263441816355,3.61748397732706,3.2791782274296035,2.138230435668716,5.4209037044977935,3.215668729873137,2.484185123654001,2.5836193328512387,3.067380420818872,3.648625476732358,4.184463556795642,5.599842925924866,4.904713271151781,10.321277799542784,5.048717879659829,3.6013344549837223,3.7717920717383095,3.552863818021031,3.6201068164956167,4.4897634297333715,3.430958301308533,3.552256971490322,4.167179353418626,4.400347631566794,4.279270774191055,4.434389878906574,5.78273353532846,15.10508870317695,11.596495875693815,7.011906967511062,3.077217034567902,2.775586293319695,3.5912861070819746,3.1760763910308487,2.6890974984555758,3.2481697202091455,4.896312259055743,7.222903546224929,4.681729897700902,4.564165557457008,4.582617650688414,4.1090837815856975,3.812893672560032,3.309455292172673,3.1292420504962926,2.1225050203721287,3.45813293467837,3.4917700434083603,2.5738362684655662,2.3380393696312365,3.2551962617804286,4.953524691779871,6.937858257713978,4.7674991627551595,4.850525515464922,4.984427181284305,4.388339958117339,4.134673807712232,4.467491235212947,2.029013265270221,1.6653948177117335,3.9217684977874794,4.784503332674942,3.52741189318981,2.247061860982245,4.081162714877435,2.919153110223564,2.5365774003510357,3.506667046025092,4.649006657499937,5.615494427968893,4.275230319821603,3.899969350144841,5.301208681975062,3.549736570571083,4.164873406248673,4.047903096457092,4.506570355485158,6.509627087800491,9.294584060925608,12.087304285443848,14.794945851931706,14.005576064806105,13.883563333002488,13.842369161267147,13.836216296721396,4.081516631176418,3.5877818955731704,2.8772126742733697,1.5333359649222231,3.4662433285452345,4.530022008184347,3.4386403351992985,2.2649480169448983,2.2783587776170378,3.363481591118475,3.6869413488307443,4.278918105751662,5.047043901184808,5.742517473944519,6.265213988084997,4.613315916909142,4.339800956635509,4.135450315323216,1.7511848757793114,3.161413982453235,4.156054745472571,3.1898725579423823,1.7465074883774918,1.0468497433145745,1.3061654079323148,2.623112032525564,2.4001688332825193,2.5872093241429175,2.9072175295315423,3.2274363708304907,4.3162434925823066,4.090440706553834,3.575430458115216,2.3231305930051502,1.5810752325216513,3.70258961870974,4.821129860654692,3.720791726354794,2.386776584113275,2.0247628628704764,2.5459121130301408,2.444438111715799,2.7963693681973845,3.4020377490883957,4.115346641968671,4.100715887162733,3.7093049030818532,3.2195421050893316,1.601470443651445,2.5861289051274743,4.226302359790298,3.7066348833179164,2.469707264913468,2.167892551711229,3.6954041336855075,3.643761514424055,3.9754639460364602,3.6071597373565614,3.881687174745931,4.285139632646982,4.040191563489259,3.6127024347317316,3.5095931283311463,6.056321448913674,4.479043092883455,5.602458416578578,4.216367557928102,2.6222143664005384,1.8592791431864848,2.6518606375526073,2.630513015191625,3.5347560039673924,4.752242581183872,5.776947370736938,6.560042135640383,3.9645887918286107,3.464302227261385,5.268611886191977,2.8451318240929537,3.8062262560057083,3.954605039974813,3.231950966335555,3.3327586089198684,4.765433634308852,7.182562448005343,9.935555078012419,6.179067337979825,6.090045910256803,6.062861980822304,6.039859242550055,4.221918946190452,4.049056487636808,3.7467866717398666,2.089238851716125,1.7353676719688722,4.2437258100892805,6.014024440671609,4.983167018422586,3.1034561520209056,2.130025730762721,3.034401873474642,2.4279846641318095,3.3974405452217757,4.64584549634835,5.723770090144709,4.448318840396541,4.102682090589372,4.314675482157022,1.861206021822746,3.7134765352254466,4.100668203590971,2.794050099424363,1.6588890807111447,1.6121388504969334,3.3154556673974263,2.9269522231285046,3.184952048016355,3.675119934630303,4.17649943856596,4.594790457440179,4.0160063115503775,3.5684882190687524,3.5147149854016866,6.248775647618503,3.6909848811011083,4.130386075951119,3.752616887708948,3.8313436293309304,5.070268948925354,7.174970307876284,9.608746924219211,5.195986665321102,5.2884441891016225,5.48270643189267,5.618800685482464,4.634559924669457,14.37807820179085,8.68252527586095,4.114938347084728,3.7502345428676875,4.261546526143771,3.8662499848863225,4.101549535128958,5.887153407401449,8.851588525001656,5.57113142748854,5.310645692902123,5.267891672110865,5.270249552529708,5.280768666541145,4.410574679136201,4.292497504212981,6.607296700433078,4.462620725391895,2.943993722989558,3.5221673708553203,3.8132890488926603,3.4572017308257776,3.8527569109292075,6.3401090515804235,5.280798071199051,4.867825034466623,4.723544775000499,4.68360168139144,4.685720508072009,4.249397229535809,3.672707142205657,4.388648703970513,2.006168190344427,3.2039328951294848,3.8986173219076257,3.0608239791613605,2.503565974692374,3.139187726984689,4.700195460788784,3.938553942844506,4.360549415786874,4.998139621882606,5.598717372488561,6.066276583011161,4.175763210735914,3.8242935431314207,5.217740860356014,2.6437130762787318,3.164210271067547,3.4755433760836585,2.8099010390638686,2.867033006217949,4.245502021827505,6.399005506353812,8.610329743082655,10.662610670655559,9.807128863104953,9.747760495908713,9.738443375416889,4.908425312966741,4.729334702685986,7.520246273418148,4.368064952161281,1.6915373066493384,2.243269977030374,3.7886530224198203,3.446487702430845,2.3135696344809737,1.9935374505258106,2.780262349753845,4.217374573812697,3.6262022812333514,4.236109533816867,4.902024534935403,5.488408384914675,4.84155778000538,4.136232828498124,6.711419936002639,4.290930723150717,3.5866577488456004,3.3348587015530997,3.3572465503258413,3.992626812773934,2.6888318438500916,2.429066999497373,2.8175529034734836,3.4661447319309766,4.116162641859976,4.609244085260698,4.507978861851606,4.369080867805257,3.99678732870936,3.368084698189398,7.50272319063595,4.062089085671773,4.083903952418578,4.171240257194132,4.046052299813955,6.2744311201784635,3.8799045459960797,3.198918647585973,3.4441537036993477,4.072192110954324,4.760449888239621,4.555986612708211,4.23423974234263,7.034399673101532,4.393271504796082,4.69734349819109,5.159544621385474,6.2058144542796025,8.476992958349943,11.397499912200953,14.486320472630425,14.96136151791985,14.61714789448867,14.451965014050003,14.37640872458387,14.34928262310186,4.758603437669094,4.576610520042917,4.112691295515556,4.514019993035008,1.8166788698124914,2.3370429131939674,3.793825330752065,3.4429042574695146,2.390320813297103,4.541426976499922,2.760485682602645,2.6800482077258247,4.030390848596227,5.496857348053151,6.70357162356159,4.8517721049948905,8.058226302162579,4.349024613198004,1.7419746444921054,2.739489434133742,4.001474631717231,3.329718305952788,2.3472889952902483,2.4194783041191297,3.554393222237003,5.198980662287552,3.9666410184256184,4.570426494289805,5.194956670780245,5.706136583673388,4.047636539755544,3.6378059593929253,3.3957187870284162,1.6795065502666326,4.262664484408181,5.677173397756321,4.41003771141096,2.7224340481728646,2.1626822566516846,2.7121118217631754,3.809236408576492,3.541793714545582,4.236240791589503,4.67623892242838,4.720465667510207,5.891842803102506,5.754605475263879,10.78971571245728,7.423594583202459,3.4711346537710632,1.7839399791232304,2.9275945961141505,3.386598858545775,2.589646348243877,2.114640564093181,2.6965731939630486,4.082030790816308,3.405746077638498,3.9027819967181228,4.568162162860624,4.094514409072742,3.694552896919624,2.392645966661065,1.743913189621279,3.8061418945198042,4.582079067211374,3.2866627215956834,1.8859879520882261,1.5720869043958339,2.3282590256288507,3.309460503056419,3.54937680841888,4.072098577927741,4.620107308907231,5.074655834427863],\"yaxis\":\"y\",\"type\":\"bar\"}],                        {\"template\":{\"data\":{\"bar\":[{\"error_x\":{\"color\":\"#2a3f5f\"},\"error_y\":{\"color\":\"#2a3f5f\"},\"marker\":{\"line\":{\"color\":\"#E5ECF6\",\"width\":0.5},\"pattern\":{\"fillmode\":\"overlay\",\"size\":10,\"solidity\":0.2}},\"type\":\"bar\"}],\"barpolar\":[{\"marker\":{\"line\":{\"color\":\"#E5ECF6\",\"width\":0.5},\"pattern\":{\"fillmode\":\"overlay\",\"size\":10,\"solidity\":0.2}},\"type\":\"barpolar\"}],\"carpet\":[{\"aaxis\":{\"endlinecolor\":\"#2a3f5f\",\"gridcolor\":\"white\",\"linecolor\":\"white\",\"minorgridcolor\":\"white\",\"startlinecolor\":\"#2a3f5f\"},\"baxis\":{\"endlinecolor\":\"#2a3f5f\",\"gridcolor\":\"white\",\"linecolor\":\"white\",\"minorgridcolor\":\"white\",\"startlinecolor\":\"#2a3f5f\"},\"type\":\"carpet\"}],\"choropleth\":[{\"colorbar\":{\"outlinewidth\":0,\"ticks\":\"\"},\"type\":\"choropleth\"}],\"contour\":[{\"colorbar\":{\"outlinewidth\":0,\"ticks\":\"\"},\"colorscale\":[[0.0,\"#0d0887\"],[0.1111111111111111,\"#46039f\"],[0.2222222222222222,\"#7201a8\"],[0.3333333333333333,\"#9c179e\"],[0.4444444444444444,\"#bd3786\"],[0.5555555555555556,\"#d8576b\"],[0.6666666666666666,\"#ed7953\"],[0.7777777777777778,\"#fb9f3a\"],[0.8888888888888888,\"#fdca26\"],[1.0,\"#f0f921\"]],\"type\":\"contour\"}],\"contourcarpet\":[{\"colorbar\":{\"outlinewidth\":0,\"ticks\":\"\"},\"type\":\"contourcarpet\"}],\"heatmap\":[{\"colorbar\":{\"outlinewidth\":0,\"ticks\":\"\"},\"colorscale\":[[0.0,\"#0d0887\"],[0.1111111111111111,\"#46039f\"],[0.2222222222222222,\"#7201a8\"],[0.3333333333333333,\"#9c179e\"],[0.4444444444444444,\"#bd3786\"],[0.5555555555555556,\"#d8576b\"],[0.6666666666666666,\"#ed7953\"],[0.7777777777777778,\"#fb9f3a\"],[0.8888888888888888,\"#fdca26\"],[1.0,\"#f0f921\"]],\"type\":\"heatmap\"}],\"heatmapgl\":[{\"colorbar\":{\"outlinewidth\":0,\"ticks\":\"\"},\"colorscale\":[[0.0,\"#0d0887\"],[0.1111111111111111,\"#46039f\"],[0.2222222222222222,\"#7201a8\"],[0.3333333333333333,\"#9c179e\"],[0.4444444444444444,\"#bd3786\"],[0.5555555555555556,\"#d8576b\"],[0.6666666666666666,\"#ed7953\"],[0.7777777777777778,\"#fb9f3a\"],[0.8888888888888888,\"#fdca26\"],[1.0,\"#f0f921\"]],\"type\":\"heatmapgl\"}],\"histogram\":[{\"marker\":{\"pattern\":{\"fillmode\":\"overlay\",\"size\":10,\"solidity\":0.2}},\"type\":\"histogram\"}],\"histogram2d\":[{\"colorbar\":{\"outlinewidth\":0,\"ticks\":\"\"},\"colorscale\":[[0.0,\"#0d0887\"],[0.1111111111111111,\"#46039f\"],[0.2222222222222222,\"#7201a8\"],[0.3333333333333333,\"#9c179e\"],[0.4444444444444444,\"#bd3786\"],[0.5555555555555556,\"#d8576b\"],[0.6666666666666666,\"#ed7953\"],[0.7777777777777778,\"#fb9f3a\"],[0.8888888888888888,\"#fdca26\"],[1.0,\"#f0f921\"]],\"type\":\"histogram2d\"}],\"histogram2dcontour\":[{\"colorbar\":{\"outlinewidth\":0,\"ticks\":\"\"},\"colorscale\":[[0.0,\"#0d0887\"],[0.1111111111111111,\"#46039f\"],[0.2222222222222222,\"#7201a8\"],[0.3333333333333333,\"#9c179e\"],[0.4444444444444444,\"#bd3786\"],[0.5555555555555556,\"#d8576b\"],[0.6666666666666666,\"#ed7953\"],[0.7777777777777778,\"#fb9f3a\"],[0.8888888888888888,\"#fdca26\"],[1.0,\"#f0f921\"]],\"type\":\"histogram2dcontour\"}],\"mesh3d\":[{\"colorbar\":{\"outlinewidth\":0,\"ticks\":\"\"},\"type\":\"mesh3d\"}],\"parcoords\":[{\"line\":{\"colorbar\":{\"outlinewidth\":0,\"ticks\":\"\"}},\"type\":\"parcoords\"}],\"pie\":[{\"automargin\":true,\"type\":\"pie\"}],\"scatter\":[{\"marker\":{\"colorbar\":{\"outlinewidth\":0,\"ticks\":\"\"}},\"type\":\"scatter\"}],\"scatter3d\":[{\"line\":{\"colorbar\":{\"outlinewidth\":0,\"ticks\":\"\"}},\"marker\":{\"colorbar\":{\"outlinewidth\":0,\"ticks\":\"\"}},\"type\":\"scatter3d\"}],\"scattercarpet\":[{\"marker\":{\"colorbar\":{\"outlinewidth\":0,\"ticks\":\"\"}},\"type\":\"scattercarpet\"}],\"scattergeo\":[{\"marker\":{\"colorbar\":{\"outlinewidth\":0,\"ticks\":\"\"}},\"type\":\"scattergeo\"}],\"scattergl\":[{\"marker\":{\"colorbar\":{\"outlinewidth\":0,\"ticks\":\"\"}},\"type\":\"scattergl\"}],\"scattermapbox\":[{\"marker\":{\"colorbar\":{\"outlinewidth\":0,\"ticks\":\"\"}},\"type\":\"scattermapbox\"}],\"scatterpolar\":[{\"marker\":{\"colorbar\":{\"outlinewidth\":0,\"ticks\":\"\"}},\"type\":\"scatterpolar\"}],\"scatterpolargl\":[{\"marker\":{\"colorbar\":{\"outlinewidth\":0,\"ticks\":\"\"}},\"type\":\"scatterpolargl\"}],\"scatterternary\":[{\"marker\":{\"colorbar\":{\"outlinewidth\":0,\"ticks\":\"\"}},\"type\":\"scatterternary\"}],\"surface\":[{\"colorbar\":{\"outlinewidth\":0,\"ticks\":\"\"},\"colorscale\":[[0.0,\"#0d0887\"],[0.1111111111111111,\"#46039f\"],[0.2222222222222222,\"#7201a8\"],[0.3333333333333333,\"#9c179e\"],[0.4444444444444444,\"#bd3786\"],[0.5555555555555556,\"#d8576b\"],[0.6666666666666666,\"#ed7953\"],[0.7777777777777778,\"#fb9f3a\"],[0.8888888888888888,\"#fdca26\"],[1.0,\"#f0f921\"]],\"type\":\"surface\"}],\"table\":[{\"cells\":{\"fill\":{\"color\":\"#EBF0F8\"},\"line\":{\"color\":\"white\"}},\"header\":{\"fill\":{\"color\":\"#C8D4E3\"},\"line\":{\"color\":\"white\"}},\"type\":\"table\"}]},\"layout\":{\"annotationdefaults\":{\"arrowcolor\":\"#2a3f5f\",\"arrowhead\":0,\"arrowwidth\":1},\"autotypenumbers\":\"strict\",\"coloraxis\":{\"colorbar\":{\"outlinewidth\":0,\"ticks\":\"\"}},\"colorscale\":{\"diverging\":[[0,\"#8e0152\"],[0.1,\"#c51b7d\"],[0.2,\"#de77ae\"],[0.3,\"#f1b6da\"],[0.4,\"#fde0ef\"],[0.5,\"#f7f7f7\"],[0.6,\"#e6f5d0\"],[0.7,\"#b8e186\"],[0.8,\"#7fbc41\"],[0.9,\"#4d9221\"],[1,\"#276419\"]],\"sequential\":[[0.0,\"#0d0887\"],[0.1111111111111111,\"#46039f\"],[0.2222222222222222,\"#7201a8\"],[0.3333333333333333,\"#9c179e\"],[0.4444444444444444,\"#bd3786\"],[0.5555555555555556,\"#d8576b\"],[0.6666666666666666,\"#ed7953\"],[0.7777777777777778,\"#fb9f3a\"],[0.8888888888888888,\"#fdca26\"],[1.0,\"#f0f921\"]],\"sequentialminus\":[[0.0,\"#0d0887\"],[0.1111111111111111,\"#46039f\"],[0.2222222222222222,\"#7201a8\"],[0.3333333333333333,\"#9c179e\"],[0.4444444444444444,\"#bd3786\"],[0.5555555555555556,\"#d8576b\"],[0.6666666666666666,\"#ed7953\"],[0.7777777777777778,\"#fb9f3a\"],[0.8888888888888888,\"#fdca26\"],[1.0,\"#f0f921\"]]},\"colorway\":[\"#636efa\",\"#EF553B\",\"#00cc96\",\"#ab63fa\",\"#FFA15A\",\"#19d3f3\",\"#FF6692\",\"#B6E880\",\"#FF97FF\",\"#FECB52\"],\"font\":{\"color\":\"#2a3f5f\"},\"geo\":{\"bgcolor\":\"white\",\"lakecolor\":\"white\",\"landcolor\":\"#E5ECF6\",\"showlakes\":true,\"showland\":true,\"subunitcolor\":\"white\"},\"hoverlabel\":{\"align\":\"left\"},\"hovermode\":\"closest\",\"mapbox\":{\"style\":\"light\"},\"paper_bgcolor\":\"white\",\"plot_bgcolor\":\"#E5ECF6\",\"polar\":{\"angularaxis\":{\"gridcolor\":\"white\",\"linecolor\":\"white\",\"ticks\":\"\"},\"bgcolor\":\"#E5ECF6\",\"radialaxis\":{\"gridcolor\":\"white\",\"linecolor\":\"white\",\"ticks\":\"\"}},\"scene\":{\"xaxis\":{\"backgroundcolor\":\"#E5ECF6\",\"gridcolor\":\"white\",\"gridwidth\":2,\"linecolor\":\"white\",\"showbackground\":true,\"ticks\":\"\",\"zerolinecolor\":\"white\"},\"yaxis\":{\"backgroundcolor\":\"#E5ECF6\",\"gridcolor\":\"white\",\"gridwidth\":2,\"linecolor\":\"white\",\"showbackground\":true,\"ticks\":\"\",\"zerolinecolor\":\"white\"},\"zaxis\":{\"backgroundcolor\":\"#E5ECF6\",\"gridcolor\":\"white\",\"gridwidth\":2,\"linecolor\":\"white\",\"showbackground\":true,\"ticks\":\"\",\"zerolinecolor\":\"white\"}},\"shapedefaults\":{\"line\":{\"color\":\"#2a3f5f\"}},\"ternary\":{\"aaxis\":{\"gridcolor\":\"white\",\"linecolor\":\"white\",\"ticks\":\"\"},\"baxis\":{\"gridcolor\":\"white\",\"linecolor\":\"white\",\"ticks\":\"\"},\"bgcolor\":\"#E5ECF6\",\"caxis\":{\"gridcolor\":\"white\",\"linecolor\":\"white\",\"ticks\":\"\"}},\"title\":{\"x\":0.05},\"xaxis\":{\"automargin\":true,\"gridcolor\":\"white\",\"linecolor\":\"white\",\"ticks\":\"\",\"title\":{\"standoff\":15},\"zerolinecolor\":\"white\",\"zerolinewidth\":2},\"yaxis\":{\"automargin\":true,\"gridcolor\":\"white\",\"linecolor\":\"white\",\"ticks\":\"\",\"title\":{\"standoff\":15},\"zerolinecolor\":\"white\",\"zerolinewidth\":2}}},\"xaxis\":{\"anchor\":\"y\",\"domain\":[0.0,1.0],\"title\":{\"text\":\"Observation Id.\"}},\"yaxis\":{\"anchor\":\"x\",\"domain\":[0.0,1.0],\"title\":{\"text\":\"Mahalanobis distance\"}},\"legend\":{\"tracegroupgap\":0},\"title\":{\"text\":\"Mahalanobis distance with 95% Confidence Interval\"},\"barmode\":\"relative\",\"shapes\":[{\"type\":\"line\",\"x0\":0,\"x1\":1,\"xref\":\"x domain\",\"y0\":9.487729036781154,\"y1\":9.487729036781154,\"yref\":\"y\"}]},                        {\"responsive\": true}                    ).then(function(){\n",
              "                            \n",
              "var gd = document.getElementById('e6b81f13-bdc1-4aed-a396-8dd774fe0fda');\n",
              "var x = new MutationObserver(function (mutations, observer) {{\n",
              "        var display = window.getComputedStyle(gd).display;\n",
              "        if (!display || display === 'none') {{\n",
              "            console.log([gd, 'removed!']);\n",
              "            Plotly.purge(gd);\n",
              "            observer.disconnect();\n",
              "        }}\n",
              "}});\n",
              "\n",
              "// Listen for the removal of the full notebook cells\n",
              "var notebookContainer = gd.closest('#notebook-container');\n",
              "if (notebookContainer) {{\n",
              "    x.observe(notebookContainer, {childList: true});\n",
              "}}\n",
              "\n",
              "// Listen for the clearing of the current output cell\n",
              "var outputEl = gd.closest('.output');\n",
              "if (outputEl) {{\n",
              "    x.observe(outputEl, {childList: true});\n",
              "}}\n",
              "\n",
              "                        })                };                            </script>        </div>\n",
              "</body>\n",
              "</html>"
            ]
          },
          "metadata": {}
        }
      ]
    },
    {
      "cell_type": "markdown",
      "source": [
        "### Task: Normalize by median VCD and run PCA on OWU matrix\n",
        "\n",
        "\n",
        "\n",
        "\n"
      ],
      "metadata": {
        "id": "aciLrWH0DqYO"
      }
    },
    {
      "cell_type": "markdown",
      "source": [
        "# PCA of BWU matrix\n",
        "\n",
        "Details of BWU unfolding"
      ],
      "metadata": {
        "id": "fWT3Tl3TBgHO"
      }
    },
    {
      "cell_type": "markdown",
      "source": [
        "### Visualize the BWU matrix\n",
        "\n",
        "In the BWU matrix, the 1st column corresponds to VCD at day 0, the 2nd to glucose at day 0, the 3rd to lactate at day 0, the 4th to titer at day 0, and the 5th to the feed rate at day 0. This is repeated for day 1 and the following days. So, column 6 corresponds to VCD at day1, column 7 corresponds to Glc at day1, ..., column 11 corresponds to VCD at day2, etc."
      ],
      "metadata": {
        "id": "EOdNOSwhEMCW"
      }
    },
    {
      "cell_type": "code",
      "source": [
        "# Transform OWU to BWY\n",
        "for run_ix,run in owu.groupby(\"run\"):\n",
        "    if run_ix == 0: # fix\n",
        "        bwum = run.unstack(level=1)\n",
        "    else:\n",
        "        bwum = pd.concat([bwum, run.unstack(level=1)])"
      ],
      "metadata": {
        "id": "FQWQPToW_Tdp"
      },
      "execution_count": 14,
      "outputs": []
    },
    {
      "cell_type": "code",
      "source": [
        "#bwu_columns = [' '.join(col).strip() for col in bwum.columns.values]\n",
        "bwu_columns = [str(bwum.columns.get_level_values(0)[i])+str(\":\")+str(bwum.columns.get_level_values(1)[i]) for i in range(len(bwum.columns.get_level_values(0)))]\n",
        "bwu = pd.DataFrame(bwum.to_numpy(), columns=bwu_columns)\n",
        "bwu"
      ],
      "metadata": {
        "id": "UOBEzdamBwit",
        "outputId": "3bb35a31-06d4-488c-a61d-87e8e0966951",
        "colab": {
          "base_uri": "https://localhost:8080/",
          "height": 487
        }
      },
      "execution_count": 15,
      "outputs": [
        {
          "output_type": "execute_result",
          "data": {
            "text/plain": [
              "    X:VCD:0  X:VCD:1  X:VCD:2  X:VCD:3  X:VCD:4  X:VCD:5  X:VCD:6  X:VCD:7  \\\n",
              "0   0.65336  1.99900   5.3161  10.9340  16.3100   18.572   17.726   15.155   \n",
              "1   0.76765  2.36320   6.1927  12.0990  16.7580   17.359   14.094   10.769   \n",
              "2   0.89835  2.78170   7.1142  13.2490  17.8130   18.933   17.368   14.487   \n",
              "3   0.35186  1.06500   2.9702   6.9794  12.4310   16.314   15.611   11.045   \n",
              "4   0.54128  1.62400   4.3240   8.9543  13.6260   16.084   15.510   12.879   \n",
              "..      ...      ...      ...      ...      ...      ...      ...      ...   \n",
              "95  0.16841  0.53261   1.6148   4.3714   9.4284   14.931   17.911   17.771   \n",
              "96  0.61780  1.89020   5.1061  10.7140  16.1920   18.642   17.996   15.616   \n",
              "97  0.63589  1.99550   5.4246  11.1930  16.5490   18.754   17.921   15.408   \n",
              "98  0.11877  0.35630   1.0376   2.8817   6.9104   12.560   16.885   18.088   \n",
              "99  0.68350  2.14130   5.7485  11.5120  16.3320   17.962   16.961   14.614   \n",
              "\n",
              "    X:VCD:8  X:VCD:9  ...  W:Feed:5  W:Feed:6  W:Feed:7  W:Feed:8  W:Feed:9  \\\n",
              "0   11.9800   8.7291  ...   19.8030   19.8030   19.8030   19.8030   19.8030   \n",
              "1    8.5544   6.7979  ...   12.4900   12.4900   12.4900   12.4900   12.4900   \n",
              "2   11.1130   7.4140  ...    6.1978    6.1978    6.1978    6.1978    0.0000   \n",
              "3    7.8400   5.8974  ...    7.4287    7.4287    7.4287    7.4287    0.0000   \n",
              "4   10.2240   8.1402  ...   12.3150   12.3150   12.3150   12.3150    0.0000   \n",
              "..      ...      ...  ...       ...       ...       ...       ...       ...   \n",
              "95  15.6530  12.7900  ...   10.6600   10.6600   10.6600   10.6600    0.0000   \n",
              "96  12.6980   9.9173  ...   12.0660   12.0660   12.0660   12.0660   12.0660   \n",
              "97  12.3620   9.4525  ...    7.9015    7.9015    7.9015    7.9015    7.9015   \n",
              "98  16.7760  14.2470  ...   12.6260   12.6260   12.6260   12.6260   12.6260   \n",
              "99  11.8810   9.2954  ...   10.3220   10.3220   10.3220   10.3220   10.3220   \n",
              "\n",
              "    W:Feed:10  W:Feed:11  W:Feed:12  W:Feed:13  W:Feed:14  \n",
              "0     19.8030     19.803        0.0        0.0        0.0  \n",
              "1     12.4900     12.490        0.0        0.0        0.0  \n",
              "2      0.0000      0.000        0.0        0.0        0.0  \n",
              "3      0.0000      0.000        0.0        0.0        0.0  \n",
              "4      0.0000      0.000        0.0        0.0        0.0  \n",
              "..        ...        ...        ...        ...        ...  \n",
              "95     0.0000      0.000        0.0        0.0        0.0  \n",
              "96    12.0660      0.000        0.0        0.0        0.0  \n",
              "97     7.9015      0.000        0.0        0.0        0.0  \n",
              "98    12.6260     12.626        0.0        0.0        0.0  \n",
              "99     0.0000      0.000        0.0        0.0        0.0  \n",
              "\n",
              "[100 rows x 75 columns]"
            ],
            "text/html": [
              "\n",
              "  <div id=\"df-b9a657ac-9384-4e6d-b8b1-552877f6b5bc\">\n",
              "    <div class=\"colab-df-container\">\n",
              "      <div>\n",
              "<style scoped>\n",
              "    .dataframe tbody tr th:only-of-type {\n",
              "        vertical-align: middle;\n",
              "    }\n",
              "\n",
              "    .dataframe tbody tr th {\n",
              "        vertical-align: top;\n",
              "    }\n",
              "\n",
              "    .dataframe thead th {\n",
              "        text-align: right;\n",
              "    }\n",
              "</style>\n",
              "<table border=\"1\" class=\"dataframe\">\n",
              "  <thead>\n",
              "    <tr style=\"text-align: right;\">\n",
              "      <th></th>\n",
              "      <th>X:VCD:0</th>\n",
              "      <th>X:VCD:1</th>\n",
              "      <th>X:VCD:2</th>\n",
              "      <th>X:VCD:3</th>\n",
              "      <th>X:VCD:4</th>\n",
              "      <th>X:VCD:5</th>\n",
              "      <th>X:VCD:6</th>\n",
              "      <th>X:VCD:7</th>\n",
              "      <th>X:VCD:8</th>\n",
              "      <th>X:VCD:9</th>\n",
              "      <th>...</th>\n",
              "      <th>W:Feed:5</th>\n",
              "      <th>W:Feed:6</th>\n",
              "      <th>W:Feed:7</th>\n",
              "      <th>W:Feed:8</th>\n",
              "      <th>W:Feed:9</th>\n",
              "      <th>W:Feed:10</th>\n",
              "      <th>W:Feed:11</th>\n",
              "      <th>W:Feed:12</th>\n",
              "      <th>W:Feed:13</th>\n",
              "      <th>W:Feed:14</th>\n",
              "    </tr>\n",
              "  </thead>\n",
              "  <tbody>\n",
              "    <tr>\n",
              "      <th>0</th>\n",
              "      <td>0.65336</td>\n",
              "      <td>1.99900</td>\n",
              "      <td>5.3161</td>\n",
              "      <td>10.9340</td>\n",
              "      <td>16.3100</td>\n",
              "      <td>18.572</td>\n",
              "      <td>17.726</td>\n",
              "      <td>15.155</td>\n",
              "      <td>11.9800</td>\n",
              "      <td>8.7291</td>\n",
              "      <td>...</td>\n",
              "      <td>19.8030</td>\n",
              "      <td>19.8030</td>\n",
              "      <td>19.8030</td>\n",
              "      <td>19.8030</td>\n",
              "      <td>19.8030</td>\n",
              "      <td>19.8030</td>\n",
              "      <td>19.803</td>\n",
              "      <td>0.0</td>\n",
              "      <td>0.0</td>\n",
              "      <td>0.0</td>\n",
              "    </tr>\n",
              "    <tr>\n",
              "      <th>1</th>\n",
              "      <td>0.76765</td>\n",
              "      <td>2.36320</td>\n",
              "      <td>6.1927</td>\n",
              "      <td>12.0990</td>\n",
              "      <td>16.7580</td>\n",
              "      <td>17.359</td>\n",
              "      <td>14.094</td>\n",
              "      <td>10.769</td>\n",
              "      <td>8.5544</td>\n",
              "      <td>6.7979</td>\n",
              "      <td>...</td>\n",
              "      <td>12.4900</td>\n",
              "      <td>12.4900</td>\n",
              "      <td>12.4900</td>\n",
              "      <td>12.4900</td>\n",
              "      <td>12.4900</td>\n",
              "      <td>12.4900</td>\n",
              "      <td>12.490</td>\n",
              "      <td>0.0</td>\n",
              "      <td>0.0</td>\n",
              "      <td>0.0</td>\n",
              "    </tr>\n",
              "    <tr>\n",
              "      <th>2</th>\n",
              "      <td>0.89835</td>\n",
              "      <td>2.78170</td>\n",
              "      <td>7.1142</td>\n",
              "      <td>13.2490</td>\n",
              "      <td>17.8130</td>\n",
              "      <td>18.933</td>\n",
              "      <td>17.368</td>\n",
              "      <td>14.487</td>\n",
              "      <td>11.1130</td>\n",
              "      <td>7.4140</td>\n",
              "      <td>...</td>\n",
              "      <td>6.1978</td>\n",
              "      <td>6.1978</td>\n",
              "      <td>6.1978</td>\n",
              "      <td>6.1978</td>\n",
              "      <td>0.0000</td>\n",
              "      <td>0.0000</td>\n",
              "      <td>0.000</td>\n",
              "      <td>0.0</td>\n",
              "      <td>0.0</td>\n",
              "      <td>0.0</td>\n",
              "    </tr>\n",
              "    <tr>\n",
              "      <th>3</th>\n",
              "      <td>0.35186</td>\n",
              "      <td>1.06500</td>\n",
              "      <td>2.9702</td>\n",
              "      <td>6.9794</td>\n",
              "      <td>12.4310</td>\n",
              "      <td>16.314</td>\n",
              "      <td>15.611</td>\n",
              "      <td>11.045</td>\n",
              "      <td>7.8400</td>\n",
              "      <td>5.8974</td>\n",
              "      <td>...</td>\n",
              "      <td>7.4287</td>\n",
              "      <td>7.4287</td>\n",
              "      <td>7.4287</td>\n",
              "      <td>7.4287</td>\n",
              "      <td>0.0000</td>\n",
              "      <td>0.0000</td>\n",
              "      <td>0.000</td>\n",
              "      <td>0.0</td>\n",
              "      <td>0.0</td>\n",
              "      <td>0.0</td>\n",
              "    </tr>\n",
              "    <tr>\n",
              "      <th>4</th>\n",
              "      <td>0.54128</td>\n",
              "      <td>1.62400</td>\n",
              "      <td>4.3240</td>\n",
              "      <td>8.9543</td>\n",
              "      <td>13.6260</td>\n",
              "      <td>16.084</td>\n",
              "      <td>15.510</td>\n",
              "      <td>12.879</td>\n",
              "      <td>10.2240</td>\n",
              "      <td>8.1402</td>\n",
              "      <td>...</td>\n",
              "      <td>12.3150</td>\n",
              "      <td>12.3150</td>\n",
              "      <td>12.3150</td>\n",
              "      <td>12.3150</td>\n",
              "      <td>0.0000</td>\n",
              "      <td>0.0000</td>\n",
              "      <td>0.000</td>\n",
              "      <td>0.0</td>\n",
              "      <td>0.0</td>\n",
              "      <td>0.0</td>\n",
              "    </tr>\n",
              "    <tr>\n",
              "      <th>...</th>\n",
              "      <td>...</td>\n",
              "      <td>...</td>\n",
              "      <td>...</td>\n",
              "      <td>...</td>\n",
              "      <td>...</td>\n",
              "      <td>...</td>\n",
              "      <td>...</td>\n",
              "      <td>...</td>\n",
              "      <td>...</td>\n",
              "      <td>...</td>\n",
              "      <td>...</td>\n",
              "      <td>...</td>\n",
              "      <td>...</td>\n",
              "      <td>...</td>\n",
              "      <td>...</td>\n",
              "      <td>...</td>\n",
              "      <td>...</td>\n",
              "      <td>...</td>\n",
              "      <td>...</td>\n",
              "      <td>...</td>\n",
              "      <td>...</td>\n",
              "    </tr>\n",
              "    <tr>\n",
              "      <th>95</th>\n",
              "      <td>0.16841</td>\n",
              "      <td>0.53261</td>\n",
              "      <td>1.6148</td>\n",
              "      <td>4.3714</td>\n",
              "      <td>9.4284</td>\n",
              "      <td>14.931</td>\n",
              "      <td>17.911</td>\n",
              "      <td>17.771</td>\n",
              "      <td>15.6530</td>\n",
              "      <td>12.7900</td>\n",
              "      <td>...</td>\n",
              "      <td>10.6600</td>\n",
              "      <td>10.6600</td>\n",
              "      <td>10.6600</td>\n",
              "      <td>10.6600</td>\n",
              "      <td>0.0000</td>\n",
              "      <td>0.0000</td>\n",
              "      <td>0.000</td>\n",
              "      <td>0.0</td>\n",
              "      <td>0.0</td>\n",
              "      <td>0.0</td>\n",
              "    </tr>\n",
              "    <tr>\n",
              "      <th>96</th>\n",
              "      <td>0.61780</td>\n",
              "      <td>1.89020</td>\n",
              "      <td>5.1061</td>\n",
              "      <td>10.7140</td>\n",
              "      <td>16.1920</td>\n",
              "      <td>18.642</td>\n",
              "      <td>17.996</td>\n",
              "      <td>15.616</td>\n",
              "      <td>12.6980</td>\n",
              "      <td>9.9173</td>\n",
              "      <td>...</td>\n",
              "      <td>12.0660</td>\n",
              "      <td>12.0660</td>\n",
              "      <td>12.0660</td>\n",
              "      <td>12.0660</td>\n",
              "      <td>12.0660</td>\n",
              "      <td>12.0660</td>\n",
              "      <td>0.000</td>\n",
              "      <td>0.0</td>\n",
              "      <td>0.0</td>\n",
              "      <td>0.0</td>\n",
              "    </tr>\n",
              "    <tr>\n",
              "      <th>97</th>\n",
              "      <td>0.63589</td>\n",
              "      <td>1.99550</td>\n",
              "      <td>5.4246</td>\n",
              "      <td>11.1930</td>\n",
              "      <td>16.5490</td>\n",
              "      <td>18.754</td>\n",
              "      <td>17.921</td>\n",
              "      <td>15.408</td>\n",
              "      <td>12.3620</td>\n",
              "      <td>9.4525</td>\n",
              "      <td>...</td>\n",
              "      <td>7.9015</td>\n",
              "      <td>7.9015</td>\n",
              "      <td>7.9015</td>\n",
              "      <td>7.9015</td>\n",
              "      <td>7.9015</td>\n",
              "      <td>7.9015</td>\n",
              "      <td>0.000</td>\n",
              "      <td>0.0</td>\n",
              "      <td>0.0</td>\n",
              "      <td>0.0</td>\n",
              "    </tr>\n",
              "    <tr>\n",
              "      <th>98</th>\n",
              "      <td>0.11877</td>\n",
              "      <td>0.35630</td>\n",
              "      <td>1.0376</td>\n",
              "      <td>2.8817</td>\n",
              "      <td>6.9104</td>\n",
              "      <td>12.560</td>\n",
              "      <td>16.885</td>\n",
              "      <td>18.088</td>\n",
              "      <td>16.7760</td>\n",
              "      <td>14.2470</td>\n",
              "      <td>...</td>\n",
              "      <td>12.6260</td>\n",
              "      <td>12.6260</td>\n",
              "      <td>12.6260</td>\n",
              "      <td>12.6260</td>\n",
              "      <td>12.6260</td>\n",
              "      <td>12.6260</td>\n",
              "      <td>12.626</td>\n",
              "      <td>0.0</td>\n",
              "      <td>0.0</td>\n",
              "      <td>0.0</td>\n",
              "    </tr>\n",
              "    <tr>\n",
              "      <th>99</th>\n",
              "      <td>0.68350</td>\n",
              "      <td>2.14130</td>\n",
              "      <td>5.7485</td>\n",
              "      <td>11.5120</td>\n",
              "      <td>16.3320</td>\n",
              "      <td>17.962</td>\n",
              "      <td>16.961</td>\n",
              "      <td>14.614</td>\n",
              "      <td>11.8810</td>\n",
              "      <td>9.2954</td>\n",
              "      <td>...</td>\n",
              "      <td>10.3220</td>\n",
              "      <td>10.3220</td>\n",
              "      <td>10.3220</td>\n",
              "      <td>10.3220</td>\n",
              "      <td>10.3220</td>\n",
              "      <td>0.0000</td>\n",
              "      <td>0.000</td>\n",
              "      <td>0.0</td>\n",
              "      <td>0.0</td>\n",
              "      <td>0.0</td>\n",
              "    </tr>\n",
              "  </tbody>\n",
              "</table>\n",
              "<p>100 rows × 75 columns</p>\n",
              "</div>\n",
              "      <button class=\"colab-df-convert\" onclick=\"convertToInteractive('df-b9a657ac-9384-4e6d-b8b1-552877f6b5bc')\"\n",
              "              title=\"Convert this dataframe to an interactive table.\"\n",
              "              style=\"display:none;\">\n",
              "        \n",
              "  <svg xmlns=\"http://www.w3.org/2000/svg\" height=\"24px\"viewBox=\"0 0 24 24\"\n",
              "       width=\"24px\">\n",
              "    <path d=\"M0 0h24v24H0V0z\" fill=\"none\"/>\n",
              "    <path d=\"M18.56 5.44l.94 2.06.94-2.06 2.06-.94-2.06-.94-.94-2.06-.94 2.06-2.06.94zm-11 1L8.5 8.5l.94-2.06 2.06-.94-2.06-.94L8.5 2.5l-.94 2.06-2.06.94zm10 10l.94 2.06.94-2.06 2.06-.94-2.06-.94-.94-2.06-.94 2.06-2.06.94z\"/><path d=\"M17.41 7.96l-1.37-1.37c-.4-.4-.92-.59-1.43-.59-.52 0-1.04.2-1.43.59L10.3 9.45l-7.72 7.72c-.78.78-.78 2.05 0 2.83L4 21.41c.39.39.9.59 1.41.59.51 0 1.02-.2 1.41-.59l7.78-7.78 2.81-2.81c.8-.78.8-2.07 0-2.86zM5.41 20L4 18.59l7.72-7.72 1.47 1.35L5.41 20z\"/>\n",
              "  </svg>\n",
              "      </button>\n",
              "      \n",
              "  <style>\n",
              "    .colab-df-container {\n",
              "      display:flex;\n",
              "      flex-wrap:wrap;\n",
              "      gap: 12px;\n",
              "    }\n",
              "\n",
              "    .colab-df-convert {\n",
              "      background-color: #E8F0FE;\n",
              "      border: none;\n",
              "      border-radius: 50%;\n",
              "      cursor: pointer;\n",
              "      display: none;\n",
              "      fill: #1967D2;\n",
              "      height: 32px;\n",
              "      padding: 0 0 0 0;\n",
              "      width: 32px;\n",
              "    }\n",
              "\n",
              "    .colab-df-convert:hover {\n",
              "      background-color: #E2EBFA;\n",
              "      box-shadow: 0px 1px 2px rgba(60, 64, 67, 0.3), 0px 1px 3px 1px rgba(60, 64, 67, 0.15);\n",
              "      fill: #174EA6;\n",
              "    }\n",
              "\n",
              "    [theme=dark] .colab-df-convert {\n",
              "      background-color: #3B4455;\n",
              "      fill: #D2E3FC;\n",
              "    }\n",
              "\n",
              "    [theme=dark] .colab-df-convert:hover {\n",
              "      background-color: #434B5C;\n",
              "      box-shadow: 0px 1px 3px 1px rgba(0, 0, 0, 0.15);\n",
              "      filter: drop-shadow(0px 1px 2px rgba(0, 0, 0, 0.3));\n",
              "      fill: #FFFFFF;\n",
              "    }\n",
              "  </style>\n",
              "\n",
              "      <script>\n",
              "        const buttonEl =\n",
              "          document.querySelector('#df-b9a657ac-9384-4e6d-b8b1-552877f6b5bc button.colab-df-convert');\n",
              "        buttonEl.style.display =\n",
              "          google.colab.kernel.accessAllowed ? 'block' : 'none';\n",
              "\n",
              "        async function convertToInteractive(key) {\n",
              "          const element = document.querySelector('#df-b9a657ac-9384-4e6d-b8b1-552877f6b5bc');\n",
              "          const dataTable =\n",
              "            await google.colab.kernel.invokeFunction('convertToInteractive',\n",
              "                                                     [key], {});\n",
              "          if (!dataTable) return;\n",
              "\n",
              "          const docLinkHtml = 'Like what you see? Visit the ' +\n",
              "            '<a target=\"_blank\" href=https://colab.research.google.com/notebooks/data_table.ipynb>data table notebook</a>'\n",
              "            + ' to learn more about interactive tables.';\n",
              "          element.innerHTML = '';\n",
              "          dataTable['output_type'] = 'display_data';\n",
              "          await google.colab.output.renderOutput(dataTable, element);\n",
              "          const docLink = document.createElement('div');\n",
              "          docLink.innerHTML = docLinkHtml;\n",
              "          element.appendChild(docLink);\n",
              "        }\n",
              "      </script>\n",
              "    </div>\n",
              "  </div>\n",
              "  "
            ]
          },
          "metadata": {},
          "execution_count": 15
        }
      ]
    },
    {
      "cell_type": "markdown",
      "source": [
        "### Plot correlation matrix\n",
        "The BWU matrix is used to plot the degree of correlation between the different variables.\n"
      ],
      "metadata": {
        "id": "Fr9GNt5kEdrr"
      }
    },
    {
      "cell_type": "code",
      "source": [
        "fig = px.imshow(bwu.corr())\n",
        "fig.update_layout(title='BWU Correlation Matrix among X variables')\n",
        "fig.show()"
      ],
      "metadata": {
        "colab": {
          "base_uri": "https://localhost:8080/",
          "height": 542
        },
        "id": "mauV5zpWe2C7",
        "outputId": "48163e4b-e988-4d17-9e20-8654ffa905c6"
      },
      "execution_count": 16,
      "outputs": [
        {
          "output_type": "display_data",
          "data": {
            "text/html": [
              "<html>\n",
              "<head><meta charset=\"utf-8\" /></head>\n",
              "<body>\n",
              "    <div>            <script src=\"https://cdnjs.cloudflare.com/ajax/libs/mathjax/2.7.5/MathJax.js?config=TeX-AMS-MML_SVG\"></script><script type=\"text/javascript\">if (window.MathJax) {MathJax.Hub.Config({SVG: {font: \"STIX-Web\"}});}</script>                <script type=\"text/javascript\">window.PlotlyConfig = {MathJaxConfig: 'local'};</script>\n",
              "        <script src=\"https://cdn.plot.ly/plotly-2.8.3.min.js\"></script>                <div id=\"c1a03f55-592b-409e-95d0-477891028354\" class=\"plotly-graph-div\" style=\"height:525px; width:100%;\"></div>            <script type=\"text/javascript\">                                    window.PLOTLYENV=window.PLOTLYENV || {};                                    if (document.getElementById(\"c1a03f55-592b-409e-95d0-477891028354\")) {                    Plotly.newPlot(                        \"c1a03f55-592b-409e-95d0-477891028354\",                        [{\"coloraxis\":\"coloraxis\",\"name\":\"0\",\"x\":[\"X:VCD:0\",\"X:VCD:1\",\"X:VCD:2\",\"X:VCD:3\",\"X:VCD:4\",\"X:VCD:5\",\"X:VCD:6\",\"X:VCD:7\",\"X:VCD:8\",\"X:VCD:9\",\"X:VCD:10\",\"X:VCD:11\",\"X:VCD:12\",\"X:VCD:13\",\"X:VCD:14\",\"X:Glc:0\",\"X:Glc:1\",\"X:Glc:2\",\"X:Glc:3\",\"X:Glc:4\",\"X:Glc:5\",\"X:Glc:6\",\"X:Glc:7\",\"X:Glc:8\",\"X:Glc:9\",\"X:Glc:10\",\"X:Glc:11\",\"X:Glc:12\",\"X:Glc:13\",\"X:Glc:14\",\"X:Lac:0\",\"X:Lac:1\",\"X:Lac:2\",\"X:Lac:3\",\"X:Lac:4\",\"X:Lac:5\",\"X:Lac:6\",\"X:Lac:7\",\"X:Lac:8\",\"X:Lac:9\",\"X:Lac:10\",\"X:Lac:11\",\"X:Lac:12\",\"X:Lac:13\",\"X:Lac:14\",\"X:Titer:0\",\"X:Titer:1\",\"X:Titer:2\",\"X:Titer:3\",\"X:Titer:4\",\"X:Titer:5\",\"X:Titer:6\",\"X:Titer:7\",\"X:Titer:8\",\"X:Titer:9\",\"X:Titer:10\",\"X:Titer:11\",\"X:Titer:12\",\"X:Titer:13\",\"X:Titer:14\",\"W:Feed:0\",\"W:Feed:1\",\"W:Feed:2\",\"W:Feed:3\",\"W:Feed:4\",\"W:Feed:5\",\"W:Feed:6\",\"W:Feed:7\",\"W:Feed:8\",\"W:Feed:9\",\"W:Feed:10\",\"W:Feed:11\",\"W:Feed:12\",\"W:Feed:13\",\"W:Feed:14\"],\"y\":[\"X:VCD:0\",\"X:VCD:1\",\"X:VCD:2\",\"X:VCD:3\",\"X:VCD:4\",\"X:VCD:5\",\"X:VCD:6\",\"X:VCD:7\",\"X:VCD:8\",\"X:VCD:9\",\"X:VCD:10\",\"X:VCD:11\",\"X:VCD:12\",\"X:VCD:13\",\"X:VCD:14\",\"X:Glc:0\",\"X:Glc:1\",\"X:Glc:2\",\"X:Glc:3\",\"X:Glc:4\",\"X:Glc:5\",\"X:Glc:6\",\"X:Glc:7\",\"X:Glc:8\",\"X:Glc:9\",\"X:Glc:10\",\"X:Glc:11\",\"X:Glc:12\",\"X:Glc:13\",\"X:Glc:14\",\"X:Lac:0\",\"X:Lac:1\",\"X:Lac:2\",\"X:Lac:3\",\"X:Lac:4\",\"X:Lac:5\",\"X:Lac:6\",\"X:Lac:7\",\"X:Lac:8\",\"X:Lac:9\",\"X:Lac:10\",\"X:Lac:11\",\"X:Lac:12\",\"X:Lac:13\",\"X:Lac:14\",\"X:Titer:0\",\"X:Titer:1\",\"X:Titer:2\",\"X:Titer:3\",\"X:Titer:4\",\"X:Titer:5\",\"X:Titer:6\",\"X:Titer:7\",\"X:Titer:8\",\"X:Titer:9\",\"X:Titer:10\",\"X:Titer:11\",\"X:Titer:12\",\"X:Titer:13\",\"X:Titer:14\",\"W:Feed:0\",\"W:Feed:1\",\"W:Feed:2\",\"W:Feed:3\",\"W:Feed:4\",\"W:Feed:5\",\"W:Feed:6\",\"W:Feed:7\",\"W:Feed:8\",\"W:Feed:9\",\"W:Feed:10\",\"W:Feed:11\",\"W:Feed:12\",\"W:Feed:13\",\"W:Feed:14\"],\"z\":[[1.0,0.9987065088423814,0.9927266474774424,0.9684933246005298,0.8743543500933295,0.4671350592356763,-0.16201106388872727,-0.3427558056115047,-0.3805455707444512,-0.38074948300560046,-0.36664080362215856,-0.33904251983011224,-0.3059236166655379,-0.27417715330800074,-0.24589932752296653,0.1483982505331202,0.12606774948895544,0.035213704527108265,-0.08928935752834413,-0.17719832367993865,-0.2031834356108743,-0.1699210689681604,-0.1140148136313685,-0.056830045332232015,-0.010856091680734117,0.03034843828990051,0.045036444905753543,0.03254812267570896,0.03595052811090858,0.037717562678444526,null,0.9995542079362807,0.9975060851143895,0.9910448007354047,0.975215109837668,0.9450462264915256,0.8831864482161305,0.7660887015372119,0.6088469940237389,0.459981851956086,0.34708624854755654,0.27058810119716625,0.22089405512750793,0.18902828383159692,0.16834894338204298,null,0.6998662049474887,0.9407299468524176,0.9873687525436975,0.9893097965353733,0.9518108224601683,0.8344717512555925,0.6662244640805142,0.4991153891907103,0.36858490958976464,0.2784277212846777,0.22938801117499016,0.20125089098463342,0.1824169017125553,0.17111443694920742,null,-0.10776919686628948,-0.06091937026643138,0.04257537987909804,0.14096962504577096,0.14096962504577096,0.14096962504577096,0.14096962504577096,0.10457990009916521,0.14357787124867732,0.05426549051167276,-0.16199312853162198,null,null,null],[0.9987065088423814,1.0,0.997055034386246,0.9765246813717062,0.8864966720054854,0.48096546210798546,-0.15288525481540538,-0.33928752619170216,-0.3818409076685075,-0.3855647962250082,-0.3737323202275306,-0.3473793025624731,-0.3147751851057776,-0.28292345553394066,-0.254156880866862,0.1870949217157546,0.16490033173298194,0.07327808783157264,-0.055498823589712636,-0.14850805784045135,-0.17797940677641458,-0.1485044119267923,-0.09562693380478779,-0.04047052521646606,0.004568839962957868,0.045199893188593944,0.059204474630556454,0.04643367110971518,0.04982738757878069,0.05163166709998416,null,0.9997733471170471,0.9997168277500108,0.9955957048998385,0.98216979842811,0.9538336751655445,0.8937032677905475,0.7776577952120394,0.6197816421725507,0.46909507288461294,0.354212615905673,0.2760779949088394,0.225164669592263,0.19244679081608362,0.17118345604533455,null,0.6630908929141451,0.924294056576867,0.9822313367731863,0.9912843727428565,0.9592554417708409,0.8485485211431795,0.6825111972034416,0.513474279432723,0.3802064935442731,0.28787999026558786,0.23736082366651795,0.2082858597075348,0.1889835851763063,0.1773887736060996,null,-0.10321585425886462,-0.06298113144812215,0.04011704182712409,0.13940914750644562,0.13940914750644562,0.13940914750644562,0.13940914750644562,0.1081672547856419,0.14719335262346603,0.055209153512080195,-0.16173293983658038,null,null,null],[0.9927266474774424,0.997055034386246,1.0,0.9893106675811199,0.9110959409057895,0.5125107644462621,-0.13545265872015602,-0.33541441664216803,-0.3869410323709103,-0.3941141987348644,-0.38397081481257045,-0.3585065961261176,-0.32631685201078586,-0.2941878305403115,-0.26465938771540254,0.22194671296466204,0.19997833045145977,0.10900274970789177,-0.024083434329589294,-0.12189200047174396,-0.15580329580687968,-0.13056157500871488,-0.08024911904932854,-0.026033065081095118,0.018500226068799877,0.05966676034648442,0.07326265912671312,0.06064264975399587,0.06399197141769031,0.06582679030784024,null,0.9954414098946778,0.9985961598111373,0.9997433081136679,0.9924979375524138,0.9692872105443338,0.9131642899415526,0.7987282841793035,0.6389171324359982,0.48467492994007766,0.36654611130528486,0.28594506371436323,0.23325556724125024,0.19930913517007695,0.17721260442581624,null,0.6184817621115059,0.8943242666748884,0.9673785723405981,0.9901107543795798,0.9701017081735109,0.869931916548704,0.705533591290703,0.5315504579134664,0.3953437077301142,0.30107793153851714,0.2492093266323299,0.2191211084158842,0.19925407813316398,0.1872758111363793,null,-0.09432100845998467,-0.06517799464185688,0.04195458433679207,0.13962690831658642,0.13962690831658642,0.13962690831658642,0.13962690831658642,0.11239729782082285,0.15806279485313127,0.05901413439005078,-0.15638669671671035,null,null,null],[0.9684933246005298,0.9765246813717062,0.9893106675811199,1.0,0.9553784629537738,0.5922389894803826,-0.07699783169161918,-0.305956748083436,-0.37570919240251227,-0.38822161859488535,-0.3813775193753404,-0.3589681337900783,-0.3301971824696168,-0.30067113927593614,-0.2726008013496778,0.24744385239406805,0.22607839488810172,0.1351098527629866,-0.0012561359331228284,-0.10488668345239092,-0.14704112916066203,-0.12948480387214245,-0.083551201616675,-0.030461721945566927,0.011614905685570977,0.054012604162352866,0.06738524200339242,0.05627866829764329,0.05972379353862386,0.06177312790368055,null,0.9730852922423164,0.9811206773415176,0.9921690658836111,0.999286393470634,0.9906909089514198,0.9481391513665449,0.8429396465391268,0.6848077099423276,0.527756494873233,0.4060821444262218,0.3223265824666766,0.26707004001560347,0.23112061074678134,0.20752464206409055,null,0.5554838255971423,0.8369187427346932,0.9268597771122951,0.9755283050753244,0.9817048145810542,0.9030770598189033,0.7446924533580668,0.5649065985671725,0.4274713424470454,0.3321085467937833,0.2788288444752117,0.2469445660849643,0.2256082757206938,0.21248366316645279,null,-0.09330742229723808,-0.06920482128078533,0.0400426283410829,0.1303746267258068,0.1303746267258068,0.1303746267258068,0.1303746267258068,0.0974558147457771,0.16773533172885607,0.058890727519460916,-0.14247180357310976,null,null,null],[0.8743543500933295,0.8864966720054854,0.9110959409057895,0.9553784629537738,1.0,0.7835405720287821,0.13350470571328776,-0.1443943984625001,-0.2489595038684389,-0.2757346423515373,-0.28211889482926567,-0.27329849994592575,-0.25913109226679104,-0.24370982476384204,-0.22745784063253008,0.23562152296876415,0.21630872834731324,0.11711365706803331,-0.023935711576392547,-0.13324097504700008,-0.19687550528819295,-0.20277468416742478,-0.1745827673616076,-0.13154625541934692,-0.10009963743579373,-0.06106605932889278,-0.050335787207229865,-0.05604295703461328,-0.052355818092560666,-0.04973725927227926,null,0.8810140233013052,0.8946734115707783,0.9191377997859167,0.9530887699687219,0.983843965637025,0.9878849353043445,0.9284103280178932,0.8016262853615758,0.65990671701217,0.5439764783491953,0.461100084722861,0.4047247138632895,0.36690837502940077,0.34136697516415515,null,0.44129690778270986,0.7153496515178884,0.8176808704504206,0.9117413058160457,0.9680412515768191,0.9423374130390367,0.8163264306860386,0.6467966116589485,0.5185802625554186,0.4262953405113823,0.37140392985247567,0.3360911476988193,0.31146642735894997,0.29540036866649694,null,-0.1479857966920505,-0.10921529381254726,0.012121357742498501,0.047548944324032186,0.047548944324032186,0.047548944324032186,0.047548944324032186,0.0045840518409506524,0.11543022906575169,0.00604594911681708,-0.11970383564073848,null,null,null],[0.4671350592356763,0.48096546210798546,0.5125107644462621,0.5922389894803826,0.7835405720287821,1.0,0.6877051855812445,0.4205122677714902,0.28560023738740814,0.23245238919268182,0.19182931581533358,0.158195517462454,0.12583073097281666,0.09633767748831425,0.07428103604719896,0.04778717330727739,0.03705197065546182,-0.08257595679848072,-0.22317476619525353,-0.3177222533544607,-0.40114842630887476,-0.45558966998086103,-0.4767669552991881,-0.47047897865225874,-0.4664077407295226,-0.4428250579858722,-0.4335127996986873,-0.42747115762086124,-0.4260823167233506,-0.42426985415227225,null,0.4745654672687077,0.4909199933915245,0.5258809263480431,0.5928677058893977,0.6932366011749357,0.8155469006900545,0.9118920425497341,0.9331831779717218,0.8972397492533037,0.8454219998835788,0.7981790499568282,0.7608082639473474,0.7326612381569966,0.7118292425016256,null,0.13395269217672937,0.3318655077124155,0.426926230695993,0.5556690216191049,0.69369940748589,0.8157350766308241,0.8314073621828524,0.7640218436777593,0.7003138550444967,0.6428106271408724,0.5997365362059278,0.5673346402098163,0.542820199076342,0.5252091622541846,null,-0.3570400890016306,-0.2840053310558127,-0.14905040667381103,-0.16163229520105057,-0.16163229520105057,-0.16163229520105057,-0.16163229520105057,-0.2007099742048656,-0.057074685037339035,-0.09812371105262144,-0.06977444635633911,null,null,null],[-0.16201106388872727,-0.15288525481540538,-0.13545265872015602,-0.07699783169161918,0.13350470571328776,0.6877051855812445,1.0,0.9344340720542244,0.849526493711345,0.7873786808519503,0.7196454724695935,0.6453858620364744,0.5674549175547685,0.49492685626308586,0.4380435493897681,-0.1352230557122217,-0.13219165203332278,-0.22004040671046898,-0.29847888466467726,-0.3311305198492892,-0.3805747842757531,-0.4594388676450665,-0.5319118195321842,-0.5757190448973668,-0.6071487705887356,-0.6174792195610049,-0.6159551652543749,-0.6031596733033556,-0.606663493600053,-0.6078299892596728,null,-0.1569196718929768,-0.1478096767344335,-0.12649184950506628,-0.07173717891262144,0.03821467423834562,0.22692995664932583,0.4669435843827218,0.668462073248341,0.7876214672907498,0.8435913557165007,0.8647630718596347,0.8694587303163143,0.8670293105460967,0.8621907109972656,null,-0.24303982929704498,-0.19342834962989566,-0.1487009905409202,-0.07082452868097436,0.06633906820556591,0.320135812006727,0.5334247620019564,0.6423400200137608,0.6852166043316613,0.6923408763817419,0.6803920094425555,0.6648890329729337,0.6510181867395612,0.6399172383238239,null,-0.4107203768785508,-0.3392061156535079,-0.24856118103415248,-0.23057828651964876,-0.23057828651964876,-0.23057828651964876,-0.23057828651964876,-0.2657445468423949,-0.20035361749828737,-0.13818450877796132,0.020879354562979017,null,null,null],[-0.3427558056115047,-0.33928752619170216,-0.33541441664216803,-0.305956748083436,-0.1443943984625001,0.4205122677714902,0.9344340720542244,1.0,0.9758434212736986,0.9306180772458212,0.8689271489229462,0.7940317498330949,0.711709719316369,0.6336266633620693,0.571099494125084,-0.1794309313738332,-0.17234984165586048,-0.23666643168842036,-0.28222842135242815,-0.283697374713562,-0.3038957216148612,-0.37163548435996546,-0.4519767849065143,-0.5117243998170665,-0.5547682838110182,-0.579139743460693,-0.5836092809948853,-0.5720075257986463,-0.578771821478439,-0.5822067584775913,null,-0.3406429772804982,-0.3385258433000441,-0.3311492908280835,-0.29797897728434625,-0.2112701139724854,-0.03589043522977169,0.22000654690773247,0.4676525318005419,0.6383188940529261,0.7353818382603569,0.7856537332473126,0.8100738141375599,0.8208991351157773,0.8250297672761776,null,-0.2898661387628423,-0.31071156721603044,-0.30322790107971426,-0.27330647511390843,-0.17656261733540576,0.07287135248840115,0.348696848420758,0.5364655500121467,0.6258980257719396,0.6633032464655384,0.6691059000257358,0.6648582851630354,0.658630568254277,0.6524755704986407,null,-0.3689067245871536,-0.31001701364465584,-0.2380991487446512,-0.18313889109957082,-0.18313889109957082,-0.18313889109957082,-0.18313889109957082,-0.22303257202279558,-0.20480580390269074,-0.12100281948540727,0.06426904365331296,null,null,null],[-0.3805455707444512,-0.3818409076685075,-0.3869410323709103,-0.37570919240251227,-0.2489595038684389,0.28560023738740814,0.849526493711345,0.9758434212736986,1.0,0.9817918228151933,0.9382015353692589,0.8753067093029008,0.8003992033453688,0.7264331064020032,0.6651176799028494,-0.21650077069346144,-0.20862592117426712,-0.26751294055987973,-0.30494254083384803,-0.29284868013069293,-0.29488071565916596,-0.3477680800786877,-0.42170588878660753,-0.48458969397716206,-0.5314397007222621,-0.5610864640236078,-0.5681305058507871,-0.5590216268502747,-0.5686576212812876,-0.5741450523721254,null,-0.38106062667332524,-0.38385918427534815,-0.3852665066507563,-0.3656723558975247,-0.2953143116396565,-0.13661305761959983,0.11060300304986083,0.36739749072076194,0.5570628131247808,0.673056611996994,0.7386717374862264,0.7746060267865991,0.7938146655579041,0.8039603352103871,null,-0.2510032612030012,-0.3105574343678812,-0.32735482978929825,-0.32646234245499206,-0.25785995621960134,-0.03581708014366125,0.24872602721463608,0.4775507176742429,0.5964656513293751,0.6541668479423025,0.6732267831680434,0.6778862623314512,0.6776921499469555,0.6753231048192486,null,-0.3647130995454481,-0.3119071889630579,-0.23489192103620443,-0.14215452686990812,-0.14215452686990812,-0.14215452686990812,-0.14215452686990812,-0.19487265098402,-0.18735385120488585,-0.09764586524804554,0.0827588079525182,null,null,null],[-0.38074948300560046,-0.3855647962250082,-0.3941141987348644,-0.38822161859488535,-0.2757346423515373,0.23245238919268182,0.7873786808519503,0.9306180772458212,0.9817918228151933,1.0,0.9851469529283279,0.9427273869941458,0.8817550000238255,0.8165733024724574,0.7595696333651354,-0.2540156121298813,-0.24622238226598578,-0.30668253736230605,-0.3447881966282082,-0.3281907866579895,-0.32068123032964957,-0.3619710561105367,-0.4264364799681667,-0.4853377498912816,-0.5342346096123697,-0.5682684893630197,-0.5772030256066797,-0.5716386311723568,-0.5842720847039786,-0.5919118513990722,null,-0.3833769674508045,-0.38860216728321495,-0.3928560297506171,-0.37785267869912686,-0.3146197557773142,-0.16712294821016457,0.06746694961142205,0.31905550719299425,0.5136071979107548,0.6398413391815536,0.7159360216410676,0.760764168293601,0.7869571814880731,0.8023584235216548,null,-0.2020262805254271,-0.29449534131795224,-0.32603599153090185,-0.3376395540193939,-0.2810581220674317,-0.08169699701245037,0.19138414498110645,0.43099872884153867,0.5757304446262189,0.653680664666576,0.6861554042417068,0.6999436780618559,0.7059620482066533,0.7074725814137752,null,-0.37911394023465533,-0.3270152290416313,-0.2435412183294057,-0.12100426902808328,-0.12100426902808328,-0.12100426902808328,-0.12100426902808328,-0.18527966295047987,-0.1761988296046683,-0.07916417315444216,0.08418505798919508,null,null,null],[-0.36664080362215856,-0.3737323202275306,-0.38397081481257045,-0.3813775193753404,-0.28211889482926567,0.19182931581533358,0.7196454724695935,0.8689271489229462,0.9382015353692589,0.9851469529283279,1.0,0.9840033141868112,0.9425835415495301,0.8905741936461832,0.8410102548363474,-0.2676081340492904,-0.26015246204776915,-0.3229237386919667,-0.36843417166242515,-0.3550120344030296,-0.3438657939237304,-0.37745184135293236,-0.43406294178307375,-0.4886213527137759,-0.5385612916688383,-0.5761196691331647,-0.5881975560729477,-0.5879512207521963,-0.6032443967240736,-0.612856788701158,null,-0.3706718099211891,-0.37723548536493196,-0.38294227444195567,-0.3713233335095191,-0.3148091301633157,-0.17964163205915115,0.03851617060489863,0.2781633068059905,0.4700436972164935,0.6005560473324937,0.6837266631151429,0.7357289932758355,0.7680933899317774,0.7883782687962941,null,-0.1588238410294859,-0.27319235725398133,-0.31306947420524645,-0.3318695052884281,-0.28413081619800046,-0.10799898838144155,0.14568753435559018,0.38267995435125324,0.5403163649413216,0.6333854933816533,0.6787233425963525,0.7015790908499256,0.7140151980567562,0.7196749762195078,null,-0.38836136424413736,-0.3516967665586886,-0.2678600570159015,-0.12259258159875006,-0.12259258159875006,-0.12259258159875006,-0.12259258159875006,-0.19387833857773532,-0.17661373396540792,-0.07582490365684737,0.06026636082890274,null,null,null],[-0.33904251983011224,-0.3473793025624731,-0.3585065961261176,-0.3589681337900783,-0.27329849994592575,0.158195517462454,0.6453858620364744,0.7940317498330949,0.8753067093029008,0.9427273869941458,0.9840033141868112,1.0,0.9851968689295906,0.9517825413372589,0.9135482414279407,-0.25986757484460915,-0.2529939331073411,-0.3177047410951906,-0.3738552270202408,-0.36657635910159,-0.3549001301382539,-0.3827705851275637,-0.4323796601487274,-0.4824125548707636,-0.5328090538668735,-0.5726153721176845,-0.5901335972105997,-0.5975783442146689,-0.6156626919141733,-0.6273626954124132,null,-0.34384976000561757,-0.35110327186926854,-0.35779148819814505,-0.3493752209943411,-0.2998631920064766,-0.17848239136829577,0.019920307587237816,0.24245499061184758,0.4257876995433111,0.555289870878285,0.6422170600866989,0.6998236103395454,0.737741486563713,0.7627192179956053,null,-0.1197656752646836,-0.24389706619935297,-0.2874420052554458,-0.31010807121099865,-0.2702881218906299,-0.11849884121721761,0.11094483637643637,0.33734986222139585,0.49809992579105267,0.6000533492807064,0.6585784066424302,0.6916035448563307,0.7112508934559618,0.7216498949603614,null,-0.3888070934224512,-0.37619203315965194,-0.2886409375625211,-0.1298820598378074,-0.1298820598378074,-0.1298820598378074,-0.1298820598378074,-0.20975051471768402,-0.18212831297758644,-0.08611921985097137,0.015900314316366345,null,null,null],[-0.3059236166655379,-0.3147751851057776,-0.32631685201078586,-0.3301971824696168,-0.25913109226679104,0.12583073097281666,0.5674549175547685,0.711709719316369,0.8003992033453688,0.8817550000238255,0.9425835415495301,0.9851968689295906,1.0,0.9895879657591842,0.9663982397010349,-0.24639026067658365,-0.24021428256635494,-0.3063639751240659,-0.37112188780693334,-0.3681663351670022,-0.35738633072542897,-0.38062328832245884,-0.4237604347339876,-0.46914561525349074,-0.516609919496548,-0.55576124480837,-0.5775645410902726,-0.5930130694941472,-0.6138231577384609,-0.6275991027034596,null,-0.3110580658462247,-0.31857950745063396,-0.32609629320542194,-0.3211337067061801,-0.2790434538318386,-0.17229032125053612,0.004666850415710133,0.20723513806298777,0.3785025095103188,0.5034165299900775,0.5908162627738848,0.6517021048564209,0.6938718841048513,0.7228395440733654,null,-0.0883449679053499,-0.21297913023111453,-0.25584953968961577,-0.28081591566187064,-0.24920141442706784,-0.12237894653181071,0.07998330633603877,0.2909193594417058,0.4488891492202853,0.5542298680759754,0.6212559574688615,0.6643648419787013,0.6918191760767599,0.7074566203870817,null,-0.3846822353876275,-0.3905140135418144,-0.2947828281510614,-0.13969924153020197,-0.13969924153020197,-0.13969924153020197,-0.13969924153020197,-0.20845798133866464,-0.17753324686095018,-0.09930240159059459,-0.03363975294570906,null,null,null],[-0.27417715330800074,-0.28292345553394066,-0.2941878305403115,-0.30067113927593614,-0.24370982476384204,0.09633767748831425,0.49492685626308586,0.6336266633620693,0.7264331064020032,0.8165733024724574,0.8905741936461832,0.9517825413372589,0.9895879657591842,1.0,0.9923701053902242,-0.22957722127521987,-0.22406414549205733,-0.2905487302074565,-0.36114633854021194,-0.36107247030627165,-0.34996206782144773,-0.36821017920505705,-0.4048003349489347,-0.44519108188014456,-0.4879806839004405,-0.5251860082495756,-0.5489745923398835,-0.5701607568186035,-0.5930053921808831,-0.6085825420264508,null,-0.27927037639898955,-0.28660305474344405,-0.2944293113506854,-0.2924217865713889,-0.2573869190554756,-0.16440323449212815,-0.00767400308757889,0.17541941388987226,0.3339332386411516,0.45272109851411696,0.5385537241775434,0.6005691194554597,0.6451814872826194,0.6768294717220694,null,-0.06764020162569638,-0.18668588373347553,-0.22555506557465926,-0.2518141645324064,-0.22745316694099194,-0.12249605652101027,0.05487071636528445,0.24965849168219756,0.4022451769898975,0.5080134298018757,0.5799240927557876,0.6301288185215701,0.6641334279140618,0.6846545045700655,null,-0.37559657964367604,-0.39481683637260045,-0.2915611854813595,-0.13706048485356467,-0.13706048485356467,-0.13706048485356467,-0.13706048485356467,-0.19023999148599066,-0.16343938365726218,-0.09967583064972485,-0.06809637732131964,null,null,null],[-0.24589932752296653,-0.254156880866862,-0.26465938771540254,-0.2726008013496778,-0.22745784063253008,0.07428103604719896,0.4380435493897681,0.571099494125084,0.6651176799028494,0.7595696333651354,0.8410102548363474,0.9135482414279407,0.9663982397010349,0.9923701053902242,1.0,-0.2122103974618755,-0.20728499484021545,-0.2737666863055839,-0.34735007458229994,-0.3473942184075537,-0.3343739448372409,-0.34764928907532977,-0.37823898013062723,-0.4138323001923563,-0.45107735378237995,-0.48557137876577766,-0.5098255741200076,-0.5344460569293438,-0.5584957499013474,-0.5756462847631992,null,-0.2507254380289482,-0.25756930406192224,-0.2652240520438937,-0.26530568178737135,-0.2361073627316342,-0.15423909366465943,-0.013728710451879731,0.15320381395116656,0.30039920791767377,0.4129485270930318,0.4961657093097265,0.5578098342758955,0.603307491592607,0.6364017816598575,null,-0.0555351796114827,-0.1659075570685872,-0.19928004250653203,-0.2255389468801994,-0.20634869331764508,-0.1163955741976814,0.041907598692461884,0.22269260544901737,0.3691266485751871,0.4734374047499809,0.5475544931849237,0.6019569117446549,0.6404638777947643,0.6654525353870188,null,-0.365701856573172,-0.3904990912817707,-0.27524724520976396,-0.11962787881022413,-0.11962787881022413,-0.11962787881022413,-0.11962787881022413,-0.15669384053006422,-0.13990604343198323,-0.08922881460118146,-0.08403677577685573,null,null,null],[0.1483982505331202,0.1870949217157546,0.22194671296466204,0.24744385239406805,0.23562152296876415,0.04778717330727739,-0.1352230557122217,-0.1794309313738332,-0.21650077069346144,-0.2540156121298813,-0.2676081340492904,-0.25986757484460915,-0.24639026067658365,-0.22957722127521987,-0.2122103974618755,1.0,0.9997457775990334,0.9631381058258227,0.8557930094338483,0.7495627799128293,0.6795357672512806,0.6133545145187088,0.5550952951854655,0.5086221544411577,0.47484625926386165,0.4369234560982288,0.39573220194235603,0.3752181023747274,0.37529605189859894,0.37614966728790605,null,0.17153174876379096,0.19764194740023502,0.22060926670537606,0.23422905594659554,0.22428919420472587,0.190131552382781,0.13869990663954787,0.0754499449440899,0.013988549493973964,-0.03438301994266942,-0.06703148972194344,-0.0880214716040251,-0.10131166778484385,-0.10983840587209502,null,-0.39519106935859744,-0.062238616269377385,0.08074116860059256,0.15804798257235453,0.19341260201244925,0.24096180679871707,0.252817471469197,0.21303415468666395,0.15368405643462094,0.1106323745297095,0.08512538240076652,0.06858845234212564,0.059749699846046535,0.053944925664123566,null,0.08012656519571972,-0.02432366157449713,0.0287275761963807,-0.02138067478620127,-0.02138067478620127,-0.02138067478620127,-0.02138067478620127,0.04079416629679853,-0.018361538274368237,-0.1089022817459301,-0.10825856961217978,null,null,null],[0.12606774948895544,0.16490033173298194,0.19997833045145977,0.22607839488810172,0.21630872834731324,0.03705197065546182,-0.13219165203332278,-0.17234984165586048,-0.20862592117426712,-0.24622238226598578,-0.26015246204776915,-0.2529939331073411,-0.24021428256635494,-0.22406414549205733,-0.20728499484021545,0.9997457775990334,1.0,0.9653706870565535,0.8605526320794425,0.75601940082571,0.6863803322696926,0.6192503361837625,0.5595428035008901,0.5116210922662647,0.4766820474739549,0.43768508761497277,0.39601462915218305,0.3757144191709485,0.37571514795298727,0.3765311787189305,null,0.14927527378644648,0.1755019801774203,0.19867233865742728,0.21267347952345417,0.20335974175815796,0.17045925880334034,0.12149042499983811,0.06160237728243208,0.0033385927879909993,-0.04260397352624611,-0.07360108560827054,-0.09351491891896489,-0.10611323442468554,-0.11419007455699969,null,-0.41215080242968233,-0.0837877882614503,0.05849348285453885,0.1359467252292263,0.17222526732973398,0.22253701057313596,0.23824743612742963,0.20215995424673708,0.14561476059945128,0.1044983437639671,0.08004130260367615,0.06410102948439922,0.05566756457255774,0.050104215597806485,null,0.08291579529795777,-0.02294320836443842,0.027930166136345514,-0.02463737300058211,-0.02463737300058211,-0.02463737300058211,-0.02463737300058211,0.038519945621524394,-0.021742630933709938,-0.11054595071538373,-0.10494399398738977,null,null,null],[0.035213704527108265,0.07327808783157264,0.10900274970789177,0.1351098527629866,0.11711365706803331,-0.08257595679848072,-0.22004040671046898,-0.23666643168842036,-0.26751294055987973,-0.30668253736230605,-0.3229237386919667,-0.3177047410951906,-0.3063639751240659,-0.2905487302074565,-0.2737666863055839,0.9631381058258227,0.9653706870565535,1.0,0.9411461089331555,0.8568461407632882,0.7973753175738734,0.7352931540692599,0.6765050879386579,0.6274854857924406,0.5904292965827718,0.5510323928794004,0.5092824817506011,0.4901709093922946,0.4906662384732752,0.4919763427161281,null,0.05788988264157038,0.08408536454720833,0.10747103006450683,0.11951497732353178,0.10283354368100658,0.05632157464624113,-0.005780487432470843,-0.07208045527781926,-0.13036789038922306,-0.17393852677486685,-0.20249512936382671,-0.22059370728196806,-0.23201303475079613,-0.23932582258005466,null,-0.46515498804470656,-0.1731264235406172,-0.039057668508572944,0.035632088256980575,0.06462506726451152,0.10853478742035003,0.12533962916309715,0.0924794170663489,0.04104050443554507,0.004517293094881803,-0.01627963107266747,-0.029674037877883756,-0.03653189451265863,-0.04134262513234639,null,0.33368426795245754,0.10135401881096204,0.10192134561586708,0.021516325866679814,0.021516325866679814,0.021516325866679814,0.021516325866679814,0.08078487912210167,0.02146544974392806,-0.07318633615563323,-0.06578546744275325,null,null,null],[-0.08928935752834413,-0.055498823589712636,-0.024083434329589294,-0.0012561359331228284,-0.023935711576392547,-0.22317476619525353,-0.29847888466467726,-0.28222842135242815,-0.30494254083384803,-0.3447881966282082,-0.36843417166242515,-0.3738552270202408,-0.37112188780693334,-0.36114633854021194,-0.34735007458229994,0.8557930094338483,0.8605526320794425,0.9411461089331555,1.0,0.9691848564710758,0.9325107140203247,0.8829275572622568,0.8289292866458564,0.7802689996388239,0.7389356636720006,0.701496913745616,0.6616012395961653,0.6481925724013526,0.6490276826416949,0.6507089295699527,null,-0.06916140540874222,-0.046041627403823226,-0.025791635953285076,-0.01715739069767353,-0.04029764044524212,-0.09733464352990351,-0.16674697564649,-0.231367274430726,-0.2820104259138586,-0.31777646390708747,-0.34109275316414756,-0.3562687521675325,-0.3661986985601594,-0.3727678667028458,null,-0.4943534169118446,-0.2689615165013577,-0.16691581392718352,-0.10316174456811714,-0.0831593513926743,-0.04085229072180353,-0.010037176765548585,-0.023341427497163104,-0.055632245170645085,-0.08007534513199256,-0.09490837642527265,-0.10579512806205865,-0.11221071507958297,-0.11696127189235354,null,0.46884193939006485,0.41559521680069966,0.28887362107809794,0.13456237885564004,0.13456237885564004,0.13456237885564004,0.13456237885564004,0.15710517846996422,0.1181254353282738,0.005485259070115416,0.04142405600668417,null,null,null],[-0.17719832367993865,-0.14850805784045135,-0.12189200047174396,-0.10488668345239092,-0.13324097504700008,-0.3177222533544607,-0.3311305198492892,-0.283697374713562,-0.29284868013069293,-0.3281907866579895,-0.3550120344030296,-0.36657635910159,-0.3681663351670022,-0.36107247030627165,-0.3473942184075537,0.7495627799128293,0.75601940082571,0.8568461407632882,0.9691848564710758,1.0,0.9844545522939766,0.9474077899806512,0.8992310058576304,0.8519857299277734,0.8116823895870046,0.7753336763496365,0.7349555737989232,0.72432011218773,0.7241847511178147,0.7249813177219242,null,-0.16013167858647906,-0.1405278803086492,-0.1240094708322187,-0.12008654759364128,-0.14758746406220474,-0.20831858943957288,-0.27573117155007987,-0.3302527863532424,-0.36745022414551115,-0.3918687381523025,-0.40761089216206636,-0.4179707396479716,-0.424867391112564,-0.4294008263704561,null,-0.4869520295995338,-0.32726884509676657,-0.2505040561506559,-0.20185242632489103,-0.1893809175445847,-0.14395220817741297,-0.0963451167409195,-0.08532095121237447,-0.09680130715094927,-0.10871782176086149,-0.11714199428021814,-0.12388408034775585,-0.127900830049867,-0.1307186328333202,null,0.5089311204976518,0.5310761724293415,0.4881877733561609,0.22375432534201475,0.22375432534201475,0.22375432534201475,0.22375432534201475,0.23426111881837602,0.18231140051372693,0.04606995272945698,0.1086185408826646,null,null,null],[-0.2031834356108743,-0.17797940677641458,-0.15580329580687968,-0.14704112916066203,-0.19687550528819295,-0.40114842630887476,-0.3805747842757531,-0.3038957216148612,-0.29488071565916596,-0.32068123032964957,-0.3438657939237304,-0.3549001301382539,-0.35738633072542897,-0.34996206782144773,-0.3343739448372409,0.6795357672512806,0.6863803322696926,0.7973753175738734,0.9325107140203247,0.9844545522939766,1.0,0.9874530308023668,0.9563457241035559,0.9195343904034826,0.8838670925092031,0.8472783508789457,0.8084511354845226,0.7969978292649343,0.7953712026023672,0.7948697776448397,null,-0.1881503684300412,-0.17135281495307855,-0.15891320625436955,-0.16202776817525108,-0.19964531498197216,-0.27028528044992833,-0.3431567529351809,-0.3951480029917988,-0.4249962808317653,-0.4419441291532033,-0.4519298190195751,-0.45830617504980403,-0.4624870479883097,-0.4650589179630746,null,-0.4600499349144805,-0.3313410099380636,-0.2692611606907243,-0.23798804333701123,-0.23904218631561633,-0.20002517483866583,-0.14474645466128186,-0.11530343742695773,-0.11102494110634205,-0.11254601294709915,-0.11413070367292442,-0.11677763578422785,-0.11824830232846457,-0.11903589955056275,null,0.5298636918726815,0.5761682329057106,0.5348140022059836,0.370985344570675,0.370985344570675,0.370985344570675,0.370985344570675,0.32933751860609445,0.24004300698029477,0.10716157565725709,0.14600131190976656,null,null,null],[-0.1699210689681604,-0.1485044119267923,-0.13056157500871488,-0.12948480387214245,-0.20277468416742478,-0.45558966998086103,-0.4594388676450665,-0.37163548435996546,-0.3477680800786877,-0.3619710561105367,-0.37745184135293236,-0.3827705851275637,-0.38062328832245884,-0.36821017920505705,-0.34764928907532977,0.6133545145187088,0.6192503361837625,0.7352931540692599,0.8829275572622568,0.9474077899806512,0.9874530308023668,1.0,0.9897683065845435,0.9673477758881278,0.9399258643405448,0.9068062614683631,0.8709809195126132,0.8584313091173441,0.8559937531217837,0.8546268673114656,null,-0.1571197502297696,-0.14312072671123846,-0.13438415143972954,-0.144099919435932,-0.19265313173870932,-0.27920380568970266,-0.3708335875349065,-0.4366974946418701,-0.47300854162521105,-0.49180609925000757,-0.5017264873508527,-0.5074378639725518,-0.5108099727203244,-0.5125534717114804,null,-0.3878823929411568,-0.28071440520470736,-0.2314976800645238,-0.21480921911087042,-0.2318801093483306,-0.21749666601135542,-0.17713504761726584,-0.14742293485499494,-0.1379232856851143,-0.13486759590599665,-0.1321724059629835,-0.1318322062882349,-0.13133267392841658,-0.13046275271295418,null,0.5445799333440812,0.6076388539095755,0.5688857826131327,0.49141753548682215,0.49141753548682215,0.49141753548682215,0.49141753548682215,0.4087536982863699,0.2946313789098689,0.16064261034473887,0.16602705829062872,null,null,null],[-0.1140148136313685,-0.09562693380478779,-0.08024911904932854,-0.083551201616675,-0.1745827673616076,-0.4767669552991881,-0.5319118195321842,-0.4519767849065143,-0.42170588878660753,-0.4264364799681667,-0.43406294178307375,-0.4323796601487274,-0.4237604347339876,-0.4048003349489347,-0.37823898013062723,0.5550952951854655,0.5595428035008901,0.6765050879386579,0.8289292866458564,0.8992310058576304,0.9563457241035559,0.9897683065845435,1.0,0.9931320696562405,0.9753593173307833,0.9477892004488342,0.9159394066214799,0.9025658986112153,0.8999984782454372,0.8982443381186975,null,-0.10304126484447049,-0.0909551263571683,-0.0842668815043948,-0.09809896060724237,-0.15478049545810124,-0.25565320776526634,-0.3688367292482999,-0.4555770254516788,-0.5057715149092636,-0.5320860162666002,-0.545758066986283,-0.5532550145483809,-0.5573819777310642,-0.5593235420086832,null,-0.3106713003438776,-0.2158201254195465,-0.17430598907960315,-0.1661984980892556,-0.19396502564473062,-0.2051556651518747,-0.1920646445220944,-0.17573422818849635,-0.16913455952795775,-0.16625259547345791,-0.16185105086558405,-0.1599371455743518,-0.1583129058471593,-0.1563286424279281,null,0.549747635051471,0.6243159242560101,0.5883938714413144,0.5802151797415172,0.5802151797415172,0.5802151797415172,0.5802151797415172,0.46645986152060914,0.3385769316477208,0.20288256199892926,0.1730394240757279,null,null,null],[-0.056830045332232015,-0.04047052521646606,-0.026033065081095118,-0.030461721945566927,-0.13154625541934692,-0.47047897865225874,-0.5757190448973668,-0.5117243998170665,-0.48458969397716206,-0.4853377498912816,-0.4886213527137759,-0.4824125548707636,-0.46914561525349074,-0.44519108188014456,-0.4138323001923563,0.5086221544411577,0.5116210922662647,0.6274854857924406,0.7802689996388239,0.8519857299277734,0.9195343904034826,0.9673477758881278,0.9931320696562405,1.0,0.9911026467166485,0.9692282406589903,0.9413553801382054,0.9277280737340642,0.9255328278170948,0.9237898813153608,null,-0.04712026177842065,-0.03601404637618447,-0.029817994347652373,-0.04519062685478641,-0.10620472751913299,-0.21614973224473813,-0.3452045577533365,-0.4503957147030423,-0.515067147816554,-0.5505817657930527,-0.5697238084586316,-0.5804354274091257,-0.5864287669417757,-0.589417457752146,null,-0.24555448458245266,-0.1561608632719292,-0.11774551011217434,-0.11285484006232001,-0.14548387892989223,-0.17349009025998394,-0.18439626546642784,-0.18775028733701685,-0.18915969313174838,-0.1900782520001294,-0.1865185238250378,-0.18471079346174105,-0.18306675663193397,-0.18071426291301015,null,0.5496491896002293,0.6311681324665847,0.5970746232016051,0.6398697017258804,0.6398697017258804,0.6398697017258804,0.6398697017258804,0.5046071569384762,0.3675949941979776,0.23124356570360086,0.1728535725538251,null,null,null],[-0.010856091680734117,0.004568839962957868,0.018500226068799877,0.011614905685570977,-0.10009963743579373,-0.4664077407295226,-0.6071487705887356,-0.5547682838110182,-0.5314397007222621,-0.5342346096123697,-0.5385612916688383,-0.5328090538668735,-0.516609919496548,-0.4879806839004405,-0.45107735378237995,0.47484625926386165,0.4766820474739549,0.5904292965827718,0.7389356636720006,0.8116823895870046,0.8838670925092031,0.9399258643405448,0.9753593173307833,0.9911026467166485,1.0,0.989549011437996,0.9687446838779866,0.9560547024096867,0.9541331635337257,0.9522672639639543,null,-0.001724605862546987,0.008919493284692786,0.014476613499446383,-0.003194478388886035,-0.06825727013952834,-0.18502532073311848,-0.3256177951040047,-0.4444423493660532,-0.5206993415223758,-0.5644624960030257,-0.5891903600099778,-0.6035497463308616,-0.6117701825913128,-0.6160515072287929,null,-0.20517030052249627,-0.11164780325437063,-0.06976754662755023,-0.06748114842001998,-0.1051963827814897,-0.14787760587201712,-0.17830169213724495,-0.19808365517279972,-0.20932507819353163,-0.21526393896078902,-0.21408824058417955,-0.2122881817902291,-0.2101304464780403,-0.20682903285811036,null,0.5454652089827875,0.6228936886805916,0.6016043781717778,0.6619849821624162,0.6619849821624162,0.6619849821624162,0.6619849821624162,0.5960191818728405,0.4272074123832121,0.27535534610199724,0.18337892464319017,null,null,null],[0.03034843828990051,0.045199893188593944,0.05966676034648442,0.054012604162352866,-0.06106605932889278,-0.4428250579858722,-0.6174792195610049,-0.579139743460693,-0.5610864640236078,-0.5682684893630197,-0.5761196691331647,-0.5726153721176845,-0.55576124480837,-0.5251860082495756,-0.48557137876577766,0.4369234560982288,0.43768508761497277,0.5510323928794004,0.701496913745616,0.7753336763496365,0.8472783508789457,0.9068062614683631,0.9477892004488342,0.9692282406589903,0.989549011437996,1.0,0.990756820808012,0.9806867284240488,0.978973775317327,0.9771530050384323,null,0.03908943852710216,0.04975869222385692,0.05600663495342158,0.03874551531777362,-0.027012411613743674,-0.14634583290574985,-0.2937670023571123,-0.4223772199518057,-0.5081529857409313,-0.5595705250069132,-0.589904848442071,-0.6081679751347685,-0.6189841216872073,-0.6249584292605089,null,-0.17174350230944255,-0.07293381284445906,-0.02750677914390417,-0.023945637927342934,-0.06170271896350975,-0.11350185879713937,-0.15858673791987865,-0.191638849881766,-0.21300949202641814,-0.2248481454494882,-0.22600205782882862,-0.2244803720129817,-0.22253486734681116,-0.21920422705775466,null,0.54654488799004,0.633271225779089,0.6099187800940548,0.6629620394353473,0.6629620394353473,0.6629620394353473,0.6629620394353473,0.6400650220455205,0.5380908391812491,0.3501889707980904,0.21342763214233845,null,null,null],[0.045036444905753543,0.059204474630556454,0.07326265912671312,0.06738524200339242,-0.050335787207229865,-0.4335127996986873,-0.6159551652543749,-0.5836092809948853,-0.5681305058507871,-0.5772030256066797,-0.5881975560729477,-0.5901335972105997,-0.5775645410902726,-0.5489745923398835,-0.5098255741200076,0.39573220194235603,0.39601462915218305,0.5092824817506011,0.6616012395961653,0.7349555737989232,0.8084511354845226,0.8709809195126132,0.9159394066214799,0.9413553801382054,0.9687446838779866,0.990756820808012,1.0,0.9954607512140518,0.994155983783168,0.9925958393202434,null,0.05336754594843626,0.0636438760567432,0.06969220743924483,0.052105830196080435,-0.014068847878966598,-0.1333430013818309,-0.2819022300967705,-0.4130453088076247,-0.5015849417864476,-0.5554869861784234,-0.5881251691364182,-0.6084671104459219,-0.6209554780159785,-0.628164280669339,null,-0.15603149294910387,-0.055557824583738966,-0.009610797909423343,-0.007904733606035505,-0.04653802345932926,-0.10260163613697888,-0.15532492787103314,-0.19487065481960966,-0.2204882997126406,-0.23533659515337815,-0.23865818546117268,-0.23793455919184348,-0.23647721889373566,-0.2334330920622183,null,0.5420448224081333,0.6333455920436868,0.5959639366687688,0.6606539994336368,0.6606539994336368,0.6606539994336368,0.6606539994336368,0.661389002826471,0.590815584691445,0.4637017550793501,0.2668777109906922,null,null,null],[0.03254812267570896,0.04643367110971518,0.06064264975399587,0.05627866829764329,-0.05604295703461328,-0.42747115762086124,-0.6031596733033556,-0.5720075257986463,-0.5590216268502747,-0.5716386311723568,-0.5879512207521963,-0.5975783442146689,-0.5930130694941472,-0.5701607568186035,-0.5344460569293438,0.3752181023747274,0.3757144191709485,0.4901709093922946,0.6481925724013526,0.72432011218773,0.7969978292649343,0.8584313091173441,0.9025658986112153,0.9277280737340642,0.9560547024096867,0.9806867284240488,0.9954607512140518,1.0,0.9995046084103143,0.9985592396020524,null,0.040691880861707865,0.05091438079021796,0.05735763082732067,0.041070547830540025,-0.022793820442905476,-0.13899771613005182,-0.28405664283906756,-0.4122727135193504,-0.49918619332478004,-0.5527553282387287,-0.5860756317170931,-0.6076798377729238,-0.6215629668416455,-0.6299956715757211,null,-0.1619363749081991,-0.06676677457048864,-0.022066272752780173,-0.0184414456717283,-0.05547293712494948,-0.11029859605820441,-0.16198512057846148,-0.20153774910229277,-0.22798382364551473,-0.2440025577300749,-0.2491850163032916,-0.25035001001452845,-0.2502868339726223,-0.2482284848466933,null,0.5402009474381795,0.6427670529910671,0.5985623989782398,0.6504086405939306,0.6504086405939306,0.6504086405939306,0.6504086405939306,0.6576124142211852,0.5958361699770564,0.48994384843827105,0.3486352011085622,null,null,null],[0.03595052811090858,0.04982738757878069,0.06399197141769031,0.05972379353862386,-0.052355818092560666,-0.4260823167233506,-0.606663493600053,-0.578771821478439,-0.5686576212812876,-0.5842720847039786,-0.6032443967240736,-0.6156626919141733,-0.6138231577384609,-0.5930053921808831,-0.5584957499013474,0.37529605189859894,0.37571514795298727,0.4906662384732752,0.6490276826416949,0.7241847511178147,0.7953712026023672,0.8559937531217837,0.8999984782454372,0.9255328278170948,0.9541331635337257,0.978973775317327,0.994155983783168,0.9995046084103143,1.0,0.9997296156496244,null,0.04409279156828019,0.0542951806946571,0.060738229642065183,0.04456356383212569,-0.019301218721306388,-0.1360709323908148,-0.2826246518689125,-0.4131651842124694,-0.5025357143027471,-0.5582487022205321,-0.5933470380647573,-0.6164143231086723,-0.6314885174494567,-0.640848323237726,null,-0.15956848964278036,-0.06346610758211772,-0.019083283767318954,-0.015095787691704875,-0.05234433701550921,-0.10845539812060731,-0.1632277468426402,-0.2070329131380769,-0.2374220114263645,-0.25647249950326856,-0.2642376487698457,-0.2676201778524098,-0.2691617885277574,-0.2680731288590169,null,0.5429859658245043,0.6450885630170141,0.5966976759055949,0.6423886273421882,0.6423886273421882,0.6423886273421882,0.6423886273421882,0.6493240311646489,0.5870572528668887,0.48248669499693336,0.3439115047453975,null,null,null],[0.037717562678444526,0.05163166709998416,0.06582679030784024,0.06177312790368055,-0.04973725927227926,-0.42426985415227225,-0.6078299892596728,-0.5822067584775913,-0.5741450523721254,-0.5919118513990722,-0.612856788701158,-0.6273626954124132,-0.6275991027034596,-0.6085825420264508,-0.5756462847631992,0.37614966728790605,0.3765311787189305,0.4919763427161281,0.6507089295699527,0.7249813177219242,0.7948697776448397,0.8546268673114656,0.8982443381186975,0.9237898813153608,0.9522672639639543,0.9771530050384323,0.9925958393202434,0.9985592396020524,0.9997296156496244,1.0,null,0.045883801420323486,0.05610857205971355,0.06261365792953048,0.04663814211198581,-0.01704325036291576,-0.13395119505726596,-0.28121983761398245,-0.41307560767840534,-0.5039561841724681,-0.5610565213703952,-0.5973481575758853,-0.6214219668840246,-0.6373351761339272,-0.6473789319648245,null,-0.15885267255030938,-0.06197809032019762,-0.01773090377557112,-0.013315861697855506,-0.05046779813693143,-0.10705038453894665,-0.16348046582412631,-0.20988657266496294,-0.2428317860137828,-0.2639220615479582,-0.27346216785338484,-0.27839113895343515,-0.2811452424739466,-0.28096381115371866,null,0.5455484132576826,0.6472278456221842,0.5948881701453325,0.6357918853946367,0.6357918853946367,0.6357918853946367,0.6357918853946367,0.6419283286534933,0.5805313887944034,0.4772736189726915,0.3413872090946664,null,null,null],[null,null,null,null,null,null,null,null,null,null,null,null,null,null,null,null,null,null,null,null,null,null,null,null,null,null,null,null,null,null,null,null,null,null,null,null,null,null,null,null,null,null,null,null,null,null,null,null,null,null,null,null,null,null,null,null,null,null,null,null,null,null,null,null,null,null,null,null,null,null,null,null,null,null,null],[0.9995542079362807,0.9997733471170471,0.9954414098946778,0.9730852922423164,0.8810140233013052,0.4745654672687077,-0.1569196718929768,-0.3406429772804982,-0.38106062667332524,-0.3833769674508045,-0.3706718099211891,-0.34384976000561757,-0.3110580658462247,-0.27927037639898955,-0.2507254380289482,0.17153174876379096,0.14927527378644648,0.05788988264157038,-0.06916140540874222,-0.16013167858647906,-0.1881503684300412,-0.1571197502297696,-0.10304126484447049,-0.04712026177842065,-0.001724605862546987,0.03908943852710216,0.05336754594843626,0.040691880861707865,0.04409279156828019,0.045883801420323486,null,1.0,0.9990683876317111,0.9938409029534825,0.9792458398238367,0.9500083446679972,0.8890754772964681,0.7725903448931712,0.6150471565288523,0.46518801687552436,0.35116990421024463,0.2737338485394227,0.22333644787148232,0.1909774423007184,0.1699589614491276,null,0.6784774884567396,0.9317806175829233,0.9849310179219218,0.9907486542823938,0.9561460680086957,0.8425326800664723,0.6756302675741627,0.5075348709994092,0.37538096722385145,0.2839090844972325,0.2339725584563253,0.20527491377270246,0.18616269885064712,0.1746874204603387,null,-0.10528811226956432,-0.06216394091212498,0.040836389429343666,0.13988752692967485,0.13988752692967485,0.13988752692967485,0.13988752692967485,0.10661024281222853,0.14532568606577037,0.0546854179288094,-0.1621240963635946,null,null,null],[0.9975060851143895,0.9997168277500108,0.9985961598111373,0.9811206773415176,0.8946734115707783,0.4909199933915245,-0.1478096767344335,-0.3385258433000441,-0.38385918427534815,-0.38860216728321495,-0.37723548536493196,-0.35110327186926854,-0.31857950745063396,-0.28660305474344405,-0.25756930406192224,0.19764194740023502,0.1755019801774203,0.08408536454720833,-0.046041627403823226,-0.1405278803086492,-0.17135281495307855,-0.14312072671123846,-0.0909551263571683,-0.03601404637618447,0.008919493284692786,0.04975869222385692,0.0636438760567432,0.05091438079021796,0.0542951806946571,0.05610857205971355,null,0.9990683876317111,1.0,0.9975150968312733,0.9859986459651202,0.959217993905606,0.9002509512470198,0.7845741787993252,0.6259499358863665,0.4740424706004222,0.35807782894297957,0.27913463576813746,0.2276458640588123,0.19453319028779656,0.1730036736948216,null,0.6500703680608877,0.9156456540839857,0.9782208320851662,0.991513636757544,0.9631879254567965,0.8556199723066044,0.689926196606299,0.5192139314992186,0.38496513877471145,0.29200559474037147,0.24105862021671126,0.2116651326309539,0.19218290205156402,0.18046701868210305,null,-0.10033853046462811,-0.06356430434695756,0.040902928740322135,0.13971668164288087,0.13971668164288087,0.13971668164288087,0.13971668164288087,0.10964754408632443,0.1507798178585698,0.05645381636288801,-0.16010557607348191,null,null,null],[0.9910448007354047,0.9955957048998385,0.9997433081136679,0.9921690658836111,0.9191377997859167,0.5258809263480431,-0.12649184950506628,-0.3311492908280835,-0.3852665066507563,-0.3928560297506171,-0.38294227444195567,-0.35779148819814505,-0.32609629320542194,-0.2944293113506854,-0.2652240520438937,0.22060926670537606,0.19867233865742728,0.10747103006450683,-0.025791635953285076,-0.1240094708322187,-0.15891320625436955,-0.13438415143972954,-0.0842668815043948,-0.029817994347652373,0.014476613499446383,0.05600663495342158,0.06969220743924483,0.05735763082732067,0.060738229642065183,0.06261365792953048,null,0.9938409029534825,0.9975150968312733,1.0,0.99488227672733,0.9739499068654192,0.9198957718735407,0.8067545830381382,0.6470580762654878,0.49230802125102274,0.3736225716978854,0.2925488030724796,0.2394806887062394,0.20523520155904681,0.18291106599926238,null,0.6151498293968215,0.8892673587807084,0.9634668664824795,0.9896079782492063,0.9732895651736827,0.875674684360906,0.7116946711653165,0.5366697385640699,0.40039653690178517,0.3060601176024697,0.2540467650474386,0.22370284129643403,0.20358310036904176,0.19140389430638294,null,-0.09567024818469547,-0.06570614211780211,0.04213103143877736,0.13844891392216357,0.13844891392216357,0.13844891392216357,0.13844891392216357,0.10899235398020955,0.15916500343840562,0.05875378004188939,-0.15444270089171772,null,null,null],[0.975215109837668,0.98216979842811,0.9924979375524138,0.999286393470634,0.9530887699687219,0.5928677058893977,-0.07173717891262144,-0.29797897728434625,-0.3656723558975247,-0.37785267869912686,-0.3713233335095191,-0.3493752209943411,-0.3211337067061801,-0.2924217865713889,-0.26530568178737135,0.23422905594659554,0.21267347952345417,0.11951497732353178,-0.01715739069767353,-0.12008654759364128,-0.16202776817525108,-0.144099919435932,-0.09809896060724237,-0.04519062685478641,-0.003194478388886035,0.03874551531777362,0.052105830196080435,0.041070547830540025,0.04456356383212569,0.04663814211198581,null,0.9792458398238367,0.9859986459651202,0.99488227672733,1.0,0.9909249106063732,0.9490309781550169,0.8455090440172576,0.689623316652709,0.5344368934093863,0.4139239674146576,0.330828398946675,0.27595772615039327,0.24022312365584775,0.21673442607209392,null,0.5741488527414202,0.8533470992961515,0.9378256582565171,0.9822458212874894,0.9847207697978871,0.9035288195418882,0.7455266068611835,0.5679086001072171,0.4311715835872209,0.3359124925917057,0.28255331546813817,0.2506246273734177,0.22918658762870905,0.21596130947301007,null,-0.10347157776500594,-0.07364866901853531,0.03631836436644796,0.124200346357573,0.124200346357573,0.124200346357573,0.124200346357573,0.0903582507421737,0.15785368122494509,0.05235306613438896,-0.1464427829768741,null,null,null],[0.9450462264915256,0.9538336751655445,0.9692872105443338,0.9906909089514198,0.983843965637025,0.6932366011749357,0.03821467423834562,-0.2112701139724854,-0.2953143116396565,-0.3146197557773142,-0.3148091301633157,-0.2998631920064766,-0.2790434538318386,-0.2573869190554756,-0.2361073627316342,0.22428919420472587,0.20335974175815796,0.10283354368100658,-0.04029764044524212,-0.14758746406220474,-0.19964531498197216,-0.19265313173870932,-0.15478049545810124,-0.10620472751913299,-0.06825727013952834,-0.027012411613743674,-0.014068847878966598,-0.022793820442905476,-0.019301218721306388,-0.01704325036291576,null,0.9500083446679972,0.959217993905606,0.9739499068654192,0.9909249106063732,1.0,0.9812350782647525,0.9013158421431225,0.7618384252815539,0.614525518122857,0.4967192102118511,0.4138185004960706,0.3581661215646942,0.3213423739446035,0.2967784398903697,null,0.5302075356950815,0.8105653779841681,0.9022504263738736,0.9662380755283319,0.9920949788138769,0.937330654959121,0.795634223305737,0.6230536426755373,0.48970881540718264,0.3949806798954319,0.3402378790885659,0.3063650393974246,0.28317565782509746,0.2684475638769514,null,-0.1408388244342523,-0.1036811609133908,0.015371540096710802,0.0846899245884533,0.0846899245884533,0.0846899245884533,0.0846899245884533,0.04785732377806285,0.1339751229017424,0.02965026013562781,-0.139831482999258,null,null,null],[0.8831864482161305,0.8937032677905475,0.9131642899415526,0.9481391513665449,0.9878849353043445,0.8155469006900545,0.22692995664932583,-0.03589043522977169,-0.13661305761959983,-0.16712294821016457,-0.17964163205915115,-0.17848239136829577,-0.17229032125053612,-0.16440323449212815,-0.15423909366465943,0.190131552382781,0.17045925880334034,0.05632157464624113,-0.09733464352990351,-0.20831858943957288,-0.27028528044992833,-0.27920380568970266,-0.25565320776526634,-0.21614973224473813,-0.18502532073311848,-0.14634583290574985,-0.1333430013818309,-0.13899771613005182,-0.1360709323908148,-0.13395119505726596,null,0.8890754772964681,0.9002509512470198,0.9198957718735407,0.9490309781550169,0.9812350782647525,1.0,0.9664973221840052,0.8664496844678459,0.7434829420642761,0.638057165524637,0.5605736062990296,0.5068345387666339,0.4702599080265181,0.4452633858739077,null,0.46306505245760754,0.74334135779737,0.8417760129542379,0.9227841361075986,0.9776748350981366,0.9712249623441384,0.8692127689936564,0.7185381994848369,0.5962258390396923,0.5053294796151359,0.4498805517776955,0.41401203804095776,0.3888259262271305,0.37234143847807943,null,-0.2151436641741068,-0.16509546321078586,-0.03293515591505506,0.0303633079509316,0.0303633079509316,0.0303633079509316,0.0303633079509316,-0.010986937644191794,0.09035734946917821,-0.00037589551040408597,-0.1316262673106656,null,null,null],[0.7660887015372119,0.7776577952120394,0.7987282841793035,0.8429396465391268,0.9284103280178932,0.9118920425497341,0.4669435843827218,0.22000654690773247,0.11060300304986083,0.06746694961142205,0.03851617060489863,0.019920307587237816,0.004666850415710133,-0.00767400308757889,-0.013728710451879731,0.13869990663954787,0.12149042499983811,-0.005780487432470843,-0.16674697564649,-0.27573117155007987,-0.3431567529351809,-0.3708335875349065,-0.3688367292482999,-0.3452045577533365,-0.3256177951040047,-0.2937670023571123,-0.2819022300967705,-0.28405664283906756,-0.2826246518689125,-0.28121983761398245,null,0.7725903448931712,0.7845741787993252,0.8067545830381382,0.8455090440172576,0.9013158421431225,0.9664973221840052,1.0,0.9647062331354848,0.8868718206853731,0.8075879846316693,0.7439246198994599,0.6970824834956215,0.663700612371038,0.6400401804144683,null,0.36643631704861157,0.6344994056279974,0.7341373540665234,0.8242573861692816,0.9062373879545031,0.9663838305407741,0.9347435535761076,0.8313564734962204,0.733158721180952,0.6531939392784192,0.6000527479222807,0.563623959175998,0.5372414415618441,0.5194506802416304,null,-0.30386878766553826,-0.24022118216943686,-0.09447340567789253,-0.025356497967583592,-0.025356497967583592,-0.025356497967583592,-0.025356497967583592,-0.07389697895337957,0.031882163521834476,-0.034255757419667555,-0.11314228085584986,null,null,null],[0.6088469940237389,0.6197816421725507,0.6389171324359982,0.6848077099423276,0.8016262853615758,0.9331831779717218,0.668462073248341,0.4676525318005419,0.36739749072076194,0.31905550719299425,0.2781633068059905,0.24245499061184758,0.20723513806298777,0.17541941388987226,0.15320381395116656,0.0754499449440899,0.06160237728243208,-0.07208045527781926,-0.231367274430726,-0.3302527863532424,-0.3951480029917988,-0.4366974946418701,-0.4555770254516788,-0.4503957147030423,-0.4444423493660532,-0.4223772199518057,-0.4130453088076247,-0.4122727135193504,-0.4131651842124694,-0.41307560767840534,null,0.6150471565288523,0.6259499358863665,0.6470580762654878,0.689623316652709,0.7618384252815539,0.8664496844678459,0.9647062331354848,1.0,0.976805151284066,0.932458526644526,0.8894229261830012,0.8544046071600666,0.8277027452664305,0.8078339265396001,null,0.26530862228545854,0.5016216696146016,0.5920416653079105,0.6788445123673192,0.7761421177882716,0.8945749945297345,0.9410016342727192,0.9022797095232638,0.8398293799279515,0.7789495747482958,0.7333265084214845,0.6998114453405277,0.6746353763194934,0.6570960790145145,null,-0.37782686301434704,-0.3041331984768075,-0.1499918185169145,-0.06596622125985936,-0.06596622125985936,-0.06596622125985936,-0.06596622125985936,-0.1231397817199999,-0.022475432588369555,-0.06054191906802461,-0.08418402024476955,null,null,null],[0.459981851956086,0.46909507288461294,0.48467492994007766,0.527756494873233,0.65990671701217,0.8972397492533037,0.7876214672907498,0.6383188940529261,0.5570628131247808,0.5136071979107548,0.4700436972164935,0.4257876995433111,0.3785025095103188,0.3339332386411516,0.30039920791767377,0.013988549493973964,0.0033385927879909993,-0.13036789038922306,-0.2820104259138586,-0.36745022414551115,-0.4249962808317653,-0.47300854162521105,-0.5057715149092636,-0.515067147816554,-0.5206993415223758,-0.5081529857409313,-0.5015849417864476,-0.49918619332478004,-0.5025357143027471,-0.5039561841724681,null,0.46518801687552436,0.4740424706004222,0.49230802125102274,0.5344368934093863,0.614525518122857,0.7434829420642761,0.8868718206853731,0.976805151284066,1.0,0.9879073881030692,0.965462590514164,0.9432348940993338,0.9244292237953835,0.9094912287232344,null,0.18671816391625756,0.38170491089491804,0.4573277850239104,0.5339375752043608,0.6355413417377126,0.7901102147868478,0.8957652352158283,0.9148447970052415,0.8889856386166655,0.8497726394814472,0.8146461249307512,0.7866210374002162,0.7646479520703903,0.7487772030228932,null,-0.42432539327620217,-0.3459927312375739,-0.1889998381790881,-0.08861737839105915,-0.08861737839105915,-0.08861737839105915,-0.08861737839105915,-0.15375880537156833,-0.061443328760402434,-0.07429284270270754,-0.05607185467213115,null,null,null],[0.34708624854755654,0.354212615905673,0.36654611130528486,0.4060821444262218,0.5439764783491953,0.8454219998835788,0.8435913557165007,0.7353818382603569,0.673056611996994,0.6398413391815536,0.6005560473324937,0.555289870878285,0.5034165299900775,0.45272109851411696,0.4129485270930318,-0.03438301994266942,-0.04260397352624611,-0.17393852677486685,-0.31777646390708747,-0.3918687381523025,-0.4419441291532033,-0.49180609925000757,-0.5320860162666002,-0.5505817657930527,-0.5644624960030257,-0.5595705250069132,-0.5554869861784234,-0.5527553282387287,-0.5582487022205321,-0.5610565213703952,null,0.35116990421024463,0.35807782894297957,0.3736225716978854,0.4139239674146576,0.4967192102118511,0.638057165524637,0.8075879846316693,0.932458526644526,0.9879073881030692,1.0,0.9940302804765072,0.9826579868137407,0.970941417418944,0.96066430422675,null,0.1358549619795611,0.29275536058050683,0.35437575194471715,0.4205830170353559,0.5213260105030939,0.6939855575325038,0.83618087881042,0.8960260080555226,0.8998969645989808,0.8799062545728515,0.8551596858537698,0.8331529684167324,0.8149860972079659,0.8013162622438241,null,-0.45051539454487927,-0.37181569562354816,-0.21543470255413585,-0.10131940566261442,-0.10131940566261442,-0.10131940566261442,-0.10131940566261442,-0.17192639541523927,-0.08671974556929998,-0.08056204885654107,-0.03720688083833068,null,null,null],[0.27058810119716625,0.2760779949088394,0.28594506371436323,0.3223265824666766,0.461100084722861,0.7981790499568282,0.8647630718596347,0.7856537332473126,0.7386717374862264,0.7159360216410676,0.6837266631151429,0.6422170600866989,0.5908162627738848,0.5385537241775434,0.4961657093097265,-0.06703148972194344,-0.07360108560827054,-0.20249512936382671,-0.34109275316414756,-0.40761089216206636,-0.4519298190195751,-0.5017264873508527,-0.545758066986283,-0.5697238084586316,-0.5891903600099778,-0.589904848442071,-0.5881251691364182,-0.5860756317170931,-0.5933470380647573,-0.5973481575758853,null,0.2737338485394227,0.27913463576813746,0.2925488030724796,0.330828398946675,0.4138185004960706,0.5605736062990296,0.7439246198994599,0.8894229261830012,0.965462590514164,0.9940302804765072,1.0,0.9969445362927546,0.9909249907734978,0.984542055895504,null,0.1057891356817558,0.23348262382158913,0.28432536653828644,0.3421897453615262,0.4403923841746767,0.6206648858297364,0.7834591550647586,0.8694584093393091,0.8944182662172725,0.8892343121622297,0.8735474431694795,0.8571162555187636,0.8426086786972833,0.8311504086297985,null,-0.46499505069260566,-0.3895283656227863,-0.23491860832052505,-0.1096414770834809,-0.1096414770834809,-0.1096414770834809,-0.1096414770834809,-0.18461496088296253,-0.10345212217912493,-0.08444230265974999,-0.028693719326915706,null,null,null],[0.22089405512750793,0.225164669592263,0.23325556724125024,0.26707004001560347,0.4047247138632895,0.7608082639473474,0.8694587303163143,0.8100738141375599,0.7746060267865991,0.760764168293601,0.7357289932758355,0.6998236103395454,0.6517021048564209,0.6005691194554597,0.5578098342758955,-0.0880214716040251,-0.09351491891896489,-0.22059370728196806,-0.3562687521675325,-0.4179707396479716,-0.45830617504980403,-0.5074378639725518,-0.5532550145483809,-0.5804354274091257,-0.6035497463308616,-0.6081679751347685,-0.6084671104459219,-0.6076798377729238,-0.6164143231086723,-0.6214219668840246,null,0.22333644787148232,0.2276458640588123,0.2394806887062394,0.27595772615039327,0.3581661215646942,0.5068345387666339,0.6970824834956215,0.8544046071600666,0.9432348940993338,0.9826579868137407,0.9969445362927546,1.0,0.9983620201739044,0.9950779303604304,null,0.08865672956145394,0.19561569764426642,0.23881258054945254,0.2905575251921094,0.38598241045862114,0.5685217290711084,0.7423591966540575,0.8446363445174728,0.883896769359159,0.889395309543865,0.8809914944849101,0.8694090260473325,0.8581688515350108,0.848735843633107,null,-0.4734986238803832,-0.4026403890360019,-0.24884561167439836,-0.11602591588824573,-0.11602591588824573,-0.11602591588824573,-0.11602591588824573,-0.19371332746702632,-0.11479297025211689,-0.08825801830917247,-0.02763782781420621,null,null,null],[0.18902828383159692,0.19244679081608362,0.19930913517007695,0.23112061074678134,0.36690837502940077,0.7326612381569966,0.8670293105460967,0.8208991351157773,0.7938146655579041,0.7869571814880731,0.7680933899317774,0.737741486563713,0.6938718841048513,0.6451814872826194,0.603307491592607,-0.10131166778484385,-0.10611323442468554,-0.23201303475079613,-0.3661986985601594,-0.424867391112564,-0.4624870479883097,-0.5108099727203244,-0.5573819777310642,-0.5864287669417757,-0.6117701825913128,-0.6189841216872073,-0.6209554780159785,-0.6215629668416455,-0.6314885174494567,-0.6373351761339272,null,0.1909774423007184,0.19453319028779656,0.20523520155904681,0.24022312365584775,0.3213423739446035,0.4702599080265181,0.663700612371038,0.8277027452664305,0.9244292237953835,0.970941417418944,0.9909249907734978,0.9983620201739044,1.0,0.9991056229610884,null,0.07871588224247597,0.17160496009883094,0.20972676361082485,0.2571110669554141,0.35003249301818806,0.532371557793385,0.7118791769936865,0.8242069509429664,0.8730251903169025,0.8860336247824241,0.8831488269834963,0.8755584781671065,0.8671169168401424,0.8594581760927734,null,-0.47888943261538913,-0.41232905969525696,-0.25863341633422215,-0.12077167259630536,-0.12077167259630536,-0.12077167259630536,-0.12077167259630536,-0.19923252520065263,-0.12192691602350841,-0.09144318087032037,-0.03015509361961957,null,null,null],[0.16834894338204298,0.17118345604533455,0.17721260442581624,0.20752464206409055,0.34136697516415515,0.7118292425016256,0.8621907109972656,0.8250297672761776,0.8039603352103871,0.8023584235216548,0.7883782687962941,0.7627192179956053,0.7228395440733654,0.6768294717220694,0.6364017816598575,-0.10983840587209502,-0.11419007455699969,-0.23932582258005466,-0.3727678667028458,-0.4294008263704561,-0.4650589179630746,-0.5125534717114804,-0.5593235420086832,-0.589417457752146,-0.6160515072287929,-0.6249584292605089,-0.628164280669339,-0.6299956715757211,-0.640848323237726,-0.6473789319648245,null,0.1699589614491276,0.1730036736948216,0.18291106599926238,0.21673442607209392,0.2967784398903697,0.4452633858739077,0.6400401804144683,0.8078339265396001,0.9094912287232344,0.96066430422675,0.984542055895504,0.9950779303604304,0.9991056229610884,1.0,null,0.07269452331617772,0.1560994309617154,0.19091700318028237,0.23522319920795598,0.32609572208246407,0.5073668949914312,0.6897252265831353,0.8083337616105452,0.8635705503470444,0.8818311444269081,0.8830122616962307,0.8785255599435831,0.8723450592765079,0.8661850232619711,null,-0.48238663293755596,-0.41935043010610945,-0.2650748578112523,-0.12357537220469243,-0.12357537220469243,-0.12357537220469243,-0.12357537220469243,-0.2017876950428468,-0.12594684740015394,-0.09341489118941862,-0.03327947864189328,null,null,null],[null,null,null,null,null,null,null,null,null,null,null,null,null,null,null,null,null,null,null,null,null,null,null,null,null,null,null,null,null,null,null,null,null,null,null,null,null,null,null,null,null,null,null,null,null,null,null,null,null,null,null,null,null,null,null,null,null,null,null,null,null,null,null,null,null,null,null,null,null,null,null,null,null,null,null],[0.6998662049474887,0.6630908929141451,0.6184817621115059,0.5554838255971423,0.44129690778270986,0.13395269217672937,-0.24303982929704498,-0.2898661387628423,-0.2510032612030012,-0.2020262805254271,-0.1588238410294859,-0.1197656752646836,-0.0883449679053499,-0.06764020162569638,-0.0555351796114827,-0.39519106935859744,-0.41215080242968233,-0.46515498804470656,-0.4943534169118446,-0.4869520295995338,-0.4600499349144805,-0.3878823929411568,-0.3106713003438776,-0.24555448458245266,-0.20517030052249627,-0.17174350230944255,-0.15603149294910387,-0.1619363749081991,-0.15956848964278036,-0.15885267255030938,null,0.6784774884567396,0.6500703680608877,0.6151498293968215,0.5741488527414202,0.5302075356950815,0.46306505245760754,0.36643631704861157,0.26530862228545854,0.18671816391625756,0.1358549619795611,0.1057891356817558,0.08865672956145394,0.07871588224247597,0.07269452331617772,null,1.0,0.8689551088289922,0.7386064823671178,0.6466024801334416,0.548798829042001,0.37862068811347466,0.23632006397134453,0.14857250790471258,0.09694144911015662,0.06556776674210835,0.0529461838124787,0.046551547331781636,0.03983385956941445,0.03572152644268854,null,-0.13613289139838422,-0.013488104810564137,0.06900878252944814,0.11452712330901216,0.11452712330901216,0.11452712330901216,0.11452712330901216,0.006625715710900095,0.042158904909913385,0.007423178221695804,-0.12171669711294793,null,null,null],[0.9407299468524176,0.924294056576867,0.8943242666748884,0.8369187427346932,0.7153496515178884,0.3318655077124155,-0.19342834962989566,-0.31071156721603044,-0.3105574343678812,-0.29449534131795224,-0.27319235725398133,-0.24389706619935297,-0.21297913023111453,-0.18668588373347553,-0.1659075570685872,-0.062238616269377385,-0.0837877882614503,-0.1731264235406172,-0.2689615165013577,-0.32726884509676657,-0.3313410099380636,-0.28071440520470736,-0.2158201254195465,-0.1561608632719292,-0.11164780325437063,-0.07293381284445906,-0.055557824583738966,-0.06676677457048864,-0.06346610758211772,-0.06197809032019762,null,0.9317806175829233,0.9156456540839857,0.8892673587807084,0.8533470992961515,0.8105653779841681,0.74334135779737,0.6344994056279974,0.5016216696146016,0.38170491089491804,0.29275536058050683,0.23348262382158913,0.19561569764426642,0.17160496009883094,0.1560994309617154,null,0.8689551088289922,1.0,0.9688852131877086,0.9151355842488178,0.8347190914864887,0.6837888437594436,0.5237826070639757,0.3922162269316186,0.2877618700553996,0.21497543828734714,0.1765958464737033,0.15510740617163937,0.1399395879349556,0.130835502297326,null,-0.15975741907195556,-0.05989407677325166,0.021947573944684953,0.12584673124007684,0.12584673124007684,0.12584673124007684,0.12584673124007684,0.05717737362472373,0.08826564453818193,0.03598159593034754,-0.1707233354010029,null,null,null],[0.9873687525436975,0.9822313367731863,0.9673785723405981,0.9268597771122951,0.8176808704504206,0.426926230695993,-0.1487009905409202,-0.30322790107971426,-0.32735482978929825,-0.32603599153090185,-0.31306947420524645,-0.2874420052554458,-0.25584953968961577,-0.22555506557465926,-0.19928004250653203,0.08074116860059256,0.05849348285453885,-0.039057668508572944,-0.16691581392718352,-0.2505040561506559,-0.2692611606907243,-0.2314976800645238,-0.17430598907960315,-0.11774551011217434,-0.06976754662755023,-0.02750677914390417,-0.009610797909423343,-0.022066272752780173,-0.019083283767318954,-0.01773090377557112,null,0.9849310179219218,0.9782208320851662,0.9634668664824795,0.9378256582565171,0.9022504263738736,0.8417760129542379,0.7341373540665234,0.5920416653079105,0.4573277850239104,0.35437575194471715,0.28432536653828644,0.23881258054945254,0.20972676361082485,0.19091700318028237,null,0.7386064823671178,0.9688852131877086,1.0,0.9788703093319571,0.9226159282392853,0.7973555613994397,0.6367841351413275,0.4860484508136385,0.36277746794398086,0.2764728963777935,0.2296120853778321,0.20352267311279781,0.18645024978979494,0.17637472019783507,null,-0.1517168445632984,-0.10101527899640046,0.0039433477075100695,0.12513315125714466,0.12513315125714466,0.12513315125714466,0.12513315125714466,0.09535949514902885,0.12463064271268355,0.053976793336332436,-0.17422686770257814,null,null,null],[0.9893097965353733,0.9912843727428565,0.9901107543795798,0.9755283050753244,0.9117413058160457,0.5556690216191049,-0.07082452868097436,-0.27330647511390843,-0.32646234245499206,-0.3376395540193939,-0.3318695052884281,-0.31010807121099865,-0.28081591566187064,-0.2518141645324064,-0.2255389468801994,0.15804798257235453,0.1359467252292263,0.035632088256980575,-0.10316174456811714,-0.20185242632489103,-0.23798804333701123,-0.21480921911087042,-0.1661984980892556,-0.11285484006232001,-0.06748114842001998,-0.023945637927342934,-0.007904733606035505,-0.0184414456717283,-0.015095787691704875,-0.013315861697855506,null,0.9907486542823938,0.991513636757544,0.9896079782492063,0.9822458212874894,0.9662380755283319,0.9227841361075986,0.8242573861692816,0.6788445123673192,0.5339375752043608,0.4205830170353559,0.3421897453615262,0.2905575251921094,0.2571110669554141,0.23522319920795598,null,0.6466024801334416,0.9151355842488178,0.9788703093319571,1.0,0.9781274273357842,0.8797159541965496,0.7213771710726425,0.5553873793683193,0.4215841294808494,0.32763233792544105,0.27536118371491547,0.2451365385584721,0.2251991378104546,0.21312266167500343,null,-0.14517289116757273,-0.1054343001992236,0.005513266779211892,0.10121920847484384,0.10121920847484384,0.10121920847484384,0.10121920847484384,0.07728053838317327,0.13206049430031175,0.04145665378034609,-0.15902872586451172,null,null,null],[0.9518108224601683,0.9592554417708409,0.9701017081735109,0.9817048145810542,0.9680412515768191,0.69369940748589,0.06633906820556591,-0.17656261733540576,-0.25785995621960134,-0.2810581220674317,-0.28413081619800046,-0.2702881218906299,-0.24920141442706784,-0.22745316694099194,-0.20634869331764508,0.19341260201244925,0.17222526732973398,0.06462506726451152,-0.0831593513926743,-0.1893809175445847,-0.23904218631561633,-0.2318801093483306,-0.19396502564473062,-0.14548387892989223,-0.1051963827814897,-0.06170271896350975,-0.04653802345932926,-0.05547293712494948,-0.05234433701550921,-0.05046779813693143,null,0.9561460680086957,0.9631879254567965,0.9732895651736827,0.9847207697978871,0.9920949788138769,0.9776748350981366,0.9062373879545031,0.7761421177882716,0.6355413417377126,0.5213260105030939,0.4403923841746767,0.38598241045862114,0.35003249301818806,0.32609572208246407,null,0.548798829042001,0.8347190914864887,0.9226159282392853,0.9781274273357842,1.0,0.9494288422200259,0.8121361215216627,0.6454590052362942,0.5106863760064807,0.41449905063174286,0.3592694012550834,0.3257551795257545,0.303020106806488,0.2887543293682386,null,-0.17408979631160226,-0.1291968721596628,-0.00241379225646164,0.07989506462984648,0.07989506462984648,0.07989506462984648,0.07989506462984648,0.04707580497994668,0.12976725658113097,0.03206904308637635,-0.14761416228928062,null,null,null],[0.8344717512555925,0.8485485211431795,0.869931916548704,0.9030770598189033,0.9423374130390367,0.8157350766308241,0.320135812006727,0.07287135248840115,-0.03581708014366125,-0.08169699701245037,-0.10799898838144155,-0.11849884121721761,-0.12237894653181071,-0.12249605652101027,-0.1163955741976814,0.24096180679871707,0.22253701057313596,0.10853478742035003,-0.04085229072180353,-0.14395220817741297,-0.20002517483866583,-0.21749666601135542,-0.2051556651518747,-0.17349009025998394,-0.14787760587201712,-0.11350185879713937,-0.10260163613697888,-0.11029859605820441,-0.10845539812060731,-0.10705038453894665,null,0.8425326800664723,0.8556199723066044,0.875674684360906,0.9035288195418882,0.937330654959121,0.9712249623441384,0.9663838305407741,0.8945749945297345,0.7901102147868478,0.6939855575325038,0.6206648858297364,0.5685217290711084,0.532371557793385,0.5073668949914312,null,0.37862068811347466,0.6837888437594436,0.7973555613994397,0.8797159541965496,0.9494288422200259,1.0,0.9440859507088493,0.8150383385868286,0.6954561782945324,0.6027640580622056,0.5444453602642046,0.5060744986054602,0.4789539556445967,0.4614645219181761,null,-0.21564439015264572,-0.15314196478330508,0.0022519369557848696,0.08963911400298663,0.08963911400298663,0.08963911400298663,0.08963911400298663,0.027107373170459234,0.10977456535220773,0.019205259769614565,-0.12486488556423599,null,null,null],[0.6662244640805142,0.6825111972034416,0.705533591290703,0.7446924533580668,0.8163264306860386,0.8314073621828524,0.5334247620019564,0.348696848420758,0.24872602721463608,0.19138414498110645,0.14568753435559018,0.11094483637643637,0.07998330633603877,0.05487071636528445,0.041907598692461884,0.252817471469197,0.23824743612742963,0.12533962916309715,-0.010037176765548585,-0.0963451167409195,-0.14474645466128186,-0.17713504761726584,-0.1920646445220944,-0.18439626546642784,-0.17830169213724495,-0.15858673791987865,-0.15532492787103314,-0.16198512057846148,-0.1632277468426402,-0.16348046582412631,null,0.6756302675741627,0.689926196606299,0.7116946711653165,0.7455266068611835,0.795634223305737,0.8692127689936564,0.9347435535761076,0.9410016342727192,0.8957652352158283,0.83618087881042,0.7834591550647586,0.7423591966540575,0.7118791769936865,0.6897252265831353,null,0.23632006397134453,0.5237826070639757,0.6367841351413275,0.7213771710726425,0.8121361215216627,0.9440859507088493,1.0,0.9530347186421043,0.8736464418701309,0.7994679744339049,0.7464673161042619,0.7083065252821554,0.680002571507922,0.6610378776279797,null,-0.24739696786270884,-0.15817410685244412,0.015137661387105966,0.12537517781252683,0.12537517781252683,0.12537517781252683,0.12537517781252683,0.03092418601167283,0.09448124910732575,0.010981737736183996,-0.07671741517259527,null,null,null],[0.4991153891907103,0.513474279432723,0.5315504579134664,0.5649065985671725,0.6467966116589485,0.7640218436777593,0.6423400200137608,0.5364655500121467,0.4775507176742429,0.43099872884153867,0.38267995435125324,0.33734986222139585,0.2909193594417058,0.24965849168219756,0.22269260544901737,0.21303415468666395,0.20215995424673708,0.0924794170663489,-0.023341427497163104,-0.08532095121237447,-0.11530343742695773,-0.14742293485499494,-0.17573422818849635,-0.18775028733701685,-0.19808365517279972,-0.191638849881766,-0.19487065481960966,-0.20153774910229277,-0.2070329131380769,-0.20988657266496294,null,0.5075348709994092,0.5192139314992186,0.5366697385640699,0.5679086001072171,0.6230536426755373,0.7185381994848369,0.8313564734962204,0.9022797095232638,0.9148447970052415,0.8960260080555226,0.8694584093393091,0.8446363445174728,0.8242069509429664,0.8083337616105452,null,0.14857250790471258,0.3922162269316186,0.4860484508136385,0.5553873793683193,0.6454590052362942,0.8150383385868286,0.9530347186421043,1.0,0.9752384422513163,0.9314014394737334,0.8927602049682576,0.8615685577401931,0.8368589963863693,0.8194534154094666,null,-0.28135994481710774,-0.16301419779979892,0.025739824840946363,0.17563613113647034,0.17563613113647034,0.17563613113647034,0.17563613113647034,0.049152275268239065,0.09795286628963065,0.022887370698435085,-0.02171261003459658,null,null,null],[0.36858490958976464,0.3802064935442731,0.3953437077301142,0.4274713424470454,0.5185802625554186,0.7003138550444967,0.6852166043316613,0.6258980257719396,0.5964656513293751,0.5757304446262189,0.5403163649413216,0.49809992579105267,0.4488891492202853,0.4022451769898975,0.3691266485751871,0.15368405643462094,0.14561476059945128,0.04104050443554507,-0.055632245170645085,-0.09680130715094927,-0.11102494110634205,-0.1379232856851143,-0.16913455952795775,-0.18915969313174838,-0.20932507819353163,-0.21300949202641814,-0.2204882997126406,-0.22798382364551473,-0.2374220114263645,-0.2428317860137828,null,0.37538096722385145,0.38496513877471145,0.40039653690178517,0.4311715835872209,0.48970881540718264,0.5962258390396923,0.733158721180952,0.8398293799279515,0.8889856386166655,0.8998969645989808,0.8944182662172725,0.883896769359159,0.8730251903169025,0.8635705503470444,null,0.09694144911015662,0.2877618700553996,0.36277746794398086,0.4215841294808494,0.5106863760064807,0.6954561782945324,0.8736464418701309,0.9752384422513163,1.0,0.9878709392279609,0.966300478157837,0.9449026037399013,0.9261317640016901,0.91202490286428,null,-0.3027798674513672,-0.16044328117070877,0.03421114998182074,0.21258082053101282,0.21258082053101282,0.21258082053101282,0.21258082053101282,0.07079153855661233,0.10755719377961344,0.042921078382987664,0.021046681041039083,null,null,null],[0.2784277212846777,0.28787999026558786,0.30107793153851714,0.3321085467937833,0.4262953405113823,0.6428106271408724,0.6923408763817419,0.6633032464655384,0.6541668479423025,0.653680664666576,0.6333854933816533,0.6000533492807064,0.5542298680759754,0.5080134298018757,0.4734374047499809,0.1106323745297095,0.1044983437639671,0.004517293094881803,-0.08007534513199256,-0.10871782176086149,-0.11254601294709915,-0.13486759590599665,-0.16625259547345791,-0.1900782520001294,-0.21526393896078902,-0.2248481454494882,-0.23533659515337815,-0.2440025577300749,-0.25647249950326856,-0.2639220615479582,null,0.2839090844972325,0.29200559474037147,0.3060601176024697,0.3359124925917057,0.3949806798954319,0.5053294796151359,0.6531939392784192,0.7789495747482958,0.8497726394814472,0.8799062545728515,0.8892343121622297,0.889395309543865,0.8860336247824241,0.8818311444269081,null,0.06556776674210835,0.21497543828734714,0.2764728963777935,0.32763233792544105,0.41449905063174286,0.6027640580622056,0.7994679744339049,0.9314014394737334,0.9878709392279609,1.0,0.9934579859063019,0.9811162311176277,0.9681734145967981,0.9575256860281257,null,-0.3137195158691344,-0.16263320360480796,0.030072252874181735,0.2288946545972969,0.2288946545972969,0.2288946545972969,0.2288946545972969,0.08466121925183015,0.11959623395669446,0.05942783830608045,0.04800359512924281,null,null,null],[0.22938801117499016,0.23736082366651795,0.2492093266323299,0.2788288444752117,0.37140392985247567,0.5997365362059278,0.6803920094425555,0.6691059000257358,0.6732267831680434,0.6861554042417068,0.6787233425963525,0.6585784066424302,0.6212559574688615,0.5799240927557876,0.5475544931849237,0.08512538240076652,0.08004130260367615,-0.01627963107266747,-0.09490837642527265,-0.11714199428021814,-0.11413070367292442,-0.1321724059629835,-0.16185105086558405,-0.1865185238250378,-0.21408824058417955,-0.22600205782882862,-0.23865818546117268,-0.2491850163032916,-0.2642376487698457,-0.27346216785338484,null,0.2339725584563253,0.24105862021671126,0.2540467650474386,0.28255331546813817,0.3402378790885659,0.4498805517776955,0.6000527479222807,0.7333265084214845,0.8146461249307512,0.8551596858537698,0.8735474431694795,0.8809914944849101,0.8831488269834963,0.8830122616962307,null,0.0529461838124787,0.1765958464737033,0.2296120853778321,0.27536118371491547,0.3592694012550834,0.5444453602642046,0.7464673161042619,0.8927602049682576,0.966300478157837,0.9934579859063019,1.0,0.9962307360628168,0.9888865944929375,0.9816634911688652,null,-0.31548422721628017,-0.1663013257309142,0.023763203079816917,0.24001402156291826,0.24001402156291826,0.24001402156291826,0.24001402156291826,0.09139924163662866,0.1319530855983428,0.07612920373878208,0.06419342838835056,null,null,null],[0.20125089098463342,0.2082858597075348,0.2191211084158842,0.2469445660849643,0.3360911476988193,0.5673346402098163,0.6648890329729337,0.6648582851630354,0.6778862623314512,0.6999436780618559,0.7015790908499256,0.6916035448563307,0.6643648419787013,0.6301288185215701,0.6019569117446549,0.06858845234212564,0.06410102948439922,-0.029674037877883756,-0.10579512806205865,-0.12388408034775585,-0.11677763578422785,-0.1318322062882349,-0.1599371455743518,-0.18471079346174105,-0.2122881817902291,-0.2244803720129817,-0.23793455919184348,-0.25035001001452845,-0.2676201778524098,-0.27839113895343515,null,0.20527491377270246,0.2116651326309539,0.22370284129643403,0.2506246273734177,0.3063650393974246,0.41401203804095776,0.563623959175998,0.6998114453405277,0.7866210374002162,0.8331529684167324,0.8571162555187636,0.8694090260473325,0.8755584781671065,0.8785255599435831,null,0.046551547331781636,0.15510740617163937,0.20352267311279781,0.2451365385584721,0.3257551795257545,0.5060744986054602,0.7083065252821554,0.8615685577401931,0.9449026037399013,0.9811162311176277,0.9962307360628168,1.0,0.9979213756313187,0.9939962532936889,null,-0.31509274253713465,-0.1719206181550524,0.0198340908407222,0.24348731200369705,0.24348731200369705,0.24348731200369705,0.24348731200369705,0.10142240242684762,0.14435645405559017,0.08913329479589988,0.07322053983611183,null,null,null],[0.1824169017125553,0.1889835851763063,0.19925407813316398,0.2256082757206938,0.31146642735894997,0.542820199076342,0.6510181867395612,0.658630568254277,0.6776921499469555,0.7059620482066533,0.7140151980567562,0.7112508934559618,0.6918191760767599,0.6641334279140618,0.6404638777947643,0.059749699846046535,0.05566756457255774,-0.03653189451265863,-0.11221071507958297,-0.127900830049867,-0.11824830232846457,-0.13133267392841658,-0.1583129058471593,-0.18306675663193397,-0.2101304464780403,-0.22253486734681116,-0.23647721889373566,-0.2502868339726223,-0.2691617885277574,-0.2811452424739466,null,0.18616269885064712,0.19218290205156402,0.20358310036904176,0.22918658762870905,0.28317565782509746,0.3888259262271305,0.5372414415618441,0.6746353763194934,0.7646479520703903,0.8149860972079659,0.8426086786972833,0.8581688515350108,0.8671169168401424,0.8723450592765079,null,0.03983385956941445,0.1399395879349556,0.18645024978979494,0.2251991378104546,0.303020106806488,0.4789539556445967,0.680002571507922,0.8368589963863693,0.9261317640016901,0.9681734145967981,0.9888865944929375,0.9979213756313187,1.0,0.9988684158199884,null,-0.3148929268121944,-0.17902343262401893,0.015705127385382843,0.24376450473640496,0.24376450473640496,0.24376450473640496,0.24376450473640496,0.10978350129296752,0.1511366310418428,0.09680500372682631,0.07700474172973179,null,null,null],[0.17111443694920742,0.1773887736060996,0.1872758111363793,0.21248366316645279,0.29540036866649694,0.5252091622541846,0.6399172383238239,0.6524755704986407,0.6753231048192486,0.7074725814137752,0.7196749762195078,0.7216498949603614,0.7074566203870817,0.6846545045700655,0.6654525353870188,0.053944925664123566,0.050104215597806485,-0.04134262513234639,-0.11696127189235354,-0.1307186328333202,-0.11903589955056275,-0.13046275271295418,-0.1563286424279281,-0.18071426291301015,-0.20682903285811036,-0.21920422705775466,-0.2334330920622183,-0.2482284848466933,-0.2680731288590169,-0.28096381115371866,null,0.1746874204603387,0.18046701868210305,0.19140389430638294,0.21596130947301007,0.2684475638769514,0.37234143847807943,0.5194506802416304,0.6570960790145145,0.7487772030228932,0.8013162622438241,0.8311504086297985,0.848735843633107,0.8594581760927734,0.8661850232619711,null,0.03572152644268854,0.130835502297326,0.17637472019783507,0.21312266167500343,0.2887543293682386,0.4614645219181761,0.6610378776279797,0.8194534154094666,0.91202490286428,0.9575256860281257,0.9816634911688652,0.9939962532936889,0.9988684158199884,1.0,null,-0.3156455955780429,-0.18416308938343948,0.01453595114452229,0.2457520671870166,0.2457520671870166,0.2457520671870166,0.2457520671870166,0.11887444656237825,0.1563591111440225,0.1017241088690992,0.07795000061397397,null,null,null],[null,null,null,null,null,null,null,null,null,null,null,null,null,null,null,null,null,null,null,null,null,null,null,null,null,null,null,null,null,null,null,null,null,null,null,null,null,null,null,null,null,null,null,null,null,null,null,null,null,null,null,null,null,null,null,null,null,null,null,null,null,null,null,null,null,null,null,null,null,null,null,null,null,null,null],[-0.10776919686628948,-0.10321585425886462,-0.09432100845998467,-0.09330742229723808,-0.1479857966920505,-0.3570400890016306,-0.4107203768785508,-0.3689067245871536,-0.3647130995454481,-0.37911394023465533,-0.38836136424413736,-0.3888070934224512,-0.3846822353876275,-0.37559657964367604,-0.365701856573172,0.08012656519571972,0.08291579529795777,0.33368426795245754,0.46884193939006485,0.5089311204976518,0.5298636918726815,0.5445799333440812,0.549747635051471,0.5496491896002293,0.5454652089827875,0.54654488799004,0.5420448224081333,0.5402009474381795,0.5429859658245043,0.5455484132576826,null,-0.10528811226956432,-0.10033853046462811,-0.09567024818469547,-0.10347157776500594,-0.1408388244342523,-0.2151436641741068,-0.30386878766553826,-0.37782686301434704,-0.42432539327620217,-0.45051539454487927,-0.46499505069260566,-0.4734986238803832,-0.47888943261538913,-0.48238663293755596,null,-0.13613289139838422,-0.15975741907195556,-0.1517168445632984,-0.14517289116757273,-0.17408979631160226,-0.21564439015264572,-0.24739696786270884,-0.28135994481710774,-0.3027798674513672,-0.3137195158691344,-0.31548422721628017,-0.31509274253713465,-0.3148929268121944,-0.3156455955780429,null,1.0,0.48061021920734487,0.3121054800215112,0.21412579849243094,0.21412579849243094,0.21412579849243094,0.21412579849243094,0.20299507252892188,0.20595954493925805,0.14405181767196665,0.10119358686249486,null,null,null],[-0.06091937026643138,-0.06298113144812215,-0.06517799464185688,-0.06920482128078533,-0.10921529381254726,-0.2840053310558127,-0.3392061156535079,-0.31001701364465584,-0.3119071889630579,-0.3270152290416313,-0.3516967665586886,-0.37619203315965194,-0.3905140135418144,-0.39481683637260045,-0.3904990912817707,-0.02432366157449713,-0.02294320836443842,0.10135401881096204,0.41559521680069966,0.5310761724293415,0.5761682329057106,0.6076388539095755,0.6243159242560101,0.6311681324665847,0.6228936886805916,0.633271225779089,0.6333455920436868,0.6427670529910671,0.6450885630170141,0.6472278456221842,null,-0.06216394091212498,-0.06356430434695756,-0.06570614211780211,-0.07364866901853531,-0.1036811609133908,-0.16509546321078586,-0.24022118216943686,-0.3041331984768075,-0.3459927312375739,-0.37181569562354816,-0.3895283656227863,-0.4026403890360019,-0.41232905969525696,-0.41935043010610945,null,-0.013488104810564137,-0.05989407677325166,-0.10101527899640046,-0.1054343001992236,-0.1291968721596628,-0.15314196478330508,-0.15817410685244412,-0.16301419779979892,-0.16044328117070877,-0.16263320360480796,-0.1663013257309142,-0.1719206181550524,-0.17902343262401893,-0.18416308938343948,null,0.48061021920734487,1.0,0.6322483193463955,0.4092303207891235,0.4092303207891235,0.4092303207891235,0.4092303207891235,0.29776547254635355,0.3665524222913041,0.25159301308034787,0.2744303457191688,null,null,null],[0.04257537987909804,0.04011704182712409,0.04195458433679207,0.0400426283410829,0.012121357742498501,-0.14905040667381103,-0.24856118103415248,-0.2380991487446512,-0.23489192103620443,-0.2435412183294057,-0.2678600570159015,-0.2886409375625211,-0.2947828281510614,-0.2915611854813595,-0.27524724520976396,0.0287275761963807,0.027930166136345514,0.10192134561586708,0.28887362107809794,0.4881877733561609,0.5348140022059836,0.5688857826131327,0.5883938714413144,0.5970746232016051,0.6016043781717778,0.6099187800940548,0.5959639366687688,0.5985623989782398,0.5966976759055949,0.5948881701453325,null,0.040836389429343666,0.040902928740322135,0.04213103143877736,0.03631836436644796,0.015371540096710802,-0.03293515591505506,-0.09447340567789253,-0.1499918185169145,-0.1889998381790881,-0.21543470255413585,-0.23491860832052505,-0.24884561167439836,-0.25863341633422215,-0.2650748578112523,null,0.06900878252944814,0.021947573944684953,0.0039433477075100695,0.005513266779211892,-0.00241379225646164,0.0022519369557848696,0.015137661387105966,0.025739824840946363,0.03421114998182074,0.030072252874181735,0.023763203079816917,0.0198340908407222,0.015705127385382843,0.01453595114452229,null,0.3121054800215112,0.6322483193463955,1.0,0.4764137925938339,0.4764137925938339,0.4764137925938339,0.4764137925938339,0.41565617572226654,0.3879481981519823,0.18274993278262738,0.24313009763994411,null,null,null],[0.14096962504577096,0.13940914750644562,0.13962690831658642,0.1303746267258068,0.047548944324032186,-0.16163229520105057,-0.23057828651964876,-0.18313889109957082,-0.14215452686990812,-0.12100426902808328,-0.12259258159875006,-0.1298820598378074,-0.13969924153020197,-0.13706048485356467,-0.11962787881022413,-0.02138067478620127,-0.02463737300058211,0.021516325866679814,0.13456237885564004,0.22375432534201475,0.370985344570675,0.49141753548682215,0.5802151797415172,0.6398697017258804,0.6619849821624162,0.6629620394353473,0.6606539994336368,0.6504086405939306,0.6423886273421882,0.6357918853946367,null,0.13988752692967485,0.13971668164288087,0.13844891392216357,0.124200346357573,0.0846899245884533,0.0303633079509316,-0.025356497967583592,-0.06596622125985936,-0.08861737839105915,-0.10131940566261442,-0.1096414770834809,-0.11602591588824573,-0.12077167259630536,-0.12357537220469243,null,0.11452712330901216,0.12584673124007684,0.12513315125714466,0.10121920847484384,0.07989506462984648,0.08963911400298663,0.12537517781252683,0.17563613113647034,0.21258082053101282,0.2288946545972969,0.24001402156291826,0.24348731200369705,0.24376450473640496,0.2457520671870166,null,0.21412579849243094,0.4092303207891235,0.4764137925938339,1.0,1.0,1.0,1.0,0.6516141718861592,0.46762361097115895,0.3829333692828376,0.2275261337416788,null,null,null],[0.14096962504577096,0.13940914750644562,0.13962690831658642,0.1303746267258068,0.047548944324032186,-0.16163229520105057,-0.23057828651964876,-0.18313889109957082,-0.14215452686990812,-0.12100426902808328,-0.12259258159875006,-0.1298820598378074,-0.13969924153020197,-0.13706048485356467,-0.11962787881022413,-0.02138067478620127,-0.02463737300058211,0.021516325866679814,0.13456237885564004,0.22375432534201475,0.370985344570675,0.49141753548682215,0.5802151797415172,0.6398697017258804,0.6619849821624162,0.6629620394353473,0.6606539994336368,0.6504086405939306,0.6423886273421882,0.6357918853946367,null,0.13988752692967485,0.13971668164288087,0.13844891392216357,0.124200346357573,0.0846899245884533,0.0303633079509316,-0.025356497967583592,-0.06596622125985936,-0.08861737839105915,-0.10131940566261442,-0.1096414770834809,-0.11602591588824573,-0.12077167259630536,-0.12357537220469243,null,0.11452712330901216,0.12584673124007684,0.12513315125714466,0.10121920847484384,0.07989506462984648,0.08963911400298663,0.12537517781252683,0.17563613113647034,0.21258082053101282,0.2288946545972969,0.24001402156291826,0.24348731200369705,0.24376450473640496,0.2457520671870166,null,0.21412579849243094,0.4092303207891235,0.4764137925938339,1.0,1.0,1.0,1.0,0.6516141718861592,0.46762361097115895,0.3829333692828376,0.2275261337416788,null,null,null],[0.14096962504577096,0.13940914750644562,0.13962690831658642,0.1303746267258068,0.047548944324032186,-0.16163229520105057,-0.23057828651964876,-0.18313889109957082,-0.14215452686990812,-0.12100426902808328,-0.12259258159875006,-0.1298820598378074,-0.13969924153020197,-0.13706048485356467,-0.11962787881022413,-0.02138067478620127,-0.02463737300058211,0.021516325866679814,0.13456237885564004,0.22375432534201475,0.370985344570675,0.49141753548682215,0.5802151797415172,0.6398697017258804,0.6619849821624162,0.6629620394353473,0.6606539994336368,0.6504086405939306,0.6423886273421882,0.6357918853946367,null,0.13988752692967485,0.13971668164288087,0.13844891392216357,0.124200346357573,0.0846899245884533,0.0303633079509316,-0.025356497967583592,-0.06596622125985936,-0.08861737839105915,-0.10131940566261442,-0.1096414770834809,-0.11602591588824573,-0.12077167259630536,-0.12357537220469243,null,0.11452712330901216,0.12584673124007684,0.12513315125714466,0.10121920847484384,0.07989506462984648,0.08963911400298663,0.12537517781252683,0.17563613113647034,0.21258082053101282,0.2288946545972969,0.24001402156291826,0.24348731200369705,0.24376450473640496,0.2457520671870166,null,0.21412579849243094,0.4092303207891235,0.4764137925938339,1.0,1.0,1.0,1.0,0.6516141718861592,0.46762361097115895,0.3829333692828376,0.2275261337416788,null,null,null],[0.14096962504577096,0.13940914750644562,0.13962690831658642,0.1303746267258068,0.047548944324032186,-0.16163229520105057,-0.23057828651964876,-0.18313889109957082,-0.14215452686990812,-0.12100426902808328,-0.12259258159875006,-0.1298820598378074,-0.13969924153020197,-0.13706048485356467,-0.11962787881022413,-0.02138067478620127,-0.02463737300058211,0.021516325866679814,0.13456237885564004,0.22375432534201475,0.370985344570675,0.49141753548682215,0.5802151797415172,0.6398697017258804,0.6619849821624162,0.6629620394353473,0.6606539994336368,0.6504086405939306,0.6423886273421882,0.6357918853946367,null,0.13988752692967485,0.13971668164288087,0.13844891392216357,0.124200346357573,0.0846899245884533,0.0303633079509316,-0.025356497967583592,-0.06596622125985936,-0.08861737839105915,-0.10131940566261442,-0.1096414770834809,-0.11602591588824573,-0.12077167259630536,-0.12357537220469243,null,0.11452712330901216,0.12584673124007684,0.12513315125714466,0.10121920847484384,0.07989506462984648,0.08963911400298663,0.12537517781252683,0.17563613113647034,0.21258082053101282,0.2288946545972969,0.24001402156291826,0.24348731200369705,0.24376450473640496,0.2457520671870166,null,0.21412579849243094,0.4092303207891235,0.4764137925938339,1.0,1.0,1.0,1.0,0.6516141718861592,0.46762361097115895,0.3829333692828376,0.2275261337416788,null,null,null],[0.10457990009916521,0.1081672547856419,0.11239729782082285,0.0974558147457771,0.0045840518409506524,-0.2007099742048656,-0.2657445468423949,-0.22303257202279558,-0.19487265098402,-0.18527966295047987,-0.19387833857773532,-0.20975051471768402,-0.20845798133866464,-0.19023999148599066,-0.15669384053006422,0.04079416629679853,0.038519945621524394,0.08078487912210167,0.15710517846996422,0.23426111881837602,0.32933751860609445,0.4087536982863699,0.46645986152060914,0.5046071569384762,0.5960191818728405,0.6400650220455205,0.661389002826471,0.6576124142211852,0.6493240311646489,0.6419283286534933,null,0.10661024281222853,0.10964754408632443,0.10899235398020955,0.0903582507421737,0.04785732377806285,-0.010986937644191794,-0.07389697895337957,-0.1231397817199999,-0.15375880537156833,-0.17192639541523927,-0.18461496088296253,-0.19371332746702632,-0.19923252520065263,-0.2017876950428468,null,0.006625715710900095,0.05717737362472373,0.09535949514902885,0.07728053838317327,0.04707580497994668,0.027107373170459234,0.03092418601167283,0.049152275268239065,0.07079153855661233,0.08466121925183015,0.09139924163662866,0.10142240242684762,0.10978350129296752,0.11887444656237825,null,0.20299507252892188,0.29776547254635355,0.41565617572226654,0.6516141718861592,0.6516141718861592,0.6516141718861592,0.6516141718861592,1.0,0.6671604051059292,0.48235047630371813,0.2669748328581532,null,null,null],[0.14357787124867732,0.14719335262346603,0.15806279485313127,0.16773533172885607,0.11543022906575169,-0.057074685037339035,-0.20035361749828737,-0.20480580390269074,-0.18735385120488585,-0.1761988296046683,-0.17661373396540792,-0.18212831297758644,-0.17753324686095018,-0.16343938365726218,-0.13990604343198323,-0.018361538274368237,-0.021742630933709938,0.02146544974392806,0.1181254353282738,0.18231140051372693,0.24004300698029477,0.2946313789098689,0.3385769316477208,0.3675949941979776,0.4272074123832121,0.5380908391812491,0.590815584691445,0.5958361699770564,0.5870572528668887,0.5805313887944034,null,0.14532568606577037,0.1507798178585698,0.15916500343840562,0.15785368122494509,0.1339751229017424,0.09035734946917821,0.031882163521834476,-0.022475432588369555,-0.061443328760402434,-0.08671974556929998,-0.10345212217912493,-0.11479297025211689,-0.12192691602350841,-0.12594684740015394,null,0.042158904909913385,0.08826564453818193,0.12463064271268355,0.13206049430031175,0.12976725658113097,0.10977456535220773,0.09448124910732575,0.09795286628963065,0.10755719377961344,0.11959623395669446,0.1319530855983428,0.14435645405559017,0.1511366310418428,0.1563591111440225,null,0.20595954493925805,0.3665524222913041,0.3879481981519823,0.46762361097115895,0.46762361097115895,0.46762361097115895,0.46762361097115895,0.6671604051059292,1.0,0.6767171501117224,0.3584812121477189,null,null,null],[0.05426549051167276,0.055209153512080195,0.05901413439005078,0.058890727519460916,0.00604594911681708,-0.09812371105262144,-0.13818450877796132,-0.12100281948540727,-0.09764586524804554,-0.07916417315444216,-0.07582490365684737,-0.08611921985097137,-0.09930240159059459,-0.09967583064972485,-0.08922881460118146,-0.1089022817459301,-0.11054595071538373,-0.07318633615563323,0.005485259070115416,0.04606995272945698,0.10716157565725709,0.16064261034473887,0.20288256199892926,0.23124356570360086,0.27535534610199724,0.3501889707980904,0.4637017550793501,0.48994384843827105,0.48248669499693336,0.4772736189726915,null,0.0546854179288094,0.05645381636288801,0.05875378004188939,0.05235306613438896,0.02965026013562781,-0.00037589551040408597,-0.034255757419667555,-0.06054191906802461,-0.07429284270270754,-0.08056204885654107,-0.08444230265974999,-0.08825801830917247,-0.09144318087032037,-0.09341489118941862,null,0.007423178221695804,0.03598159593034754,0.053976793336332436,0.04145665378034609,0.03206904308637635,0.019205259769614565,0.010981737736183996,0.022887370698435085,0.042921078382987664,0.05942783830608045,0.07612920373878208,0.08913329479589988,0.09680500372682631,0.1017241088690992,null,0.14405181767196665,0.25159301308034787,0.18274993278262738,0.3829333692828376,0.3829333692828376,0.3829333692828376,0.3829333692828376,0.48235047630371813,0.6767171501117224,1.0,0.5188094739830372,null,null,null],[-0.16199312853162198,-0.16173293983658038,-0.15638669671671035,-0.14247180357310976,-0.11970383564073848,-0.06977444635633911,0.020879354562979017,0.06426904365331296,0.0827588079525182,0.08418505798919508,0.06026636082890274,0.015900314316366345,-0.03363975294570906,-0.06809637732131964,-0.08403677577685573,-0.10825856961217978,-0.10494399398738977,-0.06578546744275325,0.04142405600668417,0.1086185408826646,0.14600131190976656,0.16602705829062872,0.1730394240757279,0.1728535725538251,0.18337892464319017,0.21342763214233845,0.2668777109906922,0.3486352011085622,0.3439115047453975,0.3413872090946664,null,-0.1621240963635946,-0.16010557607348191,-0.15444270089171772,-0.1464427829768741,-0.139831482999258,-0.1316262673106656,-0.11314228085584986,-0.08418402024476955,-0.05607185467213115,-0.03720688083833068,-0.028693719326915706,-0.02763782781420621,-0.03015509361961957,-0.03327947864189328,null,-0.12171669711294793,-0.1707233354010029,-0.17422686770257814,-0.15902872586451172,-0.14761416228928062,-0.12486488556423599,-0.07671741517259527,-0.02171261003459658,0.021046681041039083,0.04800359512924281,0.06419342838835056,0.07322053983611183,0.07700474172973179,0.07795000061397397,null,0.10119358686249486,0.2744303457191688,0.24313009763994411,0.2275261337416788,0.2275261337416788,0.2275261337416788,0.2275261337416788,0.2669748328581532,0.3584812121477189,0.5188094739830372,1.0,null,null,null],[null,null,null,null,null,null,null,null,null,null,null,null,null,null,null,null,null,null,null,null,null,null,null,null,null,null,null,null,null,null,null,null,null,null,null,null,null,null,null,null,null,null,null,null,null,null,null,null,null,null,null,null,null,null,null,null,null,null,null,null,null,null,null,null,null,null,null,null,null,null,null,null,null,null,null],[null,null,null,null,null,null,null,null,null,null,null,null,null,null,null,null,null,null,null,null,null,null,null,null,null,null,null,null,null,null,null,null,null,null,null,null,null,null,null,null,null,null,null,null,null,null,null,null,null,null,null,null,null,null,null,null,null,null,null,null,null,null,null,null,null,null,null,null,null,null,null,null,null,null,null],[null,null,null,null,null,null,null,null,null,null,null,null,null,null,null,null,null,null,null,null,null,null,null,null,null,null,null,null,null,null,null,null,null,null,null,null,null,null,null,null,null,null,null,null,null,null,null,null,null,null,null,null,null,null,null,null,null,null,null,null,null,null,null,null,null,null,null,null,null,null,null,null,null,null,null]],\"type\":\"heatmap\",\"xaxis\":\"x\",\"yaxis\":\"y\",\"hovertemplate\":\"x: %{x}<br>y: %{y}<br>color: %{z}<extra></extra>\"}],                        {\"template\":{\"data\":{\"bar\":[{\"error_x\":{\"color\":\"#2a3f5f\"},\"error_y\":{\"color\":\"#2a3f5f\"},\"marker\":{\"line\":{\"color\":\"#E5ECF6\",\"width\":0.5},\"pattern\":{\"fillmode\":\"overlay\",\"size\":10,\"solidity\":0.2}},\"type\":\"bar\"}],\"barpolar\":[{\"marker\":{\"line\":{\"color\":\"#E5ECF6\",\"width\":0.5},\"pattern\":{\"fillmode\":\"overlay\",\"size\":10,\"solidity\":0.2}},\"type\":\"barpolar\"}],\"carpet\":[{\"aaxis\":{\"endlinecolor\":\"#2a3f5f\",\"gridcolor\":\"white\",\"linecolor\":\"white\",\"minorgridcolor\":\"white\",\"startlinecolor\":\"#2a3f5f\"},\"baxis\":{\"endlinecolor\":\"#2a3f5f\",\"gridcolor\":\"white\",\"linecolor\":\"white\",\"minorgridcolor\":\"white\",\"startlinecolor\":\"#2a3f5f\"},\"type\":\"carpet\"}],\"choropleth\":[{\"colorbar\":{\"outlinewidth\":0,\"ticks\":\"\"},\"type\":\"choropleth\"}],\"contour\":[{\"colorbar\":{\"outlinewidth\":0,\"ticks\":\"\"},\"colorscale\":[[0.0,\"#0d0887\"],[0.1111111111111111,\"#46039f\"],[0.2222222222222222,\"#7201a8\"],[0.3333333333333333,\"#9c179e\"],[0.4444444444444444,\"#bd3786\"],[0.5555555555555556,\"#d8576b\"],[0.6666666666666666,\"#ed7953\"],[0.7777777777777778,\"#fb9f3a\"],[0.8888888888888888,\"#fdca26\"],[1.0,\"#f0f921\"]],\"type\":\"contour\"}],\"contourcarpet\":[{\"colorbar\":{\"outlinewidth\":0,\"ticks\":\"\"},\"type\":\"contourcarpet\"}],\"heatmap\":[{\"colorbar\":{\"outlinewidth\":0,\"ticks\":\"\"},\"colorscale\":[[0.0,\"#0d0887\"],[0.1111111111111111,\"#46039f\"],[0.2222222222222222,\"#7201a8\"],[0.3333333333333333,\"#9c179e\"],[0.4444444444444444,\"#bd3786\"],[0.5555555555555556,\"#d8576b\"],[0.6666666666666666,\"#ed7953\"],[0.7777777777777778,\"#fb9f3a\"],[0.8888888888888888,\"#fdca26\"],[1.0,\"#f0f921\"]],\"type\":\"heatmap\"}],\"heatmapgl\":[{\"colorbar\":{\"outlinewidth\":0,\"ticks\":\"\"},\"colorscale\":[[0.0,\"#0d0887\"],[0.1111111111111111,\"#46039f\"],[0.2222222222222222,\"#7201a8\"],[0.3333333333333333,\"#9c179e\"],[0.4444444444444444,\"#bd3786\"],[0.5555555555555556,\"#d8576b\"],[0.6666666666666666,\"#ed7953\"],[0.7777777777777778,\"#fb9f3a\"],[0.8888888888888888,\"#fdca26\"],[1.0,\"#f0f921\"]],\"type\":\"heatmapgl\"}],\"histogram\":[{\"marker\":{\"pattern\":{\"fillmode\":\"overlay\",\"size\":10,\"solidity\":0.2}},\"type\":\"histogram\"}],\"histogram2d\":[{\"colorbar\":{\"outlinewidth\":0,\"ticks\":\"\"},\"colorscale\":[[0.0,\"#0d0887\"],[0.1111111111111111,\"#46039f\"],[0.2222222222222222,\"#7201a8\"],[0.3333333333333333,\"#9c179e\"],[0.4444444444444444,\"#bd3786\"],[0.5555555555555556,\"#d8576b\"],[0.6666666666666666,\"#ed7953\"],[0.7777777777777778,\"#fb9f3a\"],[0.8888888888888888,\"#fdca26\"],[1.0,\"#f0f921\"]],\"type\":\"histogram2d\"}],\"histogram2dcontour\":[{\"colorbar\":{\"outlinewidth\":0,\"ticks\":\"\"},\"colorscale\":[[0.0,\"#0d0887\"],[0.1111111111111111,\"#46039f\"],[0.2222222222222222,\"#7201a8\"],[0.3333333333333333,\"#9c179e\"],[0.4444444444444444,\"#bd3786\"],[0.5555555555555556,\"#d8576b\"],[0.6666666666666666,\"#ed7953\"],[0.7777777777777778,\"#fb9f3a\"],[0.8888888888888888,\"#fdca26\"],[1.0,\"#f0f921\"]],\"type\":\"histogram2dcontour\"}],\"mesh3d\":[{\"colorbar\":{\"outlinewidth\":0,\"ticks\":\"\"},\"type\":\"mesh3d\"}],\"parcoords\":[{\"line\":{\"colorbar\":{\"outlinewidth\":0,\"ticks\":\"\"}},\"type\":\"parcoords\"}],\"pie\":[{\"automargin\":true,\"type\":\"pie\"}],\"scatter\":[{\"marker\":{\"colorbar\":{\"outlinewidth\":0,\"ticks\":\"\"}},\"type\":\"scatter\"}],\"scatter3d\":[{\"line\":{\"colorbar\":{\"outlinewidth\":0,\"ticks\":\"\"}},\"marker\":{\"colorbar\":{\"outlinewidth\":0,\"ticks\":\"\"}},\"type\":\"scatter3d\"}],\"scattercarpet\":[{\"marker\":{\"colorbar\":{\"outlinewidth\":0,\"ticks\":\"\"}},\"type\":\"scattercarpet\"}],\"scattergeo\":[{\"marker\":{\"colorbar\":{\"outlinewidth\":0,\"ticks\":\"\"}},\"type\":\"scattergeo\"}],\"scattergl\":[{\"marker\":{\"colorbar\":{\"outlinewidth\":0,\"ticks\":\"\"}},\"type\":\"scattergl\"}],\"scattermapbox\":[{\"marker\":{\"colorbar\":{\"outlinewidth\":0,\"ticks\":\"\"}},\"type\":\"scattermapbox\"}],\"scatterpolar\":[{\"marker\":{\"colorbar\":{\"outlinewidth\":0,\"ticks\":\"\"}},\"type\":\"scatterpolar\"}],\"scatterpolargl\":[{\"marker\":{\"colorbar\":{\"outlinewidth\":0,\"ticks\":\"\"}},\"type\":\"scatterpolargl\"}],\"scatterternary\":[{\"marker\":{\"colorbar\":{\"outlinewidth\":0,\"ticks\":\"\"}},\"type\":\"scatterternary\"}],\"surface\":[{\"colorbar\":{\"outlinewidth\":0,\"ticks\":\"\"},\"colorscale\":[[0.0,\"#0d0887\"],[0.1111111111111111,\"#46039f\"],[0.2222222222222222,\"#7201a8\"],[0.3333333333333333,\"#9c179e\"],[0.4444444444444444,\"#bd3786\"],[0.5555555555555556,\"#d8576b\"],[0.6666666666666666,\"#ed7953\"],[0.7777777777777778,\"#fb9f3a\"],[0.8888888888888888,\"#fdca26\"],[1.0,\"#f0f921\"]],\"type\":\"surface\"}],\"table\":[{\"cells\":{\"fill\":{\"color\":\"#EBF0F8\"},\"line\":{\"color\":\"white\"}},\"header\":{\"fill\":{\"color\":\"#C8D4E3\"},\"line\":{\"color\":\"white\"}},\"type\":\"table\"}]},\"layout\":{\"annotationdefaults\":{\"arrowcolor\":\"#2a3f5f\",\"arrowhead\":0,\"arrowwidth\":1},\"autotypenumbers\":\"strict\",\"coloraxis\":{\"colorbar\":{\"outlinewidth\":0,\"ticks\":\"\"}},\"colorscale\":{\"diverging\":[[0,\"#8e0152\"],[0.1,\"#c51b7d\"],[0.2,\"#de77ae\"],[0.3,\"#f1b6da\"],[0.4,\"#fde0ef\"],[0.5,\"#f7f7f7\"],[0.6,\"#e6f5d0\"],[0.7,\"#b8e186\"],[0.8,\"#7fbc41\"],[0.9,\"#4d9221\"],[1,\"#276419\"]],\"sequential\":[[0.0,\"#0d0887\"],[0.1111111111111111,\"#46039f\"],[0.2222222222222222,\"#7201a8\"],[0.3333333333333333,\"#9c179e\"],[0.4444444444444444,\"#bd3786\"],[0.5555555555555556,\"#d8576b\"],[0.6666666666666666,\"#ed7953\"],[0.7777777777777778,\"#fb9f3a\"],[0.8888888888888888,\"#fdca26\"],[1.0,\"#f0f921\"]],\"sequentialminus\":[[0.0,\"#0d0887\"],[0.1111111111111111,\"#46039f\"],[0.2222222222222222,\"#7201a8\"],[0.3333333333333333,\"#9c179e\"],[0.4444444444444444,\"#bd3786\"],[0.5555555555555556,\"#d8576b\"],[0.6666666666666666,\"#ed7953\"],[0.7777777777777778,\"#fb9f3a\"],[0.8888888888888888,\"#fdca26\"],[1.0,\"#f0f921\"]]},\"colorway\":[\"#636efa\",\"#EF553B\",\"#00cc96\",\"#ab63fa\",\"#FFA15A\",\"#19d3f3\",\"#FF6692\",\"#B6E880\",\"#FF97FF\",\"#FECB52\"],\"font\":{\"color\":\"#2a3f5f\"},\"geo\":{\"bgcolor\":\"white\",\"lakecolor\":\"white\",\"landcolor\":\"#E5ECF6\",\"showlakes\":true,\"showland\":true,\"subunitcolor\":\"white\"},\"hoverlabel\":{\"align\":\"left\"},\"hovermode\":\"closest\",\"mapbox\":{\"style\":\"light\"},\"paper_bgcolor\":\"white\",\"plot_bgcolor\":\"#E5ECF6\",\"polar\":{\"angularaxis\":{\"gridcolor\":\"white\",\"linecolor\":\"white\",\"ticks\":\"\"},\"bgcolor\":\"#E5ECF6\",\"radialaxis\":{\"gridcolor\":\"white\",\"linecolor\":\"white\",\"ticks\":\"\"}},\"scene\":{\"xaxis\":{\"backgroundcolor\":\"#E5ECF6\",\"gridcolor\":\"white\",\"gridwidth\":2,\"linecolor\":\"white\",\"showbackground\":true,\"ticks\":\"\",\"zerolinecolor\":\"white\"},\"yaxis\":{\"backgroundcolor\":\"#E5ECF6\",\"gridcolor\":\"white\",\"gridwidth\":2,\"linecolor\":\"white\",\"showbackground\":true,\"ticks\":\"\",\"zerolinecolor\":\"white\"},\"zaxis\":{\"backgroundcolor\":\"#E5ECF6\",\"gridcolor\":\"white\",\"gridwidth\":2,\"linecolor\":\"white\",\"showbackground\":true,\"ticks\":\"\",\"zerolinecolor\":\"white\"}},\"shapedefaults\":{\"line\":{\"color\":\"#2a3f5f\"}},\"ternary\":{\"aaxis\":{\"gridcolor\":\"white\",\"linecolor\":\"white\",\"ticks\":\"\"},\"baxis\":{\"gridcolor\":\"white\",\"linecolor\":\"white\",\"ticks\":\"\"},\"bgcolor\":\"#E5ECF6\",\"caxis\":{\"gridcolor\":\"white\",\"linecolor\":\"white\",\"ticks\":\"\"}},\"title\":{\"x\":0.05},\"xaxis\":{\"automargin\":true,\"gridcolor\":\"white\",\"linecolor\":\"white\",\"ticks\":\"\",\"title\":{\"standoff\":15},\"zerolinecolor\":\"white\",\"zerolinewidth\":2},\"yaxis\":{\"automargin\":true,\"gridcolor\":\"white\",\"linecolor\":\"white\",\"ticks\":\"\",\"title\":{\"standoff\":15},\"zerolinecolor\":\"white\",\"zerolinewidth\":2}}},\"xaxis\":{\"anchor\":\"y\",\"domain\":[0.0,1.0],\"scaleanchor\":\"y\",\"constrain\":\"domain\"},\"yaxis\":{\"anchor\":\"x\",\"domain\":[0.0,1.0],\"autorange\":\"reversed\",\"constrain\":\"domain\"},\"coloraxis\":{\"colorscale\":[[0.0,\"#0d0887\"],[0.1111111111111111,\"#46039f\"],[0.2222222222222222,\"#7201a8\"],[0.3333333333333333,\"#9c179e\"],[0.4444444444444444,\"#bd3786\"],[0.5555555555555556,\"#d8576b\"],[0.6666666666666666,\"#ed7953\"],[0.7777777777777778,\"#fb9f3a\"],[0.8888888888888888,\"#fdca26\"],[1.0,\"#f0f921\"]]},\"margin\":{\"t\":60},\"title\":{\"text\":\"BWU Correlation Matrix among X variables\"}},                        {\"responsive\": true}                    ).then(function(){\n",
              "                            \n",
              "var gd = document.getElementById('c1a03f55-592b-409e-95d0-477891028354');\n",
              "var x = new MutationObserver(function (mutations, observer) {{\n",
              "        var display = window.getComputedStyle(gd).display;\n",
              "        if (!display || display === 'none') {{\n",
              "            console.log([gd, 'removed!']);\n",
              "            Plotly.purge(gd);\n",
              "            observer.disconnect();\n",
              "        }}\n",
              "}});\n",
              "\n",
              "// Listen for the removal of the full notebook cells\n",
              "var notebookContainer = gd.closest('#notebook-container');\n",
              "if (notebookContainer) {{\n",
              "    x.observe(notebookContainer, {childList: true});\n",
              "}}\n",
              "\n",
              "// Listen for the clearing of the current output cell\n",
              "var outputEl = gd.closest('.output');\n",
              "if (outputEl) {{\n",
              "    x.observe(outputEl, {childList: true});\n",
              "}}\n",
              "\n",
              "                        })                };                            </script>        </div>\n",
              "</body>\n",
              "</html>"
            ]
          },
          "metadata": {}
        }
      ]
    },
    {
      "cell_type": "markdown",
      "source": [
        "### Normalized PCA\n",
        "\n",
        "PCA is run on the BWU matrix, bu this time the variables are first normalized with respect to their mean and standard deviation.\n"
      ],
      "metadata": {
        "id": "BSfvxt4hEnj2"
      }
    },
    {
      "cell_type": "code",
      "source": [
        "# Select number of components\n",
        "select_n_components = 10"
      ],
      "metadata": {
        "id": "kgbplE3PfeGp"
      },
      "execution_count": 17,
      "outputs": []
    },
    {
      "cell_type": "code",
      "source": [
        "pca = PCA(n_components=min(min(bwu.shape),select_n_components))\n",
        "# Scale data by mean and standard deviation\n",
        "scaler = StandardScaler()\n",
        "scaled_data = scaler.fit_transform(bwu)\n",
        "pca.fit(scaled_data)\n",
        "expl_var = pca.explained_variance_\n",
        "expl_var_ratio = pca.explained_variance_ratio_\n",
        "pca_n_comp = list(range(1,pca.n_components_+1))\n",
        "components = pca.fit_transform(scaled_data)"
      ],
      "metadata": {
        "id": "n28vGzsxEtpo"
      },
      "execution_count": 18,
      "outputs": []
    },
    {
      "cell_type": "code",
      "source": [
        "# Plot Explained Variance plots\n",
        "fig = px.line(x=pca_n_comp, y=1-expl_var_ratio, color=px.Constant(\"Cumulative explained variance\"), labels=dict(x=\"Principal component index\", y=\"Explained Variance Ratio\", color=\"\"))\n",
        "fig.add_bar(x=pca_n_comp, y=expl_var_ratio, name=\"Individual explained variance\")\n",
        "fig.show()"
      ],
      "metadata": {
        "colab": {
          "base_uri": "https://localhost:8080/",
          "height": 542
        },
        "id": "yag79pojfSQY",
        "outputId": "db8101f9-fa70-461c-d212-e3be04d71fc8"
      },
      "execution_count": 22,
      "outputs": [
        {
          "output_type": "display_data",
          "data": {
            "text/html": [
              "<html>\n",
              "<head><meta charset=\"utf-8\" /></head>\n",
              "<body>\n",
              "    <div>            <script src=\"https://cdnjs.cloudflare.com/ajax/libs/mathjax/2.7.5/MathJax.js?config=TeX-AMS-MML_SVG\"></script><script type=\"text/javascript\">if (window.MathJax) {MathJax.Hub.Config({SVG: {font: \"STIX-Web\"}});}</script>                <script type=\"text/javascript\">window.PlotlyConfig = {MathJaxConfig: 'local'};</script>\n",
              "        <script src=\"https://cdn.plot.ly/plotly-2.8.3.min.js\"></script>                <div id=\"8481d7aa-fafd-4955-82de-97ec9f373da3\" class=\"plotly-graph-div\" style=\"height:525px; width:100%;\"></div>            <script type=\"text/javascript\">                                    window.PLOTLYENV=window.PLOTLYENV || {};                                    if (document.getElementById(\"8481d7aa-fafd-4955-82de-97ec9f373da3\")) {                    Plotly.newPlot(                        \"8481d7aa-fafd-4955-82de-97ec9f373da3\",                        [{\"hovertemplate\":\"=Cumulative explained variance<br>Principal component index=%{x}<br>Explained Variance Ratio=%{y}<extra></extra>\",\"legendgroup\":\"Cumulative explained variance\",\"line\":{\"color\":\"#636efa\",\"dash\":\"solid\"},\"marker\":{\"symbol\":\"circle\"},\"mode\":\"lines\",\"name\":\"Cumulative explained variance\",\"orientation\":\"v\",\"showlegend\":true,\"x\":[1,2,3,4,5,6,7,8,9,10],\"xaxis\":\"x\",\"y\":[0.6237704015034696,0.7241586551910053,0.8482180775275274,0.9227353811199354,0.9674257787604404,0.9784866069570234,0.98266352500709,0.9898102191799153,0.9905005629763953,0.9919612983661154],\"yaxis\":\"y\",\"type\":\"scatter\"},{\"name\":\"Individual explained variance\",\"x\":[1,2,3,4,5,6,7,8,9,10],\"y\":[0.37622959849653037,0.27584134480899475,0.15178192247247252,0.0772646188800646,0.0325742212395596,0.021513393042976663,0.017336474992910064,0.010189780820084688,0.009499437023604663,0.008038701633884631],\"type\":\"bar\"}],                        {\"template\":{\"data\":{\"bar\":[{\"error_x\":{\"color\":\"#2a3f5f\"},\"error_y\":{\"color\":\"#2a3f5f\"},\"marker\":{\"line\":{\"color\":\"#E5ECF6\",\"width\":0.5},\"pattern\":{\"fillmode\":\"overlay\",\"size\":10,\"solidity\":0.2}},\"type\":\"bar\"}],\"barpolar\":[{\"marker\":{\"line\":{\"color\":\"#E5ECF6\",\"width\":0.5},\"pattern\":{\"fillmode\":\"overlay\",\"size\":10,\"solidity\":0.2}},\"type\":\"barpolar\"}],\"carpet\":[{\"aaxis\":{\"endlinecolor\":\"#2a3f5f\",\"gridcolor\":\"white\",\"linecolor\":\"white\",\"minorgridcolor\":\"white\",\"startlinecolor\":\"#2a3f5f\"},\"baxis\":{\"endlinecolor\":\"#2a3f5f\",\"gridcolor\":\"white\",\"linecolor\":\"white\",\"minorgridcolor\":\"white\",\"startlinecolor\":\"#2a3f5f\"},\"type\":\"carpet\"}],\"choropleth\":[{\"colorbar\":{\"outlinewidth\":0,\"ticks\":\"\"},\"type\":\"choropleth\"}],\"contour\":[{\"colorbar\":{\"outlinewidth\":0,\"ticks\":\"\"},\"colorscale\":[[0.0,\"#0d0887\"],[0.1111111111111111,\"#46039f\"],[0.2222222222222222,\"#7201a8\"],[0.3333333333333333,\"#9c179e\"],[0.4444444444444444,\"#bd3786\"],[0.5555555555555556,\"#d8576b\"],[0.6666666666666666,\"#ed7953\"],[0.7777777777777778,\"#fb9f3a\"],[0.8888888888888888,\"#fdca26\"],[1.0,\"#f0f921\"]],\"type\":\"contour\"}],\"contourcarpet\":[{\"colorbar\":{\"outlinewidth\":0,\"ticks\":\"\"},\"type\":\"contourcarpet\"}],\"heatmap\":[{\"colorbar\":{\"outlinewidth\":0,\"ticks\":\"\"},\"colorscale\":[[0.0,\"#0d0887\"],[0.1111111111111111,\"#46039f\"],[0.2222222222222222,\"#7201a8\"],[0.3333333333333333,\"#9c179e\"],[0.4444444444444444,\"#bd3786\"],[0.5555555555555556,\"#d8576b\"],[0.6666666666666666,\"#ed7953\"],[0.7777777777777778,\"#fb9f3a\"],[0.8888888888888888,\"#fdca26\"],[1.0,\"#f0f921\"]],\"type\":\"heatmap\"}],\"heatmapgl\":[{\"colorbar\":{\"outlinewidth\":0,\"ticks\":\"\"},\"colorscale\":[[0.0,\"#0d0887\"],[0.1111111111111111,\"#46039f\"],[0.2222222222222222,\"#7201a8\"],[0.3333333333333333,\"#9c179e\"],[0.4444444444444444,\"#bd3786\"],[0.5555555555555556,\"#d8576b\"],[0.6666666666666666,\"#ed7953\"],[0.7777777777777778,\"#fb9f3a\"],[0.8888888888888888,\"#fdca26\"],[1.0,\"#f0f921\"]],\"type\":\"heatmapgl\"}],\"histogram\":[{\"marker\":{\"pattern\":{\"fillmode\":\"overlay\",\"size\":10,\"solidity\":0.2}},\"type\":\"histogram\"}],\"histogram2d\":[{\"colorbar\":{\"outlinewidth\":0,\"ticks\":\"\"},\"colorscale\":[[0.0,\"#0d0887\"],[0.1111111111111111,\"#46039f\"],[0.2222222222222222,\"#7201a8\"],[0.3333333333333333,\"#9c179e\"],[0.4444444444444444,\"#bd3786\"],[0.5555555555555556,\"#d8576b\"],[0.6666666666666666,\"#ed7953\"],[0.7777777777777778,\"#fb9f3a\"],[0.8888888888888888,\"#fdca26\"],[1.0,\"#f0f921\"]],\"type\":\"histogram2d\"}],\"histogram2dcontour\":[{\"colorbar\":{\"outlinewidth\":0,\"ticks\":\"\"},\"colorscale\":[[0.0,\"#0d0887\"],[0.1111111111111111,\"#46039f\"],[0.2222222222222222,\"#7201a8\"],[0.3333333333333333,\"#9c179e\"],[0.4444444444444444,\"#bd3786\"],[0.5555555555555556,\"#d8576b\"],[0.6666666666666666,\"#ed7953\"],[0.7777777777777778,\"#fb9f3a\"],[0.8888888888888888,\"#fdca26\"],[1.0,\"#f0f921\"]],\"type\":\"histogram2dcontour\"}],\"mesh3d\":[{\"colorbar\":{\"outlinewidth\":0,\"ticks\":\"\"},\"type\":\"mesh3d\"}],\"parcoords\":[{\"line\":{\"colorbar\":{\"outlinewidth\":0,\"ticks\":\"\"}},\"type\":\"parcoords\"}],\"pie\":[{\"automargin\":true,\"type\":\"pie\"}],\"scatter\":[{\"marker\":{\"colorbar\":{\"outlinewidth\":0,\"ticks\":\"\"}},\"type\":\"scatter\"}],\"scatter3d\":[{\"line\":{\"colorbar\":{\"outlinewidth\":0,\"ticks\":\"\"}},\"marker\":{\"colorbar\":{\"outlinewidth\":0,\"ticks\":\"\"}},\"type\":\"scatter3d\"}],\"scattercarpet\":[{\"marker\":{\"colorbar\":{\"outlinewidth\":0,\"ticks\":\"\"}},\"type\":\"scattercarpet\"}],\"scattergeo\":[{\"marker\":{\"colorbar\":{\"outlinewidth\":0,\"ticks\":\"\"}},\"type\":\"scattergeo\"}],\"scattergl\":[{\"marker\":{\"colorbar\":{\"outlinewidth\":0,\"ticks\":\"\"}},\"type\":\"scattergl\"}],\"scattermapbox\":[{\"marker\":{\"colorbar\":{\"outlinewidth\":0,\"ticks\":\"\"}},\"type\":\"scattermapbox\"}],\"scatterpolar\":[{\"marker\":{\"colorbar\":{\"outlinewidth\":0,\"ticks\":\"\"}},\"type\":\"scatterpolar\"}],\"scatterpolargl\":[{\"marker\":{\"colorbar\":{\"outlinewidth\":0,\"ticks\":\"\"}},\"type\":\"scatterpolargl\"}],\"scatterternary\":[{\"marker\":{\"colorbar\":{\"outlinewidth\":0,\"ticks\":\"\"}},\"type\":\"scatterternary\"}],\"surface\":[{\"colorbar\":{\"outlinewidth\":0,\"ticks\":\"\"},\"colorscale\":[[0.0,\"#0d0887\"],[0.1111111111111111,\"#46039f\"],[0.2222222222222222,\"#7201a8\"],[0.3333333333333333,\"#9c179e\"],[0.4444444444444444,\"#bd3786\"],[0.5555555555555556,\"#d8576b\"],[0.6666666666666666,\"#ed7953\"],[0.7777777777777778,\"#fb9f3a\"],[0.8888888888888888,\"#fdca26\"],[1.0,\"#f0f921\"]],\"type\":\"surface\"}],\"table\":[{\"cells\":{\"fill\":{\"color\":\"#EBF0F8\"},\"line\":{\"color\":\"white\"}},\"header\":{\"fill\":{\"color\":\"#C8D4E3\"},\"line\":{\"color\":\"white\"}},\"type\":\"table\"}]},\"layout\":{\"annotationdefaults\":{\"arrowcolor\":\"#2a3f5f\",\"arrowhead\":0,\"arrowwidth\":1},\"autotypenumbers\":\"strict\",\"coloraxis\":{\"colorbar\":{\"outlinewidth\":0,\"ticks\":\"\"}},\"colorscale\":{\"diverging\":[[0,\"#8e0152\"],[0.1,\"#c51b7d\"],[0.2,\"#de77ae\"],[0.3,\"#f1b6da\"],[0.4,\"#fde0ef\"],[0.5,\"#f7f7f7\"],[0.6,\"#e6f5d0\"],[0.7,\"#b8e186\"],[0.8,\"#7fbc41\"],[0.9,\"#4d9221\"],[1,\"#276419\"]],\"sequential\":[[0.0,\"#0d0887\"],[0.1111111111111111,\"#46039f\"],[0.2222222222222222,\"#7201a8\"],[0.3333333333333333,\"#9c179e\"],[0.4444444444444444,\"#bd3786\"],[0.5555555555555556,\"#d8576b\"],[0.6666666666666666,\"#ed7953\"],[0.7777777777777778,\"#fb9f3a\"],[0.8888888888888888,\"#fdca26\"],[1.0,\"#f0f921\"]],\"sequentialminus\":[[0.0,\"#0d0887\"],[0.1111111111111111,\"#46039f\"],[0.2222222222222222,\"#7201a8\"],[0.3333333333333333,\"#9c179e\"],[0.4444444444444444,\"#bd3786\"],[0.5555555555555556,\"#d8576b\"],[0.6666666666666666,\"#ed7953\"],[0.7777777777777778,\"#fb9f3a\"],[0.8888888888888888,\"#fdca26\"],[1.0,\"#f0f921\"]]},\"colorway\":[\"#636efa\",\"#EF553B\",\"#00cc96\",\"#ab63fa\",\"#FFA15A\",\"#19d3f3\",\"#FF6692\",\"#B6E880\",\"#FF97FF\",\"#FECB52\"],\"font\":{\"color\":\"#2a3f5f\"},\"geo\":{\"bgcolor\":\"white\",\"lakecolor\":\"white\",\"landcolor\":\"#E5ECF6\",\"showlakes\":true,\"showland\":true,\"subunitcolor\":\"white\"},\"hoverlabel\":{\"align\":\"left\"},\"hovermode\":\"closest\",\"mapbox\":{\"style\":\"light\"},\"paper_bgcolor\":\"white\",\"plot_bgcolor\":\"#E5ECF6\",\"polar\":{\"angularaxis\":{\"gridcolor\":\"white\",\"linecolor\":\"white\",\"ticks\":\"\"},\"bgcolor\":\"#E5ECF6\",\"radialaxis\":{\"gridcolor\":\"white\",\"linecolor\":\"white\",\"ticks\":\"\"}},\"scene\":{\"xaxis\":{\"backgroundcolor\":\"#E5ECF6\",\"gridcolor\":\"white\",\"gridwidth\":2,\"linecolor\":\"white\",\"showbackground\":true,\"ticks\":\"\",\"zerolinecolor\":\"white\"},\"yaxis\":{\"backgroundcolor\":\"#E5ECF6\",\"gridcolor\":\"white\",\"gridwidth\":2,\"linecolor\":\"white\",\"showbackground\":true,\"ticks\":\"\",\"zerolinecolor\":\"white\"},\"zaxis\":{\"backgroundcolor\":\"#E5ECF6\",\"gridcolor\":\"white\",\"gridwidth\":2,\"linecolor\":\"white\",\"showbackground\":true,\"ticks\":\"\",\"zerolinecolor\":\"white\"}},\"shapedefaults\":{\"line\":{\"color\":\"#2a3f5f\"}},\"ternary\":{\"aaxis\":{\"gridcolor\":\"white\",\"linecolor\":\"white\",\"ticks\":\"\"},\"baxis\":{\"gridcolor\":\"white\",\"linecolor\":\"white\",\"ticks\":\"\"},\"bgcolor\":\"#E5ECF6\",\"caxis\":{\"gridcolor\":\"white\",\"linecolor\":\"white\",\"ticks\":\"\"}},\"title\":{\"x\":0.05},\"xaxis\":{\"automargin\":true,\"gridcolor\":\"white\",\"linecolor\":\"white\",\"ticks\":\"\",\"title\":{\"standoff\":15},\"zerolinecolor\":\"white\",\"zerolinewidth\":2},\"yaxis\":{\"automargin\":true,\"gridcolor\":\"white\",\"linecolor\":\"white\",\"ticks\":\"\",\"title\":{\"standoff\":15},\"zerolinecolor\":\"white\",\"zerolinewidth\":2}}},\"xaxis\":{\"anchor\":\"y\",\"domain\":[0.0,1.0],\"title\":{\"text\":\"Principal component index\"}},\"yaxis\":{\"anchor\":\"x\",\"domain\":[0.0,1.0],\"title\":{\"text\":\"Explained Variance Ratio\"}},\"legend\":{\"title\":{\"text\":\"\"},\"tracegroupgap\":0},\"margin\":{\"t\":60}},                        {\"responsive\": true}                    ).then(function(){\n",
              "                            \n",
              "var gd = document.getElementById('8481d7aa-fafd-4955-82de-97ec9f373da3');\n",
              "var x = new MutationObserver(function (mutations, observer) {{\n",
              "        var display = window.getComputedStyle(gd).display;\n",
              "        if (!display || display === 'none') {{\n",
              "            console.log([gd, 'removed!']);\n",
              "            Plotly.purge(gd);\n",
              "            observer.disconnect();\n",
              "        }}\n",
              "}});\n",
              "\n",
              "// Listen for the removal of the full notebook cells\n",
              "var notebookContainer = gd.closest('#notebook-container');\n",
              "if (notebookContainer) {{\n",
              "    x.observe(notebookContainer, {childList: true});\n",
              "}}\n",
              "\n",
              "// Listen for the clearing of the current output cell\n",
              "var outputEl = gd.closest('.output');\n",
              "if (outputEl) {{\n",
              "    x.observe(outputEl, {childList: true});\n",
              "}}\n",
              "\n",
              "                        })                };                            </script>        </div>\n",
              "</body>\n",
              "</html>"
            ]
          },
          "metadata": {}
        }
      ]
    },
    {
      "cell_type": "markdown",
      "source": [
        "### Plot scores and loadings\n",
        "\n",
        "In the following plot, the PCA loadings are plotted first with the loadings and then without.\n"
      ],
      "metadata": {
        "id": "8QAIImyPE3rG"
      }
    },
    {
      "cell_type": "code",
      "source": [
        "# Principal component on x-axis\n",
        "select_x_pca = 1\n",
        "# Principal component on y-axis\n",
        "select_y_pca = 2\n",
        "# Color plots by\n",
        "select_coloring = None"
      ],
      "metadata": {
        "id": "3XCKuviEFBm0"
      },
      "execution_count": 23,
      "outputs": []
    },
    {
      "cell_type": "code",
      "source": [
        "# Score plot of PCA\n",
        "fig = px.scatter(x=components[:,select_x_pca-1], y=components[:,select_y_pca-1], labels={'x':\"Principal Component - \"+str(select_x_pca), 'y':\"Principal Component - \"+str(select_y_pca)}, title=\"PCA BWU Score plot\")\n",
        "fig.show()"
      ],
      "metadata": {
        "id": "6EHI3aRiLSus",
        "outputId": "0ae3e180-2e98-4db4-f6b0-240519cdef46",
        "colab": {
          "base_uri": "https://localhost:8080/",
          "height": 542
        }
      },
      "execution_count": 24,
      "outputs": [
        {
          "output_type": "display_data",
          "data": {
            "text/html": [
              "<html>\n",
              "<head><meta charset=\"utf-8\" /></head>\n",
              "<body>\n",
              "    <div>            <script src=\"https://cdnjs.cloudflare.com/ajax/libs/mathjax/2.7.5/MathJax.js?config=TeX-AMS-MML_SVG\"></script><script type=\"text/javascript\">if (window.MathJax) {MathJax.Hub.Config({SVG: {font: \"STIX-Web\"}});}</script>                <script type=\"text/javascript\">window.PlotlyConfig = {MathJaxConfig: 'local'};</script>\n",
              "        <script src=\"https://cdn.plot.ly/plotly-2.8.3.min.js\"></script>                <div id=\"8d88ad8c-fd1c-4334-a5ae-b9c218fe868e\" class=\"plotly-graph-div\" style=\"height:525px; width:100%;\"></div>            <script type=\"text/javascript\">                                    window.PLOTLYENV=window.PLOTLYENV || {};                                    if (document.getElementById(\"8d88ad8c-fd1c-4334-a5ae-b9c218fe868e\")) {                    Plotly.newPlot(                        \"8d88ad8c-fd1c-4334-a5ae-b9c218fe868e\",                        [{\"hovertemplate\":\"Principal Component - 1=%{x}<br>Principal Component - 2=%{y}<extra></extra>\",\"legendgroup\":\"\",\"marker\":{\"color\":\"#636efa\",\"symbol\":\"circle\"},\"mode\":\"markers\",\"name\":\"\",\"orientation\":\"v\",\"showlegend\":false,\"x\":[-0.9856222065455638,-2.0931510921934144,-5.4275344183293495,3.951242335547286,-0.43445083324624945,-0.5643541312759183,-5.120961679429909,-1.1469934083761968,-3.202649729016196,-1.7851974285225383,-2.930672524217885,-7.643131295816422,-3.1911981736039525,-2.3051517348808357,-5.357060668505211,13.766101680800013,-0.21969156910178375,4.278707745578708,-1.812806927554427,7.245350627693486,4.307127271549294,-5.426521753841927,-5.319208857636575,-1.1064163115346826,-0.6872921676249207,12.613081982903584,-6.040884280461904,13.04738436288445,0.9189154673882735,-5.580982523267486,4.6211135178095395,-2.7667596465178828,1.1143302997561333,0.00533851701191253,-0.324947015033598,-0.09266766189884527,3.733861002203123,4.325462433027186,0.06318862623845725,11.19308860706294,-4.24697503143527,-5.627022817157691,-1.0228723203762495,5.190667017254785,-1.052656591180803,-3.666700762354555,4.331281579870874,-6.188693613750483,7.027423916991942,13.21684366809474,7.290469747652017,-1.494513326700174,-2.7991453206551955,0.3890183827876306,-2.245841896298166,-3.166082866132372,-0.6437105377206809,0.900912935554168,-6.395567463143129,-2.9932447910385056,1.153287747100216,-6.285878152628005,-4.73350045841576,12.57673022508925,-0.382590712187249,5.355340742888959,-0.2903210288064202,-6.25722011466284,-3.7467797393630695,-5.697550305992587,1.6372594448928757,3.549933844754906,-0.5651023870708464,-5.390287709762827,3.912205591340458,-0.676685619616733,-0.7606977107605871,6.609140282188511,-5.6037034096920815,0.059836451455102475,-0.8172664922691388,-3.9589865731549017,-4.273997658857043,-1.0604687914823876,0.4708818572164359,-3.619436336633999,-4.742730526039541,2.7554040256406616,12.061354752345833,-5.961734039293248,6.481169818252596,0.16527584119128905,-3.1142466330085523,1.2278697025324177,10.618392091528927,0.8375909642578796,-4.502345798400799,-5.187351317618077,1.4714681746658311,-3.735836390909051],\"xaxis\":\"x\",\"y\":[4.264864982592111,1.7758336058442745,3.48321044867224,-3.906914852364244,-1.8316655291570083,-1.4876327367750026,3.941652110391476,-0.6569312263640519,-0.996356188299909,2.100550531833302,-0.7222631887477022,4.245376963026722,1.6233152624773686,-1.8041878077715297,2.1000187631545764,2.963537874321961,2.9456696072300455,-6.927100219752253,0.3817160005389504,-1.1928309631494582,-3.9038475069494583,4.82399170687407,1.9334560056802599,-5.2529961207992955,-5.0908253392647556,5.282841751339177,3.4968849458144877,0.5134613981717044,3.170288499980284,2.5596819788253438,-3.737749647666479,6.199076720416061,0.5680722587640681,-1.532821110361222,-3.536052209703802,-0.19338400513180504,-8.407570896803652,-8.883980275426781,-2.1499419763368244,9.460842829092032,0.2372039311708858,5.793654878384685,-4.278921968109241,-4.918730111189064,-4.228762656766737,-1.84632935069873,-4.3257147800259155,3.8688061870839405,5.473071790059688,6.7002086073145275,4.51583117117602,0.41128738321691494,0.24989730299215693,-8.860726629402052,-1.959620314728244,-2.165621668552238,-0.7219184768625356,-0.10307721141787023,3.5929307486586346,-3.3066489263551633,4.531252363792105,3.255703469825375,3.1286930515025615,3.42712194286466,-7.238381387458776,-1.4742276154368306,-5.774047283887828,5.559255535844754,0.5943232305168353,2.120258374334357,-1.189813107438185,4.432189941491602,-2.3383163066664725,1.7566094622836146,-3.747652138964058,-1.5534060931309883,-5.387602110695529,10.350750279777232,1.1020006263209636,-0.40637399471609137,-6.094561615285732,-1.4823486462742306,1.4712541162295327,8.081680232332193,-7.046875987987931,2.746626053280457,3.7718994543112068,5.478246896684305,-1.8209988175818361,2.780385895809083,4.9352076576804595,-7.829278339913421,-0.27000072902766004,-7.732289679404148,7.439202831549808,-7.465053242768355,0.14157665825298518,0.06106791500825155,-9.567421197347683,1.5072299541284495],\"yaxis\":\"y\",\"type\":\"scatter\"}],                        {\"template\":{\"data\":{\"bar\":[{\"error_x\":{\"color\":\"#2a3f5f\"},\"error_y\":{\"color\":\"#2a3f5f\"},\"marker\":{\"line\":{\"color\":\"#E5ECF6\",\"width\":0.5},\"pattern\":{\"fillmode\":\"overlay\",\"size\":10,\"solidity\":0.2}},\"type\":\"bar\"}],\"barpolar\":[{\"marker\":{\"line\":{\"color\":\"#E5ECF6\",\"width\":0.5},\"pattern\":{\"fillmode\":\"overlay\",\"size\":10,\"solidity\":0.2}},\"type\":\"barpolar\"}],\"carpet\":[{\"aaxis\":{\"endlinecolor\":\"#2a3f5f\",\"gridcolor\":\"white\",\"linecolor\":\"white\",\"minorgridcolor\":\"white\",\"startlinecolor\":\"#2a3f5f\"},\"baxis\":{\"endlinecolor\":\"#2a3f5f\",\"gridcolor\":\"white\",\"linecolor\":\"white\",\"minorgridcolor\":\"white\",\"startlinecolor\":\"#2a3f5f\"},\"type\":\"carpet\"}],\"choropleth\":[{\"colorbar\":{\"outlinewidth\":0,\"ticks\":\"\"},\"type\":\"choropleth\"}],\"contour\":[{\"colorbar\":{\"outlinewidth\":0,\"ticks\":\"\"},\"colorscale\":[[0.0,\"#0d0887\"],[0.1111111111111111,\"#46039f\"],[0.2222222222222222,\"#7201a8\"],[0.3333333333333333,\"#9c179e\"],[0.4444444444444444,\"#bd3786\"],[0.5555555555555556,\"#d8576b\"],[0.6666666666666666,\"#ed7953\"],[0.7777777777777778,\"#fb9f3a\"],[0.8888888888888888,\"#fdca26\"],[1.0,\"#f0f921\"]],\"type\":\"contour\"}],\"contourcarpet\":[{\"colorbar\":{\"outlinewidth\":0,\"ticks\":\"\"},\"type\":\"contourcarpet\"}],\"heatmap\":[{\"colorbar\":{\"outlinewidth\":0,\"ticks\":\"\"},\"colorscale\":[[0.0,\"#0d0887\"],[0.1111111111111111,\"#46039f\"],[0.2222222222222222,\"#7201a8\"],[0.3333333333333333,\"#9c179e\"],[0.4444444444444444,\"#bd3786\"],[0.5555555555555556,\"#d8576b\"],[0.6666666666666666,\"#ed7953\"],[0.7777777777777778,\"#fb9f3a\"],[0.8888888888888888,\"#fdca26\"],[1.0,\"#f0f921\"]],\"type\":\"heatmap\"}],\"heatmapgl\":[{\"colorbar\":{\"outlinewidth\":0,\"ticks\":\"\"},\"colorscale\":[[0.0,\"#0d0887\"],[0.1111111111111111,\"#46039f\"],[0.2222222222222222,\"#7201a8\"],[0.3333333333333333,\"#9c179e\"],[0.4444444444444444,\"#bd3786\"],[0.5555555555555556,\"#d8576b\"],[0.6666666666666666,\"#ed7953\"],[0.7777777777777778,\"#fb9f3a\"],[0.8888888888888888,\"#fdca26\"],[1.0,\"#f0f921\"]],\"type\":\"heatmapgl\"}],\"histogram\":[{\"marker\":{\"pattern\":{\"fillmode\":\"overlay\",\"size\":10,\"solidity\":0.2}},\"type\":\"histogram\"}],\"histogram2d\":[{\"colorbar\":{\"outlinewidth\":0,\"ticks\":\"\"},\"colorscale\":[[0.0,\"#0d0887\"],[0.1111111111111111,\"#46039f\"],[0.2222222222222222,\"#7201a8\"],[0.3333333333333333,\"#9c179e\"],[0.4444444444444444,\"#bd3786\"],[0.5555555555555556,\"#d8576b\"],[0.6666666666666666,\"#ed7953\"],[0.7777777777777778,\"#fb9f3a\"],[0.8888888888888888,\"#fdca26\"],[1.0,\"#f0f921\"]],\"type\":\"histogram2d\"}],\"histogram2dcontour\":[{\"colorbar\":{\"outlinewidth\":0,\"ticks\":\"\"},\"colorscale\":[[0.0,\"#0d0887\"],[0.1111111111111111,\"#46039f\"],[0.2222222222222222,\"#7201a8\"],[0.3333333333333333,\"#9c179e\"],[0.4444444444444444,\"#bd3786\"],[0.5555555555555556,\"#d8576b\"],[0.6666666666666666,\"#ed7953\"],[0.7777777777777778,\"#fb9f3a\"],[0.8888888888888888,\"#fdca26\"],[1.0,\"#f0f921\"]],\"type\":\"histogram2dcontour\"}],\"mesh3d\":[{\"colorbar\":{\"outlinewidth\":0,\"ticks\":\"\"},\"type\":\"mesh3d\"}],\"parcoords\":[{\"line\":{\"colorbar\":{\"outlinewidth\":0,\"ticks\":\"\"}},\"type\":\"parcoords\"}],\"pie\":[{\"automargin\":true,\"type\":\"pie\"}],\"scatter\":[{\"marker\":{\"colorbar\":{\"outlinewidth\":0,\"ticks\":\"\"}},\"type\":\"scatter\"}],\"scatter3d\":[{\"line\":{\"colorbar\":{\"outlinewidth\":0,\"ticks\":\"\"}},\"marker\":{\"colorbar\":{\"outlinewidth\":0,\"ticks\":\"\"}},\"type\":\"scatter3d\"}],\"scattercarpet\":[{\"marker\":{\"colorbar\":{\"outlinewidth\":0,\"ticks\":\"\"}},\"type\":\"scattercarpet\"}],\"scattergeo\":[{\"marker\":{\"colorbar\":{\"outlinewidth\":0,\"ticks\":\"\"}},\"type\":\"scattergeo\"}],\"scattergl\":[{\"marker\":{\"colorbar\":{\"outlinewidth\":0,\"ticks\":\"\"}},\"type\":\"scattergl\"}],\"scattermapbox\":[{\"marker\":{\"colorbar\":{\"outlinewidth\":0,\"ticks\":\"\"}},\"type\":\"scattermapbox\"}],\"scatterpolar\":[{\"marker\":{\"colorbar\":{\"outlinewidth\":0,\"ticks\":\"\"}},\"type\":\"scatterpolar\"}],\"scatterpolargl\":[{\"marker\":{\"colorbar\":{\"outlinewidth\":0,\"ticks\":\"\"}},\"type\":\"scatterpolargl\"}],\"scatterternary\":[{\"marker\":{\"colorbar\":{\"outlinewidth\":0,\"ticks\":\"\"}},\"type\":\"scatterternary\"}],\"surface\":[{\"colorbar\":{\"outlinewidth\":0,\"ticks\":\"\"},\"colorscale\":[[0.0,\"#0d0887\"],[0.1111111111111111,\"#46039f\"],[0.2222222222222222,\"#7201a8\"],[0.3333333333333333,\"#9c179e\"],[0.4444444444444444,\"#bd3786\"],[0.5555555555555556,\"#d8576b\"],[0.6666666666666666,\"#ed7953\"],[0.7777777777777778,\"#fb9f3a\"],[0.8888888888888888,\"#fdca26\"],[1.0,\"#f0f921\"]],\"type\":\"surface\"}],\"table\":[{\"cells\":{\"fill\":{\"color\":\"#EBF0F8\"},\"line\":{\"color\":\"white\"}},\"header\":{\"fill\":{\"color\":\"#C8D4E3\"},\"line\":{\"color\":\"white\"}},\"type\":\"table\"}]},\"layout\":{\"annotationdefaults\":{\"arrowcolor\":\"#2a3f5f\",\"arrowhead\":0,\"arrowwidth\":1},\"autotypenumbers\":\"strict\",\"coloraxis\":{\"colorbar\":{\"outlinewidth\":0,\"ticks\":\"\"}},\"colorscale\":{\"diverging\":[[0,\"#8e0152\"],[0.1,\"#c51b7d\"],[0.2,\"#de77ae\"],[0.3,\"#f1b6da\"],[0.4,\"#fde0ef\"],[0.5,\"#f7f7f7\"],[0.6,\"#e6f5d0\"],[0.7,\"#b8e186\"],[0.8,\"#7fbc41\"],[0.9,\"#4d9221\"],[1,\"#276419\"]],\"sequential\":[[0.0,\"#0d0887\"],[0.1111111111111111,\"#46039f\"],[0.2222222222222222,\"#7201a8\"],[0.3333333333333333,\"#9c179e\"],[0.4444444444444444,\"#bd3786\"],[0.5555555555555556,\"#d8576b\"],[0.6666666666666666,\"#ed7953\"],[0.7777777777777778,\"#fb9f3a\"],[0.8888888888888888,\"#fdca26\"],[1.0,\"#f0f921\"]],\"sequentialminus\":[[0.0,\"#0d0887\"],[0.1111111111111111,\"#46039f\"],[0.2222222222222222,\"#7201a8\"],[0.3333333333333333,\"#9c179e\"],[0.4444444444444444,\"#bd3786\"],[0.5555555555555556,\"#d8576b\"],[0.6666666666666666,\"#ed7953\"],[0.7777777777777778,\"#fb9f3a\"],[0.8888888888888888,\"#fdca26\"],[1.0,\"#f0f921\"]]},\"colorway\":[\"#636efa\",\"#EF553B\",\"#00cc96\",\"#ab63fa\",\"#FFA15A\",\"#19d3f3\",\"#FF6692\",\"#B6E880\",\"#FF97FF\",\"#FECB52\"],\"font\":{\"color\":\"#2a3f5f\"},\"geo\":{\"bgcolor\":\"white\",\"lakecolor\":\"white\",\"landcolor\":\"#E5ECF6\",\"showlakes\":true,\"showland\":true,\"subunitcolor\":\"white\"},\"hoverlabel\":{\"align\":\"left\"},\"hovermode\":\"closest\",\"mapbox\":{\"style\":\"light\"},\"paper_bgcolor\":\"white\",\"plot_bgcolor\":\"#E5ECF6\",\"polar\":{\"angularaxis\":{\"gridcolor\":\"white\",\"linecolor\":\"white\",\"ticks\":\"\"},\"bgcolor\":\"#E5ECF6\",\"radialaxis\":{\"gridcolor\":\"white\",\"linecolor\":\"white\",\"ticks\":\"\"}},\"scene\":{\"xaxis\":{\"backgroundcolor\":\"#E5ECF6\",\"gridcolor\":\"white\",\"gridwidth\":2,\"linecolor\":\"white\",\"showbackground\":true,\"ticks\":\"\",\"zerolinecolor\":\"white\"},\"yaxis\":{\"backgroundcolor\":\"#E5ECF6\",\"gridcolor\":\"white\",\"gridwidth\":2,\"linecolor\":\"white\",\"showbackground\":true,\"ticks\":\"\",\"zerolinecolor\":\"white\"},\"zaxis\":{\"backgroundcolor\":\"#E5ECF6\",\"gridcolor\":\"white\",\"gridwidth\":2,\"linecolor\":\"white\",\"showbackground\":true,\"ticks\":\"\",\"zerolinecolor\":\"white\"}},\"shapedefaults\":{\"line\":{\"color\":\"#2a3f5f\"}},\"ternary\":{\"aaxis\":{\"gridcolor\":\"white\",\"linecolor\":\"white\",\"ticks\":\"\"},\"baxis\":{\"gridcolor\":\"white\",\"linecolor\":\"white\",\"ticks\":\"\"},\"bgcolor\":\"#E5ECF6\",\"caxis\":{\"gridcolor\":\"white\",\"linecolor\":\"white\",\"ticks\":\"\"}},\"title\":{\"x\":0.05},\"xaxis\":{\"automargin\":true,\"gridcolor\":\"white\",\"linecolor\":\"white\",\"ticks\":\"\",\"title\":{\"standoff\":15},\"zerolinecolor\":\"white\",\"zerolinewidth\":2},\"yaxis\":{\"automargin\":true,\"gridcolor\":\"white\",\"linecolor\":\"white\",\"ticks\":\"\",\"title\":{\"standoff\":15},\"zerolinecolor\":\"white\",\"zerolinewidth\":2}}},\"xaxis\":{\"anchor\":\"y\",\"domain\":[0.0,1.0],\"title\":{\"text\":\"Principal Component - 1\"}},\"yaxis\":{\"anchor\":\"x\",\"domain\":[0.0,1.0],\"title\":{\"text\":\"Principal Component - 2\"}},\"legend\":{\"tracegroupgap\":0},\"title\":{\"text\":\"PCA BWU Score plot\"}},                        {\"responsive\": true}                    ).then(function(){\n",
              "                            \n",
              "var gd = document.getElementById('8d88ad8c-fd1c-4334-a5ae-b9c218fe868e');\n",
              "var x = new MutationObserver(function (mutations, observer) {{\n",
              "        var display = window.getComputedStyle(gd).display;\n",
              "        if (!display || display === 'none') {{\n",
              "            console.log([gd, 'removed!']);\n",
              "            Plotly.purge(gd);\n",
              "            observer.disconnect();\n",
              "        }}\n",
              "}});\n",
              "\n",
              "// Listen for the removal of the full notebook cells\n",
              "var notebookContainer = gd.closest('#notebook-container');\n",
              "if (notebookContainer) {{\n",
              "    x.observe(notebookContainer, {childList: true});\n",
              "}}\n",
              "\n",
              "// Listen for the clearing of the current output cell\n",
              "var outputEl = gd.closest('.output');\n",
              "if (outputEl) {{\n",
              "    x.observe(outputEl, {childList: true});\n",
              "}}\n",
              "\n",
              "                        })                };                            </script>        </div>\n",
              "</body>\n",
              "</html>"
            ]
          },
          "metadata": {}
        }
      ]
    },
    {
      "cell_type": "code",
      "source": [
        "# Loading plot of PCA\n",
        "loadings = pca.components_.T * np.sqrt(pca.explained_variance_)\n",
        "features = list(bwu.columns)\n",
        "\n",
        "fig = px.scatter(x=[0,0], y=[0,0], labels={'x':\"Principal Component - \"+str(select_x_pca), 'y':\"Principal Component - \"+str(select_y_pca)}, title=\"PCA Loading plot\")\n",
        "for i, feature in enumerate(features):\n",
        "    fig.add_shape(type='line', x0=0, y0=0, x1=loadings[i, 0], y1=loadings[i, 1])\n",
        "    fig.add_annotation(x=loadings[i, 0], y=loadings[i, 1], ax=0, ay=0, xanchor=\"center\", yanchor=\"bottom\", text=feature)\n",
        "fig.show()\n"
      ],
      "metadata": {
        "id": "mNbbz2YBLWxS",
        "outputId": "7f0a26f2-4584-4b1a-dd4a-f7711e8f59df",
        "colab": {
          "base_uri": "https://localhost:8080/",
          "height": 542
        }
      },
      "execution_count": 25,
      "outputs": [
        {
          "output_type": "display_data",
          "data": {
            "text/html": [
              "<html>\n",
              "<head><meta charset=\"utf-8\" /></head>\n",
              "<body>\n",
              "    <div>            <script src=\"https://cdnjs.cloudflare.com/ajax/libs/mathjax/2.7.5/MathJax.js?config=TeX-AMS-MML_SVG\"></script><script type=\"text/javascript\">if (window.MathJax) {MathJax.Hub.Config({SVG: {font: \"STIX-Web\"}});}</script>                <script type=\"text/javascript\">window.PlotlyConfig = {MathJaxConfig: 'local'};</script>\n",
              "        <script src=\"https://cdn.plot.ly/plotly-2.8.3.min.js\"></script>                <div id=\"38f32941-523a-4015-af42-8480b27ee36e\" class=\"plotly-graph-div\" style=\"height:525px; width:100%;\"></div>            <script type=\"text/javascript\">                                    window.PLOTLYENV=window.PLOTLYENV || {};                                    if (document.getElementById(\"38f32941-523a-4015-af42-8480b27ee36e\")) {                    Plotly.newPlot(                        \"38f32941-523a-4015-af42-8480b27ee36e\",                        [{\"hovertemplate\":\"Principal Component - 1=%{x}<br>Principal Component - 2=%{y}<extra></extra>\",\"legendgroup\":\"\",\"marker\":{\"color\":\"#636efa\",\"symbol\":\"circle\"},\"mode\":\"markers\",\"name\":\"\",\"orientation\":\"v\",\"showlegend\":false,\"x\":[0,0],\"xaxis\":\"x\",\"y\":[0,0],\"yaxis\":\"y\",\"type\":\"scatter\"}],                        {\"template\":{\"data\":{\"bar\":[{\"error_x\":{\"color\":\"#2a3f5f\"},\"error_y\":{\"color\":\"#2a3f5f\"},\"marker\":{\"line\":{\"color\":\"#E5ECF6\",\"width\":0.5},\"pattern\":{\"fillmode\":\"overlay\",\"size\":10,\"solidity\":0.2}},\"type\":\"bar\"}],\"barpolar\":[{\"marker\":{\"line\":{\"color\":\"#E5ECF6\",\"width\":0.5},\"pattern\":{\"fillmode\":\"overlay\",\"size\":10,\"solidity\":0.2}},\"type\":\"barpolar\"}],\"carpet\":[{\"aaxis\":{\"endlinecolor\":\"#2a3f5f\",\"gridcolor\":\"white\",\"linecolor\":\"white\",\"minorgridcolor\":\"white\",\"startlinecolor\":\"#2a3f5f\"},\"baxis\":{\"endlinecolor\":\"#2a3f5f\",\"gridcolor\":\"white\",\"linecolor\":\"white\",\"minorgridcolor\":\"white\",\"startlinecolor\":\"#2a3f5f\"},\"type\":\"carpet\"}],\"choropleth\":[{\"colorbar\":{\"outlinewidth\":0,\"ticks\":\"\"},\"type\":\"choropleth\"}],\"contour\":[{\"colorbar\":{\"outlinewidth\":0,\"ticks\":\"\"},\"colorscale\":[[0.0,\"#0d0887\"],[0.1111111111111111,\"#46039f\"],[0.2222222222222222,\"#7201a8\"],[0.3333333333333333,\"#9c179e\"],[0.4444444444444444,\"#bd3786\"],[0.5555555555555556,\"#d8576b\"],[0.6666666666666666,\"#ed7953\"],[0.7777777777777778,\"#fb9f3a\"],[0.8888888888888888,\"#fdca26\"],[1.0,\"#f0f921\"]],\"type\":\"contour\"}],\"contourcarpet\":[{\"colorbar\":{\"outlinewidth\":0,\"ticks\":\"\"},\"type\":\"contourcarpet\"}],\"heatmap\":[{\"colorbar\":{\"outlinewidth\":0,\"ticks\":\"\"},\"colorscale\":[[0.0,\"#0d0887\"],[0.1111111111111111,\"#46039f\"],[0.2222222222222222,\"#7201a8\"],[0.3333333333333333,\"#9c179e\"],[0.4444444444444444,\"#bd3786\"],[0.5555555555555556,\"#d8576b\"],[0.6666666666666666,\"#ed7953\"],[0.7777777777777778,\"#fb9f3a\"],[0.8888888888888888,\"#fdca26\"],[1.0,\"#f0f921\"]],\"type\":\"heatmap\"}],\"heatmapgl\":[{\"colorbar\":{\"outlinewidth\":0,\"ticks\":\"\"},\"colorscale\":[[0.0,\"#0d0887\"],[0.1111111111111111,\"#46039f\"],[0.2222222222222222,\"#7201a8\"],[0.3333333333333333,\"#9c179e\"],[0.4444444444444444,\"#bd3786\"],[0.5555555555555556,\"#d8576b\"],[0.6666666666666666,\"#ed7953\"],[0.7777777777777778,\"#fb9f3a\"],[0.8888888888888888,\"#fdca26\"],[1.0,\"#f0f921\"]],\"type\":\"heatmapgl\"}],\"histogram\":[{\"marker\":{\"pattern\":{\"fillmode\":\"overlay\",\"size\":10,\"solidity\":0.2}},\"type\":\"histogram\"}],\"histogram2d\":[{\"colorbar\":{\"outlinewidth\":0,\"ticks\":\"\"},\"colorscale\":[[0.0,\"#0d0887\"],[0.1111111111111111,\"#46039f\"],[0.2222222222222222,\"#7201a8\"],[0.3333333333333333,\"#9c179e\"],[0.4444444444444444,\"#bd3786\"],[0.5555555555555556,\"#d8576b\"],[0.6666666666666666,\"#ed7953\"],[0.7777777777777778,\"#fb9f3a\"],[0.8888888888888888,\"#fdca26\"],[1.0,\"#f0f921\"]],\"type\":\"histogram2d\"}],\"histogram2dcontour\":[{\"colorbar\":{\"outlinewidth\":0,\"ticks\":\"\"},\"colorscale\":[[0.0,\"#0d0887\"],[0.1111111111111111,\"#46039f\"],[0.2222222222222222,\"#7201a8\"],[0.3333333333333333,\"#9c179e\"],[0.4444444444444444,\"#bd3786\"],[0.5555555555555556,\"#d8576b\"],[0.6666666666666666,\"#ed7953\"],[0.7777777777777778,\"#fb9f3a\"],[0.8888888888888888,\"#fdca26\"],[1.0,\"#f0f921\"]],\"type\":\"histogram2dcontour\"}],\"mesh3d\":[{\"colorbar\":{\"outlinewidth\":0,\"ticks\":\"\"},\"type\":\"mesh3d\"}],\"parcoords\":[{\"line\":{\"colorbar\":{\"outlinewidth\":0,\"ticks\":\"\"}},\"type\":\"parcoords\"}],\"pie\":[{\"automargin\":true,\"type\":\"pie\"}],\"scatter\":[{\"marker\":{\"colorbar\":{\"outlinewidth\":0,\"ticks\":\"\"}},\"type\":\"scatter\"}],\"scatter3d\":[{\"line\":{\"colorbar\":{\"outlinewidth\":0,\"ticks\":\"\"}},\"marker\":{\"colorbar\":{\"outlinewidth\":0,\"ticks\":\"\"}},\"type\":\"scatter3d\"}],\"scattercarpet\":[{\"marker\":{\"colorbar\":{\"outlinewidth\":0,\"ticks\":\"\"}},\"type\":\"scattercarpet\"}],\"scattergeo\":[{\"marker\":{\"colorbar\":{\"outlinewidth\":0,\"ticks\":\"\"}},\"type\":\"scattergeo\"}],\"scattergl\":[{\"marker\":{\"colorbar\":{\"outlinewidth\":0,\"ticks\":\"\"}},\"type\":\"scattergl\"}],\"scattermapbox\":[{\"marker\":{\"colorbar\":{\"outlinewidth\":0,\"ticks\":\"\"}},\"type\":\"scattermapbox\"}],\"scatterpolar\":[{\"marker\":{\"colorbar\":{\"outlinewidth\":0,\"ticks\":\"\"}},\"type\":\"scatterpolar\"}],\"scatterpolargl\":[{\"marker\":{\"colorbar\":{\"outlinewidth\":0,\"ticks\":\"\"}},\"type\":\"scatterpolargl\"}],\"scatterternary\":[{\"marker\":{\"colorbar\":{\"outlinewidth\":0,\"ticks\":\"\"}},\"type\":\"scatterternary\"}],\"surface\":[{\"colorbar\":{\"outlinewidth\":0,\"ticks\":\"\"},\"colorscale\":[[0.0,\"#0d0887\"],[0.1111111111111111,\"#46039f\"],[0.2222222222222222,\"#7201a8\"],[0.3333333333333333,\"#9c179e\"],[0.4444444444444444,\"#bd3786\"],[0.5555555555555556,\"#d8576b\"],[0.6666666666666666,\"#ed7953\"],[0.7777777777777778,\"#fb9f3a\"],[0.8888888888888888,\"#fdca26\"],[1.0,\"#f0f921\"]],\"type\":\"surface\"}],\"table\":[{\"cells\":{\"fill\":{\"color\":\"#EBF0F8\"},\"line\":{\"color\":\"white\"}},\"header\":{\"fill\":{\"color\":\"#C8D4E3\"},\"line\":{\"color\":\"white\"}},\"type\":\"table\"}]},\"layout\":{\"annotationdefaults\":{\"arrowcolor\":\"#2a3f5f\",\"arrowhead\":0,\"arrowwidth\":1},\"autotypenumbers\":\"strict\",\"coloraxis\":{\"colorbar\":{\"outlinewidth\":0,\"ticks\":\"\"}},\"colorscale\":{\"diverging\":[[0,\"#8e0152\"],[0.1,\"#c51b7d\"],[0.2,\"#de77ae\"],[0.3,\"#f1b6da\"],[0.4,\"#fde0ef\"],[0.5,\"#f7f7f7\"],[0.6,\"#e6f5d0\"],[0.7,\"#b8e186\"],[0.8,\"#7fbc41\"],[0.9,\"#4d9221\"],[1,\"#276419\"]],\"sequential\":[[0.0,\"#0d0887\"],[0.1111111111111111,\"#46039f\"],[0.2222222222222222,\"#7201a8\"],[0.3333333333333333,\"#9c179e\"],[0.4444444444444444,\"#bd3786\"],[0.5555555555555556,\"#d8576b\"],[0.6666666666666666,\"#ed7953\"],[0.7777777777777778,\"#fb9f3a\"],[0.8888888888888888,\"#fdca26\"],[1.0,\"#f0f921\"]],\"sequentialminus\":[[0.0,\"#0d0887\"],[0.1111111111111111,\"#46039f\"],[0.2222222222222222,\"#7201a8\"],[0.3333333333333333,\"#9c179e\"],[0.4444444444444444,\"#bd3786\"],[0.5555555555555556,\"#d8576b\"],[0.6666666666666666,\"#ed7953\"],[0.7777777777777778,\"#fb9f3a\"],[0.8888888888888888,\"#fdca26\"],[1.0,\"#f0f921\"]]},\"colorway\":[\"#636efa\",\"#EF553B\",\"#00cc96\",\"#ab63fa\",\"#FFA15A\",\"#19d3f3\",\"#FF6692\",\"#B6E880\",\"#FF97FF\",\"#FECB52\"],\"font\":{\"color\":\"#2a3f5f\"},\"geo\":{\"bgcolor\":\"white\",\"lakecolor\":\"white\",\"landcolor\":\"#E5ECF6\",\"showlakes\":true,\"showland\":true,\"subunitcolor\":\"white\"},\"hoverlabel\":{\"align\":\"left\"},\"hovermode\":\"closest\",\"mapbox\":{\"style\":\"light\"},\"paper_bgcolor\":\"white\",\"plot_bgcolor\":\"#E5ECF6\",\"polar\":{\"angularaxis\":{\"gridcolor\":\"white\",\"linecolor\":\"white\",\"ticks\":\"\"},\"bgcolor\":\"#E5ECF6\",\"radialaxis\":{\"gridcolor\":\"white\",\"linecolor\":\"white\",\"ticks\":\"\"}},\"scene\":{\"xaxis\":{\"backgroundcolor\":\"#E5ECF6\",\"gridcolor\":\"white\",\"gridwidth\":2,\"linecolor\":\"white\",\"showbackground\":true,\"ticks\":\"\",\"zerolinecolor\":\"white\"},\"yaxis\":{\"backgroundcolor\":\"#E5ECF6\",\"gridcolor\":\"white\",\"gridwidth\":2,\"linecolor\":\"white\",\"showbackground\":true,\"ticks\":\"\",\"zerolinecolor\":\"white\"},\"zaxis\":{\"backgroundcolor\":\"#E5ECF6\",\"gridcolor\":\"white\",\"gridwidth\":2,\"linecolor\":\"white\",\"showbackground\":true,\"ticks\":\"\",\"zerolinecolor\":\"white\"}},\"shapedefaults\":{\"line\":{\"color\":\"#2a3f5f\"}},\"ternary\":{\"aaxis\":{\"gridcolor\":\"white\",\"linecolor\":\"white\",\"ticks\":\"\"},\"baxis\":{\"gridcolor\":\"white\",\"linecolor\":\"white\",\"ticks\":\"\"},\"bgcolor\":\"#E5ECF6\",\"caxis\":{\"gridcolor\":\"white\",\"linecolor\":\"white\",\"ticks\":\"\"}},\"title\":{\"x\":0.05},\"xaxis\":{\"automargin\":true,\"gridcolor\":\"white\",\"linecolor\":\"white\",\"ticks\":\"\",\"title\":{\"standoff\":15},\"zerolinecolor\":\"white\",\"zerolinewidth\":2},\"yaxis\":{\"automargin\":true,\"gridcolor\":\"white\",\"linecolor\":\"white\",\"ticks\":\"\",\"title\":{\"standoff\":15},\"zerolinecolor\":\"white\",\"zerolinewidth\":2}}},\"xaxis\":{\"anchor\":\"y\",\"domain\":[0.0,1.0],\"title\":{\"text\":\"Principal Component - 1\"}},\"yaxis\":{\"anchor\":\"x\",\"domain\":[0.0,1.0],\"title\":{\"text\":\"Principal Component - 2\"}},\"legend\":{\"tracegroupgap\":0},\"title\":{\"text\":\"PCA Loading plot\"},\"shapes\":[{\"type\":\"line\",\"x0\":0,\"x1\":-0.4668241404348514,\"y0\":0,\"y1\":0.8252239533984816},{\"type\":\"line\",\"x0\":0,\"x1\":-0.46523162230779275,\"y0\":0,\"y1\":0.837254761776568},{\"type\":\"line\",\"x0\":0,\"x1\":-0.4669085750405937,\"y0\":0,\"y1\":0.8504314600883188},{\"type\":\"line\",\"x0\":0,\"x1\":-0.48883874403743216,\"y0\":0,\"y1\":0.8487834341800231},{\"type\":\"line\",\"x0\":0,\"x1\":-0.5929269315185886,\"y0\":0,\"y1\":0.747796776319528},{\"type\":\"line\",\"x0\":0,\"x1\":-0.8216212324950146,\"y0\":0,\"y1\":0.23811029358081473},{\"type\":\"line\",\"x0\":0,\"x1\":-0.7292461869803902,\"y0\":0,\"y1\":-0.417678373555032},{\"type\":\"line\",\"x0\":0,\"x1\":-0.6085179379688005,\"y0\":0,\"y1\":-0.5947836597572309},{\"type\":\"line\",\"x0\":0,\"x1\":-0.5643638971906803,\"y0\":0,\"y1\":-0.6512284439200999},{\"type\":\"line\",\"x0\":0,\"x1\":-0.5599819898475938,\"y0\":0,\"y1\":-0.6773645609843432},{\"type\":\"line\",\"x0\":0,\"x1\":-0.5541286056477884,\"y0\":0,\"y1\":-0.686844830563975},{\"type\":\"line\",\"x0\":0,\"x1\":-0.5435618177129932,\"y0\":0,\"y1\":-0.6766780542200138},{\"type\":\"line\",\"x0\":0,\"x1\":-0.5228569603261712,\"y0\":0,\"y1\":-0.6519965627932802},{\"type\":\"line\",\"x0\":0,\"x1\":-0.4942781610458419,\"y0\":0,\"y1\":-0.6170336496481651},{\"type\":\"line\",\"x0\":0,\"x1\":-0.46629188528484977,\"y0\":0,\"y1\":-0.5770443221018919},{\"type\":\"line\",\"x0\":0,\"x1\":0.14695268924524651,\"y0\":0,\"y1\":0.40702340946427884},{\"type\":\"line\",\"x0\":0,\"x1\":0.1582108196208047,\"y0\":0,\"y1\":0.38949518398332217},{\"type\":\"line\",\"x0\":0,\"x1\":0.31361145052193756,\"y0\":0,\"y1\":0.3776308845635252},{\"type\":\"line\",\"x0\":0,\"x1\":0.4959150927199525,\"y0\":0,\"y1\":0.35312923266441154},{\"type\":\"line\",\"x0\":0,\"x1\":0.587510882170084,\"y0\":0,\"y1\":0.3092383168547638},{\"type\":\"line\",\"x0\":0,\"x1\":0.6417918994472092,\"y0\":0,\"y1\":0.3095832090618215},{\"type\":\"line\",\"x0\":0,\"x1\":0.6788687348455026,\"y0\":0,\"y1\":0.35502916414060304},{\"type\":\"line\",\"x0\":0,\"x1\":0.7000123523047845,\"y0\":0,\"y1\":0.4162102957539658},{\"type\":\"line\",\"x0\":0,\"x1\":0.7028078544179365,\"y0\":0,\"y1\":0.47392343513972257},{\"type\":\"line\",\"x0\":0,\"x1\":0.7065721915264965,\"y0\":0,\"y1\":0.5210819413121999},{\"type\":\"line\",\"x0\":0,\"x1\":0.6966725614606193,\"y0\":0,\"y1\":0.5622311231637334},{\"type\":\"line\",\"x0\":0,\"x1\":0.6907672593403442,\"y0\":0,\"y1\":0.5729351296055774},{\"type\":\"line\",\"x0\":0,\"x1\":0.694374254995814,\"y0\":0,\"y1\":0.5629980701695629},{\"type\":\"line\",\"x0\":0,\"x1\":0.6998213601888814,\"y0\":0,\"y1\":0.568408126408635},{\"type\":\"line\",\"x0\":0,\"x1\":0.7029844872673117,\"y0\":0,\"y1\":0.5715648525494165},{\"type\":\"line\",\"x0\":0,\"x1\":0.0,\"y0\":0,\"y1\":-0.0},{\"type\":\"line\",\"x0\":0,\"x1\":-0.465827466493203,\"y0\":0,\"y1\":0.832332574168345},{\"type\":\"line\",\"x0\":0,\"x1\":-0.4659404386713061,\"y0\":0,\"y1\":0.8418897552088908},{\"type\":\"line\",\"x0\":0,\"x1\":-0.4725304695107299,\"y0\":0,\"y1\":0.8500218015051414},{\"type\":\"line\",\"x0\":0,\"x1\":-0.500529012080715,\"y0\":0,\"y1\":0.8427971943436219},{\"type\":\"line\",\"x0\":0,\"x1\":-0.5692471082125392,\"y0\":0,\"y1\":0.798601722379905},{\"type\":\"line\",\"x0\":0,\"x1\":-0.6879193245692444,\"y0\":0,\"y1\":0.6960493412750721},{\"type\":\"line\",\"x0\":0,\"x1\":-0.8226426539005308,\"y0\":0,\"y1\":0.5234974292766512},{\"type\":\"line\",\"x0\":0,\"x1\":-0.9145337952278293,\"y0\":0,\"y1\":0.3155061762717396},{\"type\":\"line\",\"x0\":0,\"x1\":-0.9500736565868385,\"y0\":0,\"y1\":0.1317027575669537},{\"type\":\"line\",\"x0\":0,\"x1\":-0.954549798437122,\"y0\":0,\"y1\":-0.003411927744288463},{\"type\":\"line\",\"x0\":0,\"x1\":-0.9484288479267324,\"y0\":0,\"y1\":-0.0947545999251167},{\"type\":\"line\",\"x0\":0,\"x1\":-0.9403837074845566,\"y0\":0,\"y1\":-0.154978423361307},{\"type\":\"line\",\"x0\":0,\"x1\":-0.9329622445575514,\"y0\":0,\"y1\":-0.19430570907582864},{\"type\":\"line\",\"x0\":0,\"x1\":-0.9266115797676671,\"y0\":0,\"y1\":-0.21998363592386333},{\"type\":\"line\",\"x0\":0,\"x1\":0.0,\"y0\":0,\"y1\":-0.0},{\"type\":\"line\",\"x0\":0,\"x1\":-0.3358511325813874,\"y0\":0,\"y1\":0.40703953219750844},{\"type\":\"line\",\"x0\":0,\"x1\":-0.45448555365888593,\"y0\":0,\"y1\":0.6829935037026135},{\"type\":\"line\",\"x0\":0,\"x1\":-0.49004586737085093,\"y0\":0,\"y1\":0.7675052476385626},{\"type\":\"line\",\"x0\":0,\"x1\":-0.5304639545354256,\"y0\":0,\"y1\":0.8019455361932624},{\"type\":\"line\",\"x0\":0,\"x1\":-0.6015392610902814,\"y0\":0,\"y1\":0.7782017596666787},{\"type\":\"line\",\"x0\":0,\"x1\":-0.706769336865327,\"y0\":0,\"y1\":0.6729370813147507},{\"type\":\"line\",\"x0\":0,\"x1\":-0.7819192213566347,\"y0\":0,\"y1\":0.5019865910567247},{\"type\":\"line\",\"x0\":0,\"x1\":-0.8059277506691122,\"y0\":0,\"y1\":0.3203299265404986},{\"type\":\"line\",\"x0\":0,\"x1\":-0.7986929705082877,\"y0\":0,\"y1\":0.18064853041648324},{\"type\":\"line\",\"x0\":0,\"x1\":-0.7790808205710331,\"y0\":0,\"y1\":0.08438521322117831},{\"type\":\"line\",\"x0\":0,\"x1\":-0.7605568935927817,\"y0\":0,\"y1\":0.0311254257788448},{\"type\":\"line\",\"x0\":0,\"x1\":-0.7454845181472105,\"y0\":0,\"y1\":-0.0007735856905852274},{\"type\":\"line\",\"x0\":0,\"x1\":-0.7328250355134664,\"y0\":0,\"y1\":-0.02191198180747208},{\"type\":\"line\",\"x0\":0,\"x1\":-0.7229429542975778,\"y0\":0,\"y1\":-0.03401805703579822},{\"type\":\"line\",\"x0\":0,\"x1\":0.0,\"y0\":0,\"y1\":-0.0},{\"type\":\"line\",\"x0\":0,\"x1\":0.5431350574439684,\"y0\":0,\"y1\":0.22121129457733366},{\"type\":\"line\",\"x0\":0,\"x1\":0.4980431103397147,\"y0\":0,\"y1\":0.29789865931320675},{\"type\":\"line\",\"x0\":0,\"x1\":0.3336757224613213,\"y0\":0,\"y1\":0.3589264352235561},{\"type\":\"line\",\"x0\":0,\"x1\":0.20628154409777977,\"y0\":0,\"y1\":0.4270111719082795},{\"type\":\"line\",\"x0\":0,\"x1\":0.20628154409777977,\"y0\":0,\"y1\":0.4270111719082795},{\"type\":\"line\",\"x0\":0,\"x1\":0.20628154409777977,\"y0\":0,\"y1\":0.4270111719082795},{\"type\":\"line\",\"x0\":0,\"x1\":0.20628154409777977,\"y0\":0,\"y1\":0.4270111719082795},{\"type\":\"line\",\"x0\":0,\"x1\":0.264507361619795,\"y0\":0,\"y1\":0.38255397213296227},{\"type\":\"line\",\"x0\":0,\"x1\":0.1644588302636314,\"y0\":0,\"y1\":0.37975890746326535},{\"type\":\"line\",\"x0\":0,\"x1\":0.1429356593998337,\"y0\":0,\"y1\":0.2203156952552828},{\"type\":\"line\",\"x0\":0,\"x1\":0.15071374260886508,\"y0\":0,\"y1\":-0.006053085585824698},{\"type\":\"line\",\"x0\":0,\"x1\":0.0,\"y0\":0,\"y1\":-0.0},{\"type\":\"line\",\"x0\":0,\"x1\":0.0,\"y0\":0,\"y1\":-0.0},{\"type\":\"line\",\"x0\":0,\"x1\":0.0,\"y0\":0,\"y1\":-0.0}],\"annotations\":[{\"ax\":0,\"ay\":0,\"text\":\"X:VCD:0\",\"x\":-0.4668241404348514,\"xanchor\":\"center\",\"y\":0.8252239533984816,\"yanchor\":\"bottom\"},{\"ax\":0,\"ay\":0,\"text\":\"X:VCD:1\",\"x\":-0.46523162230779275,\"xanchor\":\"center\",\"y\":0.837254761776568,\"yanchor\":\"bottom\"},{\"ax\":0,\"ay\":0,\"text\":\"X:VCD:2\",\"x\":-0.4669085750405937,\"xanchor\":\"center\",\"y\":0.8504314600883188,\"yanchor\":\"bottom\"},{\"ax\":0,\"ay\":0,\"text\":\"X:VCD:3\",\"x\":-0.48883874403743216,\"xanchor\":\"center\",\"y\":0.8487834341800231,\"yanchor\":\"bottom\"},{\"ax\":0,\"ay\":0,\"text\":\"X:VCD:4\",\"x\":-0.5929269315185886,\"xanchor\":\"center\",\"y\":0.747796776319528,\"yanchor\":\"bottom\"},{\"ax\":0,\"ay\":0,\"text\":\"X:VCD:5\",\"x\":-0.8216212324950146,\"xanchor\":\"center\",\"y\":0.23811029358081473,\"yanchor\":\"bottom\"},{\"ax\":0,\"ay\":0,\"text\":\"X:VCD:6\",\"x\":-0.7292461869803902,\"xanchor\":\"center\",\"y\":-0.417678373555032,\"yanchor\":\"bottom\"},{\"ax\":0,\"ay\":0,\"text\":\"X:VCD:7\",\"x\":-0.6085179379688005,\"xanchor\":\"center\",\"y\":-0.5947836597572309,\"yanchor\":\"bottom\"},{\"ax\":0,\"ay\":0,\"text\":\"X:VCD:8\",\"x\":-0.5643638971906803,\"xanchor\":\"center\",\"y\":-0.6512284439200999,\"yanchor\":\"bottom\"},{\"ax\":0,\"ay\":0,\"text\":\"X:VCD:9\",\"x\":-0.5599819898475938,\"xanchor\":\"center\",\"y\":-0.6773645609843432,\"yanchor\":\"bottom\"},{\"ax\":0,\"ay\":0,\"text\":\"X:VCD:10\",\"x\":-0.5541286056477884,\"xanchor\":\"center\",\"y\":-0.686844830563975,\"yanchor\":\"bottom\"},{\"ax\":0,\"ay\":0,\"text\":\"X:VCD:11\",\"x\":-0.5435618177129932,\"xanchor\":\"center\",\"y\":-0.6766780542200138,\"yanchor\":\"bottom\"},{\"ax\":0,\"ay\":0,\"text\":\"X:VCD:12\",\"x\":-0.5228569603261712,\"xanchor\":\"center\",\"y\":-0.6519965627932802,\"yanchor\":\"bottom\"},{\"ax\":0,\"ay\":0,\"text\":\"X:VCD:13\",\"x\":-0.4942781610458419,\"xanchor\":\"center\",\"y\":-0.6170336496481651,\"yanchor\":\"bottom\"},{\"ax\":0,\"ay\":0,\"text\":\"X:VCD:14\",\"x\":-0.46629188528484977,\"xanchor\":\"center\",\"y\":-0.5770443221018919,\"yanchor\":\"bottom\"},{\"ax\":0,\"ay\":0,\"text\":\"X:Glc:0\",\"x\":0.14695268924524651,\"xanchor\":\"center\",\"y\":0.40702340946427884,\"yanchor\":\"bottom\"},{\"ax\":0,\"ay\":0,\"text\":\"X:Glc:1\",\"x\":0.1582108196208047,\"xanchor\":\"center\",\"y\":0.38949518398332217,\"yanchor\":\"bottom\"},{\"ax\":0,\"ay\":0,\"text\":\"X:Glc:2\",\"x\":0.31361145052193756,\"xanchor\":\"center\",\"y\":0.3776308845635252,\"yanchor\":\"bottom\"},{\"ax\":0,\"ay\":0,\"text\":\"X:Glc:3\",\"x\":0.4959150927199525,\"xanchor\":\"center\",\"y\":0.35312923266441154,\"yanchor\":\"bottom\"},{\"ax\":0,\"ay\":0,\"text\":\"X:Glc:4\",\"x\":0.587510882170084,\"xanchor\":\"center\",\"y\":0.3092383168547638,\"yanchor\":\"bottom\"},{\"ax\":0,\"ay\":0,\"text\":\"X:Glc:5\",\"x\":0.6417918994472092,\"xanchor\":\"center\",\"y\":0.3095832090618215,\"yanchor\":\"bottom\"},{\"ax\":0,\"ay\":0,\"text\":\"X:Glc:6\",\"x\":0.6788687348455026,\"xanchor\":\"center\",\"y\":0.35502916414060304,\"yanchor\":\"bottom\"},{\"ax\":0,\"ay\":0,\"text\":\"X:Glc:7\",\"x\":0.7000123523047845,\"xanchor\":\"center\",\"y\":0.4162102957539658,\"yanchor\":\"bottom\"},{\"ax\":0,\"ay\":0,\"text\":\"X:Glc:8\",\"x\":0.7028078544179365,\"xanchor\":\"center\",\"y\":0.47392343513972257,\"yanchor\":\"bottom\"},{\"ax\":0,\"ay\":0,\"text\":\"X:Glc:9\",\"x\":0.7065721915264965,\"xanchor\":\"center\",\"y\":0.5210819413121999,\"yanchor\":\"bottom\"},{\"ax\":0,\"ay\":0,\"text\":\"X:Glc:10\",\"x\":0.6966725614606193,\"xanchor\":\"center\",\"y\":0.5622311231637334,\"yanchor\":\"bottom\"},{\"ax\":0,\"ay\":0,\"text\":\"X:Glc:11\",\"x\":0.6907672593403442,\"xanchor\":\"center\",\"y\":0.5729351296055774,\"yanchor\":\"bottom\"},{\"ax\":0,\"ay\":0,\"text\":\"X:Glc:12\",\"x\":0.694374254995814,\"xanchor\":\"center\",\"y\":0.5629980701695629,\"yanchor\":\"bottom\"},{\"ax\":0,\"ay\":0,\"text\":\"X:Glc:13\",\"x\":0.6998213601888814,\"xanchor\":\"center\",\"y\":0.568408126408635,\"yanchor\":\"bottom\"},{\"ax\":0,\"ay\":0,\"text\":\"X:Glc:14\",\"x\":0.7029844872673117,\"xanchor\":\"center\",\"y\":0.5715648525494165,\"yanchor\":\"bottom\"},{\"ax\":0,\"ay\":0,\"text\":\"X:Lac:0\",\"x\":0.0,\"xanchor\":\"center\",\"y\":-0.0,\"yanchor\":\"bottom\"},{\"ax\":0,\"ay\":0,\"text\":\"X:Lac:1\",\"x\":-0.465827466493203,\"xanchor\":\"center\",\"y\":0.832332574168345,\"yanchor\":\"bottom\"},{\"ax\":0,\"ay\":0,\"text\":\"X:Lac:2\",\"x\":-0.4659404386713061,\"xanchor\":\"center\",\"y\":0.8418897552088908,\"yanchor\":\"bottom\"},{\"ax\":0,\"ay\":0,\"text\":\"X:Lac:3\",\"x\":-0.4725304695107299,\"xanchor\":\"center\",\"y\":0.8500218015051414,\"yanchor\":\"bottom\"},{\"ax\":0,\"ay\":0,\"text\":\"X:Lac:4\",\"x\":-0.500529012080715,\"xanchor\":\"center\",\"y\":0.8427971943436219,\"yanchor\":\"bottom\"},{\"ax\":0,\"ay\":0,\"text\":\"X:Lac:5\",\"x\":-0.5692471082125392,\"xanchor\":\"center\",\"y\":0.798601722379905,\"yanchor\":\"bottom\"},{\"ax\":0,\"ay\":0,\"text\":\"X:Lac:6\",\"x\":-0.6879193245692444,\"xanchor\":\"center\",\"y\":0.6960493412750721,\"yanchor\":\"bottom\"},{\"ax\":0,\"ay\":0,\"text\":\"X:Lac:7\",\"x\":-0.8226426539005308,\"xanchor\":\"center\",\"y\":0.5234974292766512,\"yanchor\":\"bottom\"},{\"ax\":0,\"ay\":0,\"text\":\"X:Lac:8\",\"x\":-0.9145337952278293,\"xanchor\":\"center\",\"y\":0.3155061762717396,\"yanchor\":\"bottom\"},{\"ax\":0,\"ay\":0,\"text\":\"X:Lac:9\",\"x\":-0.9500736565868385,\"xanchor\":\"center\",\"y\":0.1317027575669537,\"yanchor\":\"bottom\"},{\"ax\":0,\"ay\":0,\"text\":\"X:Lac:10\",\"x\":-0.954549798437122,\"xanchor\":\"center\",\"y\":-0.003411927744288463,\"yanchor\":\"bottom\"},{\"ax\":0,\"ay\":0,\"text\":\"X:Lac:11\",\"x\":-0.9484288479267324,\"xanchor\":\"center\",\"y\":-0.0947545999251167,\"yanchor\":\"bottom\"},{\"ax\":0,\"ay\":0,\"text\":\"X:Lac:12\",\"x\":-0.9403837074845566,\"xanchor\":\"center\",\"y\":-0.154978423361307,\"yanchor\":\"bottom\"},{\"ax\":0,\"ay\":0,\"text\":\"X:Lac:13\",\"x\":-0.9329622445575514,\"xanchor\":\"center\",\"y\":-0.19430570907582864,\"yanchor\":\"bottom\"},{\"ax\":0,\"ay\":0,\"text\":\"X:Lac:14\",\"x\":-0.9266115797676671,\"xanchor\":\"center\",\"y\":-0.21998363592386333,\"yanchor\":\"bottom\"},{\"ax\":0,\"ay\":0,\"text\":\"X:Titer:0\",\"x\":0.0,\"xanchor\":\"center\",\"y\":-0.0,\"yanchor\":\"bottom\"},{\"ax\":0,\"ay\":0,\"text\":\"X:Titer:1\",\"x\":-0.3358511325813874,\"xanchor\":\"center\",\"y\":0.40703953219750844,\"yanchor\":\"bottom\"},{\"ax\":0,\"ay\":0,\"text\":\"X:Titer:2\",\"x\":-0.45448555365888593,\"xanchor\":\"center\",\"y\":0.6829935037026135,\"yanchor\":\"bottom\"},{\"ax\":0,\"ay\":0,\"text\":\"X:Titer:3\",\"x\":-0.49004586737085093,\"xanchor\":\"center\",\"y\":0.7675052476385626,\"yanchor\":\"bottom\"},{\"ax\":0,\"ay\":0,\"text\":\"X:Titer:4\",\"x\":-0.5304639545354256,\"xanchor\":\"center\",\"y\":0.8019455361932624,\"yanchor\":\"bottom\"},{\"ax\":0,\"ay\":0,\"text\":\"X:Titer:5\",\"x\":-0.6015392610902814,\"xanchor\":\"center\",\"y\":0.7782017596666787,\"yanchor\":\"bottom\"},{\"ax\":0,\"ay\":0,\"text\":\"X:Titer:6\",\"x\":-0.706769336865327,\"xanchor\":\"center\",\"y\":0.6729370813147507,\"yanchor\":\"bottom\"},{\"ax\":0,\"ay\":0,\"text\":\"X:Titer:7\",\"x\":-0.7819192213566347,\"xanchor\":\"center\",\"y\":0.5019865910567247,\"yanchor\":\"bottom\"},{\"ax\":0,\"ay\":0,\"text\":\"X:Titer:8\",\"x\":-0.8059277506691122,\"xanchor\":\"center\",\"y\":0.3203299265404986,\"yanchor\":\"bottom\"},{\"ax\":0,\"ay\":0,\"text\":\"X:Titer:9\",\"x\":-0.7986929705082877,\"xanchor\":\"center\",\"y\":0.18064853041648324,\"yanchor\":\"bottom\"},{\"ax\":0,\"ay\":0,\"text\":\"X:Titer:10\",\"x\":-0.7790808205710331,\"xanchor\":\"center\",\"y\":0.08438521322117831,\"yanchor\":\"bottom\"},{\"ax\":0,\"ay\":0,\"text\":\"X:Titer:11\",\"x\":-0.7605568935927817,\"xanchor\":\"center\",\"y\":0.0311254257788448,\"yanchor\":\"bottom\"},{\"ax\":0,\"ay\":0,\"text\":\"X:Titer:12\",\"x\":-0.7454845181472105,\"xanchor\":\"center\",\"y\":-0.0007735856905852274,\"yanchor\":\"bottom\"},{\"ax\":0,\"ay\":0,\"text\":\"X:Titer:13\",\"x\":-0.7328250355134664,\"xanchor\":\"center\",\"y\":-0.02191198180747208,\"yanchor\":\"bottom\"},{\"ax\":0,\"ay\":0,\"text\":\"X:Titer:14\",\"x\":-0.7229429542975778,\"xanchor\":\"center\",\"y\":-0.03401805703579822,\"yanchor\":\"bottom\"},{\"ax\":0,\"ay\":0,\"text\":\"W:Feed:0\",\"x\":0.0,\"xanchor\":\"center\",\"y\":-0.0,\"yanchor\":\"bottom\"},{\"ax\":0,\"ay\":0,\"text\":\"W:Feed:1\",\"x\":0.5431350574439684,\"xanchor\":\"center\",\"y\":0.22121129457733366,\"yanchor\":\"bottom\"},{\"ax\":0,\"ay\":0,\"text\":\"W:Feed:2\",\"x\":0.4980431103397147,\"xanchor\":\"center\",\"y\":0.29789865931320675,\"yanchor\":\"bottom\"},{\"ax\":0,\"ay\":0,\"text\":\"W:Feed:3\",\"x\":0.3336757224613213,\"xanchor\":\"center\",\"y\":0.3589264352235561,\"yanchor\":\"bottom\"},{\"ax\":0,\"ay\":0,\"text\":\"W:Feed:4\",\"x\":0.20628154409777977,\"xanchor\":\"center\",\"y\":0.4270111719082795,\"yanchor\":\"bottom\"},{\"ax\":0,\"ay\":0,\"text\":\"W:Feed:5\",\"x\":0.20628154409777977,\"xanchor\":\"center\",\"y\":0.4270111719082795,\"yanchor\":\"bottom\"},{\"ax\":0,\"ay\":0,\"text\":\"W:Feed:6\",\"x\":0.20628154409777977,\"xanchor\":\"center\",\"y\":0.4270111719082795,\"yanchor\":\"bottom\"},{\"ax\":0,\"ay\":0,\"text\":\"W:Feed:7\",\"x\":0.20628154409777977,\"xanchor\":\"center\",\"y\":0.4270111719082795,\"yanchor\":\"bottom\"},{\"ax\":0,\"ay\":0,\"text\":\"W:Feed:8\",\"x\":0.264507361619795,\"xanchor\":\"center\",\"y\":0.38255397213296227,\"yanchor\":\"bottom\"},{\"ax\":0,\"ay\":0,\"text\":\"W:Feed:9\",\"x\":0.1644588302636314,\"xanchor\":\"center\",\"y\":0.37975890746326535,\"yanchor\":\"bottom\"},{\"ax\":0,\"ay\":0,\"text\":\"W:Feed:10\",\"x\":0.1429356593998337,\"xanchor\":\"center\",\"y\":0.2203156952552828,\"yanchor\":\"bottom\"},{\"ax\":0,\"ay\":0,\"text\":\"W:Feed:11\",\"x\":0.15071374260886508,\"xanchor\":\"center\",\"y\":-0.006053085585824698,\"yanchor\":\"bottom\"},{\"ax\":0,\"ay\":0,\"text\":\"W:Feed:12\",\"x\":0.0,\"xanchor\":\"center\",\"y\":-0.0,\"yanchor\":\"bottom\"},{\"ax\":0,\"ay\":0,\"text\":\"W:Feed:13\",\"x\":0.0,\"xanchor\":\"center\",\"y\":-0.0,\"yanchor\":\"bottom\"},{\"ax\":0,\"ay\":0,\"text\":\"W:Feed:14\",\"x\":0.0,\"xanchor\":\"center\",\"y\":-0.0,\"yanchor\":\"bottom\"}]},                        {\"responsive\": true}                    ).then(function(){\n",
              "                            \n",
              "var gd = document.getElementById('38f32941-523a-4015-af42-8480b27ee36e');\n",
              "var x = new MutationObserver(function (mutations, observer) {{\n",
              "        var display = window.getComputedStyle(gd).display;\n",
              "        if (!display || display === 'none') {{\n",
              "            console.log([gd, 'removed!']);\n",
              "            Plotly.purge(gd);\n",
              "            observer.disconnect();\n",
              "        }}\n",
              "}});\n",
              "\n",
              "// Listen for the removal of the full notebook cells\n",
              "var notebookContainer = gd.closest('#notebook-container');\n",
              "if (notebookContainer) {{\n",
              "    x.observe(notebookContainer, {childList: true});\n",
              "}}\n",
              "\n",
              "// Listen for the clearing of the current output cell\n",
              "var outputEl = gd.closest('.output');\n",
              "if (outputEl) {{\n",
              "    x.observe(outputEl, {childList: true});\n",
              "}}\n",
              "\n",
              "                        })                };                            </script>        </div>\n",
              "</body>\n",
              "</html>"
            ]
          },
          "metadata": {}
        }
      ]
    },
    {
      "cell_type": "code",
      "source": [
        "# Select which loading to plot\n",
        "select_x_pca = 1"
      ],
      "metadata": {
        "id": "5Eg5E_zFglNW"
      },
      "execution_count": 26,
      "outputs": []
    },
    {
      "cell_type": "code",
      "source": [
        "# Loading plot of PCA alternative\n",
        "loadings = pca.components_.T * np.sqrt(pca.explained_variance_)\n",
        "loading = loadings[:,select_x_pca-1]\n",
        "features = list(bwu.columns)\n",
        "\n",
        "fig = px.bar(x=features, y=loading,labels={'x':\"Variable\", 'y':\"Loading of PC - \"+str(select_x_pca)}, title=\"PCA Loading plot\")\n",
        "fig.show()"
      ],
      "metadata": {
        "colab": {
          "base_uri": "https://localhost:8080/",
          "height": 542
        },
        "id": "SEbOG5fhgRMd",
        "outputId": "8d9eb676-ffa0-4e98-f2c7-09d083230c4f"
      },
      "execution_count": 27,
      "outputs": [
        {
          "output_type": "display_data",
          "data": {
            "text/html": [
              "<html>\n",
              "<head><meta charset=\"utf-8\" /></head>\n",
              "<body>\n",
              "    <div>            <script src=\"https://cdnjs.cloudflare.com/ajax/libs/mathjax/2.7.5/MathJax.js?config=TeX-AMS-MML_SVG\"></script><script type=\"text/javascript\">if (window.MathJax) {MathJax.Hub.Config({SVG: {font: \"STIX-Web\"}});}</script>                <script type=\"text/javascript\">window.PlotlyConfig = {MathJaxConfig: 'local'};</script>\n",
              "        <script src=\"https://cdn.plot.ly/plotly-2.8.3.min.js\"></script>                <div id=\"9b69af6f-9413-4adc-9ce4-4ba8c650d97e\" class=\"plotly-graph-div\" style=\"height:525px; width:100%;\"></div>            <script type=\"text/javascript\">                                    window.PLOTLYENV=window.PLOTLYENV || {};                                    if (document.getElementById(\"9b69af6f-9413-4adc-9ce4-4ba8c650d97e\")) {                    Plotly.newPlot(                        \"9b69af6f-9413-4adc-9ce4-4ba8c650d97e\",                        [{\"alignmentgroup\":\"True\",\"hovertemplate\":\"Variable=%{x}<br>Loading of PC - 1=%{y}<extra></extra>\",\"legendgroup\":\"\",\"marker\":{\"color\":\"#636efa\",\"pattern\":{\"shape\":\"\"}},\"name\":\"\",\"offsetgroup\":\"\",\"orientation\":\"v\",\"showlegend\":false,\"textposition\":\"auto\",\"x\":[\"X:VCD:0\",\"X:VCD:1\",\"X:VCD:2\",\"X:VCD:3\",\"X:VCD:4\",\"X:VCD:5\",\"X:VCD:6\",\"X:VCD:7\",\"X:VCD:8\",\"X:VCD:9\",\"X:VCD:10\",\"X:VCD:11\",\"X:VCD:12\",\"X:VCD:13\",\"X:VCD:14\",\"X:Glc:0\",\"X:Glc:1\",\"X:Glc:2\",\"X:Glc:3\",\"X:Glc:4\",\"X:Glc:5\",\"X:Glc:6\",\"X:Glc:7\",\"X:Glc:8\",\"X:Glc:9\",\"X:Glc:10\",\"X:Glc:11\",\"X:Glc:12\",\"X:Glc:13\",\"X:Glc:14\",\"X:Lac:0\",\"X:Lac:1\",\"X:Lac:2\",\"X:Lac:3\",\"X:Lac:4\",\"X:Lac:5\",\"X:Lac:6\",\"X:Lac:7\",\"X:Lac:8\",\"X:Lac:9\",\"X:Lac:10\",\"X:Lac:11\",\"X:Lac:12\",\"X:Lac:13\",\"X:Lac:14\",\"X:Titer:0\",\"X:Titer:1\",\"X:Titer:2\",\"X:Titer:3\",\"X:Titer:4\",\"X:Titer:5\",\"X:Titer:6\",\"X:Titer:7\",\"X:Titer:8\",\"X:Titer:9\",\"X:Titer:10\",\"X:Titer:11\",\"X:Titer:12\",\"X:Titer:13\",\"X:Titer:14\",\"W:Feed:0\",\"W:Feed:1\",\"W:Feed:2\",\"W:Feed:3\",\"W:Feed:4\",\"W:Feed:5\",\"W:Feed:6\",\"W:Feed:7\",\"W:Feed:8\",\"W:Feed:9\",\"W:Feed:10\",\"W:Feed:11\",\"W:Feed:12\",\"W:Feed:13\",\"W:Feed:14\"],\"xaxis\":\"x\",\"y\":[-0.4668241404348514,-0.46523162230779275,-0.4669085750405937,-0.48883874403743216,-0.5929269315185886,-0.8216212324950146,-0.7292461869803902,-0.6085179379688005,-0.5643638971906803,-0.5599819898475938,-0.5541286056477884,-0.5435618177129932,-0.5228569603261712,-0.4942781610458419,-0.46629188528484977,0.14695268924524651,0.1582108196208047,0.31361145052193756,0.4959150927199525,0.587510882170084,0.6417918994472092,0.6788687348455026,0.7000123523047845,0.7028078544179365,0.7065721915264965,0.6966725614606193,0.6907672593403442,0.694374254995814,0.6998213601888814,0.7029844872673117,0.0,-0.465827466493203,-0.4659404386713061,-0.4725304695107299,-0.500529012080715,-0.5692471082125392,-0.6879193245692444,-0.8226426539005308,-0.9145337952278293,-0.9500736565868385,-0.954549798437122,-0.9484288479267324,-0.9403837074845566,-0.9329622445575514,-0.9266115797676671,0.0,-0.3358511325813874,-0.45448555365888593,-0.49004586737085093,-0.5304639545354256,-0.6015392610902814,-0.706769336865327,-0.7819192213566347,-0.8059277506691122,-0.7986929705082877,-0.7790808205710331,-0.7605568935927817,-0.7454845181472105,-0.7328250355134664,-0.7229429542975778,0.0,0.5431350574439684,0.4980431103397147,0.3336757224613213,0.20628154409777977,0.20628154409777977,0.20628154409777977,0.20628154409777977,0.264507361619795,0.1644588302636314,0.1429356593998337,0.15071374260886508,0.0,0.0,0.0],\"yaxis\":\"y\",\"type\":\"bar\"}],                        {\"template\":{\"data\":{\"bar\":[{\"error_x\":{\"color\":\"#2a3f5f\"},\"error_y\":{\"color\":\"#2a3f5f\"},\"marker\":{\"line\":{\"color\":\"#E5ECF6\",\"width\":0.5},\"pattern\":{\"fillmode\":\"overlay\",\"size\":10,\"solidity\":0.2}},\"type\":\"bar\"}],\"barpolar\":[{\"marker\":{\"line\":{\"color\":\"#E5ECF6\",\"width\":0.5},\"pattern\":{\"fillmode\":\"overlay\",\"size\":10,\"solidity\":0.2}},\"type\":\"barpolar\"}],\"carpet\":[{\"aaxis\":{\"endlinecolor\":\"#2a3f5f\",\"gridcolor\":\"white\",\"linecolor\":\"white\",\"minorgridcolor\":\"white\",\"startlinecolor\":\"#2a3f5f\"},\"baxis\":{\"endlinecolor\":\"#2a3f5f\",\"gridcolor\":\"white\",\"linecolor\":\"white\",\"minorgridcolor\":\"white\",\"startlinecolor\":\"#2a3f5f\"},\"type\":\"carpet\"}],\"choropleth\":[{\"colorbar\":{\"outlinewidth\":0,\"ticks\":\"\"},\"type\":\"choropleth\"}],\"contour\":[{\"colorbar\":{\"outlinewidth\":0,\"ticks\":\"\"},\"colorscale\":[[0.0,\"#0d0887\"],[0.1111111111111111,\"#46039f\"],[0.2222222222222222,\"#7201a8\"],[0.3333333333333333,\"#9c179e\"],[0.4444444444444444,\"#bd3786\"],[0.5555555555555556,\"#d8576b\"],[0.6666666666666666,\"#ed7953\"],[0.7777777777777778,\"#fb9f3a\"],[0.8888888888888888,\"#fdca26\"],[1.0,\"#f0f921\"]],\"type\":\"contour\"}],\"contourcarpet\":[{\"colorbar\":{\"outlinewidth\":0,\"ticks\":\"\"},\"type\":\"contourcarpet\"}],\"heatmap\":[{\"colorbar\":{\"outlinewidth\":0,\"ticks\":\"\"},\"colorscale\":[[0.0,\"#0d0887\"],[0.1111111111111111,\"#46039f\"],[0.2222222222222222,\"#7201a8\"],[0.3333333333333333,\"#9c179e\"],[0.4444444444444444,\"#bd3786\"],[0.5555555555555556,\"#d8576b\"],[0.6666666666666666,\"#ed7953\"],[0.7777777777777778,\"#fb9f3a\"],[0.8888888888888888,\"#fdca26\"],[1.0,\"#f0f921\"]],\"type\":\"heatmap\"}],\"heatmapgl\":[{\"colorbar\":{\"outlinewidth\":0,\"ticks\":\"\"},\"colorscale\":[[0.0,\"#0d0887\"],[0.1111111111111111,\"#46039f\"],[0.2222222222222222,\"#7201a8\"],[0.3333333333333333,\"#9c179e\"],[0.4444444444444444,\"#bd3786\"],[0.5555555555555556,\"#d8576b\"],[0.6666666666666666,\"#ed7953\"],[0.7777777777777778,\"#fb9f3a\"],[0.8888888888888888,\"#fdca26\"],[1.0,\"#f0f921\"]],\"type\":\"heatmapgl\"}],\"histogram\":[{\"marker\":{\"pattern\":{\"fillmode\":\"overlay\",\"size\":10,\"solidity\":0.2}},\"type\":\"histogram\"}],\"histogram2d\":[{\"colorbar\":{\"outlinewidth\":0,\"ticks\":\"\"},\"colorscale\":[[0.0,\"#0d0887\"],[0.1111111111111111,\"#46039f\"],[0.2222222222222222,\"#7201a8\"],[0.3333333333333333,\"#9c179e\"],[0.4444444444444444,\"#bd3786\"],[0.5555555555555556,\"#d8576b\"],[0.6666666666666666,\"#ed7953\"],[0.7777777777777778,\"#fb9f3a\"],[0.8888888888888888,\"#fdca26\"],[1.0,\"#f0f921\"]],\"type\":\"histogram2d\"}],\"histogram2dcontour\":[{\"colorbar\":{\"outlinewidth\":0,\"ticks\":\"\"},\"colorscale\":[[0.0,\"#0d0887\"],[0.1111111111111111,\"#46039f\"],[0.2222222222222222,\"#7201a8\"],[0.3333333333333333,\"#9c179e\"],[0.4444444444444444,\"#bd3786\"],[0.5555555555555556,\"#d8576b\"],[0.6666666666666666,\"#ed7953\"],[0.7777777777777778,\"#fb9f3a\"],[0.8888888888888888,\"#fdca26\"],[1.0,\"#f0f921\"]],\"type\":\"histogram2dcontour\"}],\"mesh3d\":[{\"colorbar\":{\"outlinewidth\":0,\"ticks\":\"\"},\"type\":\"mesh3d\"}],\"parcoords\":[{\"line\":{\"colorbar\":{\"outlinewidth\":0,\"ticks\":\"\"}},\"type\":\"parcoords\"}],\"pie\":[{\"automargin\":true,\"type\":\"pie\"}],\"scatter\":[{\"marker\":{\"colorbar\":{\"outlinewidth\":0,\"ticks\":\"\"}},\"type\":\"scatter\"}],\"scatter3d\":[{\"line\":{\"colorbar\":{\"outlinewidth\":0,\"ticks\":\"\"}},\"marker\":{\"colorbar\":{\"outlinewidth\":0,\"ticks\":\"\"}},\"type\":\"scatter3d\"}],\"scattercarpet\":[{\"marker\":{\"colorbar\":{\"outlinewidth\":0,\"ticks\":\"\"}},\"type\":\"scattercarpet\"}],\"scattergeo\":[{\"marker\":{\"colorbar\":{\"outlinewidth\":0,\"ticks\":\"\"}},\"type\":\"scattergeo\"}],\"scattergl\":[{\"marker\":{\"colorbar\":{\"outlinewidth\":0,\"ticks\":\"\"}},\"type\":\"scattergl\"}],\"scattermapbox\":[{\"marker\":{\"colorbar\":{\"outlinewidth\":0,\"ticks\":\"\"}},\"type\":\"scattermapbox\"}],\"scatterpolar\":[{\"marker\":{\"colorbar\":{\"outlinewidth\":0,\"ticks\":\"\"}},\"type\":\"scatterpolar\"}],\"scatterpolargl\":[{\"marker\":{\"colorbar\":{\"outlinewidth\":0,\"ticks\":\"\"}},\"type\":\"scatterpolargl\"}],\"scatterternary\":[{\"marker\":{\"colorbar\":{\"outlinewidth\":0,\"ticks\":\"\"}},\"type\":\"scatterternary\"}],\"surface\":[{\"colorbar\":{\"outlinewidth\":0,\"ticks\":\"\"},\"colorscale\":[[0.0,\"#0d0887\"],[0.1111111111111111,\"#46039f\"],[0.2222222222222222,\"#7201a8\"],[0.3333333333333333,\"#9c179e\"],[0.4444444444444444,\"#bd3786\"],[0.5555555555555556,\"#d8576b\"],[0.6666666666666666,\"#ed7953\"],[0.7777777777777778,\"#fb9f3a\"],[0.8888888888888888,\"#fdca26\"],[1.0,\"#f0f921\"]],\"type\":\"surface\"}],\"table\":[{\"cells\":{\"fill\":{\"color\":\"#EBF0F8\"},\"line\":{\"color\":\"white\"}},\"header\":{\"fill\":{\"color\":\"#C8D4E3\"},\"line\":{\"color\":\"white\"}},\"type\":\"table\"}]},\"layout\":{\"annotationdefaults\":{\"arrowcolor\":\"#2a3f5f\",\"arrowhead\":0,\"arrowwidth\":1},\"autotypenumbers\":\"strict\",\"coloraxis\":{\"colorbar\":{\"outlinewidth\":0,\"ticks\":\"\"}},\"colorscale\":{\"diverging\":[[0,\"#8e0152\"],[0.1,\"#c51b7d\"],[0.2,\"#de77ae\"],[0.3,\"#f1b6da\"],[0.4,\"#fde0ef\"],[0.5,\"#f7f7f7\"],[0.6,\"#e6f5d0\"],[0.7,\"#b8e186\"],[0.8,\"#7fbc41\"],[0.9,\"#4d9221\"],[1,\"#276419\"]],\"sequential\":[[0.0,\"#0d0887\"],[0.1111111111111111,\"#46039f\"],[0.2222222222222222,\"#7201a8\"],[0.3333333333333333,\"#9c179e\"],[0.4444444444444444,\"#bd3786\"],[0.5555555555555556,\"#d8576b\"],[0.6666666666666666,\"#ed7953\"],[0.7777777777777778,\"#fb9f3a\"],[0.8888888888888888,\"#fdca26\"],[1.0,\"#f0f921\"]],\"sequentialminus\":[[0.0,\"#0d0887\"],[0.1111111111111111,\"#46039f\"],[0.2222222222222222,\"#7201a8\"],[0.3333333333333333,\"#9c179e\"],[0.4444444444444444,\"#bd3786\"],[0.5555555555555556,\"#d8576b\"],[0.6666666666666666,\"#ed7953\"],[0.7777777777777778,\"#fb9f3a\"],[0.8888888888888888,\"#fdca26\"],[1.0,\"#f0f921\"]]},\"colorway\":[\"#636efa\",\"#EF553B\",\"#00cc96\",\"#ab63fa\",\"#FFA15A\",\"#19d3f3\",\"#FF6692\",\"#B6E880\",\"#FF97FF\",\"#FECB52\"],\"font\":{\"color\":\"#2a3f5f\"},\"geo\":{\"bgcolor\":\"white\",\"lakecolor\":\"white\",\"landcolor\":\"#E5ECF6\",\"showlakes\":true,\"showland\":true,\"subunitcolor\":\"white\"},\"hoverlabel\":{\"align\":\"left\"},\"hovermode\":\"closest\",\"mapbox\":{\"style\":\"light\"},\"paper_bgcolor\":\"white\",\"plot_bgcolor\":\"#E5ECF6\",\"polar\":{\"angularaxis\":{\"gridcolor\":\"white\",\"linecolor\":\"white\",\"ticks\":\"\"},\"bgcolor\":\"#E5ECF6\",\"radialaxis\":{\"gridcolor\":\"white\",\"linecolor\":\"white\",\"ticks\":\"\"}},\"scene\":{\"xaxis\":{\"backgroundcolor\":\"#E5ECF6\",\"gridcolor\":\"white\",\"gridwidth\":2,\"linecolor\":\"white\",\"showbackground\":true,\"ticks\":\"\",\"zerolinecolor\":\"white\"},\"yaxis\":{\"backgroundcolor\":\"#E5ECF6\",\"gridcolor\":\"white\",\"gridwidth\":2,\"linecolor\":\"white\",\"showbackground\":true,\"ticks\":\"\",\"zerolinecolor\":\"white\"},\"zaxis\":{\"backgroundcolor\":\"#E5ECF6\",\"gridcolor\":\"white\",\"gridwidth\":2,\"linecolor\":\"white\",\"showbackground\":true,\"ticks\":\"\",\"zerolinecolor\":\"white\"}},\"shapedefaults\":{\"line\":{\"color\":\"#2a3f5f\"}},\"ternary\":{\"aaxis\":{\"gridcolor\":\"white\",\"linecolor\":\"white\",\"ticks\":\"\"},\"baxis\":{\"gridcolor\":\"white\",\"linecolor\":\"white\",\"ticks\":\"\"},\"bgcolor\":\"#E5ECF6\",\"caxis\":{\"gridcolor\":\"white\",\"linecolor\":\"white\",\"ticks\":\"\"}},\"title\":{\"x\":0.05},\"xaxis\":{\"automargin\":true,\"gridcolor\":\"white\",\"linecolor\":\"white\",\"ticks\":\"\",\"title\":{\"standoff\":15},\"zerolinecolor\":\"white\",\"zerolinewidth\":2},\"yaxis\":{\"automargin\":true,\"gridcolor\":\"white\",\"linecolor\":\"white\",\"ticks\":\"\",\"title\":{\"standoff\":15},\"zerolinecolor\":\"white\",\"zerolinewidth\":2}}},\"xaxis\":{\"anchor\":\"y\",\"domain\":[0.0,1.0],\"title\":{\"text\":\"Variable\"}},\"yaxis\":{\"anchor\":\"x\",\"domain\":[0.0,1.0],\"title\":{\"text\":\"Loading of PC - 1\"}},\"legend\":{\"tracegroupgap\":0},\"title\":{\"text\":\"PCA Loading plot\"},\"barmode\":\"relative\"},                        {\"responsive\": true}                    ).then(function(){\n",
              "                            \n",
              "var gd = document.getElementById('9b69af6f-9413-4adc-9ce4-4ba8c650d97e');\n",
              "var x = new MutationObserver(function (mutations, observer) {{\n",
              "        var display = window.getComputedStyle(gd).display;\n",
              "        if (!display || display === 'none') {{\n",
              "            console.log([gd, 'removed!']);\n",
              "            Plotly.purge(gd);\n",
              "            observer.disconnect();\n",
              "        }}\n",
              "}});\n",
              "\n",
              "// Listen for the removal of the full notebook cells\n",
              "var notebookContainer = gd.closest('#notebook-container');\n",
              "if (notebookContainer) {{\n",
              "    x.observe(notebookContainer, {childList: true});\n",
              "}}\n",
              "\n",
              "// Listen for the clearing of the current output cell\n",
              "var outputEl = gd.closest('.output');\n",
              "if (outputEl) {{\n",
              "    x.observe(outputEl, {childList: true});\n",
              "}}\n",
              "\n",
              "                        })                };                            </script>        </div>\n",
              "</body>\n",
              "</html>"
            ]
          },
          "metadata": {}
        }
      ]
    },
    {
      "cell_type": "markdown",
      "source": [
        "### Task: Compute Mahalanobis distances on BWU matrix"
      ],
      "metadata": {
        "id": "mx_SpSBmFNMn"
      }
    },
    {
      "cell_type": "markdown",
      "source": [
        "# Solutions to tasks"
      ],
      "metadata": {
        "id": "1L_-GViSFWzE"
      }
    },
    {
      "cell_type": "markdown",
      "source": [
        "\n",
        "# Main focus process characterization\n",
        "* degrees of freedom\n",
        "* univariate visualization\n",
        "* abnormalities\n",
        "\n",
        "# Main focus PCA\n",
        "* abnormalities in runs/variables\n",
        "* interpretation scores/loadings\n",
        "* differences between OWU/BWU\n"
      ],
      "metadata": {
        "id": "CSKHjGPSSdmp"
      }
    }
  ]
}